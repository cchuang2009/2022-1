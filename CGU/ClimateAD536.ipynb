{
 "cells": [
  {
   "cell_type": "code",
   "execution_count": null,
   "id": "23d0531e-cce8-44f1-8587-e2dc7f2570a3",
   "metadata": {},
   "outputs": [],
   "source": [
    "from IPython.display import YouTubeVideo,Image"
   ]
  },
  {
   "cell_type": "code",
   "execution_count": null,
   "id": "2026a85b-0ac5-4f53-a884-b54f9fd39e7b",
   "metadata": {},
   "outputs": [],
   "source": [
    "# 42:00, 土石流\n",
    "#YouTubeVideo(\"hU0c5ZUIXHE\")"
   ]
  },
  {
   "cell_type": "markdown",
   "id": "3af9afbf-6c58-45ec-b857-1910c3ac955b",
   "metadata": {},
   "source": [
    "AD 536, 公元536年, <small>[Wikipedia](https://en.wikipedia.org/wiki/536)</small>\n",
    "===\n",
    "Lecture for Energy Resources and Sustainable Civilization\n",
    "---"
   ]
  },
  {
   "cell_type": "markdown",
   "id": "5d0d3742",
   "metadata": {},
   "source": [
    "\n",
    "\n",
    "Events amid AD 536 and on,  大事記\n",
    "---\n"
   ]
  },
  {
   "cell_type": "markdown",
   "id": "cf77b25e-1464-4c5c-8329-b47394ed93c2",
   "metadata": {},
   "source": [
    "1. 中國，太陽從這一年開始變得昏暗,在盛夏的八九月份竟然下起了雪和冰雹, 此後, 全球範圍經歷了長達10年的嚴寒天氣。\n",
    "\n",
    "   - 公元535年，中國北部發生了大規模的乾旱並且日益嚴重，成千上萬的良田變得一片貧瘠，巨大的塵暴開始肆虐。公元535年11月到12月間，在南朝的首都南京大量黃塵從天而降。公元536年9月，中國的某些地區天降大雪和冰雹。帶來的影響在之後一百餘年才慢慢恢復。\n",
    "   - 南北朝時期， (山西省通志, 東魏孝靜帝天平三年八月(9/15) (AD 536)，并肆涿建四州隕霜大饑四年春詔所在開倉賑恤)\n",
    "``` \n",
    "  北朝的東魏和西魏互相攻伐，人口由3000萬下降到2000萬左右；\n",
    "  南朝的梁則更是悲慘，536年前後還有人口1200萬，但由於神秘的霧霾導致各種資源短缺，在醞釀了12年後，「侯景之亂」爆發，\n",
    "  人口銳減到一百多萬，史書形容「千里絕煙，人跡罕見，白骨成聚，如丘隴焉」。\n",
    "                                          原文網址：https://kknews.cc/history/mj2ao3z.html\n",
    "```"
   ]
  },
  {
   "cell_type": "code",
   "execution_count": null,
   "id": "cb8215d0-fb65-454c-800d-48cca1247162",
   "metadata": {},
   "outputs": [],
   "source": [
    "Image(\"0.jpeg\",width=300)"
   ]
  },
  {
   "cell_type": "markdown",
   "id": "bb014a19-99b1-410f-b7a1-1d5d5c585860",
   "metadata": {},
   "source": [
    "2. 歐洲,公元541~542年的一場黑死病使東羅馬帝國失去了近1/4的人口, (AD 565),\n",
    "<!--<img src=\"https://upload.wikimedia.org/wikipedia/commons/d/df/Byzantine_AD550.jpg\" width=50% />-->\n",
    "3. 中美洲,公元6世紀一場特大乾旱讓那裡的巨大城邦特奧蒂瓦肯瀕臨毀滅。\n",
    "4. 愛爾蘭編年史紀錄:「公元536年到539年期間的麵包欠收。」之後數年「生計艱難」\n",
    "5. 東羅馬歷史學家普羅科匹厄斯（Procopius）在書中記載：「太陽光芒有如月亮般黯淡，世界好像經歷一場無限期的日食，此後沒有人逃得過戰爭、瘟疫，或者其他致命災難的磨難。」歷史上著名的查士丁尼大瘟疫（Plague of Justinian）在5年後爆發，東羅馬帝國近半人口死亡。"
   ]
  },
  {
   "cell_type": "markdown",
   "id": "be385153-b1ce-49c1-9749-8f6343a43028",
   "metadata": {},
   "source": [
    "6. 美國哥倫比亞大學Lamont-Doherty地球觀測室的阿伯特（Dallas Abbott）等研究學者認為，約1500年前的西元536年前後，歐洲曾經歷過一場飢荒，這場飢荒可能與著名的哈雷彗星有關 (每76年一次路過地球軌道)。\n",
    "```\n",
    "英國天文學家愛得蒙‧哈雷（Edmond Halley）檢視彗星記錄時，發現西元1531年、1607年和1682年的彗星似乎是同一顆，後精確認為真，成為第一顆確認有週期性\n",
    "\n",
    "二千六百多年前，中國東周春秋時代的魯文公14年，西元前613年的時候， 「秋七月，有星北孛入於北斗」。\n",
    "西元前240年，在《史記．始皇本記》中的記載是這樣的：「始皇七年，彗星先出東方，見北方；五月見西方，十六日。」\n",
    "西方最早的記載，見於西元468和464年間，是由希臘人記錄下來的。\n",
    "西元前164年10月，兩河流域上的古巴比倫人用當時的楔形文字刻在泥板上\n",
    "西元前12年10月，新約聖經馬太福音記述的伯利恆之星了，東方三位占星博士朝著這顆彗星來到伯利恆，朝拜降生在馬槽內的聖嬰。\n",
    "...\n",
    "1986年，\n",
    "下一次是2061-2062年，                                               \n",
    "```"
   ]
  },
  {
   "cell_type": "markdown",
   "id": "08cef577-25c3-49b4-ad68-3742ffffda8d",
   "metadata": {
    "jp-MarkdownHeadingCollapsed": true
   },
   "source": [
    "Researches\n",
    "---"
   ]
  },
  {
   "cell_type": "markdown",
   "id": "88bc060b-b4d8-47cd-9c40-a137bf70e496",
   "metadata": {},
   "source": [
    "1. 研究人員在阿爾卑斯山鑽取了72米長的冰芯，超精確地分析了過去2000年大氣中自然和人為活動產生的物質對氣候環境的影響，判斷冰島火山在公元536年初的巨大噴發，可能是釀成這次災難的主要原因，該火山之後又於540年和547年再次大規模噴發。火山灰大量進入大氣層，遮蔽了太陽，導致536年夏天氣溫的下降，引發了整整持續十年的寒冷天氣，是過去2000多年來最寒冷的「黑暗世紀」，還有科學家對樹木年輪的分析也證實了這段時間氣溫的下降。\n",
    "2. 2018年，專門鑽研世界中古史的哈佛大學教授麥可·麥考密克（Michael McCormick）與他的團隊經過研究，最終得出了一個學界認可的結論：公元536年還沒有被歐洲人發現的冰島，發生了接連不斷的火山大爆發，大量火山灰湧入大氣層，導致北半球的太陽黯淡無光，前後歷時達18個月。\n",
    "3. 英國諾丁漢大學教授勒夫拉克（Christopher Loveluck） 指出，大規模的火山爆發產生巨量火山灰壟罩北半球，在缺乏陽光的情況下導致氣溫驟降，作物欠收，進而引發饑荒，這樣的災害持續到了西元542年，低溫、饑荒和鼠疫同時侵襲東羅馬帝國。勒夫拉克指出，火山爆發和542年的瘟疫導致了歐洲經濟停擺，直到575年才有復甦的跡象，因為用來冶煉銀的鉛礦再次出現，顯示出因經濟活動的發展，使用貨幣的需求自然浮現，歐洲經濟也在640至660年間快速成長、轉型。\n",
    "```\n",
    "原文網址：https://kknews.cc/history/mj2ao3z.html\n",
    "        https://www.setn.com/news.aspx?newsid=875209       \n",
    "        https://news.ltn.com.tw/news/world/breakingnews/2619850\n",
    "        https://www.ettoday.net/news/20131225/310046.htm\n",
    "        https://en.wikipedia.org/wiki/Global_temperature_record\n",
    "```"
   ]
  },
  {
   "cell_type": "markdown",
   "id": "11d00716-ceed-4ad5-b6fe-4de83a798788",
   "metadata": {
    "jp-MarkdownHeadingCollapsed": true
   },
   "source": [
    "科學家是如何重構過去數萬年的氣溫呢？\n",
    "---\n",
    "**冰芯 (Ice core)**"
   ]
  },
  {
   "cell_type": "markdown",
   "id": "8666a370-e9b4-4c45-9cfc-9505e15c93b6",
   "metadata": {
    "jp-MarkdownHeadingCollapsed": true
   },
   "source": [
    "\n",
    "冰芯 (Ice core)，是透過在冰川上進行鑽探並獲得的圓柱狀雪冰樣本，包含了長時間積累的降雪以及乾燥和濕潤沉積物質。這些物質保存了沉積時所記錄的氣候環境信息。\n",
    "\n",
    "冰川是由固態降水(雪）長時間積累和演變而成的。在雪粒逐漸壓縮密集化並轉變成冰川冰的過程中，將雪粒層中的空隙封閉成氣泡。\n",
    "\n",
    "南極和北極的冰芯記錄著過去的氣候環境變化。透過對這些冰芯的研究，已經揭示了地球過去 80 萬年來氣候與大氣中溫室氣體含量的變化情況。\n",
    "同時記錄明顯的氣候突變特徵。 因此研究學者透過冰芯研究，重建了歷史時期的太陽活動變化和火山噴發事件的信息。\n",
    "\n",
    "在20世紀70年代中後期，美國的 Thompson 等學者對秘魯 Quelccaya 冰帽進行了考察和冰芯鑽取工作。研究結果建立了近1500年的氣候變化記錄。\n",
    "從此低緯度的冰芯研究和高緯度的南北極冰芯研究一樣重要。\n"
   ]
  },
  {
   "cell_type": "markdown",
   "id": "80e07960-3825-4afa-8f4c-36439e84c2d0",
   "metadata": {},
   "source": [
    "自然存在的氧 ($\\text{O}$) 主要有兩種 (化學上稱為同位素)，一是有八顆質子和八顆中子的 $\\text{O}_{16}$，另一是有八顆質子和十顆中子的$\\text{O}_{18}$。$\\text{O}_{16}$的重量比 $\\text{O}_{18}$ 輕且較常見，兩種氧同位素都能與兩顆氫原子合成水分子($\\text{H}_2\\text{)}$)。$\\text{O}_{18}$與 $\\text{O}_{16}$ 的比例在溫暖氣候時段會較高，因為有更多的能量去蒸發含 $\\text{O}_{18}$ 較重的水份子，它們隨著大氣環流抵達極區並凝結成雪降下。在較冷的氣候裏，會有較少含較重O18的水份子能被蒸發，其中很多會在抵達極區前便凝結成雨或雪降下，能夠抵達極區的就更少了。因此，科學家從冰芯內的 $\\text{O}_{18}$ 與 $\\text{O}_{16}$ 的比例便可大約知道地球過去的氣溫情況。\n",
    "\n",
    "有很多方法為冰芯定年。最直接的方法是數算 $\\text{O}_{18}$ 與 $\\text{O}_{16}$ 比例的年際變化(在夏季時稍高而在冬季較低）。另一個有用的方法是從其他氣候記錄中(例如樹木年輪和沉積記錄等)，辨認出一些特別的事件(例如火山爆發)，利用這些事件以校正冰芯記錄的時間尺度，從而重建出過去數萬年的氣溫時間序列。\n"
   ]
  },
  {
   "cell_type": "markdown",
   "id": "1737f575-2bbd-49ff-9514-ae5562885911",
   "metadata": {},
   "source": [
    "1. Petit, J.R., D. Raynaud, C. Lorius, J. Jouzel, G. Delaygue, N.I. Barkov, and V.M. Kotlyakov. 2000: Historical isotopic temperature record from the Vostok ice core. In Trends: A Compendium of Data on Global Change. Carbon Dioxide Information Analysis Center, Oak Ridge National Laboratory, U.S. Department of Energy, Oak Ridge, Tenn., U.S.A. doi: 10.3334/CDIAC/cli.006\n",
    "2. https://www.hko.gov.hk/tc/climate_change/faq/faq013.htm\n",
    "3. CO2 data, https://www.ncei.noaa.gov/pub/data/paleo/icecore/antarctica/law/law2006-co2-noaa.txt\n"
   ]
  },
  {
   "cell_type": "markdown",
   "id": "ec9ebff0-b32a-4898-87e0-a895ae81ade3",
   "metadata": {
    "jp-MarkdownHeadingCollapsed": true
   },
   "source": [
    "恐龍為何滅絕？\n",
    "---\n",
    " **凍死的? 或者 ...**"
   ]
  },
  {
   "cell_type": "markdown",
   "id": "23202310-8226-4907-9681-8a5d3c739adc",
   "metadata": {
    "jp-MarkdownHeadingCollapsed": true
   },
   "source": [
    "\n",
    "過去66,000,000年前， 流星撞地球，造成地球進入長期冬季低溫，恐龍因此滅跡. 但是幾天前的論文，提出了新的看法， 相撞產生大量的粉塵散步整個大氣層，造成光合作用無法作用長達兩年，這才是恐龍滅絕的原因：\n",
    "\n",
    "[Cem Berk Senel et al., Chicxulub impact winter sustained by fine silicate dust, Nature Geoscience, 30, Oct, 2023](https://www.nature.com/articles/s41561-023-01290-4)"
   ]
  },
  {
   "cell_type": "markdown",
   "id": "bf5bba36-837a-4a84-a848-f99b9aac3d83",
   "metadata": {},
   "source": [
    "NOAA Data \n",
    "---\n",
    "\n",
    "Data had been modified by [chatGPT](\"http://chat.openai.com)\n",
    "\n",
    "One of important factor about Earth temperature is concentration of $\\text{CO}_2$. Let us visualize the historic $\\text{CO}_2$ data."
   ]
  },
  {
   "cell_type": "code",
   "execution_count": null,
   "id": "117d77b4-471d-46c1-b260-093d48039ba9",
   "metadata": {},
   "outputs": [],
   "source": [
    "import pandas as pd\n",
    "\n",
    "df=pd.read_csv('CO2.csv', sep=',',index_col=0, usecols=range(3))\n"
   ]
  },
  {
   "cell_type": "code",
   "execution_count": null,
   "id": "3c280d68-3b5a-4964-9c9c-babfac1054bc",
   "metadata": {},
   "outputs": [],
   "source": [
    "df[\" ageCE\"]=df[\" ageCE\"].apply(lambda x:x[2:-1])\n",
    "df[\" CO2\"]=df[\" CO2\"].apply(lambda x:x[2:-1])\n",
    "\n",
    "df.head()"
   ]
  },
  {
   "cell_type": "code",
   "execution_count": null,
   "id": "7a8ef675-4583-4574-9cdb-7c0283346e93",
   "metadata": {},
   "outputs": [],
   "source": [
    "df[\" ageCE\"] = pd.to_numeric(df[\" ageCE\"])\n",
    "df[\" CO2\"] = pd.to_numeric(df[\" CO2\"], errors=\"coerce\")\n",
    "df.rename(columns={' ageCE':'ageCE',' CO2':'CO2'},inplace=True)"
   ]
  },
  {
   "cell_type": "code",
   "execution_count": null,
   "id": "482912a1-1e8c-4850-8ced-7cf09c5e27c7",
   "metadata": {},
   "outputs": [],
   "source": [
    "# Convert 'Value1' (ageCE) to integers using floor\n",
    "df['ageCE'] = df['ageCE'].apply(lambda x: math.floor(float(x)))\n",
    "\n",
    "# Remove duplicates and calculate the mean for each unique 'Value1' (ageCE)\n",
    "df = df.groupby('ageCE')['CO2'].mean().reset_index()\n",
    "\n",
    "# Print the resulting DataFrame\n",
    "print(df)"
   ]
  },
  {
   "cell_type": "code",
   "execution_count": null,
   "id": "4edb8227-9278-4d84-a76e-164fad198bc2",
   "metadata": {},
   "outputs": [],
   "source": [
    "import plotly.express as px"
   ]
  },
  {
   "cell_type": "code",
   "execution_count": null,
   "id": "77f3b87a-96a0-442d-b37e-ecbfb6f54490",
   "metadata": {},
   "outputs": [],
   "source": [
    "px.scatter(df,x='ageCE',y='CO2')"
   ]
  },
  {
   "cell_type": "code",
   "execution_count": null,
   "id": "5bf78d07",
   "metadata": {},
   "outputs": [],
   "source": []
  }
 ],
 "metadata": {
  "kernelspec": {
   "display_name": "Python 3 (ipykernel)",
   "language": "python",
   "name": "python3"
  },
  "language_info": {
   "codemirror_mode": {
    "name": "ipython",
    "version": 3
   },
   "file_extension": ".py",
   "mimetype": "text/x-python",
   "name": "python",
   "nbconvert_exporter": "python",
   "pygments_lexer": "ipython3",
   "version": "3.10.9"
  }
 },
 "nbformat": 4,
 "nbformat_minor": 5
}
