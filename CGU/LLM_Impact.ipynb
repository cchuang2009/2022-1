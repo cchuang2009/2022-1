{
  "cells": [
    {
      "cell_type": "code",
      "execution_count": null,
      "id": "749a8cb2",
      "metadata": {
        "id": "749a8cb2",
        "outputId": "710d8186-f27f-4577-b43f-e4788678237d"
      },
      "outputs": [
        {
          "data": {
            "image/png": "[encoded data removed]",
            "text/plain": [
              "<IPython.core.display.Image object>"
            ]
          },
          "execution_count": 35,
          "metadata": {
            "image/png": {
              "width": 300
            }
          },
          "output_type": "execute_result"
        }
      ],
      "source": [
        "from IPython.display import Image\n",
        "Image(\"qrcode.png\", width=300)\n"
      ]
    },
    {
      "cell_type": "code",
      "execution_count": null,
      "id": "0565fda9",
      "metadata": {
        "id": "0565fda9",
        "outputId": "47bed9c6-ff21-43c1-a2c0-dc1108bf0709"
      },
      "outputs": [
        {
          "data": {
            "image/png": "[encoded data removed]",
            "text/plain": [
              "<IPython.core.display.Image object>"
            ]
          },
          "execution_count": 36,
          "metadata": {
            "image/png": {
              "width": 300
            }
          },
          "output_type": "execute_result"
        }
      ],
      "source": [
        "Image(\"LLM.png\", width=300)"
      ]
    },
    {
      "cell_type": "markdown",
      "id": "925424f3",
      "metadata": {
        "id": "925424f3"
      },
      "source": [
        "LLM Impact\n",
        "---\n",
        "\n",
        "Wheels of Time never stop!\n",
        "<img src=\"https://encrypted-tbn0.gstatic.com/images?q=tbn:ANd9GcRH9iNJ3HypX1Kigeb8MEXqW0Pckymhd_ChaLr1f4kvEYjv6bCu_3D0D-2k-w&s\"/>\n",
        "<img src=\"https://chinesedora.com/character/nobita_mes.gif\" />\n",
        "\n",
        "1. Remember Punch Card\n",
        "<img src=\"https://upload.wikimedia.org/wikipedia/commons/f/fe/Used_Punchcard_%285151286161%29.jpg\" width=70%/>\n",
        "2. Calculator\n",
        "<img src=\"https://www.casio.com/content/casio/locales/intl/en/products/scientific-calculators/_jcr_content/root/responsivegrid/teaser_copy.casiocoreimg.jpeg/1684888391902/scientific-top.jpeg\" width=80%/>\n",
        "3. WWW\n",
        "   <img src=\"https://upload.wikimedia.org/wikipedia/commons/d/d1/WWW-LetShare.svg\" width=80% />"
      ]
    },
    {
      "cell_type": "markdown",
      "id": "786b5d8a",
      "metadata": {
        "id": "786b5d8a"
      },
      "source": [
        "4. PC, Laptop/Desktop\n",
        "<img src=\"https://www.hp.com/content/dam/sites/worldwide/homepage/images/Group-6677@2x.jpg\" />\n",
        "5. Cell Phone\n",
        "<img src=\"https://upload.wikimedia.org/wikipedia/commons/a/ad/IPhone_1st_Gen.svg\" width=30% />"
      ]
    },
    {
      "cell_type": "markdown",
      "id": "29cae5f7",
      "metadata": {
        "id": "29cae5f7"
      },
      "source": [
        "What LLM is\n",
        "---\n",
        "Larage Language Model,\n",
        "\n",
        "- Superviswd Model, 監督型模型\n",
        "```\n",
        "   Data.  --> Yes or No, (Class A, Class B, et.al.)\n",
        "```\n",
        "- Non-supervised Model, 非監督型模型\n",
        "```\n",
        "   Data  --> real value\n",
        "```   \n",
        "1. But LLM is improved not only to make prediction, but also to calculate the association/relation among sucessive tokens. LLM 被改善除了做預測之外同時也會，計算前後內文的連結關係.\n",
        "2. Now, transformer makes the LLM's development faster than ever, 現在使用`變形金剛`方式訓練，發展更快:\n",
        "```\n",
        "Transformer,\n",
        "      By additional data, training with basic LLM dataset, 在基本的訓練資料之外，額外加上特定的資料.\n",
        "```\n",
        "\n"
      ]
    },
    {
      "cell_type": "markdown",
      "id": "ecf56fdd",
      "metadata": {
        "id": "ecf56fdd"
      },
      "source": [
        "Resources of LLM\n",
        "---\n",
        "\n",
        "1. IDE/Desktop/Laptop, <big>**`copilot`**</big> (Github), 2019 ~ (Visual Studio, Office 365, Excel, ...), <br>\n",
        "   個人使用: Visual Studio + copilor，或者 Office 365 Excel + copilot.\n",
        "```\n",
        "Free for Educational Use, 允許 在教育 環境中免費使用\n",
        "```\n",
        "2. [Cusor](https://cursor.sh)\n",
        "3. ChatGPT, Bard (Web-based Client)\n",
        "4. Llama(1-2), Falcom(-108B), Alpaca, Vicuna, ArxivGPT, ...\n",
        "\n",
        "https://cchuang2009-streamlit-news-forum-app-9ayjmo.streamlit.app/\n",
        "\n",
        "5. A tiny Browser, [Opera](www.opera.com), which comes with AI-assitant, `chatgpt, chatsonic`, only enables the option in `Easy setup` ➡︎ `AI Prompts in text highlighting popup` after installation. <br>\n",
        "安裝小而美的瀏覽器 [Opera](www.opera.com)，並啟動在 `Easy setup` 選項 `AI Prompts in text highlighting popup`."
      ]
    },
    {
      "cell_type": "markdown",
      "id": "7227c679",
      "metadata": {
        "id": "7227c679"
      },
      "source": [
        "Questions\n",
        "---\n",
        "1. Since ChatGPT (or other LLM's) could and will replace most majors studies  (in campus).  everything one learned over the past four years is already outdated. Sould one stay in campus to get professional skills and knowdgement?<br>\n",
        "  \n",
        "   -  No one knows where these technologies will lead. 未來的發展 不明\n",
        "   -  Everyone, who has built a career in whatever field,  has learned that they need to quickly adapt to change. 隨時應變\n",
        "   - The most important is learning to harness the power of technology to enhance your life and productivity rather than being afraid of it or assuming it will do a better job than you. 利用它 勝於被 他取代\n",
        "\n",
        "2. Is LLM alway doing better than Human being/students? LLM 是不是永遠做得比我們好?  \n",
        "```\n",
        "...\n",
        "```"
      ]
    },
    {
      "cell_type": "markdown",
      "id": "faf7406a",
      "metadata": {
        "id": "faf7406a"
      },
      "source": [
        "Get Benefits from LLM's\n",
        "---\n",
        "LLM is a emerging technology, like a hugy monster sitting front us; we’ll continue to learn, evolve,adapt and become a more effective educator.\n",
        "\n",
        "1. Unlike calculator, which doesn’t get smarter the more you use it, LLMs like ChatGPT are ever-evolving and learning.\n",
        "2. Limit to the date of training sample, not all on-time data are included in training stage; give it and check."
      ]
    },
    {
      "cell_type": "markdown",
      "id": "31342b26",
      "metadata": {
        "id": "31342b26"
      },
      "source": [
        "[Case Study](https://chat.openai.com/share/1ee4f656-ec58-4118-aa33-8f719fb84a85), 案例探討\n",
        "---\n",
        "\n",
        "## How to Create a Brief Lecture Introduction, 如何產生課程介紹內容"
      ]
    },
    {
      "cell_type": "markdown",
      "id": "6a454e2e",
      "metadata": {
        "id": "6a454e2e"
      },
      "source": [
        "<details>\n",
        "<summary>\n",
        " <a class=\"btnfire small stroke\"><em class=\"fas fa-chevron-circle-down\"></em>\n",
        "     <font size=\"**5em**\">[<font color=\"red\">Ask</font>] Design a 2-hour talk, about AD 536 in lecture \"Energy Resources and Sustainable Civilization\"\n",
        "Return the Historic Events and the affection after that seperately </font>\n",
        "  </a>\n",
        " </summary>   \n",
        "    \n",
        "**[ChatGPT]**\n",
        "\n",
        "Title: \"AD 536: A Dark Year in History - Lessons for Sustainable Civilization\"\n",
        "\n",
        "**Introduction (15 minutes):**\n",
        "- Welcome and introduction to the topic.\n",
        "- Briefly explain the relevance of historical events like AD 536 to energy resources and sustainable civilization.\n",
        "- Preview the structure of the talk.\n",
        "\n",
        "**Historic Events (45 minutes):**\n",
        "*Discuss the historic events of AD 536, the causes, and the global consequences.*\n",
        "\n",
        "1. **The Mysterious Event (15 minutes):**\n",
        "   - Explain the unexplained phenomena that occurred in AD 536, such as a mysterious fog and darkened skies.\n",
        "   - Mention historical accounts and scientific research on this event.\n",
        "\n",
        "2. **Volcanic Eruptions (15 minutes):**\n",
        "   - Discuss the major volcanic eruptions, possibly Krakatoa or Ilopango, that caused the climate-altering volcanic winter.\n",
        "   - Explain how volcanic ash in the atmosphere led to lower temperatures, crop failures, and famine.\n",
        "\n",
        "3. **Impact on Societies (15 minutes):**\n",
        "   - Describe how AD 536 affected societies globally, including the fall of empires, migrations, and societal disruptions.\n",
        "   - Highlight the importance of agriculture and energy resources during this crisis.\n",
        "\n",
        "**Break (10 minutes):** Allow the audience to take a short break.\n",
        "\n",
        "**The Aftermath and Lessons (45 minutes):**\n",
        "*Examine the long-term effects of AD 536 and the lessons it holds for sustainable civilization.*\n",
        "\n",
        "1. **Recovery and Resilience (15 minutes):**\n",
        "   - Discuss how societies adapted, innovated, and eventually recovered from the catastrophe.\n",
        "   - Emphasize the role of sustainable resource management and energy solutions in rebuilding.\n",
        "\n",
        "2. **Climate Adaptation (15 minutes):**\n",
        "   - Explore the concept of climate adaptation and how past events like AD 536 can inform modern strategies.\n",
        "   - Discuss the importance of resilient energy systems in the face of climate challenges.\n",
        "\n",
        "3. **Sustainable Practices (15 minutes):**\n",
        "   - Highlight sustainable practices that emerged in response to environmental challenges, such as improved agriculture and energy efficiency.\n",
        "   - Discuss the relevance of these practices in today's sustainable civilization efforts.\n",
        "\n",
        "**Q&A and Discussion (20 minutes):**\n",
        "- Engage the audience with a Q&A session.\n",
        "- Encourage discussions about the implications of AD 536 for today's world and sustainable energy resources.\n",
        "\n",
        "**Conclusion (10 minutes):**\n",
        "- Summarize the key takeaways from the talk.\n",
        "- Stress the importance of learning from history to build a more resilient and sustainable civilization.\n",
        "- Invite attendees to explore further resources on this topic.\n",
        "\n",
        "**Closing Remarks (5 minutes):**\n",
        "- Thank the audience for their participation.\n",
        "- Provide additional resources for those interested in learning more.\n",
        "- Encourage attendees to apply the lessons from AD 536 to contribute to a more sustainable future.\n",
        "\n",
        "This two-hour talk will provide a comprehensive exploration of the historic events of AD 536 and their relevance to energy resources and sustainable civilization, offering valuable insights into resilience, adaptation, and responsible resource management in the face of global challenges.\n",
        "\n",
        "</details>"
      ]
    },
    {
      "cell_type": "markdown",
      "id": "5a4c1577",
      "metadata": {
        "id": "5a4c1577"
      },
      "source": [
        "<details>\n",
        "<summary>\n",
        " <a class=\"btnfire small stroke\"><em class=\"fas fa-chevron-circle-down\"></em>\n",
        "     <font size=\"5em\">[<font color=\"brown\">Ask</font>] Also compare the Event occurred in Orient and West at the same time </font>\n",
        "  </a>\n",
        " </summary>\n",
        " [<font color=\"red\">ChatGPT</font>]   \n",
        "  Certainly, comparing the events that occurred in the Eastern and Western parts of the world around the same time as AD 536 can provide insights into how different societies experienced and responded to similar challenges. Here's a brief comparison:\n",
        "\n",
        "**Eastern World (Orient):**\n",
        "1. **China:** In the Eastern world, particularly in China, historical records indicate a series of extreme climate events and crop failures around AD 536. The mysterious darkening of the skies and cooler temperatures resulted in widespread famine. The collapse of the Northern Wei Dynasty and other political upheavals were partly attributed to these food shortages.\n",
        "\n",
        "2. **India:** There are accounts of unusual weather patterns and crop failures in Indian historical texts during this period. These events may have contributed to social and political unrest in various regions.\n",
        "\n",
        "3. **Impact on Buddhism:** The Buddhist tradition in Asia was also affected. It's believed that these difficult times influenced the spread and development of Buddhist monastic communities as people sought refuge and support during the crises.\n",
        "\n",
        "**Western World (Europe and Mediterranean):**\n",
        "1. **Byzantine Empire:** In the Western world, which includes regions like the Byzantine Empire, Europe, and the Mediterranean, similar climate anomalies were reported. Historical records from the Byzantine Empire speak of the sun being dimmed and discolored, leading to crop failures, food shortages, and economic difficulties.\n",
        "\n",
        "2. **Europe:** In Europe, there is evidence of a decade-long period of colder temperatures, reduced crop yields, and population decline. This likely contributed to societal instability and migrations of various groups, including the movement of barbarian tribes.\n",
        "\n",
        "3. **Irish Annals:** Irish annals documented a \"failure of bread\" around this time, indicating severe food shortages in Ireland. This aligns with the broader pattern of agricultural challenges in the Western world.\n",
        "\n",
        "**Key Comparisons:**\n",
        "\n",
        "1. **Climate Impact:** Both the Eastern and Western worlds experienced climate anomalies, including darkened skies, colder temperatures, and reduced sunlight. These conditions had a direct impact on agriculture and food production.\n",
        "\n",
        "2. **Societal Disruptions:** In both regions, these environmental challenges led to societal disruptions, including political instability, economic hardships, and migrations.\n",
        "\n",
        "3. **Resilience and Recovery:** Societies in both the East and the West demonstrated resilience by adapting agricultural practices and, in some cases, changing political structures. Over time, they recovered from the immediate impacts of the climate events.\n",
        "\n",
        "4. **Historical Documentation:** The events of AD 536 are well-documented in various historical texts from both regions, providing valuable insights into how different societies responded to a shared environmental crisis.\n",
        "\n",
        "Comparing these events in the Eastern and Western worlds highlights the universality of environmental challenges and the importance of adaptive strategies in the face of such challenges. It also underscores the significance of sustainable agricultural and energy practices in building resilient civilizations that can withstand unexpected disruptions.  \n",
        "    \n",
        " </details>   "
      ]
    },
    {
      "cell_type": "markdown",
      "id": "f38cb0a6",
      "metadata": {
        "id": "f38cb0a6"
      },
      "source": [
        "<details>\n",
        "<summary>\n",
        " <a class=\"btnfire small stroke\"><em class=\"fas fa-chevron-circle-down\"></em>\n",
        "     <font size=\"5em\">[<font color=\"red\">Ask</font>] Make a table from above output </font>\n",
        "  </a>\n",
        " </summary>\n",
        " [<font color=\"red\">ChatGPT</font>]   \n",
        "  Certainly, here's a table summarizing the comparison of events that occurred in the Eastern and Western parts of the world around AD 536:\n",
        "\n",
        "| Aspect                 | Eastern World (Orient)               | Western World (Europe and Mediterranean)         |\n",
        "|------------------------|-------------------------------------|--------------------------------------------------|\n",
        "| **Climate Impact**     | - Mysterious darkening of skies    | - Dimmed and discolored sun                     |\n",
        "|                        | - Cooler temperatures               | - Colder temperatures                           |\n",
        "|                        | - Reduced sunlight                  |                                                  |\n",
        "| **Societal Disruptions**| - Crop failures and famine           | - Crop failures and food shortages              |\n",
        "|                        | - Political upheavals                | - Economic difficulties                         |\n",
        "|                        | - Social and political unrest       | - Population decline                            |\n",
        "| **Resilience & Recovery**| - Adaptation of agricultural       | - Adaptation of agricultural practices           |\n",
        "|                        |   practices                          | - Changes in political structures                |\n",
        "|                        | - Recovery from immediate impacts   | - Recovery from immediate impacts               |\n",
        "| **Historical Documentation**| Well-documented in Asian     | Well-documented in Byzantine Empire, Europe,    |\n",
        "|                        |   historical records                 |   and Mediterranean                              |\n",
        "|                        | - Influence on Buddhist tradition  | - Impact on various historical texts             |\n",
        "|                        |                                     | - Migration of groups, including barbarians     |\n",
        "\n",
        "This table provides a concise comparison of the events and their impacts on the Eastern and Western parts of the world around AD 536, highlighting both commonalities and differences in their experiences during this period of environmental challenge.  \n",
        "    \n",
        " </details>   "
      ]
    },
    {
      "cell_type": "markdown",
      "id": "cf045acb",
      "metadata": {
        "id": "cf045acb"
      },
      "source": [
        "<details>\n",
        "<summary>\n",
        " <a class=\"btnfire small stroke\"><em class=\"fas fa-chevron-circle-down\"></em>\n",
        "     <font size=\"5em\">[<font color=\"brown\">Ask</font>] translate in Traditional Chinese </font>\n",
        "  </a>\n",
        " </summary>\n",
        " [<font color=\"red\">ChatGPT</font>]    \n",
        "    当然，以下是总结了大约公元536年发生在东部和西部世界的事件比较的表格：\n",
        "\n",
        "| 方面                 | 东方世界 (东方)                 | 西方世界 (欧洲和地中海)         |\n",
        "|------------------------|-------------------------------------|--------------------------------------------------|\n",
        "| **气候影响**     | - 神秘的天空变暗    | - 太阳昏暗和变色                     |\n",
        "|                        | - 更冷的温度               | - 更冷的温度                           |\n",
        "|                        | - 阳光减少                  |                                                  |\n",
        "| **社会干扰**| - 作物歉收和饥荒           | - 作物歉收和食品短缺              |\n",
        "|                        | - 政治动荡                | - 经济困难                         |\n",
        "|                        | - 社会和政治动荡       | - 人口下降                            |\n",
        "| **恢复与适应**| - 农业适应措施     | - 农业适应措施           |\n",
        "|                        |                             | - 政治结构的变化                |\n",
        "|                        | - 从直接影响中恢复   | - 从直接影响中恢复          |\n",
        "| **历史记录**| 亚洲历史记录中有详细记录   | 拜占庭帝国、欧洲和地中海中有详细记录           |\n",
        "|                        | - 影响佛教传统                | - 影响各种历史文本             |\n",
        "|                        |                                     | - 各种族群迁徙，包括游牧民族     |\n",
        "\n",
        "这张表提供了公元536年左右在东部和西部世界发生的事件及其对社会的影响的简明比较，突出了在这一环境挑战期间它们的共性和差异。\n",
        "</details>   "
      ]
    },
    {
      "cell_type": "markdown",
      "id": "fbf7b88c",
      "metadata": {
        "id": "fbf7b88c"
      },
      "source": [
        "<details>\n",
        "<summary>\n",
        " <a class=\"btnfire small stroke\"><em class=\"fas fa-chevron-circle-down\"></em>\n",
        "     <font size=\"5em\">[<font color=\"red\">Ask</font>]  translate in Taiwanese </font>\n",
        "  </a>\n",
        " </summary>\n",
        " [<font color=\"red\">ChatGPT</font>]    \n",
        "    當然，以下是總結了大約西元536年發生在東方和西方世界的事件比較的表格：\n",
        "\n",
        "| 方面                 | 東方世界 (東方)                 | 西方世界 (歐洲和地中海)         |\n",
        "|------------------------|-------------------------------------|--------------------------------------------------|\n",
        "| **氣候影響**     | - 神秘的天空變暗    | - 太陽昏暗和變色                     |\n",
        "|                        | - 更冷的溫度               | - 更冷的溫度                           |\n",
        "|                        | - 陽光減少                  |                                                  |\n",
        "| **社會干擾**| - 作物歉收和飢荒           | - 作物歉收和食物短缺              |\n",
        "|                        | - 政治動盪                | - 經濟困難                         |\n",
        "|                        | - 社會和政治動盪       | - 人口下降                            |\n",
        "| **恢復與適應**| - 農業適應措施     | - 農業適應措施           |\n",
        "|                        |                             | - 政治結構的變化                |\n",
        "|                        | - 從直接影響中恢復   | - 從直接影響中恢復          |\n",
        "| **歷史記錄**| 亞洲歷史記錄中有詳細記錄   | 拜占庭帝國、歐洲和地中海中有詳細記錄           |\n",
        "|                        | - 影響佛教傳統                | - 影響各種歷史文本             |\n",
        "|                        |                                     | - 各種族群遷徙，包括遊牧民族     |\n",
        "\n",
        "這張表提供了公元536年左右在東方和西方世界發生的事件及其對社會的影響的簡明比較，突顯了在這一環境挑戰期間它們的共性和差異。\n",
        " </details>   "
      ]
    },
    {
      "cell_type": "markdown",
      "id": "47fb988c",
      "metadata": {
        "id": "47fb988c"
      },
      "source": [
        "<details>\n",
        "<summary>\n",
        " <a class=\"btnfire small stroke\"><em class=\"fas fa-chevron-circle-down\"></em>\n",
        "     <font size=\"5em\">[<font color=\"brown\">Ask</font>] How do we check the evidence the volcano explored </font>\n",
        "  </a>\n",
        " </summary>\n",
        " [<font color=\"red\">ChatGPT</font>]    \n",
        "   Checking the evidence of a volcanic eruption, especially one that occurred in ancient times, involves a combination of geological, historical, and scientific methods. Here are the key steps to check the evidence of a volcanic eruption:\n",
        "\n",
        "1. **Geological Examination:**\n",
        "   - Geological features such as volcanic ash layers, lava flows, and volcanic rocks provide clear evidence of past eruptions. Geologists study these features to determine the age, scale, and extent of the eruption.\n",
        "   - Core samples from lake sediments, ice cores, or sedimentary rock layers can contain volcanic ash deposits. Analyzing these cores helps establish the timing of eruptions.\n",
        "\n",
        "2. **Radiocarbon Dating:**\n",
        "   - Radiocarbon dating is a crucial tool for dating organic materials associated with volcanic eruptions. It can help establish the exact timing of an eruption by dating plant remains, ash layers, or even human artifacts buried by volcanic deposits.\n",
        "\n",
        "3. **Petrology and Mineralogy:**\n",
        "   - Petrologists and mineralogists analyze volcanic rocks and minerals to understand the composition of the erupted material. They can identify specific minerals and rock types associated with volcanic eruptions.\n",
        "\n",
        "4. **Tephra Analysis:**\n",
        "   - Tephra, which includes volcanic ash and other ejected material, is often found in layers in sediments and rocks. Analyzing the chemical composition and grain size of tephra layers can help match them to known volcanic sources.\n",
        "\n",
        "5. **Historical Records:**\n",
        "   - If the eruption occurred in a historical period, written records from the time can provide valuable evidence. Historical accounts, such as diaries, letters, and official reports, may describe the eruption's effects and its impact on communities.\n",
        "\n",
        "6. **Archaeological Evidence:**\n",
        "   - Archaeological investigations can uncover evidence of volcanic eruptions, such as buried structures, artifacts, and human remains. These findings can help establish the timing and impact of an eruption.\n",
        "\n",
        "7. **Remote Sensing and Geophysics:**\n",
        "   - Modern technologies like remote sensing and geophysics can help identify volcanic activity and potential eruptions. Satellite imagery, ground-based monitoring, and seismic data can detect signs of volcanic unrest.\n",
        "\n",
        "8. **Carbon Dating of Tree Rings:**\n",
        "   - If a volcanic eruption caused a significant environmental impact, it may be reflected in tree ring records. Growth rings of trees can show anomalies in tree growth due to changes in climate caused by volcanic eruptions.\n",
        "\n",
        "9. **Volcanic Deposits and Landforms:**\n",
        "   - Examining volcanic landforms such as calderas, lava domes, and pyroclastic flow deposits can provide important evidence of past eruptions.\n",
        "\n",
        "10. **Comparison with Known Eruptions:**\n",
        "    - Researchers often compare the evidence found at a suspected volcanic site with well-documented eruptions from the same region or with similar geological characteristics.\n",
        "\n",
        "11. **Scientific Consensus:**\n",
        "    - In many cases, multiple lines of evidence and input from experts in various fields are used to establish the occurrence of a volcanic eruption.\n",
        "\n",
        "It's important to note that verifying ancient volcanic eruptions can be challenging, and not all eruptions leave clear and easily identifiable evidence. Therefore, a multidisciplinary approach, involving experts from different scientific and historical fields, is often necessary to confirm the occurrence of past volcanic events.\n",
        " </details>   "
      ]
    },
    {
      "cell_type": "markdown",
      "id": "e373b2da",
      "metadata": {
        "id": "e373b2da"
      },
      "source": [
        "<details>\n",
        "<summary>\n",
        " <a class=\"btnfire small stroke\"><em class=\"fas fa-chevron-circle-down\"></em>\n",
        "     <font size=\"5em\">[<font color=\"red\">Ask</font>] How do we have the evidence the volcano had explored at AD 536 </font>\n",
        "  </a>\n",
        " </summary>\n",
        " [<font color=\"red\">ChatGPT</font>]    \n",
        "    The evidence for the volcanic eruptions that occurred around AD 536, leading to significant climatic effects and environmental changes, comes from a combination of historical records, geological evidence, and scientific research. Here's how we have evidence of these eruptions:\n",
        "\n",
        "1. **Historical Records:**\n",
        "   - Contemporary historical accounts from various regions around the world provide evidence of unusual atmospheric phenomena during AD 536 and the years that followed. These records include mentions of darkened skies, dimmed or discolored sun, and unusual weather patterns.\n",
        "   - Chronicles from different civilizations, including the Byzantine Empire, Chinese dynasties, and others, contain descriptions of the climatic anomalies and their societal impacts.\n",
        "\n",
        "2. **Ice Core Samples:**\n",
        "   - Ice core samples from glaciers in Greenland and Antarctica have been analyzed to detect volcanic ash layers and sulfate deposits corresponding to the time around AD 536. These layers contain chemical markers that indicate the presence of a major volcanic eruption.\n",
        "\n",
        "3. **Tree Ring Analysis:**\n",
        "   - Tree ring studies, dendrochronology, have revealed anomalous growth patterns in tree rings from this period. Reduced growth in tree rings during this time can be attributed to decreased sunlight and cooler temperatures resulting from volcanic aerosols in the atmosphere.\n",
        "\n",
        "4. **Lake Sediments and Peat Bogs:**\n",
        "   - Sediment cores from lakes and peat bogs have been examined for layers of volcanic ash and other evidence of environmental changes. These cores can provide a continuous record of past events and environmental conditions.\n",
        "\n",
        "5. **Carbon Dating:**\n",
        "   - Radiocarbon dating of organic materials, such as plant remains and wood, can be used to date events associated with volcanic eruptions. It helps confirm the timing of these eruptions.\n",
        "\n",
        "6. **Volcanic Debris and Deposits:**\n",
        "   - Geological investigations of regions with known volcanic activity have identified layers of volcanic ash, tephra (volcanic ejecta), and other deposits associated with eruptions during this period. The composition and dating of these deposits provide evidence of volcanic events.\n",
        "\n",
        "7. **Comparative Studies:**\n",
        "   - Researchers have compared the evidence from AD 536 with known volcanic eruptions and their effects. This includes matching specific volcanic deposits to their sources.\n",
        "\n",
        "8. **Scientific Models:**\n",
        "   - Climate models and simulations have been used to recreate the climatic impact of the volcanic eruptions in AD 536. By inputting various parameters and historical data, these models help validate the historical and geological evidence.\n",
        "\n",
        "The combination of these sources of evidence, including historical accounts, geological records, and scientific analysis, has allowed researchers to conclude that a series of powerful volcanic eruptions occurred around AD 536. These eruptions had a significant impact on the global climate, leading to a \"volcanic winter\" characterized by cooler temperatures and crop failures, as well as societal disruptions and migrations in various parts of the world.\n",
        "    \n",
        " </details>   "
      ]
    },
    {
      "cell_type": "markdown",
      "id": "98b50a47",
      "metadata": {
        "id": "98b50a47"
      },
      "source": [
        "<details>\n",
        "<summary>\n",
        " <a class=\"btnfire small stroke\"><em class=\"fas fa-chevron-circle-down\"></em>\n",
        "     <font size=\"5em\">[<font color=\"brown\">Ask</font>] translate the output of  \"How do we have the evidence the volcano had explored at AD 536\" in Taiwanese </font>\n",
        "  </a>\n",
        " </summary>\n",
        " [<font color=\"red\">ChatGPT</font>]    \n",
        "  如何驗證公元536年的火山爆發證據，涉及到歷史記錄、地質證據和科學研究的綜合。以下是我們擁有公元536年火山爆發證據的方式：\n",
        "\n",
        "1. **歷史記錄:**\n",
        "   - 來自世界各地的當代歷史記錄提供了公元536年及其後幾年中不尋常的大氣現象的證據。這些記錄包括天空變暗、太陽昏暗或變色以及異常的天氣模式的描述。\n",
        "   - 不同文明的編年史中包含了氣候異常及其對社會的影響的描述。\n",
        "\n",
        "2. **冰芯樣本:**\n",
        "   - 來自格陵蘭和南極洲冰川的冰芯樣本已經分析，以檢測與公元536年左右相關的火山灰層和硫酸鹽沉積物。這些層包含了表明有大規模火山爆發存在的化學標誌。\n",
        "\n",
        "3. **樹環分析:**\n",
        "   - 樹環研究（樹木年輪學）揭示了該時期樹木年輪中生長異常的模式。樹木年輪的減少生長可以歸因於大氣中火山氣膠引起的陽光減少和溫度下降。\n",
        "\n",
        "4. **湖泊沉積物和泥炭沼澤:**\n",
        "   - 來自湖泊和泥炭沼澤的沉積物核心已經被檢驗，以確定與火山爆發相關的火山灰層和其他環境變化的證據。這些核心可以提供有關過去事件和環境條件的連續記錄。\n",
        "\n",
        "5. **碳定年法:**\n",
        "   - 對有機材料（如植物殘骸和木材）進行碳定年可以用來確定與火山爆發相關的事件的時間。它有助於確認這些火山爆發的時間點。\n",
        "\n",
        "6. **火山碎屑和沉積:**\n",
        "   - 對已知有火山活動的地區進行地質調查，已經識別出與火山爆發相關的火山灰、火山碎屑和其他沉積物的層。這些沉積物的組成和定年提供了火山事件的證據。\n",
        "\n",
        "7. **比較研究:**\n",
        "   - 研究人員比較了公元536年附近的證據與已知的火山爆發及其影響。這包括將特定的火山沉積物與其來源進行匹配。\n",
        "\n",
        "8. **科學模型:**\n",
        "   - 氣候模型和模擬已被用來重現公元536年火山爆發的氣候影響。通過輸入各種參數和歷史數據，這些模型有助於驗證歷史和地質證據。\n",
        "\n",
        "這些證據來源的結合，包括歷史記錄、地質記錄和科學分析，使研究人員能夠得出結論，即公元536年左右發生了一系列強烈的火山爆發。這些爆發對全球氣候產生了重大影響，導致\"火山冬天\"的出現，表現為溫度降低和作物歉收，以及世界各地的社會動盪和遷徙。  \n",
        " </details>   "
      ]
    },
    {
      "cell_type": "markdown",
      "id": "47ddb640",
      "metadata": {
        "id": "47ddb640"
      },
      "source": [
        "<details>\n",
        "<summary>\n",
        " <a class=\"btnfire small stroke\"><em class=\"fas fa-chevron-circle-down\"></em>\n",
        "     <font size=\"5em\">[<font color=\"red\">Ask</font>] Which research team studied these evidence and list the reference </font>\n",
        "  </a>\n",
        " </summary>\n",
        " [<font color=\"red\">ChatGPT</font>]    \n",
        "    The evidence surrounding the events of AD 536 and the associated volcanic eruptions has been studied by multiple research teams and scientists from various fields, including climatology, geology, archaeology, and history. As of my last knowledge update in September 2021, I can provide some references to key research papers and studies related to this topic. Please note that new research may have emerged since then, and I recommend checking more recent sources for the latest developments. Here are a few notable references:\n",
        "\n",
        "1. **Baillie, M. G. L., & McAneney, J. (2015). Tree ring effects and ice core acidities clarify the volcanic record of the first millennium. Climate of the Past, 11(7), 1059-1069.**\n",
        "   - This paper discusses tree ring evidence and its correlation with volcanic events in the first millennium, including those around AD 536.\n",
        "\n",
        "2. **Stothers, R. B. (1984). The great Tambora eruption in 1815 and its aftermath. Science, 224(4654), 1191-1198.**\n",
        "   - While this paper focuses on the Tambora eruption of 1815, it provides important context for understanding the climatic impact of volcanic eruptions and may reference earlier events.\n",
        "\n",
        "3. **Sigl, M., Winstrup, M., McConnell, J. R., Welten, K. C., Plunkett, G., Ludlow, F., ... & Schüpbach, S. (2015). Timing and climate forcing of volcanic eruptions for the past 2,500 years. Nature, 523(7562), 543-549.**\n",
        "   - This study presents a comprehensive analysis of ice core data, including evidence of volcanic eruptions, over the past 2,500 years. It may provide insights into the events around AD 536.\n",
        "\n",
        "4. **Larsen, J. F., & Briffa, K. R. (2010). The relationship between the size and frequency of volcanic eruptions and indices of climate and vegetation. Climate of the Past, 6(5), 525-543.**\n",
        "   - While this study looks at volcanic eruptions in a broader context, it may contain information on the AD 536 events.\n",
        "\n",
        "5. **Büntgen, U., Tegel, W., Nicolussi, K., McCormick, M., Frank, D., Trouet, V., ... & Esper, J. (2011). 2500 years of European climate variability and human susceptibility. Science, 331(6017), 578-582.**\n",
        "   - This research paper provides insights into climate variability over the past 2500 years and may reference the events of AD 536.\n",
        "\n",
        "These references should serve as starting points for further exploration of the scientific literature on the topic of AD 536 and the associated volcanic eruptions. Keep in mind that the field of paleoclimatology and the study of historical volcanic events are continuously evolving, so it's advisable to search for the latest research articles and publications to stay updated on this topic.\n",
        " </details>   "
      ]
    },
    {
      "cell_type": "markdown",
      "id": "e7d1ca84",
      "metadata": {
        "id": "e7d1ca84"
      },
      "source": [
        "<details>\n",
        "<summary>\n",
        " <a class=\"btnfire small stroke\"><em class=\"fas fa-chevron-circle-down\"></em>\n",
        "     <font size=\"5em\">[<font color=\"brown\">Ask</font>] 列出每一項研究團隊的貢獻 </font>\n",
        "  </a>\n",
        " </summary>\n",
        " [<font color=\"red\">ChatGPT</font>]    \n",
        "   在公元536年的火山爆發事件方面，多個研究團隊和科學家進行了貢獻。以下是這些研究的一些關鍵參考文獻以及相關研究團隊的貢獻：\n",
        "\n",
        "1. **Baillie, M. G. L., & McAneney, J. (2015). Tree ring effects and ice core acidities clarify the volcanic record of the first millennium. Climate of the Past, 11(7), 1059-1069.**\n",
        "   - 這項研究強調了樹木年輪和冰芯酸度的效應，用以澄清公元第一個千年的火山記錄。這有助於我們更好地理解公元536年左右的火山事件。\n",
        "\n",
        "2. **Sigl, M., Winstrup, M., McConnell, J. R., Welten, K. C., Plunkett, G., Ludlow, F., ... & Schüpbach, S. (2015). Timing and climate forcing of volcanic eruptions for the past 2,500 years. Nature, 523(7562), 543-549.**\n",
        "   - 這項研究提供了過去2500年火山爆發的時機和氣候強迫的詳盡分析，也包括了公元536年左右的事件。這有助於我們理解這一時期全球的火山活動。\n",
        "\n",
        "3. **Stothers, R. B. (1984). The great Tambora eruption in 1815 and its aftermath. Science, 224(4654), 1191-1198.**\n",
        "   - 這項研究主要關注1815年坦博拉大爆發，但提供了火山爆發對氣候影響的重要背景，有助於理解公元536年事件的氣候影響。\n",
        "\n",
        "4. **Büntgen, U., Tegel, W., Nicolussi, K., McCormick, M., Frank, D., Trouet, V., ... & Esper, J. (2011). 2500 years of European climate variability and human susceptibility. Science, 331(6017), 578-582.**\n",
        "   - 這項研究提供了對過去2500年歐洲氣候變異和人類易感性的洞察，也可能包含與公元536年事件相關的信息。\n",
        "\n",
        "這些研究涵蓋了樹木年輪學、冰芯研究、火山活動時期的氣候影響等不同方面。這些研究團隊的共同努力使我們能夠獲得一個更全面的圖像，理解公元536年火山爆發事件及其對全球氣候和人類歷史的影響。請注意，由於領域的不斷發展，建議查閱最新的研究和文獻，以了解有關此主題的最新進展。\n",
        " </details>   "
      ]
    },
    {
      "cell_type": "markdown",
      "id": "b8dee29b",
      "metadata": {
        "id": "b8dee29b"
      },
      "source": [
        "<details>\n",
        "<summary>\n",
        " <a class=\"btnfire small stroke\"><em class=\"fas fa-chevron-circle-down\"></em>\n",
        "     <font size=\"4em\">[<font color=\"red\">Ask</font>]  </font>\n",
        "  </a>\n",
        " </summary>\n",
        " [<font color=\"red\">ChatGPT</font>]    \n",
        "    \n",
        " </details>   "
      ]
    },
    {
      "cell_type": "markdown",
      "id": "1f45220f",
      "metadata": {
        "id": "1f45220f"
      },
      "source": [
        "Case Study\n",
        "===\n",
        "\n",
        "How Should you Respond when you caught A Student Using ChatGPT( or LLMs)? <br>如果你查到 某位學生使用 ChatGPT (或者其他 LLMs) 作報告，你要如何處置？\n",
        "---\n",
        "\n",
        "Facts\n",
        "---\n",
        "1. Mostly Schools banned chapGPT and blocked students from using AI by whatever means necessary and using tools like `GPTZero` to examine whether or not something was created by AI.<br>\n",
        "大部分的學校禁止 學生使用 任何 AI 工具，甚至使用 GPTZero (AI 應用程式)，檢查 學生 的學習紀錄是否使用 AI 製作.\n",
        "2. Rather than being concerned about learning, students are concerned about their grades. <br>\n",
        "學生計較 分數高低 勝於 是否學到 課程內容\n",
        "            \n",
        "       Assignments aren’t a way to increase your understanding of a topic — they are a means to an end\n",
        "       (good grades, access to good universities, etc.).\n",
        "       作業不再是增加對課程的了解，而是是否能夠取得高分，對將來有更好的的出路.\n",
        "       And as a result of this singular focus on preventing cheating, we are throwing away the useful potential of AI.\n",
        "       過度防止作弊， 導致我們拋棄 AI 實質潛力.\n",
        "3.   As educationist [Alfie Kohn notes (2011)](http://www.alfiekohn.org/article/case-grades/), grade-oriented environments incentivize cheating.     .\n",
        "     In others words, for student,  they will try to take shortcuts for seeking a reward for their work, or where grades  create a fear of failure.<br>\n",
        "    以成績為導向的環境會鼓勵 作弊。 學生 為避免面對失敗的恐懼，而試圖走捷徑來尋求高分或者更好的工作機會。\n",
        "\n",
        "4. Parodox:\n",
        "```\n",
        " using AI to evaluate student work on the administrative end, but banning it from student use.\n",
        " 我們會使用 AI 來評量學生的工作表現，但是禁止他們使用 AI.\n",
        "```\n",
        "5. Schools can either continue to address cheating with continued surveillance, or they can start to develop a culture of trust and a culture where failure is okay.<br>\n",
        "學校或者老師可以 持續監控來繼續解決作弊問題，也可以開始培養一種信任文化和一種允許失敗的文化。\n",
        "\n",
        "Summary\n",
        "---\n",
        "1. 鯀禹治水 (BC 1900, You can give a try on ChatGPT)\n",
        "2. [My Experiences](https://github.com/cchuang2009/artifact): <b>Domain-Knowledge</b>, AI tools, <font color=\"lightgrey\">Cloud Computing Environment</font>, etc.\n",
        "\n",
        "[Link](https://medium.com/age-of-awareness/i-caught-a-student-using-chatgpt-how-should-a-school-respond-65951f00aa3e#id_token=eyJhbGciOiJSUzI1NiIsImtpZCI6IjZmNzI1NDEwMWY1NmU0MWNmMzVjOTkyNmRlODRhMmQ1NTJiNGM2ZjEiLCJ0eXAiOiJKV1QifQ.eyJpc3MiOiJodHRwczovL2FjY291bnRzLmdvb2dsZS5jb20iLCJhenAiOiIyMTYyOTYwMzU4MzQtazFrNnFlMDYwczJ0cDJhMmphbTRsamRjbXMwMHN0dGcuYXBwcy5nb29nbGV1c2VyY29udGVudC5jb20iLCJhdWQiOiIyMTYyOTYwMzU4MzQtazFrNnFlMDYwczJ0cDJhMmphbTRsamRjbXMwMHN0dGcuYXBwcy5nb29nbGV1c2VyY29udGVudC5jb20iLCJzdWIiOiIxMTI1MDY0OTg3MjAwOTY4OTU0NTEiLCJlbWFpbCI6ImNndWNhbGN1bHVzQGdtYWlsLmNvbSIsImVtYWlsX3ZlcmlmaWVkIjp0cnVlLCJuYmYiOjE2OTU0NzMxMDEsIm5hbWUiOiJjYWxjdWx1cyBjZ3UiLCJwaWN0dXJlIjoiaHR0cHM6Ly9saDMuZ29vZ2xldXNlcmNvbnRlbnQuY29tL2EvQUNnOG9jSlA2YlZESlR6dXRHR2IzcTNUc3BaSnRvMUY3VnA5TnhKZWdPQ1ZVWnh1PXM5Ni1jIiwiZ2l2ZW5fbmFtZSI6ImNhbGN1bHVzIiwiZmFtaWx5X25hbWUiOiJjZ3UiLCJsb2NhbGUiOiJ6aC1UVyIsImlhdCI6MTY5NTQ3MzQwMSwiZXhwIjoxNjk1NDc3MDAxLCJqdGkiOiIzNjBjMzA5MGI4YjFkODM3MmZiNjU2YjA0MWY1N2E1NThkMjAxODg5In0.Ogyk1QLEcyuDRn6sU28zqEXC8wpHSqcPQkmY_yXMDELNo1cFEmzTkeUVI9KNas3UrmoAYeIoo9fO6qVGhq6ZkioIxoprsH2Hdzxq3W3vjWUkzy3rL5tuRYHE-fjFCG9joLRAgP8jSdZZuiR3Jq4E9MSzileD3spXxPkapIbwfzBtkU8D9-VxSsXX0Wc7k9wSFG5bZZDJiIVpQAqO5uGXMSxOql-pXPFf5tB3Ua3ckfs0zaiRYjP6Di3msqOglkZD0YbnNLoiAoOuKo8bAhVaFYfWY8k88Pc0kXxoAMQ-hzgvLDaS_63NMOxKIVfGReswg0V_ObEcZ1uOCET2CXw0Bw)"
      ]
    },
    {
      "cell_type": "markdown",
      "id": "45f9dfec",
      "metadata": {
        "id": "45f9dfec"
      },
      "source": [
        "Some Notes\n",
        "---\n",
        "1  **\"ChatGPT-3.5\" or non-free \"ChatGPT-4\" ? 哪一個好， 免費的 ChatGPT-3.5\" 要錢的 \" ChatGPT-4\"?**\n",
        "   - OpenAI official claimed: only the data before 2020 AD was used to trained for ChatGPT but ChatGPT-4 comes with more data and more functions. 官方網站說， ChatGPT 3.5 只使用2020年前的資料訓練，但是 ChatGPT-4 用更多的資料訓練, 同時也提供更多的功能.\n",
        "   - Avail more data to ChatGPT ( for instance: upload data to GitHub), and incorporated with other AI-based bots.\n",
        "     提供更多的資料給 ChatGPT (例如：上傳資料到 GitHub)，同時使用其他 AI 聊天機器人.\n",
        "\n",
        "2 **Get the old chat from ChatGPT, 保存舊資料:**\n",
        "   ChatGPT does not keep the historical chat; in other words, the old chat would be `Gone With the Wind`. However,\n",
        "   we can ask ChatGPT to email the content of chat to us by the following steps: ChatGPT 不會幫我們保持舊資料，也就是說舊資料可能會回收掉，為了避免如此，可以依照下列的方式要求他寄資料連結:\n",
        "   ```\n",
        "   [setting] ➡︎ [data control] ➡︎ [export]\n",
        "   ```\n",
        "   and you will recieve a email for the chat's download link. 就等著收件吧.\n",
        "\n",
        "3.    "
      ]
    },
    {
      "cell_type": "code",
      "execution_count": null,
      "id": "4ba619f5",
      "metadata": {
        "id": "4ba619f5"
      },
      "outputs": [],
      "source": [
        "import qrcode\n",
        "def create_QRcode(text):\n",
        "    qr = qrcode.QRCode(\n",
        "        version=1,\n",
        "        error_correction=qrcode.constants.ERROR_CORRECT_L,\n",
        "        box_size=10,\n",
        "        border=4,\n",
        "    )\n",
        "    qr.add_data(text)\n",
        "    qr.make(fit=True)\n",
        "    img = qr.make_image(fill_color=\"black\", back_color=\"white\")\n",
        "    return img"
      ]
    },
    {
      "cell_type": "code",
      "execution_count": null,
      "id": "5af41cf0",
      "metadata": {
        "id": "5af41cf0"
      },
      "outputs": [],
      "source": [
        "from PIL import Image, ImageFont, ImageDraw\n",
        "def create_qrcode(text, description,file=\"qrcode.png\"):\n",
        "    qr = qrcode.QRCode(\n",
        "        version=1,\n",
        "        error_correction=qrcode.constants.ERROR_CORRECT_L,\n",
        "        box_size=10,\n",
        "        border=4,\n",
        "    )\n",
        "    qr.add_data(text)\n",
        "    qr.make(fit=True)\n",
        "    img = qr.make_image(fill_color=\"black\", back_color=\"white\")\n",
        "    img = img.convert(\"RGBA\")\n",
        "    txt = Image.new(\"RGBA\", img.size, (255, 255, 255, 0))\n",
        "    font= \"TaipeiSansTCBeta-Bold.ttf\"\n",
        "    fnt = ImageFont.truetype(font, 20)\n",
        "    d = ImageDraw.Draw(txt)\n",
        "    d.text((0, 0), description, font=fnt, fill=(0, 0, 0, 255))\n",
        "    out = Image.alpha_composite(img, txt)\n",
        "    out.show()\n",
        "    out.save(file)"
      ]
    },
    {
      "cell_type": "code",
      "execution_count": null,
      "id": "03cbaad5",
      "metadata": {
        "id": "03cbaad5"
      },
      "outputs": [],
      "source": [
        "link=\"https://github.com/cchuang2009/2022-1/blob/main/CGU/LLM_Impact.ipynb\"\n",
        "description=\"講義連結\"\n",
        "create_qrcode(link,description)"
      ]
    },
    {
      "cell_type": "code",
      "execution_count": null,
      "id": "67639f00",
      "metadata": {
        "id": "67639f00"
      },
      "outputs": [],
      "source": [
        "link2=\"https://cchuang2009-streamlit-news-forum-app-9ayjmo.streamlit.app/\"\n",
        "description=\"LLM 信息\"\n",
        "create_qrcode(link2,description,file=\"LLM.png\")\n",
        "#create_qrcode(link2)"
      ]
    },
    {
      "cell_type": "code",
      "execution_count": null,
      "id": "2da0efd1",
      "metadata": {
        "id": "2da0efd1"
      },
      "outputs": [],
      "source": []
    }
  ],
  "metadata": {
    "kernelspec": {
      "display_name": "Python 3 (ipykernel)",
      "language": "python",
      "name": "python3"
    },
    "language_info": {
      "codemirror_mode": {
        "name": "ipython",
        "version": 3
      },
      "file_extension": ".py",
      "mimetype": "text/x-python",
      "name": "python",
      "nbconvert_exporter": "python",
      "pygments_lexer": "ipython3",
      "version": "3.10.9"
    },
    "colab": {
      "provenance": []
    }
  },
  "nbformat": 4,
  "nbformat_minor": 5
}