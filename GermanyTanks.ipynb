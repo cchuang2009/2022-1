{
 "cells": [
  {
   "cell_type": "markdown",
   "id": "26bbd2d2",
   "metadata": {},
   "source": [
    "The German Tank Problem\n",
    "===\n",
    "\n",
    "```\n",
    "According the report: the front army had destroyed the Germany tanks, with serial numbers are 3, 21, 30, 87, and 115. Intelligence office wants to know how many tanks Germany had made.\n",
    "```\n",
    "\n",
    "\n",
    "During World War 2, the Western Allies used a simple formula to estimate the rate at which German tanks were being produced, based on the serial numbers obtained from captured and destroyed tanks. \n",
    " \n",
    "The formula is the following:\n",
    "---\n",
    "Minimum-Variance Unbiased Estimator (MVUE) describes the solution:\n",
    "\n",
    "$$ \\hat N = m+\\frac{m}{n}-1$$\n",
    "where $\\hat N$ is the estimated number, $m$  is the highest sampled serial number, and $n$  is the sample size (e.g. the number of captured/destroyed German tanks).\n",
    "\n",
    "For example, let’s say 10 tanks were captured/destroyed, and the following serial numbers were obtained:\n",
    "117, 232, 122, 173, 167, 12, 168, 204, 4, 229. \n",
    "\n",
    "Then the estimated number is:\n",
    "$$\\hat N = 232+\\frac{232}{10}-1\\approx 253$$\n",
    "\n",
    "Fact\n",
    "---\n",
    "After the war, German production figures showed the actual number to be 245, and the estimated were listed as follows:\n",
    "```\n",
    "  Month \tGerman Records    Statistical Estimate\tIntelligence Estimate\n",
    "June 1940     122                   169\t               1000\t\n",
    "June 1941     271                   244\t               1550\t\n",
    "August 1942   342                   327\t               1550\t\n",
    "\n",
    "```"
   ]
  },
  {
   "cell_type": "code",
   "execution_count": 1,
   "id": "5b6fb91a",
   "metadata": {},
   "outputs": [],
   "source": [
    "from numpy import random\n",
    "import numpy as np"
   ]
  },
  {
   "cell_type": "code",
   "execution_count": 9,
   "id": "5fc135a2",
   "metadata": {},
   "outputs": [
    {
     "data": {
      "text/plain": [
       "array([29, 25,  1, 36, 16])"
      ]
     },
     "execution_count": 9,
     "metadata": {},
     "output_type": "execute_result"
    }
   ],
   "source": [
    "random.randint(1,100,5)"
   ]
  },
  {
   "cell_type": "code",
   "execution_count": 5,
   "id": "658bd909",
   "metadata": {},
   "outputs": [
    {
     "data": {
      "text/plain": [
       "116.6"
      ]
     },
     "execution_count": 5,
     "metadata": {},
     "output_type": "execute_result"
    }
   ],
   "source": [
    "98+98/5-1"
   ]
  },
  {
   "cell_type": "code",
   "execution_count": 11,
   "id": "62c11dc1",
   "metadata": {},
   "outputs": [],
   "source": [
    "maxima = []\n",
    "\n",
    "# Generate 100 maxima\n",
    "for i in range(100):\n",
    "    # Generate a list of five random integers between 1 and 100\n",
    "    numbers = [random.randint(1, 100) for _ in range(5)]\n",
    "    # Append the maximum of the list to the maxima list\n",
    "    maxima.append(max(numbers))"
   ]
  },
  {
   "cell_type": "code",
   "execution_count": 13,
   "id": "d66bd5f8",
   "metadata": {},
   "outputs": [],
   "source": [
    "Estimate= [ i+i/5-1 for i in maxima ]"
   ]
  },
  {
   "cell_type": "code",
   "execution_count": 14,
   "id": "d47a8c8a",
   "metadata": {},
   "outputs": [],
   "source": [
    "import matplotlib.pyplot as plt\n",
    "%matplotlib inline"
   ]
  },
  {
   "cell_type": "code",
   "execution_count": 26,
   "id": "7b9b982f",
   "metadata": {},
   "outputs": [
    {
     "data": {
      "image/png": "[encoded data removed]",
      "text/plain": [
       "<Figure size 432x288 with 1 Axes>"
      ]
     },
     "metadata": {
      "needs_background": "light"
     },
     "output_type": "display_data"
    }
   ],
   "source": [
    "plt.hist(Estimate,bins=20);"
   ]
  },
  {
   "cell_type": "code",
   "execution_count": 23,
   "id": "1b52e939",
   "metadata": {},
   "outputs": [
    {
     "data": {
      "text/plain": [
       "98.54"
      ]
     },
     "execution_count": 23,
     "metadata": {},
     "output_type": "execute_result"
    }
   ],
   "source": [
    "np.mean(Estimate)"
   ]
  },
  {
   "cell_type": "code",
   "execution_count": null,
   "id": "772580af",
   "metadata": {},
   "outputs": [],
   "source": [
    "import waterfall_chart\n",
    "\n",
    "waterfall_chart.plot(df.Month, df.Delta)"
   ]
  },
  {
   "cell_type": "markdown",
   "id": "efde6941",
   "metadata": {},
   "source": [
    "Probability\n",
    "---\n",
    "Suppose that $ X_1,X_2, \\cdots,X_n$ are independent identically distributed random variables with finite first moment, i.e. $E|X_i|>\\infty$. \n",
    "\n",
    "<b>Central Limit Theorem, Gauss<b>:\n",
    "\n",
    "$$\\frac{X_i-\\mu}{\\sigma}\\propto N(0,1)$$\n",
    "where $ \\mu,\\sigma^2$ are mean and variance of population, and $N(0,1)$ is standard normal distribution.\n",
    "\n",
    "However, $\\mu,\\sigma^2$ are unknown parameters to us. To get the information of them, we use <b>the Law of Large Number</b> to estimate:\n",
    "\n",
    "$$ \\bar X=\\frac{\\sum_{i=1}^n X_i}{n}\\to \\mu$$    \n",
    "\n",
    "In other words, we use the sample mean,  $ \\bar X$, to replace the unknown population mean, $\\mu$, if sample size is large enough. \n",
    "\n",
    "By the way, we want to estimate  the sample variance, $\\sigma^2$, too. By simple computation,\n",
    "\\begin{eqnarray}\n",
    "    E(X_i-\\mu)^2 &=& \\sigma^2, \\text{ (by definition)}\\\\\n",
    "    \\Rightarrow E \\left(\\sum_{i=1}^n(X_i -\\mu)^2\\right)&=&\\sum_{i=1}^nE(X_i-\\mu)^2\\\\\n",
    "                 &=&n\\sigma^2\\\\\n",
    "    \\Rightarrow \\frac{1}{n}\\sum_{i=1}^n(X_i -\\mu)^2&=&\\sigma^2\n",
    "\\end{eqnarray} \n",
    "so called unbiased variance of $\\bar X$. But as mentioned before, $\\mu$ is unknown, we can not use an unknown to compute the sample variance. Thus re-consider the following, by replacing $\\mu$ by $\\bar X$ since $\\bar X\\to \\mu$:\n",
    "\\begin{eqnarray}\n",
    "    E\\left(\\sum_{i=1}^n\\left(X_i-\\bar X)^2\\right)\\right) &=& \n",
    "            E\\left(\\sum_{i=1}^n\\left(X_i-\\mu-(\\bar X-\\mu)\\right)^2\\right)\\\\\n",
    "    &=&\\sum_{i=1}^n\\left(E(X_i-\\mu)^2+2E(X_i-\\mu)(\\bar X-\\mu)+E(\\bar X-\\mu)^2\\right)\\\\\n",
    "                 &=&n\\sigma^2-2\\sigma^2+\\sigma^2=(n-1){\\sigma^2}\\\\\n",
    "\\end{eqnarray}  \n",
    "This means\n",
    "1. biased estimator of $\\sigma^2$:\n",
    "    $$\\hat{\\sigma^2}=\\frac{1}{n}\\sum_{i=1}^n(X_i-\\bar X)^2\\Rightarrow E\\hat{\\sigma^2}=\\frac{n-1}{n}\\sigma^2\\neq\\sigma^2$$\n",
    "2. unbiased estimator of $\\sigma^2$:\n",
    "    $$\\hat{\\sigma^2}=\\frac{1}{n-1}\\sum_{i=1}^n(X_i-\\bar X)^2\\Rightarrow E\\hat{\\sigma^2}=\\frac{n-1}{n-1}\\sigma^2=\\sigma^2$$"
   ]
  },
  {
   "cell_type": "markdown",
   "id": "38f35b55",
   "metadata": {},
   "source": [
    "Example \n",
    "---\n",
    "Take 1000 samples from continuous uniform[0,1]=$U[0,1]$. Mean and variance of $U[0,1]$ are $1/2, 1/12$ respectively."
   ]
  },
  {
   "cell_type": "code",
   "execution_count": 22,
   "id": "79ddd173",
   "metadata": {},
   "outputs": [],
   "source": [
    "# Biased Sample variance\n",
    "\n",
    "def biased(U,mu=1/2):\n",
    "    return sum((U-mu)**2)/len(U)"
   ]
  },
  {
   "cell_type": "code",
   "execution_count": 26,
   "id": "2d2d7784",
   "metadata": {},
   "outputs": [
    {
     "name": "stdout",
     "output_type": "stream",
     "text": [
      "True Mean: 0.50000, True Variance:0.08333\n",
      "sample size: 10,\n",
      " mean: 0.62232, unbiased variance: 0.07531, biased variance: 0.09027\n",
      "sample size: 50,\n",
      " mean: 0.52685, unbiased variance: 0.06034, biased variance: 0.06106\n",
      "sample size: 100,\n",
      " mean: 0.47948, unbiased variance: 0.08004, biased variance: 0.08046\n",
      "sample size: 200,\n",
      " mean: 0.49060, unbiased variance: 0.08277, biased variance: 0.08286\n",
      "sample size: 500,\n",
      " mean: 0.50288, unbiased variance: 0.08460, biased variance: 0.08461\n",
      "sample size: 1000,\n",
      " mean: 0.50773, unbiased variance: 0.07962, biased variance: 0.07968\n"
     ]
    }
   ],
   "source": [
    "# U[0,1], uniform distribution on [0,1]\n",
    "size=[10,50,100,200,500,1000]\n",
    "print(\"True Mean: %6.5f, True Variance:%6.5f\" %(1/2,1/12))\n",
    "for s in size:\n",
    "    U=random.uniform(0,1,s)\n",
    "    print(\"sample size: %s,\\n mean: %6.5f, unbiased variance: %6.5f, biased variance: %6.5f\" %(s,U.mean(),U.var(),biased(U,mu=1/2)))"
   ]
  },
  {
   "cell_type": "code",
   "execution_count": 28,
   "id": "2d803596",
   "metadata": {},
   "outputs": [
    {
     "data": {
      "text/plain": [
       "array([-1.66995132,  1.31504485, -0.62589168, -2.1163909 , -0.03516623])"
      ]
     },
     "execution_count": 28,
     "metadata": {},
     "output_type": "execute_result"
    }
   ],
   "source": [
    "# N(0,1), standard normal distribution\n",
    "random.normal(0,1,5)"
   ]
  },
  {
   "cell_type": "code",
   "execution_count": 29,
   "id": "100f636e",
   "metadata": {},
   "outputs": [
    {
     "name": "stdout",
     "output_type": "stream",
     "text": [
      "True Mean: 0.00000, True Variance:1.00000\n",
      "sample size: 10,\n",
      " mean: 0.14955, unbiased variance: 1.04542, biased variance: 1.06778\n",
      "sample size: 50,\n",
      " mean: -0.22349, unbiased variance: 1.01745, biased variance: 1.06739\n",
      "sample size: 100,\n",
      " mean: 0.08482, unbiased variance: 0.94789, biased variance: 0.95508\n",
      "sample size: 200,\n",
      " mean: 0.02809, unbiased variance: 1.04917, biased variance: 1.04996\n",
      "sample size: 500,\n",
      " mean: 0.04294, unbiased variance: 1.03261, biased variance: 1.03445\n",
      "sample size: 1000,\n",
      " mean: -0.04059, unbiased variance: 0.94282, biased variance: 0.94447\n"
     ]
    }
   ],
   "source": [
    "size=[10,50,100,200,500,1000]\n",
    "print(\"True Mean: %6.5f, True Variance:%6.5f\" %(0,1))\n",
    "for s in size:\n",
    "    U=random.normal(0,1,s)\n",
    "    print(\"sample size: %s,\\n mean: %6.5f, unbiased variance: %6.5f, biased variance: %6.5f\" %(s,U.mean(),U.var(),biased(U,mu=0)))"
   ]
  },
  {
   "cell_type": "code",
   "execution_count": null,
   "id": "3a27a665",
   "metadata": {},
   "outputs": [],
   "source": []
  }
 ],
 "metadata": {
  "hide_input": false,
  "kernelspec": {
   "display_name": "Python 3",
   "language": "python",
   "name": "python3"
  },
  "language_info": {
   "codemirror_mode": {
    "name": "ipython",
    "version": 3
   },
   "file_extension": ".py",
   "mimetype": "text/x-python",
   "name": "python",
   "nbconvert_exporter": "python",
   "pygments_lexer": "ipython3",
   "version": "3.8.5"
  }
 },
 "nbformat": 4,
 "nbformat_minor": 5
}
