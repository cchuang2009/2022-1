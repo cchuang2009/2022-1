{
 "cells": [
  {
   "cell_type": "markdown",
   "id": "782ea09b-b640-40bd-bf3e-caab739a3838",
   "metadata": {},
   "source": [
    "Casual Impact\n",
    "===\n",
    "\n",
    "Reference\n",
    "---\n",
    "1. [src](https://github.com/raz1470/causal_ai/tree/main/notebooks)\n",
    "2. [Article](https://towardsdatascience.com/validating-the-causal-impact-of-the-synthetic-control-method-2f3bf185f266)"
   ]
  },
  {
   "cell_type": "code",
   "execution_count": null,
   "id": "48337fd5-64ab-49a0-a495-08c34f62d5d9",
   "metadata": {},
   "outputs": [],
   "source": [
    "!pip install -q pytrends"
   ]
  },
  {
   "cell_type": "code",
   "execution_count": null,
   "id": "7078d0cf-9739-47a7-8ebf-5d3a6cf5ee17",
   "metadata": {},
   "outputs": [],
   "source": [
    "import time\n",
    "import pandas as pd\n",
    "from pytrends.request import TrendReq\n",
    "from pytrends.exceptions import TooManyRequestsError\n",
    "from requests.exceptions import RequestException\n",
    "\n",
    "import numpy as np\n",
    "from scipy.optimize import minimize\n",
    "\n",
    "import matplotlib.pyplot as plt\n",
    "import seaborn as sns"
   ]
  },
  {
   "cell_type": "code",
   "execution_count": null,
   "id": "f5fd2346-082e-4911-bba1-3458ed9e0c92",
   "metadata": {},
   "outputs": [],
   "source": [
    "# Function to fetch interest by region\n",
    "def fetch_interest_by_region(keyword, geo='europe', timeframe='2021-06-01 2024-06-01'):  # Specific date range\n",
    "    pytrends = TrendReq(hl='en-GB', tz=0)\n",
    "    pytrends.build_payload([keyword], geo=geo, timeframe=timeframe)\n",
    "    try:\n",
    "        interest_by_region = pytrends.interest_by_region(resolution='COUNTRY', inc_low_vol=True, inc_geo_code=True)\n",
    "        return interest_by_region\n",
    "    except RequestException as e:\n",
    "        print(f\"Request failed: {e}. Waiting for a while before retrying...\")\n",
    "        time.sleep(60)  # Sleep for 60 seconds before retrying\n",
    "        return fetch_interest_by_region(keyword, geo, timeframe)\n"
   ]
  },
  {
   "cell_type": "code",
   "execution_count": null,
   "id": "f8def135-97a3-416c-ad5b-bd97708332dd",
   "metadata": {},
   "outputs": [],
   "source": [
    "# Function to fetch weekly interest\n",
    "def fetch_weekly_interest(keyword, geo, timeframe='2021-06-01 2024-06-01', retries=5):  # Specific date range\n",
    "    pytrends = TrendReq(hl='en-GB', tz=0)\n",
    "    for attempt in range(retries):\n",
    "        try:\n",
    "            pytrends.build_payload([keyword], geo=geo, timeframe=timeframe)\n",
    "            interest_over_time = pytrends.interest_over_time()\n",
    "            if 'isPartial' in interest_over_time.columns:\n",
    "                interest_over_time = interest_over_time.drop(columns=['isPartial'])\n",
    "            return interest_over_time\n",
    "        except RequestException as e:\n",
    "            print(f\"Request failed (attempt {attempt + 1}/{retries}): {e}. Retrying after a delay...\")\n",
    "            time.sleep(60)  # Sleep for 60 seconds before retrying\n",
    "    print(f\"Failed to fetch data for {geo} after {retries} attempts.\")\n",
    "    return pd.DataFrame()  # Return an empty DataFrame if all retries fail\n"
   ]
  },
  {
   "cell_type": "code",
   "execution_count": null,
   "id": "437379e9-2e37-4827-bb9d-5c389a3d9885",
   "metadata": {},
   "outputs": [],
   "source": [
    "# Function to fetch the list of European countries\n",
    "def fetch_european_countries():\n",
    "    return ['AL', 'AD', 'AM', 'AT', 'AZ', 'BY', 'BE', 'BA', 'BG', \\\n",
    "            'HR', 'CY', 'CZ', 'DK', 'EE', 'FO', 'FI', 'FR', 'GE', \\\n",
    "            'DE', 'GI', 'GR', 'GL', 'HU', 'IS', 'IE', 'IT', 'KZ', \\\n",
    "            'LV', 'LI', 'LT', 'LU', 'MK', 'MT', 'MD', 'MC', 'ME', \\\n",
    "            'NL', 'NO', 'PL', 'PT', 'RO', 'RU', 'RS', 'SK', 'SI', \\\n",
    "            'ES', 'SE', 'CH', 'TR', 'UA', 'GB', 'VA','TW']"
   ]
  },
  {
   "cell_type": "code",
   "execution_count": null,
   "id": "e55e2228-c2e9-4ade-ad29-37c4a46df021",
   "metadata": {},
   "outputs": [],
   "source": [
    "# Set the keyword and timeframe\n",
    "keyword = \"iPhone\"\n",
    "timeframe = \"2021-06-01 2024-06-01\"  # Specific date range"
   ]
  },
  {
   "cell_type": "code",
   "execution_count": null,
   "id": "67e1c74a-c36b-490b-9d7d-fd14370f44dd",
   "metadata": {},
   "outputs": [],
   "source": [
    "# Fetch the list of European countries\n",
    "european_countries = fetch_european_countries()\n"
   ]
  },
  {
   "cell_type": "code",
   "execution_count": null,
   "id": "86ff2e5f-dc32-4266-b359-8bb1a61cf8a8",
   "metadata": {},
   "outputs": [],
   "source": [
    "# Dictionary to store data for each country\n",
    "country_data_dict = {}"
   ]
  },
  {
   "cell_type": "code",
   "execution_count": null,
   "id": "65c9f7a5-006d-4186-b2b0-8b0b54832523",
   "metadata": {},
   "outputs": [],
   "source": [
    "# Fetch interest data for each country in Europe\n",
    "for country_code in european_countries:\n",
    "    while True:\n",
    "        try:\n",
    "            country_data = fetch_weekly_interest(keyword, geo=country_code, timeframe=timeframe)\n",
    "            if not country_data.empty:\n",
    "                country_data_dict[country_code] = country_data\n",
    "                print(f\"Successfully fetched data for {country_code}\")\n",
    "            else:\n",
    "                print(f\"No data for {country_code}\")\n",
    "            break\n",
    "        except TooManyRequestsError:\n",
    "            print(\"Too many requests. Retrying after a delay...\")\n",
    "            time.sleep(60)  # Sleep for 60 seconds before retrying"
   ]
  },
  {
   "cell_type": "code",
   "execution_count": null,
   "id": "ef6cbb39-4f4c-4108-a04f-0c8b1d49cc9b",
   "metadata": {},
   "outputs": [],
   "source": [
    "# Convert country_data_dict into a DataFrame where countries are columns\n",
    "combined_data = pd.concat(country_data_dict.values(), axis=1, keys=country_data_dict.keys())\n",
    "\n",
    "# Reset the index to make 'date' a column\n",
    "combined_data.reset_index(inplace=True)\n",
    "\n",
    "# Rename the columns to keep only the country codes\n",
    "combined_data.columns = [col[0] for col in combined_data.columns]\n",
    "\n",
    "# Display the resulting DataFrame\n",
    "combined_data"
   ]
  },
  {
   "cell_type": "code",
   "execution_count": null,
   "id": "c96da089-c5d3-46a4-ba60-cd030773d052",
   "metadata": {},
   "outputs": [],
   "source": [
    "combined_data.describe()"
   ]
  },
  {
   "cell_type": "code",
   "execution_count": null,
   "id": "af33628c-823a-4c15-af7a-697a16711f31",
   "metadata": {},
   "outputs": [],
   "source": [
    "combined_data.info()\n"
   ]
  },
  {
   "cell_type": "code",
   "execution_count": null,
   "id": "f65ac406-07f5-4920-a5d3-eb741a79ce38",
   "metadata": {},
   "outputs": [],
   "source": [
    "# save file\n",
    "import os\n",
    "\n",
    "output_dir = 'data'\n",
    "if not os.path.isdir(output_dir):\n",
    "    os.mkdir(output_dir)"
   ]
  },
  {
   "cell_type": "code",
   "execution_count": null,
   "id": "efecb82a-4332-47fc-bcaf-ad8aaff6b101",
   "metadata": {},
   "outputs": [],
   "source": [
    "combined_data.to_csv(output_dir+'/combined_data.csv', index=False)"
   ]
  },
  {
   "cell_type": "code",
   "execution_count": null,
   "id": "5fe9678f-76ed-4d94-a2ce-b2cd1a35c9ae",
   "metadata": {},
   "outputs": [],
   "source": [
    "# Load data\n",
    "# df = pd.read_csv(output_dir+'combined_data.csv')\n",
    "# df['date'] = pd.to_datetime(df['date'])\n",
    "\n",
    "df=combined_data.copy()\n",
    "df['date'] = pd.to_datetime(df['date'])\n",
    "\n",
    "del combined_data"
   ]
  },
  {
   "cell_type": "code",
   "execution_count": null,
   "id": "4c4252e8-a2ec-4b66-87af-db277a3fb5b6",
   "metadata": {},
   "outputs": [],
   "source": [
    "df.info()"
   ]
  },
  {
   "cell_type": "code",
   "execution_count": null,
   "id": "986ad42c-c121-4324-a20d-489f155b12ed",
   "metadata": {},
   "outputs": [],
   "source": [
    "df.describe()"
   ]
  },
  {
   "cell_type": "markdown",
   "id": "58562a50-94ec-48f8-9908-c2509bebea4b",
   "metadata": {},
   "source": [
    "# Simulate a placebo intervention\n"
   ]
  },
  {
   "cell_type": "code",
   "execution_count": null,
   "id": "5ffa049d-747b-4284-9c59-58582a2fb29d",
   "metadata": {},
   "outputs": [],
   "source": [
    "np.random.seed(1234)\n",
    "\n",
    "# Create intervention flag\n",
    "mask = (df['date'] >= \"2024-04-14\") & (df['date'] <= \"2024-06-02\")\n",
    "df['intervention'] = mask.astype(int)\n",
    "\n",
    "row_count = len(df)\n",
    "\n",
    "# Create intervention uplift\n",
    "df['uplift_perc'] = np.random.uniform(0.10, 0.20, size=row_count)\n",
    "df['uplift_abs'] = round(df['uplift_perc'] * df['GB'])\n",
    "df['y'] = df['GB']\n",
    "df.loc[df['intervention'] == 1, 'y'] = df['GB'] + df['uplift_abs']"
   ]
  },
  {
   "cell_type": "code",
   "execution_count": null,
   "id": "56b42c76-04da-4fbc-af38-2e27ef151be6",
   "metadata": {},
   "outputs": [],
   "source": [
    "def synth_plot(df, counterfactual):\n",
    "    \n",
    "    plt.figure(figsize=(14, 8))\n",
    "    sns.set_style(\"white\")\n",
    "\n",
    "    # Create plot\n",
    "    sns.lineplot(data=df, x='date', y='y', label='Actual', color='b', linewidth=2.5)\n",
    "    sns.lineplot(data=df, x='date', y=counterfactual, label='Counterfactual', color='r', linestyle='--', linewidth=2.5)\n",
    "    plt.title('Synthetic Control Method: Actual vs. Counterfactual', fontsize=24)\n",
    "    plt.xlabel('Date', fontsize=20)\n",
    "    plt.ylabel('Metric Value', fontsize=20)\n",
    "    plt.legend(fontsize=16)\n",
    "    plt.gca().xaxis.set_major_formatter(plt.matplotlib.dates.DateFormatter('%Y-%m-%d'))\n",
    "    plt.xticks(rotation=90)\n",
    "    plt.grid(True, linestyle='--', alpha=0.5)\n",
    "\n",
    "    # High the intervention point\n",
    "    intervention_date = '2024-04-07'\n",
    "    plt.axvline(pd.to_datetime(intervention_date), color='k', linestyle='--', linewidth=1)\n",
    "    plt.text(pd.to_datetime(intervention_date), plt.ylim()[1]*0.95, 'Intervention', color='k', fontsize=18, ha='right')\n",
    "\n",
    "    plt.tight_layout()\n",
    "    plt.show()\n",
    "\n",
    "synth_plot(df, 'GB')\n"
   ]
  },
  {
   "cell_type": "code",
   "execution_count": null,
   "id": "fbd47800-41e7-4966-9a02-840abd038e58",
   "metadata": {},
   "outputs": [],
   "source": [
    "df[['y','GB']].plot()"
   ]
  },
  {
   "cell_type": "code",
   "execution_count": null,
   "id": "c6683197-2eae-43c5-9662-5fd6a41aeabc",
   "metadata": {},
   "outputs": [],
   "source": [
    "# Pre-processing\n",
    "\n",
    "# Delete the original target column so we don't use it as a feature by accident\n",
    "del df['GB']\n",
    "\n",
    "# set feature & targets\n",
    "X = df.columns[1:50]\n",
    "y = 'y'"
   ]
  },
  {
   "cell_type": "code",
   "execution_count": null,
   "id": "d718c92e-aa2b-4200-b61f-d18c3d91d6ca",
   "metadata": {},
   "outputs": [],
   "source": [
    "# Regrssion Model Training\n",
    "\n",
    "def train_reg(df, start_index, reg_class):\n",
    "    \n",
    "    df_temp = df.iloc[start_index:].copy().reset_index()\n",
    "    \n",
    "    X_pre = df_temp[df_temp['intervention'] == 0][X]\n",
    "    y_pre = df_temp[df_temp['intervention'] == 0][y]\n",
    "    \n",
    "    X_train, X_test, y_train, y_test = train_test_split(X_pre, y_pre, test_size=0.10, random_state=42)\n",
    "    \n",
    "    model = reg_class\n",
    "    model.fit(X_train, y_train)\n",
    "\n",
    "    yhat_train = model.predict(X_train)\n",
    "    yhat_test = model.predict(X_test)\n",
    "\n",
    "    mse_train = mean_squared_error(y_train, yhat_train)\n",
    "    mse_test = mean_squared_error(y_test, yhat_test)\n",
    "    print(f\"Mean Squared Error train: {round(mse_train, 2)}\")\n",
    "    print(f\"Mean Squared Error test: {round(mse_test, 2)}\")\n",
    "\n",
    "    r2_train = r2_score(y_train, yhat_train)\n",
    "    r2_test = r2_score(y_test, yhat_test)\n",
    "    print(f\"R2 train: {round(r2_train, 2)}\")\n",
    "    print(f\"R2 test: {round(r2_test, 2)}\")\n",
    "    \n",
    "    df_temp['pred'] = model.predict(df_temp.loc[:, X])\n",
    "    df_temp['delta'] = df_temp['y'] - df_temp['pred']\n",
    "\n",
    "    pred_lift = df_temp[df_temp['intervention'] == 1]['delta'].sum()\n",
    "    actual_lift = df_temp[df_temp['intervention'] == 1]['uplift_abs'].sum()\n",
    "    abs_error_perc = abs(pred_lift - actual_lift) / actual_lift\n",
    "    print(f\"Predicted lift: {round(pred_lift, 2)}\")\n",
    "    print(f\"Actual lift: {round(actual_lift, 2)}\")\n",
    "    print(f\"Absolute error percentage: {round(abs_error_perc, 2)}\")\n",
    "    \n",
    "    return df_temp, abs_error_perc"
   ]
  },
  {
   "cell_type": "code",
   "execution_count": null,
   "id": "c74ca2ba-bb14-495a-99f1-e4f1dfc1a84f",
   "metadata": {},
   "outputs": [],
   "source": [
    "from sklearn.model_selection import train_test_split\n",
    "from sklearn.linear_model import LinearRegression, RidgeCV, LassoCV\n",
    "from sklearn.metrics import mean_squared_error, r2_score"
   ]
  },
  {
   "cell_type": "code",
   "execution_count": null,
   "id": "b0bd226a-3beb-423d-aad2-60ee14c3abd5",
   "metadata": {},
   "outputs": [],
   "source": [
    "df_lin_reg_00, pred_lift_lin_reg_00 = train_reg(df, 0, LinearRegression())\n"
   ]
  },
  {
   "cell_type": "code",
   "execution_count": null,
   "id": "3ed834cc-b89f-4d46-b147-5e8ead7a2171",
   "metadata": {},
   "outputs": [],
   "source": [
    "df_lin_reg_100, pred_lift_lin_reg_100 = train_reg(df, 100, LinearRegression())\n"
   ]
  },
  {
   "cell_type": "code",
   "execution_count": null,
   "id": "e17664ac-704a-45b5-8c74-08a99708224e",
   "metadata": {},
   "outputs": [],
   "source": [
    "synth_plot(df_lin_reg_100, 'pred')\n"
   ]
  },
  {
   "cell_type": "code",
   "execution_count": null,
   "id": "b6f4c7bd-2b82-444c-9edd-fd8721be8036",
   "metadata": {},
   "outputs": [],
   "source": [
    "df_ridge_00, pred_lift_ridge_00 = train_reg(df, 0, RidgeCV())\n"
   ]
  },
  {
   "cell_type": "code",
   "execution_count": null,
   "id": "ee67e473-aa9f-497a-aa33-d6de6225b416",
   "metadata": {},
   "outputs": [],
   "source": [
    "df_ridge_100, pred_lift_ridge_100 = train_reg(df, 100, RidgeCV())\n"
   ]
  },
  {
   "cell_type": "code",
   "execution_count": null,
   "id": "1af811a7-6efe-4b0d-aa98-5e60486c5604",
   "metadata": {},
   "outputs": [],
   "source": [
    "synth_plot(df_ridge_100, 'pred')\n"
   ]
  },
  {
   "cell_type": "code",
   "execution_count": null,
   "id": "2238ddff-0542-4a2e-ac29-4e91529a49ba",
   "metadata": {},
   "outputs": [],
   "source": [
    "df_lasso_00, pred_lift_lasso_00 = train_reg(df, 0, LassoCV())\n"
   ]
  },
  {
   "cell_type": "code",
   "execution_count": null,
   "id": "0a337618-9cc3-4596-aac9-4bf9cce19f99",
   "metadata": {},
   "outputs": [],
   "source": [
    "df_lasso_100, pred_lift_lasso_100 = train_reg(df, 100, LassoCV())\n"
   ]
  },
  {
   "cell_type": "code",
   "execution_count": null,
   "id": "fff10067-dcee-4e5a-b6ed-75585eb5f857",
   "metadata": {},
   "outputs": [],
   "source": [
    "synth_plot(df_lasso_100, 'pred')\n"
   ]
  },
  {
   "cell_type": "markdown",
   "id": "6f13d83a-ed37-4eb6-8118-ccd9c243ac3e",
   "metadata": {},
   "source": [
    "Synthetic control method\n",
    "---"
   ]
  },
  {
   "cell_type": "code",
   "execution_count": null,
   "id": "74cf9bc1-d763-4a1f-9791-51741db3a657",
   "metadata": {},
   "outputs": [],
   "source": [
    "def synthetic_control(weights, control_units, treated_unit):    \n",
    "    synthetic = np.dot(control_units.values, weights)\n",
    "    return np.sqrt(np.sum((treated_unit - synthetic)**2))"
   ]
  },
  {
   "cell_type": "code",
   "execution_count": null,
   "id": "5484bd49-2638-4e5b-a4dc-8692c153d897",
   "metadata": {},
   "outputs": [],
   "source": [
    "def train_synth(df, start_index):\n",
    "    \n",
    "    df_temp = df.iloc[start_index:].copy().reset_index()\n",
    "    \n",
    "    X_pre = df_temp[df_temp['intervention'] == 0][X]\n",
    "    y_pre = df_temp[df_temp['intervention'] == 0][y]\n",
    "    \n",
    "    X_train, X_test, y_train, y_test = train_test_split(X_pre, y_pre, test_size=0.10, random_state=42)\n",
    "    \n",
    "    initial_weights = np.ones(len(X)) / len(X)\n",
    "\n",
    "    constraints = ({'type': 'eq', 'fun': lambda w: np.sum(w) - 1})\n",
    "\n",
    "    bounds = [(0, 1) for _ in range(len(X))]\n",
    "\n",
    "    result = minimize(synthetic_control, \n",
    "                     initial_weights, \n",
    "                     args=(X_train, y_train),\n",
    "                     method='SLSQP', \n",
    "                     bounds=bounds, \n",
    "                     constraints=constraints,\n",
    "                     options={'disp': False, 'maxiter': 1000, 'ftol': 1e-9},\n",
    "    )\n",
    "    \n",
    "    optimal_weights = result.x\n",
    "    \n",
    "    yhat_train = np.dot(X_train.values, optimal_weights)\n",
    "    yhat_test = np.dot(X_test.values, optimal_weights)\n",
    "    \n",
    "    mse_train = mean_squared_error(y_train, yhat_train)\n",
    "    mse_test = mean_squared_error(y_test, yhat_test)\n",
    "    print(f\"Mean Squared Error train: {round(mse_train, 2)}\")\n",
    "    print(f\"Mean Squared Error test: {round(mse_test, 2)}\")\n",
    "\n",
    "    r2_train = r2_score(y_train, yhat_train)\n",
    "    r2_test = r2_score(y_test, yhat_test)\n",
    "    print(f\"R2 train: {round(r2_train, 2)}\")\n",
    "    print(f\"R2 test: {round(r2_test, 2)}\")    \n",
    "    \n",
    "    df_temp['pred'] = np.dot(df_temp.loc[:, X].values, optimal_weights)\n",
    "    df_temp['delta'] = df_temp['y'] - df_temp['pred']\n",
    "\n",
    "    pred_lift = df_temp[df_temp['intervention'] == 1]['delta'].sum()\n",
    "    actual_lift = df_temp[df_temp['intervention'] == 1]['uplift_abs'].sum()\n",
    "    abs_error_perc = abs(pred_lift - actual_lift) / actual_lift\n",
    "    print(f\"Predicted lift: {round(pred_lift, 2)}\")\n",
    "    print(f\"Actual lift: {round(actual_lift, 2)}\")\n",
    "    print(f\"Absolute error percentage: {round(abs_error_perc, 2)}\")\n",
    "    \n",
    "    return df_temp, abs_error_perc"
   ]
  },
  {
   "cell_type": "code",
   "execution_count": null,
   "id": "37eda401-ce75-4e13-8fc4-92fe6dbbce10",
   "metadata": {},
   "outputs": [],
   "source": [
    "df_synth_00, pred_lift_synth_00 = train_synth(df, 0)\n"
   ]
  },
  {
   "cell_type": "code",
   "execution_count": null,
   "id": "9ae40b25-c234-4515-b4b1-914c76cf52ca",
   "metadata": {},
   "outputs": [],
   "source": [
    "df_synth_100, pred_lift_synth_100 = train_synth(df, 100)\n"
   ]
  },
  {
   "cell_type": "code",
   "execution_count": null,
   "id": "3beac317-3383-43fe-b444-707c31569a81",
   "metadata": {},
   "outputs": [],
   "source": [
    "synth_plot(df_synth_100, 'pred')\n"
   ]
  },
  {
   "cell_type": "markdown",
   "id": "f97271c1-c757-47a5-b2ff-70b1c85b18eb",
   "metadata": {},
   "source": [
    "Collate results\n",
    "---"
   ]
  },
  {
   "cell_type": "code",
   "execution_count": null,
   "id": "ee5eef1a-cff2-40a8-a5f5-2aa0979af59e",
   "metadata": {},
   "outputs": [],
   "source": [
    "# run regression experiments\n",
    "df_lin_reg_00, pred_lift_lin_reg_00 = train_reg(df, 0, LinearRegression())\n",
    "df_lin_reg_100, pred_lift_lin_reg_100 = train_reg(df, 100, LinearRegression())\n",
    "df_ridge_00, pred_lift_ridge_00 = train_reg(df, 0, RidgeCV())\n",
    "df_ridge_100, pred_lift_ridge_100 = train_reg(df, 100, RidgeCV())\n",
    "df_lasso_00, pred_lift_lasso_00 = train_reg(df, 0, LassoCV())\n",
    "df_lasso_100, pred_lift_lasso_100 = train_reg(df, 100, LassoCV())\n",
    "\n",
    "# run synthetic control experiments\n",
    "df_synth_00, pred_lift_synth_00 = train_synth(df, 0)\n",
    "df_synth_100, pred_lift_synth_100 = train_synth(df, 100)"
   ]
  },
  {
   "cell_type": "code",
   "execution_count": null,
   "id": "5f4fc831-a897-4feb-b973-374a7cda2f61",
   "metadata": {},
   "outputs": [],
   "source": [
    "experiment_data = {\n",
    "    \"Method\": [\"Linear\", \"Linear\", \"Ridge\", \"Ridge\", \"Lasso\", \"Lasso\", \"Synthetic Control\", \"Synthetic Control\"],\n",
    "    \"Data Size\": [\"Large\", \"Small\", \"Large\", \"Small\", \"Large\",  \"Small\", \"Large\", \"Small\"],\n",
    "    \"Value\": [pred_lift_lin_reg_00, pred_lift_lin_reg_100, pred_lift_ridge_00, pred_lift_ridge_100,pred_lift_lasso_00, pred_lift_lasso_100, pred_lift_synth_00, pred_lift_synth_100]\n",
    "}\n",
    "\n",
    "df_experiments = pd.DataFrame(experiment_data)\n"
   ]
  },
  {
   "cell_type": "code",
   "execution_count": null,
   "id": "7c2a00c0-61d6-4ac5-8851-e8def3bb9761",
   "metadata": {},
   "outputs": [],
   "source": [
    "experiment_data = {\n",
    "    \"Method\": [\"Linear\", \"Linear\", \"Ridge\", \"Ridge\", \"Lasso\", \"Lasso\", \"Synthetic Control\", \"Synthetic Control\"],\n",
    "    \"Data Size\": [\"Large\", \"Small\", \"Large\", \"Small\", \"Large\",  \"Small\", \"Large\", \"Small\"],\n",
    "    \"Value\": [pred_lift_lin_reg_00, pred_lift_lin_reg_100, pred_lift_ridge_00, pred_lift_ridge_100,pred_lift_lasso_00, pred_lift_lasso_100, pred_lift_synth_00, pred_lift_synth_100]\n",
    "}\n",
    "\n",
    "df_experiments = pd.DataFrame(experiment_data)\n",
    "# Set the style\n",
    "sns.set_style=\"whitegrid\"\n",
    "\n",
    "# Create the bar plot\n",
    "plt.figure(figsize=(10, 6))\n",
    "bar_plot = sns.barplot(x=\"Method\", y=\"Value\", hue=\"Data Size\", data=df_experiments, palette=\"muted\")\n",
    "\n",
    "# Add labels and title\n",
    "plt.xlabel(\"Method\")\n",
    "plt.ylabel(\"Absolute error percentage\")\n",
    "plt.title(\"Synthetic Controls - Comparison of Methods Across Different Data Sizes\")\n",
    "plt.legend(title=\"Data Size\")\n",
    "\n",
    "# Show the plot\n",
    "plt.show()"
   ]
  },
  {
   "cell_type": "code",
   "execution_count": null,
   "id": "b8b85c5d-0dfa-4ced-b9af-b23d5ad50c90",
   "metadata": {},
   "outputs": [],
   "source": []
  }
 ],
 "metadata": {
  "kernelspec": {
   "display_name": "Python 3 (ipykernel)",
   "language": "python",
   "name": "python3"
  },
  "language_info": {
   "codemirror_mode": {
    "name": "ipython",
    "version": 3
   },
   "file_extension": ".py",
   "mimetype": "text/x-python",
   "name": "python",
   "nbconvert_exporter": "python",
   "pygments_lexer": "ipython3",
   "version": "3.10.9"
  }
 },
 "nbformat": 4,
 "nbformat_minor": 5
}
