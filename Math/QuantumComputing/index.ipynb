{
 "cells": [
  {
   "cell_type": "markdown",
   "id": "19127269",
   "metadata": {},
   "source": [
    "Quantum Computing\n",
    "---\n",
    "Here is the part of lecture of Introduction of Quantum Compution, given at Chang-Gung University, Taiwan, 2022-2.\n",
    "All the lectures had been tested on  [IBM QC Lab](https://quantum-computing.ibm.com/). You can sign in there and explore the course, by each topic below:\n",
    "\n",
    "1. [Basic Qubits, Introduction](Code-Ch1.ipynb)\n",
    "2. [Quantum Circuits, Introduction](Code-Ch2.ipynb)\n",
    "3. [Logit Gates and Matrix Operations](Code-Ch3.ipynb)\n",
    "4. [Quantum Ghost, Quantum entanglement](Code-Ch4.ipynb)\n",
    "5. [Quantum Telepoetation](Week-15_QuantumTeleportation.ipynb)\n",
    "6. [Chanllenge of 203 IBM Quantum Chanllenge](2023-IBM-Quantum-Chanllenge)"
   ]
  },
  {
   "cell_type": "code",
   "execution_count": null,
   "id": "37c56e38",
   "metadata": {},
   "outputs": [],
   "source": []
  }
 ],
 "metadata": {
  "kernelspec": {
   "display_name": "Python 3 (ipykernel)",
   "language": "python",
   "name": "python3"
  },
  "language_info": {
   "codemirror_mode": {
    "name": "ipython",
    "version": 3
   },
   "file_extension": ".py",
   "mimetype": "text/x-python",
   "name": "python",
   "nbconvert_exporter": "python",
   "pygments_lexer": "ipython3",
   "version": "3.10.9"
  }
 },
 "nbformat": 4,
 "nbformat_minor": 5
}
