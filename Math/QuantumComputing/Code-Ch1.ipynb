{
 "cells": [
  {
   "cell_type": "markdown",
   "metadata": {
    "id": "9hCPccXDgXS5"
   },
   "source": [
    "# Basic Qubits, Introduction"
   ]
  },
  {
   "cell_type": "code",
   "execution_count": 1,
   "metadata": {
    "colab": {
     "base_uri": "https://localhost:8080/",
     "height": 130
    },
    "id": "Q3S2ptuJksnC",
    "outputId": "01282c7e-2ca0-425f-ea02-b1e46ba49c4d"
   },
   "outputs": [
    {
     "name": "stdout",
     "output_type": "stream",
     "text": [
      "Hello, Qubit!\n",
      "This is a quantum circuit of 1 qubit and 1 bit:\n"
     ]
    },
    {
     "data": {
      "image/png": "[encoded data removed]",
      "text/plain": [
       "<Figure size 133.526x144.48 with 1 Axes>"
      ]
     },
     "execution_count": 1,
     "metadata": {},
     "output_type": "execute_result"
    }
   ],
   "source": [
    "#Program 1.1 The first quantum program\n",
    "from qiskit import QuantumCircuit\n",
    "print(\"Hello, Qubit!\")\n",
    "qc = QuantumCircuit(1,1)\n",
    "qc.measure([0], [0])\n",
    "print(\"This is a quantum circuit of 1 qubit and 1 bit:\")\n",
    "qc.draw('mpl')"
   ]
  },
  {
   "cell_type": "code",
   "execution_count": 2,
   "metadata": {},
   "outputs": [
    {
     "name": "stdout",
     "output_type": "stream",
     "text": [
      "This is the quantum circuit of 5 qubits and 2 bits:\n"
     ]
    },
    {
     "data": {
      "image/png": "[encoded data removed]",
      "text/plain": [
       "<Figure size 206.997x385.28 with 1 Axes>"
      ]
     },
     "execution_count": 2,
     "metadata": {},
     "output_type": "execute_result"
    }
   ],
   "source": [
    "#Program 1.2 Design a quantum circuit with 5 qubits and 3 classical bits\n",
    "from qiskit import QuantumCircuit\n",
    "print(\"This is a quantum circuit of 5 qubits and 2 bits:\")\n",
    "qc = QuantumCircuit(5, 2)\n",
    "qc.measure([1,3], [0,1])\n",
    "qc.draw('mpl')"
   ]
  },
  {
   "cell_type": "code",
   "execution_count": 3,
   "metadata": {},
   "outputs": [
    {
     "data": {
      "image/png": "[encoded data removed]",
      "text/plain": [
       "<Figure size 326.532x445.48 with 1 Axes>"
      ]
     },
     "execution_count": 3,
     "metadata": {},
     "output_type": "execute_result"
    }
   ],
   "source": [
    "#Program 1.3 Name and label quantum bits and classical bits\n",
    "from qiskit import QuantumRegister,ClassicalRegister,QuantumCircuit\n",
    "qrx = QuantumRegister(3,'x')\n",
    "qry = QuantumRegister(2,'y')\n",
    "qrz = QuantumRegister(1,'z')\n",
    "cr = ClassicalRegister(4,'c')\n",
    "qc = QuantumCircuit(qrx,qry,qrz,cr)\n",
    "qc.measure([qrx[1],qrx[2]], [cr[0],cr[1]]) \n",
    "qc.measure([4,5], [2,3])\n",
    "qc.draw('mpl')"
   ]
  },
  {
   "cell_type": "code",
   "execution_count": 4,
   "metadata": {},
   "outputs": [
    {
     "name": "stdout",
     "output_type": "stream",
     "text": [
      "     ┌─┐\n",
      "  q: ┤M├\n",
      "     └╥┘\n",
      "c: 1/═╩═\n",
      "      0 \n",
      "Total counts for qubit states are: {'0': 1000}\n"
     ]
    }
   ],
   "source": [
    "#Program 1.4 Transpile and execute quantum circuit on simulator\n",
    "from qiskit import QuantumCircuit, transpile, execute\n",
    "from qiskit.providers.aer import AerSimulator\n",
    "sim = AerSimulator()\n",
    "qc = QuantumCircuit(1, 1)\n",
    "qc.measure([0], [0])\n",
    "print(qc)\n",
    "cqc = transpile(qc, sim)\n",
    "job=execute(cqc, backend=sim, shots=1000)\n",
    "result = job.result()\n",
    "counts = result.get_counts(qc)\n",
    "print(\"Total counts for qubit states are:\",counts)"
   ]
  },
  {
   "cell_type": "code",
   "execution_count": 5,
   "metadata": {},
   "outputs": [
    {
     "name": "stdout",
     "output_type": "stream",
     "text": [
      "     ┌─┐\n",
      "  q: ┤M├\n",
      "     └╥┘\n",
      "c: 1/═╩═\n",
      "      0 \n",
      "Total counts for qubit states are: {'0': 1000}\n"
     ]
    }
   ],
   "source": [
    "#Program 1.5 Execute quantum circuit (program) on simulator\n",
    "from qiskit import QuantumCircuit, execute\n",
    "from qiskit.providers.aer import AerSimulator\n",
    "sim = AerSimulator()\n",
    "qc = QuantumCircuit(1, 1)\n",
    "qc.measure([0], [0])\n",
    "print(qc)\n",
    "job=execute(qc, backend=sim, shots=1000)\n",
    "result = job.result()\n",
    "counts = result.get_counts(qc)\n",
    "print(\"Total counts for qubit states are:\",counts)"
   ]
  },
  {
   "cell_type": "code",
   "execution_count": 6,
   "metadata": {
    "colab": {
     "base_uri": "https://localhost:8080/",
     "height": 455
    },
    "id": "9c_HmbCG2xuH",
    "outputId": "bb1a0dba-b579-44de-d036-130d6749e77e"
   },
   "outputs": [
    {
     "name": "stdout",
     "output_type": "stream",
     "text": [
      "     ┌─┐\n",
      "  q: ┤M├\n",
      "     └╥┘\n",
      "c: 1/═╩═\n",
      "      0 \n",
      "<AccountProvider for IBMQ(hub='ibm-q', group='open', project='main')>\n",
      "The least busy quantum computer is: ibmq_quito\n",
      "Job Status: job has successfully run\n",
      "Total counts for qubit states are: {'0': 992, '1': 8}\n"
     ]
    }
   ],
   "source": [
    "#Program 1.6 Execute quantum circuit (program) on least busy quantum computer\n",
    "from qiskit import QuantumCircuit, IBMQ, execute\n",
    "from qiskit.providers.ibmq import least_busy \n",
    "from qiskit.tools.monitor import job_monitor \n",
    "qc = QuantumCircuit(1, 1)\n",
    "qc.measure([0], [0])\n",
    "print(qc)\n",
    "IBMQ.save_account('5659b3d872ca97b9f94d75f411c8146d6a15501b0dcbad91f45d1ea1ff65081f939de4824f8632849b5d4eb87728ef549e0b7e2bc1a2014335a16adb33d546e2',overwrite=True)\n",
    "IBMQ.load_account()\n",
    "provider=IBMQ.get_provider(group='open')\n",
    "print(provider)\n",
    "qcomp = least_busy(provider.backends(simulator=False))\n",
    "print(\"The least busy quantum computer is:\",qcomp)\n",
    "job=execute(qc, backend=qcomp, shots=1000)\n",
    "job_monitor(job)\n",
    "result = job.result()\n",
    "counts = result.get_counts(qc)\n",
    "print(\"Total counts for qubit states are:\",counts)"
   ]
  },
  {
   "cell_type": "code",
   "execution_count": 7,
   "metadata": {},
   "outputs": [
    {
     "name": "stdout",
     "output_type": "stream",
     "text": [
      "     ┌─┐\n",
      "  q: ┤M├\n",
      "     └╥┘\n",
      "c: 1/═╩═\n",
      "      0 \n",
      "Job Status: job has successfully run\n",
      "Total counts for qubit states are: {'0': 997, '1': 3}\n"
     ]
    }
   ],
   "source": [
    "#Program 1.7 Execute quantum circuit (program) on proper quantum computer\n",
    "from qiskit import QuantumCircuit, IBMQ, execute\n",
    "from qiskit.tools.monitor import job_monitor \n",
    "qc = QuantumCircuit(1, 1)\n",
    "qc.measure([0], [0])\n",
    "print(qc)\n",
    "#IBMQ.save_account('......',overwrite=True)\n",
    "#IBMQ.load_account()\n",
    "provider = IBMQ.get_provider(group='open')\n",
    "qcomp = provider.get_backend('ibmq_lima')\n",
    "job=execute(qc, backend=qcomp, shots=1000)\n",
    "job_monitor(job)\n",
    "result = job.result()\n",
    "counts = result.get_counts(qc)\n",
    "print(\"Total counts for qubit states are:\",counts)"
   ]
  }
 ],
 "metadata": {
  "colab": {
   "collapsed_sections": [
    "9hCPccXDgXS5",
    "yY82PcxPsaMS",
    "moujoT2KgkAj",
    "ERqOJy2zhggB",
    "rCCBfABChsqX",
    "QvgrgpgBh34a",
    "IDeHZJawiAkQ",
    "z3Ul6IDOohcf",
    "nC6SNzzDohch",
    "Y5zBsiHVohci",
    "2DxIfbVjohcj",
    "QPzQdnUNohcj",
    "0PlKdTjkJX8Q",
    "I5CMA2JKmuaS",
    "CvZlUoygvW_x",
    "YxVzwIsx24__"
   ],
   "name": "量子程式設計.ipynb",
   "provenance": []
  },
  "hide_input": false,
  "kernelspec": {
   "display_name": "Python 3 (ipykernel)",
   "language": "python",
   "name": "python3"
  },
  "language_info": {
   "codemirror_mode": {
    "name": "ipython",
    "version": 3
   },
   "file_extension": ".py",
   "mimetype": "text/x-python",
   "name": "python",
   "nbconvert_exporter": "python",
   "pygments_lexer": "ipython3",
   "version": "3.10.9"
  },
  "widgets": {
   "application/vnd.jupyter.widget-state+json": {
    "state": {},
    "version_major": 2,
    "version_minor": 0
   }
  }
 },
 "nbformat": 4,
 "nbformat_minor": 4
}
