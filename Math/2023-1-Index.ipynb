{
 "cells": [
  {
   "cell_type": "markdown",
   "id": "e29d0e6f",
   "metadata": {},
   "source": [
    "What do you think about the following:\n",
    "\n",
    "```\n",
    "1 3 5              9\n",
    "1 3 5 7           16    \n",
    "1 3 5 7 9         25\n",
    "1 3 5 7 9 11 13   49 \n",
    "```\n",
    "\n",
    "\n",
    "This fact was discovered by  Andrey Kolmogorov,  when he was  5 years old:\n",
    "    \n",
    "    the sum of the series of secessive odd numbers (from 1) is equal to the square of the median number, (Gauss)\n",
    "    \n",
    "1. In a 1938 paper, Kolmogorov “established the basic theorems for smoothing and predicting stationary stochastic processes” — a paper that had major military applications during the Cold War.  \n",
    "2. During World War II Kolmogorov contributed to the Russian war effort by applying statistical theory to artillery fire, developing a scheme of stochastic distribution of barrage balloons intended to help protect Moscow from German bombers.\n",
    "3. In 1971, Kolmogorov joined an oceanographic expedition aboard the research vessel Dmitri Mendeleev where he solved a numbed of high impact problems.\n",
    "\n",
    "\n",
    "[V.I. Arnolʹd, A. N. Kolmogorov and the natural sciences](https://iopscience.iop.org/article/10.1070/RM2004v059n01ABEH000699/pdf) Uspekhi Mat. Nauk 59 (2004), no. 1(355), 25–44; translation in Russian Math. Surveys 59 (2004), no. 1, 27–46. (p35-36):\n",
    "\n",
    "\n",
    "According to colonel Proektor, out of 4000 airplanes targeting Moscow during eponym battle, only 120 airplanes actually reached and bombed targets over Moscow under the conditions:\n",
    "\n",
    "1. The first one was shell and batteries availability: there was not enough of them for field artillery.\n",
    "2. The second problem they faced was numerous air attacks made by the Luftwaffe againt the cities.\n",
    "\n",
    "Kolmogrov suggested, at 1942,  called a theory of artificial scattering of shells: under certain conditions it is preferable to shoot `at random` rather than `aim`, creating a curtain of shell bursts in the path of the enemy aircraft. The point is that, when trying to hit an individual aircraft, several antiaircraft guns or even a whole battery of guns can choose the same target, and then the nearby enemy aircraft would remain undamaged (if one tries to hit only chosen targets).\n",
    "\n",
    "Is Math interesting, and Real?\n",
    "---\n",
    "Maybe you can answer it by yourseld:\n",
    "\n",
    "$$\n",
    " 3^3+4^4+3^3+ [ ? ] \\Rightarrow 3435\n",
    "$$ \n",
    "\n",
    "  \n",
    "\n",
    "\n",
    "[src](https://valeman.medium.com/andrey-kolmogorov-one-of-the-greatest-mathematicians-of-the-xxst-century-4167ad02d10)"
   ]
  },
  {
   "cell_type": "markdown",
   "id": "543568a1",
   "metadata": {},
   "source": [
    "Here my mail\n",
    "---\n",
    "\n",
    "1. cchuang@mail.cgu.edu.tw\n",
    "2. cchuang2009@gmail.com"
   ]
  },
  {
   "cell_type": "code",
   "execution_count": null,
   "id": "0b5edf91",
   "metadata": {},
   "outputs": [],
   "source": []
  }
 ],
 "metadata": {
  "kernelspec": {
   "display_name": "Python 3 (ipykernel)",
   "language": "python",
   "name": "python3"
  },
  "language_info": {
   "codemirror_mode": {
    "name": "ipython",
    "version": 3
   },
   "file_extension": ".py",
   "mimetype": "text/x-python",
   "name": "python",
   "nbconvert_exporter": "python",
   "pygments_lexer": "ipython3",
   "version": "3.10.9"
  }
 },
 "nbformat": 4,
 "nbformat_minor": 5
}
