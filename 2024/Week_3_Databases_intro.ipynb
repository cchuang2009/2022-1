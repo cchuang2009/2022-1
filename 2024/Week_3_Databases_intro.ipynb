{
 "cells": [
  {
   "cell_type": "markdown",
   "id": "4d1036ed-eb84-4e97-90da-3b6d7b75a984",
   "metadata": {},
   "source": [
    "Databases\n",
    "---\n",
    "It can b treated as `tables`; itcan release the power for suitable statemets, SQL for instance, packages, pandas for instance, and Database, `duckdb` for instance added.\n",
    "\n",
    "References\n",
    "---\n",
    "1. [Pandas](https://towardsdev.com/10-python-pandas-code-snippets-that-solve-tasks-efficiently-55ea4dc7d8b5)"
   ]
  },
  {
   "cell_type": "markdown",
   "id": "c471e9fb-e125-4efa-8c6f-b583b62f6f8a",
   "metadata": {},
   "source": [
    "Prelude\n",
    "---\n",
    "1. get data, [2004JanLayoff.txt](https://github.com/cchuang2009/2022-1/blob/main/2024/data/2004JanLayoff.txt), [Heart Attack](https://github.com/cchuang2009/2022-1/blob/main/2024/data/heart.csv)\n",
    "2. create sub-foloder within the main folder, called `data`, and upload to store the data, but can't used directly\n",
    "3. expand colab right menu, upload the data and used"
   ]
  },
  {
   "cell_type": "code",
   "execution_count": 1,
   "id": "c106b76e-a31c-4b91-800b-a642ff1ebb62",
   "metadata": {},
   "outputs": [],
   "source": [
    "import pandas as db"
   ]
  },
  {
   "cell_type": "code",
   "execution_count": 2,
   "id": "9e7229ad-1ed2-4401-9f2b-10ea958fe38e",
   "metadata": {},
   "outputs": [
    {
     "data": {
      "text/html": [
       "<div><div id=a5d43c5d-2ee9-470b-b8ec-e1912458d3fc style=\"display:none; background-color:#9D6CFF; color:white; width:200px; height:30px; padding-left:5px; border-radius:4px; flex-direction:row; justify-content:space-around; align-items:center;\" onmouseover=\"this.style.backgroundColor='#BA9BF8'\" onmouseout=\"this.style.backgroundColor='#9D6CFF'\" onclick=\"window.commands?.execute('create-mitosheet-from-dataframe-output');\">See Full Dataframe in Mito</div> <script> if (window.commands?.hasCommand('create-mitosheet-from-dataframe-output')) document.getElementById('a5d43c5d-2ee9-470b-b8ec-e1912458d3fc').style.display = 'flex' </script> <table border=\"1\" class=\"dataframe\">\n",
       "  <thead>\n",
       "    <tr style=\"text-align: right;\">\n",
       "      <th></th>\n",
       "      <th>Date</th>\n",
       "      <th>Company</th>\n",
       "      <th>JobsCut</th>\n",
       "      <th>Percent_of_Company_Employees</th>\n",
       "      <th>Industry</th>\n",
       "    </tr>\n",
       "  </thead>\n",
       "  <tbody>\n",
       "    <tr>\n",
       "      <th>40</th>\n",
       "      <td>Jan 23</td>\n",
       "      <td>Brex</td>\n",
       "      <td>282</td>\n",
       "      <td>20%</td>\n",
       "      <td>Finance</td>\n",
       "    </tr>\n",
       "    <tr>\n",
       "      <th>41</th>\n",
       "      <td>Jan 23</td>\n",
       "      <td>Vroom</td>\n",
       "      <td>800</td>\n",
       "      <td>80%</td>\n",
       "      <td>Transport</td>\n",
       "    </tr>\n",
       "  </tbody>\n",
       "</table></div>"
      ],
      "text/plain": [
       "      Date Company  JobsCut Percent_of_Company_Employees   Industry\n",
       "40  Jan 23    Brex      282                          20%    Finance\n",
       "41  Jan 23   Vroom      800                          80%  Transport"
      ]
     },
     "execution_count": 2,
     "metadata": {},
     "output_type": "execute_result"
    }
   ],
   "source": [
    "# histoical list of layouts in Janaury, 2025\n",
    "# 1. https://www.visualcapitalist.com/all-the-major-tech-layoffs-in-2024-so-far/\n",
    "# 2.  https://www.visualcapitalist.com/all-the-major-tech-layoffs-in-2024-so-far\n",
    "# manulapated by chapgpt, blank(s) replced by ','\n",
    "\n",
    "\n",
    "df=pd.read_csv(\"data/2004JanLayoff.txt\",skiprows=1)\n",
    "df.tail(2)"
   ]
  },
  {
   "cell_type": "code",
   "execution_count": 8,
   "id": "c1e8102e-72e9-4ab3-96cc-144a8bc445c0",
   "metadata": {},
   "outputs": [
    {
     "name": "stdout",
     "output_type": "stream",
     "text": [
      "<class 'pandas.core.frame.DataFrame'>\n",
      "RangeIndex: 42 entries, 0 to 41\n",
      "Data columns (total 5 columns):\n",
      " #   Column                        Non-Null Count  Dtype \n",
      "---  ------                        --------------  ----- \n",
      " 0   Date                          42 non-null     object\n",
      " 1   Company                       42 non-null     object\n",
      " 2   JobsCut                       42 non-null     int64 \n",
      " 3   Percent_of_Company_Employees  29 non-null     object\n",
      " 4   Industry                      42 non-null     object\n",
      "dtypes: int64(1), object(4)\n",
      "memory usage: 1.8+ KB\n"
     ]
    }
   ],
   "source": [
    "# total 42 but 13 shorts in Percent_of_Company_Employees feature\n",
    "df.info()"
   ]
  },
  {
   "cell_type": "code",
   "execution_count": 23,
   "id": "f2f7f1a3-edae-47a5-b19c-9c4993c0a11e",
   "metadata": {},
   "outputs": [
    {
     "data": {
      "text/html": [
       "<div><div id=e0d251a1-11ee-410a-bd6b-62d5522d2608 style=\"display:none; background-color:#9D6CFF; color:white; width:200px; height:30px; padding-left:5px; border-radius:4px; flex-direction:row; justify-content:space-around; align-items:center;\" onmouseover=\"this.style.backgroundColor='#BA9BF8'\" onmouseout=\"this.style.backgroundColor='#9D6CFF'\" onclick=\"window.commands?.execute('create-mitosheet-from-dataframe-output');\">See Full Dataframe in Mito</div> <script> if (window.commands?.hasCommand('create-mitosheet-from-dataframe-output')) document.getElementById('e0d251a1-11ee-410a-bd6b-62d5522d2608').style.display = 'flex' </script> <table border=\"1\" class=\"dataframe\">\n",
       "  <thead>\n",
       "    <tr style=\"text-align: right;\">\n",
       "      <th></th>\n",
       "      <th>JobsCut</th>\n",
       "    </tr>\n",
       "  </thead>\n",
       "  <tbody>\n",
       "    <tr>\n",
       "      <th>count</th>\n",
       "      <td>42.000000</td>\n",
       "    </tr>\n",
       "    <tr>\n",
       "      <th>mean</th>\n",
       "      <td>286.595238</td>\n",
       "    </tr>\n",
       "    <tr>\n",
       "      <th>std</th>\n",
       "      <td>426.206869</td>\n",
       "    </tr>\n",
       "    <tr>\n",
       "      <th>min</th>\n",
       "      <td>10.000000</td>\n",
       "    </tr>\n",
       "    <tr>\n",
       "      <th>25%</th>\n",
       "      <td>60.000000</td>\n",
       "    </tr>\n",
       "    <tr>\n",
       "      <th>50%</th>\n",
       "      <td>96.500000</td>\n",
       "    </tr>\n",
       "    <tr>\n",
       "      <th>75%</th>\n",
       "      <td>300.000000</td>\n",
       "    </tr>\n",
       "    <tr>\n",
       "      <th>max</th>\n",
       "      <td>1800.000000</td>\n",
       "    </tr>\n",
       "  </tbody>\n",
       "</table></div>"
      ],
      "text/plain": [
       "           JobsCut\n",
       "count    42.000000\n",
       "mean    286.595238\n",
       "std     426.206869\n",
       "min      10.000000\n",
       "25%      60.000000\n",
       "50%      96.500000\n",
       "75%     300.000000\n",
       "max    1800.000000"
      ]
     },
     "execution_count": 23,
     "metadata": {},
     "output_type": "execute_result"
    }
   ],
   "source": [
    "# only `'JobsCut' is in integer format (numeric type)\n",
    "df.describe()"
   ]
  },
  {
   "cell_type": "code",
   "execution_count": 15,
   "id": "7d624861-2231-4cab-a6d6-31540016b0ee",
   "metadata": {},
   "outputs": [
    {
     "data": {
      "text/plain": [
       "Date                            16\n",
       "Company                         42\n",
       "JobsCut                         34\n",
       "Percent_of_Company_Employees    19\n",
       "Industry                        15\n",
       "dtype: int64"
      ]
     },
     "execution_count": 15,
     "metadata": {},
     "output_type": "execute_result"
    }
   ],
   "source": [
    "df.nunique()"
   ]
  },
  {
   "cell_type": "code",
   "execution_count": 3,
   "id": "c017f579-fcb6-48b5-a100-45886890ebf4",
   "metadata": {},
   "outputs": [
    {
     "data": {
      "text/plain": [
       "Industry\n",
       "Consumer      9\n",
       "Healthcare    6\n",
       "Retail        6\n",
       "Other         3\n",
       "Media         3\n",
       "Energy        2\n",
       "Logistics     2\n",
       "Transport     2\n",
       "Data          2\n",
       "Finance       2\n",
       "Security      1\n",
       "Travel        1\n",
       "Hardware      1\n",
       "Marketing     1\n",
       "Food          1\n",
       "Name: count, dtype: int64"
      ]
     },
     "execution_count": 3,
     "metadata": {},
     "output_type": "execute_result"
    }
   ],
   "source": [
    "df['Industry'].value_counts()"
   ]
  },
  {
   "cell_type": "markdown",
   "id": "be8c34cc-548c-4942-92c8-8459d60ce921",
   "metadata": {},
   "source": [
    "Basics of pandas\n",
    "---\n",
    "1. Remove Cows: ` df.dropna(replac=True)`\n",
    "2. Selection: `df.select_dtypes(include=['int', 'float']).columns\n",
    "3. Filter Rows with Conditions:\n",
    "   ```\n",
    "   > df[(condition 1) & (condition 2]\n",
    "   ```\n",
    "4. Convert String Column to DateTime:\n",
    "   ```\n",
    "   > pd.to_datetime(df['Date'], format='%Y-%m-%d')\n",
    "   ```\n",
    "5. Calculate Row-wise Sum: `df['Total'] = df.iloc[:, 2].sum(axis=1)`\n",
    "6. Merge DataFrames on a Specific Column:\n",
    "   ```\n",
    "   > merged_df = pd.merge(df1, other_df2, on='feature', how='left')\n",
    "   ```\n",
    "7. Apply a fynction:\n",
    "   ```\n",
    "   > df['Date']=df['Date'].apply(lambda x: convert(x))\n",
    "\n",
    "   ```\n",
    "8. Create Dummy Variables:\n",
    "   ```\n",
    "   > df_dummies = pd.get_dummies(df['Department'], prefix='Department')\n",
    "   ```\n",
    "9. Group by and Aggregate with Multiple Functions:\n",
    "   ```\n",
    "   > grouped_df = df.groupby('Industry').agg({'JobsCut': ['sum','sum']})\n",
    "   ```\n",
    "10. Reshape DataFrame with Melt:\n",
    "   ```\n",
    "   \n"
   ]
  },
  {
   "cell_type": "code",
   "execution_count": 4,
   "id": "da0c6aa4-b757-4c6b-973f-60002c1bb74d",
   "metadata": {},
   "outputs": [
    {
     "data": {
      "text/plain": [
       "['JobsCut']"
      ]
     },
     "execution_count": 4,
     "metadata": {},
     "output_type": "execute_result"
    }
   ],
   "source": [
    "#2 Find the numerical column\n",
    "\n",
    "list(df.select_dtypes(include=['int', 'float']).columns)"
   ]
  },
  {
   "cell_type": "code",
   "execution_count": 5,
   "id": "44b3aca5-5991-4252-b413-fbc39a27f59e",
   "metadata": {},
   "outputs": [
    {
     "data": {
      "text/html": [
       "<div><div id=84e4177d-d3db-4ed7-8643-815b625c2ca5 style=\"display:none; background-color:#9D6CFF; color:white; width:200px; height:30px; padding-left:5px; border-radius:4px; flex-direction:row; justify-content:space-around; align-items:center;\" onmouseover=\"this.style.backgroundColor='#BA9BF8'\" onmouseout=\"this.style.backgroundColor='#9D6CFF'\" onclick=\"window.commands?.execute('create-mitosheet-from-dataframe-output');\">See Full Dataframe in Mito</div> <script> if (window.commands?.hasCommand('create-mitosheet-from-dataframe-output')) document.getElementById('84e4177d-d3db-4ed7-8643-815b625c2ca5').style.display = 'flex' </script> <table border=\"1\" class=\"dataframe\">\n",
       "  <thead>\n",
       "    <tr style=\"text-align: right;\">\n",
       "      <th></th>\n",
       "      <th>Date</th>\n",
       "      <th>Company</th>\n",
       "      <th>JobsCut</th>\n",
       "      <th>Percent_of_Company_Employees</th>\n",
       "      <th>Industry</th>\n",
       "    </tr>\n",
       "  </thead>\n",
       "  <tbody>\n",
       "    <tr>\n",
       "      <th>11</th>\n",
       "      <td>Jan 08</td>\n",
       "      <td>Flipkart</td>\n",
       "      <td>1100</td>\n",
       "      <td>5%</td>\n",
       "      <td>Retail</td>\n",
       "    </tr>\n",
       "    <tr>\n",
       "      <th>12</th>\n",
       "      <td>Jan 08</td>\n",
       "      <td>Unity</td>\n",
       "      <td>1800</td>\n",
       "      <td>25%</td>\n",
       "      <td>Other</td>\n",
       "    </tr>\n",
       "    <tr>\n",
       "      <th>22</th>\n",
       "      <td>Jan 10</td>\n",
       "      <td>Google</td>\n",
       "      <td>1000</td>\n",
       "      <td>0.5%</td>\n",
       "      <td>Consumer</td>\n",
       "    </tr>\n",
       "    <tr>\n",
       "      <th>36</th>\n",
       "      <td>Jan 19</td>\n",
       "      <td>Wayfair</td>\n",
       "      <td>1650</td>\n",
       "      <td>13%</td>\n",
       "      <td>Retail</td>\n",
       "    </tr>\n",
       "  </tbody>\n",
       "</table></div>"
      ],
      "text/plain": [
       "      Date   Company  JobsCut Percent_of_Company_Employees  Industry\n",
       "11  Jan 08  Flipkart     1100                           5%    Retail\n",
       "12  Jan 08     Unity     1800                          25%     Other\n",
       "22  Jan 10    Google     1000                         0.5%  Consumer\n",
       "36  Jan 19   Wayfair     1650                          13%    Retail"
      ]
     },
     "execution_count": 5,
     "metadata": {},
     "output_type": "execute_result"
    }
   ],
   "source": [
    "# 3 the worse comapnies\n",
    "\n",
    "df[df['JobsCut']>=1000]"
   ]
  },
  {
   "cell_type": "code",
   "execution_count": 38,
   "id": "50af097c-d568-4b35-a706-d3ba263585fa",
   "metadata": {},
   "outputs": [
    {
     "data": {
      "text/plain": [
       "0    Jan 02\n",
       "1    Jan 02\n",
       "Name: Date, dtype: object"
      ]
     },
     "execution_count": 38,
     "metadata": {},
     "output_type": "execute_result"
    }
   ],
   "source": [
    "#pd.to_datetime(df['Date'], format='2024-%m-%d')\n",
    "df['Date'][:][:2]"
   ]
  },
  {
   "cell_type": "code",
   "execution_count": 7,
   "id": "318f6faf-ff64-44f8-bbb4-c17b7a677c76",
   "metadata": {},
   "outputs": [
    {
     "name": "stdout",
     "output_type": "stream",
     "text": [
      "<class 'pandas.core.frame.DataFrame'>\n",
      "RangeIndex: 42 entries, 0 to 41\n",
      "Data columns (total 5 columns):\n",
      " #   Column                        Non-Null Count  Dtype \n",
      "---  ------                        --------------  ----- \n",
      " 0   Date                          42 non-null     object\n",
      " 1   Company                       42 non-null     object\n",
      " 2   JobsCut                       42 non-null     int64 \n",
      " 3   Percent_of_Company_Employees  29 non-null     object\n",
      " 4   Industry                      42 non-null     object\n",
      "dtypes: int64(1), object(4)\n",
      "memory usage: 1.8+ KB\n"
     ]
    }
   ],
   "source": [
    "# 7\n",
    "def convert(x):\n",
    "   return '2024-01-'+x[-2:]\n",
    "df['Date']=df['Date'].apply(lambda x: convert(x))\n",
    "df.info()"
   ]
  },
  {
   "cell_type": "code",
   "execution_count": 8,
   "id": "4fed8882-a319-44f0-a7a4-2f5aab0027af",
   "metadata": {},
   "outputs": [
    {
     "data": {
      "text/plain": [
       "Date                            datetime64[ns]\n",
       "Company                                 object\n",
       "JobsCut                                  int64\n",
       "Percent_of_Company_Employees            object\n",
       "Industry                                object\n",
       "dtype: object"
      ]
     },
     "execution_count": 8,
     "metadata": {},
     "output_type": "execute_result"
    }
   ],
   "source": [
    "df['Date']=pd.to_datetime(df['Date'])\n",
    "df.dtypes"
   ]
  },
  {
   "cell_type": "code",
   "execution_count": 9,
   "id": "43abb3b9-e2e4-4f1d-b0f2-c7a30e9bab3a",
   "metadata": {},
   "outputs": [
    {
     "name": "stdout",
     "output_type": "stream",
     "text": [
      "           JobsCut\n",
      "               sum\n",
      "Industry          \n",
      "Consumer      3350\n",
      "Data           360\n",
      "Energy        1054\n",
      "Finance        367\n",
      "Food            60\n",
      "Hardware        10\n",
      "Healthcare     400\n",
      "Logistics      139\n",
      "Marketing      125\n",
      "Media          224\n",
      "Other         1893\n",
      "Retail        2947\n",
      "Security        60\n",
      "Transport      848\n",
      "Travel         200\n"
     ]
    }
   ],
   "source": [
    "# 9 summary of layout for each field\n",
    "grouped_df = df.groupby('Industry').agg({'JobsCut': ['sum']})\n",
    "print(grouped_df)"
   ]
  },
  {
   "cell_type": "code",
   "execution_count": 10,
   "id": "fe61181c-7976-481a-b179-488b7109884e",
   "metadata": {},
   "outputs": [
    {
     "data": {
      "text/html": [
       "<div><div id=37dfe7f6-b1e2-41e5-9cb7-46cd24aa406f style=\"display:none; background-color:#9D6CFF; color:white; width:200px; height:30px; padding-left:5px; border-radius:4px; flex-direction:row; justify-content:space-around; align-items:center;\" onmouseover=\"this.style.backgroundColor='#BA9BF8'\" onmouseout=\"this.style.backgroundColor='#9D6CFF'\" onclick=\"window.commands?.execute('create-mitosheet-from-dataframe-output');\">See Full Dataframe in Mito</div> <script> if (window.commands?.hasCommand('create-mitosheet-from-dataframe-output')) document.getElementById('37dfe7f6-b1e2-41e5-9cb7-46cd24aa406f').style.display = 'flex' </script> <table border=\"1\" class=\"dataframe\">\n",
       "  <thead>\n",
       "    <tr style=\"text-align: right;\">\n",
       "      <th></th>\n",
       "      <th>Company</th>\n",
       "      <th>Layout</th>\n",
       "      <th>Total</th>\n",
       "    </tr>\n",
       "  </thead>\n",
       "  <tbody>\n",
       "    <tr>\n",
       "      <th>0</th>\n",
       "      <td>The Messenger</td>\n",
       "      <td>JobsCut</td>\n",
       "      <td>24</td>\n",
       "    </tr>\n",
       "    <tr>\n",
       "      <th>1</th>\n",
       "      <td>FrontDesk</td>\n",
       "      <td>JobsCut</td>\n",
       "      <td>200</td>\n",
       "    </tr>\n",
       "    <tr>\n",
       "      <th>2</th>\n",
       "      <td>Orca Security</td>\n",
       "      <td>JobsCut</td>\n",
       "      <td>60</td>\n",
       "    </tr>\n",
       "    <tr>\n",
       "      <th>3</th>\n",
       "      <td>Lazada Group</td>\n",
       "      <td>JobsCut</td>\n",
       "      <td>100</td>\n",
       "    </tr>\n",
       "    <tr>\n",
       "      <th>4</th>\n",
       "      <td>Trigo</td>\n",
       "      <td>JobsCut</td>\n",
       "      <td>30</td>\n",
       "    </tr>\n",
       "    <tr>\n",
       "      <th>...</th>\n",
       "      <td>...</td>\n",
       "      <td>...</td>\n",
       "      <td>...</td>\n",
       "    </tr>\n",
       "    <tr>\n",
       "      <th>37</th>\n",
       "      <td>SolarEdge</td>\n",
       "      <td>JobsCut</td>\n",
       "      <td>900</td>\n",
       "    </tr>\n",
       "    <tr>\n",
       "      <th>38</th>\n",
       "      <td>Riot Games</td>\n",
       "      <td>JobsCut</td>\n",
       "      <td>530</td>\n",
       "    </tr>\n",
       "    <tr>\n",
       "      <th>39</th>\n",
       "      <td>TikTok</td>\n",
       "      <td>JobsCut</td>\n",
       "      <td>60</td>\n",
       "    </tr>\n",
       "    <tr>\n",
       "      <th>40</th>\n",
       "      <td>Brex</td>\n",
       "      <td>JobsCut</td>\n",
       "      <td>282</td>\n",
       "    </tr>\n",
       "    <tr>\n",
       "      <th>41</th>\n",
       "      <td>Vroom</td>\n",
       "      <td>JobsCut</td>\n",
       "      <td>800</td>\n",
       "    </tr>\n",
       "  </tbody>\n",
       "</table></div>"
      ],
      "text/plain": [
       "            Company   Layout  Total\n",
       "0     The Messenger  JobsCut     24\n",
       "1         FrontDesk  JobsCut    200\n",
       "2     Orca Security  JobsCut     60\n",
       "3      Lazada Group  JobsCut    100\n",
       "4             Trigo  JobsCut     30\n",
       "5        Cue Health  JobsCut     94\n",
       "6   NanoString Tech  JobsCut     50\n",
       "7          BenchSci  JobsCut     70\n",
       "8             Pitch  JobsCut     80\n",
       "9             Flexe  JobsCut     99\n",
       "10    NuScale Power  JobsCut    154\n",
       "11         Flipkart  JobsCut   1100\n",
       "12            Unity  JobsCut   1800\n",
       "13           Humane  JobsCut     10\n",
       "14  Rent the Runway  JobsCut     37\n",
       "15     Uber Freight  JobsCut     40\n",
       "16            Nevro  JobsCut     63\n",
       "17           Branch  JobsCut     85\n",
       "18           Twitch  JobsCut    500\n",
       "19        Instagram  JobsCut     60\n",
       "20     BeamBenefits  JobsCut     74\n",
       "21              IAC  JobsCut    330\n",
       "22           Google  JobsCut   1000\n",
       "23          Sisense  JobsCut     60\n",
       "24          Audible  JobsCut    100\n",
       "25           Inmobi  JobsCut    125\n",
       "26          Discord  JobsCut    170\n",
       "27         Playtika  JobsCut    300\n",
       "28      New Work SE  JobsCut    400\n",
       "29          GrabCAD  JobsCut     13\n",
       "30            Veeam  JobsCut    300\n",
       "31       First Mode  JobsCut     48\n",
       "32       SonderMind  JobsCut     49\n",
       "33          Sirplus  JobsCut     60\n",
       "34          YouTube  JobsCut    100\n",
       "35           Amazon  JobsCut     30\n",
       "36          Wayfair  JobsCut   1650\n",
       "37        SolarEdge  JobsCut    900\n",
       "38       Riot Games  JobsCut    530\n",
       "39           TikTok  JobsCut     60\n",
       "40             Brex  JobsCut    282\n",
       "41            Vroom  JobsCut    800"
      ]
     },
     "execution_count": 10,
     "metadata": {},
     "output_type": "execute_result"
    }
   ],
   "source": [
    "#10 \n",
    "melted_df = pd.melt(df, id_vars=['Company'], value_vars=['JobsCut'], var_name='Layout', value_name='Total')\n",
    "melted_df"
   ]
  },
  {
   "cell_type": "code",
   "execution_count": 13,
   "id": "aefc70f1-70c1-4322-a420-292da82eb3ef",
   "metadata": {},
   "outputs": [],
   "source": [
    "import seaborn as sns\n",
    "import matplotlib.pyplot as plt\n",
    "\n",
    "%matplotlib inline"
   ]
  },
  {
   "cell_type": "markdown",
   "id": "10227b9f-d3d1-4408-b35d-b727bd41a1a3",
   "metadata": {},
   "source": [
    "plt.figure(figsize=(8,4))\n",
    "sns.set_style(\"white\")\n",
    "# previous sns.distplot will be depreciates since 0.14\n",
    "sns.histplot(melted_df['Total'],\n",
    "             color='red',\n",
    "             kde=True)\n",
    "\n",
    "plt.title(\"Distribution of Layoff Positions\",fontsize=20)\n",
    "plt.xlabel(\"Layoff\",fontsize=16)\n",
    "plt.ylabel(\"Count\",fontsize=16)"
   ]
  },
  {
   "cell_type": "markdown",
   "id": "0541c778-97d7-4736-8e58-612ff4767732",
   "metadata": {},
   "source": [
    "Second Example, Visualization\n",
    "---\n",
    "A picture is better than one thousand words!\n",
    "\n",
    "General kinds of visualization include the following:\n",
    "- Bar charts: Used to show comparisons between different categories.\n",
    "- Line charts: Used to show trends over time or across different categories.\n",
    "- Pie charts: Used to show proportions or percentages of different categories.\n",
    "- Histograms: Used to show the distribution of a single variable.\n",
    "- Heatmaps: Used to show the correlation between different variables.\n",
    "- Scatter plots: Used to show the relationship between two continuous variables.\n",
    "\n",
    "[Dataset, Heart Attack data from Kaggle]()"
   ]
  },
  {
   "cell_type": "code",
   "execution_count": 20,
   "id": "a36e372c-8b9f-4120-8b89-4b7dd188effa",
   "metadata": {},
   "outputs": [],
   "source": [
    "# import libraries\n",
    "import pandas as pd\n",
    "import numpy as np\n",
    "\n",
    "# data visualization\n",
    "import matplotlib.pyplot as plt\n",
    "import seaborn as sns\n"
   ]
  },
  {
   "cell_type": "code",
   "execution_count": 22,
   "id": "578244d4-8b8b-4edf-a564-3140ca5b46db",
   "metadata": {},
   "outputs": [],
   "source": [
    "heart = pd.read_csv('data/heart.csv')"
   ]
  },
  {
   "cell_type": "code",
   "execution_count": 23,
   "id": "4f0161c5-6863-4bc9-9a86-7346a0fd32b0",
   "metadata": {},
   "outputs": [
    {
     "data": {
      "text/plain": [
       "age         0\n",
       "sex         0\n",
       "cp          0\n",
       "trtbps      0\n",
       "chol        0\n",
       "fbs         0\n",
       "restecg     0\n",
       "thalachh    0\n",
       "exng        0\n",
       "oldpeak     0\n",
       "slp         0\n",
       "caa         0\n",
       "thall       0\n",
       "output      0\n",
       "dtype: int64"
      ]
     },
     "execution_count": 23,
     "metadata": {},
     "output_type": "execute_result"
    }
   ],
   "source": [
    "# check if there are any Null values\n",
    "heart.isnull().sum().sort_values(ascending=False)"
   ]
  },
  {
   "cell_type": "code",
   "execution_count": 24,
   "id": "af60952e-3e2a-4571-9da9-fa2e3ec2558c",
   "metadata": {},
   "outputs": [
    {
     "data": {
      "text/plain": [
       "1"
      ]
     },
     "execution_count": 24,
     "metadata": {},
     "output_type": "execute_result"
    }
   ],
   "source": [
    "# check duplicated values: no missing value\n",
    "heart.duplicated().sum()"
   ]
  },
  {
   "cell_type": "code",
   "execution_count": 25,
   "id": "f959f63f-3a07-4bbc-9c86-36c55493e1a7",
   "metadata": {},
   "outputs": [
    {
     "data": {
      "text/html": [
       "<div><div id=735986ad-6dbf-4fea-b0bd-40624f28d801 style=\"display:none; background-color:#9D6CFF; color:white; width:200px; height:30px; padding-left:5px; border-radius:4px; flex-direction:row; justify-content:space-around; align-items:center;\" onmouseover=\"this.style.backgroundColor='#BA9BF8'\" onmouseout=\"this.style.backgroundColor='#9D6CFF'\" onclick=\"window.commands?.execute('create-mitosheet-from-dataframe-output');\">See Full Dataframe in Mito</div> <script> if (window.commands?.hasCommand('create-mitosheet-from-dataframe-output')) document.getElementById('735986ad-6dbf-4fea-b0bd-40624f28d801').style.display = 'flex' </script> <table border=\"1\" class=\"dataframe\">\n",
       "  <thead>\n",
       "    <tr style=\"text-align: right;\">\n",
       "      <th></th>\n",
       "      <th>count</th>\n",
       "      <th>mean</th>\n",
       "      <th>std</th>\n",
       "      <th>min</th>\n",
       "      <th>25%</th>\n",
       "      <th>50%</th>\n",
       "      <th>75%</th>\n",
       "      <th>max</th>\n",
       "    </tr>\n",
       "  </thead>\n",
       "  <tbody>\n",
       "    <tr>\n",
       "      <th>age</th>\n",
       "      <td>303.0</td>\n",
       "      <td>54.366337</td>\n",
       "      <td>9.082101</td>\n",
       "      <td>29.0</td>\n",
       "      <td>47.5</td>\n",
       "      <td>55.0</td>\n",
       "      <td>61.0</td>\n",
       "      <td>77.0</td>\n",
       "    </tr>\n",
       "    <tr>\n",
       "      <th>sex</th>\n",
       "      <td>303.0</td>\n",
       "      <td>0.683168</td>\n",
       "      <td>0.466011</td>\n",
       "      <td>0.0</td>\n",
       "      <td>0.0</td>\n",
       "      <td>1.0</td>\n",
       "      <td>1.0</td>\n",
       "      <td>1.0</td>\n",
       "    </tr>\n",
       "    <tr>\n",
       "      <th>cp</th>\n",
       "      <td>303.0</td>\n",
       "      <td>0.966997</td>\n",
       "      <td>1.032052</td>\n",
       "      <td>0.0</td>\n",
       "      <td>0.0</td>\n",
       "      <td>1.0</td>\n",
       "      <td>2.0</td>\n",
       "      <td>3.0</td>\n",
       "    </tr>\n",
       "    <tr>\n",
       "      <th>trtbps</th>\n",
       "      <td>303.0</td>\n",
       "      <td>131.623762</td>\n",
       "      <td>17.538143</td>\n",
       "      <td>94.0</td>\n",
       "      <td>120.0</td>\n",
       "      <td>130.0</td>\n",
       "      <td>140.0</td>\n",
       "      <td>200.0</td>\n",
       "    </tr>\n",
       "    <tr>\n",
       "      <th>chol</th>\n",
       "      <td>303.0</td>\n",
       "      <td>246.264026</td>\n",
       "      <td>51.830751</td>\n",
       "      <td>126.0</td>\n",
       "      <td>211.0</td>\n",
       "      <td>240.0</td>\n",
       "      <td>274.5</td>\n",
       "      <td>564.0</td>\n",
       "    </tr>\n",
       "    <tr>\n",
       "      <th>...</th>\n",
       "      <td>...</td>\n",
       "      <td>...</td>\n",
       "      <td>...</td>\n",
       "      <td>...</td>\n",
       "      <td>...</td>\n",
       "      <td>...</td>\n",
       "      <td>...</td>\n",
       "      <td>...</td>\n",
       "    </tr>\n",
       "    <tr>\n",
       "      <th>oldpeak</th>\n",
       "      <td>303.0</td>\n",
       "      <td>1.039604</td>\n",
       "      <td>1.161075</td>\n",
       "      <td>0.0</td>\n",
       "      <td>0.0</td>\n",
       "      <td>0.8</td>\n",
       "      <td>1.6</td>\n",
       "      <td>6.2</td>\n",
       "    </tr>\n",
       "    <tr>\n",
       "      <th>slp</th>\n",
       "      <td>303.0</td>\n",
       "      <td>1.399340</td>\n",
       "      <td>0.616226</td>\n",
       "      <td>0.0</td>\n",
       "      <td>1.0</td>\n",
       "      <td>1.0</td>\n",
       "      <td>2.0</td>\n",
       "      <td>2.0</td>\n",
       "    </tr>\n",
       "    <tr>\n",
       "      <th>caa</th>\n",
       "      <td>303.0</td>\n",
       "      <td>0.729373</td>\n",
       "      <td>1.022606</td>\n",
       "      <td>0.0</td>\n",
       "      <td>0.0</td>\n",
       "      <td>0.0</td>\n",
       "      <td>1.0</td>\n",
       "      <td>4.0</td>\n",
       "    </tr>\n",
       "    <tr>\n",
       "      <th>thall</th>\n",
       "      <td>303.0</td>\n",
       "      <td>2.313531</td>\n",
       "      <td>0.612277</td>\n",
       "      <td>0.0</td>\n",
       "      <td>2.0</td>\n",
       "      <td>2.0</td>\n",
       "      <td>3.0</td>\n",
       "      <td>3.0</td>\n",
       "    </tr>\n",
       "    <tr>\n",
       "      <th>output</th>\n",
       "      <td>303.0</td>\n",
       "      <td>0.544554</td>\n",
       "      <td>0.498835</td>\n",
       "      <td>0.0</td>\n",
       "      <td>0.0</td>\n",
       "      <td>1.0</td>\n",
       "      <td>1.0</td>\n",
       "      <td>1.0</td>\n",
       "    </tr>\n",
       "  </tbody>\n",
       "</table></div>"
      ],
      "text/plain": [
       "          count        mean        std    min    25%    50%    75%    max\n",
       "age       303.0   54.366337   9.082101   29.0   47.5   55.0   61.0   77.0\n",
       "sex       303.0    0.683168   0.466011    0.0    0.0    1.0    1.0    1.0\n",
       "cp        303.0    0.966997   1.032052    0.0    0.0    1.0    2.0    3.0\n",
       "trtbps    303.0  131.623762  17.538143   94.0  120.0  130.0  140.0  200.0\n",
       "chol      303.0  246.264026  51.830751  126.0  211.0  240.0  274.5  564.0\n",
       "fbs       303.0    0.148515   0.356198    0.0    0.0    0.0    0.0    1.0\n",
       "restecg   303.0    0.528053   0.525860    0.0    0.0    1.0    1.0    2.0\n",
       "thalachh  303.0  149.646865  22.905161   71.0  133.5  153.0  166.0  202.0\n",
       "exng      303.0    0.326733   0.469794    0.0    0.0    0.0    1.0    1.0\n",
       "oldpeak   303.0    1.039604   1.161075    0.0    0.0    0.8    1.6    6.2\n",
       "slp       303.0    1.399340   0.616226    0.0    1.0    1.0    2.0    2.0\n",
       "caa       303.0    0.729373   1.022606    0.0    0.0    0.0    1.0    4.0\n",
       "thall     303.0    2.313531   0.612277    0.0    2.0    2.0    3.0    3.0\n",
       "output    303.0    0.544554   0.498835    0.0    0.0    1.0    1.0    1.0"
      ]
     },
     "execution_count": 25,
     "metadata": {},
     "output_type": "execute_result"
    }
   ],
   "source": [
    "# getting the statistical summary of dataset\n",
    "heart.describe().T"
   ]
  },
  {
   "cell_type": "code",
   "execution_count": 27,
   "id": "530a09c2-d5f4-44e5-9c3b-6aabaab06f40",
   "metadata": {},
   "outputs": [
    {
     "data": {
      "text/plain": [
       "(array([0, 1]), [Text(0, 0, '0'), Text(1, 0, '1')])"
      ]
     },
     "execution_count": 27,
     "metadata": {},
     "output_type": "execute_result"
    },
    {
     "data": {
      "image/png": "[encoded data removed]",
      "text/plain": [
       "<Figure size 600x600 with 1 Axes>"
      ]
     },
     "metadata": {},
     "output_type": "display_data"
    }
   ],
   "source": [
    "# Compare Heart Attack vs Sex \n",
    "df = pd.crosstab(heart['output'],heart['sex'])\n",
    "sns.set_style(\"white\")\n",
    "\n",
    "df.plot(kind=\"bar\",\n",
    "        figsize=(6,6),\n",
    "        color=['#c64343', '#e1d3c1']);\n",
    "\n",
    "plt.title(\"Heart Attack Risk vs Sex \", fontsize=16)\n",
    "plt.xlabel(\"Lower Risk                   Higher Risk\", fontsize=16)\n",
    "plt.ylabel(\"Amount\", fontsize=16)\n",
    "plt.legend([\"Female\",\"Male\"], fontsize=14)\n",
    "plt.xticks(rotation=0)"
   ]
  },
  {
   "cell_type": "code",
   "execution_count": 73,
   "id": "e205d798-8de4-4e15-9f87-bd0ec22cb914",
   "metadata": {},
   "outputs": [],
   "source": [
    "# plotly\n",
    "import plotly.express as px\n",
    "import plotly.graph_objects as go\n",
    "from plotly.subplots import make_subplots"
   ]
  },
  {
   "cell_type": "code",
   "execution_count": null,
   "id": "f1335fc1-df2f-4986-958d-2650e6399507",
   "metadata": {},
   "outputs": [],
   "source": []
  },
  {
   "cell_type": "code",
   "execution_count": 75,
   "id": "af8527c3-840c-4011-9a30-98b1e9370a87",
   "metadata": {},
   "outputs": [
    {
     "data": {
      "application/vnd.plotly.v1+json": {
       "config": {
        "plotlyServerURL": "https://plot.ly"
       },
       "data": [
        {
         "domain": {
          "x": [
           0,
           1
          ],
          "y": [
           0,
           1
          ]
         },
         "hole": 0.6,
         "hovertemplate": "sex=%{label}<extra></extra>",
         "labels": [
          1,
          1,
          0,
          1,
          0,
          1,
          0,
          1,
          1,
          1,
          1,
          0,
          1,
          1,
          0,
          0,
          0,
          0,
          1,
          0,
          1,
          1,
          1,
          1,
          1,
          0,
          1,
          1,
          0,
          1,
          0,
          1,
          1,
          1,
          1,
          0,
          0,
          1,
          0,
          0,
          0,
          1,
          1,
          0,
          1,
          1,
          1,
          1,
          0,
          0,
          0,
          1,
          1,
          0,
          0,
          1,
          1,
          1,
          1,
          0,
          0,
          1,
          1,
          1,
          1,
          0,
          1,
          0,
          1,
          0,
          1,
          1,
          1,
          1,
          0,
          0,
          1,
          1,
          1,
          1,
          1,
          1,
          0,
          1,
          0,
          0,
          1,
          1,
          0,
          0,
          1,
          1,
          1,
          0,
          0,
          1,
          0,
          1,
          1,
          1,
          1,
          1,
          0,
          1,
          1,
          0,
          1,
          0,
          0,
          0,
          0,
          1,
          0,
          1,
          1,
          0,
          1,
          1,
          0,
          0,
          0,
          1,
          0,
          0,
          0,
          0,
          1,
          0,
          0,
          0,
          0,
          0,
          1,
          1,
          0,
          0,
          0,
          1,
          1,
          1,
          0,
          1,
          0,
          0,
          0,
          1,
          0,
          0,
          1,
          1,
          1,
          0,
          1,
          0,
          0,
          0,
          1,
          1,
          1,
          1,
          1,
          0,
          1,
          1,
          1,
          1,
          1,
          0,
          1,
          1,
          1,
          1,
          1,
          1,
          1,
          1,
          1,
          1,
          1,
          1,
          1,
          0,
          0,
          1,
          1,
          1,
          1,
          1,
          1,
          1,
          0,
          1,
          1,
          1,
          1,
          1,
          1,
          1,
          1,
          1,
          1,
          1,
          1,
          1,
          0,
          1,
          1,
          0,
          1,
          1,
          1,
          1,
          1,
          0,
          1,
          0,
          0,
          1,
          1,
          1,
          0,
          1,
          1,
          0,
          1,
          1,
          1,
          1,
          1,
          1,
          1,
          1,
          1,
          1,
          1,
          1,
          1,
          1,
          1,
          1,
          1,
          0,
          1,
          1,
          1,
          1,
          0,
          1,
          1,
          1,
          1,
          1,
          0,
          1,
          1,
          1,
          1,
          1,
          0,
          1,
          0,
          1,
          1,
          0,
          1,
          1,
          0,
          1,
          1,
          1,
          1,
          1,
          1,
          1,
          1,
          1,
          1,
          1,
          0,
          1,
          1,
          1,
          1,
          1,
          1,
          1,
          1,
          1,
          1,
          0,
          1,
          1,
          0,
          1,
          1,
          1,
          0,
          1,
          0,
          1,
          1,
          1,
          0
         ],
         "legendgroup": "",
         "name": "",
         "showlegend": true,
         "type": "pie"
        }
       ],
       "layout": {
        "autosize": true,
        "legend": {
         "tracegroupgap": 0
        },
        "margin": {
         "t": 60
        },
        "piecolorway": [
         "#e1d3c1",
         "#c64343"
        ],
        "template": {
         "data": {
          "pie": [
           {
            "automargin": true,
            "type": "pie"
           }
          ],
          "scatter": [
           {
            "line": {
             "width": 3
            },
            "marker": {
             "size": 9
            },
            "type": "scatter"
           }
          ],
          "scatter3d": [
           {
            "line": {
             "width": 3
            },
            "marker": {
             "size": 9
            },
            "type": "scatter3d"
           }
          ],
          "scattergeo": [
           {
            "line": {
             "width": 3
            },
            "marker": {
             "size": 9
            },
            "type": "scattergeo"
           }
          ],
          "scattergl": [
           {
            "line": {
             "width": 3
            },
            "marker": {
             "size": 9
            },
            "type": "scattergl"
           }
          ],
          "scatterpolar": [
           {
            "line": {
             "width": 3
            },
            "marker": {
             "size": 9
            },
            "type": "scatterpolar"
           }
          ],
          "scatterpolargl": [
           {
            "line": {
             "width": 3
            },
            "marker": {
             "size": 9
            },
            "type": "scatterpolargl"
           }
          ],
          "scatterternary": [
           {
            "line": {
             "width": 3
            },
            "marker": {
             "size": 9
            },
            "type": "scatterternary"
           }
          ],
          "table": [
           {
            "cells": {
             "height": 30
            },
            "header": {
             "height": 36
            },
            "type": "table"
           }
          ]
         },
         "layout": {
          "font": {
           "size": 18
          },
          "xaxis": {
           "title": {
            "standoff": 15
           }
          },
          "yaxis": {
           "title": {
            "standoff": 15
           }
          }
         }
        }
       }
      },
      "image/png": "[encoded data removed]",
      "text/html": [
       "<div>                            <div id=\"4c6aa071-de87-4664-a36d-f8113a63185d\" class=\"plotly-graph-div\" style=\"height:525px; width:100%;\"></div>            <script type=\"text/javascript\">                require([\"plotly\"], function(Plotly) {                    window.PLOTLYENV=window.PLOTLYENV || {};                                    if (document.getElementById(\"4c6aa071-de87-4664-a36d-f8113a63185d\")) {                    Plotly.newPlot(                        \"4c6aa071-de87-4664-a36d-f8113a63185d\",                        [{\"domain\":{\"x\":[0.0,1.0],\"y\":[0.0,1.0]},\"hole\":0.6,\"hovertemplate\":\"sex=%{label}\\u003cextra\\u003e\\u003c\\u002fextra\\u003e\",\"labels\":[1,1,0,1,0,1,0,1,1,1,1,0,1,1,0,0,0,0,1,0,1,1,1,1,1,0,1,1,0,1,0,1,1,1,1,0,0,1,0,0,0,1,1,0,1,1,1,1,0,0,0,1,1,0,0,1,1,1,1,0,0,1,1,1,1,0,1,0,1,0,1,1,1,1,0,0,1,1,1,1,1,1,0,1,0,0,1,1,0,0,1,1,1,0,0,1,0,1,1,1,1,1,0,1,1,0,1,0,0,0,0,1,0,1,1,0,1,1,0,0,0,1,0,0,0,0,1,0,0,0,0,0,1,1,0,0,0,1,1,1,0,1,0,0,0,1,0,0,1,1,1,0,1,0,0,0,1,1,1,1,1,0,1,1,1,1,1,0,1,1,1,1,1,1,1,1,1,1,1,1,1,0,0,1,1,1,1,1,1,1,0,1,1,1,1,1,1,1,1,1,1,1,1,1,0,1,1,0,1,1,1,1,1,0,1,0,0,1,1,1,0,1,1,0,1,1,1,1,1,1,1,1,1,1,1,1,1,1,1,1,1,0,1,1,1,1,0,1,1,1,1,1,0,1,1,1,1,1,0,1,0,1,1,0,1,1,0,1,1,1,1,1,1,1,1,1,1,1,0,1,1,1,1,1,1,1,1,1,1,0,1,1,0,1,1,1,0,1,0,1,1,1,0],\"legendgroup\":\"\",\"name\":\"\",\"showlegend\":true,\"type\":\"pie\"}],                        {\"template\":{\"data\":{\"pie\":[{\"automargin\":true,\"type\":\"pie\"}],\"scatter3d\":[{\"line\":{\"width\":3},\"marker\":{\"size\":9},\"type\":\"scatter3d\"}],\"scattergeo\":[{\"line\":{\"width\":3},\"marker\":{\"size\":9},\"type\":\"scattergeo\"}],\"scattergl\":[{\"line\":{\"width\":3},\"marker\":{\"size\":9},\"type\":\"scattergl\"}],\"scatterpolargl\":[{\"line\":{\"width\":3},\"marker\":{\"size\":9},\"type\":\"scatterpolargl\"}],\"scatterpolar\":[{\"line\":{\"width\":3},\"marker\":{\"size\":9},\"type\":\"scatterpolar\"}],\"scatter\":[{\"line\":{\"width\":3},\"marker\":{\"size\":9},\"type\":\"scatter\"}],\"scatterternary\":[{\"line\":{\"width\":3},\"marker\":{\"size\":9},\"type\":\"scatterternary\"}],\"table\":[{\"cells\":{\"height\":30},\"header\":{\"height\":36},\"type\":\"table\"}]},\"layout\":{\"font\":{\"size\":18},\"xaxis\":{\"title\":{\"standoff\":15}},\"yaxis\":{\"title\":{\"standoff\":15}}}},\"legend\":{\"tracegroupgap\":0},\"margin\":{\"t\":60},\"piecolorway\":[\"#e1d3c1\",\"#c64343\"]},                        {\"responsive\": true}                    ).then(function(){\n",
       "                            \n",
       "var gd = document.getElementById('4c6aa071-de87-4664-a36d-f8113a63185d');\n",
       "var x = new MutationObserver(function (mutations, observer) {{\n",
       "        var display = window.getComputedStyle(gd).display;\n",
       "        if (!display || display === 'none') {{\n",
       "            console.log([gd, 'removed!']);\n",
       "            Plotly.purge(gd);\n",
       "            observer.disconnect();\n",
       "        }}\n",
       "}});\n",
       "\n",
       "// Listen for the removal of the full notebook cells\n",
       "var notebookContainer = gd.closest('#notebook-container');\n",
       "if (notebookContainer) {{\n",
       "    x.observe(notebookContainer, {childList: true});\n",
       "}}\n",
       "\n",
       "// Listen for the clearing of the current output cell\n",
       "var outputEl = gd.closest('.output');\n",
       "if (outputEl) {{\n",
       "    x.observe(outputEl, {childList: true});\n",
       "}}\n",
       "\n",
       "                        })                };                });            </script>        </div>"
      ]
     },
     "metadata": {},
     "output_type": "display_data"
    }
   ],
   "source": [
    "fig = px.pie(heart,\n",
    "            names= \"sex\",\n",
    "            template= \"presentation\",\n",
    "            hole= 0.6,\n",
    "            color_discrete_sequence=['#e1d3c1', '#c64343']\n",
    "            #color_discrete_sequence=px.colors.sequential.RdBu\n",
    "            )\n",
    "fig.show()"
   ]
  },
  {
   "cell_type": "code",
   "execution_count": 78,
   "id": "320e10ee-23c3-461a-af24-3e65d0b9d486",
   "metadata": {},
   "outputs": [
    {
     "data": {
      "application/vnd.plotly.v1+json": {
       "config": {
        "plotlyServerURL": "https://plot.ly"
       },
       "data": [
        {
         "domain": {
          "x": [
           0,
           1
          ],
          "y": [
           0,
           1
          ]
         },
         "hole": 0.6,
         "hovertemplate": "sex_text=%{label}<extra></extra>",
         "labels": [
          "Male",
          "Male",
          "Female",
          "Male",
          "Female",
          "Male",
          "Female",
          "Male",
          "Male",
          "Male",
          "Male",
          "Female",
          "Male",
          "Male",
          "Female",
          "Female",
          "Female",
          "Female",
          "Male",
          "Female",
          "Male",
          "Male",
          "Male",
          "Male",
          "Male",
          "Female",
          "Male",
          "Male",
          "Female",
          "Male",
          "Female",
          "Male",
          "Male",
          "Male",
          "Male",
          "Female",
          "Female",
          "Male",
          "Female",
          "Female",
          "Female",
          "Male",
          "Male",
          "Female",
          "Male",
          "Male",
          "Male",
          "Male",
          "Female",
          "Female",
          "Female",
          "Male",
          "Male",
          "Female",
          "Female",
          "Male",
          "Male",
          "Male",
          "Male",
          "Female",
          "Female",
          "Male",
          "Male",
          "Male",
          "Male",
          "Female",
          "Male",
          "Female",
          "Male",
          "Female",
          "Male",
          "Male",
          "Male",
          "Male",
          "Female",
          "Female",
          "Male",
          "Male",
          "Male",
          "Male",
          "Male",
          "Male",
          "Female",
          "Male",
          "Female",
          "Female",
          "Male",
          "Male",
          "Female",
          "Female",
          "Male",
          "Male",
          "Male",
          "Female",
          "Female",
          "Male",
          "Female",
          "Male",
          "Male",
          "Male",
          "Male",
          "Male",
          "Female",
          "Male",
          "Male",
          "Female",
          "Male",
          "Female",
          "Female",
          "Female",
          "Female",
          "Male",
          "Female",
          "Male",
          "Male",
          "Female",
          "Male",
          "Male",
          "Female",
          "Female",
          "Female",
          "Male",
          "Female",
          "Female",
          "Female",
          "Female",
          "Male",
          "Female",
          "Female",
          "Female",
          "Female",
          "Female",
          "Male",
          "Male",
          "Female",
          "Female",
          "Female",
          "Male",
          "Male",
          "Male",
          "Female",
          "Male",
          "Female",
          "Female",
          "Female",
          "Male",
          "Female",
          "Female",
          "Male",
          "Male",
          "Male",
          "Female",
          "Male",
          "Female",
          "Female",
          "Female",
          "Male",
          "Male",
          "Male",
          "Male",
          "Male",
          "Female",
          "Male",
          "Male",
          "Male",
          "Male",
          "Male",
          "Female",
          "Male",
          "Male",
          "Male",
          "Male",
          "Male",
          "Male",
          "Male",
          "Male",
          "Male",
          "Male",
          "Male",
          "Male",
          "Male",
          "Female",
          "Female",
          "Male",
          "Male",
          "Male",
          "Male",
          "Male",
          "Male",
          "Male",
          "Female",
          "Male",
          "Male",
          "Male",
          "Male",
          "Male",
          "Male",
          "Male",
          "Male",
          "Male",
          "Male",
          "Male",
          "Male",
          "Male",
          "Female",
          "Male",
          "Male",
          "Female",
          "Male",
          "Male",
          "Male",
          "Male",
          "Male",
          "Female",
          "Male",
          "Female",
          "Female",
          "Male",
          "Male",
          "Male",
          "Female",
          "Male",
          "Male",
          "Female",
          "Male",
          "Male",
          "Male",
          "Male",
          "Male",
          "Male",
          "Male",
          "Male",
          "Male",
          "Male",
          "Male",
          "Male",
          "Male",
          "Male",
          "Male",
          "Male",
          "Male",
          "Female",
          "Male",
          "Male",
          "Male",
          "Male",
          "Female",
          "Male",
          "Male",
          "Male",
          "Male",
          "Male",
          "Female",
          "Male",
          "Male",
          "Male",
          "Male",
          "Male",
          "Female",
          "Male",
          "Female",
          "Male",
          "Male",
          "Female",
          "Male",
          "Male",
          "Female",
          "Male",
          "Male",
          "Male",
          "Male",
          "Male",
          "Male",
          "Male",
          "Male",
          "Male",
          "Male",
          "Male",
          "Female",
          "Male",
          "Male",
          "Male",
          "Male",
          "Male",
          "Male",
          "Male",
          "Male",
          "Male",
          "Male",
          "Female",
          "Male",
          "Male",
          "Female",
          "Male",
          "Male",
          "Male",
          "Female",
          "Male",
          "Female",
          "Male",
          "Male",
          "Male",
          "Female"
         ],
         "legendgroup": "",
         "name": "",
         "rotation": 20,
         "showlegend": true,
         "textinfo": "percent+label",
         "textposition": "outside",
         "type": "pie"
        }
       ],
       "layout": {
        "annotations": [
         {
          "align": "center",
          "font": {
           "size": 22
          },
          "showarrow": false,
          "text": "<span style='font-size: 26px; color=#555; font-family:Arial'>Gender<br></span>",
          "x": 0.5,
          "y": 0.5
         }
        ],
        "autosize": false,
        "font": {
         "size": 18
        },
        "height": 500,
        "legend": {
         "tracegroupgap": 0
        },
        "margin": {
         "t": 60
        },
        "piecolorway": [
         "#e1d3c1",
         "#c64343"
        ],
        "showlegend": false,
        "template": {
         "data": {
          "pie": [
           {
            "automargin": true,
            "type": "pie"
           }
          ],
          "scatter": [
           {
            "line": {
             "width": 3
            },
            "marker": {
             "size": 9
            },
            "type": "scatter"
           }
          ],
          "scatter3d": [
           {
            "line": {
             "width": 3
            },
            "marker": {
             "size": 9
            },
            "type": "scatter3d"
           }
          ],
          "scattergeo": [
           {
            "line": {
             "width": 3
            },
            "marker": {
             "size": 9
            },
            "type": "scattergeo"
           }
          ],
          "scattergl": [
           {
            "line": {
             "width": 3
            },
            "marker": {
             "size": 9
            },
            "type": "scattergl"
           }
          ],
          "scatterpolar": [
           {
            "line": {
             "width": 3
            },
            "marker": {
             "size": 9
            },
            "type": "scatterpolar"
           }
          ],
          "scatterpolargl": [
           {
            "line": {
             "width": 3
            },
            "marker": {
             "size": 9
            },
            "type": "scatterpolargl"
           }
          ],
          "scatterternary": [
           {
            "line": {
             "width": 3
            },
            "marker": {
             "size": 9
            },
            "type": "scatterternary"
           }
          ],
          "table": [
           {
            "cells": {
             "height": 30
            },
            "header": {
             "height": 36
            },
            "type": "table"
           }
          ]
         },
         "layout": {
          "font": {
           "size": 18
          },
          "xaxis": {
           "title": {
            "standoff": 15
           }
          },
          "yaxis": {
           "title": {
            "standoff": 15
           }
          }
         }
        },
        "title": {
         "text": "Gender Distribution",
         "x": 0.5
        },
        "width": 500
       }
      },
      "image/png": "[encoded data removed]",
      "text/html": [
       "<div>                            <div id=\"da36d123-3175-4a63-ae49-a08aaf00968d\" class=\"plotly-graph-div\" style=\"height:500px; width:500px;\"></div>            <script type=\"text/javascript\">                require([\"plotly\"], function(Plotly) {                    window.PLOTLYENV=window.PLOTLYENV || {};                                    if (document.getElementById(\"da36d123-3175-4a63-ae49-a08aaf00968d\")) {                    Plotly.newPlot(                        \"da36d123-3175-4a63-ae49-a08aaf00968d\",                        [{\"domain\":{\"x\":[0.0,1.0],\"y\":[0.0,1.0]},\"hole\":0.6,\"hovertemplate\":\"sex_text=%{label}\\u003cextra\\u003e\\u003c\\u002fextra\\u003e\",\"labels\":[\"Male\",\"Male\",\"Female\",\"Male\",\"Female\",\"Male\",\"Female\",\"Male\",\"Male\",\"Male\",\"Male\",\"Female\",\"Male\",\"Male\",\"Female\",\"Female\",\"Female\",\"Female\",\"Male\",\"Female\",\"Male\",\"Male\",\"Male\",\"Male\",\"Male\",\"Female\",\"Male\",\"Male\",\"Female\",\"Male\",\"Female\",\"Male\",\"Male\",\"Male\",\"Male\",\"Female\",\"Female\",\"Male\",\"Female\",\"Female\",\"Female\",\"Male\",\"Male\",\"Female\",\"Male\",\"Male\",\"Male\",\"Male\",\"Female\",\"Female\",\"Female\",\"Male\",\"Male\",\"Female\",\"Female\",\"Male\",\"Male\",\"Male\",\"Male\",\"Female\",\"Female\",\"Male\",\"Male\",\"Male\",\"Male\",\"Female\",\"Male\",\"Female\",\"Male\",\"Female\",\"Male\",\"Male\",\"Male\",\"Male\",\"Female\",\"Female\",\"Male\",\"Male\",\"Male\",\"Male\",\"Male\",\"Male\",\"Female\",\"Male\",\"Female\",\"Female\",\"Male\",\"Male\",\"Female\",\"Female\",\"Male\",\"Male\",\"Male\",\"Female\",\"Female\",\"Male\",\"Female\",\"Male\",\"Male\",\"Male\",\"Male\",\"Male\",\"Female\",\"Male\",\"Male\",\"Female\",\"Male\",\"Female\",\"Female\",\"Female\",\"Female\",\"Male\",\"Female\",\"Male\",\"Male\",\"Female\",\"Male\",\"Male\",\"Female\",\"Female\",\"Female\",\"Male\",\"Female\",\"Female\",\"Female\",\"Female\",\"Male\",\"Female\",\"Female\",\"Female\",\"Female\",\"Female\",\"Male\",\"Male\",\"Female\",\"Female\",\"Female\",\"Male\",\"Male\",\"Male\",\"Female\",\"Male\",\"Female\",\"Female\",\"Female\",\"Male\",\"Female\",\"Female\",\"Male\",\"Male\",\"Male\",\"Female\",\"Male\",\"Female\",\"Female\",\"Female\",\"Male\",\"Male\",\"Male\",\"Male\",\"Male\",\"Female\",\"Male\",\"Male\",\"Male\",\"Male\",\"Male\",\"Female\",\"Male\",\"Male\",\"Male\",\"Male\",\"Male\",\"Male\",\"Male\",\"Male\",\"Male\",\"Male\",\"Male\",\"Male\",\"Male\",\"Female\",\"Female\",\"Male\",\"Male\",\"Male\",\"Male\",\"Male\",\"Male\",\"Male\",\"Female\",\"Male\",\"Male\",\"Male\",\"Male\",\"Male\",\"Male\",\"Male\",\"Male\",\"Male\",\"Male\",\"Male\",\"Male\",\"Male\",\"Female\",\"Male\",\"Male\",\"Female\",\"Male\",\"Male\",\"Male\",\"Male\",\"Male\",\"Female\",\"Male\",\"Female\",\"Female\",\"Male\",\"Male\",\"Male\",\"Female\",\"Male\",\"Male\",\"Female\",\"Male\",\"Male\",\"Male\",\"Male\",\"Male\",\"Male\",\"Male\",\"Male\",\"Male\",\"Male\",\"Male\",\"Male\",\"Male\",\"Male\",\"Male\",\"Male\",\"Male\",\"Female\",\"Male\",\"Male\",\"Male\",\"Male\",\"Female\",\"Male\",\"Male\",\"Male\",\"Male\",\"Male\",\"Female\",\"Male\",\"Male\",\"Male\",\"Male\",\"Male\",\"Female\",\"Male\",\"Female\",\"Male\",\"Male\",\"Female\",\"Male\",\"Male\",\"Female\",\"Male\",\"Male\",\"Male\",\"Male\",\"Male\",\"Male\",\"Male\",\"Male\",\"Male\",\"Male\",\"Male\",\"Female\",\"Male\",\"Male\",\"Male\",\"Male\",\"Male\",\"Male\",\"Male\",\"Male\",\"Male\",\"Male\",\"Female\",\"Male\",\"Male\",\"Female\",\"Male\",\"Male\",\"Male\",\"Female\",\"Male\",\"Female\",\"Male\",\"Male\",\"Male\",\"Female\"],\"legendgroup\":\"\",\"name\":\"\",\"showlegend\":true,\"type\":\"pie\",\"rotation\":20,\"textinfo\":\"percent+label\",\"textposition\":\"outside\"}],                        {\"template\":{\"data\":{\"pie\":[{\"automargin\":true,\"type\":\"pie\"}],\"scatter3d\":[{\"line\":{\"width\":3},\"marker\":{\"size\":9},\"type\":\"scatter3d\"}],\"scattergeo\":[{\"line\":{\"width\":3},\"marker\":{\"size\":9},\"type\":\"scattergeo\"}],\"scattergl\":[{\"line\":{\"width\":3},\"marker\":{\"size\":9},\"type\":\"scattergl\"}],\"scatterpolargl\":[{\"line\":{\"width\":3},\"marker\":{\"size\":9},\"type\":\"scatterpolargl\"}],\"scatterpolar\":[{\"line\":{\"width\":3},\"marker\":{\"size\":9},\"type\":\"scatterpolar\"}],\"scatter\":[{\"line\":{\"width\":3},\"marker\":{\"size\":9},\"type\":\"scatter\"}],\"scatterternary\":[{\"line\":{\"width\":3},\"marker\":{\"size\":9},\"type\":\"scatterternary\"}],\"table\":[{\"cells\":{\"height\":30},\"header\":{\"height\":36},\"type\":\"table\"}]},\"layout\":{\"font\":{\"size\":18},\"xaxis\":{\"title\":{\"standoff\":15}},\"yaxis\":{\"title\":{\"standoff\":15}}}},\"legend\":{\"tracegroupgap\":0},\"margin\":{\"t\":60},\"piecolorway\":[\"#e1d3c1\",\"#c64343\"],\"title\":{\"text\":\"Gender Distribution\",\"x\":0.5},\"font\":{\"size\":18},\"autosize\":false,\"width\":500,\"height\":500,\"showlegend\":false,\"annotations\":[{\"align\":\"center\",\"font\":{\"size\":22},\"showarrow\":false,\"text\":\"\\u003cspan style='font-size: 26px; color=#555; font-family:Arial'\\u003eGender\\u003cbr\\u003e\\u003c\\u002fspan\\u003e\",\"x\":0.5,\"y\":0.5}]},                        {\"responsive\": true}                    ).then(function(){\n",
       "                            \n",
       "var gd = document.getElementById('da36d123-3175-4a63-ae49-a08aaf00968d');\n",
       "var x = new MutationObserver(function (mutations, observer) {{\n",
       "        var display = window.getComputedStyle(gd).display;\n",
       "        if (!display || display === 'none') {{\n",
       "            console.log([gd, 'removed!']);\n",
       "            Plotly.purge(gd);\n",
       "            observer.disconnect();\n",
       "        }}\n",
       "}});\n",
       "\n",
       "// Listen for the removal of the full notebook cells\n",
       "var notebookContainer = gd.closest('#notebook-container');\n",
       "if (notebookContainer) {{\n",
       "    x.observe(notebookContainer, {childList: true});\n",
       "}}\n",
       "\n",
       "// Listen for the clearing of the current output cell\n",
       "var outputEl = gd.closest('.output');\n",
       "if (outputEl) {{\n",
       "    x.observe(outputEl, {childList: true});\n",
       "}}\n",
       "\n",
       "                        })                };                });            </script>        </div>"
      ]
     },
     "metadata": {},
     "output_type": "display_data"
    }
   ],
   "source": [
    "# Empty Pie Visualization\n",
    "\n",
    "# Create a dictionary to map numerical values to text labels\n",
    "sex_labels = {1: 'Male', 0: 'Female'}\n",
    "\n",
    "# Create a new column in the heart dataframe with text labels\n",
    "heart['sex_text'] = heart['sex'].map(sex_labels)\n",
    "\n",
    "\n",
    "fig = px.pie(heart,\n",
    "            names= \"sex_text\",\n",
    "            template= \"presentation\",\n",
    "            hole= 0.6,\n",
    "            color_discrete_sequence=['#e1d3c1', '#c64343']\n",
    "            )\n",
    "# layout\n",
    "fig.update_layout(title_text='Gender Distribution',\n",
    "                  title_x=0.5,\n",
    "                  font=dict( size=18),\n",
    "                  autosize=False,\n",
    "                  width=500,\n",
    "                  height=500,\n",
    "                  showlegend=False)\n",
    "\n",
    "fig.add_annotation(dict(x=0.5, y=0.5,  align='center',\n",
    "                        #xref = \"paper\", yref = \"paper\",\n",
    "                        showarrow = False, font_size=22,\n",
    "                        text=\"<span style='font-size: 26px; color=#555; font-family:Arial'>Gender<br></span>\"))\n",
    "\n",
    "fig.update_traces(textposition='outside',  textinfo='percent+label', rotation=20)\n",
    "fig.show()"
   ]
  },
  {
   "cell_type": "code",
   "execution_count": 79,
   "id": "61ac6f85-b5f5-4acc-a4f1-9a103207dd62",
   "metadata": {},
   "outputs": [
    {
     "data": {
      "text/html": [
       "\n",
       "<script>\n",
       "    require.config({\n",
       "        paths: {\n",
       "            'echarts':'https://assets.pyecharts.org/assets/v5/echarts.min'\n",
       "        }\n",
       "    });\n",
       "</script>\n",
       "\n",
       "        <div id=\"402ba1eb6a0a4fa5b036b2fbb591a05a\" style=\"width:900px; height:500px;\"></div>\n",
       "\n",
       "<script>\n",
       "        require(['echarts'], function(echarts) {\n",
       "                var chart_402ba1eb6a0a4fa5b036b2fbb591a05a = echarts.init(\n",
       "                    document.getElementById('402ba1eb6a0a4fa5b036b2fbb591a05a'), 'white', {renderer: 'canvas'});\n",
       "                var option_402ba1eb6a0a4fa5b036b2fbb591a05a = {\n",
       "    \"animation\": true,\n",
       "    \"animationThreshold\": 2000,\n",
       "    \"animationDuration\": 1000,\n",
       "    \"animationEasing\": \"cubicOut\",\n",
       "    \"animationDelay\": 0,\n",
       "    \"animationDurationUpdate\": 300,\n",
       "    \"animationEasingUpdate\": \"cubicOut\",\n",
       "    \"animationDelayUpdate\": 0,\n",
       "    \"aria\": {\n",
       "        \"enabled\": false\n",
       "    },\n",
       "    \"color\": [\n",
       "        \"#e1d3c1\",\n",
       "        \"#c64343\"\n",
       "    ],\n",
       "    \"series\": [\n",
       "        {\n",
       "            \"type\": \"pie\",\n",
       "            \"colorBy\": \"data\",\n",
       "            \"legendHoverLink\": true,\n",
       "            \"selectedMode\": false,\n",
       "            \"selectedOffset\": 10,\n",
       "            \"clockwise\": true,\n",
       "            \"startAngle\": 90,\n",
       "            \"minAngle\": 0,\n",
       "            \"minShowLabelAngle\": 0,\n",
       "            \"avoidLabelOverlap\": true,\n",
       "            \"stillShowZeroSum\": true,\n",
       "            \"percentPrecision\": 2,\n",
       "            \"showEmptyCircle\": true,\n",
       "            \"emptyCircleStyle\": {\n",
       "                \"color\": \"lightgray\",\n",
       "                \"borderColor\": \"#000\",\n",
       "                \"borderWidth\": 0,\n",
       "                \"borderType\": \"solid\",\n",
       "                \"borderDashOffset\": 0,\n",
       "                \"borderCap\": \"butt\",\n",
       "                \"borderJoin\": \"bevel\",\n",
       "                \"borderMiterLimit\": 10,\n",
       "                \"opacity\": 1\n",
       "            },\n",
       "            \"data\": [\n",
       "                {\n",
       "                    \"name\": \"Female\",\n",
       "                    \"value\": null\n",
       "                },\n",
       "                {\n",
       "                    \"name\": \"Male\",\n",
       "                    \"value\": null\n",
       "                }\n",
       "            ],\n",
       "            \"radius\": [\n",
       "                \"40%\",\n",
       "                \"70%\"\n",
       "            ],\n",
       "            \"center\": [\n",
       "                \"50%\",\n",
       "                \"50%\"\n",
       "            ],\n",
       "            \"roseType\": \"radius\",\n",
       "            \"label\": {\n",
       "                \"show\": false,\n",
       "                \"margin\": 8\n",
       "            },\n",
       "            \"labelLine\": {\n",
       "                \"show\": true,\n",
       "                \"showAbove\": false,\n",
       "                \"length\": 15,\n",
       "                \"length2\": 15,\n",
       "                \"smooth\": false,\n",
       "                \"minTurnAngle\": 90,\n",
       "                \"maxSurfaceAngle\": 90\n",
       "            }\n",
       "        }\n",
       "    ],\n",
       "    \"legend\": [\n",
       "        {\n",
       "            \"data\": [\n",
       "                \"Female\",\n",
       "                \"Male\"\n",
       "            ],\n",
       "            \"selected\": {},\n",
       "            \"show\": false,\n",
       "            \"padding\": 5,\n",
       "            \"itemGap\": 10,\n",
       "            \"itemWidth\": 25,\n",
       "            \"itemHeight\": 14,\n",
       "            \"backgroundColor\": \"transparent\",\n",
       "            \"borderColor\": \"#ccc\",\n",
       "            \"borderWidth\": 1,\n",
       "            \"borderRadius\": 0,\n",
       "            \"pageButtonItemGap\": 5,\n",
       "            \"pageButtonPosition\": \"end\",\n",
       "            \"pageFormatter\": \"{current}/{total}\",\n",
       "            \"pageIconColor\": \"#2f4554\",\n",
       "            \"pageIconInactiveColor\": \"#aaa\",\n",
       "            \"pageIconSize\": 15,\n",
       "            \"animationDurationUpdate\": 800,\n",
       "            \"selector\": false,\n",
       "            \"selectorPosition\": \"auto\",\n",
       "            \"selectorItemGap\": 7,\n",
       "            \"selectorButtonGap\": 10\n",
       "        }\n",
       "    ],\n",
       "    \"tooltip\": {\n",
       "        \"show\": true,\n",
       "        \"trigger\": \"item\",\n",
       "        \"triggerOn\": \"mousemove|click\",\n",
       "        \"axisPointer\": {\n",
       "            \"type\": \"line\"\n",
       "        },\n",
       "        \"showContent\": true,\n",
       "        \"alwaysShowContent\": false,\n",
       "        \"showDelay\": 0,\n",
       "        \"hideDelay\": 100,\n",
       "        \"enterable\": false,\n",
       "        \"confine\": false,\n",
       "        \"appendToBody\": false,\n",
       "        \"transitionDuration\": 0.4,\n",
       "        \"textStyle\": {\n",
       "            \"fontSize\": 14\n",
       "        },\n",
       "        \"borderWidth\": 0,\n",
       "        \"padding\": 5,\n",
       "        \"order\": \"seriesAsc\"\n",
       "    },\n",
       "    \"title\": [\n",
       "        {\n",
       "            \"show\": true,\n",
       "            \"text\": \"Gender Distribution\",\n",
       "            \"target\": \"blank\",\n",
       "            \"subtarget\": \"blank\",\n",
       "            \"padding\": 5,\n",
       "            \"itemGap\": 10,\n",
       "            \"textAlign\": \"auto\",\n",
       "            \"textVerticalAlign\": \"auto\",\n",
       "            \"triggerEvent\": false,\n",
       "            \"textStyle\": {\n",
       "                \"fontSize\": 18\n",
       "            }\n",
       "        }\n",
       "    ]\n",
       "};\n",
       "                chart_402ba1eb6a0a4fa5b036b2fbb591a05a.setOption(option_402ba1eb6a0a4fa5b036b2fbb591a05a);\n",
       "        });\n",
       "    </script>\n"
      ],
      "text/plain": [
       "<pyecharts.render.display.HTML at 0x7f9fa28ab1f0>"
      ]
     },
     "execution_count": 79,
     "metadata": {},
     "output_type": "execute_result"
    }
   ],
   "source": [
    "# colab: https://colab.research.google.com/drive/1hduQRKwoespAiF0Wv7UZIAZG9oz3WqcD\n",
    "# 2022/2022_2_Python/Week_17_colab.ipynb\n",
    "\n",
    "from pyecharts import options as opts\n",
    "from pyecharts.charts import Pie\n",
    "\n",
    "# Create a dictionary to map numerical values to text labels\n",
    "sex_labels = {1: 'Male', 0: 'Female'}\n",
    "\n",
    "# Create a new column in the heart dataframe with text labels\n",
    "heart['sex_text'] = heart['sex'].map(sex_labels)\n",
    "\n",
    "# Count the number of occurrences of each value in the 'sex_text' column\n",
    "sex_counts = heart['sex_text'].value_counts()\n",
    "\n",
    "# Create the pie chart\n",
    "pie = Pie()\n",
    "pie.add(\"\", \n",
    "        [list(z) for z in zip(sex_counts.index, sex_counts.values)],\n",
    "        radius=[\"40%\", \"70%\"],\n",
    "        rosetype=\"radius\",\n",
    "        label_opts=opts.LabelOpts(is_show=False),\n",
    ")\n",
    "\n",
    "# Customize the chart\n",
    "pie.set_global_opts(\n",
    "    title_opts=opts.TitleOpts(title=\"Gender Distribution\", title_textstyle_opts=opts.TextStyleOpts(font_size=18)),\n",
    "    legend_opts=opts.LegendOpts(is_show=False)\n",
    ")\n",
    "\n",
    "# Set color palette\n",
    "pie.set_colors(['#e1d3c1', '#c64343'])\n",
    "\n",
    "# Render the chart\n",
    "pie.render_notebook()"
   ]
  },
  {
   "cell_type": "code",
   "execution_count": 125,
   "id": "367aade3-ed80-4579-bd86-152f536a794e",
   "metadata": {},
   "outputs": [
    {
     "data": {
      "text/plain": [
       "True"
      ]
     },
     "execution_count": 125,
     "metadata": {},
     "output_type": "execute_result"
    }
   ],
   "source": [
    "col==[['Female', 207], ['Male', 96]]"
   ]
  },
  {
   "cell_type": "code",
   "execution_count": 126,
   "id": "1006ddac-0cb9-4be4-b763-0f52b3fda876",
   "metadata": {},
   "outputs": [],
   "source": [
    "# Create a dictionary to map numerical values to text labels\n",
    "sex_labels = {1: 'Male', 0: 'Female'}\n",
    "\n",
    "# Create a new column in the heart dataframe with text labels\n",
    "heart['sex_text'] = heart['sex'].map(sex_labels)\n",
    "\n",
    "# Count the number of occurrences of each value in the 'sex_text' column\n",
    "sex_counts = heart['sex_text'].value_counts()"
   ]
  },
  {
   "cell_type": "code",
   "execution_count": 144,
   "id": "8297df35-1f80-4f4d-b350-1eecd4efa6fa",
   "metadata": {},
   "outputs": [],
   "source": [
    "\n",
    "# col= [list(z) for z in zip(sex_counts.index, sex_counts.values)]\n",
    "p =(\n",
    "   Pie()\n",
    "   .add(\"\",[['Female', 96], ['Male', 207]],\n",
    "        radius=[\"40%\", \"70%\"],\n",
    "        center=[\"35%\", \"50%\"], \n",
    "        #rosetype=\"radius\", \n",
    "   )\n",
    "   .set_global_opts(title_opts=opts.TitleOpts(title=\"Gender\", \n",
    "                                               subtitle='',\n",
    "                                               pos_left='left',\n",
    "                                               pos_top='0%'))\n",
    "   # set the output format\n",
    "   .set_series_opts(label_opts=opts.LabelOpts(formatter=\"{b}: {c} \"))\n",
    "   # set color \n",
    "   .set_colors(['#e1d3c1', '#c64343']) \n",
    ")"
   ]
  },
  {
   "cell_type": "code",
   "execution_count": 145,
   "id": "36ec6c47-0d6b-412f-a007-651818747463",
   "metadata": {},
   "outputs": [
    {
     "data": {
      "text/plain": [
       "'/Users/chu-chinghuang/Documents/2023/2023-2-Python/render.html'"
      ]
     },
     "execution_count": 145,
     "metadata": {},
     "output_type": "execute_result"
    }
   ],
   "source": [
    "p.render()"
   ]
  },
  {
   "cell_type": "code",
   "execution_count": 146,
   "id": "e42cf724-30de-4616-880f-1609b5be3b7d",
   "metadata": {},
   "outputs": [
    {
     "data": {
      "text/html": [
       "<!DOCTYPE html>\n",
       "<html>\n",
       "<head>\n",
       "    <meta charset=\"UTF-8\">\n",
       "    <title>Awesome-pyecharts</title>\n",
       "                <script type=\"text/javascript\" src=\"https://assets.pyecharts.org/assets/v5/echarts.min.js\"></script>\n",
       "\n",
       "</head>\n",
       "<body >\n",
       "    <div id=\"7765eabbde894f1b92b8055163faa161\" class=\"chart-container\" style=\"width:900px; height:500px; \"></div>\n",
       "    <script>\n",
       "        var chart_7765eabbde894f1b92b8055163faa161 = echarts.init(\n",
       "            document.getElementById('7765eabbde894f1b92b8055163faa161'), 'white', {renderer: 'canvas'});\n",
       "        var option_7765eabbde894f1b92b8055163faa161 = {\n",
       "    \"animation\": true,\n",
       "    \"animationThreshold\": 2000,\n",
       "    \"animationDuration\": 1000,\n",
       "    \"animationEasing\": \"cubicOut\",\n",
       "    \"animationDelay\": 0,\n",
       "    \"animationDurationUpdate\": 300,\n",
       "    \"animationEasingUpdate\": \"cubicOut\",\n",
       "    \"animationDelayUpdate\": 0,\n",
       "    \"aria\": {\n",
       "        \"enabled\": false\n",
       "    },\n",
       "    \"color\": [\n",
       "        \"#e1d3c1\",\n",
       "        \"#c64343\"\n",
       "    ],\n",
       "    \"series\": [\n",
       "        {\n",
       "            \"type\": \"pie\",\n",
       "            \"colorBy\": \"data\",\n",
       "            \"legendHoverLink\": true,\n",
       "            \"selectedMode\": false,\n",
       "            \"selectedOffset\": 10,\n",
       "            \"clockwise\": true,\n",
       "            \"startAngle\": 90,\n",
       "            \"minAngle\": 0,\n",
       "            \"minShowLabelAngle\": 0,\n",
       "            \"avoidLabelOverlap\": true,\n",
       "            \"stillShowZeroSum\": true,\n",
       "            \"percentPrecision\": 2,\n",
       "            \"showEmptyCircle\": true,\n",
       "            \"emptyCircleStyle\": {\n",
       "                \"color\": \"lightgray\",\n",
       "                \"borderColor\": \"#000\",\n",
       "                \"borderWidth\": 0,\n",
       "                \"borderType\": \"solid\",\n",
       "                \"borderDashOffset\": 0,\n",
       "                \"borderCap\": \"butt\",\n",
       "                \"borderJoin\": \"bevel\",\n",
       "                \"borderMiterLimit\": 10,\n",
       "                \"opacity\": 1\n",
       "            },\n",
       "            \"data\": [\n",
       "                {\n",
       "                    \"name\": \"Female\",\n",
       "                    \"value\": 96\n",
       "                },\n",
       "                {\n",
       "                    \"name\": \"Male\",\n",
       "                    \"value\": 207\n",
       "                }\n",
       "            ],\n",
       "            \"radius\": [\n",
       "                \"40%\",\n",
       "                \"70%\"\n",
       "            ],\n",
       "            \"center\": [\n",
       "                \"35%\",\n",
       "                \"50%\"\n",
       "            ],\n",
       "            \"label\": {\n",
       "                \"show\": true,\n",
       "                \"margin\": 8,\n",
       "                \"formatter\": \"{b}: {c} \"\n",
       "            },\n",
       "            \"labelLine\": {\n",
       "                \"show\": true,\n",
       "                \"showAbove\": false,\n",
       "                \"length\": 15,\n",
       "                \"length2\": 15,\n",
       "                \"smooth\": false,\n",
       "                \"minTurnAngle\": 90,\n",
       "                \"maxSurfaceAngle\": 90\n",
       "            },\n",
       "            \"rippleEffect\": {\n",
       "                \"show\": true,\n",
       "                \"brushType\": \"stroke\",\n",
       "                \"scale\": 2.5,\n",
       "                \"period\": 4\n",
       "            }\n",
       "        }\n",
       "    ],\n",
       "    \"legend\": [\n",
       "        {\n",
       "            \"data\": [\n",
       "                \"Female\",\n",
       "                \"Male\"\n",
       "            ],\n",
       "            \"selected\": {},\n",
       "            \"show\": true,\n",
       "            \"padding\": 5,\n",
       "            \"itemGap\": 10,\n",
       "            \"itemWidth\": 25,\n",
       "            \"itemHeight\": 14,\n",
       "            \"backgroundColor\": \"transparent\",\n",
       "            \"borderColor\": \"#ccc\",\n",
       "            \"borderWidth\": 1,\n",
       "            \"borderRadius\": 0,\n",
       "            \"pageButtonItemGap\": 5,\n",
       "            \"pageButtonPosition\": \"end\",\n",
       "            \"pageFormatter\": \"{current}/{total}\",\n",
       "            \"pageIconColor\": \"#2f4554\",\n",
       "            \"pageIconInactiveColor\": \"#aaa\",\n",
       "            \"pageIconSize\": 15,\n",
       "            \"animationDurationUpdate\": 800,\n",
       "            \"selector\": false,\n",
       "            \"selectorPosition\": \"auto\",\n",
       "            \"selectorItemGap\": 7,\n",
       "            \"selectorButtonGap\": 10\n",
       "        }\n",
       "    ],\n",
       "    \"tooltip\": {\n",
       "        \"show\": true,\n",
       "        \"trigger\": \"item\",\n",
       "        \"triggerOn\": \"mousemove|click\",\n",
       "        \"axisPointer\": {\n",
       "            \"type\": \"line\"\n",
       "        },\n",
       "        \"showContent\": true,\n",
       "        \"alwaysShowContent\": false,\n",
       "        \"showDelay\": 0,\n",
       "        \"hideDelay\": 100,\n",
       "        \"enterable\": false,\n",
       "        \"confine\": false,\n",
       "        \"appendToBody\": false,\n",
       "        \"transitionDuration\": 0.4,\n",
       "        \"textStyle\": {\n",
       "            \"fontSize\": 14\n",
       "        },\n",
       "        \"borderWidth\": 0,\n",
       "        \"padding\": 5,\n",
       "        \"order\": \"seriesAsc\"\n",
       "    },\n",
       "    \"title\": [\n",
       "        {\n",
       "            \"show\": true,\n",
       "            \"text\": \"Gender\",\n",
       "            \"target\": \"blank\",\n",
       "            \"subtarget\": \"blank\",\n",
       "            \"left\": \"left\",\n",
       "            \"top\": \"0%\",\n",
       "            \"padding\": 5,\n",
       "            \"itemGap\": 10,\n",
       "            \"textAlign\": \"auto\",\n",
       "            \"textVerticalAlign\": \"auto\",\n",
       "            \"triggerEvent\": false\n",
       "        }\n",
       "    ]\n",
       "};\n",
       "        chart_7765eabbde894f1b92b8055163faa161.setOption(option_7765eabbde894f1b92b8055163faa161);\n",
       "    </script>\n",
       "</body>\n",
       "</html>\n"
      ],
      "text/plain": [
       "<IPython.core.display.HTML object>"
      ]
     },
     "execution_count": 146,
     "metadata": {},
     "output_type": "execute_result"
    }
   ],
   "source": [
    "from IPython.display import HTML\n",
    "HTML(\"render.html\")"
   ]
  },
  {
   "cell_type": "code",
   "execution_count": null,
   "id": "c9a90b13-5dda-48b4-970e-2d051db50ef9",
   "metadata": {},
   "outputs": [],
   "source": []
  },
  {
   "cell_type": "code",
   "execution_count": 72,
   "id": "15ce963a-3db9-47a9-8dc1-c6a52f5517f9",
   "metadata": {},
   "outputs": [
    {
     "data": {
      "text/plain": [
       "dtype('int64')"
      ]
     },
     "execution_count": 72,
     "metadata": {},
     "output_type": "execute_result"
    }
   ],
   "source": [
    "heart['age'].value_counts()"
   ]
  },
  {
   "cell_type": "code",
   "execution_count": 65,
   "id": "dfd82feb-903e-4da6-a14f-c3fb42b97ba4",
   "metadata": {},
   "outputs": [
    {
     "name": "stderr",
     "output_type": "stream",
     "text": [
      "/var/folders/xb/s7vwrt4153xbxzr8hc8tbdtr0000gn/T/ipykernel_22632/452452884.py:5: FutureWarning:\n",
      "\n",
      "\n",
      "\n",
      "Passing `palette` without assigning `hue` is deprecated and will be removed in v0.14.0. Assign the `x` variable to `hue` and set `legend=False` for the same effect.\n",
      "\n",
      "\n"
     ]
    },
    {
     "data": {
      "image/png": "[encoded data removed]",
      "text/plain": [
       "<Figure size 1400x800 with 1 Axes>"
      ]
     },
     "metadata": {},
     "output_type": "display_data"
    }
   ],
   "source": [
    "plt.figure(figsize=(14,8))\n",
    "sns.set(font_scale=1.2)\n",
    "sns.set_style(\"white\")\n",
    "\n",
    "sns.countplot(x=heart[\"age\"],\n",
    "              palette='Reds')\n",
    "      \n",
    "\n",
    "plt.title(\"Count of Patients Age\",fontsize=20)\n",
    "plt.xlabel(\"Age\",fontsize=16)\n",
    "plt.ylabel(\"Count\",fontsize=16);"
   ]
  },
  {
   "cell_type": "code",
   "execution_count": 34,
   "id": "f4b29345-8c61-42aa-9902-a676b87f3621",
   "metadata": {},
   "outputs": [
    {
     "data": {
      "text/plain": [
       "Text(0, 0.5, 'Density')"
      ]
     },
     "execution_count": 34,
     "metadata": {},
     "output_type": "execute_result"
    },
    {
     "data": {
      "image/png": "[encoded data removed]",
      "text/plain": [
       "<Figure size 800x600 with 1 Axes>"
      ]
     },
     "metadata": {},
     "output_type": "display_data"
    }
   ],
   "source": [
    "# age based analysis\n",
    "sns.set(font_scale=1.3)\n",
    "\n",
    "plt.figure(figsize=(8,6))\n",
    "sns.set_style(\"white\")\n",
    "sns.histplot(heart['age'],\n",
    "             color='red',\n",
    "             kde=True)\n",
    "\n",
    "\n",
    "plt.title(\"Distribution of Patients Age\",fontsize=20)\n",
    "plt.xlabel(\"Age\",fontsize=16)\n",
    "plt.ylabel(\"Density\",fontsize=16)"
   ]
  },
  {
   "cell_type": "code",
   "execution_count": 148,
   "id": "a2f2cf14-4f2b-4955-9cdb-edf32bc7a099",
   "metadata": {},
   "outputs": [
    {
     "data": {
      "text/plain": [
       "<matplotlib.legend.Legend at 0x7f9f9c8ee740>"
      ]
     },
     "execution_count": 148,
     "metadata": {},
     "output_type": "execute_result"
    },
    {
     "data": {
      "image/png": "[encoded data removed]",
      "text/plain": [
       "<Figure size 800x600 with 1 Axes>"
      ]
     },
     "metadata": {},
     "output_type": "display_data"
    }
   ],
   "source": [
    "# Attack vs Cholesterol analysis\n",
    "sns.set(font_scale=1.3)\n",
    "plt.figure(figsize=(8,6))\n",
    "sns.set_style(\"white\")\n",
    "\n",
    "sns.histplot(heart[heart[\"output\"]==0][\"chol\"],alpha=0.3,\n",
    "             color=\"blue\")\n",
    "sns.histplot(heart[heart[\"output\"]==1][\"chol\"],\n",
    "             color=\"red\")\n",
    "\n",
    "plt.title(\"Heart Attack Risk vs Cholesterol\", size=20)\n",
    "plt.xlabel(\"Cholesterol Level\", fontsize=16)\n",
    "plt.ylabel(\"Density\", fontsize=16)\n",
    "plt.legend([\"Lower Risk\",\"Higher Risk\"], fontsize=14)\n"
   ]
  },
  {
   "cell_type": "code",
   "execution_count": 38,
   "id": "9268fbee-d9d0-4db0-a796-3b719b560709",
   "metadata": {},
   "outputs": [
    {
     "data": {
      "text/plain": [
       "Text(0, 0.5, 'Cholesterol Level')"
      ]
     },
     "execution_count": 38,
     "metadata": {},
     "output_type": "execute_result"
    },
    {
     "data": {
      "image/png": "[encoded data removed]",
      "text/plain": [
       "<Figure size 800x600 with 1 Axes>"
      ]
     },
     "metadata": {},
     "output_type": "display_data"
    }
   ],
   "source": [
    "plt.figure(figsize=(8,6))\n",
    "\n",
    "sns.lineplot(y=\"chol\",\n",
    "             x=\"age\",\n",
    "             data=heart,\n",
    "             color=\"red\")\n",
    "plt.title(\"Cholesterol with Age\",fontsize=20)\n",
    "plt.xlabel(\"Age\",fontsize=16)\n",
    "plt.ylabel(\"Cholesterol Level\",fontsize=16)"
   ]
  },
  {
   "cell_type": "code",
   "execution_count": 43,
   "id": "770ec499-417e-4a5b-a01c-2bcd02864e0e",
   "metadata": {},
   "outputs": [
    {
     "data": {
      "image/png": "[encoded data removed]",
      "text/plain": [
       "<Figure size 800x500 with 1 Axes>"
      ]
     },
     "metadata": {},
     "output_type": "display_data"
    }
   ],
   "source": [
    "# Relation of Heart Attack with Chest Pain Type\n",
    "df = pd.crosstab(heart['cp'], heart['output'])\n",
    "\n",
    "\n",
    "# Make the crosstab more visual\n",
    "\n",
    "sns.set(font_scale=1.3)\n",
    "sns.set_style(\"white\")\n",
    "\n",
    "df.plot(kind='bar',\n",
    "        figsize=(8,5),\n",
    "        color=['#e1d3c1', '#c64343']);\n",
    "\n",
    "plt.title(\"Heart Attack Risk vs. Chest Pain Type\", fontsize=20)\n",
    "plt.xlabel(\"Chest Pain types\", fontsize=16)\n",
    "plt.ylabel(\"Amount\", fontsize=16)\n",
    "plt.legend(['Lower Risk','Higher Risk'], fontsize=14)\n",
    "plt.xticks(rotation=0);"
   ]
  },
  {
   "cell_type": "code",
   "execution_count": null,
   "id": "d20315e8-2ddb-46db-a56b-f056a685c2a1",
   "metadata": {},
   "outputs": [],
   "source": []
  }
 ],
 "metadata": {
  "kernelspec": {
   "display_name": "Python 3 (ipykernel)",
   "language": "python",
   "name": "python3"
  },
  "language_info": {
   "codemirror_mode": {
    "name": "ipython",
    "version": 3
   },
   "file_extension": ".py",
   "mimetype": "text/x-python",
   "name": "python",
   "nbconvert_exporter": "python",
   "pygments_lexer": "ipython3",
   "version": "3.10.9"
  }
 },
 "nbformat": 4,
 "nbformat_minor": 5
}
