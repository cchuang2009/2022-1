{
  "cells": [
    {
      "cell_type": "markdown",
      "metadata": {
        "id": "J3G7UeD4IGxr"
      },
      "source": [
        "# Predictive Policing in San Francisco, SF\n",
        "Using crime data set in SF in 2016 creates the model for predicting it in 2017."
      ]
    },
    {
      "cell_type": "markdown",
      "metadata": {
        "id": "OKaRkhxwIGxu"
      },
      "source": [
        "## For a blog post explaining the motivation behind this project and an interactive map with the predictions visit:\n",
        "\n",
        " 1. http://www.orlandotorres.org/predictive-policing-sf.html\n",
        " 2. data, [opendata](https://datasf.org/opendata/) or github\n",
        " 3. get data\n",
        "    - from the coposition of colab hosted on google drive:\n",
        "       1. Click on the three dots visible when you hover above the directory\n",
        "       2. Select the “upload” option.\n",
        "       3. 3. Select the file(s) you wish to upload from the “File Upload” dialog window.\n",
        "       4. Wait for the upload to complete. The upload progress is shown at the bottom of the file-explorer pane.\n",
        "    - get from  Google drive\n",
        "      1. run\n",
        "         ```\n",
        "         from google.colab import drive\n",
        "         drive.mount('/content/gdrive')\n",
        "         ```\n",
        "      2. login and get the files    \n",
        "4. python avails robost system but not all packages which involve and are developed ny themselves; we can remove the warning the messages whoch come from the inconsistenebce of packages:\n",
        "```\n",
        "import warnings\n",
        "warnings.filterwarnings(\"ignore\")\n",
        "```\n"
      ]
    },
    {
      "cell_type": "code",
      "source": [
        "from google.colab import drive\n",
        "drive.mount('/content/gdrive')"
      ],
      "metadata": {
        "colab": {
          "base_uri": "https://localhost:8080/"
        },
        "id": "U2OUxUVPKRGo",
        "outputId": "57152866-7953-4e56-e305-a1016d64d796"
      },
      "execution_count": 1,
      "outputs": [
        {
          "output_type": "stream",
          "name": "stdout",
          "text": [
            "Mounted at /content/gdrive\n"
          ]
        }
      ]
    },
    {
      "cell_type": "code",
      "source": [
        "ls gdrive/MyDrive/2023/2023-2-Python-AI"
      ],
      "metadata": {
        "colab": {
          "base_uri": "https://localhost:8080/"
        },
        "id": "uagxH6IpKetP",
        "outputId": "16812064-4f53-4f64-f99a-ec36ad321d3b"
      },
      "execution_count": 8,
      "outputs": [
        {
          "output_type": "stream",
          "name": "stdout",
          "text": [
            "crime_sf.ipynb  \u001b[0m\u001b[01;34mdata\u001b[0m/  \u001b[01;34mimgs\u001b[0m/  Llama2OnColab.ipynb  Week-17-18-CNN.ipynb\n"
          ]
        }
      ]
    },
    {
      "cell_type": "code",
      "source": [
        "import warnings\n",
        "warnings.filterwarnings(\"ignore\")"
      ],
      "metadata": {
        "id": "SOa0RTt4MGTA"
      },
      "execution_count": 9,
      "outputs": []
    },
    {
      "cell_type": "code",
      "execution_count": null,
      "metadata": {
        "id": "PMCQHN6cIGxv"
      },
      "outputs": [],
      "source": [
        "# install if necessary\n",
        "!pip install geopandas shapely"
      ]
    },
    {
      "cell_type": "code",
      "source": [
        "!pip install catboost"
      ],
      "metadata": {
        "colab": {
          "base_uri": "https://localhost:8080/"
        },
        "id": "p6ELGwBoOgL4",
        "outputId": "2e23a7f9-d607-48c1-a3a7-0ee4bc5ca634"
      },
      "execution_count": 61,
      "outputs": [
        {
          "output_type": "stream",
          "name": "stdout",
          "text": [
            "Collecting catboost\n",
            "  Downloading catboost-1.2.2-cp310-cp310-manylinux2014_x86_64.whl (98.7 MB)\n",
            "\u001b[2K     \u001b[90m━━━━━━━━━━━━━━━━━━━━━━━━━━━━━━━━━━━━━━━━\u001b[0m \u001b[32m98.7/98.7 MB\u001b[0m \u001b[31m3.1 MB/s\u001b[0m eta \u001b[36m0:00:00\u001b[0m\n",
            "\u001b[?25hRequirement already satisfied: graphviz in /usr/local/lib/python3.10/dist-packages (from catboost) (0.20.1)\n",
            "Requirement already satisfied: matplotlib in /usr/local/lib/python3.10/dist-packages (from catboost) (3.7.1)\n",
            "Requirement already satisfied: numpy>=1.16.0 in /usr/local/lib/python3.10/dist-packages (from catboost) (1.23.5)\n",
            "Requirement already satisfied: pandas>=0.24 in /usr/local/lib/python3.10/dist-packages (from catboost) (1.5.3)\n",
            "Requirement already satisfied: scipy in /usr/local/lib/python3.10/dist-packages (from catboost) (1.11.4)\n",
            "Requirement already satisfied: plotly in /usr/local/lib/python3.10/dist-packages (from catboost) (5.15.0)\n",
            "Requirement already satisfied: six in /usr/local/lib/python3.10/dist-packages (from catboost) (1.16.0)\n",
            "Requirement already satisfied: python-dateutil>=2.8.1 in /usr/local/lib/python3.10/dist-packages (from pandas>=0.24->catboost) (2.8.2)\n",
            "Requirement already satisfied: pytz>=2020.1 in /usr/local/lib/python3.10/dist-packages (from pandas>=0.24->catboost) (2023.3.post1)\n",
            "Requirement already satisfied: contourpy>=1.0.1 in /usr/local/lib/python3.10/dist-packages (from matplotlib->catboost) (1.2.0)\n",
            "Requirement already satisfied: cycler>=0.10 in /usr/local/lib/python3.10/dist-packages (from matplotlib->catboost) (0.12.1)\n",
            "Requirement already satisfied: fonttools>=4.22.0 in /usr/local/lib/python3.10/dist-packages (from matplotlib->catboost) (4.47.2)\n",
            "Requirement already satisfied: kiwisolver>=1.0.1 in /usr/local/lib/python3.10/dist-packages (from matplotlib->catboost) (1.4.5)\n",
            "Requirement already satisfied: packaging>=20.0 in /usr/local/lib/python3.10/dist-packages (from matplotlib->catboost) (23.2)\n",
            "Requirement already satisfied: pillow>=6.2.0 in /usr/local/lib/python3.10/dist-packages (from matplotlib->catboost) (9.4.0)\n",
            "Requirement already satisfied: pyparsing>=2.3.1 in /usr/local/lib/python3.10/dist-packages (from matplotlib->catboost) (3.1.1)\n",
            "Requirement already satisfied: tenacity>=6.2.0 in /usr/local/lib/python3.10/dist-packages (from plotly->catboost) (8.2.3)\n",
            "Installing collected packages: catboost\n",
            "Successfully installed catboost-1.2.2\n"
          ]
        }
      ]
    },
    {
      "cell_type": "code",
      "execution_count": 64,
      "metadata": {
        "jupyter": {
          "outputs_hidden": false
        },
        "id": "X9gb0uGfIGxw"
      },
      "outputs": [],
      "source": [
        "from sklearn.linear_model import LinearRegression\n",
        "from sklearn.ensemble import RandomForestRegressor\n",
        "from sklearn.neighbors import KNeighborsRegressor\n",
        "from sklearn.neural_network import MLPRegressor\n",
        "from sklearn.svm import SVR\n",
        "from xgboost import XGBRegressor\n",
        "from catboost import CatBoostRegressor\n",
        "import geopandas\n",
        "from shapely.geometry import Point\n",
        "import numpy as np\n",
        "import pandas as pd\n",
        "import statsmodels.api as sm\n",
        "import matplotlib.pyplot as plt\n",
        "import seaborn as sns\n",
        "\n",
        "%matplotlib inline"
      ]
    },
    {
      "cell_type": "code",
      "execution_count": null,
      "metadata": {
        "jupyter": {
          "outputs_hidden": false
        },
        "id": "BpTI-Rz_IGxw"
      },
      "outputs": [],
      "source": [
        "$ if upladed in the sub-folder, data, or on the run on local\n",
        "crime17 = pd.read_csv('data/sf_incidents17.csv')\n",
        "crime16 = pd.read_csv('data/sf_incidents16.csv')"
      ]
    },
    {
      "cell_type": "code",
      "source": [
        "# if on the google dvive\n",
        "crime17 = pd.read_csv('gdrive/MyDrive/2023/2023-2-Python-AI/data/sf_incidents17.csv')\n",
        "crime16 = pd.read_csv('gdrive/MyDrive/2023/2023-2-Python-AI/data/sf_incidents16.csv')"
      ],
      "metadata": {
        "id": "-_eekE26Mf1L"
      },
      "execution_count": 14,
      "outputs": []
    },
    {
      "cell_type": "markdown",
      "metadata": {
        "id": "SF5FlB9oIGxx"
      },
      "source": [
        "### Find the zip codes for each incident given the latitude and longitude"
      ]
    },
    {
      "cell_type": "code",
      "execution_count": 15,
      "metadata": {
        "jupyter": {
          "outputs_hidden": false
        },
        "scrolled": true,
        "id": "8iCh8kVOIGxx"
      },
      "outputs": [],
      "source": [
        "crime16['geometry'] = crime16.apply(lambda row: Point(row['X'], row['Y']), axis=1)"
      ]
    },
    {
      "cell_type": "code",
      "execution_count": 16,
      "metadata": {
        "id": "srxXfC40IGxx"
      },
      "outputs": [],
      "source": [
        "geo_police_data = geopandas.GeoDataFrame(crime16, geometry='geometry')\n",
        "geo_police_data.crs = {'init': 'epsg:4326'}"
      ]
    },
    {
      "cell_type": "code",
      "execution_count": 18,
      "metadata": {
        "id": "6IiJG6KXIGxy"
      },
      "outputs": [],
      "source": [
        "sf = geopandas.read_file('gdrive/MyDrive/2023/2023-2-Python-AI/data/zipcodes_geo.json')\n",
        "sf.crs = {'init': 'epsg:4326'}\n",
        "sf = sf.set_geometry('geometry')"
      ]
    },
    {
      "cell_type": "code",
      "execution_count": 19,
      "metadata": {
        "jupyter": {
          "outputs_hidden": false
        },
        "id": "0yxsAjNuIGxz"
      },
      "outputs": [],
      "source": [
        "crime16 = geopandas.tools.sjoin(geo_police_data, sf, how='left')"
      ]
    },
    {
      "cell_type": "markdown",
      "metadata": {
        "id": "fVu_nNUnIGxz"
      },
      "source": [
        "### Find which zip codes, day of week, and hour have the most crimes"
      ]
    },
    {
      "cell_type": "code",
      "execution_count": 20,
      "metadata": {
        "jupyter": {
          "outputs_hidden": false
        },
        "id": "_w0lYb0vIGxz"
      },
      "outputs": [],
      "source": [
        "day_time_zip_16 = crime16[['Date', 'DayOfWeek', 'Time', 'zip']]"
      ]
    },
    {
      "cell_type": "code",
      "execution_count": 21,
      "metadata": {
        "jupyter": {
          "outputs_hidden": false
        },
        "id": "zSE92CSrIGx0"
      },
      "outputs": [],
      "source": [
        "day_time_zip_16.loc[:, 'Date'] = pd.to_datetime(day_time_zip_16['Date'])\n",
        "\n",
        "day_time_zip_16.loc[:, 'Hour'] = pd.to_datetime(day_time_zip_16['Time'])\n",
        "day_time_zip_16.loc[:, 'Hour'] = day_time_zip_16.Hour.apply(lambda x: x.hour)"
      ]
    },
    {
      "cell_type": "code",
      "execution_count": 22,
      "metadata": {
        "jupyter": {
          "outputs_hidden": false
        },
        "colab": {
          "base_uri": "https://localhost:8080/",
          "height": 206
        },
        "id": "pr2D22szIGx0",
        "outputId": "24a7d131-36f8-435e-b1d9-b3aaaebeb166"
      },
      "outputs": [
        {
          "output_type": "execute_result",
          "data": {
            "text/plain": [
              "        Date DayOfWeek   Time    zip  Hour\n",
              "0 2016-01-29    Friday  11:00  94103    11\n",
              "1 2016-01-29    Friday  11:00  94103    11\n",
              "2 2016-02-18  Thursday  22:00  94109    22\n",
              "3 2016-10-03    Monday  01:18  94102     1\n",
              "4 2016-04-25    Monday  14:59  94124    14"
            ],
            "text/html": [
              "\n",
              "  <div id=\"df-9e25ab02-98d8-4c3f-8dcc-5e80b6412bc2\" class=\"colab-df-container\">\n",
              "    <div>\n",
              "<style scoped>\n",
              "    .dataframe tbody tr th:only-of-type {\n",
              "        vertical-align: middle;\n",
              "    }\n",
              "\n",
              "    .dataframe tbody tr th {\n",
              "        vertical-align: top;\n",
              "    }\n",
              "\n",
              "    .dataframe thead th {\n",
              "        text-align: right;\n",
              "    }\n",
              "</style>\n",
              "<table border=\"1\" class=\"dataframe\">\n",
              "  <thead>\n",
              "    <tr style=\"text-align: right;\">\n",
              "      <th></th>\n",
              "      <th>Date</th>\n",
              "      <th>DayOfWeek</th>\n",
              "      <th>Time</th>\n",
              "      <th>zip</th>\n",
              "      <th>Hour</th>\n",
              "    </tr>\n",
              "  </thead>\n",
              "  <tbody>\n",
              "    <tr>\n",
              "      <th>0</th>\n",
              "      <td>2016-01-29</td>\n",
              "      <td>Friday</td>\n",
              "      <td>11:00</td>\n",
              "      <td>94103</td>\n",
              "      <td>11</td>\n",
              "    </tr>\n",
              "    <tr>\n",
              "      <th>1</th>\n",
              "      <td>2016-01-29</td>\n",
              "      <td>Friday</td>\n",
              "      <td>11:00</td>\n",
              "      <td>94103</td>\n",
              "      <td>11</td>\n",
              "    </tr>\n",
              "    <tr>\n",
              "      <th>2</th>\n",
              "      <td>2016-02-18</td>\n",
              "      <td>Thursday</td>\n",
              "      <td>22:00</td>\n",
              "      <td>94109</td>\n",
              "      <td>22</td>\n",
              "    </tr>\n",
              "    <tr>\n",
              "      <th>3</th>\n",
              "      <td>2016-10-03</td>\n",
              "      <td>Monday</td>\n",
              "      <td>01:18</td>\n",
              "      <td>94102</td>\n",
              "      <td>1</td>\n",
              "    </tr>\n",
              "    <tr>\n",
              "      <th>4</th>\n",
              "      <td>2016-04-25</td>\n",
              "      <td>Monday</td>\n",
              "      <td>14:59</td>\n",
              "      <td>94124</td>\n",
              "      <td>14</td>\n",
              "    </tr>\n",
              "  </tbody>\n",
              "</table>\n",
              "</div>\n",
              "    <div class=\"colab-df-buttons\">\n",
              "\n",
              "  <div class=\"colab-df-container\">\n",
              "    <button class=\"colab-df-convert\" onclick=\"convertToInteractive('df-9e25ab02-98d8-4c3f-8dcc-5e80b6412bc2')\"\n",
              "            title=\"Convert this dataframe to an interactive table.\"\n",
              "            style=\"display:none;\">\n",
              "\n",
              "  <svg xmlns=\"http://www.w3.org/2000/svg\" height=\"24px\" viewBox=\"0 -960 960 960\">\n",
              "    <path d=\"M120-120v-720h720v720H120Zm60-500h600v-160H180v160Zm220 220h160v-160H400v160Zm0 220h160v-160H400v160ZM180-400h160v-160H180v160Zm440 0h160v-160H620v160ZM180-180h160v-160H180v160Zm440 0h160v-160H620v160Z\"/>\n",
              "  </svg>\n",
              "    </button>\n",
              "\n",
              "  <style>\n",
              "    .colab-df-container {\n",
              "      display:flex;\n",
              "      gap: 12px;\n",
              "    }\n",
              "\n",
              "    .colab-df-convert {\n",
              "      background-color: #E8F0FE;\n",
              "      border: none;\n",
              "      border-radius: 50%;\n",
              "      cursor: pointer;\n",
              "      display: none;\n",
              "      fill: #1967D2;\n",
              "      height: 32px;\n",
              "      padding: 0 0 0 0;\n",
              "      width: 32px;\n",
              "    }\n",
              "\n",
              "    .colab-df-convert:hover {\n",
              "      background-color: #E2EBFA;\n",
              "      box-shadow: 0px 1px 2px rgba(60, 64, 67, 0.3), 0px 1px 3px 1px rgba(60, 64, 67, 0.15);\n",
              "      fill: #174EA6;\n",
              "    }\n",
              "\n",
              "    .colab-df-buttons div {\n",
              "      margin-bottom: 4px;\n",
              "    }\n",
              "\n",
              "    [theme=dark] .colab-df-convert {\n",
              "      background-color: #3B4455;\n",
              "      fill: #D2E3FC;\n",
              "    }\n",
              "\n",
              "    [theme=dark] .colab-df-convert:hover {\n",
              "      background-color: #434B5C;\n",
              "      box-shadow: 0px 1px 3px 1px rgba(0, 0, 0, 0.15);\n",
              "      filter: drop-shadow(0px 1px 2px rgba(0, 0, 0, 0.3));\n",
              "      fill: #FFFFFF;\n",
              "    }\n",
              "  </style>\n",
              "\n",
              "    <script>\n",
              "      const buttonEl =\n",
              "        document.querySelector('#df-9e25ab02-98d8-4c3f-8dcc-5e80b6412bc2 button.colab-df-convert');\n",
              "      buttonEl.style.display =\n",
              "        google.colab.kernel.accessAllowed ? 'block' : 'none';\n",
              "\n",
              "      async function convertToInteractive(key) {\n",
              "        const element = document.querySelector('#df-9e25ab02-98d8-4c3f-8dcc-5e80b6412bc2');\n",
              "        const dataTable =\n",
              "          await google.colab.kernel.invokeFunction('convertToInteractive',\n",
              "                                                    [key], {});\n",
              "        if (!dataTable) return;\n",
              "\n",
              "        const docLinkHtml = 'Like what you see? Visit the ' +\n",
              "          '<a target=\"_blank\" href=https://colab.research.google.com/notebooks/data_table.ipynb>data table notebook</a>'\n",
              "          + ' to learn more about interactive tables.';\n",
              "        element.innerHTML = '';\n",
              "        dataTable['output_type'] = 'display_data';\n",
              "        await google.colab.output.renderOutput(dataTable, element);\n",
              "        const docLink = document.createElement('div');\n",
              "        docLink.innerHTML = docLinkHtml;\n",
              "        element.appendChild(docLink);\n",
              "      }\n",
              "    </script>\n",
              "  </div>\n",
              "\n",
              "\n",
              "<div id=\"df-99dfac81-b74e-4c3d-a22e-c5b268a04d2e\">\n",
              "  <button class=\"colab-df-quickchart\" onclick=\"quickchart('df-99dfac81-b74e-4c3d-a22e-c5b268a04d2e')\"\n",
              "            title=\"Suggest charts\"\n",
              "            style=\"display:none;\">\n",
              "\n",
              "<svg xmlns=\"http://www.w3.org/2000/svg\" height=\"24px\"viewBox=\"0 0 24 24\"\n",
              "     width=\"24px\">\n",
              "    <g>\n",
              "        <path d=\"M19 3H5c-1.1 0-2 .9-2 2v14c0 1.1.9 2 2 2h14c1.1 0 2-.9 2-2V5c0-1.1-.9-2-2-2zM9 17H7v-7h2v7zm4 0h-2V7h2v10zm4 0h-2v-4h2v4z\"/>\n",
              "    </g>\n",
              "</svg>\n",
              "  </button>\n",
              "\n",
              "<style>\n",
              "  .colab-df-quickchart {\n",
              "      --bg-color: #E8F0FE;\n",
              "      --fill-color: #1967D2;\n",
              "      --hover-bg-color: #E2EBFA;\n",
              "      --hover-fill-color: #174EA6;\n",
              "      --disabled-fill-color: #AAA;\n",
              "      --disabled-bg-color: #DDD;\n",
              "  }\n",
              "\n",
              "  [theme=dark] .colab-df-quickchart {\n",
              "      --bg-color: #3B4455;\n",
              "      --fill-color: #D2E3FC;\n",
              "      --hover-bg-color: #434B5C;\n",
              "      --hover-fill-color: #FFFFFF;\n",
              "      --disabled-bg-color: #3B4455;\n",
              "      --disabled-fill-color: #666;\n",
              "  }\n",
              "\n",
              "  .colab-df-quickchart {\n",
              "    background-color: var(--bg-color);\n",
              "    border: none;\n",
              "    border-radius: 50%;\n",
              "    cursor: pointer;\n",
              "    display: none;\n",
              "    fill: var(--fill-color);\n",
              "    height: 32px;\n",
              "    padding: 0;\n",
              "    width: 32px;\n",
              "  }\n",
              "\n",
              "  .colab-df-quickchart:hover {\n",
              "    background-color: var(--hover-bg-color);\n",
              "    box-shadow: 0 1px 2px rgba(60, 64, 67, 0.3), 0 1px 3px 1px rgba(60, 64, 67, 0.15);\n",
              "    fill: var(--button-hover-fill-color);\n",
              "  }\n",
              "\n",
              "  .colab-df-quickchart-complete:disabled,\n",
              "  .colab-df-quickchart-complete:disabled:hover {\n",
              "    background-color: var(--disabled-bg-color);\n",
              "    fill: var(--disabled-fill-color);\n",
              "    box-shadow: none;\n",
              "  }\n",
              "\n",
              "  .colab-df-spinner {\n",
              "    border: 2px solid var(--fill-color);\n",
              "    border-color: transparent;\n",
              "    border-bottom-color: var(--fill-color);\n",
              "    animation:\n",
              "      spin 1s steps(1) infinite;\n",
              "  }\n",
              "\n",
              "  @keyframes spin {\n",
              "    0% {\n",
              "      border-color: transparent;\n",
              "      border-bottom-color: var(--fill-color);\n",
              "      border-left-color: var(--fill-color);\n",
              "    }\n",
              "    20% {\n",
              "      border-color: transparent;\n",
              "      border-left-color: var(--fill-color);\n",
              "      border-top-color: var(--fill-color);\n",
              "    }\n",
              "    30% {\n",
              "      border-color: transparent;\n",
              "      border-left-color: var(--fill-color);\n",
              "      border-top-color: var(--fill-color);\n",
              "      border-right-color: var(--fill-color);\n",
              "    }\n",
              "    40% {\n",
              "      border-color: transparent;\n",
              "      border-right-color: var(--fill-color);\n",
              "      border-top-color: var(--fill-color);\n",
              "    }\n",
              "    60% {\n",
              "      border-color: transparent;\n",
              "      border-right-color: var(--fill-color);\n",
              "    }\n",
              "    80% {\n",
              "      border-color: transparent;\n",
              "      border-right-color: var(--fill-color);\n",
              "      border-bottom-color: var(--fill-color);\n",
              "    }\n",
              "    90% {\n",
              "      border-color: transparent;\n",
              "      border-bottom-color: var(--fill-color);\n",
              "    }\n",
              "  }\n",
              "</style>\n",
              "\n",
              "  <script>\n",
              "    async function quickchart(key) {\n",
              "      const quickchartButtonEl =\n",
              "        document.querySelector('#' + key + ' button');\n",
              "      quickchartButtonEl.disabled = true;  // To prevent multiple clicks.\n",
              "      quickchartButtonEl.classList.add('colab-df-spinner');\n",
              "      try {\n",
              "        const charts = await google.colab.kernel.invokeFunction(\n",
              "            'suggestCharts', [key], {});\n",
              "      } catch (error) {\n",
              "        console.error('Error during call to suggestCharts:', error);\n",
              "      }\n",
              "      quickchartButtonEl.classList.remove('colab-df-spinner');\n",
              "      quickchartButtonEl.classList.add('colab-df-quickchart-complete');\n",
              "    }\n",
              "    (() => {\n",
              "      let quickchartButtonEl =\n",
              "        document.querySelector('#df-99dfac81-b74e-4c3d-a22e-c5b268a04d2e button');\n",
              "      quickchartButtonEl.style.display =\n",
              "        google.colab.kernel.accessAllowed ? 'block' : 'none';\n",
              "    })();\n",
              "  </script>\n",
              "</div>\n",
              "\n",
              "    </div>\n",
              "  </div>\n"
            ]
          },
          "metadata": {},
          "execution_count": 22
        }
      ],
      "source": [
        "day_time_zip_16.head()"
      ]
    },
    {
      "cell_type": "markdown",
      "metadata": {
        "id": "DGwKtHeJIGx0"
      },
      "source": [
        "## Remove data from November and December because I don't have that data for 2017 to compare it to\n",
        "\n",
        "First convert the object to datetime format:"
      ]
    },
    {
      "cell_type": "code",
      "execution_count": 23,
      "metadata": {
        "id": "gcJiHLjWIGx0"
      },
      "outputs": [],
      "source": [
        "day_time_zip_16['Date']=pd.to_datetime(day_time_zip_16['Date'])"
      ]
    },
    {
      "cell_type": "code",
      "execution_count": 24,
      "metadata": {
        "id": "WD_5biYmIGx1"
      },
      "outputs": [],
      "source": [
        "day_time_zip_16_final = day_time_zip_16[day_time_zip_16.Date.dt.month < 11]"
      ]
    },
    {
      "cell_type": "code",
      "execution_count": 25,
      "metadata": {
        "jupyter": {
          "outputs_hidden": false
        },
        "colab": {
          "base_uri": "https://localhost:8080/",
          "height": 206
        },
        "id": "sB9ll4CRIGx1",
        "outputId": "ac4a288e-7f15-4c02-90a2-5c69d8a822cb"
      },
      "outputs": [
        {
          "output_type": "execute_result",
          "data": {
            "text/plain": [
              "        Date DayOfWeek   Time    zip  Hour\n",
              "0 2016-01-29    Friday  11:00  94103    11\n",
              "1 2016-01-29    Friday  11:00  94103    11\n",
              "2 2016-02-18  Thursday  22:00  94109    22\n",
              "3 2016-10-03    Monday  01:18  94102     1\n",
              "4 2016-04-25    Monday  14:59  94124    14"
            ],
            "text/html": [
              "\n",
              "  <div id=\"df-5a9c2f7e-3eba-44dc-9b7a-e10ca3255439\" class=\"colab-df-container\">\n",
              "    <div>\n",
              "<style scoped>\n",
              "    .dataframe tbody tr th:only-of-type {\n",
              "        vertical-align: middle;\n",
              "    }\n",
              "\n",
              "    .dataframe tbody tr th {\n",
              "        vertical-align: top;\n",
              "    }\n",
              "\n",
              "    .dataframe thead th {\n",
              "        text-align: right;\n",
              "    }\n",
              "</style>\n",
              "<table border=\"1\" class=\"dataframe\">\n",
              "  <thead>\n",
              "    <tr style=\"text-align: right;\">\n",
              "      <th></th>\n",
              "      <th>Date</th>\n",
              "      <th>DayOfWeek</th>\n",
              "      <th>Time</th>\n",
              "      <th>zip</th>\n",
              "      <th>Hour</th>\n",
              "    </tr>\n",
              "  </thead>\n",
              "  <tbody>\n",
              "    <tr>\n",
              "      <th>0</th>\n",
              "      <td>2016-01-29</td>\n",
              "      <td>Friday</td>\n",
              "      <td>11:00</td>\n",
              "      <td>94103</td>\n",
              "      <td>11</td>\n",
              "    </tr>\n",
              "    <tr>\n",
              "      <th>1</th>\n",
              "      <td>2016-01-29</td>\n",
              "      <td>Friday</td>\n",
              "      <td>11:00</td>\n",
              "      <td>94103</td>\n",
              "      <td>11</td>\n",
              "    </tr>\n",
              "    <tr>\n",
              "      <th>2</th>\n",
              "      <td>2016-02-18</td>\n",
              "      <td>Thursday</td>\n",
              "      <td>22:00</td>\n",
              "      <td>94109</td>\n",
              "      <td>22</td>\n",
              "    </tr>\n",
              "    <tr>\n",
              "      <th>3</th>\n",
              "      <td>2016-10-03</td>\n",
              "      <td>Monday</td>\n",
              "      <td>01:18</td>\n",
              "      <td>94102</td>\n",
              "      <td>1</td>\n",
              "    </tr>\n",
              "    <tr>\n",
              "      <th>4</th>\n",
              "      <td>2016-04-25</td>\n",
              "      <td>Monday</td>\n",
              "      <td>14:59</td>\n",
              "      <td>94124</td>\n",
              "      <td>14</td>\n",
              "    </tr>\n",
              "  </tbody>\n",
              "</table>\n",
              "</div>\n",
              "    <div class=\"colab-df-buttons\">\n",
              "\n",
              "  <div class=\"colab-df-container\">\n",
              "    <button class=\"colab-df-convert\" onclick=\"convertToInteractive('df-5a9c2f7e-3eba-44dc-9b7a-e10ca3255439')\"\n",
              "            title=\"Convert this dataframe to an interactive table.\"\n",
              "            style=\"display:none;\">\n",
              "\n",
              "  <svg xmlns=\"http://www.w3.org/2000/svg\" height=\"24px\" viewBox=\"0 -960 960 960\">\n",
              "    <path d=\"M120-120v-720h720v720H120Zm60-500h600v-160H180v160Zm220 220h160v-160H400v160Zm0 220h160v-160H400v160ZM180-400h160v-160H180v160Zm440 0h160v-160H620v160ZM180-180h160v-160H180v160Zm440 0h160v-160H620v160Z\"/>\n",
              "  </svg>\n",
              "    </button>\n",
              "\n",
              "  <style>\n",
              "    .colab-df-container {\n",
              "      display:flex;\n",
              "      gap: 12px;\n",
              "    }\n",
              "\n",
              "    .colab-df-convert {\n",
              "      background-color: #E8F0FE;\n",
              "      border: none;\n",
              "      border-radius: 50%;\n",
              "      cursor: pointer;\n",
              "      display: none;\n",
              "      fill: #1967D2;\n",
              "      height: 32px;\n",
              "      padding: 0 0 0 0;\n",
              "      width: 32px;\n",
              "    }\n",
              "\n",
              "    .colab-df-convert:hover {\n",
              "      background-color: #E2EBFA;\n",
              "      box-shadow: 0px 1px 2px rgba(60, 64, 67, 0.3), 0px 1px 3px 1px rgba(60, 64, 67, 0.15);\n",
              "      fill: #174EA6;\n",
              "    }\n",
              "\n",
              "    .colab-df-buttons div {\n",
              "      margin-bottom: 4px;\n",
              "    }\n",
              "\n",
              "    [theme=dark] .colab-df-convert {\n",
              "      background-color: #3B4455;\n",
              "      fill: #D2E3FC;\n",
              "    }\n",
              "\n",
              "    [theme=dark] .colab-df-convert:hover {\n",
              "      background-color: #434B5C;\n",
              "      box-shadow: 0px 1px 3px 1px rgba(0, 0, 0, 0.15);\n",
              "      filter: drop-shadow(0px 1px 2px rgba(0, 0, 0, 0.3));\n",
              "      fill: #FFFFFF;\n",
              "    }\n",
              "  </style>\n",
              "\n",
              "    <script>\n",
              "      const buttonEl =\n",
              "        document.querySelector('#df-5a9c2f7e-3eba-44dc-9b7a-e10ca3255439 button.colab-df-convert');\n",
              "      buttonEl.style.display =\n",
              "        google.colab.kernel.accessAllowed ? 'block' : 'none';\n",
              "\n",
              "      async function convertToInteractive(key) {\n",
              "        const element = document.querySelector('#df-5a9c2f7e-3eba-44dc-9b7a-e10ca3255439');\n",
              "        const dataTable =\n",
              "          await google.colab.kernel.invokeFunction('convertToInteractive',\n",
              "                                                    [key], {});\n",
              "        if (!dataTable) return;\n",
              "\n",
              "        const docLinkHtml = 'Like what you see? Visit the ' +\n",
              "          '<a target=\"_blank\" href=https://colab.research.google.com/notebooks/data_table.ipynb>data table notebook</a>'\n",
              "          + ' to learn more about interactive tables.';\n",
              "        element.innerHTML = '';\n",
              "        dataTable['output_type'] = 'display_data';\n",
              "        await google.colab.output.renderOutput(dataTable, element);\n",
              "        const docLink = document.createElement('div');\n",
              "        docLink.innerHTML = docLinkHtml;\n",
              "        element.appendChild(docLink);\n",
              "      }\n",
              "    </script>\n",
              "  </div>\n",
              "\n",
              "\n",
              "<div id=\"df-c9fadd19-4e03-44d9-8e59-9f0b83401181\">\n",
              "  <button class=\"colab-df-quickchart\" onclick=\"quickchart('df-c9fadd19-4e03-44d9-8e59-9f0b83401181')\"\n",
              "            title=\"Suggest charts\"\n",
              "            style=\"display:none;\">\n",
              "\n",
              "<svg xmlns=\"http://www.w3.org/2000/svg\" height=\"24px\"viewBox=\"0 0 24 24\"\n",
              "     width=\"24px\">\n",
              "    <g>\n",
              "        <path d=\"M19 3H5c-1.1 0-2 .9-2 2v14c0 1.1.9 2 2 2h14c1.1 0 2-.9 2-2V5c0-1.1-.9-2-2-2zM9 17H7v-7h2v7zm4 0h-2V7h2v10zm4 0h-2v-4h2v4z\"/>\n",
              "    </g>\n",
              "</svg>\n",
              "  </button>\n",
              "\n",
              "<style>\n",
              "  .colab-df-quickchart {\n",
              "      --bg-color: #E8F0FE;\n",
              "      --fill-color: #1967D2;\n",
              "      --hover-bg-color: #E2EBFA;\n",
              "      --hover-fill-color: #174EA6;\n",
              "      --disabled-fill-color: #AAA;\n",
              "      --disabled-bg-color: #DDD;\n",
              "  }\n",
              "\n",
              "  [theme=dark] .colab-df-quickchart {\n",
              "      --bg-color: #3B4455;\n",
              "      --fill-color: #D2E3FC;\n",
              "      --hover-bg-color: #434B5C;\n",
              "      --hover-fill-color: #FFFFFF;\n",
              "      --disabled-bg-color: #3B4455;\n",
              "      --disabled-fill-color: #666;\n",
              "  }\n",
              "\n",
              "  .colab-df-quickchart {\n",
              "    background-color: var(--bg-color);\n",
              "    border: none;\n",
              "    border-radius: 50%;\n",
              "    cursor: pointer;\n",
              "    display: none;\n",
              "    fill: var(--fill-color);\n",
              "    height: 32px;\n",
              "    padding: 0;\n",
              "    width: 32px;\n",
              "  }\n",
              "\n",
              "  .colab-df-quickchart:hover {\n",
              "    background-color: var(--hover-bg-color);\n",
              "    box-shadow: 0 1px 2px rgba(60, 64, 67, 0.3), 0 1px 3px 1px rgba(60, 64, 67, 0.15);\n",
              "    fill: var(--button-hover-fill-color);\n",
              "  }\n",
              "\n",
              "  .colab-df-quickchart-complete:disabled,\n",
              "  .colab-df-quickchart-complete:disabled:hover {\n",
              "    background-color: var(--disabled-bg-color);\n",
              "    fill: var(--disabled-fill-color);\n",
              "    box-shadow: none;\n",
              "  }\n",
              "\n",
              "  .colab-df-spinner {\n",
              "    border: 2px solid var(--fill-color);\n",
              "    border-color: transparent;\n",
              "    border-bottom-color: var(--fill-color);\n",
              "    animation:\n",
              "      spin 1s steps(1) infinite;\n",
              "  }\n",
              "\n",
              "  @keyframes spin {\n",
              "    0% {\n",
              "      border-color: transparent;\n",
              "      border-bottom-color: var(--fill-color);\n",
              "      border-left-color: var(--fill-color);\n",
              "    }\n",
              "    20% {\n",
              "      border-color: transparent;\n",
              "      border-left-color: var(--fill-color);\n",
              "      border-top-color: var(--fill-color);\n",
              "    }\n",
              "    30% {\n",
              "      border-color: transparent;\n",
              "      border-left-color: var(--fill-color);\n",
              "      border-top-color: var(--fill-color);\n",
              "      border-right-color: var(--fill-color);\n",
              "    }\n",
              "    40% {\n",
              "      border-color: transparent;\n",
              "      border-right-color: var(--fill-color);\n",
              "      border-top-color: var(--fill-color);\n",
              "    }\n",
              "    60% {\n",
              "      border-color: transparent;\n",
              "      border-right-color: var(--fill-color);\n",
              "    }\n",
              "    80% {\n",
              "      border-color: transparent;\n",
              "      border-right-color: var(--fill-color);\n",
              "      border-bottom-color: var(--fill-color);\n",
              "    }\n",
              "    90% {\n",
              "      border-color: transparent;\n",
              "      border-bottom-color: var(--fill-color);\n",
              "    }\n",
              "  }\n",
              "</style>\n",
              "\n",
              "  <script>\n",
              "    async function quickchart(key) {\n",
              "      const quickchartButtonEl =\n",
              "        document.querySelector('#' + key + ' button');\n",
              "      quickchartButtonEl.disabled = true;  // To prevent multiple clicks.\n",
              "      quickchartButtonEl.classList.add('colab-df-spinner');\n",
              "      try {\n",
              "        const charts = await google.colab.kernel.invokeFunction(\n",
              "            'suggestCharts', [key], {});\n",
              "      } catch (error) {\n",
              "        console.error('Error during call to suggestCharts:', error);\n",
              "      }\n",
              "      quickchartButtonEl.classList.remove('colab-df-spinner');\n",
              "      quickchartButtonEl.classList.add('colab-df-quickchart-complete');\n",
              "    }\n",
              "    (() => {\n",
              "      let quickchartButtonEl =\n",
              "        document.querySelector('#df-c9fadd19-4e03-44d9-8e59-9f0b83401181 button');\n",
              "      quickchartButtonEl.style.display =\n",
              "        google.colab.kernel.accessAllowed ? 'block' : 'none';\n",
              "    })();\n",
              "  </script>\n",
              "</div>\n",
              "\n",
              "    </div>\n",
              "  </div>\n"
            ]
          },
          "metadata": {},
          "execution_count": 25
        }
      ],
      "source": [
        "day_time_zip_16.head()"
      ]
    },
    {
      "cell_type": "markdown",
      "metadata": {
        "id": "cQRp64CXIGx1"
      },
      "source": [
        "## Combine all the crimes into hours and days and zip codes"
      ]
    },
    {
      "cell_type": "code",
      "execution_count": 26,
      "metadata": {
        "jupyter": {
          "outputs_hidden": false
        },
        "id": "j6UovtQiIGx1"
      },
      "outputs": [],
      "source": [
        "day_time_zip_16_final = day_time_zip_16[['DayOfWeek', 'zip', 'Hour']]"
      ]
    },
    {
      "cell_type": "code",
      "execution_count": 27,
      "metadata": {
        "jupyter": {
          "outputs_hidden": false
        },
        "id": "EEM0Z3I1IGx1"
      },
      "outputs": [],
      "source": [
        "day_time_zip_16_final.loc[:, 'Crimes'] = 1"
      ]
    },
    {
      "cell_type": "code",
      "execution_count": 28,
      "metadata": {
        "jupyter": {
          "outputs_hidden": false
        },
        "id": "KEYssSqTIGx1"
      },
      "outputs": [],
      "source": [
        "hour_totals_16 = day_time_zip_16_final.groupby(['DayOfWeek', 'zip', 'Hour']).sum().reset_index()"
      ]
    },
    {
      "cell_type": "code",
      "execution_count": 29,
      "metadata": {
        "jupyter": {
          "outputs_hidden": false
        },
        "colab": {
          "base_uri": "https://localhost:8080/",
          "height": 206
        },
        "id": "1HA2Vy3KIGx1",
        "outputId": "81986439-821e-4ae8-e47c-3cfe25eb92f3"
      },
      "outputs": [
        {
          "output_type": "execute_result",
          "data": {
            "text/plain": [
              "      DayOfWeek    zip  Hour  Crimes\n",
              "41       Friday  94103    17     265\n",
              "650      Monday  94103    17     258\n",
              "2482   Thursday  94103    18     257\n",
              "3699  Wednesday  94103    18     257\n",
              "42       Friday  94103    18     253"
            ],
            "text/html": [
              "\n",
              "  <div id=\"df-13d65d7d-4bf8-40dd-9522-9768d8fccc15\" class=\"colab-df-container\">\n",
              "    <div>\n",
              "<style scoped>\n",
              "    .dataframe tbody tr th:only-of-type {\n",
              "        vertical-align: middle;\n",
              "    }\n",
              "\n",
              "    .dataframe tbody tr th {\n",
              "        vertical-align: top;\n",
              "    }\n",
              "\n",
              "    .dataframe thead th {\n",
              "        text-align: right;\n",
              "    }\n",
              "</style>\n",
              "<table border=\"1\" class=\"dataframe\">\n",
              "  <thead>\n",
              "    <tr style=\"text-align: right;\">\n",
              "      <th></th>\n",
              "      <th>DayOfWeek</th>\n",
              "      <th>zip</th>\n",
              "      <th>Hour</th>\n",
              "      <th>Crimes</th>\n",
              "    </tr>\n",
              "  </thead>\n",
              "  <tbody>\n",
              "    <tr>\n",
              "      <th>41</th>\n",
              "      <td>Friday</td>\n",
              "      <td>94103</td>\n",
              "      <td>17</td>\n",
              "      <td>265</td>\n",
              "    </tr>\n",
              "    <tr>\n",
              "      <th>650</th>\n",
              "      <td>Monday</td>\n",
              "      <td>94103</td>\n",
              "      <td>17</td>\n",
              "      <td>258</td>\n",
              "    </tr>\n",
              "    <tr>\n",
              "      <th>2482</th>\n",
              "      <td>Thursday</td>\n",
              "      <td>94103</td>\n",
              "      <td>18</td>\n",
              "      <td>257</td>\n",
              "    </tr>\n",
              "    <tr>\n",
              "      <th>3699</th>\n",
              "      <td>Wednesday</td>\n",
              "      <td>94103</td>\n",
              "      <td>18</td>\n",
              "      <td>257</td>\n",
              "    </tr>\n",
              "    <tr>\n",
              "      <th>42</th>\n",
              "      <td>Friday</td>\n",
              "      <td>94103</td>\n",
              "      <td>18</td>\n",
              "      <td>253</td>\n",
              "    </tr>\n",
              "  </tbody>\n",
              "</table>\n",
              "</div>\n",
              "    <div class=\"colab-df-buttons\">\n",
              "\n",
              "  <div class=\"colab-df-container\">\n",
              "    <button class=\"colab-df-convert\" onclick=\"convertToInteractive('df-13d65d7d-4bf8-40dd-9522-9768d8fccc15')\"\n",
              "            title=\"Convert this dataframe to an interactive table.\"\n",
              "            style=\"display:none;\">\n",
              "\n",
              "  <svg xmlns=\"http://www.w3.org/2000/svg\" height=\"24px\" viewBox=\"0 -960 960 960\">\n",
              "    <path d=\"M120-120v-720h720v720H120Zm60-500h600v-160H180v160Zm220 220h160v-160H400v160Zm0 220h160v-160H400v160ZM180-400h160v-160H180v160Zm440 0h160v-160H620v160ZM180-180h160v-160H180v160Zm440 0h160v-160H620v160Z\"/>\n",
              "  </svg>\n",
              "    </button>\n",
              "\n",
              "  <style>\n",
              "    .colab-df-container {\n",
              "      display:flex;\n",
              "      gap: 12px;\n",
              "    }\n",
              "\n",
              "    .colab-df-convert {\n",
              "      background-color: #E8F0FE;\n",
              "      border: none;\n",
              "      border-radius: 50%;\n",
              "      cursor: pointer;\n",
              "      display: none;\n",
              "      fill: #1967D2;\n",
              "      height: 32px;\n",
              "      padding: 0 0 0 0;\n",
              "      width: 32px;\n",
              "    }\n",
              "\n",
              "    .colab-df-convert:hover {\n",
              "      background-color: #E2EBFA;\n",
              "      box-shadow: 0px 1px 2px rgba(60, 64, 67, 0.3), 0px 1px 3px 1px rgba(60, 64, 67, 0.15);\n",
              "      fill: #174EA6;\n",
              "    }\n",
              "\n",
              "    .colab-df-buttons div {\n",
              "      margin-bottom: 4px;\n",
              "    }\n",
              "\n",
              "    [theme=dark] .colab-df-convert {\n",
              "      background-color: #3B4455;\n",
              "      fill: #D2E3FC;\n",
              "    }\n",
              "\n",
              "    [theme=dark] .colab-df-convert:hover {\n",
              "      background-color: #434B5C;\n",
              "      box-shadow: 0px 1px 3px 1px rgba(0, 0, 0, 0.15);\n",
              "      filter: drop-shadow(0px 1px 2px rgba(0, 0, 0, 0.3));\n",
              "      fill: #FFFFFF;\n",
              "    }\n",
              "  </style>\n",
              "\n",
              "    <script>\n",
              "      const buttonEl =\n",
              "        document.querySelector('#df-13d65d7d-4bf8-40dd-9522-9768d8fccc15 button.colab-df-convert');\n",
              "      buttonEl.style.display =\n",
              "        google.colab.kernel.accessAllowed ? 'block' : 'none';\n",
              "\n",
              "      async function convertToInteractive(key) {\n",
              "        const element = document.querySelector('#df-13d65d7d-4bf8-40dd-9522-9768d8fccc15');\n",
              "        const dataTable =\n",
              "          await google.colab.kernel.invokeFunction('convertToInteractive',\n",
              "                                                    [key], {});\n",
              "        if (!dataTable) return;\n",
              "\n",
              "        const docLinkHtml = 'Like what you see? Visit the ' +\n",
              "          '<a target=\"_blank\" href=https://colab.research.google.com/notebooks/data_table.ipynb>data table notebook</a>'\n",
              "          + ' to learn more about interactive tables.';\n",
              "        element.innerHTML = '';\n",
              "        dataTable['output_type'] = 'display_data';\n",
              "        await google.colab.output.renderOutput(dataTable, element);\n",
              "        const docLink = document.createElement('div');\n",
              "        docLink.innerHTML = docLinkHtml;\n",
              "        element.appendChild(docLink);\n",
              "      }\n",
              "    </script>\n",
              "  </div>\n",
              "\n",
              "\n",
              "<div id=\"df-46a20769-aac9-4db1-96c9-6e259c33166f\">\n",
              "  <button class=\"colab-df-quickchart\" onclick=\"quickchart('df-46a20769-aac9-4db1-96c9-6e259c33166f')\"\n",
              "            title=\"Suggest charts\"\n",
              "            style=\"display:none;\">\n",
              "\n",
              "<svg xmlns=\"http://www.w3.org/2000/svg\" height=\"24px\"viewBox=\"0 0 24 24\"\n",
              "     width=\"24px\">\n",
              "    <g>\n",
              "        <path d=\"M19 3H5c-1.1 0-2 .9-2 2v14c0 1.1.9 2 2 2h14c1.1 0 2-.9 2-2V5c0-1.1-.9-2-2-2zM9 17H7v-7h2v7zm4 0h-2V7h2v10zm4 0h-2v-4h2v4z\"/>\n",
              "    </g>\n",
              "</svg>\n",
              "  </button>\n",
              "\n",
              "<style>\n",
              "  .colab-df-quickchart {\n",
              "      --bg-color: #E8F0FE;\n",
              "      --fill-color: #1967D2;\n",
              "      --hover-bg-color: #E2EBFA;\n",
              "      --hover-fill-color: #174EA6;\n",
              "      --disabled-fill-color: #AAA;\n",
              "      --disabled-bg-color: #DDD;\n",
              "  }\n",
              "\n",
              "  [theme=dark] .colab-df-quickchart {\n",
              "      --bg-color: #3B4455;\n",
              "      --fill-color: #D2E3FC;\n",
              "      --hover-bg-color: #434B5C;\n",
              "      --hover-fill-color: #FFFFFF;\n",
              "      --disabled-bg-color: #3B4455;\n",
              "      --disabled-fill-color: #666;\n",
              "  }\n",
              "\n",
              "  .colab-df-quickchart {\n",
              "    background-color: var(--bg-color);\n",
              "    border: none;\n",
              "    border-radius: 50%;\n",
              "    cursor: pointer;\n",
              "    display: none;\n",
              "    fill: var(--fill-color);\n",
              "    height: 32px;\n",
              "    padding: 0;\n",
              "    width: 32px;\n",
              "  }\n",
              "\n",
              "  .colab-df-quickchart:hover {\n",
              "    background-color: var(--hover-bg-color);\n",
              "    box-shadow: 0 1px 2px rgba(60, 64, 67, 0.3), 0 1px 3px 1px rgba(60, 64, 67, 0.15);\n",
              "    fill: var(--button-hover-fill-color);\n",
              "  }\n",
              "\n",
              "  .colab-df-quickchart-complete:disabled,\n",
              "  .colab-df-quickchart-complete:disabled:hover {\n",
              "    background-color: var(--disabled-bg-color);\n",
              "    fill: var(--disabled-fill-color);\n",
              "    box-shadow: none;\n",
              "  }\n",
              "\n",
              "  .colab-df-spinner {\n",
              "    border: 2px solid var(--fill-color);\n",
              "    border-color: transparent;\n",
              "    border-bottom-color: var(--fill-color);\n",
              "    animation:\n",
              "      spin 1s steps(1) infinite;\n",
              "  }\n",
              "\n",
              "  @keyframes spin {\n",
              "    0% {\n",
              "      border-color: transparent;\n",
              "      border-bottom-color: var(--fill-color);\n",
              "      border-left-color: var(--fill-color);\n",
              "    }\n",
              "    20% {\n",
              "      border-color: transparent;\n",
              "      border-left-color: var(--fill-color);\n",
              "      border-top-color: var(--fill-color);\n",
              "    }\n",
              "    30% {\n",
              "      border-color: transparent;\n",
              "      border-left-color: var(--fill-color);\n",
              "      border-top-color: var(--fill-color);\n",
              "      border-right-color: var(--fill-color);\n",
              "    }\n",
              "    40% {\n",
              "      border-color: transparent;\n",
              "      border-right-color: var(--fill-color);\n",
              "      border-top-color: var(--fill-color);\n",
              "    }\n",
              "    60% {\n",
              "      border-color: transparent;\n",
              "      border-right-color: var(--fill-color);\n",
              "    }\n",
              "    80% {\n",
              "      border-color: transparent;\n",
              "      border-right-color: var(--fill-color);\n",
              "      border-bottom-color: var(--fill-color);\n",
              "    }\n",
              "    90% {\n",
              "      border-color: transparent;\n",
              "      border-bottom-color: var(--fill-color);\n",
              "    }\n",
              "  }\n",
              "</style>\n",
              "\n",
              "  <script>\n",
              "    async function quickchart(key) {\n",
              "      const quickchartButtonEl =\n",
              "        document.querySelector('#' + key + ' button');\n",
              "      quickchartButtonEl.disabled = true;  // To prevent multiple clicks.\n",
              "      quickchartButtonEl.classList.add('colab-df-spinner');\n",
              "      try {\n",
              "        const charts = await google.colab.kernel.invokeFunction(\n",
              "            'suggestCharts', [key], {});\n",
              "      } catch (error) {\n",
              "        console.error('Error during call to suggestCharts:', error);\n",
              "      }\n",
              "      quickchartButtonEl.classList.remove('colab-df-spinner');\n",
              "      quickchartButtonEl.classList.add('colab-df-quickchart-complete');\n",
              "    }\n",
              "    (() => {\n",
              "      let quickchartButtonEl =\n",
              "        document.querySelector('#df-46a20769-aac9-4db1-96c9-6e259c33166f button');\n",
              "      quickchartButtonEl.style.display =\n",
              "        google.colab.kernel.accessAllowed ? 'block' : 'none';\n",
              "    })();\n",
              "  </script>\n",
              "</div>\n",
              "\n",
              "    </div>\n",
              "  </div>\n"
            ]
          },
          "metadata": {},
          "execution_count": 29
        }
      ],
      "source": [
        "hour_totals_16.sort_values('Crimes', ascending = False).head()"
      ]
    },
    {
      "cell_type": "markdown",
      "metadata": {
        "id": "bOYDHje1IGx1"
      },
      "source": [
        "## Create dummy variables to start doing analysis"
      ]
    },
    {
      "cell_type": "code",
      "execution_count": 30,
      "metadata": {
        "jupyter": {
          "outputs_hidden": false
        },
        "id": "KydH4QKRIGx2"
      },
      "outputs": [],
      "source": [
        "hour_totals_16 = hour_totals_16[['Crimes', 'Hour', 'DayOfWeek', 'zip']]"
      ]
    },
    {
      "cell_type": "code",
      "execution_count": 31,
      "metadata": {
        "jupyter": {
          "outputs_hidden": false
        },
        "scrolled": true,
        "id": "Rt-n6ZlQIGx2"
      },
      "outputs": [],
      "source": [
        "totals_dummies_16 = pd.get_dummies(hour_totals_16)"
      ]
    },
    {
      "cell_type": "code",
      "execution_count": 32,
      "metadata": {
        "jupyter": {
          "outputs_hidden": false
        },
        "id": "PO5wuwAQIGx2"
      },
      "outputs": [],
      "source": [
        "X_16 = totals_dummies_16.iloc[:, 1:]\n",
        "y_16 = totals_dummies_16.iloc[:, 0]"
      ]
    },
    {
      "cell_type": "code",
      "execution_count": 33,
      "metadata": {
        "id": "IzMkhk2VIGx2"
      },
      "outputs": [],
      "source": [
        "from sklearn.linear_model import LinearRegression"
      ]
    },
    {
      "cell_type": "code",
      "execution_count": 34,
      "metadata": {
        "colab": {
          "base_uri": "https://localhost:8080/",
          "height": 75
        },
        "id": "e92h8N6xIGx2",
        "outputId": "36f7a39c-1692-42d6-f33c-170ff87100e1"
      },
      "outputs": [
        {
          "output_type": "execute_result",
          "data": {
            "text/plain": [
              "LinearRegression()"
            ],
            "text/html": [
              "<style>#sk-container-id-1 {color: black;background-color: white;}#sk-container-id-1 pre{padding: 0;}#sk-container-id-1 div.sk-toggleable {background-color: white;}#sk-container-id-1 label.sk-toggleable__label {cursor: pointer;display: block;width: 100%;margin-bottom: 0;padding: 0.3em;box-sizing: border-box;text-align: center;}#sk-container-id-1 label.sk-toggleable__label-arrow:before {content: \"▸\";float: left;margin-right: 0.25em;color: #696969;}#sk-container-id-1 label.sk-toggleable__label-arrow:hover:before {color: black;}#sk-container-id-1 div.sk-estimator:hover label.sk-toggleable__label-arrow:before {color: black;}#sk-container-id-1 div.sk-toggleable__content {max-height: 0;max-width: 0;overflow: hidden;text-align: left;background-color: #f0f8ff;}#sk-container-id-1 div.sk-toggleable__content pre {margin: 0.2em;color: black;border-radius: 0.25em;background-color: #f0f8ff;}#sk-container-id-1 input.sk-toggleable__control:checked~div.sk-toggleable__content {max-height: 200px;max-width: 100%;overflow: auto;}#sk-container-id-1 input.sk-toggleable__control:checked~label.sk-toggleable__label-arrow:before {content: \"▾\";}#sk-container-id-1 div.sk-estimator input.sk-toggleable__control:checked~label.sk-toggleable__label {background-color: #d4ebff;}#sk-container-id-1 div.sk-label input.sk-toggleable__control:checked~label.sk-toggleable__label {background-color: #d4ebff;}#sk-container-id-1 input.sk-hidden--visually {border: 0;clip: rect(1px 1px 1px 1px);clip: rect(1px, 1px, 1px, 1px);height: 1px;margin: -1px;overflow: hidden;padding: 0;position: absolute;width: 1px;}#sk-container-id-1 div.sk-estimator {font-family: monospace;background-color: #f0f8ff;border: 1px dotted black;border-radius: 0.25em;box-sizing: border-box;margin-bottom: 0.5em;}#sk-container-id-1 div.sk-estimator:hover {background-color: #d4ebff;}#sk-container-id-1 div.sk-parallel-item::after {content: \"\";width: 100%;border-bottom: 1px solid gray;flex-grow: 1;}#sk-container-id-1 div.sk-label:hover label.sk-toggleable__label {background-color: #d4ebff;}#sk-container-id-1 div.sk-serial::before {content: \"\";position: absolute;border-left: 1px solid gray;box-sizing: border-box;top: 0;bottom: 0;left: 50%;z-index: 0;}#sk-container-id-1 div.sk-serial {display: flex;flex-direction: column;align-items: center;background-color: white;padding-right: 0.2em;padding-left: 0.2em;position: relative;}#sk-container-id-1 div.sk-item {position: relative;z-index: 1;}#sk-container-id-1 div.sk-parallel {display: flex;align-items: stretch;justify-content: center;background-color: white;position: relative;}#sk-container-id-1 div.sk-item::before, #sk-container-id-1 div.sk-parallel-item::before {content: \"\";position: absolute;border-left: 1px solid gray;box-sizing: border-box;top: 0;bottom: 0;left: 50%;z-index: -1;}#sk-container-id-1 div.sk-parallel-item {display: flex;flex-direction: column;z-index: 1;position: relative;background-color: white;}#sk-container-id-1 div.sk-parallel-item:first-child::after {align-self: flex-end;width: 50%;}#sk-container-id-1 div.sk-parallel-item:last-child::after {align-self: flex-start;width: 50%;}#sk-container-id-1 div.sk-parallel-item:only-child::after {width: 0;}#sk-container-id-1 div.sk-dashed-wrapped {border: 1px dashed gray;margin: 0 0.4em 0.5em 0.4em;box-sizing: border-box;padding-bottom: 0.4em;background-color: white;}#sk-container-id-1 div.sk-label label {font-family: monospace;font-weight: bold;display: inline-block;line-height: 1.2em;}#sk-container-id-1 div.sk-label-container {text-align: center;}#sk-container-id-1 div.sk-container {/* jupyter's `normalize.less` sets `[hidden] { display: none; }` but bootstrap.min.css set `[hidden] { display: none !important; }` so we also need the `!important` here to be able to override the default hidden behavior on the sphinx rendered scikit-learn.org. See: https://github.com/scikit-learn/scikit-learn/issues/21755 */display: inline-block !important;position: relative;}#sk-container-id-1 div.sk-text-repr-fallback {display: none;}</style><div id=\"sk-container-id-1\" class=\"sk-top-container\"><div class=\"sk-text-repr-fallback\"><pre>LinearRegression()</pre><b>In a Jupyter environment, please rerun this cell to show the HTML representation or trust the notebook. <br />On GitHub, the HTML representation is unable to render, please try loading this page with nbviewer.org.</b></div><div class=\"sk-container\" hidden><div class=\"sk-item\"><div class=\"sk-estimator sk-toggleable\"><input class=\"sk-toggleable__control sk-hidden--visually\" id=\"sk-estimator-id-1\" type=\"checkbox\" checked><label for=\"sk-estimator-id-1\" class=\"sk-toggleable__label sk-toggleable__label-arrow\">LinearRegression</label><div class=\"sk-toggleable__content\"><pre>LinearRegression()</pre></div></div></div></div></div>"
            ]
          },
          "metadata": {},
          "execution_count": 34
        }
      ],
      "source": [
        "model = LinearRegression()\n",
        "model.fit(X_16,y_16)\n"
      ]
    },
    {
      "cell_type": "code",
      "execution_count": 35,
      "metadata": {
        "colab": {
          "base_uri": "https://localhost:8080/"
        },
        "id": "9a34kzxLIGx3",
        "outputId": "c6feb1a8-25b1-4ea7-c114-18d487fa8484"
      },
      "outputs": [
        {
          "output_type": "execute_result",
          "data": {
            "text/plain": [
              "(array([  1.4119033 ,   3.10317784,  -1.09658212,   1.09743928,\n",
              "         -2.09902395,  -0.23872888,  -0.47961383,  -0.28666834,\n",
              "         56.89681362, 109.9325279 , -30.00936583, -15.20437686,\n",
              "          9.03371838, -11.6924721 ,  31.24800409,  47.19443266,\n",
              "        -17.05253415,   5.38490886,  -5.04366257,   3.34919457,\n",
              "        -18.27192051,  -0.78175781, -10.62104353, -15.06513666,\n",
              "         -6.07937686, -12.7110121 ,  16.87300409, -27.4460184 ,\n",
              "        -33.34995952, -21.91906869, -15.29366257,   3.84324219,\n",
              "        -13.23443667, -29.98004153]),\n",
              " 18.235346075949188)"
            ]
          },
          "metadata": {},
          "execution_count": 35
        }
      ],
      "source": [
        "# predictions = model.predict(X_new)\n",
        "model.coef_, model.intercept_"
      ]
    },
    {
      "cell_type": "markdown",
      "source": [
        "**Exercise**, you can predict the result as new feature"
      ],
      "metadata": {
        "id": "rEc3I0XuNcyQ"
      }
    },
    {
      "cell_type": "markdown",
      "metadata": {
        "id": "ftxhzm71IGx3"
      },
      "source": [
        "## Linear Regression with 2016 data"
      ]
    },
    {
      "cell_type": "code",
      "execution_count": 36,
      "metadata": {
        "jupyter": {
          "outputs_hidden": false
        },
        "id": "SbW7xSPeIGx3"
      },
      "outputs": [],
      "source": [
        "linear_regression =  LinearRegression()\n",
        "\n",
        "results = linear_regression.fit(X_16,y_16)"
      ]
    },
    {
      "cell_type": "code",
      "execution_count": 37,
      "metadata": {
        "jupyter": {
          "outputs_hidden": false
        },
        "colab": {
          "base_uri": "https://localhost:8080/",
          "height": 75
        },
        "id": "DOsVH62uIGx3",
        "outputId": "58bb8bc8-1412-4a10-c859-761e70e4097f"
      },
      "outputs": [
        {
          "output_type": "execute_result",
          "data": {
            "text/plain": [
              "LinearRegression()"
            ],
            "text/html": [
              "<style>#sk-container-id-2 {color: black;background-color: white;}#sk-container-id-2 pre{padding: 0;}#sk-container-id-2 div.sk-toggleable {background-color: white;}#sk-container-id-2 label.sk-toggleable__label {cursor: pointer;display: block;width: 100%;margin-bottom: 0;padding: 0.3em;box-sizing: border-box;text-align: center;}#sk-container-id-2 label.sk-toggleable__label-arrow:before {content: \"▸\";float: left;margin-right: 0.25em;color: #696969;}#sk-container-id-2 label.sk-toggleable__label-arrow:hover:before {color: black;}#sk-container-id-2 div.sk-estimator:hover label.sk-toggleable__label-arrow:before {color: black;}#sk-container-id-2 div.sk-toggleable__content {max-height: 0;max-width: 0;overflow: hidden;text-align: left;background-color: #f0f8ff;}#sk-container-id-2 div.sk-toggleable__content pre {margin: 0.2em;color: black;border-radius: 0.25em;background-color: #f0f8ff;}#sk-container-id-2 input.sk-toggleable__control:checked~div.sk-toggleable__content {max-height: 200px;max-width: 100%;overflow: auto;}#sk-container-id-2 input.sk-toggleable__control:checked~label.sk-toggleable__label-arrow:before {content: \"▾\";}#sk-container-id-2 div.sk-estimator input.sk-toggleable__control:checked~label.sk-toggleable__label {background-color: #d4ebff;}#sk-container-id-2 div.sk-label input.sk-toggleable__control:checked~label.sk-toggleable__label {background-color: #d4ebff;}#sk-container-id-2 input.sk-hidden--visually {border: 0;clip: rect(1px 1px 1px 1px);clip: rect(1px, 1px, 1px, 1px);height: 1px;margin: -1px;overflow: hidden;padding: 0;position: absolute;width: 1px;}#sk-container-id-2 div.sk-estimator {font-family: monospace;background-color: #f0f8ff;border: 1px dotted black;border-radius: 0.25em;box-sizing: border-box;margin-bottom: 0.5em;}#sk-container-id-2 div.sk-estimator:hover {background-color: #d4ebff;}#sk-container-id-2 div.sk-parallel-item::after {content: \"\";width: 100%;border-bottom: 1px solid gray;flex-grow: 1;}#sk-container-id-2 div.sk-label:hover label.sk-toggleable__label {background-color: #d4ebff;}#sk-container-id-2 div.sk-serial::before {content: \"\";position: absolute;border-left: 1px solid gray;box-sizing: border-box;top: 0;bottom: 0;left: 50%;z-index: 0;}#sk-container-id-2 div.sk-serial {display: flex;flex-direction: column;align-items: center;background-color: white;padding-right: 0.2em;padding-left: 0.2em;position: relative;}#sk-container-id-2 div.sk-item {position: relative;z-index: 1;}#sk-container-id-2 div.sk-parallel {display: flex;align-items: stretch;justify-content: center;background-color: white;position: relative;}#sk-container-id-2 div.sk-item::before, #sk-container-id-2 div.sk-parallel-item::before {content: \"\";position: absolute;border-left: 1px solid gray;box-sizing: border-box;top: 0;bottom: 0;left: 50%;z-index: -1;}#sk-container-id-2 div.sk-parallel-item {display: flex;flex-direction: column;z-index: 1;position: relative;background-color: white;}#sk-container-id-2 div.sk-parallel-item:first-child::after {align-self: flex-end;width: 50%;}#sk-container-id-2 div.sk-parallel-item:last-child::after {align-self: flex-start;width: 50%;}#sk-container-id-2 div.sk-parallel-item:only-child::after {width: 0;}#sk-container-id-2 div.sk-dashed-wrapped {border: 1px dashed gray;margin: 0 0.4em 0.5em 0.4em;box-sizing: border-box;padding-bottom: 0.4em;background-color: white;}#sk-container-id-2 div.sk-label label {font-family: monospace;font-weight: bold;display: inline-block;line-height: 1.2em;}#sk-container-id-2 div.sk-label-container {text-align: center;}#sk-container-id-2 div.sk-container {/* jupyter's `normalize.less` sets `[hidden] { display: none; }` but bootstrap.min.css set `[hidden] { display: none !important; }` so we also need the `!important` here to be able to override the default hidden behavior on the sphinx rendered scikit-learn.org. See: https://github.com/scikit-learn/scikit-learn/issues/21755 */display: inline-block !important;position: relative;}#sk-container-id-2 div.sk-text-repr-fallback {display: none;}</style><div id=\"sk-container-id-2\" class=\"sk-top-container\"><div class=\"sk-text-repr-fallback\"><pre>LinearRegression()</pre><b>In a Jupyter environment, please rerun this cell to show the HTML representation or trust the notebook. <br />On GitHub, the HTML representation is unable to render, please try loading this page with nbviewer.org.</b></div><div class=\"sk-container\" hidden><div class=\"sk-item\"><div class=\"sk-estimator sk-toggleable\"><input class=\"sk-toggleable__control sk-hidden--visually\" id=\"sk-estimator-id-2\" type=\"checkbox\" checked><label for=\"sk-estimator-id-2\" class=\"sk-toggleable__label sk-toggleable__label-arrow\">LinearRegression</label><div class=\"sk-toggleable__content\"><pre>LinearRegression()</pre></div></div></div></div></div>"
            ]
          },
          "metadata": {},
          "execution_count": 37
        }
      ],
      "source": [
        "results"
      ]
    },
    {
      "cell_type": "markdown",
      "metadata": {
        "id": "6ljk0MPJIGx4"
      },
      "source": [
        "# Test it with new 2017 data"
      ]
    },
    {
      "cell_type": "markdown",
      "metadata": {
        "id": "41umIbNCIGx4"
      },
      "source": [
        "### Find the zip codes for each incident given the latitude and longitude"
      ]
    },
    {
      "cell_type": "code",
      "execution_count": 38,
      "metadata": {
        "jupyter": {
          "outputs_hidden": false
        },
        "scrolled": true,
        "id": "uH19kBwFIGx4"
      },
      "outputs": [],
      "source": [
        "crime17['geometry'] = crime17.apply(lambda row: Point(row['X'], row['Y']), axis=1)"
      ]
    },
    {
      "cell_type": "code",
      "execution_count": 39,
      "metadata": {
        "id": "itck-KagIGx4"
      },
      "outputs": [],
      "source": [
        "geo_police_data = geopandas.GeoDataFrame(crime17, geometry='geometry')\n",
        "geo_police_data.crs = {'init': 'epsg:4326'}"
      ]
    },
    {
      "cell_type": "code",
      "execution_count": 41,
      "metadata": {
        "id": "T9XrGjK2IGx4"
      },
      "outputs": [],
      "source": [
        "sf = geopandas.read_file('gdrive/MyDrive/2023/2023-2-Python-AI/data/zipcodes_geo.json')\n",
        "sf.crs = {'init': 'epsg:4326'}\n",
        "sf = sf.set_geometry('geometry')"
      ]
    },
    {
      "cell_type": "code",
      "execution_count": 42,
      "metadata": {
        "jupyter": {
          "outputs_hidden": false
        },
        "id": "9zm-UNcJIGx4"
      },
      "outputs": [],
      "source": [
        "crime17 = geopandas.tools.sjoin(geo_police_data, sf, how='left')"
      ]
    },
    {
      "cell_type": "markdown",
      "metadata": {
        "id": "cTCLHTAdIGx8"
      },
      "source": [
        "### Find which zip codes, day of week, and hour have the most crimes"
      ]
    },
    {
      "cell_type": "code",
      "execution_count": 43,
      "metadata": {
        "jupyter": {
          "outputs_hidden": false
        },
        "id": "-9zxso-FIGx9"
      },
      "outputs": [],
      "source": [
        "day_time_zip_17 = crime17[['DayOfWeek', 'Time', 'zip']]"
      ]
    },
    {
      "cell_type": "code",
      "execution_count": 44,
      "metadata": {
        "jupyter": {
          "outputs_hidden": false
        },
        "id": "YGClUihKIGx9"
      },
      "outputs": [],
      "source": [
        "day_time_zip_17['Hour'] = pd.to_datetime(day_time_zip_17['Time'])\n",
        "day_time_zip_17['Hour'] = day_time_zip_17.Hour.apply(lambda x: x.hour)"
      ]
    },
    {
      "cell_type": "markdown",
      "metadata": {
        "id": "j8t2jSr4IGx9"
      },
      "source": [
        "## Combine all the crimes into hours and days and zip codes"
      ]
    },
    {
      "cell_type": "code",
      "execution_count": 45,
      "metadata": {
        "jupyter": {
          "outputs_hidden": false
        },
        "id": "TIKke_5OIGx9"
      },
      "outputs": [],
      "source": [
        "day_time_zip_17 = day_time_zip_17[['DayOfWeek', 'zip', 'Hour']]"
      ]
    },
    {
      "cell_type": "code",
      "execution_count": 46,
      "metadata": {
        "jupyter": {
          "outputs_hidden": false
        },
        "id": "2J09Xzy3IGx9"
      },
      "outputs": [],
      "source": [
        "day_time_zip_17['Crimes'] = 1"
      ]
    },
    {
      "cell_type": "code",
      "execution_count": 47,
      "metadata": {
        "jupyter": {
          "outputs_hidden": false
        },
        "id": "F7iG26M_IGx9"
      },
      "outputs": [],
      "source": [
        "hour_totals_17 = day_time_zip_17.groupby(['DayOfWeek', 'zip', 'Hour']).count().reset_index()"
      ]
    },
    {
      "cell_type": "code",
      "execution_count": 48,
      "metadata": {
        "jupyter": {
          "outputs_hidden": false
        },
        "scrolled": true,
        "colab": {
          "base_uri": "https://localhost:8080/",
          "height": 206
        },
        "id": "HUgKUDn6IGx9",
        "outputId": "efc030d1-2008-450d-de76-d9c23a234153"
      },
      "outputs": [
        {
          "output_type": "execute_result",
          "data": {
            "text/plain": [
              "     DayOfWeek    zip  Hour  Crimes\n",
              "2465  Thursday  94103    18     227\n",
              "2466  Thursday  94103    19     220\n",
              "41      Friday  94103    17     213\n",
              "3067   Tuesday  94103    18     213\n",
              "44      Friday  94103    20     201"
            ],
            "text/html": [
              "\n",
              "  <div id=\"df-1b3f1e88-f001-4be4-8fbb-7356e0608e6b\" class=\"colab-df-container\">\n",
              "    <div>\n",
              "<style scoped>\n",
              "    .dataframe tbody tr th:only-of-type {\n",
              "        vertical-align: middle;\n",
              "    }\n",
              "\n",
              "    .dataframe tbody tr th {\n",
              "        vertical-align: top;\n",
              "    }\n",
              "\n",
              "    .dataframe thead th {\n",
              "        text-align: right;\n",
              "    }\n",
              "</style>\n",
              "<table border=\"1\" class=\"dataframe\">\n",
              "  <thead>\n",
              "    <tr style=\"text-align: right;\">\n",
              "      <th></th>\n",
              "      <th>DayOfWeek</th>\n",
              "      <th>zip</th>\n",
              "      <th>Hour</th>\n",
              "      <th>Crimes</th>\n",
              "    </tr>\n",
              "  </thead>\n",
              "  <tbody>\n",
              "    <tr>\n",
              "      <th>2465</th>\n",
              "      <td>Thursday</td>\n",
              "      <td>94103</td>\n",
              "      <td>18</td>\n",
              "      <td>227</td>\n",
              "    </tr>\n",
              "    <tr>\n",
              "      <th>2466</th>\n",
              "      <td>Thursday</td>\n",
              "      <td>94103</td>\n",
              "      <td>19</td>\n",
              "      <td>220</td>\n",
              "    </tr>\n",
              "    <tr>\n",
              "      <th>41</th>\n",
              "      <td>Friday</td>\n",
              "      <td>94103</td>\n",
              "      <td>17</td>\n",
              "      <td>213</td>\n",
              "    </tr>\n",
              "    <tr>\n",
              "      <th>3067</th>\n",
              "      <td>Tuesday</td>\n",
              "      <td>94103</td>\n",
              "      <td>18</td>\n",
              "      <td>213</td>\n",
              "    </tr>\n",
              "    <tr>\n",
              "      <th>44</th>\n",
              "      <td>Friday</td>\n",
              "      <td>94103</td>\n",
              "      <td>20</td>\n",
              "      <td>201</td>\n",
              "    </tr>\n",
              "  </tbody>\n",
              "</table>\n",
              "</div>\n",
              "    <div class=\"colab-df-buttons\">\n",
              "\n",
              "  <div class=\"colab-df-container\">\n",
              "    <button class=\"colab-df-convert\" onclick=\"convertToInteractive('df-1b3f1e88-f001-4be4-8fbb-7356e0608e6b')\"\n",
              "            title=\"Convert this dataframe to an interactive table.\"\n",
              "            style=\"display:none;\">\n",
              "\n",
              "  <svg xmlns=\"http://www.w3.org/2000/svg\" height=\"24px\" viewBox=\"0 -960 960 960\">\n",
              "    <path d=\"M120-120v-720h720v720H120Zm60-500h600v-160H180v160Zm220 220h160v-160H400v160Zm0 220h160v-160H400v160ZM180-400h160v-160H180v160Zm440 0h160v-160H620v160ZM180-180h160v-160H180v160Zm440 0h160v-160H620v160Z\"/>\n",
              "  </svg>\n",
              "    </button>\n",
              "\n",
              "  <style>\n",
              "    .colab-df-container {\n",
              "      display:flex;\n",
              "      gap: 12px;\n",
              "    }\n",
              "\n",
              "    .colab-df-convert {\n",
              "      background-color: #E8F0FE;\n",
              "      border: none;\n",
              "      border-radius: 50%;\n",
              "      cursor: pointer;\n",
              "      display: none;\n",
              "      fill: #1967D2;\n",
              "      height: 32px;\n",
              "      padding: 0 0 0 0;\n",
              "      width: 32px;\n",
              "    }\n",
              "\n",
              "    .colab-df-convert:hover {\n",
              "      background-color: #E2EBFA;\n",
              "      box-shadow: 0px 1px 2px rgba(60, 64, 67, 0.3), 0px 1px 3px 1px rgba(60, 64, 67, 0.15);\n",
              "      fill: #174EA6;\n",
              "    }\n",
              "\n",
              "    .colab-df-buttons div {\n",
              "      margin-bottom: 4px;\n",
              "    }\n",
              "\n",
              "    [theme=dark] .colab-df-convert {\n",
              "      background-color: #3B4455;\n",
              "      fill: #D2E3FC;\n",
              "    }\n",
              "\n",
              "    [theme=dark] .colab-df-convert:hover {\n",
              "      background-color: #434B5C;\n",
              "      box-shadow: 0px 1px 3px 1px rgba(0, 0, 0, 0.15);\n",
              "      filter: drop-shadow(0px 1px 2px rgba(0, 0, 0, 0.3));\n",
              "      fill: #FFFFFF;\n",
              "    }\n",
              "  </style>\n",
              "\n",
              "    <script>\n",
              "      const buttonEl =\n",
              "        document.querySelector('#df-1b3f1e88-f001-4be4-8fbb-7356e0608e6b button.colab-df-convert');\n",
              "      buttonEl.style.display =\n",
              "        google.colab.kernel.accessAllowed ? 'block' : 'none';\n",
              "\n",
              "      async function convertToInteractive(key) {\n",
              "        const element = document.querySelector('#df-1b3f1e88-f001-4be4-8fbb-7356e0608e6b');\n",
              "        const dataTable =\n",
              "          await google.colab.kernel.invokeFunction('convertToInteractive',\n",
              "                                                    [key], {});\n",
              "        if (!dataTable) return;\n",
              "\n",
              "        const docLinkHtml = 'Like what you see? Visit the ' +\n",
              "          '<a target=\"_blank\" href=https://colab.research.google.com/notebooks/data_table.ipynb>data table notebook</a>'\n",
              "          + ' to learn more about interactive tables.';\n",
              "        element.innerHTML = '';\n",
              "        dataTable['output_type'] = 'display_data';\n",
              "        await google.colab.output.renderOutput(dataTable, element);\n",
              "        const docLink = document.createElement('div');\n",
              "        docLink.innerHTML = docLinkHtml;\n",
              "        element.appendChild(docLink);\n",
              "      }\n",
              "    </script>\n",
              "  </div>\n",
              "\n",
              "\n",
              "<div id=\"df-eda70253-28b1-4cd9-8493-8896f2af1cad\">\n",
              "  <button class=\"colab-df-quickchart\" onclick=\"quickchart('df-eda70253-28b1-4cd9-8493-8896f2af1cad')\"\n",
              "            title=\"Suggest charts\"\n",
              "            style=\"display:none;\">\n",
              "\n",
              "<svg xmlns=\"http://www.w3.org/2000/svg\" height=\"24px\"viewBox=\"0 0 24 24\"\n",
              "     width=\"24px\">\n",
              "    <g>\n",
              "        <path d=\"M19 3H5c-1.1 0-2 .9-2 2v14c0 1.1.9 2 2 2h14c1.1 0 2-.9 2-2V5c0-1.1-.9-2-2-2zM9 17H7v-7h2v7zm4 0h-2V7h2v10zm4 0h-2v-4h2v4z\"/>\n",
              "    </g>\n",
              "</svg>\n",
              "  </button>\n",
              "\n",
              "<style>\n",
              "  .colab-df-quickchart {\n",
              "      --bg-color: #E8F0FE;\n",
              "      --fill-color: #1967D2;\n",
              "      --hover-bg-color: #E2EBFA;\n",
              "      --hover-fill-color: #174EA6;\n",
              "      --disabled-fill-color: #AAA;\n",
              "      --disabled-bg-color: #DDD;\n",
              "  }\n",
              "\n",
              "  [theme=dark] .colab-df-quickchart {\n",
              "      --bg-color: #3B4455;\n",
              "      --fill-color: #D2E3FC;\n",
              "      --hover-bg-color: #434B5C;\n",
              "      --hover-fill-color: #FFFFFF;\n",
              "      --disabled-bg-color: #3B4455;\n",
              "      --disabled-fill-color: #666;\n",
              "  }\n",
              "\n",
              "  .colab-df-quickchart {\n",
              "    background-color: var(--bg-color);\n",
              "    border: none;\n",
              "    border-radius: 50%;\n",
              "    cursor: pointer;\n",
              "    display: none;\n",
              "    fill: var(--fill-color);\n",
              "    height: 32px;\n",
              "    padding: 0;\n",
              "    width: 32px;\n",
              "  }\n",
              "\n",
              "  .colab-df-quickchart:hover {\n",
              "    background-color: var(--hover-bg-color);\n",
              "    box-shadow: 0 1px 2px rgba(60, 64, 67, 0.3), 0 1px 3px 1px rgba(60, 64, 67, 0.15);\n",
              "    fill: var(--button-hover-fill-color);\n",
              "  }\n",
              "\n",
              "  .colab-df-quickchart-complete:disabled,\n",
              "  .colab-df-quickchart-complete:disabled:hover {\n",
              "    background-color: var(--disabled-bg-color);\n",
              "    fill: var(--disabled-fill-color);\n",
              "    box-shadow: none;\n",
              "  }\n",
              "\n",
              "  .colab-df-spinner {\n",
              "    border: 2px solid var(--fill-color);\n",
              "    border-color: transparent;\n",
              "    border-bottom-color: var(--fill-color);\n",
              "    animation:\n",
              "      spin 1s steps(1) infinite;\n",
              "  }\n",
              "\n",
              "  @keyframes spin {\n",
              "    0% {\n",
              "      border-color: transparent;\n",
              "      border-bottom-color: var(--fill-color);\n",
              "      border-left-color: var(--fill-color);\n",
              "    }\n",
              "    20% {\n",
              "      border-color: transparent;\n",
              "      border-left-color: var(--fill-color);\n",
              "      border-top-color: var(--fill-color);\n",
              "    }\n",
              "    30% {\n",
              "      border-color: transparent;\n",
              "      border-left-color: var(--fill-color);\n",
              "      border-top-color: var(--fill-color);\n",
              "      border-right-color: var(--fill-color);\n",
              "    }\n",
              "    40% {\n",
              "      border-color: transparent;\n",
              "      border-right-color: var(--fill-color);\n",
              "      border-top-color: var(--fill-color);\n",
              "    }\n",
              "    60% {\n",
              "      border-color: transparent;\n",
              "      border-right-color: var(--fill-color);\n",
              "    }\n",
              "    80% {\n",
              "      border-color: transparent;\n",
              "      border-right-color: var(--fill-color);\n",
              "      border-bottom-color: var(--fill-color);\n",
              "    }\n",
              "    90% {\n",
              "      border-color: transparent;\n",
              "      border-bottom-color: var(--fill-color);\n",
              "    }\n",
              "  }\n",
              "</style>\n",
              "\n",
              "  <script>\n",
              "    async function quickchart(key) {\n",
              "      const quickchartButtonEl =\n",
              "        document.querySelector('#' + key + ' button');\n",
              "      quickchartButtonEl.disabled = true;  // To prevent multiple clicks.\n",
              "      quickchartButtonEl.classList.add('colab-df-spinner');\n",
              "      try {\n",
              "        const charts = await google.colab.kernel.invokeFunction(\n",
              "            'suggestCharts', [key], {});\n",
              "      } catch (error) {\n",
              "        console.error('Error during call to suggestCharts:', error);\n",
              "      }\n",
              "      quickchartButtonEl.classList.remove('colab-df-spinner');\n",
              "      quickchartButtonEl.classList.add('colab-df-quickchart-complete');\n",
              "    }\n",
              "    (() => {\n",
              "      let quickchartButtonEl =\n",
              "        document.querySelector('#df-eda70253-28b1-4cd9-8493-8896f2af1cad button');\n",
              "      quickchartButtonEl.style.display =\n",
              "        google.colab.kernel.accessAllowed ? 'block' : 'none';\n",
              "    })();\n",
              "  </script>\n",
              "</div>\n",
              "\n",
              "    </div>\n",
              "  </div>\n"
            ]
          },
          "metadata": {},
          "execution_count": 48
        }
      ],
      "source": [
        "hour_totals_17.sort_values('Crimes', ascending = False).head()"
      ]
    },
    {
      "cell_type": "markdown",
      "metadata": {
        "id": "BgpWdiZPIGx-"
      },
      "source": [
        "## Create dummy variables to start doing analysis"
      ]
    },
    {
      "cell_type": "code",
      "execution_count": 49,
      "metadata": {
        "jupyter": {
          "outputs_hidden": false
        },
        "id": "ndGp-UK6IGx-"
      },
      "outputs": [],
      "source": [
        "hour_totals_17 = hour_totals_17[['Crimes', 'Hour', 'DayOfWeek', 'zip']]"
      ]
    },
    {
      "cell_type": "code",
      "execution_count": 50,
      "metadata": {
        "jupyter": {
          "outputs_hidden": false
        },
        "scrolled": true,
        "id": "IdWM0k2HIGx-"
      },
      "outputs": [],
      "source": [
        "totals_dummies_17 = pd.get_dummies(hour_totals_17)"
      ]
    },
    {
      "cell_type": "code",
      "execution_count": 51,
      "metadata": {
        "jupyter": {
          "outputs_hidden": false
        },
        "id": "nn482V0DIGx-"
      },
      "outputs": [],
      "source": [
        "X_17 = totals_dummies_17.iloc[:, 1:]\n",
        "y_17 = totals_dummies_17.iloc[:, 0]"
      ]
    },
    {
      "cell_type": "code",
      "execution_count": 51,
      "metadata": {
        "id": "rnICjP6YIGx-"
      },
      "outputs": [],
      "source": []
    },
    {
      "cell_type": "markdown",
      "metadata": {
        "id": "RNldLf0MIGx-"
      },
      "source": [
        "# Testing the different models"
      ]
    },
    {
      "cell_type": "markdown",
      "metadata": {
        "id": "kUQAbdsEIGx-"
      },
      "source": [
        "## Linear Regression"
      ]
    },
    {
      "cell_type": "code",
      "execution_count": 52,
      "metadata": {
        "id": "UIBRBAzxIGx-"
      },
      "outputs": [],
      "source": [
        "linear_regression =  LinearRegression()\n",
        "results = linear_regression.fit(X_16,y_16)"
      ]
    },
    {
      "cell_type": "code",
      "execution_count": 53,
      "metadata": {
        "id": "xdmQtE9MIGx-"
      },
      "outputs": [],
      "source": [
        "y_pred=results.predict(X_17)"
      ]
    },
    {
      "cell_type": "code",
      "execution_count": 54,
      "metadata": {
        "colab": {
          "base_uri": "https://localhost:8080/"
        },
        "id": "8XgRhCZ_IGx_",
        "outputId": "0ef050a7-3cca-4046-b4c6-b60b0c61c916"
      },
      "outputs": [
        {
          "output_type": "execute_result",
          "data": {
            "text/plain": [
              "0.6386917837250609"
            ]
          },
          "metadata": {},
          "execution_count": 54
        }
      ],
      "source": [
        "from sklearn.metrics import r2_score\n",
        "r2_score(y_17, y_pred)"
      ]
    },
    {
      "cell_type": "markdown",
      "metadata": {
        "id": "2443m6qiIGx_"
      },
      "source": [
        "## Random Forest"
      ]
    },
    {
      "cell_type": "code",
      "execution_count": 55,
      "metadata": {
        "jupyter": {
          "outputs_hidden": false
        },
        "colab": {
          "base_uri": "https://localhost:8080/"
        },
        "id": "3ilHD_HZIGx_",
        "outputId": "9c27bbd7-afe1-439a-c48b-490c70b5c20f"
      },
      "outputs": [
        {
          "output_type": "execute_result",
          "data": {
            "text/plain": [
              "0.8086511098558319"
            ]
          },
          "metadata": {},
          "execution_count": 55
        }
      ],
      "source": [
        "rf = RandomForestRegressor()\n",
        "rf.fit(X_16, y_16)\n",
        "rf.score(X_17,y_17)"
      ]
    },
    {
      "cell_type": "code",
      "execution_count": 56,
      "metadata": {
        "jupyter": {
          "outputs_hidden": false
        },
        "colab": {
          "base_uri": "https://localhost:8080/"
        },
        "id": "6lMaSUG-IGx_",
        "outputId": "54ad6551-aa47-491f-c3cd-e64a271f23cf"
      },
      "outputs": [
        {
          "output_type": "execute_result",
          "data": {
            "text/plain": [
              "[('Hour', 0.2436481641948516),\n",
              " ('DayOfWeek_Friday', 0.00713262324889825),\n",
              " ('DayOfWeek_Monday', 0.0038444336753977212),\n",
              " ('DayOfWeek_Saturday', 0.008519663482191301),\n",
              " ('DayOfWeek_Sunday', 0.009171229437311303),\n",
              " ('DayOfWeek_Thursday', 0.004219275796135047),\n",
              " ('DayOfWeek_Tuesday', 0.003679613091052193),\n",
              " ('DayOfWeek_Wednesday', 0.0047281845648098715),\n",
              " ('zip_94102', 0.10773528675013778),\n",
              " ('zip_94103', 0.3558068490990321),\n",
              " ('zip_94104', 0.007226758851033311),\n",
              " ('zip_94105', 0.0009243845166265625),\n",
              " ('zip_94107', 0.013547948385352802),\n",
              " ('zip_94108', 0.0008903577177570353),\n",
              " ('zip_94109', 0.04714913840760687),\n",
              " ('zip_94110', 0.08420842767636955),\n",
              " ('zip_94111', 0.0005412262021542052),\n",
              " ('zip_94112', 0.01129841143324335),\n",
              " ('zip_94114', 0.0026417279693903627),\n",
              " ('zip_94115', 0.01012823420209864),\n",
              " ('zip_94116', 0.0006704796764091334),\n",
              " ('zip_94117', 0.007611743493892374),\n",
              " ('zip_94118', 0.0009338453867817189),\n",
              " ('zip_94121', 0.00047571390247952693),\n",
              " ('zip_94122', 0.002536893831306627),\n",
              " ('zip_94123', 0.0008351248654299743),\n",
              " ('zip_94124', 0.024525852128705262),\n",
              " ('zip_94127', 0.006543804876401867),\n",
              " ('zip_94130', 0.007667466086850517),\n",
              " ('zip_94131', 0.002151836393599321),\n",
              " ('zip_94132', 0.0006202928151468143),\n",
              " ('zip_94133', 0.010354808852776839),\n",
              " ('zip_94134', 0.0006294549297028469),\n",
              " ('zip_94158', 0.007400744059067285)]"
            ]
          },
          "metadata": {},
          "execution_count": 56
        }
      ],
      "source": [
        "list(zip(X_16.columns, rf.feature_importances_))"
      ]
    },
    {
      "cell_type": "markdown",
      "metadata": {
        "id": "FTIOJGl7IGx_"
      },
      "source": [
        "## KNN"
      ]
    },
    {
      "cell_type": "code",
      "execution_count": 57,
      "metadata": {
        "jupyter": {
          "outputs_hidden": false
        },
        "colab": {
          "base_uri": "https://localhost:8080/"
        },
        "id": "1pS43j8cIGx_",
        "outputId": "d5ec21d3-1fd9-4bc3-bbcf-16d498adc847"
      },
      "outputs": [
        {
          "output_type": "execute_result",
          "data": {
            "text/plain": [
              "0.7327464545918523"
            ]
          },
          "metadata": {},
          "execution_count": 57
        }
      ],
      "source": [
        "knn = KNeighborsRegressor()\n",
        "knn.fit(X_16, y_16)\n",
        "knn.score(X_17,y_17)"
      ]
    },
    {
      "cell_type": "markdown",
      "metadata": {
        "id": "Q1xhqswWIGx_"
      },
      "source": [
        "## SVM"
      ]
    },
    {
      "cell_type": "code",
      "execution_count": 58,
      "metadata": {
        "jupyter": {
          "outputs_hidden": false
        },
        "colab": {
          "base_uri": "https://localhost:8080/"
        },
        "id": "H7vuu927IGx_",
        "outputId": "a17da0a9-91da-4146-fc7d-cda85f9c19f2"
      },
      "outputs": [
        {
          "output_type": "execute_result",
          "data": {
            "text/plain": [
              "0.13401392445832772"
            ]
          },
          "metadata": {},
          "execution_count": 58
        }
      ],
      "source": [
        "svm = SVR()\n",
        "svm.fit(X_16, y_16)\n",
        "svm.score(X_17,y_17)"
      ]
    },
    {
      "cell_type": "markdown",
      "metadata": {
        "id": "qcI6ni_MIGyA"
      },
      "source": [
        "## XGBoost"
      ]
    },
    {
      "cell_type": "code",
      "execution_count": 59,
      "metadata": {
        "jupyter": {
          "outputs_hidden": false
        },
        "colab": {
          "base_uri": "https://localhost:8080/"
        },
        "id": "JIVsTxFFIGyA",
        "outputId": "b1511072-81d1-4af2-b9c2-e01705658fda"
      },
      "outputs": [
        {
          "output_type": "execute_result",
          "data": {
            "text/plain": [
              "0.8146436419430099"
            ]
          },
          "metadata": {},
          "execution_count": 59
        }
      ],
      "source": [
        "xgb = XGBRegressor()\n",
        "xgb.fit(X_16, y_16)\n",
        "xgb.score(X_17,y_17)"
      ]
    },
    {
      "cell_type": "markdown",
      "source": [
        "**CatBoost**"
      ],
      "metadata": {
        "id": "wEvbn_HmPUZ6"
      }
    },
    {
      "cell_type": "code",
      "source": [
        "cat = CatBoostRegressor()\n",
        "cat.fit(X_16, y_16)\n",
        "cat.score(X_17,y_17)"
      ],
      "metadata": {
        "colab": {
          "base_uri": "https://localhost:8080/"
        },
        "id": "kDAZgekcPAIp",
        "outputId": "4400cda0-76eb-46c9-84a9-1fea9aeda397"
      },
      "execution_count": 65,
      "outputs": [
        {
          "output_type": "stream",
          "name": "stdout",
          "text": [
            "Learning rate set to 0.051482\n",
            "0:\tlearn: 35.9309202\ttotal: 55ms\tremaining: 55s\n",
            "1:\tlearn: 34.7746075\ttotal: 59.5ms\tremaining: 29.7s\n",
            "2:\tlearn: 33.6973683\ttotal: 72.3ms\tremaining: 24s\n",
            "3:\tlearn: 32.4960209\ttotal: 77.2ms\tremaining: 19.2s\n",
            "4:\tlearn: 31.4350905\ttotal: 82.6ms\tremaining: 16.4s\n",
            "5:\tlearn: 30.3989473\ttotal: 89.1ms\tremaining: 14.8s\n",
            "6:\tlearn: 29.5583893\ttotal: 94.4ms\tremaining: 13.4s\n",
            "7:\tlearn: 28.6919027\ttotal: 98.8ms\tremaining: 12.3s\n",
            "8:\tlearn: 27.9463319\ttotal: 104ms\tremaining: 11.5s\n",
            "9:\tlearn: 27.1846296\ttotal: 109ms\tremaining: 10.8s\n",
            "10:\tlearn: 26.4076974\ttotal: 114ms\tremaining: 10.3s\n",
            "11:\tlearn: 25.6885258\ttotal: 119ms\tremaining: 9.82s\n",
            "12:\tlearn: 25.0593144\ttotal: 124ms\tremaining: 9.39s\n",
            "13:\tlearn: 24.5090288\ttotal: 128ms\tremaining: 9.04s\n",
            "14:\tlearn: 23.9101486\ttotal: 133ms\tremaining: 8.73s\n",
            "15:\tlearn: 23.4456841\ttotal: 135ms\tremaining: 8.31s\n",
            "16:\tlearn: 22.9838832\ttotal: 140ms\tremaining: 8.07s\n",
            "17:\tlearn: 22.5444350\ttotal: 144ms\tremaining: 7.85s\n",
            "18:\tlearn: 22.0782207\ttotal: 148ms\tremaining: 7.66s\n",
            "19:\tlearn: 21.7481756\ttotal: 153ms\tremaining: 7.49s\n",
            "20:\tlearn: 21.3679103\ttotal: 158ms\tremaining: 7.36s\n",
            "21:\tlearn: 21.0508076\ttotal: 162ms\tremaining: 7.2s\n",
            "22:\tlearn: 20.7274294\ttotal: 167ms\tremaining: 7.07s\n",
            "23:\tlearn: 20.4602142\ttotal: 171ms\tremaining: 6.93s\n",
            "24:\tlearn: 20.1410867\ttotal: 174ms\tremaining: 6.8s\n",
            "25:\tlearn: 19.8763592\ttotal: 181ms\tremaining: 6.8s\n",
            "26:\tlearn: 19.5722266\ttotal: 184ms\tremaining: 6.62s\n",
            "27:\tlearn: 19.3068741\ttotal: 188ms\tremaining: 6.54s\n",
            "28:\tlearn: 19.0687691\ttotal: 193ms\tremaining: 6.46s\n",
            "29:\tlearn: 18.8583681\ttotal: 200ms\tremaining: 6.46s\n",
            "30:\tlearn: 18.6465088\ttotal: 205ms\tremaining: 6.41s\n",
            "31:\tlearn: 18.4219681\ttotal: 211ms\tremaining: 6.37s\n",
            "32:\tlearn: 18.2554871\ttotal: 216ms\tremaining: 6.33s\n",
            "33:\tlearn: 18.0530643\ttotal: 221ms\tremaining: 6.28s\n",
            "34:\tlearn: 17.8971329\ttotal: 227ms\tremaining: 6.25s\n",
            "35:\tlearn: 17.7190748\ttotal: 231ms\tremaining: 6.18s\n",
            "36:\tlearn: 17.5417569\ttotal: 232ms\tremaining: 6.05s\n",
            "37:\tlearn: 17.3793064\ttotal: 237ms\tremaining: 5.99s\n",
            "38:\tlearn: 17.2144249\ttotal: 241ms\tremaining: 5.95s\n",
            "39:\tlearn: 17.0658059\ttotal: 245ms\tremaining: 5.87s\n",
            "40:\tlearn: 16.9247130\ttotal: 249ms\tremaining: 5.83s\n",
            "41:\tlearn: 16.7542621\ttotal: 257ms\tremaining: 5.86s\n",
            "42:\tlearn: 16.6230394\ttotal: 259ms\tremaining: 5.76s\n",
            "43:\tlearn: 16.4925467\ttotal: 265ms\tremaining: 5.76s\n",
            "44:\tlearn: 16.3717671\ttotal: 269ms\tremaining: 5.7s\n",
            "45:\tlearn: 16.2256566\ttotal: 273ms\tremaining: 5.66s\n",
            "46:\tlearn: 16.1297585\ttotal: 278ms\tremaining: 5.63s\n",
            "47:\tlearn: 16.0274578\ttotal: 281ms\tremaining: 5.57s\n",
            "48:\tlearn: 15.9312594\ttotal: 284ms\tremaining: 5.51s\n",
            "49:\tlearn: 15.8024147\ttotal: 286ms\tremaining: 5.44s\n",
            "50:\tlearn: 15.6953713\ttotal: 289ms\tremaining: 5.37s\n",
            "51:\tlearn: 15.5821443\ttotal: 291ms\tremaining: 5.3s\n",
            "52:\tlearn: 15.4651462\ttotal: 293ms\tremaining: 5.24s\n",
            "53:\tlearn: 15.3577532\ttotal: 296ms\tremaining: 5.18s\n",
            "54:\tlearn: 15.2695916\ttotal: 298ms\tremaining: 5.12s\n",
            "55:\tlearn: 15.1639779\ttotal: 300ms\tremaining: 5.06s\n",
            "56:\tlearn: 15.0854586\ttotal: 303ms\tremaining: 5.01s\n",
            "57:\tlearn: 14.9836204\ttotal: 305ms\tremaining: 4.95s\n",
            "58:\tlearn: 14.8936668\ttotal: 307ms\tremaining: 4.9s\n",
            "59:\tlearn: 14.8212605\ttotal: 309ms\tremaining: 4.85s\n",
            "60:\tlearn: 14.7327089\ttotal: 312ms\tremaining: 4.8s\n",
            "61:\tlearn: 14.6486131\ttotal: 314ms\tremaining: 4.75s\n",
            "62:\tlearn: 14.5754151\ttotal: 316ms\tremaining: 4.7s\n",
            "63:\tlearn: 14.4805429\ttotal: 319ms\tremaining: 4.66s\n",
            "64:\tlearn: 14.4012700\ttotal: 321ms\tremaining: 4.62s\n",
            "65:\tlearn: 14.3184693\ttotal: 323ms\tremaining: 4.57s\n",
            "66:\tlearn: 14.2440330\ttotal: 326ms\tremaining: 4.53s\n",
            "67:\tlearn: 14.1765697\ttotal: 328ms\tremaining: 4.49s\n",
            "68:\tlearn: 14.1138730\ttotal: 330ms\tremaining: 4.45s\n",
            "69:\tlearn: 14.0514536\ttotal: 332ms\tremaining: 4.42s\n",
            "70:\tlearn: 13.9765327\ttotal: 334ms\tremaining: 4.38s\n",
            "71:\tlearn: 13.9124764\ttotal: 337ms\tremaining: 4.34s\n",
            "72:\tlearn: 13.8494947\ttotal: 339ms\tremaining: 4.3s\n",
            "73:\tlearn: 13.7950162\ttotal: 341ms\tremaining: 4.27s\n",
            "74:\tlearn: 13.7464942\ttotal: 344ms\tremaining: 4.24s\n",
            "75:\tlearn: 13.6832352\ttotal: 346ms\tremaining: 4.2s\n",
            "76:\tlearn: 13.6220083\ttotal: 348ms\tremaining: 4.17s\n",
            "77:\tlearn: 13.5775365\ttotal: 350ms\tremaining: 4.14s\n",
            "78:\tlearn: 13.5254648\ttotal: 353ms\tremaining: 4.11s\n",
            "79:\tlearn: 13.4554558\ttotal: 355ms\tremaining: 4.08s\n",
            "80:\tlearn: 13.3879524\ttotal: 363ms\tremaining: 4.12s\n",
            "81:\tlearn: 13.3262771\ttotal: 366ms\tremaining: 4.09s\n",
            "82:\tlearn: 13.2650370\ttotal: 368ms\tremaining: 4.07s\n",
            "83:\tlearn: 13.2020478\ttotal: 374ms\tremaining: 4.08s\n",
            "84:\tlearn: 13.1519363\ttotal: 377ms\tremaining: 4.06s\n",
            "85:\tlearn: 13.1017524\ttotal: 380ms\tremaining: 4.04s\n",
            "86:\tlearn: 13.0534925\ttotal: 381ms\tremaining: 4s\n",
            "87:\tlearn: 13.0150896\ttotal: 384ms\tremaining: 3.98s\n",
            "88:\tlearn: 12.9678350\ttotal: 386ms\tremaining: 3.95s\n",
            "89:\tlearn: 12.9196560\ttotal: 388ms\tremaining: 3.93s\n",
            "90:\tlearn: 12.8730777\ttotal: 391ms\tremaining: 3.9s\n",
            "91:\tlearn: 12.8148250\ttotal: 393ms\tremaining: 3.88s\n",
            "92:\tlearn: 12.7537588\ttotal: 395ms\tremaining: 3.85s\n",
            "93:\tlearn: 12.7135485\ttotal: 397ms\tremaining: 3.83s\n",
            "94:\tlearn: 12.6836520\ttotal: 400ms\tremaining: 3.81s\n",
            "95:\tlearn: 12.6448833\ttotal: 408ms\tremaining: 3.85s\n",
            "96:\tlearn: 12.6028307\ttotal: 413ms\tremaining: 3.84s\n",
            "97:\tlearn: 12.5654261\ttotal: 418ms\tremaining: 3.85s\n",
            "98:\tlearn: 12.5078264\ttotal: 423ms\tremaining: 3.85s\n",
            "99:\tlearn: 12.4735665\ttotal: 427ms\tremaining: 3.85s\n",
            "100:\tlearn: 12.4432940\ttotal: 433ms\tremaining: 3.86s\n",
            "101:\tlearn: 12.4008866\ttotal: 438ms\tremaining: 3.85s\n",
            "102:\tlearn: 12.3651357\ttotal: 442ms\tremaining: 3.85s\n",
            "103:\tlearn: 12.3206733\ttotal: 447ms\tremaining: 3.85s\n",
            "104:\tlearn: 12.2906328\ttotal: 452ms\tremaining: 3.85s\n",
            "105:\tlearn: 12.2435003\ttotal: 456ms\tremaining: 3.85s\n",
            "106:\tlearn: 12.2091809\ttotal: 462ms\tremaining: 3.86s\n",
            "107:\tlearn: 12.1741206\ttotal: 466ms\tremaining: 3.85s\n",
            "108:\tlearn: 12.1436905\ttotal: 470ms\tremaining: 3.85s\n",
            "109:\tlearn: 12.1158081\ttotal: 476ms\tremaining: 3.85s\n",
            "110:\tlearn: 12.0869189\ttotal: 480ms\tremaining: 3.85s\n",
            "111:\tlearn: 12.0638313\ttotal: 485ms\tremaining: 3.84s\n",
            "112:\tlearn: 12.0247754\ttotal: 489ms\tremaining: 3.84s\n",
            "113:\tlearn: 11.9813896\ttotal: 494ms\tremaining: 3.84s\n",
            "114:\tlearn: 11.9548803\ttotal: 498ms\tremaining: 3.83s\n",
            "115:\tlearn: 11.9256561\ttotal: 503ms\tremaining: 3.83s\n",
            "116:\tlearn: 11.8738731\ttotal: 510ms\tremaining: 3.85s\n",
            "117:\tlearn: 11.8457783\ttotal: 512ms\tremaining: 3.83s\n",
            "118:\tlearn: 11.8178020\ttotal: 518ms\tremaining: 3.83s\n",
            "119:\tlearn: 11.7846665\ttotal: 522ms\tremaining: 3.83s\n",
            "120:\tlearn: 11.7513339\ttotal: 526ms\tremaining: 3.82s\n",
            "121:\tlearn: 11.7252666\ttotal: 529ms\tremaining: 3.8s\n",
            "122:\tlearn: 11.7002308\ttotal: 534ms\tremaining: 3.8s\n",
            "123:\tlearn: 11.6795403\ttotal: 537ms\tremaining: 3.8s\n",
            "124:\tlearn: 11.6470650\ttotal: 544ms\tremaining: 3.81s\n",
            "125:\tlearn: 11.6207450\ttotal: 549ms\tremaining: 3.81s\n",
            "126:\tlearn: 11.5863252\ttotal: 554ms\tremaining: 3.81s\n",
            "127:\tlearn: 11.5560485\ttotal: 558ms\tremaining: 3.8s\n",
            "128:\tlearn: 11.5306412\ttotal: 564ms\tremaining: 3.81s\n",
            "129:\tlearn: 11.5039731\ttotal: 572ms\tremaining: 3.83s\n",
            "130:\tlearn: 11.4778837\ttotal: 576ms\tremaining: 3.82s\n",
            "131:\tlearn: 11.4527139\ttotal: 581ms\tremaining: 3.82s\n",
            "132:\tlearn: 11.4281835\ttotal: 588ms\tremaining: 3.83s\n",
            "133:\tlearn: 11.3988919\ttotal: 593ms\tremaining: 3.83s\n",
            "134:\tlearn: 11.3797487\ttotal: 597ms\tremaining: 3.83s\n",
            "135:\tlearn: 11.3613347\ttotal: 602ms\tremaining: 3.83s\n",
            "136:\tlearn: 11.3342608\ttotal: 608ms\tremaining: 3.83s\n",
            "137:\tlearn: 11.3163447\ttotal: 613ms\tremaining: 3.83s\n",
            "138:\tlearn: 11.2850890\ttotal: 617ms\tremaining: 3.82s\n",
            "139:\tlearn: 11.2687438\ttotal: 626ms\tremaining: 3.85s\n",
            "140:\tlearn: 11.2497793\ttotal: 631ms\tremaining: 3.85s\n",
            "141:\tlearn: 11.2262277\ttotal: 636ms\tremaining: 3.84s\n",
            "142:\tlearn: 11.2023934\ttotal: 642ms\tremaining: 3.85s\n",
            "143:\tlearn: 11.1782145\ttotal: 646ms\tremaining: 3.84s\n",
            "144:\tlearn: 11.1639027\ttotal: 652ms\tremaining: 3.84s\n",
            "145:\tlearn: 11.1378276\ttotal: 662ms\tremaining: 3.87s\n",
            "146:\tlearn: 11.1145933\ttotal: 669ms\tremaining: 3.88s\n",
            "147:\tlearn: 11.0941604\ttotal: 673ms\tremaining: 3.88s\n",
            "148:\tlearn: 11.0773995\ttotal: 679ms\tremaining: 3.88s\n",
            "149:\tlearn: 11.0600738\ttotal: 684ms\tremaining: 3.87s\n",
            "150:\tlearn: 11.0432084\ttotal: 688ms\tremaining: 3.87s\n",
            "151:\tlearn: 11.0260636\ttotal: 693ms\tremaining: 3.86s\n",
            "152:\tlearn: 11.0111643\ttotal: 702ms\tremaining: 3.88s\n",
            "153:\tlearn: 10.9756720\ttotal: 709ms\tremaining: 3.89s\n",
            "154:\tlearn: 10.9583959\ttotal: 712ms\tremaining: 3.88s\n",
            "155:\tlearn: 10.9433967\ttotal: 718ms\tremaining: 3.88s\n",
            "156:\tlearn: 10.9289949\ttotal: 723ms\tremaining: 3.88s\n",
            "157:\tlearn: 10.9069160\ttotal: 728ms\tremaining: 3.88s\n",
            "158:\tlearn: 10.8877542\ttotal: 736ms\tremaining: 3.89s\n",
            "159:\tlearn: 10.8585888\ttotal: 740ms\tremaining: 3.88s\n",
            "160:\tlearn: 10.8334271\ttotal: 747ms\tremaining: 3.89s\n",
            "161:\tlearn: 10.8113654\ttotal: 754ms\tremaining: 3.9s\n",
            "162:\tlearn: 10.7962969\ttotal: 758ms\tremaining: 3.89s\n",
            "163:\tlearn: 10.7855988\ttotal: 762ms\tremaining: 3.89s\n",
            "164:\tlearn: 10.7629161\ttotal: 767ms\tremaining: 3.88s\n",
            "165:\tlearn: 10.7449340\ttotal: 772ms\tremaining: 3.88s\n",
            "166:\tlearn: 10.7176444\ttotal: 776ms\tremaining: 3.87s\n",
            "167:\tlearn: 10.6946322\ttotal: 781ms\tremaining: 3.87s\n",
            "168:\tlearn: 10.6648836\ttotal: 790ms\tremaining: 3.88s\n",
            "169:\tlearn: 10.6491073\ttotal: 795ms\tremaining: 3.88s\n",
            "170:\tlearn: 10.6360631\ttotal: 799ms\tremaining: 3.88s\n",
            "171:\tlearn: 10.6139463\ttotal: 804ms\tremaining: 3.87s\n",
            "172:\tlearn: 10.5988758\ttotal: 810ms\tremaining: 3.87s\n",
            "173:\tlearn: 10.5828817\ttotal: 814ms\tremaining: 3.86s\n",
            "174:\tlearn: 10.5726286\ttotal: 818ms\tremaining: 3.85s\n",
            "175:\tlearn: 10.5558085\ttotal: 829ms\tremaining: 3.88s\n",
            "176:\tlearn: 10.5323203\ttotal: 834ms\tremaining: 3.88s\n",
            "177:\tlearn: 10.5115691\ttotal: 839ms\tremaining: 3.88s\n",
            "178:\tlearn: 10.4907113\ttotal: 849ms\tremaining: 3.89s\n",
            "179:\tlearn: 10.4707433\ttotal: 853ms\tremaining: 3.89s\n",
            "180:\tlearn: 10.4566884\ttotal: 858ms\tremaining: 3.88s\n",
            "181:\tlearn: 10.4385625\ttotal: 865ms\tremaining: 3.89s\n",
            "182:\tlearn: 10.4220838\ttotal: 871ms\tremaining: 3.89s\n",
            "183:\tlearn: 10.4031868\ttotal: 878ms\tremaining: 3.89s\n",
            "184:\tlearn: 10.3907164\ttotal: 888ms\tremaining: 3.91s\n",
            "185:\tlearn: 10.3658428\ttotal: 889ms\tremaining: 3.89s\n",
            "186:\tlearn: 10.3431167\ttotal: 897ms\tremaining: 3.9s\n",
            "187:\tlearn: 10.3304252\ttotal: 901ms\tremaining: 3.89s\n",
            "188:\tlearn: 10.3084022\ttotal: 907ms\tremaining: 3.89s\n",
            "189:\tlearn: 10.2881257\ttotal: 912ms\tremaining: 3.89s\n",
            "190:\tlearn: 10.2716858\ttotal: 920ms\tremaining: 3.9s\n",
            "191:\tlearn: 10.2498546\ttotal: 924ms\tremaining: 3.89s\n",
            "192:\tlearn: 10.2340819\ttotal: 936ms\tremaining: 3.91s\n",
            "193:\tlearn: 10.2198081\ttotal: 940ms\tremaining: 3.91s\n",
            "194:\tlearn: 10.2043398\ttotal: 945ms\tremaining: 3.9s\n",
            "195:\tlearn: 10.1849491\ttotal: 950ms\tremaining: 3.9s\n",
            "196:\tlearn: 10.1684752\ttotal: 956ms\tremaining: 3.9s\n",
            "197:\tlearn: 10.1561598\ttotal: 961ms\tremaining: 3.89s\n",
            "198:\tlearn: 10.1424273\ttotal: 965ms\tremaining: 3.88s\n",
            "199:\tlearn: 10.1287467\ttotal: 970ms\tremaining: 3.88s\n",
            "200:\tlearn: 10.1170456\ttotal: 976ms\tremaining: 3.88s\n",
            "201:\tlearn: 10.0990115\ttotal: 980ms\tremaining: 3.87s\n",
            "202:\tlearn: 10.0814670\ttotal: 984ms\tremaining: 3.86s\n",
            "203:\tlearn: 10.0647528\ttotal: 988ms\tremaining: 3.86s\n",
            "204:\tlearn: 10.0481646\ttotal: 993ms\tremaining: 3.85s\n",
            "205:\tlearn: 10.0349611\ttotal: 999ms\tremaining: 3.85s\n",
            "206:\tlearn: 10.0175117\ttotal: 1s\tremaining: 3.85s\n",
            "207:\tlearn: 9.9987860\ttotal: 1.01s\tremaining: 3.85s\n",
            "208:\tlearn: 9.9859641\ttotal: 1.01s\tremaining: 3.84s\n",
            "209:\tlearn: 9.9740185\ttotal: 1.02s\tremaining: 3.83s\n",
            "210:\tlearn: 9.9597220\ttotal: 1.02s\tremaining: 3.83s\n",
            "211:\tlearn: 9.9470996\ttotal: 1.03s\tremaining: 3.83s\n",
            "212:\tlearn: 9.9318971\ttotal: 1.03s\tremaining: 3.82s\n",
            "213:\tlearn: 9.9199117\ttotal: 1.04s\tremaining: 3.81s\n",
            "214:\tlearn: 9.9016417\ttotal: 1.04s\tremaining: 3.79s\n",
            "215:\tlearn: 9.8889851\ttotal: 1.04s\tremaining: 3.78s\n",
            "216:\tlearn: 9.8788200\ttotal: 1.04s\tremaining: 3.76s\n",
            "217:\tlearn: 9.8694774\ttotal: 1.04s\tremaining: 3.75s\n",
            "218:\tlearn: 9.8569581\ttotal: 1.05s\tremaining: 3.73s\n",
            "219:\tlearn: 9.8478223\ttotal: 1.05s\tremaining: 3.72s\n",
            "220:\tlearn: 9.8346597\ttotal: 1.05s\tremaining: 3.71s\n",
            "221:\tlearn: 9.8234154\ttotal: 1.05s\tremaining: 3.69s\n",
            "222:\tlearn: 9.8131437\ttotal: 1.06s\tremaining: 3.68s\n",
            "223:\tlearn: 9.8005098\ttotal: 1.06s\tremaining: 3.67s\n",
            "224:\tlearn: 9.7875858\ttotal: 1.06s\tremaining: 3.66s\n",
            "225:\tlearn: 9.7792675\ttotal: 1.06s\tremaining: 3.65s\n",
            "226:\tlearn: 9.7654599\ttotal: 1.07s\tremaining: 3.63s\n",
            "227:\tlearn: 9.7524920\ttotal: 1.07s\tremaining: 3.62s\n",
            "228:\tlearn: 9.7367191\ttotal: 1.07s\tremaining: 3.61s\n",
            "229:\tlearn: 9.7266725\ttotal: 1.07s\tremaining: 3.6s\n",
            "230:\tlearn: 9.7170337\ttotal: 1.08s\tremaining: 3.58s\n",
            "231:\tlearn: 9.7084306\ttotal: 1.08s\tremaining: 3.57s\n",
            "232:\tlearn: 9.6956409\ttotal: 1.08s\tremaining: 3.56s\n",
            "233:\tlearn: 9.6846159\ttotal: 1.08s\tremaining: 3.54s\n",
            "234:\tlearn: 9.6746810\ttotal: 1.08s\tremaining: 3.53s\n",
            "235:\tlearn: 9.6642379\ttotal: 1.09s\tremaining: 3.52s\n",
            "236:\tlearn: 9.6555368\ttotal: 1.09s\tremaining: 3.51s\n",
            "237:\tlearn: 9.6441430\ttotal: 1.09s\tremaining: 3.5s\n",
            "238:\tlearn: 9.6339961\ttotal: 1.09s\tremaining: 3.48s\n",
            "239:\tlearn: 9.6258142\ttotal: 1.1s\tremaining: 3.47s\n",
            "240:\tlearn: 9.6138901\ttotal: 1.1s\tremaining: 3.46s\n",
            "241:\tlearn: 9.6028752\ttotal: 1.1s\tremaining: 3.45s\n",
            "242:\tlearn: 9.5923992\ttotal: 1.1s\tremaining: 3.44s\n",
            "243:\tlearn: 9.5830093\ttotal: 1.11s\tremaining: 3.43s\n",
            "244:\tlearn: 9.5714019\ttotal: 1.11s\tremaining: 3.42s\n",
            "245:\tlearn: 9.5611133\ttotal: 1.11s\tremaining: 3.4s\n",
            "246:\tlearn: 9.5510612\ttotal: 1.11s\tremaining: 3.39s\n",
            "247:\tlearn: 9.5417705\ttotal: 1.11s\tremaining: 3.38s\n",
            "248:\tlearn: 9.5282303\ttotal: 1.12s\tremaining: 3.37s\n",
            "249:\tlearn: 9.5170183\ttotal: 1.12s\tremaining: 3.36s\n",
            "250:\tlearn: 9.5089099\ttotal: 1.12s\tremaining: 3.35s\n",
            "251:\tlearn: 9.5019348\ttotal: 1.13s\tremaining: 3.35s\n",
            "252:\tlearn: 9.4891006\ttotal: 1.13s\tremaining: 3.34s\n",
            "253:\tlearn: 9.4768693\ttotal: 1.14s\tremaining: 3.33s\n",
            "254:\tlearn: 9.4675836\ttotal: 1.14s\tremaining: 3.33s\n",
            "255:\tlearn: 9.4574056\ttotal: 1.14s\tremaining: 3.32s\n",
            "256:\tlearn: 9.4482518\ttotal: 1.15s\tremaining: 3.32s\n",
            "257:\tlearn: 9.4376460\ttotal: 1.15s\tremaining: 3.32s\n",
            "258:\tlearn: 9.4287614\ttotal: 1.16s\tremaining: 3.31s\n",
            "259:\tlearn: 9.4205046\ttotal: 1.16s\tremaining: 3.3s\n",
            "260:\tlearn: 9.4107953\ttotal: 1.16s\tremaining: 3.3s\n",
            "261:\tlearn: 9.4008622\ttotal: 1.17s\tremaining: 3.29s\n",
            "262:\tlearn: 9.3909573\ttotal: 1.17s\tremaining: 3.28s\n",
            "263:\tlearn: 9.3780260\ttotal: 1.17s\tremaining: 3.27s\n",
            "264:\tlearn: 9.3706541\ttotal: 1.17s\tremaining: 3.26s\n",
            "265:\tlearn: 9.3614296\ttotal: 1.18s\tremaining: 3.27s\n",
            "266:\tlearn: 9.3507280\ttotal: 1.19s\tremaining: 3.26s\n",
            "267:\tlearn: 9.3420365\ttotal: 1.19s\tremaining: 3.25s\n",
            "268:\tlearn: 9.3332427\ttotal: 1.19s\tremaining: 3.24s\n",
            "269:\tlearn: 9.3235818\ttotal: 1.19s\tremaining: 3.23s\n",
            "270:\tlearn: 9.3165977\ttotal: 1.2s\tremaining: 3.22s\n",
            "271:\tlearn: 9.3082580\ttotal: 1.2s\tremaining: 3.22s\n",
            "272:\tlearn: 9.2983520\ttotal: 1.21s\tremaining: 3.23s\n",
            "273:\tlearn: 9.2917060\ttotal: 1.22s\tremaining: 3.22s\n",
            "274:\tlearn: 9.2748529\ttotal: 1.22s\tremaining: 3.21s\n",
            "275:\tlearn: 9.2672069\ttotal: 1.22s\tremaining: 3.21s\n",
            "276:\tlearn: 9.2551073\ttotal: 1.23s\tremaining: 3.2s\n",
            "277:\tlearn: 9.2449282\ttotal: 1.23s\tremaining: 3.19s\n",
            "278:\tlearn: 9.2370519\ttotal: 1.23s\tremaining: 3.18s\n",
            "279:\tlearn: 9.2295386\ttotal: 1.23s\tremaining: 3.17s\n",
            "280:\tlearn: 9.2225792\ttotal: 1.24s\tremaining: 3.17s\n",
            "281:\tlearn: 9.2158186\ttotal: 1.24s\tremaining: 3.16s\n",
            "282:\tlearn: 9.2062391\ttotal: 1.24s\tremaining: 3.15s\n",
            "283:\tlearn: 9.1975168\ttotal: 1.25s\tremaining: 3.15s\n",
            "284:\tlearn: 9.1911245\ttotal: 1.25s\tremaining: 3.14s\n",
            "285:\tlearn: 9.1830307\ttotal: 1.25s\tremaining: 3.13s\n",
            "286:\tlearn: 9.1755058\ttotal: 1.26s\tremaining: 3.13s\n",
            "287:\tlearn: 9.1643943\ttotal: 1.26s\tremaining: 3.12s\n",
            "288:\tlearn: 9.1579914\ttotal: 1.26s\tremaining: 3.11s\n",
            "289:\tlearn: 9.1497111\ttotal: 1.27s\tremaining: 3.11s\n",
            "290:\tlearn: 9.1427372\ttotal: 1.27s\tremaining: 3.1s\n",
            "291:\tlearn: 9.1347821\ttotal: 1.27s\tremaining: 3.09s\n",
            "292:\tlearn: 9.1293831\ttotal: 1.27s\tremaining: 3.08s\n",
            "293:\tlearn: 9.1227132\ttotal: 1.28s\tremaining: 3.07s\n",
            "294:\tlearn: 9.1137965\ttotal: 1.28s\tremaining: 3.06s\n",
            "295:\tlearn: 9.1058787\ttotal: 1.28s\tremaining: 3.05s\n",
            "296:\tlearn: 9.0969709\ttotal: 1.28s\tremaining: 3.04s\n",
            "297:\tlearn: 9.0919801\ttotal: 1.29s\tremaining: 3.03s\n",
            "298:\tlearn: 9.0856564\ttotal: 1.29s\tremaining: 3.02s\n",
            "299:\tlearn: 9.0792744\ttotal: 1.3s\tremaining: 3.03s\n",
            "300:\tlearn: 9.0733122\ttotal: 1.3s\tremaining: 3.02s\n",
            "301:\tlearn: 9.0670271\ttotal: 1.3s\tremaining: 3.02s\n",
            "302:\tlearn: 9.0609051\ttotal: 1.31s\tremaining: 3.01s\n",
            "303:\tlearn: 9.0537989\ttotal: 1.31s\tremaining: 3.01s\n",
            "304:\tlearn: 9.0475826\ttotal: 1.32s\tremaining: 3s\n",
            "305:\tlearn: 9.0408603\ttotal: 1.32s\tremaining: 2.99s\n",
            "306:\tlearn: 9.0337559\ttotal: 1.32s\tremaining: 2.98s\n",
            "307:\tlearn: 9.0258346\ttotal: 1.32s\tremaining: 2.97s\n",
            "308:\tlearn: 9.0207237\ttotal: 1.32s\tremaining: 2.96s\n",
            "309:\tlearn: 9.0136177\ttotal: 1.33s\tremaining: 2.96s\n",
            "310:\tlearn: 9.0087092\ttotal: 1.33s\tremaining: 2.95s\n",
            "311:\tlearn: 8.9961638\ttotal: 1.33s\tremaining: 2.94s\n",
            "312:\tlearn: 8.9893779\ttotal: 1.34s\tremaining: 2.93s\n",
            "313:\tlearn: 8.9837298\ttotal: 1.34s\tremaining: 2.93s\n",
            "314:\tlearn: 8.9774904\ttotal: 1.34s\tremaining: 2.92s\n",
            "315:\tlearn: 8.9709675\ttotal: 1.35s\tremaining: 2.91s\n",
            "316:\tlearn: 8.9643787\ttotal: 1.35s\tremaining: 2.9s\n",
            "317:\tlearn: 8.9589672\ttotal: 1.35s\tremaining: 2.9s\n",
            "318:\tlearn: 8.9535453\ttotal: 1.35s\tremaining: 2.89s\n",
            "319:\tlearn: 8.9488511\ttotal: 1.36s\tremaining: 2.89s\n",
            "320:\tlearn: 8.9407966\ttotal: 1.36s\tremaining: 2.89s\n",
            "321:\tlearn: 8.9355026\ttotal: 1.37s\tremaining: 2.88s\n",
            "322:\tlearn: 8.9296519\ttotal: 1.37s\tremaining: 2.87s\n",
            "323:\tlearn: 8.9235758\ttotal: 1.37s\tremaining: 2.87s\n",
            "324:\tlearn: 8.9192239\ttotal: 1.38s\tremaining: 2.86s\n",
            "325:\tlearn: 8.9134398\ttotal: 1.38s\tremaining: 2.85s\n",
            "326:\tlearn: 8.9073106\ttotal: 1.38s\tremaining: 2.84s\n",
            "327:\tlearn: 8.9021156\ttotal: 1.38s\tremaining: 2.83s\n",
            "328:\tlearn: 8.8950080\ttotal: 1.39s\tremaining: 2.83s\n",
            "329:\tlearn: 8.8882994\ttotal: 1.39s\tremaining: 2.82s\n",
            "330:\tlearn: 8.8820923\ttotal: 1.39s\tremaining: 2.81s\n",
            "331:\tlearn: 8.8757370\ttotal: 1.39s\tremaining: 2.8s\n",
            "332:\tlearn: 8.8680399\ttotal: 1.4s\tremaining: 2.79s\n",
            "333:\tlearn: 8.8604295\ttotal: 1.4s\tremaining: 2.79s\n",
            "334:\tlearn: 8.8538726\ttotal: 1.4s\tremaining: 2.78s\n",
            "335:\tlearn: 8.8452449\ttotal: 1.4s\tremaining: 2.77s\n",
            "336:\tlearn: 8.8386293\ttotal: 1.4s\tremaining: 2.76s\n",
            "337:\tlearn: 8.8333920\ttotal: 1.41s\tremaining: 2.75s\n",
            "338:\tlearn: 8.8263942\ttotal: 1.41s\tremaining: 2.75s\n",
            "339:\tlearn: 8.8209535\ttotal: 1.41s\tremaining: 2.74s\n",
            "340:\tlearn: 8.8162400\ttotal: 1.41s\tremaining: 2.73s\n",
            "341:\tlearn: 8.8094567\ttotal: 1.42s\tremaining: 2.73s\n",
            "342:\tlearn: 8.8035985\ttotal: 1.42s\tremaining: 2.72s\n",
            "343:\tlearn: 8.7980674\ttotal: 1.42s\tremaining: 2.71s\n",
            "344:\tlearn: 8.7932269\ttotal: 1.43s\tremaining: 2.71s\n",
            "345:\tlearn: 8.7826246\ttotal: 1.43s\tremaining: 2.7s\n",
            "346:\tlearn: 8.7752535\ttotal: 1.43s\tremaining: 2.7s\n",
            "347:\tlearn: 8.7703092\ttotal: 1.44s\tremaining: 2.69s\n",
            "348:\tlearn: 8.7618822\ttotal: 1.44s\tremaining: 2.69s\n",
            "349:\tlearn: 8.7569696\ttotal: 1.44s\tremaining: 2.68s\n",
            "350:\tlearn: 8.7518859\ttotal: 1.45s\tremaining: 2.68s\n",
            "351:\tlearn: 8.7481622\ttotal: 1.45s\tremaining: 2.68s\n",
            "352:\tlearn: 8.7424816\ttotal: 1.46s\tremaining: 2.67s\n",
            "353:\tlearn: 8.7374504\ttotal: 1.46s\tremaining: 2.66s\n",
            "354:\tlearn: 8.7324438\ttotal: 1.46s\tremaining: 2.66s\n",
            "355:\tlearn: 8.7276178\ttotal: 1.47s\tremaining: 2.65s\n",
            "356:\tlearn: 8.7226792\ttotal: 1.47s\tremaining: 2.65s\n",
            "357:\tlearn: 8.7160472\ttotal: 1.47s\tremaining: 2.64s\n",
            "358:\tlearn: 8.7123465\ttotal: 1.48s\tremaining: 2.63s\n",
            "359:\tlearn: 8.7066321\ttotal: 1.48s\tremaining: 2.62s\n",
            "360:\tlearn: 8.7010739\ttotal: 1.48s\tremaining: 2.63s\n",
            "361:\tlearn: 8.6940769\ttotal: 1.49s\tremaining: 2.62s\n",
            "362:\tlearn: 8.6891390\ttotal: 1.49s\tremaining: 2.61s\n",
            "363:\tlearn: 8.6839750\ttotal: 1.49s\tremaining: 2.6s\n",
            "364:\tlearn: 8.6784534\ttotal: 1.5s\tremaining: 2.61s\n",
            "365:\tlearn: 8.6738814\ttotal: 1.5s\tremaining: 2.6s\n",
            "366:\tlearn: 8.6695400\ttotal: 1.51s\tremaining: 2.6s\n",
            "367:\tlearn: 8.6657155\ttotal: 1.51s\tremaining: 2.59s\n",
            "368:\tlearn: 8.6614210\ttotal: 1.51s\tremaining: 2.58s\n",
            "369:\tlearn: 8.6578038\ttotal: 1.51s\tremaining: 2.57s\n",
            "370:\tlearn: 8.6520550\ttotal: 1.51s\tremaining: 2.56s\n",
            "371:\tlearn: 8.6477648\ttotal: 1.51s\tremaining: 2.55s\n",
            "372:\tlearn: 8.6392838\ttotal: 1.51s\tremaining: 2.54s\n",
            "373:\tlearn: 8.6355912\ttotal: 1.51s\tremaining: 2.53s\n",
            "374:\tlearn: 8.6297726\ttotal: 1.51s\tremaining: 2.52s\n",
            "375:\tlearn: 8.6244362\ttotal: 1.52s\tremaining: 2.52s\n",
            "376:\tlearn: 8.6202747\ttotal: 1.52s\tremaining: 2.51s\n",
            "377:\tlearn: 8.6127660\ttotal: 1.52s\tremaining: 2.5s\n",
            "378:\tlearn: 8.6091356\ttotal: 1.53s\tremaining: 2.51s\n",
            "379:\tlearn: 8.6043964\ttotal: 1.53s\tremaining: 2.5s\n",
            "380:\tlearn: 8.5970655\ttotal: 1.54s\tremaining: 2.5s\n",
            "381:\tlearn: 8.5918118\ttotal: 1.54s\tremaining: 2.49s\n",
            "382:\tlearn: 8.5875064\ttotal: 1.54s\tremaining: 2.49s\n",
            "383:\tlearn: 8.5830657\ttotal: 1.55s\tremaining: 2.48s\n",
            "384:\tlearn: 8.5782227\ttotal: 1.55s\tremaining: 2.48s\n",
            "385:\tlearn: 8.5748817\ttotal: 1.56s\tremaining: 2.48s\n",
            "386:\tlearn: 8.5695224\ttotal: 1.56s\tremaining: 2.48s\n",
            "387:\tlearn: 8.5648812\ttotal: 1.57s\tremaining: 2.47s\n",
            "388:\tlearn: 8.5610835\ttotal: 1.57s\tremaining: 2.47s\n",
            "389:\tlearn: 8.5580221\ttotal: 1.57s\tremaining: 2.46s\n",
            "390:\tlearn: 8.5538782\ttotal: 1.58s\tremaining: 2.46s\n",
            "391:\tlearn: 8.5481162\ttotal: 1.59s\tremaining: 2.46s\n",
            "392:\tlearn: 8.5440795\ttotal: 1.59s\tremaining: 2.45s\n",
            "393:\tlearn: 8.5395979\ttotal: 1.59s\tremaining: 2.45s\n",
            "394:\tlearn: 8.5360430\ttotal: 1.59s\tremaining: 2.44s\n",
            "395:\tlearn: 8.5325187\ttotal: 1.6s\tremaining: 2.44s\n",
            "396:\tlearn: 8.5283406\ttotal: 1.6s\tremaining: 2.43s\n",
            "397:\tlearn: 8.5262050\ttotal: 1.6s\tremaining: 2.43s\n",
            "398:\tlearn: 8.5227143\ttotal: 1.61s\tremaining: 2.42s\n",
            "399:\tlearn: 8.5193790\ttotal: 1.61s\tremaining: 2.42s\n",
            "400:\tlearn: 8.5139103\ttotal: 1.61s\tremaining: 2.41s\n",
            "401:\tlearn: 8.5092003\ttotal: 1.62s\tremaining: 2.41s\n",
            "402:\tlearn: 8.5056982\ttotal: 1.64s\tremaining: 2.42s\n",
            "403:\tlearn: 8.5010275\ttotal: 1.64s\tremaining: 2.41s\n",
            "404:\tlearn: 8.4979563\ttotal: 1.64s\tremaining: 2.41s\n",
            "405:\tlearn: 8.4951533\ttotal: 1.65s\tremaining: 2.41s\n",
            "406:\tlearn: 8.4898177\ttotal: 1.65s\tremaining: 2.4s\n",
            "407:\tlearn: 8.4861356\ttotal: 1.65s\tremaining: 2.4s\n",
            "408:\tlearn: 8.4812554\ttotal: 1.66s\tremaining: 2.39s\n",
            "409:\tlearn: 8.4765518\ttotal: 1.66s\tremaining: 2.39s\n",
            "410:\tlearn: 8.4714289\ttotal: 1.66s\tremaining: 2.38s\n",
            "411:\tlearn: 8.4686468\ttotal: 1.66s\tremaining: 2.38s\n",
            "412:\tlearn: 8.4653592\ttotal: 1.67s\tremaining: 2.37s\n",
            "413:\tlearn: 8.4604108\ttotal: 1.67s\tremaining: 2.36s\n",
            "414:\tlearn: 8.4536703\ttotal: 1.67s\tremaining: 2.35s\n",
            "415:\tlearn: 8.4500222\ttotal: 1.67s\tremaining: 2.35s\n",
            "416:\tlearn: 8.4467124\ttotal: 1.68s\tremaining: 2.35s\n",
            "417:\tlearn: 8.4429192\ttotal: 1.69s\tremaining: 2.35s\n",
            "418:\tlearn: 8.4390870\ttotal: 1.69s\tremaining: 2.35s\n",
            "419:\tlearn: 8.4346826\ttotal: 1.7s\tremaining: 2.35s\n",
            "420:\tlearn: 8.4301843\ttotal: 1.7s\tremaining: 2.34s\n",
            "421:\tlearn: 8.4273823\ttotal: 1.71s\tremaining: 2.34s\n",
            "422:\tlearn: 8.4245890\ttotal: 1.71s\tremaining: 2.34s\n",
            "423:\tlearn: 8.4203290\ttotal: 1.72s\tremaining: 2.33s\n",
            "424:\tlearn: 8.4173988\ttotal: 1.72s\tremaining: 2.33s\n",
            "425:\tlearn: 8.4139178\ttotal: 1.73s\tremaining: 2.33s\n",
            "426:\tlearn: 8.4086325\ttotal: 1.73s\tremaining: 2.32s\n",
            "427:\tlearn: 8.4022637\ttotal: 1.74s\tremaining: 2.32s\n",
            "428:\tlearn: 8.3982956\ttotal: 1.75s\tremaining: 2.33s\n",
            "429:\tlearn: 8.3943293\ttotal: 1.75s\tremaining: 2.32s\n",
            "430:\tlearn: 8.3909693\ttotal: 1.76s\tremaining: 2.32s\n",
            "431:\tlearn: 8.3877045\ttotal: 1.76s\tremaining: 2.32s\n",
            "432:\tlearn: 8.3838742\ttotal: 1.77s\tremaining: 2.31s\n",
            "433:\tlearn: 8.3783978\ttotal: 1.77s\tremaining: 2.3s\n",
            "434:\tlearn: 8.3748237\ttotal: 1.77s\tremaining: 2.3s\n",
            "435:\tlearn: 8.3715423\ttotal: 1.78s\tremaining: 2.3s\n",
            "436:\tlearn: 8.3682201\ttotal: 1.78s\tremaining: 2.3s\n",
            "437:\tlearn: 8.3620772\ttotal: 1.79s\tremaining: 2.3s\n",
            "438:\tlearn: 8.3582821\ttotal: 1.79s\tremaining: 2.29s\n",
            "439:\tlearn: 8.3522168\ttotal: 1.8s\tremaining: 2.29s\n",
            "440:\tlearn: 8.3486714\ttotal: 1.8s\tremaining: 2.28s\n",
            "441:\tlearn: 8.3449480\ttotal: 1.81s\tremaining: 2.29s\n",
            "442:\tlearn: 8.3404306\ttotal: 1.81s\tremaining: 2.28s\n",
            "443:\tlearn: 8.3368494\ttotal: 1.82s\tremaining: 2.28s\n",
            "444:\tlearn: 8.3335942\ttotal: 1.83s\tremaining: 2.28s\n",
            "445:\tlearn: 8.3303485\ttotal: 1.83s\tremaining: 2.27s\n",
            "446:\tlearn: 8.3268680\ttotal: 1.83s\tremaining: 2.27s\n",
            "447:\tlearn: 8.3229159\ttotal: 1.84s\tremaining: 2.27s\n",
            "448:\tlearn: 8.3193500\ttotal: 1.85s\tremaining: 2.27s\n",
            "449:\tlearn: 8.3163050\ttotal: 1.85s\tremaining: 2.27s\n",
            "450:\tlearn: 8.3121623\ttotal: 1.86s\tremaining: 2.26s\n",
            "451:\tlearn: 8.3089943\ttotal: 1.86s\tremaining: 2.26s\n",
            "452:\tlearn: 8.3050830\ttotal: 1.86s\tremaining: 2.25s\n",
            "453:\tlearn: 8.3010373\ttotal: 1.87s\tremaining: 2.25s\n",
            "454:\tlearn: 8.2966712\ttotal: 1.88s\tremaining: 2.25s\n",
            "455:\tlearn: 8.2937381\ttotal: 1.88s\tremaining: 2.25s\n",
            "456:\tlearn: 8.2910222\ttotal: 1.89s\tremaining: 2.24s\n",
            "457:\tlearn: 8.2884822\ttotal: 1.89s\tremaining: 2.24s\n",
            "458:\tlearn: 8.2856077\ttotal: 1.9s\tremaining: 2.23s\n",
            "459:\tlearn: 8.2831342\ttotal: 1.9s\tremaining: 2.23s\n",
            "460:\tlearn: 8.2794900\ttotal: 1.91s\tremaining: 2.23s\n",
            "461:\tlearn: 8.2756696\ttotal: 1.91s\tremaining: 2.22s\n",
            "462:\tlearn: 8.2705299\ttotal: 1.91s\tremaining: 2.22s\n",
            "463:\tlearn: 8.2671165\ttotal: 1.92s\tremaining: 2.22s\n",
            "464:\tlearn: 8.2622510\ttotal: 1.93s\tremaining: 2.22s\n",
            "465:\tlearn: 8.2589294\ttotal: 1.93s\tremaining: 2.21s\n",
            "466:\tlearn: 8.2563983\ttotal: 1.93s\tremaining: 2.2s\n",
            "467:\tlearn: 8.2537747\ttotal: 1.94s\tremaining: 2.2s\n",
            "468:\tlearn: 8.2509731\ttotal: 1.94s\tremaining: 2.2s\n",
            "469:\tlearn: 8.2481173\ttotal: 1.95s\tremaining: 2.2s\n",
            "470:\tlearn: 8.2448162\ttotal: 1.95s\tremaining: 2.19s\n",
            "471:\tlearn: 8.2419548\ttotal: 1.96s\tremaining: 2.19s\n",
            "472:\tlearn: 8.2394700\ttotal: 1.96s\tremaining: 2.18s\n",
            "473:\tlearn: 8.2349125\ttotal: 1.96s\tremaining: 2.18s\n",
            "474:\tlearn: 8.2302443\ttotal: 1.97s\tremaining: 2.17s\n",
            "475:\tlearn: 8.2274902\ttotal: 1.97s\tremaining: 2.17s\n",
            "476:\tlearn: 8.2253538\ttotal: 1.98s\tremaining: 2.17s\n",
            "477:\tlearn: 8.2217801\ttotal: 1.98s\tremaining: 2.16s\n",
            "478:\tlearn: 8.2189502\ttotal: 1.98s\tremaining: 2.16s\n",
            "479:\tlearn: 8.2157400\ttotal: 1.99s\tremaining: 2.15s\n",
            "480:\tlearn: 8.2125972\ttotal: 1.99s\tremaining: 2.14s\n",
            "481:\tlearn: 8.2098152\ttotal: 1.99s\tremaining: 2.14s\n",
            "482:\tlearn: 8.2070045\ttotal: 1.99s\tremaining: 2.13s\n",
            "483:\tlearn: 8.2048903\ttotal: 2s\tremaining: 2.13s\n",
            "484:\tlearn: 8.2025756\ttotal: 2s\tremaining: 2.12s\n",
            "485:\tlearn: 8.2008884\ttotal: 2s\tremaining: 2.11s\n",
            "486:\tlearn: 8.1980826\ttotal: 2s\tremaining: 2.11s\n",
            "487:\tlearn: 8.1943082\ttotal: 2s\tremaining: 2.1s\n",
            "488:\tlearn: 8.1896013\ttotal: 2.01s\tremaining: 2.1s\n",
            "489:\tlearn: 8.1874187\ttotal: 2.01s\tremaining: 2.1s\n",
            "490:\tlearn: 8.1836110\ttotal: 2.01s\tremaining: 2.09s\n",
            "491:\tlearn: 8.1773013\ttotal: 2.02s\tremaining: 2.08s\n",
            "492:\tlearn: 8.1738360\ttotal: 2.02s\tremaining: 2.07s\n",
            "493:\tlearn: 8.1700320\ttotal: 2.02s\tremaining: 2.07s\n",
            "494:\tlearn: 8.1673662\ttotal: 2.03s\tremaining: 2.07s\n",
            "495:\tlearn: 8.1650929\ttotal: 2.03s\tremaining: 2.06s\n",
            "496:\tlearn: 8.1621146\ttotal: 2.03s\tremaining: 2.05s\n",
            "497:\tlearn: 8.1598263\ttotal: 2.03s\tremaining: 2.05s\n",
            "498:\tlearn: 8.1570809\ttotal: 2.03s\tremaining: 2.04s\n",
            "499:\tlearn: 8.1543094\ttotal: 2.04s\tremaining: 2.04s\n",
            "500:\tlearn: 8.1503668\ttotal: 2.04s\tremaining: 2.03s\n",
            "501:\tlearn: 8.1479245\ttotal: 2.04s\tremaining: 2.02s\n",
            "502:\tlearn: 8.1436205\ttotal: 2.04s\tremaining: 2.02s\n",
            "503:\tlearn: 8.1395757\ttotal: 2.04s\tremaining: 2.01s\n",
            "504:\tlearn: 8.1369943\ttotal: 2.04s\tremaining: 2s\n",
            "505:\tlearn: 8.1348271\ttotal: 2.04s\tremaining: 1.99s\n",
            "506:\tlearn: 8.1319305\ttotal: 2.04s\tremaining: 1.99s\n",
            "507:\tlearn: 8.1288852\ttotal: 2.04s\tremaining: 1.98s\n",
            "508:\tlearn: 8.1241810\ttotal: 2.05s\tremaining: 1.97s\n",
            "509:\tlearn: 8.1218909\ttotal: 2.05s\tremaining: 1.97s\n",
            "510:\tlearn: 8.1190995\ttotal: 2.05s\tremaining: 1.96s\n",
            "511:\tlearn: 8.1166344\ttotal: 2.05s\tremaining: 1.96s\n",
            "512:\tlearn: 8.1136915\ttotal: 2.06s\tremaining: 1.95s\n",
            "513:\tlearn: 8.1115617\ttotal: 2.06s\tremaining: 1.94s\n",
            "514:\tlearn: 8.1093730\ttotal: 2.06s\tremaining: 1.94s\n",
            "515:\tlearn: 8.1070288\ttotal: 2.06s\tremaining: 1.94s\n",
            "516:\tlearn: 8.1048080\ttotal: 2.06s\tremaining: 1.93s\n",
            "517:\tlearn: 8.1013066\ttotal: 2.07s\tremaining: 1.92s\n",
            "518:\tlearn: 8.0988385\ttotal: 2.07s\tremaining: 1.92s\n",
            "519:\tlearn: 8.0959992\ttotal: 2.08s\tremaining: 1.92s\n",
            "520:\tlearn: 8.0940626\ttotal: 2.08s\tremaining: 1.91s\n",
            "521:\tlearn: 8.0914120\ttotal: 2.08s\tremaining: 1.9s\n",
            "522:\tlearn: 8.0891402\ttotal: 2.08s\tremaining: 1.9s\n",
            "523:\tlearn: 8.0846101\ttotal: 2.08s\tremaining: 1.89s\n",
            "524:\tlearn: 8.0826559\ttotal: 2.08s\tremaining: 1.88s\n",
            "525:\tlearn: 8.0799516\ttotal: 2.08s\tremaining: 1.88s\n",
            "526:\tlearn: 8.0764249\ttotal: 2.08s\tremaining: 1.87s\n",
            "527:\tlearn: 8.0737766\ttotal: 2.08s\tremaining: 1.86s\n",
            "528:\tlearn: 8.0696267\ttotal: 2.08s\tremaining: 1.86s\n",
            "529:\tlearn: 8.0667363\ttotal: 2.09s\tremaining: 1.85s\n",
            "530:\tlearn: 8.0643632\ttotal: 2.09s\tremaining: 1.84s\n",
            "531:\tlearn: 8.0612954\ttotal: 2.09s\tremaining: 1.84s\n",
            "532:\tlearn: 8.0588929\ttotal: 2.09s\tremaining: 1.83s\n",
            "533:\tlearn: 8.0553481\ttotal: 2.09s\tremaining: 1.82s\n",
            "534:\tlearn: 8.0528551\ttotal: 2.09s\tremaining: 1.82s\n",
            "535:\tlearn: 8.0502130\ttotal: 2.1s\tremaining: 1.82s\n",
            "536:\tlearn: 8.0472097\ttotal: 2.1s\tremaining: 1.81s\n",
            "537:\tlearn: 8.0424045\ttotal: 2.1s\tremaining: 1.8s\n",
            "538:\tlearn: 8.0401402\ttotal: 2.1s\tremaining: 1.8s\n",
            "539:\tlearn: 8.0372432\ttotal: 2.11s\tremaining: 1.8s\n",
            "540:\tlearn: 8.0343809\ttotal: 2.11s\tremaining: 1.79s\n",
            "541:\tlearn: 8.0303784\ttotal: 2.11s\tremaining: 1.78s\n",
            "542:\tlearn: 8.0271397\ttotal: 2.12s\tremaining: 1.78s\n",
            "543:\tlearn: 8.0239866\ttotal: 2.12s\tremaining: 1.78s\n",
            "544:\tlearn: 8.0215107\ttotal: 2.12s\tremaining: 1.77s\n",
            "545:\tlearn: 8.0180228\ttotal: 2.13s\tremaining: 1.77s\n",
            "546:\tlearn: 8.0147026\ttotal: 2.13s\tremaining: 1.76s\n",
            "547:\tlearn: 8.0126803\ttotal: 2.13s\tremaining: 1.76s\n",
            "548:\tlearn: 8.0104774\ttotal: 2.13s\tremaining: 1.75s\n",
            "549:\tlearn: 8.0078384\ttotal: 2.14s\tremaining: 1.75s\n",
            "550:\tlearn: 8.0056260\ttotal: 2.14s\tremaining: 1.74s\n",
            "551:\tlearn: 8.0027896\ttotal: 2.14s\tremaining: 1.74s\n",
            "552:\tlearn: 7.9988221\ttotal: 2.15s\tremaining: 1.73s\n",
            "553:\tlearn: 7.9961721\ttotal: 2.15s\tremaining: 1.73s\n",
            "554:\tlearn: 7.9940315\ttotal: 2.15s\tremaining: 1.72s\n",
            "555:\tlearn: 7.9919657\ttotal: 2.15s\tremaining: 1.72s\n",
            "556:\tlearn: 7.9889043\ttotal: 2.15s\tremaining: 1.71s\n",
            "557:\tlearn: 7.9867257\ttotal: 2.15s\tremaining: 1.71s\n",
            "558:\tlearn: 7.9846636\ttotal: 2.16s\tremaining: 1.71s\n",
            "559:\tlearn: 7.9818764\ttotal: 2.16s\tremaining: 1.7s\n",
            "560:\tlearn: 7.9797421\ttotal: 2.16s\tremaining: 1.69s\n",
            "561:\tlearn: 7.9780965\ttotal: 2.16s\tremaining: 1.69s\n",
            "562:\tlearn: 7.9762025\ttotal: 2.17s\tremaining: 1.68s\n",
            "563:\tlearn: 7.9730291\ttotal: 2.17s\tremaining: 1.68s\n",
            "564:\tlearn: 7.9705810\ttotal: 2.17s\tremaining: 1.67s\n",
            "565:\tlearn: 7.9681256\ttotal: 2.17s\tremaining: 1.66s\n",
            "566:\tlearn: 7.9646230\ttotal: 2.17s\tremaining: 1.66s\n",
            "567:\tlearn: 7.9625902\ttotal: 2.17s\tremaining: 1.65s\n",
            "568:\tlearn: 7.9606584\ttotal: 2.18s\tremaining: 1.65s\n",
            "569:\tlearn: 7.9558818\ttotal: 2.18s\tremaining: 1.64s\n",
            "570:\tlearn: 7.9536492\ttotal: 2.18s\tremaining: 1.64s\n",
            "571:\tlearn: 7.9513351\ttotal: 2.18s\tremaining: 1.63s\n",
            "572:\tlearn: 7.9495653\ttotal: 2.18s\tremaining: 1.63s\n",
            "573:\tlearn: 7.9467592\ttotal: 2.18s\tremaining: 1.62s\n",
            "574:\tlearn: 7.9446089\ttotal: 2.18s\tremaining: 1.61s\n",
            "575:\tlearn: 7.9417145\ttotal: 2.18s\tremaining: 1.61s\n",
            "576:\tlearn: 7.9390402\ttotal: 2.19s\tremaining: 1.6s\n",
            "577:\tlearn: 7.9355538\ttotal: 2.19s\tremaining: 1.6s\n",
            "578:\tlearn: 7.9337698\ttotal: 2.19s\tremaining: 1.59s\n",
            "579:\tlearn: 7.9307977\ttotal: 2.19s\tremaining: 1.59s\n",
            "580:\tlearn: 7.9288217\ttotal: 2.2s\tremaining: 1.58s\n",
            "581:\tlearn: 7.9253471\ttotal: 2.2s\tremaining: 1.58s\n",
            "582:\tlearn: 7.9229108\ttotal: 2.2s\tremaining: 1.57s\n",
            "583:\tlearn: 7.9213765\ttotal: 2.2s\tremaining: 1.57s\n",
            "584:\tlearn: 7.9195684\ttotal: 2.21s\tremaining: 1.57s\n",
            "585:\tlearn: 7.9171155\ttotal: 2.21s\tremaining: 1.56s\n",
            "586:\tlearn: 7.9144528\ttotal: 2.21s\tremaining: 1.55s\n",
            "587:\tlearn: 7.9125501\ttotal: 2.21s\tremaining: 1.55s\n",
            "588:\tlearn: 7.9098851\ttotal: 2.21s\tremaining: 1.54s\n",
            "589:\tlearn: 7.9080873\ttotal: 2.21s\tremaining: 1.54s\n",
            "590:\tlearn: 7.9062523\ttotal: 2.21s\tremaining: 1.53s\n",
            "591:\tlearn: 7.9039959\ttotal: 2.22s\tremaining: 1.53s\n",
            "592:\tlearn: 7.9021738\ttotal: 2.22s\tremaining: 1.53s\n",
            "593:\tlearn: 7.9002925\ttotal: 2.23s\tremaining: 1.52s\n",
            "594:\tlearn: 7.8989695\ttotal: 2.23s\tremaining: 1.51s\n",
            "595:\tlearn: 7.8968824\ttotal: 2.23s\tremaining: 1.51s\n",
            "596:\tlearn: 7.8944144\ttotal: 2.23s\tremaining: 1.51s\n",
            "597:\tlearn: 7.8928837\ttotal: 2.23s\tremaining: 1.5s\n",
            "598:\tlearn: 7.8894571\ttotal: 2.23s\tremaining: 1.5s\n",
            "599:\tlearn: 7.8876879\ttotal: 2.24s\tremaining: 1.49s\n",
            "600:\tlearn: 7.8858981\ttotal: 2.24s\tremaining: 1.49s\n",
            "601:\tlearn: 7.8840248\ttotal: 2.24s\tremaining: 1.48s\n",
            "602:\tlearn: 7.8822205\ttotal: 2.25s\tremaining: 1.48s\n",
            "603:\tlearn: 7.8791965\ttotal: 2.25s\tremaining: 1.47s\n",
            "604:\tlearn: 7.8755238\ttotal: 2.25s\tremaining: 1.47s\n",
            "605:\tlearn: 7.8727942\ttotal: 2.25s\tremaining: 1.47s\n",
            "606:\tlearn: 7.8705900\ttotal: 2.25s\tremaining: 1.46s\n",
            "607:\tlearn: 7.8665704\ttotal: 2.25s\tremaining: 1.45s\n",
            "608:\tlearn: 7.8639219\ttotal: 2.26s\tremaining: 1.45s\n",
            "609:\tlearn: 7.8604520\ttotal: 2.26s\tremaining: 1.44s\n",
            "610:\tlearn: 7.8579563\ttotal: 2.26s\tremaining: 1.44s\n",
            "611:\tlearn: 7.8554014\ttotal: 2.26s\tremaining: 1.43s\n",
            "612:\tlearn: 7.8536536\ttotal: 2.26s\tremaining: 1.43s\n",
            "613:\tlearn: 7.8519619\ttotal: 2.26s\tremaining: 1.42s\n",
            "614:\tlearn: 7.8497158\ttotal: 2.26s\tremaining: 1.42s\n",
            "615:\tlearn: 7.8477156\ttotal: 2.26s\tremaining: 1.41s\n",
            "616:\tlearn: 7.8448952\ttotal: 2.27s\tremaining: 1.41s\n",
            "617:\tlearn: 7.8417186\ttotal: 2.27s\tremaining: 1.4s\n",
            "618:\tlearn: 7.8390456\ttotal: 2.27s\tremaining: 1.4s\n",
            "619:\tlearn: 7.8363624\ttotal: 2.27s\tremaining: 1.39s\n",
            "620:\tlearn: 7.8346666\ttotal: 2.27s\tremaining: 1.39s\n",
            "621:\tlearn: 7.8321582\ttotal: 2.27s\tremaining: 1.38s\n",
            "622:\tlearn: 7.8285309\ttotal: 2.27s\tremaining: 1.38s\n",
            "623:\tlearn: 7.8258328\ttotal: 2.28s\tremaining: 1.37s\n",
            "624:\tlearn: 7.8238802\ttotal: 2.28s\tremaining: 1.37s\n",
            "625:\tlearn: 7.8210098\ttotal: 2.29s\tremaining: 1.36s\n",
            "626:\tlearn: 7.8192249\ttotal: 2.29s\tremaining: 1.36s\n",
            "627:\tlearn: 7.8173873\ttotal: 2.29s\tremaining: 1.35s\n",
            "628:\tlearn: 7.8130773\ttotal: 2.29s\tremaining: 1.35s\n",
            "629:\tlearn: 7.8115477\ttotal: 2.29s\tremaining: 1.34s\n",
            "630:\tlearn: 7.8088181\ttotal: 2.29s\tremaining: 1.34s\n",
            "631:\tlearn: 7.8066216\ttotal: 2.3s\tremaining: 1.34s\n",
            "632:\tlearn: 7.8041691\ttotal: 2.3s\tremaining: 1.33s\n",
            "633:\tlearn: 7.8002847\ttotal: 2.3s\tremaining: 1.33s\n",
            "634:\tlearn: 7.7973519\ttotal: 2.3s\tremaining: 1.32s\n",
            "635:\tlearn: 7.7961678\ttotal: 2.31s\tremaining: 1.32s\n",
            "636:\tlearn: 7.7930736\ttotal: 2.31s\tremaining: 1.32s\n",
            "637:\tlearn: 7.7910340\ttotal: 2.31s\tremaining: 1.31s\n",
            "638:\tlearn: 7.7894983\ttotal: 2.31s\tremaining: 1.31s\n",
            "639:\tlearn: 7.7882424\ttotal: 2.31s\tremaining: 1.3s\n",
            "640:\tlearn: 7.7854116\ttotal: 2.31s\tremaining: 1.3s\n",
            "641:\tlearn: 7.7835006\ttotal: 2.31s\tremaining: 1.29s\n",
            "642:\tlearn: 7.7787498\ttotal: 2.32s\tremaining: 1.29s\n",
            "643:\tlearn: 7.7759820\ttotal: 2.32s\tremaining: 1.28s\n",
            "644:\tlearn: 7.7731861\ttotal: 2.33s\tremaining: 1.28s\n",
            "645:\tlearn: 7.7693807\ttotal: 2.33s\tremaining: 1.28s\n",
            "646:\tlearn: 7.7667730\ttotal: 2.33s\tremaining: 1.27s\n",
            "647:\tlearn: 7.7647886\ttotal: 2.33s\tremaining: 1.27s\n",
            "648:\tlearn: 7.7632216\ttotal: 2.33s\tremaining: 1.26s\n",
            "649:\tlearn: 7.7610738\ttotal: 2.33s\tremaining: 1.26s\n",
            "650:\tlearn: 7.7598824\ttotal: 2.34s\tremaining: 1.25s\n",
            "651:\tlearn: 7.7582553\ttotal: 2.34s\tremaining: 1.25s\n",
            "652:\tlearn: 7.7546225\ttotal: 2.34s\tremaining: 1.24s\n",
            "653:\tlearn: 7.7529300\ttotal: 2.34s\tremaining: 1.24s\n",
            "654:\tlearn: 7.7498500\ttotal: 2.34s\tremaining: 1.23s\n",
            "655:\tlearn: 7.7484280\ttotal: 2.34s\tremaining: 1.23s\n",
            "656:\tlearn: 7.7462365\ttotal: 2.34s\tremaining: 1.22s\n",
            "657:\tlearn: 7.7446143\ttotal: 2.34s\tremaining: 1.22s\n",
            "658:\tlearn: 7.7423508\ttotal: 2.35s\tremaining: 1.21s\n",
            "659:\tlearn: 7.7400657\ttotal: 2.35s\tremaining: 1.21s\n",
            "660:\tlearn: 7.7385474\ttotal: 2.35s\tremaining: 1.2s\n",
            "661:\tlearn: 7.7359856\ttotal: 2.35s\tremaining: 1.2s\n",
            "662:\tlearn: 7.7339625\ttotal: 2.35s\tremaining: 1.19s\n",
            "663:\tlearn: 7.7324839\ttotal: 2.36s\tremaining: 1.19s\n",
            "664:\tlearn: 7.7291494\ttotal: 2.36s\tremaining: 1.19s\n",
            "665:\tlearn: 7.7274126\ttotal: 2.36s\tremaining: 1.18s\n",
            "666:\tlearn: 7.7254366\ttotal: 2.37s\tremaining: 1.18s\n",
            "667:\tlearn: 7.7235367\ttotal: 2.37s\tremaining: 1.18s\n",
            "668:\tlearn: 7.7193703\ttotal: 2.37s\tremaining: 1.17s\n",
            "669:\tlearn: 7.7169717\ttotal: 2.37s\tremaining: 1.17s\n",
            "670:\tlearn: 7.7144852\ttotal: 2.37s\tremaining: 1.16s\n",
            "671:\tlearn: 7.7109965\ttotal: 2.37s\tremaining: 1.16s\n",
            "672:\tlearn: 7.7093606\ttotal: 2.38s\tremaining: 1.16s\n",
            "673:\tlearn: 7.7070935\ttotal: 2.38s\tremaining: 1.15s\n",
            "674:\tlearn: 7.7054404\ttotal: 2.38s\tremaining: 1.15s\n",
            "675:\tlearn: 7.7040456\ttotal: 2.38s\tremaining: 1.14s\n",
            "676:\tlearn: 7.7021151\ttotal: 2.39s\tremaining: 1.14s\n",
            "677:\tlearn: 7.7005390\ttotal: 2.39s\tremaining: 1.14s\n",
            "678:\tlearn: 7.6982545\ttotal: 2.39s\tremaining: 1.13s\n",
            "679:\tlearn: 7.6963373\ttotal: 2.39s\tremaining: 1.13s\n",
            "680:\tlearn: 7.6953126\ttotal: 2.4s\tremaining: 1.12s\n",
            "681:\tlearn: 7.6929507\ttotal: 2.4s\tremaining: 1.12s\n",
            "682:\tlearn: 7.6911284\ttotal: 2.4s\tremaining: 1.11s\n",
            "683:\tlearn: 7.6888582\ttotal: 2.41s\tremaining: 1.11s\n",
            "684:\tlearn: 7.6871100\ttotal: 2.41s\tremaining: 1.11s\n",
            "685:\tlearn: 7.6853281\ttotal: 2.41s\tremaining: 1.1s\n",
            "686:\tlearn: 7.6836417\ttotal: 2.41s\tremaining: 1.1s\n",
            "687:\tlearn: 7.6818127\ttotal: 2.42s\tremaining: 1.1s\n",
            "688:\tlearn: 7.6795720\ttotal: 2.42s\tremaining: 1.09s\n",
            "689:\tlearn: 7.6776863\ttotal: 2.42s\tremaining: 1.09s\n",
            "690:\tlearn: 7.6751928\ttotal: 2.42s\tremaining: 1.08s\n",
            "691:\tlearn: 7.6725623\ttotal: 2.42s\tremaining: 1.08s\n",
            "692:\tlearn: 7.6710914\ttotal: 2.43s\tremaining: 1.07s\n",
            "693:\tlearn: 7.6697491\ttotal: 2.43s\tremaining: 1.07s\n",
            "694:\tlearn: 7.6684364\ttotal: 2.44s\tremaining: 1.07s\n",
            "695:\tlearn: 7.6662043\ttotal: 2.44s\tremaining: 1.06s\n",
            "696:\tlearn: 7.6651189\ttotal: 2.44s\tremaining: 1.06s\n",
            "697:\tlearn: 7.6632256\ttotal: 2.44s\tremaining: 1.06s\n",
            "698:\tlearn: 7.6615462\ttotal: 2.44s\tremaining: 1.05s\n",
            "699:\tlearn: 7.6596783\ttotal: 2.45s\tremaining: 1.05s\n",
            "700:\tlearn: 7.6575891\ttotal: 2.45s\tremaining: 1.04s\n",
            "701:\tlearn: 7.6557044\ttotal: 2.45s\tremaining: 1.04s\n",
            "702:\tlearn: 7.6539220\ttotal: 2.45s\tremaining: 1.03s\n",
            "703:\tlearn: 7.6508326\ttotal: 2.45s\tremaining: 1.03s\n",
            "704:\tlearn: 7.6494120\ttotal: 2.46s\tremaining: 1.03s\n",
            "705:\tlearn: 7.6473532\ttotal: 2.46s\tremaining: 1.02s\n",
            "706:\tlearn: 7.6459793\ttotal: 2.46s\tremaining: 1.02s\n",
            "707:\tlearn: 7.6439125\ttotal: 2.47s\tremaining: 1.02s\n",
            "708:\tlearn: 7.6405543\ttotal: 2.47s\tremaining: 1.01s\n",
            "709:\tlearn: 7.6381015\ttotal: 2.47s\tremaining: 1.01s\n",
            "710:\tlearn: 7.6363978\ttotal: 2.47s\tremaining: 1s\n",
            "711:\tlearn: 7.6346033\ttotal: 2.47s\tremaining: 1000ms\n",
            "712:\tlearn: 7.6328847\ttotal: 2.47s\tremaining: 995ms\n",
            "713:\tlearn: 7.6305611\ttotal: 2.47s\tremaining: 991ms\n",
            "714:\tlearn: 7.6288115\ttotal: 2.47s\tremaining: 986ms\n",
            "715:\tlearn: 7.6251916\ttotal: 2.48s\tremaining: 982ms\n",
            "716:\tlearn: 7.6230849\ttotal: 2.48s\tremaining: 978ms\n",
            "717:\tlearn: 7.6212584\ttotal: 2.48s\tremaining: 973ms\n",
            "718:\tlearn: 7.6192865\ttotal: 2.48s\tremaining: 969ms\n",
            "719:\tlearn: 7.6179606\ttotal: 2.48s\tremaining: 965ms\n",
            "720:\tlearn: 7.6160935\ttotal: 2.48s\tremaining: 960ms\n",
            "721:\tlearn: 7.6144839\ttotal: 2.48s\tremaining: 956ms\n",
            "722:\tlearn: 7.6111273\ttotal: 2.48s\tremaining: 952ms\n",
            "723:\tlearn: 7.6093800\ttotal: 2.48s\tremaining: 947ms\n",
            "724:\tlearn: 7.6067674\ttotal: 2.48s\tremaining: 943ms\n",
            "725:\tlearn: 7.6032253\ttotal: 2.49s\tremaining: 939ms\n",
            "726:\tlearn: 7.6020606\ttotal: 2.49s\tremaining: 934ms\n",
            "727:\tlearn: 7.6004456\ttotal: 2.49s\tremaining: 932ms\n",
            "728:\tlearn: 7.5970762\ttotal: 2.5s\tremaining: 928ms\n",
            "729:\tlearn: 7.5955032\ttotal: 2.5s\tremaining: 924ms\n",
            "730:\tlearn: 7.5938842\ttotal: 2.5s\tremaining: 919ms\n",
            "731:\tlearn: 7.5915593\ttotal: 2.5s\tremaining: 917ms\n",
            "732:\tlearn: 7.5898277\ttotal: 2.51s\tremaining: 913ms\n",
            "733:\tlearn: 7.5881596\ttotal: 2.51s\tremaining: 909ms\n",
            "734:\tlearn: 7.5867606\ttotal: 2.51s\tremaining: 905ms\n",
            "735:\tlearn: 7.5852106\ttotal: 2.51s\tremaining: 901ms\n",
            "736:\tlearn: 7.5836572\ttotal: 2.51s\tremaining: 897ms\n",
            "737:\tlearn: 7.5814224\ttotal: 2.52s\tremaining: 893ms\n",
            "738:\tlearn: 7.5797467\ttotal: 2.52s\tremaining: 889ms\n",
            "739:\tlearn: 7.5776342\ttotal: 2.52s\tremaining: 884ms\n",
            "740:\tlearn: 7.5761400\ttotal: 2.52s\tremaining: 881ms\n",
            "741:\tlearn: 7.5728705\ttotal: 2.52s\tremaining: 876ms\n",
            "742:\tlearn: 7.5707729\ttotal: 2.53s\tremaining: 874ms\n",
            "743:\tlearn: 7.5684624\ttotal: 2.53s\tremaining: 870ms\n",
            "744:\tlearn: 7.5672697\ttotal: 2.53s\tremaining: 867ms\n",
            "745:\tlearn: 7.5659993\ttotal: 2.53s\tremaining: 863ms\n",
            "746:\tlearn: 7.5639799\ttotal: 2.53s\tremaining: 858ms\n",
            "747:\tlearn: 7.5624335\ttotal: 2.54s\tremaining: 854ms\n",
            "748:\tlearn: 7.5605301\ttotal: 2.54s\tremaining: 850ms\n",
            "749:\tlearn: 7.5588056\ttotal: 2.54s\tremaining: 847ms\n",
            "750:\tlearn: 7.5562604\ttotal: 2.54s\tremaining: 843ms\n",
            "751:\tlearn: 7.5549326\ttotal: 2.54s\tremaining: 839ms\n",
            "752:\tlearn: 7.5536297\ttotal: 2.54s\tremaining: 835ms\n",
            "753:\tlearn: 7.5522001\ttotal: 2.55s\tremaining: 832ms\n",
            "754:\tlearn: 7.5499431\ttotal: 2.55s\tremaining: 828ms\n",
            "755:\tlearn: 7.5481475\ttotal: 2.55s\tremaining: 824ms\n",
            "756:\tlearn: 7.5459952\ttotal: 2.55s\tremaining: 820ms\n",
            "757:\tlearn: 7.5449465\ttotal: 2.56s\tremaining: 818ms\n",
            "758:\tlearn: 7.5438152\ttotal: 2.56s\tremaining: 814ms\n",
            "759:\tlearn: 7.5407459\ttotal: 2.56s\tremaining: 810ms\n",
            "760:\tlearn: 7.5396495\ttotal: 2.56s\tremaining: 805ms\n",
            "761:\tlearn: 7.5384811\ttotal: 2.56s\tremaining: 801ms\n",
            "762:\tlearn: 7.5373490\ttotal: 2.57s\tremaining: 797ms\n",
            "763:\tlearn: 7.5339629\ttotal: 2.57s\tremaining: 793ms\n",
            "764:\tlearn: 7.5316669\ttotal: 2.57s\tremaining: 789ms\n",
            "765:\tlearn: 7.5288626\ttotal: 2.57s\tremaining: 787ms\n",
            "766:\tlearn: 7.5271547\ttotal: 2.58s\tremaining: 782ms\n",
            "767:\tlearn: 7.5255935\ttotal: 2.58s\tremaining: 778ms\n",
            "768:\tlearn: 7.5240581\ttotal: 2.58s\tremaining: 774ms\n",
            "769:\tlearn: 7.5223294\ttotal: 2.58s\tremaining: 772ms\n",
            "770:\tlearn: 7.5209610\ttotal: 2.59s\tremaining: 768ms\n",
            "771:\tlearn: 7.5188164\ttotal: 2.59s\tremaining: 764ms\n",
            "772:\tlearn: 7.5171394\ttotal: 2.59s\tremaining: 760ms\n",
            "773:\tlearn: 7.5158312\ttotal: 2.59s\tremaining: 758ms\n",
            "774:\tlearn: 7.5139378\ttotal: 2.6s\tremaining: 754ms\n",
            "775:\tlearn: 7.5120992\ttotal: 2.6s\tremaining: 750ms\n",
            "776:\tlearn: 7.5110307\ttotal: 2.6s\tremaining: 746ms\n",
            "777:\tlearn: 7.5095637\ttotal: 2.6s\tremaining: 742ms\n",
            "778:\tlearn: 7.5081049\ttotal: 2.6s\tremaining: 738ms\n",
            "779:\tlearn: 7.5064908\ttotal: 2.6s\tremaining: 734ms\n",
            "780:\tlearn: 7.5049797\ttotal: 2.6s\tremaining: 730ms\n",
            "781:\tlearn: 7.5033437\ttotal: 2.6s\tremaining: 726ms\n",
            "782:\tlearn: 7.5017967\ttotal: 2.6s\tremaining: 722ms\n",
            "783:\tlearn: 7.5002269\ttotal: 2.61s\tremaining: 718ms\n",
            "784:\tlearn: 7.4982263\ttotal: 2.61s\tremaining: 714ms\n",
            "785:\tlearn: 7.4961608\ttotal: 2.61s\tremaining: 710ms\n",
            "786:\tlearn: 7.4942674\ttotal: 2.61s\tremaining: 706ms\n",
            "787:\tlearn: 7.4922437\ttotal: 2.61s\tremaining: 703ms\n",
            "788:\tlearn: 7.4889849\ttotal: 2.61s\tremaining: 699ms\n",
            "789:\tlearn: 7.4880489\ttotal: 2.62s\tremaining: 696ms\n",
            "790:\tlearn: 7.4864946\ttotal: 2.62s\tremaining: 692ms\n",
            "791:\tlearn: 7.4851051\ttotal: 2.62s\tremaining: 688ms\n",
            "792:\tlearn: 7.4827851\ttotal: 2.63s\tremaining: 686ms\n",
            "793:\tlearn: 7.4801044\ttotal: 2.63s\tremaining: 682ms\n",
            "794:\tlearn: 7.4784090\ttotal: 2.63s\tremaining: 678ms\n",
            "795:\tlearn: 7.4774860\ttotal: 2.64s\tremaining: 677ms\n",
            "796:\tlearn: 7.4756721\ttotal: 2.65s\tremaining: 674ms\n",
            "797:\tlearn: 7.4731510\ttotal: 2.65s\tremaining: 670ms\n",
            "798:\tlearn: 7.4702724\ttotal: 2.65s\tremaining: 668ms\n",
            "799:\tlearn: 7.4674282\ttotal: 2.66s\tremaining: 664ms\n",
            "800:\tlearn: 7.4657116\ttotal: 2.66s\tremaining: 660ms\n",
            "801:\tlearn: 7.4641062\ttotal: 2.67s\tremaining: 659ms\n",
            "802:\tlearn: 7.4628218\ttotal: 2.67s\tremaining: 655ms\n",
            "803:\tlearn: 7.4613286\ttotal: 2.67s\tremaining: 651ms\n",
            "804:\tlearn: 7.4585414\ttotal: 2.68s\tremaining: 649ms\n",
            "805:\tlearn: 7.4569248\ttotal: 2.68s\tremaining: 645ms\n",
            "806:\tlearn: 7.4558166\ttotal: 2.68s\tremaining: 642ms\n",
            "807:\tlearn: 7.4546088\ttotal: 2.68s\tremaining: 638ms\n",
            "808:\tlearn: 7.4536978\ttotal: 2.69s\tremaining: 636ms\n",
            "809:\tlearn: 7.4517894\ttotal: 2.7s\tremaining: 633ms\n",
            "810:\tlearn: 7.4490638\ttotal: 2.7s\tremaining: 630ms\n",
            "811:\tlearn: 7.4471546\ttotal: 2.7s\tremaining: 626ms\n",
            "812:\tlearn: 7.4456459\ttotal: 2.71s\tremaining: 624ms\n",
            "813:\tlearn: 7.4439641\ttotal: 2.71s\tremaining: 621ms\n",
            "814:\tlearn: 7.4413374\ttotal: 2.73s\tremaining: 619ms\n",
            "815:\tlearn: 7.4397511\ttotal: 2.73s\tremaining: 615ms\n",
            "816:\tlearn: 7.4382219\ttotal: 2.73s\tremaining: 613ms\n",
            "817:\tlearn: 7.4369703\ttotal: 2.74s\tremaining: 609ms\n",
            "818:\tlearn: 7.4356111\ttotal: 2.74s\tremaining: 606ms\n",
            "819:\tlearn: 7.4338534\ttotal: 2.75s\tremaining: 603ms\n",
            "820:\tlearn: 7.4327255\ttotal: 2.76s\tremaining: 602ms\n",
            "821:\tlearn: 7.4305256\ttotal: 2.76s\tremaining: 598ms\n",
            "822:\tlearn: 7.4290072\ttotal: 2.76s\tremaining: 595ms\n",
            "823:\tlearn: 7.4265276\ttotal: 2.77s\tremaining: 592ms\n",
            "824:\tlearn: 7.4255374\ttotal: 2.77s\tremaining: 588ms\n",
            "825:\tlearn: 7.4237203\ttotal: 2.78s\tremaining: 586ms\n",
            "826:\tlearn: 7.4220806\ttotal: 2.79s\tremaining: 583ms\n",
            "827:\tlearn: 7.4206765\ttotal: 2.79s\tremaining: 579ms\n",
            "828:\tlearn: 7.4188445\ttotal: 2.79s\tremaining: 575ms\n",
            "829:\tlearn: 7.4178057\ttotal: 2.79s\tremaining: 572ms\n",
            "830:\tlearn: 7.4159803\ttotal: 2.8s\tremaining: 569ms\n",
            "831:\tlearn: 7.4142924\ttotal: 2.8s\tremaining: 565ms\n",
            "832:\tlearn: 7.4133332\ttotal: 2.8s\tremaining: 561ms\n",
            "833:\tlearn: 7.4111540\ttotal: 2.8s\tremaining: 557ms\n",
            "834:\tlearn: 7.4095852\ttotal: 2.8s\tremaining: 554ms\n",
            "835:\tlearn: 7.4073106\ttotal: 2.81s\tremaining: 551ms\n",
            "836:\tlearn: 7.4062535\ttotal: 2.81s\tremaining: 547ms\n",
            "837:\tlearn: 7.4030693\ttotal: 2.81s\tremaining: 543ms\n",
            "838:\tlearn: 7.4007884\ttotal: 2.81s\tremaining: 539ms\n",
            "839:\tlearn: 7.3992248\ttotal: 2.81s\tremaining: 536ms\n",
            "840:\tlearn: 7.3981083\ttotal: 2.82s\tremaining: 533ms\n",
            "841:\tlearn: 7.3971942\ttotal: 2.82s\tremaining: 529ms\n",
            "842:\tlearn: 7.3951530\ttotal: 2.82s\tremaining: 525ms\n",
            "843:\tlearn: 7.3940880\ttotal: 2.82s\tremaining: 522ms\n",
            "844:\tlearn: 7.3930733\ttotal: 2.83s\tremaining: 518ms\n",
            "845:\tlearn: 7.3911567\ttotal: 2.83s\tremaining: 515ms\n",
            "846:\tlearn: 7.3897794\ttotal: 2.83s\tremaining: 512ms\n",
            "847:\tlearn: 7.3873176\ttotal: 2.83s\tremaining: 508ms\n",
            "848:\tlearn: 7.3856320\ttotal: 2.84s\tremaining: 505ms\n",
            "849:\tlearn: 7.3829885\ttotal: 2.84s\tremaining: 501ms\n",
            "850:\tlearn: 7.3817770\ttotal: 2.85s\tremaining: 498ms\n",
            "851:\tlearn: 7.3808536\ttotal: 2.85s\tremaining: 495ms\n",
            "852:\tlearn: 7.3789702\ttotal: 2.85s\tremaining: 491ms\n",
            "853:\tlearn: 7.3771356\ttotal: 2.85s\tremaining: 488ms\n",
            "854:\tlearn: 7.3758666\ttotal: 2.85s\tremaining: 484ms\n",
            "855:\tlearn: 7.3741994\ttotal: 2.85s\tremaining: 480ms\n",
            "856:\tlearn: 7.3721945\ttotal: 2.86s\tremaining: 477ms\n",
            "857:\tlearn: 7.3710222\ttotal: 2.86s\tremaining: 474ms\n",
            "858:\tlearn: 7.3690584\ttotal: 2.87s\tremaining: 471ms\n",
            "859:\tlearn: 7.3669076\ttotal: 2.87s\tremaining: 467ms\n",
            "860:\tlearn: 7.3657529\ttotal: 2.87s\tremaining: 464ms\n",
            "861:\tlearn: 7.3640320\ttotal: 2.87s\tremaining: 460ms\n",
            "862:\tlearn: 7.3623220\ttotal: 2.88s\tremaining: 457ms\n",
            "863:\tlearn: 7.3609046\ttotal: 2.88s\tremaining: 453ms\n",
            "864:\tlearn: 7.3596067\ttotal: 2.88s\tremaining: 450ms\n",
            "865:\tlearn: 7.3582946\ttotal: 2.88s\tremaining: 446ms\n",
            "866:\tlearn: 7.3574333\ttotal: 2.89s\tremaining: 443ms\n",
            "867:\tlearn: 7.3561026\ttotal: 2.89s\tremaining: 440ms\n",
            "868:\tlearn: 7.3546793\ttotal: 2.89s\tremaining: 436ms\n",
            "869:\tlearn: 7.3533314\ttotal: 2.9s\tremaining: 433ms\n",
            "870:\tlearn: 7.3513103\ttotal: 2.9s\tremaining: 429ms\n",
            "871:\tlearn: 7.3496373\ttotal: 2.9s\tremaining: 426ms\n",
            "872:\tlearn: 7.3485661\ttotal: 2.9s\tremaining: 423ms\n",
            "873:\tlearn: 7.3471206\ttotal: 2.91s\tremaining: 419ms\n",
            "874:\tlearn: 7.3451754\ttotal: 2.91s\tremaining: 415ms\n",
            "875:\tlearn: 7.3435446\ttotal: 2.91s\tremaining: 412ms\n",
            "876:\tlearn: 7.3409282\ttotal: 2.91s\tremaining: 408ms\n",
            "877:\tlearn: 7.3389455\ttotal: 2.91s\tremaining: 405ms\n",
            "878:\tlearn: 7.3377128\ttotal: 2.92s\tremaining: 401ms\n",
            "879:\tlearn: 7.3361277\ttotal: 2.92s\tremaining: 399ms\n",
            "880:\tlearn: 7.3347657\ttotal: 2.92s\tremaining: 395ms\n",
            "881:\tlearn: 7.3334273\ttotal: 2.92s\tremaining: 391ms\n",
            "882:\tlearn: 7.3319047\ttotal: 2.93s\tremaining: 389ms\n",
            "883:\tlearn: 7.3302679\ttotal: 2.94s\tremaining: 385ms\n",
            "884:\tlearn: 7.3280734\ttotal: 2.94s\tremaining: 382ms\n",
            "885:\tlearn: 7.3264182\ttotal: 2.94s\tremaining: 379ms\n",
            "886:\tlearn: 7.3245593\ttotal: 2.94s\tremaining: 375ms\n",
            "887:\tlearn: 7.3228284\ttotal: 2.94s\tremaining: 371ms\n",
            "888:\tlearn: 7.3202721\ttotal: 2.94s\tremaining: 368ms\n",
            "889:\tlearn: 7.3193823\ttotal: 2.95s\tremaining: 365ms\n",
            "890:\tlearn: 7.3181328\ttotal: 2.95s\tremaining: 361ms\n",
            "891:\tlearn: 7.3162879\ttotal: 2.96s\tremaining: 358ms\n",
            "892:\tlearn: 7.3152228\ttotal: 2.96s\tremaining: 355ms\n",
            "893:\tlearn: 7.3135181\ttotal: 2.96s\tremaining: 351ms\n",
            "894:\tlearn: 7.3120432\ttotal: 2.96s\tremaining: 348ms\n",
            "895:\tlearn: 7.3109144\ttotal: 2.96s\tremaining: 344ms\n",
            "896:\tlearn: 7.3093656\ttotal: 2.97s\tremaining: 341ms\n",
            "897:\tlearn: 7.3069136\ttotal: 2.97s\tremaining: 338ms\n",
            "898:\tlearn: 7.3059211\ttotal: 2.97s\tremaining: 334ms\n",
            "899:\tlearn: 7.3042759\ttotal: 2.98s\tremaining: 331ms\n",
            "900:\tlearn: 7.3024334\ttotal: 2.98s\tremaining: 328ms\n",
            "901:\tlearn: 7.3003864\ttotal: 2.98s\tremaining: 324ms\n",
            "902:\tlearn: 7.2988062\ttotal: 2.99s\tremaining: 321ms\n",
            "903:\tlearn: 7.2980005\ttotal: 2.99s\tremaining: 318ms\n",
            "904:\tlearn: 7.2960940\ttotal: 2.99s\tremaining: 314ms\n",
            "905:\tlearn: 7.2945497\ttotal: 2.99s\tremaining: 311ms\n",
            "906:\tlearn: 7.2932051\ttotal: 3s\tremaining: 308ms\n",
            "907:\tlearn: 7.2919910\ttotal: 3s\tremaining: 304ms\n",
            "908:\tlearn: 7.2901676\ttotal: 3s\tremaining: 301ms\n",
            "909:\tlearn: 7.2883873\ttotal: 3s\tremaining: 297ms\n",
            "910:\tlearn: 7.2871997\ttotal: 3.01s\tremaining: 294ms\n",
            "911:\tlearn: 7.2859168\ttotal: 3.01s\tremaining: 291ms\n",
            "912:\tlearn: 7.2842322\ttotal: 3.02s\tremaining: 287ms\n",
            "913:\tlearn: 7.2829043\ttotal: 3.02s\tremaining: 284ms\n",
            "914:\tlearn: 7.2814142\ttotal: 3.02s\tremaining: 281ms\n",
            "915:\tlearn: 7.2796305\ttotal: 3.02s\tremaining: 277ms\n",
            "916:\tlearn: 7.2769111\ttotal: 3.03s\tremaining: 274ms\n",
            "917:\tlearn: 7.2759851\ttotal: 3.04s\tremaining: 272ms\n",
            "918:\tlearn: 7.2753164\ttotal: 3.05s\tremaining: 269ms\n",
            "919:\tlearn: 7.2735588\ttotal: 3.05s\tremaining: 265ms\n",
            "920:\tlearn: 7.2726494\ttotal: 3.06s\tremaining: 262ms\n",
            "921:\tlearn: 7.2709706\ttotal: 3.06s\tremaining: 259ms\n",
            "922:\tlearn: 7.2694127\ttotal: 3.07s\tremaining: 256ms\n",
            "923:\tlearn: 7.2679976\ttotal: 3.07s\tremaining: 253ms\n",
            "924:\tlearn: 7.2664906\ttotal: 3.08s\tremaining: 250ms\n",
            "925:\tlearn: 7.2651314\ttotal: 3.08s\tremaining: 246ms\n",
            "926:\tlearn: 7.2636615\ttotal: 3.09s\tremaining: 243ms\n",
            "927:\tlearn: 7.2620929\ttotal: 3.09s\tremaining: 240ms\n",
            "928:\tlearn: 7.2597103\ttotal: 3.1s\tremaining: 237ms\n",
            "929:\tlearn: 7.2583471\ttotal: 3.1s\tremaining: 234ms\n",
            "930:\tlearn: 7.2568941\ttotal: 3.11s\tremaining: 231ms\n",
            "931:\tlearn: 7.2547892\ttotal: 3.11s\tremaining: 227ms\n",
            "932:\tlearn: 7.2527591\ttotal: 3.12s\tremaining: 224ms\n",
            "933:\tlearn: 7.2506701\ttotal: 3.13s\tremaining: 221ms\n",
            "934:\tlearn: 7.2489666\ttotal: 3.13s\tremaining: 218ms\n",
            "935:\tlearn: 7.2472312\ttotal: 3.14s\tremaining: 214ms\n",
            "936:\tlearn: 7.2454507\ttotal: 3.14s\tremaining: 211ms\n",
            "937:\tlearn: 7.2442522\ttotal: 3.15s\tremaining: 208ms\n",
            "938:\tlearn: 7.2413592\ttotal: 3.15s\tremaining: 204ms\n",
            "939:\tlearn: 7.2393490\ttotal: 3.15s\tremaining: 201ms\n",
            "940:\tlearn: 7.2377021\ttotal: 3.16s\tremaining: 198ms\n",
            "941:\tlearn: 7.2363602\ttotal: 3.16s\tremaining: 195ms\n",
            "942:\tlearn: 7.2340201\ttotal: 3.17s\tremaining: 192ms\n",
            "943:\tlearn: 7.2331205\ttotal: 3.17s\tremaining: 188ms\n",
            "944:\tlearn: 7.2314748\ttotal: 3.18s\tremaining: 185ms\n",
            "945:\tlearn: 7.2305782\ttotal: 3.18s\tremaining: 182ms\n",
            "946:\tlearn: 7.2290472\ttotal: 3.19s\tremaining: 178ms\n",
            "947:\tlearn: 7.2280876\ttotal: 3.19s\tremaining: 175ms\n",
            "948:\tlearn: 7.2271180\ttotal: 3.2s\tremaining: 172ms\n",
            "949:\tlearn: 7.2253509\ttotal: 3.2s\tremaining: 169ms\n",
            "950:\tlearn: 7.2236887\ttotal: 3.21s\tremaining: 165ms\n",
            "951:\tlearn: 7.2223331\ttotal: 3.21s\tremaining: 162ms\n",
            "952:\tlearn: 7.2208816\ttotal: 3.22s\tremaining: 159ms\n",
            "953:\tlearn: 7.2186375\ttotal: 3.22s\tremaining: 155ms\n",
            "954:\tlearn: 7.2174225\ttotal: 3.23s\tremaining: 152ms\n",
            "955:\tlearn: 7.2161547\ttotal: 3.23s\tremaining: 149ms\n",
            "956:\tlearn: 7.2149215\ttotal: 3.24s\tremaining: 145ms\n",
            "957:\tlearn: 7.2135715\ttotal: 3.24s\tremaining: 142ms\n",
            "958:\tlearn: 7.2114140\ttotal: 3.25s\tremaining: 139ms\n",
            "959:\tlearn: 7.2099234\ttotal: 3.25s\tremaining: 135ms\n",
            "960:\tlearn: 7.2086975\ttotal: 3.26s\tremaining: 132ms\n",
            "961:\tlearn: 7.2075471\ttotal: 3.26s\tremaining: 129ms\n",
            "962:\tlearn: 7.2057143\ttotal: 3.27s\tremaining: 126ms\n",
            "963:\tlearn: 7.2043963\ttotal: 3.27s\tremaining: 122ms\n",
            "964:\tlearn: 7.2033447\ttotal: 3.27s\tremaining: 119ms\n",
            "965:\tlearn: 7.2020310\ttotal: 3.28s\tremaining: 116ms\n",
            "966:\tlearn: 7.2006797\ttotal: 3.29s\tremaining: 112ms\n",
            "967:\tlearn: 7.1985184\ttotal: 3.29s\tremaining: 109ms\n",
            "968:\tlearn: 7.1962497\ttotal: 3.3s\tremaining: 106ms\n",
            "969:\tlearn: 7.1939136\ttotal: 3.3s\tremaining: 102ms\n",
            "970:\tlearn: 7.1928951\ttotal: 3.31s\tremaining: 98.8ms\n",
            "971:\tlearn: 7.1901527\ttotal: 3.31s\tremaining: 95.3ms\n",
            "972:\tlearn: 7.1882206\ttotal: 3.32s\tremaining: 92.1ms\n",
            "973:\tlearn: 7.1868815\ttotal: 3.32s\tremaining: 88.7ms\n",
            "974:\tlearn: 7.1859305\ttotal: 3.33s\tremaining: 85.3ms\n",
            "975:\tlearn: 7.1836367\ttotal: 3.33s\tremaining: 81.8ms\n",
            "976:\tlearn: 7.1821643\ttotal: 3.34s\tremaining: 78.5ms\n",
            "977:\tlearn: 7.1796237\ttotal: 3.34s\tremaining: 75.1ms\n",
            "978:\tlearn: 7.1787350\ttotal: 3.34s\tremaining: 71.7ms\n",
            "979:\tlearn: 7.1775914\ttotal: 3.35s\tremaining: 68.4ms\n",
            "980:\tlearn: 7.1755407\ttotal: 3.35s\tremaining: 64.9ms\n",
            "981:\tlearn: 7.1741603\ttotal: 3.36s\tremaining: 61.5ms\n",
            "982:\tlearn: 7.1732133\ttotal: 3.36s\tremaining: 58.1ms\n",
            "983:\tlearn: 7.1719457\ttotal: 3.37s\tremaining: 54.7ms\n",
            "984:\tlearn: 7.1701381\ttotal: 3.37s\tremaining: 51.3ms\n",
            "985:\tlearn: 7.1691901\ttotal: 3.38s\tremaining: 47.9ms\n",
            "986:\tlearn: 7.1681939\ttotal: 3.38s\tremaining: 44.5ms\n",
            "987:\tlearn: 7.1669970\ttotal: 3.39s\tremaining: 41.1ms\n",
            "988:\tlearn: 7.1658372\ttotal: 3.39s\tremaining: 37.7ms\n",
            "989:\tlearn: 7.1638709\ttotal: 3.39s\tremaining: 34.3ms\n",
            "990:\tlearn: 7.1626675\ttotal: 3.4s\tremaining: 30.9ms\n",
            "991:\tlearn: 7.1616433\ttotal: 3.4s\tremaining: 27.4ms\n",
            "992:\tlearn: 7.1600822\ttotal: 3.41s\tremaining: 24ms\n",
            "993:\tlearn: 7.1588543\ttotal: 3.41s\tremaining: 20.6ms\n",
            "994:\tlearn: 7.1577269\ttotal: 3.41s\tremaining: 17.1ms\n",
            "995:\tlearn: 7.1560934\ttotal: 3.42s\tremaining: 13.7ms\n",
            "996:\tlearn: 7.1549180\ttotal: 3.43s\tremaining: 10.3ms\n",
            "997:\tlearn: 7.1526821\ttotal: 3.43s\tremaining: 6.88ms\n",
            "998:\tlearn: 7.1509425\ttotal: 3.43s\tremaining: 3.44ms\n",
            "999:\tlearn: 7.1499493\ttotal: 3.44s\tremaining: 0us\n"
          ]
        },
        {
          "output_type": "execute_result",
          "data": {
            "text/plain": [
              "0.8272315794585562"
            ]
          },
          "metadata": {},
          "execution_count": 65
        }
      ]
    },
    {
      "cell_type": "markdown",
      "metadata": {
        "id": "5UsD_E6YIGyA"
      },
      "source": [
        "## MLP Regressor"
      ]
    },
    {
      "cell_type": "code",
      "execution_count": 66,
      "metadata": {
        "jupyter": {
          "outputs_hidden": false
        },
        "colab": {
          "base_uri": "https://localhost:8080/",
          "height": 75
        },
        "id": "Gan-ANSBIGyA",
        "outputId": "461a23f0-b148-43c0-ca67-5d55dcbb6463"
      },
      "outputs": [
        {
          "output_type": "execute_result",
          "data": {
            "text/plain": [
              "MLPRegressor(hidden_layer_sizes=(100, 100, 100, 100), random_state=444)"
            ],
            "text/html": [
              "<style>#sk-container-id-3 {color: black;background-color: white;}#sk-container-id-3 pre{padding: 0;}#sk-container-id-3 div.sk-toggleable {background-color: white;}#sk-container-id-3 label.sk-toggleable__label {cursor: pointer;display: block;width: 100%;margin-bottom: 0;padding: 0.3em;box-sizing: border-box;text-align: center;}#sk-container-id-3 label.sk-toggleable__label-arrow:before {content: \"▸\";float: left;margin-right: 0.25em;color: #696969;}#sk-container-id-3 label.sk-toggleable__label-arrow:hover:before {color: black;}#sk-container-id-3 div.sk-estimator:hover label.sk-toggleable__label-arrow:before {color: black;}#sk-container-id-3 div.sk-toggleable__content {max-height: 0;max-width: 0;overflow: hidden;text-align: left;background-color: #f0f8ff;}#sk-container-id-3 div.sk-toggleable__content pre {margin: 0.2em;color: black;border-radius: 0.25em;background-color: #f0f8ff;}#sk-container-id-3 input.sk-toggleable__control:checked~div.sk-toggleable__content {max-height: 200px;max-width: 100%;overflow: auto;}#sk-container-id-3 input.sk-toggleable__control:checked~label.sk-toggleable__label-arrow:before {content: \"▾\";}#sk-container-id-3 div.sk-estimator input.sk-toggleable__control:checked~label.sk-toggleable__label {background-color: #d4ebff;}#sk-container-id-3 div.sk-label input.sk-toggleable__control:checked~label.sk-toggleable__label {background-color: #d4ebff;}#sk-container-id-3 input.sk-hidden--visually {border: 0;clip: rect(1px 1px 1px 1px);clip: rect(1px, 1px, 1px, 1px);height: 1px;margin: -1px;overflow: hidden;padding: 0;position: absolute;width: 1px;}#sk-container-id-3 div.sk-estimator {font-family: monospace;background-color: #f0f8ff;border: 1px dotted black;border-radius: 0.25em;box-sizing: border-box;margin-bottom: 0.5em;}#sk-container-id-3 div.sk-estimator:hover {background-color: #d4ebff;}#sk-container-id-3 div.sk-parallel-item::after {content: \"\";width: 100%;border-bottom: 1px solid gray;flex-grow: 1;}#sk-container-id-3 div.sk-label:hover label.sk-toggleable__label {background-color: #d4ebff;}#sk-container-id-3 div.sk-serial::before {content: \"\";position: absolute;border-left: 1px solid gray;box-sizing: border-box;top: 0;bottom: 0;left: 50%;z-index: 0;}#sk-container-id-3 div.sk-serial {display: flex;flex-direction: column;align-items: center;background-color: white;padding-right: 0.2em;padding-left: 0.2em;position: relative;}#sk-container-id-3 div.sk-item {position: relative;z-index: 1;}#sk-container-id-3 div.sk-parallel {display: flex;align-items: stretch;justify-content: center;background-color: white;position: relative;}#sk-container-id-3 div.sk-item::before, #sk-container-id-3 div.sk-parallel-item::before {content: \"\";position: absolute;border-left: 1px solid gray;box-sizing: border-box;top: 0;bottom: 0;left: 50%;z-index: -1;}#sk-container-id-3 div.sk-parallel-item {display: flex;flex-direction: column;z-index: 1;position: relative;background-color: white;}#sk-container-id-3 div.sk-parallel-item:first-child::after {align-self: flex-end;width: 50%;}#sk-container-id-3 div.sk-parallel-item:last-child::after {align-self: flex-start;width: 50%;}#sk-container-id-3 div.sk-parallel-item:only-child::after {width: 0;}#sk-container-id-3 div.sk-dashed-wrapped {border: 1px dashed gray;margin: 0 0.4em 0.5em 0.4em;box-sizing: border-box;padding-bottom: 0.4em;background-color: white;}#sk-container-id-3 div.sk-label label {font-family: monospace;font-weight: bold;display: inline-block;line-height: 1.2em;}#sk-container-id-3 div.sk-label-container {text-align: center;}#sk-container-id-3 div.sk-container {/* jupyter's `normalize.less` sets `[hidden] { display: none; }` but bootstrap.min.css set `[hidden] { display: none !important; }` so we also need the `!important` here to be able to override the default hidden behavior on the sphinx rendered scikit-learn.org. See: https://github.com/scikit-learn/scikit-learn/issues/21755 */display: inline-block !important;position: relative;}#sk-container-id-3 div.sk-text-repr-fallback {display: none;}</style><div id=\"sk-container-id-3\" class=\"sk-top-container\"><div class=\"sk-text-repr-fallback\"><pre>MLPRegressor(hidden_layer_sizes=(100, 100, 100, 100), random_state=444)</pre><b>In a Jupyter environment, please rerun this cell to show the HTML representation or trust the notebook. <br />On GitHub, the HTML representation is unable to render, please try loading this page with nbviewer.org.</b></div><div class=\"sk-container\" hidden><div class=\"sk-item\"><div class=\"sk-estimator sk-toggleable\"><input class=\"sk-toggleable__control sk-hidden--visually\" id=\"sk-estimator-id-3\" type=\"checkbox\" checked><label for=\"sk-estimator-id-3\" class=\"sk-toggleable__label sk-toggleable__label-arrow\">MLPRegressor</label><div class=\"sk-toggleable__content\"><pre>MLPRegressor(hidden_layer_sizes=(100, 100, 100, 100), random_state=444)</pre></div></div></div></div></div>"
            ]
          },
          "metadata": {},
          "execution_count": 66
        }
      ],
      "source": [
        "mlp = MLPRegressor(hidden_layer_sizes = (100,100,100,100), random_state=444)\n",
        "mlp.fit(X_16,y_16)"
      ]
    },
    {
      "cell_type": "code",
      "execution_count": 67,
      "metadata": {
        "jupyter": {
          "outputs_hidden": false
        },
        "colab": {
          "base_uri": "https://localhost:8080/"
        },
        "id": "wp7TEQPAIGyA",
        "outputId": "71fe0f46-5935-448f-bae6-23cb1b5a91bd"
      },
      "outputs": [
        {
          "output_type": "execute_result",
          "data": {
            "text/plain": [
              "0.8231209796331261"
            ]
          },
          "metadata": {},
          "execution_count": 67
        }
      ],
      "source": [
        "mlp.score(X_17, y_17)"
      ]
    },
    {
      "cell_type": "markdown",
      "metadata": {
        "id": "kfJmhM57IGyA"
      },
      "source": [
        "## Combine predictions and actual results into one dataframe"
      ]
    },
    {
      "cell_type": "code",
      "execution_count": 68,
      "metadata": {
        "jupyter": {
          "outputs_hidden": false
        },
        "id": "SI7CdngsIGyA"
      },
      "outputs": [],
      "source": [
        "mlp_predicts = mlp.predict(X_16)"
      ]
    },
    {
      "cell_type": "code",
      "execution_count": 69,
      "metadata": {
        "id": "nbodC30vIGyA"
      },
      "outputs": [],
      "source": [
        "xgb_predicts = xgb.predict(X_16)"
      ]
    },
    {
      "cell_type": "code",
      "execution_count": 70,
      "metadata": {
        "jupyter": {
          "outputs_hidden": false
        },
        "id": "xcRx2dObIGyB"
      },
      "outputs": [],
      "source": [
        "hour_totals_17['Predicted_mlp'] = pd.Series(mlp_predicts)\n",
        "hour_totals_17['Predicted_xgb'] = pd.Series(xgb_predicts)"
      ]
    },
    {
      "cell_type": "markdown",
      "metadata": {
        "id": "EsGH0sI2IGyB"
      },
      "source": [
        "### Divide by 365 to get the number of crime incidents each day"
      ]
    },
    {
      "cell_type": "code",
      "execution_count": 71,
      "metadata": {
        "jupyter": {
          "outputs_hidden": false
        },
        "id": "T2W9l12AIGyB"
      },
      "outputs": [],
      "source": [
        "hour_totals_17['Crimes'] = hour_totals_17['Crimes']/365\n",
        "hour_totals_17['Predicted_mlp'] = hour_totals_17['Predicted_mlp']/365\n",
        "hour_totals_17['Predicted_xgb'] = hour_totals_17['Predicted_xgb']/365\n"
      ]
    },
    {
      "cell_type": "code",
      "execution_count": 72,
      "metadata": {
        "jupyter": {
          "outputs_hidden": false
        },
        "id": "d7lyYc_GIGyB"
      },
      "outputs": [],
      "source": [
        "hour_totals_17 = np.round(hour_totals_17,2)"
      ]
    },
    {
      "cell_type": "code",
      "execution_count": 74,
      "metadata": {
        "jupyter": {
          "outputs_hidden": false
        },
        "id": "OHHMoGgOIGyB"
      },
      "outputs": [],
      "source": [
        "hour_totals_17.to_json(\"gdrive/MyDrive/2023/2023-2-Python-AI/data/crime_predictions.json\", orient='records', double_precision=2)"
      ]
    },
    {
      "cell_type": "markdown",
      "metadata": {
        "id": "BxKO88ZsIGyB"
      },
      "source": [
        "## Create a quick Chloropleth map as a sanity check"
      ]
    },
    {
      "cell_type": "code",
      "execution_count": 75,
      "metadata": {
        "id": "SQZfE972IGyB"
      },
      "outputs": [],
      "source": [
        "chloropleth_data = hour_totals_17.merge(sf)\n",
        "chloropleth_data = geopandas.GeoDataFrame(chloropleth_data, geometry='geometry')\n",
        "chloropleth_data.crs = {'init': 'epsg:4326'}"
      ]
    },
    {
      "cell_type": "code",
      "execution_count": 76,
      "metadata": {
        "jupyter": {
          "outputs_hidden": false
        },
        "colab": {
          "base_uri": "https://localhost:8080/",
          "height": 847
        },
        "id": "rNBL4_9sIGyB",
        "outputId": "23c38230-119e-4ce9-85e0-ef6043c27fc7"
      },
      "outputs": [
        {
          "output_type": "execute_result",
          "data": {
            "text/plain": [
              "<Axes: >"
            ]
          },
          "metadata": {},
          "execution_count": 76
        },
        {
          "output_type": "display_data",
          "data": {
            "text/plain": [
              "<Figure size 1300x1000 with 1 Axes>"
            ],
            "image/png": "[encoded data removed]"
          },
          "metadata": {}
        }
      ],
      "source": [
        "chloropleth_data.plot(column='Crimes', cmap='OrRd', figsize=(13,10))"
      ]
    },
    {
      "cell_type": "markdown",
      "metadata": {
        "collapsed": true,
        "jupyter": {
          "outputs_hidden": true
        },
        "id": "46wMxqMKIGyC"
      },
      "source": [
        "### Notes\n",
        "1. different scores, for diffenent models\n",
        "2. the scores could be arisen if tuning the parameters do.\n",
        "3. Useg less-code, pycaret."
      ]
    },
    {
      "cell_type": "code",
      "execution_count": null,
      "metadata": {
        "id": "6f6zzcXbIGyC"
      },
      "outputs": [],
      "source": [
        "from pycaret.regression import *\n",
        "# ...\n",
        "\n"
      ]
    },
    {
      "cell_type": "code",
      "execution_count": null,
      "metadata": {
        "id": "DAhriUNFIGyC"
      },
      "outputs": [],
      "source": []
    }
  ],
  "metadata": {
    "kernelspec": {
      "display_name": "Python 3 (ipykernel)",
      "language": "python",
      "name": "python3"
    },
    "language_info": {
      "codemirror_mode": {
        "name": "ipython",
        "version": 3
      },
      "file_extension": ".py",
      "mimetype": "text/x-python",
      "name": "python",
      "nbconvert_exporter": "python",
      "pygments_lexer": "ipython3",
      "version": "3.10.9"
    },
    "colab": {
      "provenance": []
    }
  },
  "nbformat": 4,
  "nbformat_minor": 0
}