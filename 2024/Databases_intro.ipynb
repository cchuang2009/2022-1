{
 "cells": [
  {
   "cell_type": "markdown",
   "id": "4d1036ed-eb84-4e97-90da-3b6d7b75a984",
   "metadata": {},
   "source": [
    "Databases\n",
    "---\n",
    "It can b treated as `tables`; itcan release the power for suitable statemets, SQL for instance, packages, pandas for instance, and Database, `duckdb` for instance added."
   ]
  },
  {
   "cell_type": "code",
   "execution_count": 1,
   "id": "c106b76e-a31c-4b91-800b-a642ff1ebb62",
   "metadata": {},
   "outputs": [],
   "source": [
    "import pandas as db"
   ]
  },
  {
   "cell_type": "code",
   "execution_count": 3,
   "id": "9e7229ad-1ed2-4401-9f2b-10ea958fe38e",
   "metadata": {},
   "outputs": [
    {
     "data": {
      "text/html": [
       "<div><div id=d9d36f6b-ae7e-4990-9fad-0405a2de264a style=\"display:none; background-color:#9D6CFF; color:white; width:200px; height:30px; padding-left:5px; border-radius:4px; flex-direction:row; justify-content:space-around; align-items:center;\" onmouseover=\"this.style.backgroundColor='#BA9BF8'\" onmouseout=\"this.style.backgroundColor='#9D6CFF'\" onclick=\"window.commands?.execute('create-mitosheet-from-dataframe-output');\">See Full Dataframe in Mito</div> <script> if (window.commands?.hasCommand('create-mitosheet-from-dataframe-output')) document.getElementById('d9d36f6b-ae7e-4990-9fad-0405a2de264a').style.display = 'flex' </script> <table border=\"1\" class=\"dataframe\">\n",
       "  <thead>\n",
       "    <tr style=\"text-align: right;\">\n",
       "      <th></th>\n",
       "      <th>Date</th>\n",
       "      <th>Company</th>\n",
       "      <th>JobsCut</th>\n",
       "      <th>Percent_of_Company_Employees</th>\n",
       "      <th>Industry</th>\n",
       "    </tr>\n",
       "  </thead>\n",
       "  <tbody>\n",
       "    <tr>\n",
       "      <th>40</th>\n",
       "      <td>Jan 23</td>\n",
       "      <td>Brex</td>\n",
       "      <td>282</td>\n",
       "      <td>20%</td>\n",
       "      <td>Finance</td>\n",
       "    </tr>\n",
       "    <tr>\n",
       "      <th>41</th>\n",
       "      <td>Jan 23</td>\n",
       "      <td>Vroom</td>\n",
       "      <td>800</td>\n",
       "      <td>80%</td>\n",
       "      <td>Transport</td>\n",
       "    </tr>\n",
       "  </tbody>\n",
       "</table></div>"
      ],
      "text/plain": [
       "      Date Company  JobsCut Percent_of_Company_Employees   Industry\n",
       "40  Jan 23    Brex      282                          20%    Finance\n",
       "41  Jan 23   Vroom      800                          80%  Transport"
      ]
     },
     "execution_count": 3,
     "metadata": {},
     "output_type": "execute_result"
    }
   ],
   "source": [
    "# histoical list of layouts in Janaury, 2025\n",
    "# 1. https://www.visualcapitalist.com/all-the-major-tech-layoffs-in-2024-so-far/\n",
    "# 2.  https://www.visualcapitalist.com/all-the-major-tech-layoffs-in-2024-so-far\n",
    "# manulapated by chapgpt, blank(s) replced by ','\n",
    "\n",
    "\n",
    "df=pd.read_csv(\"data/2004JanLayoff.txt\",skiprows=1)\n",
    "df.tail(2)"
   ]
  },
  {
   "cell_type": "code",
   "execution_count": 8,
   "id": "c1e8102e-72e9-4ab3-96cc-144a8bc445c0",
   "metadata": {},
   "outputs": [
    {
     "name": "stdout",
     "output_type": "stream",
     "text": [
      "<class 'pandas.core.frame.DataFrame'>\n",
      "RangeIndex: 42 entries, 0 to 41\n",
      "Data columns (total 5 columns):\n",
      " #   Column                        Non-Null Count  Dtype \n",
      "---  ------                        --------------  ----- \n",
      " 0   Date                          42 non-null     object\n",
      " 1   Company                       42 non-null     object\n",
      " 2   JobsCut                       42 non-null     int64 \n",
      " 3   Percent_of_Company_Employees  29 non-null     object\n",
      " 4   Industry                      42 non-null     object\n",
      "dtypes: int64(1), object(4)\n",
      "memory usage: 1.8+ KB\n"
     ]
    }
   ],
   "source": [
    "# total 42 but 13 shorts in Percent_of_Company_Employees feature\n",
    "df.info()"
   ]
  },
  {
   "cell_type": "code",
   "execution_count": 23,
   "id": "f2f7f1a3-edae-47a5-b19c-9c4993c0a11e",
   "metadata": {},
   "outputs": [
    {
     "data": {
      "text/html": [
       "<div><div id=e0d251a1-11ee-410a-bd6b-62d5522d2608 style=\"display:none; background-color:#9D6CFF; color:white; width:200px; height:30px; padding-left:5px; border-radius:4px; flex-direction:row; justify-content:space-around; align-items:center;\" onmouseover=\"this.style.backgroundColor='#BA9BF8'\" onmouseout=\"this.style.backgroundColor='#9D6CFF'\" onclick=\"window.commands?.execute('create-mitosheet-from-dataframe-output');\">See Full Dataframe in Mito</div> <script> if (window.commands?.hasCommand('create-mitosheet-from-dataframe-output')) document.getElementById('e0d251a1-11ee-410a-bd6b-62d5522d2608').style.display = 'flex' </script> <table border=\"1\" class=\"dataframe\">\n",
       "  <thead>\n",
       "    <tr style=\"text-align: right;\">\n",
       "      <th></th>\n",
       "      <th>JobsCut</th>\n",
       "    </tr>\n",
       "  </thead>\n",
       "  <tbody>\n",
       "    <tr>\n",
       "      <th>count</th>\n",
       "      <td>42.000000</td>\n",
       "    </tr>\n",
       "    <tr>\n",
       "      <th>mean</th>\n",
       "      <td>286.595238</td>\n",
       "    </tr>\n",
       "    <tr>\n",
       "      <th>std</th>\n",
       "      <td>426.206869</td>\n",
       "    </tr>\n",
       "    <tr>\n",
       "      <th>min</th>\n",
       "      <td>10.000000</td>\n",
       "    </tr>\n",
       "    <tr>\n",
       "      <th>25%</th>\n",
       "      <td>60.000000</td>\n",
       "    </tr>\n",
       "    <tr>\n",
       "      <th>50%</th>\n",
       "      <td>96.500000</td>\n",
       "    </tr>\n",
       "    <tr>\n",
       "      <th>75%</th>\n",
       "      <td>300.000000</td>\n",
       "    </tr>\n",
       "    <tr>\n",
       "      <th>max</th>\n",
       "      <td>1800.000000</td>\n",
       "    </tr>\n",
       "  </tbody>\n",
       "</table></div>"
      ],
      "text/plain": [
       "           JobsCut\n",
       "count    42.000000\n",
       "mean    286.595238\n",
       "std     426.206869\n",
       "min      10.000000\n",
       "25%      60.000000\n",
       "50%      96.500000\n",
       "75%     300.000000\n",
       "max    1800.000000"
      ]
     },
     "execution_count": 23,
     "metadata": {},
     "output_type": "execute_result"
    }
   ],
   "source": [
    "# only `'JobsCut' is in integer format (numeric type)\n",
    "df.describe()"
   ]
  },
  {
   "cell_type": "code",
   "execution_count": 15,
   "id": "7d624861-2231-4cab-a6d6-31540016b0ee",
   "metadata": {},
   "outputs": [
    {
     "data": {
      "text/plain": [
       "Date                            16\n",
       "Company                         42\n",
       "JobsCut                         34\n",
       "Percent_of_Company_Employees    19\n",
       "Industry                        15\n",
       "dtype: int64"
      ]
     },
     "execution_count": 15,
     "metadata": {},
     "output_type": "execute_result"
    }
   ],
   "source": [
    "df.nunique()"
   ]
  },
  {
   "cell_type": "code",
   "execution_count": 20,
   "id": "c017f579-fcb6-48b5-a100-45886890ebf4",
   "metadata": {},
   "outputs": [
    {
     "data": {
      "text/plain": [
       "Industry\n",
       "Consumer      9\n",
       "Healthcare    6\n",
       "Retail        6\n",
       "Other         3\n",
       "Media         3\n",
       "Energy        2\n",
       "Logistics     2\n",
       "Transport     2\n",
       "Data          2\n",
       "Finance       2\n",
       "Security      1\n",
       "Travel        1\n",
       "Hardware      1\n",
       "Marketing     1\n",
       "Food          1\n",
       "Name: count, dtype: int64"
      ]
     },
     "execution_count": 20,
     "metadata": {},
     "output_type": "execute_result"
    }
   ],
   "source": [
    "df['Industry'].value_counts()"
   ]
  },
  {
   "cell_type": "markdown",
   "id": "be8c34cc-548c-4942-92c8-8459d60ce921",
   "metadata": {},
   "source": [
    "Basics of pandas\n",
    "---\n",
    "1. Remove Cows: ` df.dropna(replac=True)`\n",
    "2. Selection: `df.select_dtypes(include=['int', 'float']).columns\n",
    "3. Filter Rows with Conditions:\n",
    "   ```\n",
    "   > df[(condition 1) & (condition 2]\n",
    "   ```\n",
    "4. Convert String Column to DateTime:\n",
    "   ```\n",
    "   > pd.to_datetime(df['Date'], format='%Y-%m-%d')\n",
    "   ```\n",
    "5. Calculate Row-wise Sum: `df['Total'] = df.iloc[:, 2].sum(axis=1)`\n",
    "6. Merge DataFrames on a Specific Column:\n",
    "   ```\n",
    "   > merged_df = pd.merge(df1, other_df2, on='feature', how='left')\n",
    "   ```\n",
    "7. Apply a fynction:\n",
    "   ```\n",
    "   > df['Date']=df['Date'].apply(lambda x: convert(x))\n",
    "\n",
    "   ```\n",
    "8. Create Dummy Variables:\n",
    "   ```\n",
    "   > df_dummies = pd.get_dummies(df['Department'], prefix='Department')\n",
    "   ```\n",
    "9. Group by and Aggregate with Multiple Functions:\n",
    "   ```\n",
    "   > grouped_df = df.groupby('Industry').agg({'JobsCut': ['sum','sum']})\n",
    "   ```\n",
    "10. Reshape DataFrame with Melt:\n",
    "   ```\n",
    "   \n"
   ]
  },
  {
   "cell_type": "code",
   "execution_count": 27,
   "id": "da0c6aa4-b757-4c6b-973f-60002c1bb74d",
   "metadata": {},
   "outputs": [
    {
     "data": {
      "text/plain": [
       "['JobsCut']"
      ]
     },
     "execution_count": 27,
     "metadata": {},
     "output_type": "execute_result"
    }
   ],
   "source": [
    "#2 \n",
    "list(df.select_dtypes(include=['int', 'float']).columns)"
   ]
  },
  {
   "cell_type": "code",
   "execution_count": 34,
   "id": "44b3aca5-5991-4252-b413-fbc39a27f59e",
   "metadata": {},
   "outputs": [
    {
     "data": {
      "text/html": [
       "<div><div id=0b97ebe6-d95a-4db8-93cf-a5ec9570e58e style=\"display:none; background-color:#9D6CFF; color:white; width:200px; height:30px; padding-left:5px; border-radius:4px; flex-direction:row; justify-content:space-around; align-items:center;\" onmouseover=\"this.style.backgroundColor='#BA9BF8'\" onmouseout=\"this.style.backgroundColor='#9D6CFF'\" onclick=\"window.commands?.execute('create-mitosheet-from-dataframe-output');\">See Full Dataframe in Mito</div> <script> if (window.commands?.hasCommand('create-mitosheet-from-dataframe-output')) document.getElementById('0b97ebe6-d95a-4db8-93cf-a5ec9570e58e').style.display = 'flex' </script> <table border=\"1\" class=\"dataframe\">\n",
       "  <thead>\n",
       "    <tr style=\"text-align: right;\">\n",
       "      <th></th>\n",
       "      <th>Date</th>\n",
       "      <th>Company</th>\n",
       "      <th>JobsCut</th>\n",
       "      <th>Percent_of_Company_Employees</th>\n",
       "      <th>Industry</th>\n",
       "    </tr>\n",
       "  </thead>\n",
       "  <tbody>\n",
       "    <tr>\n",
       "      <th>11</th>\n",
       "      <td>Jan 08</td>\n",
       "      <td>Flipkart</td>\n",
       "      <td>1100</td>\n",
       "      <td>5%</td>\n",
       "      <td>Retail</td>\n",
       "    </tr>\n",
       "    <tr>\n",
       "      <th>12</th>\n",
       "      <td>Jan 08</td>\n",
       "      <td>Unity</td>\n",
       "      <td>1800</td>\n",
       "      <td>25%</td>\n",
       "      <td>Other</td>\n",
       "    </tr>\n",
       "    <tr>\n",
       "      <th>22</th>\n",
       "      <td>Jan 10</td>\n",
       "      <td>Google</td>\n",
       "      <td>1000</td>\n",
       "      <td>0.5%</td>\n",
       "      <td>Consumer</td>\n",
       "    </tr>\n",
       "    <tr>\n",
       "      <th>36</th>\n",
       "      <td>Jan 19</td>\n",
       "      <td>Wayfair</td>\n",
       "      <td>1650</td>\n",
       "      <td>13%</td>\n",
       "      <td>Retail</td>\n",
       "    </tr>\n",
       "  </tbody>\n",
       "</table></div>"
      ],
      "text/plain": [
       "      Date   Company  JobsCut Percent_of_Company_Employees  Industry\n",
       "11  Jan 08  Flipkart     1100                           5%    Retail\n",
       "12  Jan 08     Unity     1800                          25%     Other\n",
       "22  Jan 10    Google     1000                         0.5%  Consumer\n",
       "36  Jan 19   Wayfair     1650                          13%    Retail"
      ]
     },
     "execution_count": 34,
     "metadata": {},
     "output_type": "execute_result"
    }
   ],
   "source": [
    "# 3 \n",
    "df[df['JobsCut']>=1000]"
   ]
  },
  {
   "cell_type": "code",
   "execution_count": 38,
   "id": "50af097c-d568-4b35-a706-d3ba263585fa",
   "metadata": {},
   "outputs": [
    {
     "data": {
      "text/plain": [
       "0    Jan 02\n",
       "1    Jan 02\n",
       "Name: Date, dtype: object"
      ]
     },
     "execution_count": 38,
     "metadata": {},
     "output_type": "execute_result"
    }
   ],
   "source": [
    "#pd.to_datetime(df['Date'], format='2024-%m-%d')\n",
    "df['Date'][:][:2]"
   ]
  },
  {
   "cell_type": "code",
   "execution_count": 45,
   "id": "318f6faf-ff64-44f8-bbb4-c17b7a677c76",
   "metadata": {},
   "outputs": [
    {
     "name": "stdout",
     "output_type": "stream",
     "text": [
      "<class 'pandas.core.frame.DataFrame'>\n",
      "RangeIndex: 42 entries, 0 to 41\n",
      "Data columns (total 5 columns):\n",
      " #   Column                        Non-Null Count  Dtype \n",
      "---  ------                        --------------  ----- \n",
      " 0   Date                          42 non-null     object\n",
      " 1   Company                       42 non-null     object\n",
      " 2   JobsCut                       42 non-null     int64 \n",
      " 3   Percent_of_Company_Employees  29 non-null     object\n",
      " 4   Industry                      42 non-null     object\n",
      "dtypes: int64(1), object(4)\n",
      "memory usage: 1.8+ KB\n"
     ]
    }
   ],
   "source": [
    "# 7\n",
    "def convert(d):\n",
    "   return '2024-01-'+i[-2:]\n",
    "df['Date']=df['Date'].apply(lambda x: convert(x))\n",
    "df.info()"
   ]
  },
  {
   "cell_type": "code",
   "execution_count": 50,
   "id": "4fed8882-a319-44f0-a7a4-2f5aab0027af",
   "metadata": {},
   "outputs": [
    {
     "data": {
      "text/plain": [
       "Date                            datetime64[ns]\n",
       "Company                                 object\n",
       "JobsCut                                  int64\n",
       "Percent_of_Company_Employees            object\n",
       "Industry                                object\n",
       "dtype: object"
      ]
     },
     "execution_count": 50,
     "metadata": {},
     "output_type": "execute_result"
    }
   ],
   "source": [
    "df['Date']=pd.to_datetime(df['Date'])\n",
    "df.dtypes"
   ]
  },
  {
   "cell_type": "code",
   "execution_count": 81,
   "id": "43abb3b9-e2e4-4f1d-b0f2-c7a30e9bab3a",
   "metadata": {},
   "outputs": [
    {
     "name": "stdout",
     "output_type": "stream",
     "text": [
      "           JobsCut\n",
      "               sum\n",
      "Industry          \n",
      "Consumer      3350\n",
      "Data           360\n",
      "Energy        1054\n",
      "Finance        367\n",
      "Food            60\n",
      "Hardware        10\n",
      "Healthcare     400\n",
      "Logistics      139\n",
      "Marketing      125\n",
      "Media          224\n",
      "Other         1893\n",
      "Retail        2947\n",
      "Security        60\n",
      "Transport      848\n",
      "Travel         200\n"
     ]
    }
   ],
   "source": [
    "# 9 \n",
    "grouped_df = df.groupby('Industry').agg({'JobsCut': ['sum']})\n",
    "print(grouped_df)"
   ]
  },
  {
   "cell_type": "code",
   "execution_count": 68,
   "id": "fe61181c-7976-481a-b179-488b7109884e",
   "metadata": {},
   "outputs": [
    {
     "data": {
      "text/html": [
       "<div><div id=8f42621f-e5ad-4f6b-9d6a-8a436a7ea4d6 style=\"display:none; background-color:#9D6CFF; color:white; width:200px; height:30px; padding-left:5px; border-radius:4px; flex-direction:row; justify-content:space-around; align-items:center;\" onmouseover=\"this.style.backgroundColor='#BA9BF8'\" onmouseout=\"this.style.backgroundColor='#9D6CFF'\" onclick=\"window.commands?.execute('create-mitosheet-from-dataframe-output');\">See Full Dataframe in Mito</div> <script> if (window.commands?.hasCommand('create-mitosheet-from-dataframe-output')) document.getElementById('8f42621f-e5ad-4f6b-9d6a-8a436a7ea4d6').style.display = 'flex' </script> <table border=\"1\" class=\"dataframe\">\n",
       "  <thead>\n",
       "    <tr style=\"text-align: right;\">\n",
       "      <th></th>\n",
       "      <th>Company</th>\n",
       "      <th>Com</th>\n",
       "      <th>Value</th>\n",
       "    </tr>\n",
       "  </thead>\n",
       "  <tbody>\n",
       "    <tr>\n",
       "      <th>0</th>\n",
       "      <td>The Messenger</td>\n",
       "      <td>JobsCut</td>\n",
       "      <td>24</td>\n",
       "    </tr>\n",
       "    <tr>\n",
       "      <th>1</th>\n",
       "      <td>FrontDesk</td>\n",
       "      <td>JobsCut</td>\n",
       "      <td>200</td>\n",
       "    </tr>\n",
       "    <tr>\n",
       "      <th>2</th>\n",
       "      <td>Orca Security</td>\n",
       "      <td>JobsCut</td>\n",
       "      <td>60</td>\n",
       "    </tr>\n",
       "    <tr>\n",
       "      <th>3</th>\n",
       "      <td>Lazada Group</td>\n",
       "      <td>JobsCut</td>\n",
       "      <td>100</td>\n",
       "    </tr>\n",
       "    <tr>\n",
       "      <th>4</th>\n",
       "      <td>Trigo</td>\n",
       "      <td>JobsCut</td>\n",
       "      <td>30</td>\n",
       "    </tr>\n",
       "    <tr>\n",
       "      <th>...</th>\n",
       "      <td>...</td>\n",
       "      <td>...</td>\n",
       "      <td>...</td>\n",
       "    </tr>\n",
       "    <tr>\n",
       "      <th>37</th>\n",
       "      <td>SolarEdge</td>\n",
       "      <td>JobsCut</td>\n",
       "      <td>900</td>\n",
       "    </tr>\n",
       "    <tr>\n",
       "      <th>38</th>\n",
       "      <td>Riot Games</td>\n",
       "      <td>JobsCut</td>\n",
       "      <td>530</td>\n",
       "    </tr>\n",
       "    <tr>\n",
       "      <th>39</th>\n",
       "      <td>TikTok</td>\n",
       "      <td>JobsCut</td>\n",
       "      <td>60</td>\n",
       "    </tr>\n",
       "    <tr>\n",
       "      <th>40</th>\n",
       "      <td>Brex</td>\n",
       "      <td>JobsCut</td>\n",
       "      <td>282</td>\n",
       "    </tr>\n",
       "    <tr>\n",
       "      <th>41</th>\n",
       "      <td>Vroom</td>\n",
       "      <td>JobsCut</td>\n",
       "      <td>800</td>\n",
       "    </tr>\n",
       "  </tbody>\n",
       "</table></div>"
      ],
      "text/plain": [
       "            Company      Com  Value\n",
       "0     The Messenger  JobsCut     24\n",
       "1         FrontDesk  JobsCut    200\n",
       "2     Orca Security  JobsCut     60\n",
       "3      Lazada Group  JobsCut    100\n",
       "4             Trigo  JobsCut     30\n",
       "5        Cue Health  JobsCut     94\n",
       "6   NanoString Tech  JobsCut     50\n",
       "7          BenchSci  JobsCut     70\n",
       "8             Pitch  JobsCut     80\n",
       "9             Flexe  JobsCut     99\n",
       "10    NuScale Power  JobsCut    154\n",
       "11         Flipkart  JobsCut   1100\n",
       "12            Unity  JobsCut   1800\n",
       "13           Humane  JobsCut     10\n",
       "14  Rent the Runway  JobsCut     37\n",
       "15     Uber Freight  JobsCut     40\n",
       "16            Nevro  JobsCut     63\n",
       "17           Branch  JobsCut     85\n",
       "18           Twitch  JobsCut    500\n",
       "19        Instagram  JobsCut     60\n",
       "20     BeamBenefits  JobsCut     74\n",
       "21              IAC  JobsCut    330\n",
       "22           Google  JobsCut   1000\n",
       "23          Sisense  JobsCut     60\n",
       "24          Audible  JobsCut    100\n",
       "25           Inmobi  JobsCut    125\n",
       "26          Discord  JobsCut    170\n",
       "27         Playtika  JobsCut    300\n",
       "28      New Work SE  JobsCut    400\n",
       "29          GrabCAD  JobsCut     13\n",
       "30            Veeam  JobsCut    300\n",
       "31       First Mode  JobsCut     48\n",
       "32       SonderMind  JobsCut     49\n",
       "33          Sirplus  JobsCut     60\n",
       "34          YouTube  JobsCut    100\n",
       "35           Amazon  JobsCut     30\n",
       "36          Wayfair  JobsCut   1650\n",
       "37        SolarEdge  JobsCut    900\n",
       "38       Riot Games  JobsCut    530\n",
       "39           TikTok  JobsCut     60\n",
       "40             Brex  JobsCut    282\n",
       "41            Vroom  JobsCut    800"
      ]
     },
     "execution_count": 68,
     "metadata": {},
     "output_type": "execute_result"
    }
   ],
   "source": [
    "#10 \n",
    "melted_df = pd.melt(df, id_vars=['Company'], value_vars=['JobsCut'], var_name='Com', value_name='Value')\n",
    "melted_df"
   ]
  },
  {
   "cell_type": "code",
   "execution_count": 75,
   "id": "83fd9175-bd65-4991-931b-8c4834624809",
   "metadata": {},
   "outputs": [
    {
     "data": {
      "text/html": [
       "<div><div id=cc66f05f-1850-477a-b193-6861086578d8 style=\"display:none; background-color:#9D6CFF; color:white; width:200px; height:30px; padding-left:5px; border-radius:4px; flex-direction:row; justify-content:space-around; align-items:center;\" onmouseover=\"this.style.backgroundColor='#BA9BF8'\" onmouseout=\"this.style.backgroundColor='#9D6CFF'\" onclick=\"window.commands?.execute('create-mitosheet-from-dataframe-output');\">See Full Dataframe in Mito</div> <script> if (window.commands?.hasCommand('create-mitosheet-from-dataframe-output')) document.getElementById('cc66f05f-1850-477a-b193-6861086578d8').style.display = 'flex' </script> <table border=\"1\" class=\"dataframe\">\n",
       "  <thead>\n",
       "    <tr style=\"text-align: right;\">\n",
       "      <th></th>\n",
       "      <th>Company</th>\n",
       "      <th>variable</th>\n",
       "      <th>Value</th>\n",
       "    </tr>\n",
       "  </thead>\n",
       "  <tbody>\n",
       "    <tr>\n",
       "      <th>0</th>\n",
       "      <td>The Messenger</td>\n",
       "      <td>JobsCut</td>\n",
       "      <td>24</td>\n",
       "    </tr>\n",
       "    <tr>\n",
       "      <th>1</th>\n",
       "      <td>FrontDesk</td>\n",
       "      <td>JobsCut</td>\n",
       "      <td>200</td>\n",
       "    </tr>\n",
       "    <tr>\n",
       "      <th>2</th>\n",
       "      <td>Orca Security</td>\n",
       "      <td>JobsCut</td>\n",
       "      <td>60</td>\n",
       "    </tr>\n",
       "    <tr>\n",
       "      <th>3</th>\n",
       "      <td>Lazada Group</td>\n",
       "      <td>JobsCut</td>\n",
       "      <td>100</td>\n",
       "    </tr>\n",
       "    <tr>\n",
       "      <th>4</th>\n",
       "      <td>Trigo</td>\n",
       "      <td>JobsCut</td>\n",
       "      <td>30</td>\n",
       "    </tr>\n",
       "    <tr>\n",
       "      <th>...</th>\n",
       "      <td>...</td>\n",
       "      <td>...</td>\n",
       "      <td>...</td>\n",
       "    </tr>\n",
       "    <tr>\n",
       "      <th>37</th>\n",
       "      <td>SolarEdge</td>\n",
       "      <td>JobsCut</td>\n",
       "      <td>900</td>\n",
       "    </tr>\n",
       "    <tr>\n",
       "      <th>38</th>\n",
       "      <td>Riot Games</td>\n",
       "      <td>JobsCut</td>\n",
       "      <td>530</td>\n",
       "    </tr>\n",
       "    <tr>\n",
       "      <th>39</th>\n",
       "      <td>TikTok</td>\n",
       "      <td>JobsCut</td>\n",
       "      <td>60</td>\n",
       "    </tr>\n",
       "    <tr>\n",
       "      <th>40</th>\n",
       "      <td>Brex</td>\n",
       "      <td>JobsCut</td>\n",
       "      <td>282</td>\n",
       "    </tr>\n",
       "    <tr>\n",
       "      <th>41</th>\n",
       "      <td>Vroom</td>\n",
       "      <td>JobsCut</td>\n",
       "      <td>800</td>\n",
       "    </tr>\n",
       "  </tbody>\n",
       "</table></div>"
      ],
      "text/plain": [
       "            Company variable  Value\n",
       "0     The Messenger  JobsCut     24\n",
       "1         FrontDesk  JobsCut    200\n",
       "2     Orca Security  JobsCut     60\n",
       "3      Lazada Group  JobsCut    100\n",
       "4             Trigo  JobsCut     30\n",
       "5        Cue Health  JobsCut     94\n",
       "6   NanoString Tech  JobsCut     50\n",
       "7          BenchSci  JobsCut     70\n",
       "8             Pitch  JobsCut     80\n",
       "9             Flexe  JobsCut     99\n",
       "10    NuScale Power  JobsCut    154\n",
       "11         Flipkart  JobsCut   1100\n",
       "12            Unity  JobsCut   1800\n",
       "13           Humane  JobsCut     10\n",
       "14  Rent the Runway  JobsCut     37\n",
       "15     Uber Freight  JobsCut     40\n",
       "16            Nevro  JobsCut     63\n",
       "17           Branch  JobsCut     85\n",
       "18           Twitch  JobsCut    500\n",
       "19        Instagram  JobsCut     60\n",
       "20     BeamBenefits  JobsCut     74\n",
       "21              IAC  JobsCut    330\n",
       "22           Google  JobsCut   1000\n",
       "23          Sisense  JobsCut     60\n",
       "24          Audible  JobsCut    100\n",
       "25           Inmobi  JobsCut    125\n",
       "26          Discord  JobsCut    170\n",
       "27         Playtika  JobsCut    300\n",
       "28      New Work SE  JobsCut    400\n",
       "29          GrabCAD  JobsCut     13\n",
       "30            Veeam  JobsCut    300\n",
       "31       First Mode  JobsCut     48\n",
       "32       SonderMind  JobsCut     49\n",
       "33          Sirplus  JobsCut     60\n",
       "34          YouTube  JobsCut    100\n",
       "35           Amazon  JobsCut     30\n",
       "36          Wayfair  JobsCut   1650\n",
       "37        SolarEdge  JobsCut    900\n",
       "38       Riot Games  JobsCut    530\n",
       "39           TikTok  JobsCut     60\n",
       "40             Brex  JobsCut    282\n",
       "41            Vroom  JobsCut    800"
      ]
     },
     "execution_count": 75,
     "metadata": {},
     "output_type": "execute_result"
    }
   ],
   "source": [
    "#10 \n",
    "melted_df = pd.melt(df, id_vars=['Company'], value_vars=['JobsCut'],  value_name='Value')\n",
    "melted_df"
   ]
  }
 ],
 "metadata": {
  "kernelspec": {
   "display_name": "Python 3 (ipykernel)",
   "language": "python",
   "name": "python3"
  },
  "language_info": {
   "codemirror_mode": {
    "name": "ipython",
    "version": 3
   },
   "file_extension": ".py",
   "mimetype": "text/x-python",
   "name": "python",
   "nbconvert_exporter": "python",
   "pygments_lexer": "ipython3",
   "version": "3.10.9"
  }
 },
 "nbformat": 4,
 "nbformat_minor": 5
}
