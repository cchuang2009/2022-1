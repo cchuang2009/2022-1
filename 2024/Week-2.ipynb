{
 "cells": [
  {
   "cell_type": "markdown",
   "metadata": {
    "slideshow": {
     "slide_type": "slide"
    }
   },
   "source": [
    "#  Python Scripting Language\n",
    "\n",
    "## Week 2, Basic Syntax and Visualization  "
   ]
  },
  {
   "cell_type": "code",
   "execution_count": null,
   "metadata": {},
   "outputs": [],
   "source": [
    "# standard method to install Python package\n",
    "\n",
    "!pip install watermark"
   ]
  },
  {
   "cell_type": "code",
   "execution_count": 1,
   "metadata": {},
   "outputs": [],
   "source": [
    "%load_ext watermark"
   ]
  },
  {
   "cell_type": "code",
   "execution_count": 2,
   "metadata": {},
   "outputs": [
    {
     "name": "stdout",
     "output_type": "stream",
     "text": [
      "Python implementation: CPython\n",
      "Python version       : 3.10.9\n",
      "IPython version      : 8.18.1\n",
      "\n",
      "numpy     : 1.26.4\n",
      "scipy     : 1.12.0\n",
      "matplotlib: 3.8.2\n",
      "\n",
      "Compiler    : Clang 14.0.6 \n",
      "OS          : Darwin\n",
      "Release     : 21.6.0\n",
      "Machine     : x86_64\n",
      "Processor   : i386\n",
      "CPU cores   : 8\n",
      "Architecture: 64bit\n",
      "\n"
     ]
    }
   ],
   "source": [
    "%watermark -v -m -p numpy,scipy,matplotlib"
   ]
  },
  {
   "cell_type": "code",
   "execution_count": null,
   "metadata": {},
   "outputs": [],
   "source": [
    "# install Python package\n",
    "!pip install jupyterthemes"
   ]
  },
  {
   "cell_type": "code",
   "execution_count": 6,
   "metadata": {},
   "outputs": [],
   "source": [
    "#!jt -t oceans16 -tf merriserif -tfs 14 -nf ptsans -nfs 14\n",
    "!jt -t grade3 -tf firacode -tfs 16 -mathfs 110 -fs 16 -N -T\n"
   ]
  },
  {
   "cell_type": "markdown",
   "metadata": {
    "slideshow": {
     "slide_type": "subslide"
    }
   },
   "source": [
    "## Basic Syntax"
   ]
  },
  {
   "cell_type": "markdown",
   "metadata": {
    "slideshow": {
     "slide_type": "fragment"
    }
   },
   "source": [
    "* `Arithmatic operators`: ` +, -, *, /, //,**, %, ==, ... `"
   ]
  },
  {
   "cell_type": "code",
   "execution_count": 7,
   "metadata": {},
   "outputs": [],
   "source": [
    "a=5\n",
    "b=2"
   ]
  },
  {
   "cell_type": "code",
   "execution_count": 8,
   "metadata": {},
   "outputs": [
    {
     "data": {
      "text/plain": [
       "(7, 10, 2.5, 2, 32)"
      ]
     },
     "execution_count": 8,
     "metadata": {},
     "output_type": "execute_result"
    }
   ],
   "source": [
    "a+b, a*b,a/b,a//b,b**a"
   ]
  },
  {
   "cell_type": "markdown",
   "metadata": {
    "slideshow": {
     "slide_type": "subslide"
    }
   },
   "source": [
    "* `variable` and `symbolic operation`: By famous <font color=\"blue\">sympy</font> package;"
   ]
  },
  {
   "cell_type": "code",
   "execution_count": null,
   "metadata": {},
   "outputs": [],
   "source": [
    "x+1"
   ]
  },
  {
   "cell_type": "code",
   "execution_count": null,
   "metadata": {},
   "outputs": [],
   "source": [
    "from sympy import symbols, solve ,sqrt"
   ]
  },
  {
   "cell_type": "code",
   "execution_count": null,
   "metadata": {},
   "outputs": [],
   "source": [
    "x=symbols(\"x\")\n",
    "x+1"
   ]
  },
  {
   "cell_type": "code",
   "execution_count": null,
   "metadata": {},
   "outputs": [],
   "source": []
  },
  {
   "cell_type": "code",
   "execution_count": null,
   "metadata": {},
   "outputs": [],
   "source": [
    "sqrt(x)"
   ]
  },
  {
   "cell_type": "code",
   "execution_count": null,
   "metadata": {},
   "outputs": [],
   "source": [
    "solve(x**2+x+1)"
   ]
  },
  {
   "cell_type": "code",
   "execution_count": null,
   "metadata": {},
   "outputs": [],
   "source": [
    "t=symbols(\"t\", real=True)"
   ]
  },
  {
   "cell_type": "code",
   "execution_count": null,
   "metadata": {},
   "outputs": [],
   "source": [
    "solve(t**2+t+1)"
   ]
  },
  {
   "cell_type": "markdown",
   "metadata": {
    "slideshow": {
     "slide_type": "subslide"
    }
   },
   "source": [
    "* define function: input  <font color=\"brown\">var1</font>, pass   <font color=\"gray\">x</font> to <font color=\"brown\">var2</font> if no var2 input, and return  <font color=\"pink\">result</font> ,\n",
    "    ```\n",
    "    def func(var1,var2=x):\n",
    "        ...\n",
    "        return result\n",
    "    ```    "
   ]
  },
  {
   "cell_type": "markdown",
   "metadata": {
    "slideshow": {
     "slide_type": "subslide"
    }
   },
   "source": [
    "* condition statments\n",
    "  ```\n",
    "    if cond1: \n",
    "          ...\n",
    "       elif cond2:\n",
    "          ...\n",
    "       else:\n",
    "          ...\n",
    "   ```"
   ]
  },
  {
   "cell_type": "markdown",
   "metadata": {
    "slideshow": {
     "slide_type": "subslide"
    }
   },
   "source": [
    "* while statement:\n",
    "    ```\n",
    "     while( condition):\n",
    "        ...\n",
    "    ```    "
   ]
  },
  {
   "cell_type": "markdown",
   "metadata": {
    "slideshow": {
     "slide_type": "subslide"
    }
   },
   "source": [
    "* for statement:\n",
    "    ```\n",
    "    for (...):\n",
    "     ...\n",
    "    ``` "
   ]
  },
  {
   "cell_type": "markdown",
   "metadata": {},
   "source": [
    "List and Others\n",
    "---\n",
    "Collection of variables or data"
   ]
  },
  {
   "cell_type": "code",
   "execution_count": 40,
   "metadata": {},
   "outputs": [
    {
     "data": {
      "text/plain": [
       "[1, 2, 3, 'b', 'c', 4]"
      ]
     },
     "execution_count": 40,
     "metadata": {},
     "output_type": "execute_result"
    }
   ],
   "source": [
    "# list\n",
    "\n",
    "my_list = [1, 2, 3, 'a', 'b', 'c']\n",
    "my_list.append(4)     # Adds 4 to the end of the list\n",
    "my_list.remove('a')  # Removes the element 'a'\n",
    "\n",
    "my_list"
   ]
  },
  {
   "cell_type": "code",
   "execution_count": 42,
   "metadata": {},
   "outputs": [
    {
     "data": {
      "text/plain": [
       "1964"
      ]
     },
     "execution_count": 42,
     "metadata": {},
     "output_type": "execute_result"
    }
   ],
   "source": [
    "# dictionary\n",
    "\n",
    "my_dict = {\n",
    "  \"brand\": \"Ford\",\n",
    "  \"model\": \"Mustang\",\n",
    "  \"year\": 1964\n",
    "}\n",
    "\n",
    "my_dict['year']"
   ]
  },
  {
   "cell_type": "code",
   "execution_count": 44,
   "metadata": {},
   "outputs": [
    {
     "data": {
      "text/plain": [
       "{1, 2, 3, 4}"
      ]
     },
     "execution_count": 44,
     "metadata": {},
     "output_type": "execute_result"
    }
   ],
   "source": [
    "# set \n",
    "\n",
    "my_set = {1, 2, 3}\n",
    "my_set.add(1)\n",
    "my_set.add(4)\n",
    "my_set"
   ]
  },
  {
   "cell_type": "code",
   "execution_count": null,
   "metadata": {},
   "outputs": [],
   "source": [
    "# Problem: what does the following mean?\n",
    "\n",
    "squares = []\n",
    "for i in range(5):\n",
    "    squares.append(i**2)\n",
    "print(squares)\n"
   ]
  },
  {
   "cell_type": "code",
   "execution_count": null,
   "metadata": {},
   "outputs": [],
   "source": []
  },
  {
   "cell_type": "markdown",
   "metadata": {},
   "source": [
    "Formating\n",
    "---"
   ]
  },
  {
   "cell_type": "code",
   "execution_count": 9,
   "metadata": {
    "slideshow": {
     "slide_type": "subslide"
    }
   },
   "outputs": [
    {
     "name": "stdout",
     "output_type": "stream",
     "text": [
      "sum = 7,difference = 3,product = 10, quotient= 2.50\n"
     ]
    }
   ],
   "source": [
    "print(\"sum = %s,difference = %s,product = %s, quotient= %.2f\" %(a+b,a-b,a*b,a/b))"
   ]
  },
  {
   "cell_type": "code",
   "execution_count": 10,
   "metadata": {},
   "outputs": [
    {
     "name": "stdout",
     "output_type": "stream",
     "text": [
      "sum = 7, difference =3,product = 10, quotient= 2.50\n"
     ]
    }
   ],
   "source": [
    "print(\"sum = {}, difference ={},product = {}, quotient= {:.2f}\".format(a+b,a-b,a*b,a/b))"
   ]
  },
  {
   "cell_type": "code",
   "execution_count": null,
   "metadata": {
    "slideshow": {
     "slide_type": "subslide"
    }
   },
   "outputs": [],
   "source": [
    "def iseven(x):\n",
    "    return x%2==0\n",
    "\n",
    "iseven(798)"
   ]
  },
  {
   "cell_type": "code",
   "execution_count": 14,
   "metadata": {
    "slideshow": {
     "slide_type": "subslide"
    }
   },
   "outputs": [],
   "source": [
    "def tax(x):\n",
    "    if x<680000.:\n",
    "        print( \"Tax is NT$ 0.\")\n",
    "    elif x<1200000:\n",
    "        print(\"Tax is NT$ %g\" %float(x*0.06-22800))\n",
    "    else:\n",
    "        print(\"TaX is NT$ %s\" % float(x*0.12-136000))"
   ]
  },
  {
   "cell_type": "code",
   "execution_count": 15,
   "metadata": {
    "slideshow": {
     "slide_type": "subslide"
    }
   },
   "outputs": [
    {
     "name": "stdout",
     "output_type": "stream",
     "text": [
      "Tax is NT$ 37200\n"
     ]
    }
   ],
   "source": [
    "tax(1000000)"
   ]
  },
  {
   "cell_type": "code",
   "execution_count": 16,
   "metadata": {
    "slideshow": {
     "slide_type": "subslide"
    }
   },
   "outputs": [
    {
     "name": "stdout",
     "output_type": "stream",
     "text": [
      "Time elapsed:  0.6326091289520264\n",
      "Summation of consecutive natual numbers from 1 to 10000000 is 50000005000000.\n"
     ]
    }
   ],
   "source": [
    "# add time module to sum a sequence of consecutive integers \n",
    "import time\n",
    "sum=0\n",
    "n=10000000\n",
    "\n",
    "t0=time.time()\n",
    "for i in range(n+1):\n",
    "    sum+=i\n",
    "print(\"Time elapsed: \", time.time()-t0)\n",
    "print (\"Summation of consecutive natual numbers from 1 to %d is %d.\" %(n,sum))"
   ]
  },
  {
   "cell_type": "markdown",
   "metadata": {
    "slideshow": {
     "slide_type": "slide"
    }
   },
   "source": [
    " NumPy: core of Python Scientific Computing\n",
    "---\n",
    "It contains among other things:\n",
    "\n",
    "    * a powerful N-dimensional array object\n",
    "    * sophisticated (broadcasting) functions\n",
    "    * tools for integrating C/C++ and Fortran code\n",
    "    * useful linear algebra, random number capabilities,  and Fourier transform.\n"
   ]
  },
  {
   "cell_type": "markdown",
   "metadata": {
    "slideshow": {
     "slide_type": "subslide"
    }
   },
   "source": [
    "Import Packages\n",
    "---\n",
    "- `import numPy`: prepare numpt to use;\n",
    "```\n",
    "import numpy \n",
    "numpy.sin(numpy.pi)\n",
    "```\n",
    "get 0\n"
   ]
  },
  {
   "cell_type": "markdown",
   "metadata": {
    "slideshow": {
     "slide_type": "subslide"
    }
   },
   "source": [
    "- `import numpy as numpy`: give the nicknme\n",
    "```\n",
    "import numpy as np\n",
    "np.sin(np.pi)\n",
    "```\n",
    "get 0\n"
   ]
  },
  {
   "cell_type": "markdown",
   "metadata": {
    "slideshow": {
     "slide_type": "subslide"
    }
   },
   "source": [
    "- `from numpy import *`: import all the staff into Python environment, not prefered:\n",
    "```\n",
    "import numpy \n",
    "sin(pi)\n",
    "```\n",
    "get 0\n"
   ]
  },
  {
   "cell_type": "markdown",
   "metadata": {
    "slideshow": {
     "slide_type": "subslide"
    }
   },
   "source": [
    "- `from numpy import sin`: import only one numpy function, <code style=\"background-color:lightblue\">sin</code>:  \n",
    "```\n",
    "import numpy  as np\n",
    "from numpy import sin\n",
    "sin(np.pi)\n",
    "```\n",
    "get 0"
   ]
  },
  {
   "cell_type": "code",
   "execution_count": 17,
   "metadata": {
    "slideshow": {
     "slide_type": "slide"
    }
   },
   "outputs": [
    {
     "name": "stdout",
     "output_type": "stream",
     "text": [
      "Time elapsed (Numpy version):  0.06442880630493164\n",
      "Summation of consecutive natual numbers from 1 to 10000000 is 50000005000000.\n"
     ]
    }
   ],
   "source": [
    "import numpy as np\n",
    "import time\n",
    "sum=0\n",
    "n=10000000\n",
    "\n",
    "t0=time.time()\n",
    "a=np.linspace(0,n,n+1)\n",
    "sum=np.sum(a)\n",
    "print(\"Time elapsed (Numpy version): \", time.time()-t0)\n",
    "print ('Summation of consecutive natual numbers from 1 to %d is %d.' %(n,sum))"
   ]
  },
  {
   "cell_type": "markdown",
   "metadata": {},
   "source": [
    "# list and Numpy"
   ]
  },
  {
   "cell_type": "code",
   "execution_count": 51,
   "metadata": {},
   "outputs": [
    {
     "name": "stdout",
     "output_type": "stream",
     "text": [
      "CPU times: user 2 µs, sys: 0 ns, total: 2 µs\n",
      "Wall time: 5.01 µs\n"
     ]
    },
    {
     "data": {
      "text/plain": [
       "[1, 4, 9]"
      ]
     },
     "execution_count": 51,
     "metadata": {},
     "output_type": "execute_result"
    }
   ],
   "source": [
    "%time\n",
    "a=[1,2,3]\n",
    "b=[i**2 for i in a]\n",
    "b"
   ]
  },
  {
   "cell_type": "code",
   "execution_count": 52,
   "metadata": {},
   "outputs": [
    {
     "ename": "TypeError",
     "evalue": "unsupported operand type(s) for ** or pow(): 'list' and 'int'",
     "output_type": "error",
     "traceback": [
      "\u001b[0;31m---------------------------------------------------------------------------\u001b[0m",
      "\u001b[0;31mTypeError\u001b[0m                                 Traceback (most recent call last)",
      "Cell \u001b[0;32mIn[52], line 1\u001b[0m\n\u001b[0;32m----> 1\u001b[0m \u001b[43ma\u001b[49m\u001b[38;5;241;43m*\u001b[39;49m\u001b[38;5;241;43m*\u001b[39;49m\u001b[38;5;241;43m2\u001b[39;49m\n",
      "\u001b[0;31mTypeError\u001b[0m: unsupported operand type(s) for ** or pow(): 'list' and 'int'"
     ]
    }
   ],
   "source": [
    "a**2"
   ]
  },
  {
   "cell_type": "code",
   "execution_count": 50,
   "metadata": {},
   "outputs": [
    {
     "name": "stdout",
     "output_type": "stream",
     "text": [
      "CPU times: user 1e+03 ns, sys: 0 ns, total: 1e+03 ns\n",
      "Wall time: 4.05 µs\n"
     ]
    },
    {
     "data": {
      "text/plain": [
       "array([1, 4, 9])"
      ]
     },
     "execution_count": 50,
     "metadata": {},
     "output_type": "execute_result"
    }
   ],
   "source": [
    "%time\n",
    "a=np.array([1,2,3])\n",
    "a**2"
   ]
  },
  {
   "cell_type": "markdown",
   "metadata": {
    "slideshow": {
     "slide_type": "subslide"
    }
   },
   "source": [
    "## Exercise\n",
    "\n",
    "What is the 10000 term of Fibonicci sequence?\n",
    "\n",
    "Fibonicci Sequences:\n",
    "\n",
    "$$ \\{a_n\\}, a_0=a_1=1, a_2=a_0+a_1, a_3=a_1+a_2,\\cdots, a_{n+2}=a_{n}+a_{n+1},\\cdots$$"
   ]
  },
  {
   "cell_type": "code",
   "execution_count": 27,
   "metadata": {},
   "outputs": [],
   "source": [
    "def fibonicci(n):\n",
    "    if n<0:\n",
    "       print(\" Wrong integer input, input a nonnegative integer!\")\n",
    "    elif n<2:\n",
    "       a,b=1,1\n",
    "    else:\n",
    "       a,b=1,1\n",
    "       for i in range(n): \n",
    "           a,b=b, a+b\n",
    "    return b"
   ]
  },
  {
   "cell_type": "code",
   "execution_count": 28,
   "metadata": {},
   "outputs": [
    {
     "name": "stdout",
     "output_type": "stream",
     "text": [
      "CPU times: user 2 µs, sys: 0 ns, total: 2 µs\n",
      "Wall time: 4.05 µs\n"
     ]
    },
    {
     "data": {
      "text/plain": [
       "927372692193078999176"
      ]
     },
     "execution_count": 28,
     "metadata": {},
     "output_type": "execute_result"
    }
   ],
   "source": [
    "%time\n",
    "fibonicci(100)"
   ]
  },
  {
   "cell_type": "code",
   "execution_count": null,
   "metadata": {},
   "outputs": [],
   "source": []
  },
  {
   "cell_type": "code",
   "execution_count": 20,
   "metadata": {},
   "outputs": [
    {
     "name": "stdout",
     "output_type": "stream",
     "text": [
      "3000\n"
     ]
    }
   ],
   "source": [
    "import sys\n",
    "print(sys.getrecursionlimit())\n",
    "#sys.setrecursionlimit(1500)"
   ]
  },
  {
   "cell_type": "markdown",
   "metadata": {
    "slideshow": {
     "slide_type": "subslide"
    }
   },
   "source": [
    "## Moreover\n",
    "\n",
    "Besides its obvious scientific uses, NumPy can also be used as an efficient multi-dimensional container of generic data. Arbitrary data-types can be defined and this allows NumPy to seamlessly and speedily integrate with a wide variety of projects."
   ]
  },
  {
   "cell_type": "markdown",
   "metadata": {
    "slideshow": {
     "slide_type": "slide"
    }
   },
   "source": [
    "## Matplotlib\n",
    "\n",
    "Matplotlib is an excellent 2D and 3D graphics library for generating scientific figures. Some of the many advantages of this library include:\n",
    "\n",
    "* Easy to get started\n",
    "* Support for $\\LaTeX$ formatted labels and texts\n",
    "* Great control of every element in a figure, including figure size and DPI. \n",
    "* High-quality output in many formats, including PNG, PDF, SVG, EPS, and PGF.\n",
    "* GUI for interactively exploring figures *and* support for headless generation of figure files (useful for batch jobs).\n"
   ]
  },
  {
   "cell_type": "markdown",
   "metadata": {
    "slideshow": {
     "slide_type": "subslide"
    }
   },
   "source": [
    "One of the of the key features of matplotlib that I would like to emphasize, and that I think makes matplotlib highly suitable for generating figures for scientific publications is that all aspects of the figure can be controlled *programmatically*. This is important for reproducibility and convenient when one needs to regenerate the figure with updated data or change its appearance. \n",
    "\n",
    "More information at the Matplotlib web page: http://matplotlib.org/"
   ]
  },
  {
   "cell_type": "code",
   "execution_count": 30,
   "metadata": {},
   "outputs": [],
   "source": [
    "# the following \"matplotlib\" magic  actives the embedded function if any picture created. \n",
    "\n",
    "import matplotlib.pyplot as plt\n",
    "import numpy as np\n",
    "import tw_matplotlib\n",
    "from numpy import sin,cos,pi\n",
    "\n",
    "%matplotlib inline"
   ]
  },
  {
   "cell_type": "code",
   "execution_count": 31,
   "metadata": {
    "slideshow": {
     "slide_type": "subslide"
    }
   },
   "outputs": [
    {
     "data": {
      "image/png": "[encoded data removed]",
      "text/plain": [
       "<Figure size 640x480 with 1 Axes>"
      ]
     },
     "metadata": {},
     "output_type": "display_data"
    }
   ],
   "source": [
    "x=np.linspace(-2,2,1000)\n",
    "f=x*np.sin(1/x)\n",
    "plt.plot(x,f);"
   ]
  },
  {
   "cell_type": "code",
   "execution_count": null,
   "metadata": {},
   "outputs": [],
   "source": []
  },
  {
   "cell_type": "code",
   "execution_count": 32,
   "metadata": {
    "slideshow": {
     "slide_type": "subslide"
    }
   },
   "outputs": [
    {
     "data": {
      "image/png": "[encoded data removed]",
      "text/plain": [
       "<Figure size 640x480 with 1 Axes>"
      ]
     },
     "metadata": {},
     "output_type": "display_data"
    }
   ],
   "source": [
    "x=np.linspace(-2,2,1000)\n",
    "g=np.sin(x)\n",
    "plt.plot(x,f,'r-',x,g,'b--',lw=2);"
   ]
  },
  {
   "cell_type": "code",
   "execution_count": 33,
   "metadata": {},
   "outputs": [
    {
     "data": {
      "image/png": "[encoded data removed]",
      "text/plain": [
       "<Figure size 800x800 with 1 Axes>"
      ]
     },
     "metadata": {},
     "output_type": "display_data"
    }
   ],
   "source": [
    "\n",
    "fig,ax =plt.subplots(figsize=(8,8))\n",
    "t=np.linspace(0,2*np.pi,1000)\n",
    "\n",
    "r=2\n",
    "x=r*np.cos(t)\n",
    "y=r*np.sin(t)\n",
    "\n",
    "ax.plot(x,y,'b--',lw=2);\n",
    "\n",
    "ax.plot([-3,3],[0,0],'k',lw=4)\n",
    "ax.plot([0,0],[-3,3],'k',lw=4)\n",
    "\n",
    "ax.plot([0,np.sqrt(2),np.sqrt(2),0],[0,np.sqrt(2),0,0],'r')\n",
    "ax.text(1.6,0.5,r'$y=r \\sin\\theta$',fontsize=16)\n",
    "ax.text(0.3,-0.3,r'$x=r \\cos\\theta$',fontsize=16)\n",
    "ax.text(0.4,0.1,r'$\\theta$',fontsize=16)\n",
    "ax.text(0.6,0.8,r'$r$',fontsize=18,rotation=45)\n",
    "\n",
    "ax.plot([np.sqrt(2)],[np.sqrt(2)],'ko',lw=20)\n",
    "ax.text(np.sqrt(2.2),np.sqrt(2),r'$P=(x,y)$',fontsize=16)\n",
    "\n",
    "ax.set_xlim([-3,3])\n",
    "ax.set_ylim([-3,3])\n",
    "\n",
    "ax.set_title(\"Polar Coordinates\",fontsize=20)\n",
    "ax.grid()\n",
    "ax.set_frame_on(False)  "
   ]
  },
  {
   "cell_type": "code",
   "execution_count": 34,
   "metadata": {},
   "outputs": [
    {
     "data": {
      "image/png": "[encoded data removed]",
      "text/plain": [
       "<Figure size 800x800 with 1 Axes>"
      ]
     },
     "metadata": {},
     "output_type": "display_data"
    }
   ],
   "source": [
    "fig,ax =plt.subplots(figsize=(8,8))\n",
    "t=np.linspace(0,2*np.pi,1000)\n",
    "\n",
    "r=2\n",
    "x=r*np.cos(t)\n",
    "y=r*np.sin(t)\n",
    "\n",
    "ax.plot(x,y,'b--',lw=2);\n",
    "\n",
    "ax.plot([-3,3],[0,0],'k',lw=4)\n",
    "ax.plot([0,0],[-3,3],'k',lw=4)\n",
    "\n",
    "ax.plot([0,np.sqrt(2),np.sqrt(2),0],[0,np.sqrt(2),0,0],'r')\n",
    "ax.text(1.6,0.5,r'$y=r \\sin\\theta$',fontsize=16)\n",
    "ax.text(0.3,-0.3,r'$x=r \\cos\\theta$',fontsize=16)\n",
    "ax.text(0.4,0.1,r'$\\theta$',fontsize=16)\n",
    "ax.text(0.6,0.8,r'$r$',fontsize=18,rotation=45)\n",
    "\n",
    "ax.plot([np.sqrt(2)],[np.sqrt(2)],'ko',lw=20)\n",
    "ax.text(np.sqrt(2.2),np.sqrt(2),r'$P=(x,y)$',fontsize=16)\n",
    "\n",
    "ax.set_xlim([-3,3])\n",
    "ax.set_ylim([-3,3])\n",
    "\n",
    "ax.set_title(\"Polar Coordinates, 極座標\",fontsize=20)\n",
    "ax.grid()\n",
    "ax.set_frame_on(False)  "
   ]
  },
  {
   "cell_type": "code",
   "execution_count": null,
   "metadata": {},
   "outputs": [],
   "source": []
  },
  {
   "cell_type": "code",
   "execution_count": null,
   "metadata": {},
   "outputs": [],
   "source": []
  }
 ],
 "metadata": {
  "celltoolbar": "Slideshow",
  "hide_input": false,
  "kernelspec": {
   "display_name": "Python 3 (ipykernel)",
   "language": "python",
   "name": "python3"
  },
  "language_info": {
   "codemirror_mode": {
    "name": "ipython",
    "version": 3
   },
   "file_extension": ".py",
   "mimetype": "text/x-python",
   "name": "python",
   "nbconvert_exporter": "python",
   "pygments_lexer": "ipython3",
   "version": "3.10.9"
  },
  "widgets": {
   "state": {
    "2e32dadfdcea445d984d3666dbc41b2b": {
     "views": []
    },
    "588b2469d76c47d19be83efa6a9d4cd4": {
     "views": []
    },
    "6acb1e29f7374bf7bd3bee35dc9b8667": {
     "views": []
    },
    "ee4dbbe5b5d94492a1597284708661ec": {
     "views": []
    }
   },
   "version": "2.0.0-dev"
  }
 },
 "nbformat": 4,
 "nbformat_minor": 4
}
