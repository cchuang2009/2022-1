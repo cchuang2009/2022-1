{
 "cells": [
  {
   "cell_type": "code",
   "execution_count": 1,
   "id": "d4d48f2b-afe0-4776-b6c0-de22fd8538ec",
   "metadata": {},
   "outputs": [],
   "source": [
    "import pandas as pd"
   ]
  },
  {
   "cell_type": "code",
   "execution_count": 13,
   "id": "4743d4c9-0939-45cd-853f-09ae691ce97e",
   "metadata": {},
   "outputs": [],
   "source": [
    "df=pd.read_csv(\"data/Consumer_Complaints.csv.zip\")"
   ]
  },
  {
   "cell_type": "code",
   "execution_count": 14,
   "id": "99de3016-8494-4698-8dfe-551128867663",
   "metadata": {},
   "outputs": [
    {
     "name": "stdout",
     "output_type": "stream",
     "text": [
      "<class 'pandas.core.frame.DataFrame'>\n",
      "RangeIndex: 903983 entries, 0 to 903982\n",
      "Data columns (total 18 columns):\n",
      " #   Column                        Non-Null Count   Dtype \n",
      "---  ------                        --------------   ----- \n",
      " 0   Date received                 903983 non-null  object\n",
      " 1   Product                       903983 non-null  object\n",
      " 2   Sub-product                   668823 non-null  object\n",
      " 3   Issue                         903983 non-null  object\n",
      " 4   Sub-issue                     426386 non-null  object\n",
      " 5   Consumer complaint narrative  199970 non-null  object\n",
      " 6   Company public response       257981 non-null  object\n",
      " 7   Company                       903983 non-null  object\n",
      " 8   State                         894758 non-null  object\n",
      " 9   ZIP code                      894705 non-null  object\n",
      " 10  Tags                          126038 non-null  object\n",
      " 11  Consumer consent provided?    375434 non-null  object\n",
      " 12  Submitted via                 903983 non-null  object\n",
      " 13  Date sent to company          903983 non-null  object\n",
      " 14  Company response to consumer  903983 non-null  object\n",
      " 15  Timely response?              903983 non-null  object\n",
      " 16  Consumer disputed?            768575 non-null  object\n",
      " 17  Complaint ID                  903983 non-null  int64 \n",
      "dtypes: int64(1), object(17)\n",
      "memory usage: 124.1+ MB\n"
     ]
    }
   ],
   "source": [
    "df.info()"
   ]
  },
  {
   "cell_type": "code",
   "execution_count": 34,
   "id": "fbb74d4b-edcb-4738-895c-59e5841c4f0f",
   "metadata": {},
   "outputs": [],
   "source": [
    "df1=df.iloc[:300000]\n",
    "df2=df.iloc[300000:600000]\n",
    "df3=df.iloc[600000:]"
   ]
  },
  {
   "cell_type": "code",
   "execution_count": 24,
   "id": "32ad9099-92cc-48e0-a0f8-8541b2df53c6",
   "metadata": {},
   "outputs": [],
   "source": [
    "df1.to_csv('data/Consumer_Complaints1.csv.zip', compression={'method': 'zip', 'archive_name': 'Consumer_Complaints1.csv'})"
   ]
  },
  {
   "cell_type": "code",
   "execution_count": 35,
   "id": "eba6efc9-2679-4a2e-b4c4-cfb90ecf7b9d",
   "metadata": {},
   "outputs": [],
   "source": [
    "df2.to_csv('data/Consumer_Complaints2.csv.zip', compression={'method': 'zip', 'archive_name': 'Consumer_Complaints2.csv'})"
   ]
  },
  {
   "cell_type": "code",
   "execution_count": 27,
   "id": "e8ec4509-e722-444c-a175-67bc7d443a5b",
   "metadata": {},
   "outputs": [],
   "source": [
    "df3.to_csv('data/Consumer_Complaints3.csv.zip', compression={'method': 'zip', 'archive_name': 'Consumer_Complaints3.csv'})"
   ]
  },
  {
   "cell_type": "code",
   "execution_count": 57,
   "id": "4f673510-cb63-44d9-8fe8-3ea9bf473e1b",
   "metadata": {},
   "outputs": [],
   "source": [
    "df1=pd.read_csv(\"data/Consumer_Complaints1.csv.zip\").drop(columns=['Unnamed: 0'])\n",
    "df2=pd.read_csv(\"data/Consumer_Complaints2.csv.zip\").drop(columns=['Unnamed: 0'])\n",
    "df3=pd.read_csv(\"data/Consumer_Complaints3.csv.zip\").drop(columns=['Unnamed: 0'])"
   ]
  },
  {
   "cell_type": "code",
   "execution_count": 58,
   "id": "73f9637d-582c-42d9-821b-a39775168dc2",
   "metadata": {},
   "outputs": [],
   "source": [
    "df_all=pd.concat([df1,df2,df3]).reset_index(drop=True)"
   ]
  },
  {
   "cell_type": "code",
   "execution_count": 59,
   "id": "dac78d80-a1fc-4918-a0d9-04be9f6d5042",
   "metadata": {},
   "outputs": [
    {
     "name": "stdout",
     "output_type": "stream",
     "text": [
      "<class 'pandas.core.frame.DataFrame'>\n",
      "RangeIndex: 903983 entries, 0 to 903982\n",
      "Data columns (total 18 columns):\n",
      " #   Column                        Non-Null Count   Dtype \n",
      "---  ------                        --------------   ----- \n",
      " 0   Date received                 903983 non-null  object\n",
      " 1   Product                       903983 non-null  object\n",
      " 2   Sub-product                   668823 non-null  object\n",
      " 3   Issue                         903983 non-null  object\n",
      " 4   Sub-issue                     426386 non-null  object\n",
      " 5   Consumer complaint narrative  199970 non-null  object\n",
      " 6   Company public response       257981 non-null  object\n",
      " 7   Company                       903983 non-null  object\n",
      " 8   State                         894758 non-null  object\n",
      " 9   ZIP code                      894705 non-null  object\n",
      " 10  Tags                          126038 non-null  object\n",
      " 11  Consumer consent provided?    375434 non-null  object\n",
      " 12  Submitted via                 903983 non-null  object\n",
      " 13  Date sent to company          903983 non-null  object\n",
      " 14  Company response to consumer  903983 non-null  object\n",
      " 15  Timely response?              903983 non-null  object\n",
      " 16  Consumer disputed?            768575 non-null  object\n",
      " 17  Complaint ID                  903983 non-null  int64 \n",
      "dtypes: int64(1), object(17)\n",
      "memory usage: 124.1+ MB\n"
     ]
    }
   ],
   "source": [
    "df_all.info()"
   ]
  },
  {
   "cell_type": "code",
   "execution_count": 52,
   "id": "a57a7d9f-143f-4789-8912-777710307ac3",
   "metadata": {},
   "outputs": [],
   "source": [
    "from zipfile import ZipFile\n",
    "from polars as pl"
   ]
  },
  {
   "cell_type": "code",
   "execution_count": null,
   "id": "5da45976-1be1-4955-9d62-3603d2fc3c86",
   "metadata": {},
   "outputs": [],
   "source": [
    "df_11=pl.read_csv(Zipfile(\"something.zip\").read(\"my_file.csv\"))"
   ]
  }
 ],
 "metadata": {
  "kernelspec": {
   "display_name": "Python 3 (ipykernel)",
   "language": "python",
   "name": "python3"
  },
  "language_info": {
   "codemirror_mode": {
    "name": "ipython",
    "version": 3
   },
   "file_extension": ".py",
   "mimetype": "text/x-python",
   "name": "python",
   "nbconvert_exporter": "python",
   "pygments_lexer": "ipython3",
   "version": "3.10.9"
  }
 },
 "nbformat": 4,
 "nbformat_minor": 5
}
