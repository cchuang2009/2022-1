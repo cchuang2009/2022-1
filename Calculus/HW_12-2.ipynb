{
 "cells": [
  {
   "cell_type": "code",
   "execution_count": 1,
   "id": "39803d07",
   "metadata": {},
   "outputs": [],
   "source": [
    "from MultipleCalculus import *\n"
   ]
  },
  {
   "cell_type": "code",
   "execution_count": 5,
   "id": "fa9ad3c4",
   "metadata": {},
   "outputs": [
    {
     "data": {
      "text/latex": [
       "\\begin{eqnarray}\\iint_{\\Large{\\mathbf{V}}=\\left\\{\\large{\\begin{array}{l} 1 \\le x \\le 2,\\cr x \\le y \\le 2 x,\\cr\\end{array}}\\right\\}} \\color{brown}{x y} dV&=& \\iint_{\\Large{\\mathbf{V}}} \\color{brown}{x y}  d x  d y  \\cr \\color{blue}{\\text{Fubini's Theorem}}&=&\\int_{1}^{2}d{x}\\int_{x}^{2 x} \\color{brown}{x y}d{y}\\cr &=&\\int_{1}^{2} \\left.\\color{brown}{\\frac{x y^{2}}{2}} \\right|_{x}^{2 x} d{x}\\cr&=&\\int_{1}^{2} \\color{brown}{\\frac{3 x^{3}}{2}}d{x}\\cr &=&\\left. \\color{brown}{\\frac{3 x^{4}}{8}} \\right|_{1}^{2}\\cr&=&5.625\\end{eqnarray}"
      ],
      "text/plain": [
       "<IPython.core.display.Latex object>"
      ]
     },
     "execution_count": 5,
     "metadata": {},
     "output_type": "execute_result"
    }
   ],
   "source": [
    "f=x*y\n",
    "X=[x,y]\n",
    "XR=[[1,2],[x,2*x]]\n",
    "MultipleIntegral(f,X,XR)"
   ]
  },
  {
   "cell_type": "code",
   "execution_count": 12,
   "id": "b0cf7fd4",
   "metadata": {},
   "outputs": [
    {
     "data": {
      "text/latex": [
       "\\begin{eqnarray}\\iint_{\\Large{\\mathbf{V}}=\\left\\{\\large{\\begin{array}{l} 0 \\le x \\le 1,\\cr 0 \\le y \\le x,\\cr\\end{array}}\\right\\}} \\color{brown}{e^{- x^{2}}} dV&=& \\iint_{\\Large{\\mathbf{V}}} \\color{brown}{e^{- x^{2}}}  d x  d y  \\cr \\color{blue}{\\text{Fubini's Theorem}}&=&\\int_{0}^{1}d{x}\\int_{0}^{x} \\color{brown}{e^{- x^{2}}}d{y}\\cr &=&\\int_{0}^{1} \\left.\\color{brown}{y e^{- x^{2}}} \\right|_{0}^{x} d{x}\\cr&=&\\int_{0}^{1} \\color{brown}{x e^{- x^{2}}}d{x}\\cr &=&\\left. \\color{brown}{- \\frac{e^{- x^{2}}}{2}} \\right|_{0}^{1}\\cr&=&0.5 - \\frac{1}{2 e}\\end{eqnarray}"
      ],
      "text/plain": [
       "<IPython.core.display.Latex object>"
      ]
     },
     "execution_count": 12,
     "metadata": {},
     "output_type": "execute_result"
    }
   ],
   "source": [
    "f=exp(-x**2)\n",
    "X=[x,y]\n",
    "XR=[[0,1],[0,x]]\n",
    "MultipleIntegral(f,X,XR)"
   ]
  },
  {
   "cell_type": "code",
   "execution_count": null,
   "id": "b07bbc8d",
   "metadata": {},
   "outputs": [],
   "source": []
  },
  {
   "cell_type": "code",
   "execution_count": 8,
   "id": "ae3bf3c3",
   "metadata": {},
   "outputs": [
    {
     "data": {
      "text/latex": [
       "\\begin{eqnarray}\\iint_{\\Large{\\mathbf{V}}=\\left\\{\\large{\\begin{array}{l} 1 \\le x \\le 2,\\cr x \\le y \\le 2 x,\\cr\\end{array}}\\right\\}} \\color{brown}{\\frac{y}{x^{2} + y^{2}}} dV&=& \\iint_{\\Large{\\mathbf{V}}} \\color{brown}{\\frac{y}{x^{2} + y^{2}}}  d x  d y  \\cr \\color{blue}{\\text{Fubini's Theorem}}&=&\\int_{1}^{2}d{x}\\int_{x}^{2 x} \\color{brown}{\\frac{y}{x^{2} + y^{2}}}d{y}\\cr &=&\\int_{1}^{2} \\left.\\color{brown}{\\frac{\\log{\\left(x^{2} + y^{2} \\right)}}{2}} \\right|_{x}^{2 x} d{x}\\cr&=&\\int_{1}^{2} \\color{brown}{- \\frac{\\log{\\left(2 x^{2} \\right)}}{2} + \\frac{\\log{\\left(5 x^{2} \\right)}}{2}}d{x}\\cr &=&\\left. \\color{brown}{x \\left(- \\frac{\\log{\\left(2 \\right)}}{2} + \\frac{\\log{\\left(5 \\right)}}{2}\\right)} \\right|_{1}^{2}\\cr&=&- \\frac{\\log{\\left(2 \\right)}}{2} + \\frac{\\log{\\left(5 \\right)}}{2}\\end{eqnarray}"
      ],
      "text/plain": [
       "<IPython.core.display.Latex object>"
      ]
     },
     "execution_count": 8,
     "metadata": {},
     "output_type": "execute_result"
    }
   ],
   "source": [
    "#12\n",
    "f=y/(x**2+y**2)\n",
    "X=[x,y]\n",
    "XR=[[1,2],[x,2*x]]\n",
    "MultipleIntegral(f,X,XR)"
   ]
  },
  {
   "cell_type": "code",
   "execution_count": 9,
   "id": "b007bb0b",
   "metadata": {},
   "outputs": [
    {
     "data": {
      "text/latex": [
       "\\begin{eqnarray}\\iint_{\\Large{\\mathbf{V}}=\\left\\{\\large{\\begin{array}{l} 0 \\le x \\le 2,\\cr 0 \\le y \\le 4 - x^{2},\\cr\\end{array}}\\right\\}} \\color{brown}{4 - x^{2}} dV&=& \\iint_{\\Large{\\mathbf{V}}} \\color{brown}{4 - x^{2}}  d x  d y  \\cr \\color{blue}{\\text{Fubini's Theorem}}&=&\\int_{0}^{2}d{x}\\int_{0}^{4 - x^{2}} \\color{brown}{4 - x^{2}}d{y}\\cr &=&\\int_{0}^{2} \\left.\\color{brown}{y \\left(4 - x^{2}\\right)} \\right|_{0}^{4 - x^{2}} d{x}\\cr&=&\\int_{0}^{2} \\color{brown}{\\left(4 - x^{2}\\right)^{2}}d{x}\\cr &=&\\left. \\color{brown}{\\frac{x^{5}}{5} - \\frac{8 x^{3}}{3} + 16 x} \\right|_{0}^{2}\\cr&=&17.0666666666667\\end{eqnarray}"
      ],
      "text/plain": [
       "<IPython.core.display.Latex object>"
      ]
     },
     "execution_count": 9,
     "metadata": {},
     "output_type": "execute_result"
    }
   ],
   "source": [
    "#27\n",
    "f=4-x**2\n",
    "X=[x,y]\n",
    "XR=[[0,2],[0,4-x**2]]\n",
    "MultipleIntegral(f,X,XR)"
   ]
  },
  {
   "cell_type": "code",
   "execution_count": 13,
   "id": "fdd1a7bc",
   "metadata": {},
   "outputs": [
    {
     "data": {
      "text/latex": [
       "\\begin{eqnarray}\\iint_{\\Large{\\mathbf{V}}=\\left\\{\\large{\\begin{array}{l} 0 \\le x \\le 0.5,\\cr 0 \\le y \\le 2 x,\\cr\\end{array}}\\right\\}} \\color{brown}{e^{- x^{2}}} dV&=& \\iint_{\\Large{\\mathbf{V}}} \\color{brown}{e^{- x^{2}}}  d x  d y  \\cr \\color{blue}{\\text{Fubini's Theorem}}&=&\\int_{0}^{0.5}d{x}\\int_{0}^{2 x} \\color{brown}{e^{- x^{2}}}d{y}\\cr &=&\\int_{0}^{0.5} \\left.\\color{brown}{y e^{- x^{2}}} \\right|_{0}^{2 x} d{x}\\cr&=&\\int_{0}^{0.5} \\color{brown}{2 x e^{- x^{2}}}d{x}\\cr &=&\\left. \\color{brown}{- e^{- x^{2}}} \\right|_{0}^{0.5}\\cr&=&0.221199216928595\\end{eqnarray}"
      ],
      "text/plain": [
       "<IPython.core.display.Latex object>"
      ]
     },
     "execution_count": 13,
     "metadata": {},
     "output_type": "execute_result"
    }
   ],
   "source": [
    "#33 change variable, 0<=y<=1, y/2<=x<=1/2\n",
    "f=exp(-x**2)\n",
    "X=[x,y]\n",
    "XR=[[0,1/2],[0,2*x]]\n",
    "MultipleIntegral(f,X,XR)"
   ]
  },
  {
   "cell_type": "code",
   "execution_count": 15,
   "id": "78c9961e",
   "metadata": {},
   "outputs": [
    {
     "data": {
      "text/latex": [
       "\\begin{eqnarray}\\iint_{\\Large{\\mathbf{V}}=\\left\\{\\large{\\begin{array}{l} -2 \\le y \\le 2,\\cr - \\sqrt{4 - y^{2}} \\le x \\le \\sqrt{4 - y^{2}},\\cr\\end{array}}\\right\\}} \\color{brown}{\\sqrt{4 - y^{2}}} dV&=& \\iint_{\\Large{\\mathbf{V}}} \\color{brown}{\\sqrt{4 - y^{2}}}  d y  d x  \\cr \\color{blue}{\\text{Fubini's Theorem}}&=&\\int_{-2}^{2}d{y}\\int_{- \\sqrt{4 - y^{2}}}^{\\sqrt{4 - y^{2}}} \\color{brown}{\\sqrt{4 - y^{2}}}d{x}\\cr &=&\\int_{-2}^{2} \\left.\\color{brown}{x \\sqrt{4 - y^{2}}} \\right|_{- \\sqrt{4 - y^{2}}}^{\\sqrt{4 - y^{2}}} d{y}\\cr&=&\\int_{-2}^{2} \\color{brown}{8 - 2 y^{2}}d{y}\\cr &=&\\left. \\color{brown}{- \\frac{2 y^{3}}{3} + 8 y} \\right|_{-2}^{2}\\cr&=&21.3333333333333\\end{eqnarray}"
      ],
      "text/plain": [
       "<IPython.core.display.Latex object>"
      ]
     },
     "execution_count": 15,
     "metadata": {},
     "output_type": "execute_result"
    }
   ],
   "source": [
    "#34 change variable, x**2+y**2<=4\n",
    "f=sqrt(4-y**2)\n",
    "X=[y,x]\n",
    "XR=[[-2,2],[-sqrt(4-y**2),sqrt(4-y**2)]]\n",
    "MultipleIntegral(f,X,XR)"
   ]
  },
  {
   "cell_type": "code",
   "execution_count": 17,
   "id": "b1c1f9bc",
   "metadata": {},
   "outputs": [
    {
     "data": {
      "text/latex": [
       "\\begin{eqnarray}\\iint_{\\Large{\\mathbf{V}}=\\left\\{\\large{\\begin{array}{l} 0 \\le y \\le 4,\\cr 0 \\le x \\le \\frac{y}{2},\\cr\\end{array}}\\right\\}} \\color{brown}{\\sin{\\left(y^{2} \\right)}} dV&=& \\iint_{\\Large{\\mathbf{V}}} \\color{brown}{\\sin{\\left(y^{2} \\right)}}  d y  d x  \\cr \\color{blue}{\\text{Fubini's Theorem}}&=&\\int_{0}^{4}d{y}\\int_{0}^{\\frac{y}{2}} \\color{brown}{\\sin{\\left(y^{2} \\right)}}d{x}\\cr &=&\\int_{0}^{4} \\left.\\color{brown}{x \\sin{\\left(y^{2} \\right)}} \\right|_{0}^{\\frac{y}{2}} d{y}\\cr&=&\\int_{0}^{4} \\color{brown}{\\frac{y \\sin{\\left(y^{2} \\right)}}{2}}d{y}\\cr &=&\\left. \\color{brown}{- \\frac{\\cos{\\left(y^{2} \\right)}}{4}} \\right|_{0}^{4}\\cr&=&0.25 - \\frac{\\cos{\\left(16 \\right)}}{4}\\end{eqnarray}"
      ],
      "text/plain": [
       "<IPython.core.display.Latex object>"
      ]
     },
     "execution_count": 17,
     "metadata": {},
     "output_type": "execute_result"
    }
   ],
   "source": [
    "#34 change variable, x \\in[0,2], y in [2x,4]\n",
    "f=sin(y**2)\n",
    "X=[y,x]\n",
    "XR=[[0,4],[0,y/2]]\n",
    "MultipleIntegral(f,X,XR)"
   ]
  },
  {
   "cell_type": "code",
   "execution_count": 18,
   "id": "be88e3a9",
   "metadata": {},
   "outputs": [
    {
     "data": {
      "text/latex": [
       "\\begin{eqnarray}\\iint_{\\Large{\\mathbf{V}}=\\left\\{\\large{\\begin{array}{l} 0 \\le y \\le 2,\\cr 0 \\le x \\le \\sqrt{2} \\sqrt{y},\\cr\\end{array}}\\right\\}} \\color{brown}{\\sqrt{y} \\cos{\\left(y \\right)}} dV&=& \\iint_{\\Large{\\mathbf{V}}} \\color{brown}{\\sqrt{y} \\cos{\\left(y \\right)}}  d y  d x  \\cr \\color{blue}{\\text{Fubini's Theorem}}&=&\\int_{0}^{2}d{y}\\int_{0}^{\\sqrt{2} \\sqrt{y}} \\color{brown}{\\sqrt{y} \\cos{\\left(y \\right)}}d{x}\\cr &=&\\int_{0}^{2} \\left.\\color{brown}{x \\sqrt{y} \\cos{\\left(y \\right)}} \\right|_{0}^{\\sqrt{2} \\sqrt{y}} d{y}\\cr&=&\\int_{0}^{2} \\color{brown}{\\sqrt{2} y \\cos{\\left(y \\right)}}d{y}\\cr &=&\\left. \\color{brown}{\\sqrt{2} \\left(y \\sin{\\left(y \\right)} + \\cos{\\left(y \\right)}\\right)} \\right|_{0}^{2}\\cr&=&- \\sqrt{2} + \\sqrt{2} \\left(\\cos{\\left(2 \\right)} + 2 \\sin{\\left(2 \\right)}\\right)\\end{eqnarray}"
      ],
      "text/plain": [
       "<IPython.core.display.Latex object>"
      ]
     },
     "execution_count": 18,
     "metadata": {},
     "output_type": "execute_result"
    }
   ],
   "source": [
    "#35 change variable, x \\in[0,2], y in [x^2/2,2]\n",
    "f=sqrt(y)*cos(y)\n",
    "X=[y,x]\n",
    "XR=[[0,2],[0,sqrt(2*y)]]\n",
    "MultipleIntegral(f,X,XR)"
   ]
  },
  {
   "cell_type": "code",
   "execution_count": null,
   "id": "2e21ff0c",
   "metadata": {},
   "outputs": [],
   "source": []
  },
  {
   "cell_type": "code",
   "execution_count": 11,
   "id": "da6f7bc3",
   "metadata": {},
   "outputs": [
    {
     "data": {
      "text/latex": [
       "\\begin{eqnarray}\\iint_{\\Large{\\mathbf{V}}=\\left\\{\\large{\\begin{array}{l} 0 \\le x \\le a,\\cr 0 \\le y \\le b \\left(1 - \\frac{x}{a}\\right),\\cr\\end{array}}\\right\\}} \\color{brown}{c \\left(1 - \\frac{y}{b} - \\frac{x}{a}\\right)} dV&=& \\iint_{\\Large{\\mathbf{V}}} \\color{brown}{c \\left(1 - \\frac{y}{b} - \\frac{x}{a}\\right)}  d x  d y  \\cr \\color{blue}{\\text{Fubini's Theorem}}&=&\\int_{0}^{a}d{x}\\int_{0}^{b \\left(1 - \\frac{x}{a}\\right)} \\color{brown}{c \\left(1 - \\frac{y}{b} - \\frac{x}{a}\\right)}d{y}\\cr &=&\\int_{0}^{a} \\left.\\color{brown}{- \\frac{c y^{2}}{2 b} + \\frac{y \\left(a c - c x\\right)}{a}} \\right|_{0}^{b \\left(1 - \\frac{x}{a}\\right)} d{x}\\cr&=&\\int_{0}^{a} \\color{brown}{- \\frac{b c \\left(1 - \\frac{x}{a}\\right)^{2}}{2} + \\frac{b \\left(1 - \\frac{x}{a}\\right) \\left(a c - c x\\right)}{a}}d{x}\\cr &=&\\left. \\color{brown}{\\frac{b c x}{2} - \\frac{b c x^{2}}{2 a} + \\frac{b c x^{3}}{6 a^{2}}} \\right|_{0}^{a}\\cr&=&\\frac{a b c}{6}\\end{eqnarray}"
      ],
      "text/plain": [
       "<IPython.core.display.Latex object>"
      ]
     },
     "execution_count": 11,
     "metadata": {},
     "output_type": "execute_result"
    }
   ],
   "source": [
    "#46\n",
    "f=c*(1-x/a-y/b)\n",
    "X=[x,y]\n",
    "XR=[[0,a],[0,b*(1-x/a)]]\n",
    "MultipleIntegral(f,X,XR)"
   ]
  },
  {
   "cell_type": "code",
   "execution_count": null,
   "id": "7bee9cd1",
   "metadata": {},
   "outputs": [],
   "source": []
  }
 ],
 "metadata": {
  "hide_input": false,
  "kernelspec": {
   "display_name": "Python 3",
   "language": "python",
   "name": "python3"
  },
  "language_info": {
   "codemirror_mode": {
    "name": "ipython",
    "version": 3
   },
   "file_extension": ".py",
   "mimetype": "text/x-python",
   "name": "python",
   "nbconvert_exporter": "python",
   "pygments_lexer": "ipython3",
   "version": "3.8.5"
  }
 },
 "nbformat": 4,
 "nbformat_minor": 5
}
