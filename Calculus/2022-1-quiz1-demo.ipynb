{
 "cells": [
  {
   "cell_type": "markdown",
   "id": "6091a6cd",
   "metadata": {},
   "source": [
    "Example\n",
    "---\n",
    "Suppose that $f(x)=x^4+4x^3$ for $x\\in[-4,4]$.\n",
    "1. critical points:\n",
    "\\begin{eqnarray}\\large{f'(x)=0}& \\large{\\Rightarrow}&\\large{4 x^{3} + 12 x^{2}=0 }\\cr &\\large{\\Rightarrow}&\\large{4 x^{2} \\left(x + 3\\right)=0} \\cr&\\large{\\Rightarrow}&\\large{ x= \\mathtt{\\text{ -3, 0,}}}\\end{eqnarray}\n",
    "2. Monotonicity:\n",
    " - $f'>0\\Rightarrow f$ increasion: for $x\\in(-4,-3)\\cup(0,4)$.\n",
    " - $f'<0\\Rightarrow f$ decreasion: for $x\\in(-3,0)$.\n",
    "3.  $\\large{f''(x)=12 x^{2} + 24 x=12 x \\left(x + 2\\right)}$\n",
    "4. Concavity:\n",
    " - $f''(x)>0\\Rightarrow f$ concave upwards: $x\\in(-4,-2)\\cup(0,4)$;\n",
    " - $f''(x)<0\\Rightarrow f$ concave downwards: $x\\in(-2,0)$;\n",
    "5. Extrema: Compare the function values at the critical points and boundary points: $x=-4,-3,0,4$:\n",
    "$$ f(-4)=0,f(-3)=-27,f(0)=0,f(4)=512$$.\n",
    "Therefor, Maximum = $512$, Minimum = $-27$."
   ]
  },
  {
   "cell_type": "code",
   "execution_count": 9,
   "id": "20fc7b2c",
   "metadata": {},
   "outputs": [],
   "source": [
    "import numpy as np\n",
    "import matplotlib.pyplot as plt\n",
    "\n",
    "%matplotlib inline"
   ]
  },
  {
   "cell_type": "code",
   "execution_count": 14,
   "id": "47a9e32f",
   "metadata": {},
   "outputs": [
    {
     "data": {
      "text/plain": [
       "[<matplotlib.lines.Line2D at 0x7f9fcd3d69d0>]"
      ]
     },
     "execution_count": 14,
     "metadata": {},
     "output_type": "execute_result"
    },
    {
     "data": {
      "image/png": "[encoded data removed]",
      "text/plain": [
       "<Figure size 432x288 with 1 Axes>"
      ]
     },
     "metadata": {
      "needs_background": "light"
     },
     "output_type": "display_data"
    }
   ],
   "source": [
    "x= np.linspace(-4,4,101)\n",
    "plt.plot(x,x**4+4*x**3)"
   ]
  },
  {
   "cell_type": "code",
   "execution_count": null,
   "id": "47952d4a",
   "metadata": {},
   "outputs": [],
   "source": []
  }
 ],
 "metadata": {
  "kernelspec": {
   "display_name": "Python 3",
   "language": "python",
   "name": "python3"
  },
  "language_info": {
   "codemirror_mode": {
    "name": "ipython",
    "version": 3
   },
   "file_extension": ".py",
   "mimetype": "text/x-python",
   "name": "python",
   "nbconvert_exporter": "python",
   "pygments_lexer": "ipython3",
   "version": "3.8.5"
  }
 },
 "nbformat": 4,
 "nbformat_minor": 5
}
