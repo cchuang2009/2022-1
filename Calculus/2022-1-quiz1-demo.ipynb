{
 "cells": [
  {
   "cell_type": "markdown",
   "id": "6091a6cd",
   "metadata": {},
   "source": [
    "Example\n",
    "---\n",
    "Suppose that $f(x)=x^4+4x^3$ for $x\\in[-4,4]$.\n",
    "1. critical points:\n",
    "\\begin{eqnarray}\\large{f'(x)=0}& \\large{\\Rightarrow}&\\large{4 x^{3} + 12 x^{2}=0 }\\cr &\\large{\\Rightarrow}&\\large{4 x^{2} \\left(x + 3\\right)=0} \\cr&\\large{\\Rightarrow}&\\large{ x= \\mathtt{\\text{ -3, 0,}}}\\end{eqnarray}\n",
    "2. Monotonicity:\n",
    " - $f'>0\\Rightarrow f$ increasion: for $x\\in(-3,4)$.\n",
    " - $f'<0\\Rightarrow f$ decreasion: for $x\\in(-4,-3)$.\n",
    "3.  $\\large{f''(x)=12 x^{2} + 24 x=12 x \\left(x + 2\\right)}$\n",
    "4. Concavity:\n",
    " - $f''(x)>0\\Rightarrow f$ concave upwards: $x\\in(-4,-2)\\cup(0,4)$;\n",
    " - $f''(x)<0\\Rightarrow f$ concave downwards: $x\\in(-2,0)$;\n",
    "5. Extrema: Compare the function values at the critical points and boundary points: $x=-4,-3,0,4$:\n",
    "$$ f(-4)=0,f(-3)=-27,f(0)=0,f(4)=512$$.\n",
    "Therefor, Maximum = $512$, Minimum = $-27$."
   ]
  },
  {
   "cell_type": "code",
   "execution_count": 9,
   "id": "20fc7b2c",
   "metadata": {},
   "outputs": [],
   "source": [
    "import numpy as np\n",
    "import matplotlib.pyplot as plt\n",
    "\n",
    "%matplotlib inline"
   ]
  },
  {
   "cell_type": "code",
   "execution_count": 14,
   "id": "47a9e32f",
   "metadata": {},
   "outputs": [
    {
     "data": {
      "text/plain": [
       "[<matplotlib.lines.Line2D at 0x7f9fcd3d69d0>]"
      ]
     },
     "execution_count": 14,
     "metadata": {},
     "output_type": "execute_result"
    },
    {
     "data": {
      "image/png": "[encoded data removed]",
      "text/plain": [
       "<Figure size 432x288 with 1 Axes>"
      ]
     },
     "metadata": {
      "needs_background": "light"
     },
     "output_type": "display_data"
    }
   ],
   "source": [
    "x= np.linspace(-4,4,101)\n",
    "plt.plot(x,x**4+4*x**3)"
   ]
  },
  {
   "cell_type": "code",
   "execution_count": 13,
   "id": "47952d4a",
   "metadata": {},
   "outputs": [],
   "source": [
    "# Symbolic computation with  Latex Output\n",
    "from IPython.display import HTML,Latex\n",
    "from sympy import symbols,pprint,integrate,diff,latex,limit,simplify,Matrix,Abs,Ei,Ne,solve,Function,fraction\n",
    "from sympy import pi,sqrt,sin,cos,log,tan,cot,sec,csc,exp,oo,E,tan,Piecewise,asin,atan,erf,erfc,E\n",
    "from sympy import solveset,cancel,factor,S,Interval\n",
    "from sympy.solvers.inequalities import solve_univariate_inequality\n",
    "\n",
    "x=symbols(\"x\",real=True)\n",
    "\n",
    "# find critical values\n",
    "\n",
    "def Criticals(f_,x_,rational=False,BC=[]):\n",
    "    \"\"\"\n",
    "    Criticals(f_,x_,rational=False)\n",
    "    Inputs\n",
    "       f_: function\n",
    "       x_: variable\n",
    "       rational: False (or True)\n",
    "                 whether rational function is computered here  \n",
    "    Output\n",
    "       critical values (list)\n",
    "    \"\"\"\n",
    "    f=f_\n",
    "    x=x_\n",
    "    text=\"Functions:  $$\\large{\\quad f(x) = %s}$$\" %(latex(f_))\n",
    "    \n",
    "    if rational:\n",
    "       d1= simplify(cancel(diff(f_,x_)))\n",
    "       n,d= fraction(d1)\n",
    "       sols=solve(n,x_)+solve(d,x_)\n",
    "    else:\n",
    "       d1=diff(f_,x_)\n",
    "       \n",
    "       sols=solve(d1,x_)\n",
    "    \n",
    "    sols=sols+BC\n",
    "    sols.sort()\n",
    "    print(\"Critical Points of f(x)=%s: %s \" %(f_,sols))\n",
    "         \n",
    "    return  sols\n",
    "\n",
    "def extrema_BI(f_,x_,c_):\n",
    "    \"\"\"\n",
    "    extrema_BI(f_,c_)\n",
    "    Input:\n",
    "       f_: function\n",
    "       x_: variable\n",
    "       c_: list of critical values\n",
    "    Print out possible minimum and maximum\n",
    "    \"\"\"\n",
    "    p_=[]\n",
    "    text=\"<big>Extrema of $\\large{%s}$:\" %(latex((f_)))\n",
    "    #print(\"Extrema of {}\\n---\".format(latex((f_))))\n",
    "    text=text+\"<br>---<br>\"\n",
    "    for c in c_:\n",
    "        pval=f_.subs({x_:c})\n",
    "        #print(\"at x={}, f(x)={}\".format(c,pval))\n",
    "        text=text+\" $$\\large{\\circ \\quad f(x)=%s \\\\text{ at }x=%s}$$\" %(latex(pval),latex(c))                    \n",
    "        p_.append(pval)\n",
    "        #print(p_)\n",
    "    text=text+\"<br>---<br>\"    \n",
    "    text=text+\"Maximum is $\\large{%s}$, and Minimum is $\\large{%s}$. \" %(latex(max(p_)),latex(min(p_)))\n",
    "    #print(\"---\\nMaximum is {}, and Minimum is {}\".format(max(p_),min(p_))) \n",
    "    return HTML(text)\n",
    "\n",
    "# diff_app\n",
    "def diff_app(f_,x_,rational=False,BC=[]):\n",
    "    \"\"\"\n",
    "    diff_app(f_,x_,rational=False)\n",
    "    Inputs\n",
    "       f_: function\n",
    "       x_: variable\n",
    "       rational: False (or True)\n",
    "                 whether rational function is computered here  \n",
    "    Print out\n",
    "       f',f'', critical values, monotonicity and concavity\n",
    "    \"\"\"\n",
    "    f=f_\n",
    "    x=x_\n",
    "    if (BC==[]):\n",
    "       text=\"Functions:  $$\\large{\\quad f(x) = %s}$$\" %(latex(f_))\n",
    "    else:\n",
    "       text=\"Functions:  $$\\large{\\quad f(x) = %s\\\\text{ on } [%s,%s]}$$\" %(latex(f_),latex(BC[0]),latex(BC[1])) \n",
    "    \n",
    "    if rational:\n",
    "       d1= simplify(cancel(diff(f_,x_)))\n",
    "       n,d= fraction(d1)\n",
    "       sols=solve(n,x_)+solve(d,x_)\n",
    "       d22=simplify(cancel(diff(f_,x_,2)))\n",
    "       n_,d_=fraction(cancel(diff(f_,x_,2)))\n",
    "        \n",
    "       d2=cancel(n_*d_)\n",
    "    else:\n",
    "       d1=diff(f_,x_)\n",
    "       d2=diff(f_,x_,2)\n",
    "       d22= diff(f_,x_,2)\n",
    "       sols=solve(diff(f_,x_),x_)\n",
    "    \n",
    "    \n",
    "    text=text+\"1. Critical Points: \"\n",
    "    \n",
    "    if (len(sols)>0):\n",
    "       criticals=\"\"\n",
    "       sols.sort()\n",
    "       for sol in sols:\n",
    "          criticals=criticals+\" %s,\" %latex(sol)\n",
    "  \n",
    "    # Critical points\n",
    "    if (len(sols)>0):\n",
    "           #for sol in sols: \n",
    "           text=text+\"\\\\begin{eqnarray}\"\n",
    "           text=text+ \\\n",
    "                \"\\large{f'(x)=0}& \\large{\\Rightarrow}&\\large{%s=0 }\\cr\" %(latex(d1))\n",
    "           d11=factor(d1)\n",
    "           text=text+ \\\n",
    "                \" &\\large{\\Rightarrow}&\\large{%s=0} \\cr\" %(latex(d11))            \n",
    "           text=text+ \\\n",
    "                \"&\\large{\\Rightarrow}&\\large{ x= %s}\" %(latex(criticals))\n",
    "           #text=text+\" $%s$,\" %latex(sols )\n",
    "           text=text+\"\\end{eqnarray}\"\n",
    "    else:\n",
    "      text=text+\"$$\\large{f'=%s=0\\Rightarrow\\\\text{ no critical point exists.}}$$\" %latex(d1)\n",
    "    \n",
    "    \n",
    "    text=text+\"$$\\large{f''(x)=%s=%s}$$\" %(latex(diff(d1,x_)),latex(factor(d22)))\n",
    "    # Monotoncity\n",
    "    \n",
    "    if (solve(diff(f_,x_)>0)!=[]):\n",
    "       if BC!=[]:\n",
    "          domain = Interval(BC[0],BC[1])\n",
    "          incr= solve_univariate_inequality(diff(f_,x)>0, x,False,domain)  \n",
    "       else:\n",
    "           incr= solve_univariate_inequality(diff(f_,x)>0, x, relational=False)\n",
    "       #increasing=latex(solve(diff(f_,x)>0)) \n",
    "       increasing=latex(incr) \n",
    "    else:\n",
    "        increasing=\"\"\n",
    "    if (solve(diff(f_,x_)<0)!=[]):\n",
    "       if BC!=[]:\n",
    "          domain = Interval(BC[0],BC[1])\n",
    "          decr = solve_univariate_inequality(diff(f_,x)<0, x, False,domain)            \n",
    "       else: \n",
    "          decr = solve_univariate_inequality(diff(f_,x)<0, x, relational=False)\n",
    "       #decreasing=latex(solve(diff(f_,x_)<0)) \n",
    "       decreasing=latex(decr)  \n",
    "    else:\n",
    "        decreasing=\"\"\n",
    "    \n",
    "    text=text+\"2. Increasing or Decreasing:\"\n",
    "    \n",
    "    text=text+\"\\\\begin{eqnarray}\"\n",
    "    if increasing!=\"\":\n",
    "       text=text+ \\\n",
    "        \"&\\quad\\\\text{a) Increasing, }f'(x)>0, \\\\text{ at }&%s\\cr\" %increasing\n",
    "    else:\n",
    "       text=text+ \\\n",
    "        \"&\\quad\\\\text{a) No $x$ Increasing, i.e }f'(x)\\le0 \\cr\"\n",
    "    if decreasing!=\"\":\n",
    "       text=text+ \\\n",
    "        \"&\\quad\\\\text{b) Decreasing, }f'(x)<0, \\\\text{ at }&%s\\cr\" %decreasing\n",
    "    else:\n",
    "       text=text+ \\\n",
    "        \"&\\quad\\\\text{b) No $x$ Decreasing, i.e }f'(x)\\ge0 \\cr\" \n",
    "    text=text+\"\\\\end{eqnarray}\"\n",
    "    #text=\"\\\\begin{eqnarray}\"  \n",
    "    \n",
    "    # Concavity\n",
    "    \n",
    "    if (solve(d2>0)!=[]):\n",
    "       if BC!=[]:\n",
    "          domain = Interval(BC[0],BC[1])\n",
    "          up=solve_univariate_inequality(d2>0, x,False,domain)             \n",
    "       else:     \n",
    "          up=solve_univariate_inequality(d2>0, x, relational=False) \n",
    "       #up=latex(solve(d2>0)) \n",
    "    else:\n",
    "        up=\"\"\n",
    "    if (solve(d2<0)!=[]):\n",
    "        if BC!=[]:\n",
    "          domain = Interval(BC[0],BC[1])\n",
    "          down=solve_univariate_inequality(d2<0, x,False,domain)             \n",
    "        else:\n",
    "          down=solve_univariate_inequality(d2<0, x, relational=False)\n",
    "       #down=latex(solve(d2<0)) \n",
    "    else:\n",
    "        down=\"\"\n",
    "    \n",
    "    text=text+\"3. Concave Upwards or Downwards:\"\n",
    "    \n",
    "    text=text+\"\\\\begin{eqnarray}\"\n",
    "    if up!=\"\":\n",
    "       text=text+ \\\n",
    "        \"&\\quad\\\\text{a) Concave Upwards, }f''(x)>0, \\\\text{ at }&%s\\cr\" %latex(up)\n",
    "    else:\n",
    "       text=text+ \\\n",
    "        \"&\\quad\\\\text{a) No $x$ Concave Upwards, i.e }f''(x)\\le0 \\cr\"\n",
    "    if down!=\"\":\n",
    "       text=text+ \\\n",
    "        \"&\\quad\\\\text{b) Concave Downwards, }f''(x)<0, \\\\text{ at }&%s\\cr\" %latex(down)\n",
    "    else:\n",
    "       text=text+ \\\n",
    "        \"&\\quad\\\\text{b) No $x$  Concave Downwards, i.e }f''(x)\\ge0 \\cr\" \n",
    "    text=text+\"\\\\end{eqnarray}\"\n",
    "    \n",
    "   \n",
    "    #text=\"\\end{eqnarray}\"\n",
    "    return(Latex(text))                         "
   ]
  },
  {
   "cell_type": "code",
   "execution_count": 14,
   "id": "8b1dbfd7",
   "metadata": {},
   "outputs": [
    {
     "data": {
      "text/latex": [
       "Functions:  $$\\large{\\quad f(x) = x^{4} + 4 x^{3}\\text{ on } [-4,4]}$$1. Critical Points: \\begin{eqnarray}\\large{f'(x)=0}& \\large{\\Rightarrow}&\\large{4 x^{3} + 12 x^{2}=0 }\\cr &\\large{\\Rightarrow}&\\large{4 x^{2} \\left(x + 3\\right)=0} \\cr&\\large{\\Rightarrow}&\\large{ x= \\mathtt{\\text{ -3, 0,}}}\\end{eqnarray}$$\\large{f''(x)=12 x^{2} + 24 x=12 x \\left(x + 2\\right)}$$2. Increasing or Decreasing:\\begin{eqnarray}&\\quad\\text{a) Increasing, }f'(x)>0, \\text{ at }&\\left(-3, 0\\right) \\cup \\left(0, 4\\right]\\cr&\\quad\\text{b) Decreasing, }f'(x)<0, \\text{ at }&\\left[-4, -3\\right)\\cr\\end{eqnarray}3. Concave Upwards or Downwards:\\begin{eqnarray}&\\quad\\text{a) Concave Upwards, }f''(x)>0, \\text{ at }&\\left[-4, -2\\right) \\cup \\left(0, 4\\right]\\cr&\\quad\\text{b) Concave Downwards, }f''(x)<0, \\text{ at }&\\left(-2, 0\\right)\\cr\\end{eqnarray}"
      ],
      "text/plain": [
       "<IPython.core.display.Latex object>"
      ]
     },
     "execution_count": 14,
     "metadata": {},
     "output_type": "execute_result"
    }
   ],
   "source": [
    "f=x**4+4*x**3\n",
    "diff_app(f,x,BC=[-4,4])"
   ]
  },
  {
   "cell_type": "code",
   "execution_count": 18,
   "id": "14ae777d",
   "metadata": {},
   "outputs": [
    {
     "name": "stdout",
     "output_type": "stream",
     "text": [
      "Critical Points of f(x)=x**4 + 4*x**3: [-4, -3, 0, 4] \n"
     ]
    }
   ],
   "source": [
    "C=Criticals(f,x,rational=False,BC=[-4,4])"
   ]
  },
  {
   "cell_type": "code",
   "execution_count": 19,
   "id": "4077b384",
   "metadata": {},
   "outputs": [
    {
     "data": {
      "text/html": [
       "<big>Extrema of $\\large{x^{4} + 4 x^{3}}$:<br>---<br> $$\\large{\\circ \\quad f(x)=0 \\text{ at }x=-4}$$ $$\\large{\\circ \\quad f(x)=-27 \\text{ at }x=-3}$$ $$\\large{\\circ \\quad f(x)=0 \\text{ at }x=0}$$ $$\\large{\\circ \\quad f(x)=512 \\text{ at }x=4}$$<br>---<br>Maximum is $\\large{512}$, and Minimum is $\\large{-27}$. "
      ],
      "text/plain": [
       "<IPython.core.display.HTML object>"
      ]
     },
     "execution_count": 19,
     "metadata": {},
     "output_type": "execute_result"
    }
   ],
   "source": [
    "extrema_BI(f,x,C)"
   ]
  },
  {
   "cell_type": "code",
   "execution_count": null,
   "id": "9957528a",
   "metadata": {},
   "outputs": [],
   "source": []
  }
 ],
 "metadata": {
  "kernelspec": {
   "display_name": "Python 3",
   "language": "python",
   "name": "python3"
  },
  "language_info": {
   "codemirror_mode": {
    "name": "ipython",
    "version": 3
   },
   "file_extension": ".py",
   "mimetype": "text/x-python",
   "name": "python",
   "nbconvert_exporter": "python",
   "pygments_lexer": "ipython3",
   "version": "3.8.5"
  }
 },
 "nbformat": 4,
 "nbformat_minor": 5
}
