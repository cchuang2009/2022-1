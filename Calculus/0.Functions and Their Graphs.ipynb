{
 "cells": [
  {
   "cell_type": "markdown",
   "metadata": {},
   "source": [
    "<H1> Calculus 2022-1</H1>\n",
    "\n",
    "Traditional  curriculum\n",
    "---\n",
    "- Quizzes: 3 quizzes \n",
    "  1. Fundamentals of Pre-Calculus (10%)\n",
    "  2. Differentiation (30%)\n",
    "  3. Integration (30%)\n",
    "- Homework and Course Participation (30%)\n",
    "\n",
    "\n",
    "- **Textbook**: Larson and Edwards: Essential Calculus 4rd Ed., Cengage Learning, 2018.\n",
    "- Office Time: 12:00~13:00, Tue and Wed,\n",
    "\n",
    "Link\n",
    "---\n",
    "1. [Math- On-Line Assessment](), not <font color=\"red\">Opened</font> till semester begins.\n",
    "<details>\n",
    "<summary>\n",
    " <a class=\"btnfire small stroke\"><em class=\"fas fa-chevron-circle-down\"></em>\n",
    "    <font size=\"4em\"> MM-111</font>\n",
    "  </a>    \n",
    "</summary>\n",
    "Regist an account by your series-number, for instance: <br>\n",
    "Username:  <b>B1043000</b><br>\n",
    "Passwords: ... <br>    \n",
    "First Name: <b>B1043000</b><br>\n",
    "Last Name: <b>(your name or nickname)<b><br>\n",
    "<br>    \n",
    "Course ID: <font color=\"red\">14 </font><br>\n",
    "Course name: <font color=\"red\">Calculus-MM-110</font><br>\n",
    "Enro\\llment key: <font color=\"red\">Gundam-f88<font><br>  \n",
    "</details>\n",
    "<details>\n",
    "<summary>\n",
    " <a class=\"btnfire small stroke\"><em class=\"fas fa-chevron-circle-down\"></em>\n",
    "    <font size=\"4em\"> IE and AI - 111</font>\n",
    "  </a>    \n",
    "</summary>\n",
    "Regist an account by your series-number, for instance: <br>\n",
    "Username:  <b>B1029000</b><br>\n",
    "Passwords: ... <br> \n",
    "First Name: <b>B1029000</b><br>\n",
    "Last Name: <b>(your name or nickname)<b><br>\n",
    "<br>    \n",
    "Course ID: <font color=\"red\">13 </font><br>\n",
    "Course name: <font color=\"red\">Calculus-IE-110</font><br>\n",
    "Enro\\llment key: <font color=\"red\">F88<font><br>  \n",
    "</details>\n",
    "\n",
    "\n",
    "\n",
    "2. Lectures Site, https://math.cgu.edu.tw/lectures/index-1.html\n",
    "\n",
    "\n",
    "Required\n",
    "---\n",
    "Learning at the moment, we have some best tools to make learning more efficiently; Python has been lead into our learning system with which you could do calculuation and make visualisation. To get better support, YOU have to install \n",
    "- Anconda, https://www.anaconda.com/products/individual-d\n",
    "and run all the our lectures flawless."
   ]
  },
  {
   "cell_type": "markdown",
   "metadata": {},
   "source": [
    "Functions\n",
    "---\n",
    "A **function** from set $A\\in\\mathbb{R}$ to set $B$ is an assign rule for each $x$ in $A$ if and only if to one $y$ in $B\\in\\mathbb{R}$:\n",
    "\n",
    "where\n",
    "1. $\\mathbb{R}=$ set of all real numbers, so-called real set.\n",
    "2. From now on, a number is a *real* number if not specified.\n",
    "\n",
    "\n",
    "Kind of Functions\n",
    "---\n",
    "1. Power functions: $x^r$\n",
    "2. Polynomials:  $\\sum\\limits_{k=0}^n a_kx^k=a_0+a_1x+a_2x^2+\\cdots+a_nx^n$, where  $a_k,k=0,1,2,\\cdots,n$ are constants. \n",
    "3. Rational functions: $Q(x)=P_1(x)/P_2(x)$ where $P_1(x),P_2(x)$ are polynomials.\n",
    "4. Trigonometric functions, $\\sin x,\\cos x,\\tan x, \\cot x, \\sec x, \\csc x$.\n",
    "5. Exponential and logarithm functions, $ \\exp(x),\\log(x)$. "
   ]
  },
  {
   "cell_type": "code",
   "execution_count": 1,
   "metadata": {
    "code_folding": []
   },
   "outputs": [],
   "source": [
    "# import packages\n",
    "from sympy import symbols,pprint,integrate,diff,latex,limit,simplify,Matrix,Abs,Ei,erf,erfc,E,Ne,solve\n",
    "from sympy import pi,sqrt,sin,cos,log,exp,oo,E,tan,Piecewise,asin,atan\n",
    "# prepare for Latex Output\n",
    "from IPython.display import HTML,Latex\n",
    "\n",
    "from sympy.abc import rho,theta,phi"
   ]
  },
  {
   "cell_type": "code",
   "execution_count": 2,
   "metadata": {
    "code_folding": []
   },
   "outputs": [],
   "source": [
    "# symbolic variable declared\n",
    "x,y = symbols('x y')\n"
   ]
  },
  {
   "cell_type": "code",
   "execution_count": 47,
   "metadata": {
    "code_folding": []
   },
   "outputs": [],
   "source": [
    "# Limit(f,x,a)\n",
    "def Limit(f_,x_,a_,dir_=\"\"):\n",
    "    \"\"\"\n",
    "    f_:func\n",
    "    X_:variable\n",
    "    a_: value\n",
    "    \"\"\"\n",
    "    if (dir_==\"\"):\n",
    "       text=\"$$\\large{\\lim_{%s\\\\to %s}\" %(str(x_),str(latex(a_)))\n",
    "    else:\n",
    "       text=\"$$\\large{\\lim_{%s\\\\to %s^%s}\" %(str(x_),str(a_),str(dir_))\n",
    "    f_latex=latex(eval(str(f_)))\n",
    "    text= text+ f_latex\n",
    "    if (dir_==\"\"):\n",
    "       result=latex(eval(str(limit(f_,x_,a_))))\n",
    "    else:\n",
    "       result=latex(eval(str(limit(f_,x_,a_,dir=dir_)))) \n",
    "        \n",
    "    text=text+\"=\"+result+\"}$$\"\n",
    "    return(Latex(text))"
   ]
  },
  {
   "cell_type": "markdown",
   "metadata": {},
   "source": [
    "Example\n",
    "---\n",
    "Suppose that $f(x)=x^2+2x-1$"
   ]
  },
  {
   "cell_type": "code",
   "execution_count": null,
   "metadata": {},
   "outputs": [],
   "source": [
    "def f(x):\n",
    "    return x**2+2*x-1"
   ]
  },
  {
   "cell_type": "code",
   "execution_count": 4,
   "metadata": {},
   "outputs": [
    {
     "data": {
      "text/plain": [
       "-2"
      ]
     },
     "execution_count": 4,
     "metadata": {},
     "output_type": "execute_result"
    }
   ],
   "source": [
    "f(-1),"
   ]
  },
  {
   "cell_type": "code",
   "execution_count": 7,
   "metadata": {},
   "outputs": [
    {
     "data": {
      "text/plain": [
       "-1 + 2*pi + pi**2"
      ]
     },
     "execution_count": 7,
     "metadata": {},
     "output_type": "execute_result"
    }
   ],
   "source": [
    "f(pi)"
   ]
  },
  {
   "cell_type": "code",
   "execution_count": 8,
   "metadata": {},
   "outputs": [
    {
     "data": {
      "text/plain": [
       "2*h + 2*x + (h + x)**2 - 1"
      ]
     },
     "execution_count": 8,
     "metadata": {},
     "output_type": "execute_result"
    }
   ],
   "source": [
    "f(x+h)"
   ]
  },
  {
   "cell_type": "code",
   "execution_count": 9,
   "metadata": {},
   "outputs": [
    {
     "data": {
      "text/plain": [
       "4*x**2 + 4*x - 1"
      ]
     },
     "execution_count": 9,
     "metadata": {},
     "output_type": "execute_result"
    }
   ],
   "source": [
    "f(2*x)"
   ]
  },
  {
   "cell_type": "markdown",
   "metadata": {},
   "source": [
    "Graph of a function\n",
    "---\n",
    "The graph of a function, $f(x)$, is a set of all points, $(x,y)$ sunc that $y=f(x)$ where $x$ lies in the domain of $f$."
   ]
  },
  {
   "cell_type": "markdown",
   "metadata": {},
   "source": [
    "Vectical test for functions\n",
    "---\n",
    "Evey vericla line could intersec graph of functions at most once."
   ]
  },
  {
   "cell_type": "code",
   "execution_count": 1,
   "metadata": {
    "code_folding": [
     0
    ]
   },
   "outputs": [],
   "source": [
    "# matplolib\n",
    "%matplotlib inline \n",
    "import numpy as np\n",
    "#from numpy import pi,sin,cos\n",
    "import matplotlib.pylab as plt"
   ]
  },
  {
   "cell_type": "markdown",
   "metadata": {},
   "source": [
    "Example\n",
    "---\n",
    "Graphs of $1/x$ and $1/x^2$."
   ]
  },
  {
   "cell_type": "code",
   "execution_count": 7,
   "metadata": {
    "code_folding": [
     0
    ]
   },
   "outputs": [
    {
     "data": {
      "image/png": "[encoded data removed]",
      "text/plain": [
       "<Figure size 432x288 with 1 Axes>"
      ]
     },
     "metadata": {
      "needs_background": "light"
     },
     "output_type": "display_data"
    }
   ],
   "source": [
    "# power function, 1/x, 1/x^2 \n",
    "t=np.linspace(-2,2,100)\n",
    "plt.plot(t,1/t,label='$1/x$')\n",
    "plt.plot(t,1/t/t,'r--',label='$1/x^2$')\n",
    "plt.plot(t,0*t,'k-')\n",
    "plt.ylim([-6,6])\n",
    "plt.legend()\n",
    "ax=plt.gca()\n",
    "ax.xaxis.set_visible(False)\n",
    "ax.yaxis.set_visible(False)"
   ]
  },
  {
   "cell_type": "code",
   "execution_count": 42,
   "metadata": {
    "code_folding": [
     0
    ]
   },
   "outputs": [
    {
     "data": {
      "text/plain": [
       "<matplotlib.legend.Legend at 0x7fad4ce59040>"
      ]
     },
     "execution_count": 42,
     "metadata": {},
     "output_type": "execute_result"
    },
    {
     "data": {
      "image/png": "[encoded data removed]",
      "text/plain": [
       "<Figure size 576x432 with 1 Axes>"
      ]
     },
     "metadata": {
      "needs_background": "light"
     },
     "output_type": "display_data"
    }
   ],
   "source": [
    "# whether function is or not\n",
    "\n",
    "fig=plt.figure(figsize=(8,6))\n",
    "t=np.linspace(-2,2,100)\n",
    "x=t**2\n",
    "y=t\n",
    "\n",
    "plt.plot(x,y,label='non-function')\n",
    "plt.plot(y,x,'r--',label='function')\n",
    "plt.plot(t,0*t,'k-')\n",
    "plt.grid()\n",
    "plt.xlim(-2,4)\n",
    "\n",
    "plt.plot([-2,4],[0,0],'k-',linewidth=6)\n",
    "plt.plot([1.5,1.5],[-2,4],'k-',linewidth=2)\n",
    "plt.legend()\n",
    "#ax=plt.gca()\n",
    "#ax.xaxis.set_visible(False)\n",
    "#ax.yaxis.set_visible(False)"
   ]
  },
  {
   "cell_type": "markdown",
   "metadata": {},
   "source": [
    "Even and Odd Funnctions\n",
    "---\n",
    "- Even function: $f(-x)=f(x)$,\n",
    "- Odd function: $f(-x)=-f(x)$.\n"
   ]
  },
  {
   "cell_type": "code",
   "execution_count": 36,
   "metadata": {
    "code_folding": [
     0
    ]
   },
   "outputs": [
    {
     "data": {
      "text/plain": [
       "<matplotlib.legend.Legend at 0x10b754ac8>"
      ]
     },
     "execution_count": 36,
     "metadata": {},
     "output_type": "execute_result"
    },
    {
     "data": {
      "image/png": "[encoded data removed]",
      "text/plain": [
       "<matplotlib.figure.Figure at 0x10b7cada0>"
      ]
     },
     "metadata": {},
     "output_type": "display_data"
    }
   ],
   "source": [
    "# even, odd\n",
    "plt.plot(t,t**4-t**2+1,label='$x^4-x^2+1$ is even')\n",
    "plt.plot(t,t**3-t,'r--',label='$x^3-x$ is Odd')\n",
    "plt.plot(t,0*t,'k-')\n",
    "plt.plot([0,0],[-6,6],'k')\n",
    "plt.ylim([-6,6])\n",
    "plt.legend()"
   ]
  },
  {
   "cell_type": "markdown",
   "metadata": {},
   "source": [
    "Trigonometric Functions\n",
    "---\n",
    "$\\sin,\\cos,\\tan,\\cot,\\sec,\\csc$"
   ]
  },
  {
   "cell_type": "markdown",
   "metadata": {},
   "source": [
    "Example\n",
    "---\n",
    "Determine whether the function,\n",
    "$$ \\mathbf{f(x)=\\frac{\\sin 2x}{\\sqrt{1+\\cos^2x}+1}}$$\n",
    "is even, odd, or neither.\n",
    "\n",
    "Answer: <font color=\"white\">Odd</font>, \n",
    "\n",
    "since\n",
    "$$\n",
    "\\color{white}{f(-x)=f(x)}\n",
    "$$"
   ]
  },
  {
   "cell_type": "code",
   "execution_count": 2,
   "metadata": {
    "collapsed": true
   },
   "outputs": [],
   "source": [
    "from numpy import sin,cos,sqrt"
   ]
  },
  {
   "cell_type": "code",
   "execution_count": 37,
   "metadata": {
    "code_folding": [
     0
    ]
   },
   "outputs": [
    {
     "data": {
      "text/plain": [
       "(-2, 2)"
      ]
     },
     "execution_count": 37,
     "metadata": {},
     "output_type": "execute_result"
    },
    {
     "data": {
      "image/png": "[encoded data removed]",
      "text/plain": [
       "<matplotlib.figure.Figure at 0x10b774358>"
      ]
     },
     "metadata": {},
     "output_type": "display_data"
    }
   ],
   "source": [
    "# viz\n",
    "f=sin(2*t)/((sqrt(1+cos(t)*cos(t))+1))\n",
    "plt.plot(t,f)\n",
    "plt.title('$\\sin 2x/(\\sqrt{1+\\cos^2x}+1)$')\n",
    "plt.plot(t,0*t,'k-')\n",
    "plt.plot([0,0],[-2,2],'k')\n",
    "\n",
    "plt.ylim([-2,2])\n"
   ]
  },
  {
   "cell_type": "markdown",
   "metadata": {},
   "source": [
    "Trigonalmetric functions are Transcendetal functiona since their calculation are much complicated than algebraic functiona.\n",
    "\n",
    "Example\n",
    "---\n",
    "Solve $\\cos x -2 \\sin^2 x+1=0$ where $0\\le x\\le 2\\pi$."
   ]
  },
  {
   "cell_type": "code",
   "execution_count": 40,
   "metadata": {},
   "outputs": [
    {
     "data": {
      "text/plain": [
       "[-pi/3, pi/3]"
      ]
     },
     "execution_count": 40,
     "metadata": {},
     "output_type": "execute_result"
    }
   ],
   "source": [
    "from sympy import sin,cos\n",
    "solve(cos(x)-2*(sin(x))**2+1,x)"
   ]
  },
  {
   "cell_type": "code",
   "execution_count": 63,
   "metadata": {
    "code_folding": [
     0
    ]
   },
   "outputs": [
    {
     "data": {
      "text/plain": [
       "(-2, 2)"
      ]
     },
     "execution_count": 63,
     "metadata": {},
     "output_type": "execute_result"
    },
    {
     "data": {
      "image/png": "[encoded data removed]",
      "text/plain": [
       "<matplotlib.figure.Figure at 0x10bf03518>"
      ]
     },
     "metadata": {},
     "output_type": "display_data"
    }
   ],
   "source": [
    "# Zeros\n",
    "from numpy import sin,cos,pi\n",
    "g=cos(t)-2*sin(t)**2+1\n",
    "plt.plot(t,g)\n",
    "plt.plot(t,0*t,'k-')\n",
    "plt.plot([0,0],[-2,2],'k')\n",
    "plt.scatter([-np.pi/3,np.pi/3],[0,0])\n",
    "plt.text(-1.1,-0.3,'$-\\pi/3$',size=13)\n",
    "plt.text(0.85,-0.3,'$\\pi/3$',size=13)\n",
    "\n",
    "plt.ylim([-2,2])\n",
    "plt.xlim([-2,2])"
   ]
  },
  {
   "cell_type": "markdown",
   "metadata": {},
   "source": [
    "Period \n",
    "---\n",
    "$h$ is called period of $f$ if $f(x+h)=f(x)$.\n",
    "\n",
    "Example\n",
    "---\n",
    "$f(x)=3\\sin(x/2)$\n",
    "\n",
    "Period is ($\\color{white}{4\\pi}$)."
   ]
  },
  {
   "cell_type": "code",
   "execution_count": 4,
   "metadata": {
    "code_folding": [
     0
    ]
   },
   "outputs": [
    {
     "data": {
      "text/plain": [
       "(-13.066370614359172, 13.066370614359172)"
      ]
     },
     "execution_count": 4,
     "metadata": {},
     "output_type": "execute_result"
    },
    {
     "data": {
      "image/png": "[encoded data removed]",
      "text/plain": [
       "<matplotlib.figure.Figure at 0x1085e7cc0>"
      ]
     },
     "metadata": {},
     "output_type": "display_data"
    }
   ],
   "source": [
    "# periodic\n",
    "t=np.linspace(-4*pi,4*pi,101)\n",
    "F=3*np.sin(t/2)\n",
    "plt.plot(t,F)\n",
    "plt.plot(t,0*t,'k-')\n",
    "plt.plot([0,0],[-4.5,4.5],'k')\n",
    "\n",
    "plt.ylim([-4,4])\n",
    "plt.xlim([-4*pi-0.5,4*pi+0.5])"
   ]
  },
  {
   "cell_type": "markdown",
   "metadata": {},
   "source": [
    "Composition of Functions\n",
    "---\n",
    "Suppose that $f(x),g(x)$ are functions. The composition of $f(x),g(x)$ is defined as follows:\n",
    "$$g\\circ f(x)=g(f(x))$\n",
    "\n",
    "Inverse of Functions\n",
    "---\n",
    "If $g\\circ f(x)=x$ and $f\\circ g(x)=x$, $g(x)$ is called inverse of $f(x)$, and denoted as $g(x)=f^{-1}(x)$.\n",
    "\n",
    "\n",
    "\n",
    "**Example.** \n",
    "\n",
    "Suppose that \n",
    "\n",
    "$$f(x)=2x^3+1, g(x)=\\left(\\frac{x-1}{2}\\right)^{1/3}$$\n",
    "\n",
    "1.$$f\\circ g(x)= 2\\left( \\left(\\frac{x-1}{2}\\right)^{1/3}\\right)^3+1=x$$\n",
    "2.$$g\\circ f(x)=\\left(\\frac{2x^3+1-1}{2}\\right)^{1/3}=x$$\n",
    "\n",
    "Thus $f(x)$ is inverse of $g(x)$, and vice versa."
   ]
  },
  {
   "cell_type": "code",
   "execution_count": 10,
   "metadata": {
    "code_folding": []
   },
   "outputs": [
    {
     "data": {
      "text/plain": [
       "(-2.0, 2.0)"
      ]
     },
     "execution_count": 10,
     "metadata": {},
     "output_type": "execute_result"
    },
    {
     "data": {
      "image/png": "[encoded data removed]",
      "text/plain": [
       "<Figure size 576x576 with 1 Axes>"
      ]
     },
     "metadata": {
      "needs_background": "light"
     },
     "output_type": "display_data"
    }
   ],
   "source": [
    "# Inverse of functions\n",
    "\n",
    "fig=plt.figure(figsize=(8,8))\n",
    "t=np.linspace(-1,1,100)\n",
    "x=2*t**3+1\n",
    "y=t\n",
    "\n",
    "plt.plot(x,y,label='$f(x)=2x^3+1$')\n",
    "plt.plot(y,x,'r--',label='$f^{-1}(x)$')\n",
    "plt.plot(2*t,2*t,'k--')\n",
    "plt.plot(2*t,0*t,'k-')\n",
    "plt.plot(0*t,2*t,'k-')\n",
    "plt.grid()\n",
    "plt.xlim(-2,2)\n",
    "plt.title(\"Function and its Inverse\")\n",
    "\n",
    "plt.legend()\n",
    "plt.xlim([-2,2])\n",
    "plt.ylim([-2,2])\n",
    "#ax=plt.gca()\n",
    "#ax.xaxis.set_visible(False)\n",
    "#ax.yaxis.set_visible(False)"
   ]
  },
  {
   "cell_type": "markdown",
   "metadata": {},
   "source": [
    "Note\n",
    "---\n",
    "Graphs of $f(x)$ and its inverse, $f^{-1}(x)$, are symmetric with respect to the line, $y=x$ as above."
   ]
  },
  {
   "cell_type": "code",
   "execution_count": null,
   "metadata": {},
   "outputs": [],
   "source": []
  },
  {
   "cell_type": "markdown",
   "metadata": {},
   "source": [
    "Limit\n",
    "===\n",
    "The limit as $x$ goes to $a$ of $f$ is $L$ if $f(x)$ can be made as close to $L$ by taking $x$ sufficiently close to $a$ and expressed by \n",
    "$$\n",
    "\\mathbf{\\lim\\limits_{x \\rightarrow a} f(x) = L}\n",
    "$$\n",
    " If $f(x)$ is <em>continuous</em> at $x=a$, the $L=f(a)$.\n",
    "\n",
    "One-sided Limits\n",
    "---\n",
    "- Right-hand Limit:  The limit as $x$ goes to $a$ of $f$ is $L$ if $f(x)$ can be made as close to $L$ by taking $x$ sufficiently close to $a$ but greater than $a$, and expressed by \n",
    "$$\n",
    "\\lim\\limits_{x \\rightarrow a^+} f(x) = L\n",
    "$$\n",
    "- Left-hand Limit:  The limit as $x$ goes to $a$ of $f$ is $L$ if $f(x)$ can be made as close to $L$ by taking $x$ sufficiently close to $a$ but less than $a$, and expressed by \n",
    "$$\n",
    "\\lim\\limits_{x \\rightarrow a^-} f(x) = L\n",
    "$$\n",
    "\n",
    "**Theorem**\n",
    "---\n",
    "Let $f$ be a function defined on an interval containing $a$, possibly except at $x=a$. Then\n",
    "$$\n",
    "\\lim\\limits_{x \\rightarrow a} f(x) = L \\text{ if and only if } \\lim\\limits_{x \\rightarrow a^+} f(x) = \\lim\\limits_{x \\rightarrow a^-} f(x) = L\n",
    "$$"
   ]
  },
  {
   "cell_type": "code",
   "execution_count": 62,
   "metadata": {},
   "outputs": [
    {
     "data": {
      "text/latex": [
       "$$\\large{\\lim_{x\\to1}\\frac{x^{3} - 1}{x - 1}=3}$$"
      ],
      "text/plain": [
       "<IPython.core.display.Latex object>"
      ]
     },
     "execution_count": 62,
     "metadata": {},
     "output_type": "execute_result"
    }
   ],
   "source": [
    "Limit((x**3-1)/(x-1),x,1)"
   ]
  },
  {
   "cell_type": "code",
   "execution_count": 64,
   "metadata": {},
   "outputs": [
    {
     "data": {
      "text/latex": [
       "$$\\large{\\lim_{x\\to1}\\frac{x}{\\sqrt{x + 1} - 1}=\\frac{1}{-1 + \\sqrt{2}}}$$"
      ],
      "text/plain": [
       "<IPython.core.display.Latex object>"
      ]
     },
     "execution_count": 64,
     "metadata": {},
     "output_type": "execute_result"
    }
   ],
   "source": [
    "Limit((x)/(sqrt(x+1)-1),x,1)"
   ]
  },
  {
   "cell_type": "markdown",
   "metadata": {},
   "source": [
    "since\n",
    "$$\\frac{x}{\\sqrt{x+1}-1}=\\frac{x(\\sqrt{x+1}+1)}{x+1-1}$$"
   ]
  },
  {
   "cell_type": "code",
   "execution_count": 72,
   "metadata": {
    "code_folding": [
     0
    ]
   },
   "outputs": [
    {
     "data": {
      "text/plain": [
       "<matplotlib.legend.Legend at 0x7fad4f63a6d0>"
      ]
     },
     "execution_count": 72,
     "metadata": {},
     "output_type": "execute_result"
    },
    {
     "data": {
      "image/png": "[encoded data removed]",
      "text/plain": [
       "<Figure size 432x288 with 1 Axes>"
      ]
     },
     "metadata": {
      "needs_background": "light"
     },
     "output_type": "display_data"
    }
   ],
   "source": [
    "# lim of sin(x)/x at x=0\n",
    "t=np.linspace(-4,4,100)\n",
    "sinc=np.sin(t)/t\n",
    "plt.plot(t,sinc)\n",
    "plt.plot(t,0*t,'k-')\n",
    "plt.plot([0,0],[-4,4],'k',label=\"$\\sin(x)/x$\");\n",
    "plt.legend()\n",
    "#plt.ylim([-4,4])"
   ]
  },
  {
   "cell_type": "code",
   "execution_count": 3,
   "metadata": {},
   "outputs": [
    {
     "data": {
      "text/plain": [
       "1"
      ]
     },
     "execution_count": 3,
     "metadata": {},
     "output_type": "execute_result"
    }
   ],
   "source": [
    "from sympy import limit,sin,Symbol\n",
    "\n",
    "x=Symbol(\"x\")\n",
    "limit(sin(x)/x,x,0)"
   ]
  },
  {
   "cell_type": "markdown",
   "metadata": {},
   "source": [
    "Example\n",
    "---\n",
    "\n",
    "$$\n",
    "\\lim\\limits_{x \\rightarrow 0} \\sin\\frac{ 1 }{x}=?\n",
    "$$\n",
    "\n",
    "\n"
   ]
  },
  {
   "cell_type": "code",
   "execution_count": 23,
   "metadata": {},
   "outputs": [
    {
     "data": {
      "text/latex": [
       "$\\displaystyle \\left\\langle -1, 1\\right\\rangle$"
      ],
      "text/plain": [
       "AccumBounds(-1, 1)"
      ]
     },
     "execution_count": 23,
     "metadata": {},
     "output_type": "execute_result"
    }
   ],
   "source": [
    "\n",
    "limit(sin(1/x),x,0)"
   ]
  },
  {
   "cell_type": "code",
   "execution_count": 3,
   "metadata": {
    "code_folding": [
     0
    ]
   },
   "outputs": [
    {
     "data": {
      "text/plain": [
       "(-1, 1)"
      ]
     },
     "execution_count": 3,
     "metadata": {},
     "output_type": "execute_result"
    },
    {
     "data": {
      "image/png": "[encoded data removed]",
      "text/plain": [
       "<Figure size 864x576 with 1 Axes>"
      ]
     },
     "metadata": {
      "needs_background": "light"
     },
     "output_type": "display_data"
    }
   ],
   "source": [
    "# no limit\n",
    "t=np.linspace(-0.2,0.2,600)\n",
    "plt.figure(figsize=(12,8))\n",
    "f=np.sin(1/t)\n",
    "plt.plot(t,f)\n",
    "plt.plot(t,0*t,'k-')\n",
    "plt.plot([0,0],[-4,4],'k')\n",
    "\n",
    "plt.ylim([-1,1])"
   ]
  },
  {
   "cell_type": "markdown",
   "metadata": {},
   "source": [
    "<details>\n",
    "  <summary>\n",
    "    <a class=\"btnfire small stroke\"><em class=\"fas fa-chevron-circle-down\"></em>\n",
    "        <font size=\"6em\">\n",
    "Exists or not Exists:</font>\n",
    "    </a>\n",
    "    \n",
    "Analytically, the limit at the certain position should be the same whatevevr the kind of approach to the position if it exists:\n",
    "  </summary>\n",
    "    \n",
    "1. $x=\\large{\\frac{1}{2n\\pi+\\frac{\\pi}{2}}}\\to 0$ while $n\\to\\infty$, but\n",
    "$$\\lim\\limits_{x \\to 0} \\sin\\frac{ 1 }{x}=\\lim\\limits_{n \\to \\infty} \\sin\\left(2n\\pi+\\frac{\\pi}{2}\\right)=1$$\n",
    "2. $x=\\large{\\frac{1}{2n\\pi}}\\to 0$ while $n\\to\\infty$, but\n",
    "$$\\lim\\limits_{x \\to 0} \\sin\\frac{ 1 }{x}=\\lim\\limits_{n \\to \\infty} \\sin\\left(2n\\pi\\right)=\\color{red}{0}\n",
    "\\ne1$$\n",
    "Thus the limit fails to exist since both the limits do not equal to respectly.\n",
    "</details>\n",
    "\n",
    "\n",
    "\n"
   ]
  },
  {
   "cell_type": "markdown",
   "metadata": {},
   "source": [
    "\n",
    "Properties of Limit\n",
    "---\n",
    "Suppose that $\\lim\\limits_{x \\rightarrow a}f (x) = L$ \n",
    "and $\\lim\\limits_{x \\rightarrow a}g (x) = M.$\n",
    "\n",
    "1. $\\lim\\limits_{x \\rightarrow a} L = L$ for any $a$ and $L$ in\n",
    "    $\\mathbb{R}$.\n",
    "2. $\\lim\\limits_{x \\rightarrow a}x = a$\n",
    "3. $\\lim\\limits_{x \\rightarrow a} (f (x) \\pm g (x)) = L \\pm M$\n",
    "4. $\\lim\\limits_{x \\rightarrow a} f (x) g (x) = L M$\n",
    "5. $\\lim\\limits_{x \\rightarrow a} f (x) / g (x) = L / M$ if $M \\neq\n",
    "    0$.\n",
    "6. $\\lim\\limits_{x \\rightarrow a}\\sqrt[n]{x} = \\sqrt[n]{a}$, where\n",
    "    $n$ is odd and $x \\in \\mathbb{R}$ or $n$ is even and $x > 0$.\n",
    "\n"
   ]
  },
  {
   "cell_type": "code",
   "execution_count": null,
   "metadata": {},
   "outputs": [],
   "source": []
  },
  {
   "cell_type": "markdown",
   "metadata": {},
   "source": [
    "Theorem\n",
    "---\n",
    "If $f(x)$ is equal to $g(x)$ for almost $x\\in D\\subset\\mathbb{R}$ but not $x=c\\in D$, \n",
    "$$\\lim_{x\\to c}f(x)=\\lim_{x\\to c}g(x)$$\n"
   ]
  },
  {
   "cell_type": "code",
   "execution_count": null,
   "metadata": {},
   "outputs": [],
   "source": []
  },
  {
   "cell_type": "code",
   "execution_count": 4,
   "metadata": {},
   "outputs": [
    {
     "data": {
      "text/latex": [
       "$$\\large{\\lim_{x\\to 2}4 x^{2} + 2=18}$$"
      ],
      "text/plain": [
       "<IPython.core.display.Latex object>"
      ]
     },
     "execution_count": 4,
     "metadata": {},
     "output_type": "execute_result"
    }
   ],
   "source": [
    "Limit(4*x**2+2,x,2)"
   ]
  },
  {
   "cell_type": "code",
   "execution_count": 6,
   "metadata": {},
   "outputs": [
    {
     "data": {
      "text/latex": [
       "$$\\large{\\lim_{x\\to 1}\\frac{x^{2} + x + 2}{x + 1}=2}$$"
      ],
      "text/plain": [
       "<IPython.core.display.Latex object>"
      ]
     },
     "execution_count": 6,
     "metadata": {},
     "output_type": "execute_result"
    }
   ],
   "source": [
    "Limit((x**2+x+2)/(x+1),x,1)"
   ]
  },
  {
   "cell_type": "code",
   "execution_count": 9,
   "metadata": {},
   "outputs": [
    {
     "data": {
      "text/latex": [
       "$$\\large{\\lim_{x\\to -1}\\frac{x^{2} - x - 2}{x + 1}=-3}$$"
      ],
      "text/plain": [
       "<IPython.core.display.Latex object>"
      ]
     },
     "execution_count": 9,
     "metadata": {},
     "output_type": "execute_result"
    }
   ],
   "source": [
    "Limit((x**2-x-2)/(x+1),x,-1)"
   ]
  },
  {
   "cell_type": "markdown",
   "metadata": {},
   "source": [
    "Last comes from the fact\n",
    "$$\\frac{x^2-x-2}{x+1}=x-2$$\n",
    "for $x\\ne-1$. Even $\\frac{x^2-x-2}{x+1}$ and $x-2$ is not equal to with each other at $x=-1$, but they attains the same limit at $x=-1$."
   ]
  },
  {
   "cell_type": "code",
   "execution_count": 11,
   "metadata": {},
   "outputs": [
    {
     "data": {
      "text/latex": [
       "$$\\large{\\lim_{x\\to 3}\\sqrt{x^{2} - 4}=\\sqrt{5}}$$"
      ],
      "text/plain": [
       "<IPython.core.display.Latex object>"
      ]
     },
     "execution_count": 11,
     "metadata": {},
     "output_type": "execute_result"
    }
   ],
   "source": [
    "Limit(sqrt(x**2-4),x,3)"
   ]
  },
  {
   "cell_type": "code",
   "execution_count": 20,
   "metadata": {},
   "outputs": [
    {
     "data": {
      "text/latex": [
       "$\\displaystyle \\frac{1}{3}$"
      ],
      "text/plain": [
       "1/3"
      ]
     },
     "execution_count": 20,
     "metadata": {},
     "output_type": "execute_result"
    }
   ],
   "source": [
    "r=Rational(1,3)\n",
    "r"
   ]
  },
  {
   "cell_type": "code",
   "execution_count": 21,
   "metadata": {},
   "outputs": [
    {
     "data": {
      "text/latex": [
       "$$\\large{\\lim_{x\\to 3}\\left(2 x^{2} - 10\\right)^{0.333333333333333}=2}$$"
      ],
      "text/plain": [
       "<IPython.core.display.Latex object>"
      ]
     },
     "execution_count": 21,
     "metadata": {},
     "output_type": "execute_result"
    }
   ],
   "source": [
    "from sympy import fraction,Rational\n",
    "Limit((2*x**2-10)**r,x,3)"
   ]
  },
  {
   "cell_type": "code",
   "execution_count": 24,
   "metadata": {},
   "outputs": [
    {
     "data": {
      "text/latex": [
       "$$\\large{\\lim_{x\\to2}2 x^{3} - 4 x^{2} + 3=3}$$"
      ],
      "text/plain": [
       "<IPython.core.display.Latex object>"
      ]
     },
     "execution_count": 24,
     "metadata": {},
     "output_type": "execute_result"
    }
   ],
   "source": [
    "Limit(2*x**3-4*x**2+3,x,2)"
   ]
  },
  {
   "cell_type": "code",
   "execution_count": null,
   "metadata": {},
   "outputs": [],
   "source": []
  },
  {
   "cell_type": "code",
   "execution_count": 25,
   "metadata": {},
   "outputs": [
    {
     "data": {
      "text/latex": [
       "$$\\large{\\lim_{x\\to-1}\\left(3 x^{2} + 2 x + 1\\right)^{5}=32}$$"
      ],
      "text/plain": [
       "<IPython.core.display.Latex object>"
      ]
     },
     "execution_count": 25,
     "metadata": {},
     "output_type": "execute_result"
    }
   ],
   "source": [
    "Limit((3*x**2+2*x+1)**5,x,-1)"
   ]
  },
  {
   "cell_type": "code",
   "execution_count": 26,
   "metadata": {},
   "outputs": [
    {
     "data": {
      "text/latex": [
       "$$\\large{\\lim_{x\\to0}\\frac{\\sqrt{x + 1} - 1}{x}=0.5}$$"
      ],
      "text/plain": [
       "<IPython.core.display.Latex object>"
      ]
     },
     "execution_count": 26,
     "metadata": {},
     "output_type": "execute_result"
    }
   ],
   "source": [
    "#from sympy import sqrt\n",
    "Limit((sqrt(1+x)-1)/x,x,0)"
   ]
  },
  {
   "cell_type": "code",
   "execution_count": 78,
   "metadata": {},
   "outputs": [
    {
     "data": {
      "text/latex": [
       "$$\\large{\\lim_{x\\to0}\\left\\lfloor{x}\\right\\rfloor=0}$$"
      ],
      "text/plain": [
       "<IPython.core.display.Latex object>"
      ]
     },
     "execution_count": 78,
     "metadata": {},
     "output_type": "execute_result"
    }
   ],
   "source": [
    "from sympy import floor\n",
    "Limit(floor(x),x,0)"
   ]
  },
  {
   "cell_type": "markdown",
   "metadata": {},
   "source": [
    "Example\n",
    "---\n",
    "Consider the following function:\n",
    "$$ f(x)=[x^2/2-1]$$\n",
    "Evaluate the limit:\n",
    "$$\\lim_{x\\to3/2}f(x), \\lim_{x\\to{(3/2)^+}}f(x),\\lim_{x\\to{(3/2)^-}}f(x)$$"
   ]
  },
  {
   "cell_type": "code",
   "execution_count": 106,
   "metadata": {
    "code_folding": [
     0
    ]
   },
   "outputs": [
    {
     "data": {
      "text/plain": [
       "<matplotlib.legend.Legend at 0x7fad50a09760>"
      ]
     },
     "execution_count": 106,
     "metadata": {},
     "output_type": "execute_result"
    },
    {
     "data": {
      "image/png": "[encoded data removed]",
      "text/plain": [
       "<Figure size 432x288 with 1 Axes>"
      ]
     },
     "metadata": {
      "needs_background": "light"
     },
     "output_type": "display_data"
    }
   ],
   "source": [
    "# step\n",
    "t=np.linspace(-2,2,101)\n",
    "x=t\n",
    "y=np.floor(t*t/2-1)\n",
    "plt.plot(x,y,label=\"$[x]$\")\n",
    "plt.legend()"
   ]
  },
  {
   "cell_type": "code",
   "execution_count": 113,
   "metadata": {},
   "outputs": [
    {
     "data": {
      "text/latex": [
       "$$\\large{\\lim_{x\\to sqrt(2)}\\left\\lfloor{\\frac{x^{2}}{2}}\\right\\rfloor - 1=0}$$"
      ],
      "text/plain": [
       "<IPython.core.display.Latex object>"
      ]
     },
     "execution_count": 113,
     "metadata": {},
     "output_type": "execute_result"
    }
   ],
   "source": [
    "# True or False\n",
    "x=symbols(\"x\")\n",
    "Limit(floor(x**2/2-1),x,sqrt(2))"
   ]
  },
  {
   "cell_type": "code",
   "execution_count": 114,
   "metadata": {},
   "outputs": [
    {
     "data": {
      "text/latex": [
       "$$\\large{\\lim_{x\\to sqrt(2)^+}\\left\\lfloor{\\frac{x^{2}}{2}}\\right\\rfloor - 1=0}$$"
      ],
      "text/plain": [
       "<IPython.core.display.Latex object>"
      ]
     },
     "execution_count": 114,
     "metadata": {},
     "output_type": "execute_result"
    }
   ],
   "source": [
    "Limit(floor(x**2/2-1),x,sqrt(2),\"+\")"
   ]
  },
  {
   "cell_type": "code",
   "execution_count": 115,
   "metadata": {},
   "outputs": [
    {
     "data": {
      "text/latex": [
       "$$\\large{\\lim_{x\\to sqrt(2)^-}\\left\\lfloor{\\frac{x^{2}}{2}}\\right\\rfloor - 1=-1}$$"
      ],
      "text/plain": [
       "<IPython.core.display.Latex object>"
      ]
     },
     "execution_count": 115,
     "metadata": {},
     "output_type": "execute_result"
    }
   ],
   "source": [
    "Limit(floor(x**2/2-1),x,sqrt(2),\"-\")"
   ]
  },
  {
   "cell_type": "code",
   "execution_count": 28,
   "metadata": {},
   "outputs": [
    {
     "data": {
      "text/latex": [
       "$$\\large{\\lim_{x\\to0}\\frac{\\sin{\\left(x \\right)}}{x}=1}$$"
      ],
      "text/plain": [
       "<IPython.core.display.Latex object>"
      ]
     },
     "execution_count": 28,
     "metadata": {},
     "output_type": "execute_result"
    }
   ],
   "source": [
    "Limit(sin(x)/x,x,0)"
   ]
  },
  {
   "cell_type": "code",
   "execution_count": 29,
   "metadata": {},
   "outputs": [
    {
     "data": {
      "text/latex": [
       "$$\\large{\\lim_{x\\to0}\\frac{\\sin{\\left(2 x \\right)}}{3 x}=0.6666666666666666}$$"
      ],
      "text/plain": [
       "<IPython.core.display.Latex object>"
      ]
     },
     "execution_count": 29,
     "metadata": {},
     "output_type": "execute_result"
    }
   ],
   "source": [
    "Limit(sin(2*x)/(3*x),x,0)"
   ]
  },
  {
   "cell_type": "code",
   "execution_count": 30,
   "metadata": {},
   "outputs": [
    {
     "data": {
      "text/latex": [
       "$$\\large{\\lim_{x\\to0}\\frac{1 - \\cos{\\left(x \\right)}}{x}=0}$$"
      ],
      "text/plain": [
       "<IPython.core.display.Latex object>"
      ]
     },
     "execution_count": 30,
     "metadata": {},
     "output_type": "execute_result"
    }
   ],
   "source": [
    "#from sympy import cos\n",
    "Limit((1-cos(x))/x,x,0)"
   ]
  },
  {
   "cell_type": "code",
   "execution_count": 31,
   "metadata": {},
   "outputs": [
    {
     "data": {
      "text/latex": [
       "$$\\large{\\lim_{x\\to0}\\frac{1 - \\cos{\\left(x \\right)}}{x^{2}}=0.5}$$"
      ],
      "text/plain": [
       "<IPython.core.display.Latex object>"
      ]
     },
     "execution_count": 31,
     "metadata": {},
     "output_type": "execute_result"
    }
   ],
   "source": [
    "Limit((1-cos(x))/x**2,x,0)"
   ]
  },
  {
   "cell_type": "markdown",
   "metadata": {},
   "source": [
    "Squeeze Theorem\n",
    "---\n",
    "Suppose that $f(x)\\le g(x)\\le h(x)$ for all $x$ in an open interval around $a$, except possibly at $a$, then\n",
    "$$\n",
    "\\lim\\limits_{x\\rightarrow a}f(x)=\\lim\\limits_{x\\rightarrow a}h(x)=L\\Rightarrow \\lim\\limits_{x\\rightarrow a}g(x)=L\n",
    "$$"
   ]
  },
  {
   "cell_type": "markdown",
   "metadata": {},
   "source": [
    "Example\n",
    "---\n",
    "Since $|x^2\\sin\\frac{1}{x}|\\le|x^2|$, then\n",
    "$$0\\le\\left|\\color{red}{\\lim_{x\\to0} x^2\\sin\\frac{1}{x}}\\right|\\le\\lim_{x\\to0}x^2=0$$\n",
    "\n",
    "implies\n",
    "$$\\lim_{x\\to0} x^2\\sin\\frac{1}{x}=0$$"
   ]
  },
  {
   "cell_type": "code",
   "execution_count": 32,
   "metadata": {},
   "outputs": [
    {
     "data": {
      "text/latex": [
       "$$\\large{\\lim_{x\\to0}x^{2} \\sin{\\left(\\frac{1}{x} \\right)}=0}$$"
      ],
      "text/plain": [
       "<IPython.core.display.Latex object>"
      ]
     },
     "execution_count": 32,
     "metadata": {},
     "output_type": "execute_result"
    }
   ],
   "source": [
    "Limit(x*x*(sin(1/x)),x,0)"
   ]
  },
  {
   "cell_type": "code",
   "execution_count": 38,
   "metadata": {
    "code_folding": [
     0
    ]
   },
   "outputs": [
    {
     "data": {
      "image/png": "[encoded data removed]",
      "text/plain": [
       "<Figure size 432x576 with 1 Axes>"
      ]
     },
     "metadata": {
      "needs_background": "light"
     },
     "output_type": "display_data"
    }
   ],
   "source": [
    "# How comes the limit\n",
    "plt.figure(figsize=(6,8))\n",
    "x=np.linspace(-0.5,.5,100)\n",
    "plt.plot(x,x*x*sin(1/x),label='$x^2\\sin (1/x)$')\n",
    "plt.plot(x,x*x,'r-',label='$x^2$')\n",
    "plt.plot(x,-x*x,'r-',label='$-x^2$')\n",
    "plt.plot(x,0*x,'k-')\n",
    "plt.plot([0,0],[-0.6,0.6],'k')\n",
    "plt.ylim([-.6,.6])\n",
    "plt.xlim([-.5,.5])\n",
    "plt.legend();"
   ]
  },
  {
   "cell_type": "markdown",
   "metadata": {},
   "source": [
    "Theorem\n",
    "---\n",
    "$$\\lim\\limits_{\\theta\\to0}\\frac{\\sin \\theta}{\\theta}=1$$"
   ]
  },
  {
   "cell_type": "code",
   "execution_count": 25,
   "metadata": {
    "code_folding": [
     0
    ]
   },
   "outputs": [
    {
     "data": {
      "image/png": "[encoded data removed]",
      "text/plain": [
       "<Figure size 576x576 with 1 Axes>"
      ]
     },
     "metadata": {
      "needs_background": "light"
     },
     "output_type": "display_data"
    }
   ],
   "source": [
    "# viz\n",
    "fig=plt.figure(figsize=(8,8))\n",
    "t=np.linspace(0,2*np.pi,101)\n",
    "r=2\n",
    "x=r*np.cos(t)\n",
    "y=r*np.sin(t)\n",
    "plt.plot(x,y)\n",
    "\n",
    "plt.plot([0,1,1,0],[0,0,np.sqrt(3),0],color=\"red\")\n",
    "plt.plot([1,2*np.sqrt(3),1],[0,0,np.sqrt(3)],'r--')\n",
    "plt.plot([0.8,0.8,1],[0,0.2,0.2])\n",
    "\n",
    "plt.text(-0.3,1,\"$r=1$\",size=16)\n",
    "plt.text(-0.3,-0.3,\"$O$\",size=16)\n",
    "plt.text(1,-0.3,\"$B$\",size=16)\n",
    "plt.text(1,1.8,\"$A$\",size=16)\n",
    "plt.text(2.1,-0.3,\"$C$\",size=16)\n",
    "plt.text(3.5,-0.3,\"$D$\",size=16)\n",
    "plt.text(2,1.1,\"$|\\overline{AD}|=\\\\tan\\\\theta$\",size=16)\n",
    "plt.text(1.1,0.5,\"$|\\overline{AB}|=\\sin\\\\theta$\",size=16)\n",
    "plt.text(0.1,-0.5,\"$|\\overline{OB}|=\\cos\\\\theta$\",size=12)\n",
    "\n",
    "plt.text(0.1,0.05,\"$\\\\theta$\",size=16,color=\"blue\")\n",
    "plt.text(-2.5,-2.3,\"$|\\Delta OAB|=\\sin\\\\theta\\cos\\\\theta/2$\",size=16,color=\"blue\")\n",
    "plt.text(-2.5,-2.8,\"$|\\widehat{OAC}|=\\\\theta/2$\",size=16,color=\"blue\")\n",
    "plt.text(-2.5,-3.3,\"$|\\Delta OAD|=\\\\tan\\\\theta/2$\",size=16,color=\"blue\")\n",
    "\n",
    "\n",
    "plt.xlim([-4,4])\n",
    "plt.ylim([-4,4])\n",
    "\n",
    "plt.grid()\n",
    "ax=plt.gca()\n",
    "#ax.set_noxaxis\n",
    "ax=plt.gca()\n",
    "ax.xaxis.set_visible(False)\n",
    "ax.yaxis.set_visible(False)"
   ]
  },
  {
   "cell_type": "markdown",
   "metadata": {},
   "source": [
    "<details>\n",
    "  <summary>\n",
    "    <a class=\"btnfire small stroke\"><em class=\"fas fa-chevron-circle-down\"></em>\n",
    "        <font size=\"6em\"> $\\lim\\limits_{\\theta\\to0}\\frac{\\sin \\theta}{\\theta}=1$</font>\n",
    "    </a>\n",
    "    \n",
    "  </summary>\n",
    "    \n",
    "As above, consider a unit circle is centred at $O=(0,0)$; $\\vec{OA}$ intersects $X-$axis by $\\theta$ angle and $A$ is on the circle; area of sector $\\widehat{OAC}=\\theta$; $\\vec{AD}$ is the tangent line passing through $A$ and intersects $X-$axis at $D$.Theirfore:\n",
    "\n",
    "\\begin{eqnarray}\n",
    "  && \\Delta OAB\\subset\\widehat{OAC}\\subset\\Delta OAD\\cr\n",
    "  \\Rightarrow&& \\sin\\theta\\cos\\theta\\le\\theta\\le\\tan\\theta=\\frac{\\sin\\theta}{\\cos\\theta}\\cr\n",
    "  \\Rightarrow&& \\cos\\theta\\le\\frac{\\sin\\theta}{\\theta}\\le\\frac{1}{\\cos\\theta}\\cr\n",
    "  \\end{eqnarray}\n",
    "  This implies\n",
    "    $$\\lim_{\\theta\\to0}\\frac{\\sin\\theta}{\\theta}=1$$\n",
    "  by squeeze value theorem.\n",
    "\n",
    "</details>\n",
    "\n",
    "\n",
    "\n"
   ]
  },
  {
   "cell_type": "markdown",
   "metadata": {},
   "source": [
    "\n",
    "\n",
    "Example\n",
    "---\n",
    "1. $$\\lim\\limits_{\\theta\\to0}\\frac{\\sin 2\\theta}{3\\theta}=\\lim\\limits_{\\theta\\to0}\\frac{\\sin 2\\theta}{2\\theta}\\cdot\\frac{2}{3}=\\frac{2}{3}$$\n",
    "2. $$\\lim\\limits_{\\theta\\to0}\\frac{\\tan \\theta}{\\theta}=\\lim\\limits_{\\theta\\to0}\\frac{\\sin \\theta}{\\theta}\\cdot\\frac{1}{\\cos\\theta}=1$$\n",
    "3. $$\\lim\\limits_{\\theta\\to0}\\frac{\\cos \\theta-1}{\\theta}=\n",
    "      \\lim\\limits_{\\theta\\to0}\\frac{\\cos \\theta-1}{\\theta}\\frac{\\cos \\theta+1}{\\cos \\theta+1}=\n",
    "       -\\lim\\limits_{\\theta\\to0}\\sin\\theta\\cdot\\frac{\\sin\\theta}{\\theta}\\cdot\\frac{1}{\\cos \\theta+1}\n",
    "=0$$\n",
    "\n",
    "Example\n",
    "---\n",
    " \n",
    "\n",
    "1.  $$\\lim\\limits_{w\\to0}\\frac{\\sqrt{w+1}-\\sqrt{w^2+4}}{(w+2)^2-(w+1)^2}=(-\\frac{1}{3})$$\n",
    "2. $$\\lim\\limits_{x\\to4}\\frac{x-4}{\\sqrt x -2}=(4)$$\n",
    "3. $$ \\lim\\limits_{x\\to2^-}(x-[x])=(1)$$\n",
    "4. $$\\lim\\limits_{x\\to0^-} \\sqrt{\\frac{\\tan x-\\sin x}{x^2}}=(0)$$\n"
   ]
  },
  {
   "cell_type": "markdown",
   "metadata": {},
   "source": [
    "1.3 Definition of Limit\n",
    "---\n",
    "\n",
    "Example\n",
    "---\n",
    "$$\\lim\\limits_{x\\to2}(2x-1)=3$$\n",
    "\n",
    "Example\n",
    "---\n",
    "$$ f(x)=\\cases{1& if $x\\ge0$,\\\\0& if $x<0$,}$$\n",
    "Then $\\lim\\limits_{x\\to0}f(x)$ does not exist.\n",
    "\n",
    "\n",
    "\n",
    "Homework\n",
    "---\n",
    "\n",
    "1. (6) Find $\\delta$ such that $$\\lim_{x\\to-2}\\frac{x^2-4}{x+2}=-4, \\epsilon=.005$$\n",
    "\n",
    "Answer:\n",
    "---\n",
    "For $0\\ne|x-(-2)|=|x+2|<\\delta$,\n",
    "\n",
    "\\begin{eqnarray}\n",
    "\\epsilon=0.005&>&\\left|\\frac{x^2-4}{x+2}-(-4)\\right|\\\\\n",
    " &=& \\left|{x-2}+4\\right|\\\\\n",
    " &=& \\left|x+2\\right|\\\\\n",
    " \\Rightarrow&& \\delta=0.005      \n",
    "\\end{eqnarray}\n",
    "\n",
    "\n",
    "Example\n",
    "---\n",
    "Let\n",
    "$$ f(x)=\\cases{0& if $x$ rational,\\\\-1& if $x$  irrational,}$$\n",
    "Then $\\lim\\limits_{x\\to0}f(x)$ does not exist.\n",
    "\n",
    "Proof\n",
    "---\n",
    "Suppose that the limit exists and is equal to $L$. Then for $\\epsilon=|L|/2>0$, there is a $\\delta>0$ such that:\n",
    "$$\n",
    "|x-0|=|x|<\\delta\\Rightarrow |f(x)-L|<\\frac{|L|}{2}\n",
    "$$\n",
    "And the last result implies\n",
    "\n",
    "\\begin{eqnarray}\n",
    "&&-\\frac{|L|}{2}<|f(x)|-|L| \\cr\n",
    "\\Rightarrow &&\\frac{|L|}{2}<|f(x)| \\cr\n",
    "\\Rightarrow &&  f(x)>\\frac{|L|}{2}   \\text{ or }  f(x)<-\\frac{|L|}{2}\n",
    "\\end{eqnarray}\n",
    "i.e. $f(x)\\ne0$.\n",
    "\n",
    "However, this is contradict to the fact that\n",
    "$$ f(x)=0$$\n",
    "at some rational, $x$, and $|x|<\\delta$."
   ]
  },
  {
   "cell_type": "markdown",
   "metadata": {},
   "source": [
    "1.4 Continuous Function\n",
    "---\n",
    "\n",
    "**Definition**\n",
    "$f (x)$ is continuous at point $a$, if the following hold:\n",
    "\n",
    "a) $f (a)$ is defined,\n",
    "\n",
    "b) $\\lim\\limits_{x \\rightarrow a} f (x)$ exists,\n",
    "\n",
    "c) $\\lim\\limits_{x \\rightarrow a} f (x) = f (a)$\n",
    "\n",
    "$f(x)$ is continuous on set $D$ if it is continuous for any $x\\in D$.\n",
    "\n",
    "Properties of Continuity\n",
    "---\n",
    "Assume that $f (x)$ and $g (x)$ are continuous. Then\n",
    "1. $f (x) \\pm g (x)$ continuous;\n",
    "2. $c f (x), f (x) \\cdot g (x)$ are continuous;\n",
    "3.  $f (x) / g (x)$ is also continuous if $g (x) \\neq 0$.\n",
    "4. If $f$ is continuous on $L$ and $\\lim\\limits_{x\\to a}g(x)=L$, then $\\lim\\limits_{x\\to a}f(g(x))=f(L)$.\n",
    "\n",
    "\n",
    "$\\varepsilon - \\delta$ Definition\n",
    "---\n",
    "$f (x)$ is continuous at $x = a$ means that\n",
    "$$ \n",
    "\\forall \\varepsilon, \\exists \\delta \\rightarrow |f (x) - f (a) | <\n",
    "   \\epsilon \\text{ if } 0 < |x - a| < \\delta \n",
    "$$   \n",
    "\n",
    "\n",
    "The Intermediate Theorem\n",
    "---\n",
    "If $f (x)$  is continuous on $[a, b]$ and $f (a)$ is not equal to $f (b)$.\n",
    "Then there exists at least one $c$ in the interval, such that $f (c) = k$ for\n",
    "each $k$ between $f (a)$ and $f (b)$. \n",
    "\n",
    "Example\n",
    "---\n",
    "  Suppose that\n",
    "$$ f (x) : [0, 1]  \\overset{\\text{cont}}{\\longrightarrow}  [0, 1] $$\n",
    "  Then there exists at least one $c$ such that $f (c) = c$.\n",
    "  \n",
    "Proof\n",
    "---\n",
    "  Let $F (x) = x - f (x)$,\n",
    "  \n",
    "  $F (x)$ is continuous on $[0, 1]$.\n",
    "  \n",
    "\\begin{eqnarray}\n",
    "    F (0) & = & 0 - f (0) \\leq 0\\\\\n",
    "    F (1) & = & 1 - f (1) \\geq 0\n",
    "\\end{eqnarray}\n",
    "\n",
    "<img src=\"imgs/0/ch2p-13.png\" width=80% />  \n",
    "  \n",
    "And\n",
    "$$ F (0) \\leqslant \\color{red}{0} \\leqslant F (1) $$\n",
    "  then  $\\exists c \\in [0, 1] \\rightarrow \\color{brown}{0 = F (c) = c - f\n",
    "  (c)} \\Rightarrow c = f (c)$.\n",
    "\n"
   ]
  },
  {
   "cell_type": "markdown",
   "metadata": {
    "collapsed": true
   },
   "source": [
    "Exercise\n",
    "---\n",
    "p.55"
   ]
  },
  {
   "cell_type": "code",
   "execution_count": 22,
   "metadata": {},
   "outputs": [
    {
     "data": {
      "text/latex": [
       "$$\\large{\\lim_{x\\to -1}\\frac{x^{2} - 1}{x + 1}=-2}$$"
      ],
      "text/plain": [
       "<IPython.core.display.Latex object>"
      ]
     },
     "execution_count": 22,
     "metadata": {},
     "output_type": "execute_result"
    }
   ],
   "source": [
    "#20\n",
    "Limit((x**2-1)/(x+1),x,-1)"
   ]
  },
  {
   "cell_type": "code",
   "execution_count": 24,
   "metadata": {},
   "outputs": [
    {
     "data": {
      "text/latex": [
       "$$\\large{\\lim_{x\\to -4}\\frac{\\left(x + 4\\right) \\log{\\left(x + 6 \\right)}}{x^{2} - 16}=- \\frac{\\log{\\left(2 \\right)}}{8}}$$"
      ],
      "text/plain": [
       "<IPython.core.display.Latex object>"
      ]
     },
     "execution_count": 24,
     "metadata": {},
     "output_type": "execute_result"
    }
   ],
   "source": [
    "#22\n",
    "Limit((x+4)*log(x+6)/(x**2-16),x,-4)"
   ]
  },
  {
   "cell_type": "code",
   "execution_count": 25,
   "metadata": {},
   "outputs": [
    {
     "data": {
      "text/latex": [
       "$$\\large{\\lim_{x\\to 4}\\frac{x - 4}{x^{2} - 16}=0.125}$$"
      ],
      "text/plain": [
       "<IPython.core.display.Latex object>"
      ]
     },
     "execution_count": 25,
     "metadata": {},
     "output_type": "execute_result"
    }
   ],
   "source": [
    "#20\n",
    "Limit((x-4)/(x**2-16),x,4)"
   ]
  },
  {
   "cell_type": "code",
   "execution_count": 28,
   "metadata": {},
   "outputs": [
    {
     "data": {
      "text/latex": [
       "$$\\large{\\lim_{x\\to 0}\\frac{\\sin{\\left(x \\right)}}{5 x}=0.2}$$"
      ],
      "text/plain": [
       "<IPython.core.display.Latex object>"
      ]
     },
     "execution_count": 28,
     "metadata": {},
     "output_type": "execute_result"
    }
   ],
   "source": [
    "#32\n",
    "Limit(sin(x)/5/x,x,0)"
   ]
  },
  {
   "cell_type": "code",
   "execution_count": 29,
   "metadata": {},
   "outputs": [
    {
     "data": {
      "text/latex": [
       "$$\\large{\\lim_{x\\to 0}\\frac{\\tan^{2}{\\left(x \\right)}}{x}=0}$$"
      ],
      "text/plain": [
       "<IPython.core.display.Latex object>"
      ]
     },
     "execution_count": 29,
     "metadata": {},
     "output_type": "execute_result"
    }
   ],
   "source": [
    "#32\n",
    "Limit(tan(x)**2/x,x,0)"
   ]
  },
  {
   "cell_type": "code",
   "execution_count": 34,
   "metadata": {},
   "outputs": [
    {
     "data": {
      "text/latex": [
       "$$\\large{\\lim_{h\\to 0}\\frac{\\left(1 - \\cos{\\left(h \\right)}\\right)^{2}}{h}=0}$$"
      ],
      "text/plain": [
       "<IPython.core.display.Latex object>"
      ]
     },
     "execution_count": 34,
     "metadata": {},
     "output_type": "execute_result"
    }
   ],
   "source": [
    "#36\n",
    "h=symbols(\"h\")\n",
    "Limit((1-cos(h))**2/h,h,0)"
   ]
  },
  {
   "cell_type": "markdown",
   "metadata": {},
   "source": [
    "Note\n",
    "---\n",
    "1. limit evaluation is independent of the symbol of variable but itself.\n",
    "2. $$(1-\\cos h)^2=2\\sin^2\\frac{h}{2}\\text{ and} \\frac{ \\sin{h/2}}{h}\\to \\frac{1}{2}$$"
   ]
  },
  {
   "cell_type": "code",
   "execution_count": 37,
   "metadata": {},
   "outputs": [
    {
     "data": {
      "text/latex": [
       "$$\\large{\\lim_{x\\to 0}\\frac{4 e^{2 x} - 4}{e^{x} - 1}=8}$$"
      ],
      "text/plain": [
       "<IPython.core.display.Latex object>"
      ]
     },
     "execution_count": 37,
     "metadata": {},
     "output_type": "execute_result"
    }
   ],
   "source": [
    "# 40\n",
    "\n",
    "Limit(4*(exp(2*x)-1)/(exp(x)-1),x,0)"
   ]
  },
  {
   "cell_type": "markdown",
   "metadata": {},
   "source": [
    "Consider $t=\\exp(x)$."
   ]
  },
  {
   "cell_type": "code",
   "execution_count": 39,
   "metadata": {},
   "outputs": [
    {
     "data": {
      "text/latex": [
       "$$\\large{\\lim_{h\\to 0}\\frac{- 2 \\sqrt{x} + 2 \\sqrt{h + x}}{h}=\\frac{1}{\\sqrt{x}}}$$"
      ],
      "text/plain": [
       "<IPython.core.display.Latex object>"
      ]
     },
     "execution_count": 39,
     "metadata": {},
     "output_type": "execute_result"
    }
   ],
   "source": [
    "# 44 limit of (f(x+h)-f(x))/h\n",
    "Limit((2*sqrt(x+h)-2*sqrt(x))/h,h,0)"
   ]
  },
  {
   "cell_type": "code",
   "execution_count": 42,
   "metadata": {},
   "outputs": [
    {
     "data": {
      "text/latex": [
       "$$\\large{\\lim_{h\\to 0}\\frac{\\frac{1}{h + x + 3} - \\frac{1}{x + 3}}{h}=- \\frac{1}{x^{2} + 6 x + 9}}$$"
      ],
      "text/plain": [
       "<IPython.core.display.Latex object>"
      ]
     },
     "execution_count": 42,
     "metadata": {},
     "output_type": "execute_result"
    }
   ],
   "source": [
    "Limit((1/(x+h+3)-1/(x+3))/h,h,0)"
   ]
  },
  {
   "cell_type": "markdown",
   "metadata": {},
   "source": [
    "#46, sol=4\n",
    "\n",
    "Evaluate limit of $f(x)$ at $x=0$ if $4-x^2\\le f(x)\\le 4+x^2$."
   ]
  },
  {
   "cell_type": "code",
   "execution_count": 44,
   "metadata": {},
   "outputs": [
    {
     "data": {
      "text/latex": [
       "$$\\large{\\lim_{x\\to 0^+}\\frac{\\left|{x}\\right|}{x}=1}$$"
      ],
      "text/plain": [
       "<IPython.core.display.Latex object>"
      ]
     },
     "execution_count": 44,
     "metadata": {},
     "output_type": "execute_result"
    }
   ],
   "source": [
    "#60 Existence of |x|/x at x=0, False \n",
    "Limit(abs(x)/x,x,0,\"+\")"
   ]
  },
  {
   "cell_type": "code",
   "execution_count": 45,
   "metadata": {},
   "outputs": [
    {
     "data": {
      "text/latex": [
       "$$\\large{\\lim_{x\\to 0^-}\\frac{\\left|{x}\\right|}{x}=-1}$$"
      ],
      "text/plain": [
       "<IPython.core.display.Latex object>"
      ]
     },
     "execution_count": 45,
     "metadata": {},
     "output_type": "execute_result"
    }
   ],
   "source": [
    "# 60\n",
    "Limit(abs(x)/x,x,0,\"-\")"
   ]
  },
  {
   "cell_type": "code",
   "execution_count": 48,
   "metadata": {},
   "outputs": [
    {
     "data": {
      "text/latex": [
       "$$\\large{\\lim_{x\\to \\pi}\\frac{\\sin{\\left(x \\right)}}{x}=0}$$"
      ],
      "text/plain": [
       "<IPython.core.display.Latex object>"
      ]
     },
     "execution_count": 48,
     "metadata": {},
     "output_type": "execute_result"
    }
   ],
   "source": [
    "#61\n",
    "Limit(sin(x)/x,x,pi)"
   ]
  },
  {
   "cell_type": "code",
   "execution_count": null,
   "metadata": {},
   "outputs": [],
   "source": []
  }
 ],
 "metadata": {
  "hide_input": false,
  "kernelspec": {
   "display_name": "Python 3",
   "language": "python",
   "name": "python3"
  },
  "language_info": {
   "codemirror_mode": {
    "name": "ipython",
    "version": 3
   },
   "file_extension": ".py",
   "mimetype": "text/x-python",
   "name": "python",
   "nbconvert_exporter": "python",
   "pygments_lexer": "ipython3",
   "version": "3.8.5"
  },
  "toc": {
   "colors": {
    "hover_highlight": "#DAA520",
    "navigate_num": "#000000",
    "navigate_text": "#333333",
    "running_highlight": "#FF0000",
    "selected_highlight": "#FFD700",
    "sidebar_border": "#EEEEEE",
    "wrapper_background": "#FFFFFF"
   },
   "moveMenuLeft": true,
   "nav_menu": {
    "height": "512px",
    "width": "252px"
   },
   "navigate_menu": true,
   "number_sections": true,
   "sideBar": true,
   "threshold": 4,
   "toc_cell": false,
   "toc_section_display": "block",
   "toc_window_display": false,
   "widenNotebook": false
  }
 },
 "nbformat": 4,
 "nbformat_minor": 1
}
