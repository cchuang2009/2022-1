{
 "cells": [
  {
   "cell_type": "code",
   "execution_count": 2,
   "id": "45f73738",
   "metadata": {},
   "outputs": [],
   "source": [
    "from MultipleCalculus import *"
   ]
  },
  {
   "cell_type": "markdown",
   "id": "64c02454",
   "metadata": {},
   "source": [
    "P.385\n",
    "---"
   ]
  },
  {
   "cell_type": "code",
   "execution_count": 3,
   "id": "0640de96",
   "metadata": {},
   "outputs": [],
   "source": [
    "# 8\n",
    "f=x**2/sqrt(25-x**2)"
   ]
  },
  {
   "cell_type": "code",
   "execution_count": 4,
   "id": "3f4f9d57",
   "metadata": {},
   "outputs": [
    {
     "data": {
      "text/latex": [
       "Let $x = 5 u$:\\begin{eqnarray}\\int \\frac{x^{2}}{\\sqrt{25 - x^{2}}} dx &=& \\int \\frac{25 u^{2}}{\\sqrt{1 - u^{2}}} du\\end{eqnarray}"
      ],
      "text/plain": [
       "<IPython.core.display.Latex object>"
      ]
     },
     "execution_count": 4,
     "metadata": {},
     "output_type": "execute_result"
    }
   ],
   "source": [
    "scale_func(f,x,5*u)"
   ]
  },
  {
   "cell_type": "code",
   "execution_count": 5,
   "id": "8b5b5199",
   "metadata": {},
   "outputs": [
    {
     "data": {
      "text/latex": [
       "Replacing $x=\\sin{\\left(θ \\right)}$ gets:\\begin{eqnarray}\\int \\frac{25 x^{2}}{\\sqrt{1 - x^{2}}} d x&=& \\int 25 \\sin^{2}{\\left(θ \\right)} d 𝜽 \\cr&=& \\frac{25 θ}{2} - \\frac{25 \\sin{\\left(θ \\right)} \\cos{\\left(θ \\right)}}{2} +C \\cr\\end{eqnarray}"
      ],
      "text/plain": [
       "<IPython.core.display.Latex object>"
      ]
     },
     "execution_count": 5,
     "metadata": {},
     "output_type": "execute_result"
    }
   ],
   "source": [
    "f1=25*x**2/sqrt(1-x**2)\n",
    "Integration_TrigonometricSubstitution(f1,x,sin(t))"
   ]
  },
  {
   "cell_type": "code",
   "execution_count": 6,
   "id": "1f2f092a",
   "metadata": {},
   "outputs": [
    {
     "data": {
      "text/latex": [
       "Let $x = 5 u$:\\begin{eqnarray}\\int \\frac{\\sqrt{x^{2} - 25}}{x} dx &=& \\int \\frac{5 \\sqrt{u^{2} - 1}}{u} du\\end{eqnarray}"
      ],
      "text/plain": [
       "<IPython.core.display.Latex object>"
      ]
     },
     "execution_count": 6,
     "metadata": {},
     "output_type": "execute_result"
    }
   ],
   "source": [
    "# 6\n",
    "f=sqrt(x**2-25)/x\n",
    "scale_func(f,x,5*u)"
   ]
  },
  {
   "cell_type": "code",
   "execution_count": 7,
   "id": "673d5027",
   "metadata": {},
   "outputs": [
    {
     "data": {
      "text/latex": [
       "Replacing $u=\\sec{\\left(θ \\right)}$ gets:\\begin{eqnarray}\\int \\frac{5 \\sqrt{u^{2} - 1}}{u} d u&=& \\int 5 \\tan^{2}{\\left(θ \\right)} d 𝜽 \\cr&=& - 5 θ + \\frac{5 \\sin{\\left(θ \\right)}}{\\cos{\\left(θ \\right)}} +C \\cr\\end{eqnarray}"
      ],
      "text/plain": [
       "<IPython.core.display.Latex object>"
      ]
     },
     "execution_count": 7,
     "metadata": {},
     "output_type": "execute_result"
    }
   ],
   "source": [
    "f1=5*sqrt(x**2-1)/x\n",
    "f1u=5*sqrt(u**2-1)/u\n",
    "Integration_TrigonometricSubstitution(f1u,u,sec(t))"
   ]
  },
  {
   "cell_type": "code",
   "execution_count": 8,
   "id": "ac116d2c",
   "metadata": {},
   "outputs": [
    {
     "data": {
      "text/latex": [
       "Let $x = 2 u$:\\begin{eqnarray}\\int \\frac{x \\sqrt{x^{2} + 4}}{2} dx &=& \\int 4 u \\sqrt{u^{2} + 1} du\\end{eqnarray}"
      ],
      "text/plain": [
       "<IPython.core.display.Latex object>"
      ]
     },
     "execution_count": 8,
     "metadata": {},
     "output_type": "execute_result"
    }
   ],
   "source": [
    "# 9\n",
    "f=x*sqrt(4+x**2)/2\n",
    "scale_func(f,x,2*u)"
   ]
  },
  {
   "cell_type": "code",
   "execution_count": 9,
   "id": "192578cc",
   "metadata": {},
   "outputs": [
    {
     "data": {
      "text/latex": [
       "Replacing $u=\\tan{\\left(θ \\right)}$ gets:\\begin{eqnarray}\\int 4 u \\sqrt{u^{2} + 1} d u&=& \\int 4 \\tan{\\left(θ \\right)} \\sec^{3}{\\left(θ \\right)} d 𝜽 \\cr&=& \\frac{4}{3 \\cos^{3}{\\left(θ \\right)}} +C \\cr\\end{eqnarray}"
      ],
      "text/plain": [
       "<IPython.core.display.Latex object>"
      ]
     },
     "execution_count": 9,
     "metadata": {},
     "output_type": "execute_result"
    }
   ],
   "source": [
    "f1u=4*sqrt(u**2+1)*u\n",
    "Integration_TrigonometricSubstitution(f1u,u,tan(t))"
   ]
  },
  {
   "cell_type": "code",
   "execution_count": 10,
   "id": "ff6e8b1d",
   "metadata": {},
   "outputs": [
    {
     "data": {
      "text/latex": [
       "Let $x = \\log{\\left(u \\right)}$:\\begin{eqnarray}\\int \\sqrt{1 - e^{2 x}} e^{x} dx &=& \\int \\sqrt{1 - u^{2}} du\\end{eqnarray}"
      ],
      "text/plain": [
       "<IPython.core.display.Latex object>"
      ]
     },
     "execution_count": 10,
     "metadata": {},
     "output_type": "execute_result"
    }
   ],
   "source": [
    "#22\n",
    "f=exp(x)*sqrt(1-exp(2*x))\n",
    "scale_func(f,x,log(u))"
   ]
  },
  {
   "cell_type": "code",
   "execution_count": 11,
   "id": "ce5aed30",
   "metadata": {},
   "outputs": [
    {
     "data": {
      "text/latex": [
       "Replacing $u=\\sin{\\left(θ \\right)}$ gets:\\begin{eqnarray}\\int \\sqrt{1 - u^{2}} d u&=& \\int \\cos^{2}{\\left(θ \\right)} d 𝜽 \\cr&=& \\frac{θ}{2} + \\frac{\\sin{\\left(θ \\right)} \\cos{\\left(θ \\right)}}{2} +C \\cr\\end{eqnarray}"
      ],
      "text/plain": [
       "<IPython.core.display.Latex object>"
      ]
     },
     "execution_count": 11,
     "metadata": {},
     "output_type": "execute_result"
    }
   ],
   "source": [
    "f1u=sqrt(1-u**2)\n",
    "Integration_TrigonometricSubstitution(f1u,u,sin(t))"
   ]
  },
  {
   "cell_type": "code",
   "execution_count": 12,
   "id": "85e92384",
   "metadata": {},
   "outputs": [
    {
     "data": {
      "text/latex": [
       "Let $x = u^{2}$:\\begin{eqnarray}\\int \\frac{\\sqrt{1 - x}}{\\sqrt{x}} dx &=& \\int \\frac{2 u \\sqrt{1 - u^{2}}}{\\sqrt{u^{2}}} du\\end{eqnarray}"
      ],
      "text/plain": [
       "<IPython.core.display.Latex object>"
      ]
     },
     "execution_count": 12,
     "metadata": {},
     "output_type": "execute_result"
    }
   ],
   "source": [
    "#26\n",
    "f=sqrt(1-x)/sqrt(x)\n",
    "scale_func(f,x,u**2)"
   ]
  },
  {
   "cell_type": "code",
   "execution_count": 13,
   "id": "9193a563",
   "metadata": {},
   "outputs": [
    {
     "data": {
      "text/latex": [
       "Replacing $u=\\sin{\\left(θ \\right)}$ gets:\\begin{eqnarray}\\int 2 \\sqrt{1 - u^{2}} d u&=& \\int 2 \\cos^{2}{\\left(θ \\right)} d 𝜽 \\cr&=& θ + \\sin{\\left(θ \\right)} \\cos{\\left(θ \\right)} +C \\cr\\end{eqnarray}"
      ],
      "text/plain": [
       "<IPython.core.display.Latex object>"
      ]
     },
     "execution_count": 13,
     "metadata": {},
     "output_type": "execute_result"
    }
   ],
   "source": [
    "f1u=2*sqrt(1-u**2)\n",
    "Integration_TrigonometricSubstitution(f1u,u,sin(t))"
   ]
  },
  {
   "cell_type": "code",
   "execution_count": 80,
   "id": "cc2cab80",
   "metadata": {},
   "outputs": [
    {
     "data": {
      "text/latex": [
       "Let $x = \\sqrt{2} u$:\\begin{eqnarray}\\int \\frac{1}{x^{4} + 4 x^{2} + 4} dx &=& \\int \\frac{\\sqrt{2}}{4 u^{4} + 8 u^{2} + 4} du\\end{eqnarray}"
      ],
      "text/plain": [
       "<IPython.core.display.Latex object>"
      ]
     },
     "execution_count": 80,
     "metadata": {},
     "output_type": "execute_result"
    }
   ],
   "source": [
    "#23\n",
    "f=1/(4+4*x**2+x**4)\n",
    "scale_func(f,x,u*sqrt(2))"
   ]
  },
  {
   "cell_type": "code",
   "execution_count": 14,
   "id": "03cd7527",
   "metadata": {},
   "outputs": [
    {
     "data": {
      "text/latex": [
       "Replacing $u=\\tan{\\left(θ \\right)}$ gets:\\begin{eqnarray}\\int \\frac{\\sqrt{2}}{4 \\left(u^{2} + 1\\right)^{2}} d u&=& \\int \\frac{\\sqrt{2} \\cos^{2}{\\left(θ \\right)}}{4} d 𝜽 \\cr&=& \\frac{\\sqrt{2} \\left(\\frac{θ}{2} + \\frac{\\sin{\\left(θ \\right)} \\cos{\\left(θ \\right)}}{2}\\right)}{4} +C \\cr\\end{eqnarray}"
      ],
      "text/plain": [
       "<IPython.core.display.Latex object>"
      ]
     },
     "execution_count": 14,
     "metadata": {},
     "output_type": "execute_result"
    }
   ],
   "source": [
    "f1u=1/(1+u**2)**2/(2*sqrt(2))\n",
    "Integration_TrigonometricSubstitution(f1u,u,tan(t))"
   ]
  },
  {
   "cell_type": "code",
   "execution_count": 15,
   "id": "8211060d",
   "metadata": {},
   "outputs": [
    {
     "data": {
      "text/latex": [
       "Let $F'(x)=x$, and  $g(x)=\\operatorname{asin}{\\left(x \\right)}$, then: \\begin{eqnarray}\\int x \\operatorname{asin}{\\left(x \\right)} d x&=& \\frac{x^{2}}{2} \\cdot \\left(\\operatorname{asin}{\\left(x \\right)}\\right) - \\int \\left(\\frac{x^{2}}{2 \\sqrt{1 - x^{2}}}\\right) d u \\cr&=& \\frac{x^{2}}{2} \\cdot  \\left(\\operatorname{asin}{\\left(x \\right)}\\right)  - \\left(- \\frac{x \\sqrt{1 - x^{2}}}{4} + \\frac{\\operatorname{asin}{\\left(x \\right)}}{4}\\right) +C \\cr\\end{eqnarray}"
      ],
      "text/plain": [
       "<IPython.core.display.Latex object>"
      ]
     },
     "execution_count": 15,
     "metadata": {},
     "output_type": "execute_result"
    }
   ],
   "source": [
    "#26\n",
    "f=x*asin(x)\n",
    "Integration_by_Parts(f,x,asin(x),x)"
   ]
  },
  {
   "cell_type": "code",
   "execution_count": 16,
   "id": "228e0efc",
   "metadata": {},
   "outputs": [
    {
     "data": {
      "text/latex": [
       "Let $x = u + 2$:\\begin{eqnarray}\\int \\frac{1}{\\sqrt{- x^{2} + 4 x}} dx &=& \\int \\frac{1}{\\sqrt{4 - u^{2}}} du\\end{eqnarray}"
      ],
      "text/plain": [
       "<IPython.core.display.Latex object>"
      ]
     },
     "execution_count": 16,
     "metadata": {},
     "output_type": "execute_result"
    }
   ],
   "source": [
    "#27\n",
    "f=1/sqrt(4*x-x**2)\n",
    "scale_func(f,x,u+2)"
   ]
  },
  {
   "cell_type": "code",
   "execution_count": 17,
   "id": "d4377a82",
   "metadata": {},
   "outputs": [
    {
     "data": {
      "text/latex": [
       "$\\displaystyle \\operatorname{asin}{\\left(\\frac{u}{2} \\right)}$"
      ],
      "text/plain": [
       "asin(u/2)"
      ]
     },
     "execution_count": 17,
     "metadata": {},
     "output_type": "execute_result"
    }
   ],
   "source": [
    "fu=1/sqrt(4-u**2)\n",
    "integrate(fu,u)"
   ]
  },
  {
   "cell_type": "markdown",
   "id": "e0b3d423",
   "metadata": {},
   "source": [
    "p.394\n",
    "---"
   ]
  },
  {
   "cell_type": "code",
   "execution_count": 18,
   "id": "f99b343a",
   "metadata": {},
   "outputs": [
    {
     "data": {
      "text/latex": [
       "1. Integrand could be expressed as folllows:$$\\frac{3 - x}{3 x^{2} - 2 x - 1}=- \\frac{5}{6 x + 2} + \\frac{1}{2 x - 2}$$2. Thus the integal is evaluated as follows:\\begin{eqnarray}\\int \\frac{3 - x}{3 x^{2} - 2 x - 1} d x&=& \\int \\left( - \\frac{5}{6 x + 2} + \\frac{1}{2 x - 2} \\right)d x \\cr&=& \\frac{\\log{\\left(x - 1 \\right)}}{2} - \\frac{5 \\log{\\left(x + 0.333333333333333 \\right)}}{6} + C\\cr \\end{eqnarray}"
      ],
      "text/plain": [
       "<IPython.core.display.Latex object>"
      ]
     },
     "execution_count": 18,
     "metadata": {},
     "output_type": "execute_result"
    }
   ],
   "source": [
    "# 3\n",
    "f=(3-x)\n",
    "g=(3*x**2-2*x-1)\n",
    "PartialFracInt(f,g,x)"
   ]
  },
  {
   "cell_type": "code",
   "execution_count": 19,
   "id": "8b09f0e9",
   "metadata": {},
   "outputs": [
    {
     "data": {
      "text/latex": [
       "1. Integrand could be expressed as folllows:$$\\frac{4 x^{2} + 2 x - 1}{x^{3} + x^{2}}=\\frac{1}{x + 1} + \\frac{3}{x} - \\frac{1}{x^{2}}$$2. Thus the integal is evaluated as follows:\\begin{eqnarray}\\int \\frac{4 x^{2} + 2 x - 1}{x^{3} + x^{2}} d x&=& \\int \\left( \\frac{1}{x + 1} + \\frac{3}{x} - \\frac{1}{x^{2}} \\right)d x \\cr&=& 3 \\log{\\left(x \\right)} + \\log{\\left(x + 1 \\right)} + \\frac{1}{x} + C\\cr \\end{eqnarray}"
      ],
      "text/plain": [
       "<IPython.core.display.Latex object>"
      ]
     },
     "execution_count": 19,
     "metadata": {},
     "output_type": "execute_result"
    }
   ],
   "source": [
    "# 7\n",
    "f=(4*x**2+2*x-1)\n",
    "g=(x**3+x**2)\n",
    "PartialFracInt(f,g,x)"
   ]
  },
  {
   "cell_type": "code",
   "execution_count": 88,
   "id": "31c72b3d",
   "metadata": {},
   "outputs": [
    {
     "data": {
      "text/latex": [
       "1. Integrand could be expressed as folllows:$$\\frac{x^{2} + 5}{x^{3} - x^{2} + x + 3}=\\frac{2}{x^{2} - 2 x + 3} + \\frac{1}{x + 1}$$2. Thus the integal is evaluated as follows:\\begin{eqnarray}\\int \\frac{x^{2} + 5}{x^{3} - x^{2} + x + 3} d x&=& \\int \\left( \\frac{2}{x^{2} - 2 x + 3} + \\frac{1}{x + 1} \\right)d x \\cr&=& \\log{\\left(x + 1 \\right)} + \\sqrt{2} \\operatorname{atan}{\\left(\\frac{\\sqrt{2} x}{2} - \\frac{\\sqrt{2}}{2} \\right)} + C\\cr \\end{eqnarray}"
      ],
      "text/plain": [
       "<IPython.core.display.Latex object>"
      ]
     },
     "execution_count": 88,
     "metadata": {},
     "output_type": "execute_result"
    }
   ],
   "source": [
    "# 13\n",
    "f=(x**2+5)\n",
    "g=(x**3-x**2+x+3)\n",
    "PartialFracInt(f,g,x)"
   ]
  },
  {
   "cell_type": "markdown",
   "id": "9ab20ed7",
   "metadata": {},
   "source": [
    "p417\n",
    "---"
   ]
  },
  {
   "cell_type": "code",
   "execution_count": 20,
   "id": "89e9bad1",
   "metadata": {},
   "outputs": [
    {
     "data": {
      "text/latex": [
       "Replacing $x^{3} - 27$ by $u$ gets:\\begin{eqnarray}\\int x^{2} \\sqrt{x^{3} - 27} d x&=& \\int \\frac{\\sqrt{u}}{3} d u \\cr&=& \\frac{2 u^{1.5}}{9} +C \\cr\\end{eqnarray}"
      ],
      "text/plain": [
       "<IPython.core.display.Latex object>"
      ]
     },
     "execution_count": 20,
     "metadata": {},
     "output_type": "execute_result"
    }
   ],
   "source": [
    "#1\n",
    "f=x**2*sqrt(x**3-27)\n",
    "Integration_Substitution(f,x,x**3-27)"
   ]
  },
  {
   "cell_type": "code",
   "execution_count": 21,
   "id": "43953ba0",
   "metadata": {},
   "outputs": [
    {
     "data": {
      "text/latex": [
       "Replacing $\\log{\\left(2 x \\right)}$ by $u$ gets:\\begin{eqnarray}\\int \\frac{\\log{\\left(2 x \\right)}}{x} d x&=& \\int u d u \\cr&=& \\frac{u^{2}}{2} +C \\cr\\end{eqnarray}"
      ],
      "text/plain": [
       "<IPython.core.display.Latex object>"
      ]
     },
     "execution_count": 21,
     "metadata": {},
     "output_type": "execute_result"
    }
   ],
   "source": [
    "# 2 \n",
    "f=log(2*x)/x\n",
    "Integration_Substitution(f,x,log(2*x))"
   ]
  },
  {
   "cell_type": "code",
   "execution_count": 22,
   "id": "53d80ca3",
   "metadata": {},
   "outputs": [
    {
     "data": {
      "text/latex": [
       "Let $F'(x)=e^{1 - x}$, and  $g(x)=x$, then: \\begin{eqnarray}\\int x e^{1 - x} d x&=& - e^{1 - x} \\cdot \\left(x\\right) - \\int \\left(- e^{1 - x}\\right) d u \\cr&=& - e^{1 - x} \\cdot  \\left(x\\right)  - \\left(e^{1 - x}\\right) +C \\cr\\end{eqnarray}"
      ],
      "text/plain": [
       "<IPython.core.display.Latex object>"
      ]
     },
     "execution_count": 22,
     "metadata": {},
     "output_type": "execute_result"
    }
   ],
   "source": [
    "#3\n",
    "f=x*exp(1-x)\n",
    "Integration_by_Parts(f,exp(1-x),x,x)"
   ]
  },
  {
   "cell_type": "code",
   "execution_count": 23,
   "id": "c1c3dbe7",
   "metadata": {},
   "outputs": [
    {
     "data": {
      "text/latex": [
       "Let $F'(x)=e^{\\frac{x}{2}}$, and  $g(x)=x^{2}$, then: \\begin{eqnarray}\\int x^{2} e^{\\frac{x}{2}} d x&=& 2 e^{\\frac{x}{2}} \\cdot \\left(x^{2}\\right) - \\int \\left(4 x e^{\\frac{x}{2}}\\right) d u \\cr&=& 2 e^{\\frac{x}{2}} \\cdot  \\left(x^{2}\\right)  - \\left(\\left(8 x - 16\\right) e^{\\frac{x}{2}}\\right) +C \\cr\\end{eqnarray}"
      ],
      "text/plain": [
       "<IPython.core.display.Latex object>"
      ]
     },
     "execution_count": 23,
     "metadata": {},
     "output_type": "execute_result"
    }
   ],
   "source": [
    "# 4 \n",
    "f= x**2*exp(x/2)\n",
    "Integration_by_Parts(f,exp(x/2),x**2,x)"
   ]
  },
  {
   "cell_type": "code",
   "execution_count": 24,
   "id": "b6dd1876",
   "metadata": {},
   "outputs": [
    {
     "data": {
      "text/latex": [
       "Let $F'(x)=e^{2 x}$, and  $g(x)=\\sin{\\left(2 x \\right)}$, then: \\begin{eqnarray}\\int e^{2 x} \\sin{\\left(2 x \\right)} d x&=& \\frac{e^{2 x}}{2} \\cdot \\left(\\sin{\\left(2 x \\right)}\\right) - \\int \\left(e^{2 x} \\cos{\\left(2 x \\right)}\\right) d u \\cr&=& \\frac{e^{2 x}}{2} \\cdot  \\left(\\sin{\\left(2 x \\right)}\\right)  - \\left(\\frac{e^{2 x} \\sin{\\left(2 x \\right)}}{4} + \\frac{e^{2 x} \\cos{\\left(2 x \\right)}}{4}\\right) +C \\cr\\end{eqnarray}"
      ],
      "text/plain": [
       "<IPython.core.display.Latex object>"
      ]
     },
     "execution_count": 24,
     "metadata": {},
     "output_type": "execute_result"
    }
   ],
   "source": [
    "# 5\n",
    "f= exp(2*x)*sin(2*x)\n",
    "Integration_by_Parts(f,exp(x*2),sin(2*x),x)"
   ]
  },
  {
   "cell_type": "code",
   "execution_count": 25,
   "id": "6d7250a7",
   "metadata": {},
   "outputs": [
    {
     "data": {
      "text/latex": [
       "Let $F'(x)=\\sec^{2}{\\left(x \\right)}$, and  $g(x)=x$, then: \\begin{eqnarray}\\int x \\sec^{2}{\\left(x \\right)} d x&=& \\frac{\\sin{\\left(x \\right)}}{\\cos{\\left(x \\right)}} \\cdot \\left(x\\right) - \\int \\left(\\frac{\\sin{\\left(x \\right)}}{\\cos{\\left(x \\right)}}\\right) d u \\cr&=& \\frac{\\sin{\\left(x \\right)}}{\\cos{\\left(x \\right)}} \\cdot  \\left(x\\right)  - \\left(- \\log{\\left(\\cos{\\left(x \\right)} \\right)}\\right) +C \\cr\\end{eqnarray}"
      ],
      "text/plain": [
       "<IPython.core.display.Latex object>"
      ]
     },
     "execution_count": 25,
     "metadata": {},
     "output_type": "execute_result"
    }
   ],
   "source": [
    "# 6\n",
    "f= x*sec(x)**2\n",
    "Integration_by_Parts(f,sec(x)**2,x,x)"
   ]
  },
  {
   "cell_type": "code",
   "execution_count": 26,
   "id": "a23e2d25",
   "metadata": {},
   "outputs": [
    {
     "data": {
      "text/latex": [
       "Let $F'(x)=1$, and  $g(x)=\\log{\\left(\\sqrt{x^{2} - 4} \\right)}$, then: \\begin{eqnarray}\\int \\log{\\left(\\sqrt{x^{2} - 4} \\right)} d x&=& x \\cdot \\left(\\log{\\left(\\sqrt{x^{2} - 4} \\right)}\\right) - \\int \\left(\\frac{x^{2}}{x^{2} - 4}\\right) d u \\cr&=& x \\cdot  \\left(\\log{\\left(\\sqrt{x^{2} - 4} \\right)}\\right)  - \\left(x + \\log{\\left(x - 2 \\right)} - \\log{\\left(x + 2 \\right)}\\right) +C \\cr\\end{eqnarray}"
      ],
      "text/plain": [
       "<IPython.core.display.Latex object>"
      ]
     },
     "execution_count": 26,
     "metadata": {},
     "output_type": "execute_result"
    }
   ],
   "source": [
    "# 7\n",
    "f= log(sqrt(x**2-4))\n",
    "Integration_by_Parts(f,1,f,x)"
   ]
  },
  {
   "cell_type": "code",
   "execution_count": 27,
   "id": "24fd18e1",
   "metadata": {},
   "outputs": [
    {
     "data": {
      "text/latex": [
       "Let $F'(x)=1$, and  $g(x)=\\operatorname{atan}{\\left(2 x \\right)}$, then: \\begin{eqnarray}\\int \\operatorname{atan}{\\left(2 x \\right)} d x&=& x \\cdot \\left(\\operatorname{atan}{\\left(2 x \\right)}\\right) - \\int \\left(\\frac{2 x}{4 x^{2} + 1}\\right) d u \\cr&=& x \\cdot  \\left(\\operatorname{atan}{\\left(2 x \\right)}\\right)  - \\left(\\frac{\\log{\\left(4 x^{2} + 1 \\right)}}{4}\\right) +C \\cr\\end{eqnarray}"
      ],
      "text/plain": [
       "<IPython.core.display.Latex object>"
      ]
     },
     "execution_count": 27,
     "metadata": {},
     "output_type": "execute_result"
    }
   ],
   "source": [
    "#8\n",
    "f=atan(2*x)\n",
    "Integration_by_Parts(f,1,f,x)"
   ]
  },
  {
   "cell_type": "code",
   "execution_count": 100,
   "id": "39bd6704",
   "metadata": {},
   "outputs": [
    {
     "data": {
      "text/latex": [
       "Replacing $\\cos{\\left(x \\right)}$ by $u$ gets:\\begin{eqnarray}\\int \\sin{\\left(x \\right)} \\cos^{4}{\\left(x \\right)} d x&=& \\int - u^{4} d u \\cr&=& - \\frac{u^{5}}{5} +C \\cr\\end{eqnarray}"
      ],
      "text/plain": [
       "<IPython.core.display.Latex object>"
      ]
     },
     "execution_count": 100,
     "metadata": {},
     "output_type": "execute_result"
    }
   ],
   "source": [
    "#9\n",
    "f=sin(x)*cos(x)**4\n",
    "Integration_Trigonometric_Substitution_odd(f,x,cos(x))"
   ]
  },
  {
   "cell_type": "code",
   "execution_count": 28,
   "id": "8512255c",
   "metadata": {},
   "outputs": [
    {
     "data": {
      "text/latex": [
       "Replacing $\\sin{\\left(x \\right)}$ by $u$ gets:\\begin{eqnarray}\\int \\sin^{2}{\\left(x \\right)} \\cos^{3}{\\left(x \\right)} d x&=& \\int u^{2} \\left(1 - u^{2}\\right) d u \\cr&=& - \\frac{u^{5}}{5} + \\frac{u^{3}}{3} +C \\cr\\end{eqnarray}"
      ],
      "text/plain": [
       "<IPython.core.display.Latex object>"
      ]
     },
     "execution_count": 28,
     "metadata": {},
     "output_type": "execute_result"
    }
   ],
   "source": [
    "#10\n",
    "f=sin(x)**2*cos(x)**3\n",
    "Integration_Trigonometric_odd(f,x,sin(x))"
   ]
  },
  {
   "cell_type": "code",
   "execution_count": 29,
   "id": "f402c513",
   "metadata": {},
   "outputs": [
    {
     "data": {
      "text/latex": [
       "Let $x = \\frac{u + 1}{\\pi}$:\\begin{eqnarray}\\int \\cos^{3}{\\left(\\pi x - 1 \\right)} dx &=& \\int \\frac{\\cos^{3}{\\left(u \\right)}}{\\pi} du\\end{eqnarray}"
      ],
      "text/plain": [
       "<IPython.core.display.Latex object>"
      ]
     },
     "execution_count": 29,
     "metadata": {},
     "output_type": "execute_result"
    }
   ],
   "source": [
    "#11\n",
    "f=cos(pi*x-1)**3\n",
    "scale_func(f,x,(u+1)/pi)"
   ]
  },
  {
   "cell_type": "code",
   "execution_count": 30,
   "id": "b31b9623",
   "metadata": {},
   "outputs": [
    {
     "data": {
      "text/latex": [
       "Replacing $\\sin{\\left(u \\right)}$ by $u$ gets:\\begin{eqnarray}\\int \\frac{\\cos^{3}{\\left(u \\right)}}{\\pi} d u&=& \\int \\frac{1 - u^{2}}{\\pi} d u \\cr&=& - \\frac{u^{3}}{3 \\pi} + \\frac{u}{\\pi} +C \\cr\\end{eqnarray}"
      ],
      "text/plain": [
       "<IPython.core.display.Latex object>"
      ]
     },
     "execution_count": 30,
     "metadata": {},
     "output_type": "execute_result"
    }
   ],
   "source": [
    "fu=cos(u)**3/pi\n",
    "Integration_Trigonometric_odd(fu,u,sin(u))"
   ]
  },
  {
   "cell_type": "code",
   "execution_count": 106,
   "id": "2c9886fb",
   "metadata": {},
   "outputs": [
    {
     "data": {
      "text/latex": [
       "Let $x = \\frac{2 u}{\\pi}$:\\begin{eqnarray}\\int \\cos^{2}{\\left(\\frac{\\pi x}{2} \\right)} dx &=& \\int \\frac{2 \\cos^{2}{\\left(u \\right)}}{\\pi} du\\end{eqnarray}"
      ],
      "text/plain": [
       "<IPython.core.display.Latex object>"
      ]
     },
     "execution_count": 106,
     "metadata": {},
     "output_type": "execute_result"
    }
   ],
   "source": [
    "#12\n",
    "f=cos(pi*x/2)**2\n",
    "scale_func(f,x,2*u/pi)"
   ]
  },
  {
   "cell_type": "code",
   "execution_count": 31,
   "id": "2b459e98",
   "metadata": {},
   "outputs": [
    {
     "data": {
      "text/latex": [
       "\\begin{eqnarray}\\frac{2 \\cos^{2}{\\left(u \\right)}}{\\pi} &=& \\frac{\\cos{\\left(2 u \\right)} + 1.0}{\\pi} \\cr &=& \\frac{\\cos{\\left(2 u \\right)}}{\\pi} + \\frac{1}{\\pi} \\cr\\Rightarrow \\int \\frac{2 \\cos^{2}{\\left(u \\right)}}{\\pi} dx &=&\\int \\left(\\frac{\\cos{\\left(2 u \\right)}}{\\pi} + \\frac{1}{\\pi} \\right) dx \\cr &=& \\frac{u}{\\pi} + \\frac{\\sin{\\left(2 u \\right)}}{2 \\pi} +C \\cr\\end{eqnarray}"
      ],
      "text/plain": [
       "<IPython.core.display.Latex object>"
      ]
     },
     "execution_count": 31,
     "metadata": {},
     "output_type": "execute_result"
    }
   ],
   "source": [
    "fu=2*cos(u)**2/pi\n",
    "Integration_Trigonometric_even(fu,u)"
   ]
  },
  {
   "cell_type": "code",
   "execution_count": 32,
   "id": "c128146e",
   "metadata": {},
   "outputs": [
    {
     "data": {
      "text/latex": [
       "$\\displaystyle \\frac{4 \\sin{\\left(\\frac{x}{2} \\right)}}{3 \\cos{\\left(\\frac{x}{2} \\right)}} + \\frac{2 \\sin{\\left(\\frac{x}{2} \\right)}}{3 \\cos^{3}{\\left(\\frac{x}{2} \\right)}}$"
      ],
      "text/plain": [
       "4*sin(x/2)/(3*cos(x/2)) + 2*sin(x/2)/(3*cos(x/2)**3)"
      ]
     },
     "execution_count": 32,
     "metadata": {},
     "output_type": "execute_result"
    }
   ],
   "source": [
    "#n.13\n",
    "integrate(sec(x/2)**4,x)"
   ]
  },
  {
   "cell_type": "code",
   "execution_count": 33,
   "id": "7a80cbae",
   "metadata": {},
   "outputs": [
    {
     "data": {
      "text/latex": [
       "$\\displaystyle \\frac{1}{4 \\cos^{4}{\\left(x \\right)}}$"
      ],
      "text/plain": [
       "1/(4*cos(x)**4)"
      ]
     },
     "execution_count": 33,
     "metadata": {},
     "output_type": "execute_result"
    }
   ],
   "source": [
    "#14\n",
    "integrate(tan(x)*sec(x)**4,x)"
   ]
  },
  {
   "cell_type": "code",
   "execution_count": 34,
   "id": "cfb513d6",
   "metadata": {},
   "outputs": [
    {
     "data": {
      "text/latex": [
       "Replacing $x^{2}$ by $u$ gets:\\begin{eqnarray}\\int x \\tan^{4}{\\left(x^{2} \\right)} d x&=& \\int \\frac{\\tan^{4}{\\left(u \\right)}}{2} d u \\cr&=& \\frac{u}{2} + \\frac{\\sin^{3}{\\left(u \\right)}}{6 \\cos^{3}{\\left(u \\right)}} - \\frac{\\sin{\\left(u \\right)}}{2 \\cos{\\left(u \\right)}} +C \\cr\\end{eqnarray}"
      ],
      "text/plain": [
       "<IPython.core.display.Latex object>"
      ]
     },
     "execution_count": 34,
     "metadata": {},
     "output_type": "execute_result"
    }
   ],
   "source": [
    "#15\n",
    "f=x*tan(x**2)**4\n",
    "Integration_Substitution(f,x,x**2)"
   ]
  },
  {
   "cell_type": "code",
   "execution_count": 35,
   "id": "96ef6f00",
   "metadata": {},
   "outputs": [
    {
     "data": {
      "text/latex": [
       "$\\displaystyle \\frac{\\sin^{3}{\\left(x \\right)}}{3}$"
      ],
      "text/plain": [
       "sin(x)**3/3"
      ]
     },
     "execution_count": 35,
     "metadata": {},
     "output_type": "execute_result"
    }
   ],
   "source": [
    "#16\n",
    "f=tan(x)**2/sec(x)**3\n",
    "integrate(f,x)"
   ]
  },
  {
   "cell_type": "code",
   "execution_count": 36,
   "id": "798e5dc2",
   "metadata": {},
   "outputs": [
    {
     "data": {
      "text/latex": [
       "$\\displaystyle - \\frac{2}{\\tan{\\left(\\frac{x}{2} \\right)} - 1}$"
      ],
      "text/plain": [
       "-2/(tan(x/2) - 1)"
      ]
     },
     "execution_count": 36,
     "metadata": {},
     "output_type": "execute_result"
    }
   ],
   "source": [
    "#17\n",
    "f=1/(1-sin(x))\n",
    "integrate(f,x)"
   ]
  },
  {
   "cell_type": "code",
   "execution_count": 37,
   "id": "770a7cf6",
   "metadata": {},
   "outputs": [
    {
     "data": {
      "text/latex": [
       "$\\displaystyle \\frac{𝜽 \\sin^{2}{\\left(𝜽 \\right)} \\sin{\\left(2 𝜽 \\right)}}{2} + 𝜽 \\sin{\\left(𝜽 \\right)} \\cos{\\left(𝜽 \\right)} \\cos{\\left(2 𝜽 \\right)} - \\frac{𝜽 \\sin{\\left(2 𝜽 \\right)} \\cos^{2}{\\left(𝜽 \\right)}}{2} + \\frac{\\sin{\\left(𝜽 \\right)} \\sin{\\left(2 𝜽 \\right)} \\cos{\\left(𝜽 \\right)}}{2} - \\sin{\\left(𝜽 \\right)} \\cos{\\left(𝜽 \\right)} \\cos{\\left(2 𝜽 \\right)} + \\sin{\\left(2 𝜽 \\right)} \\cos^{2}{\\left(𝜽 \\right)}$"
      ],
      "text/plain": [
       "𝜽*sin(𝜽)**2*sin(2*𝜽)/2 + 𝜽*sin(𝜽)*cos(𝜽)*cos(2*𝜽) - 𝜽*sin(2*𝜽)*cos(𝜽)**2/2 + sin(𝜽)*sin(2*𝜽)*cos(𝜽)/2 - sin(𝜽)*cos(𝜽)*cos(2*𝜽) + sin(2*𝜽)*cos(𝜽)**2"
      ]
     },
     "execution_count": 37,
     "metadata": {},
     "output_type": "execute_result"
    }
   ],
   "source": [
    "#18\n",
    "f=cos(2*t)*(cos(t)+sin(t))**2\n",
    "integrate(f,t)"
   ]
  },
  {
   "cell_type": "code",
   "execution_count": 38,
   "id": "29f971c7",
   "metadata": {},
   "outputs": [],
   "source": [
    "# or f=cos(2t)(1+sin(2t)=cos(2t)+sin(4t)/2)\n",
    "f2=cos(2*t)*(1+sin(2*t))"
   ]
  },
  {
   "cell_type": "code",
   "execution_count": 39,
   "id": "e9681d52",
   "metadata": {},
   "outputs": [
    {
     "data": {
      "text/latex": [
       "$\\displaystyle \\frac{\\sin{\\left(2 𝜽 \\right)}}{2} - \\frac{\\cos{\\left(4 𝜽 \\right)}}{8}$"
      ],
      "text/plain": [
       "sin(2*𝜽)/2 - cos(4*𝜽)/8"
      ]
     },
     "execution_count": 39,
     "metadata": {},
     "output_type": "execute_result"
    }
   ],
   "source": [
    "integrate(cos(2*t)+sin(4*t)/2,t)"
   ]
  },
  {
   "cell_type": "code",
   "execution_count": 40,
   "id": "87132837",
   "metadata": {},
   "outputs": [
    {
     "data": {
      "text/latex": [
       "Let $x = 2 u$:\\begin{eqnarray}\\int - \\frac{12}{x^{2} \\sqrt{4 - x^{2}}} dx &=& \\int - \\frac{3}{u^{2} \\sqrt{1 - u^{2}}} du\\end{eqnarray}"
      ],
      "text/plain": [
       "<IPython.core.display.Latex object>"
      ]
     },
     "execution_count": 40,
     "metadata": {},
     "output_type": "execute_result"
    }
   ],
   "source": [
    "# 21\n",
    "f=-12/x**2/sqrt(4-x**2)\n",
    "scale_func(f,x,2*u)"
   ]
  },
  {
   "cell_type": "code",
   "execution_count": 41,
   "id": "941ad024",
   "metadata": {},
   "outputs": [
    {
     "data": {
      "text/latex": [
       "Replacing $u=\\sin{\\left(θ \\right)}$ gets:\\begin{eqnarray}\\int - \\frac{3}{u^{2} \\sqrt{1 - u^{2}}} d u&=& \\int - \\frac{3}{\\sin^{2}{\\left(θ \\right)}} d 𝜽 \\cr&=& \\frac{3 \\cos{\\left(θ \\right)}}{\\sin{\\left(θ \\right)}} +C \\cr\\end{eqnarray}"
      ],
      "text/plain": [
       "<IPython.core.display.Latex object>"
      ]
     },
     "execution_count": 41,
     "metadata": {},
     "output_type": "execute_result"
    }
   ],
   "source": [
    "fu=-3/u**2/sqrt(1-u**2)\n",
    "Integration_TrigonometricSubstitution(fu,u,sin(t))"
   ]
  },
  {
   "cell_type": "code",
   "execution_count": 42,
   "id": "3debf796",
   "metadata": {},
   "outputs": [
    {
     "data": {
      "text/latex": [
       "Let $x = 3 u$:\\begin{eqnarray}\\int \\frac{\\sqrt{x^{2} - 9}}{x} dx &=& \\int \\frac{3 \\sqrt{u^{2} - 1}}{u} du\\end{eqnarray}"
      ],
      "text/plain": [
       "<IPython.core.display.Latex object>"
      ]
     },
     "execution_count": 42,
     "metadata": {},
     "output_type": "execute_result"
    }
   ],
   "source": [
    "# 22 \n",
    "f=sqrt(x**2-9)/x\n",
    "scale_func(f,x,3*u)"
   ]
  },
  {
   "cell_type": "code",
   "execution_count": 43,
   "id": "f8402c86",
   "metadata": {},
   "outputs": [
    {
     "data": {
      "text/latex": [
       "Replacing $u=\\sec{\\left(θ \\right)}$ gets:\\begin{eqnarray}\\int \\frac{3 \\sqrt{u^{2} - 1}}{u} d u&=& \\int 3 \\tan^{2}{\\left(θ \\right)} d 𝜽 \\cr&=& - 3 θ + \\frac{3 \\sin{\\left(θ \\right)}}{\\cos{\\left(θ \\right)}} +C \\cr\\end{eqnarray}"
      ],
      "text/plain": [
       "<IPython.core.display.Latex object>"
      ]
     },
     "execution_count": 43,
     "metadata": {},
     "output_type": "execute_result"
    }
   ],
   "source": [
    "fu=3*sqrt(u**2-1)/u\n",
    "Integration_TrigonometricSubstitution(fu,u,sec(t))"
   ]
  },
  {
   "cell_type": "code",
   "execution_count": 44,
   "id": "218de75e",
   "metadata": {},
   "outputs": [
    {
     "data": {
      "text/latex": [
       "Let $x = 2 u$:\\begin{eqnarray}\\int \\frac{x^{2}}{\\sqrt{x^{2} + 4}} dx &=& \\int \\frac{4 u^{2}}{\\sqrt{u^{2} + 1}} du\\end{eqnarray}"
      ],
      "text/plain": [
       "<IPython.core.display.Latex object>"
      ]
     },
     "execution_count": 44,
     "metadata": {},
     "output_type": "execute_result"
    }
   ],
   "source": [
    "# 23 \n",
    "f=x**2/sqrt(4+x**2)\n",
    "scale_func(f,x,2*u)"
   ]
  },
  {
   "cell_type": "code",
   "execution_count": 45,
   "id": "183c521d",
   "metadata": {},
   "outputs": [
    {
     "data": {
      "text/latex": [
       "Replacing $u=\\tan{\\left(θ \\right)}$ gets:\\begin{eqnarray}\\int \\frac{4 u^{2}}{\\sqrt{u^{2} + 1}} d u&=& \\int 4 \\tan^{2}{\\left(θ \\right)} \\sec{\\left(θ \\right)} d 𝜽 \\cr&=& \\log{\\left(\\sin{\\left(θ \\right)} - 1 \\right)} - \\log{\\left(\\sin{\\left(θ \\right)} + 1 \\right)} - \\frac{4 \\sin{\\left(θ \\right)}}{2 \\sin^{2}{\\left(θ \\right)} - 2} +C \\cr\\end{eqnarray}"
      ],
      "text/plain": [
       "<IPython.core.display.Latex object>"
      ]
     },
     "execution_count": 45,
     "metadata": {},
     "output_type": "execute_result"
    }
   ],
   "source": [
    "fu=4*u**2/sqrt(u**2+1)\n",
    "Integration_TrigonometricSubstitution(fu,u,tan(t))"
   ]
  },
  {
   "cell_type": "code",
   "execution_count": 46,
   "id": "84d362ac",
   "metadata": {},
   "outputs": [
    {
     "data": {
      "text/latex": [
       "Let $x = \\frac{5 u}{3}$:\\begin{eqnarray}\\int \\sqrt{25 - 9 x^{2}} dx &=& \\int \\frac{25 \\sqrt{1 - u^{2}}}{3} du\\end{eqnarray}"
      ],
      "text/plain": [
       "<IPython.core.display.Latex object>"
      ]
     },
     "execution_count": 46,
     "metadata": {},
     "output_type": "execute_result"
    }
   ],
   "source": [
    "# 24 \n",
    "f=sqrt(25-9*x**2)\n",
    "scale_func(f,x,5*u/3)"
   ]
  },
  {
   "cell_type": "code",
   "execution_count": 47,
   "id": "1a3c94de",
   "metadata": {},
   "outputs": [
    {
     "data": {
      "text/latex": [
       "Replacing $u=\\sin{\\left(θ \\right)}$ gets:\\begin{eqnarray}\\int \\frac{25 \\sqrt{1 - u^{2}}}{3} d u&=& \\int \\frac{25 \\cos^{2}{\\left(θ \\right)}}{3} d 𝜽 \\cr&=& \\frac{25 θ}{6} + \\frac{25 \\sin{\\left(θ \\right)} \\cos{\\left(θ \\right)}}{6} +C \\cr\\end{eqnarray}"
      ],
      "text/plain": [
       "<IPython.core.display.Latex object>"
      ]
     },
     "execution_count": 47,
     "metadata": {},
     "output_type": "execute_result"
    }
   ],
   "source": [
    "fu=25*sqrt(1-u**2)/3\n",
    "Integration_TrigonometricSubstitution(fu,u,sin(t))"
   ]
  },
  {
   "cell_type": "code",
   "execution_count": 48,
   "id": "74d56521",
   "metadata": {},
   "outputs": [
    {
     "data": {
      "text/latex": [
       "Let $x = 4 u$:\\begin{eqnarray}\\int \\frac{6 x^{3}}{\\sqrt{x^{2} + 16}} dx &=& \\int \\frac{384 u^{3}}{\\sqrt{u^{2} + 1}} du\\end{eqnarray}"
      ],
      "text/plain": [
       "<IPython.core.display.Latex object>"
      ]
     },
     "execution_count": 48,
     "metadata": {},
     "output_type": "execute_result"
    }
   ],
   "source": [
    "# 25 \n",
    "f=6*x**3/sqrt(16+x**2)\n",
    "scale_func(f,x,4*u)"
   ]
  },
  {
   "cell_type": "code",
   "execution_count": 49,
   "id": "1f951681",
   "metadata": {},
   "outputs": [
    {
     "data": {
      "text/latex": [
       "Replacing $u=\\tan{\\left(θ \\right)}$ gets:\\begin{eqnarray}\\int \\frac{384 u^{3}}{\\sqrt{u^{2} + 1}} d u&=& \\int 384 \\tan^{3}{\\left(θ \\right)} \\sec{\\left(θ \\right)} d 𝜽 \\cr&=& \\frac{128 - 384 \\cos^{2}{\\left(θ \\right)}}{\\cos^{3}{\\left(θ \\right)}} +C \\cr\\end{eqnarray}"
      ],
      "text/plain": [
       "<IPython.core.display.Latex object>"
      ]
     },
     "execution_count": 49,
     "metadata": {},
     "output_type": "execute_result"
    }
   ],
   "source": [
    "fu=384*u**3/sqrt(1+u**2)\n",
    "Integration_TrigonometricSubstitution(fu,u,tan(t))"
   ]
  },
  {
   "cell_type": "code",
   "execution_count": 50,
   "id": "2f7a426e",
   "metadata": {},
   "outputs": [
    {
     "data": {
      "text/latex": [
       "Let $x = 3 u$:\\begin{eqnarray}\\int x^{3} \\sqrt{x^{2} - 9} dx &=& \\int 243 u^{3} \\sqrt{u^{2} - 1} du\\end{eqnarray}"
      ],
      "text/plain": [
       "<IPython.core.display.Latex object>"
      ]
     },
     "execution_count": 50,
     "metadata": {},
     "output_type": "execute_result"
    }
   ],
   "source": [
    "# 26 \n",
    "f=x**3*sqrt(x**2-9)\n",
    "scale_func(f,x,3*u)"
   ]
  },
  {
   "cell_type": "code",
   "execution_count": 51,
   "id": "9ec3e46d",
   "metadata": {},
   "outputs": [
    {
     "data": {
      "text/latex": [
       "Replacing $u=\\sec{\\left(θ \\right)}$ gets:\\begin{eqnarray}\\int 243 u^{3} \\sqrt{u^{2} - 1} d u&=& \\int 243 \\tan^{2}{\\left(θ \\right)} \\sec^{4}{\\left(θ \\right)} d 𝜽 \\cr&=& - \\frac{162 \\sin{\\left(θ \\right)}}{5 \\cos{\\left(θ \\right)}} - \\frac{81 \\sin{\\left(θ \\right)}}{5 \\cos^{3}{\\left(θ \\right)}} + \\frac{243 \\sin{\\left(θ \\right)}}{5 \\cos^{5}{\\left(θ \\right)}} +C \\cr\\end{eqnarray}"
      ],
      "text/plain": [
       "<IPython.core.display.Latex object>"
      ]
     },
     "execution_count": 51,
     "metadata": {},
     "output_type": "execute_result"
    }
   ],
   "source": [
    "fu=243*u**3*sqrt(u**2-1)\n",
    "Integration_TrigonometricSubstitution(fu,u,sec(t))"
   ]
  },
  {
   "cell_type": "code",
   "execution_count": 52,
   "id": "be4497db",
   "metadata": {},
   "outputs": [
    {
     "data": {
      "text/latex": [
       "Let $x = 2 u$:\\begin{eqnarray}\\int \\frac{x^{3}}{\\sqrt{x^{2} + 4}} dx &=& \\int \\frac{8 u^{3}}{\\sqrt{u^{2} + 1}} du\\end{eqnarray}"
      ],
      "text/plain": [
       "<IPython.core.display.Latex object>"
      ]
     },
     "execution_count": 52,
     "metadata": {},
     "output_type": "execute_result"
    }
   ],
   "source": [
    "# 27 \n",
    "f=x**3/sqrt(x**2+4)\n",
    "scale_func(f,x,2*u)"
   ]
  },
  {
   "cell_type": "code",
   "execution_count": 53,
   "id": "ca48d854",
   "metadata": {},
   "outputs": [
    {
     "data": {
      "text/latex": [
       "$\\displaystyle \\frac{2 x^{2} \\sqrt{x + 4}}{5} + \\frac{8 x \\sqrt{x + 4}}{15} - \\frac{64 \\sqrt{x + 4}}{15}$"
      ],
      "text/plain": [
       "2*x**2*sqrt(x + 4)/5 + 8*x*sqrt(x + 4)/15 - 64*sqrt(x + 4)/15"
      ]
     },
     "execution_count": 53,
     "metadata": {},
     "output_type": "execute_result"
    }
   ],
   "source": [
    "# 28 \n",
    "f=x*sqrt(x+4)\n",
    "integrate(f,x)"
   ]
  },
  {
   "cell_type": "code",
   "execution_count": null,
   "id": "73b8cda8",
   "metadata": {},
   "outputs": [],
   "source": []
  },
  {
   "cell_type": "code",
   "execution_count": null,
   "id": "d3c85394",
   "metadata": {},
   "outputs": [],
   "source": []
  },
  {
   "cell_type": "code",
   "execution_count": null,
   "id": "c845083e",
   "metadata": {},
   "outputs": [],
   "source": []
  },
  {
   "cell_type": "code",
   "execution_count": 142,
   "id": "f9760a74",
   "metadata": {},
   "outputs": [
    {
     "data": {
      "text/latex": [
       "Replacing $u=\\tan{\\left(θ \\right)}$ gets:\\begin{eqnarray}\\int 8 u^{3} \\sqrt{u^{2} + 1} d u&=& \\int 8 \\tan^{3}{\\left(θ \\right)} \\sec^{3}{\\left(θ \\right)} d 𝜽 \\cr&=& \\frac{24 - 40 \\cos^{2}{\\left(θ \\right)}}{15 \\cos^{5}{\\left(θ \\right)}} +C \\cr\\end{eqnarray}"
      ],
      "text/plain": [
       "<IPython.core.display.Latex object>"
      ]
     },
     "execution_count": 142,
     "metadata": {},
     "output_type": "execute_result"
    }
   ],
   "source": [
    "fu=8*u**3*sqrt(u**2+1)\n",
    "Integration_TrigonometricSubstitution(fu,u,tan(t))"
   ]
  },
  {
   "cell_type": "code",
   "execution_count": null,
   "id": "58c2fae3",
   "metadata": {},
   "outputs": [],
   "source": []
  }
 ],
 "metadata": {
  "hide_input": false,
  "kernelspec": {
   "display_name": "Python 3",
   "language": "python",
   "name": "python3"
  },
  "language_info": {
   "codemirror_mode": {
    "name": "ipython",
    "version": 3
   },
   "file_extension": ".py",
   "mimetype": "text/x-python",
   "name": "python",
   "nbconvert_exporter": "python",
   "pygments_lexer": "ipython3",
   "version": "3.8.5"
  }
 },
 "nbformat": 4,
 "nbformat_minor": 5
}
