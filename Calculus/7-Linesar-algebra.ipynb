{
 "cells": [
  {
   "cell_type": "markdown",
   "metadata": {},
   "source": [
    "Linear Algebra\n",
    "===\n",
    "1. [Vectors and Matrices](#Vectors-and-Matrices)\n",
    "2. [Operations of Matrices](#Operations-of-Matrices)\n",
    "3. [Special Matrices](#Special-Matrices)\n",
    "4. [Inverse of Matrices](#Inverse)\n",
    "5. [EigenValues and EigenVectors](#Eigenvalues-and-Eigenvectors)"
   ]
  },
  {
   "cell_type": "markdown",
   "metadata": {},
   "source": [
    "Vectors and Matrices\n",
    "---\n",
    "A `vector` $X_{n\\times1}$ with $n$ entries of real numbers is in form as follows:\n",
    "$$X_{n\\times1} = \\begin{bmatrix}\n",
    "       x_1 \\\\[0.3em]\n",
    "       x_2 \\\\[0.3em]\n",
    "       \\vdots \\\\[0.3em]\n",
    "       x_n\n",
    "     \\end{bmatrix}$$\n",
    "or as known as a **column vector**. Representing a **row vector**, that is a vector with $1$ row and $n$ columns, we write $Y_{1\\times n}={X_{n\\times1}}^T$ (this denotes the transpose of $X_{n\\times1}$, introduced later) as follows:\n",
    "$$Y_{1\\times n} = \\begin{bmatrix}\n",
    "       x_1 & x_2 & \\cdots & x_n\n",
    "     \\end{bmatrix}$$\n",
    "     \n",
    "A **matrix** is a list of vectors that all are of the same length. $A_{m\\times n}$ is a matrix with $m$ rows and $n$ columns, entries of $A_{m\\times n}$ are real numbers:     \n",
    "\n",
    "$$A_{m\\times n} = \\begin{bmatrix}\n",
    "       a_{11} & a_{12} & \\cdots & a_{1n} \\\\[0.3em]\n",
    "       a_{21} & a_{22} & \\cdots & a_{2n} \\\\[0.3em]\n",
    "       \\vdots & \\vdots & \\ddots & \\vdots \\\\[0.3em]\n",
    "       a_{m1} & a_{m2} & \\cdots & a_{mn} \n",
    "     \\end{bmatrix}=[a_{ij}]_{m\\times n}$$\n",
    "\n"
   ]
  },
  {
   "cell_type": "markdown",
   "metadata": {},
   "source": [
    "Operations of Matrices\n",
    "---\n",
    "Suppose that $A_{m\\times n}=[a_{ij}]_{m\\times n}$ and $B_{m\\times n}=[b_{ij}]_{m\\times n}$.\n",
    "1. $A_{m\\times n}\\pm B_{m\\times n}=[a_{ij}\\pm b_{ij}]_{m\\times n}$;\n",
    "$A \\pm B =\n",
    "\\begin{bmatrix}\n",
    " a_{11} & a_{12} & \\cdots & a_{1n} \\\\[0.3em]\n",
    " a_{21} & a_{22} & \\cdots & a_{2n} \\\\[0.3em]\n",
    " \\vdots & \\vdots & \\ddots & \\vdots \\\\[0.3em]\n",
    " a_{m1} & a_{m2} & \\cdots & a_{mn}\n",
    "\\end{bmatrix} \\pm\n",
    "\\begin{bmatrix}\n",
    " b_{11} & b_{12} & \\cdots & b_{1n} \\\\[0.3em]\n",
    " b_{21} & b_{22} & \\cdots & b_{2n} \\\\[0.3em]\n",
    " \\vdots & \\vdots & \\ddots & \\vdots \\\\[0.3em]\n",
    " b_{m1} & b_{m2} & \\cdots & b_{mn}\n",
    "\\end{bmatrix} =\n",
    "\\begin{bmatrix}\n",
    " a_{11} + b_{11} & a_{12} + b_{12} & \\cdots & a_{1n} + b_{1n} \\\\[0.3em]\n",
    " a_{21} + b_{21} & a_{22} + b_{22} & \\cdots & a_{2n} + b_{2n} \\\\[0.3em]\n",
    " \\vdots & \\vdots & \\ddots & \\vdots \\\\[0.3em]\n",
    " a_{m1} + b_{m1} & a_{m2} + b_{m2} & \\cdots & a_{mn} + b_{mn}\n",
    "\\end{bmatrix}\n",
    "$\n",
    "\n",
    "**Example**\n",
    "\n",
    "$$\\left[\\begin{array}{ccc} \n",
    "1 & 2 & 6 \\\\ \n",
    "4 & 5 & 10 \\\\ \n",
    "5 & 3 & 11 \n",
    "\\end{array}\\right]+\\left[\\begin{array}{ccc} \n",
    "8 & 3 & 5 \\\\ \n",
    "5 & 4 & 4 \\\\ \n",
    "3 & 0 & 6 \n",
    "\\end{array}\\right]=\\left[\\begin{array}{ccc} \n",
    "1+8 & 2+3 & 6+5 \\\\ \n",
    "4+5 & 5+4 & 10+4 \\\\ \n",
    "5+3 & 3+0 & 11+6 \n",
    "\\end{array}\\right]=\\left[\\begin{array}{ccc} \n",
    "9 & 5 & 11 \\\\ \n",
    "9 & 9 & 14 \\\\ \n",
    "8 & 3 & 17 \n",
    "\\end{array}\\right]$$\n",
    "\n"
   ]
  },
  {
   "cell_type": "markdown",
   "metadata": {},
   "source": [
    "2. (Mulitiplication of Matrices) $$A_{m\\times n} B_{n\\times l}=\\left[\\sum\\limits_{k=1}^n a_{ik} b_{kj}\\right]_{m\\times l}$$\n",
    "\n",
    "\n",
    "**Example**\n",
    "\n",
    "$$\n",
    "\\begin{align*} \\left[\\begin{array}{ccc} \n",
    "1 & 2 & 6 \\\\ \n",
    "4 & 5 & 10 \\\\ \n",
    "5 & 3 & 11 \n",
    "\\end{array}\\right]\\left[\\begin{array}{cc} \n",
    "3 & 0 \\\\ \n",
    "0 & 1 \\\\ \n",
    "5 & 1 \n",
    "\\end{array}\\right] &=\\left[\\begin{array}{cc} \n",
    "1 \\times 3+2 \\times 0+6 \\times 5 & 1 \\times 0+2 \\times 1+6 \\times 1 \\\\ \n",
    "4 \\times 3+5 \\times 0+10 \\times 5 & 4 \\times 0+5 \\times 1+10 \\times 1 \\\\ \n",
    "5 \\times 3+3 \\times 0+11 \\times 5 & 5 \\times 0+3 \\times 1+11 \\times 1 \n",
    "\\end{array}\\right] \\\\[4pt] &=\\left[\\begin{array}{cc} \n",
    "33 & 8 \\\\ \n",
    "62 & 15 \\\\ \n",
    "70 & 14 \n",
    "\\end{array}\\right]\\end{align*}\n",
    "$$\n",
    "    \n",
    "    \n"
   ]
  },
  {
   "cell_type": "code",
   "execution_count": 1,
   "metadata": {},
   "outputs": [],
   "source": [
    "from IPython.display import display, Latex\n",
    "import matplotlib.pyplot as plt\n",
    "\n",
    "import numpy as np\n",
    "\n",
    "%matplotlib inline"
   ]
  },
  {
   "cell_type": "code",
   "execution_count": 229,
   "metadata": {},
   "outputs": [
    {
     "data": {
      "text/plain": [
       "array([[33,  8],\n",
       "       [62, 15],\n",
       "       [70, 14]])"
      ]
     },
     "execution_count": 229,
     "metadata": {},
     "output_type": "execute_result"
    }
   ],
   "source": [
    "A = np.array([[1, 2,6], [4, 5,10],[5,3,11]])\n",
    "B = np.array([[3,0],[0,1],[5,1]])\n",
    "A.dot(B)"
   ]
  },
  {
   "cell_type": "code",
   "execution_count": 245,
   "metadata": {},
   "outputs": [
    {
     "data": {
      "text/plain": [
       "4"
      ]
     },
     "execution_count": 245,
     "metadata": {},
     "output_type": "execute_result"
    }
   ],
   "source": [
    "A[1,0]"
   ]
  },
  {
   "cell_type": "code",
   "execution_count": 263,
   "metadata": {},
   "outputs": [],
   "source": [
    "#row=len(A[:,0])\n",
    "#col=len(A[0,:])\n",
    "\n",
    "def matrix(A):\n",
    "    row=len(A[:,0])\n",
    "    col=len(A[0,:])\n",
    "    s1=' \\\\begin{bmatrix} '\n",
    "    for r in range(row):\n",
    "        s1=s1+'%s' %A[r,0]\n",
    "        for c in range(1,col-1):\n",
    "            s1=s1+'&%s' %A[r,c]\n",
    "        s1=s1+'&%s \\\\\\\\ ' %A[r,col-1]   \n",
    "    s1=s1+' \\\\end{bmatrix} '    \n",
    "    return(s1)        "
   ]
  },
  {
   "cell_type": "code",
   "execution_count": 265,
   "metadata": {},
   "outputs": [],
   "source": [
    "A_=matrix(A)\n",
    "B_=matrix(B)\n",
    "C_=matrix(A.dot(B))\n",
    "\n",
    "#display(Latex(matrix(A)))"
   ]
  },
  {
   "cell_type": "code",
   "execution_count": 270,
   "metadata": {},
   "outputs": [
    {
     "data": {
      "text/latex": [
       " \\begin{bmatrix} 33&8 \\\\ 62&15 \\\\ 70&14 \\\\  \\end{bmatrix} "
      ],
      "text/plain": [
       "<IPython.core.display.Latex object>"
      ]
     },
     "metadata": {},
     "output_type": "display_data"
    }
   ],
   "source": [
    "display(Latex(C_))"
   ]
  },
  {
   "cell_type": "markdown",
   "metadata": {},
   "source": [
    "Example\n",
    "---\n",
    "The following system of equations:\n",
    "\n",
    "\\begin{equation}\n",
    "\\begin{split}\n",
    "- x_1 - 2 x_2 & = 3 \\\\\n",
    " 4x_1 + 5 x_2 & = 6\n",
    "\\end{split}\n",
    "\\end{equation}\n",
    "\n",
    "can be displayed as \n",
    "$$A_{2\\times2}X_{2\\times1}=b_{2\\times1}$$\n",
    "whese\n",
    "$A_{2\\times2} = \\begin{bmatrix}\n",
    "       -1 & 2 \\\\[0.3em]\n",
    "       4 &  5\n",
    "     \\end{bmatrix},\\ \n",
    " b_{2\\times1} = \\begin{bmatrix}\n",
    "       3 \\\\[0.3em]\n",
    "       6 \n",
    "     \\end{bmatrix},\\\n",
    "  X_{2\\times1} = \\begin{bmatrix}\n",
    "       x_1 \\\\[0.3em]\n",
    "       x_2 \n",
    "     \\end{bmatrix}$   \n",
    "     \n",
    "\n"
   ]
  },
  {
   "cell_type": "code",
   "execution_count": 226,
   "metadata": {},
   "outputs": [
    {
     "name": "stdout",
     "output_type": "stream",
     "text": [
      "A =\n",
      "[[-1  2]\n",
      " [ 4  5]] \n",
      "b =\n",
      " [[3]\n",
      " [6]] \n"
     ]
    }
   ],
   "source": [
    "A = np.array([[-1, 2], [4, 5]])\n",
    "b = np.array([[3],[6]])\n",
    "print(\"A =\\n%s \" %A)\n",
    "print(\"b =\\n %s \" %b)"
   ]
  },
  {
   "cell_type": "markdown",
   "metadata": {},
   "source": [
    "\n",
    "Exercise\n",
    "---\n",
    "Rewrite the following linear system in Matrix form:\n",
    "\n",
    "\\begin{eqnarray}\n",
    "4 &x_1   -5 &x_2   &      & = -13 \\\\\n",
    " -2&x_1  +3 &x_2+3 &x_3 & = 9\\\\\n",
    " {}  & {}  -3 &x_2-  &x_3  &=2\n",
    "\\end{eqnarray}"
   ]
  },
  {
   "cell_type": "markdown",
   "metadata": {},
   "source": [
    "3. **Transposing** a matrix is achieved by *flipping* the rows and columns. For a matrix $A_{m\\times n}=[a_{ij}]$, the transpose $A^T_{m\\times n}=[a_{ji}]$ matrix is given by:\n",
    "$$(A^T)_{ij} = A_{ji}$$\n",
    "Properties of transposes:\n",
    "    - $(A^T)^T = A$\n",
    "    - $(AB)^T = B^T A^T$\n",
    "    - $(A+B)^T = A^T + B^T$"
   ]
  },
  {
   "cell_type": "markdown",
   "metadata": {},
   "source": [
    "4. (Inner Product) Suppose that $A_{1\\times n}=[a_{ij}]_{1\\times n}$ and $B_{1\\times n}=[b_{ij}]_{1\\times n}$.The inner product of  $A_{1\\times n}$ and  $B_{1\\times n}$ is defined as follows:\n",
    "$$A_{1\\times n}{\\cdot} B_{1\\times n}=A B^T=BA^T=\\sum_{k=1}^n a_{1k}b_{1k}$$\n",
    "5. Trace of square matrix, $A_{n\\times n}=[a_{ij}]$, is defined as follows:\n",
    "$$\\text{tr}A = \\sum_{i=1}^n a_{ii}$$\n",
    "Properties of trace:\n",
    "   - For $A \\in \\mathbb{R}^{n\\times n}$, $\\mathrm{tr}A = \\mathrm{tr}A^T$\n",
    "   - For $A,B \\in \\mathbb{R}^{n\\times n}$, $\\mathrm{tr}(A + B) = \\mathrm{tr}A + \\mathrm{tr}B$\n",
    "   - For $A \\in \\mathbb{R}^{n\\times n}$, $r \\in \\mathbb{R}$, $\\mathrm{tr}(rA) = r \\mathrm{tr}A$\n",
    "   - For $A,B$ such that $AB$ is square, $\\mathrm{tr}AB = \\mathrm{tr}BA$\n",
    "   - For $A,B,C$ such that $ABC$ is square, $\\mathrm{tr}ABC = \\mathrm{tr}BCA = \\mathrm{tr}CAB$, and so on for the product of more matrices.\n",
    "   \n",
    "**Example** \n",
    "\n",
    "For the following matrix:\n",
    "\n",
    "$$\n",
    "A=\\begin{bmatrix}\n",
    "1 & 2 & 6 \\\\ \n",
    "4 & 5 & 10 \\\\ \n",
    "5 & 3 & 11 \n",
    "\\end{bmatrix}\n",
    "$$\n",
    "\n",
    "$\\text{tr}(A)=1+5+11=17$.\n"
   ]
  },
  {
   "cell_type": "markdown",
   "metadata": {},
   "source": [
    "   \n",
    "Note\n",
    "---\n",
    "Suppose that $A_{n\\times n}=[a_{ij}]_{n\\times n}$ is square matrix. Its $ij$-submatrix is the the matrix, $(n-1)\\times(n-i)$, with which $i$-row and $j$-column of $A$ are removed.\n",
    "\n",
    "Example \n",
    "---\n",
    "As above,\n",
    "A=\\begin{bmatrix}\n",
    "1 & 2 & 6 \\\\ \n",
    "4 & 5 & 10 \\\\ \n",
    "5 & 3 & 11 \n",
    "\\end{bmatrix}\n",
    "\n",
    "\n",
    "Then $(1,1)$ submatrix of $a$ is:\n",
    "\\begin{bmatrix} \n",
    " 5 & 10 \\\\ \n",
    " 3 & 11 \n",
    "\\end{bmatrix}\n",
    "\n",
    "and $(2,3)$ submatrix of $a$ is:\n",
    "A=\\begin{bmatrix}\n",
    "1 & 2 \\\\  \n",
    "5 & 3  \n",
    "\\end{bmatrix}"
   ]
  },
  {
   "cell_type": "markdown",
   "metadata": {},
   "source": [
    "6. Determinant of square matrix, $A_{n\\times n}$.    \n",
    "\n",
    " The Leibniz formula for the determinant of a square matrix $A_{n \\times n}$ is:\n",
    "\n",
    "$$\\det(A)=\\sum _{\\sigma \\in S_{n}}\\left(\\operatorname {sgn}(\\sigma )\\prod _{i=1}^{n}a_{i,\\sigma _{i}}\\right).$$\n",
    "\n",
    "Here the sum is computed over all permutations $\\sigma$ of the set $\\{1, 2, ..., n\\}$. A permutation is a function that reorders this set of integers. The value in the ith position after the reordering $\\sigma$ is denoted by $\\sigma_i$. For each permutation $\\sigma$, $\\text{sgn}(\\sigma)$ denotes the signature of $\\sigma$, a value that is +1 whenever the reordering given by $\\sigma$ can be achieved by successively interchanging two entries an even number of times, and −1 whenever it can be achieved by an odd number of such interchanges.\n",
    "\n",
    "For example, for $n = 3$, the original sequence $1, 2, 3$ might be reordered to $\\sigma =[\\sigma_1,\\sigma_2,\\sigma_3]= [2, 3, 1]$. The set of all such permutations (also known as the symmetric group on n elements) is denoted by $S_n$. \n",
    "1. $S=\\{[1,2,3],[1,3,2],[2,1,3],[2,3,1],[3,1,2],[3,2,1]\\}=\\{\\sigma_1,\\sigma_2,\\cdots,\\sigma_6\\}$\n",
    "2. The signatures of permutattion of $\\sigma$ are calculated as follows:\n",
    "\\begin{eqnarray}\n",
    "    \\text{sgn}(\\sigma_1)\\prod _{i=1}^{n}a_{i,\\sigma _{i}}&=&1\\cdot a_{11}a_{22}a_{33}\\\\\n",
    "    \\text{sgn}(\\sigma_2)\\prod _{i=1}^{n}a_{i,\\sigma _{i}}&=&-1\\cdot a_{11}a_{23}a_{32}\\\\\n",
    "    \\text{sgn}(\\sigma_3)\\prod _{i=1}^{n}a_{i,\\sigma _{i}}&=&-1\\cdot a_{12}a_{21}a_{33}\\\\\n",
    "    \\text{sgn}(\\sigma_4)\\prod _{i=1}^{n}a_{i,\\sigma _{i}}&=&1\\cdot a_{12}a_{23}a_{31}\\\\\n",
    "    \\text{sgn}(\\sigma_5)\\prod _{i=1}^{n}a_{i,\\sigma _{i}}&=&1\\cdot a_{13}a_{21}a_{32}\\\\\n",
    "    \\text{sgn}(\\sigma_6)\\prod _{i=1}^{n}a_{i,\\sigma _{i}}&=&-1\\cdot a_{13}a_{22}a_{31}\\\\\n",
    "   \\end{eqnarray} \n",
    "3. Thus\n",
    "$$\\det A=a_{11}a_{22}a_{33}+a_{12}a_{23}a_{31}+a_{13}a_{21}a_{32}\n",
    "         - a_{11}a_{23}a_{32}- a_{12}a_{21}a_{33}-a_{13}a_{22}a_{31}$$\n",
    "         \n",
    "\n",
    "Note\n",
    "---\n",
    "Another formula to calculate the determinant of square matrix, $A_{n\\times n}$, is:\n",
    "\n",
    "$$ det(A)=\\sum_{j=1}^n(-1)^{i+j}a_{ij}det(B_{ij})$$\n",
    "where $B_{ij}$ is $(i,j)$ submatrix  of $A$ and $i$ in one of $1,2,\\cdots n$.\n",
    "\n",
    "\n",
    "\n",
    "\n",
    "Example\n",
    "---\n",
    "The determinant of matrix could be evaluated by another process as follows:\n",
    "\\begin{aligned}\n",
    "  {\\begin{vmatrix}a&b&c\\\\d&e&f\\\\g&h&i\\end{vmatrix}}&=&{a\\begin{vmatrix}e&f\\\\h&i\\end{vmatrix}}-{b\\begin{vmatrix}d&f\\\\g&i\\end{vmatrix}}+{c\\begin{vmatrix}d&e\\\\g&h\\end{vmatrix}}\\\\\n",
    "  &=&a(ei-fh)-b(di-fg)+c(dh-eg)\\\\\n",
    "  &=&aei+bfg+cdh-ceg-bdi-afh.\n",
    "\\end{aligned}\n",
    "\n",
    "\n"
   ]
  },
  {
   "cell_type": "markdown",
   "metadata": {},
   "source": [
    "Example\n",
    "---\n",
    "\n",
    "\\begin{align}\n",
    "\\det A &=\\left. \n",
    "\\begin{array}{c}\n",
    "\\;\\;\\text{*)} \\\\ \n",
    "-1\\text{)} \\\\ \n",
    "-2\\text{)} \\\\ \n",
    "-2\\text{)}\n",
    "\\end{array}\n",
    "\\right. \n",
    "\\begin{vmatrix}\n",
    "1 & 3 & 2 & -6 \\\\ \n",
    "1 & 2 & -2 & -5 \\\\ \n",
    "2 & 4 & -2 & -9 \\\\ \n",
    "2 & 4 & -6 & -9  \\notag\n",
    "\\end{vmatrix}\n",
    "=\n",
    "\\begin{vmatrix}\n",
    "1 & 3 & 2 & -6 \\\\ \n",
    "0 & -1 & -4 & 1 \\\\ \n",
    "0 & -2 & -6 & 3 \\\\ \n",
    "0 & -2 & -10 & 3\n",
    "\\end{vmatrix}\n",
    "\\\\ \\notag\n",
    "&& \\\\ \n",
    "&=\\left. \n",
    "\\begin{array}{c}\n",
    "\\;\\;\\text{*)} \\\\ \n",
    "-2\\text{)} \\\\ \n",
    "-2\\text{)}\n",
    "\\end{array}\n",
    "\\right. \n",
    "\\begin{vmatrix}\n",
    "1 & 4 & 1 \\\\ \n",
    "2 & 6 & 3 \\\\ \n",
    "2 & 10 & 3\n",
    "\\end{vmatrix}\n",
    "=\n",
    "\\begin{vmatrix}\n",
    "1 & 4 & 1 \\\\ \n",
    "0 & -2 & 1 \\\\ \n",
    "0 & 2 & 1\n",
    "\\end{vmatrix}\n",
    "=\n",
    "\\begin{vmatrix}\n",
    "-2 & 1 \\\\ \n",
    "2 & 1\n",
    "\\end{vmatrix}\n",
    "=-4\\notag\n",
    "\\end{align}"
   ]
  },
  {
   "cell_type": "code",
   "execution_count": null,
   "metadata": {},
   "outputs": [],
   "source": []
  },
  {
   "cell_type": "markdown",
   "metadata": {},
   "source": [
    "7.  The **$L^2$-norm** of a vector $X_{1\\times n}=[x_i]$ is $\\| x\\|_2$, informally the length of a vector and is calaculated as follows:\n",
    "$$\\|x\\|_2 = \\sqrt{\\sum_{i=1}^n{x_i^2}}$$\n",
    "Other norms include:\n",
    "- $L^1$-norm = $\\sum|x_i|$,\n",
    "- $L^d$-norm = $\\left(\\sum |x_i|^d\\right)^{1/d}$, for $d=2,3,4,\\cdots$,\n",
    "- $L^\\infty$-norm = $\\max|x_i|$."
   ]
  },
  {
   "cell_type": "markdown",
   "metadata": {},
   "source": [
    "Example\n",
    "---"
   ]
  },
  {
   "cell_type": "code",
   "execution_count": 3,
   "metadata": {},
   "outputs": [
    {
     "name": "stdout",
     "output_type": "stream",
     "text": [
      "x =  [1 2 3 4]\n",
      "y =  [5 6 7 8]\n"
     ]
    }
   ],
   "source": [
    "x = np.array([1, 2, 3, 4])\n",
    "y = np.array([5, 6, 7, 8])\n",
    "print(\"x = \", x)\n",
    "print(\"y = \", y)"
   ]
  },
  {
   "cell_type": "code",
   "execution_count": 5,
   "metadata": {},
   "outputs": [
    {
     "data": {
      "text/plain": [
       "70"
      ]
     },
     "execution_count": 5,
     "metadata": {},
     "output_type": "execute_result"
    }
   ],
   "source": [
    "# inner product of x and y\n",
    "np.dot(x, y)"
   ]
  },
  {
   "cell_type": "markdown",
   "metadata": {},
   "source": [
    "The last result is same as $1\\times5+2\\times6+3\\times7+4\\times8=70$.\n",
    "\n",
    "$L^1$-norm of $x$ is $1+2+3+4=10$, and $L^2$-norm of $x$ is  $\\sqrt{1^2+2^2+3^2+4^2}=\\sqrt{30}$, and $L^\\infty$-norm of $x$ is 4,"
   ]
  },
  {
   "cell_type": "code",
   "execution_count": null,
   "metadata": {},
   "outputs": [],
   "source": []
  },
  {
   "cell_type": "markdown",
   "metadata": {},
   "source": [
    "Example ( $A_{m\\times n}b_{n\\times1}$)\n",
    "---\n",
    "Suppose that \n",
    "$$A_{2\\times3} = \\begin{bmatrix}\n",
    "       1 & 2  &3\\\\[0.3em]\n",
    "       4 &  5 &6\n",
    "     \\end{bmatrix},\\ \n",
    " b_{2\\times1} = \\begin{bmatrix}\n",
    "       2 \\\\[0.3em]\n",
    "       4 \\\\[0.3em]\n",
    "       6 \n",
    "     \\end{bmatrix}$$  \n",
    "Then\n",
    "$$A b= \\begin{bmatrix}\n",
    "       1 & 2  &3\\\\[0.3em]\n",
    "       4 &  5 &6\n",
    "     \\end{bmatrix} \n",
    "     b_{2\\times1} = \\begin{bmatrix}\n",
    "       2 \\\\[0.3em]\n",
    "       4 \\\\[0.3em]\n",
    "       6 \n",
    "     \\end{bmatrix}\n",
    "     =\\begin{bmatrix}\n",
    "       1\\times2+ 2\\times4+3\\times6\\\\[0.3em]\n",
    "       4\\times2+ 5\\times4+6\\times6\n",
    "     \\end{bmatrix}\n",
    "     =\\begin{bmatrix}\n",
    "       28\\\\[0.3em]\n",
    "       64\n",
    "     \\end{bmatrix}\n",
    "$$     "
   ]
  },
  {
   "cell_type": "code",
   "execution_count": 7,
   "metadata": {},
   "outputs": [
    {
     "data": {
      "text/plain": [
       "array([[28],\n",
       "       [64]])"
      ]
     },
     "execution_count": 7,
     "metadata": {},
     "output_type": "execute_result"
    }
   ],
   "source": [
    "A = np.array([[1, 2, 3],\n",
    "             [4, 5, 6]])\n",
    "b = np.array([[2],\n",
    "             [4],[6]])\n",
    "A.dot(b)"
   ]
  },
  {
   "cell_type": "markdown",
   "metadata": {},
   "source": [
    "Exercise \n",
    "---\n",
    "Suppose that \n",
    "$$A_{2\\times3} = \\begin{bmatrix}\n",
    "       4 & 5  &6\\\\[0.3em]\n",
    "       7 &  8 &9\n",
    "     \\end{bmatrix},\\ \n",
    " b_{3\\times1} = \\begin{bmatrix}\n",
    "       2 \\\\[0.3em]\n",
    "       4 \\\\[0.3em]\n",
    "       6 \n",
    "     \\end{bmatrix}$$  \n",
    "Then\n",
    "$$A b\n",
    "     =\\begin{bmatrix}\n",
    "       64\\\\[0.3em]\n",
    "       100\n",
    "     \\end{bmatrix}\n",
    "$$     "
   ]
  },
  {
   "cell_type": "markdown",
   "metadata": {},
   "source": [
    " Notes on Matrix-Matrix Products\n",
    " ---\n",
    "1. **Matrix multiplication is associative:** $(AB)C = A(BC)$\n",
    "2. **Matrix multiplication is distributive:** $A(B + C) = AB + AC$\n",
    "3. $AB$ is not always equal to $BA$, i.e. **Matrix multiplication is, in general, not commutative;**"
   ]
  },
  {
   "cell_type": "code",
   "execution_count": null,
   "metadata": {},
   "outputs": [],
   "source": []
  },
  {
   "cell_type": "markdown",
   "metadata": {},
   "source": [
    "Exercise \n",
    "---\n",
    "Suppose that \n",
    "$$A_{3\\times3} = \\begin{bmatrix}\n",
    "       1 & 2  &6\\\\[0.3em]\n",
    "       4 & 5  &10\\\\[0.3em]\n",
    "       5 &  3 &11\n",
    "     \\end{bmatrix},\\ \n",
    " B_{3\\times3} = \\begin{bmatrix}\n",
    "       3 & 0  &-1\\\\[0.3em]\n",
    "       0 & 1  &1\\\\[0.3em]\n",
    "       5 &  1 &0\n",
    "     \\end{bmatrix}\n",
    "$$     \n",
    "Then\n",
    "$$A B = \\begin{bmatrix}\n",
    "       33 & 8  &1\\\\[0.3em]\n",
    "       62 & 15  &1\\\\[0.3em]\n",
    "       70 &  14 &-2\n",
    "     \\end{bmatrix} \\neq \n",
    "   B A = \\begin{bmatrix}\n",
    "       -2 & 3  &7\\\\[0.3em]\n",
    "       9 & 8  &21\\\\[0.3em]\n",
    "       9 &  15 &40\n",
    "     \\end{bmatrix}  \n",
    "$$     "
   ]
  },
  {
   "cell_type": "code",
   "execution_count": 2,
   "metadata": {},
   "outputs": [
    {
     "data": {
      "text/plain": [
       "array([[33,  8,  1],\n",
       "       [62, 15,  1],\n",
       "       [70, 14, -2]])"
      ]
     },
     "execution_count": 2,
     "metadata": {},
     "output_type": "execute_result"
    }
   ],
   "source": [
    "A = np.array([[1, 2,6], [4, 5,10],[5,3,11]])\n",
    "B = np.array([[3,0,-1],[0,1,1],[5,1,0]])\n",
    "A.dot(B)"
   ]
  },
  {
   "cell_type": "code",
   "execution_count": 3,
   "metadata": {},
   "outputs": [
    {
     "data": {
      "text/plain": [
       "array([[-2,  3,  7],\n",
       "       [ 9,  8, 21],\n",
       "       [ 9, 15, 40]])"
      ]
     },
     "execution_count": 3,
     "metadata": {},
     "output_type": "execute_result"
    }
   ],
   "source": [
    "B.dot(A)"
   ]
  },
  {
   "cell_type": "markdown",
   "metadata": {},
   "source": [
    "Special Matrices\n",
    "---\n",
    "1. $A_{n\\times n}$ is called square matric;\n",
    "2. The **identity matrix** $I_n \\in \\mathbb{R}^{n\\times n}$ is a square matrix with the value $1$ on the diagonal and $0$ everywhere else:\n",
    "3.  $A_{n\\times n}=[a_{ij}]$ is called Diagonal Matrix if In the **diagonal matrix** non-diagonal elements are $0$, that is \n",
    "$$a_{ij} = \\left\\{\n",
    "\\begin{array}{lr}\n",
    " d_i & i = j\\\\\n",
    " 0 & i \\neq j\n",
    "\\end{array}\n",
    "\\right.\n",
    "$$\n",
    "**Example**\n",
    "\n",
    "$$\n",
    "\\mathbf{I}_4=\\left[\\begin{array}{llll} \n",
    "1 & 0 & 0 & 0 \\\\ \n",
    "0 & 1 & 0 & 0 \\\\ \n",
    "0 & 0 & 1 & 0 \\\\ \n",
    "0 & 0 & 0 & 1 \n",
    "\\end{array}\\right]\n",
    "$$\n",
    "\n",
    "\n",
    "4. Square metrices $A$ are **symmetric**, if $A = A^T$; $A$ is **anti-symmetric**, if $A = -A^T$."
   ]
  },
  {
   "cell_type": "markdown",
   "metadata": {},
   "source": [
    "Example\n",
    "---\n",
    "For square matrix $A_{n\\times n}=[a_{ij}]$,\n",
    "$$A = \\frac{1}{2} (A + A^T) + \\frac{1}{2} (A - A^T)$$\n",
    "Then the first part above is symmetric and the other is anti-symmetric."
   ]
  },
  {
   "cell_type": "markdown",
   "metadata": {},
   "source": [
    "Inverse\n",
    "---\n",
    "The **inverse** of a square matrix $A \\in \\mathbb{R}^{n\\times n}$ is $A^{-1}$ if:\n",
    "$$A^{-1} A = I_n = A A^{-1}$$\n",
    "$A$ is **invertible** or **non-singular** if $A^{-1}$ exists; otherwise is **non-invertible** or **singular**.\n",
    "\n",
    "Assuming that $A,B \\in \\mathbb{R}^{n\\times n}$ are non-singular, then:\n",
    "- $(A^{-1})^{-1} = A$\n",
    "- $(AB)^{-1} = B^{-1} A^{-1}$\n",
    "- $(A^{-1})^T = (A^T)^{-1}$ (often simply $A^{-T}$)"
   ]
  },
  {
   "cell_type": "markdown",
   "metadata": {},
   "source": [
    "A linear system with $n$ variables, $x_1, x_2, \\cdots, x_n$, is like the\n",
    "following:\n",
    "\\begin{eqnarray*}\n",
    "  a_{11} x_1 + a_{12} x_2 + \\cdots + a_{1 n} x_n & = & b_1\\\\\n",
    "  & \\vdots & \\\\\n",
    "  a_{n 1} x_1 + a_{n 2} x_2 + \\cdots + a_{n n} x_n & = & b_n\n",
    "\\end{eqnarray*}\n",
    "This system can be transformed into the the matrix form:\n",
    "$$ A \\vec{X} = \\vec{b} $$\n",
    "where\n",
    "\n",
    "\\begin{eqnarray*}\n",
    "  A = \\begin{bmatrix}\n",
    "    a_{11} & \\cdots & a_{1 n}\\\\\n",
    "    \\vdots & \\ddots & \\vdots\\\\\n",
    "    a_{n 1} & \\cdots & a_{n n}\n",
    "  \\end{bmatrix}, & \\vec{X} = \\begin{bmatrix}\n",
    "    x_1\\\\\n",
    "    \\vdots\\\\\n",
    "    x_n\n",
    "  \\end{bmatrix} & \\text{ and } \\vec{b} = \\begin{bmatrix}\n",
    "    b_1\\\\\n",
    "    \\vdots\\\\\n",
    "    b_n\n",
    "  \\end{bmatrix}\n",
    "\\end{eqnarray*}\n",
    "\n",
    "If $A$ is nonsingular, then the solution is equal to:\n",
    "$$ \\vec{X} = A^{- 1} \\vec{b} $$"
   ]
  },
  {
   "cell_type": "markdown",
   "metadata": {},
   "source": [
    "Example\n",
    "---\n",
    "Solve the following linear system:\n",
    "\n",
    "\\begin{eqnarray*}\n",
    "    - x + 2 y + 3 z & = & 1\\\\\n",
    "    4 x - 5 y + 6 z & = & 1\\\\\n",
    "    7 x + 8 y - 9 z & = & 1\n",
    "  \\end{eqnarray*}\n",
    "\n",
    "Let\n",
    "  \n",
    "\\begin{eqnarray*}\n",
    "    A & = & \\begin{bmatrix}\n",
    "      - 1 & 2 & 3\\\\\n",
    "      4 & - 5 & 6\\\\\n",
    "      7 & 8 & - 9\n",
    "    \\end{bmatrix}\\\\\n",
    "    \\vec{X} & = & \\begin{bmatrix}\n",
    "      x\\\\\n",
    "      y\\\\\n",
    "      z\n",
    "    \\end{bmatrix}\\\\\n",
    "    \\vec{b} & = & \\begin{bmatrix}\n",
    "      1\\\\\n",
    "      1\\\\\n",
    "      1\n",
    "    \\end{bmatrix}\n",
    "\\end{eqnarray*}\n",
    "  \n",
    "Then the system can be rewitten as follows:\n",
    "  $$ A \\vec{X} = \\vec{b} $$\n",
    "  We can solve $\\vec{X}$ by:"
   ]
  },
  {
   "cell_type": "markdown",
   "metadata": {},
   "source": [
    "As general algebra, $\\vec{X} = A^{- 1} \\vec{b}$ if $A^{- 1}$ exists:\n",
    "\n",
    "\\begin{eqnarray*}\n",
    "      & A A^{- 1} & = I_3\\\\\n",
    "      & \\Downarrow & \\\\\n",
    "      \\left(\\begin{array}{ccc}\n",
    "        1 & 0 & 0\\\\\n",
    "        4 & 1 & 0\\\\\n",
    "        0 & 0 & 1\n",
    "      \\end{array}\\right) & \\color{brown}{\\left(\\begin{array}{ccc}\n",
    "        - 1 & 2 & 3\\\\\n",
    "        4 & - 5 & 6\\\\\n",
    "        7 & 8 & - 9\n",
    "      \\end{array}\\right) A^{- 1}} & = \\left(\\begin{array}{ccc}\n",
    "        1 & 0 & 0\\\\\n",
    "        4 & 1 & 0\\\\\n",
    "        0 & 0 & 1\n",
    "      \\end{array}\\right) \\color{brown}{\\left(\\begin{array}{ccc}\n",
    "        1 & 0 & 0\\\\\n",
    "        0 & 1 & 0\\\\\n",
    "        0 & 0 & 1\n",
    "      \\end{array}\\right)}\\\\\n",
    "      & \\Downarrow & \\\\\n",
    "      & \\left(\\begin{array}{ccc}\n",
    "        - 1 & 2 & 3\\\\\n",
    "        - 4 + 4 & 8 - 5 & 12 + 6\\\\\n",
    "        7 & 8 & - 9\n",
    "      \\end{array}\\right) A^{- 1} & = \\left(\\begin{array}{ccc}\n",
    "        1 & 0 & 0\\\\\n",
    "        4 & 1 & 0\\\\\n",
    "        0 & 0 & 1\n",
    "      \\end{array}\\right)\\\\\n",
    "      & \\Downarrow & \\\\\n",
    "      \\left(\\begin{array}{ccc}\n",
    "        1 & 0 & 0\\\\\n",
    "        0 & 1 & 0\\\\\n",
    "        7 & 0 & 1\n",
    "      \\end{array}\\right) & \\left(\\begin{array}{ccc}\n",
    "        - 1 & 2 & 3\\\\\n",
    "        0 & 3 & 18\\\\\n",
    "        7 & 8 & - 9\n",
    "      \\end{array}\\right) A^{- 1} & = \\left(\\begin{array}{ccc}\n",
    "        1 & 0 & 0\\\\\n",
    "        0 & 1 & 0\\\\\n",
    "        7 & 0 & 1\n",
    "      \\end{array}\\right) \\left(\\begin{array}{ccc}\n",
    "        1 & 0 & 0\\\\\n",
    "        4 & 1 & 0\\\\\n",
    "        0 & 0 & 1\n",
    "      \\end{array}\\right)\\\\\n",
    "      &  & \\\\\n",
    "      & \\Downarrow & \\\\\n",
    "      & \\left(\\begin{array}{ccc}\n",
    "        - 1 & 2 & 3\\\\\n",
    "        0 & 3 & 18\\\\\n",
    "        - 7 + 7 & 14 + 8 & 21 - 9\n",
    "      \\end{array}\\right) A^{- 1} & = \\left(\\begin{array}{ccc}\n",
    "        1 & 0 & 0\\\\\n",
    "        4 & 1 & 0\\\\\n",
    "        7 & 0 & 1\n",
    "      \\end{array}\\right)\\\\\n",
    "      & \\Downarrow & \\\\\n",
    "      \\left(\\begin{array}{ccc}\n",
    "        1 & 0 & 0\\\\\n",
    "        0 & 1 & 0\\\\\n",
    "        0 & - \\frac{22}{3} & 1\n",
    "      \\end{array}\\right) & \\left(\\begin{array}{ccc}\n",
    "        - 1 & 2 & 3\\\\\n",
    "        0 & 3 & 18\\\\\n",
    "        0 & 22 & 12\n",
    "      \\end{array}\\right) A^{- 1} & = \\left(\\begin{array}{ccc}\n",
    "        1 & 0 & 0\\\\\n",
    "        0 & 1 & 0\\\\\n",
    "        0 & - \\frac{22}{3} & 1\n",
    "      \\end{array}\\right) \\left(\\begin{array}{ccc}\n",
    "        1 & 0 & 0\\\\\n",
    "        4 & 1 & 0\\\\\n",
    "        7 & 0 & 1\n",
    "      \\end{array}\\right)\\\\\n",
    "      & \\Downarrow & \\\\\n",
    "      & \\left(\\begin{array}{ccc}\n",
    "        - 1 & 2 & 3\\\\\n",
    "        0 & 3 & 18\\\\\n",
    "        0 & - 22 + 22 & - 132 + 12\n",
    "      \\end{array}\\right) A^{- 1} & = \\left(\\begin{array}{ccc}\n",
    "        1 & 0 & 0\\\\\n",
    "        4 & 1 & 0\\\\\n",
    "        - \\frac{67}{3} & - \\frac{22}{3} & 1\n",
    "      \\end{array}\\right)\\\\\n",
    "      & \\Downarrow & \\\\\n",
    "      \\left(\\begin{array}{ccc}\n",
    "        1 & - \\frac{2}{3} & 0\\\\\n",
    "        0 & 1 & 0\\\\\n",
    "        0 & 0 & 1\n",
    "      \\end{array}\\right) & \\left(\\begin{array}{ccc}\n",
    "        - 1 & 2 & 3\\\\\n",
    "        0 & 3 & 18\\\\\n",
    "        0 & 0 & - 120\n",
    "      \\end{array}\\right) A^{- 1} & = \\left(\\begin{array}{ccc}\n",
    "        1 & - \\frac{2}{3} & 0\\\\\n",
    "        0 & 1 & 0\\\\\n",
    "        0 & 0 & 1\n",
    "      \\end{array}\\right) \\left(\\begin{array}{ccc}\n",
    "        1 & 0 & 0\\\\\n",
    "        4 & 1 & 0\\\\\n",
    "        - \\frac{67}{3} & - \\frac{22}{3} & 1\n",
    "      \\end{array}\\right)\\\\\n",
    "      & \\Downarrow & \\\\\n",
    "      & \\left(\\begin{array}{ccc}\n",
    "        - 1 & 2 - 2 & 3 - 12\\\\\n",
    "        0 & 3 & 18\\\\\n",
    "        0 & 0 & - 120\n",
    "      \\end{array}\\right) A^{- 1} & = \\left(\\begin{array}{ccc}\n",
    "        - \\frac{5}{3} & - \\frac{2}{3} & 0\\\\\n",
    "        4 & 1 & 0\\\\\n",
    "        - \\frac{67}{3} & - \\frac{22}{3} & 1\n",
    "      \\end{array}\\right)\\\\\n",
    "      & \\Downarrow & \\\\\n",
    "      \\left(\\begin{array}{ccc}\n",
    "        1 & 0 & - \\frac{3}{40}\\\\\n",
    "        0 & 1 & 0\\\\\n",
    "        0 & 0 & 1\n",
    "      \\end{array}\\right) & \\left(\\begin{array}{ccc}\n",
    "        - 1 & 0 & - 9\\\\\n",
    "        0 & 3 & 18\\\\\n",
    "        0 & 0 & - 120\n",
    "      \\end{array}\\right) A^{- 1} & = \\left(\\begin{array}{ccc}\n",
    "        1 & 0 & - \\frac{3}{40}\\\\\n",
    "        0 & 1 & 0\\\\\n",
    "        0 & 0 & 1\n",
    "      \\end{array}\\right) \\left(\\begin{array}{ccc}\n",
    "        - \\frac{5}{3} & - \\frac{2}{3} & 0\\\\\n",
    "        4 & 1 & 0\\\\\n",
    "        - \\frac{67}{3} & - \\frac{22}{3} & 1\n",
    "      \\end{array}\\right)\\\\\n",
    "      & \\Downarrow & \\\\\n",
    "      \\left(\\begin{array}{ccc}\n",
    "        1 & 0 & 0\\\\\n",
    "        0 & 1 & \\frac{3}{20}\\\\\n",
    "        0 & 0 & 1\n",
    "      \\end{array}\\right) & \\left(\\begin{array}{ccc}\n",
    "        - 1 & 0 & 0\\\\\n",
    "        0 & 3 & 18\\\\\n",
    "        0 & 0 & - 120\n",
    "      \\end{array}\\right) A^{- 1} & = \\left(\\begin{array}{ccc}\n",
    "        1 & 0 & 0\\\\\n",
    "        0 & 1 & \\frac{3}{20}\\\\\n",
    "        0 & 0 & 1\n",
    "      \\end{array}\\right) \\color{brown}{\\left(\\begin{array}{ccc}\n",
    "        \\frac{1}{120} & \\frac{- 7}{60} & - \\frac{3}{40}\\\\\n",
    "        4 & 1 & 0\\\\\n",
    "        - \\frac{67}{3} & - \\frac{22}{3} & 1\n",
    "      \\end{array}\\right)}\\\\\n",
    "      & \\Downarrow & \\\\\n",
    "      \\left(\\begin{array}{ccc}\n",
    "        - 1 & 0 & 0\\\\\n",
    "        0 & \\frac{1}{3} & 0\\\\\n",
    "        0 & 0 & - \\frac{1}{120}\n",
    "      \\end{array}\\right) & \\left(\\begin{array}{ccc}\n",
    "        - 1 & 0 & 0\\\\\n",
    "        0 & 3 & 0\\\\\n",
    "        0 & 0 & - 120\n",
    "      \\end{array}\\right) A^{- 1} & = \\left(\\begin{array}{ccc}\n",
    "        - 1 & 0 & 0\\\\\n",
    "        0 & \\frac{1}{3} & 0\\\\\n",
    "        0 & 0 & - \\frac{1}{120}\n",
    "      \\end{array}\\right) \\left(\\begin{array}{ccc}\n",
    "        \\frac{1}{120} & \\frac{- 7}{60} & - \\frac{3}{40}\\\\\n",
    "        \\frac{13}{20} & - \\frac{1}{10} & \\frac{3}{20}\\\\\n",
    "        - \\frac{67}{3} & - \\frac{22}{3} & 1\n",
    "      \\end{array}\\right)\\\\\n",
    "      & \\Downarrow & \\\\\n",
    "      & A^{- 1} & = \\left(\\begin{array}{ccc}\n",
    "        - \\frac{1}{120} & \\frac{7}{60} & \\frac{3}{40}\\\\\n",
    "        \\frac{13}{60} & - \\frac{1}{30} & \\frac{1}{20}\\\\\n",
    "        \\frac{67}{360} & \\frac{11}{180} & - \\frac{1}{120}\n",
    "      \\end{array}\\right)\n",
    "\\end{eqnarray*}"
   ]
  },
  {
   "cell_type": "markdown",
   "metadata": {},
   "source": [
    "Thus the solution is:\n",
    "\n",
    "\\begin{eqnarray*}\n",
    "      \\vec{X} & = & A^{- 1} \\vec{b}\\\\\n",
    "      & = & \\begin{bmatrix}\n",
    "        - \\frac{1}{120} & \\frac{7}{60} & \\frac{3}{40}\\\\\n",
    "        \\frac{13}{60} & - \\frac{1}{30} & \\frac{1}{20}\\\\\n",
    "        \\frac{67}{360} & \\frac{11}{180} & - \\frac{1}{120}\n",
    "      \\end{bmatrix}\n",
    "      \\begin{bmatrix}\n",
    "        1\\\\\n",
    "        1\\\\\n",
    "        1\n",
    "      \\end{bmatrix}\\\\\n",
    "      & = & \\begin{bmatrix}\n",
    "        \\frac{11}{60}\\\\\n",
    "        \\frac{7}{30}\\\\\n",
    "        \\frac{43}{180}\n",
    "      \\end{bmatrix}\n",
    "\\end{eqnarray*}\n",
    "    \n",
    "i.e. $x = 11 / 60, y = 7 / 30, z = 43 / 180$."
   ]
  },
  {
   "cell_type": "code",
   "execution_count": 61,
   "metadata": {},
   "outputs": [],
   "source": [
    "A = np.array([[-1, 2, 3],\n",
    "             [4, -5, 6],\n",
    "             [7,8,-9]])\n",
    "b=np.array([[1],[1],[1]])"
   ]
  },
  {
   "cell_type": "code",
   "execution_count": 62,
   "metadata": {},
   "outputs": [],
   "source": [
    "from scipy.linalg import inv,solve,det\n",
    "from fractions import Fraction\n",
    "A_inv=inv(A)"
   ]
  },
  {
   "cell_type": "code",
   "execution_count": 63,
   "metadata": {},
   "outputs": [
    {
     "data": {
      "text/plain": [
       "359.99999999999994"
      ]
     },
     "execution_count": 63,
     "metadata": {},
     "output_type": "execute_result"
    }
   ],
   "source": [
    "det(A)"
   ]
  },
  {
   "cell_type": "code",
   "execution_count": 64,
   "metadata": {},
   "outputs": [
    {
     "data": {
      "text/plain": [
       "array([[0.18333333],\n",
       "       [0.23333333],\n",
       "       [0.23888889]])"
      ]
     },
     "execution_count": 64,
     "metadata": {},
     "output_type": "execute_result"
    }
   ],
   "source": [
    "solve(A,b)"
   ]
  },
  {
   "cell_type": "markdown",
   "metadata": {},
   "source": [
    "Another by the famous Gaussian elimination method, see the below. Follws the  elimination method also solves the linear system!\n",
    "   "
   ]
  },
  {
   "cell_type": "code",
   "execution_count": 10,
   "metadata": {},
   "outputs": [
    {
     "data": {
      "image/png": "[encoded data removed]",
      "text/plain": [
       "<IPython.core.display.Image object>"
      ]
     },
     "execution_count": 10,
     "metadata": {},
     "output_type": "execute_result"
    }
   ],
   "source": [
    "from IPython.display import Image\n",
    "Image(\"ch11-2.png\")"
   ]
  },
  {
   "cell_type": "markdown",
   "metadata": {},
   "source": [
    "Example\n",
    "---\n",
    "Solve the linear system:\n",
    "\n",
    "$$ \\begin{bmatrix}\n",
    "       1 & 2 & 3\\\\\n",
    "       0 & 1 & - 1\\\\\n",
    "       1 & 2 & 1\n",
    "     \\end{bmatrix} \n",
    "     \\begin{bmatrix}\n",
    "       x_1\\\\\n",
    "       x_2\\\\\n",
    "       x_3\n",
    "     \\end{bmatrix}\n",
    "     = \\begin{bmatrix}\n",
    "       1\\\\\n",
    "       0\\\\\n",
    "       - 1\n",
    "     \\end{bmatrix}\n",
    "$$\n",
    "\n",
    "Solution\n",
    "---\n",
    "Since the inverse of $A$ exists,\n",
    "\\begin{align}\n",
    "  A A^{-1} &=& I_3=\\begin{bmatrix}\n",
    "   1 & 0 & 0  \\\\ \n",
    "   0 & 1 & 0  \\\\ \n",
    "   0 & 0 & 1  \n",
    "\\end{bmatrix}\\\\\n",
    "\\Rightarrow \n",
    "\\begin{array}{c}\n",
    "\\;\\;\\text{*)} \\\\ \n",
    "     0\\text{)} \\\\ \n",
    "    -1\\text{)} \n",
    "\\end{array}\n",
    "\\begin{bmatrix}\n",
    "       1 & 2 & 3\\\\\n",
    "       0 & 1 & - 1\\\\\n",
    "       1 & 2 & 1\n",
    "     \\end{bmatrix} A^{-1}\n",
    "     &=& \\begin{bmatrix}\n",
    "   1 & 0 & 0  \\\\ \n",
    "   0 & 1 & 0  \\\\ \n",
    "   0 & 0 & 1  \n",
    "\\end{bmatrix}\\\\\n",
    "\\Rightarrow \n",
    "\\begin{array}{c}\n",
    "-2\\text{)} \\\\ \n",
    "     \\text{*)} \\\\ \n",
    "    0\\text{)} \n",
    "\\end{array}\n",
    "\\begin{bmatrix}\n",
    "       1 & 2 & 3\\\\\n",
    "       0 & 1 & - 1\\\\\n",
    "       0 & 0 & 2\n",
    "     \\end{bmatrix} A^{-1}\n",
    "     &=& \\begin{bmatrix}\n",
    "   1 & 0 & 0  \\\\ \n",
    "   0 & 1 & 0  \\\\ \n",
    "   -1 & 0 & 1  \n",
    "\\end{bmatrix}\\\\\n",
    "\\Rightarrow \n",
    "\\begin{array}{c}\n",
    "\\frac{5}{2}\\text{)} \\\\ \n",
    " -\\frac{1}{2} \\text{)} \\\\ \n",
    "    \\text{*)} \n",
    "\\end{array}\n",
    "\\begin{bmatrix}\n",
    "       1 & 0 & 5\\\\\n",
    "       0 & 1 & - 1\\\\\n",
    "       0 & 0 & -2\n",
    "     \\end{bmatrix} A^{-1}\n",
    "     &=& \\begin{bmatrix}\n",
    "   1 & -2 & 0  \\\\ \n",
    "   0 & 1 & 0  \\\\ \n",
    "   -1 & 0 & 1  \n",
    "\\end{bmatrix}\\\\\n",
    "\\Rightarrow \n",
    "\\begin{bmatrix}\n",
    "       1 & 0 & 0\\\\\n",
    "       0 & 1 & 0\\\\\n",
    "       0 & 0 & -2\n",
    "     \\end{bmatrix} A^{-1}\n",
    "     &=& \\begin{bmatrix}\n",
    "   -\\frac{3}{2} & -2 & \\frac{5}{2}  \\\\ \n",
    "   \\frac{1}{2} & 1 & -\\frac{1}{2}  \\\\ \n",
    "   -1 & 0 & 1  \n",
    "\\end{bmatrix}\\\\\n",
    "\\Rightarrow \n",
    "A^{-1}=\\begin{bmatrix}\n",
    "       1 & 0 & 0\\\\\n",
    "       0 & 1 & 0\\\\\n",
    "       0 & 0 & 1\n",
    "     \\end{bmatrix} A^{-1}\n",
    "     &=& \\begin{bmatrix}\n",
    "   -\\frac{3}{2} & -2 & \\frac{5}{2}  \\\\ \n",
    "   \\frac{1}{2} & 1 & -\\frac{1}{2}  \\\\ \n",
    "   \\frac{1}{2} & 0 & -\\frac{1}{2}  \n",
    "\\end{bmatrix}\\\\\n",
    "\\end{align}\n",
    "\n",
    "\n",
    "$$ A^{- 1} = \\left(\\begin{array}{ccc}\n",
    "     - \\frac{3}{2} & - 2 & \\frac{5}{2}\\\\\n",
    "     \\frac{1}{2} & 1 & - \\frac{1}{2}\\\\\n",
    "     \\frac{1}{2} & 0 & - \\frac{1}{2}\n",
    "   \\end{array}\\right) $$\n",
    "\n",
    "the solution is\n",
    "\n",
    "$$ \\vec{X} = A^{- 1} \\left(\\begin{array}{c}\n",
    "     1\\\\\n",
    "     0\\\\\n",
    "     - 1\n",
    "   \\end{array}\\right) = \\left(\\begin{array}{c}\n",
    "     - \\frac{3}{2} - 0 - \\frac{5}{2}\\\\\n",
    "     \\frac{1}{2} + 0 + \\frac{1}{2}\\\\\n",
    "     \\frac{1}{2} + 0 + \\frac{1}{2}\n",
    "   \\end{array}\\right) = \\left(\\begin{array}{c}\n",
    "     - 4\\\\\n",
    "     1\\\\\n",
    "     1\n",
    "   \\end{array}\\right) $$"
   ]
  },
  {
   "cell_type": "markdown",
   "metadata": {},
   "source": [
    "Cramer's Rule\n",
    "---\n",
    "Suppose that \n",
    "$$A_{n\\times n}=[\\mathbf{a_1},\\mathbf{a_2},\\cdots, \\mathbf{a_n}],\\mathbf{b}_{n\\times1}=[b_1,b_2,\\cdots,b_n]^T,$$\n",
    "where $\\mathbf{a_i}=[a_{i1},a_{i2},\\cdots,a_{in}]^T\\in \\mathbb{R}^n$.\n",
    "Then the solution of $A\\mathbf{x}_{n\\times1}=\\mathbf{b}_{n\\times1}$ is:\n",
    "$$x_i=\\frac{\\det(\\mathbf{a_1},\\mathbf{a_2,\\cdots,\\mathbf{b},\\cdots,\\mathbf{a_n}})}{\\det (A)}\n",
    "$$\n",
    "\n",
    "**Proof**. Without loss of generality, assume that $n=2$:\n",
    "$$AX=\\mathbf{b} \\Rightarrow x_1\\mathbf{a_1}+x_2\\mathbf{a_2}=\\mathbf{b}$$\n",
    "Then\n",
    "$$\\begin{vmatrix}\n",
    "   \\mathbf{b}, \\mathbf{a_2}\n",
    "   \\end{vmatrix}\n",
    "   =\\begin{vmatrix}\n",
    "   x_1\\mathbf{a_1}+x_2\\mathbf{a_2}, \\mathbf{a_2}\n",
    "   \\end{vmatrix}\n",
    "   =\\begin{vmatrix}\n",
    "   x_1\\mathbf{a_1}, \\mathbf{a_2}\n",
    "   \\end{vmatrix}\n",
    "  = x_1\\begin{vmatrix}\n",
    "   \\mathbf{a_1}, \\mathbf{a_2}\n",
    "   \\end{vmatrix}\n",
    "$$   "
   ]
  },
  {
   "cell_type": "markdown",
   "metadata": {},
   "source": [
    "Example (Continued)\n",
    "---\n",
    "\n",
    "$$A=\\begin{bmatrix}\n",
    "       1 & 2 & 3\\\\\n",
    "       0 & 1 & - 1\\\\\n",
    "       1 & 2 & 1\n",
    "     \\end{bmatrix},\n",
    "  \\mathbf{x}  = \\begin{bmatrix}\n",
    "       x_1\\\\\n",
    "       x_2\\\\\n",
    "       x_3\n",
    "     \\end{bmatrix},\n",
    "   b=  \\begin{bmatrix}\n",
    "       \\color{brown}{1}\\\\\n",
    "       \\color{brown}{0}\\\\\n",
    "       \\color{brown}{-1}\n",
    "     \\end{bmatrix}\n",
    "$$ \n",
    "We have $\\det(A)=-2$, and\n",
    "\\begin{eqnarray}\n",
    "  x_1&=&\\frac{\\begin{vmatrix}\n",
    "       \\color{brown}{1} & 2 & 3\\\\\n",
    "       \\color{brown}{0} & 1 & - 1\\\\\n",
    "       \\color{brown}{-1} & 2 & 1\n",
    "     \\end{vmatrix}}{\\det(A)}=-4,\n",
    "    x_2&=&\\frac{\\begin{vmatrix}\n",
    "       1 & \\color{brown}{1} & 3\\\\\n",
    "       0 & \\color{brown}{0} & - 1\\\\\n",
    "       1 & \\color{brown}{-1} & 1\n",
    "     \\end{vmatrix}}{\\det(A)}=1,\n",
    "    x_3&=&\\frac{\\begin{vmatrix}\n",
    "       1 & 2 &\\color{brown}{1}\\\\\n",
    "       0 & 1 & \\color{brown}{0}\\\\\n",
    "       1 & 2 & \\color{brown}{-1}\n",
    "     \\end{vmatrix}}{\\det(A)}=1 \n",
    "\\end{eqnarray}\n",
    "\n",
    "This concludes\n",
    "\n",
    "$$\\mathbf{x}  = \\begin{bmatrix}\n",
    "       -4\\\\\n",
    "       1\\\\\n",
    "      1\n",
    "     \\end{bmatrix}\n",
    "$$     "
   ]
  },
  {
   "cell_type": "markdown",
   "metadata": {},
   "source": [
    "Exercise\n",
    "---\n",
    "\n",
    "Solve the following linear systems:\n",
    "\n",
    "<ol>\n",
    "<li> Solve $[x,y,z]$:\n",
    "\\begin{eqnarray*}\n",
    "      2 x + y - z & = & 8\\\\\n",
    "      - 3 x - y + 2 z & = & - 11\\\\\n",
    "      - 2 x + y + 2 z & = & - 3\n",
    "    \\end{eqnarray*}\n",
    " \n",
    "<li>  Solve $[x,y,z,w]$:\n",
    "\\begin{eqnarray*}\n",
    "      x + 3 y - 5 z + 2 w & = & 94\\\\\n",
    "      x - 3 y + z - 5 w & = & 58\\\\\n",
    "      2 y + 3 z - 7 w & = & - 69\\\\\n",
    "      x - 2 y + 2 z + 4 w & = & 72\n",
    "    \\end{eqnarray*}\n",
    "\n",
    "<li> (Over-determined condition)\n",
    "    \\begin{eqnarray*}\n",
    "      x + 3 y & = & 1\\\\\n",
    "      - x + 2 y & = & 0\\\\\n",
    "      3 x - y & = & 1\n",
    "    \\end{eqnarray*}\n",
    "</ol>\n",
    "  \n",
    "**Solution:** \n",
    "\n",
    "1. $(x, y, z) = (2, 3, - 1)$\n",
    "2. $(x, y, z, w) = (12, 7, - 9, 8)$\n",
    "3. $(x, y) = (2 / 5, 3 / 5)$\n"
   ]
  },
  {
   "cell_type": "markdown",
   "metadata": {},
   "source": [
    "Orthogonal Vectors/Matrices\n",
    "---\n",
    "1. Two vectors $x, y \\in \\mathbb{R}^n$ are **orthogonal** if $x^T y = 0$.\n",
    "2. A vector $x \\in \\mathbb{R}^n$ is **normalized** if $\\|x\\|^2 = 1$.\n",
    "3. A square matrix $U \\in \\mathbb{R}^{n\\times n}$ is **orthogonal** if all its columns are orthogonal to each other and are **normalized**. The columns are then referred to as being **orthonormal**, i.e.\n",
    "$$U^T U = I = U U^T$$"
   ]
  },
  {
   "cell_type": "markdown",
   "metadata": {},
   "source": [
    "Eigenvalues and Eigenvectors\n",
    "---\n",
    "<b>Definition.</b>   If the number $\\lambda$ satisfies\n",
    "  $$ A \\vec{X} = \\lambda \\vec{X} $$\n",
    "  for nontrivial $\\vec{X}$, i.e.\n",
    "  $$ \\vec{X} \\neq \\left(\\begin{array}{c}\n",
    "       0\\\\\n",
    "       \\vdots\\\\\n",
    "       0\n",
    "     \\end{array}\\right) $$\n",
    "  and $A$ is square, then $\\lambda$ is called an eigenvalue of $A$ and\n",
    "  $\\vec{X}$ is the eigenvector of $A$ with respect to $\\lambda$. Formally, $\\vec{X}$ is chosen as the unit vector."
   ]
  },
  {
   "cell_type": "markdown",
   "metadata": {},
   "source": [
    "Example\n",
    "---\n",
    "Find all the eigenvalues and eigenvectors of \n",
    "\n",
    "$$A=\\begin{bmatrix}\n",
    "    2 & 0 & 0\\\\\n",
    "    - 2 & 1 & 0\\\\\n",
    "    1 & 0 & - 1\n",
    "  \\end{bmatrix}$$\n",
    "  \n",
    "**Solution**\n",
    "\n",
    "Let $\\vec{X}$ be the eigenvector with respect to eigenvalue $\\lambda$,\n",
    "  then\n",
    "\n",
    "\\begin{eqnarray*}\n",
    "    & A \\vec{X} = \\lambda \\vec{X} & \\\\\n",
    "    \\Rightarrow & (A - \\lambda I_3) \\vec{X} & = \\left(\\begin{array}{c}\n",
    "      0\\\\\n",
    "      0\\\\\n",
    "      0\n",
    "    \\end{array}\\right)\\\\\n",
    "    \\Rightarrow & \\left(\\begin{array}{ccc}\n",
    "      2 - \\lambda & 0 & 0\\\\\n",
    "      - 2 & 1 - \\lambda & 0\\\\\n",
    "      1 & 0 & - 1 - \\lambda\n",
    "    \\end{array}\\right) \\left(\\begin{array}{c}\n",
    "      x_1\\\\\n",
    "      x_2\\\\\n",
    "      x_3\n",
    "    \\end{array}\\right) & = \\left(\\begin{array}{c}\n",
    "      0\\\\\n",
    "      0\\\\\n",
    "      0\n",
    "    \\end{array}\\right)\n",
    "\\end{eqnarray*}\n",
    "\n",
    "\n",
    "Since $\\vec{X}$ is not a zero vector, this implies $A - \\lambda I_3$ is\n",
    "singular. And this is said that the determinant is equal to zero.\n",
    "\n",
    "\\begin{eqnarray*}\n",
    "  & \\begin{vmatrix}\n",
    "    2 - \\lambda & 0 & 0\\\\\n",
    "    - 2 & 1 - \\lambda & 0\\\\\n",
    "    1 & 0 & - 1 - \\lambda\n",
    "  \\end{vmatrix} & = 0\\\\\n",
    "  \\Rightarrow & (2 - \\lambda) (1 - \\lambda)^{} (- 1 - \\lambda) & = 0\\\\\n",
    "  \\Rightarrow & \\lambda = 2, 1, - 1 & \n",
    "\\end{eqnarray*}\n",
    "\n",
    "If $\\lambda = 2$,\n",
    "\n",
    "\\begin{eqnarray*}\n",
    "  & (A - \\lambda I_3) \\overrightarrow{X_1} & = \\left(\\begin{array}{c}\n",
    "    0\\\\\n",
    "    0\\\\\n",
    "    0\n",
    "  \\end{array}\\right)\\\\\n",
    "  \\Rightarrow & \\left(\\begin{array}{ccc}\n",
    "    0 & 0 & 0\\\\\n",
    "    - 2 & - 1 & 0\\\\\n",
    "    1 & 0 & - 3\n",
    "  \\end{array}\\right) \\left(\\begin{array}{c}\n",
    "    x_1\\\\\n",
    "    x_2\\\\\n",
    "    x_3\n",
    "  \\end{array}\\right) & = \\left(\\begin{array}{c}\n",
    "    0\\\\\n",
    "    0\\\\\n",
    "    0\n",
    "  \\end{array}\\right)\n",
    "\\end{eqnarray*}\n",
    "\n",
    "This implies\n",
    "\n",
    "$$2 x_1 + x_2 = 0 \\text{ and } x_1 - 3 x_3 = 0 $$\n",
    "i.e.\n",
    "\n",
    "$$ x_1 = 3 x_3 \\text{ and } x_2 = - 6 x_3 $$\n",
    "\n",
    "Then the eigenvector with respect to eigenvalue $2$ may be chosen as\n",
    "\n",
    "$$ \\overrightarrow{X_1} = \\left(\\begin{array}{c}\n",
    "     \\frac{3}{\\sqrt{46}}\\\\\n",
    "     \\frac{- 6}{\\sqrt{46}}\\\\\n",
    "     \\frac{1}{\\sqrt{46}}\n",
    "   \\end{array}\\right) $$\n",
    "if we let $\\overrightarrow{X_1}$ be a unit vector. If $\\lambda = 1$,\n",
    "\n",
    "\\begin{eqnarray*}\n",
    "  & (A - I_3) \\overrightarrow{X_2} & = \\left(\\begin{array}{c}\n",
    "    0\\\\\n",
    "    0\\\\\n",
    "    0\n",
    "  \\end{array}\\right)\\\\\n",
    "  \\Rightarrow & \\left(\\begin{array}{ccc}\n",
    "    1 & 0 & 0\\\\\n",
    "    - 2 & 0 & 0\\\\\n",
    "    1 & 0 & - 2\n",
    "  \\end{array}\\right) \\overrightarrow{X_2} & = \\left(\\begin{array}{c}\n",
    "    0\\\\\n",
    "    0\\\\\n",
    "    0\n",
    "  \\end{array}\\right)\n",
    "\\end{eqnarray*}\n",
    "\n",
    "And this implies\n",
    "\n",
    "$$ x_1 = 0, - 2 x_1 = 0 \\text{ and } x_1 - 2 x_3 = 0 $$\n",
    "\n",
    "In other words, $x_1 = x_2 = 0$, but there is no constrain for $x_2$.\n",
    "Therefore we may choose $x_2 = 1$, i.e. the eigenvector with respect to\n",
    "eigenvalue $1$ is\n",
    "\n",
    "$$ \\overrightarrow{X_2} = \\left(\\begin{array}{c}\n",
    "     0\\\\\n",
    "     1\\\\\n",
    "     0\n",
    "   \\end{array}\\right) $$\n",
    "   \n",
    "The last eigenvector with respect to \\ eigenvalue $- 1$ is also found by the\n",
    "similar method:\n",
    "\n",
    "\\begin{eqnarray*}\n",
    "  & \\left(\\begin{array}{ccc}\n",
    "    3 & 0 & 0\\\\\n",
    "    - 2 & 2 & 0\\\\\n",
    "    1 & 0 & 0\n",
    "  \\end{array}\\right) \\overrightarrow{X_3} & = \\left(\\begin{array}{c}\n",
    "    0\\\\\n",
    "    0\\\\\n",
    "    0\n",
    "  \\end{array}\\right)\\\\\n",
    "  \\Rightarrow & x_1 = 0 \\text{ and } - 2 x_1 + 2 x_2 = 0 & \n",
    "\\end{eqnarray*}\n",
    "\n",
    "As the same way, the eigenvector is chosen as unit vector:\n",
    "\n",
    "$$ \\overrightarrow{X_3} = \\left(\\begin{array}{c}\n",
    "     0\\\\\n",
    "     0\\\\\n",
    "     1\n",
    "   \\end{array}\\right) $$"
   ]
  },
  {
   "cell_type": "code",
   "execution_count": 65,
   "metadata": {},
   "outputs": [],
   "source": [
    "from scipy.linalg import eig"
   ]
  },
  {
   "cell_type": "code",
   "execution_count": 66,
   "metadata": {},
   "outputs": [
    {
     "data": {
      "text/plain": [
       "array([[ 2,  0,  0],\n",
       "       [-2,  1,  0],\n",
       "       [ 1,  0, -1]])"
      ]
     },
     "execution_count": 66,
     "metadata": {},
     "output_type": "execute_result"
    }
   ],
   "source": [
    "A = np.array([[2,0,0],[-2,1,0],[1,0,-1]])\n",
    "A"
   ]
  },
  {
   "cell_type": "code",
   "execution_count": 29,
   "metadata": {},
   "outputs": [],
   "source": [
    "eigenvals,eigenvecs=eig(A)"
   ]
  },
  {
   "cell_type": "code",
   "execution_count": 67,
   "metadata": {},
   "outputs": [
    {
     "name": "stdout",
     "output_type": "stream",
     "text": [
      "Eigenvalue -1.0 with Eigenvector [0. 0. 1.] \n",
      "Eigenvalue 2.0 with Eigenvector [0. 1. 0.] \n",
      "Eigenvalue 1.0 with Eigenvector [ 0.66666667 -0.66666667  0.33333333] \n"
     ]
    }
   ],
   "source": [
    "for i in range(len(eigenvals)):\n",
    "    print(\"Eigenvalue %s with Eigenvector %s \" %(eigenvals.real[i],eigenvecs[:,i]))"
   ]
  },
  {
   "cell_type": "markdown",
   "metadata": {},
   "source": [
    "Note\n",
    "---\n",
    "At 2019, T. Tao et.al. found a simple but interesting theorem in which we can find out eigenvectors from eigenvalues by themselves:\n",
    "\n",
    "Definition\n",
    "---\n",
    "$A_{n\\times n}=[a_{i,j}]$ is called Hermitian matrix if $a_{i,j}=\\bar{a}_{j,i}$.\n",
    "\n",
    "Theorem\n",
    "---\n",
    "Let $A$ be a Hermitian matrix, with eigenvales, $\\lambda_1(A),\\cdots,\\lambda_n(A)$. Let $v_i$ be the $i$-th unit eigenvector with respect to eigenvalue $\\lambda(A)$, and let $v_{ij}$ be the $j$-composent of $v_i$. Then \n",
    "\n",
    "$$\n",
    "  |v_{i,j}|^2{\\prod\\limits_{k=1}^{n-1}(\\lambda_i(A)-\\lambda_k(M_j))}={\\prod\\limits_{k=1,k\\ne i}^{n}\\left(\\lambda_i(A)-\\lambda_k(A)\\right)}\n",
    "$$\n",
    "where $M_j$ is $(n-1)\\times(n-1)$ Hermitian matrix formed by deleting $j$-th row and column of $A$."
   ]
  },
  {
   "cell_type": "markdown",
   "metadata": {},
   "source": [
    "Example\n",
    "---\n",
    "Consider the following square matrix:\n",
    "$$A=\\begin{bmatrix}\n",
    "    1 & 2 & 0\\\\\n",
    "    2 & 4 & 0\\\\\n",
    "    0 & 0 & 3\n",
    "  \\end{bmatrix}$$\n",
    "$A$ is Hermitian (and symmetry). \n",
    "\n",
    "1. eigenvalues of $A$ are $0,5,3$.\n",
    "2. And \n",
    "$$M_1=\\begin{bmatrix}\n",
    "     4 & 0\\\\\n",
    "     0 & 3\n",
    "  \\end{bmatrix},\n",
    "  M_2=\\begin{bmatrix}\n",
    "    1  & 0\\\\\n",
    "    0  & 3\n",
    "  \\end{bmatrix},\n",
    "  M_3=\\begin{bmatrix}\n",
    "    1 & 2 \\\\\n",
    "    2 & 4 \n",
    "  \\end{bmatrix}\n",
    "  $$\n",
    "3. Eigenvalues of $M_1$ are $4,3$,  eigenvalues of $M_2$ are $1,3$, and eigenvalues of $M_3$ are $0,5$.\n",
    "4. For $\\lambda=0$, eigenvector is:\n",
    "$$(A-0\\cdot I_3)X_1=0_3\\Rightarrow X_1=\\left[\\frac{-2}{\\sqrt 5},\\frac{1}{\\sqrt5},0\\right]^T$$\n",
    "For $\\lambda=5$, eigenvector is:\n",
    "$$(A-5\\cdot I_3)X_2=0_3\\Rightarrow X_2=\\left[\\frac{1}{\\sqrt 5},\\frac{2}{\\sqrt5},0\\right]^T$$\n",
    "For $\\lambda=3$, eigenvector is:\n",
    "$$(A-3\\cdot I_3)X_1=0_3\\Rightarrow X_3=\\left[0,0,1\\right]^T$$"
   ]
  },
  {
   "cell_type": "markdown",
   "metadata": {},
   "source": [
    "5. The following coincide with above:\n",
    "\n",
    "$$\n",
    "|v_{1,1}|^2=\\frac{(0-4)(0-3)}{(0-5)(0-3)}=\\frac{4}{5},\n",
    "  |v_{1,2}|^2=\\frac{(0-1)(0-3)}{(0-5)(0-3)}=\\frac{1}{5},\n",
    "  |v_{1,3}|^2=\\frac{(0-0)(0-5)}{(0-5)(0-3)}=0\n",
    "$$\n",
    "$$\n",
    "|v_{2,1}|^2=\\frac{(5-4)(5-3)}{(5-0)(5-3)}=\\frac{1}{5},\n",
    "  |v_{2,2}|^2=\\frac{(5-1)(5-3)}{(5-0)(5-3)}=\\frac{4}{5},\n",
    "  |v_{2,3}|^2=\\frac{(5-0)(5-5)}{(5-0)(5-3)}=0\n",
    "$$\n",
    "$$\n",
    "|v_{3,1}|^2=\\frac{(3-4)(3-3)}{(3-0)(3-5)}=0,\n",
    "  |v_{3,2}|^2=\\frac{(3-1)(3-3)}{(3-0)(3-5)}=0,\n",
    "  |v_{3,3}|^2=\\frac{(3-0)(3-5)}{(3-0)(3-5)}=1\n",
    "$$ "
   ]
  },
  {
   "cell_type": "code",
   "execution_count": 221,
   "metadata": {},
   "outputs": [],
   "source": [
    "def check_hermite(A, rtol=1e-05, atol=1e-08):\n",
    "    return np.allclose(A, A.conj(), rtol=rtol, atol=atol)\n",
    "    \n",
    "def M_del(A,i):\n",
    "    B=np.delete(A, i, 0)\n",
    "    C=np.delete(B, i, 1)\n",
    "    return C\n",
    "def DDTZ(A):\n",
    "    \"\"\"\n",
    "    PETER B. DENTON, STEPHEN J. PARKE, TERENCE TAO, AND XINING ZHANG\n",
    "    EIGENVECTORS FROM EIGENVALUES: A SURVEY OF A BASIC IDENTITY IN LINEAR ALGEBRA, \n",
    "    https://arxiv.org/pdf/1908.03795.pdf\n",
    "    \"\"\"\n",
    "    try:\n",
    "        check_hermite(A)\n",
    "        print(\"Matrix is Hermitian\\n\")\n",
    "        eigvalA,eigvecA=eig(A)\n",
    "        M_=[]\n",
    "        for i in range(len(eigvalA)):\n",
    "            M=M_del(A,i)\n",
    "            eigvalM,eigvecM=eig(M)\n",
    "            M_.append(eigvalM)\n",
    "        M_=np.array(M_)\n",
    "        #print(M_)\n",
    "        for i in range(len(eigvalA)):\n",
    "            print(\"%s). Eigenvalue: %s, with eigenvector: %s\"  %(i+1,eigvalA[i],eigvecA[i]))            \n",
    "            print(\"----\")\n",
    "            \n",
    "            #A_=np.delete(np.diag(eigvalA),i)\n",
    "            nominator=np.prod(eigvalA[i]*np.ones(len(eigvalA)-1)-np.delete(eigvalA,i))\n",
    "            denominator_=[]\n",
    "            for j in range(len(eigvalA)):\n",
    "                denominator=np.prod(eigvalA[i]*np.ones(len(eigvalA)-1)-M_[j])\n",
    "                #denominator=np.prod(np.delete(eigvalA,i)-np.diag(eigvalM))\n",
    "                denominator_.append(denominator)\n",
    "            \n",
    "            u=[item/nominator for item in denominator_]\n",
    "            \n",
    "            print(\"(u\",i+1,\")^2\",\" is \",u)\n",
    "            print(\"====\")\n",
    "    except ValueError:\n",
    "        print(\"Not Hermitian!\")\n",
    "    \n"
   ]
  },
  {
   "cell_type": "code",
   "execution_count": 222,
   "metadata": {},
   "outputs": [
    {
     "name": "stdout",
     "output_type": "stream",
     "text": [
      "Matrix is Hermitian\n",
      "\n",
      "1). Eigenvalue: 0j, with eigenvector: [-0.89442719 -0.4472136   0.        ]\n",
      "----\n",
      "(u 1 )^2  is  [(0.8+0j), (0.2+0j), (-0+0j)]\n",
      "====\n",
      "2). Eigenvalue: (5+0j), with eigenvector: [ 0.4472136  -0.89442719  0.        ]\n",
      "----\n",
      "(u 2 )^2  is  [(0.2+0j), (0.8+0j), 0j]\n",
      "====\n",
      "3). Eigenvalue: (3+0j), with eigenvector: [0. 0. 1.]\n",
      "----\n",
      "(u 3 )^2  is  [-0j, (-0-0j), (1-0j)]\n",
      "====\n"
     ]
    }
   ],
   "source": [
    "A3=np.array([[1,2,0],[2,4,0],[0,0,3]])\n",
    "DDTZ(A3)"
   ]
  },
  {
   "cell_type": "code",
   "execution_count": 217,
   "metadata": {},
   "outputs": [],
   "source": [
    "A3=np.array([[1,1,-1],[1,3,1],[-1,1,3]])"
   ]
  },
  {
   "cell_type": "code",
   "execution_count": 218,
   "metadata": {},
   "outputs": [
    {
     "name": "stdout",
     "output_type": "stream",
     "text": [
      "Matrix is Hermitian\n",
      "\n",
      "1). Eigenvalue: (-2.220446049250313e-16+0j), with eigenvector: [-8.16496581e-01  5.77350269e-01 -3.14018492e-16]\n",
      "----\n",
      "u^2_ 0  is  [(0.6666666666666669+0j), (0.16666666666666682+0j), (0.16666666666666682+0j)]\n",
      "====\n",
      "2). Eigenvalue: (3+0j), with eigenvector: [0.40824829 0.57735027 0.70710678]\n",
      "----\n",
      "u^2_ 1  is  [(0.33333333333333365-0j), (0.33333333333333354-0j), (0.33333333333333354-0j)]\n",
      "====\n",
      "3). Eigenvalue: (3.999999999999999+0j), with eigenvector: [-0.40824829 -0.57735027  0.70710678]\n",
      "----\n",
      "u^2_ 2  is  [(-4.440892098500629e-16+0j), (0.4999999999999998+0j), (0.4999999999999998+0j)]\n",
      "====\n"
     ]
    }
   ],
   "source": [
    "DDTZ(A3)"
   ]
  },
  {
   "cell_type": "markdown",
   "metadata": {},
   "source": [
    "Theorem. (Cayley-Hamilton Theorem)\n",
    "---\n",
    "Suppose that $A_n$ is a $n \\times n$ square\n",
    "  matrix. Let\n",
    "  $$ \\vartriangle (\\lambda) = \\det | \\lambda I_n - A_n | $$\n",
    "  called $\\color{brown}{\\text{characteristic function}}$ with rspect to $A_n$, then\n",
    "  $$ \\vartriangle (A_n) = 0_{n \\times n} $$\n",
    "  i.e replacing $\\lambda$ with $A_n$."
   ]
  },
  {
   "cell_type": "markdown",
   "metadata": {},
   "source": [
    "**Example.**\n",
    "\n",
    " Suppose that \n",
    " \n",
    " $$A = \\left(\\begin{array}{cc}\n",
    "    1 & 2\\\\\n",
    "    0 & 1\n",
    "  \\end{array}\\right)$$\n",
    "\n",
    "Find $A^{100}$.\n",
    "  "
   ]
  },
  {
   "cell_type": "markdown",
   "metadata": {},
   "source": [
    "1. <font color=\"red\"> Characteristic function:</font>\n",
    "\n",
    "\\begin{eqnarray*}\n",
    "      \\vartriangle (\\lambda) & = & \\det | \\lambda I_2 - A_2 |\\\\\n",
    "      & = & \\left| \\left(\\begin{array}{cc}\n",
    "        \\lambda & 0\\\\\n",
    "        0 & \\lambda\n",
    "      \\end{array}\\right) - \\left(\\begin{array}{cc}\n",
    "        1 & 2\\\\\n",
    "        0 & 1\n",
    "      \\end{array}\\right) \\right|\\\\\n",
    "      & = & \\left| \\left(\\begin{array}{cc}\n",
    "        \\lambda - 1 & - 2\\\\\n",
    "        0 & \\lambda - 1\n",
    "      \\end{array}\\right) \\right|\\\\\n",
    "      & = & (\\lambda - 1)^2\\\\\n",
    "      & = & \\lambda^2 - 2 \\lambda + 1\n",
    "    \\end{eqnarray*}\n",
    "2. <font color=\"red\">Replacing $\\lambda$ with $A$:</font>\n",
    "\n",
    "\\begin{eqnarray*}\n",
    "      \\vartriangle (A) & = & (A - I_2)^2\\\\\n",
    "      & = & \\left(\\begin{array}{cc}\n",
    "        1 - 1 & 2\\\\\n",
    "        0 & 1 - 1\n",
    "      \\end{array}\\right)^2\\\\\n",
    "      & = & \\left(\\begin{array}{cc}\n",
    "        0 & 2\\\\\n",
    "        0 & 0\n",
    "      \\end{array}\\right)^2\\\\\n",
    "      & = & \\left(\\begin{array}{cc}\n",
    "        0 & 0\\\\\n",
    "        0 & 0\n",
    "      \\end{array}\\right)\n",
    "    \\end{eqnarray*}\n",
    "\n",
    "this means:\n",
    "\n",
    "\\begin{eqnarray*}\n",
    "      & (A - I_2)^2 = 0_2 & \\\\\n",
    "      \\Longrightarrow & \\color{brown}{A^2 - 2 A + I_2 = 0_2} & \n",
    "    \\end{eqnarray*}\n"
   ]
  },
  {
   "cell_type": "code",
   "execution_count": 88,
   "metadata": {},
   "outputs": [
    {
     "data": {
      "text/plain": [
       "array([[0., 0.],\n",
       "       [0., 0.]])"
      ]
     },
     "execution_count": 88,
     "metadata": {},
     "output_type": "execute_result"
    }
   ],
   "source": [
    "A=np.array([[1,2],[0,1]])\n",
    "I=np.eye(2)\n",
    "\n",
    "I-2*A+A@A"
   ]
  },
  {
   "cell_type": "markdown",
   "metadata": {},
   "source": [
    "where `A@B` represents the matrix product of matrices $A,B$."
   ]
  },
  {
   "cell_type": "markdown",
   "metadata": {},
   "source": [
    "\n",
    "\n",
    "\n",
    "3. <font color=\"red\">{Applying Cayley-Hamilton Theorem:}</font>\n",
    "    \n",
    "Let $f (x) = x^{100}$ and $g (x) = 100 x - 99$. Then\n",
    "\n",
    "\\begin{eqnarray*}\n",
    "      & f (x) & = (x^2 - 2 x + 1) Q (x) + g (x)\\\\\n",
    "      \\Longrightarrow & f (A) & = (A^2 - 2 A + I_2) Q (A) + g (A)\\\\\n",
    "      &  & = 100 A - 99 I_2\\\\\n",
    "      &  & = \\left(\\begin{array}{cc}\n",
    "        100 & 200\\\\\n",
    "        0 & 100\n",
    "      \\end{array}\\right) - \\left(\\begin{array}{cc}\n",
    "        99 & 0\\\\\n",
    "        0 & 99\n",
    "      \\end{array}\\right)\\\\\n",
    "      &  & = \\left(\\begin{array}{cc}\n",
    "        1 & 200\\\\\n",
    "        0 & 1\n",
    "      \\end{array}\\right)\n",
    "\\end{eqnarray*}\n"
   ]
  },
  {
   "cell_type": "code",
   "execution_count": 89,
   "metadata": {},
   "outputs": [
    {
     "data": {
      "text/plain": [
       "array([[  1, 200],\n",
       "       [  0,   1]])"
      ]
     },
     "execution_count": 89,
     "metadata": {},
     "output_type": "execute_result"
    }
   ],
   "source": [
    "from numpy.linalg import matrix_power as mpow\n",
    "mpow(A,100)"
   ]
  },
  {
   "cell_type": "markdown",
   "metadata": {},
   "source": [
    "**Example.**\n",
    "\n",
    " Suppose that \n",
    " \n",
    " $$A = \\left(\\begin{array}{ccc}\n",
    "    0 & 0 &-2\\\\\n",
    "    0 & 1 &0\\\\\n",
    "    1 &0 &3\n",
    "  \\end{array}\\right)$$\n",
    "\n",
    "Find $e^{A t}$.\n",
    "  \n",
    "**Sol**\n",
    "\n",
    "- <font color=\"red\"> Characteristic function:</font>\n",
    "\n",
    "\\begin{eqnarray*}\n",
    "      \\vartriangle (\\lambda) & = & \\det | \\lambda I_3 - A |\\\\\n",
    "      & = & \\left| \\left(\\begin{array}{ccc}\n",
    "        \\lambda & 0 &0\\\\\n",
    "        0 & \\lambda &0\\\\\n",
    "        0 &0  &\\lambda \n",
    "      \\end{array}\\right) - \\left(\\begin{array}{ccc}\n",
    "        0 & 0 &-2\\\\\n",
    "        0 & 1 &0\\\\\n",
    "        1 &0 &3\n",
    "      \\end{array}\\right) \\right|\\\\\n",
    "      & = & \\left| \\left(\\begin{array}{ccc}\n",
    "        \\lambda &0 &  2\\\\\n",
    "        0 & \\lambda - 1&0\\\\\n",
    "        -1&0&\\lambda-3\n",
    "      \\end{array}\\right) \\right|\\\\\n",
    "      & = & (\\lambda - 1)^2(\\lambda-2)\n",
    "    \\end{eqnarray*} \n",
    "-  Let $f(\\lambda)=e^{\\lambda t}$ and $g(\\lambda)=\\alpha_0+\\alpha_1\\lambda+\\alpha_2\\lambda^2$  with\n",
    "$$f(A)=e^{A t}=g(A)$$\n",
    "- by \n",
    "\\begin{eqnarray*}\n",
    "&&f(1)=g(1),f'(1)=g'(1),f(2)=g(2)\\\\\n",
    "\\Longrightarrow&&\\alpha_0=-2t e^t+e^{2t}, \\alpha_1=3t e^t+2 e^t-2 e^{2t},\\alpha_2=e^{2t}-e^t-te^t\n",
    "\\end{eqnarray*}\n",
    "- Thus\n",
    "\n",
    "\\begin{eqnarray*}\n",
    "e^{tA}&=&f(A)=g(A)\\\\\n",
    "      &=&\\alpha_0 I_3+\\alpha_1 A+\\alpha_2 A^2\\\\\n",
    "      &=& \\left(\\begin{array}{ccc}\n",
    "        2 e^t-e^{2t} &0 & 2 e^t-2e^{2t}\\\\\n",
    "        0 & e^t &0\\\\\n",
    "        -e^t+e^{2t}&0& 2e^{2t}-e^{t}\n",
    "      \\end{array}\\right) \n",
    "\\end{eqnarray*}"
   ]
  },
  {
   "cell_type": "code",
   "execution_count": null,
   "metadata": {},
   "outputs": [],
   "source": []
  },
  {
   "cell_type": "markdown",
   "metadata": {},
   "source": [
    "**Theorem (Diagonalization of Matrix)** If all the eigenvalues of the matrix are\n",
    "  distinct real numbers, says $\\lambda_1, \\cdots, \\lambda_n$ with\n",
    "  eigenvectors, $\\overset{\\rightharpoonup}{q_1}, \\cdots,\n",
    "  \\overset{\\rightharpoonup}{q_n}$ respectively and\n",
    "$$ Q = \\begin{bmatrix}\n",
    "       \\overset{\\rightharpoonup}{q_1} & \\cdots &\n",
    "       \\overset{\\rightharpoonup}{q_n}\n",
    "     \\end{bmatrix} $$\n",
    "  Then the matrix can diagonalized as\n",
    "$$ Q^{- 1}A Q = \\begin{bmatrix}\n",
    "       \\lambda_1 & \\cdots & 0\\\\\n",
    "       \\vdots & \\ddots & \\vdots\\\\\n",
    "       0 & \\cdots & \\lambda_n\n",
    "     \\end{bmatrix} $$\n",
    "     \n",
    "  i.e. only the elements at the diagonal may have values, eigenvalues, and the\n",
    "  others element are equal to zero."
   ]
  },
  {
   "cell_type": "markdown",
   "metadata": {},
   "source": [
    "**Example** Diagonalize the  matrix \n",
    "\n",
    "$$A_{2 \\times 2} =\n",
    "  \\left(\\begin{array}{cc}\n",
    "    0 & 3\\\\\n",
    "    1 & - 2\n",
    "  \\end{array}\\right)$$\n",
    "  \n",
    "**Solution:** Since $\\lambda = - 3$ or $1$ with eigenvectors \n",
    "\n",
    "$$\\left(\\begin{array}{c}\n",
    "    1\\\\\n",
    "    - 1\n",
    "  \\end{array}\\right),\\left(\\begin{array}{c}\n",
    "    3\\\\\n",
    "    1\n",
    "  \\end{array}\\right)$$ \n",
    "  \n",
    "then\n",
    "\n",
    "\\begin{eqnarray*}\n",
    "    Q & = & \\left(\\begin{array}{cc}\n",
    "      1 & 3\\\\\n",
    "      - 1 & 1\n",
    "    \\end{array}\\right)\\\\\n",
    "    Q^{- 1} & = & \\frac{1}{4}  \\left(\\begin{array}{cc}\n",
    "      1 & - 3\\\\\n",
    "      1 & 1\n",
    "    \\end{array}\\right)\n",
    "  \\end{eqnarray*}\n",
    "  \n",
    "By the multiplication rule of matrix, we have:\n",
    "\n",
    "$$ Q^{- 1} A Q = \\frac{1}{4} \\left(\\begin{array}{cc}\n",
    "       1 & - 3\\\\\n",
    "       1 & 1\n",
    "     \\end{array}\\right) \\left(\\begin{array}{cc}\n",
    "       0 & 3\\\\\n",
    "       1 & - 2\n",
    "     \\end{array}\\right) \\left(\\begin{array}{cc}\n",
    "       1 & 3\\\\\n",
    "       - 1 & 1\n",
    "     \\end{array}\\right) = \\left(\\begin{array}{cc}\n",
    "       - 3 & 0\\\\\n",
    "       0 & 1\n",
    "     \\end{array}\\right) $$\n",
    "\n"
   ]
  },
  {
   "cell_type": "markdown",
   "metadata": {},
   "source": [
    "**Example** \n",
    "Diagonalize the square matrix \n",
    "\n",
    "$$A_{3 \\times 3} = \\left(\\begin{array}{ccc}\n",
    "    1 & 0 & 0\\\\\n",
    "    1 & 2 & 0\\\\\n",
    "    1 & 0 & - 1\n",
    "  \\end{array}\\right)$$\n",
    "  \n",
    "**Solution:** First solve the characteristic equation, $\\det (A - \\lambda I_3) = 0$:\n",
    "\n",
    "\\begin{eqnarray*}\n",
    "    & (1 - \\lambda) (2 - \\lambda) (- 1 - \\lambda) = 0 & \\\\\n",
    "    \\Longrightarrow & \\lambda = 1, 2 \\text{ and } - 1 & \n",
    "  \\end{eqnarray*}\n",
    "  \n",
    "  with eigenvectors respectively:\n",
    "1. $\\color{brown}{\\lambda = 1}$,\n",
    "\n",
    "\\begin{eqnarray*}\n",
    "      (A - \\lambda I_3) \\overset{\\rightharpoonup}{x_1} = 0 & \\Longrightarrow &\n",
    "      \\left(\\begin{array}{ccc}\n",
    "        1 - 1 & 0 & 0\\\\\n",
    "        1 & 2 - 1 & 0\\\\\n",
    "        1 & 0 & - 1 - 1\n",
    "      \\end{array}\\right) \\left(\\begin{array}{c}\n",
    "        x_1\\\\\n",
    "        x_2\\\\\n",
    "        x_3\n",
    "      \\end{array}\\right) = \\left(\\begin{array}{c}\n",
    "        0\\\\\n",
    "        0\\\\\n",
    "        0\n",
    "      \\end{array}\\right)\\\\\n",
    "      & \\Longrightarrow & \\left(\\begin{array}{ccc}\n",
    "        0 & 0 & 0\\\\\n",
    "        1 & 1 & 0\\\\\n",
    "        1 & 0 & - 2\n",
    "      \\end{array}\\right) \\left(\\begin{array}{c}\n",
    "        x_1\\\\\n",
    "        x_2\\\\\n",
    "        x_3\n",
    "      \\end{array}\\right) = \\left(\\begin{array}{c}\n",
    "        0\\\\\n",
    "        0\\\\\n",
    "        0\n",
    "      \\end{array}\\right)\\\\\n",
    "      & \\Longrightarrow & x_1 + x_2 = 0 \\text{ and } x_1 - 2 x_3 = 0\\\\\n",
    "      & \\Longrightarrow & \\color{brown}{\\left(\\begin{array}{c}\n",
    "        x_1\\\\\n",
    "        x_2\\\\\n",
    "        x_3\n",
    "      \\end{array}\\right) = \\left(\\begin{array}{c}\n",
    "        2\\\\\n",
    "        - 2\\\\\n",
    "        1\n",
    "      \\end{array}\\right)}\n",
    "    \\end{eqnarray*}\n",
    "2. $\\color{brown}{\\lambda = 2}$: As the same method, we can choose\n",
    "    the respective eigenvectors as\n",
    "\n",
    "$$ \\color{brown}{\\left(\\begin{array}{c}\n",
    "         x_1\\\\\n",
    "         x_2\\\\\n",
    "         x_3\n",
    "       \\end{array}\\right) = \\left(\\begin{array}{c}\n",
    "         0\\\\\n",
    "         1\\\\\n",
    "         0\n",
    "       \\end{array}\\right)} $$\n",
    "\n",
    "3. $\\color{brown}{\\lambda = - 1}$: the eigenvector is\n",
    "\n",
    "$$ \\color{brown}{\\left(\\begin{array}{c}\n",
    "         x_1\\\\\n",
    "         x_2\\\\\n",
    "         x_3\n",
    "       \\end{array}\\right) = \\left(\\begin{array}{c}\n",
    "         0\\\\\n",
    "         0\\\\\n",
    "         1\n",
    "       \\end{array}\\right)} $$\n",
    "\n",
    "Therefore we\n",
    "\n",
    "\\begin{eqnarray*}\n",
    "    Q = \\left(\\begin{array}{ccc}\n",
    "      2 & 0 & 0\\\\\n",
    "      - 2 & 1 & 0\\\\\n",
    "      1 & 0 & 1\n",
    "    \\end{array}\\right), & M = \\left(\\begin{array}{ccc}\n",
    "      1 & - 2 & - 1\\\\\n",
    "      0 & 2 & 0\\\\\n",
    "      0 & 0 & 2\n",
    "    \\end{array}\\right), & C = \\left(\\begin{array}{ccc}\n",
    "      1 & 2 & - 1\\\\\n",
    "      0 & 2 & 0\\\\\n",
    "      0 & 0 & 2\n",
    "    \\end{array}\\right)\n",
    "  \\end{eqnarray*}\n",
    "\n",
    "And these results imply:\n",
    "\n",
    "\\begin{eqnarray*}\n",
    "    \\text{ adj } (Q) = \\left(\\begin{array}{ccc}\n",
    "      1 & 0 & 0\\\\\n",
    "      2 & 2 & 0\\\\\n",
    "      - 1 & 0 & 2\n",
    "    \\end{array}\\right) & \\text{ and } & Q^{- 1} = \\frac{1}{2}\n",
    "    \\left(\\begin{array}{ccc}\n",
    "      1 & 0 & 0\\\\\n",
    "      2 & 2 & 0\\\\\n",
    "      - 1 & 0 & 2\n",
    "    \\end{array}\\right)\n",
    "  \\end{eqnarray*}\n",
    "\n",
    "**Note**\n",
    "\n",
    "Another method for solving $A^{- 1}$ is by Gaussian elemination as follows:\n",
    "\n",
    "\\begin{eqnarray*}\n",
    "      \\color{red}{Q}\\qquad   \\qquad  \\color{red}{\\vec{x} }\\quad\\\\\n",
    "      \\left(\\begin{array}{ccccc}\n",
    "        2 & 0 & 0 & | & x_1\\\\\n",
    "        - 2 & 1 & 0 & | & x_2\\\\\n",
    "        1 & 0 & 1 & | & x_3\n",
    "      \\end{array}\\right) & \\Rightarrow & \\left(\\begin{array}{ccccc}\n",
    "        1 & 0 & 0 & | & \\frac{x_1}{2}\\\\\n",
    "        - 2 & 1 & 0 & | & x_2\\\\\n",
    "        1 & 0 & 1 & | & x_3\n",
    "      \\end{array}\\right)\\\\\n",
    "      & \\Rightarrow & \\left(\\begin{array}{ccccc}\n",
    "        1 & 0 & 0 & | & \\frac{x_1}{2}\\\\\n",
    "        0 & 1 & 0 & | & x_1 + x_2\\\\\n",
    "        1 & 0 & 1 & | & x_3\n",
    "      \\end{array}\\right)\\\\\n",
    "      & \\Rightarrow & \\left(\\begin{array}{ccccc}\n",
    "        1 & 0 & 0 & | & \\frac{x_1}{2}\\\\\n",
    "        0 & 1 & 0 & | & x_1 + x_2\\\\\n",
    "        0 & 0 & 1 & | & - \\frac{x_1}{2} + x_3\n",
    "      \\end{array}\\right)\\\\\n",
    "      &  &  \\qquad\\qquad\\qquad\\quad{\\color{red}{Q^{- 1}} \\vec{x}}\n",
    "    \\end{eqnarray*}\n",
    "\n",
    "This means:\n",
    "\n",
    "\\begin{eqnarray*}\n",
    "     \\color{red}{Q^{- 1}} \\vec{x}  & = &\\left(\\begin{array}{c}\n",
    "        \\frac{x_1}{2}\\\\\n",
    "        x_1 + x_2\\\\\n",
    "        - \\frac{x_1}{2} + x_3\n",
    "      \\end{array}\\right) \\\\\n",
    "      & = & \\color{red}{\\frac{1}{2} \\left(\\begin{array}{ccc}\n",
    "        1 & 0 & 0\\\\\n",
    "        2 & 2 & 0\\\\\n",
    "        - 1 & 0 & 2\n",
    "      \\end{array}\\right)} \\left(\\begin{array}{c}\n",
    "        x_1\\\\\n",
    "        x_2\\\\\n",
    "        x_3\n",
    "      \\end{array}\\right)\n",
    "    \\end{eqnarray*}\n",
    "\n",
    "  \n",
    "Diagonalization of $A$ follows the from the standard procedure:\n",
    "\n",
    "\\begin{eqnarray*}\n",
    "    \\color{red}{Q^{- 1}} A Q^{} & = & \\color{red}{\\frac{1}{2} }\\color{red}{\\left(\\begin{array}{ccc}\n",
    "      1 & 0 & 0\\\\\n",
    "      2 & 2 & 0\\\\\n",
    "      - 1 & 0 & 2\n",
    "    \\end{array}\\right)} \\left(\\begin{array}{ccc}\n",
    "      1 & 0 & 0\\\\\n",
    "      1 & 2 & 0\\\\\n",
    "      1 & 0 & - 1\n",
    "    \\end{array}\\right) \\left(\\begin{array}{ccc}\n",
    "      2 & 0 & 0\\\\\n",
    "      - 2 & 1 & 0\\\\\n",
    "      1 & 0 & 1\n",
    "    \\end{array}\\right)\\\\\n",
    "    & = & \\left(\\begin{array}{ccc}\n",
    "      1 & 0 & 0\\\\\n",
    "      0 & 2 & 0\\\\\n",
    "      0 & 0 & - 1\n",
    "    \\end{array}\\right)\n",
    "  \\end{eqnarray*}"
   ]
  },
  {
   "cell_type": "code",
   "execution_count": 68,
   "metadata": {},
   "outputs": [],
   "source": [
    "A = np.array([[1,0,0],[1,2,0],[1,0,-1]])\n",
    "eigenvals,eigenvecs=eig(A)\n"
   ]
  },
  {
   "cell_type": "markdown",
   "metadata": {},
   "source": [
    "Note \n",
    "---\n",
    "Multiplication of matrices $A, B$ is\n",
    "```\n",
    "> A.dot(B)\n",
    "```"
   ]
  },
  {
   "cell_type": "code",
   "execution_count": null,
   "metadata": {},
   "outputs": [],
   "source": []
  },
  {
   "cell_type": "code",
   "execution_count": 83,
   "metadata": {},
   "outputs": [
    {
     "data": {
      "text/plain": [
       "array([[-1.,  0.,  0.],\n",
       "       [ 0.,  2.,  0.],\n",
       "       [ 0.,  0.,  1.]])"
      ]
     },
     "execution_count": 83,
     "metadata": {},
     "output_type": "execute_result"
    }
   ],
   "source": [
    "Q=eigenvecs\n",
    "Q_inv=inv(Q)\n",
    "(Q_inv.dot(A)).dot(Q)"
   ]
  },
  {
   "cell_type": "code",
   "execution_count": 84,
   "metadata": {},
   "outputs": [
    {
     "data": {
      "text/plain": [
       "array([[ 0.        ,  0.        ,  0.66666667],\n",
       "       [ 0.        ,  1.        , -0.66666667],\n",
       "       [ 1.        ,  0.        ,  0.33333333]])"
      ]
     },
     "execution_count": 84,
     "metadata": {},
     "output_type": "execute_result"
    }
   ],
   "source": [
    "Q"
   ]
  },
  {
   "cell_type": "code",
   "execution_count": 85,
   "metadata": {},
   "outputs": [
    {
     "data": {
      "text/plain": [
       "array([[-0.5, -0. ,  1. ],\n",
       "       [ 1. ,  1. ,  0. ],\n",
       "       [ 1.5,  0. ,  0. ]])"
      ]
     },
     "execution_count": 85,
     "metadata": {},
     "output_type": "execute_result"
    }
   ],
   "source": [
    "Q_inv"
   ]
  },
  {
   "cell_type": "code",
   "execution_count": 86,
   "metadata": {},
   "outputs": [
    {
     "data": {
      "text/plain": [
       "array([[ 1.00000000e+00,  0.00000000e+00,  0.00000000e+00],\n",
       "       [ 5.55111512e-17,  1.00000000e+00,  0.00000000e+00],\n",
       "       [-2.77555756e-17,  0.00000000e+00,  1.00000000e+00]])"
      ]
     },
     "execution_count": 86,
     "metadata": {},
     "output_type": "execute_result"
    }
   ],
   "source": [
    "Q.dot(Q_inv)"
   ]
  },
  {
   "cell_type": "code",
   "execution_count": 123,
   "metadata": {},
   "outputs": [],
   "source": []
  },
  {
   "cell_type": "code",
   "execution_count": 224,
   "metadata": {},
   "outputs": [
    {
     "data": {
      "image/png": "[encoded data removed]",
      "text/plain": [
       "<Figure size 720x720 with 2 Axes>"
      ]
     },
     "metadata": {},
     "output_type": "display_data"
    }
   ],
   "source": [
    "def f(x):\n",
    "    return 0.6 * np.cos(4 * x) + 1.4\n",
    "\n",
    "\n",
    "xmin, xmax = -1, 1\n",
    "x = np.linspace(xmin, xmax, 160)\n",
    "y = f(x)\n",
    "ya, yb = np.min(y), np.max(y)\n",
    "\n",
    "fig, axes = plt.subplots(2, 1, figsize=(10, 10))\n",
    "\n",
    "for ax in axes:\n",
    "    # Set the axes through the origin\n",
    "    for spine in ['left', 'bottom']:\n",
    "        ax.spines[spine].set_position('zero')\n",
    "    for spine in ['right', 'top']:\n",
    "        ax.spines[spine].set_color('none')\n",
    "\n",
    "    ax.set(ylim=(-0.6, 3.2), xlim=(xmin, xmax),\n",
    "           yticks=(), xticks=())\n",
    "\n",
    "    ax.plot(x, y, 'k-', lw=2, label='$f$')\n",
    "    ax.fill_between(x, ya, yb, facecolor='blue', alpha=0.05)\n",
    "    ax.vlines([0], ya, yb, lw=3, color='blue', label='range of $f$')\n",
    "    ax.text(0.04, -0.3, '$0$', fontsize=16)\n",
    "\n",
    "ax = axes[0]\n",
    "\n",
    "ax.legend(loc='upper right', frameon=False)\n",
    "ybar = 1.5\n",
    "ax.plot(x, x * 0 + ybar, 'k--', alpha=0.5)\n",
    "ax.text(0.05, 0.8 * ybar, '$y$', fontsize=16)\n",
    "for i, z in enumerate((-0.35, 0.35)):\n",
    "    ax.vlines(z, 0, f(z), linestyle='--', alpha=0.5)\n",
    "    ax.text(z, -0.2, f'$x_{i}$', fontsize=16)\n",
    "\n",
    "ax = axes[1]\n",
    "\n",
    "ybar = 2.6\n",
    "ax.plot(x, x * 0 + ybar, 'k--', alpha=0.5)\n",
    "ax.text(0.04, 0.91 * ybar, '$y$', fontsize=16)\n",
    "\n",
    "plt.show()"
   ]
  },
  {
   "cell_type": "code",
   "execution_count": 225,
   "metadata": {},
   "outputs": [
    {
     "data": {
      "image/png": "[encoded data removed]",
      "text/plain": [
       "<Figure size 720x576 with 1 Axes>"
      ]
     },
     "metadata": {
      "needs_background": "light"
     },
     "output_type": "display_data"
    }
   ],
   "source": [
    "A = ((1, 2),\n",
    "     (2, 1))\n",
    "A = np.array(A)\n",
    "evals, evecs = eig(A)\n",
    "evecs = evecs[:, 0], evecs[:, 1]\n",
    "\n",
    "fig, ax = plt.subplots(figsize=(10, 8))\n",
    "# Set the axes through the origin\n",
    "for spine in ['left', 'bottom']:\n",
    "    ax.spines[spine].set_position('zero')\n",
    "for spine in ['right', 'top']:\n",
    "    ax.spines[spine].set_color('none')\n",
    "ax.grid(alpha=0.4)\n",
    "\n",
    "xmin, xmax = -3, 3\n",
    "ymin, ymax = -3, 3\n",
    "ax.set(xlim=(xmin, xmax), ylim=(ymin, ymax))\n",
    "\n",
    "# Plot each eigenvector\n",
    "for v in evecs:\n",
    "    ax.annotate('', xy=v, xytext=(0, 0),\n",
    "                arrowprops=dict(facecolor='blue',\n",
    "                shrink=0,\n",
    "                alpha=0.6,\n",
    "                width=0.5))\n",
    "\n",
    "# Plot the image of each eigenvector\n",
    "for v in evecs:\n",
    "    v = A @ v\n",
    "    ax.annotate('', xy=v, xytext=(0, 0),\n",
    "                arrowprops=dict(facecolor='red',\n",
    "                shrink=0,\n",
    "                alpha=0.6,\n",
    "                width=0.5))\n",
    "\n",
    "# Plot the lines they run through\n",
    "x = np.linspace(xmin, xmax, 3)\n",
    "for v in evecs:\n",
    "    a = v[1] / v[0]\n",
    "    ax.plot(x, a * x, 'b-', lw=0.4)\n",
    "\n",
    "plt.show()"
   ]
  },
  {
   "cell_type": "code",
   "execution_count": null,
   "metadata": {},
   "outputs": [],
   "source": []
  },
  {
   "cell_type": "markdown",
   "metadata": {},
   "source": [
    "Example\n",
    "---\n",
    "Find the eigenvalues and eigenvectors of $A$ where\n",
    "$$A= \\begin{bmatrix}\n",
    "      2 & 2 \\\\\n",
    "      3 & -1\n",
    "    \\end{bmatrix}$$\n",
    "Sol\n",
    "---\n",
    "1) $\\det(A-\\lambda I_{2\\times2})=0$ implies\n",
    "\\begin{eqnarray}\n",
    "    \\lambda^2-\\lambda-6=0&\\Rightarrow&\\lambda=3, -2\n",
    "\\end{eqnarray}\n",
    "and eigenvectors is $\\vec{q_1}=\\begin{bmatrix}\n",
    "      2  \\\\\n",
    "      -1\n",
    "    \\end{bmatrix}$ and $\\vec{q_2}=\\begin{bmatrix}\n",
    "      1  \\\\\n",
    "      -2\n",
    "    \\end{bmatrix}$.\n",
    "    \n",
    "Now let \n",
    "$$Q=[\\vec{q_1},\\vec{q_2}]=\\begin{bmatrix}\n",
    "      2 & 1 \\\\\n",
    "      1 & -2\n",
    "    \\end{bmatrix}\n",
    "$$ \n",
    "Then \n",
    "$$Q^{-1}=\\begin{bmatrix}\n",
    "      \\frac{2}{5} & \\frac{1}{5} \\\\\n",
    "      \\frac{1}{5} & -\\frac{2}{5}\n",
    "    \\end{bmatrix}\n",
    "$$ \n",
    "and $$Q^{-1}AQ=\\begin{bmatrix}\n",
    "      3 &0  \\\\\n",
    "      0 & -2\n",
    "    \\end{bmatrix}$$"
   ]
  },
  {
   "cell_type": "code",
   "execution_count": 13,
   "metadata": {},
   "outputs": [],
   "source": [
    "P,Q=np.array([0,1]),np.array([2,0])"
   ]
  },
  {
   "cell_type": "code",
   "execution_count": 20,
   "metadata": {},
   "outputs": [
    {
     "data": {
      "text/plain": [
       "array([[0, 1],\n",
       "       [2, 0]])"
      ]
     },
     "execution_count": 20,
     "metadata": {},
     "output_type": "execute_result"
    }
   ],
   "source": [
    "PQ=np.vstack((P,Q))\n",
    "PQ"
   ]
  },
  {
   "cell_type": "code",
   "execution_count": 25,
   "metadata": {},
   "outputs": [
    {
     "data": {
      "text/plain": [
       "<matplotlib.quiver.Quiver at 0x7ff970d69fa0>"
      ]
     },
     "execution_count": 25,
     "metadata": {},
     "output_type": "execute_result"
    },
    {
     "data": {
      "image/png": "[encoded data removed]",
      "text/plain": [
       "<Figure size 432x288 with 1 Axes>"
      ]
     },
     "metadata": {
      "needs_background": "light"
     },
     "output_type": "display_data"
    }
   ],
   "source": [
    "origin=np.array([[0,0],[0,0]])\n",
    "\n",
    "PQ=np.vstack((P,Q))\n",
    "plt.xlim(-3,3)\n",
    "plt.ylim(-3,3)\n",
    "plt.quiver(origin[:,0],origin[:,1],PQ[:,0],PQ[:,1],color='red', angles='xy',scale=1)"
   ]
  },
  {
   "cell_type": "code",
   "execution_count": 11,
   "metadata": {},
   "outputs": [],
   "source": [
    "plt.quiver?"
   ]
  },
  {
   "cell_type": "code",
   "execution_count": null,
   "metadata": {},
   "outputs": [],
   "source": []
  }
 ],
 "metadata": {
  "kernelspec": {
   "display_name": "Python 3",
   "language": "python",
   "name": "python3"
  },
  "language_info": {
   "codemirror_mode": {
    "name": "ipython",
    "version": 3
   },
   "file_extension": ".py",
   "mimetype": "text/x-python",
   "name": "python",
   "nbconvert_exporter": "python",
   "pygments_lexer": "ipython3",
   "version": "3.8.5"
  }
 },
 "nbformat": 4,
 "nbformat_minor": 4
}
