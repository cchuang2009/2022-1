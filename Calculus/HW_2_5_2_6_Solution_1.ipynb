{
  "cells": [
    {
      "cell_type": "code",
      "execution_count": 1,
      "metadata": {
        "id": "hUyElXHg_Zyo"
      },
      "outputs": [],
      "source": [
        "import warnings\n",
        "warnings.filterwarnings(action='ignore')"
      ]
    },
    {
      "cell_type": "code",
      "execution_count": 2,
      "metadata": {
        "id": "YLRehT2w_Zyp"
      },
      "outputs": [],
      "source": [
        "import numpy as np\n",
        "import matplotlib.pylab as plt\n",
        "import plotly.express as ex\n",
        "from sympy.plotting import plot_implicit\n",
        "\n",
        "%matplotlib inline"
      ]
    },
    {
      "cell_type": "code",
      "execution_count": 10,
      "metadata": {
        "id": "4WfaZap8_Zyp"
      },
      "outputs": [],
      "source": [
        "from sympy import Symbol, symbols, diff,pprint,Function,solve,Derivative,Eq,latex,simplify\n",
        "from sympy import sin,cos,sec,sqrt,tan,exp,log,Abs,acos, atan, pi\n",
        "from fractions import Fraction\n",
        "\n",
        "from IPython.display import HTML\n",
        "def typeset():\n",
        "  \"\"\"MathJax initialization for the current cell.\n",
        "\n",
        "  This installs and configures MathJax for the current output.\n",
        "  \"\"\"\n",
        "  display(HTML('''\n",
        "      <script src=\"https://www.gstatic.com/external_hosted/mathjax/latest/MathJax.js?config=TeX-AMS_HTML-full,Safe&delayStartupUntil=configured\"></script>\n",
        "      <script>\n",
        "        (() => {\n",
        "          const mathjax = window.MathJax;\n",
        "          mathjax.Hub.Config({\n",
        "          'tex2jax': {\n",
        "            'inlineMath': [['$', '$'], ['\\\\(', '\\\\)']],\n",
        "            'displayMath': [['$$', '$$'], ['\\\\[', '\\\\]']],\n",
        "            'processEscapes': true,\n",
        "            'processEnvironments': true,\n",
        "            'skipTags': ['script', 'noscript', 'style', 'textarea', 'code'],\n",
        "            'displayAlign': 'center',\n",
        "          },\n",
        "          'HTML-CSS': {\n",
        "            'styles': {'.MathJax_Display': {'margin': 0}},\n",
        "            'linebreaks': {'automatic': true},\n",
        "            // Disable to prevent OTF font loading, which aren't part of our\n",
        "            // distribution.\n",
        "            'imageFont': null,\n",
        "          },\n",
        "          'messageStyle': 'none'\n",
        "        });\n",
        "        mathjax.Hub.Configured();\n",
        "      })();\n",
        "      </script>\n",
        "      '''))"
      ]
    },
    {
      "cell_type": "code",
      "execution_count": 4,
      "metadata": {
        "id": "pbUyq5bu_Zyq"
      },
      "outputs": [],
      "source": [
        "from IPython.display import display, Latex"
      ]
    },
    {
      "cell_type": "code",
      "execution_count": 5,
      "metadata": {
        "code_folding": [
          1
        ],
        "id": "L0AziC5h_Zyq"
      },
      "outputs": [],
      "source": [
        "x,t,u=symbols(\"x t u\")\n",
        "def ChainRuleLatex(f,g):\n",
        "    u=Symbol(\"u\")\n",
        "    fu=diff(f,u)\n",
        "    fx=diff(f,u).subs({u:g})\n",
        "    gx=diff(g,x)\n",
        "    fg=f.subs({u:g})\n",
        "\n",
        "    s1=' \\\\begin{eqnarray} '\n",
        "    s2=' &%s&& \\\\quad %s \\\\\\ ' %(latex(g),latex(f))\n",
        "    s3=' x& \\Longrightarrow &u=g(x)=%s &\\Longrightarrow  & f(g(x))=%s \\\\\\ ' %(latex(g),latex(fg))\n",
        "    s4=' &\\color{red}{g\\'}\\downarrow& & \\color{brown}{f\\'}\\downarrow \\\\\\ '\n",
        "    s5=' & \\\\left(\\\\color{red}{%s} \\\\right)&\\\\qquad\\\\times& \\\\left( \\\\color{brown}{%s} \\\\right)   \\\\\\ ' %((latex(gx),latex(fg)))\n",
        "    s6=' \\end{eqnarray} '\n",
        "    s=s1+s2+s3+s4+s5+s6\n",
        "\n",
        "    display(Latex(s))\n",
        "\n",
        "    display(Latex('i.e. the derivative of $f(g(x)), \\mathbf{(f(g(x)))}\\',$ is: '))\n",
        "\n",
        "    display(simplify(gx*fx))\n"
      ]
    },
    {
      "cell_type": "code",
      "execution_count": 6,
      "metadata": {
        "code_folding": [
          1
        ],
        "id": "l5PurAhA_Zyq"
      },
      "outputs": [],
      "source": [
        "x,t,u,a,b=symbols(\"x t u a b\")\n",
        "def ChainRule3(f,g):\n",
        "    u=Symbol(\"u\")\n",
        "    fu=diff(f,u)\n",
        "    fx=diff(f,u).subs({u:g})\n",
        "    gx=diff(g,x)\n",
        "    fg=f.subs({u:g})\n",
        "    print(\"   \",g,\"\\t\",f,\"\\n\", \\\n",
        "          \"x\",\"  ⟶  \",g,\"   ⟶   \",fg, \"\\n\",\\\n",
        "          \"     ↓     ×       ↓\", \"\\n\",\\\n",
        "          \"   \",gx,\"\\t\",fu,\"\\n\",\\\n",
        "          \"           ↓    \\n\", \\\n",
        "          \"     \", gx*fx\n",
        "         )\n",
        "    print(\"---\\ni.e.\\n\")\n",
        "    pprint(gx*fx)\n",
        "    #print(\"(f(g(x)))' =\",l1*l2,\", \\nwhere f(u) = \",f, \" and u = g = \",g)"
      ]
    },
    {
      "cell_type": "code",
      "execution_count": 7,
      "metadata": {
        "code_folding": [],
        "id": "L9-_QXNQ_Zyq"
      },
      "outputs": [],
      "source": [
        "# 120\n",
        "# 11\n",
        "f=u**2\n",
        "g=(x+5)/(x**2+2)\n"
      ]
    },
    {
      "cell_type": "code",
      "execution_count": 11,
      "metadata": {
        "id": "YhyGPUkn_Zyq",
        "outputId": "b69d1e2e-4f57-4f19-e80f-effc5aef631d",
        "colab": {
          "base_uri": "https://localhost:8080/",
          "height": 272
        }
      },
      "outputs": [
        {
          "output_type": "display_data",
          "data": {
            "text/plain": [
              "<IPython.core.display.HTML object>"
            ],
            "text/html": [
              "\n",
              "      <script src=\"https://www.gstatic.com/external_hosted/mathjax/latest/MathJax.js?config=TeX-AMS_HTML-full,Safe&delayStartupUntil=configured\"></script>\n",
              "      <script>\n",
              "        (() => {\n",
              "          const mathjax = window.MathJax;\n",
              "          mathjax.Hub.Config({\n",
              "          'tex2jax': {\n",
              "            'inlineMath': [['$', '$'], ['\\(', '\\)']],\n",
              "            'displayMath': [['$$', '$$'], ['\\[', '\\]']],\n",
              "            'processEscapes': true,\n",
              "            'processEnvironments': true,\n",
              "            'skipTags': ['script', 'noscript', 'style', 'textarea', 'code'],\n",
              "            'displayAlign': 'center',\n",
              "          },\n",
              "          'HTML-CSS': {\n",
              "            'styles': {'.MathJax_Display': {'margin': 0}},\n",
              "            'linebreaks': {'automatic': true},\n",
              "            // Disable to prevent OTF font loading, which aren't part of our\n",
              "            // distribution.\n",
              "            'imageFont': null,\n",
              "          },\n",
              "          'messageStyle': 'none'\n",
              "        });\n",
              "        mathjax.Hub.Configured();\n",
              "      })();\n",
              "      </script>\n",
              "      "
            ]
          },
          "metadata": {}
        },
        {
          "output_type": "display_data",
          "data": {
            "text/plain": [
              "<IPython.core.display.Latex object>"
            ],
            "text/latex": " \\begin{eqnarray}  &\\frac{x + 5}{x^{2} + 2}&& \\quad u^{2} \\\\  x& \\Longrightarrow &u=g(x)=\\frac{x + 5}{x^{2} + 2} &\\Longrightarrow  & f(g(x))=\\frac{\\left(x + 5\\right)^{2}}{\\left(x^{2} + 2\\right)^{2}} \\\\  &\\color{red}{g'}\\downarrow& & \\color{brown}{f'}\\downarrow \\\\  & \\left(\\color{red}{- \\frac{2 x \\left(x + 5\\right)}{\\left(x^{2} + 2\\right)^{2}} + \\frac{1}{x^{2} + 2}} \\right)&\\qquad\\times& \\left( \\color{brown}{\\frac{\\left(x + 5\\right)^{2}}{\\left(x^{2} + 2\\right)^{2}}} \\right)   \\\\  \\end{eqnarray} "
          },
          "metadata": {}
        },
        {
          "output_type": "display_data",
          "data": {
            "text/plain": [
              "<IPython.core.display.Latex object>"
            ],
            "text/latex": "i.e. the derivative of $f(g(x)), \\mathbf{(f(g(x)))}',$ is: "
          },
          "metadata": {}
        },
        {
          "output_type": "display_data",
          "data": {
            "text/plain": [
              "2*(x + 5)*(x**2 - 2*x*(x + 5) + 2)/(x**2 + 2)**3"
            ],
            "text/latex": "$\\displaystyle \\frac{2 \\left(x + 5\\right) \\left(x^{2} - 2 x \\left(x + 5\\right) + 2\\right)}{\\left(x^{2} + 2\\right)^{3}}$"
          },
          "metadata": {}
        }
      ],
      "source": [
        "typeset()\n",
        "ChainRuleLatex(f,g)"
      ]
    },
    {
      "cell_type": "code",
      "execution_count": null,
      "metadata": {
        "id": "k7Mv3-FD_Zyr"
      },
      "outputs": [],
      "source": []
    },
    {
      "cell_type": "code",
      "execution_count": null,
      "metadata": {
        "id": "BXyBko-p_Zyr",
        "outputId": "052f7684-d1d7-4cce-ed7c-a79f74befefa"
      },
      "outputs": [
        {
          "data": {
            "text/latex": [
              " \\begin{eqnarray}  &\\frac{a + x}{b + x^{2}}&& \\quad u \\\\  x& \\Longrightarrow &u=g(x)=\\frac{a + x}{b + x^{2}} &\\Longrightarrow  & f(g(x))=\\frac{a + x}{b + x^{2}} \\\\  &\\color{red}{g'}\\downarrow& & \\color{brown}{f'}\\downarrow \\\\  & \\left(\\color{red}{- \\frac{2 x \\left(a + x\\right)}{\\left(b + x^{2}\\right)^{2}} + \\frac{1}{b + x^{2}}} \\right)&\\qquad\\times& \\left( \\color{brown}{\\frac{a + x}{b + x^{2}}} \\right)   \\\\  \\end{eqnarray} "
            ],
            "text/plain": [
              "<IPython.core.display.Latex object>"
            ]
          },
          "metadata": {},
          "output_type": "display_data"
        },
        {
          "data": {
            "text/latex": [
              "i.e. the derivative of $f(g(x)), \\mathbf{(f(g(x)))}',$ is: "
            ],
            "text/plain": [
              "<IPython.core.display.Latex object>"
            ]
          },
          "metadata": {},
          "output_type": "display_data"
        },
        {
          "data": {
            "text/latex": [
              "$\\displaystyle \\frac{b + x^{2} - 2 x \\left(a + x\\right)}{\\left(b + x^{2}\\right)^{2}}$"
            ],
            "text/plain": [
              "(b + x**2 - 2*x*(a + x))/(b + x**2)**2"
            ]
          },
          "metadata": {},
          "output_type": "display_data"
        }
      ],
      "source": [
        "\n",
        "f=u\n",
        "g=(x+a)/(x**2+b)\n",
        "ChainRuleLatex(f,g)"
      ]
    },
    {
      "cell_type": "code",
      "execution_count": null,
      "metadata": {
        "id": "OImGLFUD_Zyr",
        "outputId": "db61bd10-90ea-4efd-de4d-672de9e1bb9b"
      },
      "outputs": [
        {
          "data": {
            "text/latex": [
              "$\\displaystyle - 2 \\sin^{2}{\\left(2 x \\right)} + 2 \\cos^{2}{\\left(2 x \\right)}$"
            ],
            "text/plain": [
              "-2*sin(2*x)**2 + 2*cos(2*x)**2"
            ]
          },
          "execution_count": 12,
          "metadata": {},
          "output_type": "execute_result"
        }
      ],
      "source": [
        "# 16\n",
        "diff(sin(2*x)*cos(2*x),x)"
      ]
    },
    {
      "cell_type": "code",
      "execution_count": null,
      "metadata": {
        "id": "o5G4rTiV_Zys"
      },
      "outputs": [],
      "source": []
    },
    {
      "cell_type": "code",
      "execution_count": null,
      "metadata": {
        "id": "iEf7-0nw_Zys",
        "outputId": "1bf294cf-c98a-4082-c444-8f49c87b6bd6"
      },
      "outputs": [
        {
          "data": {
            "text/latex": [
              " \\begin{eqnarray}  &\\sqrt{x}&& \\quad e^{u} \\\\  x& \\Longrightarrow &u=g(x)=\\sqrt{x} &\\Longrightarrow  & f(g(x))=e^{\\sqrt{x}} \\\\  &\\color{red}{g'}\\downarrow& & \\color{brown}{f'}\\downarrow \\\\  & \\left(\\color{red}{\\frac{1}{2 \\sqrt{x}}} \\right)&\\qquad\\times& \\left( \\color{brown}{e^{\\sqrt{x}}} \\right)   \\\\  \\end{eqnarray} "
            ],
            "text/plain": [
              "<IPython.core.display.Latex object>"
            ]
          },
          "metadata": {},
          "output_type": "display_data"
        },
        {
          "data": {
            "text/latex": [
              "i.e. the derivative of $f(g(x)), \\mathbf{(f(g(x)))}',$ is: "
            ],
            "text/plain": [
              "<IPython.core.display.Latex object>"
            ]
          },
          "metadata": {},
          "output_type": "display_data"
        },
        {
          "data": {
            "text/latex": [
              "$\\displaystyle \\frac{e^{\\sqrt{x}}}{2 \\sqrt{x}}$"
            ],
            "text/plain": [
              "exp(sqrt(x))/(2*sqrt(x))"
            ]
          },
          "metadata": {},
          "output_type": "display_data"
        }
      ],
      "source": [
        "# 23\n",
        "f=exp(u)\n",
        "g=sqrt(x)\n",
        "\n",
        "ChainRuleLatex(f,g)"
      ]
    },
    {
      "cell_type": "code",
      "execution_count": null,
      "metadata": {
        "id": "-PbWVEjQ_Zys",
        "outputId": "1160a23d-4537-4c49-b0d2-0e7840e666af"
      },
      "outputs": [
        {
          "data": {
            "text/latex": [
              "$\\displaystyle \\frac{2}{x \\log{\\left(x^{2} \\right)}}$"
            ],
            "text/plain": [
              "2/(x*log(x**2))"
            ]
          },
          "execution_count": 16,
          "metadata": {},
          "output_type": "execute_result"
        }
      ],
      "source": [
        "# 37\n",
        "diff(log(log(x**2)),x)"
      ]
    },
    {
      "cell_type": "code",
      "execution_count": null,
      "metadata": {
        "id": "LG6mWu6u_Zys",
        "outputId": "49b76d8c-e539-46d8-d539-b6200799b481"
      },
      "outputs": [
        {
          "data": {
            "text/latex": [
              "$\\displaystyle \\frac{\\cos{\\left(x \\right)}}{\\sin{\\left(x \\right)}}$"
            ],
            "text/plain": [
              "cos(x)/sin(x)"
            ]
          },
          "execution_count": 21,
          "metadata": {},
          "output_type": "execute_result"
        }
      ],
      "source": [
        "#39\n",
        "diff(log(sin(x)**2)/2,x)"
      ]
    },
    {
      "cell_type": "code",
      "execution_count": null,
      "metadata": {
        "id": "O7RrgEbJ_Zys",
        "outputId": "53d1af8a-1a8a-4ed6-f52a-057e813be7f1"
      },
      "outputs": [
        {
          "data": {
            "text/latex": [
              "$\\displaystyle - \\frac{\\sin{\\left(x \\right)}}{\\cos^{2}{\\left(x \\right)} + \\cos{\\left(x \\right)}}$"
            ],
            "text/plain": [
              "-sin(x)/(cos(x)**2 + cos(x))"
            ]
          },
          "execution_count": 108,
          "metadata": {},
          "output_type": "execute_result"
        }
      ],
      "source": [
        "#40\n",
        "simplify(diff(log((cos(x)/(cos(x)+1))**2)/2,x))"
      ]
    },
    {
      "cell_type": "markdown",
      "metadata": {
        "id": "7pKHepEe_Zys"
      },
      "source": [
        "#39, #40, we use the fact"
      ]
    },
    {
      "cell_type": "markdown",
      "metadata": {
        "id": "iq8GCrHY_Zyt"
      },
      "source": [
        "$$ |f|=(f^2)^{1/2}$$\n",
        "Howeve, we also have the differential ruke:\n",
        "$$(\\log |x|)'=\\frac{1}{x}$$\n",
        "thus,\n",
        "-  #39, $(\\log|\\sin x|)'=\\frac{(\\sin(x))'}{\\sin x}=\\frac{\\cos x}{\\sin x}$;\n",
        "- #40  \n",
        "   $$\\left(\\log\\left|\\frac{\\cos x}{1+\\cos x}\\right|\\right)'=\\frac{\\left(\\frac{\\cos x}{1+\\cos x}\\right)'}{\\frac{\\cos x}{1+\\cos x}}\n",
        "   =\\frac{\\sin x}{\\cos x}\\left(\\frac{\\cos x}{1+\\cos x} -1\\right)$$"
      ]
    },
    {
      "cell_type": "code",
      "execution_count": null,
      "metadata": {
        "id": "Rl7zsgco_Zyt",
        "outputId": "1dba88d5-6223-4377-920d-6f25246363ea"
      },
      "outputs": [
        {
          "data": {
            "text/latex": [
              " \\begin{eqnarray}  &\\cos{\\left(x \\right)}&& \\quad \\frac{u}{u + 1} \\\\  x& \\Longrightarrow &u=g(x)=\\cos{\\left(x \\right)} &\\Longrightarrow  & f(g(x))=\\frac{\\cos{\\left(x \\right)}}{\\cos{\\left(x \\right)} + 1} \\\\  &\\color{red}{g'}\\downarrow& & \\color{brown}{f'}\\downarrow \\\\  & \\left(\\color{red}{- \\sin{\\left(x \\right)}} \\right)&\\qquad\\times& \\left( \\color{brown}{\\frac{\\cos{\\left(x \\right)}}{\\cos{\\left(x \\right)} + 1}} \\right)   \\\\  \\end{eqnarray} "
            ],
            "text/plain": [
              "<IPython.core.display.Latex object>"
            ]
          },
          "metadata": {},
          "output_type": "display_data"
        },
        {
          "data": {
            "text/latex": [
              "i.e. the derivative of $f(g(x)), \\mathbf{(f(g(x)))}',$ is: "
            ],
            "text/plain": [
              "<IPython.core.display.Latex object>"
            ]
          },
          "metadata": {},
          "output_type": "display_data"
        },
        {
          "data": {
            "text/latex": [
              "$\\displaystyle - \\frac{\\sin{\\left(x \\right)}}{\\left(\\cos{\\left(x \\right)} + 1\\right)^{2}}$"
            ],
            "text/plain": [
              "-sin(x)/(cos(x) + 1)**2"
            ]
          },
          "metadata": {},
          "output_type": "display_data"
        }
      ],
      "source": [
        "f=(u/(1+u))\n",
        "g=cos(x)\n",
        "\n",
        "ChainRuleLatex(f,g)\n",
        "\n"
      ]
    },
    {
      "cell_type": "code",
      "execution_count": null,
      "metadata": {
        "id": "BAJIoJTc_Zyt",
        "outputId": "82440836-a855-42f2-9868-1e9717c0cc84"
      },
      "outputs": [
        {
          "data": {
            "text/latex": [
              " \\begin{eqnarray}  &3 x^{3} + 4 x&& \\quad \\sqrt[3]{u} \\\\  x& \\Longrightarrow &u=g(x)=3 x^{3} + 4 x &\\Longrightarrow  & f(g(x))=\\sqrt[3]{3 x^{3} + 4 x} \\\\  &\\color{red}{g'}\\downarrow& & \\color{brown}{f'}\\downarrow \\\\  & \\left(\\color{red}{9 x^{2} + 4} \\right)&\\qquad\\times& \\left( \\color{brown}{\\sqrt[3]{3 x^{3} + 4 x}} \\right)   \\\\  \\end{eqnarray} "
            ],
            "text/plain": [
              "<IPython.core.display.Latex object>"
            ]
          },
          "metadata": {},
          "output_type": "display_data"
        },
        {
          "data": {
            "text/latex": [
              "i.e. the derivative of $f(g(x)), \\mathbf{(f(g(x)))}',$ is: "
            ],
            "text/plain": [
              "<IPython.core.display.Latex object>"
            ]
          },
          "metadata": {},
          "output_type": "display_data"
        },
        {
          "data": {
            "text/latex": [
              "$\\displaystyle \\frac{9 x^{2} + 4}{3 \\left(x \\left(3 x^{2} + 4\\right)\\right)^{\\frac{2}{3}}}$"
            ],
            "text/plain": [
              "(9*x**2 + 4)/(3*(x*(3*x**2 + 4))**(2/3))"
            ]
          },
          "metadata": {},
          "output_type": "display_data"
        }
      ],
      "source": [
        "# 44\n",
        "from fractions import Fraction\n",
        "f= u**Fraction(1,3)\n",
        "g=(3*x**3+4*x)\n",
        "ChainRuleLatex(f,g)"
      ]
    },
    {
      "cell_type": "code",
      "execution_count": null,
      "metadata": {
        "id": "LIeNLn8l_Zyu",
        "outputId": "3031d682-0d3c-4344-cd79-a764759985b9"
      },
      "outputs": [
        {
          "name": "stdout",
          "output_type": "stream",
          "text": [
            "The tangent line of f(x) =(3*x**3 + 4*x)**(1/3) at x = 2 is (y-2)=5*2**(2/3)/6(x-2)\n"
          ]
        }
      ],
      "source": [
        "h= (3*x**3+4*x)**Fraction(1,3)\n",
        "t0=2\n",
        "y0=2\n",
        "m=diff(h,x).subs({x:t0})\n",
        "print(\"The tangent line of f(x) =%s at x = %s is (y-%s)=%s(x-%s)\" %(h,t0,y0,m,t0))\n"
      ]
    },
    {
      "cell_type": "code",
      "execution_count": null,
      "metadata": {
        "id": "PH14_HpX_Zyu",
        "outputId": "2f19acb5-761f-49f0-a2ad-db17eb7be1af"
      },
      "outputs": [
        {
          "name": "stdout",
          "output_type": "stream",
          "text": [
            "The tangent line of f(x) =26 - sec(4*x)**3 at x = 0 is (y-25)=0(x-0)\n"
          ]
        }
      ],
      "source": [
        "# 46\n",
        "h= 26-(sec(4*x))**3\n",
        "t0=0\n",
        "y0=25\n",
        "m=diff(h,x).subs({x:t0})\n",
        "print(\"The tangent line of f(x) =%s at x = %s is (y-%s)=%s(x-%s)\" %(h,t0,y0,m,t0))\n"
      ]
    },
    {
      "cell_type": "code",
      "execution_count": null,
      "metadata": {
        "id": "asWYmTth_Zyu",
        "outputId": "b5bb3669-8993-4091-a194-d66e9606ae5a"
      },
      "outputs": [
        {
          "data": {
            "text/latex": [
              "$\\displaystyle 2 \\left(- 2 x^{2} \\sin{\\left(x^{2} \\right)} + \\cos{\\left(x^{2} \\right)}\\right)$"
            ],
            "text/plain": [
              "2*(-2*x**2*sin(x**2) + cos(x**2))"
            ]
          },
          "execution_count": 37,
          "metadata": {},
          "output_type": "execute_result"
        }
      ],
      "source": [
        "#54\n",
        "diff(sin(x**2),x,2)"
      ]
    },
    {
      "cell_type": "code",
      "execution_count": null,
      "metadata": {
        "id": "g7ro4ioE_Zyu",
        "outputId": "d0a34930-2df2-4835-9434-903f22721226"
      },
      "outputs": [
        {
          "data": {
            "text/latex": [
              "$\\displaystyle 4^{x} \\log{\\left(4 \\right)}$"
            ],
            "text/plain": [
              "4**x*log(4)"
            ]
          },
          "execution_count": 39,
          "metadata": {},
          "output_type": "execute_result"
        }
      ],
      "source": [
        "#56\n",
        "diff(4**x,x)"
      ]
    },
    {
      "cell_type": "code",
      "execution_count": null,
      "metadata": {
        "id": "J2Z8Gp1Q_Zyu",
        "outputId": "8e950d8b-1586-4813-c02f-d4a3f5149548"
      },
      "outputs": [
        {
          "data": {
            "text/latex": [
              "$\\displaystyle \\frac{x}{\\left(x^{2} + 1\\right) \\log{\\left(5 \\right)}}$"
            ],
            "text/plain": [
              "x/((x**2 + 1)*log(5))"
            ]
          },
          "execution_count": 42,
          "metadata": {},
          "output_type": "execute_result"
        }
      ],
      "source": [
        "# 60\n",
        "diff(log(1+x**2)/(2*log(5)),x)"
      ]
    },
    {
      "cell_type": "code",
      "execution_count": null,
      "metadata": {
        "id": "BzYbk1TT_Zyu"
      },
      "outputs": [],
      "source": []
    },
    {
      "cell_type": "code",
      "execution_count": null,
      "metadata": {
        "id": "zmaGrXBc_Zyv"
      },
      "outputs": [],
      "source": [
        "# p 129\n"
      ]
    },
    {
      "cell_type": "code",
      "execution_count": 12,
      "metadata": {
        "code_folding": [],
        "id": "jztesPA6_Zyv"
      },
      "outputs": [],
      "source": [
        "def ImplicitDiff(express):\n",
        "    l=diff(express,x);\n",
        "    print(\"y'(x) =\",solve(l,Derivative(y,x))[0])\n",
        "    print(\"\\n===\\n, i.e.\\n\")\n",
        "    pprint(solve(l,Derivative(y,x))[0])"
      ]
    },
    {
      "cell_type": "code",
      "execution_count": 13,
      "metadata": {
        "id": "NYuAq4OD_Zyv"
      },
      "outputs": [],
      "source": [
        "def ImplicitDiff_v2(f,x,y):\n",
        "    pprint(\"(%s)'=0 \" %f)\n",
        "    pprint(\"\\n⇒ (%s) + (%s) y' = 0\" %(diff(f,x),diff(f,y)))\n",
        "    pprint(\"   %s' = %s\" %(y,simplify(-diff(f,x)/diff(f,y))))\n",
        "    pprint(\"\\n where  %s ≠ 0\" %diff(f,y) )\n",
        "    return simplify(-diff(f,x)/diff(f,y))"
      ]
    },
    {
      "cell_type": "code",
      "execution_count": 14,
      "metadata": {
        "id": "iuI83TvX_Zyv"
      },
      "outputs": [],
      "source": [
        "x,y,t,u=symbols(\"x y t u\")\n",
        "\n"
      ]
    },
    {
      "cell_type": "code",
      "execution_count": 15,
      "metadata": {
        "code_folding": [],
        "id": "HTOVDsBG_Zyv",
        "outputId": "89e1ad82-048a-4957-d1e1-c756a1089ece",
        "colab": {
          "base_uri": "https://localhost:8080/"
        }
      },
      "outputs": [
        {
          "output_type": "stream",
          "name": "stdout",
          "text": [
            "(y - sin(x*y))'=0 \n",
            "                                          \n",
            "⇒ (-y*cos(x*y)) + (-x*cos(x*y) + 1) y' = 0\n",
            "   y' = -y*cos(x*y)/(x*cos(x*y) - 1)\n",
            "                           \n",
            " where  -x*cos(x*y) + 1 ≠ 0\n"
          ]
        }
      ],
      "source": [
        "#7\n",
        "\n",
        "\n",
        "sol=ImplicitDiff_v2(y-sin(x*y),x,y)"
      ]
    },
    {
      "cell_type": "code",
      "execution_count": 17,
      "metadata": {
        "code_folding": [],
        "id": "UnI-WPIe_Zyv",
        "outputId": "a8e7b8ff-c831-4d88-c2fe-591982df5d50",
        "colab": {
          "base_uri": "https://localhost:8080/",
          "height": 161
        }
      },
      "outputs": [
        {
          "output_type": "stream",
          "name": "stdout",
          "text": [
            "(x**2 + y**2 - 3*log(y) - 10)'=0 \n",
            "                            \n",
            "⇒ (2*x) + (2*y - 3/y) y' = 0\n",
            "   y' = -2*x*y/(2*y**2 - 3)\n",
            "                     \n",
            " where  2*y - 3/y ≠ 0\n"
          ]
        },
        {
          "output_type": "execute_result",
          "data": {
            "text/plain": [
              "-2*x*y/(2*y**2 - 3)"
            ],
            "text/latex": "$\\displaystyle - \\frac{2 x y}{2 y^{2} - 3}$"
          },
          "metadata": {},
          "execution_count": 17
        }
      ],
      "source": [
        "# 8\n",
        "ImplicitDiff_v2(x**2-3*log(y)+y**2-10,x,y)"
      ]
    },
    {
      "cell_type": "code",
      "execution_count": 18,
      "metadata": {
        "id": "i8TspxjW_Zyv",
        "outputId": "e99d061d-2df9-4268-f3ae-371f7a0dbaf8",
        "colab": {
          "base_uri": "https://localhost:8080/",
          "height": 160
        }
      },
      "outputs": [
        {
          "output_type": "stream",
          "name": "stdout",
          "text": [
            "(-x + 3*exp(x*y))'=0 \n",
            "                                            \n",
            "⇒ (3*y*exp(x*y) - 1) + (3*x*exp(x*y)) y' = 0\n",
            "   y' = -y/x + exp(-x*y)/(3*x)\n",
            "                        \n",
            " where  3*x*exp(x*y) ≠ 0\n"
          ]
        },
        {
          "output_type": "execute_result",
          "data": {
            "text/plain": [
              "-y/x + exp(-x*y)/(3*x)"
            ],
            "text/latex": "$\\displaystyle - \\frac{y}{x} + \\frac{e^{- x y}}{3 x}$"
          },
          "metadata": {},
          "execution_count": 18
        }
      ],
      "source": [
        "#15\n",
        "ImplicitDiff_v2(3*exp(x*y)-x,x,y)"
      ]
    },
    {
      "cell_type": "code",
      "execution_count": 19,
      "metadata": {
        "id": "p3Ki5XiW_Zyv"
      },
      "outputs": [],
      "source": [
        "def tangetline(express,x0,y0):\n",
        "    l=diff(express,x);\n",
        "    m=(solve(l,Derivative(y,x))[0]).subs({x:x0,y:y0})\n",
        "    print(\"The tangent line of %s=0 at (x,y)=(%s,%s) is \\n (y-%s)=%s(x-%s)\" %(express,x0,y0,y0,m,x0))\n"
      ]
    },
    {
      "cell_type": "code",
      "execution_count": 20,
      "metadata": {
        "id": "Gu2utffH_Zyv"
      },
      "outputs": [],
      "source": [
        "x, y = symbols('x y')\n",
        "def ImplicitPlot(express):\n",
        "    eq = Eq(express)\n",
        "    plot_implicit(eq)"
      ]
    },
    {
      "cell_type": "markdown",
      "metadata": {
        "id": "mYcHrrv2_Zyw"
      },
      "source": [
        "$$x=a e^{b xy}$$"
      ]
    },
    {
      "cell_type": "code",
      "execution_count": 21,
      "metadata": {
        "id": "dkM9tB9J_Zyw",
        "outputId": "e3439afb-0d8a-4fe4-f5b2-d84caffc5c36",
        "colab": {
          "base_uri": "https://localhost:8080/"
        }
      },
      "outputs": [
        {
          "output_type": "stream",
          "name": "stdout",
          "text": [
            "The tangent line of b*exp(a*x*y(x)) - x=0 at (x,y)=(b,0) is \n",
            " (y-0)=1/(a*b**2)(x-b)\n"
          ]
        }
      ],
      "source": [
        "fxy=b*exp(a*x*y)-x\n",
        "y=Function(\"y\")\n",
        "y=y(x)\n",
        "tangetline(b*exp(a*x*y)-x,b,0)"
      ]
    },
    {
      "cell_type": "code",
      "execution_count": null,
      "metadata": {
        "id": "LcWn0nJq_Zyw",
        "outputId": "3573ccdf-9f9f-4a3c-e6dc-40d59c2bd80f"
      },
      "outputs": [
        {
          "data": {
            "image/png": "[encoded data removed]",
            "text/plain": [
              "<Figure size 432x288 with 1 Axes>"
            ]
          },
          "metadata": {
            "needs_background": "light"
          },
          "output_type": "display_data"
        }
      ],
      "source": [
        "x, y = symbols('x y')\n",
        "\n",
        "ImplicitPlot(3*exp(x*y)-x)"
      ]
    },
    {
      "cell_type": "code",
      "execution_count": 22,
      "metadata": {
        "code_folding": [],
        "id": "OoRVV5qy_Zyw",
        "outputId": "7de9cc36-7f89-47eb-ccde-2e083332e536",
        "colab": {
          "base_uri": "https://localhost:8080/"
        }
      },
      "outputs": [
        {
          "output_type": "stream",
          "name": "stdout",
          "text": [
            "The tangent line of x**2 + x*y(x) + y(x)**2 - 4=0 at (x,y)=(2,0) is \n",
            " (y-0)=-2(x-2)\n"
          ]
        }
      ],
      "source": [
        "#27\n",
        "\n",
        "y=Function(\"y\")\n",
        "y=y(x)\n",
        "tangetline(x**2+x*y+y**2-4,2,0)"
      ]
    },
    {
      "cell_type": "code",
      "execution_count": 23,
      "metadata": {
        "id": "yOlWXZ8r_Zyw",
        "outputId": "5b7b5230-4623-40dd-b7c4-24ce7cc42931",
        "colab": {
          "base_uri": "https://localhost:8080/",
          "height": 160
        }
      },
      "outputs": [
        {
          "output_type": "stream",
          "name": "stdout",
          "text": [
            "(-b*exp(a*x*y) + x)'=0 \n",
            "                                                      \n",
            "⇒ (-a*b*y*exp(a*x*y) + 1) + (-a*b*x*exp(a*x*y)) y' = 0\n",
            "   y' = -y/x + exp(-a*x*y)/(a*b*x)\n",
            "                             \n",
            " where  -a*b*x*exp(a*x*y) ≠ 0\n"
          ]
        },
        {
          "output_type": "execute_result",
          "data": {
            "text/plain": [
              "-y/x + exp(-a*x*y)/(a*b*x)"
            ],
            "text/latex": "$\\displaystyle - \\frac{y}{x} + \\frac{e^{- a x y}}{a b x}$"
          },
          "metadata": {},
          "execution_count": 23
        }
      ],
      "source": [
        "x,y=symbols(\"x y\")\n",
        "ImplicitDiff_v2(x-b*exp(a*x*y),x,y)"
      ]
    },
    {
      "cell_type": "code",
      "execution_count": null,
      "metadata": {
        "id": "yR_jRNty_Zyx",
        "outputId": "d7191b7d-447a-4150-e7c7-e04614ccc155"
      },
      "outputs": [
        {
          "name": "stdout",
          "output_type": "stream",
          "text": [
            "(x*y - 2*x - y**2 - 1)'=0 \n",
            "                            \n",
            "⇒ (y - 2) + (x - 2*y) y' = 0\n",
            "   y' = (2 - y)/(x - 2*y)\n",
            "                   \n",
            " where  x - 2*y ≠ 0\n"
          ]
        },
        {
          "data": {
            "text/latex": [
              "$\\displaystyle \\frac{2 - y}{x - 2 y}$"
            ],
            "text/plain": [
              "(2 - y)/(x - 2*y)"
            ]
          },
          "execution_count": 66,
          "metadata": {},
          "output_type": "execute_result"
        }
      ],
      "source": [
        "# 35\n",
        "\n",
        "ImplicitDiff_v2(x*y-1-2*x-y**2,x,y)"
      ]
    },
    {
      "cell_type": "code",
      "source": [],
      "metadata": {
        "id": "9sst7_tEtspQ"
      },
      "execution_count": null,
      "outputs": []
    },
    {
      "cell_type": "code",
      "execution_count": null,
      "metadata": {
        "code_folding": [],
        "id": "dWZeeeZI_Zyx",
        "outputId": "16e2f2e8-1fde-4462-b87e-17318e80877e"
      },
      "outputs": [
        {
          "name": "stdout",
          "output_type": "stream",
          "text": [
            "The tangent line of -x + 3*exp(x*y(x))=0 at (x,y)=(c,sqrt(-c**2 + r**2)) is \n",
            " (y-sqrt(-c**2 + r**2))=-sqrt(-c**2 + r**2)/c + exp(-c*sqrt(-c**2 + r**2))/(3*c)(x-c)\n"
          ]
        }
      ],
      "source": [
        "#36\n",
        "r,c=symbols(\"r c\")\n",
        "fxy=x**2+y**2-r**2\n",
        "y=Function(\"y\")\n",
        "y=y(x)\n",
        "x0=c\n",
        "y0=sqrt(r**2-c**2)\n",
        "tangetline(3*exp(x*y)-x,x0,y0)"
      ]
    },
    {
      "cell_type": "markdown",
      "metadata": {
        "id": "IPQghZ3x_Zyx"
      },
      "source": [
        "Since the mulipcation of slopes of normal line and tangent passing same point is -1,"
      ]
    },
    {
      "cell_type": "code",
      "execution_count": null,
      "metadata": {
        "code_folding": [
          0
        ],
        "id": "bMXs7Oxj_Zyx"
      },
      "outputs": [],
      "source": [
        "def normaline(express,x0,y0):\n",
        "    l=diff(express,x);\n",
        "    m=(solve(l,Derivative(y,x))[0]).subs({x:x0,y:y0})\n",
        "    eq=-simplify(y-y0+(x-x0)/m)\n",
        "    print(\"The normal line of %s=0 at (x,y)=(%s,%s) is \\n %s=0\" %(express,x0,y0,eq))\n",
        "    print(\"---\\n i.e.\\n 0=\")\n",
        "\n",
        "    pprint(eq)"
      ]
    },
    {
      "cell_type": "code",
      "execution_count": null,
      "metadata": {
        "id": "niEMR-6K_Zyx",
        "outputId": "5c190b01-74c5-4a27-f314-4306ce7616d1"
      },
      "outputs": [
        {
          "name": "stdout",
          "output_type": "stream",
          "text": [
            "The normal line of -r**2 + x**2 + y(x)**2=0 at (x,y)=(c,sqrt(-c**2 + r**2)) is \n",
            " -y(x) + x*sqrt(-c**2 + r**2)/c=0\n",
            "---\n",
            " i.e.\n",
            " 0=\n",
            "             ___________\n",
            "            ╱    2    2 \n",
            "        x⋅╲╱  - c  + r  \n",
            "-y(x) + ────────────────\n",
            "               c        \n"
          ]
        }
      ],
      "source": [
        "normaline(fxy,x0,y0)"
      ]
    },
    {
      "cell_type": "code",
      "execution_count": null,
      "metadata": {
        "id": "ltlbbcOk_Zyx",
        "outputId": "e552104b-2eb2-46d8-d308-5bf0d0e79aa1"
      },
      "outputs": [
        {
          "data": {
            "text/latex": [
              "$\\displaystyle - \\frac{x \\left(x - 1\\right)^{\\frac{3}{2}}}{2 \\left(x + 1\\right)^{\\frac{3}{2}}} + \\frac{3 x \\sqrt{x - 1}}{2 \\sqrt{x + 1}} + \\frac{\\left(x - 1\\right)^{\\frac{3}{2}}}{\\sqrt{x + 1}}$"
            ],
            "text/plain": [
              "-x*(x - 1)**(3/2)/(2*(x + 1)**(3/2)) + 3*x*sqrt(x - 1)/(2*sqrt(x + 1)) + (x - 1)**(3/2)/sqrt(x + 1)"
            ]
          },
          "execution_count": 72,
          "metadata": {},
          "output_type": "execute_result"
        }
      ],
      "source": [
        "##41\n",
        "diff(x*(x-1)**Fraction(3,2)/sqrt(x+1),x)"
      ]
    },
    {
      "cell_type": "code",
      "execution_count": null,
      "metadata": {
        "id": "FgOf79iD_Zyx",
        "outputId": "9c9a2345-a0e1-47ee-a8cf-6a07393fbae8"
      },
      "outputs": [
        {
          "data": {
            "text/latex": [
              "$\\displaystyle \\left(x - 2\\right)^{x + 1} \\left(\\log{\\left(x - 2 \\right)} + \\frac{x + 1}{x - 2}\\right)$"
            ],
            "text/plain": [
              "(x - 2)**(x + 1)*(log(x - 2) + (x + 1)/(x - 2))"
            ]
          },
          "execution_count": 73,
          "metadata": {},
          "output_type": "execute_result"
        }
      ],
      "source": [
        "#44\n",
        "diff((x-2)**(x+1),x)"
      ]
    },
    {
      "cell_type": "code",
      "execution_count": null,
      "metadata": {
        "id": "SH21aJ8T_Zyy",
        "outputId": "38e71262-6649-4faf-adcc-fe300151db2a"
      },
      "outputs": [
        {
          "name": "stdout",
          "output_type": "stream",
          "text": [
            "The tangent line of -sqrt(c) + sqrt(x) + sqrt(y(x))=0 at (x,y)=(k,(sqrt(c) - sqrt(k))**2) is \n",
            " (y-(sqrt(c) - sqrt(k))**2)=-sqrt((sqrt(c) - sqrt(k))**2)/sqrt(k)(x-k)\n"
          ]
        }
      ],
      "source": [
        "#50\n",
        "r,c,k=symbols(\"r c k\")\n",
        "\n",
        "fxy=sqrt(x)+sqrt(y)-sqrt(c)\n",
        "y=Function(\"y\")\n",
        "y=y(x)\n",
        "x0=k\n",
        "y0=(sqrt(c)-sqrt(x0))**2\n",
        "\n",
        "tangetline(sqrt(x)+sqrt(y)-sqrt(c),x0,y0)"
      ]
    },
    {
      "cell_type": "markdown",
      "metadata": {
        "id": "xg5E0iHW_Zyy"
      },
      "source": [
        "From above, the sum of $x$-intercept and $y$-intercept is:\n",
        "    $$\\left[k+ (\\sqrt c - \\sqrt k)\\sqrt k\\right]+\\left[(\\sqrt c - \\sqrt k)^2+\\sqrt k(\\sqrt c - \\sqrt k)\\right]=c$$"
      ]
    },
    {
      "cell_type": "markdown",
      "metadata": {
        "id": "UcoYujfX_Zyy"
      },
      "source": [
        "2-6 Derivatives of Inverse Functions\n",
        "---\n",
        "$$\\frac{d x}{d y}=\\frac{1}{dy/dx}$$"
      ]
    },
    {
      "cell_type": "code",
      "execution_count": null,
      "metadata": {
        "id": "kvNUwU9c_Zyy",
        "outputId": "9bc03b8c-74db-4692-e2fd-808af49aabf9"
      },
      "outputs": [
        {
          "data": {
            "text/latex": [
              "$\\displaystyle - \\frac{t}{\\sqrt{1 - t^{2}}}$"
            ],
            "text/plain": [
              "-t/sqrt(1 - t**2)"
            ]
          },
          "execution_count": 83,
          "metadata": {},
          "output_type": "execute_result"
        }
      ],
      "source": [
        "#14\n",
        "x,y,t=symbols(\"x y t\")\n",
        "diff(sin(acos(t)),t)"
      ]
    },
    {
      "cell_type": "code",
      "execution_count": null,
      "metadata": {
        "id": "xRI384wF_Zyy",
        "outputId": "4e21529c-1742-40ad-dc24-ae1af73d4206"
      },
      "outputs": [
        {
          "name": "stdout",
          "output_type": "stream",
          "text": [
            "(x**2 + x*atan(y) - y + 1)'=0 \n",
            "                                             \n",
            "⇒ (2*x + atan(y)) + (x/(y**2 + 1) - 1) y' = 0\n",
            "   y' = (2*x + atan(y))*(y**2 + 1)/(-x + y**2 + 1)\n",
            "                            \n",
            " where  x/(y**2 + 1) - 1 ≠ 0\n"
          ]
        }
      ],
      "source": [
        "#41\n",
        "expr=x*x+x*atan(y)-y+1\n",
        "sol=ImplicitDiff_v2(expr,x,y)"
      ]
    },
    {
      "cell_type": "code",
      "execution_count": null,
      "metadata": {
        "id": "lnFE_8yK_Zyy",
        "outputId": "ce1d0701-db86-47d0-c54a-31204a8c6273"
      },
      "outputs": [
        {
          "data": {
            "text/latex": [
              "$\\displaystyle \\frac{\\left(2 x + \\operatorname{atan}{\\left(y \\right)}\\right) \\left(y^{2} + 1\\right)}{- x + y^{2} + 1}$"
            ],
            "text/plain": [
              "(2*x + atan(y))*(y**2 + 1)/(-x + y**2 + 1)"
            ]
          },
          "execution_count": 85,
          "metadata": {},
          "output_type": "execute_result"
        }
      ],
      "source": [
        "sol"
      ]
    },
    {
      "cell_type": "code",
      "execution_count": null,
      "metadata": {
        "id": "lA3t7c-Q_Zyy",
        "outputId": "a2ac31cb-731a-4a79-8f2d-0c52cf402e65"
      },
      "outputs": [
        {
          "name": "stdout",
          "output_type": "stream",
          "text": [
            "The tangent line of x**2 + x*atan(y(x)) - y(x) + 1=0 at (x,y)=(-pi/4,1) is \n",
            " (y-1)=-pi/(2*(pi/4 + 2))(x--pi/4)\n"
          ]
        }
      ],
      "source": [
        "y=Function(\"y\")\n",
        "y=y(x)\n",
        "expr=x*x+x*atan(y)-y+1\n",
        "\n",
        "tangetline(expr,-pi/4,1)"
      ]
    },
    {
      "cell_type": "code",
      "execution_count": null,
      "metadata": {
        "id": "IIdUhtRd_Zyz"
      },
      "outputs": [],
      "source": []
    }
  ],
  "metadata": {
    "hide_input": false,
    "kernelspec": {
      "display_name": "Python 3",
      "language": "python",
      "name": "python3"
    },
    "language_info": {
      "codemirror_mode": {
        "name": "ipython",
        "version": 3
      },
      "file_extension": ".py",
      "mimetype": "text/x-python",
      "name": "python",
      "nbconvert_exporter": "python",
      "pygments_lexer": "ipython3",
      "version": "3.8.5"
    },
    "colab": {
      "provenance": []
    }
  },
  "nbformat": 4,
  "nbformat_minor": 0
}