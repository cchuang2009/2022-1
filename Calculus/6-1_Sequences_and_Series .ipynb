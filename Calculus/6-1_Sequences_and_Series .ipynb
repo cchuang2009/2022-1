{
 "cells": [
  {
   "cell_type": "code",
   "execution_count": 8,
   "metadata": {},
   "outputs": [],
   "source": [
    "from termcolor import colored\n",
    "from sympy import limit,symbols,solve,diff,pprint,oo,latex,factorial,simplify,integrate,log,Integral,Limit\n",
    "from IPython.display import Latex\n",
    "from google.colab.output._publish import javascript"
   ]
  },
  {
   "cell_type": "code",
   "execution_count": 11,
   "metadata": {},
   "outputs": [],
   "source": [
    "n=symbols(\"n\",integer=True)"
   ]
  },
  {
   "cell_type": "code",
   "execution_count": 12,
   "metadata": {},
   "outputs": [],
   "source": [
    "x=symbols(\"x\")\n",
    "    "
   ]
  },
  {
   "cell_type": "code",
   "execution_count": 9,
   "metadata": {},
   "outputs": [],
   "source": [
    "def Sequence(a,n):\n",
    "    L=limit(a,n,oo)\n",
    "    \n",
    "    str1= \"the limit of \"\n",
    "    str2=\"$\\large{\\{  %s \\}_{n=0}^\\infty}$\" %latex(a)\n",
    "    str3= \"is $ %s$\" %L\n",
    "    str4=\" , since $$\\lim_{n\\\\to\\infty}%s=%s $$\" %(latex(a),L)\n",
    "    str=str1+str2+str3+str4\n",
    "    url_ =\"https://colab.research.google.com/static/mathjax/MathJax.js?\"\n",
    "    cfg_ =\"config=TeX-MML-AM_HTMLorMML\" #\"config=default\"\n",
    "\n",
    "    javascript(url=url_+cfg_)\n",
    "    return Latex(str)"
   ]
  },
  {
   "cell_type": "code",
   "execution_count": 13,
   "metadata": {},
   "outputs": [
    {
     "data": {
      "text/html": [
       "<script src='https://colab.research.google.com/static/mathjax/MathJax.js?config=TeX-MML-AM_HTMLorMML'></script>"
      ],
      "text/plain": [
       "<IPython.core.display.HTML object>"
      ]
     },
     "metadata": {},
     "output_type": "display_data"
    },
    {
     "data": {
      "text/latex": [
       "the limit of $\\large{\\{  \\frac{1}{n^{2}} \\}_{n=0}^\\infty}$is $ 0$ , since $$\\lim_{n\\to\\infty}\\frac{1}{n^{2}}=0 $$"
      ],
      "text/plain": [
       "<IPython.core.display.Latex object>"
      ]
     },
     "execution_count": 13,
     "metadata": {},
     "output_type": "execute_result"
    }
   ],
   "source": [
    "Sequence(1/n**2,n)"
   ]
  },
  {
   "cell_type": "code",
   "execution_count": 50,
   "metadata": {},
   "outputs": [
    {
     "data": {
      "text/latex": [
       "the limit of $\\large{\\{  \\frac{1}{n!} \\}_{n=0}^\\infty}$is $ 0$ , since $$\\lim_{n\\to\\infty}\\frac{1}{n!}=0 $$"
      ],
      "text/plain": [
       "<IPython.core.display.Latex object>"
      ]
     },
     "execution_count": 50,
     "metadata": {},
     "output_type": "execute_result"
    }
   ],
   "source": [
    "Sequence(1/factorial(n),n)"
   ]
  },
  {
   "cell_type": "code",
   "execution_count": 54,
   "metadata": {},
   "outputs": [],
   "source": [
    "def a(f):\n",
    "    return f(n)"
   ]
  },
  {
   "cell_type": "code",
   "execution_count": 7,
   "metadata": {},
   "outputs": [
    {
     "name": "stdout",
     "output_type": "stream",
     "text": [
      "Collecting portpicker\n",
      "  Downloading portpicker-1.5.0-py3-none-any.whl (14 kB)\n",
      "Installing collected packages: portpicker\n",
      "Successfully installed portpicker-1.5.0\n"
     ]
    }
   ],
   "source": [
    "!pip install portpicker --no-deps\n",
    "#!pip install -U ipython -no-dependent"
   ]
  },
  {
   "cell_type": "code",
   "execution_count": 15,
   "metadata": {
    "code_folding": [
     0
    ]
   },
   "outputs": [],
   "source": [
    "def series_ratio_test(f):\n",
    "    L1=limit(abs(f(n+1)/f(n)),n, oo)\n",
    "    L2=simplify(f(n+1)/f(n))\n",
    "    if L1<1:\n",
    "        str0=\"By Ratio test:\"\n",
    "        str00=\"$$--- $$\"\n",
    "        str1=\"The series, $\\sum\\limits_{n} %s $, is convergent since: \" %latex(f(n))\n",
    "        str2=\"$$\\lim\\limits_{n\\\\to\\infty}\\\\frac{%s}{%s}=\\lim_{n\\\\to\\infty}%s=%s $$\" %(latex(f(n+1)),latex(f(n)),latex(L2),latex(L1))\n",
    "        return Latex(str0+str00+str1+str2)\n",
    "    elif L1>1:\n",
    "        str0=\"By Ratio test:\"\n",
    "        str00=\"$$--- $$\"\n",
    "        str1=\"The series, $\\sum_{n} %s $, is divergent since: \" %latex(f(n))\n",
    "        str2=\"$$\\lim_{n\\\\to\\infty}\\\\frac{%s}{%s}=\\lim_{n\\\\to\\infty}%s=%s $$\" %(latex(f(n+1)),latex(f(n)),latex(L2),latex(L1))\n",
    "        return Latex(str0+str00+str1+str2)\n",
    "    else:\n",
    "        str0=\"By Ratio test:\"\n",
    "        str00=\"$$--- $$\"\n",
    "        str1=\"No conclusion about the convergence of the series, $\\sum\\limits_{n} %s $: \" %latex(f(n))\n",
    "        str2=\"$$\\lim_{n\\\\to\\infty}\\\\frac{%s}{%s}=\\lim_{n\\\\to\\infty}%s=%s $$\" %(latex(f(n+1)),latex(f(n)),latex(L2),latex(L1))\n",
    "        return(Latex(str0+str00+str1+str2))"
   ]
  },
  {
   "cell_type": "code",
   "execution_count": 16,
   "metadata": {
    "code_folding": []
   },
   "outputs": [],
   "source": [
    "def series_limit_comparison(f,g):\n",
    "    L1=limit(abs(f(n)/g(n)),n, oo)\n",
    "    L2=simplify(f(n+1)/f(n))\n",
    "    str0=\"By Limit Comparison Test:\"\n",
    "    str00=\"$$--- $$\"\n",
    "    \n",
    "    if L1<oo:\n",
    "        str1=\"Both the series, $\\sum\\limits_{n} %s $ and $\\sum\\limits_{n} %s $, are convergent or divergent since: \" %(latex(f(n)),latex(g(n)))\n",
    "        str2=\"$$0< \\lim\\limits_{n\\\\to\\infty}\\\\frac{%s}{%s}=%s <\\infty$$\" %(latex(f(n)),latex(g(n)),latex(L1))\n",
    "        return Latex(str0+str00+str1+str2)\n",
    "    else:\n",
    "        str1=\"No conclusion about the convergence of the series, $\\sum\\limits_{n} %s $ and $\\sum\\limits_{n} %s $: \" %(latex(f(n)),latex(g(n)))\n",
    "        str2=\"$$ \\lim\\limits_{n\\\\to\\infty}\\\\frac{%s}{%s}=%s $$\" %(latex(f(n)),latex(g(n)),latex(L1))\n",
    "        return(Latex(str0+str00+str1+str2))"
   ]
  },
  {
   "cell_type": "code",
   "execution_count": 17,
   "metadata": {
    "code_folding": []
   },
   "outputs": [],
   "source": [
    "def series_integral_test(f,l=1):\n",
    "    L1=integrate(f(x),(x,1, oo))\n",
    "    L2=simplify(f(n+1)/f(n))\n",
    "    str0=\"By Integral Test:\"\n",
    "    str00=\"$$--- $$\"\n",
    "    \n",
    "    if L1<oo:\n",
    "        str1=\"The series, $\\sum\\limits_{n} %s$,  is convergent  since: \" %(latex(f(n)))\n",
    "        str2=\"$$\\int_%s^\\infty %s dx=%s <\\infty$$\" %(l,llatex(f(x)),latex(L1))\n",
    "        return Latex(str0+str00+str1+str2)\n",
    "    else:\n",
    "        str1=\"The series, $\\sum\\limits_{n} %s$,  is divergent  since: \" %(latex(f(n)))\n",
    "        str2=\"$$\\int_%s^\\infty %s dx=%s $$\" %(l,latex(f(x)),latex(L1))\n",
    "        return(Latex(str0+str00+str1+str2))"
   ]
  },
  {
   "cell_type": "code",
   "execution_count": 18,
   "metadata": {},
   "outputs": [
    {
     "data": {
      "text/latex": [
       "By Ratio test:$$--- $$The series, $\\sum_{n} \\frac{n!}{n^{2}} $, is divergent since: $$\\lim_{n\\to\\infty}\\frac{\\frac{\\left(n + 1\\right)!}{\\left(n + 1\\right)^{2}}}{\\frac{n!}{n^{2}}}=\\lim_{n\\to\\infty}\\frac{n^{2}}{n + 1}=\\infty $$"
      ],
      "text/plain": [
       "<IPython.core.display.Latex object>"
      ]
     },
     "execution_count": 18,
     "metadata": {},
     "output_type": "execute_result"
    }
   ],
   "source": [
    "def a(n):\n",
    "    return factorial(n)/n**2\n",
    "series_ratio_test(a)"
   ]
  },
  {
   "cell_type": "code",
   "execution_count": 19,
   "metadata": {},
   "outputs": [
    {
     "data": {
      "text/latex": [
       "By Ratio test:$$--- $$The series, $\\sum\\limits_{n} \\frac{n}{n!} $, is convergent since: $$\\lim\\limits_{n\\to\\infty}\\frac{\\frac{n + 1}{\\left(n + 1\\right)!}}{\\frac{n}{n!}}=\\lim_{n\\to\\infty}\\frac{1}{n}=0 $$"
      ],
      "text/plain": [
       "<IPython.core.display.Latex object>"
      ]
     },
     "execution_count": 19,
     "metadata": {},
     "output_type": "execute_result"
    }
   ],
   "source": [
    "def a(n):\n",
    "    return n/factorial(n)\n",
    "series_ratio_test(a)"
   ]
  },
  {
   "cell_type": "code",
   "execution_count": 20,
   "metadata": {},
   "outputs": [
    {
     "data": {
      "text/latex": [
       "By Ratio test:$$--- $$No conclusion about the convergence of the series, $\\sum\\limits_{n} \\frac{1}{n} $: $$\\lim_{n\\to\\infty}\\frac{\\frac{1}{n + 1}}{\\frac{1}{n}}=\\lim_{n\\to\\infty}\\frac{n}{n + 1}=1 $$"
      ],
      "text/plain": [
       "<IPython.core.display.Latex object>"
      ]
     },
     "execution_count": 20,
     "metadata": {},
     "output_type": "execute_result"
    }
   ],
   "source": [
    "def a(n):\n",
    "    return 1/n\n",
    "series_ratio_test(a)"
   ]
  },
  {
   "cell_type": "code",
   "execution_count": 21,
   "metadata": {},
   "outputs": [
    {
     "data": {
      "text/latex": [
       "By Limit Comparison Test:$$--- $$No conclusion about the convergence of the series, $\\sum\\limits_{n} \\frac{1}{n} $ and $\\sum\\limits_{n} \\frac{1}{\\left(n + 1\\right)^{2}} $: $$ \\lim\\limits_{n\\to\\infty}\\frac{\\frac{1}{n}}{\\frac{1}{\\left(n + 1\\right)^{2}}}=\\infty $$"
      ],
      "text/plain": [
       "<IPython.core.display.Latex object>"
      ]
     },
     "execution_count": 21,
     "metadata": {},
     "output_type": "execute_result"
    }
   ],
   "source": [
    "def a(n):\n",
    "    return 1/n\n",
    "def b(n):\n",
    "    return 1/(n+1)**2\n",
    "\n",
    "series_limit_comparison(a,b)"
   ]
  },
  {
   "cell_type": "code",
   "execution_count": 22,
   "metadata": {},
   "outputs": [
    {
     "data": {
      "text/latex": [
       "By Integral Test:$$--- $$The series, $\\sum\\limits_{n} \\frac{\\log{\\left(n \\right)}}{n}$,  is divergent  since: $$\\int_2^\\infty \\frac{\\log{\\left(x \\right)}}{x} dx=\\infty $$"
      ],
      "text/plain": [
       "<IPython.core.display.Latex object>"
      ]
     },
     "execution_count": 22,
     "metadata": {},
     "output_type": "execute_result"
    }
   ],
   "source": [
    "def a(n):\n",
    "    return log(n)/n\n",
    "series_integral_test(a,l=2)"
   ]
  },
  {
   "cell_type": "code",
   "execution_count": null,
   "metadata": {},
   "outputs": [],
   "source": []
  },
  {
   "cell_type": "code",
   "execution_count": null,
   "metadata": {},
   "outputs": [],
   "source": []
  }
 ],
 "metadata": {
  "kernelspec": {
   "display_name": "Python 3",
   "language": "python",
   "name": "python3"
  },
  "language_info": {
   "codemirror_mode": {
    "name": "ipython",
    "version": 3
   },
   "file_extension": ".py",
   "mimetype": "text/x-python",
   "name": "python",
   "nbconvert_exporter": "python",
   "pygments_lexer": "ipython3",
   "version": "3.8.5"
  }
 },
 "nbformat": 4,
 "nbformat_minor": 4
}
