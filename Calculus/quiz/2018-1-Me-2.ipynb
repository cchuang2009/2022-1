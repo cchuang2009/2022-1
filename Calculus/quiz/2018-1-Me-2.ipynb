{
 "cells": [
  {
   "cell_type": "markdown",
   "metadata": {},
   "source": [
    "# <div align=\"center\">Calculus, 2018-1-ME-2</div>\n",
    "\n",
    "<h3><div align=\"left\">Name:&nbsp;&nbsp;&nbsp;&nbsp;&nbsp;&nbsp;&nbsp;&nbsp;&nbsp;&nbsp;&nbsp;&nbsp;&nbsp;&nbsp;&nbsp;&nbsp;&nbsp;&nbsp;&nbsp;&nbsp; Sequence Number:&nbsp;&nbsp;&nbsp;&nbsp;&nbsp;&nbsp;&nbsp;&nbsp;&nbsp;&nbsp;&nbsp;&nbsp;&nbsp;&nbsp;&nbsp;&nbsp;&nbsp;&nbsp;&nbsp;&nbsp;&nbsp;&nbsp;&nbsp;&nbsp;</div></h3>\n"
   ]
  },
  {
   "cell_type": "markdown",
   "metadata": {},
   "source": [
    "<big><big>\n",
    "<big><b>1$^\\circ$).</b></big>\n",
    "Evaluate the following Integrations: (total 100%, each 10% ($\\color{brown}{\\times10}$))<br />\n",
    "a$^\\circ$). $\\mathbf{\\int^{\\pi/2}_0 \\sin^2 x dx}$                 <br>\n",
    "b$^\\circ$). $\\mathbf{\\int \\sin x\\cos^3 x}dx$<br>\n",
    "c$^\\circ$). $\\mathbf{\\int  xe^xdx}$ <br />\n",
    "d$^\\circ$). $\\mathbf{\\int\\sqrt{2-x^2}dx}$ <br>\n",
    "e$^\\circ$). $\\mathbf{\\int e^{2x}\\sin x dx}$ <br>\n",
    "f$^\\circ$). $\\mathbf{\\int_0^{\\pi/4} \\sec^3 x dx }$<br />\n",
    "g$^\\circ$). $\\mathbf{\\int \\frac{1}{2+2x+x^2}dx}$ <br>\n",
    "h$^\\circ$). $\\mathbf{\\int\\frac{e^x dx}{1+e^{2x}}}$ <br>\n",
    "i$^\\circ$). $\\mathbf{\\int_0^{\\pi/4}\\cos3x\\sin2x dx}$<br>\n",
    "j$^\\circ$). $\\mathbf{\\int_{-2}^1x |x| dx}$         \n",
    "</big> </big>"
   ]
  },
  {
   "cell_type": "markdown",
   "metadata": {
    "collapsed": true
   },
   "source": [
    "<big><big>\n",
    "<big><b>2$^\\circ$).</b></big> (total 10%) Evaluate the derivative\n",
    "$$\\mathbf{\\frac{d}{dx}\\int^{x^2}_{-3x}\\frac{ e^t}{\\sin t+e^{-t}}dt}$$\n",
    "</big> </big>"
   ]
  },
  {
   "cell_type": "markdown",
   "metadata": {
    "collapsed": true
   },
   "source": [
    " "
   ]
  },
  {
   "cell_type": "markdown",
   "metadata": {
    "collapsed": true
   },
   "source": [
    " "
   ]
  },
  {
   "cell_type": "markdown",
   "metadata": {
    "collapsed": true
   },
   "source": [
    " "
   ]
  },
  {
   "cell_type": "markdown",
   "metadata": {
    "collapsed": true
   },
   "source": [
    " "
   ]
  },
  {
   "cell_type": "markdown",
   "metadata": {
    "collapsed": true
   },
   "source": [
    " "
   ]
  },
  {
   "cell_type": "markdown",
   "metadata": {
    "collapsed": true
   },
   "source": [
    " "
   ]
  },
  {
   "cell_type": "markdown",
   "metadata": {
    "collapsed": true
   },
   "source": [
    " "
   ]
  },
  {
   "cell_type": "markdown",
   "metadata": {
    "collapsed": true
   },
   "source": [
    " "
   ]
  },
  {
   "cell_type": "markdown",
   "metadata": {
    "collapsed": true
   },
   "source": [
    " "
   ]
  },
  {
   "cell_type": "markdown",
   "metadata": {
    "collapsed": true
   },
   "source": [
    " "
   ]
  },
  {
   "cell_type": "markdown",
   "metadata": {
    "collapsed": true
   },
   "source": [
    " "
   ]
  },
  {
   "cell_type": "markdown",
   "metadata": {
    "collapsed": true
   },
   "source": [
    " "
   ]
  },
  {
   "cell_type": "markdown",
   "metadata": {
    "collapsed": true
   },
   "source": [
    " "
   ]
  },
  {
   "cell_type": "markdown",
   "metadata": {
    "collapsed": true
   },
   "source": [
    " "
   ]
  },
  {
   "cell_type": "markdown",
   "metadata": {
    "collapsed": true
   },
   "source": [
    " "
   ]
  },
  {
   "cell_type": "markdown",
   "metadata": {
    "collapsed": true
   },
   "source": [
    " "
   ]
  },
  {
   "cell_type": "markdown",
   "metadata": {
    "collapsed": true
   },
   "source": [
    " "
   ]
  },
  {
   "cell_type": "markdown",
   "metadata": {
    "collapsed": true
   },
   "source": [
    " "
   ]
  },
  {
   "cell_type": "markdown",
   "metadata": {
    "collapsed": true
   },
   "source": [
    " "
   ]
  },
  {
   "cell_type": "markdown",
   "metadata": {
    "collapsed": true
   },
   "source": [
    " "
   ]
  },
  {
   "cell_type": "markdown",
   "metadata": {
    "collapsed": true
   },
   "source": [
    " "
   ]
  },
  {
   "cell_type": "markdown",
   "metadata": {
    "collapsed": true
   },
   "source": [
    " "
   ]
  },
  {
   "cell_type": "markdown",
   "metadata": {
    "collapsed": true
   },
   "source": [
    "Answer\n",
    "---"
   ]
  },
  {
   "cell_type": "code",
   "execution_count": 2,
   "metadata": {},
   "outputs": [],
   "source": [
    "from sympy import *"
   ]
  },
  {
   "cell_type": "code",
   "execution_count": 3,
   "metadata": {},
   "outputs": [],
   "source": [
    "x,t,C =symbols(\"x t C\")"
   ]
  },
  {
   "cell_type": "code",
   "execution_count": 4,
   "metadata": {},
   "outputs": [],
   "source": [
    "def Int(f,*args):\n",
    "    if(len(args)!=0):\n",
    "       a=args[0]\n",
    "       b=args[1]\n",
    "       print(\"                          \",b)\n",
    "       print(\"The definite integral of  ʃ %s dx is \" %f)\n",
    "       print(\"                          \",a)\n",
    "       pprint(integrate(f,(x,a,b)))\n",
    "    else:\n",
    "       print(\"The indefinite integral of  ʃ %s dx is \" %f) \n",
    "       pprint(integrate(f,x)+C)"
   ]
  },
  {
   "cell_type": "code",
   "execution_count": 5,
   "metadata": {},
   "outputs": [
    {
     "name": "stdout",
     "output_type": "stream",
     "text": [
      "                           pi/2\n",
      "The definite integral of  ʃ sin(x)**2 dx is \n",
      "                           0\n",
      "π\n",
      "─\n",
      "4\n"
     ]
    }
   ],
   "source": [
    "#1.a)\n",
    "Int(sin(x)**2,0, pi/2)"
   ]
  },
  {
   "cell_type": "code",
   "execution_count": 7,
   "metadata": {},
   "outputs": [
    {
     "name": "stdout",
     "output_type": "stream",
     "text": [
      "The indefinite integral of  ʃ sin(x)*cos(x)**3 dx is \n",
      "       4   \n",
      "    cos (x)\n",
      "C - ───────\n",
      "       4   \n"
     ]
    }
   ],
   "source": [
    "#1.b)\n",
    "Int((cos(x))**3*sin(x))"
   ]
  },
  {
   "cell_type": "code",
   "execution_count": 9,
   "metadata": {},
   "outputs": [
    {
     "name": "stdout",
     "output_type": "stream",
     "text": [
      "The indefinite integral of  ʃ x*exp(x) dx is \n",
      "             x\n",
      "C + (x - 1)⋅ℯ \n"
     ]
    }
   ],
   "source": [
    "# 1. c)\n",
    "Int((x*exp(x)))"
   ]
  },
  {
   "cell_type": "code",
   "execution_count": 10,
   "metadata": {},
   "outputs": [
    {
     "name": "stdout",
     "output_type": "stream",
     "text": [
      "The indefinite integral of  ʃ sqrt(-x**2 + 2) dx is \n",
      "         __________             \n",
      "        ╱    2                  \n",
      "    x⋅╲╱  - x  + 2        ⎛√2⋅x⎞\n",
      "C + ─────────────── + asin⎜────⎟\n",
      "           2              ⎝ 2  ⎠\n"
     ]
    }
   ],
   "source": [
    "#1.d)\n",
    "Int(sqrt(2-x**2))"
   ]
  },
  {
   "cell_type": "markdown",
   "metadata": {},
   "source": [
    "\\begin{eqnarray}\n",
    "\\int x\\cos 2xdx&=&\\frac{x\\sin 2x}{2}-\\frac{\\int\\sin2xdx}{2} \\\\\n",
    "               &=&\\frac{x\\sin 2x}{2}+\\frac{\\cos2x}{4}+C\n",
    "\\end{eqnarray}"
   ]
  },
  {
   "cell_type": "code",
   "execution_count": 12,
   "metadata": {},
   "outputs": [
    {
     "name": "stdout",
     "output_type": "stream",
     "text": [
      "The indefinite integral of  ʃ exp(2*x)*sin(x) dx is \n",
      "       2⋅x           2⋅x       \n",
      "    2⋅ℯ   ⋅sin(x)   ℯ   ⋅cos(x)\n",
      "C + ───────────── - ───────────\n",
      "          5              5     \n"
     ]
    }
   ],
   "source": [
    "#1. e)\n",
    "Int(exp(2*x)*sin(x))"
   ]
  },
  {
   "cell_type": "code",
   "execution_count": 13,
   "metadata": {},
   "outputs": [
    {
     "name": "stdout",
     "output_type": "stream",
     "text": [
      "                           pi/4\n",
      "The definite integral of  ʃ sec(x)**3 dx is \n",
      "                           0\n",
      "   ⎛√2    ⎞      ⎛  √2    ⎞     \n",
      "log⎜── + 1⎟   log⎜- ── + 1⎟     \n",
      "   ⎝2     ⎠      ⎝  2     ⎠   √2\n",
      "─────────── - ───────────── + ──\n",
      "     4              4         2 \n"
     ]
    }
   ],
   "source": [
    "#1. f)\n",
    "Int(sec(x)**3,0,pi/4)"
   ]
  },
  {
   "cell_type": "code",
   "execution_count": 14,
   "metadata": {},
   "outputs": [
    {
     "name": "stdout",
     "output_type": "stream",
     "text": [
      "The indefinite integral of  ʃ 1/(2*x**3 + 2) dx is \n",
      "                                          ⎛2⋅√3⋅x   √3⎞\n",
      "                    ⎛ 2        ⎞   √3⋅atan⎜────── - ──⎟\n",
      "    log(x + 1)   log⎝x  - x + 1⎠          ⎝  3      3 ⎠\n",
      "C + ────────── - ─────────────── + ────────────────────\n",
      "        6               12                  6          \n"
     ]
    }
   ],
   "source": [
    "#1. g)\n",
    "Int(1/(2+2*x*x**2))"
   ]
  },
  {
   "cell_type": "code",
   "execution_count": 15,
   "metadata": {},
   "outputs": [
    {
     "data": {
      "text/plain": [
       "RootSum(4*_z**2 + 1, Lambda(_i, _i*log(2*_i + exp(x))))"
      ]
     },
     "execution_count": 15,
     "metadata": {},
     "output_type": "execute_result"
    }
   ],
   "source": [
    "integrate(exp(x)/(1+exp(2*x)),x)"
   ]
  },
  {
   "cell_type": "code",
   "execution_count": 7,
   "metadata": {},
   "outputs": [
    {
     "data": {
      "text/plain": [
       "0.541680792225937"
      ]
     },
     "execution_count": 7,
     "metadata": {},
     "output_type": "execute_result"
    }
   ],
   "source": [
    "-2*sqrt(1/2.)-1/2-2*log(abs(sqrt(1/2)-1))"
   ]
  },
  {
   "cell_type": "code",
   "execution_count": 16,
   "metadata": {},
   "outputs": [
    {
     "name": "stdout",
     "output_type": "stream",
     "text": [
      "                           0.5\n",
      "The definite integral of  ʃ sqrt(x)/(-sqrt(x) + 1) dx is \n",
      "                           0\n",
      "0.541680792225937\n"
     ]
    }
   ],
   "source": [
    "#1. h)\n",
    "Int(sqrt(x)/(1-sqrt(x)),0,1/2)"
   ]
  },
  {
   "cell_type": "code",
   "execution_count": 16,
   "metadata": {},
   "outputs": [
    {
     "name": "stdout",
     "output_type": "stream",
     "text": [
      "                           pi/4\n",
      "The definite integral of  ʃ sin(2*x)*cos(3*x) dx is \n",
      "                           0\n",
      "  2   3⋅√2\n",
      "- ─ + ────\n",
      "  5    10 \n"
     ]
    }
   ],
   "source": [
    "#1. i)\n",
    "Int(cos(3*x)*sin(2*x),0,pi/4)"
   ]
  },
  {
   "cell_type": "code",
   "execution_count": 17,
   "metadata": {},
   "outputs": [
    {
     "name": "stdout",
     "output_type": "stream",
     "text": [
      "                           1\n",
      "The definite integral of  ʃ x*Abs(x) dx is \n",
      "                           -2\n",
      "-7/3\n"
     ]
    }
   ],
   "source": [
    "#1. j\n",
    "Int(x*abs(x),-2,1)"
   ]
  },
  {
   "cell_type": "code",
   "execution_count": null,
   "metadata": {},
   "outputs": [],
   "source": [
    "#2. \n",
    "\n",
    "diff(integrate(exp(t)/(sin(t)+exp(-t)),(t,-3*x,x**2)),x)"
   ]
  },
  {
   "cell_type": "markdown",
   "metadata": {
    "collapsed": true
   },
   "source": [
    "$$2x\\frac{\\exp(x^2)}{\\sin(x^2)+\\exp{(-x^2)}}+3\\frac{\\exp(-3x)}{\\sin(-3x)+\\exp{(3x)}}$$"
   ]
  },
  {
   "cell_type": "code",
   "execution_count": null,
   "metadata": {},
   "outputs": [],
   "source": []
  }
 ],
 "metadata": {
  "kernelspec": {
   "display_name": "Python 3",
   "language": "python",
   "name": "python3"
  },
  "language_info": {
   "codemirror_mode": {
    "name": "ipython",
    "version": 3
   },
   "file_extension": ".py",
   "mimetype": "text/x-python",
   "name": "python",
   "nbconvert_exporter": "python",
   "pygments_lexer": "ipython3",
   "version": "3.6.5"
  },
  "toc": {
   "colors": {
    "hover_highlight": "#DAA520",
    "navigate_num": "#000000",
    "navigate_text": "#333333",
    "running_highlight": "#FF0000",
    "selected_highlight": "#FFD700",
    "sidebar_border": "#EEEEEE",
    "wrapper_background": "#FFFFFF"
   },
   "moveMenuLeft": true,
   "nav_menu": {
    "height": "102px",
    "width": "252px"
   },
   "navigate_menu": true,
   "number_sections": true,
   "sideBar": true,
   "threshold": 4,
   "toc_cell": false,
   "toc_section_display": "block",
   "toc_window_display": false,
   "widenNotebook": false
  },
  "widgets": {
   "state": {},
   "version": "2.0.10"
  }
 },
 "nbformat": 4,
 "nbformat_minor": 1
}
