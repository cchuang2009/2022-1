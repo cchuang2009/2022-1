{
 "cells": [
  {
   "cell_type": "markdown",
   "metadata": {},
   "source": [
    " <font style=\"font-size:2em\"><div align=\"center\"><b> Calculus</b></div></font>\n",
    "\n",
    " <font style=\"font-size:1.6em\"><b>考題共有兩頁，四大題，總分為一百分，其中 1$^\\circ$)，2$^\\circ$) 為複選題，每一題各25分，共50分，每個小題各5分，答錯倒扣一半，每一題得分最低為零分，3$^\\circ$)，4$^\\circ$) 為計算題，每一題各25分，每個小題各5分，並獨立計分.<b></font>  \n",
    " "
   ]
  },
  {
   "cell_type": "markdown",
   "metadata": {},
   "source": [
    "<big><big>\n",
    "<big><b>1$^\\circ$).</b></big>\n",
    "假設 $f(x)$ 在 $[a,b]$ 區間連續 (continuous)，下列推論何者是正確的：<br>\n",
    "A$^\\circ$). $f(x)$ 同時具有極大值 (maximum) 和極小值 (minimum)，<br>\n",
    "B$^\\circ$). $f(x)$ 可以微分 (differentiable)，<br>\n",
    "C$^\\circ$). $f(x)$ 可以積分 (integrable)，<br />\n",
    "D$^\\circ$). 如果可以算出 $f(x)$ 的定積分 (definite integral)，則也可以算出 $f(x)$ 的不定積分 (indefinite integral) ，<br>\n",
    "E$^\\circ$). 如果 $f(a)=1$ 而且 $f(b)=3$，則 $f(x)$ 一定有零根 (zero root).<br> \n",
    "</big> </big>"
   ]
  },
  {
   "cell_type": "markdown",
   "metadata": {
    "collapsed": true
   },
   "source": [
    "<big><big>\n",
    "<big><b>2$^\\circ$).</b></big> 長庚網購公司，消費研究部門對網路消費市場趨勢的報告指出，消費者的 年度消費總金額 和 <b>i$^\\circ$).</b>消費者的年齡，<b>ii$^\\circ$).</b>年度消費次數，可能為下列的非線性關係:<br>\n",
    "$$  \\text{Total}_{總金額} = \\alpha + \\beta_1 \\cdot\\text{Num}_{年度消費次數}+\\beta_2 \\cdot\\text{Age}_{消費者年齡}+\\beta_3 \\cdot\\left(\\text{Age}_{消費者年齡}\\right)^2$$ \n",
    "集中 $\\text{Total}_{總金額}$ 為年度消費總金額，$\\text{Num}_{年度消費次數}$ 為消費者年度消費次數 $(\\ge0)$，$\\text{Age}_{消費者年齡}$ 為消費者年齡 $(\\ge20)$，其中$\\alpha$ 為常數,$\\beta_1,\\beta_2,\\beta_3$分別為相關變數的參數.同時知道 (a$^\\circ$) 消費者年齡比較年輕時，消費者年齡增加時，對於消費總金額正面影響是較大的，但是當消費者年齡較大時，年齡增加對於消費總金額的正面影響較小，(b$^\\circ$) 消費者的消費次數無助於估計其年度消費總金額大小.根據這些經驗法則，下列何者是正確的：\n",
    "    \n",
    "A$^\\circ$). $\\beta_1<0$,\n",
    "B$^\\circ$). $\\beta_2>0$,\n",
    "C$^\\circ$). $\\beta_2<0$,\n",
    "D$^\\circ$). $\\beta_3>0$,\n",
    "E$^\\circ$). $\\beta_3<0$          \n",
    "</big> </big>"
   ]
  },
  {
   "cell_type": "markdown",
   "metadata": {},
   "source": [
    "<big><big>\n",
    "<big><b>3$^\\circ$).</b></big> 假設 $f(x)=x-x^3$ 定義在 $[-1,2]$，<br>\n",
    "A$^\\circ$). 計算 $f'(x)$ ，即$f(x)$的一次導函數 (first order derivative)，<br>\n",
    "B$^\\circ$). 計算 $f(x)$ 的極大值和極小值如果存在的話，<br>\n",
    "C$^\\circ$). 計算 $\\int_{-1}^2f(x)dx$，<br />\n",
    "D$^\\circ$). 計算 $f(x)$ 在 $[-1,2]$ 的平均值，<br> \n",
    "E$^\\circ$). 計算 $\\frac{d}{dx}\\int_{-1}^{x}(t-t^3)dt$.    \n",
    "</big> </big>"
   ]
  },
  {
   "cell_type": "markdown",
   "metadata": {},
   "source": [
    "<big><big>\n",
    "<big><b>4$^\\circ$).</b></big> 假設  Cobb-Douglas production 函數為, $$f (K, L) = 100 K^{3 / 4} L^{1 / 4} ，$$\n",
    "其中 $K$ 為資本成本單位 (the unit of capital)，$L$ 為勞力成本單位 (the unit of labor)，而且 $K,L\\ge0$.    \n",
    "A$^\\circ$). 計算 $f(K,L)$ 在 $(K,L)=(1,1)$的資本邊際產量 (marginal productivity of capital，即 $\\frac{\\partial}{\\partial K}f(1,1)$)，<br>\n",
    "B$^\\circ$). 計算 $f(K,L)$ 在 $(K,L)=(1,1)$的勞力邊際產量 (marginal productivity of labor，即 $\\frac{\\partial}{\\partial L}f(1,1)$)，<br>\n",
    "C$^\\circ$). 假設每個勞力成本單位需要 200 元，每個資本成本單位需要 100 元，現在總支出不超過 800 元限制下，請說明如何在這個限制條件下，求得 $f(K,L)$ 函數極大值，(請列出方程式組，和使用方法)<br />\n",
    "D$^\\circ$). 承上題，$f(K,L)$ 得到極大值時，$(K,L)$ 的值為多少?<br> \n",
    "E$^\\circ$). 如果再限制 $0\\le K,L\\le5$，$f(K,L)$ 是否在上一題中，同樣 $(K,L)$ 的位置得到極大值？    \n",
    "</big> </big>"
   ]
  },
  {
   "cell_type": "markdown",
   "metadata": {
    "collapsed": true
   },
   "source": [
    " "
   ]
  },
  {
   "cell_type": "markdown",
   "metadata": {
    "collapsed": true
   },
   "source": [
    " "
   ]
  },
  {
   "cell_type": "markdown",
   "metadata": {
    "collapsed": true
   },
   "source": [
    " "
   ]
  },
  {
   "cell_type": "markdown",
   "metadata": {
    "collapsed": true
   },
   "source": [
    " "
   ]
  },
  {
   "cell_type": "markdown",
   "metadata": {
    "collapsed": true
   },
   "source": [
    " "
   ]
  },
  {
   "cell_type": "markdown",
   "metadata": {
    "collapsed": true
   },
   "source": [
    " "
   ]
  },
  {
   "cell_type": "markdown",
   "metadata": {
    "collapsed": true
   },
   "source": [
    " "
   ]
  },
  {
   "cell_type": "markdown",
   "metadata": {
    "collapsed": true
   },
   "source": [
    " "
   ]
  },
  {
   "cell_type": "markdown",
   "metadata": {
    "collapsed": true
   },
   "source": [
    " "
   ]
  },
  {
   "cell_type": "markdown",
   "metadata": {
    "collapsed": true
   },
   "source": [
    " "
   ]
  },
  {
   "cell_type": "markdown",
   "metadata": {
    "collapsed": true
   },
   "source": [
    " "
   ]
  },
  {
   "cell_type": "markdown",
   "metadata": {
    "collapsed": true
   },
   "source": [
    " "
   ]
  },
  {
   "cell_type": "markdown",
   "metadata": {
    "collapsed": true
   },
   "source": [
    " "
   ]
  },
  {
   "cell_type": "markdown",
   "metadata": {
    "collapsed": true
   },
   "source": [
    " "
   ]
  },
  {
   "cell_type": "markdown",
   "metadata": {
    "collapsed": true
   },
   "source": [
    " "
   ]
  },
  {
   "cell_type": "markdown",
   "metadata": {
    "collapsed": true
   },
   "source": [
    " "
   ]
  },
  {
   "cell_type": "markdown",
   "metadata": {
    "collapsed": true
   },
   "source": [
    " "
   ]
  },
  {
   "cell_type": "markdown",
   "metadata": {
    "collapsed": true
   },
   "source": [
    " "
   ]
  },
  {
   "cell_type": "markdown",
   "metadata": {
    "collapsed": true
   },
   "source": [
    " "
   ]
  },
  {
   "cell_type": "markdown",
   "metadata": {
    "collapsed": true
   },
   "source": [
    " "
   ]
  },
  {
   "cell_type": "markdown",
   "metadata": {
    "collapsed": true
   },
   "source": [
    " "
   ]
  },
  {
   "cell_type": "markdown",
   "metadata": {
    "collapsed": true
   },
   "source": [
    " "
   ]
  },
  {
   "cell_type": "markdown",
   "metadata": {
    "collapsed": true
   },
   "source": [
    " "
   ]
  },
  {
   "cell_type": "markdown",
   "metadata": {
    "collapsed": true
   },
   "source": [
    " "
   ]
  },
  {
   "cell_type": "markdown",
   "metadata": {
    "collapsed": true
   },
   "source": [
    " "
   ]
  },
  {
   "cell_type": "markdown",
   "metadata": {
    "collapsed": true
   },
   "source": [
    " 1. A,C\n",
    " - B,E\n",
    " - a) $1-3x^2$ b) min: -6, max: $ \\frac{2}{3\\sqrt3}$ c) $-9/4$ d) $-3/4$ e) $x-x^3$\n",
    " - a) 75 b) 25 c) by Lagarange 's Multiplier d) $(K,L)=(6,1)$ e) No"
   ]
  },
  {
   "cell_type": "markdown",
   "metadata": {
    "collapsed": true
   },
   "source": [
    "Answer\n",
    "---\n",
    "\n",
    "\n",
    "\n",
    "\n",
    "\n",
    "\n",
    "\n",
    "\n",
    "\n",
    "\n",
    "\n",
    "\\begin{eqnarray*}\n",
    "    \\tilde L (K, L, \\lambda) & = & \\ln f (K, L) + \\lambda (800 - 200 L - 100 K)\\\\\n",
    "    & = & \\ln 100 + \\frac{3}{4} \\ln K + \\frac{1}{4} \\ln L + \\lambda (800 -\n",
    "    200 L - 100 K)\n",
    "  \\end{eqnarray*}\n",
    "Then\n",
    "\\begin{eqnarray*}\n",
    "    \\vec{0} & = & \\nabla \\tilde L (K, L, \\lambda)\\\\\n",
    "    & = & \\left( \\frac{1}{4 L} - 200 \\lambda, \\frac{3}{4 K} - 100 \\lambda,\n",
    "    800 - 200 x - 100 y \\right)\\\\\n",
    "    \\Longrightarrow &  & K = \\frac{1}{800 \\lambda}, K = \\frac{3}{400 \\lambda} \n",
    "    (\\text{ i.e. } K = 6 L)\\\\\n",
    "    \\Longrightarrow &  & L = 1 \\text{ and } K = 6\n",
    "  \\end{eqnarray*}\n",
    "  "
   ]
  },
  {
   "cell_type": "code",
   "execution_count": 1,
   "metadata": {},
   "outputs": [],
   "source": [
    "from sympy import *"
   ]
  },
  {
   "cell_type": "code",
   "execution_count": 2,
   "metadata": {},
   "outputs": [],
   "source": [
    "x,t,u,C =symbols(\"x t u C\")\n",
    "from sympy import exp,sin,cos,tan,pi\n",
    "from mpmath import e"
   ]
  },
  {
   "cell_type": "code",
   "execution_count": 3,
   "metadata": {},
   "outputs": [],
   "source": [
    "def Int(f,*args):\n",
    "    if(len(args)!=0):\n",
    "       a=args[0]\n",
    "       b=args[1]\n",
    "       print(\"                          \",b)\n",
    "       print(\"The definite integral of  ʃ %s dx is \" %f)\n",
    "       print(\"                          \",a)\n",
    "       pprint(integrate(f,(x,a,b)))\n",
    "    else:\n",
    "       print(\"The indefinite integral of  ʃ %s dx is \" %f) \n",
    "       pprint(integrate(f,x)+C)"
   ]
  },
  {
   "cell_type": "code",
   "execution_count": 5,
   "metadata": {},
   "outputs": [
    {
     "name": "stdout",
     "output_type": "stream",
     "text": [
      "                           2\n",
      "The definite integral of  ʃ -x**3 + x dx is \n",
      "                           -1\n",
      "-9/4\n"
     ]
    }
   ],
   "source": [
    "#2.c)\n",
    "Int(x-x**3,-1, 2)"
   ]
  },
  {
   "cell_type": "code",
   "execution_count": 6,
   "metadata": {},
   "outputs": [
    {
     "name": "stdout",
     "output_type": "stream",
     "text": [
      "                           pi/2\n",
      "The definite integral of  ʃ sin(x)*cos(x)**2 dx is \n",
      "                           0\n",
      "1/3\n"
     ]
    }
   ],
   "source": [
    "#1.b)\n",
    "Int((sin(x))*cos(x)**2,0,pi/2)"
   ]
  },
  {
   "cell_type": "code",
   "execution_count": 7,
   "metadata": {},
   "outputs": [
    {
     "name": "stdout",
     "output_type": "stream",
     "text": [
      "                           pi/2\n",
      "The definite integral of  ʃ cos(x)**2 dx is \n",
      "                           0\n",
      "π\n",
      "─\n",
      "4\n"
     ]
    }
   ],
   "source": [
    "# 1. c)\n",
    "Int(cos(x)**2,0,pi/2)"
   ]
  },
  {
   "cell_type": "code",
   "execution_count": 8,
   "metadata": {},
   "outputs": [
    {
     "name": "stdout",
     "output_type": "stream",
     "text": [
      "                           2\n",
      "The definite integral of  ʃ 1/(x**2 + 4) dx is \n",
      "                           0\n",
      "π\n",
      "─\n",
      "8\n"
     ]
    }
   ],
   "source": [
    "#1.d)\n",
    "Int(1/(4+x**2),0,2)"
   ]
  },
  {
   "cell_type": "code",
   "execution_count": 9,
   "metadata": {},
   "outputs": [
    {
     "name": "stdout",
     "output_type": "stream",
     "text": [
      "                           1\n",
      "The definite integral of  ʃ exp(x)*cos(2*x) dx is \n",
      "                           0\n",
      "ℯ⋅cos(2)   1   2⋅ℯ⋅sin(2)\n",
      "──────── - ─ + ──────────\n",
      "   5       5       5     \n"
     ]
    }
   ],
   "source": [
    "#1. e)\n",
    "Int(exp(x)*cos(2*x),0,1)"
   ]
  },
  {
   "cell_type": "code",
   "execution_count": 10,
   "metadata": {},
   "outputs": [
    {
     "name": "stdout",
     "output_type": "stream",
     "text": [
      "                           pi/2\n",
      "The definite integral of  ʃ sin(x/2) dx is \n",
      "                           0\n",
      "2 - √2\n"
     ]
    }
   ],
   "source": [
    "#1. f)\n",
    "Int(sin(x/2),0,pi/2)"
   ]
  },
  {
   "cell_type": "code",
   "execution_count": 11,
   "metadata": {},
   "outputs": [
    {
     "name": "stdout",
     "output_type": "stream",
     "text": [
      "                           1\n",
      "The definite integral of  ʃ sqrt(1 - x**2) dx is \n",
      "                           0\n",
      "π\n",
      "─\n",
      "4\n"
     ]
    }
   ],
   "source": [
    "#1. g)\n",
    "Int(sqrt(1-x**2),0,1)"
   ]
  },
  {
   "cell_type": "code",
   "execution_count": 12,
   "metadata": {},
   "outputs": [
    {
     "name": "stdout",
     "output_type": "stream",
     "text": [
      "                           0\n",
      "The definite integral of  ʃ 1/(x**2 + 2*x + 2) dx is \n",
      "                           -1\n",
      "π\n",
      "─\n",
      "4\n"
     ]
    }
   ],
   "source": [
    "#1. h)\n",
    "Int(1/(x**2+2*x+2),-1,0)"
   ]
  },
  {
   "cell_type": "code",
   "execution_count": 13,
   "metadata": {},
   "outputs": [
    {
     "name": "stdout",
     "output_type": "stream",
     "text": [
      "                           pi/2\n",
      "The definite integral of  ʃ sin(2*x)*cos(x) dx is \n",
      "                           -pi/2\n",
      "0\n"
     ]
    }
   ],
   "source": [
    "#1. i\n",
    "Int(sin(2*x)*cos(x),-pi/2,pi/2)"
   ]
  },
  {
   "cell_type": "code",
   "execution_count": 14,
   "metadata": {},
   "outputs": [
    {
     "name": "stdout",
     "output_type": "stream",
     "text": [
      "                           2\n",
      "The definite integral of  ʃ (x + 1)/(x**2 + x) dx is \n",
      "                           1\n",
      "log(2)\n"
     ]
    }
   ],
   "source": [
    "#1. j\n",
    "Int((1+x)/(x+x**2),1,2)"
   ]
  },
  {
   "cell_type": "code",
   "execution_count": null,
   "metadata": {
    "collapsed": true
   },
   "outputs": [],
   "source": []
  },
  {
   "cell_type": "code",
   "execution_count": 17,
   "metadata": {},
   "outputs": [
    {
     "data": {
      "text/latex": [
       "$\\displaystyle x e^{- x}$"
      ],
      "text/plain": [
       "x*exp(-x)"
      ]
     },
     "execution_count": 17,
     "metadata": {},
     "output_type": "execute_result"
    }
   ],
   "source": [
    "#2. \n",
    "\n",
    "simplify(diff(integrate(t*exp(-t),(t,0,x)),x))"
   ]
  },
  {
   "cell_type": "code",
   "execution_count": null,
   "metadata": {},
   "outputs": [],
   "source": []
  }
 ],
 "metadata": {
  "kernelspec": {
   "display_name": "Python 3",
   "language": "python",
   "name": "python3"
  },
  "language_info": {
   "codemirror_mode": {
    "name": "ipython",
    "version": 3
   },
   "file_extension": ".py",
   "mimetype": "text/x-python",
   "name": "python",
   "nbconvert_exporter": "python",
   "pygments_lexer": "ipython3",
   "version": "3.6.9"
  },
  "toc": {
   "colors": {
    "hover_highlight": "#DAA520",
    "navigate_num": "#000000",
    "navigate_text": "#333333",
    "running_highlight": "#FF0000",
    "selected_highlight": "#FFD700",
    "sidebar_border": "#EEEEEE",
    "wrapper_background": "#FFFFFF"
   },
   "moveMenuLeft": true,
   "nav_menu": {
    "height": "102px",
    "width": "252px"
   },
   "navigate_menu": true,
   "number_sections": true,
   "sideBar": true,
   "threshold": 4,
   "toc_cell": false,
   "toc_section_display": "block",
   "toc_window_display": false,
   "widenNotebook": false
  },
  "widgets": {
   "state": {},
   "version": "2.0.10"
  }
 },
 "nbformat": 4,
 "nbformat_minor": 1
}
