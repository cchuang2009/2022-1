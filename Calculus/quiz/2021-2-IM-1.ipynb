{
 "cells": [
  {
   "cell_type": "markdown",
   "metadata": {},
   "source": [
    "<big><big><b><div align=\"center\">Mathematics for Management, 2021-2-IM</div></b></big></big>\n",
    "\n",
    "<h3><div align=\"left\">Name:&nbsp;&nbsp;&nbsp;&nbsp;&nbsp;&nbsp;&nbsp;&nbsp;&nbsp;&nbsp;&nbsp;&nbsp;&nbsp;&nbsp;&nbsp;&nbsp;&nbsp;&nbsp;&nbsp;&nbsp;&nbsp;&nbsp;&nbsp;&nbsp;  Sequence Number:&nbsp;&nbsp;&nbsp;&nbsp;&nbsp;&nbsp;&nbsp;&nbsp;&nbsp;&nbsp;&nbsp;&nbsp;&nbsp;&nbsp;&nbsp;&nbsp;&nbsp;&nbsp;&nbsp;&nbsp;&nbsp;&nbsp;&nbsp;&nbsp;</div></h3>"
   ]
  },
  {
   "cell_type": "markdown",
   "metadata": {
    "collapsed": true
   },
   "source": [
    "<big>\n",
    "    <big>\n",
    " Suppose that \n",
    "\n",
    "$$A_{3\\times 3} = \\left(\\begin{array}{ccc}\n",
    "    1& 2 & 1 \\\\\n",
    "    0&-1 & 3 \\\\\n",
    "    0&0 & 2 \\\\\n",
    "  \\end{array}\\right)\\text{ and }\\vec b=\\left(\\begin{array}{c}\n",
    "    -1 \\\\\n",
    "    2 \\\\\n",
    "    2 \\\\\n",
    "  \\end{array}\\right),\n",
    "  \\vec x=\\left(\\begin{array}{c}\n",
    "    x_1 \\\\\n",
    "    x_2 \\\\\n",
    "    x_3 \\\\\n",
    "  \\end{array}\\right)\n",
    "  $$ \n",
    "and \n",
    "</big>\n",
    "\n",
    "<b>a$^\\circ$). (20%)</b>  Calculate the transpose of $A$, i.e. $A^T$ and determinant of $A$, $\\det(A)$.<br>\n",
    "<b>b$^\\circ$). (10%)</b>  Calculate the matrix product of $A$ and $A^T$, i.e. $AA^T$;<br>\n",
    "<b>c$^\\circ$). (10%)</b>  Also calculate the square of $A$, i.e. $A^2=AA$.<br>\n",
    "<b>d$^\\circ$). (10%)</b>  Solve $\\vec x$ if $A\\vec x=\\vec b$.<br>\n",
    "<b>e$^\\circ$). (30%)</b>  Suppose that $\\lambda_1<\\lambda_2<\\lambda_3$ are eigenvations of $A$ with eigenvectors,\n",
    "$\\vec v_1, \\vec v_2, \\vec v_3$, respectively. Then find out $\\lambda_1,\\lambda_2,\\lambda_3$ and $\\vec v_1, \\vec v_2, \\vec v_3$.<br>\n",
    "<b>f$^\\circ$). (20%)</b>  (Continued) Suppose that $Q_{3\\times3}=[\\vec v_1, \\vec v_2, \\vec v_3]$. Calculate $Q^{-1}$ and $Q^{-1}A^2Q$<br>\n",
    "<br>\n",
    "   \n",
    "</big> "
   ]
  },
  {
   "cell_type": "markdown",
   "metadata": {
    "collapsed": true
   },
   "source": [
    " "
   ]
  },
  {
   "cell_type": "markdown",
   "metadata": {
    "collapsed": true
   },
   "source": [
    " "
   ]
  },
  {
   "cell_type": "markdown",
   "metadata": {
    "collapsed": true
   },
   "source": [
    " "
   ]
  },
  {
   "cell_type": "markdown",
   "metadata": {
    "collapsed": true
   },
   "source": [
    " "
   ]
  },
  {
   "cell_type": "markdown",
   "metadata": {
    "collapsed": true
   },
   "source": [
    " "
   ]
  },
  {
   "cell_type": "markdown",
   "metadata": {
    "collapsed": true
   },
   "source": [
    " "
   ]
  },
  {
   "cell_type": "markdown",
   "metadata": {
    "collapsed": true
   },
   "source": [
    " "
   ]
  },
  {
   "cell_type": "markdown",
   "metadata": {
    "collapsed": true
   },
   "source": [
    " "
   ]
  },
  {
   "cell_type": "markdown",
   "metadata": {
    "collapsed": true
   },
   "source": [
    " "
   ]
  },
  {
   "cell_type": "markdown",
   "metadata": {
    "collapsed": true
   },
   "source": [
    " "
   ]
  },
  {
   "cell_type": "markdown",
   "metadata": {
    "collapsed": true
   },
   "source": [
    " "
   ]
  },
  {
   "cell_type": "markdown",
   "metadata": {
    "collapsed": true
   },
   "source": [
    " "
   ]
  },
  {
   "cell_type": "markdown",
   "metadata": {
    "collapsed": true
   },
   "source": [
    " "
   ]
  },
  {
   "cell_type": "markdown",
   "metadata": {
    "collapsed": true
   },
   "source": [
    " "
   ]
  },
  {
   "cell_type": "markdown",
   "metadata": {
    "collapsed": true
   },
   "source": [
    " "
   ]
  },
  {
   "cell_type": "markdown",
   "metadata": {
    "collapsed": true
   },
   "source": [
    " "
   ]
  },
  {
   "cell_type": "markdown",
   "metadata": {
    "collapsed": true
   },
   "source": [
    " "
   ]
  },
  {
   "cell_type": "markdown",
   "metadata": {
    "collapsed": true
   },
   "source": [
    " "
   ]
  },
  {
   "cell_type": "markdown",
   "metadata": {
    "collapsed": true
   },
   "source": [
    " "
   ]
  },
  {
   "cell_type": "markdown",
   "metadata": {
    "collapsed": true
   },
   "source": [
    " "
   ]
  },
  {
   "cell_type": "markdown",
   "metadata": {
    "collapsed": true
   },
   "source": [
    " "
   ]
  },
  {
   "cell_type": "markdown",
   "metadata": {
    "collapsed": true
   },
   "source": [
    " "
   ]
  },
  {
   "cell_type": "markdown",
   "metadata": {
    "collapsed": true
   },
   "source": [
    " "
   ]
  },
  {
   "cell_type": "markdown",
   "metadata": {
    "collapsed": true
   },
   "source": [
    "  "
   ]
  },
  {
   "cell_type": "markdown",
   "metadata": {
    "collapsed": true
   },
   "source": [
    " "
   ]
  },
  {
   "cell_type": "markdown",
   "metadata": {
    "collapsed": true
   },
   "source": [
    "**Answer**\n",
    "\n",
    "a. $$A^T=\\left(\\begin{array}{ccc}\n",
    "    1& 0 & 0 \\\\\n",
    "    2& -1 & 0 \\\\\n",
    "    1&3 & 2 \\\\\n",
    "  \\end{array}\\right),\\det(A)=-2\n",
    "$$  \n",
    "b. $$AA^T = \\left(\\begin{array}{ccc}\n",
    "    6& 1 & 2 \\\\\n",
    "    1&10 & 6 \\\\\n",
    "    2&6 & 4 \\\\\n",
    "  \\end{array}\\right)\n",
    "$$\n",
    "c.$$\n",
    "A^2 = \\left(\\begin{array}{ccc}\n",
    "    1& 0 & 9 \\\\\n",
    "    0&1 & 3 \\\\\n",
    "    0&0 & 4 \\\\\n",
    "  \\end{array}\\right)\n",
    "$$\n",
    "d. $$\\vec x=\\left(\\begin{array}{c}\n",
    "    -4 \\\\\n",
    "    1 \\\\\n",
    "    1 \\\\\n",
    "  \\end{array}\\right)\n",
    "$$  \n",
    "e. \n",
    "$$ \\lambda_1,\\lambda_2,\\lambda_2=-1,1,2,\n",
    "\\vec v_1=\\left(\\begin{array}{c}\n",
    "    1 \\\\\n",
    "    -1 \\\\\n",
    "    0 \\\\\n",
    "  \\end{array}\\right),\\vec v_2=\\left(\\begin{array}{c}\n",
    "    1 \\\\\n",
    "    0 \\\\\n",
    "    0 \\\\\n",
    "  \\end{array}\\right),\\vec v_3=\\left(\\begin{array}{c}\n",
    "    3 \\\\\n",
    "    1 \\\\\n",
    "    1 \\\\\n",
    "  \\end{array}\\right)\n",
    "$$\n",
    "f. $$Q^{-1}=\\left(\\begin{array}{ccc}\n",
    "    0& 1 & -1 \\\\\n",
    "    1&1 & -4 \\\\\n",
    "    0&0 & 1 \\\\\n",
    "  \\end{array}\\right),Q^{-1}A^2Q=\\left(\\begin{array}{ccc}\n",
    "    1& 0 & 0 \\\\\n",
    "    0&1 & 0 \\\\\n",
    "    0&0 & 4 \\\\\n",
    "  \\end{array}\\right)\n",
    "$$  "
   ]
  },
  {
   "cell_type": "code",
   "execution_count": null,
   "metadata": {},
   "outputs": [],
   "source": []
  },
  {
   "cell_type": "code",
   "execution_count": null,
   "metadata": {},
   "outputs": [],
   "source": []
  },
  {
   "cell_type": "code",
   "execution_count": null,
   "metadata": {},
   "outputs": [],
   "source": []
  },
  {
   "cell_type": "code",
   "execution_count": null,
   "metadata": {},
   "outputs": [],
   "source": []
  },
  {
   "cell_type": "code",
   "execution_count": null,
   "metadata": {},
   "outputs": [],
   "source": []
  },
  {
   "cell_type": "code",
   "execution_count": null,
   "metadata": {},
   "outputs": [],
   "source": []
  },
  {
   "cell_type": "code",
   "execution_count": null,
   "metadata": {},
   "outputs": [],
   "source": []
  },
  {
   "cell_type": "code",
   "execution_count": 1,
   "metadata": {},
   "outputs": [],
   "source": [
    "from scipy.linalg import inv,solve,det,eig\n",
    "import numpy as np"
   ]
  },
  {
   "cell_type": "code",
   "execution_count": 2,
   "metadata": {},
   "outputs": [],
   "source": [
    "A = np.array([[1, 2,1], [0, -1,3],[0,0,2]])\n",
    "b = np.array([[-1],[2],[2]])"
   ]
  },
  {
   "cell_type": "code",
   "execution_count": 3,
   "metadata": {},
   "outputs": [
    {
     "data": {
      "text/plain": [
       "array([[ 1,  0,  0],\n",
       "       [ 2, -1,  0],\n",
       "       [ 1,  3,  2]])"
      ]
     },
     "execution_count": 3,
     "metadata": {},
     "output_type": "execute_result"
    }
   ],
   "source": [
    "A.T"
   ]
  },
  {
   "cell_type": "code",
   "execution_count": 10,
   "metadata": {},
   "outputs": [
    {
     "data": {
      "text/plain": [
       "-2.0"
      ]
     },
     "execution_count": 10,
     "metadata": {},
     "output_type": "execute_result"
    }
   ],
   "source": [
    "det(A)"
   ]
  },
  {
   "cell_type": "code",
   "execution_count": 11,
   "metadata": {},
   "outputs": [
    {
     "data": {
      "text/plain": [
       "array([[-4.],\n",
       "       [ 1.],\n",
       "       [ 1.]])"
      ]
     },
     "execution_count": 11,
     "metadata": {},
     "output_type": "execute_result"
    }
   ],
   "source": [
    "solve(A,b)"
   ]
  },
  {
   "cell_type": "code",
   "execution_count": 12,
   "metadata": {},
   "outputs": [
    {
     "data": {
      "text/plain": [
       "array([[1, 0, 9],\n",
       "       [0, 1, 3],\n",
       "       [0, 0, 4]])"
      ]
     },
     "execution_count": 12,
     "metadata": {},
     "output_type": "execute_result"
    }
   ],
   "source": [
    "A@A"
   ]
  },
  {
   "cell_type": "code",
   "execution_count": 12,
   "metadata": {},
   "outputs": [
    {
     "data": {
      "text/plain": [
       "array([ 1.+0.j, -1.+0.j,  2.+0.j])"
      ]
     },
     "execution_count": 12,
     "metadata": {},
     "output_type": "execute_result"
    }
   ],
   "source": [
    "eigenvals,eigenvecs=eig(A)\n",
    "eigenvals"
   ]
  },
  {
   "cell_type": "code",
   "execution_count": 22,
   "metadata": {},
   "outputs": [
    {
     "data": {
      "text/plain": [
       "array([-1.,  1.,  2.])"
      ]
     },
     "execution_count": 22,
     "metadata": {},
     "output_type": "execute_result"
    }
   ],
   "source": [
    "np.sort(eigenvals.real)"
   ]
  },
  {
   "cell_type": "code",
   "execution_count": 23,
   "metadata": {},
   "outputs": [
    {
     "data": {
      "text/plain": [
       "array([[ 1.        , -0.70710678,  0.90453403],\n",
       "       [ 0.        ,  0.70710678,  0.30151134],\n",
       "       [ 0.        ,  0.        ,  0.30151134]])"
      ]
     },
     "execution_count": 23,
     "metadata": {},
     "output_type": "execute_result"
    }
   ],
   "source": [
    "Q=eigenvecs"
   ]
  },
  {
   "cell_type": "code",
   "execution_count": 24,
   "metadata": {},
   "outputs": [
    {
     "data": {
      "text/plain": [
       "array([[ 1.00000000e+00,  0.00000000e+00,  0.00000000e+00],\n",
       "       [ 0.00000000e+00, -1.00000000e+00,  8.92947901e-17],\n",
       "       [ 0.00000000e+00,  0.00000000e+00,  2.00000000e+00]])"
      ]
     },
     "execution_count": 24,
     "metadata": {},
     "output_type": "execute_result"
    }
   ],
   "source": [
    "Q=eigenvecs\n",
    "Q_inv=inv(Q)\n",
    "(Q_inv.dot(A)).dot(Q)"
   ]
  },
  {
   "cell_type": "code",
   "execution_count": 4,
   "metadata": {},
   "outputs": [],
   "source": [
    "Q=np.array([[1, 1, 3],\n",
    "       [-1, 0, 1],\n",
    "       [0, 0, 1]])"
   ]
  },
  {
   "cell_type": "code",
   "execution_count": 9,
   "metadata": {},
   "outputs": [
    {
     "data": {
      "text/plain": [
       "array([[ 0., -1.,  1.],\n",
       "       [ 1.,  1., -4.],\n",
       "       [ 0.,  0.,  1.]])"
      ]
     },
     "execution_count": 9,
     "metadata": {},
     "output_type": "execute_result"
    }
   ],
   "source": [
    "Q1=inv(Q)\n",
    "Q1"
   ]
  },
  {
   "cell_type": "code",
   "execution_count": 11,
   "metadata": {},
   "outputs": [
    {
     "data": {
      "text/plain": [
       "array([[1., 0., 0.],\n",
       "       [0., 1., 0.],\n",
       "       [0., 0., 4.]])"
      ]
     },
     "execution_count": 11,
     "metadata": {},
     "output_type": "execute_result"
    }
   ],
   "source": [
    "(Q1.dot(A@A)).dot(Q)"
   ]
  },
  {
   "cell_type": "code",
   "execution_count": null,
   "metadata": {},
   "outputs": [],
   "source": []
  }
 ],
 "metadata": {
  "kernelspec": {
   "display_name": "Python 3",
   "language": "python",
   "name": "python3"
  },
  "language_info": {
   "codemirror_mode": {
    "name": "ipython",
    "version": 3
   },
   "file_extension": ".py",
   "mimetype": "text/x-python",
   "name": "python",
   "nbconvert_exporter": "python",
   "pygments_lexer": "ipython3",
   "version": "3.8.5"
  },
  "toc": {
   "colors": {
    "hover_highlight": "#DAA520",
    "navigate_num": "#000000",
    "navigate_text": "#333333",
    "running_highlight": "#FF0000",
    "selected_highlight": "#FFD700",
    "sidebar_border": "#EEEEEE",
    "wrapper_background": "#FFFFFF"
   },
   "moveMenuLeft": true,
   "nav_menu": {
    "height": "49px",
    "width": "252px"
   },
   "navigate_menu": true,
   "number_sections": true,
   "sideBar": true,
   "threshold": 4,
   "toc_cell": false,
   "toc_section_display": "block",
   "toc_window_display": false,
   "widenNotebook": false
  }
 },
 "nbformat": 4,
 "nbformat_minor": 1
}
