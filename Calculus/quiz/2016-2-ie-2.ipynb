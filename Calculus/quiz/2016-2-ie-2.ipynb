{
 "cells": [
  {
   "cell_type": "markdown",
   "metadata": {},
   "source": [
    "# <div align=\"center\">Calculus, 2016-2-IE-2</div>\n",
    "\n",
    "<h3><div align=\"right\">Name:&nbsp;&nbsp;&nbsp;&nbsp;&nbsp;&nbsp;&nbsp;&nbsp;&nbsp;&nbsp;&nbsp;&nbsp;&nbsp;&nbsp;&nbsp;&nbsp;&nbsp;&nbsp;&nbsp;&nbsp;&nbsp;&nbsp;&nbsp;&nbsp;  Sequence Number:&nbsp;&nbsp;&nbsp;&nbsp;&nbsp;&nbsp;&nbsp;&nbsp;&nbsp;&nbsp;&nbsp;&nbsp;&nbsp;&nbsp;&nbsp;&nbsp;&nbsp;&nbsp;&nbsp;&nbsp;&nbsp;&nbsp;&nbsp;&nbsp;</div></h3>\n"
   ]
  },
  {
   "cell_type": "code",
   "execution_count": 1,
   "metadata": {},
   "outputs": [
    {
     "data": {
      "text/html": [
       "<link href='http://fonts.googleapis.com/css?family=Open+Sans:100,300,400,500,700,800,900,100italic,300italic,400italic,500italic,700italic,800italic,900italic' rel='stylesheet' type='text/css'>\n",
       "<link href='http://fonts.googleapis.com/css?family=Arvo:400,700,400italic' rel='stylesheet' type='text/css'>\n",
       "<link href='http://fonts.googleapis.com/css?family=PT+Mono' rel='stylesheet' type='text/css'>\n",
       "<link href='http://fonts.googleapis.com/css?family=Shadows+Into+Light' rel='stylesheet' type='text/css'>\n",
       "<link href='http://fonts.googleapis.com/css?family=Nixie+One' rel='stylesheet' type='text/css'>\n",
       "<style>\n",
       "\n",
       "@font-face {\n",
       "    font-family: \"Computer Modern\";\n",
       "    src: url('http://mirrors.ctan.org/fonts/cm-unicode/fonts/otf/cmunss.otf');\n",
       "}\n",
       "\n",
       "#notebook_panel { /* main background */\n",
       "    background: rgb(245,245,245);\n",
       "}\n",
       "\n",
       "div.cell { /* set cell width */\n",
       "    width: 1000px;\n",
       "}\n",
       "\n",
       "div #notebook { /* centre the content */\n",
       "    background: #fff; /* white background for content */\n",
       "    width: 1200px;\n",
       "    margin: auto;\n",
       "    padding-left: 0em;\n",
       "}\n",
       "\n",
       "#notebook li { /* More space between bullet points */\n",
       "margin-top:0.8em;\n",
       "}\n",
       "\n",
       "/* draw border around running cells */\n",
       "div.cell.border-box-sizing.code_cell.running { \n",
       "    border: 1px solid #111;\n",
       "}\n",
       "\n",
       "/* Put a solid color box around each cell and its output, visually linking them*/\n",
       "div.cell.code_cell {\n",
       "    background-color: rgb(256,256,256); \n",
       "    border-radius: 0px; \n",
       "    padding: 0.5em;\n",
       "    margin-left:1em;\n",
       "    margin-top: 1em;\n",
       "}\n",
       "\n",
       "div.text_cell_render{\n",
       "    font-family: 'Open Sans' sans-serif;\n",
       "    line-height: 140%;\n",
       "    font-size: 125%;\n",
       "    font-weight: 400;\n",
       "    width:900px;\n",
       "    margin-left:auto;\n",
       "    margin-right:auto;\n",
       "}\n",
       "\n",
       "\n",
       "/* Formatting for header cells */\n",
       ".text_cell_render h1 {\n",
       "    font-family: 'Arvo', serif;\n",
       "    font-style:regular;\n",
       "    font-weight: 400;    \n",
       "    font-size: 45pt;\n",
       "    line-height: 100%;\n",
       "    color: rgb(0,51,102);\n",
       "    margin-bottom: 0.5em;\n",
       "    margin-top: 0.5em;\n",
       "    display: block;\n",
       "}\t\n",
       ".text_cell_render h2 {\n",
       "    font-family: 'Arvo', serif;\n",
       "    font-weight: 400;\n",
       "    font-size: 30pt;\n",
       "    line-height: 100%;\n",
       "    color: rgb(0,51,102);\n",
       "    margin-bottom: 0.1em;\n",
       "    margin-top: 0.3em;\n",
       "    display: block;\n",
       "}\t\n",
       "\n",
       ".text_cell_render h3 {\n",
       "    font-family: 'Arvo', serif;\n",
       "    margin-top:16px;\n",
       "\tfont-size: 22pt;\n",
       "    font-weight: 600;\n",
       "    margin-bottom: 3px;\n",
       "    font-style: regular;\n",
       "    color: rgb(102,102,0);\n",
       "}\n",
       "\n",
       ".text_cell_render h4 {    /*Use this for captions*/\n",
       "    font-family: 'Arvo', serif;\n",
       "    font-size: 14pt;\n",
       "    text-align: center;\n",
       "    margin-top: 0em;\n",
       "    margin-bottom: 2em;\n",
       "    font-style: regular;\n",
       "}\n",
       "\n",
       ".text_cell_render h5 {  /*Use this for small titles*/\n",
       "    font-family: 'Arvo', sans-serif;\n",
       "    font-weight: 400;\n",
       "    font-size: 16pt;\n",
       "    color: rgb(163,0,0);\n",
       "    font-style: italic;\n",
       "    margin-bottom: .1em;\n",
       "    margin-top: 0.8em;\n",
       "    display: block;\n",
       "}\n",
       "\n",
       ".text_cell_render h6 { /*use this for copyright note*/\n",
       "    font-family: 'PT Mono', sans-serif;\n",
       "    font-weight: 300;\n",
       "    font-size: 9pt;\n",
       "    line-height: 100%;\n",
       "    color: grey;\n",
       "    margin-bottom: 1px;\n",
       "    margin-top: 1px;\n",
       "}\n",
       "\n",
       ".CodeMirror{\n",
       "        font-family: \"PT Mono\";\n",
       "        font-size: 90%;\n",
       "}\n",
       "\n",
       "</style>\n",
       "<script>\n",
       "    MathJax.Hub.Config({\n",
       "                        TeX: {\n",
       "                           extensions: [\"AMSmath.js\"],\n",
       "                           equationNumbers: { autoNumber: \"AMS\", useLabelIds: true}\n",
       "                           },\n",
       "                tex2jax: {\n",
       "                    inlineMath: [ ['$','$'], [\"\\\\(\",\"\\\\)\"] ],\n",
       "                    displayMath: [ ['$$','$$'], [\"\\\\[\",\"\\\\]\"] ]\n",
       "                },\n",
       "                displayAlign: 'center', // Change this to 'center' to center equations.\n",
       "                \"HTML-CSS\": {\n",
       "                    styles: {'.MathJax_Display': {\"margin\": 4}}\n",
       "                }\n",
       "        });\n",
       "</script>\n"
      ],
      "text/plain": [
       "<IPython.core.display.HTML object>"
      ]
     },
     "execution_count": 1,
     "metadata": {},
     "output_type": "execute_result"
    }
   ],
   "source": [
    "from IPython.core.display import HTML\n",
    "css_file = '../css/ngcmstyle.css'\n",
    "HTML(open(css_file, \"r\").read())"
   ]
  },
  {
   "cell_type": "code",
   "execution_count": 2,
   "metadata": {},
   "outputs": [
    {
     "data": {
      "text/html": [
       "<script>\n",
       "code_show=true; \n",
       "function code_toggle() {\n",
       " if (code_show){\n",
       " $('div.input').hide();\n",
       " } else {\n",
       " $('div.input').show();\n",
       " }\n",
       " code_show = !code_show\n",
       "} \n",
       "$( document ).ready(code_toggle);\n",
       "</script>\n",
       "<a href=\"javascript:code_toggle()\"><b>Due Time</b> 80 minutes</a>."
      ],
      "text/plain": [
       "<IPython.core.display.HTML object>"
      ]
     },
     "execution_count": 2,
     "metadata": {},
     "output_type": "execute_result"
    }
   ],
   "source": [
    "\n",
    "from IPython.core.display import HTML\n",
    "css_file = '../css/ngcmstyle.css'\n",
    "HTML(open(css_file, \"r\").read())\n",
    "HTML('''<script>\n",
    "code_show=true; \n",
    "function code_toggle() {\n",
    " if (code_show){\n",
    " $('div.input').hide();\n",
    " } else {\n",
    " $('div.input').show();\n",
    " }\n",
    " code_show = !code_show\n",
    "} \n",
    "$( document ).ready(code_toggle);\n",
    "</script>\n",
    "<a href=\"javascript:code_toggle()\"><b>Due Time</b> 80 minutes</a>.''') "
   ]
  },
  {
   "cell_type": "markdown",
   "metadata": {
    "collapsed": true
   },
   "source": [
    "<big>\n",
    "<big><b>1$^\\circ$). </b> </big>\n",
    "Find the tagent planes of the following functions at given points  (total 20%, each 10%) <br>\n",
    "a$^\\circ$).  $\\mathbf{f(x,y)=x^3+y^3-3xy}$ at $\\mathbf{(x,y)=(1,2)}$;<br>\n",
    "b$^\\circ$). $\\mathbf{x^3-3xy+y^3-4z^2=11}$ at $\\mathbf{(x,y,z)=(3,3,-2)}$.\n",
    "</big> "
   ]
  },
  {
   "cell_type": "markdown",
   "metadata": {
    "collapsed": true
   },
   "source": [
    " "
   ]
  },
  {
   "cell_type": "markdown",
   "metadata": {
    "collapsed": true
   },
   "source": [
    " "
   ]
  },
  {
   "cell_type": "markdown",
   "metadata": {
    "collapsed": true
   },
   "source": [
    " "
   ]
  },
  {
   "cell_type": "markdown",
   "metadata": {
    "collapsed": true
   },
   "source": [
    " "
   ]
  },
  {
   "cell_type": "markdown",
   "metadata": {
    "collapsed": true
   },
   "source": [
    " "
   ]
  },
  {
   "cell_type": "markdown",
   "metadata": {
    "collapsed": true
   },
   "source": [
    " "
   ]
  },
  {
   "cell_type": "markdown",
   "metadata": {
    "collapsed": true
   },
   "source": [
    " "
   ]
  },
  {
   "cell_type": "markdown",
   "metadata": {
    "collapsed": true
   },
   "source": [
    " "
   ]
  },
  {
   "cell_type": "markdown",
   "metadata": {
    "collapsed": true
   },
   "source": [
    " "
   ]
  },
  {
   "cell_type": "markdown",
   "metadata": {
    "collapsed": true
   },
   "source": [
    " "
   ]
  },
  {
   "cell_type": "markdown",
   "metadata": {
    "collapsed": true
   },
   "source": [
    " "
   ]
  },
  {
   "cell_type": "markdown",
   "metadata": {
    "collapsed": true
   },
   "source": [
    " "
   ]
  },
  {
   "cell_type": "markdown",
   "metadata": {},
   "source": [
    "<big>\n",
    "<big><b>2$^\\circ$).</b></big>\n",
    "Find critical points of following functions if any, classify the types of (local and absolute) extrema or saddle point: (total 40%)<br>\n",
    "a$^\\circ$). $\\mathbf{f(x,y)=xy((4-x-y)}$ for $\\mathbf{(x,y)\\in \\mathbb{R}^2.}$ (20%)<br>\n",
    "b$^\\circ$). $\\mathbf{f(x,y)=x^2-y^2+2x+2}$ on $\\mathbf{D=\\{ \\left.(x,y)\\in \\mathbb{R^2}\\right| x^2+y^2\\le1\\}}$, also find out its extrema within $\\mathbf{D}$ (20%).\n",
    "</big> "
   ]
  },
  {
   "cell_type": "markdown",
   "metadata": {
    "collapsed": true
   },
   "source": [
    " "
   ]
  },
  {
   "cell_type": "markdown",
   "metadata": {
    "collapsed": true
   },
   "source": [
    " "
   ]
  },
  {
   "cell_type": "markdown",
   "metadata": {
    "collapsed": true
   },
   "source": [
    " "
   ]
  },
  {
   "cell_type": "markdown",
   "metadata": {
    "collapsed": true
   },
   "source": [
    " "
   ]
  },
  {
   "cell_type": "markdown",
   "metadata": {
    "collapsed": true
   },
   "source": [
    " "
   ]
  },
  {
   "cell_type": "markdown",
   "metadata": {
    "collapsed": true
   },
   "source": [
    " "
   ]
  },
  {
   "cell_type": "markdown",
   "metadata": {
    "collapsed": true
   },
   "source": [
    " "
   ]
  },
  {
   "cell_type": "markdown",
   "metadata": {
    "collapsed": true
   },
   "source": [
    " "
   ]
  },
  {
   "cell_type": "markdown",
   "metadata": {
    "collapsed": true
   },
   "source": [
    " "
   ]
  },
  {
   "cell_type": "markdown",
   "metadata": {
    "collapsed": true
   },
   "source": [
    " "
   ]
  },
  {
   "cell_type": "markdown",
   "metadata": {
    "collapsed": true
   },
   "source": [
    " "
   ]
  },
  {
   "cell_type": "markdown",
   "metadata": {
    "collapsed": true
   },
   "source": [
    " "
   ]
  },
  {
   "cell_type": "markdown",
   "metadata": {
    "collapsed": true
   },
   "source": [
    " "
   ]
  },
  {
   "cell_type": "markdown",
   "metadata": {
    "collapsed": true
   },
   "source": [
    " "
   ]
  },
  {
   "cell_type": "markdown",
   "metadata": {
    "collapsed": true
   },
   "source": [
    " "
   ]
  },
  {
   "cell_type": "markdown",
   "metadata": {
    "collapsed": true
   },
   "source": [
    " "
   ]
  },
  {
   "cell_type": "markdown",
   "metadata": {
    "collapsed": true
   },
   "source": [
    " "
   ]
  },
  {
   "cell_type": "markdown",
   "metadata": {
    "collapsed": true
   },
   "source": [
    " "
   ]
  },
  {
   "cell_type": "markdown",
   "metadata": {
    "collapsed": true
   },
   "source": [
    " "
   ]
  },
  {
   "cell_type": "markdown",
   "metadata": {
    "collapsed": true
   },
   "source": [
    " "
   ]
  },
  {
   "cell_type": "markdown",
   "metadata": {
    "collapsed": true
   },
   "source": [
    " "
   ]
  },
  {
   "cell_type": "markdown",
   "metadata": {
    "collapsed": true
   },
   "source": [
    " "
   ]
  },
  {
   "cell_type": "markdown",
   "metadata": {
    "collapsed": true
   },
   "source": [
    " "
   ]
  },
  {
   "cell_type": "markdown",
   "metadata": {
    "collapsed": true
   },
   "source": [
    " "
   ]
  },
  {
   "cell_type": "markdown",
   "metadata": {
    "collapsed": true
   },
   "source": [
    " "
   ]
  },
  {
   "cell_type": "markdown",
   "metadata": {
    "collapsed": true
   },
   "source": [
    " "
   ]
  },
  {
   "cell_type": "markdown",
   "metadata": {
    "collapsed": true
   },
   "source": [
    " "
   ]
  },
  {
   "cell_type": "markdown",
   "metadata": {
    "collapsed": true
   },
   "source": [
    " "
   ]
  },
  {
   "cell_type": "markdown",
   "metadata": {
    "collapsed": true
   },
   "source": [
    " "
   ]
  },
  {
   "cell_type": "markdown",
   "metadata": {
    "collapsed": true
   },
   "source": [
    " "
   ]
  },
  {
   "cell_type": "markdown",
   "metadata": {
    "collapsed": true
   },
   "source": [
    "<big>\n",
    "<big><b>3$^\\circ$).</b></big> \n",
    "Evaluate the following multiple integrals. (total 50%, each 10%) <br>\n",
    "a$^\\circ$). Describe what Fubini's Theorem of Iterated Integration for a continuous $\\mathbf{f(x,y)}$ on $\\mathbf{D=\\{ (x, y) \\left| a \\leqslant x \\leqslant b, g_1 (x) \\leqslant y\n",
    "    \\leqslant g_2 (x)\\right \\}\\subset\\mathbb{R}^2}$ is.\n",
    "<br>\n",
    "\n",
    "b$^\\circ$). <big>$\\mathbf{\\iint\\limits_{\\{ (x, y) | 1 \\leqslant x \\leqslant 3, 2 \\leqslant y \\leqslant 4\n",
    "  \\}} \\frac{y}{x} d A}$: <br>\n",
    "c$^\\circ$). $\\mathbf{\\iint\\limits_{\\{(x, y) | x^2 + y^2 \\le 4\\}}\n",
    "    \\sqrt{4 - x^2 - y^2} d A}$\n",
    "<br>  \n",
    "d$^\\circ$). $\\mathbf{\\iiint_{\\left\\{ (x, y, z) \\in \\mathbb{R}^3  \\middle| 0 \\leqslant x \\leqslant\n",
    "     \\sqrt{\\frac{\\pi}{2}}, x \\leqslant y \\leqslant \\sqrt{\\frac{\\pi}{2}}, 0\n",
    "     \\leqslant z \\leqslant 2 \\right\\}}\\sin (y^2) d V}$\n",
    "<br>\n",
    "e$^\\circ$). $\\mathbf{\\int^2_{- 2} \\int^{\\sqrt{4 - x^2}}_{- \\sqrt{4 - x^2}} \\int_0^{\\sqrt{4\n",
    "       - x^2 - y^2}} (y^2 + z^2) z d z d y d x}$\n",
    "<br>       \n",
    "</big> "
   ]
  },
  {
   "cell_type": "markdown",
   "metadata": {
    "collapsed": true
   },
   "source": [
    " "
   ]
  },
  {
   "cell_type": "markdown",
   "metadata": {
    "collapsed": true
   },
   "source": [
    " "
   ]
  },
  {
   "cell_type": "markdown",
   "metadata": {
    "collapsed": true
   },
   "source": [
    " "
   ]
  },
  {
   "cell_type": "markdown",
   "metadata": {
    "collapsed": true
   },
   "source": [
    " "
   ]
  },
  {
   "cell_type": "markdown",
   "metadata": {
    "collapsed": true
   },
   "source": [
    " "
   ]
  },
  {
   "cell_type": "markdown",
   "metadata": {
    "collapsed": true
   },
   "source": [
    " "
   ]
  },
  {
   "cell_type": "markdown",
   "metadata": {
    "collapsed": true
   },
   "source": [
    " "
   ]
  },
  {
   "cell_type": "markdown",
   "metadata": {
    "collapsed": true
   },
   "source": [
    " "
   ]
  },
  {
   "cell_type": "markdown",
   "metadata": {
    "collapsed": true
   },
   "source": [
    " "
   ]
  },
  {
   "cell_type": "markdown",
   "metadata": {
    "collapsed": true
   },
   "source": [
    " "
   ]
  },
  {
   "cell_type": "markdown",
   "metadata": {
    "collapsed": true
   },
   "source": [
    " "
   ]
  },
  {
   "cell_type": "markdown",
   "metadata": {},
   "source": [
    "Answer\n",
    "---\n",
    "1.\n",
    "---"
   ]
  },
  {
   "cell_type": "code",
   "execution_count": 9,
   "metadata": {
    "collapsed": true
   },
   "outputs": [],
   "source": [
    "from sympy import log,exp,cos,sin,diff,integrate,symbols,Matrix,sqrt,pi\n",
    "x,y,z=symbols(\"x y z\")\n",
    "\n",
    "grad = lambda func, vars :[diff(func,var) for var in vars]\n",
    "\n",
    "def df_val(f,val):\n",
    "    return [ff.subs({x:val[0],y:val[1],z:val[2]}) for ff in f]\n",
    "\n",
    "def tangentplane(f,X,A):\n",
    "    if len(A)==2:\n",
    "       A=[A[0],A[1],0] \n",
    "       A[2]= f.subs({X[0]:A[0],X[1]:A[1]})\n",
    "    if len(X)==2:\n",
    "       f=f-z\n",
    "       X=[X[0],X[1],z]\n",
    "    df=grad(f,X)\n",
    "    df0=df_val(df,A)\n",
    "    \n",
    "    print(\"Tangent Plane: \"  ,df0[0]*(X[0]-A[0])+df0[1]*(X[1]-A[1])+df0[2]*(X[2]-A[2]),\"= 0\")"
   ]
  },
  {
   "cell_type": "code",
   "execution_count": 7,
   "metadata": {},
   "outputs": [
    {
     "name": "stdout",
     "output_type": "stream",
     "text": [
      "Tangent Plane:  -3*x + 9*y - z - 12 = 0\n"
     ]
    }
   ],
   "source": [
    "# 1. a)\n",
    "f=x**3+y**3-3*x*y\n",
    "tangentplane(f,[x,y],[1,2])"
   ]
  },
  {
   "cell_type": "code",
   "execution_count": 8,
   "metadata": {},
   "outputs": [
    {
     "name": "stdout",
     "output_type": "stream",
     "text": [
      "Tangent Plane:  18*x + 18*y + 16*z - 76 = 0\n"
     ]
    }
   ],
   "source": [
    "# 1. b)\n",
    "g=x**3+y**3-3*x*y-4*z**2-11\n",
    "tangentplane(g,[x,y,z],[3,3,-2])"
   ]
  },
  {
   "cell_type": "markdown",
   "metadata": {},
   "source": [
    "<big>**2.**</big> "
   ]
  },
  {
   "cell_type": "code",
   "execution_count": 15,
   "metadata": {
    "collapsed": true
   },
   "outputs": [],
   "source": [
    "from sympy import hessian,symbols,solve,diff,pprint\n",
    "\n",
    "grad = lambda func, vars :[diff(func,var) for var in vars]\n",
    "def criticaltype(f):\n",
    "    cpts=solve(grad(f,[x,y]),[x,y])\n",
    "    H=hessian(f,[x,y]);\n",
    "    H_det=H.det();\n",
    "    print(\"Hessian Matrix\\n---\")\n",
    "    pprint(H)\n",
    "    #H2_det=H.det()\n",
    "    num=1\n",
    "    if len(cpts)==0:\n",
    "       print(\"   no critical point!\")  \n",
    "    elif (type(cpts)==dict):\n",
    "       \"\"\"\n",
    "       If only one critical point, return {x:a,y:b} --- dict,\n",
    "       if more than one point return {(a,b),(c,d),...} --- list\n",
    "       \"\"\" \n",
    "       cx=cpts[x]\n",
    "       cy=cpts[y]\n",
    "       print(\"only one critical (x,y)=(%s,%s)\" %(cx,cy))\n",
    "       delta2=H_det.subs({x:cx,y:cy}) \n",
    "       if delta2<0:\n",
    "          print(\"   |H|=%s<0:  Saddle point here.\" %delta2)\n",
    "       elif delta2==0:\n",
    "          print(\"   |H|=0:  No conclusion.\") \n",
    "       else:\n",
    "          f1=diff(f,x,2).subs({x:cx,y:cy})\n",
    "          if f1>0:\n",
    "             print(\"   |H|=%s>0, fxx=%s>0:  local minimum here.\" %(delta2,f1))\n",
    "          else:\n",
    "             print(\"   |H|=%s>0, fxx=%s<0:    local maximum here.\" %(delta2,f1))\n",
    "    else:\n",
    "       for i in cpts: \n",
    "            cx=i[0]\n",
    "            cy=i[1]\n",
    "            print(\"%d. critical (x,y)=(%s,%s)\" %(num,cx,cy))\n",
    "            delta2=H_det.subs({x:cx,y:cy}) \n",
    "            if delta2<0:\n",
    "               print(\"   |H|=%s<0:  Saddle point here.\" %delta2)\n",
    "            elif delta2==0:\n",
    "               print(\"   |H|=0:  No conclusion.\") \n",
    "            else:\n",
    "               f1=diff(f,x,2).subs({x:cx,y:cy})\n",
    "               if f1>0:\n",
    "                  print(\"   |H|=%s>0, fxx=%s>0:  local minimum here.\" %(delta2,f1))\n",
    "               else:\n",
    "                  print(\"   |H|=%s>0, fxx=%s<0:    local maximum here.\" %(delta2,f1))\n",
    "            #print(H_det)\n",
    "            num+=1"
   ]
  },
  {
   "cell_type": "code",
   "execution_count": 16,
   "metadata": {},
   "outputs": [
    {
     "name": "stdout",
     "output_type": "stream",
     "text": [
      "Hessian Matrix\n",
      "---\n",
      "⎡     -2⋅y       -2⋅x - 2⋅y + 4⎤\n",
      "⎢                              ⎥\n",
      "⎣-2⋅x - 2⋅y + 4       -2⋅x     ⎦\n",
      "1. critical (x,y)=(0,0)\n",
      "   |H|=-16<0:  Saddle point here.\n",
      "2. critical (x,y)=(0,4)\n",
      "   |H|=-16<0:  Saddle point here.\n",
      "3. critical (x,y)=(4/3,4/3)\n",
      "   |H|=16/3>0, fxx=-8/3<0:    local maximum here.\n",
      "4. critical (x,y)=(4,0)\n",
      "   |H|=-16<0:  Saddle point here.\n"
     ]
    }
   ],
   "source": [
    "#2. a)\n",
    "x,y,t =symbols(\"x y t\",real=True)\n",
    "f=x*y*(4-x-y)\n",
    "\n",
    "criticaltype(f)"
   ]
  },
  {
   "cell_type": "code",
   "execution_count": 6,
   "metadata": {
    "collapsed": true
   },
   "outputs": [],
   "source": [
    "def lagrangian(func,X,conditions,solvable=True):\n",
    "    l,m=symbols(\"lambda mu\")\n",
    "    if len(X)==2 and len(conditions)==1:\n",
    "       L=func+l*conditions[0]\n",
    "       cpts=solve([diff(L,x),diff(L,y),conditions[0]],[x,y,l])\n",
    "       print(\"Function, %s, subject to %s=0\\n---\" %(func,conditions[0])) \n",
    "    elif  len(X)==3 and len(conditions)==1: \n",
    "       L=func+l*conditions[0]\n",
    "       cpts=solve([diff(L,x),diff(L,y),diff(L,z),conditions[0]],[x,y,z,l]) \n",
    "       print(\"Function, %s, subject to %s=0\\n---\" %(func,conditions[0])) \n",
    "    else:\n",
    "       L=func+l*conditions[0]+m* conditions[1]\n",
    "       cpts=solve([diff(L,x),diff(L,y),diff(L,z),conditions[0],conditions[1]],[x,y,z,l,m]) \n",
    "       print(\"Function, %s, subject to %s=0 and %s=0\\n---\" %(func,conditions[0],conditions[1]))\n",
    "    i=1\n",
    "    vals=[]\n",
    "    if solvable:\n",
    "       for cpt in cpts: \n",
    "           if len(X)==2:\n",
    "              funcVal=func.subs({x:cpt[0],y:cpt[1]})\n",
    "              print(\"%d֯ ). f = %s = %s at critical value (x,y)=(%s,%s)\" %(i,func,funcVal,cpt[0],cpt[1]))\n",
    "           else:\n",
    "              funcVal=func.subs({x:cpt[0],y:cpt[1],z:cpt[2]})\n",
    "              print(\"%d֯ ). f = %s = %s at critical value (x,y,z)=(%s,%s,%s)\" %(i,func, funcVal,cpt[0],cpt[1],cpt[2]))\n",
    "           vals.append(funcVal)\n",
    "           i+=1\n",
    "       print(\"---\\n\")  \n",
    "       print(\"Maximum on the boundary is %s\" %max(vals))\n",
    "       print(\"Minimum on the boundary is %s\" %min(vals)) \n",
    "    else:\n",
    "     print(cpts)   "
   ]
  },
  {
   "cell_type": "code",
   "execution_count": 17,
   "metadata": {},
   "outputs": [
    {
     "name": "stdout",
     "output_type": "stream",
     "text": [
      "Hessian Matrix\n",
      "---\n",
      "⎡2  0 ⎤\n",
      "⎢     ⎥\n",
      "⎣0  -2⎦\n",
      "only one critical (x,y)=(-1,0)\n",
      "   |H|=-4<0:  Saddle point here.\n"
     ]
    }
   ],
   "source": [
    "#2. b)\n",
    "x,y,t =symbols(\"x y t\")\n",
    "f=x**2-y**2+2*x+2\n",
    "\n",
    "criticaltype(f)"
   ]
  },
  {
   "cell_type": "code",
   "execution_count": 19,
   "metadata": {},
   "outputs": [
    {
     "name": "stdout",
     "output_type": "stream",
     "text": [
      "Function, x**2 + 2*x - y**2 + 2, subject to -x**2 - y**2 + 1=0\n",
      "---\n",
      "1֯ ). f = x**2 + 2*x - y**2 + 2 = 1 at critical value (x,y)=(-1,0)\n",
      "2֯ ). f = x**2 + 2*x - y**2 + 2 = 1/2 at critical value (x,y)=(-1/2,-sqrt(3)/2)\n",
      "3֯ ). f = x**2 + 2*x - y**2 + 2 = 1/2 at critical value (x,y)=(-1/2,sqrt(3)/2)\n",
      "4֯ ). f = x**2 + 2*x - y**2 + 2 = 5 at critical value (x,y)=(1,0)\n",
      "---\n",
      "\n",
      "Maximum on the boundary is 5\n",
      "Minimum on the boundary is 1/2\n"
     ]
    }
   ],
   "source": [
    "x,y =symbols(\"x y\")\n",
    "f=x**2-y**2+2*x+2\n",
    "cond=1-x**2-y**2\n",
    "lagrangian(f,[x,y],[cond])"
   ]
  },
  {
   "cell_type": "markdown",
   "metadata": {},
   "source": [
    "<big><b>Ans:</b></big><br>\n",
    "**3.** <br>\n",
    "a). If $f (x, y)$ is continuous over $D$,<br>\n",
    "**1.** and $D$=$\\{ (x, y) | a \\leqslant x \\leqslant b, g_1 (x) \\leqslant y\n",
    "    \\leqslant g_2 (x) \\},$\n",
    "    \n",
    "$$ \\mathbf{\\iint\\limits_D f (x, y) d A = \\int_a^b d x\n",
    "       \\int_{g_1 (x)}^{g_{_2 (x)}} f (x, y) d y }$$\n",
    "**2.** and $D$=$\\{ (x, y) | c \\leqslant y \\leqslant d, h_1 (y) \\leqslant x\n",
    "    \\leqslant h_2 (y) \\},$\n",
    "\n",
    "$$ \\mathbf{\\iint\\limits_Df (x, y) d A = \\int_c^d d y\n",
    "       \\int_{h_1 (y)}^{h_{_2 (y)}} f (x, y) d x }$$"
   ]
  },
  {
   "cell_type": "code",
   "execution_count": 35,
   "metadata": {
    "collapsed": true
   },
   "outputs": [],
   "source": [
    "# 3. b)\n",
    "from sympy import symbols,pprint,integrate,pi,sqrt,sin,cos,diff\n",
    "x,y,z=symbols(\"x y z\")\n",
    "\n",
    "W  = '\\033[0m'  # white (normal)\n",
    "K  = '\\033[30m' # black\n",
    "R  = '\\033[31m' # red\n",
    "G  = '\\033[32m' # green\n",
    "O  = '\\033[1;33m' # orange\n",
    "B  = '\\033[34m' # blue\n",
    "P  = '\\033[35m' # purple\n",
    "T =  '\\033[1;33;47m' #Title\n",
    "\n",
    "def doubleInt3(f,X,xr,yr):\n",
    "    Iy=integrate(f,[X[1],yr[0],yr[1]])\n",
    "    I=integrate(Iy,[X[0],xr[0],xr[1]])\n",
    "    #print(\"  %s \\t  %s\" %(xr[1],yr[1]))\n",
    "    yrs=str(yr[1])\n",
    "    xrs=' '+str(xr[1])\n",
    "    print(xrs.ljust(9,' ')+yrs)\n",
    "    print(\"ʃ   d\",R+'{}'.format(X[0]),K+\"ʃ \",B+\"{}\".format(f),K+\" d\",R+\"{}\".format(X[1]),K+\" = \",\"{}\".format(I)) \n",
    "    \n",
    "    yrs0=str(yr[0])\n",
    "    xrs0=str(xr[0])\n",
    "    print(xrs0.ljust(8,' ')+yrs0)\n",
    "    return I"
   ]
  },
  {
   "cell_type": "code",
   "execution_count": 33,
   "metadata": {},
   "outputs": [
    {
     "name": "stdout",
     "output_type": "stream",
     "text": [
      " 3       4\n",
      "ʃ   d \u001b[31mx \u001b[30mʃ  \u001b[34my/x \u001b[30m d \u001b[31my \u001b[30m =  6*log(3)\n",
      "1       2\n"
     ]
    }
   ],
   "source": [
    "I=doubleInt3(y/x,[x,y],[1,3],[2,4])"
   ]
  },
  {
   "cell_type": "code",
   "execution_count": 34,
   "metadata": {},
   "outputs": [
    {
     "name": "stdout",
     "output_type": "stream",
     "text": [
      " 2       2*pi\n",
      "ʃ   d \u001b[31mr \u001b[30mʃ  \u001b[34mr*sqrt(-r**2 + 4) \u001b[30m d \u001b[31mt \u001b[30m =  16*pi/3\n",
      "0       0\n"
     ]
    }
   ],
   "source": [
    "#3. c)\n",
    "r,t=symbols(\"r t\")\n",
    "I=doubleInt3(r*sqrt(4-r**2),[r,t],[0,2],[0,2*pi])"
   ]
  },
  {
   "cell_type": "code",
   "execution_count": 43,
   "metadata": {
    "collapsed": true
   },
   "outputs": [],
   "source": [
    "def tripleInt3(f,X,xr,yr,zr):\n",
    "    Iz=integrate(f,[X[2],zr[0],zr[1]])\n",
    "    Iy=integrate(Iz,[X[1],yr[0],yr[1]])\n",
    "    Ix=integrate(Iy,[X[0],xr[0],xr[1]])\n",
    "    zrs=' '+str(zr[1])\n",
    "    yrs=str(yr[1])\n",
    "    xrs=' '+str(xr[1])\n",
    "    print(xrs.ljust(9,' ')+O+yrs.ljust(7,' ')+B+zrs)\n",
    "    #print(\"  %s \\t  %s  \\t  %s\" %(xr[1],yr[1],zr[1]))\n",
    "    print(\"ʃ   d\",R+'{}'.format(X[0]),\n",
    "        K+\"ʃ   d\",R+'{}'.format(X[1]),\n",
    "        K+\"ʃ \",B+\"{}\".format(f),K+\"  d\",R+\"{}\".format(X[2]),K+\" = \",\"{}\".format(Ix))   \n",
    "    zrs1=' '+str(zr[0])\n",
    "    yrs1=str(yr[0])\n",
    "    xrs1=' '+str(xr[0])\n",
    "    print(xrs1.ljust(8,' ')+O+yrs1.ljust(7,' ')+B+zrs1)\n",
    "    #print(\" %s \\t %s  \\t %s\" %(xr[0],yr[0],zr[0]))\n",
    "    return Ix"
   ]
  },
  {
   "cell_type": "code",
   "execution_count": 44,
   "metadata": {},
   "outputs": [
    {
     "name": "stdout",
     "output_type": "stream",
     "text": [
      " sqrt(2)*sqrt(pi)/2\u001b[1;33my      \u001b[34m 2\n",
      "ʃ   d \u001b[31my \u001b[30mʃ   d \u001b[31mx \u001b[30mʃ  \u001b[34msin(y**2) \u001b[30m  d \u001b[31mz \u001b[30m =  1\n",
      " 0      \u001b[1;33m0      \u001b[34m 0\n"
     ]
    },
    {
     "data": {
      "text/plain": [
       "1"
      ]
     },
     "execution_count": 44,
     "metadata": {},
     "output_type": "execute_result"
    }
   ],
   "source": [
    "#3. d)\n",
    "tripleInt3(sin(y**2),[y,x,z],[0,sqrt(pi/2)],[0,y],[0,2])"
   ]
  },
  {
   "cell_type": "code",
   "execution_count": 45,
   "metadata": {},
   "outputs": [
    {
     "name": "stdout",
     "output_type": "stream",
     "text": [
      " 2       \u001b[1;33m2*pi   \u001b[34m sqrt(-r**2 + 4)\n",
      "ʃ   d \u001b[31mr \u001b[30mʃ   d \u001b[31mt \u001b[30mʃ  \u001b[34mr*z*(r**2*sin(t)**2 + z**2) \u001b[30m  d \u001b[31mz \u001b[30m =  8*pi\n",
      " 0      \u001b[1;33m0      \u001b[34m 0\n"
     ]
    },
    {
     "data": {
      "text/plain": [
       "8*pi"
      ]
     },
     "execution_count": 45,
     "metadata": {},
     "output_type": "execute_result"
    }
   ],
   "source": [
    "#3. e)\n",
    "r,t,z=symbols(\"r t z\")\n",
    "tripleInt3((r**2*sin(t)**2+z**2)*z*r,[r,t,z],[0,2],[0,2*pi],[0,sqrt(4-r**2)])"
   ]
  },
  {
   "cell_type": "markdown",
   "metadata": {
    "collapsed": true
   },
   "source": [
    "  "
   ]
  },
  {
   "cell_type": "markdown",
   "metadata": {
    "collapsed": true
   },
   "source": [
    " "
   ]
  },
  {
   "cell_type": "code",
   "execution_count": 2,
   "metadata": {},
   "outputs": [
    {
     "name": "stdout",
     "output_type": "stream",
     "text": [
      "[NbConvertApp] Converting notebook 2016-2-ie-1.ipynb to html\n",
      "[NbConvertApp] Writing 258306 bytes to 2016-2-ie-1.html\n"
     ]
    }
   ],
   "source": [
    "!jupyter nbconvert --to html 2016-2-ie-1.ipynb"
   ]
  },
  {
   "cell_type": "code",
   "execution_count": null,
   "metadata": {
    "collapsed": true
   },
   "outputs": [],
   "source": []
  }
 ],
 "metadata": {
  "kernelspec": {
   "display_name": "Python 3",
   "language": "python",
   "name": "python3"
  },
  "language_info": {
   "codemirror_mode": {
    "name": "ipython",
    "version": 3
   },
   "file_extension": ".py",
   "mimetype": "text/x-python",
   "name": "python",
   "nbconvert_exporter": "python",
   "pygments_lexer": "ipython3",
   "version": "3.6.0"
  }
 },
 "nbformat": 4,
 "nbformat_minor": 1
}
