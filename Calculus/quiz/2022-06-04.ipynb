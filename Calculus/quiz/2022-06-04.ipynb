{
 "cells": [
  {
   "cell_type": "code",
   "execution_count": 1,
   "metadata": {
    "code_folding": [
     0
    ]
   },
   "outputs": [],
   "source": [
    "# prepare for Latex Output\n",
    "from IPython.display import HTML,Latex\n",
    "\n",
    "# Colored output in Python\n",
    "\n",
    "W  = '\\033[0m'  # white (normal)\n",
    "K  = '\\033[30m' # black\n",
    "R  = '\\033[31m' # red\n",
    "G  = '\\033[32m' # green\n",
    "O  = '\\033[1;33m' # orange\n",
    "B  = '\\033[34m' # blue\n",
    "P  = '\\033[35m' # purple\n",
    "T =  '\\033[1;33;47m' #Title\n",
    "\n",
    "# sympy functions and properties \n",
    "\n",
    "from sympy import symbols,pprint,integrate,diff,latex,simplify,Matrix,Abs,Ei,erf,erfc,E,Ne\n",
    "from sympy import pi,sqrt,sin,cos,log,exp,oo,E,tan,Piecewise,asin,atan\n",
    "\n",
    "\n",
    "from sympy.abc import rho,theta,phi\n",
    "import matplotlib.pyplot as plt \n",
    "#\n",
    "import numpy as np \n",
    "from mpl_toolkits.mplot3d import Axes3D\n",
    "\n",
    "\n",
    "# visualisation by off-line plotly \n",
    "\n",
    "#import plotly.offline as pyo\n",
    "#import plotly.express as ex\n",
    "#import plotly.graph_objects as go\n",
    "\n",
    "#pyo.init_notebook_mode()"
   ]
  },
  {
   "cell_type": "code",
   "execution_count": 14,
   "metadata": {
    "code_folding": []
   },
   "outputs": [],
   "source": [
    "# Variable declared\n",
    "# x,y,z: variable Cartesian Corrdinates\n",
    "# r,Theta: r,𝛉 in Polar Coordinates\n",
    "# Rho,Theta,Phi: 𝛒, 𝛉, 𝛟 in Spherical Coordinates\n",
    "\n",
    "x,y,z,r,t,rho,phi,u,v,a,b,c,m,n,l,p,T,𝝆,θ,𝝋=symbols(\"x y z r 𝜽 𝝆 𝝋 u v a b c m n l p T 𝝆 θ 𝝋\")\n",
    "r,Rho,Phi=symbols(\"r,rho,phi\",positive=True)\n",
    "\n",
    "a,b,c=symbols(\"a,b,c\")"
   ]
  },
  {
   "cell_type": "code",
   "execution_count": 4,
   "metadata": {
    "code_folding": [
     0
    ]
   },
   "outputs": [],
   "source": [
    "def Jacobian_det(XU,U):\n",
    "    \"\"\"\n",
    "    Calculate the Jacobian, 𝛛X/𝛛U\n",
    "    input: XU: original coordinates, X, in form of new coordinates, U,\n",
    "           U: new Coordinates \n",
    "    output: absolute value of determinant of Jacobian       \n",
    "    \"\"\"\n",
    "    \n",
    "    MX=Matrix(XU)\n",
    "    MU=Matrix(U)\n",
    "    S= MX.jacobian(MU )     \n",
    "    return simplify(Abs(S.det()))"
   ]
  },
  {
   "cell_type": "code",
   "execution_count": 1,
   "metadata": {
    "code_folding": [
     0
    ]
   },
   "outputs": [],
   "source": [
    "# Fix error return of MultipleIntegral\n",
    "\n",
    "def MultipleIntegral(f,X,XR):\n",
    "    \"\"\"\n",
    "    input: ∫ dx ∫ dy ∫ f(x,y,z) dz\n",
    "           f: f(x,y,z),\n",
    "           X: (x,y, ...), variable pair\n",
    "           XR: [[x0,x1], [y0,y1],...] \n",
    "    output: details of integral, enhanced by colored text, and value       \n",
    "    \"\"\"\n",
    "    f_latex=latex(eval(str(f)))\n",
    "    \n",
    "    XR0=[]\n",
    "    X_tex=[]\n",
    "    for var in XR:\n",
    "        XR0.append([latex(eval(str(var[0]))),latex(eval(str(var[1])))])\n",
    "    for var in X:\n",
    "        X_tex.append(latex(eval(str(var))))\n",
    "    \n",
    "    dA=\"\"\n",
    "    for var in X_tex:\n",
    "        dA+=\" d %s \" %(var)\n",
    "    if len(X)==2:\n",
    "       intsign=\"\\iint\"\n",
    "    elif(len(X)==3):\n",
    "       intsign=\"\\iiint\" \n",
    "    else:\n",
    "        intsign=\"\\Large{\\int}\"    \n",
    "    \n",
    "    # indefinte I of z\n",
    "    I='I'+str(X[-1])\n",
    "    IX=[integrate(f,X[-1])]\n",
    "    IX_tex=[latex(eval(str(IX[0])))]\n",
    "    int_g='\\left.\\color{brown}{%s} \\\\right|_{%s}^{%s}' %(IX_tex[0],XR0[-1][0],XR0[-1][1])\n",
    "    Integrand_tex_val=[int_g]\n",
    "\n",
    "   \n",
    "    Integrand=[f_latex]\n",
    "    II='II'+str(X[-1])\n",
    "    DIX=[integrate(f,(X[-1],XR[-1][0],XR[-1][1]))]\n",
    "    DIX_tex=[latex(eval(str(DIX[0])))]\n",
    "    n=len(X)\n",
    "    i=0\n",
    "    for var in X[len(X)-2::-1]:\n",
    "        \n",
    "        I='I'+str(var)\n",
    "        while True:\n",
    "            try:\n",
    "                I=integrate(DIX[i],var)\n",
    "                break\n",
    "            except ValueError:\n",
    "                #errortext=\"\\\\begin{eqnarray}\"\n",
    "                errortext=\"$$%s_{\\Large{\\mathbf{V}}} \\color{brown}{%s} %s $$\" %(intsign,f_latex,dA) \n",
    "                #errortext+=\"\\end{eqnarray}\"\n",
    "                errortext+=(\"$\\color{red}{\\\\text{Can't}}$ be integrated Here, Try another way ...\")\n",
    "                return Latex(errortext)\n",
    "        #I=integrate(DIX[i],var)\n",
    "        IX.append(I)\n",
    "        IX_tex.append(latex(eval(str(I))))\n",
    "        Integrand_tex_val.append('\\left. \\color{brown}{%s} \\\\right|_{%s}^{%s}' %(IX_tex[-1],XR0[n-i-2][0],XR0[n-i-2][1]) )\n",
    "        II='II'+str(var)\n",
    "        II=integrate(DIX[i],(var,XR[-i-2][0],XR[-i-2][1]))\n",
    "        DIX.append(II)\n",
    "        DIX_tex.append(latex(eval(str(II))))\n",
    "        i+=1\n",
    "        \n",
    "    for I_f in DIX[:-1]:\n",
    "        Integrand.append(latex(eval(str(I_f))))\n",
    "\n",
    "    text0=\"\\\\begin{eqnarray}\"\n",
    "    text5=\"\\end{eqnarray}\"\n",
    "    \n",
    "    #domain=\"\\large{\\left\\{\"\n",
    "    domain=\"\\left\\{\\large{\\\\begin{array}{l}\"\n",
    "    i=0\n",
    "    for var in X_tex:\n",
    "        domain=domain+\" %s \\le %s \\le %s,\\cr\" %(XR0[i][0],var,XR0[i][1])\n",
    "        i+=1\n",
    "    #domain+=\"\\\\right\\}}\"\n",
    "    domain+=\"\\end{array}}\\\\right\\}\"\n",
    "    \n",
    "        \n",
    "    #dA=\"\"\n",
    "    #for var in X_tex:\n",
    "    #    dA+=\" d %s \" %(var)\n",
    "    \n",
    "    textF=\"%s_{\\Large{\\mathbf{V}}=%s} \\color{brown}{%s} dV&=& %s_{\\Large{\\mathbf{V}}} \\color{brown}{%s} %s \\cr \" %(intsign,domain,f_latex,intsign,f_latex,dA)\n",
    "    fubini=\"\\color{blue}{\\\\text{Fubini's Theorem}}\"\n",
    "    \n",
    "    textfI=\"\"\n",
    "    for i in range(len(X)):\n",
    "        j=0\n",
    "        if (i==0):\n",
    "            eq1=\"%s&=&\" %(fubini)\n",
    "        else:\n",
    "            eq1=\"&=&\"\n",
    "        textfI+=eq1  \n",
    "        for var in X_tex[:len(X)-i-1:]:\n",
    "            textfI+=\"\\int_{%s}^{%s}d{%s}\" %(XR0[j][0],XR0[j][1],var)\n",
    "            j+=1\n",
    "        #print(i,len(Integrand),len(X))  \n",
    "        textfI+=\"\\int_{%s}^{%s} \\color{brown}{%s}d{%s}\\cr \"  %(XR0[-i-1][0],XR0[-i-1][1],Integrand[i],X_tex[-i-1])\n",
    "        \n",
    "        textfI+=\"&=&\"\n",
    "        int_pre=\"\"\n",
    "\n",
    "        for k in range(len(X)-i-2):\n",
    "            int_pre+=\"\\int_{%s}^{%s} d{%s}\" %(XR0[k][0],XR0[k][1],X_tex[k])\n",
    "        if len(X)-i-1>0: \n",
    "            int_ev=\"\\int_{%s}^{%s} %s d{%s}\" %(XR0[-i-2][0],XR0[-i-2][1],Integrand_tex_val[i],X_tex[-i-2])\n",
    "        else:\n",
    "            int_ev=\"%s\" %(Integrand_tex_val[-1])\n",
    "        textfI+=int_pre+int_ev+'\\cr'\n",
    "    textfI+='&=&%s' %(DIX_tex[-1])   \n",
    "\n",
    "    text=text0+textF+textfI+text5\n",
    "\n",
    "    return Latex(text)"
   ]
  },
  {
   "cell_type": "markdown",
   "metadata": {},
   "source": [
    "1. $\\int_0^2 \\int_0^{\\sqrt{2x-x^2}} \\sqrt{x^2 + y^2} dy \\, dx.$\n",
    "2. $\\int_0^1 \\int_0^{\\sqrt{1-x^2}} (x^2 + y^2) dy \\, dx,$\n",
    "3. $\\iint_R (x - y) dy \\, dx,$ where $R$ is of the parallelogram are region bound by $x-y=-1,x-y=1,x-3y=-5, x-3y=-9$\n",
    "4. $\\iint_R \\frac{4}{(x - y)^2} dA,$, where $R$ is trapezoidal bounded by the lines, $x=0,y=0,x-y=2,x-y=4$.\n",
    "5. $\\iint_R (x + y)e^{x^2-y^2} dA$ where $R$ is region bounded by $x+y=1, x+y=3, x^2+y^2=\\pm1$\n",
    "6. $\\displaystyle\\iint_R y \\, \\sin (y^2 - x) \\,dA,$ where $R$ is region bounded by $y=0,x=2,y=\\sqrt x$.\n",
    "7. $\\int_0^3 \\int_0^4 \\int_{y/2}^{(y/2)+1} \\left(x + \\frac{z}{3}\\right) dx \\, dy \\, dz$\n",
    "8. Area bounded by $x^4+y^4=1$\n",
    "9. $\\iiint_V (x^2 y + 3xyz) \\, dx \\, dy \\, dz$ where $V$ is the solid bounded by $1\\le x\\le2,0\\le z\\le1, 0\\le xy\\le1$.\n",
    "10. $\\int_0^{2\\pi} \\int_0^1 \\int_0^1 dz \\, dr \\, d\\theta$\n",
    "11. $\\iint_R (5x^3y^2 - y^2) \\, dA, \\, R = \\{(x,y)|0 \\leq x \\leq 2, \\, 1 \\leq y \\leq 4\\}$\n",
    "12. $\\iint_D \\frac{y}{3x^2 + 1} dA, \\, D = \\{(x,y) |0 \\leq x \\leq 1, \\, -x \\leq y \\leq x\\}$\n",
    "13. $\\iint_D \\sin (x^2 + y^2) dA$ where $D$ is unit circle.\n",
    "14. $\\int_0^1 \\int_0^1 xye^{x^2} dx \\, dy=1/4$\n",
    "15. $\\int_{-1}^1 \\int_0^z \\int_0^{x-z} 6dy \\, dx \\, dz$\n",
    "16. $\\iiint_V 3y \\, dV,$ where $V = \\{(x,y,z) |0 \\leq x \\leq 1, \\, 0 \\leq y \\leq x, \\, 0 \\leq z \\leq \\sqrt{9 - y^2}\\}=1.475$\n",
    "17. $\\int_0^2 \\int_0^{2\\pi} \\int_r^1 r \\, dz \\, d\\theta \\, dr$\n",
    "18. $\\int_0^{2\\pi} \\int_0^{\\pi/2} \\int_1^3 \\rho^2 \\, \\sin(\\varphi) d\\rho \\, d\\varphi, \\, d\\theta=52\\pi/3$\n",
    "19. $\\int_0^1 \\int_{-\\sqrt{1-x^2}}^{\\sqrt{1-x^2}} \\int_{-\\sqrt{1-x^2-y^2}}^{\\sqrt{1-x^2-y^2}} dz \\, dy \\, sx$\n",
    "20. The volume of the solid that lies between the paraboloid $z=2x^2+2y^2$ and $z=8$. \n",
    "21. Volume of solid bounded by $x^2+y^2=16$, $z=1$ and $z+x=2$ 93.291.\n",
    "22. The volume of the intersection between two spheres of radius 1, the top whose center is  (0,0,0.25)\n",
    " and the bottom, which is centered at  (0,0,0).\n",
    "23. solid bounded by $z=\\sqrt(x^2+y^2)$ and $x^2+y^2+z^2=z$.\n",
    "24. \n",
    "\n"
   ]
  },
  {
   "cell_type": "code",
   "execution_count": 11,
   "metadata": {},
   "outputs": [
    {
     "data": {
      "text/latex": [
       "\\begin{eqnarray}\\iint_{\\Large{\\mathbf{V}}=\\left\\{\\large{\\begin{array}{l} 0 \\le θ \\le \\frac{\\pi}{2},\\cr 0 \\le r \\le 2 \\cos{\\left(θ \\right)},\\cr\\end{array}}\\right\\}} \\color{brown}{r^{2}} dV&=& \\iint_{\\Large{\\mathbf{V}}} \\color{brown}{r^{2}}  d θ  d r  \\cr \\color{blue}{\\text{Fubini's Theorem}}&=&\\int_{0}^{\\frac{\\pi}{2}}d{θ}\\int_{0}^{2 \\cos{\\left(θ \\right)}} \\color{brown}{r^{2}}d{r}\\cr &=&\\int_{0}^{\\frac{\\pi}{2}} \\left.\\color{brown}{\\frac{r^{3}}{3}} \\right|_{0}^{2 \\cos{\\left(θ \\right)}} d{θ}\\cr&=&\\int_{0}^{\\frac{\\pi}{2}} \\color{brown}{\\frac{8 \\cos^{3}{\\left(θ \\right)}}{3}}d{θ}\\cr &=&\\left. \\color{brown}{- \\frac{8 \\sin^{3}{\\left(θ \\right)}}{9} + \\frac{8 \\sin{\\left(θ \\right)}}{3}} \\right|_{0}^{\\frac{\\pi}{2}}\\cr&=&1.77777777777778\\end{eqnarray}"
      ],
      "text/plain": [
       "<IPython.core.display.Latex object>"
      ]
     },
     "execution_count": 11,
     "metadata": {},
     "output_type": "execute_result"
    }
   ],
   "source": [
    "#1\n",
    "\n",
    "f=r\n",
    "J=r\n",
    "X=[t,r]\n",
    "XR=[[0,pi/2],[0,2*cos(t)]]\n",
    "\n",
    "MultipleIntegral(f*J,X,XR)"
   ]
  },
  {
   "cell_type": "code",
   "execution_count": 13,
   "metadata": {},
   "outputs": [
    {
     "data": {
      "text/latex": [
       "\\begin{eqnarray}\\iint_{\\Large{\\mathbf{V}}=\\left\\{\\large{\\begin{array}{l} 0 \\le θ \\le \\frac{\\pi}{2},\\cr 0 \\le r \\le 1,\\cr\\end{array}}\\right\\}} \\color{brown}{r^{3}} dV&=& \\iint_{\\Large{\\mathbf{V}}} \\color{brown}{r^{3}}  d θ  d r  \\cr \\color{blue}{\\text{Fubini's Theorem}}&=&\\int_{0}^{\\frac{\\pi}{2}}d{θ}\\int_{0}^{1} \\color{brown}{r^{3}}d{r}\\cr &=&\\int_{0}^{\\frac{\\pi}{2}} \\left.\\color{brown}{\\frac{r^{4}}{4}} \\right|_{0}^{1} d{θ}\\cr&=&\\int_{0}^{\\frac{\\pi}{2}} \\color{brown}{0.25}d{θ}\\cr &=&\\left. \\color{brown}{\\frac{θ}{4}} \\right|_{0}^{\\frac{\\pi}{2}}\\cr&=&\\frac{\\pi}{8}\\end{eqnarray}"
      ],
      "text/plain": [
       "<IPython.core.display.Latex object>"
      ]
     },
     "execution_count": 13,
     "metadata": {},
     "output_type": "execute_result"
    }
   ],
   "source": [
    "#2 \n",
    "\n",
    "f=r*r\n",
    "J=r\n",
    "X=[t,r]\n",
    "XR=[[0,pi/2],[0,1]]\n",
    "\n",
    "MultipleIntegral(f*J,X,XR)"
   ]
  },
  {
   "cell_type": "code",
   "execution_count": 15,
   "metadata": {},
   "outputs": [
    {
     "data": {
      "text/latex": [
       "\\begin{eqnarray}\\iint_{\\Large{\\mathbf{V}}=\\left\\{\\large{\\begin{array}{l} -1 \\le u \\le 1,\\cr -9 \\le v \\le -5,\\cr\\end{array}}\\right\\}} \\color{brown}{0.5 u} dV&=& \\iint_{\\Large{\\mathbf{V}}} \\color{brown}{0.5 u}  d u  d v  \\cr \\color{blue}{\\text{Fubini's Theorem}}&=&\\int_{-1}^{1}d{u}\\int_{-9}^{-5} \\color{brown}{0.5 u}d{v}\\cr &=&\\int_{-1}^{1} \\left.\\color{brown}{0.5 u v} \\right|_{-9}^{-5} d{u}\\cr&=&\\int_{-1}^{1} \\color{brown}{2.0 u}d{u}\\cr &=&\\left. \\color{brown}{1.0 u^{2}} \\right|_{-1}^{1}\\cr&=&0\\end{eqnarray}"
      ],
      "text/plain": [
       "<IPython.core.display.Latex object>"
      ]
     },
     "execution_count": 15,
     "metadata": {},
     "output_type": "execute_result"
    }
   ],
   "source": [
    "#3 U=x-y, V=x-3y, x=(3U-V/2), y=(U-V)/2\n",
    "\n",
    "f=u\n",
    "J=1/2\n",
    "X=[u,v]\n",
    "XR=[[-1,1],[-9,-5]]\n",
    "\n",
    "MultipleIntegral(f*J,X,XR)"
   ]
  },
  {
   "cell_type": "code",
   "execution_count": 17,
   "metadata": {},
   "outputs": [
    {
     "data": {
      "text/latex": [
       "\\begin{eqnarray}\\iint_{\\Large{\\mathbf{V}}=\\left\\{\\large{\\begin{array}{l} 2 \\le v \\le 4,\\cr - v \\le u \\le v,\\cr\\end{array}}\\right\\}} \\color{brown}{\\frac{2.0}{u^{2}}} dV&=& \\iint_{\\Large{\\mathbf{V}}} \\color{brown}{\\frac{2.0}{u^{2}}}  d v  d u  \\cr \\color{blue}{\\text{Fubini's Theorem}}&=&\\int_{2}^{4}d{v}\\int_{- v}^{v} \\color{brown}{\\frac{2.0}{u^{2}}}d{u}\\cr &=&\\int_{2}^{4} \\left.\\color{brown}{- \\frac{2.0}{u}} \\right|_{- v}^{v} d{v}\\cr&=&\\int_{2}^{4} \\color{brown}{- \\frac{4.0}{v}}d{v}\\cr &=&\\left. \\color{brown}{- 4.0 \\log{\\left(v \\right)}} \\right|_{2}^{4}\\cr&=&- 4.0 \\log{\\left(4 \\right)} + 4.0 \\log{\\left(2 \\right)}\\end{eqnarray}"
      ],
      "text/plain": [
       "<IPython.core.display.Latex object>"
      ]
     },
     "execution_count": 17,
     "metadata": {},
     "output_type": "execute_result"
    }
   ],
   "source": [
    "#4 U=x-y, V=x+y, x=(U+V/2), y=(U-V)/2\n",
    "\n",
    "f=4/u**2\n",
    "J=1/2\n",
    "X=[v,u]\n",
    "XR=[[2,4],[-v,v]]\n",
    "\n",
    "MultipleIntegral(f*J,X,XR)"
   ]
  },
  {
   "cell_type": "code",
   "execution_count": 20,
   "metadata": {},
   "outputs": [
    {
     "data": {
      "text/latex": [
       "\\begin{eqnarray}\\iint_{\\Large{\\mathbf{V}}=\\left\\{\\large{\\begin{array}{l} 1 \\le v \\le 3,\\cr - \\frac{1}{v} \\le u \\le \\frac{1}{v},\\cr\\end{array}}\\right\\}} \\color{brown}{0.5 v e^{u v}} dV&=& \\iint_{\\Large{\\mathbf{V}}} \\color{brown}{0.5 v e^{u v}}  d v  d u  \\cr \\color{blue}{\\text{Fubini's Theorem}}&=&\\int_{1}^{3}d{v}\\int_{- \\frac{1}{v}}^{\\frac{1}{v}} \\color{brown}{0.5 v e^{u v}}d{u}\\cr &=&\\int_{1}^{3} \\left.\\color{brown}{0.5 e^{u v}} \\right|_{- \\frac{1}{v}}^{\\frac{1}{v}} d{v}\\cr&=&\\int_{1}^{3} \\color{brown}{- \\frac{0.5}{e} + 0.5 e}d{v}\\cr &=&\\left. \\color{brown}{v \\left(- \\frac{0.5}{e} + 0.5 e\\right)} \\right|_{1}^{3}\\cr&=&- \\frac{1.0}{e} + 1.0 e\\end{eqnarray}"
      ],
      "text/plain": [
       "<IPython.core.display.Latex object>"
      ]
     },
     "execution_count": 20,
     "metadata": {},
     "output_type": "execute_result"
    }
   ],
   "source": [
    "#5 U=x-y, V=x+y, x=(U+V)/2,y=(V-U)/2\n",
    "\n",
    "f=v*exp(u*v)\n",
    "J=1/2\n",
    "X=[v,u]\n",
    "\n",
    "XR=[[1,3],[-1/v,1/v]]\n",
    "MultipleIntegral(f*J,X,XR)"
   ]
  },
  {
   "cell_type": "code",
   "execution_count": 28,
   "metadata": {},
   "outputs": [
    {
     "data": {
      "text/latex": [
       "\\begin{eqnarray}\\iint_{\\Large{\\mathbf{V}}=\\left\\{\\large{\\begin{array}{l} 0 \\le v \\le 2,\\cr - v \\le u \\le 0,\\cr\\end{array}}\\right\\}} \\color{brown}{0.5 \\sin{\\left(u \\right)}} dV&=& \\iint_{\\Large{\\mathbf{V}}} \\color{brown}{0.5 \\sin{\\left(u \\right)}}  d v  d u  \\cr \\color{blue}{\\text{Fubini's Theorem}}&=&\\int_{0}^{2}d{v}\\int_{- v}^{0} \\color{brown}{0.5 \\sin{\\left(u \\right)}}d{u}\\cr &=&\\int_{0}^{2} \\left.\\color{brown}{- 0.5 \\cos{\\left(u \\right)}} \\right|_{- v}^{0} d{v}\\cr&=&\\int_{0}^{2} \\color{brown}{0.5 \\cos{\\left(v \\right)} - 0.5}d{v}\\cr &=&\\left. \\color{brown}{- 0.5 v + 0.5 \\sin{\\left(v \\right)}} \\right|_{0}^{2}\\cr&=&-1.0 + 0.5 \\sin{\\left(2 \\right)}\\end{eqnarray}"
      ],
      "text/plain": [
       "<IPython.core.display.Latex object>"
      ]
     },
     "execution_count": 28,
     "metadata": {},
     "output_type": "execute_result"
    }
   ],
   "source": [
    "#6 U=x^2-x, V=x, x=V,y=sqrt(u+v)\n",
    "\n",
    "f=sqrt(u+v)*sin(u)\n",
    "J=1/2/sqrt(u+v)\n",
    "X=[v,u]\n",
    "\n",
    "XR=[[0,2],[-v,0]]\n",
    "MultipleIntegral(f*J,X,XR)"
   ]
  },
  {
   "cell_type": "code",
   "execution_count": 33,
   "metadata": {},
   "outputs": [
    {
     "data": {
      "text/latex": [
       "\\begin{eqnarray}\\iint_{\\Large{\\mathbf{V}}=\\left\\{\\large{\\begin{array}{l} 0 \\le v \\le 1,\\cr 0 \\le u \\le 1,\\cr\\end{array}}\\right\\}} \\color{brown}{\\frac{1}{16 \\left(u v\\right)^{0.75}}} dV&=& \\iint_{\\Large{\\mathbf{V}}} \\color{brown}{\\frac{1}{16 \\left(u v\\right)^{0.75}}}  d v  d u  \\cr \\color{blue}{\\text{Fubini's Theorem}}&=&\\int_{0}^{1}d{v}\\int_{0}^{1} \\color{brown}{\\frac{1}{16 \\left(u v\\right)^{0.75}}}d{u}\\cr &=&\\int_{0}^{1} \\left.\\color{brown}{\\frac{0.25 \\left(u v\\right)^{0.25}}{v}} \\right|_{0}^{1} d{v}\\cr&=&\\int_{0}^{1} \\color{brown}{\\frac{0.25}{v^{0.75}}}d{v}\\cr &=&\\left. \\color{brown}{1.0 v^{0.25}} \\right|_{0}^{1}\\cr&=&1.0\\end{eqnarray}"
      ],
      "text/plain": [
       "<IPython.core.display.Latex object>"
      ]
     },
     "execution_count": 33,
     "metadata": {},
     "output_type": "execute_result"
    }
   ],
   "source": [
    "#7 U=x^4, V=y^4, x=U^(1/4),y=V**(1/4)\n",
    "\n",
    "f=1\n",
    "J=(u*v)**(-3/4)/16\n",
    "X=[v,u]\n",
    "\n",
    "XR=[[0,1],[0,1]]\n",
    "MultipleIntegral(f*J,X,XR)"
   ]
  },
  {
   "cell_type": "code",
   "execution_count": 30,
   "metadata": {},
   "outputs": [
    {
     "data": {
      "text/latex": [
       "\\begin{eqnarray}\\iiint_{\\Large{\\mathbf{V}}=\\left\\{\\large{\\begin{array}{l} 0 \\le z \\le 3,\\cr 0 \\le y \\le 4,\\cr \\frac{y}{2} \\le x \\le \\frac{y}{2} + 1,\\cr\\end{array}}\\right\\}} \\color{brown}{x + \\frac{z}{3}} dV&=& \\iiint_{\\Large{\\mathbf{V}}} \\color{brown}{x + \\frac{z}{3}}  d z  d y  d x  \\cr \\color{blue}{\\text{Fubini's Theorem}}&=&\\int_{0}^{3}d{z}\\int_{0}^{4}d{y}\\int_{\\frac{y}{2}}^{\\frac{y}{2} + 1} \\color{brown}{x + \\frac{z}{3}}d{x}\\cr &=&\\int_{0}^{3} d{z}\\int_{0}^{4} \\left.\\color{brown}{\\frac{x^{2}}{2} + \\frac{x z}{3}} \\right|_{\\frac{y}{2}}^{\\frac{y}{2} + 1} d{y}\\cr&=&\\int_{0}^{3}d{z}\\int_{0}^{4} \\color{brown}{- \\frac{y^{2}}{8} - \\frac{y z}{6} + \\frac{z \\left(\\frac{y}{2} + 1\\right)}{3} + \\frac{\\left(\\frac{y}{2} + 1\\right)^{2}}{2}}d{y}\\cr &=&\\int_{0}^{3} \\left. \\color{brown}{\\frac{y^{2}}{4} + y \\left(\\frac{z}{3} + 0.5\\right)} \\right|_{0}^{4} d{z}\\cr&=&\\int_{0}^{3} \\color{brown}{\\frac{4 z}{3} + 6}d{z}\\cr &=&\\left. \\color{brown}{\\frac{2 z^{2}}{3} + 6 z} \\right|_{0}^{3}\\cr&=&24\\end{eqnarray}"
      ],
      "text/plain": [
       "<IPython.core.display.Latex object>"
      ]
     },
     "execution_count": 30,
     "metadata": {},
     "output_type": "execute_result"
    }
   ],
   "source": [
    "# 8 \n",
    "f=(x+z/3)\n",
    "X=[z,y,x]\n",
    "XR=[[0,3],[0,4],[y/2,1+y/2]]\n",
    "MultipleIntegral(f,X,XR)"
   ]
  },
  {
   "cell_type": "code",
   "execution_count": null,
   "metadata": {},
   "outputs": [],
   "source": [
    "\n"
   ]
  },
  {
   "cell_type": "code",
   "execution_count": 30,
   "metadata": {},
   "outputs": [
    {
     "data": {
      "text/latex": [
       "\\begin{eqnarray}\\iiint_{\\Large{\\mathbf{V}}=\\left\\{\\large{\\begin{array}{l} 0 \\le z \\le 3,\\cr 0 \\le y \\le 4,\\cr \\frac{y}{2} \\le x \\le \\frac{y}{2} + 1,\\cr\\end{array}}\\right\\}} \\color{brown}{x + \\frac{z}{3}} dV&=& \\iiint_{\\Large{\\mathbf{V}}} \\color{brown}{x + \\frac{z}{3}}  d z  d y  d x  \\cr \\color{blue}{\\text{Fubini's Theorem}}&=&\\int_{0}^{3}d{z}\\int_{0}^{4}d{y}\\int_{\\frac{y}{2}}^{\\frac{y}{2} + 1} \\color{brown}{x + \\frac{z}{3}}d{x}\\cr &=&\\int_{0}^{3} d{z}\\int_{0}^{4} \\left.\\color{brown}{\\frac{x^{2}}{2} + \\frac{x z}{3}} \\right|_{\\frac{y}{2}}^{\\frac{y}{2} + 1} d{y}\\cr&=&\\int_{0}^{3}d{z}\\int_{0}^{4} \\color{brown}{- \\frac{y^{2}}{8} - \\frac{y z}{6} + \\frac{z \\left(\\frac{y}{2} + 1\\right)}{3} + \\frac{\\left(\\frac{y}{2} + 1\\right)^{2}}{2}}d{y}\\cr &=&\\int_{0}^{3} \\left. \\color{brown}{\\frac{y^{2}}{4} + y \\left(\\frac{z}{3} + 0.5\\right)} \\right|_{0}^{4} d{z}\\cr&=&\\int_{0}^{3} \\color{brown}{\\frac{4 z}{3} + 6}d{z}\\cr &=&\\left. \\color{brown}{\\frac{2 z^{2}}{3} + 6 z} \\right|_{0}^{3}\\cr&=&24\\end{eqnarray}"
      ],
      "text/plain": [
       "<IPython.core.display.Latex object>"
      ]
     },
     "execution_count": 30,
     "metadata": {},
     "output_type": "execute_result"
    }
   ],
   "source": [
    "# 7 \n",
    "f=(x+z/3)\n",
    "X=[z,y,x]\n",
    "XR=[[0,3],[0,4],[y/2,1+y/2]]\n",
    "MultipleIntegral(f,X,XR)"
   ]
  },
  {
   "cell_type": "code",
   "execution_count": 30,
   "metadata": {},
   "outputs": [
    {
     "data": {
      "text/latex": [
       "\\begin{eqnarray}\\iiint_{\\Large{\\mathbf{V}}=\\left\\{\\large{\\begin{array}{l} 0 \\le z \\le 3,\\cr 0 \\le y \\le 4,\\cr \\frac{y}{2} \\le x \\le \\frac{y}{2} + 1,\\cr\\end{array}}\\right\\}} \\color{brown}{x + \\frac{z}{3}} dV&=& \\iiint_{\\Large{\\mathbf{V}}} \\color{brown}{x + \\frac{z}{3}}  d z  d y  d x  \\cr \\color{blue}{\\text{Fubini's Theorem}}&=&\\int_{0}^{3}d{z}\\int_{0}^{4}d{y}\\int_{\\frac{y}{2}}^{\\frac{y}{2} + 1} \\color{brown}{x + \\frac{z}{3}}d{x}\\cr &=&\\int_{0}^{3} d{z}\\int_{0}^{4} \\left.\\color{brown}{\\frac{x^{2}}{2} + \\frac{x z}{3}} \\right|_{\\frac{y}{2}}^{\\frac{y}{2} + 1} d{y}\\cr&=&\\int_{0}^{3}d{z}\\int_{0}^{4} \\color{brown}{- \\frac{y^{2}}{8} - \\frac{y z}{6} + \\frac{z \\left(\\frac{y}{2} + 1\\right)}{3} + \\frac{\\left(\\frac{y}{2} + 1\\right)^{2}}{2}}d{y}\\cr &=&\\int_{0}^{3} \\left. \\color{brown}{\\frac{y^{2}}{4} + y \\left(\\frac{z}{3} + 0.5\\right)} \\right|_{0}^{4} d{z}\\cr&=&\\int_{0}^{3} \\color{brown}{\\frac{4 z}{3} + 6}d{z}\\cr &=&\\left. \\color{brown}{\\frac{2 z^{2}}{3} + 6 z} \\right|_{0}^{3}\\cr&=&24\\end{eqnarray}"
      ],
      "text/plain": [
       "<IPython.core.display.Latex object>"
      ]
     },
     "execution_count": 30,
     "metadata": {},
     "output_type": "execute_result"
    }
   ],
   "source": [
    "# 7 \n",
    "f=(x+z/3)\n",
    "X=[z,y,x]\n",
    "XR=[[0,3],[0,4],[y/2,1+y/2]]\n",
    "MultipleIntegral(f,X,XR)"
   ]
  },
  {
   "cell_type": "code",
   "execution_count": 32,
   "metadata": {},
   "outputs": [
    {
     "data": {
      "text/latex": [
       "\\begin{eqnarray}\\iiint_{\\Large{\\mathbf{V}}=\\left\\{\\large{\\begin{array}{l} 0 \\le z \\le 1,\\cr 1 \\le x \\le 2,\\cr 0 \\le y \\le \\frac{2}{x},\\cr\\end{array}}\\right\\}} \\color{brown}{x^{2} y + 3 x y z} dV&=& \\iiint_{\\Large{\\mathbf{V}}} \\color{brown}{x^{2} y + 3 x y z}  d z  d x  d y  \\cr \\color{blue}{\\text{Fubini's Theorem}}&=&\\int_{0}^{1}d{z}\\int_{1}^{2}d{x}\\int_{0}^{\\frac{2}{x}} \\color{brown}{x^{2} y + 3 x y z}d{y}\\cr &=&\\int_{0}^{1} d{z}\\int_{1}^{2} \\left.\\color{brown}{y^{2} \\left(\\frac{x^{2}}{2} + \\frac{3 x z}{2}\\right)} \\right|_{0}^{\\frac{2}{x}} d{x}\\cr&=&\\int_{0}^{1}d{z}\\int_{1}^{2} \\color{brown}{\\frac{2 x^{2} + 6 x z}{x^{2}}}d{x}\\cr &=&\\int_{0}^{1} \\left. \\color{brown}{2 x + 6 z \\log{\\left(x \\right)}} \\right|_{1}^{2} d{z}\\cr&=&\\int_{0}^{1} \\color{brown}{6 z \\log{\\left(2 \\right)} + 2}d{z}\\cr &=&\\left. \\color{brown}{3 z^{2} \\log{\\left(2 \\right)} + 2 z} \\right|_{0}^{1}\\cr&=&2 + 3 \\log{\\left(2 \\right)}\\end{eqnarray}"
      ],
      "text/plain": [
       "<IPython.core.display.Latex object>"
      ]
     },
     "execution_count": 32,
     "metadata": {},
     "output_type": "execute_result"
    }
   ],
   "source": [
    "# 9\n",
    "f=x**2*y+3*x*y*z\n",
    "X=[z,x,y]\n",
    "XR=[[0,1],[1,2],[0,2/x]]\n",
    "MultipleIntegral(f,X,XR)"
   ]
  },
  {
   "cell_type": "code",
   "execution_count": 7,
   "metadata": {},
   "outputs": [
    {
     "data": {
      "text/latex": [
       "\\begin{eqnarray}\\iiint_{\\Large{\\mathbf{V}}=\\left\\{\\large{\\begin{array}{l} 0 \\le r \\le \\sqrt{2},\\cr 0 \\le \\theta \\le 2 \\pi,\\cr 0 \\le z \\le r^{2},\\cr\\end{array}}\\right\\}} \\color{brown}{r} dV&=& \\iiint_{\\Large{\\mathbf{V}}} \\color{brown}{r}  d r  d \\theta  d z  \\cr \\color{blue}{\\text{Fubini's Theorem}}&=&\\int_{0}^{\\sqrt{2}}d{r}\\int_{0}^{2 \\pi}d{\\theta}\\int_{0}^{r^{2}} \\color{brown}{r}d{z}\\cr &=&\\int_{0}^{\\sqrt{2}} d{r}\\int_{0}^{2 \\pi} \\left.\\color{brown}{r z} \\right|_{0}^{r^{2}} d{\\theta}\\cr&=&\\int_{0}^{\\sqrt{2}}d{r}\\int_{0}^{2 \\pi} \\color{brown}{r^{3}}d{\\theta}\\cr &=&\\int_{0}^{\\sqrt{2}} \\left. \\color{brown}{r^{3} \\theta} \\right|_{0}^{2 \\pi} d{r}\\cr&=&\\int_{0}^{\\sqrt{2}} \\color{brown}{2 \\pi r^{3}}d{r}\\cr &=&\\left. \\color{brown}{\\frac{\\pi r^{4}}{2}} \\right|_{0}^{\\sqrt{2}}\\cr&=&2 \\pi\\end{eqnarray}"
      ],
      "text/plain": [
       "<IPython.core.display.Latex object>"
      ]
     },
     "execution_count": 7,
     "metadata": {},
     "output_type": "execute_result"
    }
   ],
   "source": [
    "f=r\n",
    "X=[r,Theta,z]\n",
    "XR=[[0,sqrt(2)],[0,2*pi],[0,r**2,sqrt(6-r**2)]]\n",
    "\n",
    "MultipleIntegral(f,X,XR)"
   ]
  },
  {
   "cell_type": "code",
   "execution_count": 5,
   "metadata": {},
   "outputs": [
    {
     "data": {
      "text/latex": [
       "\\begin{eqnarray}\\iiint_{\\Large{\\mathbf{V}}=\\left\\{\\large{\\begin{array}{l} 0 \\le \\theta \\le 2 \\pi,\\cr 0 \\le \\phi \\le \\pi,\\cr 0 \\le \\rho \\le 1,\\cr\\end{array}}\\right\\}} \\color{brown}{16 \\rho^{2} \\sin{\\left(\\phi \\right)}} dV&=& \\iiint_{\\Large{\\mathbf{V}}} \\color{brown}{16 \\rho^{2} \\sin{\\left(\\phi \\right)}}  d \\theta  d \\phi  d \\rho  \\cr \\color{blue}{\\text{Fubini's Theorem}}&=&\\int_{0}^{2 \\pi}d{\\theta}\\int_{0}^{\\pi}d{\\phi}\\int_{0}^{1} \\color{brown}{16 \\rho^{2} \\sin{\\left(\\phi \\right)}}d{\\rho}\\cr &=&\\int_{0}^{2 \\pi} d{\\theta}\\int_{0}^{\\pi} \\left.\\color{brown}{\\frac{16 \\rho^{3} \\sin{\\left(\\phi \\right)}}{3}} \\right|_{0}^{1} d{\\phi}\\cr&=&\\int_{0}^{2 \\pi}d{\\theta}\\int_{0}^{\\pi} \\color{brown}{\\frac{16 \\sin{\\left(\\phi \\right)}}{3}}d{\\phi}\\cr &=&\\int_{0}^{2 \\pi} \\left. \\color{brown}{- \\frac{16 \\cos{\\left(\\phi \\right)}}{3}} \\right|_{0}^{\\pi} d{\\theta}\\cr&=&\\int_{0}^{2 \\pi} \\color{brown}{10.6666666666667}d{\\theta}\\cr &=&\\left. \\color{brown}{\\frac{32 \\theta}{3}} \\right|_{0}^{2 \\pi}\\cr&=&\\frac{64 \\pi}{3}\\end{eqnarray}"
      ],
      "text/plain": [
       "<IPython.core.display.Latex object>"
      ]
     },
     "execution_count": 5,
     "metadata": {},
     "output_type": "execute_result"
    }
   ],
   "source": [
    "f=Rho**2*sin(Phi)*2*2*4\n",
    "X=[Theta,Phi,Rho]\n",
    "XR=[[0,2*pi],[0,pi],[0,1]]\n",
    "\n",
    "MultipleIntegral(f,X,XR)"
   ]
  },
  {
   "cell_type": "code",
   "execution_count": null,
   "metadata": {},
   "outputs": [],
   "source": []
  }
 ],
 "metadata": {
  "hide_input": false,
  "kernelspec": {
   "display_name": "Python 3",
   "language": "python",
   "name": "python3"
  },
  "language_info": {
   "codemirror_mode": {
    "name": "ipython",
    "version": 3
   },
   "file_extension": ".py",
   "mimetype": "text/x-python",
   "name": "python",
   "nbconvert_exporter": "python",
   "pygments_lexer": "ipython3",
   "version": "3.8.5"
  }
 },
 "nbformat": 4,
 "nbformat_minor": 4
}
