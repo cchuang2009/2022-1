{
 "cells": [
  {
   "cell_type": "markdown",
   "metadata": {},
   "source": [
    " <font style=\"font-size:2em\"><div align=\"center\"><b> Calculus</b></div></font>\n",
    "\n",
    " <font style=\"font-size:1.6em\"><b>7.3 Integral and Comparison tests pp.745-748<b></font>  \n",
    " "
   ]
  },
  {
   "cell_type": "markdown",
   "metadata": {},
   "source": [
    "<big><big>\n",
    "<big><b>8$^\\circ$).</b></big>\n",
    "Take $f(x)=\\frac{1}{x\\ln x}$. Since\n",
    "    $$\\int_2^\\infty f(x)dx=\\left.\\ln\\ln x\\right|^\\infty_2=\\infty$$\n",
    "it is divergent by integral test.    \n",
    "</big> </big>"
   ]
  },
  {
   "cell_type": "markdown",
   "metadata": {},
   "source": [
    "<big><big>\n",
    "<big><b>10$^\\circ$).</b></big>\n",
    "Take $f(x)=\\frac{1}{(x+9)^{1/3}}$. Since\n",
    "    $$\\int_1^\\infty f(x)dx=\\left.\\frac{3}{2}(x+9)^{2/3}\\right|^\\infty_1=\\infty$$\n",
    "it is divergent by integral test.    \n",
    "</big> </big>"
   ]
  },
  {
   "cell_type": "markdown",
   "metadata": {},
   "source": [
    "<big><big>\n",
    "<big><b>18$^\\circ$).</b></big>\n",
    "As usual, take $f(x)=\\left(\\frac{\\sin x}{x}\\right)^2$, then $a_n=f(n)$; but we can't integrate $f(x)$ directly. We can't determine its convergence by integral test. However, \n",
    "$$|f(x)|\\le\\frac{1}{x^2}$$\n",
    "the latter is convergent  by $p$-series test, $p=2$ and by comparison test.    \n",
    "</big> </big>"
   ]
  },
  {
   "cell_type": "markdown",
   "metadata": {},
   "source": [
    "<big><big>\n",
    "<big><b>33$^\\circ$).</b></big>\n",
    "Consider $f(x)=\\frac{1}{x (\\ln x)^p}$, then $a_n=f(n)$;  \n",
    "1. for $p>1$:\n",
    "    $$\\left.\\int_2^\\infty f(x)dx =\\frac{1}{(1-p)(\\ln x)^{p-1}}\\right|^\\infty_2<\\infty$$\n",
    "- for $0<p<1$:\n",
    "    $$\\left.\\int_2^\\infty f(x)dx =\\frac{(\\ln x)^{1-p}}{(1-p)}\\right|^\\infty_2=\\infty$$\n",
    "- $p=1$:\n",
    "   $$\\left.\\int_2^\\infty f(x)dx =\\ln\\ln x\\right|^\\infty_2=\\infty$$ \n",
    "convergent for $1<p$, but diverhgent for $0<p\\le1$, by integral test. Furthermore, $p=0$ divergent since it is harmonic series, and divergent for $p<0$ by $n$-term test.  \n",
    "</big> </big>"
   ]
  },
  {
   "cell_type": "markdown",
   "metadata": {},
   "source": [
    "<big><big>\n",
    "<big><b>36$^\\circ$).</b></big>\n",
    "Consider $f(x)=\\frac{1}{x \\ln x(\\ln\\ln x)^p}$, then $a_n=f(n)$;  \n",
    "1. for $p>1$:\n",
    "    $$\\left.\\int_3^\\infty f(x)dx =\\frac{1}{(1-p)(\\ln \\ln x)^{p-1}}\\right|^\\infty_3<\\infty$$\n",
    "- for $0<p<1$:\n",
    "    $$\\left.\\int_3^\\infty f(x)dx =\\frac{(\\ln \\ln x)^{1-p}}{(1-p)}\\right|^\\infty_3=\\infty$$\n",
    "- $p=1$:\n",
    "   $$\\left.\\int_3^\\infty f(x)dx =\\ln\\ln x\\right|^\\infty_3=\\infty$$ \n",
    "convergent for $1<p$, but diverhgent for $0<p\\le1$, by integral test.  \n",
    "</big> </big>"
   ]
  },
  {
   "cell_type": "markdown",
   "metadata": {},
   "source": [
    "<big><big>\n",
    "<big><b>72$^\\circ$).</b></big>\n",
    "Divergent since\n",
    "$$\\frac{\\sin(1/n)}{(1/n)}\\to 1\\ne0$$\n",
    "and \n",
    "$$\\sum_{n=1}^\\infty\\frac{1}{n}$$    \n",
    "is divergent  by integral test and $\\sum\\limits_{n=1}^\\infty\\sin \\left(\\frac{1}{n}\\right)$ is also divergent by limit comparison test.    \n",
    "</big> </big>"
   ]
  },
  {
   "cell_type": "markdown",
   "metadata": {},
   "source": [
    "<big><big>\n",
    "<big><b>82$^\\circ$).</b></big>\n",
    "Take another infinite series $\\sum\\limits_{n=1}^\\infty\\frac{1}{n}$. Since\n",
    "    $$\\frac{\\frac{3n^2+1}{4n^3+2}}{\\frac{1}{n}}\\to 3/4$$\n",
    "it is divergent by limit comparison test and integral test.    \n",
    "</big> </big>"
   ]
  },
  {
   "cell_type": "code",
   "execution_count": null,
   "metadata": {},
   "outputs": [],
   "source": []
  }
 ],
 "metadata": {
  "kernelspec": {
   "display_name": "Python 3",
   "language": "python",
   "name": "python3"
  },
  "language_info": {
   "codemirror_mode": {
    "name": "ipython",
    "version": 3
   },
   "file_extension": ".py",
   "mimetype": "text/x-python",
   "name": "python",
   "nbconvert_exporter": "python",
   "pygments_lexer": "ipython3",
   "version": "3.6.9"
  },
  "toc": {
   "colors": {
    "hover_highlight": "#DAA520",
    "navigate_num": "#000000",
    "navigate_text": "#333333",
    "running_highlight": "#FF0000",
    "selected_highlight": "#FFD700",
    "sidebar_border": "#EEEEEE",
    "wrapper_background": "#FFFFFF"
   },
   "moveMenuLeft": true,
   "nav_menu": {
    "height": "102px",
    "width": "252px"
   },
   "navigate_menu": true,
   "number_sections": true,
   "sideBar": true,
   "threshold": 4,
   "toc_cell": false,
   "toc_section_display": "block",
   "toc_window_display": false,
   "widenNotebook": false
  },
  "widgets": {
   "state": {},
   "version": "2.0.10"
  }
 },
 "nbformat": 4,
 "nbformat_minor": 1
}
