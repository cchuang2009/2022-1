{
 "cells": [
  {
   "cell_type": "markdown",
   "metadata": {},
   "source": [
    "<big><big><b><div align=\"center\">Calculus, 2022-2-IM-3</div></b></big></big>\n",
    "\n",
    "<h3><div align=\"left\">Name:&nbsp;&nbsp;&nbsp;&nbsp;&nbsp;&nbsp;&nbsp;&nbsp;&nbsp;&nbsp;&nbsp;&nbsp;&nbsp;&nbsp;&nbsp;&nbsp;&nbsp;&nbsp;&nbsp;&nbsp;&nbsp;&nbsp;&nbsp;&nbsp;  Sequence Number:&nbsp;&nbsp;&nbsp;&nbsp;&nbsp;&nbsp;&nbsp;&nbsp;&nbsp;&nbsp;&nbsp;&nbsp;&nbsp;&nbsp;&nbsp;&nbsp;&nbsp;&nbsp;&nbsp;&nbsp;&nbsp;&nbsp;&nbsp;&nbsp;</div></h3>"
   ]
  },
  {
   "cell_type": "markdown",
   "metadata": {
    "collapsed": true
   },
   "source": [
    "<big>\n",
    "<big><b>1$^\\circ$). True or False (total 40%, each 10%)</b>\n",
    "\n",
    "<b>A$^\\circ$). $(\\quad)$</b>  Suppose that a continuous function, $f(x,y)$ has a maximal directional derivative at $(x_0,y_0)$ in the direction $\\vec u$; the the minimal directional derivative of $f(x.y)$ at $(x_0,y_0)$ is in the direction $-\\vec u$.<br>\n",
    "<b>B$^\\circ$). $(\\quad)$</b>  Suppose that $f(x,y)$ attains both maximum and minimum in $D\\subset\\mathbb{R}^2$. Then $D$ is closed and bounded.<br>\n",
    "<b>C$^\\circ$). $(\\quad)$</b>  Suppose that $f(x,y)$ is defined in bounded and closed set, $D\\subset\\mathbb{R}^2$.Then $f(x,y)$ attains both maximum and minimum.<br>\n",
    "<b>D$^\\circ$). $(\\quad)$</b>  If $f(x,y)$ is not differentiable in $(x_0,y_0)$, then at least one of  the first-order partial derivative of $f(x,y)$ fails to exist at $(x_0,y_0)$.<br>\n",
    "\n",
    "\n",
    "   \n",
    "</big></big> "
   ]
  },
  {
   "cell_type": "markdown",
   "metadata": {},
   "source": [
    "<big>\n",
    "<big><b>2$^\\circ$).  (total 20% , each 10%)</b> \n",
    "    \n",
    "<b>Suppose that $f (x, y) = x^3 + 4 x^2 y^3 + y^2$.</b>\n",
    "    \n",
    "<b>A$^\\circ$).</b> Find the gradient of $f$, $\\nabla f(x,y)$, at $(x,y)=(-1,0)$.<br>\n",
    "    <b>B$^\\circ$).</b> (continued) Find the maximum of the directional derivative of $f(x,y)$ at $(x,y)=(-1,0)$.<br> \n",
    "    \n",
    "</big></big>"
   ]
  },
  {
   "cell_type": "markdown",
   "metadata": {
    "collapsed": true
   },
   "source": [
    "<big>\n",
    "<big>\n",
    "<b>3$^\\circ$).</b> \n",
    "(Total 30%) Suppose that $f(x,y) = xy^2$,\n",
    "    Find both maximum and minimum of $f(x,y)$ below:<br>\n",
    "    <b>A$^\\circ$).</b> (10%) Domain of $f(x,y)$ is $\\mathbb{R}^2$.<br>\n",
    "    <b>B$^\\circ$).</b> (10%) with constraint, $x^2+y^2=1$.<br>    \n",
    "    <b>C$^\\circ$).</b> (10%) with constraints, $|x|,|y|\\le1$.<br> \n",
    "  \n",
    "</big></big> "
   ]
  },
  {
   "cell_type": "markdown",
   "metadata": {},
   "source": [
    "<big>\n",
    "<big><b>4$^\\circ$).</b>  \n",
    "(Total 10%, each 5%) What are the following expressions or operations named:<br>\n",
    "a$^\\circ$). $\\nabla f(\\mathbf{x})$<br>     \n",
    "b$^\\circ$). $\\left|\\left(\\frac{\\partial^2 f(x,y)}{\\partial(x,y)}\\right)\\right|$<br>  \n",
    "</big> </big>"
   ]
  },
  {
   "cell_type": "markdown",
   "metadata": {
    "collapsed": true
   },
   "source": [
    " "
   ]
  },
  {
   "cell_type": "markdown",
   "metadata": {
    "collapsed": true
   },
   "source": [
    " "
   ]
  },
  {
   "cell_type": "markdown",
   "metadata": {
    "collapsed": true
   },
   "source": [
    " "
   ]
  },
  {
   "cell_type": "markdown",
   "metadata": {
    "collapsed": true
   },
   "source": [
    " "
   ]
  },
  {
   "cell_type": "markdown",
   "metadata": {
    "collapsed": true
   },
   "source": [
    " "
   ]
  },
  {
   "cell_type": "markdown",
   "metadata": {
    "collapsed": true
   },
   "source": [
    " "
   ]
  },
  {
   "cell_type": "markdown",
   "metadata": {
    "collapsed": true
   },
   "source": [
    " "
   ]
  },
  {
   "cell_type": "markdown",
   "metadata": {
    "collapsed": true
   },
   "source": [
    " "
   ]
  },
  {
   "cell_type": "markdown",
   "metadata": {
    "collapsed": true
   },
   "source": [
    " "
   ]
  },
  {
   "cell_type": "markdown",
   "metadata": {
    "collapsed": true
   },
   "source": [
    " "
   ]
  },
  {
   "cell_type": "markdown",
   "metadata": {
    "collapsed": true
   },
   "source": [
    " "
   ]
  },
  {
   "cell_type": "markdown",
   "metadata": {
    "collapsed": true
   },
   "source": [
    " "
   ]
  },
  {
   "cell_type": "markdown",
   "metadata": {
    "collapsed": true
   },
   "source": [
    " "
   ]
  },
  {
   "cell_type": "markdown",
   "metadata": {
    "collapsed": true
   },
   "source": [
    " "
   ]
  },
  {
   "cell_type": "markdown",
   "metadata": {
    "collapsed": true
   },
   "source": [
    " "
   ]
  },
  {
   "cell_type": "markdown",
   "metadata": {
    "collapsed": true
   },
   "source": [
    " "
   ]
  },
  {
   "cell_type": "markdown",
   "metadata": {
    "collapsed": true
   },
   "source": [
    " "
   ]
  },
  {
   "cell_type": "markdown",
   "metadata": {
    "collapsed": true
   },
   "source": [
    " "
   ]
  },
  {
   "cell_type": "markdown",
   "metadata": {
    "collapsed": true
   },
   "source": [
    " "
   ]
  },
  {
   "cell_type": "markdown",
   "metadata": {
    "collapsed": true
   },
   "source": [
    " "
   ]
  },
  {
   "cell_type": "markdown",
   "metadata": {
    "collapsed": true
   },
   "source": [
    " "
   ]
  },
  {
   "cell_type": "markdown",
   "metadata": {
    "collapsed": true
   },
   "source": [
    " "
   ]
  },
  {
   "cell_type": "markdown",
   "metadata": {
    "collapsed": true
   },
   "source": [
    " "
   ]
  },
  {
   "cell_type": "markdown",
   "metadata": {
    "collapsed": true
   },
   "source": [
    " "
   ]
  },
  {
   "cell_type": "markdown",
   "metadata": {
    "collapsed": true
   },
   "source": [
    " "
   ]
  },
  {
   "cell_type": "markdown",
   "metadata": {
    "collapsed": true
   },
   "source": [
    " "
   ]
  },
  {
   "cell_type": "markdown",
   "metadata": {
    "collapsed": true
   },
   "source": [
    " "
   ]
  },
  {
   "cell_type": "markdown",
   "metadata": {
    "collapsed": true
   },
   "source": [
    " "
   ]
  },
  {
   "cell_type": "markdown",
   "metadata": {
    "collapsed": true
   },
   "source": [
    " "
   ]
  },
  {
   "cell_type": "markdown",
   "metadata": {
    "collapsed": true
   },
   "source": [
    "  "
   ]
  },
  {
   "cell_type": "markdown",
   "metadata": {
    "collapsed": true
   },
   "source": [
    " "
   ]
  },
  {
   "cell_type": "markdown",
   "metadata": {
    "collapsed": true
   },
   "source": [
    "**Answer**\n",
    "\n",
    "1. o, x, x, x.\n",
    "2. A) $(3,0)$ B) 3\n",
    "3. A) Neither Max nor min exists, B) max:$2\\sqrt3/9$, min $-2\\sqrt3/9$, C) max:1, min:$-1$\n",
    "4. A) Gradient of $f$, B) Determinant of Hessian Matrix.\n",
    "   \n"
   ]
  },
  {
   "cell_type": "code",
   "execution_count": null,
   "metadata": {},
   "outputs": [],
   "source": []
  }
 ],
 "metadata": {
  "hide_input": false,
  "kernelspec": {
   "display_name": "Python 3",
   "language": "python",
   "name": "python3"
  },
  "language_info": {
   "codemirror_mode": {
    "name": "ipython",
    "version": 3
   },
   "file_extension": ".py",
   "mimetype": "text/x-python",
   "name": "python",
   "nbconvert_exporter": "python",
   "pygments_lexer": "ipython3",
   "version": "3.8.5"
  },
  "toc": {
   "colors": {
    "hover_highlight": "#DAA520",
    "navigate_num": "#000000",
    "navigate_text": "#333333",
    "running_highlight": "#FF0000",
    "selected_highlight": "#FFD700",
    "sidebar_border": "#EEEEEE",
    "wrapper_background": "#FFFFFF"
   },
   "moveMenuLeft": true,
   "nav_menu": {
    "height": "49px",
    "width": "252px"
   },
   "navigate_menu": true,
   "number_sections": true,
   "sideBar": true,
   "threshold": 4,
   "toc_cell": false,
   "toc_section_display": "block",
   "toc_window_display": false,
   "widenNotebook": false
  }
 },
 "nbformat": 4,
 "nbformat_minor": 1
}
