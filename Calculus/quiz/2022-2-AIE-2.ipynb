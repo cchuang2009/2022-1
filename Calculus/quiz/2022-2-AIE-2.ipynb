{
 "cells": [
  {
   "cell_type": "markdown",
   "metadata": {},
   "source": [
    "<big><big><b><div align=\"center\">Calculus, 2022-2-AIE-2, Differentiation of Multiple-Variable Functions</div></b></big></big>\n",
    "<div align=\"left\">Name:&nbsp;&nbsp;&nbsp;&nbsp;&nbsp;&nbsp;&nbsp;&nbsp;&nbsp;&nbsp;&nbsp;&nbsp;&nbsp;&nbsp;&nbsp;&nbsp;&nbsp;  Sequence Number:&nbsp;&nbsp;&nbsp;&nbsp;&nbsp;&nbsp;&nbsp;&nbsp;&nbsp;&nbsp;&nbsp;&nbsp;&nbsp;&nbsp;&nbsp;&nbsp;&nbsp;&nbsp;&nbsp;&nbsp;&nbsp;&nbsp;&nbsp;&nbsp;</div>"
   ]
  },
  {
   "cell_type": "markdown",
   "metadata": {
    "collapsed": true,
    "jupyter": {
     "outputs_hidden": true
    }
   },
   "source": [
    "<big>\n",
    "<big><b>1$^\\circ$). (Total 5% , each 2.5%) </b> \n",
    " Consider the function  $f(x,y) = \\frac{x+y}{ x - y}$. Find the maximal domain of $f(x,y)$ and its range respectively. <br>\n",
    "</big> \n",
    "</big>    "
   ]
  },
  {
   "cell_type": "markdown",
   "metadata": {
    "collapsed": true,
    "jupyter": {
     "outputs_hidden": true
    }
   },
   "source": [
    "<big>\n",
    "<big><b>2$^\\circ$). (total 10% , each 5%)</b> \n",
    "Calulate the limits of the folowing functions at given point if exist:<br>\n",
    "a$^\\circ$). $$ \\lim_{(x, y) \\rightarrow (0, 0)} \\frac{x  y}{x^2 + 2y^2} $$ \n",
    "b$^\\circ$). $$ \\lim_{(x, y) \\rightarrow (0, 0)} \\frac{x^3 + y^3}{x^2 + y^2} $$\n",
    "</big>  \n",
    "</big>    "
   ]
  },
  {
   "cell_type": "markdown",
   "metadata": {},
   "source": [
    "<big>\n",
    "<big><b>3$^\\circ$). (total 10% , each 5%)</b> <br>\n",
    "Suppose that $f (x, y,z) = x^3 + 4 x^2 y^3 + y^2+xyz$.<br>\n",
    "a$^\\circ$). Find the gradient of $f$, $\\nabla f(x,y,z)$, at $(x,y,z)=(-1,0,1)$.<br>\n",
    "b$^\\circ$). (continued) Find the maximum of the directional derivative of $f(x,y,z)$ at $(x,y,z)=(-1,0,1)$.<br> \n",
    "</big> \n",
    "</big>   "
   ]
  },
  {
   "cell_type": "markdown",
   "metadata": {
    "collapsed": true,
    "jupyter": {
     "outputs_hidden": true
    }
   },
   "source": [
    "<big>\n",
    "<big><b>4$^\\circ$). (total 10% , each 2.5%)</b> <br>\n",
    "Suppose that $x^3-xy+y^3=z^3$<br>\n",
    "a$^\\circ$). Find $$\\frac{\\partial z}{\\partial (x,y)}=\\left(\\frac{\\partial z}{\\partial x},\\frac{\\partial z}{\\partial y}\\right)$$\n",
    "at  $(-1,0,-1)$.<br>\n",
    "b$^\\circ$). Find the directional derivative  at $(x,y,z)=(-1,0,-1)$ on the graph and in the direction $\\mathbf u=(1,0,0)$.<br>\n",
    "c$^\\circ$). Find the directional derivative  at $(x,y,z)=(-1,0,-1)$ on the graph and in the direction from $(-1,0,-1)$ to $(0,1,1)$.<br>\n",
    "d$^\\circ$). Find the maximal directional derivative at $(x,y,z)=(1,-1,1)$ on the graph.    \n",
    "</big> \n",
    "</big>    "
   ]
  },
  {
   "cell_type": "markdown",
   "metadata": {
    "collapsed": true,
    "jupyter": {
     "outputs_hidden": true
    }
   },
   "source": [
    "<big>\n",
    "<big><b>5$^\\circ$). (total 10%, each 2.5%)</b> <br>\n",
    "    \n",
    "Suppose that \n",
    "$$\n",
    " f(x,y)=\\left|\\begin{matrix}\n",
    "  \\frac{x^3y-y^3x}{x^2+y^2}& \\text{ for }(x,y)\\ne(0,0)\\\\\n",
    "  0 & \\text{ for }(x,y)=(0,0)\\\\\n",
    "\\end{matrix}\\right.\n",
    "$$\n",
    "a$^\\circ$). Evaluate the limit of $f(x,y)$ at $(0,0)$. <br>\n",
    "b$^\\circ$). Calculate $\\frac{\\partial f}{\\partial y}$ for $(x,y)\\neq(0,0)$.<br> \n",
    "c$^\\circ$.) Calculate $\\mathbf{\\frac{\\partial^2 f}{\\partial x\\partial y}(0,0),\\frac{\\partial^2 f}{\\partial y\\partial x}(0,0)}$ if exist. (5%, each 2.5%)<br>\n",
    "</big> \n",
    "</big>    "
   ]
  },
  {
   "cell_type": "markdown",
   "metadata": {
    "collapsed": true,
    "jupyter": {
     "outputs_hidden": true
    }
   },
   "source": [
    "<big>\n",
    "<big><b>6$^\\circ$). (total 10%)</b> <br>\n",
    "Suppose that $w (x, y, z)  =  xy^2+yz^3+xyz$. (5%)<br>\n",
    "a$^\\circ$.) Calculate the gradient of $w$, i.e. $\\nabla w = \\frac{\\partial w}{\\partial(x,y,z)}$.<br>\n",
    "b$^\\circ$.) Suppose that $(x, y, z)  =  (r \\cos\\theta , r \\sin \\theta, r \\theta)$.\n",
    "Find $\\frac{\\partial w}{\\partial(r,\\theta)}$ at $(r,\\theta)=(1,\\frac{\\pi}{2})$. (2.5%)<br>\n",
    "c$^\\circ$.) Suppose that $(x,y,z)=(\\sin(t),\\cos(t),e^t)$. Calculate\n",
    "$\\frac{d w}{dt}(0)$. (2.5%)\n",
    "</big> \n",
    "</big>    "
   ]
  },
  {
   "cell_type": "markdown",
   "metadata": {
    "collapsed": true,
    "jupyter": {
     "outputs_hidden": true
    }
   },
   "source": [
    "<big>\n",
    "<big><b>7$^\\circ$). (total 15%, each 5%)</b> <br>\n",
    "a$^\\circ$). Suppose that $f(x,y)=xy$, Find the tangent plane at $(1,2,2)$.<br>\n",
    "b$^\\circ$). Suppose that $PVT=1$. Find the tangent plane at $(1,2,1/2)$. <br>\n",
    "c$^\\circ$). Find the curve, (straight line in $\\mathbb{R}^3)$, which is intersection of tangent planes of  $z=f(x,y)=xy$ and $xyz=4$ at $(x,y,z)=(1,2,2)$.<br>\n",
    "\n",
    "</big> \n",
    "</big>    "
   ]
  },
  {
   "cell_type": "markdown",
   "metadata": {
    "collapsed": true,
    "jupyter": {
     "outputs_hidden": true
    }
   },
   "source": [
    "<big>\n",
    "<big><b>8$^\\circ$).</b> \n",
    "(Total 30%) Suppose that $f(x,y,z) = xy^2z$,\n",
    "    Find both maximum and minimum of $f(x,y,z)$ below:<br>\n",
    "a$^\\circ$). (10%) Domain of $f(x,y,z)$ is $\\mathbb{R}^3$.<br>\n",
    "b$^\\circ$). (10%) with constraint, $x^2+y^2+z^2=1$.<br>    \n",
    "c$^\\circ$). (10%) with constraints, $x^2+z^2=1, x+y+z=3$.<br> \n",
    "\n",
    "          \n",
    "</big> </big>"
   ]
  },
  {
   "cell_type": "markdown",
   "metadata": {},
   "source": [
    "<big>\n",
    "<big><b>Additional</b> \n",
    "(Total 10%, each 2.5%) What are the following expressions or operations named:<br>\n",
    "a$^\\circ$). $\\nabla f(\\mathbf{x})$<br>     \n",
    "b$^\\circ$). $\\frac{\\partial(x,y)}{\\partial(u,v)}$<br>\n",
    "c$^\\circ$). $\\left|\\left(\\frac{\\partial^2 f(x^1,x^2,\\cdots,x^n)}{\\partial(x^i,x^j)}\\right)\\right|$<br>\n",
    "d$^\\circ$). $\\mathbf f \\times \\mathbf g$<br>   \n",
    "</big> </big>"
   ]
  },
  {
   "cell_type": "code",
   "execution_count": null,
   "metadata": {},
   "outputs": [],
   "source": []
  },
  {
   "cell_type": "code",
   "execution_count": null,
   "metadata": {},
   "outputs": [],
   "source": []
  },
  {
   "cell_type": "code",
   "execution_count": null,
   "metadata": {},
   "outputs": [],
   "source": []
  },
  {
   "cell_type": "markdown",
   "metadata": {},
   "source": [
    "Sol\n",
    "---\n",
    "\n",
    "1. a) Domain=$\\{(x, y) \\in \\mathbb{R}^2 |  x - y \\neq 0\\}$ (2.5%) and Range=$\\mathbb{R}$ (2.5%).\n",
    "2. a) Fail to exist (2.5%) b) 0 (2.5%)\n",
    "3. a) $(3,-1,0)$ (5%) b)  $\\sqrt{10}$ (5%)\n",
    "4. a) $[1,1/3]$ (2.5%) b)  3 (2.5%) c) $-\\frac{2}{\\sqrt6}$ (2.5%) d) $\\sqrt{19}$   (2.5%)\n",
    "5. a) 0 b) $\\frac{x^5-4x^3y^2-y^4x}{(x^2+y^2)^2}$ c) $1$ (2.5%) -1 (2.5%)\n",
    "6. a) $(y^2+yz,2xy+z^3+xz,3yz^2+xy)$ (5%), b) ($\\pi^3/2,-1-\\pi/2+3\\pi^2/2)$,(2.5%) c) $3$.(2.5%) <br>\n",
    "7. a) $z=2(x-1)+(y-2)+2$, (5%) b) $P-1+(V-2)/2+2(T-1/2)=0$. (5%) c) $x=1+4t,y=2,z=2-4t, t\\in\\mathbb{R}$ (5%)<br> \n",
    "8. a) Neither max, nor min exists <br>\n",
    "   b) max: $1/8$, min: $-1/8$<br>\n",
    "   c) Max: $\\frac{(\\sqrt2 + 3)^2}{2}$,<br>\n",
    "      Min: $(\\sqrt{17}/4 + 9/4)^2(-\\sqrt{17}/8 + 3/8 + \\sqrt(6 + 6\\sqrt{17})/8)(-\\sqrt{6} \\sqrt(1 + \\sqrt{17})/8 - \\sqrt{17}/8 + 3/8)$<br>\n",
    "   \n",
    "\n",
    "Additional a) gradient of $f$ b) Jacobian c) determinant of Hessian matrix d) curl of $f$ and $ g$. (each 2.5%)"
   ]
  },
  {
   "cell_type": "markdown",
   "metadata": {},
   "source": []
  },
  {
   "cell_type": "raw",
   "metadata": {},
   "source": []
  },
  {
   "cell_type": "markdown",
   "metadata": {},
   "source": []
  },
  {
   "cell_type": "markdown",
   "metadata": {},
   "source": []
  },
  {
   "cell_type": "markdown",
   "metadata": {},
   "source": []
  },
  {
   "cell_type": "code",
   "execution_count": 1,
   "metadata": {},
   "outputs": [
    {
     "name": "stdout",
     "output_type": "stream",
     "text": [
      "⎡   2        3      2  2      ⎤\n",
      "⎣3⋅x  + 8⋅x⋅y , 12⋅x ⋅y  + 2⋅y⎦\n"
     ]
    }
   ],
   "source": [
    "from sympy import symbols, diff,pprint,sqrt\n",
    "x,y=symbols('x y')\n",
    "f=x**3+4*x*x*y**3+y*y\n",
    "\n",
    "grad = lambda func, vars :[diff(func,var) for var in vars]\n",
    "\n",
    "df=grad(f,[x,y])\n",
    "pprint(df)"
   ]
  },
  {
   "cell_type": "code",
   "execution_count": 6,
   "metadata": {},
   "outputs": [
    {
     "data": {
      "text/plain": [
       "[3, 0]"
      ]
     },
     "execution_count": 6,
     "metadata": {},
     "output_type": "execute_result"
    }
   ],
   "source": [
    "def df_val(f,val):\n",
    "    return [ff.subs({x:val[0],y:val[1]}) for ff in f]\n",
    "df_val(df,[-1,0])"
   ]
  },
  {
   "cell_type": "code",
   "execution_count": null,
   "metadata": {},
   "outputs": [],
   "source": []
  },
  {
   "cell_type": "code",
   "execution_count": null,
   "metadata": {},
   "outputs": [],
   "source": []
  },
  {
   "cell_type": "code",
   "execution_count": 1,
   "metadata": {},
   "outputs": [],
   "source": [
    "from sympy import hessian,symbols,solve,diff,pprint\n",
    "\n",
    "from termcolor import colored"
   ]
  },
  {
   "cell_type": "code",
   "execution_count": 2,
   "metadata": {},
   "outputs": [],
   "source": [
    "x,y,z=symbols(\"x y z\",real=True)\n",
    "grad = lambda func, vars :[diff(func,var) for var in vars]"
   ]
  },
  {
   "cell_type": "code",
   "execution_count": 3,
   "metadata": {},
   "outputs": [],
   "source": [
    "def lagrangian(func,X,conditions):\n",
    "    \"\"\"\n",
    "    Inputs:\n",
    "      func: functions of 2/3 variable\n",
    "      X: list of variables, [x,y] or [x,y,z]\n",
    "      conditions: list of condictions, [cond1,cond2,...]\n",
    "    Output, but print out the result:\n",
    "      1. check whether critical point(s) exists acording to the constraint(s); \n",
    "      2. more than one solutions: print out minimum and maximum\n",
    "    \"\"\"\n",
    "    l,m=symbols(\"lambda mu\")\n",
    "    if len(X)==2 and len(conditions)==1:\n",
    "       [x,y]=X \n",
    "       L=func+l*conditions[0]\n",
    "       cpts=solve([diff(L,x),diff(L,y),conditions[0]],[x,y,l])\n",
    "       #print(\"Function, %s, subject to %s=0\\n===\" %(func,conditions[0]))\n",
    "       prob=colored('Function, {},'.format(func),'blue',attrs=['bold']) \n",
    "       subj=colored(' subject to {} =0: \\n'.format(conditions[0]),'red',attrs=['bold']) \n",
    "       sep= \"===\"\n",
    "       print(prob,subj,sep)\n",
    "    elif  len(X)==3 and len(conditions)==1: \n",
    "       [x,y,z]=X \n",
    "       L=func+l*conditions[0]\n",
    "       cpts=solve([diff(L,x),diff(L,y),diff(L,z),conditions[0]],[x,y,z,l]) \n",
    "       prob=colored('Function, {},'.format(func),'blue',attrs=['bold']) \n",
    "       subj=colored(' subject to {} =0: \\n'.format(conditions[0]),'red',attrs=['bold']) \n",
    "       sep= \"===\"\n",
    "       print(prob,subj,sep) \n",
    "    else:\n",
    "       [x,y,z]=X \n",
    "       L=func+l*conditions[0]+m* conditions[1]\n",
    "       cpts=solve([diff(L,x),diff(L,y),diff(L,z),conditions[0],conditions[1]],[x,y,z,l,m]) \n",
    "       print(\"Function, %s, subject to %s=0 and %s=0\\n===\" %(func,conditions[0],conditions[1]))\n",
    "    i=1\n",
    "    vals=[]\n",
    "    \n",
    "    if type(cpts)!=dict: \n",
    "       for cpt in cpts: \n",
    "           if len(X)==2:\n",
    "              funcVal=func.subs({x:cpt[0],y:cpt[1]})\n",
    "              print(\"  %d֯ ). f = %s = %s at critical value (x,y)=(%s,%s)\" %(i,func,funcVal,cpt[0],cpt[1]))\n",
    "           else:\n",
    "              funcVal=func.subs({x:cpt[0],y:cpt[1],z:cpt[2]})\n",
    "              print(\"  %d֯ ). f = %s = %s at critical value (x,y,z)=(%s,%s,%s)\" %(i,func, funcVal,cpt[0],cpt[1],cpt[2]))\n",
    "           vals.append(funcVal)\n",
    "           i+=1\n",
    "       print(\"  ---\\n\")  \n",
    "       if (len(set(vals))>1):\n",
    "          print(\"  Maximum on the boundary is %s\" %max(vals))\n",
    "          print(\"  Minimum on the boundary is %s\" %min(vals)) \n",
    "       elif (len(set(vals))==1):\n",
    "          print(\" Not sure whether the value, %s, is maximum, or minimum, or nothing else!\" %max(vals))\n",
    "       else:\n",
    "          print(\"Neither maximum nor minimum exists!\")\n",
    "    else:\n",
    "       dictlist=[]\n",
    "       for key, value in cpts.items():\n",
    "           temp = [key,value]\n",
    "           dictlist.append(temp)\n",
    "       cpts=dictlist \n",
    "       if len(X)==2:\n",
    "          funcVal=func.subs({x:cpts[0][1],y:cpts[1][1]}) \n",
    "          print(\"  Only one critical found, (x,y)=(%s,%s)\" %(cpts[0][1],cpts[1][1]))\n",
    "       else:\n",
    "          funcVal=func.subs({x:cpts[0][1],y:cpts[1][1],z:cpts[2][1]})\n",
    "          print(\"  f= %s = %s\\n\" %(func,funcVal))  \n",
    "          print(\"  Only one critical found, (x,y,z)=(%s,%s,%s)\" %(cpts[0][1],cpts[1][1],cpts[2][1]))\n",
    "       print(\"  ---\\n\")  \n",
    "       print(colored(\"  it could  be extremum.\", 'red') )\n",
    "          "
   ]
  },
  {
   "cell_type": "code",
   "execution_count": 6,
   "metadata": {},
   "outputs": [
    {
     "name": "stdout",
     "output_type": "stream",
     "text": [
      "\u001b[1m\u001b[34mFunction, x + y + z,\u001b[0m \u001b[1m\u001b[31m subject to -x**2 - y**2 - z**2 + 6 =0: \n",
      "\u001b[0m ===\n",
      "  1֯ ). f = x + y + z = -3*sqrt(2) at critical value (x,y,z)=(-sqrt(2),-sqrt(2),-sqrt(2))\n",
      "  2֯ ). f = x + y + z = 3*sqrt(2) at critical value (x,y,z)=(sqrt(2),sqrt(2),sqrt(2))\n",
      "  ---\n",
      "\n",
      "  Maximum on the boundary is 3*sqrt(2)\n",
      "  Minimum on the boundary is -3*sqrt(2)\n"
     ]
    }
   ],
   "source": [
    "g=x**2+y**2+z**2\n",
    "f=x+y+z\n",
    "cond1=6-g\n",
    "lagrangian(f,[x,y,z],[cond1])"
   ]
  },
  {
   "cell_type": "code",
   "execution_count": 7,
   "metadata": {},
   "outputs": [
    {
     "name": "stdout",
     "output_type": "stream",
     "text": [
      "\u001b[1m\u001b[34mFunction, x**2 + y**2 + z**2,\u001b[0m \u001b[1m\u001b[31m subject to -x - y - z + 12 =0: \n",
      "\u001b[0m ===\n",
      "  f= x**2 + y**2 + z**2 = 48\n",
      "\n",
      "  Only one critical found, (x,y,z)=(4,4,4)\n",
      "  ---\n",
      "\n",
      "\u001b[31m  it could  be extremum.\u001b[0m\n"
     ]
    }
   ],
   "source": [
    "cond2=12-f\n",
    "lagrangian(g,[x,y,z],[cond2])"
   ]
  },
  {
   "cell_type": "code",
   "execution_count": 6,
   "metadata": {},
   "outputs": [
    {
     "name": "stdout",
     "output_type": "stream",
     "text": [
      "\u001b[1m\u001b[34mFunction, x*y**2*z,\u001b[0m \u001b[1m\u001b[31m subject to -x**2 - y**2 - z**2 + 1 =0: \n",
      "\u001b[0m ===\n",
      "  1֯ ). f = x*y**2*z = 0 at critical value (x,y,z)=(-1,0,0)\n",
      "  2֯ ). f = x*y**2*z = 1/8 at critical value (x,y,z)=(-1/2,-sqrt(2)/2,-1/2)\n",
      "  3֯ ). f = x*y**2*z = -1/8 at critical value (x,y,z)=(-1/2,-sqrt(2)/2,1/2)\n",
      "  4֯ ). f = x*y**2*z = 1/8 at critical value (x,y,z)=(-1/2,sqrt(2)/2,-1/2)\n",
      "  5֯ ). f = x*y**2*z = -1/8 at critical value (x,y,z)=(-1/2,sqrt(2)/2,1/2)\n",
      "  6֯ ). f = x*y**2*z = 0 at critical value (x,y,z)=(0,-1,0)\n",
      "  7֯ ). f = x*y**2*z = 0 at critical value (x,y,z)=(0,1,0)\n",
      "  8֯ ). f = x*y**2*z = 0 at critical value (x,y,z)=(-sqrt(1 - z**2),0,z)\n",
      "  ---\n",
      "\n",
      "  Maximum on the boundary is 1/8\n",
      "  Minimum on the boundary is -1/8\n"
     ]
    }
   ],
   "source": [
    "f=x*y**2*z\n",
    "cond1=1-x**2-y**2-z**2\n",
    "lagrangian(f,[x,y,z],[cond1])"
   ]
  },
  {
   "cell_type": "code",
   "execution_count": 7,
   "metadata": {},
   "outputs": [
    {
     "name": "stdout",
     "output_type": "stream",
     "text": [
      "Function, x*y**2*z, subject to -x**2 - z**2 + 1=0 and -x - y - z + 3=0\n",
      "===\n",
      "  1֯ ). f = x*y**2*z = (sqrt(2) + 3)**2/2 at critical value (x,y,z)=(-sqrt(2)/2,sqrt(2) + 3,-sqrt(2)/2)\n",
      "  2֯ ). f = x*y**2*z = (3 - sqrt(2))**2/2 at critical value (x,y,z)=(sqrt(2)/2,3 - sqrt(2),sqrt(2)/2)\n",
      "  3֯ ). f = x*y**2*z = (sqrt(17)/4 + 9/4)**2*(-sqrt(17)/8 + 3/8 + sqrt(6 + 6*sqrt(17))/8)*(-sqrt(6)*sqrt(1 + sqrt(17))/8 - sqrt(17)/8 + 3/8) at critical value (x,y,z)=(-sqrt(17)/8 + 3/8 + sqrt(6 + 6*sqrt(17))/8,sqrt(17)/4 + 9/4,-sqrt(6)*sqrt(1 + sqrt(17))/8 - sqrt(17)/8 + 3/8)\n",
      "  4֯ ). f = x*y**2*z = (sqrt(17)/4 + 9/4)**2*(-sqrt(17)/8 + 3/8 + sqrt(6)*sqrt(1 + sqrt(17))/8)*(-sqrt(6 + 6*sqrt(17))/8 - sqrt(17)/8 + 3/8) at critical value (x,y,z)=(-sqrt(6 + 6*sqrt(17))/8 - sqrt(17)/8 + 3/8,sqrt(17)/4 + 9/4,-sqrt(17)/8 + 3/8 + sqrt(6)*sqrt(1 + sqrt(17))/8)\n",
      "  ---\n",
      "\n",
      "  Maximum on the boundary is (sqrt(2) + 3)**2/2\n",
      "  Minimum on the boundary is (sqrt(17)/4 + 9/4)**2*(-sqrt(17)/8 + 3/8 + sqrt(6 + 6*sqrt(17))/8)*(-sqrt(6)*sqrt(1 + sqrt(17))/8 - sqrt(17)/8 + 3/8)\n"
     ]
    }
   ],
   "source": [
    "f=x*y**2*z\n",
    "cond1=1-x**2-z**2\n",
    "cond2= 3-x-y-z\n",
    "lagrangian(f,[x,y,z],[cond1,cond2])"
   ]
  },
  {
   "cell_type": "markdown",
   "metadata": {},
   "source": [
    "$$\\left(\\frac{\\sqrt{17}}{4} + \\frac{9}{4}\\right)^2\\left(\\frac{3}{8}-\\frac{\\sqrt{17}}{8}+\\frac{\\sqrt{6 + 6\\sqrt{17}}}{8}\\right)\\left(\\frac{3}{8}-\\frac{\\sqrt{17}}{8}-\\frac{\\sqrt{6+6\\sqrt{17}}}{8}\\right)$$"
   ]
  },
  {
   "cell_type": "code",
   "execution_count": 8,
   "metadata": {},
   "outputs": [],
   "source": [
    "f=x*y**2*z"
   ]
  },
  {
   "cell_type": "code",
   "execution_count": 10,
   "metadata": {},
   "outputs": [
    {
     "data": {
      "text/plain": [
       "[y**2*z, 2*x*y*z, x*y**2]"
      ]
     },
     "execution_count": 10,
     "metadata": {},
     "output_type": "execute_result"
    }
   ],
   "source": [
    "grad(f,[x,y,z])"
   ]
  },
  {
   "cell_type": "code",
   "execution_count": null,
   "metadata": {},
   "outputs": [],
   "source": []
  }
 ],
 "metadata": {
  "hide_input": false,
  "kernelspec": {
   "display_name": "Python 3",
   "language": "python",
   "name": "python3"
  },
  "language_info": {
   "codemirror_mode": {
    "name": "ipython",
    "version": 3
   },
   "file_extension": ".py",
   "mimetype": "text/x-python",
   "name": "python",
   "nbconvert_exporter": "python",
   "pygments_lexer": "ipython3",
   "version": "3.8.5"
  },
  "toc": {
   "colors": {
    "hover_highlight": "#DAA520",
    "navigate_num": "#000000",
    "navigate_text": "#333333",
    "running_highlight": "#FF0000",
    "selected_highlight": "#FFD700",
    "sidebar_border": "#EEEEEE",
    "wrapper_background": "#FFFFFF"
   },
   "moveMenuLeft": true,
   "nav_menu": {
    "height": "49px",
    "width": "252px"
   },
   "navigate_menu": true,
   "number_sections": true,
   "sideBar": true,
   "threshold": 4,
   "toc_cell": false,
   "toc_section_display": "block",
   "toc_window_display": false,
   "widenNotebook": false
  }
 },
 "nbformat": 4,
 "nbformat_minor": 4
}
