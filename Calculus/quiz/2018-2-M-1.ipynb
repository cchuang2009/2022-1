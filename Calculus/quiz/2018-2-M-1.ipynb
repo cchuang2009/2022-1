{
 "cells": [
  {
   "cell_type": "markdown",
   "metadata": {},
   "source": [
    "<big><big><b><div align=\"center\">Calculus, 2018-2-M-1</div></b></big></big>\n",
    "\n",
    "<h3><div align=\"right\">Name:&nbsp;&nbsp;&nbsp;&nbsp;&nbsp;&nbsp;&nbsp;&nbsp;&nbsp;&nbsp;&nbsp;&nbsp;&nbsp;&nbsp;&nbsp;&nbsp;&nbsp;  Sequence Number:&nbsp;&nbsp;&nbsp;&nbsp;&nbsp;&nbsp;&nbsp;&nbsp;&nbsp;&nbsp;&nbsp;&nbsp;&nbsp;&nbsp;&nbsp;&nbsp;&nbsp;&nbsp;&nbsp;&nbsp;&nbsp;&nbsp;&nbsp;&nbsp;</div></h3>"
   ]
  },
  {
   "cell_type": "markdown",
   "metadata": {
    "collapsed": true
   },
   "source": [
    "<big>\n",
    "<big><b>1$^\\circ$). </b> \n",
    "Determine whether the following sequence is convergent or divergent? Why? (total 40%) <br>\n",
    "\n",
    "a). $ \\frac{1}{3}+\\frac{1}{4}+\\frac{1}{5}+\\frac{1}{6}\\cdots$,\n",
    "b). $\\sum\\limits_{n = 1}^{\\infty}\\left(\\frac{n+1}{n^2}\\right)$, <br>\n",
    "c). $ \\frac{1}{3}-\\frac{1}{4}+\\frac{1}{5}-\\frac{1}{6}\\cdots$,\n",
    "d). $\\sum\\limits_{n = 1}^{\\infty}\\frac{2^n+3^n}{4^n}$ \n",
    "\n",
    "</big> "
   ]
  },
  {
   "cell_type": "markdown",
   "metadata": {
    "collapsed": true
   },
   "source": [
    " "
   ]
  },
  {
   "cell_type": "markdown",
   "metadata": {
    "collapsed": true
   },
   "source": [
    " "
   ]
  },
  {
   "cell_type": "markdown",
   "metadata": {
    "collapsed": true
   },
   "source": [
    " "
   ]
  },
  {
   "cell_type": "markdown",
   "metadata": {
    "collapsed": true
   },
   "source": [
    " "
   ]
  },
  {
   "cell_type": "markdown",
   "metadata": {
    "collapsed": true
   },
   "source": [
    " "
   ]
  },
  {
   "cell_type": "markdown",
   "metadata": {
    "collapsed": true
   },
   "source": [
    " "
   ]
  },
  {
   "cell_type": "markdown",
   "metadata": {
    "collapsed": true
   },
   "source": [
    " "
   ]
  },
  {
   "cell_type": "markdown",
   "metadata": {
    "collapsed": true
   },
   "source": [
    " "
   ]
  },
  {
   "cell_type": "markdown",
   "metadata": {
    "collapsed": true
   },
   "source": [
    " "
   ]
  },
  {
   "cell_type": "markdown",
   "metadata": {
    "collapsed": true
   },
   "source": [
    " "
   ]
  },
  {
   "cell_type": "markdown",
   "metadata": {
    "collapsed": true
   },
   "source": [
    " "
   ]
  },
  {
   "cell_type": "markdown",
   "metadata": {
    "collapsed": true
   },
   "source": [
    " "
   ]
  },
  {
   "cell_type": "markdown",
   "metadata": {
    "collapsed": true
   },
   "source": [
    "<big>\n",
    "<big><b>2$^\\circ$).</b> \n",
    "\n",
    "Find the Taylor series of $f(x)$ below and its convergent interval respectively\n",
    "(20%):\n",
    "\n",
    "a). $f(x)=\\frac{x}{x-1} \\text{ at }x=2$,\n",
    "b). $g(x)=e^{x}$ at $x=1$.\n",
    "</big> "
   ]
  },
  {
   "cell_type": "markdown",
   "metadata": {},
   "source": [
    "<big><b>Hint:</b></big><br>\n",
    "\\begin{eqnarray}\n",
    "   \\color{black}{ \\text{a). }\\frac{x}{x-1} =1+\\frac{1}{1+(x-2)}},\n",
    "   \\text{ b). }e^{x}=e^{1}\\cdot e^{(x-1)}\n",
    "\\end{eqnarray}"
   ]
  },
  {
   "cell_type": "markdown",
   "metadata": {
    "collapsed": true
   },
   "source": [
    " "
   ]
  },
  {
   "cell_type": "markdown",
   "metadata": {
    "collapsed": true
   },
   "source": [
    " "
   ]
  },
  {
   "cell_type": "markdown",
   "metadata": {
    "collapsed": true
   },
   "source": [
    " "
   ]
  },
  {
   "cell_type": "markdown",
   "metadata": {
    "collapsed": true
   },
   "source": [
    " "
   ]
  },
  {
   "cell_type": "markdown",
   "metadata": {
    "collapsed": true
   },
   "source": [
    " "
   ]
  },
  {
   "cell_type": "markdown",
   "metadata": {
    "collapsed": true
   },
   "source": [
    " "
   ]
  },
  {
   "cell_type": "markdown",
   "metadata": {
    "collapsed": true
   },
   "source": [
    " "
   ]
  },
  {
   "cell_type": "markdown",
   "metadata": {
    "collapsed": true
   },
   "source": [
    " "
   ]
  },
  {
   "cell_type": "markdown",
   "metadata": {
    "collapsed": true
   },
   "source": [
    " "
   ]
  },
  {
   "cell_type": "markdown",
   "metadata": {
    "collapsed": true
   },
   "source": [
    " "
   ]
  },
  {
   "cell_type": "markdown",
   "metadata": {
    "collapsed": true
   },
   "source": [
    " "
   ]
  },
  {
   "cell_type": "markdown",
   "metadata": {
    "collapsed": true
   },
   "source": [
    " "
   ]
  },
  {
   "cell_type": "markdown",
   "metadata": {
    "collapsed": true
   },
   "source": [
    " "
   ]
  },
  {
   "cell_type": "markdown",
   "metadata": {
    "collapsed": true
   },
   "source": [
    " "
   ]
  },
  {
   "cell_type": "markdown",
   "metadata": {
    "collapsed": true
   },
   "source": [
    " "
   ]
  },
  {
   "cell_type": "markdown",
   "metadata": {
    "collapsed": true
   },
   "source": [
    " "
   ]
  },
  {
   "cell_type": "markdown",
   "metadata": {
    "collapsed": true
   },
   "source": [
    " "
   ]
  },
  {
   "cell_type": "markdown",
   "metadata": {
    "collapsed": true
   },
   "source": [
    " "
   ]
  },
  {
   "cell_type": "markdown",
   "metadata": {
    "collapsed": true
   },
   "source": [
    " <big>\n",
    "<big><b>3$^\\circ$).</b> \n",
    "Suppose that $f(x,y)=\\frac{x^2y}{x^2+y^2}$. (total 40%, each %10)\n",
    "\n",
    "a). Find the domain and range of $f(x,y)$.<br> \n",
    "b). Find the limit of $f(x,y)$ at $(x,y)=(0,0)$ if exists.  <br>  \n",
    "c). Find all the partial derivates of $f(x,y)$.<br>\n",
    "d). If the function value of $f(x,y)$ at $(x,y)=(0,0)$ is set as 0. Find $\\frac{\\partial f}{\\partial (x,y)}(0,0)$, i.e. gradient of $f(x,y)$ at $(x,y)=(0,0).$ <br>\n",
    "</big> \n",
    "\n",
    "\n",
    "\n",
    "\n",
    "\n",
    "\n",
    "\n",
    "\n",
    "\n",
    "\n"
   ]
  },
  {
   "cell_type": "markdown",
   "metadata": {
    "collapsed": true
   },
   "source": [
    " "
   ]
  },
  {
   "cell_type": "markdown",
   "metadata": {
    "collapsed": true
   },
   "source": [
    " "
   ]
  },
  {
   "cell_type": "markdown",
   "metadata": {
    "collapsed": true
   },
   "source": [
    " "
   ]
  },
  {
   "cell_type": "markdown",
   "metadata": {
    "collapsed": true
   },
   "source": [
    " "
   ]
  },
  {
   "cell_type": "markdown",
   "metadata": {
    "collapsed": true
   },
   "source": [
    " "
   ]
  },
  {
   "cell_type": "markdown",
   "metadata": {
    "collapsed": true
   },
   "source": [
    " "
   ]
  },
  {
   "cell_type": "markdown",
   "metadata": {
    "collapsed": true
   },
   "source": [
    " "
   ]
  },
  {
   "cell_type": "markdown",
   "metadata": {
    "collapsed": true
   },
   "source": [
    " "
   ]
  },
  {
   "cell_type": "markdown",
   "metadata": {
    "collapsed": true
   },
   "source": [
    " "
   ]
  },
  {
   "cell_type": "markdown",
   "metadata": {
    "collapsed": true
   },
   "source": [
    " "
   ]
  },
  {
   "cell_type": "markdown",
   "metadata": {
    "collapsed": true
   },
   "source": [
    " "
   ]
  },
  {
   "cell_type": "markdown",
   "metadata": {
    "collapsed": true
   },
   "source": [
    " "
   ]
  },
  {
   "cell_type": "markdown",
   "metadata": {
    "collapsed": true
   },
   "source": [
    " "
   ]
  },
  {
   "cell_type": "markdown",
   "metadata": {
    "collapsed": true
   },
   "source": [
    " "
   ]
  },
  {
   "cell_type": "markdown",
   "metadata": {
    "collapsed": true
   },
   "source": [
    " "
   ]
  },
  {
   "cell_type": "markdown",
   "metadata": {
    "collapsed": true
   },
   "source": [
    " "
   ]
  },
  {
   "cell_type": "markdown",
   "metadata": {
    "collapsed": true
   },
   "source": [
    " "
   ]
  },
  {
   "cell_type": "markdown",
   "metadata": {
    "collapsed": true
   },
   "source": [
    " "
   ]
  },
  {
   "cell_type": "markdown",
   "metadata": {
    "collapsed": true
   },
   "source": [
    " "
   ]
  },
  {
   "cell_type": "markdown",
   "metadata": {
    "collapsed": true
   },
   "source": [
    " "
   ]
  },
  {
   "cell_type": "markdown",
   "metadata": {
    "collapsed": true
   },
   "source": [
    " "
   ]
  },
  {
   "cell_type": "markdown",
   "metadata": {
    "collapsed": true
   },
   "source": [
    " "
   ]
  },
  {
   "cell_type": "markdown",
   "metadata": {
    "collapsed": true
   },
   "source": [
    "<big>\n",
    "<big><b>1$^\\circ$). </b> \n",
    "Determine whether the following sequence is convergent or divergent? Why? (total 40%) <br>\n",
    "\n",
    "a). $ \\frac{1}{3}+\\frac{1}{4}+\\frac{1}{5}+\\frac{1}{6}\\cdots$, divergent by $p$-series, $p=1\\le1$. (10%)<br>\n",
    "b). $\\sum\\limits_{n = 1}^{\\infty}\\left(\\frac{n+1}{n^2}\\right)$, by `limit comparison test` (5%), compare with  $1/n$, and $\\frac{\\frac{n+1}{n^2}}{1/n}\\to 1$; both divergent. (5%)<br>\n",
    "c). $ \\frac{1}{3}-\\frac{1}{4}+\\frac{1}{5}-\\frac{1}{6}\\cdots$, convergent (5) by $n$-`term test` (5%), $1/n\\to0$.<br>\n",
    "d). $\\sum\\limits_{n = 1}^{\\infty}\\frac{2^n+3^n}{4^n}$, convergent by `comparison test` and  `geometric series` is convergent if $r<1$ (5%), \n",
    "$$\\frac{2^n+3^n}{4^n}\\le 2(\\frac{3}{4})^n \\text{ where } r=3/4<1. (5\\%)$$\n",
    "\n",
    "</big> "
   ]
  },
  {
   "cell_type": "code",
   "execution_count": null,
   "metadata": {},
   "outputs": [],
   "source": []
  },
  {
   "cell_type": "markdown",
   "metadata": {
    "collapsed": true
   },
   "source": [
    "<big>\n",
    "<big><b>2$^\\circ$).</b> \n",
    "\n",
    "\\begin{eqnarray}\n",
    "    &\\text{a). }&\\frac{x}{x-1} &=&1+\\frac{1}{1+(x-2)},\\\\\n",
    "    &&&=&1+\\sum_{n=0}^\\infty (-1)^n(x-2)^n,(5\\%)\\\\\n",
    "    &\\text{ it is convergent for }&|x-2|<1, (5\\%)\\\\\n",
    "   &\\text{ b). }& e^{x}        &=&e^{1}\\cdot e^{(x-1)}\\\\\n",
    "   &&&=&e^{1}\\sum_{n=0}^\\infty\\frac{(x-1)^n}{n!}, (5\\%)\\\\\n",
    "   &\\text{ it is convergent for }x\\in\\mathbb{R}(5\\%)\n",
    "\\end{eqnarray}\n",
    "</big> "
   ]
  },
  {
   "cell_type": "markdown",
   "metadata": {
    "collapsed": true
   },
   "source": [
    " <big>\n",
    "<big><b>3$^\\circ$).</b> \n",
    "\n",
    "a). domain is $\\mathbb{R}^2\\backslash\\{(0,0)\\}$ (5%)  and range is $\\mathbb{R}$ (5%).<br>  \n",
    "b). the limit is 0 since $0\\le|\\frac{x^2y}{x^2+y^2}|\\le(x^2+y^2)^{1/2}\\to 0$ if $(x,y)\\to(0,0)$. (10%) <br> \n",
    "c).  $\\frac{\\partial f}{\\partial x}=\\frac{2xy^3}{(x^2+y^2)^2}$ (5%),$\\frac{\\partial f}{\\partial y}=\\frac{x^4-x^2y^2}{(x^2+y^2)^2}$ (5%)<br>\n",
    "d). \\begin{eqnarray}\n",
    "\\frac{\\partial f}{\\partial x}(0,0)=\\lim_{h\\to0}\\frac{\\frac{h^2\\cdot0}{h^2+0^2}-0}{h}=0, (5\\%)\\\\\n",
    "\\frac{\\partial f}{\\partial y}(0,0)=\\lim_{k\\to0}\\frac{\\frac{0^2\\cdot k}{0^2+k^2}-0}{h}=0\\quad(5\\%)\n",
    "\\end{eqnarray}\n",
    "Thus $\\nabla f(0,0)=(0,0)$.\n",
    "</big> \n",
    "\n",
    "\n",
    "\n",
    "\n",
    "\n",
    "\n",
    "\n",
    "\n",
    "\n",
    "\n"
   ]
  },
  {
   "cell_type": "code",
   "execution_count": null,
   "metadata": {},
   "outputs": [],
   "source": []
  }
 ],
 "metadata": {
  "kernelspec": {
   "display_name": "Python 3",
   "language": "python",
   "name": "python3"
  },
  "language_info": {
   "codemirror_mode": {
    "name": "ipython",
    "version": 3
   },
   "file_extension": ".py",
   "mimetype": "text/x-python",
   "name": "python",
   "nbconvert_exporter": "python",
   "pygments_lexer": "ipython3",
   "version": "3.6.5"
  },
  "toc": {
   "colors": {
    "hover_highlight": "#DAA520",
    "navigate_num": "#000000",
    "navigate_text": "#333333",
    "running_highlight": "#FF0000",
    "selected_highlight": "#FFD700",
    "sidebar_border": "#EEEEEE",
    "wrapper_background": "#FFFFFF"
   },
   "moveMenuLeft": true,
   "nav_menu": {
    "height": "49px",
    "width": "252px"
   },
   "navigate_menu": true,
   "number_sections": true,
   "sideBar": true,
   "threshold": 4,
   "toc_cell": false,
   "toc_section_display": "block",
   "toc_window_display": false,
   "widenNotebook": false
  }
 },
 "nbformat": 4,
 "nbformat_minor": 1
}
