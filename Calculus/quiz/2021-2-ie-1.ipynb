{
 "cells": [
  {
   "cell_type": "markdown",
   "metadata": {},
   "source": [
    "<big><big><b><div align=\"center\">Calculus, 2021-2-IE-AI-1</div></b></big></big>\n",
    "\n",
    "<h3><div align=\"left\">Name:&nbsp;&nbsp;&nbsp;&nbsp;&nbsp;&nbsp;&nbsp;&nbsp;&nbsp;&nbsp;&nbsp;&nbsp;&nbsp;&nbsp;&nbsp;&nbsp;&nbsp;&nbsp;&nbsp;&nbsp;&nbsp;&nbsp;&nbsp;&nbsp;  Sequence Number:&nbsp;&nbsp;&nbsp;&nbsp;&nbsp;&nbsp;&nbsp;&nbsp;&nbsp;&nbsp;&nbsp;&nbsp;&nbsp;&nbsp;&nbsp;&nbsp;&nbsp;&nbsp;&nbsp;&nbsp;&nbsp;&nbsp;&nbsp;&nbsp;</div></h3>"
   ]
  },
  {
   "cell_type": "markdown",
   "metadata": {
    "collapsed": true
   },
   "source": [
    "<big>\n",
    "    <big><b>1$^\\circ$). True or False (total 10%, each 2%)</b></big>\n",
    "\n",
    "<b>a$^\\circ$). $(\\quad)$</b>  A bounded infinite sequence is convergent.<br>\n",
    "<b>b$^\\circ$). $(\\quad)$</b>  $\\sum\\limits_{n=1}^\\infty a_n$ is convergent if $\\lim\\limits_{n\\to\\infty} a_n=0$, .<br>\n",
    "<b>c$^\\circ$). $(\\quad)$</b>  Alternating harmonic series is not only convergent but also absolute  convergent.<br>\n",
    "<b>d$^\\circ$). $(\\quad)$</b>  Suppose that Mclaurin's series is convergent. Then its Taylor series is also convergent at any real number $c\\in \\mathbb{R}$.<br>\n",
    "<b>e$^\\circ$). $(\\quad)$</b>  Convergent radius of binomial series is $\\infty$, i.e. it is convergent for any $x\\in\\mathbb{R}$.<br>\n",
    "\n",
    "   \n",
    "</big> "
   ]
  },
  {
   "cell_type": "markdown",
   "metadata": {
    "collapsed": true
   },
   "source": [
    "<big>\n",
    "<big>\n",
    "    <b>2$^\\circ$). Describe the following Statements or Tests (total 20%, each 5%)</b> \n",
    "</big>\n",
    "    \n",
    "<b>a$^\\circ$). </b>  Complete Axiom for Infinite Sequences.<br>\n",
    "<b>b$^\\circ$). </b>  Convergence of Infinite Series<br>\n",
    "<b>c$^\\circ$). </b>  Ratio test for Infinite Series<br>\n",
    "<b>d$^\\circ$). </b>  Taylor's Series.<br>    \n",
    "</big>  "
   ]
  },
  {
   "cell_type": "markdown",
   "metadata": {
    "collapsed": true
   },
   "source": [
    "<big>\n",
    "<big><b>3$^\\circ$). (10%)</b> \n",
    "Suppose that $\\{a_n\\}_{n=1}^\\infty$ is defined as follows: <br>\n",
    "$$a_1=1\\text{ and } a_{n+1}=\\sqrt{3a_n}$$\n",
    "for $n=1,2\\cdots$. Is the sequence is convergent or divergent? Explain your answer. (4%) If it is convergent, find out its limit; if not, explain why it is divergent. (6%)     \n",
    "</big> "
   ]
  },
  {
   "cell_type": "markdown",
   "metadata": {
    "collapsed": true
   },
   "source": [
    "<big>\n",
    "<big><b>4$^\\circ$). (5%)</b> \n",
    "Find the limit of  $\\{\\frac{\\log n}{\\sqrt n}\\}_{n=1,2,\\cdots}$,  if it is convergent, and explain your reason.   \n",
    "</big> "
   ]
  },
  {
   "cell_type": "markdown",
   "metadata": {
    "collapsed": true
   },
   "source": [
    "<big>\n",
    "<big><b>5$^\\circ$). (5%)</b> \n",
    "Find the limit of  $\\{\\cos\\frac{2}{n}\\}_{n=1,2,\\cdots}$,if it is convergent    \n",
    "</big> "
   ]
  },
  {
   "cell_type": "markdown",
   "metadata": {
    "collapsed": true
   },
   "source": [
    "<big>\n",
    "<big><b>6$^\\circ$). (5%)</b> \n",
    "Determine the convergence about $\\sum\\limits_{n=1}^\\infty\\left(\\frac{\\sin n}{n}\\right)^2$, which is absolutely convergent, conditionally convergent or divergent and explain your reason.  \n",
    "</big> "
   ]
  },
  {
   "cell_type": "markdown",
   "metadata": {
    "collapsed": true
   },
   "source": [
    "<big>\n",
    "<big><b>7$^\\circ$). (5%)</b> \n",
    "Determine  whether the series, $\\sum\\limits_{n=1}^\\infty\\frac{2n+1}{3n^2+n+2}$, is convergent or divergent (10%).   \n",
    "</big> "
   ]
  },
  {
   "cell_type": "markdown",
   "metadata": {
    "collapsed": true
   },
   "source": [
    "<big>\n",
    "<big><b>8$^\\circ$). (5%)</b> \n",
    "Determine  whether the series, $\\sum\\limits_{n=1}^\\infty\\frac{(-1)^{n+1}}{\\log (n+1)}$, is absolutely convergent, conditionally convergent or divergent and explain your reason. \n",
    "</big> "
   ]
  },
  {
   "cell_type": "markdown",
   "metadata": {
    "collapsed": true
   },
   "source": [
    "<big>\n",
    "<big><b>9$^\\circ$). (5%)</b> \n",
    "Expand the $f(x)=x\\sin x$ at $x=0$ (3%) and find its convergent interval (2%).   \n",
    "</big> "
   ]
  },
  {
   "cell_type": "markdown",
   "metadata": {
    "collapsed": true
   },
   "source": [
    "<big>\n",
    "<big><b>10$^\\circ$). (5%)</b> \n",
    "Expand the $f(x)=\\frac{1}{3x-2}$ at $x=2$ (3%) and find its convergent interval (2%).   \n",
    "</big> "
   ]
  },
  {
   "cell_type": "markdown",
   "metadata": {
    "collapsed": true
   },
   "source": [
    "<big>\n",
    "<big><b>11$^\\circ$). (5%)</b> \n",
    "Expand the $f(x)=\\mathbf{\\frac{1}{(x+1)^2}}$ at $x=0$ (3%) and find its convergent interval (2%).  \n",
    "</big> "
   ]
  },
  {
   "cell_type": "markdown",
   "metadata": {
    "collapsed": true
   },
   "source": [
    "<big>\n",
    "<big><b>12$^\\circ$). (5%)</b> \n",
    "Expand the $f(x)=\\mathbf{e^{x^2}}$ at $x=0$ (3%) and find its convergent interval (2%).   \n",
    "</big> "
   ]
  },
  {
   "cell_type": "markdown",
   "metadata": {
    "collapsed": true
   },
   "source": [
    "<big>\n",
    "<big><b>13$^\\circ$). (5%)</b> \n",
    "Expand the $f(x)=\\ln|1-x|$ at $x=0$ (3%) and find its convergent interval (2%).  \n",
    "(Hint: $\\frac{1}{1-x}=\\sum\\limits_{n=0}^\\infty x^n$)    \n",
    "</big> "
   ]
  },
  {
   "cell_type": "markdown",
   "metadata": {
    "collapsed": true
   },
   "source": [
    "<big>\n",
    "<big><b>14$^\\circ$). (5%)</b> \n",
    "Expand the $f(x)=\\cos^2 x$ at $x=0$ (3%) and find its convergent interval (2%).    \n",
    "</big> "
   ]
  },
  {
   "cell_type": "markdown",
   "metadata": {
    "collapsed": true
   },
   "source": [
    "<big>\n",
    "<big><b>15$^\\circ$). (5%)</b> \n",
    "Determine the convergence about $\\sum\\limits_{n=1}^\\infty\\left(\\frac{1}{n^2}-\\frac{1}{n}\\right)^2$, which is absolutely convergent, conditionally convergent or divergent, and explain your reason.  \n",
    "</big> "
   ]
  },
  {
   "cell_type": "markdown",
   "metadata": {
    "collapsed": true
   },
   "source": [
    " "
   ]
  },
  {
   "cell_type": "markdown",
   "metadata": {
    "collapsed": true
   },
   "source": [
    " "
   ]
  },
  {
   "cell_type": "markdown",
   "metadata": {
    "collapsed": true
   },
   "source": [
    " "
   ]
  },
  {
   "cell_type": "markdown",
   "metadata": {
    "collapsed": true
   },
   "source": [
    " "
   ]
  },
  {
   "cell_type": "markdown",
   "metadata": {
    "collapsed": true
   },
   "source": [
    " "
   ]
  },
  {
   "cell_type": "markdown",
   "metadata": {
    "collapsed": true
   },
   "source": [
    " "
   ]
  },
  {
   "cell_type": "markdown",
   "metadata": {
    "collapsed": true
   },
   "source": [
    " "
   ]
  },
  {
   "cell_type": "markdown",
   "metadata": {
    "collapsed": true
   },
   "source": [
    " "
   ]
  },
  {
   "cell_type": "markdown",
   "metadata": {
    "collapsed": true
   },
   "source": [
    " "
   ]
  },
  {
   "cell_type": "markdown",
   "metadata": {
    "collapsed": true
   },
   "source": [
    " "
   ]
  },
  {
   "cell_type": "markdown",
   "metadata": {
    "collapsed": true
   },
   "source": [
    " "
   ]
  },
  {
   "cell_type": "markdown",
   "metadata": {
    "collapsed": true
   },
   "source": [
    " "
   ]
  },
  {
   "cell_type": "markdown",
   "metadata": {
    "collapsed": true
   },
   "source": [
    " "
   ]
  },
  {
   "cell_type": "markdown",
   "metadata": {
    "collapsed": true
   },
   "source": [
    " "
   ]
  },
  {
   "cell_type": "markdown",
   "metadata": {
    "collapsed": true
   },
   "source": [
    " "
   ]
  },
  {
   "cell_type": "markdown",
   "metadata": {
    "collapsed": true
   },
   "source": [
    " "
   ]
  },
  {
   "cell_type": "markdown",
   "metadata": {
    "collapsed": true
   },
   "source": [
    " "
   ]
  },
  {
   "cell_type": "markdown",
   "metadata": {
    "collapsed": true
   },
   "source": [
    " "
   ]
  },
  {
   "cell_type": "markdown",
   "metadata": {
    "collapsed": true
   },
   "source": [
    " "
   ]
  },
  {
   "cell_type": "markdown",
   "metadata": {
    "collapsed": true
   },
   "source": [
    " "
   ]
  },
  {
   "cell_type": "markdown",
   "metadata": {
    "collapsed": true
   },
   "source": [
    " "
   ]
  },
  {
   "cell_type": "markdown",
   "metadata": {
    "collapsed": true
   },
   "source": [
    " "
   ]
  },
  {
   "cell_type": "markdown",
   "metadata": {
    "collapsed": true
   },
   "source": [
    " "
   ]
  },
  {
   "cell_type": "markdown",
   "metadata": {
    "collapsed": true
   },
   "source": [
    " "
   ]
  },
  {
   "cell_type": "markdown",
   "metadata": {
    "collapsed": true
   },
   "source": [
    " "
   ]
  },
  {
   "cell_type": "markdown",
   "metadata": {
    "collapsed": true
   },
   "source": [
    " "
   ]
  },
  {
   "cell_type": "markdown",
   "metadata": {
    "collapsed": true
   },
   "source": [
    " "
   ]
  },
  {
   "cell_type": "markdown",
   "metadata": {
    "collapsed": true
   },
   "source": [
    " "
   ]
  },
  {
   "cell_type": "markdown",
   "metadata": {
    "collapsed": true
   },
   "source": [
    " "
   ]
  },
  {
   "cell_type": "markdown",
   "metadata": {
    "collapsed": true
   },
   "source": [
    "  "
   ]
  },
  {
   "cell_type": "markdown",
   "metadata": {
    "collapsed": true
   },
   "source": [
    " "
   ]
  },
  {
   "cell_type": "markdown",
   "metadata": {
    "collapsed": true
   },
   "source": [
    "**Answer**\n",
    "\n",
    "1. All are False.\n",
    "2. \n",
    "  1. Completeness Axiom: Every sequence, bounded above, has a least upper bound; every sequences, bounded below,has a largest lower bound.\n",
    "  2. Convergence of Infinite Series: Partial Sum sequences of infinite series is convergent.\n",
    "  3. Ratio test for Infinite Series: \n",
    "     $$ r = \\lim_{n \\rightarrow \\infty} \\left| \\frac{a_{n + 1}}{a_n} \\right| $$\n",
    "    Then\n",
    "    1.  $r < 1$ implies $\\sum\\limits_{n = 1}^{\\infty} a_n$ is convergent;\n",
    "    2. $r > 1$ implies $\\sum\\limits_{n = 1}^{\\infty} a_n$ is divergent;\n",
    "    3. $r = 1$ no conclusion.\n",
    "  4. Taylor's series:  Suppose that $f (x) $is smooth enough oven an open interval containing $x = a$\n",
    "then\n",
    "$$f (x) = \\sum_{n = 0}^{\\infty} \\frac{f^{(n)} (a)}{n!} (x - a)^n $$  \n",
    "3. convergent, (4%), limit: 3(%) since (bounded above and increasing) (3%)\n",
    "4. Since $\\lim\\limits_{x\\to\\infty}\\frac{\\log x}{x^{1/2}}=0$ (4%) by l'Hopital's Rule (1%)\n",
    "5. 1 (5%)\n",
    "6. $a_n=\\left(\\frac{\\sin n}{n}\\right)^2\\le \\frac{1}{n^2}=b_n$, by comparion test and $p$-series (1%), it is convergent (4%).\n",
    "7. divergent, (4%); by \n",
    "   - $a_n=\\frac{2n+1}{3n^2+n+2}, b_n=\\frac{1}{n}$, and $\\lim\\frac{a_n}{b_n}<\\infty$, it is divergent (4%),\n",
    "   - by limit comparison test and $p$-series (1%).\n",
    "8. conditionally convergent, (4%)\n",
    "   - $\\sum|\\frac{(-1)^{n+1}}{\\log (n+1)}|\\ge\\sum|\\frac{(-1)^{n+1}}{n+1}| \\Rightarrow$ divergent, $p$-series test,\n",
    "   - but $\\frac{1}{\\log (n+1)}\\to \\infty$ convergent by $n$-term test. (1%)\n",
    "9. $\\sum\\limits_{n=0}^\\infty\\frac{x^{n+1}}{n!}$, (3%), $x\\in\\mathbb{R}$ (2%)\n",
    "10. $\\frac{1}{4}\\sum\\limits_{n=0}^\\infty\\frac{(-1)^n3^n}{4^n}(x-2)^n$, (3%), $x\\in(2-4/3,2+4/3)$ (2%)\n",
    "11. $\\sum\\limits_{n=0}^\\infty(-1)^n(n+1)x^n$, (3%), $x\\in(-1,1)$ (2%)\n",
    "12. $\\sum\\limits_{n=0}^\\infty\\frac{x^{2n}}{n!}$, (3%), $x\\in\\mathbb{R}$ (2%)\n",
    "13. $-\\sum\\limits_{n=1}^\\infty\\frac{x^n}{n}$, (3%), $x\\in[-1,1)$ (2%)\n",
    "14. $\\frac{1}{2}+\\frac{1}{2}\\sum\\limits_{n=0}^\\infty\\frac{(-1)^n2^{2n}}{2n!}x^{2n}, (-\\infty,\\infty)$, (5%)\n",
    "15. $\\left(\\frac{1}{n^2}-\\frac{1}{n}\\right)^2=\\frac{(1-n)^2}{n^4}$, and by limit comparison test and $p$ series test(1%), \n",
    "    $$ a_n=\\left|\\frac{1}{n^2}-\\frac{1}{n}\\right|^2, b_n=\\frac{1}{n^2}, \\lim_{n\\to\\infty}\\frac{a_n}{b_n}=1$$\n",
    "    both are convergent. Thus it is convergent absolutely.(4%)"
   ]
  },
  {
   "cell_type": "code",
   "execution_count": null,
   "metadata": {},
   "outputs": [],
   "source": []
  }
 ],
 "metadata": {
  "kernelspec": {
   "display_name": "Python 3",
   "language": "python",
   "name": "python3"
  },
  "language_info": {
   "codemirror_mode": {
    "name": "ipython",
    "version": 3
   },
   "file_extension": ".py",
   "mimetype": "text/x-python",
   "name": "python",
   "nbconvert_exporter": "python",
   "pygments_lexer": "ipython3",
   "version": "3.8.5"
  },
  "toc": {
   "colors": {
    "hover_highlight": "#DAA520",
    "navigate_num": "#000000",
    "navigate_text": "#333333",
    "running_highlight": "#FF0000",
    "selected_highlight": "#FFD700",
    "sidebar_border": "#EEEEEE",
    "wrapper_background": "#FFFFFF"
   },
   "moveMenuLeft": true,
   "nav_menu": {
    "height": "49px",
    "width": "252px"
   },
   "navigate_menu": true,
   "number_sections": true,
   "sideBar": true,
   "threshold": 4,
   "toc_cell": false,
   "toc_section_display": "block",
   "toc_window_display": false,
   "widenNotebook": false
  }
 },
 "nbformat": 4,
 "nbformat_minor": 1
}
