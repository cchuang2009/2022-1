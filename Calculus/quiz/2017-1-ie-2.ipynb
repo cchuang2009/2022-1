{
 "cells": [
  {
   "cell_type": "markdown",
   "metadata": {},
   "source": [
    "# <div align=\"center\">Calculus, 2017-1-IE-2</div>\n",
    "\n",
    "<h3><div align=\"middle\">Name:&nbsp;&nbsp;&nbsp;&nbsp;&nbsp;&nbsp;&nbsp;&nbsp;&nbsp;&nbsp;&nbsp;&nbsp;&nbsp;&nbsp;&nbsp;&nbsp;&nbsp;&nbsp;&nbsp;&nbsp;&nbsp;&nbsp;&nbsp;&nbsp;  Sequence Number:&nbsp;&nbsp;&nbsp;&nbsp;&nbsp;&nbsp;&nbsp;&nbsp;&nbsp;&nbsp;&nbsp;&nbsp;&nbsp;&nbsp;&nbsp;&nbsp;&nbsp;&nbsp;&nbsp;&nbsp;&nbsp;&nbsp;&nbsp;&nbsp;</div></h3>\n"
   ]
  },
  {
   "cell_type": "markdown",
   "metadata": {},
   "source": [
    "<big><big>\n",
    "<big><b>1$^\\circ$).</b></big>\n",
    "Evaluate the following Integrations: (total 100%, each 10% ($\\color{brown}{\\times10}$))<br />\n",
    "a$^\\circ$). $\\mathbf{\\int^{\\pi/2}_0(x\\cos x)dx}=\\frac{\\pi}{2}-1$                 <br>\n",
    "b$^\\circ$). $\\mathbf{\\int_{\\pi/6}^{\\pi/4}\\frac{\\sin^3 x}{\\cos x}dx}=\\frac{4\\ln3-4\\ln2-1}{8}$<br>\n",
    "c$^\\circ$). $\\mathbf{\\int^{1}_0\\sin^4 \\pi x dx}=3/8$ <br />\n",
    "d$^\\circ$). $\\mathbf{\\int^{4}_{0}\\sqrt{4+x^2}dx}=4\\sqrt5+2\\ln\\left|2+\\sqrt5\\right|$ <br>\n",
    "e$^\\circ$). $\\mathbf{\\int_1^2 e^x\\sin3x dx}=\\frac{3e\\cos3+e^2\\sin6-e\\sin3-3e^2\\cos6}{10}$ <br>\n",
    "f$^\\circ$). $\\mathbf{\\int^0_{\\pi/4} \\tan^2 x\\sec^2 x dx }=-1/3$<br />\n",
    "g$^\\circ$). $\\mathbf{\\int_1^{\\infty}\\cos(\\ln x)dx}=$ fails to exist<br>\n",
    "h$^\\circ$). $\\mathbf{\\int_0^1\\frac{\\sqrt x dx}{\\sqrt x+1}}= 2\\ln2-1$ <br>\n",
    "i$^\\circ$). $\\mathbf{\\int_0^{\\pi/3}\\sin3x\\cos2x dx}= 3/10$<br>\n",
    "j$^\\circ$). $\\mathbf{\\int_0^1\\frac{x^2-1}{\\sqrt x}dx}=-8/5$         \n",
    "</big> </big>"
   ]
  },
  {
   "cell_type": "markdown",
   "metadata": {
    "collapsed": true
   },
   "source": [
    "<big><big>\n",
    "<big><b>2$^\\circ$).</b></big> (total 10%) Evaluate the derivative\n",
    "$$\\mathbf{\\frac{d}{dx}\\int^{x}_{2x}\\frac{t}{e^t+\\cos t}dt}=\\frac{x}{e^x+\\cos x}-\\frac{4x}{e^{2x}+\\cos2x}$$\n",
    "</big> </big>"
   ]
  },
  {
   "cell_type": "markdown",
   "metadata": {
    "collapsed": true
   },
   "source": [
    " "
   ]
  },
  {
   "cell_type": "markdown",
   "metadata": {
    "collapsed": true
   },
   "source": [
    " "
   ]
  },
  {
   "cell_type": "markdown",
   "metadata": {
    "collapsed": true
   },
   "source": [
    " "
   ]
  },
  {
   "cell_type": "markdown",
   "metadata": {
    "collapsed": true
   },
   "source": [
    " "
   ]
  },
  {
   "cell_type": "markdown",
   "metadata": {
    "collapsed": true
   },
   "source": [
    " "
   ]
  },
  {
   "cell_type": "markdown",
   "metadata": {
    "collapsed": true
   },
   "source": [
    " "
   ]
  },
  {
   "cell_type": "markdown",
   "metadata": {
    "collapsed": true
   },
   "source": [
    " "
   ]
  },
  {
   "cell_type": "markdown",
   "metadata": {
    "collapsed": true
   },
   "source": [
    " "
   ]
  },
  {
   "cell_type": "markdown",
   "metadata": {
    "collapsed": true
   },
   "source": [
    " "
   ]
  },
  {
   "cell_type": "markdown",
   "metadata": {
    "collapsed": true
   },
   "source": [
    " "
   ]
  },
  {
   "cell_type": "markdown",
   "metadata": {
    "collapsed": true
   },
   "source": [
    " "
   ]
  },
  {
   "cell_type": "markdown",
   "metadata": {
    "collapsed": true
   },
   "source": [
    " "
   ]
  },
  {
   "cell_type": "markdown",
   "metadata": {
    "collapsed": true
   },
   "source": [
    " "
   ]
  },
  {
   "cell_type": "markdown",
   "metadata": {
    "collapsed": true
   },
   "source": [
    " "
   ]
  },
  {
   "cell_type": "markdown",
   "metadata": {
    "collapsed": true
   },
   "source": [
    " "
   ]
  },
  {
   "cell_type": "markdown",
   "metadata": {
    "collapsed": true
   },
   "source": [
    " "
   ]
  },
  {
   "cell_type": "markdown",
   "metadata": {
    "collapsed": true
   },
   "source": [
    " "
   ]
  },
  {
   "cell_type": "markdown",
   "metadata": {
    "collapsed": true
   },
   "source": [
    " "
   ]
  },
  {
   "cell_type": "markdown",
   "metadata": {
    "collapsed": true
   },
   "source": [
    " "
   ]
  },
  {
   "cell_type": "markdown",
   "metadata": {
    "collapsed": true
   },
   "source": [
    " "
   ]
  },
  {
   "cell_type": "markdown",
   "metadata": {
    "collapsed": true
   },
   "source": [
    " "
   ]
  },
  {
   "cell_type": "markdown",
   "metadata": {
    "collapsed": true
   },
   "source": [
    " "
   ]
  },
  {
   "cell_type": "markdown",
   "metadata": {
    "collapsed": true
   },
   "source": [
    "Answer\n",
    "---"
   ]
  },
  {
   "cell_type": "code",
   "execution_count": 1,
   "metadata": {},
   "outputs": [],
   "source": [
    "from sympy import *"
   ]
  },
  {
   "cell_type": "code",
   "execution_count": 2,
   "metadata": {},
   "outputs": [],
   "source": [
    "x,t =symbols(\"x t\")"
   ]
  },
  {
   "cell_type": "code",
   "execution_count": 3,
   "metadata": {},
   "outputs": [],
   "source": [
    "def Int(f,*args):\n",
    "    if(len(args)!=0):\n",
    "       a=args[0]\n",
    "       b=args[1]\n",
    "       print(\"                          \",b)\n",
    "       print(\"The definite integral of  ʃ %s dx is \" %f)\n",
    "       print(\"                          \",a)\n",
    "       pprint(integrate(f,(x,a,b)))\n",
    "    else:\n",
    "       print(\"The indefinite integral of  ʃ %s dx is \" %f) \n",
    "       pprint(integrate(f,x))"
   ]
  },
  {
   "cell_type": "code",
   "execution_count": 4,
   "metadata": {},
   "outputs": [
    {
     "name": "stdout",
     "output_type": "stream",
     "text": [
      "                           pi/2\n",
      "The definite integral of  ʃ x*cos(x) dx is \n",
      "                           0\n",
      "     π\n",
      "-1 + ─\n",
      "     2\n"
     ]
    }
   ],
   "source": [
    "#1.a)\n",
    "Int(x*cos(x),0, pi/2)"
   ]
  },
  {
   "cell_type": "code",
   "execution_count": 5,
   "metadata": {},
   "outputs": [
    {
     "name": "stdout",
     "output_type": "stream",
     "text": [
      "                           pi/4\n",
      "The definite integral of  ʃ sin(x)**3/cos(x) dx is \n",
      "                           pi/6\n",
      "  log(4)   1   log(2)   log(3)\n",
      "- ────── - ─ + ────── + ──────\n",
      "    2      8     2        2   \n"
     ]
    }
   ],
   "source": [
    "#1.b)\n",
    "Int((sin(x))**3/cos(x),pi/6,pi/4)"
   ]
  },
  {
   "cell_type": "code",
   "execution_count": 17,
   "metadata": {},
   "outputs": [
    {
     "name": "stdout",
     "output_type": "stream",
     "text": [
      "                           1\n",
      "The definite integral of  ʃ sin(pi*x)**4 dx is \n",
      "                           0\n",
      "3/8\n"
     ]
    }
   ],
   "source": [
    "# 1. c)\n",
    "Int((sin(pi*x))**4,0,1)"
   ]
  },
  {
   "cell_type": "code",
   "execution_count": 7,
   "metadata": {},
   "outputs": [
    {
     "name": "stdout",
     "output_type": "stream",
     "text": [
      "                           4\n",
      "The definite integral of  ʃ sqrt(x**2 + 4) dx is \n",
      "                           0\n",
      "2⋅asinh(2) + 4⋅√5\n"
     ]
    }
   ],
   "source": [
    "#1.d)\n",
    "Int(sqrt(4+x**2),0,4)"
   ]
  },
  {
   "cell_type": "markdown",
   "metadata": {},
   "source": [
    "\\begin{eqnarray}\n",
    "\\int \\sqrt{4+x^2}dx&=&\\int 4\\sec^3\\theta d\\theta \\quad(x=2\\tan\\theta)\\\\\n",
    "               &=&2\\left(\\sec\\theta\\tan\\theta+\\ln(sec\\theta+\\tan\\theta)\\right)\\\\\n",
    "               &=&2\\left( \\frac{\\sqrt{4+x^2}}{2}\\cdot\\frac{x}{2}+\\ln{\\left| \\frac{\\sqrt{4+x^2}}{2}+\\frac{x}{2}\\right|} \\right)\\\\\n",
    "               &=&4\\sqrt5+2\\ln\\left|2+\\sqrt5\\right|\n",
    "\\end{eqnarray}"
   ]
  },
  {
   "cell_type": "code",
   "execution_count": 9,
   "metadata": {},
   "outputs": [
    {
     "name": "stdout",
     "output_type": "stream",
     "text": [
      "                           2\n",
      "The definite integral of  ʃ exp(x)*sin(3*x) dx is \n",
      "                           1\n",
      "     2                        2                  \n",
      "  3⋅ℯ ⋅cos(6)   3⋅ℯ⋅cos(3)   ℯ ⋅sin(6)   ℯ⋅sin(3)\n",
      "- ─────────── + ────────── + ───────── - ────────\n",
      "       10           10           10         10   \n"
     ]
    }
   ],
   "source": [
    "#1. e)\n",
    "Int(exp(x)*sin(3*x),1,2)"
   ]
  },
  {
   "cell_type": "code",
   "execution_count": 8,
   "metadata": {},
   "outputs": [
    {
     "name": "stdout",
     "output_type": "stream",
     "text": [
      "                           0\n",
      "The definite integral of  ʃ tan(x)**2*sec(x)**2 dx is \n",
      "                           pi/4\n",
      "-1/3\n"
     ]
    }
   ],
   "source": [
    "#1. f)\n",
    "Int(tan(x)**2*sec(x)**2,pi/4,0)"
   ]
  },
  {
   "cell_type": "markdown",
   "metadata": {},
   "source": [
    "$$\\int^{\\pi/2}_0\\tan x/2dx=\\int\\frac{\\sin x/2}{\\cos x/2}dx=-2\\left.\\ln \\cos x/2\\right|_0^{\\pi/2}=\\ln2$$"
   ]
  },
  {
   "cell_type": "code",
   "execution_count": 18,
   "metadata": {},
   "outputs": [
    {
     "name": "stdout",
     "output_type": "stream",
     "text": [
      "                           oo\n",
      "The definite integral of  ʃ cos(log(x)) dx is \n",
      "                           1\n",
      "∞               \n",
      "⌠               \n",
      "⎮ cos(log(x)) dx\n",
      "⌡               \n",
      "1               \n"
     ]
    }
   ],
   "source": [
    "#1. g)\n",
    "Int(cos(log(x)),1,oo)"
   ]
  },
  {
   "cell_type": "code",
   "execution_count": 11,
   "metadata": {},
   "outputs": [
    {
     "name": "stdout",
     "output_type": "stream",
     "text": [
      "                           1\n",
      "The definite integral of  ʃ sqrt(x)/(sqrt(x) + 1) dx is \n",
      "                           0\n",
      "-1 + 2⋅log(2)\n"
     ]
    }
   ],
   "source": [
    "#1. h)\n",
    "Int(sqrt(x)/(sqrt(x)+1),0,1)"
   ]
  },
  {
   "cell_type": "code",
   "execution_count": 13,
   "metadata": {},
   "outputs": [
    {
     "name": "stdout",
     "output_type": "stream",
     "text": [
      "                           pi/3\n",
      "The definite integral of  ʃ sin(3*x)*cos(2*x) dx is \n",
      "                           0\n",
      "3/10\n"
     ]
    }
   ],
   "source": [
    "#1. i\n",
    "Int(cos(2*x)*sin(3*x),0,pi/3)"
   ]
  },
  {
   "cell_type": "code",
   "execution_count": 16,
   "metadata": {},
   "outputs": [
    {
     "name": "stdout",
     "output_type": "stream",
     "text": [
      "                           1\n",
      "The definite integral of  ʃ (x**2 - 1)/sqrt(x) dx is \n",
      "                           0\n",
      "-8/5\n"
     ]
    }
   ],
   "source": [
    "#1. j\n",
    "Int((x*x-1)/sqrt(x),0,1)"
   ]
  },
  {
   "cell_type": "code",
   "execution_count": null,
   "metadata": {
    "collapsed": true
   },
   "outputs": [],
   "source": []
  },
  {
   "cell_type": "code",
   "execution_count": 15,
   "metadata": {},
   "outputs": [
    {
     "data": {
      "text/plain": [
       "-4*x/(exp(2*x) + cos(2*x)) + x/(exp(x) + cos(x)) + Integral(0, (t, 2*x, x))"
      ]
     },
     "execution_count": 15,
     "metadata": {},
     "output_type": "execute_result"
    }
   ],
   "source": [
    "#2. \n",
    "\n",
    "diff(integrate(t/(exp(t)+cos(t)),(t,2*x,x)),x)"
   ]
  },
  {
   "cell_type": "markdown",
   "metadata": {},
   "source": [
    "$$\\mathbf{\\frac{d}{dx}\\int^{x}_{2x}\\frac{t}{\\exp t+\\sin t}dt=\\frac{x}{\\exp x+\\sin x}-\\frac{4x}{\\exp(2x)+\\sin2x}}$$"
   ]
  },
  {
   "cell_type": "code",
   "execution_count": 4,
   "metadata": {},
   "outputs": [
    {
     "name": "stdout",
     "output_type": "stream",
     "text": [
      "[NbConvertApp] Converting notebook 2016-1-ie-1.ipynb to html\n",
      "[NbConvertApp] Writing 274101 bytes to 2016-1-ie-1.html\n"
     ]
    }
   ],
   "source": [
    "!jupyter nbconvert --to html 2016-1-ie-1.ipynb"
   ]
  },
  {
   "cell_type": "code",
   "execution_count": null,
   "metadata": {
    "collapsed": true
   },
   "outputs": [],
   "source": []
  }
 ],
 "metadata": {
  "kernelspec": {
   "display_name": "Python 3",
   "language": "python",
   "name": "python3"
  },
  "language_info": {
   "codemirror_mode": {
    "name": "ipython",
    "version": 3
   },
   "file_extension": ".py",
   "mimetype": "text/x-python",
   "name": "python",
   "nbconvert_exporter": "python",
   "pygments_lexer": "ipython3",
   "version": "3.6.1"
  },
  "widgets": {
   "state": {},
   "version": "2.0.10"
  }
 },
 "nbformat": 4,
 "nbformat_minor": 1
}
