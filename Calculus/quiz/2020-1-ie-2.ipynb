{
 "cells": [
  {
   "cell_type": "markdown",
   "metadata": {},
   "source": [
    " <font style=\"font-size:2em\"><div align=\"center\"><b> Calculus, 2020-1-2</b></div></font>\n",
    "\n",
    "\n",
    " <font style=\"font-size:1.6em\">Name:  </font>  \n",
    "  <font style=\"font-size:1.6em\">Sequence Number:  </font> "
   ]
  },
  {
   "cell_type": "markdown",
   "metadata": {},
   "source": [
    "<big><big>\n",
    "<big><b>1$^\\circ$).</b></big>\n",
    "Evaluate the following Integrations: (total 100%, each 10% ($\\color{brown}{\\times10}$))<br />\n",
    "a$^\\circ$). $\\mathbf{\\int^{2}_0(4x^3-3x^2+1)dx}$                 <br>\n",
    "b$^\\circ$). $\\mathbf{\\int^{\\pi/4}_{-\\pi/4}\\sin^2 x\\cos x}dx$<br>\n",
    "c$^\\circ$). $\\mathbf{\\int^{\\pi/2}_0\\cos^4 x dx}$ <br />\n",
    "d$^\\circ$). $\\mathbf{\\int^1_{-1}{x e^{-x}}dx}$ <br>\n",
    "e$^\\circ$). $\\mathbf{\\int^{\\pi/2}_0e^{2x}\\sin x dx}$ <br>\n",
    "f$^\\circ$). $\\mathbf{\\int_0^{2} x\\sqrt{4-x^2} dx }$<br />\n",
    "g$^\\circ$). $\\mathbf{\\int_0^{1/\\sqrt 2}\\sqrt{1-x^2}dx}$<br>\n",
    "h$^\\circ$). $\\mathbf{\\int^{4}_{2}\\frac{1}{x^3+x^2}dx } $<br>\n",
    "i$^\\circ$). $\\mathbf{\\int_{-\\pi/4}^{\\pi/3}\\cos2x\\sin3x dx}$<br>\n",
    "j$^\\circ$). $\\mathbf{\\int_1^2\\frac{x^3}{x+x^2}dx} $<br>       \n",
    "</big> </big>"
   ]
  },
  {
   "cell_type": "markdown",
   "metadata": {
    "collapsed": true
   },
   "source": [
    "<big><big>\n",
    "<big><b>2$^\\circ$).</b></big> (total 10%) Describe what the Fundamental Theorem of Calculus is. Suppose that $f(x)=x\\sqrt{1-x}$ on interval $I=[0,1]$.  What is the mean value of $f(x)$ on $I$? And  evaluate the derivative\n",
    "$$\\mathbf{\\frac{d}{dx}\\int^{x^2}_{x} f(t)dt}$$\n",
    "</big> </big>"
   ]
  },
  {
   "cell_type": "markdown",
   "metadata": {
    "collapsed": true
   },
   "source": [
    " "
   ]
  },
  {
   "cell_type": "markdown",
   "metadata": {
    "collapsed": true
   },
   "source": [
    " "
   ]
  },
  {
   "cell_type": "markdown",
   "metadata": {
    "collapsed": true
   },
   "source": [
    " "
   ]
  },
  {
   "cell_type": "markdown",
   "metadata": {
    "collapsed": true
   },
   "source": [
    " "
   ]
  },
  {
   "cell_type": "markdown",
   "metadata": {
    "collapsed": true
   },
   "source": [
    " "
   ]
  },
  {
   "cell_type": "markdown",
   "metadata": {
    "collapsed": true
   },
   "source": [
    " "
   ]
  },
  {
   "cell_type": "markdown",
   "metadata": {
    "collapsed": true
   },
   "source": [
    " "
   ]
  },
  {
   "cell_type": "markdown",
   "metadata": {
    "collapsed": true
   },
   "source": [
    " "
   ]
  },
  {
   "cell_type": "markdown",
   "metadata": {
    "collapsed": true
   },
   "source": [
    " "
   ]
  },
  {
   "cell_type": "markdown",
   "metadata": {
    "collapsed": true
   },
   "source": [
    " "
   ]
  },
  {
   "cell_type": "markdown",
   "metadata": {
    "collapsed": true
   },
   "source": [
    " "
   ]
  },
  {
   "cell_type": "markdown",
   "metadata": {
    "collapsed": true
   },
   "source": [
    " "
   ]
  },
  {
   "cell_type": "markdown",
   "metadata": {
    "collapsed": true
   },
   "source": [
    " "
   ]
  },
  {
   "cell_type": "markdown",
   "metadata": {
    "collapsed": true
   },
   "source": [
    " "
   ]
  },
  {
   "cell_type": "markdown",
   "metadata": {
    "collapsed": true
   },
   "source": [
    " "
   ]
  },
  {
   "cell_type": "markdown",
   "metadata": {
    "collapsed": true
   },
   "source": [
    " "
   ]
  },
  {
   "cell_type": "markdown",
   "metadata": {
    "collapsed": true
   },
   "source": [
    " "
   ]
  },
  {
   "cell_type": "markdown",
   "metadata": {
    "collapsed": true
   },
   "source": [
    " "
   ]
  },
  {
   "cell_type": "markdown",
   "metadata": {
    "collapsed": true
   },
   "source": [
    " "
   ]
  },
  {
   "cell_type": "markdown",
   "metadata": {
    "collapsed": true
   },
   "source": [
    " "
   ]
  },
  {
   "cell_type": "markdown",
   "metadata": {
    "collapsed": true
   },
   "source": [
    " "
   ]
  },
  {
   "cell_type": "markdown",
   "metadata": {
    "collapsed": true
   },
   "source": [
    " "
   ]
  },
  {
   "cell_type": "markdown",
   "metadata": {
    "collapsed": true
   },
   "source": [
    "Answer\n",
    "---"
   ]
  },
  {
   "cell_type": "code",
   "execution_count": 1,
   "metadata": {},
   "outputs": [],
   "source": [
    "from sympy import *"
   ]
  },
  {
   "cell_type": "code",
   "execution_count": 2,
   "metadata": {},
   "outputs": [],
   "source": [
    "x,t,u,C =symbols(\"x t u C\")"
   ]
  },
  {
   "cell_type": "code",
   "execution_count": 3,
   "metadata": {},
   "outputs": [],
   "source": [
    "from sympy import exp,sin,cos,tan,pi\n",
    "from mpmath import e"
   ]
  },
  {
   "cell_type": "code",
   "execution_count": 4,
   "metadata": {},
   "outputs": [],
   "source": [
    "def Int(f,*args):\n",
    "    if(len(args)!=0):\n",
    "       a=args[0]\n",
    "       b=args[1]\n",
    "       print(\"                          \",b)\n",
    "       print(\"The definite integral of  ʃ %s dx is \" %f)\n",
    "       print(\"                          \",a)\n",
    "       pprint(integrate(f,(x,a,b)))\n",
    "    else:\n",
    "       print(\"The indefinite integral of  ʃ %s dx is \" %f) \n",
    "       pprint(integrate(f,x)+C)"
   ]
  },
  {
   "cell_type": "code",
   "execution_count": 7,
   "metadata": {},
   "outputs": [
    {
     "name": "stdout",
     "output_type": "stream",
     "text": [
      "                           2\n",
      "The definite integral of  ʃ 4*x**3 - 3*x**2 + 1 dx is \n",
      "                           0\n",
      "10\n"
     ]
    }
   ],
   "source": [
    "#1.a)\n",
    "Int(4*x**3-3*x**2+1,0, 2)"
   ]
  },
  {
   "cell_type": "code",
   "execution_count": 12,
   "metadata": {},
   "outputs": [
    {
     "name": "stdout",
     "output_type": "stream",
     "text": [
      "                           pi/4\n",
      "The definite integral of  ʃ sin(x)**2*cos(x) dx is \n",
      "                           -pi/4\n",
      "√2\n",
      "──\n",
      "6 \n"
     ]
    }
   ],
   "source": [
    "#1.b)\n",
    "Int((cos(x))*sin(x)**2,-pi/4,pi/4)"
   ]
  },
  {
   "cell_type": "code",
   "execution_count": 13,
   "metadata": {},
   "outputs": [
    {
     "name": "stdout",
     "output_type": "stream",
     "text": [
      "                           pi/2\n",
      "The definite integral of  ʃ cos(x)**4 dx is \n",
      "                           0\n",
      "3⋅π\n",
      "───\n",
      " 16\n"
     ]
    }
   ],
   "source": [
    "# 1. c)\n",
    "Int(cos(x)**4,0,pi/2)"
   ]
  },
  {
   "cell_type": "code",
   "execution_count": 15,
   "metadata": {},
   "outputs": [
    {
     "name": "stdout",
     "output_type": "stream",
     "text": [
      "                           1\n",
      "The definite integral of  ʃ x*exp(-x) dx is \n",
      "                           -1\n",
      "    -1\n",
      "-2⋅ℯ  \n"
     ]
    }
   ],
   "source": [
    "#1.d)\n",
    "Int(x*exp(-x),-1,1)"
   ]
  },
  {
   "cell_type": "code",
   "execution_count": 16,
   "metadata": {},
   "outputs": [
    {
     "name": "stdout",
     "output_type": "stream",
     "text": [
      "                           pi/2\n",
      "The definite integral of  ʃ exp(2*x)*sin(x) dx is \n",
      "                           0\n",
      "       π\n",
      "1   2⋅ℯ \n",
      "─ + ────\n",
      "5    5  \n"
     ]
    }
   ],
   "source": [
    "#1. e)\n",
    "Int(exp(2*x)*sin(x),0,pi/2)"
   ]
  },
  {
   "cell_type": "code",
   "execution_count": 20,
   "metadata": {},
   "outputs": [
    {
     "name": "stdout",
     "output_type": "stream",
     "text": [
      "                           2\n",
      "The definite integral of  ʃ x*sqrt(4 - x**2) dx is \n",
      "                           0\n",
      "8/3\n"
     ]
    }
   ],
   "source": [
    "#1. f)\n",
    "Int(x*sqrt(4-x*x),0,2)"
   ]
  },
  {
   "cell_type": "code",
   "execution_count": 21,
   "metadata": {},
   "outputs": [
    {
     "name": "stdout",
     "output_type": "stream",
     "text": [
      "                           sqrt(2)/2\n",
      "The definite integral of  ʃ sqrt(1 - x**2) dx is \n",
      "                           0\n",
      "1   π\n",
      "─ + ─\n",
      "4   8\n"
     ]
    }
   ],
   "source": [
    "#1. g)\n",
    "Int(sqrt(1-x**2),0,1/sqrt(2))"
   ]
  },
  {
   "cell_type": "code",
   "execution_count": 22,
   "metadata": {},
   "outputs": [
    {
     "name": "stdout",
     "output_type": "stream",
     "text": [
      "                           4\n",
      "The definite integral of  ʃ 1/(x**3 + x**2) dx is \n",
      "                           2\n",
      "-log(4) - log(3) + 1/4 + log(2) + log(5)\n"
     ]
    }
   ],
   "source": [
    "#1. h)\n",
    "Int(1/(x**3+x**2),2,4)"
   ]
  },
  {
   "cell_type": "code",
   "execution_count": 25,
   "metadata": {},
   "outputs": [
    {
     "name": "stdout",
     "output_type": "stream",
     "text": [
      "                           pi/3\n",
      "The definite integral of  ʃ sin(3*x)*cos(2*x) dx is \n",
      "                           -pi/4\n",
      "  3    √2\n",
      "- ── + ──\n",
      "  10   5 \n"
     ]
    }
   ],
   "source": [
    "#1. i\n",
    "Int(cos(2*x)*sin(3*x),-pi/4,pi/3)"
   ]
  },
  {
   "cell_type": "code",
   "execution_count": 26,
   "metadata": {},
   "outputs": [
    {
     "name": "stdout",
     "output_type": "stream",
     "text": [
      "                           2\n",
      "The definite integral of  ʃ x**3/(x**2 + x) dx is \n",
      "                           1\n",
      "-log(2) + 1/2 + log(3)\n"
     ]
    }
   ],
   "source": [
    "#1. j\n",
    "Int((x**3)/(x+x**2),1,2)"
   ]
  },
  {
   "cell_type": "code",
   "execution_count": null,
   "metadata": {
    "collapsed": true
   },
   "outputs": [],
   "source": []
  },
  {
   "cell_type": "code",
   "execution_count": 13,
   "metadata": {},
   "outputs": [
    {
     "data": {
      "text/latex": [
       "$\\displaystyle 2 x \\sqrt{x^{2}} e^{- x^{2}}$"
      ],
      "text/plain": [
       "2*x*sqrt(x**2)*exp(-x**2)"
      ]
     },
     "execution_count": 13,
     "metadata": {},
     "output_type": "execute_result"
    }
   ],
   "source": [
    "#2. \n",
    "\n",
    "diff(integrate((sqrt(t)*exp(-t)),(t,0,x**2)),x)"
   ]
  },
  {
   "cell_type": "code",
   "execution_count": null,
   "metadata": {},
   "outputs": [],
   "source": []
  }
 ],
 "metadata": {
  "kernelspec": {
   "display_name": "Python 3",
   "language": "python",
   "name": "python3"
  },
  "language_info": {
   "codemirror_mode": {
    "name": "ipython",
    "version": 3
   },
   "file_extension": ".py",
   "mimetype": "text/x-python",
   "name": "python",
   "nbconvert_exporter": "python",
   "pygments_lexer": "ipython3",
   "version": "3.6.9"
  },
  "toc": {
   "colors": {
    "hover_highlight": "#DAA520",
    "navigate_num": "#000000",
    "navigate_text": "#333333",
    "running_highlight": "#FF0000",
    "selected_highlight": "#FFD700",
    "sidebar_border": "#EEEEEE",
    "wrapper_background": "#FFFFFF"
   },
   "moveMenuLeft": true,
   "nav_menu": {
    "height": "102px",
    "width": "252px"
   },
   "navigate_menu": true,
   "number_sections": true,
   "sideBar": true,
   "threshold": 4,
   "toc_cell": false,
   "toc_section_display": "block",
   "toc_window_display": false,
   "widenNotebook": false
  },
  "widgets": {
   "state": {},
   "version": "2.0.10"
  }
 },
 "nbformat": 4,
 "nbformat_minor": 1
}
