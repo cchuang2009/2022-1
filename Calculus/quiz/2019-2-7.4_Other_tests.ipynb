{
 "cells": [
  {
   "cell_type": "markdown",
   "metadata": {},
   "source": [
    " <font style=\"font-size:2em\"><div align=\"center\"><b> Calculus</b></div></font>\n",
    "\n",
    " <font style=\"font-size:1.6em\"><b>7.4 Other Convergent tests pp.759-761<b></font>  \n",
    " "
   ]
  },
  {
   "cell_type": "markdown",
   "metadata": {},
   "source": [
    "<big><big>\n",
    "<big><b>11$^\\circ$).</b></big>\n",
    "Take $a_n=\\frac{(-1)^{n+1}\\sqrt n}{n^{3/2}}$. Since<br>\n",
    "<b>a$^\\circ$).</b> By alternating $n$-term test, it is convergent since    \n",
    "    $$\\frac{\\sqrt n}{n^{3/2}}=\\frac{1}{n}\\to0$$\n",
    "    <b>b$^\\circ$).</b> But it is divergent by $p$-series, $p=1$:</b> \n",
    "    $$\\sum_{n=1}^\\infty|a_n|=\\sum_{n=1}^\\infty\\frac{1}{n}$$\n",
    "It is conditional convergent.    \n",
    "</big> </big>"
   ]
  },
  {
   "cell_type": "markdown",
   "metadata": {},
   "source": [
    "<big><big>\n",
    "<big><b>12$^\\circ$).</b></big>\n",
    "Take \n",
    "    $$a_n=\\frac{(-1)^{n+1}n!}{1\\cdot 3\\cdot 5\\cdots (2n-1)}=(-1)^{n+1}\\frac{2^n(n!)^2}{2n!}$$\n",
    "Since,\n",
    "$$\\left|\\frac{a_{n+1}}{a_n}\\right|=\\frac{2^{n+1}((n+1)!)^2/(2n+2)!}{2^n(n!)^2/2n!}=\\frac{2(n+1)^2}{(2n+1)(2n+2)}\\to1/2<1$$    \n",
    "It is absolutely convergent by ratio test.    \n",
    "</big> </big>"
   ]
  },
  {
   "cell_type": "markdown",
   "metadata": {},
   "source": [
    "<big><big>\n",
    "<big><b>28$^\\circ$).</b></big>\n",
    "Take \n",
    "    $$\\sum_{n=0}^\\infty\\frac{\\cos n\\pi}{n+1}=\\sum_{n=0}^\\infty(-1)^{n}\\frac{1}{1+n}$$\n",
    "It is conditional convergent since it is alternative harmonic series.   \n",
    "</big> </big>"
   ]
  },
  {
   "cell_type": "markdown",
   "metadata": {},
   "source": [
    "<big><big>\n",
    "<big><b>64$^\\circ$).</b></big>\n",
    "By ratio test: \n",
    "    $$\\frac{a_{n+1}}{a_n}=\\left.\\frac{((n+1)!)^2}{3(n+1)!}\\right/\\frac{((n)!)^2}{3n!}=\\frac{(n+1)^2}{(3n+1)(3n+2)(3n+3)}\\to 0$$\n",
    "   \n",
    "It is absolutely convergent.    \n",
    "</big> </big>"
   ]
  },
  {
   "cell_type": "markdown",
   "metadata": {},
   "source": [
    "<big><big>\n",
    "<big><b>74$^\\circ$).</b></big>\n",
    "Take \n",
    "    $$a_n=\\left(\\frac{1}{n}-\\frac{1}{n^2}\\right)^n$$\n",
    "Since,\n",
    "$$(a_n)^{1/n}=\\frac{1}{n}-\\frac{1}{n^2}=\\frac{n-1}{n^2}\\to0$$    \n",
    "It is absolutely convergent by root test.    \n",
    "</big> </big>"
   ]
  },
  {
   "cell_type": "markdown",
   "metadata": {},
   "source": [
    "<big><big>\n",
    "<big><b>93$^\\circ$).</b></big>\n",
    "The recursive sequences defined as follows:\n",
    "$$ a_1=1/3,a_{n+1}=\\left(1+\\frac{1}{n}\\right)a_n=\\frac{n+1}{n}a_n$$ \n",
    "By mathematical induction law, we have:\n",
    "$$ a_{n+1}=\\frac{n+1}{n}a_n=   \\frac{n+1}{\\not n}\\frac{\\not n}{n-1}\\cdot a_{n-1}=\\cdots=\\frac{n+1}{3}$$ \n",
    "It is trivial, \n",
    "$$\\sum_{n=1}^\\infty a_n=\\sum_{n=1}^\\infty\\frac{n+1}{3}$$    \n",
    "is divergent.    \n",
    "</big> </big>"
   ]
  },
  {
   "cell_type": "markdown",
   "metadata": {},
   "source": [
    "<big><big>\n",
    "<big><b>99$^\\circ$).</b></big> Find the value of $x$ in the following such that the series is convergent: \n",
    "\n",
    "$$\\sum_{n=1}^\\infty a_n=\\sum_{n=1}^\\infty\\frac{(-1)^n(x+1)^n}{n} $$ \n",
    "By the ratio test, it would be convrgent if\n",
    "\\begin{eqnarray}\n",
    "    1&>& \\lim_{n\\to\\infty}\\left|\\frac{a_{n+1}}{a_n}\\right|\\\\\n",
    "     &=&\\lim_{n\\to\\infty}\\frac{n|x+1|}{n+1}=|x+1| \\\\\n",
    "\\end{eqnarray}     \n",
    "for any $|x+1|<1$, i.e. $x\\in(-2,0)$;  and is divergent for $x>0$ or $x<-2$. \n",
    "\n",
    "For the left cases, $x=0$ and $x=-2$:\n",
    "- $x=0$: convergent by alternating $n$-term test:\n",
    "$$\\sum_{n=0}^\\infty a_n=\\sum_{n=1}^\\infty\\frac{(-1)^n}{n}$$\n",
    "- $x=-2$: divergent by $p$-series, $p=1$:\n",
    "$$\\sum_{n=0}^\\infty a_n=\\sum_{n=1}^\\infty\\frac{(-1)^n(-1)^n}{n}=\\sum_{n=1}^\\infty\\frac{1}{n}$$\n",
    "\n",
    "   \n",
    "</big> </big>"
   ]
  },
  {
   "cell_type": "markdown",
   "metadata": {},
   "source": [
    "<big><big>\n",
    "<big><b>100$^\\circ$).</b></big> Find the value of $x$ in the following such that the series is convergent: \n",
    "\n",
    "$$\\sum_{n=0}^\\infty a_n=\\sum_{n=1}^\\infty n!\\left(\\frac{x}{2}\\right)^n $$ \n",
    "By the ratio test, it would be convrgent if\n",
    "\\begin{eqnarray}\n",
    "    1&>& \\lim_{n\\to\\infty}\\left|\\frac{a_{n+1}}{a_n}\\right|\\\\\n",
    "     &=&\\lim_{n\\to\\infty}(n+1)\\frac{|x|}{2} \\\\\n",
    "\\end{eqnarray}     \n",
    "But this limit is smaller than 1 only if $x=0$, otherwise, it is divergent. \n",
    "   \n",
    "</big> </big>"
   ]
  },
  {
   "cell_type": "markdown",
   "metadata": {},
   "source": [
    "<big><big>\n",
    "<big><b>101$^\\circ$).</b></big> Find the value of $x$ in the following such that the series is convergent: \n",
    "\n",
    "$$\\sum_{n=0}^\\infty a_n=\\sum_{n=1}^\\infty\\frac{(x+1)^n}{3n!} $$ \n",
    "By the ratio test, it would be convrgent if\n",
    "\\begin{eqnarray}\n",
    "    1&>& \\lim_{n\\to\\infty}\\left|\\frac{a_{n+1}}{a_n}\\right|\\\\\n",
    "     &=&\\lim_{n\\to\\infty}\\frac{|x+1|}{n+1}=0 \\\\\n",
    "\\end{eqnarray}     \n",
    "for any $x\\in\\mathbb R$; the series is convergent for any $x\\in\\mathbb R$. \n",
    "   \n",
    "</big> </big>"
   ]
  },
  {
   "cell_type": "code",
   "execution_count": null,
   "metadata": {},
   "outputs": [],
   "source": []
  },
  {
   "cell_type": "code",
   "execution_count": null,
   "metadata": {},
   "outputs": [],
   "source": []
  }
 ],
 "metadata": {
  "kernelspec": {
   "display_name": "Python 3",
   "language": "python",
   "name": "python3"
  },
  "language_info": {
   "codemirror_mode": {
    "name": "ipython",
    "version": 3
   },
   "file_extension": ".py",
   "mimetype": "text/x-python",
   "name": "python",
   "nbconvert_exporter": "python",
   "pygments_lexer": "ipython3",
   "version": "3.6.9"
  },
  "toc": {
   "colors": {
    "hover_highlight": "#DAA520",
    "navigate_num": "#000000",
    "navigate_text": "#333333",
    "running_highlight": "#FF0000",
    "selected_highlight": "#FFD700",
    "sidebar_border": "#EEEEEE",
    "wrapper_background": "#FFFFFF"
   },
   "moveMenuLeft": true,
   "nav_menu": {
    "height": "102px",
    "width": "252px"
   },
   "navigate_menu": true,
   "number_sections": true,
   "sideBar": true,
   "threshold": 4,
   "toc_cell": false,
   "toc_section_display": "block",
   "toc_window_display": false,
   "widenNotebook": false
  },
  "widgets": {
   "state": {},
   "version": "2.0.10"
  }
 },
 "nbformat": 4,
 "nbformat_minor": 1
}
