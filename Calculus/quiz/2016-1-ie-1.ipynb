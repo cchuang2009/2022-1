{
 "cells": [
  {
   "cell_type": "markdown",
   "metadata": {},
   "source": [
    "# <div align=\"center\">Calculus, 2016-1-IE-1</div>\n",
    "\n",
    "<h3><div align=\"right\">Name:&nbsp;&nbsp;&nbsp;&nbsp;&nbsp;&nbsp;&nbsp;&nbsp;&nbsp;&nbsp;&nbsp;&nbsp;&nbsp;&nbsp;&nbsp;&nbsp;&nbsp;&nbsp;&nbsp;&nbsp;&nbsp;&nbsp;&nbsp;&nbsp;  Sequence Number:&nbsp;&nbsp;&nbsp;&nbsp;&nbsp;&nbsp;&nbsp;&nbsp;&nbsp;&nbsp;&nbsp;&nbsp;&nbsp;&nbsp;&nbsp;&nbsp;&nbsp;&nbsp;&nbsp;&nbsp;&nbsp;&nbsp;&nbsp;&nbsp;</div></h3>\n"
   ]
  },
  {
   "cell_type": "markdown",
   "metadata": {
    "collapsed": true
   },
   "source": [
    "# <big>\n",
    "<big><b>1$^\\circ$). </b> </big>\n",
    "Find the following limits: (total 10%, each 5%) <br>\n",
    "a$^\\circ$). $\\mathbf{\\lim\\limits_{w\\to0}\\frac{\\sqrt{w+1}-\\sqrt{w^2+4}}{(w+1)^2-(w+2)^2}}$\n",
    "\n",
    "b$^\\circ$). $\\mathbf{\\lim\\limits_{x \\rightarrow \\infty} \\frac{\\sin x }{x}}$\n",
    "</big> "
   ]
  },
  {
   "cell_type": "markdown",
   "metadata": {},
   "source": [
    "<big>\n",
    "<big><b>2$^\\circ$).</b></big>\n",
    "Evaluate the following derivatives of given functions: (total 48%, each 6% ($\\color{brown}{\\times8}$))<br />\n",
    "a$^\\circ$). $\\mathbf{\\left[(2 + x^2)^{4} \\right]' }$\n",
    "b$^\\circ$). $\\mathbf{\\left[x^{2/3}+2x^3-2x \\right]'}$\n",
    "c$^\\circ$). $\\mathbf{\\left[x \\cos 2x \\right]'}$\n",
    "d$^\\circ$). $\\mathbf{\\left[\\frac{x+1}{1+x+x^2} \\right]'}$\n",
    "<br />\n",
    "e$^\\circ$). $\\mathbf{\\left.\\frac{d }{dx}(x^3-7x^2+8x-12)\\right|_{x=1} }$\n",
    "f$^\\circ$). $\\mathbf{\\frac{d }{dx}(2+x^2)^{1/2} }$\n",
    "g$^\\circ$). $\\mathbf{D_x\\left(\\sin^2x\\right)}$<br />\n",
    "h$^\\circ$). $\\mathbf{f'(0)}$ if exists where \n",
    "$$\\mathbf{f (x) = \\left\\{ \\begin{array}{l}\n",
    "       x^2 \\sin (1 / x) \\text{, if } x \\neq 0,\\\\\n",
    "       0, \\text{ if } x = 0\n",
    "     \\end{array} \\right. }$$\n",
    "</big> "
   ]
  },
  {
   "cell_type": "markdown",
   "metadata": {
    "collapsed": true
   },
   "source": [
    "<big>\n",
    "<big><b>3$^\\circ$).</b> </big>(total 12%, <font color=\"brown\">a$^\\circ$). 5%</font> and b$^\\circ$). <font color=\"brown\">7%)</font><br>\n",
    "a$^\\circ$). \n",
    "Suppose that \n",
    "$$ \\mathbf{f(x)=\\sqrt{1-x^2}\\text{ where } |x|<1}$$\n",
    "Find the third derivative of $\\mathbf{f(x)}$,  $\\mathbf{f'''(x)}$.\n",
    "<br />\n",
    "b$^\\circ$). Suppose that $x,y\\in\\mathbb{R}$ satisfy:\n",
    "$$\\mathbf{ x^3+y^3=3xy}$$\n",
    "Find the derivative of $y$ (5%), and find the positions of $(x,y)$ at which there is( are) horizontal tanget line(s) (2%). \n",
    "</big> "
   ]
  },
  {
   "cell_type": "markdown",
   "metadata": {
    "collapsed": true
   },
   "source": [
    "<big>\n",
    "<big><b>4$^\\circ$). </b> </big>(10%)\n",
    "Suppose that $\\mathbf{f(x)=\\sin x}$. <br>\n",
    "a$^\\circ$). (6%) For for any $\\mathbf{a,b \\in\\mathbb{R}}$, prove that\n",
    "$$\\mathbf{\\left|\\sin a-\\sin b\\right|\\le \\left|a-b\\right|}$$\n",
    "\n",
    "b$^\\circ$). (4%) Also find out the range of $x$ such that \n",
    "$$\\mathbf{|\\sin x - \\sqrt3/2|\\le|x-\\pi/3|.}$$\n",
    "</big> "
   ]
  },
  {
   "cell_type": "markdown",
   "metadata": {
    "collapsed": true
   },
   "source": [
    "<big>\n",
    "<big><b>5$^\\circ$).</b></big> (10%)\n",
    "Suppose that  $\\mathbf{f (x) = 2 \\cos x-x}$ for $\\mathbf{x \\in [\\pi/2, 3\\pi/2]}$. <br>\n",
    "a$^\\circ$). (5%) Find all the critical values of $\\mathbf{f(x)}$ (including boundary points).<br>\n",
    "b$^\\circ$). (5%) Find all the absolute extreme values of $\\mathbf{f (x)}$ if any. \n",
    "</big> "
   ]
  },
  {
   "cell_type": "markdown",
   "metadata": {
    "collapsed": true
   },
   "source": [
    "<big>\n",
    "<big><b>6$^\\circ$).</b></big> (total 10%, each 5%) Describe the following Theorems:<br>\n",
    "a$^\\circ$). Intermediate Vaule Theorem. <br>\n",
    "b$^\\circ$). Mean Vaule Theorem. \n",
    "</big> "
   ]
  },
  {
   "cell_type": "markdown",
   "metadata": {
    "collapsed": true
   },
   "source": []
  },
  {
   "cell_type": "markdown",
   "metadata": {
    "collapsed": true
   },
   "source": []
  },
  {
   "cell_type": "markdown",
   "metadata": {
    "collapsed": true
   },
   "source": []
  },
  {
   "cell_type": "markdown",
   "metadata": {
    "collapsed": true
   },
   "source": []
  },
  {
   "cell_type": "markdown",
   "metadata": {
    "collapsed": true
   },
   "source": []
  },
  {
   "cell_type": "markdown",
   "metadata": {
    "collapsed": true
   },
   "source": []
  },
  {
   "cell_type": "markdown",
   "metadata": {
    "collapsed": true
   },
   "source": [
    "Answer\n",
    "---"
   ]
  },
  {
   "cell_type": "code",
   "execution_count": 87,
   "metadata": {},
   "outputs": [],
   "source": [
    "from sympy import symbols, pprint,limit,diff,sin,sqrt,cos,solve,Derivative,Function"
   ]
  },
  {
   "cell_type": "code",
   "execution_count": 18,
   "metadata": {
    "collapsed": true
   },
   "outputs": [],
   "source": [
    "x,w =symbols(\"x w\")"
   ]
  },
  {
   "cell_type": "code",
   "execution_count": 56,
   "metadata": {},
   "outputs": [
    {
     "name": "stdout",
     "output_type": "stream",
     "text": [
      "1. a) The limit of [(w+1)^(1/2)-(w^2+4)^2]/[(w+1)^2-(w+2)^2] at w=0, is:\n",
      "1/3\n"
     ]
    }
   ],
   "source": [
    "# 1. a)\n",
    "print(\"1. a) The limit of [(w+1)^(1/2)-(w^2+4)^2]/[(w+1)^2-(w+2)^2] at w=0, is:\")\n",
    "pprint(limit((sqrt(w+1)-sqrt(w**2+4))/((w+1)**2-(w+2)**2),w,0))"
   ]
  },
  {
   "cell_type": "code",
   "execution_count": 55,
   "metadata": {},
   "outputs": [
    {
     "name": "stdout",
     "output_type": "stream",
     "text": [
      "1. b) The limit of sin(x)/x at x=00,, is:\n",
      "0\n"
     ]
    }
   ],
   "source": [
    "#1. b)\n",
    "print(\"1. b) The limit of sin(x)/x at x=00,, is:\")\n",
    "pprint(limit(sin(1/x)*x,x,0))"
   ]
  },
  {
   "cell_type": "code",
   "execution_count": 57,
   "metadata": {},
   "outputs": [
    {
     "name": "stdout",
     "output_type": "stream",
     "text": [
      "2. a) The derivatice of (2+x^2)^4, is:\n",
      "            3\n",
      "    ⎛ 2    ⎞ \n",
      "8⋅x⋅⎝x  + 2⎠ \n"
     ]
    }
   ],
   "source": [
    "#2. a)\n",
    "print(\"2. a) The derivatice of (2+x^2)^4, is:\")\n",
    "pprint(diff((2+x*x)**4,x))"
   ]
  },
  {
   "cell_type": "markdown",
   "metadata": {},
   "source": [
    "Since \n",
    "$$ \\left|\\frac{\\sin x}{x}\\right|\\le\\frac{1}{|x|}{{x\\to\\infty}\\atop\\Longrightarrow}0$$"
   ]
  },
  {
   "cell_type": "code",
   "execution_count": 61,
   "metadata": {},
   "outputs": [
    {
     "name": "stdout",
     "output_type": "stream",
     "text": [
      "2. b) The derivatice of x^(2/3)+2x^3-2x, is:\n",
      "                   -0.333333333333333      2    \n",
      "0.666666666666667⋅x                   + 6⋅x  - 2\n"
     ]
    }
   ],
   "source": [
    "#2. b)\n",
    "print(\"2. b) The derivatice of x^(2/3)+2x^3-2x, is:\")\n",
    "pprint(diff(x**(2/3)+2*x**3-2*x,x))"
   ]
  },
  {
   "cell_type": "code",
   "execution_count": 65,
   "metadata": {},
   "outputs": [
    {
     "name": "stdout",
     "output_type": "stream",
     "text": [
      "2. c) The derivatice of x cos 2x, is:\n",
      "-2⋅x⋅sin(2⋅x) + cos(2⋅x)\n"
     ]
    }
   ],
   "source": [
    "#2. c)\n",
    "print(\"2. c) The derivatice of x cos 2x, is:\")\n",
    "pprint(diff(x*cos(2*x),x))"
   ]
  },
  {
   "cell_type": "code",
   "execution_count": 67,
   "metadata": {},
   "outputs": [
    {
     "name": "stdout",
     "output_type": "stream",
     "text": [
      "2. c) The derivatice of (1+x)/(1+x+x^2), is:\n",
      "(-2⋅x - 1)⋅(x + 1)       1     \n",
      "────────────────── + ──────────\n",
      "              2       2        \n",
      "  ⎛ 2        ⎞       x  + x + 1\n",
      "  ⎝x  + x + 1⎠                 \n"
     ]
    }
   ],
   "source": [
    "#2. d)\n",
    "print(\"2. d) The derivatice of (1+x)/(1+x+x^2), is:\")\n",
    "pprint(diff((1+x)/(1+x+x**2),x))"
   ]
  },
  {
   "cell_type": "code",
   "execution_count": 74,
   "metadata": {},
   "outputs": [
    {
     "name": "stdout",
     "output_type": "stream",
     "text": [
      "2. e) The derivatice of x**3-7x**2+8x-12 at x=1, is:\n",
      "-3\n"
     ]
    }
   ],
   "source": [
    "#2. e)\n",
    "print(\"2. e) The derivatice of x**3-7x**2+8x-12 at x=1, is:\")\n",
    "pprint(diff(x**3-7*x**2+8*x-12,x).subs({x:1}))"
   ]
  },
  {
   "cell_type": "code",
   "execution_count": 75,
   "metadata": {},
   "outputs": [
    {
     "name": "stdout",
     "output_type": "stream",
     "text": [
      "2. f) The derivatice of (1+x)/(1+x+x^2), is:\n",
      "     x     \n",
      "───────────\n",
      "   ________\n",
      "  ╱  2     \n",
      "╲╱  x  + 2 \n"
     ]
    }
   ],
   "source": [
    "#2. f)\n",
    "print(\"2. f) The derivatice of (1+x)/(1+x+x^2), is:\")\n",
    "pprint(diff(sqrt(2+x**2),x))"
   ]
  },
  {
   "cell_type": "code",
   "execution_count": 76,
   "metadata": {},
   "outputs": [
    {
     "name": "stdout",
     "output_type": "stream",
     "text": [
      "2. g) The derivatice of sin^2(x), is:\n",
      "2⋅sin(x)⋅cos(x)\n"
     ]
    }
   ],
   "source": [
    "#2. g)\n",
    "print(\"2. g) The derivatice of sin^2(x), is:\")\n",
    "pprint(diff(sin(x)**2,x))"
   ]
  },
  {
   "cell_type": "markdown",
   "metadata": {},
   "source": [
    "**2.** h)\n",
    "\n",
    "$$ f'(0)=\\lim\\limits_{x\\to0}\\frac{x^2 \\sin (1 / x)-0}{x}=0$$"
   ]
  },
  {
   "cell_type": "code",
   "execution_count": 77,
   "metadata": {},
   "outputs": [
    {
     "name": "stdout",
     "output_type": "stream",
     "text": [
      "3. a) The third-order derivatice of (1-x^2)^(1/2), is:\n",
      "       ⎛             -2.5             -1.5⎞\n",
      "       ⎜ 2 ⎛   2    ⎞       ⎛   2    ⎞    ⎟\n",
      "-3.0⋅x⋅⎝x ⋅⎝- x  + 1⎠     + ⎝- x  + 1⎠    ⎠\n"
     ]
    }
   ],
   "source": [
    "#3. a)\n",
    "print(\"3. a) The third-order derivatice of (1-x^2)^(1/2), is:\")\n",
    "pprint(diff((1-x**2)**(1/2),x,3))"
   ]
  },
  {
   "cell_type": "code",
   "execution_count": 84,
   "metadata": {
    "collapsed": true
   },
   "outputs": [],
   "source": [
    "def ImplicitDiff(express):\n",
    "    l=diff(express,x);\n",
    "    print(\"y'(x) =\",solve(l,Derivative(y,x))[0])"
   ]
  },
  {
   "cell_type": "code",
   "execution_count": 88,
   "metadata": {},
   "outputs": [
    {
     "name": "stdout",
     "output_type": "stream",
     "text": [
      "3. b) The derivatice of y for x^3+y^3=3xy, is:\n",
      "y'(x) = (x**2 - y(x))/(x - y(x)**2)\n"
     ]
    }
   ],
   "source": [
    "y=Function(\"y\")\n",
    "y=y(x)\n",
    "print(\"3. b) The derivatice of y for x^3+y^3=3xy, is:\")\n",
    "ImplicitDiff(x**3+y**3-3*x*y)"
   ]
  },
  {
   "cell_type": "markdown",
   "metadata": {},
   "source": [
    "If $y'(x)=0$, it implies $y=x^2$. Then\n",
    "$$ x^3+(x^2)^3=3x(x^2)\\to x^3(x^3-2)=0\\to x=0,\\text{ or }2^{1/3}$$ \n",
    "And $x=0$ (not satisfied since it causes the $y'$ fails to exist) or $2^{1/3}$ implies $y=2^{2/3}$."
   ]
  },
  {
   "cell_type": "markdown",
   "metadata": {},
   "source": [
    "4). a)\n",
    "\n",
    "\n",
    "\\begin{eqnarray}\n",
    " \\left|\\frac{\\sin a-\\sin b}{a-b}\\right|&=& \\left|\\cos x_0\\right|\\le1\\\\\n",
    " \\Longrightarrow&&\\left|\\sin a-\\sin b\\right|\\le \\left|a-b\\right|\n",
    "\\end{eqnarray}\n",
    "b) $\\mathbf{x\\in\\mathbb{R}}$"
   ]
  },
  {
   "cell_type": "markdown",
   "metadata": {},
   "source": [
    "5). a)\n",
    "- critical values:\n",
    "$$ f' (x) =  - \\sin x -1 = 0 \\Longrightarrow \\sin x=-\\frac{1}{2}  \\Longrightarrow x=\\frac{7\\pi}{6}$$\n",
    "- boundary points, $x=\\pi/2,3\\pi/2$.\n",
    "\n",
    "- $f(\\pi/2)=-\\pi/2,f(\\frac{7\\pi}{6})\\sim -5.4, f(\\frac{3\\pi}{3})=-3\\pi/2$ implies absolute maximum is $-\\pi/2$ at $x=\\pi/2$ and absolute minimum, $-5.4$ approximately, at $\\frac{7\\pi}{6}$\n"
   ]
  },
  {
   "cell_type": "markdown",
   "metadata": {},
   "source": [
    "6) . <br>\n",
    "a). The Intermediate Theorem: if $f (x)$  is continuous on $[a, b]$ and $f (a)$ is not equal to $f (b)$.\n",
    "Then there exists at least one $c$ in the interval, such that $f (c) = k$ for\n",
    "each $k$ between $f (a)$ and $f (b)$. <br>\n",
    "b). Mean Value Theorem, MVT,\n",
    "Assume that $f (x)$\n",
    "  is continuous on $[a, b]$ and differentiable in $(a, b)$. There exists at\n",
    "  least one $c \\in (a, b)$ such that\n",
    "$$ f' (c) = \\frac{f (b) - f (a)}{b - a} $$"
   ]
  },
  {
   "cell_type": "code",
   "execution_count": 4,
   "metadata": {},
   "outputs": [
    {
     "name": "stdout",
     "output_type": "stream",
     "text": [
      "[NbConvertApp] Converting notebook 2016-1-ie-1.ipynb to html\n",
      "[NbConvertApp] Writing 274101 bytes to 2016-1-ie-1.html\n"
     ]
    }
   ],
   "source": [
    "!jupyter nbconvert --to html 2016-1-ie-1.ipynb"
   ]
  },
  {
   "cell_type": "code",
   "execution_count": null,
   "metadata": {
    "collapsed": true
   },
   "outputs": [],
   "source": []
  }
 ],
 "metadata": {
  "kernelspec": {
   "display_name": "Python 3",
   "language": "python",
   "name": "python3"
  },
  "language_info": {
   "codemirror_mode": {
    "name": "ipython",
    "version": 3
   },
   "file_extension": ".py",
   "mimetype": "text/x-python",
   "name": "python",
   "nbconvert_exporter": "python",
   "pygments_lexer": "ipython3",
   "version": "3.6.5"
  },
  "toc": {
   "colors": {
    "hover_highlight": "#DAA520",
    "navigate_num": "#000000",
    "navigate_text": "#333333",
    "running_highlight": "#FF0000",
    "selected_highlight": "#FFD700",
    "sidebar_border": "#EEEEEE",
    "wrapper_background": "#FFFFFF"
   },
   "moveMenuLeft": true,
   "nav_menu": {
    "height": "102px",
    "width": "252px"
   },
   "navigate_menu": true,
   "number_sections": true,
   "sideBar": true,
   "threshold": 4,
   "toc_cell": false,
   "toc_section_display": "block",
   "toc_window_display": false,
   "widenNotebook": false
  }
 },
 "nbformat": 4,
 "nbformat_minor": 1
}
