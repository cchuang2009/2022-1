{
 "cells": [
  {
   "cell_type": "markdown",
   "metadata": {},
   "source": [
    "<big><big><b><div align=\"center\">Calculus, 2019-2-M-2</div></b></big></big>\n",
    "\n",
    "<h3><div align=\"left\">Name:&nbsp;&nbsp;&nbsp;&nbsp;&nbsp;&nbsp;&nbsp;&nbsp;&nbsp;&nbsp;&nbsp;&nbsp;&nbsp;&nbsp;&nbsp;&nbsp;&nbsp;  Sequence Number:&nbsp;&nbsp;&nbsp;&nbsp;&nbsp;&nbsp;&nbsp;&nbsp;&nbsp;&nbsp;&nbsp;&nbsp;&nbsp;&nbsp;&nbsp;&nbsp;&nbsp;&nbsp;&nbsp;&nbsp;&nbsp;&nbsp;&nbsp;&nbsp;</div></h3>"
   ]
  },
  {
   "cell_type": "markdown",
   "metadata": {
    "collapsed": true
   },
   "source": [
    "<big>\n",
    "<big><b>1$^\\circ$). (total 60%)</b> \n",
    "Suppose that \n",
    "$$\n",
    " f(x,y)=\\left|\\begin{matrix}\n",
    "  \\frac{xy^2}{x^2+y^2}& \\text{ for }(x,y)\\ne(0,0)\\\\\n",
    "  0 & \\text{ for }(x,y)=(0,0)\\\\\n",
    "\\end{matrix}\\right.\n",
    "$$\n",
    "1$^\\circ$.) Find the limit of $f(x,y)$ at $(x,y)=(0,0)$ if exists. (10%)<br>\n",
    "2$^\\circ$.) Find all the partial derivatives of $f(x,y)$. (total 10%, each 5%)<br>\n",
    "3$^\\circ$.) Find all the partial derivatives of $f(x,y)$ with respect to $x,y$ respectively at $(x,y)=(0,0)$, i.e. $\\mathbf{\\frac{\\partial f}{\\partial x}(0,0),\\frac{\\partial f}{\\partial y}(0,0)}$. (total 20%, each 10%)<br>\n",
    "4$^\\circ$.) Find the directional derivative of $f(x,y)$ at $(x,y)=(2,1)$ from $(2,1)$ to $(3,0)$. (10%)<br>\n",
    "5$^\\circ$.) Find the diection at which the directional derivative of $f(x,y)$ at $(x,y)=(2,1)$ is maximum. (10%)\n",
    "</big> \n",
    "</big>    "
   ]
  },
  {
   "cell_type": "markdown",
   "metadata": {
    "collapsed": true
   },
   "source": [
    "<big>\n",
    "<big><b>2$^\\circ$).</b> \n",
    "(Total 20%) Suppose that $$f(x,y) = x^2-xy+y^2-4x+6y+6$$ is defined on $\\mathbf{D}\\subset\\mathbb{R}^2$.<br>\n",
    "a$^\\circ$). (5%) If $\\mathbf{D}=\\mathbb{R}^2$, find relative maximum, relative minimum, absolute maximum, absolute minimum, and <b>saddle point</b> if exist.<br>\n",
    "b$^\\circ$). (5%) If $\\mathbf{D}=\\{(x,y)\\in\\mathbb{R}^2|0\\le x,y\\le5 \\}$, find relative maximum, relative minimum, absolute maximum, absolute minimum, and <b>saddle point</b> if exist. <br>    \n",
    "c$^\\circ$). (10%) If $\\mathbf{D}=\\{(x,y)\\in\\mathbb{R}^2| 0\\le x\\le y \\le5 \\}$, find relative maximum, relative minimum, absolute maximum, absolute minimum, and <b>saddle point</b> if exist.    \n",
    "    \n",
    "</big> </big>"
   ]
  },
  {
   "cell_type": "markdown",
   "metadata": {
    "collapsed": true
   },
   "source": [
    "<big>\n",
    "<big><b>3$^\\circ$).</b> \n",
    "(Total 20%) Suppose that $$f(x,y) = x^3+y^3-10xy+1$$ is defined on $\\mathbf{D}\\subset\\mathbb{R}^2$.<br>\n",
    "a$^\\circ$). (5%) If $\\mathbf{D}=\\mathbb{R}^2$, find relative maximum, relative minimum, absolute maximum, absolute minimum, and <b>saddle point</b> if exist.<br>\n",
    "b$^\\circ$). (5%) If $\\mathbf{D}=\\{(x,y)\\in\\mathbb{R}^2|0\\le x,y,\\text{ and }x+y\\le3 \\}$, find relative maximum, relative minimum, absolute maximum, absolute minimum, and <b>saddle point</b> if exist.  <br>   \n",
    "c$^\\circ$). (10%) If $\\mathbf{D}=\\{(x,y)\\in\\mathbb{R}^2| -5\\le y \\le5 \\}$, find relative maximum, relative minimum, absolute maximum, absolute minimum, and <b>saddle point</b> if exist.\n",
    "</big> </big>"
   ]
  }
 ],
 "metadata": {
  "kernelspec": {
   "display_name": "Python 3",
   "language": "python",
   "name": "python3"
  },
  "language_info": {
   "codemirror_mode": {
    "name": "ipython",
    "version": 3
   },
   "file_extension": ".py",
   "mimetype": "text/x-python",
   "name": "python",
   "nbconvert_exporter": "python",
   "pygments_lexer": "ipython3",
   "version": "3.6.9"
  },
  "toc": {
   "colors": {
    "hover_highlight": "#DAA520",
    "navigate_num": "#000000",
    "navigate_text": "#333333",
    "running_highlight": "#FF0000",
    "selected_highlight": "#FFD700",
    "sidebar_border": "#EEEEEE",
    "wrapper_background": "#FFFFFF"
   },
   "moveMenuLeft": true,
   "nav_menu": {
    "height": "49px",
    "width": "252px"
   },
   "navigate_menu": true,
   "number_sections": true,
   "sideBar": true,
   "threshold": 4,
   "toc_cell": false,
   "toc_section_display": "block",
   "toc_window_display": false,
   "widenNotebook": false
  }
 },
 "nbformat": 4,
 "nbformat_minor": 1
}
