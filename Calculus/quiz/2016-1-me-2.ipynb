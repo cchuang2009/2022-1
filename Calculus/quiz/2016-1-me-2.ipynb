{
 "cells": [
  {
   "cell_type": "markdown",
   "metadata": {},
   "source": [
    "# <div align=\"center\">Calculus, 2016-1-ME-2                   </div>\n",
    "\n",
    "<h3><div align=\"middle\">Name:&nbsp;&nbsp;&nbsp;&nbsp;&nbsp;&nbsp;&nbsp;&nbsp;&nbsp;&nbsp;&nbsp;&nbsp;&nbsp;&nbsp;&nbsp;&nbsp;&nbsp;&nbsp;&nbsp;&nbsp;&nbsp;&nbsp;&nbsp;&nbsp;  Sequence Number:&nbsp;&nbsp;&nbsp;&nbsp;&nbsp;&nbsp;&nbsp;&nbsp;&nbsp;&nbsp;&nbsp;&nbsp;&nbsp;&nbsp;&nbsp;&nbsp;&nbsp;&nbsp;&nbsp;&nbsp;&nbsp;&nbsp;&nbsp;&nbsp;</div></h3>\n"
   ]
  },
  {
   "cell_type": "markdown",
   "metadata": {
    "collapsed": true
   },
   "source": [
    "<big>\n",
    "<big><b>1$^\\circ$). </b> </big>\n",
    "Describe <b>Fundamental Theorems of Calculus</b>.(10%)\n",
    "</big> "
   ]
  },
  {
   "cell_type": "markdown",
   "metadata": {},
   "source": [
    "<big>\n",
    "<big><b>2$^\\circ$).</b></big>\n",
    "Evaluate the following Integrations: (total 80%, each 10% ($\\color{brown}{\\times8}$))<br />\n",
    "a$^\\circ$). $\\mathbf{\\int(-2+3x^3)dx}$\n",
    "b$^\\circ$). $\\mathbf{\\int\\frac{x-2}{x^2}dx}$\n",
    "c$^\\circ$). $\\mathbf{\\int(2\\cos x +\\sin 3x)dx}$<br />\n",
    "d$^\\circ$). $\\mathbf{\\int^{-1}_{2}|1-x|dx}$\n",
    "e$^\\circ$). $\\mathbf{\\int x\\sin{(-x)}dx}$\n",
    "f$^\\circ$). $\\mathbf{\\int\\sin x\\cos^2xdx }$<br />\n",
    "g$^\\circ$). $\\mathbf{\\int_0^{\\pi/4}\\tan x dx}$\n",
    "h$^\\circ$). $\\mathbf{\\int\\frac{dx}{1-4x^2}}$ \n",
    "</big> "
   ]
  },
  {
   "cell_type": "markdown",
   "metadata": {
    "collapsed": true
   },
   "source": [
    "<big>\n",
    "<big><b>3$^\\circ$).</b></big> (total 10%) Evaluate the derivative\n",
    "$$\\mathbf{\\frac{d}{dx}\\int^{2x}_{3x}\\frac{t^2}{\\tan t+t}dt}$$\n",
    "</big> "
   ]
  },
  {
   "cell_type": "raw",
   "metadata": {
    "collapsed": true
   },
   "source": []
  },
  {
   "cell_type": "raw",
   "metadata": {
    "collapsed": true
   },
   "source": []
  },
  {
   "cell_type": "markdown",
   "metadata": {
    "collapsed": true
   },
   "source": [
    "Answer\n",
    "---"
   ]
  },
  {
   "cell_type": "markdown",
   "metadata": {},
   "source": [
    "FTC\n",
    "---\n",
    "(**Part I, Differentiation under Integral sign**)If $f (x)$ is  continuous on $[a, b],$ then $\\int_a^x f (t) d t$ is differentiable for $x \\in (a, b)$,and\n",
    "$$ \\mathbf{\\frac{d}{d x} \\int^x_a f (t) d t = f (x) }$$\n",
    "(**Part II, Evaluate Definite Integral via Indefinite Integral**) Assume that $F (x)$ is an indefinite integral of $f (x) $, then\n",
    "$$ \\mathbf{\\int_a^b f (x) d x = \\left. F (x) \\right|^b_a = F (b) - F (a) }$$"
   ]
  },
  {
   "cell_type": "code",
   "execution_count": 2,
   "metadata": {
    "collapsed": true
   },
   "outputs": [],
   "source": [
    "from sympy import *"
   ]
  },
  {
   "cell_type": "code",
   "execution_count": 3,
   "metadata": {
    "collapsed": true
   },
   "outputs": [],
   "source": [
    "x,t =symbols(\"x t\")"
   ]
  },
  {
   "cell_type": "code",
   "execution_count": 4,
   "metadata": {
    "collapsed": true
   },
   "outputs": [],
   "source": [
    "def Int(f,*args):\n",
    "    if(len(args)!=0):\n",
    "       a=args[0]\n",
    "       b=args[1]\n",
    "       print(\"                          \",b)\n",
    "       print(\"The definite integral of  ʃ %s dx is \" %f)\n",
    "       print(\"                          \",a)\n",
    "       pprint(integrate(f,(x,a,b)))\n",
    "    else:\n",
    "       print(\"The indefinite integral of  ʃ %s dx is \" %f) \n",
    "       pprint(integrate(f,x))"
   ]
  },
  {
   "cell_type": "code",
   "execution_count": 5,
   "metadata": {},
   "outputs": [
    {
     "name": "stdout",
     "output_type": "stream",
     "text": [
      "The indefinite integral of  ʃ 3*x**3 - 2 dx is \n",
      "   4      \n",
      "3⋅x       \n",
      "──── - 2⋅x\n",
      " 4        \n"
     ]
    }
   ],
   "source": [
    "#1.a)\n",
    "Int(3*x**3-2)"
   ]
  },
  {
   "cell_type": "code",
   "execution_count": 6,
   "metadata": {},
   "outputs": [
    {
     "name": "stdout",
     "output_type": "stream",
     "text": [
      "The indefinite integral of  ʃ (x - 2)/x**2 dx is \n",
      "         2\n",
      "log(x) + ─\n",
      "         x\n"
     ]
    }
   ],
   "source": [
    "#1.b)\n",
    "Int((x-2)/x**2)"
   ]
  },
  {
   "cell_type": "code",
   "execution_count": 7,
   "metadata": {},
   "outputs": [
    {
     "name": "stdout",
     "output_type": "stream",
     "text": [
      "The indefinite integral of  ʃ sin(3*x) + 2*cos(x) dx is \n",
      "           cos(3⋅x)\n",
      "2⋅sin(x) - ────────\n",
      "              3    \n"
     ]
    }
   ],
   "source": [
    "# 1. c)\n",
    "Int(2*cos(x)+sin(3*x))"
   ]
  },
  {
   "cell_type": "code",
   "execution_count": 10,
   "metadata": {},
   "outputs": [
    {
     "data": {
      "text/plain": [
       "5/2"
      ]
     },
     "execution_count": 10,
     "metadata": {},
     "output_type": "execute_result"
    }
   ],
   "source": [
    "#1.d)\n",
    "integrate(1-x,(x,-1,1))+integrate(x-1,(x,1,2))"
   ]
  },
  {
   "cell_type": "code",
   "execution_count": 11,
   "metadata": {},
   "outputs": [
    {
     "name": "stdout",
     "output_type": "stream",
     "text": [
      "The indefinite integral of  ʃ -x*sin(x) dx is \n",
      "x⋅cos(x) - sin(x)\n"
     ]
    }
   ],
   "source": [
    "#1. e)\n",
    "Int(x*sin(-x))"
   ]
  },
  {
   "cell_type": "code",
   "execution_count": 12,
   "metadata": {},
   "outputs": [
    {
     "name": "stdout",
     "output_type": "stream",
     "text": [
      "The indefinite integral of  ʃ sin(x)*cos(x)**2 dx is \n",
      "    3    \n",
      "-cos (x) \n",
      "─────────\n",
      "    3    \n"
     ]
    }
   ],
   "source": [
    "#1. f)\n",
    "Int(sin(x)*cos(x)**2)"
   ]
  },
  {
   "cell_type": "code",
   "execution_count": 13,
   "metadata": {},
   "outputs": [
    {
     "name": "stdout",
     "output_type": "stream",
     "text": [
      "                           pi/4\n",
      "The definite integral of  ʃ tan(x) dx is \n",
      "                           0\n",
      "log(2)\n",
      "──────\n",
      "  2   \n"
     ]
    }
   ],
   "source": [
    "#1. g)\n",
    "Int(tan(x),0,pi/4)"
   ]
  },
  {
   "cell_type": "code",
   "execution_count": 16,
   "metadata": {},
   "outputs": [
    {
     "name": "stdout",
     "output_type": "stream",
     "text": [
      "The indefinite integral of  ʃ 1/(-4*x**2 + 1) dx is \n",
      "  log(x - 1/2)   log(x + 1/2)\n",
      "- ──────────── + ────────────\n",
      "       4              4      \n"
     ]
    }
   ],
   "source": [
    "#1. h)\n",
    "Int(1/(1-4*x**2))"
   ]
  },
  {
   "cell_type": "code",
   "execution_count": 17,
   "metadata": {},
   "outputs": [
    {
     "data": {
      "text/plain": [
       "-27*x**2/(3*x + tan(3*x)) + 8*x**2/(2*x + tan(2*x)) + Integral(0, (t, 3*x, 2*x))"
      ]
     },
     "execution_count": 17,
     "metadata": {},
     "output_type": "execute_result"
    }
   ],
   "source": [
    "#2. \n",
    "\n",
    "diff(integrate(t**2/(tan(t)+t),(t,3*x,2*x)),x)"
   ]
  },
  {
   "cell_type": "markdown",
   "metadata": {},
   "source": [
    "$$\\mathbf{\\frac{d}{dx}\\int^{2x}_{3x}\\frac{t^2}{\\tan t+t}dt=\\frac{8x^2}{\\tan2x+2x}-\\frac{27x^2}{\\tan3x+3x}}$$"
   ]
  },
  {
   "cell_type": "code",
   "execution_count": 4,
   "metadata": {},
   "outputs": [
    {
     "name": "stdout",
     "output_type": "stream",
     "text": [
      "[NbConvertApp] Converting notebook 2016-1-ie-1.ipynb to html\n",
      "[NbConvertApp] Writing 274101 bytes to 2016-1-ie-1.html\n"
     ]
    }
   ],
   "source": [
    "!jupyter nbconvert --to html 2016-1-ie-1.ipynb"
   ]
  },
  {
   "cell_type": "code",
   "execution_count": null,
   "metadata": {
    "collapsed": true
   },
   "outputs": [],
   "source": []
  }
 ],
 "metadata": {
  "kernelspec": {
   "display_name": "Python 3",
   "language": "python",
   "name": "python3"
  },
  "language_info": {
   "codemirror_mode": {
    "name": "ipython",
    "version": 3
   },
   "file_extension": ".py",
   "mimetype": "text/x-python",
   "name": "python",
   "nbconvert_exporter": "python",
   "pygments_lexer": "ipython3",
   "version": "3.6.1"
  }
 },
 "nbformat": 4,
 "nbformat_minor": 1
}
