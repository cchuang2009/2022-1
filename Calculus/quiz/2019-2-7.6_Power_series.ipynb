{
 "cells": [
  {
   "cell_type": "markdown",
   "metadata": {},
   "source": [
    " <font style=\"font-size:2em\"><div align=\"center\"><b> Calculus</b></div></font>\n",
    "\n",
    " <font style=\"font-size:1.6em\"><b>7.5~7.6 Taylor Series and Power Series pp.479<b></font>  \n",
    " "
   ]
  },
  {
   "cell_type": "markdown",
   "metadata": {},
   "source": [
    "<big><big>\n",
    "<big><b>10$^\\circ$).</b></big>\n",
    "Consider $\\sum\\limits_{n=0}^\\infty a_n$ where $a_n=\\frac{(2n)! x^{2n}}{n!}$. It is convergent if \n",
    "\\begin{eqnarray}\n",
    "1&\\gt&\\lim\\limits_{n\\to\\infty}\\left|\\frac{a_{n+1}}{a_n}\\right|\\cr\n",
    "&=& \\lim\\limits_{n\\to\\infty}\\left|\\frac{(2n+2)!x^{2n+2}}{(n+1)!}\\big/\n",
    "    \\frac{(2n)!x^{2n}}{n!}\\right|\\cr\n",
    "&=& \\lim\\limits_{n\\to\\infty}\\left|2(2n+1)x^2\\right|\\cr    \n",
    "\\end{eqnarray}    \n",
    "  This holds only when $x=0$ otherwise the limit is divergent. Thus the convergent radius is 0.    \n",
    "</big> </big>"
   ]
  },
  {
   "cell_type": "markdown",
   "metadata": {},
   "source": [
    "<big><big>\n",
    "<big><b>12$^\\circ$).</b></big>\n",
    "Consider $\\sum\\limits_{n=1}^\\infty a_n$ where $a_n=(-1)^n\\frac{x^{n}}{n}$. It is convergent if \n",
    "\\begin{eqnarray*}\n",
    "1&\\gt&\\lim\\limits_{n\\to\\infty}\\left|\\frac{a_{n+1}}{a_n}\\right|\\cr\n",
    "&=& \\lim\\limits_{n\\to\\infty}\\left|\\frac{x^{n+1}}{(n+1)}\\big/\n",
    "    \\frac{x^n}{n}\\right|\\cr\n",
    "&=& \\lim\\limits_{n\\to\\infty}\\left|\\frac{n}{n+1}x\\right|=|x|\\cr    \n",
    "\\end{eqnarray*}    \n",
    "\n",
    "- $|x|<1$, convergent; $|x|>1$, divergent.\n",
    "- In the case of $|x|=1$, i.e. $x=1$ or $x=-1$:\n",
    "   - $x=1$: Series is convergent (alternating harmonic series is convergent):\n",
    "    $$\\sum\\limits_{n=1}^\\infty a_n=\\sum\\limits_{n=1}^\\infty\\frac{(-1)^n}{n}$$\n",
    "   - $x=-1$: Series is divergent (harmonic series is divergent):\n",
    "    $$\\sum\\limits_{n=1}^\\infty a_n=\\sum\\limits_{n=1}^\\infty\\frac{(-1)^{2n}}{n}=\\sum\\limits_{n=1}^\\infty\\frac{1}{n}$$\n",
    "\n",
    "This series is convergent if $x\\in(-1,1]$ and radius of convergence is 1.    \n",
    "</big> </big>\n"
   ]
  },
  {
   "cell_type": "markdown",
   "metadata": {},
   "source": [
    "<big><big>\n",
    "<big><b>21$^\\circ$).</b></big>\n",
    "Consider $f(x)=\\sum\\limits_{n=1}^\\infty (n+1)x^n$.\n",
    "- Integrate $f(t)$ from $t=0$ to $x$:\n",
    "\\begin{eqnarray}    \n",
    "\\int_0^xf(t)dt&=&\\sum_{n=1}^\\infty\\int_0^x(n+1)t^ndt\\\\\n",
    "    &=&\\sum_{n=1}^\\infty{(n\\color{red}\\not+1)}\\frac{t^{n+1}}{n\\color{red}\\not+1}\\left|^x_0\\right.\\\\\n",
    "    &=&\\sum_{n=1}^\\infty x^{n+1} =\\frac{1}{1-x}-1-x   \n",
    "\\end{eqnarray}    \n",
    "convergent for $|x|<1$. \n",
    "- derivative of $f(x)$ is convergent for $|x|<1$:\n",
    "$$\\left(\\sum\\limits_{n=1}^\\infty (n+1)x^n\\right)'=\\sum\\limits_{n=1}^\\infty n(n+1)x^{n-1}=\\sum\\limits_{n=0}^\\infty (n+2)(n+1)x^{n}$$    \n",
    "- As same reason, second derivative of $f(x)$ is convergent for $|x|<1$:\n",
    "    $$f''(x)=\\sum\\limits_{n=0}^\\infty (n+1)(n+2)(n+3)x^{n}$$\n",
    "</big> </big>\n"
   ]
  },
  {
   "cell_type": "markdown",
   "metadata": {},
   "source": [
    "<big><big>\n",
    "<big><b>24$^\\circ$).</b></big>\n",
    "Consider $\\sum\\limits_{n=1}^\\infty a_n$ where $a_n=\\frac{(n!)^kx^{n}}{(kn)!}$. It is convergent if \n",
    "\\begin{eqnarray}\n",
    "1&\\gt&\\lim\\limits_{n\\to\\infty}\\left|\\frac{a_{n+1}}{a_n}\\right|\\cr\n",
    "&=& \\lim\\limits_{n\\to\\infty}\\left|\\frac{((n+1)!)^kx^n}{(kn+k)!}\\big/\n",
    "    \\frac{(n!)^kx^n}{(kn)!}\\right|\\cr\n",
    "&=& \\lim\\limits_{n\\to\\infty}\\left|\\frac{(n+1)^kx}{(kn+1)\\cdot(kn+2)\\cdots(kn+k)}\\right|=\\frac{|x|}{k^k}\\cr    \n",
    "\\end{eqnarray}\n",
    "This implies that the series is convergent if \n",
    "$$  \\frac{|x|}{k^k}\\lt1\\Longrightarrow |x|<k^k$$  \n",
    "\n",
    "Thus, radius of convergence is $k^k$, where $k=1,2,\\cdots$.    \n",
    "</big> </big>\n"
   ]
  },
  {
   "cell_type": "markdown",
   "metadata": {},
   "source": [
    "<big><big>\n",
    "<big><b>33$^\\circ$).</b></big>\n",
    "Consider $\\sum\\limits_{n=1}^\\infty a_n$ where $a_n=\\frac{(-1)^{n+1}(x-2)^n}{n}$. It is convergent if \n",
    "\\begin{eqnarray}\n",
    "1&\\gt&\\lim\\limits_{n\\to\\infty}\\left|\\frac{a_{n+1}}{a_n}\\right|\\cr\n",
    "&=& \\lim\\limits_{n\\to\\infty}\\left|\\frac{(x-2)^{n+1}}{n+1}\\big/\n",
    "    \\frac{(x-2)^n}{n}\\right|\\cr\n",
    "&=& \\lim\\limits_{n\\to\\infty}\\left|\\frac{n(x-2)}{n+1}\\right|=|x-2|\\cr    \n",
    "\\end{eqnarray}    \n",
    "\n",
    "- $|x-2|<1$, convergent; $|x-2|>1$, divergent;\n",
    "- When, $|x-2|=1$, i.e. $x=3$ or $x=1$:\n",
    "    - $x=3$, convergent since alternating harmonic series is convergent:\n",
    "    $$\\sum\\limits_{n=1}^\\infty\\frac{(-1)^{n+1}(3-2)^n}{n}=\\sum\\limits_{n=1}^\\infty\\frac{(-1)^{n+1}}{n}$$\n",
    "    - $x=1$, convergent since  harmonic series is divergent:\n",
    "    $$\\sum\\limits_{n=1}^\\infty\\frac{(-1)^{n+1}(1-2)^n}{n}=\\sum\\limits_{n=1}^\\infty\\frac{(-1)^{2n+1}}{n}=-\\sum\\limits_{n=1}^\\infty\\frac{1}{n}$$\n",
    "Radius of convergence is 1 and convergent interval is $(1,3]$.    \n",
    "</big> </big>\n"
   ]
  },
  {
   "cell_type": "markdown",
   "metadata": {},
   "source": [
    "<big><big>\n",
    "<big><b>50$^\\circ$).</b></big>\n",
    "\n",
    "\\begin{eqnarray}\n",
    "    && 1+\\color{red}{2x}+x^2+\\color{red}{2x^3}+x^4+\\color{red}{2x^4}+\\cdots\\\\\n",
    "    &=&(1+x^2+x^4+\\cdots)+\\color{red}{(2x+2x^3+2x^5+\\cdots)}\\\\\n",
    "    &=&\\frac{1}{1-x^2}+\\color{red}{\\frac{2x}{1-x^2}}=\\frac{1+\\color{red}{2x}}{1-x^2}  \n",
    "\\end{eqnarray}    \n",
    "\n",
    "for $|x^2|<1$, (i.e. $|x|<1$).    \n",
    "</big> </big>\n"
   ]
  },
  {
   "cell_type": "markdown",
   "metadata": {},
   "source": [
    "<font style=\"font-size:1.6em\"><b>7.7~7.8 Representation of Functions of Power Series, Taylor and Maclaurin's Series pp.486<b></font>  \n",
    " "
   ]
  },
  {
   "cell_type": "markdown",
   "metadata": {},
   "source": [
    "<big><big>\n",
    "<big><b>10$^\\circ$).</b></big>\n",
    "Taylor Series of $\\frac{4}{3x+2}$ at $x=3$:\n",
    "\\begin{eqnarray*}\n",
    "  \\frac{4}{2 + 3x} & = & \\frac{4}{\\begin{array}{|l|}\n",
    "    \\hline\n",
    "    11\\\\\n",
    "    \\hline\n",
    "  \\end{array} + 3(x - 3)}\\\\\n",
    "  & = & \\frac{4}{\\begin{array}{|l|}\n",
    "    \\hline\n",
    "    11\\\\\n",
    "    \\hline\n",
    "  \\end{array}} \\cdot \\frac{1}{1 + \\left( \\frac{3(x - 3)}{\\begin{array}{|l|}\n",
    "    \\hline\n",
    "    11\\\\\n",
    "    \\hline\n",
    "  \\end{array}} \\right)}\\\\\n",
    "  & = & \\frac{4}{\\begin{array}{|l|}\n",
    "    \\hline\n",
    "    11\\\\\n",
    "    \\hline\n",
    "  \\end{array}} \\cdot \\sum_{n = 0}^{\\infty} \\begin{array}{|l|}\n",
    "    \\hline\n",
    "    - 1\\\\\n",
    "    \\hline\n",
    "  \\end{array}^n \\left( \\frac{\\begin{array}{|l|}\n",
    "    \\hline\n",
    "    3(x - 3)\\\\\n",
    "    \\hline\n",
    "  \\end{array}}{\\begin{array}{|l|}\n",
    "    \\hline\n",
    "    11\\\\\n",
    "    \\hline\n",
    "  \\end{array}} \\right)^n\\\\\n",
    "  & = & \\sum_{n = 0}^{\\infty}  \\begin{array}{|l|}\n",
    "    \\hline\n",
    "    \\frac{(- 1)^n\\cdot4\\cdot3^n}{11^{n + 1}} \\\\\n",
    "    \\hline\n",
    "  \\end{array} \\cdot (x - 3)^n\n",
    "\\end{eqnarray*}\n",
    "    \n",
    "</big> </big>\n",
    "    "
   ]
  },
  {
   "cell_type": "markdown",
   "metadata": {},
   "source": [
    "<big><big>\n",
    "<big><b>25$^\\circ$).</b></big>\n",
    "Differentiating the both sides :\n",
    "  $$ \\frac{1}{1 - x} = \\sum_{n = 0}^{\\infty} x^n $$\n",
    "  gets\n",
    "\n",
    "\\begin{eqnarray*}\n",
    "     \\left( \\frac{1}{1 - x} \\right)'=\\frac{1}{(1 - x)^2} & = & \\sum_{n = 1}^{\\infty} n x^{n - 1}\\\\\n",
    "    & = & \\sum_{n = 0}^{\\infty} (n + 1) x^n    \n",
    "  \\end{eqnarray*}\n",
    "and convergent for $|x|<1$.        \n",
    "</big> </big>\n"
   ]
  },
  {
   "cell_type": "markdown",
   "metadata": {},
   "source": [
    "<big><big>\n",
    "<big><b>26$^\\circ$).</b></big>\n",
    "Continue from above:\n",
    "\n",
    "\\begin{eqnarray*}\n",
    "     \\frac{x}{(1 - x)^2} & = & x\\cdot\\sum_{n = 1}^{\\infty} n x^{n - 1}\\\\\n",
    "    & = & \\sum_{n = 1}^{\\infty}n x^n   \n",
    "  \\end{eqnarray*}\n",
    "and also convergent for $|x|<1$.        \n",
    "</big> </big>\n"
   ]
  },
  {
   "cell_type": "markdown",
   "metadata": {},
   "source": [
    "<big><big>\n",
    "<big><b>30$^\\circ$).</b></big>\n",
    "Continue from 26$^\\circ$) above:\n",
    "$$  \\frac{1}{(1 - x)^2} =\\frac{1}{x} \\sum_{n = 1}^{\\infty}n x^n =2$$    \n",
    "<big>a$^\\circ$).</big> at $x=2/3$:\n",
    "$$\\frac{1}{3}\\cdot \\sum_{n = 1}^{\\infty}n (2/3)^n=\\frac{1}{3}\\cdot\\frac{2/3}{(1-2/3)^2}=2$$  \n",
    " <big>b$^\\circ$).</big> at $x=9/10$:\n",
    "$$\\frac{1}{10}\\cdot \\sum_{n = 1}^{\\infty}n (9/10)^n=\\frac{1}{10}\\cdot\\frac{9/10}{(1-9/10)^2}=9$$    \n",
    "</big> </big>\n"
   ]
  },
  {
   "cell_type": "markdown",
   "metadata": {},
   "source": [
    "pp.497\n",
    "---\n",
    "<big><big>\n",
    "<big><b>15$^\\circ$).</b></big>\n",
    "(Binomial series) If $r \\neq 0, 1, 2, 3, \\cdots$, and $r \\in R$, then\n",
    "   $$(1 + x)^r = \\sum_{n = 0}^{\\infty} {r \\choose n} (-x)^n$$  \n",
    "    where ${r \\choose n} =\n",
    "  \\frac{r (r - 1) (r - 2) \\cdots (r - n + 1)}{n!}$. Here, $r=-1/2$ and replace $x$ by $\\color{red}{-x^2}$:\n",
    " $$(1 \\color{red}{-x^2})^{-1/2} = \\sum_{n = 0}^{\\infty} { -\\frac{1}{2}\\choose n} (\\color{red}{x^2})^n= \\sum_{n = 0}^{\\infty} {-\\frac{1}{2} \\choose n} \\color{red}{x}^{\\color{red}{2}n}$$ \n",
    "\n",
    "Also the cofficient could be rewritten as follows:\n",
    "\\begin{eqnarray*}\n",
    "    \\left(\\begin{array}{c}\n",
    "      -\\frac{1}{2}\\\\\n",
    "      n\n",
    "    \\end{array}\\right) & = & \\frac{-\\frac{1}{2} (-\\frac{1}{2} - 1) (-\\frac{1}{2}\n",
    "    - 2) \\cdots (-\\frac{1}{2} - n + 1)}{n!}\\\\\n",
    "    & = & \\frac{ (- \\frac{1}{2}) (- \\frac{3}{2}) \\cdots (- \\frac{2\n",
    "    n - 1}{2})}{n!}\\\\\n",
    "    & = & (- 1)^{n} \\frac{1 \\cdot 3 \\cdot \\cdots \\cdot (2 n - 1)}{2^n\n",
    "    n!}\\\\\n",
    "    & = & (- 1)^{n} \\frac{1 \\cdot 3 \\cdot \\cdots \\cdot (2 n-1)}{2^n n!}\n",
    "    \\cdot \\frac{2 \\cdot 4 \\cdot \\cdots \\cdot (2 n)}{2 \\cdot 4 \\cdot \\cdots\n",
    "    \\cdot (2 n)}\\\\\n",
    "    & = & (- 1)^{n} \\frac{(2 n ) !}{2^n n!} \\cdot \\frac{1}{2^{n}\n",
    "    \\cdot 1 \\cdot 2 \\cdot \\cdots \\cdot (n - 1) \\cdot n}\\\\\n",
    "    & = & (- 1)^{n} \\frac{ (2 n) !}{2^{2 n}  (n!)^2}\n",
    "  \\end{eqnarray*}\n",
    "Conclusion:\n",
    "$$(1 -x^2)^{-1/2} =  \\sum_{n = 0}^{\\infty} (- 1)^{n} \\frac{ (2 n) !}{2^{2 n}(n!)^2} x^{2n}   $$\n",
    "is convergent for $|x|<1$.    \n",
    "</big> </big>"
   ]
  },
  {
   "cell_type": "markdown",
   "metadata": {},
   "source": [
    "<big><big>\n",
    "<big><b>24$^\\circ$).</b></big>\n",
    "$$ \\cos x = \\sum^{\\infty}_{n = 0} \\frac{(-1)^n}{(2n)!} x^{2 n} \\Longrightarrow\\cos x^2 = \\sum^{\\infty}_{n = 0} \\frac{(-1)^n}{(2n)!} x^{4 n}$$\n",
    "    \n",
    "is convergent for $x\\in\\mathbb{R}$.    \n",
    "</big> </big>\n"
   ]
  },
  {
   "cell_type": "code",
   "execution_count": null,
   "metadata": {},
   "outputs": [],
   "source": []
  }
 ],
 "metadata": {
  "kernelspec": {
   "display_name": "Python 3",
   "language": "python",
   "name": "python3"
  },
  "language_info": {
   "codemirror_mode": {
    "name": "ipython",
    "version": 3
   },
   "file_extension": ".py",
   "mimetype": "text/x-python",
   "name": "python",
   "nbconvert_exporter": "python",
   "pygments_lexer": "ipython3",
   "version": "3.6.9"
  },
  "toc": {
   "colors": {
    "hover_highlight": "#DAA520",
    "navigate_num": "#000000",
    "navigate_text": "#333333",
    "running_highlight": "#FF0000",
    "selected_highlight": "#FFD700",
    "sidebar_border": "#EEEEEE",
    "wrapper_background": "#FFFFFF"
   },
   "moveMenuLeft": true,
   "nav_menu": {
    "height": "102px",
    "width": "252px"
   },
   "navigate_menu": true,
   "number_sections": true,
   "sideBar": true,
   "threshold": 4,
   "toc_cell": false,
   "toc_section_display": "block",
   "toc_window_display": false,
   "widenNotebook": false
  },
  "widgets": {
   "state": {},
   "version": "2.0.10"
  }
 },
 "nbformat": 4,
 "nbformat_minor": 1
}
