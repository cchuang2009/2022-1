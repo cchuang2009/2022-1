{
 "cells": [
  {
   "cell_type": "markdown",
   "metadata": {},
   "source": [
    "<big><big><b><div align=\"center\">Calculus, 2022-2-AIE-3, Integration of Multiple-Variable Functions</div></b></big></big>\n",
    "<br>\n",
    "<b><big>Name:________________ , Sequence Number:________________ </big></b>"
   ]
  },
  {
   "cell_type": "markdown",
   "metadata": {
    "collapsed": true,
    "jupyter": {
     "outputs_hidden": true
    }
   },
   "source": [
    "<big>\n",
    "<big><b>1$^\\circ$). (total 40% , each 20%)</b> \n",
    "Evaluate the following double integrals:<br>\n",
    "a$^\\circ$). Suppose that $R=\\{(x,y)\\in\\mathbb{R}^2|0\\le x\\le2, x\\le y\\le2\\}$, and $e$ is Euler number:\n",
    "    $$\\iint_Re^{-x/y}dA$$ \n",
    "b$^\\circ$). Suppose that $R=\\{(x,y)\\in\\mathbb{R}^2|x\\ge0, y\\in \\mathbb{R}\\}$,\n",
    "    $$ \\iint_R e^{-y^2+xy}dA $$\n",
    "</big>  \n",
    "</big>    "
   ]
  },
  {
   "cell_type": "markdown",
   "metadata": {
    "collapsed": true,
    "jupyter": {
     "outputs_hidden": true
    }
   },
   "source": [
    "<big>\n",
    "<big><b>2$^\\circ$).</b> \n",
    "(Total 60% each 20%) Evaluate the following triple integrals:<br>\n",
    "a$^\\circ$). Suppose that $R=\\{(x,y,z)\\in\\mathbb{R}^3|0\\le x,y,z, 0\\le x+2y+z\\le2\\}$:\n",
    "$$\\iiint_R(x+2y+z)dV$$ \n",
    "b$^\\circ$). Suppose that $R=\\{(x,y,z)\\in\\mathbb{R}^3|0\\le y, x^2+y^2-2y\\le0,0\\le z\\le y\\}$:\n",
    "$$\\iiint_R(x+2y+z)dV$$   \n",
    "c$^\\circ$). Suppose that $R=\\{(x,y,z)\\in\\mathbb{R}^3|\\sqrt{x^2+y^2}\\le z, 1\\le x^2+y^2+z^2\\le4\\}$:\n",
    "$$\\iiint_R(x+2y+z)dV$$ \n",
    "\n",
    "          \n",
    "</big> </big>"
   ]
  },
  {
   "cell_type": "raw",
   "metadata": {},
   "source": [
    "\n",
    "\n",
    "\n",
    "\n",
    "\n",
    "\n",
    "\n",
    "\n",
    "\n",
    "\n",
    "\n",
    "\n",
    "\n",
    "\n",
    "\n",
    "\n",
    "\n",
    "\n",
    "\n",
    "\n",
    "\n",
    "\n",
    "\n",
    "\n",
    "\n",
    "\n",
    "\n",
    "\n",
    "\n",
    "\n",
    "\n",
    "\n",
    "\n",
    "\n",
    "\n",
    "\n",
    "\n",
    "\n",
    "\n"
   ]
  },
  {
   "cell_type": "code",
   "execution_count": 1,
   "metadata": {},
   "outputs": [],
   "source": [
    "from MultipleCalculus import *"
   ]
  },
  {
   "cell_type": "code",
   "execution_count": 7,
   "metadata": {},
   "outputs": [
    {
     "data": {
      "text/latex": [
       "\\begin{eqnarray}\\iint_{\\Large{\\mathbf{V}}=\\left\\{\\large{\\begin{array}{l} 0 \\le y \\le 2,\\cr 0 \\le x \\le y,\\cr\\end{array}}\\right\\}} \\color{brown}{e^{- \\frac{x}{y}}} dV&=& \\iint_{\\Large{\\mathbf{V}}} \\color{brown}{e^{- \\frac{x}{y}}}  d y  d x  \\cr \\color{blue}{\\text{Fubini's Theorem}}&=&\\int_{0}^{2}d{y}\\int_{0}^{y} \\color{brown}{e^{- \\frac{x}{y}}}d{x}\\cr &=&\\int_{0}^{2} \\left.\\color{brown}{- y e^{- \\frac{x}{y}}} \\right|_{0}^{y} d{y}\\cr&=&\\int_{0}^{2} \\color{brown}{- \\frac{y}{e} + y}d{y}\\cr &=&\\left. \\color{brown}{\\frac{y^{2} \\left(-1 + e\\right)}{2 e}} \\right|_{0}^{2}\\cr&=&\\frac{-2 + 2 e}{e}\\end{eqnarray}"
      ],
      "text/plain": [
       "<IPython.core.display.Latex object>"
      ]
     },
     "execution_count": 7,
     "metadata": {},
     "output_type": "execute_result"
    }
   ],
   "source": [
    "#1,\n",
    "f=exp(-x/y)\n",
    "X=[y,x]\n",
    "XR=[[0,2],[0,y]]\n",
    "\n",
    "MultipleIntegral(f,X,XR)"
   ]
  },
  {
   "cell_type": "markdown",
   "metadata": {},
   "source": [
    "2. (b)\n",
    "\\begin{eqnarray}\n",
    "\\iint_R e^{-y^2+xy}dA&=&\\int_0^\\infty dx\\int_{-\\infty}^\\infty e^{-(y-x/2)^2+x^2/4}dy\\\\\n",
    "           &=&\\int_0^\\infty dx\\int_{-\\infty}^\\infty e^{-y^2+x^2/4}dy\\\\\n",
    "           &=&\\int_0^\\infty e^{x^2/4}dx\\int_{-\\infty}^\\infty e^{-y^2}dy=\\infty\n",
    "\\end{eqnarray}\n"
   ]
  },
  {
   "cell_type": "raw",
   "metadata": {},
   "source": []
  },
  {
   "cell_type": "raw",
   "metadata": {},
   "source": []
  },
  {
   "cell_type": "raw",
   "metadata": {},
   "source": []
  },
  {
   "cell_type": "code",
   "execution_count": 11,
   "metadata": {},
   "outputs": [
    {
     "data": {
      "text/latex": [
       "\\begin{eqnarray}\\iiint_{\\Large{\\mathbf{V}}=\\left\\{\\large{\\begin{array}{l} 0 \\le x \\le 2,\\cr 0 \\le y \\le 1 - \\frac{x}{2},\\cr 0 \\le z \\le - x - 2 y + 2,\\cr\\end{array}}\\right\\}} \\color{brown}{x + 2 y + z} dV&=& \\iiint_{\\Large{\\mathbf{V}}} \\color{brown}{x + 2 y + z}  d x  d y  d z  \\cr \\color{blue}{\\text{Fubini's Theorem}}&=&\\int_{0}^{2}d{x}\\int_{0}^{1 - \\frac{x}{2}}d{y}\\int_{0}^{- x - 2 y + 2} \\color{brown}{x + 2 y + z}d{z}\\cr &=&\\int_{0}^{2} d{x}\\int_{0}^{1 - \\frac{x}{2}} \\left.\\color{brown}{\\frac{z^{2}}{2} + z \\left(x + 2 y\\right)} \\right|_{0}^{- x - 2 y + 2} d{y}\\cr&=&\\int_{0}^{2}d{x}\\int_{0}^{1 - \\frac{x}{2}} \\color{brown}{\\left(x + 2 y\\right) \\left(- x - 2 y + 2\\right) + \\frac{\\left(- x - 2 y + 2\\right)^{2}}{2}}d{y}\\cr &=&\\int_{0}^{2} \\left. \\color{brown}{- x y^{2} - \\frac{2 y^{3}}{3} + y \\left(2 - \\frac{x^{2}}{2}\\right)} \\right|_{0}^{1 - \\frac{x}{2}} d{x}\\cr&=&\\int_{0}^{2} \\color{brown}{- x \\left(1 - \\frac{x}{2}\\right)^{2} - \\frac{2 \\left(1 - \\frac{x}{2}\\right)^{3}}{3} + \\left(1 - \\frac{x}{2}\\right) \\left(2 - \\frac{x^{2}}{2}\\right)}d{x}\\cr &=&\\left. \\color{brown}{\\frac{x^{4}}{48} - \\frac{x^{2}}{2} + \\frac{4 x}{3}} \\right|_{0}^{2}\\cr&=&1\\end{eqnarray}"
      ],
      "text/plain": [
       "<IPython.core.display.Latex object>"
      ]
     },
     "execution_count": 11,
     "metadata": {},
     "output_type": "execute_result"
    }
   ],
   "source": [
    "#2, a\n",
    "f=x+2*y+z\n",
    "X=[x,y,z]\n",
    "XR=[[0,2],[0,1-x/2],[0,2-x-2*y]]\n",
    "\n",
    "MultipleIntegral(f,X,XR)"
   ]
  },
  {
   "cell_type": "code",
   "execution_count": 12,
   "metadata": {},
   "outputs": [
    {
     "data": {
      "text/latex": [
       "\\begin{eqnarray}\\iiint_{\\Large{\\mathbf{V}}=\\left\\{\\large{\\begin{array}{l} 0 \\le 𝜽 \\le \\pi,\\cr 0 \\le r \\le 2 \\sin{\\left(𝜽 \\right)},\\cr 0 \\le z \\le r \\sin{\\left(𝜽 \\right)},\\cr\\end{array}}\\right\\}} \\color{brown}{2 r \\sin{\\left(𝜽 \\right)} + z} dV&=& \\iiint_{\\Large{\\mathbf{V}}} \\color{brown}{2 r \\sin{\\left(𝜽 \\right)} + z}  d 𝜽  d r  d z  \\cr \\color{blue}{\\text{Fubini's Theorem}}&=&\\int_{0}^{\\pi}d{𝜽}\\int_{0}^{2 \\sin{\\left(𝜽 \\right)}}d{r}\\int_{0}^{r \\sin{\\left(𝜽 \\right)}} \\color{brown}{2 r \\sin{\\left(𝜽 \\right)} + z}d{z}\\cr &=&\\int_{0}^{\\pi} d{𝜽}\\int_{0}^{2 \\sin{\\left(𝜽 \\right)}} \\left.\\color{brown}{2 r z \\sin{\\left(𝜽 \\right)} + \\frac{z^{2}}{2}} \\right|_{0}^{r \\sin{\\left(𝜽 \\right)}} d{r}\\cr&=&\\int_{0}^{\\pi}d{𝜽}\\int_{0}^{2 \\sin{\\left(𝜽 \\right)}} \\color{brown}{\\frac{5 r^{2} \\sin^{2}{\\left(𝜽 \\right)}}{2}}d{r}\\cr &=&\\int_{0}^{\\pi} \\left. \\color{brown}{\\frac{5 r^{3} \\sin^{2}{\\left(𝜽 \\right)}}{6}} \\right|_{0}^{2 \\sin{\\left(𝜽 \\right)}} d{𝜽}\\cr&=&\\int_{0}^{\\pi} \\color{brown}{\\frac{20 \\sin^{5}{\\left(𝜽 \\right)}}{3}}d{𝜽}\\cr &=&\\left. \\color{brown}{- \\frac{4 \\cos^{5}{\\left(𝜽 \\right)}}{3} + \\frac{40 \\cos^{3}{\\left(𝜽 \\right)}}{9} - \\frac{20 \\cos{\\left(𝜽 \\right)}}{3}} \\right|_{0}^{\\pi}\\cr&=&7.11111111111111\\end{eqnarray}"
      ],
      "text/plain": [
       "<IPython.core.display.Latex object>"
      ]
     },
     "execution_count": 12,
     "metadata": {},
     "output_type": "execute_result"
    }
   ],
   "source": [
    "#2, b, 64/9\n",
    "f=2*r*sin(Theta)+z\n",
    "J=r\n",
    "X=[Theta,r,z]\n",
    "XR=[[0,pi],[0,2*sin(Theta)],[0,r*sin(Theta)]]\n",
    "\n",
    "MultipleIntegral(f,X,XR)"
   ]
  },
  {
   "cell_type": "code",
   "execution_count": 14,
   "metadata": {},
   "outputs": [
    {
     "data": {
      "text/latex": [
       "\\begin{eqnarray}\\iiint_{\\Large{\\mathbf{V}}=\\left\\{\\large{\\begin{array}{l} 0 \\le 𝜽 \\le 2 \\pi,\\cr 1 \\le 𝝆 \\le 2,\\cr 0 \\le 𝝋 \\le \\frac{\\pi}{4},\\cr\\end{array}}\\right\\}} \\color{brown}{𝝆 \\cos{\\left(𝝋 \\right)}} dV&=& \\iiint_{\\Large{\\mathbf{V}}} \\color{brown}{𝝆 \\cos{\\left(𝝋 \\right)}}  d 𝜽  d 𝝆  d 𝝋  \\cr \\color{blue}{\\text{Fubini's Theorem}}&=&\\int_{0}^{2 \\pi}d{𝜽}\\int_{1}^{2}d{𝝆}\\int_{0}^{\\frac{\\pi}{4}} \\color{brown}{𝝆 \\cos{\\left(𝝋 \\right)}}d{𝝋}\\cr &=&\\int_{0}^{2 \\pi} d{𝜽}\\int_{1}^{2} \\left.\\color{brown}{𝝆 \\sin{\\left(𝝋 \\right)}} \\right|_{0}^{\\frac{\\pi}{4}} d{𝝆}\\cr&=&\\int_{0}^{2 \\pi}d{𝜽}\\int_{1}^{2} \\color{brown}{\\frac{\\sqrt{2} 𝝆}{2}}d{𝝆}\\cr &=&\\int_{0}^{2 \\pi} \\left. \\color{brown}{\\frac{\\sqrt{2} 𝝆^{2}}{4}} \\right|_{1}^{2} d{𝜽}\\cr&=&\\int_{0}^{2 \\pi} \\color{brown}{\\frac{3 \\sqrt{2}}{4}}d{𝜽}\\cr &=&\\left. \\color{brown}{\\frac{3 \\sqrt{2} 𝜽}{4}} \\right|_{0}^{2 \\pi}\\cr&=&\\frac{3 \\sqrt{2} \\pi}{2}\\end{eqnarray}"
      ],
      "text/plain": [
       "<IPython.core.display.Latex object>"
      ]
     },
     "execution_count": 14,
     "metadata": {},
     "output_type": "execute_result"
    }
   ],
   "source": [
    "#2, c, 64/9\n",
    "f=rho*cos(phi)\n",
    "J=rho**2*sin(phi)\n",
    "X=[Theta,rho,phi]\n",
    "XR=[[0,2*pi],[1,2],[0,pi/4]]\n",
    "\n",
    "MultipleIntegral(f,X,XR)"
   ]
  },
  {
   "cell_type": "raw",
   "metadata": {},
   "source": []
  },
  {
   "cell_type": "markdown",
   "metadata": {},
   "source": []
  },
  {
   "cell_type": "markdown",
   "metadata": {},
   "source": []
  },
  {
   "cell_type": "markdown",
   "metadata": {},
   "source": []
  },
  {
   "cell_type": "code",
   "execution_count": null,
   "metadata": {},
   "outputs": [],
   "source": []
  }
 ],
 "metadata": {
  "hide_input": false,
  "kernelspec": {
   "display_name": "Python 3 (ipykernel)",
   "language": "python",
   "name": "python3"
  },
  "language_info": {
   "codemirror_mode": {
    "name": "ipython",
    "version": 3
   },
   "file_extension": ".py",
   "mimetype": "text/x-python",
   "name": "python",
   "nbconvert_exporter": "python",
   "pygments_lexer": "ipython3",
   "version": "3.10.9"
  },
  "toc": {
   "colors": {
    "hover_highlight": "#DAA520",
    "navigate_num": "#000000",
    "navigate_text": "#333333",
    "running_highlight": "#FF0000",
    "selected_highlight": "#FFD700",
    "sidebar_border": "#EEEEEE",
    "wrapper_background": "#FFFFFF"
   },
   "moveMenuLeft": true,
   "nav_menu": {
    "height": "49px",
    "width": "252px"
   },
   "navigate_menu": true,
   "number_sections": true,
   "sideBar": true,
   "threshold": 4,
   "toc_cell": false,
   "toc_section_display": "block",
   "toc_window_display": false,
   "widenNotebook": false
  }
 },
 "nbformat": 4,
 "nbformat_minor": 4
}
