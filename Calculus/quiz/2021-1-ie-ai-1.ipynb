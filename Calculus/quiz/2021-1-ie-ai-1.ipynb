{
 "cells": [
  {
   "cell_type": "markdown",
   "metadata": {},
   "source": [
    "# <div align=\"center\">Calculus, 2021-1-IE-AI-2</div>\n",
    "\n",
    "<h3><div align=\"right\">Name:&nbsp;&nbsp;&nbsp;&nbsp;&nbsp;&nbsp;&nbsp;&nbsp;&nbsp;&nbsp;&nbsp;&nbsp;&nbsp;&nbsp;&nbsp;&nbsp;&nbsp;&nbsp;&nbsp;&nbsp;&nbsp;&nbsp;&nbsp;&nbsp;  Sequence Number:&nbsp;&nbsp;&nbsp;&nbsp;&nbsp;&nbsp;&nbsp;&nbsp;&nbsp;&nbsp;&nbsp;&nbsp;&nbsp;&nbsp;&nbsp;&nbsp;&nbsp;&nbsp;&nbsp;&nbsp;&nbsp;&nbsp;&nbsp;&nbsp;</div></h3>\n"
   ]
  },
  {
   "cell_type": "markdown",
   "metadata": {
    "collapsed": true
   },
   "source": [
    "<big>\n",
    "<big>\n",
    "For the functions:<br>\n",
    "$$ i^\\circ)\\quad f(x)=\\frac{x^4+4}{x^2}\\text{ for } x\\in\\mathbb{R}\\backslash\\{0\\},\\quad \n",
    "   ii^\\circ)\\quad f(x)=x \\exp(-x^2/3) \\text{ for } x\\in\\mathbb{R}\n",
    "$$ \n",
    "$1.^\\circ)$ Calculate the first-order derivative, $f'(x)$. (5%)<br>\n",
    "$2.^\\circ)$ Calculate the second-order derivative, $f''(x)$. (5%)<br>\n",
    "$3.^\\circ)$ Find out all the critical point(s) if any. (5%)<br>\n",
    "$4.^\\circ)$ Determine the monotonicity of $f(x)$. (5%)<br>\n",
    "$5.^\\circ)$ Determine the concavity of $f(x)$. (5%)<br> \n",
    "$6.^\\circ)$ Find out all the relative extrema of $f(x)$. (5%)<br> \n",
    "$7.^\\circ)$ Find out all the extrema of $f(x)$ and explain your answer. (5%,2%-2%-1%)<br>\n",
    "$8.^\\circ)$ Find out all the asymptote(s) of $f(x)$ if any and explain your answer. (5%,2%-2%-1%)<br>\n",
    "$9.^\\circ)$ Visualize the graph of $f(x)$. (10%)<br>  \n",
    "</big> "
   ]
  },
  {
   "cell_type": "markdown",
   "metadata": {
    "collapsed": true
   },
   "source": [
    "Answer\n",
    "---"
   ]
  },
  {
   "cell_type": "code",
   "execution_count": null,
   "metadata": {},
   "outputs": [],
   "source": []
  },
  {
   "cell_type": "code",
   "execution_count": 1,
   "metadata": {},
   "outputs": [],
   "source": [
    "#\n",
    "import warnings\n",
    "warnings.filterwarnings(action='ignore')\n",
    "\n",
    "import numpy as np\n",
    "import matplotlib.pyplot as plt\n",
    "import plotly.express as ex\n",
    "\n",
    "%matplotlib inline "
   ]
  },
  {
   "cell_type": "code",
   "execution_count": 2,
   "metadata": {},
   "outputs": [],
   "source": [
    "# prepare for Latex Output\n",
    "from IPython.display import HTML,Latex\n",
    "from sympy import symbols,pprint,integrate,diff,latex,limit,simplify,Matrix,Abs,Ei,Ne,solve,Function,fraction\n",
    "from sympy import pi,sqrt,sin,cos,log,tan,cot,sec,csc,exp,oo,E,tan,Piecewise,asin,atan,erf,erfc,E\n",
    "from sympy import solveset,cancel,factor\n",
    "from sympy.solvers.inequalities import solve_univariate_inequality"
   ]
  },
  {
   "cell_type": "code",
   "execution_count": 3,
   "metadata": {},
   "outputs": [],
   "source": [
    "# diff_app\n",
    "def diff_app(f_,x_,rational=False,BC=[]):\n",
    "    \"\"\"\n",
    "    diff_app(f_,x_,rational=False)\n",
    "    Inputs\n",
    "       f_: function\n",
    "       x_: variable\n",
    "       rational: False (or True)\n",
    "                 whether rational function is computered here  \n",
    "    Print out\n",
    "       f',f'', critical values, monotonicity and concavity\n",
    "    \"\"\"\n",
    "    f=f_\n",
    "    x=x_\n",
    "    if (BC==[]):\n",
    "       text=\"Functions:  $$\\large{\\quad f(x) = %s}$$\" %(latex(f_))\n",
    "    else:\n",
    "       text=\"Functions:  $$\\large{\\quad f(x) = %s\\\\text{ on } [%s,%s]}$$\" %(latex(f_),latex(BC[0]),latex(BC[1])) \n",
    "    \n",
    "    if rational:\n",
    "       d1= simplify(cancel(diff(f_,x_)))\n",
    "       n,d= fraction(d1)\n",
    "       sols=solve(n,x_)+solve(d,x_)\n",
    "       d22=simplify(cancel(diff(f_,x_,2)))\n",
    "       n_,d_=fraction(cancel(diff(f_,x_,2)))\n",
    "        \n",
    "       d2=cancel(n_*d_)\n",
    "    else:\n",
    "       d1=diff(f_,x_)\n",
    "       d2=diff(f_,x_,2)\n",
    "       d22= diff(f_,x_,2)\n",
    "       sols=solve(diff(f_,x_),x_)\n",
    "    \n",
    "    \n",
    "    text=text+\"1. Critical Points: \"\n",
    "    \n",
    "    if (len(sols)>0):\n",
    "       criticals=\"\"\n",
    "       sols.sort()\n",
    "       for sol in sols:\n",
    "          criticals=criticals+\" %s,\" %latex(sol)\n",
    "  \n",
    "    # Critical points\n",
    "    if (len(sols)>0):\n",
    "           #for sol in sols: \n",
    "           text=text+\"\\\\begin{eqnarray}\"\n",
    "           text=text+ \\\n",
    "                \"\\large{f'(x)=0}& \\large{\\Rightarrow}&\\large{%s=0 }\\cr\" %(latex(d1))\n",
    "           d11=factor(d1)\n",
    "           text=text+ \\\n",
    "                \" &\\large{\\Rightarrow}&\\large{%s=0} \\cr\" %(latex(d11))            \n",
    "           text=text+ \\\n",
    "                \"&\\large{\\Rightarrow}&\\large{ x= %s}\" %(latex(criticals))\n",
    "           #text=text+\" $%s$,\" %latex(sols )\n",
    "           text=text+\"\\end{eqnarray}\"\n",
    "    else:\n",
    "      text=text+\"$$\\large{f'=%s=0\\Rightarrow\\\\text{ no critical point exists.}}$$\" %latex(d1)\n",
    "    \n",
    "    \n",
    "    text=text+\"$$\\large{f''(x)=%s=%s}$$\" %(latex(diff(d1,x_)),latex(factor(d22)))\n",
    "    # Monotoncity\n",
    "    \n",
    "    if (solve(diff(f_,x_)>0)!=[]):\n",
    "       incr= solve_univariate_inequality(diff(f_,x)>0, x, relational=False)\n",
    "       #increasing=latex(solve(diff(f_,x)>0)) \n",
    "       increasing=latex(incr) \n",
    "    else:\n",
    "        increasing=\"\"\n",
    "    if (solve(diff(f_,x_)<0)!=[]):\n",
    "       decr = solve_univariate_inequality(diff(f_,x)<0, x, relational=False)\n",
    "       #decreasing=latex(solve(diff(f_,x_)<0)) \n",
    "       decreasing=latex(decr)  \n",
    "    else:\n",
    "        decreasing=\"\"\n",
    "    \n",
    "    text=text+\"2. Increasing or Decreasing:\"\n",
    "    \n",
    "    text=text+\"\\\\begin{eqnarray}\"\n",
    "    if increasing!=\"\":\n",
    "       text=text+ \\\n",
    "        \"&\\quad\\\\text{a) Increasing, }f'(x)>0, \\\\text{ at }&%s\\cr\" %increasing\n",
    "    else:\n",
    "       text=text+ \\\n",
    "        \"&\\quad\\\\text{a) No $x$ Increasing, i.e }f'(x)\\le0 \\cr\"\n",
    "    if decreasing!=\"\":\n",
    "       text=text+ \\\n",
    "        \"&\\quad\\\\text{b) Decreasing, }f'(x)<0, \\\\text{ at }&%s\\cr\" %decreasing\n",
    "    else:\n",
    "       text=text+ \\\n",
    "        \"&\\quad\\\\text{b) No $x$ Decreasing, i.e }f'(x)\\ge0 \\cr\" \n",
    "    text=text+\"\\\\end{eqnarray}\"\n",
    "    #text=\"\\\\begin{eqnarray}\"  \n",
    "    \n",
    "    # Concavity\n",
    "    \n",
    "    if (solve(d2>0)!=[]):\n",
    "       up=solve_univariate_inequality(d2>0, x, relational=False) \n",
    "       #up=latex(solve(d2>0)) \n",
    "    else:\n",
    "        up=\"\"\n",
    "    if (solve(d2<0)!=[]):\n",
    "        down=solve_univariate_inequality(d2<0, x, relational=False)\n",
    "       #down=latex(solve(d2<0)) \n",
    "    else:\n",
    "        down=\"\"\n",
    "    \n",
    "    text=text+\"3. Concave Upwards or Downwards:\"\n",
    "    \n",
    "    text=text+\"\\\\begin{eqnarray}\"\n",
    "    if up!=\"\":\n",
    "       text=text+ \\\n",
    "        \"&\\quad\\\\text{a) Concave Upwards, }f''(x)>0, \\\\text{ at }&%s\\cr\" %latex(up)\n",
    "    else:\n",
    "       text=text+ \\\n",
    "        \"&\\quad\\\\text{a) No $x$ Concave Upwards, i.e }f''(x)\\le0 \\cr\"\n",
    "    if down!=\"\":\n",
    "       text=text+ \\\n",
    "        \"&\\quad\\\\text{b) Concave Downwards, }f''(x)<0, \\\\text{ at }&%s\\cr\" %latex(down)\n",
    "    else:\n",
    "       text=text+ \\\n",
    "        \"&\\quad\\\\text{b) No $x$  Concave Downwards, i.e }f''(x)\\ge0 \\cr\" \n",
    "    text=text+\"\\\\end{eqnarray}\"\n",
    "    \n",
    "   \n",
    "    #text=\"\\end{eqnarray}\"\n",
    "    return(Latex(text))                         "
   ]
  },
  {
   "cell_type": "code",
   "execution_count": 6,
   "metadata": {},
   "outputs": [],
   "source": [
    "x=symbols(\"x\",real=True)"
   ]
  },
  {
   "cell_type": "code",
   "execution_count": 38,
   "metadata": {},
   "outputs": [
    {
     "data": {
      "text/latex": [
       "Functions:  $$\\large{\\quad f(x) = \\frac{x^{4} + 4}{x^{2}}}$$1. Critical Points: \\begin{eqnarray}\\large{f'(x)=0}& \\large{\\Rightarrow}&\\large{2 x - \\frac{8}{x^{3}}=0 }\\cr &\\large{\\Rightarrow}&\\large{\\frac{2 \\left(x^{2} - 2\\right) \\left(x^{2} + 2\\right)}{x^{3}}=0} \\cr&\\large{\\Rightarrow}&\\large{ x=  - \\sqrt{2}, \\sqrt{2},}\\end{eqnarray}$$\\large{f''(x)=2 + \\frac{24}{x^{4}}=\\frac{2 \\left(x^{4} + 12\\right)}{x^{4}}}$$2. Increasing or Decreasing:\\begin{eqnarray}&\\quad\\text{a) Increasing, }f'(x)>0, \\text{ at }&\\left(- \\sqrt{2}, 0\\right) \\cup \\left(\\sqrt{2}, \\infty\\right)\\cr&\\quad\\text{b) Decreasing, }f'(x)<0, \\text{ at }&\\left(-\\infty, - \\sqrt{2}\\right) \\cup \\left(0, \\sqrt{2}\\right)\\cr\\end{eqnarray}3. Concave Upwards or Downwards:\\begin{eqnarray}&\\quad\\text{a) Concave Upwards, }f''(x)>0, \\text{ at }&\\left(-\\infty, 0\\right) \\cup \\left(0, \\infty\\right)\\cr&\\quad\\text{b) No $x$  Concave Downwards, i.e }f''(x)\\ge0 \\cr\\end{eqnarray}"
      ],
      "text/plain": [
       "<IPython.core.display.Latex object>"
      ]
     },
     "execution_count": 38,
     "metadata": {},
     "output_type": "execute_result"
    }
   ],
   "source": [
    "f=(x**4+4)/(x)**2\n",
    "diff_app(f,x,rational=True)"
   ]
  },
  {
   "cell_type": "code",
   "execution_count": 40,
   "metadata": {},
   "outputs": [
    {
     "data": {
      "application/vnd.plotly.v1+json": {
       "config": {
        "plotlyServerURL": "https://plot.ly"
       },
       "data": [
        {
         "hovertemplate": "x=%{x}<br>y=%{y}<extra></extra>",
         "legendgroup": "",
         "line": {
          "color": "#636efa",
          "dash": "solid"
         },
         "marker": {
          "symbol": "circle"
         },
         "mode": "lines",
         "name": "",
         "orientation": "v",
         "showlegend": false,
         "type": "scatter",
         "x": [
          -5,
          -4.92,
          -4.84,
          -4.76,
          -4.68,
          -4.6,
          -4.52,
          -4.4399999999999995,
          -4.36,
          -4.28,
          -4.2,
          -4.12,
          -4.04,
          -3.96,
          -3.88,
          -3.8,
          -3.7199999999999998,
          -3.6399999999999997,
          -3.56,
          -3.48,
          -3.4,
          -3.3200000000000003,
          -3.24,
          -3.16,
          -3.08,
          -3,
          -2.92,
          -2.84,
          -2.76,
          -2.68,
          -2.6,
          -2.52,
          -2.44,
          -2.36,
          -2.28,
          -2.1999999999999997,
          -2.12,
          -2.04,
          -1.96,
          -1.88,
          -1.7999999999999998,
          -1.7199999999999998,
          -1.6400000000000001,
          -1.56,
          -1.48,
          -1.4,
          -1.3199999999999998,
          -1.2399999999999998,
          -1.1600000000000001,
          -1.08,
          -1,
          -0.9199999999999999,
          -0.8399999999999999,
          -0.7599999999999998,
          -0.6799999999999997,
          -0.5999999999999996,
          -0.5199999999999996,
          -0.4399999999999995,
          -0.3600000000000003,
          -0.28000000000000025,
          -0.20000000000000018,
          -0.1200000000000001,
          -0.040000000000000036,
          0.040000000000000036,
          0.1200000000000001,
          0.20000000000000018,
          0.28000000000000025,
          0.3600000000000003,
          0.4400000000000004,
          0.5200000000000005,
          0.6000000000000005,
          0.6799999999999997,
          0.7599999999999998,
          0.8399999999999999,
          0.9199999999999999,
          1,
          1.08,
          1.1600000000000001,
          1.2400000000000002,
          1.3200000000000003,
          1.4000000000000004,
          1.4800000000000004,
          1.5600000000000005,
          1.6400000000000006,
          1.7199999999999998,
          1.7999999999999998,
          1.88,
          1.96,
          2.04,
          2.12,
          2.2,
          2.2800000000000002,
          2.3600000000000003,
          2.4400000000000004,
          2.5200000000000005,
          2.6000000000000005,
          2.6799999999999997,
          2.76,
          2.84,
          2.92,
          3
         ],
         "xaxis": "x",
         "y": [
          39.3125,
          38.39219341940858,
          37.48635086805555,
          36.59509660479855,
          35.71856729678639,
          34.85691358024691,
          34.010301859504125,
          33.178916387236335,
          32.36296167800454,
          31.56266531826294,
          30.77828125,
          30.0100936226167,
          29.25842132963989,
          28.52362337472608,
          27.806105246913578,
          27.106326530612243,
          26.42481003460207,
          25.76215280073462,
          25.119039453124998,
          24.496258480749216,
          23.894722222222217,
          23.315491557669443,
          22.759806632653063,
          22.229125377229085,
          21.72517218934911,
          21.25,
          20.806070138888888,
          20.396356143667298,
          20.024480165289255,
          19.69489433106576,
          19.413125,
          19.186106371191137,
          19.02264320987654,
          18.93406366782007,
          18.9351578125,
          19.045555555555556,
          19.291797959183675,
          19.7105349112426,
          20.35361388888889,
          21.296466115702483,
          22.652500000000007,
          24.599017283950623,
          27.426631249999993,
          31.640334693877552,
          38.18512222222222,
          49.01000000000002,
          68.71052500000006,
          110.48982222222241,
          226.9780999999996,
          837.5763999999986,
          null,
          736.9363999999986,
          175.69809999999967,
          75.23648888888876,
          41.150524999999924,
          25.809999999999953,
          17.678455555555523,
          12.874620408163242,
          9.806631250000011,
          7.727906172839512,
          6.252500000000003,
          5.165557024793389,
          4.340280555555556,
          3.6982272189349112,
          3.18894081632653,
          2.778888888888888,
          2.4451578124999993,
          2.1717107266435978,
          1.9470876543209865,
          1.7629484764542929,
          1.6131249999999993,
          1.4929895691609982,
          1.3990256198347109,
          1.3285300567107752,
          1.279403472222222,
          1.25,
          1.2390183431952662,
          1.2454216735253771,
          1.26837806122449,
          1.3072156956004757,
          1.361388888888889,
          1.4304520291363167,
          1.5140394531250005,
          1.6118497704315895,
          1.7236335640138403,
          1.8491836734693876,
          1.9883274691358024,
          2.1409206720233747,
          2.306842382271468,
          2.4859910585141356,
          2.67828125,
          2.883640928019037,
          3.102009297052155,
          3.333334991887508,
          3.577574586776861,
          3.834691358024693,
          4.104654253308127,
          4.3874370303304655,
          4.683017534722222,
          4.9913770928779675,
          5.3125
         ],
         "yaxis": "y"
        }
       ],
       "layout": {
        "legend": {
         "tracegroupgap": 0
        },
        "margin": {
         "t": 60
        },
        "template": {
         "data": {
          "bar": [
           {
            "error_x": {
             "color": "#2a3f5f"
            },
            "error_y": {
             "color": "#2a3f5f"
            },
            "marker": {
             "line": {
              "color": "#E5ECF6",
              "width": 0.5
             },
             "pattern": {
              "fillmode": "overlay",
              "size": 10,
              "solidity": 0.2
             }
            },
            "type": "bar"
           }
          ],
          "barpolar": [
           {
            "marker": {
             "line": {
              "color": "#E5ECF6",
              "width": 0.5
             },
             "pattern": {
              "fillmode": "overlay",
              "size": 10,
              "solidity": 0.2
             }
            },
            "type": "barpolar"
           }
          ],
          "carpet": [
           {
            "aaxis": {
             "endlinecolor": "#2a3f5f",
             "gridcolor": "white",
             "linecolor": "white",
             "minorgridcolor": "white",
             "startlinecolor": "#2a3f5f"
            },
            "baxis": {
             "endlinecolor": "#2a3f5f",
             "gridcolor": "white",
             "linecolor": "white",
             "minorgridcolor": "white",
             "startlinecolor": "#2a3f5f"
            },
            "type": "carpet"
           }
          ],
          "choropleth": [
           {
            "colorbar": {
             "outlinewidth": 0,
             "ticks": ""
            },
            "type": "choropleth"
           }
          ],
          "contour": [
           {
            "colorbar": {
             "outlinewidth": 0,
             "ticks": ""
            },
            "colorscale": [
             [
              0,
              "#0d0887"
             ],
             [
              0.1111111111111111,
              "#46039f"
             ],
             [
              0.2222222222222222,
              "#7201a8"
             ],
             [
              0.3333333333333333,
              "#9c179e"
             ],
             [
              0.4444444444444444,
              "#bd3786"
             ],
             [
              0.5555555555555556,
              "#d8576b"
             ],
             [
              0.6666666666666666,
              "#ed7953"
             ],
             [
              0.7777777777777778,
              "#fb9f3a"
             ],
             [
              0.8888888888888888,
              "#fdca26"
             ],
             [
              1,
              "#f0f921"
             ]
            ],
            "type": "contour"
           }
          ],
          "contourcarpet": [
           {
            "colorbar": {
             "outlinewidth": 0,
             "ticks": ""
            },
            "type": "contourcarpet"
           }
          ],
          "heatmap": [
           {
            "colorbar": {
             "outlinewidth": 0,
             "ticks": ""
            },
            "colorscale": [
             [
              0,
              "#0d0887"
             ],
             [
              0.1111111111111111,
              "#46039f"
             ],
             [
              0.2222222222222222,
              "#7201a8"
             ],
             [
              0.3333333333333333,
              "#9c179e"
             ],
             [
              0.4444444444444444,
              "#bd3786"
             ],
             [
              0.5555555555555556,
              "#d8576b"
             ],
             [
              0.6666666666666666,
              "#ed7953"
             ],
             [
              0.7777777777777778,
              "#fb9f3a"
             ],
             [
              0.8888888888888888,
              "#fdca26"
             ],
             [
              1,
              "#f0f921"
             ]
            ],
            "type": "heatmap"
           }
          ],
          "heatmapgl": [
           {
            "colorbar": {
             "outlinewidth": 0,
             "ticks": ""
            },
            "colorscale": [
             [
              0,
              "#0d0887"
             ],
             [
              0.1111111111111111,
              "#46039f"
             ],
             [
              0.2222222222222222,
              "#7201a8"
             ],
             [
              0.3333333333333333,
              "#9c179e"
             ],
             [
              0.4444444444444444,
              "#bd3786"
             ],
             [
              0.5555555555555556,
              "#d8576b"
             ],
             [
              0.6666666666666666,
              "#ed7953"
             ],
             [
              0.7777777777777778,
              "#fb9f3a"
             ],
             [
              0.8888888888888888,
              "#fdca26"
             ],
             [
              1,
              "#f0f921"
             ]
            ],
            "type": "heatmapgl"
           }
          ],
          "histogram": [
           {
            "marker": {
             "pattern": {
              "fillmode": "overlay",
              "size": 10,
              "solidity": 0.2
             }
            },
            "type": "histogram"
           }
          ],
          "histogram2d": [
           {
            "colorbar": {
             "outlinewidth": 0,
             "ticks": ""
            },
            "colorscale": [
             [
              0,
              "#0d0887"
             ],
             [
              0.1111111111111111,
              "#46039f"
             ],
             [
              0.2222222222222222,
              "#7201a8"
             ],
             [
              0.3333333333333333,
              "#9c179e"
             ],
             [
              0.4444444444444444,
              "#bd3786"
             ],
             [
              0.5555555555555556,
              "#d8576b"
             ],
             [
              0.6666666666666666,
              "#ed7953"
             ],
             [
              0.7777777777777778,
              "#fb9f3a"
             ],
             [
              0.8888888888888888,
              "#fdca26"
             ],
             [
              1,
              "#f0f921"
             ]
            ],
            "type": "histogram2d"
           }
          ],
          "histogram2dcontour": [
           {
            "colorbar": {
             "outlinewidth": 0,
             "ticks": ""
            },
            "colorscale": [
             [
              0,
              "#0d0887"
             ],
             [
              0.1111111111111111,
              "#46039f"
             ],
             [
              0.2222222222222222,
              "#7201a8"
             ],
             [
              0.3333333333333333,
              "#9c179e"
             ],
             [
              0.4444444444444444,
              "#bd3786"
             ],
             [
              0.5555555555555556,
              "#d8576b"
             ],
             [
              0.6666666666666666,
              "#ed7953"
             ],
             [
              0.7777777777777778,
              "#fb9f3a"
             ],
             [
              0.8888888888888888,
              "#fdca26"
             ],
             [
              1,
              "#f0f921"
             ]
            ],
            "type": "histogram2dcontour"
           }
          ],
          "mesh3d": [
           {
            "colorbar": {
             "outlinewidth": 0,
             "ticks": ""
            },
            "type": "mesh3d"
           }
          ],
          "parcoords": [
           {
            "line": {
             "colorbar": {
              "outlinewidth": 0,
              "ticks": ""
             }
            },
            "type": "parcoords"
           }
          ],
          "pie": [
           {
            "automargin": true,
            "type": "pie"
           }
          ],
          "scatter": [
           {
            "marker": {
             "colorbar": {
              "outlinewidth": 0,
              "ticks": ""
             }
            },
            "type": "scatter"
           }
          ],
          "scatter3d": [
           {
            "line": {
             "colorbar": {
              "outlinewidth": 0,
              "ticks": ""
             }
            },
            "marker": {
             "colorbar": {
              "outlinewidth": 0,
              "ticks": ""
             }
            },
            "type": "scatter3d"
           }
          ],
          "scattercarpet": [
           {
            "marker": {
             "colorbar": {
              "outlinewidth": 0,
              "ticks": ""
             }
            },
            "type": "scattercarpet"
           }
          ],
          "scattergeo": [
           {
            "marker": {
             "colorbar": {
              "outlinewidth": 0,
              "ticks": ""
             }
            },
            "type": "scattergeo"
           }
          ],
          "scattergl": [
           {
            "marker": {
             "colorbar": {
              "outlinewidth": 0,
              "ticks": ""
             }
            },
            "type": "scattergl"
           }
          ],
          "scattermapbox": [
           {
            "marker": {
             "colorbar": {
              "outlinewidth": 0,
              "ticks": ""
             }
            },
            "type": "scattermapbox"
           }
          ],
          "scatterpolar": [
           {
            "marker": {
             "colorbar": {
              "outlinewidth": 0,
              "ticks": ""
             }
            },
            "type": "scatterpolar"
           }
          ],
          "scatterpolargl": [
           {
            "marker": {
             "colorbar": {
              "outlinewidth": 0,
              "ticks": ""
             }
            },
            "type": "scatterpolargl"
           }
          ],
          "scatterternary": [
           {
            "marker": {
             "colorbar": {
              "outlinewidth": 0,
              "ticks": ""
             }
            },
            "type": "scatterternary"
           }
          ],
          "surface": [
           {
            "colorbar": {
             "outlinewidth": 0,
             "ticks": ""
            },
            "colorscale": [
             [
              0,
              "#0d0887"
             ],
             [
              0.1111111111111111,
              "#46039f"
             ],
             [
              0.2222222222222222,
              "#7201a8"
             ],
             [
              0.3333333333333333,
              "#9c179e"
             ],
             [
              0.4444444444444444,
              "#bd3786"
             ],
             [
              0.5555555555555556,
              "#d8576b"
             ],
             [
              0.6666666666666666,
              "#ed7953"
             ],
             [
              0.7777777777777778,
              "#fb9f3a"
             ],
             [
              0.8888888888888888,
              "#fdca26"
             ],
             [
              1,
              "#f0f921"
             ]
            ],
            "type": "surface"
           }
          ],
          "table": [
           {
            "cells": {
             "fill": {
              "color": "#EBF0F8"
             },
             "line": {
              "color": "white"
             }
            },
            "header": {
             "fill": {
              "color": "#C8D4E3"
             },
             "line": {
              "color": "white"
             }
            },
            "type": "table"
           }
          ]
         },
         "layout": {
          "annotationdefaults": {
           "arrowcolor": "#2a3f5f",
           "arrowhead": 0,
           "arrowwidth": 1
          },
          "autotypenumbers": "strict",
          "coloraxis": {
           "colorbar": {
            "outlinewidth": 0,
            "ticks": ""
           }
          },
          "colorscale": {
           "diverging": [
            [
             0,
             "#8e0152"
            ],
            [
             0.1,
             "#c51b7d"
            ],
            [
             0.2,
             "#de77ae"
            ],
            [
             0.3,
             "#f1b6da"
            ],
            [
             0.4,
             "#fde0ef"
            ],
            [
             0.5,
             "#f7f7f7"
            ],
            [
             0.6,
             "#e6f5d0"
            ],
            [
             0.7,
             "#b8e186"
            ],
            [
             0.8,
             "#7fbc41"
            ],
            [
             0.9,
             "#4d9221"
            ],
            [
             1,
             "#276419"
            ]
           ],
           "sequential": [
            [
             0,
             "#0d0887"
            ],
            [
             0.1111111111111111,
             "#46039f"
            ],
            [
             0.2222222222222222,
             "#7201a8"
            ],
            [
             0.3333333333333333,
             "#9c179e"
            ],
            [
             0.4444444444444444,
             "#bd3786"
            ],
            [
             0.5555555555555556,
             "#d8576b"
            ],
            [
             0.6666666666666666,
             "#ed7953"
            ],
            [
             0.7777777777777778,
             "#fb9f3a"
            ],
            [
             0.8888888888888888,
             "#fdca26"
            ],
            [
             1,
             "#f0f921"
            ]
           ],
           "sequentialminus": [
            [
             0,
             "#0d0887"
            ],
            [
             0.1111111111111111,
             "#46039f"
            ],
            [
             0.2222222222222222,
             "#7201a8"
            ],
            [
             0.3333333333333333,
             "#9c179e"
            ],
            [
             0.4444444444444444,
             "#bd3786"
            ],
            [
             0.5555555555555556,
             "#d8576b"
            ],
            [
             0.6666666666666666,
             "#ed7953"
            ],
            [
             0.7777777777777778,
             "#fb9f3a"
            ],
            [
             0.8888888888888888,
             "#fdca26"
            ],
            [
             1,
             "#f0f921"
            ]
           ]
          },
          "colorway": [
           "#636efa",
           "#EF553B",
           "#00cc96",
           "#ab63fa",
           "#FFA15A",
           "#19d3f3",
           "#FF6692",
           "#B6E880",
           "#FF97FF",
           "#FECB52"
          ],
          "font": {
           "color": "#2a3f5f"
          },
          "geo": {
           "bgcolor": "white",
           "lakecolor": "white",
           "landcolor": "#E5ECF6",
           "showlakes": true,
           "showland": true,
           "subunitcolor": "white"
          },
          "hoverlabel": {
           "align": "left"
          },
          "hovermode": "closest",
          "mapbox": {
           "style": "light"
          },
          "paper_bgcolor": "white",
          "plot_bgcolor": "#E5ECF6",
          "polar": {
           "angularaxis": {
            "gridcolor": "white",
            "linecolor": "white",
            "ticks": ""
           },
           "bgcolor": "#E5ECF6",
           "radialaxis": {
            "gridcolor": "white",
            "linecolor": "white",
            "ticks": ""
           }
          },
          "scene": {
           "xaxis": {
            "backgroundcolor": "#E5ECF6",
            "gridcolor": "white",
            "gridwidth": 2,
            "linecolor": "white",
            "showbackground": true,
            "ticks": "",
            "zerolinecolor": "white"
           },
           "yaxis": {
            "backgroundcolor": "#E5ECF6",
            "gridcolor": "white",
            "gridwidth": 2,
            "linecolor": "white",
            "showbackground": true,
            "ticks": "",
            "zerolinecolor": "white"
           },
           "zaxis": {
            "backgroundcolor": "#E5ECF6",
            "gridcolor": "white",
            "gridwidth": 2,
            "linecolor": "white",
            "showbackground": true,
            "ticks": "",
            "zerolinecolor": "white"
           }
          },
          "shapedefaults": {
           "line": {
            "color": "#2a3f5f"
           }
          },
          "ternary": {
           "aaxis": {
            "gridcolor": "white",
            "linecolor": "white",
            "ticks": ""
           },
           "baxis": {
            "gridcolor": "white",
            "linecolor": "white",
            "ticks": ""
           },
           "bgcolor": "#E5ECF6",
           "caxis": {
            "gridcolor": "white",
            "linecolor": "white",
            "ticks": ""
           }
          },
          "title": {
           "x": 0.05
          },
          "xaxis": {
           "automargin": true,
           "gridcolor": "white",
           "linecolor": "white",
           "ticks": "",
           "title": {
            "standoff": 15
           },
           "zerolinecolor": "white",
           "zerolinewidth": 2
          },
          "yaxis": {
           "automargin": true,
           "gridcolor": "white",
           "linecolor": "white",
           "ticks": "",
           "title": {
            "standoff": 15
           },
           "zerolinecolor": "white",
           "zerolinewidth": 2
          }
         }
        },
        "xaxis": {
         "anchor": "y",
         "domain": [
          0,
          1
         ],
         "title": {
          "text": "x"
         }
        },
        "yaxis": {
         "anchor": "x",
         "domain": [
          0,
          1
         ],
         "range": [
          -2,
          25
         ],
         "title": {
          "text": "y"
         }
        }
       }
      },
      "text/html": [
       "<div>                            <div id=\"289ec6ad-ef80-4aec-9347-189b80001c03\" class=\"plotly-graph-div\" style=\"height:525px; width:100%;\"></div>            <script type=\"text/javascript\">                require([\"plotly\"], function(Plotly) {                    window.PLOTLYENV=window.PLOTLYENV || {};                                    if (document.getElementById(\"289ec6ad-ef80-4aec-9347-189b80001c03\")) {                    Plotly.newPlot(                        \"289ec6ad-ef80-4aec-9347-189b80001c03\",                        [{\"hovertemplate\":\"x=%{x}<br>y=%{y}<extra></extra>\",\"legendgroup\":\"\",\"line\":{\"color\":\"#636efa\",\"dash\":\"solid\"},\"marker\":{\"symbol\":\"circle\"},\"mode\":\"lines\",\"name\":\"\",\"orientation\":\"v\",\"showlegend\":false,\"type\":\"scatter\",\"x\":[-5.0,-4.92,-4.84,-4.76,-4.68,-4.6,-4.52,-4.4399999999999995,-4.36,-4.28,-4.2,-4.12,-4.04,-3.96,-3.88,-3.8,-3.7199999999999998,-3.6399999999999997,-3.56,-3.48,-3.4,-3.3200000000000003,-3.24,-3.16,-3.08,-3.0,-2.92,-2.84,-2.76,-2.68,-2.6,-2.52,-2.44,-2.36,-2.28,-2.1999999999999997,-2.12,-2.04,-1.96,-1.88,-1.7999999999999998,-1.7199999999999998,-1.6400000000000001,-1.56,-1.48,-1.4,-1.3199999999999998,-1.2399999999999998,-1.1600000000000001,-1.08,-1.0,-0.9199999999999999,-0.8399999999999999,-0.7599999999999998,-0.6799999999999997,-0.5999999999999996,-0.5199999999999996,-0.4399999999999995,-0.3600000000000003,-0.28000000000000025,-0.20000000000000018,-0.1200000000000001,-0.040000000000000036,0.040000000000000036,0.1200000000000001,0.20000000000000018,0.28000000000000025,0.3600000000000003,0.4400000000000004,0.5200000000000005,0.6000000000000005,0.6799999999999997,0.7599999999999998,0.8399999999999999,0.9199999999999999,1.0,1.08,1.1600000000000001,1.2400000000000002,1.3200000000000003,1.4000000000000004,1.4800000000000004,1.5600000000000005,1.6400000000000006,1.7199999999999998,1.7999999999999998,1.88,1.96,2.04,2.12,2.2,2.2800000000000002,2.3600000000000003,2.4400000000000004,2.5200000000000005,2.6000000000000005,2.6799999999999997,2.76,2.84,2.92,3.0],\"xaxis\":\"x\",\"y\":[39.3125,38.39219341940858,37.48635086805555,36.59509660479855,35.71856729678639,34.85691358024691,34.010301859504125,33.178916387236335,32.36296167800454,31.56266531826294,30.77828125,30.0100936226167,29.25842132963989,28.52362337472608,27.806105246913578,27.106326530612243,26.42481003460207,25.76215280073462,25.119039453124998,24.496258480749216,23.894722222222217,23.315491557669443,22.759806632653063,22.229125377229085,21.72517218934911,21.25,20.806070138888888,20.396356143667298,20.024480165289255,19.69489433106576,19.413125,19.186106371191137,19.02264320987654,18.93406366782007,18.9351578125,19.045555555555556,19.291797959183675,19.7105349112426,20.35361388888889,21.296466115702483,22.652500000000007,24.599017283950623,27.426631249999993,31.640334693877552,38.18512222222222,49.01000000000002,68.71052500000006,110.48982222222241,226.9780999999996,837.5763999999986,null,736.9363999999986,175.69809999999967,75.23648888888876,41.150524999999924,25.809999999999953,17.678455555555523,12.874620408163242,9.806631250000011,7.727906172839512,6.252500000000003,5.165557024793389,4.340280555555556,3.6982272189349112,3.18894081632653,2.778888888888888,2.4451578124999993,2.1717107266435978,1.9470876543209865,1.7629484764542929,1.6131249999999993,1.4929895691609982,1.3990256198347109,1.3285300567107752,1.279403472222222,1.25,1.2390183431952662,1.2454216735253771,1.26837806122449,1.3072156956004757,1.361388888888889,1.4304520291363167,1.5140394531250005,1.6118497704315895,1.7236335640138403,1.8491836734693876,1.9883274691358024,2.1409206720233747,2.306842382271468,2.4859910585141356,2.67828125,2.883640928019037,3.102009297052155,3.333334991887508,3.577574586776861,3.834691358024693,4.104654253308127,4.3874370303304655,4.683017534722222,4.9913770928779675,5.3125],\"yaxis\":\"y\"}],                        {\"legend\":{\"tracegroupgap\":0},\"margin\":{\"t\":60},\"template\":{\"data\":{\"bar\":[{\"error_x\":{\"color\":\"#2a3f5f\"},\"error_y\":{\"color\":\"#2a3f5f\"},\"marker\":{\"line\":{\"color\":\"#E5ECF6\",\"width\":0.5},\"pattern\":{\"fillmode\":\"overlay\",\"size\":10,\"solidity\":0.2}},\"type\":\"bar\"}],\"barpolar\":[{\"marker\":{\"line\":{\"color\":\"#E5ECF6\",\"width\":0.5},\"pattern\":{\"fillmode\":\"overlay\",\"size\":10,\"solidity\":0.2}},\"type\":\"barpolar\"}],\"carpet\":[{\"aaxis\":{\"endlinecolor\":\"#2a3f5f\",\"gridcolor\":\"white\",\"linecolor\":\"white\",\"minorgridcolor\":\"white\",\"startlinecolor\":\"#2a3f5f\"},\"baxis\":{\"endlinecolor\":\"#2a3f5f\",\"gridcolor\":\"white\",\"linecolor\":\"white\",\"minorgridcolor\":\"white\",\"startlinecolor\":\"#2a3f5f\"},\"type\":\"carpet\"}],\"choropleth\":[{\"colorbar\":{\"outlinewidth\":0,\"ticks\":\"\"},\"type\":\"choropleth\"}],\"contour\":[{\"colorbar\":{\"outlinewidth\":0,\"ticks\":\"\"},\"colorscale\":[[0.0,\"#0d0887\"],[0.1111111111111111,\"#46039f\"],[0.2222222222222222,\"#7201a8\"],[0.3333333333333333,\"#9c179e\"],[0.4444444444444444,\"#bd3786\"],[0.5555555555555556,\"#d8576b\"],[0.6666666666666666,\"#ed7953\"],[0.7777777777777778,\"#fb9f3a\"],[0.8888888888888888,\"#fdca26\"],[1.0,\"#f0f921\"]],\"type\":\"contour\"}],\"contourcarpet\":[{\"colorbar\":{\"outlinewidth\":0,\"ticks\":\"\"},\"type\":\"contourcarpet\"}],\"heatmap\":[{\"colorbar\":{\"outlinewidth\":0,\"ticks\":\"\"},\"colorscale\":[[0.0,\"#0d0887\"],[0.1111111111111111,\"#46039f\"],[0.2222222222222222,\"#7201a8\"],[0.3333333333333333,\"#9c179e\"],[0.4444444444444444,\"#bd3786\"],[0.5555555555555556,\"#d8576b\"],[0.6666666666666666,\"#ed7953\"],[0.7777777777777778,\"#fb9f3a\"],[0.8888888888888888,\"#fdca26\"],[1.0,\"#f0f921\"]],\"type\":\"heatmap\"}],\"heatmapgl\":[{\"colorbar\":{\"outlinewidth\":0,\"ticks\":\"\"},\"colorscale\":[[0.0,\"#0d0887\"],[0.1111111111111111,\"#46039f\"],[0.2222222222222222,\"#7201a8\"],[0.3333333333333333,\"#9c179e\"],[0.4444444444444444,\"#bd3786\"],[0.5555555555555556,\"#d8576b\"],[0.6666666666666666,\"#ed7953\"],[0.7777777777777778,\"#fb9f3a\"],[0.8888888888888888,\"#fdca26\"],[1.0,\"#f0f921\"]],\"type\":\"heatmapgl\"}],\"histogram\":[{\"marker\":{\"pattern\":{\"fillmode\":\"overlay\",\"size\":10,\"solidity\":0.2}},\"type\":\"histogram\"}],\"histogram2d\":[{\"colorbar\":{\"outlinewidth\":0,\"ticks\":\"\"},\"colorscale\":[[0.0,\"#0d0887\"],[0.1111111111111111,\"#46039f\"],[0.2222222222222222,\"#7201a8\"],[0.3333333333333333,\"#9c179e\"],[0.4444444444444444,\"#bd3786\"],[0.5555555555555556,\"#d8576b\"],[0.6666666666666666,\"#ed7953\"],[0.7777777777777778,\"#fb9f3a\"],[0.8888888888888888,\"#fdca26\"],[1.0,\"#f0f921\"]],\"type\":\"histogram2d\"}],\"histogram2dcontour\":[{\"colorbar\":{\"outlinewidth\":0,\"ticks\":\"\"},\"colorscale\":[[0.0,\"#0d0887\"],[0.1111111111111111,\"#46039f\"],[0.2222222222222222,\"#7201a8\"],[0.3333333333333333,\"#9c179e\"],[0.4444444444444444,\"#bd3786\"],[0.5555555555555556,\"#d8576b\"],[0.6666666666666666,\"#ed7953\"],[0.7777777777777778,\"#fb9f3a\"],[0.8888888888888888,\"#fdca26\"],[1.0,\"#f0f921\"]],\"type\":\"histogram2dcontour\"}],\"mesh3d\":[{\"colorbar\":{\"outlinewidth\":0,\"ticks\":\"\"},\"type\":\"mesh3d\"}],\"parcoords\":[{\"line\":{\"colorbar\":{\"outlinewidth\":0,\"ticks\":\"\"}},\"type\":\"parcoords\"}],\"pie\":[{\"automargin\":true,\"type\":\"pie\"}],\"scatter\":[{\"marker\":{\"colorbar\":{\"outlinewidth\":0,\"ticks\":\"\"}},\"type\":\"scatter\"}],\"scatter3d\":[{\"line\":{\"colorbar\":{\"outlinewidth\":0,\"ticks\":\"\"}},\"marker\":{\"colorbar\":{\"outlinewidth\":0,\"ticks\":\"\"}},\"type\":\"scatter3d\"}],\"scattercarpet\":[{\"marker\":{\"colorbar\":{\"outlinewidth\":0,\"ticks\":\"\"}},\"type\":\"scattercarpet\"}],\"scattergeo\":[{\"marker\":{\"colorbar\":{\"outlinewidth\":0,\"ticks\":\"\"}},\"type\":\"scattergeo\"}],\"scattergl\":[{\"marker\":{\"colorbar\":{\"outlinewidth\":0,\"ticks\":\"\"}},\"type\":\"scattergl\"}],\"scattermapbox\":[{\"marker\":{\"colorbar\":{\"outlinewidth\":0,\"ticks\":\"\"}},\"type\":\"scattermapbox\"}],\"scatterpolar\":[{\"marker\":{\"colorbar\":{\"outlinewidth\":0,\"ticks\":\"\"}},\"type\":\"scatterpolar\"}],\"scatterpolargl\":[{\"marker\":{\"colorbar\":{\"outlinewidth\":0,\"ticks\":\"\"}},\"type\":\"scatterpolargl\"}],\"scatterternary\":[{\"marker\":{\"colorbar\":{\"outlinewidth\":0,\"ticks\":\"\"}},\"type\":\"scatterternary\"}],\"surface\":[{\"colorbar\":{\"outlinewidth\":0,\"ticks\":\"\"},\"colorscale\":[[0.0,\"#0d0887\"],[0.1111111111111111,\"#46039f\"],[0.2222222222222222,\"#7201a8\"],[0.3333333333333333,\"#9c179e\"],[0.4444444444444444,\"#bd3786\"],[0.5555555555555556,\"#d8576b\"],[0.6666666666666666,\"#ed7953\"],[0.7777777777777778,\"#fb9f3a\"],[0.8888888888888888,\"#fdca26\"],[1.0,\"#f0f921\"]],\"type\":\"surface\"}],\"table\":[{\"cells\":{\"fill\":{\"color\":\"#EBF0F8\"},\"line\":{\"color\":\"white\"}},\"header\":{\"fill\":{\"color\":\"#C8D4E3\"},\"line\":{\"color\":\"white\"}},\"type\":\"table\"}]},\"layout\":{\"annotationdefaults\":{\"arrowcolor\":\"#2a3f5f\",\"arrowhead\":0,\"arrowwidth\":1},\"autotypenumbers\":\"strict\",\"coloraxis\":{\"colorbar\":{\"outlinewidth\":0,\"ticks\":\"\"}},\"colorscale\":{\"diverging\":[[0,\"#8e0152\"],[0.1,\"#c51b7d\"],[0.2,\"#de77ae\"],[0.3,\"#f1b6da\"],[0.4,\"#fde0ef\"],[0.5,\"#f7f7f7\"],[0.6,\"#e6f5d0\"],[0.7,\"#b8e186\"],[0.8,\"#7fbc41\"],[0.9,\"#4d9221\"],[1,\"#276419\"]],\"sequential\":[[0.0,\"#0d0887\"],[0.1111111111111111,\"#46039f\"],[0.2222222222222222,\"#7201a8\"],[0.3333333333333333,\"#9c179e\"],[0.4444444444444444,\"#bd3786\"],[0.5555555555555556,\"#d8576b\"],[0.6666666666666666,\"#ed7953\"],[0.7777777777777778,\"#fb9f3a\"],[0.8888888888888888,\"#fdca26\"],[1.0,\"#f0f921\"]],\"sequentialminus\":[[0.0,\"#0d0887\"],[0.1111111111111111,\"#46039f\"],[0.2222222222222222,\"#7201a8\"],[0.3333333333333333,\"#9c179e\"],[0.4444444444444444,\"#bd3786\"],[0.5555555555555556,\"#d8576b\"],[0.6666666666666666,\"#ed7953\"],[0.7777777777777778,\"#fb9f3a\"],[0.8888888888888888,\"#fdca26\"],[1.0,\"#f0f921\"]]},\"colorway\":[\"#636efa\",\"#EF553B\",\"#00cc96\",\"#ab63fa\",\"#FFA15A\",\"#19d3f3\",\"#FF6692\",\"#B6E880\",\"#FF97FF\",\"#FECB52\"],\"font\":{\"color\":\"#2a3f5f\"},\"geo\":{\"bgcolor\":\"white\",\"lakecolor\":\"white\",\"landcolor\":\"#E5ECF6\",\"showlakes\":true,\"showland\":true,\"subunitcolor\":\"white\"},\"hoverlabel\":{\"align\":\"left\"},\"hovermode\":\"closest\",\"mapbox\":{\"style\":\"light\"},\"paper_bgcolor\":\"white\",\"plot_bgcolor\":\"#E5ECF6\",\"polar\":{\"angularaxis\":{\"gridcolor\":\"white\",\"linecolor\":\"white\",\"ticks\":\"\"},\"bgcolor\":\"#E5ECF6\",\"radialaxis\":{\"gridcolor\":\"white\",\"linecolor\":\"white\",\"ticks\":\"\"}},\"scene\":{\"xaxis\":{\"backgroundcolor\":\"#E5ECF6\",\"gridcolor\":\"white\",\"gridwidth\":2,\"linecolor\":\"white\",\"showbackground\":true,\"ticks\":\"\",\"zerolinecolor\":\"white\"},\"yaxis\":{\"backgroundcolor\":\"#E5ECF6\",\"gridcolor\":\"white\",\"gridwidth\":2,\"linecolor\":\"white\",\"showbackground\":true,\"ticks\":\"\",\"zerolinecolor\":\"white\"},\"zaxis\":{\"backgroundcolor\":\"#E5ECF6\",\"gridcolor\":\"white\",\"gridwidth\":2,\"linecolor\":\"white\",\"showbackground\":true,\"ticks\":\"\",\"zerolinecolor\":\"white\"}},\"shapedefaults\":{\"line\":{\"color\":\"#2a3f5f\"}},\"ternary\":{\"aaxis\":{\"gridcolor\":\"white\",\"linecolor\":\"white\",\"ticks\":\"\"},\"baxis\":{\"gridcolor\":\"white\",\"linecolor\":\"white\",\"ticks\":\"\"},\"bgcolor\":\"#E5ECF6\",\"caxis\":{\"gridcolor\":\"white\",\"linecolor\":\"white\",\"ticks\":\"\"}},\"title\":{\"x\":0.05},\"xaxis\":{\"automargin\":true,\"gridcolor\":\"white\",\"linecolor\":\"white\",\"ticks\":\"\",\"title\":{\"standoff\":15},\"zerolinecolor\":\"white\",\"zerolinewidth\":2},\"yaxis\":{\"automargin\":true,\"gridcolor\":\"white\",\"linecolor\":\"white\",\"ticks\":\"\",\"title\":{\"standoff\":15},\"zerolinecolor\":\"white\",\"zerolinewidth\":2}}},\"xaxis\":{\"anchor\":\"y\",\"domain\":[0.0,1.0],\"title\":{\"text\":\"x\"}},\"yaxis\":{\"anchor\":\"x\",\"domain\":[0.0,1.0],\"range\":[-2,25],\"title\":{\"text\":\"y\"}}},                        {\"responsive\": true}                    ).then(function(){\n",
       "                            \n",
       "var gd = document.getElementById('289ec6ad-ef80-4aec-9347-189b80001c03');\n",
       "var x = new MutationObserver(function (mutations, observer) {{\n",
       "        var display = window.getComputedStyle(gd).display;\n",
       "        if (!display || display === 'none') {{\n",
       "            console.log([gd, 'removed!']);\n",
       "            Plotly.purge(gd);\n",
       "            observer.disconnect();\n",
       "        }}\n",
       "}});\n",
       "\n",
       "// Listen for the removal of the full notebook cells\n",
       "var notebookContainer = gd.closest('#notebook-container');\n",
       "if (notebookContainer) {{\n",
       "    x.observe(notebookContainer, {childList: true});\n",
       "}}\n",
       "\n",
       "// Listen for the clearing of the current output cell\n",
       "var outputEl = gd.closest('.output');\n",
       "if (outputEl) {{\n",
       "    x.observe(outputEl, {childList: true});\n",
       "}}\n",
       "\n",
       "                        })                };                });            </script>        </div>"
      ]
     },
     "metadata": {},
     "output_type": "display_data"
    }
   ],
   "source": [
    "x_=np.linspace(-5,3,101)\n",
    "x2=np.linspace(-3,-1,101)\n",
    "def f_(x):\n",
    "    return (x**4+4)/(x+1)**2\n",
    "\n",
    "ex.line(x=x2,y=f_(x2),range_y=(-2,25))\n",
    "ex.line(x=x_,y=f_(x_),range_y=(-2,25))"
   ]
  },
  {
   "cell_type": "code",
   "execution_count": 52,
   "metadata": {},
   "outputs": [
    {
     "data": {
      "text/latex": [
       "Functions:  $$\\large{\\quad f(x) = x e^{- \\frac{x^{2}}{3}}}$$1. Critical Points: \\begin{eqnarray}\\large{f'(x)=0}& \\large{\\Rightarrow}&\\large{- \\frac{2 x^{2} e^{- \\frac{x^{2}}{3}}}{3} + e^{- \\frac{x^{2}}{3}}=0 }\\cr &\\large{\\Rightarrow}&\\large{- \\frac{\\left(2 x^{2} - 3\\right) e^{- \\frac{x^{2}}{3}}}{3}=0} \\cr&\\large{\\Rightarrow}&\\large{ x=  - \\frac{\\sqrt{6}}{2}, \\frac{\\sqrt{6}}{2},}\\end{eqnarray}$$\\large{f''(x)=\\frac{4 x^{3} e^{- \\frac{x^{2}}{3}}}{9} - 2 x e^{- \\frac{x^{2}}{3}}=\\frac{2 x \\left(2 x^{2} - 9\\right) e^{- \\frac{x^{2}}{3}}}{9}}$$2. Increasing or Decreasing:\\begin{eqnarray}&\\quad\\text{a) Increasing, }f'(x)>0, \\text{ at }&\\left(- \\frac{\\sqrt{6}}{2}, \\frac{\\sqrt{6}}{2}\\right)\\cr&\\quad\\text{b) Decreasing, }f'(x)<0, \\text{ at }&\\left(-\\infty, - \\frac{\\sqrt{6}}{2}\\right) \\cup \\left(\\frac{\\sqrt{6}}{2}, \\infty\\right)\\cr\\end{eqnarray}3. Concave Upwards or Downwards:\\begin{eqnarray}&\\quad\\text{a) Concave Upwards, }f''(x)>0, \\text{ at }&\\left(- \\frac{3 \\sqrt{2}}{2}, 0\\right) \\cup \\left(\\frac{3 \\sqrt{2}}{2}, \\infty\\right)\\cr&\\quad\\text{b) Concave Downwards, }f''(x)<0, \\text{ at }&\\left(-\\infty, - \\frac{3 \\sqrt{2}}{2}\\right) \\cup \\left(0, \\frac{3 \\sqrt{2}}{2}\\right)\\cr\\end{eqnarray}"
      ],
      "text/plain": [
       "<IPython.core.display.Latex object>"
      ]
     },
     "execution_count": 52,
     "metadata": {},
     "output_type": "execute_result"
    }
   ],
   "source": [
    "f=x*exp(-x**2/3)\n",
    "diff_app(f,x)"
   ]
  },
  {
   "cell_type": "code",
   "execution_count": 53,
   "metadata": {},
   "outputs": [
    {
     "data": {
      "application/vnd.plotly.v1+json": {
       "config": {
        "plotlyServerURL": "https://plot.ly"
       },
       "data": [
        {
         "hovertemplate": "x=%{x}<br>y=%{y}<extra></extra>",
         "legendgroup": "",
         "line": {
          "color": "#636efa",
          "dash": "solid"
         },
         "marker": {
          "symbol": "circle"
         },
         "mode": "lines",
         "name": "",
         "orientation": "v",
         "showlegend": false,
         "type": "scatter",
         "x": [
          -3,
          -2.94,
          -2.88,
          -2.82,
          -2.76,
          -2.7,
          -2.64,
          -2.58,
          -2.52,
          -2.46,
          -2.4,
          -2.34,
          -2.2800000000000002,
          -2.2199999999999998,
          -2.16,
          -2.1,
          -2.04,
          -1.98,
          -1.92,
          -1.86,
          -1.8,
          -1.74,
          -1.6800000000000002,
          -1.62,
          -1.56,
          -1.5,
          -1.44,
          -1.3800000000000001,
          -1.32,
          -1.26,
          -1.2000000000000002,
          -1.1400000000000001,
          -1.08,
          -1.02,
          -0.96,
          -0.8999999999999999,
          -0.8399999999999999,
          -0.7800000000000002,
          -0.7200000000000002,
          -0.6600000000000001,
          -0.6000000000000001,
          -0.54,
          -0.48,
          -0.41999999999999993,
          -0.3600000000000003,
          -0.30000000000000027,
          -0.2400000000000002,
          -0.18000000000000016,
          -0.1200000000000001,
          -0.06000000000000005,
          0,
          0.06000000000000005,
          0.1200000000000001,
          0.17999999999999972,
          0.23999999999999977,
          0.2999999999999998,
          0.3599999999999999,
          0.41999999999999993,
          0.48,
          0.54,
          0.5999999999999996,
          0.6599999999999997,
          0.7199999999999998,
          0.7799999999999998,
          0.8399999999999999,
          0.8999999999999999,
          0.96,
          1.0199999999999996,
          1.08,
          1.1399999999999997,
          1.2000000000000002,
          1.2599999999999998,
          1.3200000000000003,
          1.38,
          1.4399999999999995,
          1.5,
          1.5599999999999996,
          1.62,
          1.6799999999999997,
          1.7400000000000002,
          1.7999999999999998,
          1.8599999999999994,
          1.92,
          1.9799999999999995,
          2.04,
          2.0999999999999996,
          2.16,
          2.2199999999999998,
          2.2799999999999994,
          2.34,
          2.3999999999999995,
          2.46,
          2.5199999999999996,
          2.58,
          2.6399999999999997,
          2.7,
          2.76,
          2.8199999999999994,
          2.88,
          2.9399999999999995,
          3
         ],
         "xaxis": "x",
         "y": [
          -0.14936120510359183,
          -0.16483827806762416,
          -0.18140744398317313,
          -0.1990770954324037,
          -0.21784547010638333,
          -0.2376994479724059,
          -0.2586133776729627,
          -0.2805479564023193,
          -0.30344918925053593,
          -0.3272474553585301,
          -0.35185670911284034,
          -0.3771738449507077,
          -0.4030782540773868,
          -0.4294316004603698,
          -0.4560778418139699,
          -0.48284351889212007,
          -0.5095383332543757,
          -0.5359560297667556,
          -0.5618755954731608,
          -0.5870627811751268,
          -0.6112719461608904,
          -0.634248220125232,
          -0.6557299695371286,
          -0.6754515486807894,
          -0.693146308472593,
          -0.708549829111522,
          -0.721403335833891,
          -0.7314572507002147,
          -0.7384748276292533,
          -0.7422358129929866,
          -0.742540070167369,
          -0.7392111036517346,
          -0.7320994168574481,
          -0.721085637529659,
          -0.7060833460791389,
          -0.6870415449031678,
          -0.663946711066105,
          -0.6368243804524277,
          -0.6057402186178557,
          -0.5708005419279318,
          -0.5321522620302945,
          -0.4899822370642563,
          -0.4445160240461992,
          -0.39601603833385585,
          -0.3447791377005487,
          -0.2911336600645527,
          -0.23543595503823297,
          -0.1780664599104568,
          -0.11942538019081177,
          -0.05992804318272524,
          0,
          0.05992804318272524,
          0.11942538019081177,
          0.1780664599104564,
          0.23543595503823256,
          0.29113366006455227,
          0.34477913770054835,
          0.39601603833385585,
          0.4445160240461992,
          0.4899822370642563,
          0.5321522620302942,
          0.5708005419279316,
          0.6057402186178553,
          0.6368243804524276,
          0.663946711066105,
          0.6870415449031678,
          0.7060833460791389,
          0.7210856375296589,
          0.7320994168574481,
          0.7392111036517346,
          0.742540070167369,
          0.7422358129929866,
          0.7384748276292533,
          0.7314572507002147,
          0.7214033358338912,
          0.708549829111522,
          0.693146308472593,
          0.6754515486807894,
          0.6557299695371288,
          0.6342482201252319,
          0.6112719461608905,
          0.5870627811751271,
          0.5618755954731608,
          0.5359560297667558,
          0.5095383332543757,
          0.48284351889212024,
          0.4560778418139699,
          0.4294316004603698,
          0.4030782540773871,
          0.3771738449507077,
          0.35185670911284056,
          0.3272474553585301,
          0.30344918925053616,
          0.2805479564023193,
          0.2586133776729629,
          0.2376994479724059,
          0.21784547010638333,
          0.19907709543240382,
          0.18140744398317313,
          0.1648382780676242,
          0.14936120510359183
         ],
         "yaxis": "y"
        }
       ],
       "layout": {
        "legend": {
         "tracegroupgap": 0
        },
        "margin": {
         "t": 60
        },
        "template": {
         "data": {
          "bar": [
           {
            "error_x": {
             "color": "#2a3f5f"
            },
            "error_y": {
             "color": "#2a3f5f"
            },
            "marker": {
             "line": {
              "color": "#E5ECF6",
              "width": 0.5
             },
             "pattern": {
              "fillmode": "overlay",
              "size": 10,
              "solidity": 0.2
             }
            },
            "type": "bar"
           }
          ],
          "barpolar": [
           {
            "marker": {
             "line": {
              "color": "#E5ECF6",
              "width": 0.5
             },
             "pattern": {
              "fillmode": "overlay",
              "size": 10,
              "solidity": 0.2
             }
            },
            "type": "barpolar"
           }
          ],
          "carpet": [
           {
            "aaxis": {
             "endlinecolor": "#2a3f5f",
             "gridcolor": "white",
             "linecolor": "white",
             "minorgridcolor": "white",
             "startlinecolor": "#2a3f5f"
            },
            "baxis": {
             "endlinecolor": "#2a3f5f",
             "gridcolor": "white",
             "linecolor": "white",
             "minorgridcolor": "white",
             "startlinecolor": "#2a3f5f"
            },
            "type": "carpet"
           }
          ],
          "choropleth": [
           {
            "colorbar": {
             "outlinewidth": 0,
             "ticks": ""
            },
            "type": "choropleth"
           }
          ],
          "contour": [
           {
            "colorbar": {
             "outlinewidth": 0,
             "ticks": ""
            },
            "colorscale": [
             [
              0,
              "#0d0887"
             ],
             [
              0.1111111111111111,
              "#46039f"
             ],
             [
              0.2222222222222222,
              "#7201a8"
             ],
             [
              0.3333333333333333,
              "#9c179e"
             ],
             [
              0.4444444444444444,
              "#bd3786"
             ],
             [
              0.5555555555555556,
              "#d8576b"
             ],
             [
              0.6666666666666666,
              "#ed7953"
             ],
             [
              0.7777777777777778,
              "#fb9f3a"
             ],
             [
              0.8888888888888888,
              "#fdca26"
             ],
             [
              1,
              "#f0f921"
             ]
            ],
            "type": "contour"
           }
          ],
          "contourcarpet": [
           {
            "colorbar": {
             "outlinewidth": 0,
             "ticks": ""
            },
            "type": "contourcarpet"
           }
          ],
          "heatmap": [
           {
            "colorbar": {
             "outlinewidth": 0,
             "ticks": ""
            },
            "colorscale": [
             [
              0,
              "#0d0887"
             ],
             [
              0.1111111111111111,
              "#46039f"
             ],
             [
              0.2222222222222222,
              "#7201a8"
             ],
             [
              0.3333333333333333,
              "#9c179e"
             ],
             [
              0.4444444444444444,
              "#bd3786"
             ],
             [
              0.5555555555555556,
              "#d8576b"
             ],
             [
              0.6666666666666666,
              "#ed7953"
             ],
             [
              0.7777777777777778,
              "#fb9f3a"
             ],
             [
              0.8888888888888888,
              "#fdca26"
             ],
             [
              1,
              "#f0f921"
             ]
            ],
            "type": "heatmap"
           }
          ],
          "heatmapgl": [
           {
            "colorbar": {
             "outlinewidth": 0,
             "ticks": ""
            },
            "colorscale": [
             [
              0,
              "#0d0887"
             ],
             [
              0.1111111111111111,
              "#46039f"
             ],
             [
              0.2222222222222222,
              "#7201a8"
             ],
             [
              0.3333333333333333,
              "#9c179e"
             ],
             [
              0.4444444444444444,
              "#bd3786"
             ],
             [
              0.5555555555555556,
              "#d8576b"
             ],
             [
              0.6666666666666666,
              "#ed7953"
             ],
             [
              0.7777777777777778,
              "#fb9f3a"
             ],
             [
              0.8888888888888888,
              "#fdca26"
             ],
             [
              1,
              "#f0f921"
             ]
            ],
            "type": "heatmapgl"
           }
          ],
          "histogram": [
           {
            "marker": {
             "pattern": {
              "fillmode": "overlay",
              "size": 10,
              "solidity": 0.2
             }
            },
            "type": "histogram"
           }
          ],
          "histogram2d": [
           {
            "colorbar": {
             "outlinewidth": 0,
             "ticks": ""
            },
            "colorscale": [
             [
              0,
              "#0d0887"
             ],
             [
              0.1111111111111111,
              "#46039f"
             ],
             [
              0.2222222222222222,
              "#7201a8"
             ],
             [
              0.3333333333333333,
              "#9c179e"
             ],
             [
              0.4444444444444444,
              "#bd3786"
             ],
             [
              0.5555555555555556,
              "#d8576b"
             ],
             [
              0.6666666666666666,
              "#ed7953"
             ],
             [
              0.7777777777777778,
              "#fb9f3a"
             ],
             [
              0.8888888888888888,
              "#fdca26"
             ],
             [
              1,
              "#f0f921"
             ]
            ],
            "type": "histogram2d"
           }
          ],
          "histogram2dcontour": [
           {
            "colorbar": {
             "outlinewidth": 0,
             "ticks": ""
            },
            "colorscale": [
             [
              0,
              "#0d0887"
             ],
             [
              0.1111111111111111,
              "#46039f"
             ],
             [
              0.2222222222222222,
              "#7201a8"
             ],
             [
              0.3333333333333333,
              "#9c179e"
             ],
             [
              0.4444444444444444,
              "#bd3786"
             ],
             [
              0.5555555555555556,
              "#d8576b"
             ],
             [
              0.6666666666666666,
              "#ed7953"
             ],
             [
              0.7777777777777778,
              "#fb9f3a"
             ],
             [
              0.8888888888888888,
              "#fdca26"
             ],
             [
              1,
              "#f0f921"
             ]
            ],
            "type": "histogram2dcontour"
           }
          ],
          "mesh3d": [
           {
            "colorbar": {
             "outlinewidth": 0,
             "ticks": ""
            },
            "type": "mesh3d"
           }
          ],
          "parcoords": [
           {
            "line": {
             "colorbar": {
              "outlinewidth": 0,
              "ticks": ""
             }
            },
            "type": "parcoords"
           }
          ],
          "pie": [
           {
            "automargin": true,
            "type": "pie"
           }
          ],
          "scatter": [
           {
            "marker": {
             "colorbar": {
              "outlinewidth": 0,
              "ticks": ""
             }
            },
            "type": "scatter"
           }
          ],
          "scatter3d": [
           {
            "line": {
             "colorbar": {
              "outlinewidth": 0,
              "ticks": ""
             }
            },
            "marker": {
             "colorbar": {
              "outlinewidth": 0,
              "ticks": ""
             }
            },
            "type": "scatter3d"
           }
          ],
          "scattercarpet": [
           {
            "marker": {
             "colorbar": {
              "outlinewidth": 0,
              "ticks": ""
             }
            },
            "type": "scattercarpet"
           }
          ],
          "scattergeo": [
           {
            "marker": {
             "colorbar": {
              "outlinewidth": 0,
              "ticks": ""
             }
            },
            "type": "scattergeo"
           }
          ],
          "scattergl": [
           {
            "marker": {
             "colorbar": {
              "outlinewidth": 0,
              "ticks": ""
             }
            },
            "type": "scattergl"
           }
          ],
          "scattermapbox": [
           {
            "marker": {
             "colorbar": {
              "outlinewidth": 0,
              "ticks": ""
             }
            },
            "type": "scattermapbox"
           }
          ],
          "scatterpolar": [
           {
            "marker": {
             "colorbar": {
              "outlinewidth": 0,
              "ticks": ""
             }
            },
            "type": "scatterpolar"
           }
          ],
          "scatterpolargl": [
           {
            "marker": {
             "colorbar": {
              "outlinewidth": 0,
              "ticks": ""
             }
            },
            "type": "scatterpolargl"
           }
          ],
          "scatterternary": [
           {
            "marker": {
             "colorbar": {
              "outlinewidth": 0,
              "ticks": ""
             }
            },
            "type": "scatterternary"
           }
          ],
          "surface": [
           {
            "colorbar": {
             "outlinewidth": 0,
             "ticks": ""
            },
            "colorscale": [
             [
              0,
              "#0d0887"
             ],
             [
              0.1111111111111111,
              "#46039f"
             ],
             [
              0.2222222222222222,
              "#7201a8"
             ],
             [
              0.3333333333333333,
              "#9c179e"
             ],
             [
              0.4444444444444444,
              "#bd3786"
             ],
             [
              0.5555555555555556,
              "#d8576b"
             ],
             [
              0.6666666666666666,
              "#ed7953"
             ],
             [
              0.7777777777777778,
              "#fb9f3a"
             ],
             [
              0.8888888888888888,
              "#fdca26"
             ],
             [
              1,
              "#f0f921"
             ]
            ],
            "type": "surface"
           }
          ],
          "table": [
           {
            "cells": {
             "fill": {
              "color": "#EBF0F8"
             },
             "line": {
              "color": "white"
             }
            },
            "header": {
             "fill": {
              "color": "#C8D4E3"
             },
             "line": {
              "color": "white"
             }
            },
            "type": "table"
           }
          ]
         },
         "layout": {
          "annotationdefaults": {
           "arrowcolor": "#2a3f5f",
           "arrowhead": 0,
           "arrowwidth": 1
          },
          "autotypenumbers": "strict",
          "coloraxis": {
           "colorbar": {
            "outlinewidth": 0,
            "ticks": ""
           }
          },
          "colorscale": {
           "diverging": [
            [
             0,
             "#8e0152"
            ],
            [
             0.1,
             "#c51b7d"
            ],
            [
             0.2,
             "#de77ae"
            ],
            [
             0.3,
             "#f1b6da"
            ],
            [
             0.4,
             "#fde0ef"
            ],
            [
             0.5,
             "#f7f7f7"
            ],
            [
             0.6,
             "#e6f5d0"
            ],
            [
             0.7,
             "#b8e186"
            ],
            [
             0.8,
             "#7fbc41"
            ],
            [
             0.9,
             "#4d9221"
            ],
            [
             1,
             "#276419"
            ]
           ],
           "sequential": [
            [
             0,
             "#0d0887"
            ],
            [
             0.1111111111111111,
             "#46039f"
            ],
            [
             0.2222222222222222,
             "#7201a8"
            ],
            [
             0.3333333333333333,
             "#9c179e"
            ],
            [
             0.4444444444444444,
             "#bd3786"
            ],
            [
             0.5555555555555556,
             "#d8576b"
            ],
            [
             0.6666666666666666,
             "#ed7953"
            ],
            [
             0.7777777777777778,
             "#fb9f3a"
            ],
            [
             0.8888888888888888,
             "#fdca26"
            ],
            [
             1,
             "#f0f921"
            ]
           ],
           "sequentialminus": [
            [
             0,
             "#0d0887"
            ],
            [
             0.1111111111111111,
             "#46039f"
            ],
            [
             0.2222222222222222,
             "#7201a8"
            ],
            [
             0.3333333333333333,
             "#9c179e"
            ],
            [
             0.4444444444444444,
             "#bd3786"
            ],
            [
             0.5555555555555556,
             "#d8576b"
            ],
            [
             0.6666666666666666,
             "#ed7953"
            ],
            [
             0.7777777777777778,
             "#fb9f3a"
            ],
            [
             0.8888888888888888,
             "#fdca26"
            ],
            [
             1,
             "#f0f921"
            ]
           ]
          },
          "colorway": [
           "#636efa",
           "#EF553B",
           "#00cc96",
           "#ab63fa",
           "#FFA15A",
           "#19d3f3",
           "#FF6692",
           "#B6E880",
           "#FF97FF",
           "#FECB52"
          ],
          "font": {
           "color": "#2a3f5f"
          },
          "geo": {
           "bgcolor": "white",
           "lakecolor": "white",
           "landcolor": "#E5ECF6",
           "showlakes": true,
           "showland": true,
           "subunitcolor": "white"
          },
          "hoverlabel": {
           "align": "left"
          },
          "hovermode": "closest",
          "mapbox": {
           "style": "light"
          },
          "paper_bgcolor": "white",
          "plot_bgcolor": "#E5ECF6",
          "polar": {
           "angularaxis": {
            "gridcolor": "white",
            "linecolor": "white",
            "ticks": ""
           },
           "bgcolor": "#E5ECF6",
           "radialaxis": {
            "gridcolor": "white",
            "linecolor": "white",
            "ticks": ""
           }
          },
          "scene": {
           "xaxis": {
            "backgroundcolor": "#E5ECF6",
            "gridcolor": "white",
            "gridwidth": 2,
            "linecolor": "white",
            "showbackground": true,
            "ticks": "",
            "zerolinecolor": "white"
           },
           "yaxis": {
            "backgroundcolor": "#E5ECF6",
            "gridcolor": "white",
            "gridwidth": 2,
            "linecolor": "white",
            "showbackground": true,
            "ticks": "",
            "zerolinecolor": "white"
           },
           "zaxis": {
            "backgroundcolor": "#E5ECF6",
            "gridcolor": "white",
            "gridwidth": 2,
            "linecolor": "white",
            "showbackground": true,
            "ticks": "",
            "zerolinecolor": "white"
           }
          },
          "shapedefaults": {
           "line": {
            "color": "#2a3f5f"
           }
          },
          "ternary": {
           "aaxis": {
            "gridcolor": "white",
            "linecolor": "white",
            "ticks": ""
           },
           "baxis": {
            "gridcolor": "white",
            "linecolor": "white",
            "ticks": ""
           },
           "bgcolor": "#E5ECF6",
           "caxis": {
            "gridcolor": "white",
            "linecolor": "white",
            "ticks": ""
           }
          },
          "title": {
           "x": 0.05
          },
          "xaxis": {
           "automargin": true,
           "gridcolor": "white",
           "linecolor": "white",
           "ticks": "",
           "title": {
            "standoff": 15
           },
           "zerolinecolor": "white",
           "zerolinewidth": 2
          },
          "yaxis": {
           "automargin": true,
           "gridcolor": "white",
           "linecolor": "white",
           "ticks": "",
           "title": {
            "standoff": 15
           },
           "zerolinecolor": "white",
           "zerolinewidth": 2
          }
         }
        },
        "xaxis": {
         "anchor": "y",
         "domain": [
          0,
          1
         ],
         "title": {
          "text": "x"
         }
        },
        "yaxis": {
         "anchor": "x",
         "domain": [
          0,
          1
         ],
         "range": [
          -2,
          2
         ],
         "title": {
          "text": "y"
         }
        }
       }
      },
      "text/html": [
       "<div>                            <div id=\"8a6c5ef9-f0de-4948-8a69-b921d582b742\" class=\"plotly-graph-div\" style=\"height:525px; width:100%;\"></div>            <script type=\"text/javascript\">                require([\"plotly\"], function(Plotly) {                    window.PLOTLYENV=window.PLOTLYENV || {};                                    if (document.getElementById(\"8a6c5ef9-f0de-4948-8a69-b921d582b742\")) {                    Plotly.newPlot(                        \"8a6c5ef9-f0de-4948-8a69-b921d582b742\",                        [{\"hovertemplate\":\"x=%{x}<br>y=%{y}<extra></extra>\",\"legendgroup\":\"\",\"line\":{\"color\":\"#636efa\",\"dash\":\"solid\"},\"marker\":{\"symbol\":\"circle\"},\"mode\":\"lines\",\"name\":\"\",\"orientation\":\"v\",\"showlegend\":false,\"type\":\"scatter\",\"x\":[-3.0,-2.94,-2.88,-2.82,-2.76,-2.7,-2.64,-2.58,-2.52,-2.46,-2.4,-2.34,-2.2800000000000002,-2.2199999999999998,-2.16,-2.1,-2.04,-1.98,-1.92,-1.86,-1.8,-1.74,-1.6800000000000002,-1.62,-1.56,-1.5,-1.44,-1.3800000000000001,-1.32,-1.26,-1.2000000000000002,-1.1400000000000001,-1.08,-1.02,-0.96,-0.8999999999999999,-0.8399999999999999,-0.7800000000000002,-0.7200000000000002,-0.6600000000000001,-0.6000000000000001,-0.54,-0.48,-0.41999999999999993,-0.3600000000000003,-0.30000000000000027,-0.2400000000000002,-0.18000000000000016,-0.1200000000000001,-0.06000000000000005,0.0,0.06000000000000005,0.1200000000000001,0.17999999999999972,0.23999999999999977,0.2999999999999998,0.3599999999999999,0.41999999999999993,0.48,0.54,0.5999999999999996,0.6599999999999997,0.7199999999999998,0.7799999999999998,0.8399999999999999,0.8999999999999999,0.96,1.0199999999999996,1.08,1.1399999999999997,1.2000000000000002,1.2599999999999998,1.3200000000000003,1.38,1.4399999999999995,1.5,1.5599999999999996,1.62,1.6799999999999997,1.7400000000000002,1.7999999999999998,1.8599999999999994,1.92,1.9799999999999995,2.04,2.0999999999999996,2.16,2.2199999999999998,2.2799999999999994,2.34,2.3999999999999995,2.46,2.5199999999999996,2.58,2.6399999999999997,2.7,2.76,2.8199999999999994,2.88,2.9399999999999995,3.0],\"xaxis\":\"x\",\"y\":[-0.14936120510359183,-0.16483827806762416,-0.18140744398317313,-0.1990770954324037,-0.21784547010638333,-0.2376994479724059,-0.2586133776729627,-0.2805479564023193,-0.30344918925053593,-0.3272474553585301,-0.35185670911284034,-0.3771738449507077,-0.4030782540773868,-0.4294316004603698,-0.4560778418139699,-0.48284351889212007,-0.5095383332543757,-0.5359560297667556,-0.5618755954731608,-0.5870627811751268,-0.6112719461608904,-0.634248220125232,-0.6557299695371286,-0.6754515486807894,-0.693146308472593,-0.708549829111522,-0.721403335833891,-0.7314572507002147,-0.7384748276292533,-0.7422358129929866,-0.742540070167369,-0.7392111036517346,-0.7320994168574481,-0.721085637529659,-0.7060833460791389,-0.6870415449031678,-0.663946711066105,-0.6368243804524277,-0.6057402186178557,-0.5708005419279318,-0.5321522620302945,-0.4899822370642563,-0.4445160240461992,-0.39601603833385585,-0.3447791377005487,-0.2911336600645527,-0.23543595503823297,-0.1780664599104568,-0.11942538019081177,-0.05992804318272524,0.0,0.05992804318272524,0.11942538019081177,0.1780664599104564,0.23543595503823256,0.29113366006455227,0.34477913770054835,0.39601603833385585,0.4445160240461992,0.4899822370642563,0.5321522620302942,0.5708005419279316,0.6057402186178553,0.6368243804524276,0.663946711066105,0.6870415449031678,0.7060833460791389,0.7210856375296589,0.7320994168574481,0.7392111036517346,0.742540070167369,0.7422358129929866,0.7384748276292533,0.7314572507002147,0.7214033358338912,0.708549829111522,0.693146308472593,0.6754515486807894,0.6557299695371288,0.6342482201252319,0.6112719461608905,0.5870627811751271,0.5618755954731608,0.5359560297667558,0.5095383332543757,0.48284351889212024,0.4560778418139699,0.4294316004603698,0.4030782540773871,0.3771738449507077,0.35185670911284056,0.3272474553585301,0.30344918925053616,0.2805479564023193,0.2586133776729629,0.2376994479724059,0.21784547010638333,0.19907709543240382,0.18140744398317313,0.1648382780676242,0.14936120510359183],\"yaxis\":\"y\"}],                        {\"legend\":{\"tracegroupgap\":0},\"margin\":{\"t\":60},\"template\":{\"data\":{\"bar\":[{\"error_x\":{\"color\":\"#2a3f5f\"},\"error_y\":{\"color\":\"#2a3f5f\"},\"marker\":{\"line\":{\"color\":\"#E5ECF6\",\"width\":0.5},\"pattern\":{\"fillmode\":\"overlay\",\"size\":10,\"solidity\":0.2}},\"type\":\"bar\"}],\"barpolar\":[{\"marker\":{\"line\":{\"color\":\"#E5ECF6\",\"width\":0.5},\"pattern\":{\"fillmode\":\"overlay\",\"size\":10,\"solidity\":0.2}},\"type\":\"barpolar\"}],\"carpet\":[{\"aaxis\":{\"endlinecolor\":\"#2a3f5f\",\"gridcolor\":\"white\",\"linecolor\":\"white\",\"minorgridcolor\":\"white\",\"startlinecolor\":\"#2a3f5f\"},\"baxis\":{\"endlinecolor\":\"#2a3f5f\",\"gridcolor\":\"white\",\"linecolor\":\"white\",\"minorgridcolor\":\"white\",\"startlinecolor\":\"#2a3f5f\"},\"type\":\"carpet\"}],\"choropleth\":[{\"colorbar\":{\"outlinewidth\":0,\"ticks\":\"\"},\"type\":\"choropleth\"}],\"contour\":[{\"colorbar\":{\"outlinewidth\":0,\"ticks\":\"\"},\"colorscale\":[[0.0,\"#0d0887\"],[0.1111111111111111,\"#46039f\"],[0.2222222222222222,\"#7201a8\"],[0.3333333333333333,\"#9c179e\"],[0.4444444444444444,\"#bd3786\"],[0.5555555555555556,\"#d8576b\"],[0.6666666666666666,\"#ed7953\"],[0.7777777777777778,\"#fb9f3a\"],[0.8888888888888888,\"#fdca26\"],[1.0,\"#f0f921\"]],\"type\":\"contour\"}],\"contourcarpet\":[{\"colorbar\":{\"outlinewidth\":0,\"ticks\":\"\"},\"type\":\"contourcarpet\"}],\"heatmap\":[{\"colorbar\":{\"outlinewidth\":0,\"ticks\":\"\"},\"colorscale\":[[0.0,\"#0d0887\"],[0.1111111111111111,\"#46039f\"],[0.2222222222222222,\"#7201a8\"],[0.3333333333333333,\"#9c179e\"],[0.4444444444444444,\"#bd3786\"],[0.5555555555555556,\"#d8576b\"],[0.6666666666666666,\"#ed7953\"],[0.7777777777777778,\"#fb9f3a\"],[0.8888888888888888,\"#fdca26\"],[1.0,\"#f0f921\"]],\"type\":\"heatmap\"}],\"heatmapgl\":[{\"colorbar\":{\"outlinewidth\":0,\"ticks\":\"\"},\"colorscale\":[[0.0,\"#0d0887\"],[0.1111111111111111,\"#46039f\"],[0.2222222222222222,\"#7201a8\"],[0.3333333333333333,\"#9c179e\"],[0.4444444444444444,\"#bd3786\"],[0.5555555555555556,\"#d8576b\"],[0.6666666666666666,\"#ed7953\"],[0.7777777777777778,\"#fb9f3a\"],[0.8888888888888888,\"#fdca26\"],[1.0,\"#f0f921\"]],\"type\":\"heatmapgl\"}],\"histogram\":[{\"marker\":{\"pattern\":{\"fillmode\":\"overlay\",\"size\":10,\"solidity\":0.2}},\"type\":\"histogram\"}],\"histogram2d\":[{\"colorbar\":{\"outlinewidth\":0,\"ticks\":\"\"},\"colorscale\":[[0.0,\"#0d0887\"],[0.1111111111111111,\"#46039f\"],[0.2222222222222222,\"#7201a8\"],[0.3333333333333333,\"#9c179e\"],[0.4444444444444444,\"#bd3786\"],[0.5555555555555556,\"#d8576b\"],[0.6666666666666666,\"#ed7953\"],[0.7777777777777778,\"#fb9f3a\"],[0.8888888888888888,\"#fdca26\"],[1.0,\"#f0f921\"]],\"type\":\"histogram2d\"}],\"histogram2dcontour\":[{\"colorbar\":{\"outlinewidth\":0,\"ticks\":\"\"},\"colorscale\":[[0.0,\"#0d0887\"],[0.1111111111111111,\"#46039f\"],[0.2222222222222222,\"#7201a8\"],[0.3333333333333333,\"#9c179e\"],[0.4444444444444444,\"#bd3786\"],[0.5555555555555556,\"#d8576b\"],[0.6666666666666666,\"#ed7953\"],[0.7777777777777778,\"#fb9f3a\"],[0.8888888888888888,\"#fdca26\"],[1.0,\"#f0f921\"]],\"type\":\"histogram2dcontour\"}],\"mesh3d\":[{\"colorbar\":{\"outlinewidth\":0,\"ticks\":\"\"},\"type\":\"mesh3d\"}],\"parcoords\":[{\"line\":{\"colorbar\":{\"outlinewidth\":0,\"ticks\":\"\"}},\"type\":\"parcoords\"}],\"pie\":[{\"automargin\":true,\"type\":\"pie\"}],\"scatter\":[{\"marker\":{\"colorbar\":{\"outlinewidth\":0,\"ticks\":\"\"}},\"type\":\"scatter\"}],\"scatter3d\":[{\"line\":{\"colorbar\":{\"outlinewidth\":0,\"ticks\":\"\"}},\"marker\":{\"colorbar\":{\"outlinewidth\":0,\"ticks\":\"\"}},\"type\":\"scatter3d\"}],\"scattercarpet\":[{\"marker\":{\"colorbar\":{\"outlinewidth\":0,\"ticks\":\"\"}},\"type\":\"scattercarpet\"}],\"scattergeo\":[{\"marker\":{\"colorbar\":{\"outlinewidth\":0,\"ticks\":\"\"}},\"type\":\"scattergeo\"}],\"scattergl\":[{\"marker\":{\"colorbar\":{\"outlinewidth\":0,\"ticks\":\"\"}},\"type\":\"scattergl\"}],\"scattermapbox\":[{\"marker\":{\"colorbar\":{\"outlinewidth\":0,\"ticks\":\"\"}},\"type\":\"scattermapbox\"}],\"scatterpolar\":[{\"marker\":{\"colorbar\":{\"outlinewidth\":0,\"ticks\":\"\"}},\"type\":\"scatterpolar\"}],\"scatterpolargl\":[{\"marker\":{\"colorbar\":{\"outlinewidth\":0,\"ticks\":\"\"}},\"type\":\"scatterpolargl\"}],\"scatterternary\":[{\"marker\":{\"colorbar\":{\"outlinewidth\":0,\"ticks\":\"\"}},\"type\":\"scatterternary\"}],\"surface\":[{\"colorbar\":{\"outlinewidth\":0,\"ticks\":\"\"},\"colorscale\":[[0.0,\"#0d0887\"],[0.1111111111111111,\"#46039f\"],[0.2222222222222222,\"#7201a8\"],[0.3333333333333333,\"#9c179e\"],[0.4444444444444444,\"#bd3786\"],[0.5555555555555556,\"#d8576b\"],[0.6666666666666666,\"#ed7953\"],[0.7777777777777778,\"#fb9f3a\"],[0.8888888888888888,\"#fdca26\"],[1.0,\"#f0f921\"]],\"type\":\"surface\"}],\"table\":[{\"cells\":{\"fill\":{\"color\":\"#EBF0F8\"},\"line\":{\"color\":\"white\"}},\"header\":{\"fill\":{\"color\":\"#C8D4E3\"},\"line\":{\"color\":\"white\"}},\"type\":\"table\"}]},\"layout\":{\"annotationdefaults\":{\"arrowcolor\":\"#2a3f5f\",\"arrowhead\":0,\"arrowwidth\":1},\"autotypenumbers\":\"strict\",\"coloraxis\":{\"colorbar\":{\"outlinewidth\":0,\"ticks\":\"\"}},\"colorscale\":{\"diverging\":[[0,\"#8e0152\"],[0.1,\"#c51b7d\"],[0.2,\"#de77ae\"],[0.3,\"#f1b6da\"],[0.4,\"#fde0ef\"],[0.5,\"#f7f7f7\"],[0.6,\"#e6f5d0\"],[0.7,\"#b8e186\"],[0.8,\"#7fbc41\"],[0.9,\"#4d9221\"],[1,\"#276419\"]],\"sequential\":[[0.0,\"#0d0887\"],[0.1111111111111111,\"#46039f\"],[0.2222222222222222,\"#7201a8\"],[0.3333333333333333,\"#9c179e\"],[0.4444444444444444,\"#bd3786\"],[0.5555555555555556,\"#d8576b\"],[0.6666666666666666,\"#ed7953\"],[0.7777777777777778,\"#fb9f3a\"],[0.8888888888888888,\"#fdca26\"],[1.0,\"#f0f921\"]],\"sequentialminus\":[[0.0,\"#0d0887\"],[0.1111111111111111,\"#46039f\"],[0.2222222222222222,\"#7201a8\"],[0.3333333333333333,\"#9c179e\"],[0.4444444444444444,\"#bd3786\"],[0.5555555555555556,\"#d8576b\"],[0.6666666666666666,\"#ed7953\"],[0.7777777777777778,\"#fb9f3a\"],[0.8888888888888888,\"#fdca26\"],[1.0,\"#f0f921\"]]},\"colorway\":[\"#636efa\",\"#EF553B\",\"#00cc96\",\"#ab63fa\",\"#FFA15A\",\"#19d3f3\",\"#FF6692\",\"#B6E880\",\"#FF97FF\",\"#FECB52\"],\"font\":{\"color\":\"#2a3f5f\"},\"geo\":{\"bgcolor\":\"white\",\"lakecolor\":\"white\",\"landcolor\":\"#E5ECF6\",\"showlakes\":true,\"showland\":true,\"subunitcolor\":\"white\"},\"hoverlabel\":{\"align\":\"left\"},\"hovermode\":\"closest\",\"mapbox\":{\"style\":\"light\"},\"paper_bgcolor\":\"white\",\"plot_bgcolor\":\"#E5ECF6\",\"polar\":{\"angularaxis\":{\"gridcolor\":\"white\",\"linecolor\":\"white\",\"ticks\":\"\"},\"bgcolor\":\"#E5ECF6\",\"radialaxis\":{\"gridcolor\":\"white\",\"linecolor\":\"white\",\"ticks\":\"\"}},\"scene\":{\"xaxis\":{\"backgroundcolor\":\"#E5ECF6\",\"gridcolor\":\"white\",\"gridwidth\":2,\"linecolor\":\"white\",\"showbackground\":true,\"ticks\":\"\",\"zerolinecolor\":\"white\"},\"yaxis\":{\"backgroundcolor\":\"#E5ECF6\",\"gridcolor\":\"white\",\"gridwidth\":2,\"linecolor\":\"white\",\"showbackground\":true,\"ticks\":\"\",\"zerolinecolor\":\"white\"},\"zaxis\":{\"backgroundcolor\":\"#E5ECF6\",\"gridcolor\":\"white\",\"gridwidth\":2,\"linecolor\":\"white\",\"showbackground\":true,\"ticks\":\"\",\"zerolinecolor\":\"white\"}},\"shapedefaults\":{\"line\":{\"color\":\"#2a3f5f\"}},\"ternary\":{\"aaxis\":{\"gridcolor\":\"white\",\"linecolor\":\"white\",\"ticks\":\"\"},\"baxis\":{\"gridcolor\":\"white\",\"linecolor\":\"white\",\"ticks\":\"\"},\"bgcolor\":\"#E5ECF6\",\"caxis\":{\"gridcolor\":\"white\",\"linecolor\":\"white\",\"ticks\":\"\"}},\"title\":{\"x\":0.05},\"xaxis\":{\"automargin\":true,\"gridcolor\":\"white\",\"linecolor\":\"white\",\"ticks\":\"\",\"title\":{\"standoff\":15},\"zerolinecolor\":\"white\",\"zerolinewidth\":2},\"yaxis\":{\"automargin\":true,\"gridcolor\":\"white\",\"linecolor\":\"white\",\"ticks\":\"\",\"title\":{\"standoff\":15},\"zerolinecolor\":\"white\",\"zerolinewidth\":2}}},\"xaxis\":{\"anchor\":\"y\",\"domain\":[0.0,1.0],\"title\":{\"text\":\"x\"}},\"yaxis\":{\"anchor\":\"x\",\"domain\":[0.0,1.0],\"range\":[-2,2],\"title\":{\"text\":\"y\"}}},                        {\"responsive\": true}                    ).then(function(){\n",
       "                            \n",
       "var gd = document.getElementById('8a6c5ef9-f0de-4948-8a69-b921d582b742');\n",
       "var x = new MutationObserver(function (mutations, observer) {{\n",
       "        var display = window.getComputedStyle(gd).display;\n",
       "        if (!display || display === 'none') {{\n",
       "            console.log([gd, 'removed!']);\n",
       "            Plotly.purge(gd);\n",
       "            observer.disconnect();\n",
       "        }}\n",
       "}});\n",
       "\n",
       "// Listen for the removal of the full notebook cells\n",
       "var notebookContainer = gd.closest('#notebook-container');\n",
       "if (notebookContainer) {{\n",
       "    x.observe(notebookContainer, {childList: true});\n",
       "}}\n",
       "\n",
       "// Listen for the clearing of the current output cell\n",
       "var outputEl = gd.closest('.output');\n",
       "if (outputEl) {{\n",
       "    x.observe(outputEl, {childList: true});\n",
       "}}\n",
       "\n",
       "                        })                };                });            </script>        </div>"
      ]
     },
     "metadata": {},
     "output_type": "display_data"
    }
   ],
   "source": [
    "x_=np.linspace(-3,3,101)\n",
    "\n",
    "def f_(x):\n",
    "    return x*np.exp(-x**2/3)\n",
    "\n",
    "ex.line(x=x_,y=f_(x_),range_y=(-2,2))"
   ]
  },
  {
   "cell_type": "code",
   "execution_count": 56,
   "metadata": {},
   "outputs": [
    {
     "data": {
      "text/latex": [
       "Functions:  $$\\large{\\quad f(x) = \\frac{x^{3} + 4}{x^{2}}}$$1. Critical Points: \\begin{eqnarray}\\large{f'(x)=0}& \\large{\\Rightarrow}&\\large{3 - \\frac{2 \\left(x^{3} + 4\\right)}{x^{3}}=0 }\\cr &\\large{\\Rightarrow}&\\large{\\frac{\\left(x - 2\\right) \\left(x^{2} + 2 x + 4\\right)}{x^{3}}=0} \\cr&\\large{\\Rightarrow}&\\large{ x=  2,}\\end{eqnarray}$$\\large{f''(x)=- \\frac{6}{x} + \\frac{6 \\left(x^{3} + 4\\right)}{x^{4}}=\\frac{24}{x^{4}}}$$2. Increasing or Decreasing:\\begin{eqnarray}&\\quad\\text{a) Increasing, }f'(x)>0, \\text{ at }&\\left(-\\infty, 0\\right) \\cup \\left(2, \\infty\\right)\\cr&\\quad\\text{b) Decreasing, }f'(x)<0, \\text{ at }&\\left(0, 2\\right)\\cr\\end{eqnarray}3. Concave Upwards or Downwards:\\begin{eqnarray}&\\quad\\text{a) Concave Upwards, }f''(x)>0, \\text{ at }&\\left(-\\infty, 0\\right) \\cup \\left(0, \\infty\\right)\\cr&\\quad\\text{b) Concave Downwards, }f''(x)<0, \\text{ at }&\\emptyset\\cr\\end{eqnarray}"
      ],
      "text/plain": [
       "<IPython.core.display.Latex object>"
      ]
     },
     "execution_count": 56,
     "metadata": {},
     "output_type": "execute_result"
    }
   ],
   "source": [
    "f=(x**3+4)/x**2\n",
    "diff_app(f,x)"
   ]
  },
  {
   "cell_type": "code",
   "execution_count": null,
   "metadata": {},
   "outputs": [],
   "source": []
  }
 ],
 "metadata": {
  "kernelspec": {
   "display_name": "Python 3",
   "language": "python",
   "name": "python3"
  },
  "language_info": {
   "codemirror_mode": {
    "name": "ipython",
    "version": 3
   },
   "file_extension": ".py",
   "mimetype": "text/x-python",
   "name": "python",
   "nbconvert_exporter": "python",
   "pygments_lexer": "ipython3",
   "version": "3.8.5"
  },
  "toc": {
   "colors": {
    "hover_highlight": "#DAA520",
    "navigate_num": "#000000",
    "navigate_text": "#333333",
    "running_highlight": "#FF0000",
    "selected_highlight": "#FFD700",
    "sidebar_border": "#EEEEEE",
    "wrapper_background": "#FFFFFF"
   },
   "moveMenuLeft": true,
   "nav_menu": {
    "height": "102px",
    "width": "252px"
   },
   "navigate_menu": true,
   "number_sections": true,
   "sideBar": true,
   "threshold": 4,
   "toc_cell": false,
   "toc_section_display": "block",
   "toc_window_display": false,
   "widenNotebook": false
  }
 },
 "nbformat": 4,
 "nbformat_minor": 1
}
