{
 "cells": [
  {
   "cell_type": "markdown",
   "metadata": {},
   "source": [
    "<big><big><b><div align=\"center\">Calculus, 2022-2-IE-AIE-1</div></b></big></big>\n",
    "\n",
    "<h3><div align=\"left\">Name:&nbsp;&nbsp;&nbsp;&nbsp;&nbsp;&nbsp;&nbsp;&nbsp;&nbsp;&nbsp;&nbsp;&nbsp;&nbsp;&nbsp;&nbsp;&nbsp;&nbsp;&nbsp;&nbsp;&nbsp;&nbsp;&nbsp;&nbsp;&nbsp;  Sequence Number:&nbsp;&nbsp;&nbsp;&nbsp;&nbsp;&nbsp;&nbsp;&nbsp;&nbsp;&nbsp;&nbsp;&nbsp;&nbsp;&nbsp;&nbsp;&nbsp;&nbsp;&nbsp;&nbsp;&nbsp;&nbsp;&nbsp;&nbsp;&nbsp;</div></h3>"
   ]
  },
  {
   "cell_type": "markdown",
   "metadata": {
    "collapsed": true
   },
   "source": [
    "<big>\n",
    "    <big><b>1$^\\circ$). True or False (total 10%, each 2%)</b></big>\n",
    "\n",
    "<b>A$^\\circ$). $(\\quad)$</b>  A monotonic infinite sequence is always divergent.<br>\n",
    "<b>B$^\\circ$). $(\\quad)$</b>  Alternating series, $\\sum\\limits_{n=1}^\\infty a_n$, is convergent if $\\lim\\limits_{n\\to\\infty} |a_n|=0$, .<br>\n",
    "<b>C$^\\circ$). $(\\quad)$</b>  Alternating harmonic series is not only convergent but also absolute  convergent.<br>\n",
    "<b>D$^\\circ$). $(\\quad)$</b>  Suppose that Taylor's  series is convergent at an interval cntaining 0. Then its Mclaurin's series is also convergent.<br>\n",
    "<b>E$^\\circ$). $(\\quad)$</b>  Convergent radius of infinite binomial series is always $1$.<br>\n",
    "\n",
    "   \n",
    "</big> "
   ]
  },
  {
   "cell_type": "markdown",
   "metadata": {
    "collapsed": true
   },
   "source": [
    "<big>\n",
    "<big>\n",
    "    <b>2$^\\circ$). Describe the following Statements or Tests (total 10%, each 2%)</b> \n",
    "</big>\n",
    "    \n",
    "<b>A$^\\circ$). </b>  Complete Axiom for Infinite Sequences.<br>\n",
    "<b>B$^\\circ$). </b>  Convergence of Infinite Series<br>\n",
    "<b>C$^\\circ$). </b>  Ratio test for Infinite Series<br>\n",
    "<b>D$^\\circ$). </b>  Taylor's Series of $f(x)$ at $x=c$.<br>\n",
    "<b>E$^\\circ$). </b>  Binary Series.<br>    \n",
    "</big>  "
   ]
  },
  {
   "cell_type": "markdown",
   "metadata": {
    "collapsed": true
   },
   "source": [
    "<big>\n",
    "<big><b>3$^\\circ$). (10%)</b> \n",
    "Suppose that $\\{a_n\\}_{n=1}^\\infty$ is defined as follows: <br>\n",
    "$$a_1=1/2\\text{ and } a_{n+1}=\\sqrt{2+a_n}$$\n",
    "for $n=1,2\\cdots$. Is the sequence is convergent or divergent? Explain your answer. (6%) If it is convergent, find out its limit; if not, explain why it is divergent. (4%)     \n",
    "</big> "
   ]
  },
  {
   "cell_type": "markdown",
   "metadata": {
    "collapsed": true
   },
   "source": [
    "<big>\n",
    "<big><b>4$^\\circ$). (5%)</b> \n",
    "Determine whether  $\\{\\frac{\\log n^2}{2 n}\\}_{n=1,2,\\cdots}$ is convergent or not; find its limit  if it is convergent.   \n",
    "</big> "
   ]
  },
  {
   "cell_type": "markdown",
   "metadata": {
    "collapsed": true
   },
   "source": [
    "<big>\n",
    "<big><b>5$^\\circ$). (5%)</b> \n",
    "Find the limit of  $\\{\\cos (n\\pi)\\}_{n=1,2,\\cdots}$,if it is convergent    \n",
    "</big> "
   ]
  },
  {
   "cell_type": "markdown",
   "metadata": {
    "collapsed": true
   },
   "source": [
    "<big>\n",
    "<big><b>6$^\\circ$). (5%)</b> \n",
    "Determine the convergence about $\\sum\\limits_{n=1}^\\infty\\left(\\frac{\\cos n}{n}\\right)^2$, which is absolutely convergent, conditionally convergent or divergent and explain your reason.  \n",
    "</big> "
   ]
  },
  {
   "cell_type": "markdown",
   "metadata": {
    "collapsed": true
   },
   "source": [
    "<big>\n",
    "<big><b>7$^\\circ$). (5%)</b> \n",
    "Determine  whether the series, $\\sum\\limits_{n=1}^\\infty\\frac{3n+1}{2n^3+n+2}$, is convergent or divergent (10%).   \n",
    "</big> "
   ]
  },
  {
   "cell_type": "markdown",
   "metadata": {
    "collapsed": true
   },
   "source": [
    "<big>\n",
    "<big><b>8$^\\circ$). (5%)</b> \n",
    "Determine  whether the series, $\\sum\\limits_{n=1}^\\infty\\frac{(-1)^{n+1}}{(n+1)\\log (n+1)}$, is absolutely convergent, conditionally convergent or divergent and explain your reason. \n",
    "</big> "
   ]
  },
  {
   "cell_type": "markdown",
   "metadata": {
    "collapsed": true
   },
   "source": [
    "<big>\n",
    "<big><b>9$^\\circ$). (5%)</b> \n",
    "Expand the $f(x)=x\\sin x$ at $x=0$ (3%) and find its convergent interval (2%).   \n",
    "</big> "
   ]
  },
  {
   "cell_type": "markdown",
   "metadata": {
    "collapsed": true
   },
   "source": [
    "<big>\n",
    "<big><b>10$^\\circ$). (5%)</b> \n",
    "Expand the $f(x)=\\frac{1}{2x-3}$ at $x=1$ (3%) and find its convergent interval (2%).   \n",
    "</big> "
   ]
  },
  {
   "cell_type": "markdown",
   "metadata": {
    "collapsed": true
   },
   "source": [
    "<big>\n",
    "<big><b>11$^\\circ$). (5%)</b> \n",
    "Expand the $f(x)=\\mathbf{\\frac{1}{(x-1)^2}}$ at $x=0$ (3%) and find its convergent interval (2%).  \n",
    "</big> "
   ]
  },
  {
   "cell_type": "markdown",
   "metadata": {
    "collapsed": true
   },
   "source": [
    "<big>\n",
    "<big><b>12$^\\circ$). (5%)</b> \n",
    "Expand the $f(x)=\\mathbf{e^{-x^2/2}}$ at $x=0$ (3%) and find its convergent interval (2%).   \n",
    "</big> "
   ]
  },
  {
   "cell_type": "markdown",
   "metadata": {
    "collapsed": true
   },
   "source": [
    "<big>\n",
    "<big><b>13$^\\circ$). (5%)</b> \n",
    "Expand the $f(x)=\\log|1-x^2|$ at $x=0$ (3%) and find its convergent interval (2%).  \n",
    "(Hint: $\\frac{1}{1-x}=\\sum\\limits_{n=0}^\\infty x^n$, and $\\frac{1}{1+x}=\\sum\\limits_{n=0}^\\infty (-1)^nx^n$)    \n",
    "</big> "
   ]
  },
  {
   "cell_type": "markdown",
   "metadata": {
    "collapsed": true
   },
   "source": [
    "<big>\n",
    "<big><b>14$^\\circ$). (5%)</b> \n",
    "Expand the $f(x)=\\cos^2 x$ at $x=0$ (3%) and find its convergent interval (2%).    \n",
    "</big> "
   ]
  },
  {
   "cell_type": "markdown",
   "metadata": {
    "collapsed": true
   },
   "source": [
    "<big>\n",
    "<big><b>15$^\\circ$). (5%)</b> \n",
    "Determine the convergence about $\\sum\\limits_{n=1}^\\infty\\left(\\frac{1}{n^2}-\\frac{1}{n}\\right)^2$, which is absolutely convergent, conditionally convergent or divergent, and explain your reason.  \n",
    "</big> "
   ]
  },
  {
   "cell_type": "markdown",
   "metadata": {},
   "source": [
    "<big>\n",
    "<big><b>16$^\\circ$). (5%)</b> \n",
    "Expand the $f(x)=\\frac{1}{\\sqrt{1-x^2}}$ at $x=0$ and the coefficients have to be in the form factorials. \n",
    "</big> "
   ]
  },
  {
   "cell_type": "markdown",
   "metadata": {},
   "source": [
    "<big>\n",
    "<big><b>17$^\\circ$). (5%)</b> \n",
    "Expand the $f(x)=\\frac{x(1+x)}{(x^2-1)^2}$ at $x=0$. \n",
    "</big> "
   ]
  },
  {
   "cell_type": "markdown",
   "metadata": {
    "collapsed": true
   },
   "source": [
    " "
   ]
  },
  {
   "cell_type": "markdown",
   "metadata": {
    "collapsed": true
   },
   "source": [
    " "
   ]
  },
  {
   "cell_type": "markdown",
   "metadata": {
    "collapsed": true
   },
   "source": [
    " "
   ]
  },
  {
   "cell_type": "markdown",
   "metadata": {
    "collapsed": true
   },
   "source": [
    " "
   ]
  },
  {
   "cell_type": "markdown",
   "metadata": {
    "collapsed": true
   },
   "source": [
    " "
   ]
  },
  {
   "cell_type": "markdown",
   "metadata": {
    "collapsed": true
   },
   "source": [
    " "
   ]
  },
  {
   "cell_type": "markdown",
   "metadata": {
    "collapsed": true
   },
   "source": [
    " "
   ]
  },
  {
   "cell_type": "markdown",
   "metadata": {
    "collapsed": true
   },
   "source": [
    " "
   ]
  },
  {
   "cell_type": "markdown",
   "metadata": {
    "collapsed": true
   },
   "source": [
    " "
   ]
  },
  {
   "cell_type": "markdown",
   "metadata": {
    "collapsed": true
   },
   "source": [
    " "
   ]
  },
  {
   "cell_type": "markdown",
   "metadata": {
    "collapsed": true
   },
   "source": [
    " "
   ]
  },
  {
   "cell_type": "markdown",
   "metadata": {
    "collapsed": true
   },
   "source": [
    " "
   ]
  },
  {
   "cell_type": "markdown",
   "metadata": {
    "collapsed": true
   },
   "source": [
    " "
   ]
  },
  {
   "cell_type": "markdown",
   "metadata": {
    "collapsed": true
   },
   "source": [
    " "
   ]
  },
  {
   "cell_type": "markdown",
   "metadata": {
    "collapsed": true
   },
   "source": [
    " "
   ]
  },
  {
   "cell_type": "markdown",
   "metadata": {
    "collapsed": true
   },
   "source": [
    " "
   ]
  },
  {
   "cell_type": "markdown",
   "metadata": {
    "collapsed": true
   },
   "source": [
    " "
   ]
  },
  {
   "cell_type": "markdown",
   "metadata": {
    "collapsed": true
   },
   "source": [
    " "
   ]
  },
  {
   "cell_type": "markdown",
   "metadata": {
    "collapsed": true
   },
   "source": [
    " "
   ]
  },
  {
   "cell_type": "markdown",
   "metadata": {
    "collapsed": true
   },
   "source": [
    " "
   ]
  },
  {
   "cell_type": "markdown",
   "metadata": {
    "collapsed": true
   },
   "source": [
    " "
   ]
  },
  {
   "cell_type": "markdown",
   "metadata": {
    "collapsed": true
   },
   "source": [
    " "
   ]
  },
  {
   "cell_type": "markdown",
   "metadata": {
    "collapsed": true
   },
   "source": [
    " "
   ]
  },
  {
   "cell_type": "markdown",
   "metadata": {
    "collapsed": true
   },
   "source": [
    " "
   ]
  },
  {
   "cell_type": "markdown",
   "metadata": {
    "collapsed": true
   },
   "source": [
    " "
   ]
  },
  {
   "cell_type": "markdown",
   "metadata": {
    "collapsed": true
   },
   "source": [
    " "
   ]
  },
  {
   "cell_type": "markdown",
   "metadata": {
    "collapsed": true
   },
   "source": [
    " "
   ]
  },
  {
   "cell_type": "markdown",
   "metadata": {
    "collapsed": true
   },
   "source": [
    " "
   ]
  },
  {
   "cell_type": "markdown",
   "metadata": {
    "collapsed": true
   },
   "source": [
    " "
   ]
  },
  {
   "cell_type": "markdown",
   "metadata": {
    "collapsed": true
   },
   "source": [
    "  "
   ]
  },
  {
   "cell_type": "markdown",
   "metadata": {
    "collapsed": true
   },
   "source": [
    " "
   ]
  },
  {
   "cell_type": "markdown",
   "metadata": {
    "collapsed": true
   },
   "source": [
    "**Answer**\n",
    "\n",
    "1. x, o , x, o ,o.\n",
    "2. \n",
    "  1. Completeness Axiom: Every sequence, bounded above, has a least upper bound; every sequences, bounded below,has a largest lower bound.\n",
    "  2. Convergence of Infinite Series: Infinite Series is called convergent if its partial Sum sequences is convergent, and is divergent otherwise.\n",
    "  3. Ratio test for Infinite Series: Suppose that $n-$th term of series is $a_n$ and \n",
    "     $$ r = \\lim_{n \\rightarrow \\infty} \\left| \\frac{a_{n + 1}}{a_n} \\right| $$\n",
    "    Then\n",
    "    1.  $r < 1$ implies $\\sum\\limits_{n = 1}^{\\infty} a_n$ is convergent;\n",
    "    2. $r > 1$ implies $\\sum\\limits_{n = 1}^{\\infty} a_n$ is divergent;\n",
    "    3. $r = 1$ no conclusion.\n",
    "  4. Taylor's series:  Suppose that $f (x) $is smooth enough oven an open interval containing $x = a$\n",
    "then\n",
    "$$f (x) = \\sum_{n = 0}^{\\infty} \\frac{f^{(n)} (c)}{n!} (x - c)^n $$\n",
    "  5. Suppose that $r\\in\\mathbb{R} \\backslash\\mathbb{Z}$, binary series is defined as follows:\n",
    "$$(1-x)^r=\\sum_{n=0}^\\infty \\binom{r}{n} x^n$$ \n",
    "\n",
    "3. convergent, (3%), since (bounded above and increasing) (3%), limit: 2 (4%) \n",
    "4. Convergent Since $\\lim\\limits_{x\\to\\infty}\\frac{\\log x^2}{2x}=0$ by l'Hopital's Rule (3%) and limit is 0.(2%)\n",
    "5. divergent since it is equal to $\\{-1,1,-1,1,\\cdots\\}$ (5%)\n",
    "6. $a_n=\\left(\\frac{\\cos n}{n}\\right)^2\\le \\frac{1}{n^2}=b_n$, by comparion test and $p$-series (1%), it is convergent (4%).\n",
    "7. absolute convergent, (4%); by \n",
    "   - $a_n=\\frac{3n+1}{2n^3+n+2}, b_n=\\frac{1}{n^2}$, and $\\lim\\frac{a_n}{b_n}<\\infty$, both are convergent (4%),\n",
    "   - by limit comparison test and $p$-series, $p=2$, and $\\sum \\frac{1}{n^2}$ is absolute convergent. (1%).\n",
    "8. conditionally convergent, (4%)\n",
    "   - $\\sum|\\frac{(-1)^{n+1}}{(n+1)\\log (n+1)}| \\Rightarrow$ divergent, integral test,\n",
    "   - but $\\frac{1}{(n+1)\\log (n+1)}\\to 0$ convergent by alternation $n$-term test. (1%)\n",
    "9. $\\sum\\limits_{n=0}^\\infty\\frac{x^{n+1}}{n!}$, (3%), $x\\in\\mathbb{R}$ (2%)\n",
    "10. $\\sum\\limits_{n=0}^\\infty \\left(-2^n\\right)(x-1)^n$, (3%), $x\\in(1/2,3/2)$ (2%)\n",
    "11. $\\sum\\limits_{n=0}^\\infty(n+1)x^n$, (3%), $x\\in(-1,1)$ (2%)\n",
    "12. $\\sum\\limits_{n=0}^\\infty\\frac{(-1)^nx^{2n}}{2^nn!}$, (3%), $x\\in\\mathbb{R}$ (2%)\n",
    "13. $\\sum\\limits_{n=0}^\\infty\\frac{(-1)^n-1}{n+1}x^{n+1}$, (3%), $x\\in(-1,1)$ (2%)\n",
    "14. $\\frac{1}{2}+\\frac{1}{2}\\sum\\limits_{n=0}^\\infty\\frac{(-1)^n2^{2n}}{2n!}x^{2n}, (-\\infty,\\infty)$, (5%)\n",
    "15. $\\left(\\frac{1}{n^3}-\\frac{1}{n}\\right)^2=\\frac{(1-n^2)^2}{n^6}$, and by limit comparison test and $p$ series test(1%), \n",
    "    $ a_n=\\left|\\frac{1}{n^3}-\\frac{1}{n}\\right|^2, b_n=\\frac{1}{n^2}, \\lim_{n\\to\\infty}\\frac{a_n}{b_n}=1$, both are convergent. Thus it is convergent absolutely.(4%)\n",
    "16. $\\sum\\limits_{n=0}^\\infty \\frac{(-1)^{n}(2n)!}{(2^nn!)^2}x^{2n}  $ \n",
    "17. $\\sum\\limits_{n=1}^\\infty (2n-1)x^{n}  $"
   ]
  },
  {
   "cell_type": "code",
   "execution_count": null,
   "metadata": {},
   "outputs": [],
   "source": []
  }
 ],
 "metadata": {
  "hide_input": false,
  "kernelspec": {
   "display_name": "Python 3",
   "language": "python",
   "name": "python3"
  },
  "language_info": {
   "codemirror_mode": {
    "name": "ipython",
    "version": 3
   },
   "file_extension": ".py",
   "mimetype": "text/x-python",
   "name": "python",
   "nbconvert_exporter": "python",
   "pygments_lexer": "ipython3",
   "version": "3.8.5"
  },
  "toc": {
   "colors": {
    "hover_highlight": "#DAA520",
    "navigate_num": "#000000",
    "navigate_text": "#333333",
    "running_highlight": "#FF0000",
    "selected_highlight": "#FFD700",
    "sidebar_border": "#EEEEEE",
    "wrapper_background": "#FFFFFF"
   },
   "moveMenuLeft": true,
   "nav_menu": {
    "height": "49px",
    "width": "252px"
   },
   "navigate_menu": true,
   "number_sections": true,
   "sideBar": true,
   "threshold": 4,
   "toc_cell": false,
   "toc_section_display": "block",
   "toc_window_display": false,
   "widenNotebook": false
  }
 },
 "nbformat": 4,
 "nbformat_minor": 1
}
