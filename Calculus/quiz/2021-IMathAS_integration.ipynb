{
 "cells": [
  {
   "cell_type": "code",
   "execution_count": null,
   "metadata": {},
   "outputs": [],
   "source": []
  },
  {
   "cell_type": "code",
   "execution_count": 2,
   "metadata": {},
   "outputs": [],
   "source": [
    "from sympy import * "
   ]
  },
  {
   "cell_type": "code",
   "execution_count": 3,
   "metadata": {},
   "outputs": [],
   "source": [
    "x,t,u,C,a,b,c =symbols(\"x t u C a b c\")"
   ]
  },
  {
   "cell_type": "code",
   "execution_count": 4,
   "metadata": {},
   "outputs": [],
   "source": [
    "from sympy import exp,sin,cos,tan,pi\n",
    "from mpmath import e"
   ]
  },
  {
   "cell_type": "code",
   "execution_count": 5,
   "metadata": {},
   "outputs": [],
   "source": [
    "def Int(f,*args):\n",
    "    if(len(args)!=0):\n",
    "       a=args[0]\n",
    "       b=args[1]\n",
    "       print(\"                          \",b)\n",
    "       print(\"The definite integral of  ʃ %s dx is \" %f)\n",
    "       print(\"                          \",a)\n",
    "       pprint(integrate(f,(x,a,b)))\n",
    "    else:\n",
    "       print(\"The indefinite integral of  ʃ %s dx is \" %f) \n",
    "       pprint(integrate(f,x)+C)"
   ]
  },
  {
   "cell_type": "code",
   "execution_count": 45,
   "metadata": {},
   "outputs": [
    {
     "name": "stdout",
     "output_type": "stream",
     "text": [
      "                           3*sqrt(2)\n",
      "The definite integral of  ʃ sqrt(x**2 - 9)/x dx is \n",
      "                           3\n",
      "    3⋅π\n",
      "3 - ───\n",
      "     4 \n"
     ]
    }
   ],
   "source": [
    "f=sqrt(x**2-9)/x\n",
    "Int(f,3,3*sqrt(2))"
   ]
  },
  {
   "cell_type": "code",
   "execution_count": 7,
   "metadata": {},
   "outputs": [
    {
     "name": "stdout",
     "output_type": "stream",
     "text": [
      "                           2\n",
      "The definite integral of  ʃ 4*x**3 - 3*x**2 + 1 dx is \n",
      "                           0\n",
      "10\n"
     ]
    }
   ],
   "source": [
    "#1.a)\n",
    "f=\n",
    "Int(4*x**3-3*x**2+1,0, 2)"
   ]
  },
  {
   "cell_type": "code",
   "execution_count": 35,
   "metadata": {},
   "outputs": [
    {
     "data": {
      "text/latex": [
       "$\\displaystyle \\begin{cases} 0 & \\text{for}\\: a = 0 \\wedge b = 0 \\\\\\frac{\\sin^{2}{\\left(b x \\right)}}{2 b} & \\text{for}\\: a = - b \\vee a = b \\\\\\frac{a \\sin{\\left(a x \\right)} \\sin{\\left(b x \\right)}}{a^{2} - b^{2}} + \\frac{b \\cos{\\left(a x \\right)} \\cos{\\left(b x \\right)}}{a^{2} - b^{2}} & \\text{otherwise} \\end{cases}$"
      ],
      "text/plain": [
       "Piecewise((0, Eq(a, 0) & Eq(b, 0)), (sin(b*x)**2/(2*b), Eq(a, b) | Eq(a, -b)), (a*sin(a*x)*sin(b*x)/(a**2 - b**2) + b*cos(a*x)*cos(b*x)/(a**2 - b**2), True))"
      ]
     },
     "execution_count": 35,
     "metadata": {},
     "output_type": "execute_result"
    }
   ],
   "source": [
    "c,d=symbols(\"c,d\")\n",
    "integrate(sin(b*x)*cos(a*x),x)"
   ]
  },
  {
   "cell_type": "code",
   "execution_count": 12,
   "metadata": {},
   "outputs": [
    {
     "name": "stdout",
     "output_type": "stream",
     "text": [
      "                           pi/4\n",
      "The definite integral of  ʃ sin(x)**2*cos(x) dx is \n",
      "                           -pi/4\n",
      "√2\n",
      "──\n",
      "6 \n"
     ]
    }
   ],
   "source": [
    "#1.b)\n",
    "Int((cos(x))*sin(x)**2,-pi/4,pi/4)"
   ]
  },
  {
   "cell_type": "code",
   "execution_count": 13,
   "metadata": {},
   "outputs": [
    {
     "name": "stdout",
     "output_type": "stream",
     "text": [
      "                           pi/2\n",
      "The definite integral of  ʃ cos(x)**4 dx is \n",
      "                           0\n",
      "3⋅π\n",
      "───\n",
      " 16\n"
     ]
    }
   ],
   "source": [
    "# 1. c)\n",
    "Int(cos(x)**4,0,pi/2)"
   ]
  },
  {
   "cell_type": "code",
   "execution_count": 15,
   "metadata": {},
   "outputs": [
    {
     "name": "stdout",
     "output_type": "stream",
     "text": [
      "                           1\n",
      "The definite integral of  ʃ x*exp(-x) dx is \n",
      "                           -1\n",
      "    -1\n",
      "-2⋅ℯ  \n"
     ]
    }
   ],
   "source": [
    "#1.d)\n",
    "Int(x*exp(-x),-1,1)"
   ]
  },
  {
   "cell_type": "code",
   "execution_count": 16,
   "metadata": {},
   "outputs": [
    {
     "name": "stdout",
     "output_type": "stream",
     "text": [
      "                           pi/2\n",
      "The definite integral of  ʃ exp(2*x)*sin(x) dx is \n",
      "                           0\n",
      "       π\n",
      "1   2⋅ℯ \n",
      "─ + ────\n",
      "5    5  \n"
     ]
    }
   ],
   "source": [
    "#1. e)\n",
    "Int(exp(2*x)*sin(x),0,pi/2)"
   ]
  },
  {
   "cell_type": "code",
   "execution_count": 8,
   "metadata": {},
   "outputs": [
    {
     "name": "stdout",
     "output_type": "stream",
     "text": [
      "                           a\n",
      "The definite integral of  ʃ x*sqrt(a**2 - x**2) dx is \n",
      "                           b\n",
      "      _________         _________\n",
      " 2   ╱  2    2     2   ╱  2    2 \n",
      "a ⋅╲╱  a  - b     b ⋅╲╱  a  - b  \n",
      "─────────────── - ───────────────\n",
      "       3                 3       \n"
     ]
    }
   ],
   "source": [
    "#1. f)\n",
    "a,b=symbols(\"a b\")\n",
    "Int(x*sqrt(a**2-x*x),b,a)"
   ]
  },
  {
   "cell_type": "code",
   "execution_count": 21,
   "metadata": {},
   "outputs": [
    {
     "name": "stdout",
     "output_type": "stream",
     "text": [
      "                           sqrt(2)/2\n",
      "The definite integral of  ʃ sqrt(1 - x**2) dx is \n",
      "                           0\n",
      "1   π\n",
      "─ + ─\n",
      "4   8\n"
     ]
    }
   ],
   "source": [
    "#1. g)\n",
    "Int(sqrt(1-x**2),0,1/sqrt(2))"
   ]
  },
  {
   "cell_type": "code",
   "execution_count": 22,
   "metadata": {},
   "outputs": [
    {
     "name": "stdout",
     "output_type": "stream",
     "text": [
      "                           4\n",
      "The definite integral of  ʃ 1/(x**3 + x**2) dx is \n",
      "                           2\n",
      "-log(4) - log(3) + 1/4 + log(2) + log(5)\n"
     ]
    }
   ],
   "source": [
    "#1. h)\n",
    "Int(1/(x**3+x**2),2,4)"
   ]
  },
  {
   "cell_type": "code",
   "execution_count": 25,
   "metadata": {},
   "outputs": [
    {
     "name": "stdout",
     "output_type": "stream",
     "text": [
      "                           pi/3\n",
      "The definite integral of  ʃ sin(3*x)*cos(2*x) dx is \n",
      "                           -pi/4\n",
      "  3    √2\n",
      "- ── + ──\n",
      "  10   5 \n"
     ]
    }
   ],
   "source": [
    "#1. i\n",
    "Int(cos(2*x)*sin(3*x),-pi/4,pi/3)"
   ]
  },
  {
   "cell_type": "code",
   "execution_count": 26,
   "metadata": {},
   "outputs": [
    {
     "name": "stdout",
     "output_type": "stream",
     "text": [
      "                           2\n",
      "The definite integral of  ʃ x**3/(x**2 + x) dx is \n",
      "                           1\n",
      "-log(2) + 1/2 + log(3)\n"
     ]
    }
   ],
   "source": [
    "#1. j\n",
    "Int((x**3)/(x+x**2),1,2)"
   ]
  },
  {
   "cell_type": "code",
   "execution_count": null,
   "metadata": {
    "collapsed": true
   },
   "outputs": [],
   "source": []
  },
  {
   "cell_type": "markdown",
   "metadata": {},
   "source": [
    "#2. \n",
    "\n",
    "\n",
    "b) $$\\int_a^xf(s)ds+xf(x)$$"
   ]
  },
  {
   "cell_type": "code",
   "execution_count": null,
   "metadata": {},
   "outputs": [],
   "source": []
  }
 ],
 "metadata": {
  "kernelspec": {
   "display_name": "Python 3",
   "language": "python",
   "name": "python3"
  },
  "language_info": {
   "codemirror_mode": {
    "name": "ipython",
    "version": 3
   },
   "file_extension": ".py",
   "mimetype": "text/x-python",
   "name": "python",
   "nbconvert_exporter": "python",
   "pygments_lexer": "ipython3",
   "version": "3.8.5"
  },
  "toc": {
   "colors": {
    "hover_highlight": "#DAA520",
    "navigate_num": "#000000",
    "navigate_text": "#333333",
    "running_highlight": "#FF0000",
    "selected_highlight": "#FFD700",
    "sidebar_border": "#EEEEEE",
    "wrapper_background": "#FFFFFF"
   },
   "moveMenuLeft": true,
   "nav_menu": {
    "height": "102px",
    "width": "252px"
   },
   "navigate_menu": true,
   "number_sections": true,
   "sideBar": true,
   "threshold": 4,
   "toc_cell": false,
   "toc_section_display": "block",
   "toc_window_display": false,
   "widenNotebook": false
  },
  "widgets": {
   "state": {},
   "version": "2.0.10"
  }
 },
 "nbformat": 4,
 "nbformat_minor": 1
}
