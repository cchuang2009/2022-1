{
 "cells": [
  {
   "cell_type": "markdown",
   "metadata": {},
   "source": [
    "# <div align=\"center\">Calculus, 2016-2-IE-1</div>\n",
    "\n",
    "<h3><div align=\"right\">Name:&nbsp;&nbsp;&nbsp;&nbsp;&nbsp;&nbsp;&nbsp;&nbsp;&nbsp;&nbsp;&nbsp;&nbsp;&nbsp;&nbsp;&nbsp;&nbsp;&nbsp;&nbsp;&nbsp;&nbsp;&nbsp;&nbsp;&nbsp;&nbsp;  Sequence Number:&nbsp;&nbsp;&nbsp;&nbsp;&nbsp;&nbsp;&nbsp;&nbsp;&nbsp;&nbsp;&nbsp;&nbsp;&nbsp;&nbsp;&nbsp;&nbsp;&nbsp;&nbsp;&nbsp;&nbsp;&nbsp;&nbsp;&nbsp;&nbsp;</div></h3>\n"
   ]
  },
  {
   "cell_type": "markdown",
   "metadata": {
    "collapsed": true
   },
   "source": [
    "<big>\n",
    "<big><b>1$^\\circ$). </b> </big>\n",
    "Determine whether the following sequences $\\mathbf{\\{a_n\\}}$ are convergent or divergent? Why? (total 10%, each 5%) <br>\n",
    "a$^\\circ$).  $a_n=1-\\cos n \\pi$\n",
    "\n",
    "b$^\\circ$). $\\mathbf{a_n=\\frac{1\\cdot3\\cdot5\\cdots(2n-3)\\cdot(2n-1)}{n!}}$\n",
    "</big> "
   ]
  },
  {
   "cell_type": "markdown",
   "metadata": {},
   "source": [
    "<big>\n",
    "<big><b>2$^\\circ$).</b></big>\n",
    "Determine whether the following series are convergent or divergent? Why? (total 30%, each 5% ($\\color{brown}{\\times6}$))<br />\n",
    "a$^\\circ$). $\\mathbf{\\sum\\limits_{n =1}^{\\infty} \\frac{1}{n ^{4/3}}}$\n",
    "b$^\\circ$). $\\mathbf{\\sum\\limits_{n = \\color{red}{2}}^{\\infty} \\frac{1}{n \\ln n}}$\n",
    "c$^\\circ$). $\\mathbf{\\sum\\limits_{n = 1}^{\\infty}(-1)^{n}\n",
    "  \\frac{n!}{ n^n}}$\n",
    "d$^\\circ$). $\\mathbf{\\sum\\limits_{n = 1}^{\\infty}\\frac{\\sin^2n}{{n^2}}}$\n",
    "<br />\n",
    "e$^\\circ$). $\\mathbf{\\sum\\limits^{\\infty}_{n = 1} (- 1)^n 3^n}$\n",
    "f$^\\circ$). $\\mathbf{\\sum\\limits^{\\infty}_{n = 1} \\frac{2^{-n}}{n^2 + n}}$\n",
    "</big> "
   ]
  },
  {
   "cell_type": "markdown",
   "metadata": {
    "collapsed": true
   },
   "source": [
    "<big>\n",
    "<big><b>3$^\\circ$).</b> \n",
    "\n",
    "Find the Taylor series of $f(x)$ below and its convergent radius\n",
    "(10%):\n",
    "$$f(x)=\\frac{1}{1+x} \\text{ at }c=2$$\n",
    "</big> "
   ]
  },
  {
   "cell_type": "markdown",
   "metadata": {},
   "source": [
    "<big><b>Hint:</b></big><br>\n",
    "\\begin{eqnarray}\n",
    "   \\color{black}{ \\frac{1}{1+x} = \\frac{1}{3}\\frac{1}{1+(x-2)/3}}&=&\n",
    "\\end{eqnarray}"
   ]
  },
  {
   "cell_type": "markdown",
   "metadata": {
    "collapsed": true
   },
   "source": [
    "<big>\n",
    "<big><b>4$^\\circ$). </b> </big>(10%)\n",
    "Suppose that\n",
    "  $$ f (x, y) = \\left\\{ \\begin{array}{ll}\n",
    "       \\frac{x^2 y}{x^2 + y^2} & \\text{ if } (x, y) \\neq (0.0) \\\\\n",
    "       0 & \\text{ if } (x, y) = (0.0)\n",
    "     \\end{array} \\right. $$\n",
    "Is $f(x)$ is continuous at $x=0$?  \n",
    "</big> "
   ]
  },
  {
   "cell_type": "markdown",
   "metadata": {
    "collapsed": true
   },
   "source": [
    "<big>\n",
    "<big><b>5$^\\circ$).</b></big> (20%)\n",
    " Suppose that $(\\mathbf{f(x) = f (x^1, x^2, \\cdots, x^n)}$. <br>\n",
    "a$^\\circ$). (5%) The gradient, $\\mathbf{\\nabla f}$ , of $\\mathbf{f ({x})}$ is defined as vector of its all partial derivatives ,i.e.:\n",
    "<br>\n",
    "$\\qquad\\quad \\mathbf{\\nabla f}=?$\n",
    "<br>\n",
    "b$^\\circ$). (total 10%, each 5%) Find all the partial derivatives of $\\mathbf{f (x)}$: <br>\n",
    "&nbsp;&nbsp;i$^\\circ$). $\\mathbf{f(x,y)=\\ln(\\exp(-x)+\\exp(y))}$, \n",
    "&nbsp;&nbsp;ii$^\\circ$). $\\mathbf{f(x,y,z)=x^2y+y^2z+zx}$,<br>\n",
    "<font color=\"black\">\n",
    "</font>\n",
    "c$^\\circ$). (5%) $\\mathbf{u=f(x,y)=e^x\\cos y}$. Evaluate $\\mathbf{\\frac{\\partial^2u}{\\partial x^2}+\\frac{\\partial^2u}{\\partial y^2}=?}$.\n",
    "</big> "
   ]
  },
  {
   "cell_type": "markdown",
   "metadata": {
    "collapsed": true
   },
   "source": [
    "<big>\n",
    "<big><b>6$^\\circ$).</b></big> (total 20%, each 10%)<br>\n",
    "a$^\\circ$). Suppose that $w=x\\sqrt{y^2+z},(x,y,z)=(1/t,e^{-t}\\cos t,e^{-t}\\sin t)$. Evaluate \n",
    "   $\\mathbf{\\frac{d w}{dt}}$<br>\n",
    "b$^\\circ$). Suppose that $\\mathbf{w=\\sin xy, (x,y)=\\left((u+v)^3,\\sqrt v\\right)}$. Evaluate\n",
    "$\\mathbf{\\frac{\\partial w}{\\partial(u,v)}}$\n",
    "</big> "
   ]
  },
  {
   "cell_type": "markdown",
   "metadata": {
    "collapsed": true
   },
   "source": [
    " "
   ]
  },
  {
   "cell_type": "markdown",
   "metadata": {
    "collapsed": true
   },
   "source": [
    " "
   ]
  },
  {
   "cell_type": "markdown",
   "metadata": {
    "collapsed": true
   },
   "source": [
    " "
   ]
  },
  {
   "cell_type": "markdown",
   "metadata": {
    "collapsed": true
   },
   "source": [
    " "
   ]
  },
  {
   "cell_type": "markdown",
   "metadata": {
    "collapsed": true
   },
   "source": [
    " "
   ]
  },
  {
   "cell_type": "markdown",
   "metadata": {
    "collapsed": true
   },
   "source": [
    " "
   ]
  },
  {
   "cell_type": "markdown",
   "metadata": {
    "collapsed": true
   },
   "source": [
    " "
   ]
  },
  {
   "cell_type": "markdown",
   "metadata": {
    "collapsed": true
   },
   "source": [
    " "
   ]
  },
  {
   "cell_type": "markdown",
   "metadata": {
    "collapsed": true
   },
   "source": [
    " "
   ]
  },
  {
   "cell_type": "markdown",
   "metadata": {
    "collapsed": true
   },
   "source": [
    " "
   ]
  },
  {
   "cell_type": "markdown",
   "metadata": {
    "collapsed": true
   },
   "source": [
    " "
   ]
  },
  {
   "cell_type": "markdown",
   "metadata": {},
   "source": [
    "<big><b>Ans:</b></big><br>\n",
    "**1.** <font color=\"black\">\n",
    "a$^\\circ$). $a_n=1-\\cos n \\pi$ divergent, since $a_n=1-(-1)^n$.<br>    \n",
    "b$^\\circ$).  \n",
    "\\begin{eqnarray}\n",
    "a_n&=&\\frac{(2n)!}{n!2\\cdot4\\cdot6\\cdots(2n-2)\\cdot2n}\\\\\n",
    "   &=&\\frac{(n+1)\\cdot(n+2)\\cdots(2n-1)\\cdot(2n)}{2\\cdot4\\cdot6\\cdots(2n-2)\\cdot2n}\\\\\n",
    "   &=&\\frac{n+1}{2}\\cdot\\frac{n+2}{4}\\cdots\\cdot\\frac{2n-1}{2n-2}\\cdot\\frac{2n}{2n}\\\\\n",
    "   &\\ge&\\frac{n+1}{2}\\to\\infty\n",
    "\\end{eqnarray}\n",
    "</font>"
   ]
  },
  {
   "cell_type": "markdown",
   "metadata": {},
   "source": [
    "<big><b>Ans:</b></big><br>\n",
    "**2.** <font color=\"black\">\n",
    "a$^\\circ$). convergent, since $4/3>1$.<br>    \n",
    "b$^\\circ$). divergent since\n",
    "\\begin{eqnarray*}\n",
    "    f (n) = \\frac{1}{n \\ln n} & \\Rightarrow & f (x)\n",
    "    = \\frac{1}{x \\ln x},f \\ge 0, f \\searrow \\\\\n",
    "    \\int_{{2}}^{\\infty} \\frac{1}{x \\ln x} d x & = &\n",
    "    \\int_{{2}}^{\\infty} \\frac{1}{\\ln x} d \\ln x\\\\\n",
    "    & = & \\ln | \\ln x| \\left.\\right|^\\infty_2 = \\infty\n",
    "  \\end{eqnarray*}\n",
    "c$^\\circ$). convergent, since  $0\\le\\frac{n!}{ n^n}\\le\\frac{1}{n}\\to0$<br> \n",
    "d$^\\circ$). convergent since $a_n\\le1/(n^2)$.<br>\n",
    "e$^\\circ$). $3^n \\not{\\rightarrow} 0$, divergent; ($n$-term test)<br>\n",
    "f$^\\circ$). $(\\frac{2^{-n - 1}}{(n + 1)^2 + n + 1}) / (\\frac{2^{-n}}{n^2 + n})\n",
    "  \\rightarrow 1/2 < 1$, convergent, (ratio test)\n",
    "</font>"
   ]
  },
  {
   "cell_type": "markdown",
   "metadata": {},
   "source": [
    "<big><b>Ans:</b></big><br>\n",
    "**3.** <font color=\"black\">\n",
    "\\begin{eqnarray}\n",
    "   \\color{black}{ \\frac{1}{1+x} = \\frac{1}{3}\\frac{1}{1+(x-2)/3}}&=&\\frac{1}{3} \n",
    "                 \\sum_{n = 0}^{\\infty}{(-1)^n}\\left(\\frac{x-2}{3}\\right)^n\\\\\n",
    "      &=&  \\sum_{n = 0}^{\\infty}\\frac{(-1)^n}{3^{n+1}}(x-2)^n\\\\\n",
    "\\end{eqnarray}\n",
    "where $|(x-2)/3|<1, \\left({|x-2|<3}\\right)$,  i.e. convergent radius: $3$.\n",
    "\n",
    "</font>"
   ]
  },
  {
   "cell_type": "markdown",
   "metadata": {},
   "source": [
    "<big><b>Ans:</b></big><br>\n",
    "**4.** <font color=\"black\">\n",
    "  Since the limit of $f (x, y)$ at $(0, 0)$ is equal to $0$ ( = $f (0, 0)$ ):\n",
    "  $$|f(x,y)|\\le2\\frac{(x^2 + y^2)^{3/2}}{x^2 + y^2}=2\\sqrt{x^2 + y^2}\\to 0$$\n",
    "  \n",
    "  $f(x, y)$ is continuous at $(0, 0)$.\n",
    "</font> \n",
    "\n",
    "</font>"
   ]
  },
  {
   "cell_type": "markdown",
   "metadata": {
    "collapsed": true
   },
   "source": [
    "<big>\n",
    "**5.**<br>\n",
    "**a$^\\circ$).** (5%) \n",
    "<br>\n",
    "$\\qquad\\quad \\mathbf{\\nabla f}=\\left(\\color{black}{\\mathbf{\\frac{\\partial f}{\\partial x^1},\\cdots,\\frac{\\partial f}{\\partial x^n}}}\\right)$\n",
    "<br>\n",
    "**b$^\\circ$).** (total 10%, each 5%) Find all the partial derivatives of $\\mathbf{f (x)}$: <br>\n",
    "&nbsp;&nbsp;i$^\\circ$). $\\mathbf{f(x,y)=\\ln(\\exp(-x)+\\exp(y))}$, \n",
    "&nbsp;&nbsp;ii$^\\circ$). $\\mathbf{f(x,y,z)=x^2y+y^2z+zx}$,<br>\n",
    "<font color=\"black\">\n",
    "&nbsp;&nbsp;i$^\\circ$).\n",
    "$$\\color{black}{\\mathbf{\\nabla f=\\left(\\frac{-\\exp(-x)}{\\exp(-x)+\\exp(y)},\\frac{-\\exp(y)}{\\exp(-x)+\\exp(y)}\\right)}}$$\n",
    "&nbsp;&nbsp;ii$^\\circ$).\n",
    "\n",
    "$$\\color{black}{\\mathbf{\\nabla f=(2xy+z,x^2+2yz,y^2+x)}}$$\n",
    "</font>\n",
    "c$^\\circ$). $\\mathbf{\\frac{\\partial^2u}{\\partial x^2}+\\frac{\\partial^2u}{\\partial y^2}=0}$.\n",
    "</big> "
   ]
  },
  {
   "cell_type": "markdown",
   "metadata": {},
   "source": [
    "<big><b>Ans:</b></big><br>\n",
    "**6.** <br>\n",
    "a$^\\circ$).\n",
    "$$\\mathbf{\n",
    "    \\left(\\sqrt{y^2+z},\\frac{xyz}{\\sqrt{y^2+z}},\\frac{x}{2\\sqrt{y^2+z}} \\right)\\cdot\n",
    "    (-1/t^2,-e^{-t}\\sin t-e^{-t}\\cos t, -e^{-t}\\sin t+e^{-t}\\cos t)\n",
    "}$$\n",
    "b$^\\circ$).\n",
    "$$\\mathbf{\n",
    "    \\left[\\begin{array}{cc}\n",
    "        y\\cos xy&x\\cos xy\n",
    "    \\end{array}\\right]\n",
    "    \\left[\\begin{array}{cc}\n",
    "        3(u+v)^2 &3(u+v)^2\\\\\n",
    "        0&-1/(2\\sqrt v)\n",
    "    \\end{array}\\right]\n",
    "}$$\n",
    "</font>"
   ]
  },
  {
   "cell_type": "markdown",
   "metadata": {
    "collapsed": true
   },
   "source": [
    "  "
   ]
  },
  {
   "cell_type": "markdown",
   "metadata": {
    "collapsed": true
   },
   "source": [
    " "
   ]
  },
  {
   "cell_type": "code",
   "execution_count": 2,
   "metadata": {},
   "outputs": [
    {
     "name": "stdout",
     "output_type": "stream",
     "text": [
      "[NbConvertApp] Converting notebook 2016-2-ie-1.ipynb to html\n",
      "[NbConvertApp] Writing 258306 bytes to 2016-2-ie-1.html\n"
     ]
    }
   ],
   "source": [
    "!jupyter nbconvert --to html 2016-2-ie-1.ipynb"
   ]
  },
  {
   "cell_type": "code",
   "execution_count": null,
   "metadata": {
    "collapsed": true
   },
   "outputs": [],
   "source": []
  }
 ],
 "metadata": {
  "kernelspec": {
   "display_name": "Python 3",
   "language": "python",
   "name": "python3"
  },
  "language_info": {
   "codemirror_mode": {
    "name": "ipython",
    "version": 3
   },
   "file_extension": ".py",
   "mimetype": "text/x-python",
   "name": "python",
   "nbconvert_exporter": "python",
   "pygments_lexer": "ipython3",
   "version": "3.6.1"
  }
 },
 "nbformat": 4,
 "nbformat_minor": 1
}
