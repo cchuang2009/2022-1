{
 "cells": [
  {
   "cell_type": "markdown",
   "metadata": {},
   "source": [
    "<big><big><b><div align=\"center\">Calculus, 2023-2-IE-1</div></b></big></big>\n",
    "\n",
    "<big><div align=\"left\">Name:&nbsp;&nbsp;&nbsp;&nbsp;&nbsp;&nbsp;&nbsp;&nbsp;&nbsp;&nbsp;&nbsp;&nbsp;&nbsp;&nbsp;&nbsp;&nbsp;&nbsp;&nbsp;&nbsp;&nbsp;&nbsp;&nbsp;&nbsp;&nbsp;  Sequence Number:&nbsp;&nbsp;&nbsp;&nbsp;&nbsp;&nbsp;&nbsp;&nbsp;&nbsp;&nbsp;&nbsp;&nbsp;&nbsp;&nbsp;&nbsp;&nbsp;&nbsp;&nbsp;&nbsp;&nbsp;&nbsp;&nbsp;&nbsp;&nbsp;</div>\n",
    "</big>"
   ]
  },
  {
   "cell_type": "markdown",
   "metadata": {
    "collapsed": true,
    "jupyter": {
     "outputs_hidden": true
    }
   },
   "source": [
    "<big>\n",
    "    <big><b>1$^\\circ$). True or False (total 10%, each 2%)</b></big>\n",
    "\n",
    "<b>A$^\\circ$). $(\\quad)$</b>  A boubded and monotonic infinite sequence is always divergent.<br>\n",
    "<b>B$^\\circ$). $(\\quad)$</b>  A monotonlics eries, $\\sum\\limits_{n=1}^\\infty a_n$, is convergent if $\\lim\\limits_{n\\to\\infty} |a_n|=0$, .<br>\n",
    "<b>C$^\\circ$). $(\\quad)$</b>   Harmonic series is not only convergent but also absolute  convergent.<br>\n",
    "<b>D$^\\circ$). $(\\quad)$</b>  Suppose that Taylor's  series is convergent around $x=1$. Then its Mclaurin's series is also convergent.<br>\n",
    "<b>E$^\\circ$). $(\\quad)$</b>  Assume that infinite binomial series is conditional convergent on open interval containing 0, it is always is absolutely convergent on this interval.<br>  \n",
    "</big> "
   ]
  },
  {
   "cell_type": "code",
   "execution_count": null,
   "metadata": {},
   "outputs": [],
   "source": []
  },
  {
   "cell_type": "markdown",
   "metadata": {
    "collapsed": true,
    "jupyter": {
     "outputs_hidden": true
    }
   },
   "source": [
    "<big>\n",
    "<big>\n",
    "    <b>2$^\\circ$). Suppose that $\\{a_n=2^n+3^n\\}$ and $\\{b_n=4^n\\}$ where $n$ is a positive integeter larger than 1. Follow the folloing to determine which one  is larger than other for each $n\\ge2$ (total 10%, each 2%)</b> \n",
    "</big>\n",
    "    \n",
    "<b>A$^\\circ$). </b>  Deternine the larger one, $a_2$ or $b_2$.<br>\n",
    "<b>B$^\\circ$). </b>  Determin the maximal one: $a_n$ or $ 2\\cdot 3^n$?<br>\n",
    "<b>C$^\\circ$). </b>  Determin the maximal one: $b_n$ or $ 2\\cdot 3^n$?<br>\n",
    "<b>D$^\\circ$). </b>  Use mathematical indution to prove which is the `maximal one`: $a_n$ or $b_n$.<br>\n",
    "<b>E$^\\circ$). </b>  Which is the larger one, $2^{10000}+3^{10000}$ or $4^{10000}$? Why?<br>    \n",
    "</big>  "
   ]
  },
  {
   "cell_type": "markdown",
   "metadata": {
    "collapsed": true,
    "jupyter": {
     "outputs_hidden": true
    }
   },
   "source": [
    "<big>\n",
    "<big><b>3$^\\circ$). (10%)</b> \n",
    "Suppose that $\\{a_n\\}_{n=1}^\\infty$ is defined as follows: <br>\n",
    "$$a_1=1/2\\text{ and } a_{n+1}=\\sqrt{1+a_n}$$\n",
    "for $n=1,2\\cdots$. Is the sequence is convergent or divergent? Explain your answer. (6%) If it is convergent, find out its limit; if not, explain why it is divergent. (4%)     \n",
    "</big> "
   ]
  },
  {
   "cell_type": "markdown",
   "metadata": {
    "collapsed": true,
    "jupyter": {
     "outputs_hidden": true
    }
   },
   "source": [
    "<big>\n",
    "<big><b>4$^\\circ$). (5%)</b> \n",
    "Determine whether  $\\{\\frac{\\log n}{2 n}\\}_{n=1,2,\\cdots}$ is convergent or not; find its limit  if it is convergent.   \n",
    "</big> "
   ]
  },
  {
   "cell_type": "markdown",
   "metadata": {
    "collapsed": true,
    "jupyter": {
     "outputs_hidden": true
    }
   },
   "source": [
    "<big>\n",
    "<big><b>5$^\\circ$). (5%)</b> \n",
    "Determine whether the sequences,  $\\{\\sin (n\\pi)\\}_{n=1,2,\\cdots}$, is convergent  or not.  \n",
    "</big> "
   ]
  },
  {
   "cell_type": "markdown",
   "metadata": {
    "collapsed": true,
    "jupyter": {
     "outputs_hidden": true
    }
   },
   "source": [
    "<big>\n",
    "<big><b>6$^\\circ$). (5%)</b> \n",
    "Determine the convergence about $\\sum\\limits_{n=1}^\\infty\\left(\\frac{\\sin n}{n}\\right)^2$, which is absolutely convergent, conditionally convergent or divergent and explain your reason.  \n",
    "</big> "
   ]
  },
  {
   "cell_type": "markdown",
   "metadata": {
    "collapsed": true,
    "jupyter": {
     "outputs_hidden": true
    }
   },
   "source": [
    "<big>\n",
    "<big><b>7$^\\circ$). (5%)</b> \n",
    "Determine  whether the series, $\\sum\\limits_{n=1}^\\infty\\frac{n}{n^3+2n+2}$, is convergent or divergent (10%).   \n",
    "</big> "
   ]
  },
  {
   "cell_type": "markdown",
   "metadata": {
    "collapsed": true,
    "jupyter": {
     "outputs_hidden": true
    }
   },
   "source": [
    "<big>\n",
    "<big><b>8$^\\circ$). (5%)</b> \n",
    "Determine  whether the series, $\\sum\\limits_{n=1}^\\infty\\frac{(-1)^{n+1}}{n+1}$, is absolutely convergent, conditionally convergent or divergent and explain your reason. \n",
    "</big> "
   ]
  },
  {
   "cell_type": "markdown",
   "metadata": {
    "collapsed": true,
    "jupyter": {
     "outputs_hidden": true
    }
   },
   "source": [
    "<big>\n",
    "<big><b>9$^\\circ$). (5%)</b> \n",
    "Expand the $f(x)=xe^x$ at $x=0$ (3%) and find its convergent interval (2%).   \n",
    "</big> "
   ]
  },
  {
   "cell_type": "markdown",
   "metadata": {
    "collapsed": true,
    "jupyter": {
     "outputs_hidden": true
    }
   },
   "source": [
    "<big>\n",
    "<big><b>10$^\\circ$). (5%)</b> \n",
    "Expand the $f(x)=\\frac{1}{x+2}$ at $x=1$ (3%) and find its convergent interval (2%).   \n",
    "</big> "
   ]
  },
  {
   "cell_type": "markdown",
   "metadata": {
    "collapsed": true,
    "jupyter": {
     "outputs_hidden": true
    }
   },
   "source": [
    "<big>\n",
    "<big><b>11$^\\circ$). (5%)</b> \n",
    "Expand the $f(x)=\\mathbf{\\frac{1}{x-1}}$ at $x=2$ (3%) and find its convergent interval (2%).  \n",
    "</big> "
   ]
  },
  {
   "cell_type": "markdown",
   "metadata": {
    "collapsed": true,
    "jupyter": {
     "outputs_hidden": true
    }
   },
   "source": [
    "<big>\n",
    "<big><b>12$^\\circ$). (5%)</b> \n",
    "Expand the $f(x)=\\mathbf{e^{-x/2}}$ at $x=0$ (3%) and find its convergent interval (2%).   \n",
    "</big> "
   ]
  },
  {
   "cell_type": "markdown",
   "metadata": {
    "collapsed": true,
    "jupyter": {
     "outputs_hidden": true
    }
   },
   "source": [
    "<big>\n",
    "<big><b>13$^\\circ$). (5%)</b> \n",
    "Expand the $f(x)=\\log|1+x|$ at $x=0$ (3%) and find its convergent interval (2%).     \n",
    "</big> "
   ]
  },
  {
   "cell_type": "markdown",
   "metadata": {
    "collapsed": true,
    "jupyter": {
     "outputs_hidden": true
    }
   },
   "source": [
    "<big>\n",
    "<big><b>14$^\\circ$). (5%)</b> \n",
    "Expand the $f(x)=\\sin \\frac{x}{2}$ at $x=0$ (3%) and find its convergent interval (2%).    \n",
    "</big> "
   ]
  },
  {
   "cell_type": "markdown",
   "metadata": {
    "collapsed": true,
    "jupyter": {
     "outputs_hidden": true
    }
   },
   "source": [
    "<big>\n",
    "<big><b>15$^\\circ$). (5%)</b> \n",
    "Determine the convergence about $\\sum\\limits_{n=1}^\\infty\\frac{(n!)^2}{(3n)!}$, which is absolutely convergent, conditionally convergent or divergent, and explain your reason.  \n",
    "</big> "
   ]
  },
  {
   "cell_type": "markdown",
   "metadata": {},
   "source": [
    "<big>\n",
    "<big><b>16$^\\circ$). (5%)</b> \n",
    "Expand the $f(x)=\\frac{1}{\\sqrt{1+x^2}}$ at $x=0$ and the coefficients, expressed by integers. (Hint:\n",
    "    $(1+x)^\\alpha=\\sum\\limits_{n=0}^\\infty C_n^\\alpha x^n$ where \n",
    "    $C_n^\\alpha=\\{\\alpha\\cdot(\\alpha-1)\\cdots(\\alpha-n+1)\\}/n!$)\n",
    "</big>  "
   ]
  },
  {
   "cell_type": "markdown",
   "metadata": {},
   "source": [
    "<big>\n",
    "<big><b>17$^\\circ$). (5%)</b> \n",
    "Expand the power series of $f(x)=\\frac{2}{x^2-1}$ at $x=0$. \n",
    "</big> "
   ]
  },
  {
   "cell_type": "markdown",
   "metadata": {
    "collapsed": true,
    "jupyter": {
     "outputs_hidden": true
    }
   },
   "source": [
    " "
   ]
  },
  {
   "cell_type": "markdown",
   "metadata": {
    "collapsed": true,
    "jupyter": {
     "outputs_hidden": true
    }
   },
   "source": [
    " "
   ]
  },
  {
   "cell_type": "markdown",
   "metadata": {
    "collapsed": true,
    "jupyter": {
     "outputs_hidden": true
    }
   },
   "source": [
    " "
   ]
  },
  {
   "cell_type": "markdown",
   "metadata": {
    "collapsed": true,
    "jupyter": {
     "outputs_hidden": true
    }
   },
   "source": [
    " "
   ]
  },
  {
   "cell_type": "markdown",
   "metadata": {
    "collapsed": true,
    "jupyter": {
     "outputs_hidden": true
    }
   },
   "source": [
    " "
   ]
  },
  {
   "cell_type": "markdown",
   "metadata": {
    "collapsed": true,
    "jupyter": {
     "outputs_hidden": true
    }
   },
   "source": [
    " "
   ]
  },
  {
   "cell_type": "markdown",
   "metadata": {
    "collapsed": true,
    "jupyter": {
     "outputs_hidden": true
    }
   },
   "source": [
    " "
   ]
  },
  {
   "cell_type": "markdown",
   "metadata": {
    "collapsed": true,
    "jupyter": {
     "outputs_hidden": true
    }
   },
   "source": [
    " "
   ]
  },
  {
   "cell_type": "markdown",
   "metadata": {
    "collapsed": true,
    "jupyter": {
     "outputs_hidden": true
    }
   },
   "source": [
    " "
   ]
  },
  {
   "cell_type": "markdown",
   "metadata": {
    "collapsed": true,
    "jupyter": {
     "outputs_hidden": true
    }
   },
   "source": [
    " "
   ]
  },
  {
   "cell_type": "markdown",
   "metadata": {
    "collapsed": true,
    "jupyter": {
     "outputs_hidden": true
    }
   },
   "source": [
    " "
   ]
  },
  {
   "cell_type": "markdown",
   "metadata": {
    "collapsed": true,
    "jupyter": {
     "outputs_hidden": true
    }
   },
   "source": [
    " "
   ]
  },
  {
   "cell_type": "markdown",
   "metadata": {
    "collapsed": true,
    "jupyter": {
     "outputs_hidden": true
    }
   },
   "source": [
    " "
   ]
  },
  {
   "cell_type": "markdown",
   "metadata": {
    "collapsed": true,
    "jupyter": {
     "outputs_hidden": true
    }
   },
   "source": [
    " "
   ]
  },
  {
   "cell_type": "markdown",
   "metadata": {
    "collapsed": true,
    "jupyter": {
     "outputs_hidden": true
    }
   },
   "source": [
    " "
   ]
  },
  {
   "cell_type": "markdown",
   "metadata": {
    "collapsed": true,
    "jupyter": {
     "outputs_hidden": true
    }
   },
   "source": [
    " "
   ]
  },
  {
   "cell_type": "markdown",
   "metadata": {
    "collapsed": true,
    "jupyter": {
     "outputs_hidden": true
    }
   },
   "source": [
    " "
   ]
  },
  {
   "cell_type": "markdown",
   "metadata": {
    "collapsed": true,
    "jupyter": {
     "outputs_hidden": true
    }
   },
   "source": [
    " "
   ]
  },
  {
   "cell_type": "markdown",
   "metadata": {
    "collapsed": true,
    "jupyter": {
     "outputs_hidden": true
    }
   },
   "source": [
    " "
   ]
  },
  {
   "cell_type": "markdown",
   "metadata": {
    "collapsed": true,
    "jupyter": {
     "outputs_hidden": true
    }
   },
   "source": [
    " "
   ]
  },
  {
   "cell_type": "markdown",
   "metadata": {
    "collapsed": true,
    "jupyter": {
     "outputs_hidden": true
    }
   },
   "source": [
    " "
   ]
  },
  {
   "cell_type": "markdown",
   "metadata": {
    "collapsed": true,
    "jupyter": {
     "outputs_hidden": true
    }
   },
   "source": [
    " "
   ]
  },
  {
   "cell_type": "markdown",
   "metadata": {
    "collapsed": true,
    "jupyter": {
     "outputs_hidden": true
    }
   },
   "source": [
    " "
   ]
  },
  {
   "cell_type": "markdown",
   "metadata": {
    "collapsed": true,
    "jupyter": {
     "outputs_hidden": true
    }
   },
   "source": [
    " "
   ]
  },
  {
   "cell_type": "markdown",
   "metadata": {
    "collapsed": true,
    "jupyter": {
     "outputs_hidden": true
    }
   },
   "source": [
    " "
   ]
  },
  {
   "cell_type": "markdown",
   "metadata": {
    "collapsed": true,
    "jupyter": {
     "outputs_hidden": true
    }
   },
   "source": [
    " "
   ]
  },
  {
   "cell_type": "markdown",
   "metadata": {
    "collapsed": true,
    "jupyter": {
     "outputs_hidden": true
    }
   },
   "source": [
    " "
   ]
  },
  {
   "cell_type": "markdown",
   "metadata": {
    "collapsed": true,
    "jupyter": {
     "outputs_hidden": true
    }
   },
   "source": [
    " "
   ]
  },
  {
   "cell_type": "markdown",
   "metadata": {
    "collapsed": true,
    "jupyter": {
     "outputs_hidden": true
    }
   },
   "source": [
    " "
   ]
  },
  {
   "cell_type": "markdown",
   "metadata": {
    "collapsed": true,
    "jupyter": {
     "outputs_hidden": true
    }
   },
   "source": [
    "  "
   ]
  },
  {
   "cell_type": "markdown",
   "metadata": {
    "collapsed": true,
    "jupyter": {
     "outputs_hidden": true
    }
   },
   "source": [
    " "
   ]
  },
  {
   "cell_type": "markdown",
   "metadata": {
    "collapsed": true,
    "jupyter": {
     "outputs_hidden": true
    }
   },
   "source": [
    "**Answer**\n",
    "\n",
    "1. x,x,x,x, o.\n",
    "2. A) $b_2$ B) $2\\cdot 3^n$ c) $b_n$ d) $a_{n+1}\\le 3a_n\\le 3b_n\\le b_{n+1}$ if $a_n\\le b_n$ e) the latter.\n",
    "3. closed and bounded (2%), $ (1+\\sqrt5)/2$ (3%) \n",
    "4. Convergent Since $\\lim\\limits_{x\\to\\infty}\\frac{\\log x}{2x}=0$ by l'Hopital's Rule (3%) and limit is 0.(2%)\n",
    "5. convergent since it is equal to $\\{-0,0,\\cdots\\}$ (5%)\n",
    "6. $a_n=\\left(\\frac{\\sin n}{n}\\right)^2\\le \\frac{1}{n^2}=b_n$, by comparion test and $p$-series (1%), it is convergent (4%).\n",
    "7. absolute convergent, (4%); by \n",
    "   - $a_n=\\frac{n}{n^3+2n+2}, b_n=\\frac{1}{n^2}$, and $\\lim\\frac{a_n}{b_n}<\\infty$, both are convergent (4%),\n",
    "   - by limit comparison test and $p$-series, $p=2$, and $\\sum \\frac{1}{n^2}$ is absolute convergent. (1%).\n",
    "8. conditionally convergent, (4%) alternating harmonic series (1%)\n",
    "9. $\\sum\\limits_{n=0}^\\infty(x+1)^n/n!$, (3%), $x\\in\\mathbb{R}$ (2%)\n",
    "10. $\\sum\\limits_{n=0}^\\infty (-)^n(x+1)^n$, (3%), $|x+1|<1$ (2%)\n",
    "11. $\\sum\\limits_{n=0}^\\infty(-1)^n(x-2)^n$, (3%), $|x-2|<1$ (2%)\n",
    "12. $\\sum\\limits_{n=0}^\\infty\\frac{x^{n}}{2^nn!}$, (3%), $x\\in\\mathbb{R}$ (2%)\n",
    "13. $\\sum\\limits_{n=0}^\\infty\\frac{(-1)^n}{n+1}x^{n+1}$, (3%), $x\\in(-1,1)$ (2%)\n",
    "14. $\\sum\\limits_{n=0}^\\infty\\frac{(-1)^n}{(2n+1)!}(x/2)^{2n+1}, (-\\infty,\\infty)$, (5%)\n",
    "15. absolute convergent, by ratio test: \n",
    "    $ |a_{n+1}/a_n|=|((3n+1)(3n+2)(3n+3)/(n+1|\\to 0<1$.\n",
    "16. $\\sum\\limits_{n=0}^\\infty \\frac{(-1)^{n}(2n)!}{(2^nn!)^2}x^{2n}  $ \n",
    "17. $\\sum\\limits_{n=1}^\\infty (1+(-1)^n)x^{n}  $"
   ]
  },
  {
   "cell_type": "markdown",
   "metadata": {},
   "source": [
    "# "
   ]
  }
 ],
 "metadata": {
  "hide_input": false,
  "kernelspec": {
   "display_name": "Python 3 (ipykernel)",
   "language": "python",
   "name": "python3"
  },
  "language_info": {
   "codemirror_mode": {
    "name": "ipython",
    "version": 3
   },
   "file_extension": ".py",
   "mimetype": "text/x-python",
   "name": "python",
   "nbconvert_exporter": "python",
   "pygments_lexer": "ipython3",
   "version": "3.10.9"
  },
  "toc": {
   "colors": {
    "hover_highlight": "#DAA520",
    "navigate_num": "#000000",
    "navigate_text": "#333333",
    "running_highlight": "#FF0000",
    "selected_highlight": "#FFD700",
    "sidebar_border": "#EEEEEE",
    "wrapper_background": "#FFFFFF"
   },
   "moveMenuLeft": true,
   "nav_menu": {
    "height": "49px",
    "width": "252px"
   },
   "navigate_menu": true,
   "number_sections": true,
   "sideBar": true,
   "threshold": 4,
   "toc_cell": false,
   "toc_section_display": "block",
   "toc_window_display": false,
   "widenNotebook": false
  }
 },
 "nbformat": 4,
 "nbformat_minor": 4
}
