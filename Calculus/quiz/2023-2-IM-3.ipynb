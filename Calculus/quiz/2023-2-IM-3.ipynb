{
 "cells": [
  {
   "cell_type": "markdown",
   "metadata": {},
   "source": [
    "<big><big><b><div align=\"center\">Calculus, 2023-2-IM-3, Integration of Multiple-Variable Functions</div></b></big></big>\n",
    "<br>\n",
    "<b><big>Name:________________ , Sequence Number:________________ </big></b>"
   ]
  },
  {
   "cell_type": "markdown",
   "metadata": {
    "collapsed": true,
    "jupyter": {
     "outputs_hidden": true
    }
   },
   "source": [
    "<big>\n",
    "<big><b>1$^\\circ$). (total 40% , each 10%)</b> \n",
    "Evaluate the following double integrals:<br>\n",
    "a$^\\circ$). Suppose that $R=\\{(x,y)\\in\\mathbb{R}^2|-1\\le x, y\\le2\\}$:\n",
    "    $$\\iint_R(x+y)^2dA$$\n",
    "b$^\\circ$). Suppose that $R=\\{(x,y)\\in\\mathbb{R}^2|2\\le x\\le4, 0\\le y\\le x\\}$,\n",
    "    $$ \\iint_R (-xy)dA $$   \n",
    "c$^\\circ$). Suppose that $R=\\{(x,y)\\in\\mathbb{R}^2|0\\le x,y \\text{ and }1\\le x^2+y^2\\le4\\}$,\n",
    "    $$ \\iint_R (x+y)dA $$     \n",
    "d$^\\circ$). Suppose that $R=\\{(x,y)\\in\\mathbb{R}^2|x\\ge0, y\\in \\mathbb{R}\\}$,\n",
    "    $$ \\iint_R e^{-y^2+2xy-2x^2}dV $$\n",
    "</big>  \n",
    "</big>    "
   ]
  },
  {
   "cell_type": "raw",
   "metadata": {},
   "source": [
    "\n",
    "\n",
    "\n",
    "\n",
    "\n",
    "\n",
    "\n",
    "\n",
    "\n",
    "\n",
    "\n",
    "\n",
    "\n",
    "\n",
    "\n",
    "\n",
    "\n",
    "\n",
    "\n",
    "\n",
    "\n",
    "\n",
    "\n",
    "\n",
    "\n",
    "\n",
    "\n",
    "\n",
    "\n",
    "\n",
    "\n",
    "\n",
    "\n",
    "\n",
    "\n",
    "\n",
    "\n",
    "\n",
    "\n"
   ]
  },
  {
   "cell_type": "code",
   "execution_count": 3,
   "metadata": {},
   "outputs": [],
   "source": [
    "from MultipleCalculus import *\n",
    "from IPython.display import Latex,HTML"
   ]
  },
  {
   "cell_type": "code",
   "execution_count": 4,
   "metadata": {},
   "outputs": [
    {
     "data": {
      "text/latex": [
       "\\begin{align}\\iint_{\\Large{\\mathbf{V}}=\\left\\{\\large{\\begin{array}{l} -1 \\le x \\le 2,\\cr -1 \\le y \\le 2,\\cr\\end{array}}\\right\\}} \\color{brown}{x} dV&=& \\iint_{\\Large{\\mathbf{V}}} \\color{brown}{x}  d x  d y  \\cr \\color{blue}{\\text{Fubini's Theorem}}&=&\\int_{-1}^{2}d{x}\\int_{-1}^{2} \\color{brown}{x}d{y}\\cr &=&\\int_{-1}^{2} \\left.\\color{brown}{x y} \\right|_{-1}^{2} d{x}\\cr&=&\\int_{-1}^{2} \\color{brown}{3 x}d{x}\\cr &=&\\left. \\color{brown}{\\frac{3 x^{2}}{2}} \\right|_{-1}^{2}\\cr&=&4.5\\end{align}"
      ],
      "text/plain": [
       "<IPython.core.display.Latex object>"
      ]
     },
     "execution_count": 4,
     "metadata": {},
     "output_type": "execute_result"
    }
   ],
   "source": [
    "#1,\n",
    "f=x\n",
    "X=[x,y]\n",
    "XR=[[-1,2],[-1,2]]\n",
    "\n",
    "Latex(MultipleIntegral(f,X,XR))"
   ]
  },
  {
   "cell_type": "code",
   "execution_count": 9,
   "metadata": {},
   "outputs": [
    {
     "data": {
      "text/latex": [
       "\\begin{align}\\iint_{\\Large{\\mathbf{V}}=\\left\\{\\large{\\begin{array}{l} 2 \\le x \\le 4,\\cr 0 \\le y \\le x,\\cr\\end{array}}\\right\\}} \\color{brown}{- x y} dV&=& \\iint_{\\Large{\\mathbf{V}}} \\color{brown}{- x y}  d x  d y  \\cr \\color{blue}{\\text{Fubini's Theorem}}&=&\\int_{2}^{4}d{x}\\int_{0}^{x} \\color{brown}{- x y}d{y}\\cr &=&\\int_{2}^{4} \\left.\\color{brown}{- \\frac{x y^{2}}{2}} \\right|_{0}^{x} d{x}\\cr&=&\\int_{2}^{4} \\color{brown}{- \\frac{x^{3}}{2}}d{x}\\cr &=&\\left. \\color{brown}{- \\frac{x^{4}}{8}} \\right|_{2}^{4}\\cr&=&-30\\end{align}"
      ],
      "text/plain": [
       "<IPython.core.display.Latex object>"
      ]
     },
     "execution_count": 9,
     "metadata": {},
     "output_type": "execute_result"
    }
   ],
   "source": [
    "#1, b)\n",
    "f=(-x*y)\n",
    "X=[x,y]\n",
    "XR=[[2,4],[0,x]]\n",
    "\n",
    "Latex(MultipleIntegral(f,X,XR))"
   ]
  },
  {
   "cell_type": "code",
   "execution_count": 11,
   "metadata": {},
   "outputs": [
    {
     "data": {
      "text/latex": [
       "\\begin{align}\\iint_{\\Large{\\mathbf{V}}=\\left\\{\\large{\\begin{array}{l} 0 \\le θ \\le \\frac{\\pi}{2},\\cr 1 \\le r \\le 2,\\cr\\end{array}}\\right\\}} \\color{brown}{r^{3} \\sin{\\left(θ \\right)} \\cos{\\left(θ \\right)}} dV&=& \\iint_{\\Large{\\mathbf{V}}} \\color{brown}{r^{3} \\sin{\\left(θ \\right)} \\cos{\\left(θ \\right)}}  d θ  d r  \\cr \\color{blue}{\\text{Fubini's Theorem}}&=&\\int_{0}^{\\frac{\\pi}{2}}d{θ}\\int_{1}^{2} \\color{brown}{r^{3} \\sin{\\left(θ \\right)} \\cos{\\left(θ \\right)}}d{r}\\cr &=&\\int_{0}^{\\frac{\\pi}{2}} \\left.\\color{brown}{\\frac{r^{4} \\sin{\\left(θ \\right)} \\cos{\\left(θ \\right)}}{4}} \\right|_{1}^{2} d{θ}\\cr&=&\\int_{0}^{\\frac{\\pi}{2}} \\color{brown}{\\frac{15 \\sin{\\left(θ \\right)} \\cos{\\left(θ \\right)}}{4}}d{θ}\\cr &=&\\left. \\color{brown}{\\frac{15 \\sin^{2}{\\left(θ \\right)}}{8}} \\right|_{0}^{\\frac{\\pi}{2}}\\cr&=&1.875\\end{align}"
      ],
      "text/plain": [
       "<IPython.core.display.Latex object>"
      ]
     },
     "execution_count": 11,
     "metadata": {},
     "output_type": "execute_result"
    }
   ],
   "source": [
    "#1, c)\n",
    "f=r*cos(theta) *r*sin(theta)*r\n",
    "#x=r*cos(theta)\n",
    "#y=r*sin(theta)\n",
    "X=[theta,r]\n",
    "\n",
    "XR=[[0,pi/2],[1,2]]   \n",
    "Latex(MultipleIntegral(f,X,XR))"
   ]
  },
  {
   "cell_type": "markdown",
   "metadata": {},
   "source": [
    "2. (d)\n",
    "\\begin{eqnarray}\n",
    "\\iint_R e^{-y^2+2xy-2x^2}dA&=&\\int_0^\\infty dx\\int_{-\\infty}^\\infty e^{-(y-x)^2-x^2}dy\\\\\n",
    "           &=&\\int_0^\\infty dx\\int_{-\\infty}^\\infty e^{-x^2-y^2/2}dy\\\\\n",
    "           &=&\\frac{\\pi}{2}\n",
    "\\end{eqnarray}\n"
   ]
  },
  {
   "cell_type": "raw",
   "metadata": {},
   "source": []
  },
  {
   "cell_type": "code",
   "execution_count": null,
   "metadata": {},
   "outputs": [],
   "source": []
  }
 ],
 "metadata": {
  "hide_input": false,
  "kernelspec": {
   "display_name": "Python 3 (ipykernel)",
   "language": "python",
   "name": "python3"
  },
  "language_info": {
   "codemirror_mode": {
    "name": "ipython",
    "version": 3
   },
   "file_extension": ".py",
   "mimetype": "text/x-python",
   "name": "python",
   "nbconvert_exporter": "python",
   "pygments_lexer": "ipython3",
   "version": "3.10.9"
  },
  "toc": {
   "colors": {
    "hover_highlight": "#DAA520",
    "navigate_num": "#000000",
    "navigate_text": "#333333",
    "running_highlight": "#FF0000",
    "selected_highlight": "#FFD700",
    "sidebar_border": "#EEEEEE",
    "wrapper_background": "#FFFFFF"
   },
   "moveMenuLeft": true,
   "nav_menu": {
    "height": "49px",
    "width": "252px"
   },
   "navigate_menu": true,
   "number_sections": true,
   "sideBar": true,
   "threshold": 4,
   "toc_cell": false,
   "toc_section_display": "block",
   "toc_window_display": false,
   "widenNotebook": false
  }
 },
 "nbformat": 4,
 "nbformat_minor": 4
}
