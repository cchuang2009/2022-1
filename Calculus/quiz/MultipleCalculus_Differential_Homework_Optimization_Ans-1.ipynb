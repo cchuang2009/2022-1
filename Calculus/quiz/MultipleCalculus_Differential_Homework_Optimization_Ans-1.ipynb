{
 "cells": [
  {
   "cell_type": "markdown",
   "metadata": {},
   "source": [
    "Muplitple-Variable Calculus\n",
    "===\n",
    "Steps for Optimization\n",
    "---\n",
    "\n",
    "In the case of two-variable functions,  $\\mathbf{z=f(x,y)}$ for $\\mathbf{(x,y)\\in D\\subset\\mathbb{R}^2}$ with boundary $\\mathbf{\\partial D}$:\n",
    "1. find out critical points and boundary points if any:<br>\n",
    "   **a).** critical points  ➡︎ Solve $\\mathbf{\\nabla f(x,y)=\\vec 0}$,<br>\n",
    "   **b).** boundary points ➡︎ find out all points on $\\mathbf{\\partial D}$\n",
    "- classify which types of relative exetrmum it is at each critical point by the following <b>Theorem</b>\n",
    "- The maximum of all function values above and on the boundary is absolute maximum, and the minimum of them is absolute minimum. \n"
   ]
  },
  {
   "cell_type": "markdown",
   "metadata": {},
   "source": [
    "Theorem\n",
    "---\n",
    "Consider the determinant of Hession Matrix,\n",
    "$$\\mathbf{|H| = \\left|\\begin{matrix}\n",
    "       \\mathbf{\\frac{\\partial^2 f}{\\partial x^2}(x_0,y_0)} \n",
    "          & \\mathbf{\\frac{\\partial^2 f}{\\partial y\\partial x}(x_0,y_0)}\\\\\n",
    "       \\mathbf{\\frac{\\partial^2 f}{\\partial x \\partial y}(x_0,y_0) }\n",
    "          & \\mathbf{\\frac{\\partial^2f}{\\partial y^2}(x_0,y_0)}\n",
    "     \\end{matrix}\\right| = \n",
    "     \\left|\\begin{matrix}\n",
    "       A & B\\\\\n",
    "       B & C\n",
    "     \\end{matrix}\\right| =AC-B^2}\n",
    "$$  \n",
    "  where $(x_0, y_0)$ is the\n",
    "  critical point of $\\mathbf{f (x, y)}$, $\\mathbf{D = A C - B^2}$, then\n",
    "   1. if $\\mathbf{D > 0}$ and $\\mathbf{A < 0}$ , $\\mathbf{f (x_0, y_0)}$ is  a relative maximum,\n",
    "   - if $\\mathbf{D > 0}$ and $\\mathbf{A > 0}$ , $\\mathbf{f (x_0, y_0)}$ is  a relative minimum,\n",
    "   - if $\\mathbf{D < 0}$ , $\\mathbf{(x_0, y_0, f (x_0, y_0))}$ is a saddle point,\n",
    "   - if $\\mathbf{D = 0}$, no conclusion."
   ]
  },
  {
   "cell_type": "code",
   "execution_count": 1,
   "metadata": {},
   "outputs": [],
   "source": [
    "%matplotlib inline\n",
    "\n",
    "#rcParams['figure.figsize'] = (10,3) #wide graphs by default\n",
    "import scipy\n",
    "import numpy as np\n",
    "import time\n",
    "from mpl_toolkits.mplot3d import Axes3D\n",
    "from IPython.display import clear_output,display\n",
    "import matplotlib.pylab as plt\n",
    "from matplotlib import cm\n",
    "plt.style.use('ggplot')"
   ]
  },
  {
   "cell_type": "markdown",
   "metadata": {},
   "source": [
    "Symbolic Calculus \n",
    "---\n",
    "sympy, Python package, avails powerful functions to do symbolic calculation which is almost absent in other computer languages.\n",
    "\n",
    "Here, we use the (diff, hess, solve) to setup the basic optimization function for $\\mathbf{f(x,y)}$."
   ]
  },
  {
   "cell_type": "code",
   "execution_count": 2,
   "metadata": {},
   "outputs": [],
   "source": [
    "from sympy import hessian,symbols,solve,diff,sin,cos,pi,exp,det,pprint\n",
    "x,y,z,a=symbols(\"x y z a\",real=True)\n",
    "\n",
    "grad = lambda func, vars :[diff(func,var) for var in vars]"
   ]
  },
  {
   "cell_type": "code",
   "execution_count": 3,
   "metadata": {},
   "outputs": [],
   "source": [
    "def CriticalType(f,*vars):\n",
    "    cpts=solve(grad(f,*vars),*vars)\n",
    "    H=hessian(f,*vars);\n",
    "    #H_det=H.det();\n",
    "    print(\"Hessian Matrix\\n---\")\n",
    "    pprint(H)\n",
    "    print(\"\\n---\\n\")\n",
    "    \n",
    "    num=1\n",
    "    if len(cpts)==0:\n",
    "       print(\"   no critical point!\")  \n",
    "    elif (type(cpts)==dict):\n",
    "       \"\"\"\n",
    "       If only one critical point, return {x:a,y:b} --- dict,\n",
    "       if more than one point return {(a,b),(c,d),...} --- list\n",
    "       \"\"\" \n",
    "       cx=cpts[vars[0][0]]\n",
    "       cy=cpts[vars[0][1]]\n",
    "       cz=cpts[vars[0][2]]\n",
    "       print(\"only one critical (x,y,z)=(%s,%s,%s)\" %(cx,cy,cz))\n",
    "       H1=H.extract([0],[0])\n",
    "       H2=H.extract([0,1],[0,1])\n",
    "       H3=H\n",
    "       delta1=H1.det().subs({x:cx,y:cy,z:cz})  \n",
    "       delta2=H2.det().subs({x:cx,y:cy,z:cz})  \n",
    "       delta3=H3.det().subs({x:cx,y:cy,z:cz})  \n",
    "       if delta3<0:\n",
    "          if (delta1<0 and delta2>0):\n",
    "             print(\"   |H|=%s>0, fxx=%s<0:    local maximum here.\" %(delta3,delta1))  \n",
    "          else: \n",
    "              print(\"   |H|=%s<0:  Saddle point here.\" %delta3)\n",
    "       elif delta3==0:\n",
    "          print(\"   |H|=0:  No conclusion.\") \n",
    "       else:\n",
    "          if (delta1>0 and delta2>0):\n",
    "             print(\"   |H|=%s>0, |H2|=%s>0,H1=%s>0:  local minimum here.\" %(delta3,delta2,delta1))\n",
    "          else:\n",
    "             print(\"   |H|=%s>0, |H2|=%s, H1=%s<0: saddle here.\" %(delta3,delta2, delta1))\n",
    "    else:\n",
    "       for i in cpts: \n",
    "            cx=i[0]\n",
    "            cy=i[1]\n",
    "            cz=i[2]\n",
    "            print(\"%d. critical (x,y,z)=(%s,%s,%s)\" %(num,cx,cy,cz))\n",
    "            H1=H.extract([0],[0])\n",
    "            H2=H.extract([0,1],[0,1])\n",
    "            H3=H\n",
    "            delta1=H1.det().subs({x:cx,y:cy,z:cz})  \n",
    "            delta2=H2.det().subs({x:cx,y:cy,z:cz})  \n",
    "            delta3=H3.det().subs({x:cx,y:cy,z:cz})  \n",
    "            if delta3<0:\n",
    "               if (delta1<0 and delta2>0):\n",
    "                   print(\"   |H|=%s>0, fxx=%s<0:    local maximum here.\" %(delta3,delta1))  \n",
    "               else: \n",
    "                   print(\"   |H|=%s<0:  Saddle point here.\" %delta3)\n",
    "            elif delta3==0:\n",
    "               print(\"   |H|=0:  No conclusion.\") \n",
    "            else:\n",
    "               if (delta1>0 and delta2>0):\n",
    "                  print(\"   |H|=%s>0, |H2|=%s>0,H1=%s>0:  local minimum here.\" %(delta3,delta2,delta1))\n",
    "               else:\n",
    "                  print(\"   |H|=%s>0, |H2|=%s, H1=%s<0: saddle here.\" %(delta3,delta2, delta1))\n",
    "            num+=1    "
   ]
  },
  {
   "cell_type": "code",
   "execution_count": 4,
   "metadata": {},
   "outputs": [],
   "source": [
    "def criticaltype(f):\n",
    "    cpts=solve(grad(f,[x,y]),[x,y])\n",
    "    H=hessian(f,[x,y]);\n",
    "    H_det=H.det();\n",
    "    print(\"Hessian Matrix\\n---\")\n",
    "    pprint(H)\n",
    "    \n",
    "    num=1\n",
    "    if len(cpts)==0:\n",
    "       print(\"   no critical point!\")  \n",
    "    elif (type(cpts)==dict):\n",
    "       \"\"\"\n",
    "       If only one critical point, return {x:a,y:b} --- dict,\n",
    "       if more than one point return {(a,b),(c,d),...} --- list\n",
    "       \"\"\" \n",
    "       cx=cpts[x]\n",
    "       cy=cpts[y]\n",
    "       print(\"only one critical (x,y)=(%s,%s)\" %(cx,cy))\n",
    "       delta2=H_det.subs({x:cx,y:cy}) \n",
    "       if delta2<0:\n",
    "          print(\"   |H|=%s<0:  Saddle point here.\" %delta2)\n",
    "       elif delta2==0:\n",
    "          print(\"   |H|=0:  No conclusion.\") \n",
    "       else:\n",
    "          f1=diff(f,x,2).subs({x:cx,y:cy})\n",
    "          if f1>0:\n",
    "             print(\"   |H|=%s>0, fxx=%s>0:  local minimum here.\" %(delta2,f1))\n",
    "          else:\n",
    "             print(\"   |H|=%s>0, fxx=%s<0:    local maximum here.\" %(delta2,f1))\n",
    "    else:\n",
    "       for i in cpts: \n",
    "            cx=i[0]\n",
    "            cy=i[1]\n",
    "            print(\"%d. critical (x,y)=(%s,%s)\" %(num,cx,cy))\n",
    "            delta2=H_det.subs({x:cx,y:cy}) \n",
    "            if delta2<0:\n",
    "               print(\"   |H|=%s<0:  Saddle point here.\" %delta2)\n",
    "            elif delta2==0:\n",
    "               print(\"   |H|=0:  No conclusion.\") \n",
    "            else:\n",
    "               f1=diff(f,x,2).subs({x:cx,y:cy})\n",
    "               if f1>0:\n",
    "                  print(\"   |H|=%s>0, fxx=%s>0:  local minimum here.\" %(delta2,f1))\n",
    "               else:\n",
    "                  print(\"   |H|=%s>0, fxx=%s<0:    local maximum here.\" %(delta2,f1))\n",
    "            #print(H_det)\n",
    "            num+=1    "
   ]
  },
  {
   "cell_type": "markdown",
   "metadata": {},
   "source": [
    "Q$^\\circ$1.\n",
    "---\n",
    "$f(x,y,z) = x^2-xy+y^2-x+y$  with $0\\le y\\le x\\le1$.\n"
   ]
  },
  {
   "cell_type": "code",
   "execution_count": 6,
   "metadata": {},
   "outputs": [
    {
     "data": {
      "text/plain": [
       "[2*x - y - 1, -x + 2*y + 1]"
      ]
     },
     "execution_count": 6,
     "metadata": {},
     "output_type": "execute_result"
    }
   ],
   "source": [
    "f=x**2-x*y+y**2-x+y\n",
    "grad(f,[x,y])"
   ]
  },
  {
   "cell_type": "code",
   "execution_count": 7,
   "metadata": {},
   "outputs": [
    {
     "name": "stdout",
     "output_type": "stream",
     "text": [
      "Hessian Matrix\n",
      "---\n",
      "⎡2   -1⎤\n",
      "⎢      ⎥\n",
      "⎣-1  2 ⎦\n",
      "only one critical (x,y)=(1/3,-1/3)\n",
      "   |H|=3>0, fxx=2>0:  local minimum here.\n"
     ]
    }
   ],
   "source": [
    "criticaltype(f)"
   ]
  },
  {
   "cell_type": "markdown",
   "metadata": {},
   "source": [
    "Q$^\\circ$2.\n",
    "---\n",
    "$f(x,y) = 4x^4+4y^4-2xy$ .\n"
   ]
  },
  {
   "cell_type": "code",
   "execution_count": 8,
   "metadata": {},
   "outputs": [
    {
     "data": {
      "text/plain": [
       "[16*x**3 - 2*y, -2*x + 16*y**3]"
      ]
     },
     "execution_count": 8,
     "metadata": {},
     "output_type": "execute_result"
    }
   ],
   "source": [
    "f=4*x**4+4*y**4-2*x*y\n",
    "grad(f,[x,y])\n"
   ]
  },
  {
   "cell_type": "code",
   "execution_count": 9,
   "metadata": {},
   "outputs": [
    {
     "name": "stdout",
     "output_type": "stream",
     "text": [
      "Hessian Matrix\n",
      "---\n",
      "⎡    2       ⎤\n",
      "⎢48⋅x    -2  ⎥\n",
      "⎢            ⎥\n",
      "⎢           2⎥\n",
      "⎣ -2    48⋅y ⎦\n",
      "1. critical (x,y)=(0,0)\n",
      "   |H|=-4<0:  Saddle point here.\n",
      "2. critical (x,y)=(-sqrt(2)/4,-sqrt(2)/4)\n",
      "   |H|=32>0, fxx=6>0:  local minimum here.\n",
      "3. critical (x,y)=(sqrt(2)/4,sqrt(2)/4)\n",
      "   |H|=32>0, fxx=6>0:  local minimum here.\n"
     ]
    }
   ],
   "source": [
    "criticaltype(f)"
   ]
  },
  {
   "cell_type": "code",
   "execution_count": null,
   "metadata": {},
   "outputs": [],
   "source": []
  },
  {
   "cell_type": "markdown",
   "metadata": {},
   "source": [
    "Q$^\\circ$3.\n",
    "---\n",
    "$f(x,y,z) = x^2y(9-x-y)$  \n"
   ]
  },
  {
   "cell_type": "code",
   "execution_count": 10,
   "metadata": {},
   "outputs": [
    {
     "data": {
      "text/plain": [
       "[-x**2*y + 2*x*y*(-x - y + 9), -x**2*y + x**2*(-x - y + 9)]"
      ]
     },
     "execution_count": 10,
     "metadata": {},
     "output_type": "execute_result"
    }
   ],
   "source": [
    "f=x**2*y*(9-x-y)\n",
    "grad(f,[x,y])"
   ]
  },
  {
   "cell_type": "code",
   "execution_count": 11,
   "metadata": {},
   "outputs": [
    {
     "data": {
      "text/latex": [
       "$\\displaystyle - 2 x^{2} \\left(- 4 x y + 2 y \\left(- x - y + 9\\right)\\right) - \\left(- x^{2} - 2 x y + 2 x \\left(- x - y + 9\\right)\\right)^{2}$"
      ],
      "text/plain": [
       "-2*x**2*(-4*x*y + 2*y*(-x - y + 9)) - (-x**2 - 2*x*y + 2*x*(-x - y + 9))**2"
      ]
     },
     "execution_count": 11,
     "metadata": {},
     "output_type": "execute_result"
    }
   ],
   "source": [
    "hessian(f,[x,y]).det()"
   ]
  },
  {
   "cell_type": "code",
   "execution_count": 12,
   "metadata": {},
   "outputs": [
    {
     "name": "stdout",
     "output_type": "stream",
     "text": [
      "Hessian Matrix\n",
      "---\n",
      "⎡                                    2                           ⎤\n",
      "⎢   -4⋅x⋅y + 2⋅y⋅(-x - y + 9)     - x  - 2⋅x⋅y + 2⋅x⋅(-x - y + 9)⎥\n",
      "⎢                                                                ⎥\n",
      "⎢   2                                              2             ⎥\n",
      "⎣- x  - 2⋅x⋅y + 2⋅x⋅(-x - y + 9)               -2⋅x              ⎦\n",
      "1. critical (x,y)=(0,9/2)\n",
      "   |H|=0:  No conclusion.\n",
      "2. critical (x,y)=(0,y)\n",
      "   |H|=0:  No conclusion.\n",
      "3. critical (x,y)=(9/2,9/4)\n",
      "   |H|=6561/8>0, fxx=-243/8<0:    local maximum here.\n",
      "4. critical (x,y)=(9,0)\n",
      "   |H|=-6561<0:  Saddle point here.\n"
     ]
    }
   ],
   "source": [
    "criticaltype(f)"
   ]
  },
  {
   "cell_type": "markdown",
   "metadata": {},
   "source": []
  },
  {
   "cell_type": "markdown",
   "metadata": {},
   "source": [
    "Q$^\\circ$5.\n",
    "---\n",
    "$f(x,y,z) =4 x^2+y^2-z^2$  \n",
    "\n"
   ]
  },
  {
   "cell_type": "code",
   "execution_count": 13,
   "metadata": {},
   "outputs": [
    {
     "data": {
      "text/plain": [
       "[8*x, 2*y, -2*z]"
      ]
     },
     "execution_count": 13,
     "metadata": {},
     "output_type": "execute_result"
    }
   ],
   "source": [
    "f=4*x**2+y**2-z**2\n",
    "grad(f,[x,y,z])"
   ]
  },
  {
   "cell_type": "code",
   "execution_count": 14,
   "metadata": {},
   "outputs": [
    {
     "name": "stdout",
     "output_type": "stream",
     "text": [
      "Hessian Matrix\n",
      "---\n",
      "⎡8  0  0 ⎤\n",
      "⎢        ⎥\n",
      "⎢0  2  0 ⎥\n",
      "⎢        ⎥\n",
      "⎣0  0  -2⎦\n",
      "\n",
      "---\n",
      "\n",
      "only one critical (x,y,z)=(0,0,0)\n",
      "   |H|=-32<0:  Saddle point here.\n"
     ]
    }
   ],
   "source": [
    "CriticalType(f,[x,y,z])"
   ]
  },
  {
   "cell_type": "markdown",
   "metadata": {},
   "source": [
    "Q$^\\circ$6.\n",
    "---\n",
    "$f(x,y) =x^3-5 xy+y^2-x$  \n"
   ]
  },
  {
   "cell_type": "code",
   "execution_count": 15,
   "metadata": {},
   "outputs": [
    {
     "data": {
      "text/plain": [
       "[3*x**2 - 5*y - 1, -5*x + 2*y]"
      ]
     },
     "execution_count": 15,
     "metadata": {},
     "output_type": "execute_result"
    }
   ],
   "source": [
    "f=x**3-5*x*y+y**2-x\n",
    "grad(f,[x,y])"
   ]
  },
  {
   "cell_type": "code",
   "execution_count": 16,
   "metadata": {},
   "outputs": [
    {
     "name": "stdout",
     "output_type": "stream",
     "text": [
      "Hessian Matrix\n",
      "---\n",
      "⎡6⋅x  -5⎤\n",
      "⎢       ⎥\n",
      "⎣-5   2 ⎦\n",
      "1. critical (x,y)=(25/12 - sqrt(673)/12,125/24 - 5*sqrt(673)/24)\n",
      "   |H|=-sqrt(673)<0:  Saddle point here.\n",
      "2. critical (x,y)=(25/12 + sqrt(673)/12,125/24 + 5*sqrt(673)/24)\n",
      "   |H|=sqrt(673)>0, fxx=25/2 + sqrt(673)/2>0:  local minimum here.\n"
     ]
    }
   ],
   "source": [
    "criticaltype(f)"
   ]
  },
  {
   "cell_type": "markdown",
   "metadata": {},
   "source": [
    "Q$^\\circ$7.\n",
    "---\n",
    "$f(x,y,z) = 8x^2+6y^2+2x-2y+8$  \n",
    "for a$^\\circ$). $(x,y)\\in\\mathbb{R}^2$, b$^\\circ$). $0\\le x,y\\le4$, c$^\\circ$). $ 0\\le y\\le9$.\n"
   ]
  },
  {
   "cell_type": "code",
   "execution_count": 17,
   "metadata": {},
   "outputs": [
    {
     "data": {
      "text/plain": [
       "[12*x + 5, 18*y - 5]"
      ]
     },
     "execution_count": 17,
     "metadata": {},
     "output_type": "execute_result"
    }
   ],
   "source": [
    "f=6*x**2+9*y**2+5*x-5*y+6\n",
    "grad(f,[x,y])"
   ]
  },
  {
   "cell_type": "code",
   "execution_count": 18,
   "metadata": {},
   "outputs": [
    {
     "name": "stdout",
     "output_type": "stream",
     "text": [
      "Hessian Matrix\n",
      "---\n",
      "⎡12  0 ⎤\n",
      "⎢      ⎥\n",
      "⎣0   18⎦\n",
      "only one critical (x,y)=(-5/12,5/18)\n",
      "   |H|=216>0, fxx=12>0:  local minimum here.\n"
     ]
    }
   ],
   "source": [
    "criticaltype(f)"
   ]
  },
  {
   "cell_type": "markdown",
   "metadata": {},
   "source": [
    "\n",
    "\n"
   ]
  },
  {
   "cell_type": "code",
   "execution_count": null,
   "metadata": {},
   "outputs": [],
   "source": []
  }
 ],
 "metadata": {
  "kernelspec": {
   "display_name": "Python 3",
   "language": "python",
   "name": "python3"
  },
  "language_info": {
   "codemirror_mode": {
    "name": "ipython",
    "version": 3
   },
   "file_extension": ".py",
   "mimetype": "text/x-python",
   "name": "python",
   "nbconvert_exporter": "python",
   "pygments_lexer": "ipython3",
   "version": "3.6.9"
  }
 },
 "nbformat": 4,
 "nbformat_minor": 2
}
