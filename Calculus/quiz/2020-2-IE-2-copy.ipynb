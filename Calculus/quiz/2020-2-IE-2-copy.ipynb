{
 "cells": [
  {
   "cell_type": "markdown",
   "metadata": {},
   "source": [
    "<big><big><b><div align=\"center\">Calculus, 2020-2-IE-2</div></b></big></big>\n",
    "\n",
    "<h3><div align=\"left\">Name:&nbsp;&nbsp;&nbsp;&nbsp;&nbsp;&nbsp;&nbsp;&nbsp;&nbsp;&nbsp;&nbsp;&nbsp;&nbsp;&nbsp;&nbsp;&nbsp;&nbsp;  Sequence Number:&nbsp;&nbsp;&nbsp;&nbsp;&nbsp;&nbsp;&nbsp;&nbsp;&nbsp;&nbsp;&nbsp;&nbsp;&nbsp;&nbsp;&nbsp;&nbsp;&nbsp;&nbsp;&nbsp;&nbsp;&nbsp;&nbsp;&nbsp;&nbsp;</div></h3>"
   ]
  },
  {
   "cell_type": "markdown",
   "metadata": {
    "collapsed": true
   },
   "source": [
    "<big>\n",
    "<big><b>1$^\\circ$). </b> \n",
    " Consider the function  $z = \\frac{1}{2 + x - y}$. Find the maximal domain of $f(x,y)$ and its range respectively. (total 10% , each 5%)<br>\n",
    "</big> \n",
    "</big>    "
   ]
  },
  {
   "cell_type": "markdown",
   "metadata": {
    "collapsed": true
   },
   "source": [
    "<big>\n",
    "<big><b>2$^\\circ$). (total 10% , each 5%)</b> \n",
    "Calulate the limits of the folowing functions at given point if exist:<br>\n",
    "a$^\\circ$.) $$ \\lim_{(x, y) \\rightarrow (0, 0)} \\frac{2x - y}{x + 2y} $$ \n",
    "b$^\\circ$.) $$ \\lim_{(x, y) \\rightarrow (0, 0)} \\frac{x^3 - y^3}{x^2 + y^2} $$\n",
    "</big> \n",
    "</big>    "
   ]
  },
  {
   "cell_type": "markdown",
   "metadata": {
    "collapsed": true
   },
   "source": [
    "<big>\n",
    "<big><b>3$^\\circ$). (total 20% , each 5%)</b> <br>\n",
    "Suppose that$f (x, y) = x^3 + 4 x^2 y^3 + y^2$.<br>\n",
    "a$^\\circ$.) Find the gradient of $f$, $\\nabla f(x,y)$, at $(x,y)=(-1,0)$.<br>\n",
    "b$^\\circ$.) (continued) Find the maximum of the directional derivative of $f(x,y)$ at $(x,y)=(-1,0)$.<br>\n",
    "c$^\\circ$.) (continued) Also find the tangent plane of $f(x,y)$ at $(x,y)=(-1,0)$. <br>\n",
    "d$^\\circ$.) Find the tangent plane of $x^3-xy+y^3=z^2$ at $(x,y,z)=(1,-1,1)$.    \n",
    "</big> \n",
    "</big>    "
   ]
  },
  {
   "cell_type": "markdown",
   "metadata": {
    "collapsed": true
   },
   "source": [
    "<big>\n",
    "<big><b>4$^\\circ$). (total 15%)</b> <br>\n",
    "    \n",
    "Suppose that \n",
    "$$\n",
    " f(x,y)=\\left|\\begin{matrix}\n",
    "  \\frac{x^3y-y^3x}{x^2+y^2}& \\text{ for }(x,y)\\ne(0,0)\\\\\n",
    "  0 & \\text{ for }(x,y)=(0,0)\\\\\n",
    "\\end{matrix}\\right.\n",
    "$$\n",
    "a$^\\circ$.) Calculate $\\mathbf{\\frac{\\partial^2 f}{\\partial x\\partial y}(0,0),\\frac{\\partial^2 f}{\\partial y\\partial x}(0,0)}$ if exist. (total 10%, each 5%)<br>\n",
    "b$^\\circ$.) **True** or **False**: All the second partial derivatives are continuous. (5%)<br>    \n",
    "\n",
    "</big> \n",
    "</big>    "
   ]
  },
  {
   "cell_type": "markdown",
   "metadata": {
    "collapsed": true
   },
   "source": [
    "<big>\n",
    "<big><b>5$^\\circ$). (total 10%)</b> <br>\n",
    "\n",
    "a$^\\circ$.) Suppose that\n",
    "\\begin{eqnarray*}\n",
    "    w (x, y, z) & = & x^2y+y^2z^3\\\\\n",
    "    (x, y, z) & = & (r \\cos s, r \\sin s, r e^s)\n",
    "  \\end{eqnarray*}\n",
    "Find $\\partial w/\\partial s $ at $(r,s)=(1,0)$  . (5%)<br>\n",
    "b$^\\circ$.) Suppose that $f(x,y)=x^2 y-x y^3$, where $[x,y]=[\\cos(t),e^t]$, and $w(t)=f(x(t),y(t))$. Calculate\n",
    "$\\frac{d w}{dt}(0)$. (5%)\n",
    "</big> \n",
    "</big>    "
   ]
  },
  {
   "cell_type": "markdown",
   "metadata": {
    "collapsed": true
   },
   "source": [
    "<big>\n",
    "<big><b>6$^\\circ$).</b> \n",
    "(Total 30%) Suppose that $$f(x,y) = -x+2y$$ is defined on $\\mathbf{D}\\subset\\mathbb{R}^2$.\n",
    "    Find the citical point(s), relative maximum, relative minimum, absolute maxima, and relative minimum if any. (5% each problem, and 1% for each answer; no answer no score)<br>\n",
    "a$^\\circ$). (5%) $\\mathbf{D}=\\mathbb{R}^2$<br>\n",
    "b$^\\circ$). (5%) $\\mathbf{D}=\\{(x,y)\\in\\mathbb{R}^2|-1\\le x,y\\le3 \\}$<br>    \n",
    "c$^\\circ$). (5%) $\\mathbf{D}=\\{(x,y)\\in\\mathbb{R}^2| |x+y|\\le1,|x-y|\\le1 \\}$<br> \n",
    "d$^\\circ$). (5%) $\\mathbf{D}$ is a triangle with vertices $(0,0),(2,0),(0,1).$<br> \n",
    "e$^\\circ$). (5%) $\\mathbf{D}=\\{(x,y)\\in\\mathbb{R}^2| x^2+4y^2=4\\}$.<br> \n",
    "f$^\\circ$). (5%) $\\mathbf{D}=\\{(x,y)\\in\\mathbb{R}^2| x^2+4y^2\\le4\\}$.\n",
    "    \n",
    "       \n",
    "</big> </big>"
   ]
  },
  {
   "cell_type": "markdown",
   "metadata": {},
   "source": []
  },
  {
   "cell_type": "markdown",
   "metadata": {
    "collapsed": true
   },
   "source": [
    "<big>\n",
    "<big><b>7$^\\circ$).</b> \n",
    "(Total 5%) Suppose that $$g(x,y,z) =x^2+y^2+z^2, f(x,y,z)=x+y+z$$<br>\n",
    "If the $m$ is the minimum of $f(x,y,z)$ with constraint, $g(x,y,z)=6$; and $M$ is the maximum of $g(x,y,z)$ with constraint $f(x,y,z)=12$. Calculate the sum of $M$ and $m$.\n",
    "\n",
    "</big> </big>"
   ]
  },
  {
   "cell_type": "code",
   "execution_count": null,
   "metadata": {},
   "outputs": [],
   "source": [
    "f=x**2+y**2+z**2\n",
    "cond=9-x-y-z\n",
    "lagrangian(f,[x,y,z],[cond])"
   ]
  },
  {
   "cell_type": "code",
   "execution_count": null,
   "metadata": {},
   "outputs": [],
   "source": []
  },
  {
   "cell_type": "code",
   "execution_count": null,
   "metadata": {},
   "outputs": [],
   "source": []
  },
  {
   "cell_type": "code",
   "execution_count": null,
   "metadata": {},
   "outputs": [],
   "source": []
  },
  {
   "cell_type": "markdown",
   "metadata": {},
   "source": [
    "Sol\n",
    "---\n",
    "\n",
    "1. a) Domain=$\\{(x, y) \\in \\mathbb{R}^2 | 2 + x - y \\neq 0\\}$ (5%) and Range=$\\{z \\in \\mathbb{R}| z \\neq 0\\}$ (5%).\n",
    "2. a) Fail to exist (5%) b) 0 (5%)\n",
    "3. a) $[3,0]$ (5%) b) 3  (5%) c) $3(x+1)=(z+1)$ (5%)  d) $4(x-1)+ 2(y+1) -2(z-1)=0$ (5%)\n",
    "4. a) $-1$ (5%) $1$ (5%)\n",
    "5. a) $1$ (5%) b) -2 (5%)\n",
    "6. a) No critical point (1%), no relative min (1%), no relative max (1%), no min (1%), no max (1%). <br>\n",
    "   b) No critical point (1%), relative min=$-5$ (1%), relative max=7 (1%), min=$-5$ (1%),  max=7 (1%). <br>\n",
    "   c) No critical point (1%), relative min=$-2$ (1%), relative max=2 (1%), min=$-2$ (1%),  max=2 (1%). <br>\n",
    "   d) No critical point (1%), relative min=$-2$ (1%), relative max=2 (1%), min=$-2$ (1%),  max=2 (1%). <br>\n",
    "   e) No critical point (1%), relative min=$-2\\sqrt2$ (1%), relative max=$2\\sqrt2$ (1%), min=$-2\\sqrt2$ (1%),  max=$2\\sqrt2$ (1%). <br>\n",
    "   f) No critical point (1%), relative min=$-2\\sqrt2$ (1%), relative max=$2\\sqrt2$ (1%), min=$-2\\sqrt2$ (1%),  max=$2\\sqrt2$ (1%). \n",
    "7. $48-3\\sqrt2$ (5%)"
   ]
  },
  {
   "cell_type": "code",
   "execution_count": 1,
   "metadata": {},
   "outputs": [
    {
     "name": "stdout",
     "output_type": "stream",
     "text": [
      "⎡   2        3      2  2      ⎤\n",
      "⎣3⋅x  + 8⋅x⋅y , 12⋅x ⋅y  + 2⋅y⎦\n"
     ]
    }
   ],
   "source": [
    "from sympy import symbols, diff,pprint,sqrt\n",
    "x,y=symbols('x y')\n",
    "f=x**3+4*x*x*y**3+y*y\n",
    "\n",
    "grad = lambda func, vars :[diff(func,var) for var in vars]\n",
    "\n",
    "df=grad(f,[x,y])\n",
    "pprint(df)"
   ]
  },
  {
   "cell_type": "code",
   "execution_count": 6,
   "metadata": {},
   "outputs": [
    {
     "data": {
      "text/plain": [
       "[3, 0]"
      ]
     },
     "execution_count": 6,
     "metadata": {},
     "output_type": "execute_result"
    }
   ],
   "source": [
    "def df_val(f,val):\n",
    "    return [ff.subs({x:val[0],y:val[1]}) for ff in f]\n",
    "df_val(df,[-1,0])"
   ]
  },
  {
   "cell_type": "code",
   "execution_count": null,
   "metadata": {},
   "outputs": [],
   "source": []
  },
  {
   "cell_type": "code",
   "execution_count": null,
   "metadata": {},
   "outputs": [],
   "source": []
  },
  {
   "cell_type": "code",
   "execution_count": 4,
   "metadata": {},
   "outputs": [],
   "source": [
    "from sympy import hessian,symbols,solve,diff,pprint\n",
    "\n",
    "from termcolor import colored"
   ]
  },
  {
   "cell_type": "code",
   "execution_count": 3,
   "metadata": {},
   "outputs": [],
   "source": [
    "x,y,z=symbols(\"x y z\",real=True)\n",
    "grad = lambda func, vars :[diff(func,var) for var in vars]"
   ]
  },
  {
   "cell_type": "code",
   "execution_count": 5,
   "metadata": {},
   "outputs": [],
   "source": [
    "def lagrangian(func,X,conditions):\n",
    "    \"\"\"\n",
    "    Inputs:\n",
    "      func: functions of 2/3 variable\n",
    "      X: list of variables, [x,y] or [x,y,z]\n",
    "      conditions: list of condictions, [cond1,cond2,...]\n",
    "    Output, but print out the result:\n",
    "      1. check whether critical point(s) exists acording to the constraint(s); \n",
    "      2. more than one solutions: print out minimum and maximum\n",
    "    \"\"\"\n",
    "    l,m=symbols(\"lambda mu\")\n",
    "    if len(X)==2 and len(conditions)==1:\n",
    "       [x,y]=X \n",
    "       L=func+l*conditions[0]\n",
    "       cpts=solve([diff(L,x),diff(L,y),conditions[0]],[x,y,l])\n",
    "       #print(\"Function, %s, subject to %s=0\\n===\" %(func,conditions[0]))\n",
    "       prob=colored('Function, {},'.format(func),'blue',attrs=['bold']) \n",
    "       subj=colored(' subject to {} =0: \\n'.format(conditions[0]),'red',attrs=['bold']) \n",
    "       sep= \"===\"\n",
    "       print(prob,subj,sep)\n",
    "    elif  len(X)==3 and len(conditions)==1: \n",
    "       [x,y,z]=X \n",
    "       L=func+l*conditions[0]\n",
    "       cpts=solve([diff(L,x),diff(L,y),diff(L,z),conditions[0]],[x,y,z,l]) \n",
    "       prob=colored('Function, {},'.format(func),'blue',attrs=['bold']) \n",
    "       subj=colored(' subject to {} =0: \\n'.format(conditions[0]),'red',attrs=['bold']) \n",
    "       sep= \"===\"\n",
    "       print(prob,subj,sep) \n",
    "    else:\n",
    "       [x,y,z]=X \n",
    "       L=func+l*conditions[0]+m* conditions[1]\n",
    "       cpts=solve([diff(L,x),diff(L,y),diff(L,z),conditions[0],conditions[1]],[x,y,z,l,m]) \n",
    "       print(\"Function, %s, subject to %s=0 and %s=0\\n===\" %(func,conditions[0],conditions[1]))\n",
    "    i=1\n",
    "    vals=[]\n",
    "    \n",
    "    if type(cpts)!=dict: \n",
    "       for cpt in cpts: \n",
    "           if len(X)==2:\n",
    "              funcVal=func.subs({x:cpt[0],y:cpt[1]})\n",
    "              print(\"  %d֯ ). f = %s = %s at critical value (x,y)=(%s,%s)\" %(i,func,funcVal,cpt[0],cpt[1]))\n",
    "           else:\n",
    "              funcVal=func.subs({x:cpt[0],y:cpt[1],z:cpt[2]})\n",
    "              print(\"  %d֯ ). f = %s = %s at critical value (x,y,z)=(%s,%s,%s)\" %(i,func, funcVal,cpt[0],cpt[1],cpt[2]))\n",
    "           vals.append(funcVal)\n",
    "           i+=1\n",
    "       print(\"  ---\\n\")  \n",
    "       if (len(set(vals))>1):\n",
    "          print(\"  Maximum on the boundary is %s\" %max(vals))\n",
    "          print(\"  Minimum on the boundary is %s\" %min(vals)) \n",
    "       elif (len(set(vals))==1):\n",
    "          print(\" Not sure whether the value, %s, is maximum, or minimum, or nothing else!\" %max(vals))\n",
    "       else:\n",
    "          print(\"Neither maximum nor minimum exists!\")\n",
    "    else:\n",
    "       dictlist=[]\n",
    "       for key, value in cpts.items():\n",
    "           temp = [key,value]\n",
    "           dictlist.append(temp)\n",
    "       cpts=dictlist \n",
    "       if len(X)==2:\n",
    "          funcVal=func.subs({x:cpts[0][1],y:cpts[1][1]}) \n",
    "          print(\"  Only one critical found, (x,y)=(%s,%s)\" %(cpts[0][1],cpts[1][1]))\n",
    "       else:\n",
    "          funcVal=func.subs({x:cpts[0][1],y:cpts[1][1],z:cpts[2][1]})\n",
    "          print(\"  f= %s = %s\\n\" %(func,funcVal))  \n",
    "          print(\"  Only one critical found, (x,y,z)=(%s,%s,%s)\" %(cpts[0][1],cpts[1][1],cpts[2][1]))\n",
    "       print(\"  ---\\n\")  \n",
    "       print(colored(\"  it could  be extremum.\", 'red') )\n",
    "          "
   ]
  },
  {
   "cell_type": "code",
   "execution_count": 6,
   "metadata": {},
   "outputs": [
    {
     "name": "stdout",
     "output_type": "stream",
     "text": [
      "\u001b[1m\u001b[34mFunction, x + y + z,\u001b[0m \u001b[1m\u001b[31m subject to -x**2 - y**2 - z**2 + 6 =0: \n",
      "\u001b[0m ===\n",
      "  1֯ ). f = x + y + z = -3*sqrt(2) at critical value (x,y,z)=(-sqrt(2),-sqrt(2),-sqrt(2))\n",
      "  2֯ ). f = x + y + z = 3*sqrt(2) at critical value (x,y,z)=(sqrt(2),sqrt(2),sqrt(2))\n",
      "  ---\n",
      "\n",
      "  Maximum on the boundary is 3*sqrt(2)\n",
      "  Minimum on the boundary is -3*sqrt(2)\n"
     ]
    }
   ],
   "source": [
    "g=x**2+y**2+z**2\n",
    "f=x+y+z\n",
    "cond1=6-g\n",
    "lagrangian(f,[x,y,z],[cond1])"
   ]
  },
  {
   "cell_type": "code",
   "execution_count": 7,
   "metadata": {},
   "outputs": [
    {
     "name": "stdout",
     "output_type": "stream",
     "text": [
      "\u001b[1m\u001b[34mFunction, x**2 + y**2 + z**2,\u001b[0m \u001b[1m\u001b[31m subject to -x - y - z + 12 =0: \n",
      "\u001b[0m ===\n",
      "  f= x**2 + y**2 + z**2 = 48\n",
      "\n",
      "  Only one critical found, (x,y,z)=(4,4,4)\n",
      "  ---\n",
      "\n",
      "\u001b[31m  it could  be extremum.\u001b[0m\n"
     ]
    }
   ],
   "source": [
    "cond2=12-f\n",
    "lagrangian(g,[x,y,z],[cond2])"
   ]
  },
  {
   "cell_type": "code",
   "execution_count": null,
   "metadata": {},
   "outputs": [],
   "source": []
  }
 ],
 "metadata": {
  "kernelspec": {
   "display_name": "Python 3",
   "language": "python",
   "name": "python3"
  },
  "language_info": {
   "codemirror_mode": {
    "name": "ipython",
    "version": 3
   },
   "file_extension": ".py",
   "mimetype": "text/x-python",
   "name": "python",
   "nbconvert_exporter": "python",
   "pygments_lexer": "ipython3",
   "version": "3.8.5"
  },
  "toc": {
   "colors": {
    "hover_highlight": "#DAA520",
    "navigate_num": "#000000",
    "navigate_text": "#333333",
    "running_highlight": "#FF0000",
    "selected_highlight": "#FFD700",
    "sidebar_border": "#EEEEEE",
    "wrapper_background": "#FFFFFF"
   },
   "moveMenuLeft": true,
   "nav_menu": {
    "height": "49px",
    "width": "252px"
   },
   "navigate_menu": true,
   "number_sections": true,
   "sideBar": true,
   "threshold": 4,
   "toc_cell": false,
   "toc_section_display": "block",
   "toc_window_display": false,
   "widenNotebook": false
  }
 },
 "nbformat": 4,
 "nbformat_minor": 1
}
