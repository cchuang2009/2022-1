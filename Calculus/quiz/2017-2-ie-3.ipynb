{
 "cells": [
  {
   "cell_type": "markdown",
   "metadata": {},
   "source": [
    "<big><big><div align=\"left\"><b><font size=\"+2\">Calculus, 2017-2-IE-3</font></b></div></big></big>\n",
    "\n",
    "<div align=\"left\"> Name: ______________________&nbsp;&nbsp;  \n",
    "    Sequence Number: __________________________</div>\n",
    "    (Due Time 80 minutes.)"
   ]
  },
  {
   "cell_type": "markdown",
   "metadata": {
    "collapsed": true
   },
   "source": [
    "<big>\n",
    "    <big><b>$1^\\circ$). </b> </big>\n",
    "Evaluate the following double integrals. (total 50%, each 25%) <br>\n",
    "\n",
    "a$^\\circ$). <big>$\\mathbf{\\iint\\limits_{\\{ (x, y)| 0\\le x,y \\text{ and } x+y\\le1\n",
    "  \\}} (x+y) d A}$: <br>\n",
    "</big> \n",
    "<br>\n",
    "\n",
    "b$^\\circ$). <big>$\\mathbf{\\iint\\limits_{\\{ (x, y) | 0\\le x,y \\text{ and } x^2+y^2\\le6\n",
    "  \\}} (x+y) d A}$: <br>\n",
    "</big> "
   ]
  },
  {
   "cell_type": "markdown",
   "metadata": {
    "collapsed": true
   },
   "source": [
    " "
   ]
  },
  {
   "cell_type": "markdown",
   "metadata": {
    "collapsed": true
   },
   "source": [
    " "
   ]
  },
  {
   "cell_type": "markdown",
   "metadata": {
    "collapsed": true
   },
   "source": [
    " "
   ]
  },
  {
   "cell_type": "markdown",
   "metadata": {
    "collapsed": true
   },
   "source": [
    " "
   ]
  },
  {
   "cell_type": "markdown",
   "metadata": {
    "collapsed": true
   },
   "source": [
    " "
   ]
  },
  {
   "cell_type": "markdown",
   "metadata": {
    "collapsed": true
   },
   "source": [
    " "
   ]
  },
  {
   "cell_type": "markdown",
   "metadata": {
    "collapsed": true
   },
   "source": [
    " "
   ]
  },
  {
   "cell_type": "markdown",
   "metadata": {
    "collapsed": true
   },
   "source": [
    " "
   ]
  },
  {
   "cell_type": "markdown",
   "metadata": {
    "collapsed": true
   },
   "source": [
    " "
   ]
  },
  {
   "cell_type": "markdown",
   "metadata": {
    "collapsed": true
   },
   "source": [
    " "
   ]
  },
  {
   "cell_type": "markdown",
   "metadata": {
    "collapsed": true
   },
   "source": [
    " "
   ]
  },
  {
   "cell_type": "markdown",
   "metadata": {
    "collapsed": true
   },
   "source": [
    " "
   ]
  },
  {
   "cell_type": "markdown",
   "metadata": {
    "collapsed": true
   },
   "source": [
    " "
   ]
  },
  {
   "cell_type": "markdown",
   "metadata": {
    "collapsed": true
   },
   "source": [
    " "
   ]
  },
  {
   "cell_type": "markdown",
   "metadata": {
    "collapsed": true
   },
   "source": [
    " "
   ]
  },
  {
   "cell_type": "markdown",
   "metadata": {
    "collapsed": true
   },
   "source": [
    " "
   ]
  },
  {
   "cell_type": "markdown",
   "metadata": {
    "collapsed": true
   },
   "source": [
    " "
   ]
  },
  {
   "cell_type": "markdown",
   "metadata": {
    "collapsed": true
   },
   "source": [
    " "
   ]
  },
  {
   "cell_type": "markdown",
   "metadata": {
    "collapsed": true
   },
   "source": [
    " "
   ]
  },
  {
   "cell_type": "markdown",
   "metadata": {
    "collapsed": true
   },
   "source": [
    " "
   ]
  },
  {
   "cell_type": "markdown",
   "metadata": {
    "collapsed": true
   },
   "source": [
    " "
   ]
  },
  {
   "cell_type": "markdown",
   "metadata": {
    "collapsed": true
   },
   "source": [
    " "
   ]
  },
  {
   "cell_type": "markdown",
   "metadata": {
    "collapsed": true
   },
   "source": [
    " "
   ]
  },
  {
   "cell_type": "markdown",
   "metadata": {
    "collapsed": true
   },
   "source": [
    " "
   ]
  },
  {
   "cell_type": "markdown",
   "metadata": {
    "collapsed": true
   },
   "source": [
    " "
   ]
  },
  {
   "cell_type": "markdown",
   "metadata": {
    "collapsed": true
   },
   "source": [
    " "
   ]
  },
  {
   "cell_type": "markdown",
   "metadata": {
    "collapsed": true
   },
   "source": [
    " "
   ]
  },
  {
   "cell_type": "markdown",
   "metadata": {
    "collapsed": true
   },
   "source": [
    " "
   ]
  },
  {
   "cell_type": "markdown",
   "metadata": {
    "collapsed": true
   },
   "source": [
    " "
   ]
  },
  {
   "cell_type": "markdown",
   "metadata": {
    "collapsed": true
   },
   "source": [
    " "
   ]
  },
  {
   "cell_type": "markdown",
   "metadata": {
    "collapsed": true
   },
   "source": [
    " "
   ]
  },
  {
   "cell_type": "markdown",
   "metadata": {
    "collapsed": true
   },
   "source": [
    " "
   ]
  },
  {
   "cell_type": "markdown",
   "metadata": {
    "collapsed": true
   },
   "source": [
    " "
   ]
  },
  {
   "cell_type": "markdown",
   "metadata": {
    "collapsed": true
   },
   "source": [
    " "
   ]
  },
  {
   "cell_type": "markdown",
   "metadata": {
    "collapsed": true
   },
   "source": [
    " "
   ]
  },
  {
   "cell_type": "markdown",
   "metadata": {
    "collapsed": true
   },
   "source": [
    " "
   ]
  },
  {
   "cell_type": "markdown",
   "metadata": {
    "collapsed": true
   },
   "source": [
    " "
   ]
  },
  {
   "cell_type": "markdown",
   "metadata": {
    "collapsed": true
   },
   "source": [
    " "
   ]
  },
  {
   "cell_type": "markdown",
   "metadata": {
    "collapsed": true
   },
   "source": [
    " "
   ]
  },
  {
   "cell_type": "markdown",
   "metadata": {
    "collapsed": true
   },
   "source": [
    " "
   ]
  },
  {
   "cell_type": "markdown",
   "metadata": {
    "collapsed": true
   },
   "source": [
    " "
   ]
  },
  {
   "cell_type": "markdown",
   "metadata": {
    "collapsed": true
   },
   "source": [
    " "
   ]
  },
  {
   "cell_type": "markdown",
   "metadata": {
    "collapsed": true
   },
   "source": [
    "<big>\n",
    "<big><b>$2^\\circ$).</b></big> Evaluate the following triple integrals. (total 50%, each 25%) \n",
    "\n",
    "a$^\\circ$). $\\mathbf{\\iiint_{\\left\\{ (x, y, z) \\in \\mathbb{R}^3  \\middle| x,y,z\\le0\\text{ and }x+2y+z\\ge-4  \n",
    "\\right\\}} (x+y+z) d V}$\n",
    "<br>\n",
    "b$^\\circ$). $\\mathbf{\\iiint_{\\left\\{ (x, y, z) \\in \\mathbb{R}^3  \\middle| x,y,z\\le0\\text{ and }x^2+(2y)^2+z^2\\le6 \n",
    "\\right\\}} \\frac{d V}{\\sqrt{x^2+4y^2+z^2}}}$\n",
    "<br>       \n",
    "</big> "
   ]
  },
  {
   "cell_type": "markdown",
   "metadata": {
    "collapsed": true
   },
   "source": [
    " "
   ]
  },
  {
   "cell_type": "markdown",
   "metadata": {
    "collapsed": true
   },
   "source": [
    " "
   ]
  },
  {
   "cell_type": "markdown",
   "metadata": {
    "collapsed": true
   },
   "source": [
    " "
   ]
  },
  {
   "cell_type": "markdown",
   "metadata": {
    "collapsed": true
   },
   "source": [
    " "
   ]
  },
  {
   "cell_type": "markdown",
   "metadata": {
    "collapsed": true
   },
   "source": [
    " "
   ]
  },
  {
   "cell_type": "markdown",
   "metadata": {
    "collapsed": true
   },
   "source": [
    " "
   ]
  },
  {
   "cell_type": "markdown",
   "metadata": {
    "collapsed": true
   },
   "source": [
    " "
   ]
  },
  {
   "cell_type": "markdown",
   "metadata": {
    "collapsed": true
   },
   "source": [
    " "
   ]
  },
  {
   "cell_type": "markdown",
   "metadata": {
    "collapsed": true
   },
   "source": [
    " "
   ]
  },
  {
   "cell_type": "markdown",
   "metadata": {
    "collapsed": true
   },
   "source": [
    " "
   ]
  },
  {
   "cell_type": "markdown",
   "metadata": {
    "collapsed": true
   },
   "source": [
    " "
   ]
  },
  {
   "cell_type": "markdown",
   "metadata": {},
   "source": [
    "Answer\n",
    "---\n",
    "**1. a)** \n",
    "$$\\mathbf{\n",
    "\\iint\\limits_{\\{ (x, y)| 0\\le x,y \\text{ and } x+y\\le1\\}} (x+y) d A\n",
    "= \\int_0^1 d x \\int_0^{1-x}(x+y)dy=1/3\n",
    "}$$"
   ]
  },
  {
   "cell_type": "markdown",
   "metadata": {},
   "source": [
    "**1. b)** \n",
    "$$\\mathbf{\n",
    "\\iint\\limits_{\\{ (x, y) | 0\\le x,y \\text{ and } x^2+y^2\\le6 \\}} (x+y) d A\n",
    "= \\int_0^{\\pi/2} d \\theta \\int_0^{\\sqrt6}r^2(\\cos\\theta+\\sin\\theta)dr=4\\sqrt6\n",
    "}$$"
   ]
  },
  {
   "cell_type": "markdown",
   "metadata": {},
   "source": [
    "**2. a)** \n",
    "$$\\mathbf{\n",
    "\\iiint_{\\left\\{ (x, y, z) \\in \\mathbb{R}^3  \\middle| x,y,z\\le0\\text{ and }x+2y+z\\ge-4  \\right\\}} (x+y+z) d V\n",
    "= \\int_{-2}^{0} d y \\int_{-4-2y}^0dx\\int^{0}_{-4-x-2y}(x+y+z)dz=-30/4\n",
    "}$$"
   ]
  },
  {
   "cell_type": "markdown",
   "metadata": {},
   "source": [
    "**2. b)** \n",
    "$$\\mathbf{\n",
    "\\iiint_{\\left\\{ (x, y, z) \\in \\mathbb{R}^3  \\middle| x,y,z\\le0\\text{ and }x^2+(2y)^2+z^2\\le6 \n",
    "\\right\\}} \\frac{d V}{\\sqrt{x^2+4y^2+z^2}}\n",
    "= \\frac{1}{2}\\cdot\\int_{\\pi/2}^{\\pi} d \\phi \\int_{\\pi}^{3\\pi/2}d\\theta\\int^{\\sqrt6}_{0}(\\rho\\sin\\phi)d\\rho=\\frac{3\\pi}{4}\n",
    "}$$"
   ]
  },
  {
   "cell_type": "code",
   "execution_count": 3,
   "metadata": {},
   "outputs": [],
   "source": [
    "from sympy import log,exp,cos,sin,diff,integrate,symbols,Matrix,sqrt,pi\n",
    "x,y,z=symbols(\"x y z\")\n",
    "r,t= symbols(\"r t\")"
   ]
  },
  {
   "cell_type": "code",
   "execution_count": 1,
   "metadata": {},
   "outputs": [],
   "source": [
    "\n",
    "from sympy import symbols,pprint,integrate,pi,sqrt,sin,cos,diff\n",
    "x,y,z=symbols(\"x y z\")\n",
    "\n",
    "W  = '\\033[0m'  # white (normal)\n",
    "K  = '\\033[30m' # black\n",
    "R  = '\\033[31m' # red\n",
    "G  = '\\033[32m' # green\n",
    "O  = '\\033[1;33m' # orange\n",
    "B  = '\\033[34m' # blue\n",
    "P  = '\\033[35m' # purple\n",
    "T =  '\\033[1;33;47m' #Title\n",
    "\n",
    "def doubleInt3(f,X,xr,yr):\n",
    "    Iy=integrate(f,[X[1],yr[0],yr[1]])\n",
    "    I=integrate(Iy,[X[0],xr[0],xr[1]])\n",
    "    #print(\"  %s \\t  %s\" %(xr[1],yr[1]))\n",
    "    yrs=str(yr[1])\n",
    "    xrs=' '+str(xr[1])\n",
    "    print(xrs.ljust(9,' ')+yrs)\n",
    "    print(\"ʃ   d\",R+'{}'.format(X[0]),K+\"ʃ \",B+\"{}\".format(f),K+\" d\",R+\"{}\".format(X[1]),K+\" = \",\"{}\".format(I)) \n",
    "    \n",
    "    yrs0=str(yr[0])\n",
    "    xrs0=str(xr[0])\n",
    "    print(xrs0.ljust(8,' ')+yrs0)\n",
    "    return I"
   ]
  },
  {
   "cell_type": "code",
   "execution_count": 12,
   "metadata": {},
   "outputs": [
    {
     "name": "stdout",
     "output_type": "stream",
     "text": [
      " 1       -x + 1\n",
      "ʃ   d \u001b[31mx \u001b[30mʃ  \u001b[34mx + y \u001b[30m d \u001b[31my \u001b[30m =  1/3\n",
      "0       0\n"
     ]
    }
   ],
   "source": [
    "# 1. a)\n",
    "f=x+y\n",
    "I=doubleInt3(f,[x,y],[0,1],[0,1-x])"
   ]
  },
  {
   "cell_type": "code",
   "execution_count": 4,
   "metadata": {},
   "outputs": [
    {
     "name": "stdout",
     "output_type": "stream",
     "text": [
      " pi/2    sqrt(6)\n",
      "ʃ   d \u001b[31mt \u001b[30mʃ  \u001b[34mr**2*(sin(t) + cos(t)) \u001b[30m d \u001b[31mr \u001b[30m =  4*sqrt(6)\n",
      "0       0\n"
     ]
    }
   ],
   "source": [
    "# 1. b)\n",
    "from sympy import pi,sqrt,sin,cos\n",
    "\n",
    "g=r*r*(cos(t)+sin(t))\n",
    "I=doubleInt3(g,[t,r],[0,pi/2],[0,sqrt(6)])"
   ]
  },
  {
   "cell_type": "markdown",
   "metadata": {},
   "source": [
    "<big>**2.**</big> "
   ]
  },
  {
   "cell_type": "code",
   "execution_count": 5,
   "metadata": {},
   "outputs": [],
   "source": [
    "def tripleInt3(f,X,xr,yr,zr):\n",
    "    Iz=integrate(f,[X[2],zr[0],zr[1]])\n",
    "    Iy=integrate(Iz,[X[1],yr[0],yr[1]])\n",
    "    Ix=integrate(Iy,[X[0],xr[0],xr[1]])\n",
    "    zrs=' '+str(zr[1])\n",
    "    yrs=str(yr[1])\n",
    "    xrs=' '+str(xr[1])\n",
    "    print(xrs.ljust(9,' ')+O+yrs.ljust(7,' ')+B+zrs)\n",
    "    #print(\"  %s \\t  %s  \\t  %s\" %(xr[1],yr[1],zr[1]))\n",
    "    print(\"ʃ   d\",R+'{}'.format(X[0]),\n",
    "        K+\"ʃ   d\",R+'{}'.format(X[1]),\n",
    "        K+\"ʃ \",B+\"{}\".format(f),K+\"  d\",R+\"{}\".format(X[2]),K+\" = \",\"{}\".format(Ix))   \n",
    "    zrs1=' '+str(zr[0])\n",
    "    yrs1=str(yr[0])\n",
    "    xrs1=' '+str(xr[0])\n",
    "    print(xrs1.ljust(8,' ')+O+yrs1.ljust(7,' ')+B+zrs1)\n",
    "    #print(\" %s \\t %s  \\t %s\" %(xr[0],yr[0],zr[0]))\n",
    "    return Ix"
   ]
  },
  {
   "cell_type": "code",
   "execution_count": 7,
   "metadata": {},
   "outputs": [
    {
     "name": "stdout",
     "output_type": "stream",
     "text": [
      " 0       \u001b[1;33m0      \u001b[34m 0\n",
      "ʃ   d \u001b[31my \u001b[30mʃ   d \u001b[31mx \u001b[30mʃ  \u001b[34mx + y + z \u001b[30m  d \u001b[31mz \u001b[30m =  -40/3\n",
      " -2     \u001b[1;33m-2*y - 4\u001b[34m -x - 2*y - 4\n"
     ]
    },
    {
     "data": {
      "text/plain": [
       "-40/3"
      ]
     },
     "execution_count": 7,
     "metadata": {},
     "output_type": "execute_result"
    }
   ],
   "source": [
    "#2. a)\n",
    "tripleInt3(x+y+z,[y,x,z],[-2,0],[-4-2*y,0],[-4-2*y-x,0])"
   ]
  },
  {
   "cell_type": "code",
   "execution_count": 6,
   "metadata": {},
   "outputs": [
    {
     "name": "stdout",
     "output_type": "stream",
     "text": [
      " sqrt(6) \u001b[1;33m3*pi/2 \u001b[34m pi\n",
      "ʃ   d \u001b[31mr \u001b[30mʃ   d \u001b[31mt \u001b[30mʃ  \u001b[34mr*sin(p)/2 \u001b[30m  d \u001b[31mp \u001b[30m =  3*pi/4\n",
      " 0      \u001b[1;33mpi     \u001b[34m pi/2\n"
     ]
    },
    {
     "data": {
      "text/plain": [
       "3*pi/4"
      ]
     },
     "execution_count": 6,
     "metadata": {},
     "output_type": "execute_result"
    }
   ],
   "source": [
    "#2. b)\n",
    "r,t,p=symbols(\"r t p\")\n",
    "h=r*sin(p)/2\n",
    "tripleInt3(h,[r,t,p],[0,sqrt(6)],[pi,3*pi/2],[pi/2,pi])"
   ]
  },
  {
   "cell_type": "code",
   "execution_count": null,
   "metadata": {
    "collapsed": true
   },
   "outputs": [],
   "source": []
  }
 ],
 "metadata": {
  "kernelspec": {
   "display_name": "Python 3",
   "language": "python",
   "name": "python3"
  },
  "language_info": {
   "codemirror_mode": {
    "name": "ipython",
    "version": 3
   },
   "file_extension": ".py",
   "mimetype": "text/x-python",
   "name": "python",
   "nbconvert_exporter": "python",
   "pygments_lexer": "ipython3",
   "version": "3.8.5"
  },
  "toc": {
   "colors": {
    "hover_highlight": "#DAA520",
    "navigate_num": "#000000",
    "navigate_text": "#333333",
    "running_highlight": "#FF0000",
    "selected_highlight": "#FFD700",
    "sidebar_border": "#EEEEEE",
    "wrapper_background": "#FFFFFF"
   },
   "moveMenuLeft": true,
   "nav_menu": {
    "height": "84px",
    "width": "252px"
   },
   "navigate_menu": true,
   "number_sections": true,
   "sideBar": true,
   "threshold": 4,
   "toc_cell": false,
   "toc_section_display": "block",
   "toc_window_display": false,
   "widenNotebook": false
  }
 },
 "nbformat": 4,
 "nbformat_minor": 1
}
