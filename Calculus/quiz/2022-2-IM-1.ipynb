{
 "cells": [
  {
   "cell_type": "markdown",
   "metadata": {},
   "source": [
    "<big><big><b><div align=\"center\">Mathematics for Management, 2022-2-IM-1</div></b></big></big>\n",
    "\n",
    "<h3><div align=\"left\">Name:&nbsp;&nbsp;&nbsp;&nbsp;&nbsp;&nbsp;&nbsp;&nbsp;&nbsp;&nbsp;&nbsp;&nbsp;&nbsp;&nbsp;&nbsp;&nbsp;&nbsp;&nbsp;&nbsp;&nbsp;&nbsp;&nbsp;&nbsp;&nbsp;  Sequence Number:&nbsp;&nbsp;&nbsp;&nbsp;&nbsp;&nbsp;&nbsp;&nbsp;&nbsp;&nbsp;&nbsp;&nbsp;&nbsp;&nbsp;&nbsp;&nbsp;&nbsp;&nbsp;&nbsp;&nbsp;&nbsp;&nbsp;&nbsp;&nbsp;</div></h3>"
   ]
  },
  {
   "cell_type": "markdown",
   "metadata": {
    "collapsed": true
   },
   "source": [
    "<big>\n",
    "    <big>\n",
    " Consider the follows the linear systems:\n",
    "       \n",
    "\\begin{eqnarray}\n",
    "    -2x-4y+2z&=&b_1\\\\\n",
    "    -2x+y+2z&=&b_2\\\\\n",
    "    4x+2y+5z&=&b_3    \n",
    "\\end{eqnarray}        \n",
    "And the system could be displayed as follows:\n",
    "$$ A_{3\\times3}\\vec X_{3\\times1}=\\vec b_{3\\times1}$$\n",
    "where \n",
    "\n",
    "$$\\vec b_{3\\times1}=\\left(\\begin{array}{c}\n",
    "    b_1 \\\\\n",
    "    b_2 \\\\\n",
    "    b_3 \\\\\n",
    "  \\end{array}\\right),\n",
    "  \\vec X_{3\\times1}=\\left(\\begin{array}{c}\n",
    "    x \\\\\n",
    "    y \\\\\n",
    "    z \\\\\n",
    "  \\end{array}\\right)\n",
    "  $$ \n",
    "and \n",
    "</big>\n",
    "<b>a$^\\circ$). (10%)</b>  What is $A_{3\\times3}$?<br>\n",
    "<b>b$^\\circ$). (15%)</b>  Calculate $1^\\circ)$ the transpose of $A_{3\\times3}$, i.e. $A_{3\\times3}^T$ and $2^\\circ)$ determinant of $A_{3\\times3}$, $\\det(A_{3\\times3})$, and $3^\\circ)$ trace of $A_{3\\times3}$, tr$(A_{3\\times3})$.<br>\n",
    "<b>c$^\\circ$). (15%)</b>  If  $A_{3\\times3}=S_{3\\times3}+P_{3\\times3}$ where matrices, $S_{3\\times3}, P_{3\\times3}$, are symmetry and anti-symmetry respectively. What are $S_{3\\times3}, P_{3\\times3}$? Also evaluate the differnce of matricies, $S_{3\\times3}- P_{3\\times3}$<br>\n",
    "<b>d$^\\circ$). (10%)</b>  Solve $\\vec X_{3\\times1}$ if $A_{3\\times3}\\vec X_{3\\times1}=[2,-1,11]^T$.<br>\n",
    "<b>e$^\\circ$). (30%)</b>  Suppose that $\\lambda_1<\\lambda_2<\\lambda_3$ are eigenvations of $A$ with eigenvectors,\n",
    "$\\vec v_1, \\vec v_2, \\vec v_3$, respectively. Then find out $\\lambda_1,\\lambda_2,\\lambda_3$ and $\\vec v_1, \\vec v_2, \\vec v_3$.<br>\n",
    "<b>f$^\\circ$). (10%)</b>  (Continued) Suppose that $Q_{3\\times3}=[\\vec v_1, \\vec v_2, \\vec v_3]$. Calculate $Q^{-1}$ and $Q^{-1}AQ$.<br>\n",
    "<b>g$^\\circ$). (10%)</b>  Find the characteristic function of $A_{3\\times3}$, $\\triangle(\\lambda)$, i.e. det$( A_{3\\times3}-\\lambda I_3)$. Also calculate third power of $A,A^{3}$.\n",
    "<br>\n",
    "   \n",
    "</big> "
   ]
  },
  {
   "cell_type": "markdown",
   "metadata": {
    "collapsed": true
   },
   "source": [
    " "
   ]
  },
  {
   "cell_type": "markdown",
   "metadata": {
    "collapsed": true
   },
   "source": [
    " "
   ]
  },
  {
   "cell_type": "markdown",
   "metadata": {
    "collapsed": true
   },
   "source": [
    " "
   ]
  },
  {
   "cell_type": "markdown",
   "metadata": {
    "collapsed": true
   },
   "source": [
    " "
   ]
  },
  {
   "cell_type": "markdown",
   "metadata": {
    "collapsed": true
   },
   "source": [
    " "
   ]
  },
  {
   "cell_type": "markdown",
   "metadata": {
    "collapsed": true
   },
   "source": [
    " "
   ]
  },
  {
   "cell_type": "markdown",
   "metadata": {
    "collapsed": true
   },
   "source": [
    " "
   ]
  },
  {
   "cell_type": "markdown",
   "metadata": {
    "collapsed": true
   },
   "source": [
    " "
   ]
  },
  {
   "cell_type": "markdown",
   "metadata": {
    "collapsed": true
   },
   "source": [
    " "
   ]
  },
  {
   "cell_type": "markdown",
   "metadata": {
    "collapsed": true
   },
   "source": [
    " "
   ]
  },
  {
   "cell_type": "markdown",
   "metadata": {
    "collapsed": true
   },
   "source": [
    " "
   ]
  },
  {
   "cell_type": "markdown",
   "metadata": {
    "collapsed": true
   },
   "source": [
    " "
   ]
  },
  {
   "cell_type": "markdown",
   "metadata": {
    "collapsed": true
   },
   "source": [
    " "
   ]
  },
  {
   "cell_type": "markdown",
   "metadata": {
    "collapsed": true
   },
   "source": [
    " "
   ]
  },
  {
   "cell_type": "markdown",
   "metadata": {
    "collapsed": true
   },
   "source": [
    " "
   ]
  },
  {
   "cell_type": "markdown",
   "metadata": {
    "collapsed": true
   },
   "source": [
    " "
   ]
  },
  {
   "cell_type": "markdown",
   "metadata": {
    "collapsed": true
   },
   "source": [
    " "
   ]
  },
  {
   "cell_type": "markdown",
   "metadata": {
    "collapsed": true
   },
   "source": [
    " "
   ]
  },
  {
   "cell_type": "markdown",
   "metadata": {
    "collapsed": true
   },
   "source": [
    " "
   ]
  },
  {
   "cell_type": "markdown",
   "metadata": {
    "collapsed": true
   },
   "source": [
    " "
   ]
  },
  {
   "cell_type": "markdown",
   "metadata": {
    "collapsed": true
   },
   "source": [
    " "
   ]
  },
  {
   "cell_type": "markdown",
   "metadata": {
    "collapsed": true
   },
   "source": [
    " "
   ]
  },
  {
   "cell_type": "markdown",
   "metadata": {
    "collapsed": true
   },
   "source": [
    " "
   ]
  },
  {
   "cell_type": "markdown",
   "metadata": {
    "collapsed": true
   },
   "source": [
    "**Answer**\n",
    "a).\n",
    "$$A=\\left(\\begin{array}{ccc}\n",
    "    -2& -4 & 2 \\\\\n",
    "    -2& 1 & 2 \\\\\n",
    "    4&2 & 5 \\\\\n",
    "  \\end{array}\\right)\n",
    "$$\n",
    "b. $$A^T=\\left(\\begin{array}{ccc}\n",
    "    -2& -2 & 4 \\\\\n",
    "    -4& 1 & 2 \\\\\n",
    "    2&2 & 5 \\\\\n",
    "  \\end{array}\\right),\\det(A)=-90,\\text{tr}(A)=4\n",
    "$$  \n",
    "c. $S = \\left(\\begin{array}{ccc}\n",
    "    -2& -3 & 3 \\\\\n",
    "    -3&1 & 2 \\\\\n",
    "    3& 2 & 5 \\\\\n",
    "  \\end{array}\\right)\n",
    "  P = \\left(\\begin{array}{ccc}\n",
    "    0& -1 & -1 \\\\\n",
    "    1&0 & 0 \\\\\n",
    "    1& 0 & 0 \\\\\n",
    "  \\end{array}\\right)\n",
    "  S-P=\\left(\\begin{array}{ccc}\n",
    "    -2& -2 & 4 \\\\\n",
    "    -4&1 & 2 \\\\\n",
    "    2& 2 & 5 \\\\\n",
    "  \\end{array}\\right)\n",
    "$\n",
    "\n",
    "\n",
    "d. $$\\vec x=\\left(\\begin{array}{c}\n",
    "    2 \\\\\n",
    "    -1 \\\\\n",
    "    1 \\\\\n",
    "  \\end{array}\\right)\n",
    "$$ \n",
    "\n",
    "e. \n",
    "$$ \\lambda_1,\\lambda_2,\\lambda_2=-5,3,6,\n",
    "\\vec v_1=\\left(\\begin{array}{c}\n",
    "    2 \\\\\n",
    "    1 \\\\\n",
    "    -1 \\\\\n",
    "  \\end{array}\\right),\\vec v_2=\\left(\\begin{array}{c}\n",
    "    2 \\\\\n",
    "    -3 \\\\\n",
    "    -1 \\\\\n",
    "  \\end{array}\\right),\\vec v_3=\\left(\\begin{array}{c}\n",
    "    1 \\\\\n",
    "    6 \\\\\n",
    "    16 \\\\\n",
    "  \\end{array}\\right)\n",
    "$$\n",
    "f. $$Q^{-1}=\\frac{-1}{132}\\left(\\begin{array}{ccc}\n",
    "    -42& -33 & 15 \\\\\n",
    "    -22&33 & -11 \\\\\n",
    "    -4&0 & -8 \\\\\n",
    "  \\end{array}\\right),Q^{-1}A Q=\\left(\\begin{array}{ccc}\n",
    "    -5& 0 & 0 \\\\\n",
    "    0&3 & 0 \\\\\n",
    "    0&0 & 6 \\\\\n",
    "  \\end{array}\\right)\n",
    "$$  \n",
    "\n",
    "g. $\\triangle(\\lambda)=\\lambda^3-4\\lambda^2-27\\lambda+90, A^3=\\left(\\begin{array}{ccc}\n",
    "    -64& -76 & 46 \\\\\n",
    "    -14&-11 & 86 \\\\\n",
    "    140&38 & 193 \\\\\n",
    "  \\end{array}\\right)$"
   ]
  },
  {
   "cell_type": "code",
   "execution_count": null,
   "metadata": {},
   "outputs": [],
   "source": []
  },
  {
   "cell_type": "code",
   "execution_count": null,
   "metadata": {},
   "outputs": [],
   "source": []
  },
  {
   "cell_type": "code",
   "execution_count": null,
   "metadata": {},
   "outputs": [],
   "source": []
  },
  {
   "cell_type": "code",
   "execution_count": null,
   "metadata": {},
   "outputs": [],
   "source": []
  },
  {
   "cell_type": "code",
   "execution_count": null,
   "metadata": {},
   "outputs": [],
   "source": []
  },
  {
   "cell_type": "code",
   "execution_count": null,
   "metadata": {},
   "outputs": [],
   "source": []
  },
  {
   "cell_type": "code",
   "execution_count": 40,
   "metadata": {},
   "outputs": [],
   "source": [
    "from scipy.linalg import inv,solve,det,eig\n",
    "import numpy as np"
   ]
  },
  {
   "cell_type": "code",
   "execution_count": 34,
   "metadata": {},
   "outputs": [],
   "source": [
    "A = np.array([[-2, -4,2], [-2, 1,2],[4,2,5]])\n",
    "b = np.array([[2],[-3],[11]])"
   ]
  },
  {
   "cell_type": "code",
   "execution_count": 44,
   "metadata": {},
   "outputs": [
    {
     "data": {
      "text/plain": [
       "(array([[-2., -3.,  3.],\n",
       "        [-3.,  1.,  2.],\n",
       "        [ 3.,  2.,  5.]]),\n",
       " array([[ 0., -1., -1.],\n",
       "        [ 1.,  0.,  0.],\n",
       "        [ 1.,  0.,  0.]]))"
      ]
     },
     "execution_count": 44,
     "metadata": {},
     "output_type": "execute_result"
    }
   ],
   "source": [
    "S=(A+A.T)/2\n",
    "P=(A-A.T)/2\n",
    "S,P"
   ]
  },
  {
   "cell_type": "code",
   "execution_count": 35,
   "metadata": {},
   "outputs": [
    {
     "data": {
      "text/plain": [
       "array([[ 2.],\n",
       "       [-1.],\n",
       "       [ 1.]])"
      ]
     },
     "execution_count": 35,
     "metadata": {},
     "output_type": "execute_result"
    }
   ],
   "source": [
    "solve(A,b)"
   ]
  },
  {
   "cell_type": "code",
   "execution_count": 12,
   "metadata": {},
   "outputs": [
    {
     "data": {
      "text/plain": [
       "array([[1, 0, 9],\n",
       "       [0, 1, 3],\n",
       "       [0, 0, 4]])"
      ]
     },
     "execution_count": 12,
     "metadata": {},
     "output_type": "execute_result"
    }
   ],
   "source": [
    "A@A"
   ]
  },
  {
   "cell_type": "code",
   "execution_count": 24,
   "metadata": {},
   "outputs": [
    {
     "data": {
      "text/plain": [
       "array([-5.,  3.,  6.])"
      ]
     },
     "execution_count": 24,
     "metadata": {},
     "output_type": "execute_result"
    }
   ],
   "source": [
    "eigenvals,eigenvecs=eig(A)\n",
    "eigenvals.real"
   ]
  },
  {
   "cell_type": "code",
   "execution_count": 27,
   "metadata": {},
   "outputs": [
    {
     "data": {
      "text/plain": [
       "array([-5.,  3.,  6.])"
      ]
     },
     "execution_count": 27,
     "metadata": {},
     "output_type": "execute_result"
    }
   ],
   "source": [
    "np.sort(eigenvals.real)"
   ]
  },
  {
   "cell_type": "code",
   "execution_count": 26,
   "metadata": {},
   "outputs": [
    {
     "data": {
      "text/plain": [
       "array([[ 0.81649658,  0.53452248,  0.05842062],\n",
       "       [ 0.40824829, -0.80178373,  0.35052374],\n",
       "       [-0.40824829, -0.26726124,  0.93472998]])"
      ]
     },
     "execution_count": 26,
     "metadata": {},
     "output_type": "execute_result"
    }
   ],
   "source": [
    "Q=eigenvecs\n",
    "Q  "
   ]
  },
  {
   "cell_type": "markdown",
   "metadata": {},
   "source": [
    "$$\\lambda_1=-5, \\vec v_1=\\left(\\begin{array}{c}\n",
    "    2 \\\\\n",
    "    1 \\\\\n",
    "    -1 \\\\\n",
    "  \\end{array}\\right),\n",
    "  \\lambda_2=3, \\vec v_2=\\left(\\begin{array}{c}\n",
    "    2 \\\\\n",
    "    -3 \\\\\n",
    "    -1 \\\\\n",
    "  \\end{array}\\right),\n",
    "  \\lambda_3=6, \\vec v_3=\\left(\\begin{array}{c}\n",
    "    1 \\\\\n",
    "    6 \\\\\n",
    "    16 \\\\\n",
    "  \\end{array}\\right),  \n",
    "  $$\n",
    "  $$Q=[\\vec v_1,\\vec v_2,\\vec v_3]=\\left(\\begin{array}{ccc}\n",
    "    2 &2 &1 \\\\\n",
    "    1 &-3  &6\\\\\n",
    "    -1 &-1 &16\\\\\n",
    "  \\end{array}\\right)\n",
    "  $$"
   ]
  },
  {
   "cell_type": "code",
   "execution_count": 45,
   "metadata": {},
   "outputs": [
    {
     "data": {
      "text/plain": [
       "array([[ 0.31818182,  0.25      , -0.11363636],\n",
       "       [ 0.16666667, -0.25      ,  0.08333333],\n",
       "       [ 0.03030303,  0.        ,  0.06060606]])"
      ]
     },
     "execution_count": 45,
     "metadata": {},
     "output_type": "execute_result"
    }
   ],
   "source": [
    "Q = np.array([[2, 2,1], [1, -3,6],[-1,-1,16]])\n",
    "Q1=inv(Q)\n",
    "Q1"
   ]
  },
  {
   "cell_type": "code",
   "execution_count": 48,
   "metadata": {},
   "outputs": [
    {
     "data": {
      "text/plain": [
       "(-132.0,\n",
       " array([[-42., -33.,  15.],\n",
       "        [-22.,  33., -11.],\n",
       "        [ -4.,  -0.,  -8.]]))"
      ]
     },
     "execution_count": 48,
     "metadata": {},
     "output_type": "execute_result"
    }
   ],
   "source": [
    "det(Q),det(Q)*Q1"
   ]
  },
  {
   "cell_type": "code",
   "execution_count": 31,
   "metadata": {},
   "outputs": [
    {
     "data": {
      "text/plain": [
       "array([[-5.00000000e+00,  3.33066907e-16, -1.77635684e-15],\n",
       "       [-1.11022302e-16,  3.00000000e+00,  1.77635684e-15],\n",
       "       [ 0.00000000e+00,  0.00000000e+00,  6.00000000e+00]])"
      ]
     },
     "execution_count": 31,
     "metadata": {},
     "output_type": "execute_result"
    }
   ],
   "source": [
    "Q1.dot(A).dot(Q)"
   ]
  },
  {
   "cell_type": "code",
   "execution_count": 4,
   "metadata": {},
   "outputs": [],
   "source": [
    "Q=np.array([[1, 1, 3],\n",
    "       [-1, 0, 1],\n",
    "       [0, 0, 1]])"
   ]
  },
  {
   "cell_type": "code",
   "execution_count": 9,
   "metadata": {},
   "outputs": [
    {
     "data": {
      "text/plain": [
       "array([[ 0., -1.,  1.],\n",
       "       [ 1.,  1., -4.],\n",
       "       [ 0.,  0.,  1.]])"
      ]
     },
     "execution_count": 9,
     "metadata": {},
     "output_type": "execute_result"
    }
   ],
   "source": [
    "Q1=inv(Q)\n",
    "Q1"
   ]
  },
  {
   "cell_type": "code",
   "execution_count": 36,
   "metadata": {},
   "outputs": [
    {
     "data": {
      "text/plain": [
       "array([[-64, -76,  46],\n",
       "       [-14, -11,  86],\n",
       "       [140,  38, 193]])"
      ]
     },
     "execution_count": 36,
     "metadata": {},
     "output_type": "execute_result"
    }
   ],
   "source": [
    "A@A@A"
   ]
  },
  {
   "cell_type": "code",
   "execution_count": null,
   "metadata": {},
   "outputs": [],
   "source": []
  }
 ],
 "metadata": {
  "hide_input": false,
  "kernelspec": {
   "display_name": "Python 3",
   "language": "python",
   "name": "python3"
  },
  "language_info": {
   "codemirror_mode": {
    "name": "ipython",
    "version": 3
   },
   "file_extension": ".py",
   "mimetype": "text/x-python",
   "name": "python",
   "nbconvert_exporter": "python",
   "pygments_lexer": "ipython3",
   "version": "3.8.5"
  },
  "toc": {
   "colors": {
    "hover_highlight": "#DAA520",
    "navigate_num": "#000000",
    "navigate_text": "#333333",
    "running_highlight": "#FF0000",
    "selected_highlight": "#FFD700",
    "sidebar_border": "#EEEEEE",
    "wrapper_background": "#FFFFFF"
   },
   "moveMenuLeft": true,
   "nav_menu": {
    "height": "49px",
    "width": "252px"
   },
   "navigate_menu": true,
   "number_sections": true,
   "sideBar": true,
   "threshold": 4,
   "toc_cell": false,
   "toc_section_display": "block",
   "toc_window_display": false,
   "widenNotebook": false
  }
 },
 "nbformat": 4,
 "nbformat_minor": 1
}
