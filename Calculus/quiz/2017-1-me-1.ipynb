{
 "cells": [
  {
   "cell_type": "markdown",
   "metadata": {},
   "source": [
    "# <div align=\"center\">Calculus, 2017-1-ME-1</div>\n",
    "\n",
    "<h3><div align=\"right\">Name:&nbsp;&nbsp;&nbsp;&nbsp;&nbsp;&nbsp;&nbsp;&nbsp;&nbsp;&nbsp;&nbsp;&nbsp;&nbsp;&nbsp;&nbsp;&nbsp;&nbsp;&nbsp;&nbsp;&nbsp;  Sequence Number:&nbsp;&nbsp;&nbsp;&nbsp;&nbsp;&nbsp;&nbsp;&nbsp;&nbsp;&nbsp;&nbsp;&nbsp;&nbsp;&nbsp;&nbsp;&nbsp;&nbsp;&nbsp;&nbsp;&nbsp;&nbsp;&nbsp;&nbsp;&nbsp;</div></h3>\n"
   ]
  },
  {
   "cell_type": "markdown",
   "metadata": {
    "collapsed": true
   },
   "source": [
    "<big>\n",
    "<big><b>1$^\\circ$). </b> </big>\n",
    "Find the following limits: (total 10%, each 5%) <br>\n",
    "a$^\\circ$). $\\mathbf{\\lim\\limits_{\\theta\\to0}\\frac{\\tan2 \\theta }{\\theta}}$\n",
    "\n",
    "b$^\\circ$). $\\mathbf{\\lim\\limits_{x\\to1}\\frac{\\sqrt{x+1}-\\sqrt2}{x-1}}$ (Hint: Consider the derivative of $\\mathbf{\\sqrt{x+1}}$).\n",
    "</big> "
   ]
  },
  {
   "cell_type": "markdown",
   "metadata": {},
   "source": [
    "<big>\n",
    "<big><b>2$^\\circ$).</b></big>\n",
    "Evaluate the following derivatives of given functions: (total 30%, each 5% ($\\color{brown}{\\times6}$))<br />\n",
    "a$^\\circ$). $\\mathbf{\\left[\\left(\\frac{x^2-x^{-2}}{x}\\right)^{2} \\right]' }$\n",
    "b$^\\circ$). $\\mathbf{\\left[\\sqrt{\\left(\\frac{1}{x}\\right) } \\right]'}$\n",
    "c$^\\circ$). $\\mathbf{\\left[x \\tan x \\right]'}$\n",
    "d$^\\circ$). $\\mathbf{\\left[\\frac{2-x}{2x+1} \\right]'}$\n",
    "<br />\n",
    "e$^\\circ$). $\\mathbf{\\left.\\frac{d }{dx}(-\\frac{3}{4}x^4-2x^3+5x-6)\\right|_{x=-1} }$\n",
    "f$^\\circ$). $\\mathbf{\\frac{d }{dx}\\left( \\frac{1-\\sin x}{\\cos x}\\right)}$\n",
    "g$^\\circ$). $\\mathbf{D_x\\left((\\sin x)^3\\right)}$<br />\n",
    "\n",
    "</big> "
   ]
  },
  {
   "cell_type": "markdown",
   "metadata": {},
   "source": [
    "<big>\n",
    "<big><b>3$^\\circ$).</b></big>\n",
    "Find the values of $\\mathbf{A,B}$ such that the following function is continuous and differentiable at $\\mathbf{x=0}$: (total 10%)<br />\n",
    "\n",
    "$$\\mathbf{f (x) = \\left\\{ \\begin{array}{l}\n",
    "       x^2 \\text{, if } x \\le 0,\\\\\n",
    "       Ax+B, \\text{ if } x > 0\n",
    "     \\end{array} \\right. }$$\n",
    "</big> "
   ]
  },
  {
   "cell_type": "markdown",
   "metadata": {
    "collapsed": true
   },
   "source": [
    "<big>\n",
    "<big><b>4$^\\circ$).</b> </big>(total 10%)</font><br>\n",
    " \n",
    "Suppose that \n",
    "$$ \\mathbf{f(x)=x^3\\sin 2x}$$\n",
    "Find the third derivative of $\\mathbf{f(x)}$,  $\\mathbf{f'''(x)}$.\n",
    " \n",
    "</big> "
   ]
  },
  {
   "cell_type": "markdown",
   "metadata": {
    "collapsed": true
   },
   "source": [
    "<big>\n",
    "<big><b>5$^\\circ$).</b> </big>(total 10%)<br>\n",
    "Suppose that $x,y\\in\\mathbb{R}$ satisfy:\n",
    "$$\\mathbf{ \\frac{x-y}{x+y}=x^2+1}$$\n",
    "Find the derivative of $y$ (10%)\n",
    "</big> "
   ]
  },
  {
   "cell_type": "markdown",
   "metadata": {
    "collapsed": true
   },
   "source": [
    "<big>\n",
    "<big><b>6$^\\circ$).</b></big> (20%)\n",
    "Suppose that  $\\mathbf{f (t) =15t^{2/3}-3t^{5/3}}$ for all $\\mathbf{t\\in \\mathbb{R}}$. <br>\n",
    "a$^\\circ$). (5%) Find all the critical values of $\\mathbf{f(t)}$.<br>\n",
    "b$^\\circ$). (5%) Determine the interval at which  $\\mathbf{f(t)}$ is increasing and concave downward.<br>  \n",
    "c$^\\circ$). (5%) Find all the relative extreme values of $\\mathbf{f (t)}$ if any. <br>\n",
    "d$^\\circ$). (5%) Plot the graph of  $\\mathbf{f (t)}$.     \n",
    "</big> "
   ]
  },
  {
   "cell_type": "markdown",
   "metadata": {
    "collapsed": true
   },
   "source": [
    "<big>\n",
    "<big><b>7$^\\circ$).</b></big> (total 10%, each 5%) Describe the following Theorems:<br>\n",
    "a$^\\circ$). Rolle's Theorem <br>\n",
    "b$^\\circ$). Mean Vaule Theorem. \n",
    "</big> "
   ]
  },
  {
   "cell_type": "raw",
   "metadata": {
    "collapsed": true
   },
   "source": [
    "            √2\n",
    " 1. a) 2 b) ──\n",
    "             4 \n",
    " 2. \n",
    "    a) ⎛    6 ⎞ ⎛    1 ⎞\n",
    "       ⎜2 + ──⎟⋅⎜x - ──⎟\n",
    "       ⎜     4⎟ ⎜     3⎟\n",
    "       ⎝    x ⎠ ⎝    x ⎠\n",
    " \n",
    "    b)       -3/2\n",
    "            x    /2\n",
    " \n",
    "    c) \n",
    "             2               \n",
    "        x⋅sec (x)  + tan(x)\n",
    "    d)  \n",
    "          2⋅(-x + 2)      1   \n",
    "       - ────────── - ───────\n",
    "                   2   2⋅x + 1\n",
    "          (2⋅x + 1)           \n",
    "    e) 2\n",
    "    f)              2\n",
    "       (1-sin x)/cos x\n",
    "    \n",
    "    g)       2          \n",
    "        3⋅sin (x)⋅cos(x)  \n",
    "    \n",
    "    \n",
    " \n",
    " 3. A=0, B=0\n",
    " \n",
    " 4.      3               2                                    \n",
    "    - 8⋅x ⋅cos(2⋅x) - 36⋅x ⋅sin(2⋅x) + 36⋅x⋅cos(2⋅x) + 6⋅sin(2⋅x)\n",
    "   \n",
    " 5.   ( y'(x) = -x**2 - 2*x*y(x) - y(x)**2 + y(x) )/x\n",
    " 6. \n",
    "   a), 0,2\n",
    "   b) at [0,2]\n",
    "   c)                                                     2/3\n",
    "       relative minimum f(0)=0, relative maximaum f(2)=9⋅2\n",
    "   d)\n",
    "   \n",
    "   \n",
    "   \n",
    "   \n",
    "   \n",
    "   \n",
    "   \n",
    "   \n",
    "   \n",
    "   \n",
    "   \n",
    "   \n",
    "   \n",
    "   "
   ]
  },
  {
   "cell_type": "markdown",
   "metadata": {
    "collapsed": true
   },
   "source": [
    "Answer\n",
    "---"
   ]
  },
  {
   "cell_type": "code",
   "execution_count": 2,
   "metadata": {},
   "outputs": [],
   "source": [
    "from sympy import symbols, pprint,limit,diff,sin,tan,sqrt,cos,solve,Derivative,Function,floor"
   ]
  },
  {
   "cell_type": "code",
   "execution_count": 4,
   "metadata": {},
   "outputs": [],
   "source": [
    "x,t =symbols(\"x t\")"
   ]
  },
  {
   "cell_type": "code",
   "execution_count": 5,
   "metadata": {},
   "outputs": [
    {
     "name": "stdout",
     "output_type": "stream",
     "text": [
      "1. a) The limit of tan(2t)/(t)) at t=0, is:\n",
      "2\n"
     ]
    }
   ],
   "source": [
    "# 1. a)\n",
    "print(\"1. a) The limit of tan(2t)/(t)) at t=0, is:\")\n",
    "pprint(limit(tan(2*t)/(t),t,0))"
   ]
  },
  {
   "cell_type": "code",
   "execution_count": 7,
   "metadata": {},
   "outputs": [
    {
     "name": "stdout",
     "output_type": "stream",
     "text": [
      "1. b) The derivative of sqrt(x+1) at x=1,, is:\n",
      "√2\n",
      "──\n",
      "4 \n"
     ]
    }
   ],
   "source": [
    "#1. b)\n",
    "print(\"1. b) The derivative of sqrt(x+1) at x=1,, is:\")\n",
    "pprint(limit((sqrt(x+1)-sqrt(2))/(x-1),x,1))"
   ]
  },
  {
   "cell_type": "code",
   "execution_count": 9,
   "metadata": {},
   "outputs": [
    {
     "name": "stdout",
     "output_type": "stream",
     "text": [
      "2. a) The derivatice of (x^2-x^{-2})^2/x, is:\n",
      "                                  2\n",
      "⎛      4 ⎞ ⎛ 2   1 ⎞     ⎛ 2   1 ⎞ \n",
      "⎜4⋅x + ──⎟⋅⎜x  - ──⎟   2⋅⎜x  - ──⎟ \n",
      "⎜       3⎟ ⎜      2⎟     ⎜      2⎟ \n",
      "⎝      x ⎠ ⎝     x ⎠     ⎝     x ⎠ \n",
      "──────────────────── - ────────────\n",
      "          2                  3     \n",
      "         x                  x      \n"
     ]
    }
   ],
   "source": [
    "#2. a)\n",
    "print(\"2. a) The derivatice of (x^2-x^{-2})^2/x, is:\")\n",
    "pprint(diff(((-x**(-2)+x*x)/x)**2,x))"
   ]
  },
  {
   "cell_type": "code",
   "execution_count": 16,
   "metadata": {},
   "outputs": [
    {
     "name": "stdout",
     "output_type": "stream",
     "text": [
      "2. b) The derivatice of (2+x^2)^(1/2)/x, is:\n",
      "          0.5                     \n",
      "  ⎛ 2    ⎞    ⎛          ⎛ 2    ⎞⎞\n",
      "  ⎜x  + 2⎟    ⎜      0.5⋅⎝x  + 2⎠⎟\n",
      "x⋅⎜──────⎟   ⋅⎜1.0 - ────────────⎟\n",
      "  ⎝  x   ⎠    ⎜            2     ⎟\n",
      "              ⎝           x      ⎠\n",
      "──────────────────────────────────\n",
      "               2                  \n",
      "              x  + 2              \n"
     ]
    }
   ],
   "source": [
    "#2. b)\n",
    "print(\"2. b) The derivatice of (2+x^2)^(1/2)/x, is:\")\n",
    "pprint(diff(((2+x*x)/x)**(1/2),x))"
   ]
  },
  {
   "cell_type": "code",
   "execution_count": 10,
   "metadata": {},
   "outputs": [
    {
     "name": "stdout",
     "output_type": "stream",
     "text": [
      "2. c) The derivatice of x tan x, is:\n",
      "  ⎛   2       ⎞         \n",
      "x⋅⎝tan (x) + 1⎠ + tan(x)\n"
     ]
    }
   ],
   "source": [
    "#2. c)\n",
    "print(\"2. c) The derivatice of x tan x, is:\")\n",
    "pprint(diff(x*tan(x),x))"
   ]
  },
  {
   "cell_type": "code",
   "execution_count": 11,
   "metadata": {},
   "outputs": [
    {
     "name": "stdout",
     "output_type": "stream",
     "text": [
      "2. d) The derivatice of (2-x)/(1+2x), is:\n",
      "  2⋅(-x + 2)      1   \n",
      "- ────────── - ───────\n",
      "           2   2⋅x + 1\n",
      "  (2⋅x + 1)           \n"
     ]
    }
   ],
   "source": [
    "#2. d)\n",
    "print(\"2. d) The derivatice of (2-x)/(1+2x), is:\")\n",
    "pprint(diff((2-x)/(1+2*x),x))"
   ]
  },
  {
   "cell_type": "code",
   "execution_count": 12,
   "metadata": {},
   "outputs": [
    {
     "name": "stdout",
     "output_type": "stream",
     "text": [
      "2. e) The derivatice of -3x^4/4-2x^3+5x-6 at x=-1, is:\n",
      "2\n"
     ]
    }
   ],
   "source": [
    "#2. e)\n",
    "print(\"2. e) The derivatice of -3x^4/4-2x^3+5x-6 at x=-1, is:\")\n",
    "pprint(diff(-3*x**4/4-2*x**3+5*x-6,x).subs({x:-1}))"
   ]
  },
  {
   "cell_type": "code",
   "execution_count": 13,
   "metadata": {},
   "outputs": [
    {
     "name": "stdout",
     "output_type": "stream",
     "text": [
      "2. f) The derivatice of (1-sin x)/cos x, is:\n",
      "       2          \n",
      "    sin (x)    1  \n",
      " - ───────── - ─  \n",
      "        2      2  \n",
      "   2⋅cos (x)      \n",
      "──────────────────\n",
      "    ______________\n",
      "   ╱   sin(x)     \n",
      "  ╱  - ────── + 1 \n",
      "╲╱     cos(x)     \n"
     ]
    }
   ],
   "source": [
    "#2. f)\n",
    "print(\"2. f) The derivatice of (1-sin x)/cos x, is:\")\n",
    "pprint(diff(sqrt(1-sin(x)/(cos(x))),x))"
   ]
  },
  {
   "cell_type": "markdown",
   "metadata": {},
   "source": [
    "Note\n",
    "---\n",
    "above equal to the simple form, $\\mathbf{\\frac{1}{1+\\cos x}}$."
   ]
  },
  {
   "cell_type": "code",
   "execution_count": 15,
   "metadata": {},
   "outputs": [
    {
     "name": "stdout",
     "output_type": "stream",
     "text": [
      "2. g) The derivatice of sin^3(x), is:\n",
      "     2          \n",
      "3⋅sin (x)⋅cos(x)\n"
     ]
    }
   ],
   "source": [
    "#2. g)\n",
    "print(\"2. g) The derivatice of sin^3(x), is:\")\n",
    "pprint(diff(sin(x)**3,x))"
   ]
  },
  {
   "cell_type": "markdown",
   "metadata": {},
   "source": [
    "**2.** h)\n",
    "\n",
    "  \\begin{eqnarray*}\n",
    "    f' (0) & = & \\lim_{h \\rightarrow 0} \\frac{f (h) - f (0)}{h}\\\\\n",
    "    & = & \\lim_{h \\rightarrow 0} \\frac{h \\sin (1 / h)}{h}\\\\\n",
    "    & = & \\lim_{h \\rightarrow 0} \\sin (1 / h)\n",
    "  \\end{eqnarray*}\n",
    "  This concludes that the limit fails to exist.\n"
   ]
  },
  {
   "cell_type": "code",
   "execution_count": 25,
   "metadata": {},
   "outputs": [
    {
     "name": "stdout",
     "output_type": "stream",
     "text": [
      "3. a) The third-order derivatice of x^2 sin x, is:\n",
      "   2                               \n",
      "- x ⋅cos(x) - 6⋅x⋅sin(x) + 6⋅cos(x)\n"
     ]
    }
   ],
   "source": [
    "#3. a)\n",
    "print(\"3. a) The third-order derivatice of x^2 sin x, is:\")\n",
    "pprint(diff(x**2*sin(x),x,3))"
   ]
  },
  {
   "cell_type": "code",
   "execution_count": 26,
   "metadata": {
    "collapsed": true
   },
   "outputs": [],
   "source": [
    "def ImplicitDiff(express):\n",
    "    l=diff(express,x);\n",
    "    print(\"y'(x) =\",solve(l,Derivative(y,x))[0])"
   ]
  },
  {
   "cell_type": "code",
   "execution_count": 27,
   "metadata": {},
   "outputs": [
    {
     "name": "stdout",
     "output_type": "stream",
     "text": [
      "3. b) The derivatice of y for x^3+y^3=3x, is:\n",
      "y'(x) = (-x**2 + 1)/y(x)**2\n"
     ]
    }
   ],
   "source": [
    "y=Function(\"y\")\n",
    "y=y(x)\n",
    "print(\"3. b) The derivatice of y for x^3+y^3=3x, is:\")\n",
    "ImplicitDiff(x**3+y**3-3*x)"
   ]
  },
  {
   "cell_type": "markdown",
   "metadata": {},
   "source": [
    "If $y'(x)=0$, it implies $x=\\pm1$. Then\n",
    "$(\\pm1)^3+y^3=3\\cdot(\\pm1)\\to \\mathbf{y=\\pm2^{1/3}}$ \n"
   ]
  },
  {
   "cell_type": "markdown",
   "metadata": {},
   "source": [
    "4). a)\n",
    "\n",
    "\n",
    "\\begin{eqnarray}\n",
    " \\left|\\frac{\\cos a-\\cos b}{a-b}\\right|&=& \\left|\\sin x_0\\right|\\le1\\\\\n",
    " \\Longrightarrow&&\\left|\\cos a-\\cos b\\right|\\le \\left|a-b\\right|\n",
    "\\end{eqnarray}\n",
    "b) $\\mathbf{x\\in\\mathbb{R}}$"
   ]
  },
  {
   "cell_type": "markdown",
   "metadata": {},
   "source": [
    "5). **a)**  critical values:\n",
    "$$ \n",
    "  f'(t)=\\left(4t^{\\frac{1}{3}}+3t^{\\frac{4}{3}}\\right)'=\\frac{4}{3}\\left(t^{-\\frac{2}{3}}+3t^{\\frac{1}{3}}\\right)\n",
    "       =\\frac{4(1+3t)}{3t^\\frac{2}{3}}\n",
    "$$\n",
    "\n",
    "**i).** If $f'(t)=0\\Rightarrow1+3t=0\\to t=-1/3$<br>\n",
    "**ii).** If $f'(t)=0$ fails to exist, then the denominator is zero, $t^{2/3}=0\\to t=0$<br>\n",
    "\n",
    "**b).** Since \n",
    "  \n",
    "  $$\\lim\\limits_{t\\to\\pm\\infty} f(t) =+\\infty,$$\n",
    "  \n",
    "  $f(t)$ can only attain its absolute minimum. The minimum is $f(-1/3)$, which is smaller than 0, since it is smaller than $f(0)=0$. "
   ]
  },
  {
   "cell_type": "markdown",
   "metadata": {},
   "source": [
    "6) . <br>\n",
    "a). Rolle's theorem, Assume that $f (x)$ is continuous on $[a, b]$ and differentiable in $(a,\n",
    "  b)$. If $f (a) = f (b)$, there exists at least $c \\in (a, b)$ such that $f'\n",
    "  (c) = 0$. <br>\n",
    "b). Mean Value Theorem, MVT,\n",
    "Assume that $f (x)$\n",
    "  is continuous on $[a, b]$ and differentiable in $(a, b)$. There exists at\n",
    "  least one $c \\in (a, b)$ such that\n",
    "$$ f' (c) = \\frac{f (b) - f (a)}{b - a} $$"
   ]
  },
  {
   "cell_type": "code",
   "execution_count": 28,
   "metadata": {},
   "outputs": [
    {
     "name": "stdout",
     "output_type": "stream",
     "text": [
      "[NbConvertApp] Converting notebook 2016-1-me-1.ipynb to html\n",
      "[NbConvertApp] Writing 274903 bytes to 2016-1-me-1.html\n"
     ]
    }
   ],
   "source": [
    "!jupyter nbconvert --to html 2016-1-me-1.ipynb"
   ]
  },
  {
   "cell_type": "code",
   "execution_count": null,
   "metadata": {
    "collapsed": true
   },
   "outputs": [],
   "source": []
  }
 ],
 "metadata": {
  "kernelspec": {
   "display_name": "Python 3",
   "language": "python",
   "name": "python3"
  },
  "language_info": {
   "codemirror_mode": {
    "name": "ipython",
    "version": 3
   },
   "file_extension": ".py",
   "mimetype": "text/x-python",
   "name": "python",
   "nbconvert_exporter": "python",
   "pygments_lexer": "ipython3",
   "version": "3.6.5"
  },
  "toc": {
   "colors": {
    "hover_highlight": "#DAA520",
    "navigate_num": "#000000",
    "navigate_text": "#333333",
    "running_highlight": "#FF0000",
    "selected_highlight": "#FFD700",
    "sidebar_border": "#EEEEEE",
    "wrapper_background": "#FFFFFF"
   },
   "moveMenuLeft": true,
   "nav_menu": {
    "height": "120px",
    "width": "252px"
   },
   "navigate_menu": true,
   "number_sections": true,
   "sideBar": true,
   "threshold": 4,
   "toc_cell": false,
   "toc_section_display": "block",
   "toc_window_display": false,
   "widenNotebook": false
  }
 },
 "nbformat": 4,
 "nbformat_minor": 1
}
