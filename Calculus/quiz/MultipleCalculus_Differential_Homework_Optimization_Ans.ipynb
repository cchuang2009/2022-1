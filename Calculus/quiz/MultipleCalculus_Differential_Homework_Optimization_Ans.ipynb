{
 "cells": [
  {
   "cell_type": "markdown",
   "metadata": {},
   "source": [
    "Muplitple-Variable Calculus\n",
    "===\n",
    "Steps for Optimization\n",
    "---\n",
    "\n",
    "In the case of two-variable functions,  $\\mathbf{z=f(x,y)}$ for $\\mathbf{(x,y)\\in D\\subset\\mathbb{R}^2}$ with boundary $\\mathbf{\\partial D}$:\n",
    "1. find out critical points and boundary points if any:<br>\n",
    "   **a).** critical points  ➡︎ Solve $\\mathbf{\\nabla f(x,y)=\\vec 0}$,<br>\n",
    "   **b).** boundary points ➡︎ find out all points on $\\mathbf{\\partial D}$\n",
    "- classify which types of relative exetrmum it is at each critical point by the following <b>Theorem</b>\n",
    "- The maximum of all function values above and on the boundary is absolute maximum, and the minimum of them is absolute minimum. \n"
   ]
  },
  {
   "cell_type": "markdown",
   "metadata": {},
   "source": [
    "Theorem\n",
    "---\n",
    "Consider the determinant of Hession Matrix,\n",
    "$$\\mathbf{|H| = \\left|\\begin{matrix}\n",
    "       \\mathbf{\\frac{\\partial^2 f}{\\partial x^2}(x_0,y_0)} \n",
    "          & \\mathbf{\\frac{\\partial^2 f}{\\partial y\\partial x}(x_0,y_0)}\\\\\n",
    "       \\mathbf{\\frac{\\partial^2 f}{\\partial x \\partial y}(x_0,y_0) }\n",
    "          & \\mathbf{\\frac{\\partial^2f}{\\partial y^2}(x_0,y_0)}\n",
    "     \\end{matrix}\\right| = \n",
    "     \\left|\\begin{matrix}\n",
    "       A & B\\\\\n",
    "       B & C\n",
    "     \\end{matrix}\\right| =AC-B^2}\n",
    "$$  \n",
    "  where $(x_0, y_0)$ is the\n",
    "  critical point of $\\mathbf{f (x, y)}$, $\\mathbf{D = A C - B^2}$, then\n",
    "   1. if $\\mathbf{D > 0}$ and $\\mathbf{A < 0}$ , $\\mathbf{f (x_0, y_0)}$ is  a relative maximum,\n",
    "   - if $\\mathbf{D > 0}$ and $\\mathbf{A > 0}$ , $\\mathbf{f (x_0, y_0)}$ is  a relative minimum,\n",
    "   - if $\\mathbf{D < 0}$ , $\\mathbf{(x_0, y_0, f (x_0, y_0))}$ is a saddle point,\n",
    "   - if $\\mathbf{D = 0}$, no conclusion."
   ]
  },
  {
   "cell_type": "code",
   "execution_count": 1,
   "metadata": {
    "code_folding": [
     0
    ]
   },
   "outputs": [],
   "source": [
    "#\n",
    "%matplotlib inline\n",
    "\n",
    "#rcParams['figure.figsize'] = (10,3) #wide graphs by default\n",
    "import scipy\n",
    "import numpy as np\n",
    "import time\n",
    "from termcolor import colored\n",
    "from mpl_toolkits.mplot3d import Axes3D\n",
    "from IPython.display import clear_output,display\n",
    "import matplotlib.pylab as plt\n",
    "from matplotlib import cm\n",
    "plt.style.use('ggplot')"
   ]
  },
  {
   "cell_type": "markdown",
   "metadata": {},
   "source": [
    "Symbolic Calculus \n",
    "---\n",
    "sympy, Python package, avails powerful functions to do symbolic calculation which is almost absent in other computer languages.\n",
    "\n",
    "Here, we use the (diff, hess, solve) to setup the basic optimization function for $\\mathbf{f(x,y)}$."
   ]
  },
  {
   "cell_type": "code",
   "execution_count": 2,
   "metadata": {
    "code_folding": [
     0
    ]
   },
   "outputs": [],
   "source": [
    "#\n",
    "from sympy import hessian,symbols,solve,diff,sin,cos,pi,exp,det,pprint\n",
    "x,y,z,a,b=symbols(\"x y z a b\",real=True)\n",
    "\n",
    "grad = lambda func, vars :[diff(func,var) for var in vars]"
   ]
  },
  {
   "cell_type": "code",
   "execution_count": 3,
   "metadata": {
    "code_folding": [
     0
    ]
   },
   "outputs": [],
   "source": [
    "# CritcalType(f,*vars)\n",
    "def CriticalType(f,*vars):\n",
    "    cpts=solve(grad(f,*vars),*vars)\n",
    "    H=hessian(f,*vars);\n",
    "    #H_det=H.det();\n",
    "    print(\"Hessian Matrix\\n---\")\n",
    "    pprint(H)\n",
    "    print(\"\\n---\\n\")\n",
    "    \n",
    "    num=1\n",
    "    if len(cpts)==0:\n",
    "       print(\"   no critical point!\")  \n",
    "    elif (type(cpts)==dict):\n",
    "       \"\"\"\n",
    "       If only one critical point, return {x:a,y:b} --- dict,\n",
    "       if more than one point return {(a,b),(c,d),...} --- list\n",
    "       \"\"\" \n",
    "       cx=cpts[vars[0][0]]\n",
    "       cy=cpts[vars[0][1]]\n",
    "       cz=cpts[vars[0][2]]\n",
    "       print(\"only one critical (x,y,z)=(%s,%s,%s)\" %(cx,cy,cz))\n",
    "       H1=H.extract([0],[0])\n",
    "       H2=H.extract([0,1],[0,1])\n",
    "       H3=H\n",
    "       delta1=H1.det().subs({x:cx,y:cy,z:cz})  \n",
    "       delta2=H2.det().subs({x:cx,y:cy,z:cz})  \n",
    "       delta3=H3.det().subs({x:cx,y:cy,z:cz})  \n",
    "       if delta3<0:\n",
    "          if (delta1<0 and delta2>0):\n",
    "             print(\"   |H|=%s>0, fxx=%s<0:    local maximum here.\" %(delta3,delta1))  \n",
    "          else: \n",
    "              print(\"   |H|=%s<0:  Saddle point here.\" %delta3)\n",
    "       elif delta3==0:\n",
    "          print(\"   |H|=0:  No conclusion.\") \n",
    "       else:\n",
    "          if (delta1>0 and delta2>0):\n",
    "             print(\"   |H|=%s>0, |H2|=%s>0,H1=%s>0:  local minimum here.\" %(delta3,delta2,delta1))\n",
    "          else:\n",
    "             print(\"   |H|=%s>0, |H2|=%s, H1=%s<0: saddle here.\" %(delta3,delta2, delta1))\n",
    "    else:\n",
    "       for i in cpts: \n",
    "            cx=i[0]\n",
    "            cy=i[1]\n",
    "            cz=i[2]\n",
    "            print(\"%d. critical (x,y,z)=(%s,%s,%s)\" %(num,cx,cy,cz))\n",
    "            H1=H.extract([0],[0])\n",
    "            H2=H.extract([0,1],[0,1])\n",
    "            H3=H\n",
    "            delta1=H1.det().subs({x:cx,y:cy,z:cz})  \n",
    "            delta2=H2.det().subs({x:cx,y:cy,z:cz})  \n",
    "            delta3=H3.det().subs({x:cx,y:cy,z:cz})  \n",
    "            if delta3<0:\n",
    "               if (delta1<0 and delta2>0):\n",
    "                   print(\"   |H|=%s>0, fxx=%s<0:    local maximum here.\" %(delta3,delta1))  \n",
    "               else: \n",
    "                   print(\"   |H|=%s<0:  Saddle point here.\" %delta3)\n",
    "            elif delta3==0:\n",
    "               print(\"   |H|=0:  No conclusion.\") \n",
    "            else:\n",
    "               if (delta1>0 and delta2>0):\n",
    "                  print(\"   |H|=%s>0, |H2|=%s>0,H1=%s>0:  local minimum here.\" %(delta3,delta2,delta1))\n",
    "               else:\n",
    "                  print(\"   |H|=%s>0, |H2|=%s, H1=%s<0: saddle here.\" %(delta3,delta2, delta1))\n",
    "            num+=1    "
   ]
  },
  {
   "cell_type": "code",
   "execution_count": 4,
   "metadata": {},
   "outputs": [
    {
     "data": {
      "text/latex": [
       "$\\displaystyle 4$"
      ],
      "text/plain": [
       "4"
      ]
     },
     "execution_count": 4,
     "metadata": {},
     "output_type": "execute_result"
    }
   ],
   "source": [
    "f=x**2+y**2+z**2\n",
    "H=hessian(f,[x,y,z])\n",
    "H2=H.extract([0,1],[0,1])\n",
    "H2.det()\n",
    "#CriticalType(f,[x,y,z])"
   ]
  },
  {
   "cell_type": "code",
   "execution_count": 4,
   "metadata": {},
   "outputs": [
    {
     "name": "stdout",
     "output_type": "stream",
     "text": [
      "Hessian Matrix\n",
      "---\n",
      "⎡6⋅x   1   0 ⎤\n",
      "⎢            ⎥\n",
      "⎢ 1   6⋅y  0 ⎥\n",
      "⎢            ⎥\n",
      "⎣ 0    0   -2⎦\n",
      "\n",
      "---\n",
      "\n",
      "1. critical (x,y,z)=(-1/3,-1/3,0)\n",
      "   |H|=-6>0, fxx=-2<0:    local maximum here.\n",
      "2. critical (x,y,z)=(0,0,0)\n",
      "   |H|=2>0, |H2|=-1, H1=0<0: saddle here.\n"
     ]
    }
   ],
   "source": [
    "f=x**3+x*y+y**3-z**2\n",
    "\n",
    "CriticalType(f,[x,y,z])"
   ]
  },
  {
   "cell_type": "code",
   "execution_count": 5,
   "metadata": {
    "code_folding": [
     0
    ]
   },
   "outputs": [],
   "source": [
    "# criticaltype\n",
    "def criticaltype(f):\n",
    "    cpts=solve(grad(f,[x,y]),[x,y])\n",
    "    H=hessian(f,[x,y]);\n",
    "    H_det=H.det();\n",
    "    print(\"Hessian Matrix\\n---\")\n",
    "    pprint(H)\n",
    "    \n",
    "    num=1\n",
    "    if len(cpts)==0:\n",
    "       print(\"   no critical point!\")  \n",
    "    elif (type(cpts)==dict):\n",
    "       \"\"\"\n",
    "       If only one critical point, return {x:a,y:b} --- dict,\n",
    "       if more than one point return {(a,b),(c,d),...} --- list\n",
    "       \"\"\" \n",
    "       cx=cpts[x]\n",
    "       cy=cpts[y]\n",
    "       print(\"only one critical (x,y)=(%s,%s)\" %(cx,cy))\n",
    "       delta2=H_det.subs({x:cx,y:cy}) \n",
    "       if delta2<0:\n",
    "          print(\"   |H|=%s<0:  Saddle point here.\" %delta2)\n",
    "       elif delta2==0:\n",
    "          print(\"   |H|=0:  No conclusion.\") \n",
    "       else:\n",
    "          f1=diff(f,x,2).subs({x:cx,y:cy})\n",
    "          if f1>0:\n",
    "             print(\"   |H|=%s>0, fxx=%s>0:  local minimum here.\" %(delta2,f1))\n",
    "          else:\n",
    "             print(\"   |H|=%s>0, fxx=%s<0:    local maximum here.\" %(delta2,f1))\n",
    "    else:\n",
    "       for i in cpts: \n",
    "            cx=i[0]\n",
    "            cy=i[1]\n",
    "            print(\"%d. critical (x,y)=(%s,%s)\" %(num,cx,cy))\n",
    "            delta2=H_det.subs({x:cx,y:cy}) \n",
    "            if delta2<0:\n",
    "               print(\"   |H|=%s<0:  Saddle point here.\" %delta2)\n",
    "            elif delta2==0:\n",
    "               print(\"   |H|=0:  No conclusion.\") \n",
    "            else:\n",
    "               f1=diff(f,x,2).subs({x:cx,y:cy})\n",
    "               if f1>0:\n",
    "                  print(\"   |H|=%s>0, fxx=%s>0:  local minimum here.\" %(delta2,f1))\n",
    "               else:\n",
    "                  print(\"   |H|=%s>0, fxx=%s<0:    local maximum here.\" %(delta2,f1))\n",
    "            #print(H_det)\n",
    "            num+=1    "
   ]
  },
  {
   "cell_type": "code",
   "execution_count": 6,
   "metadata": {
    "code_folding": [
     0
    ]
   },
   "outputs": [],
   "source": [
    "#lagrangian(f,X,conds)\n",
    "def lagrangian(func,X,conditions):\n",
    "    \"\"\"\n",
    "    Inputs:\n",
    "      func: functions of 2/3 variable\n",
    "      X: list of variables, [x,y] or [x,y,z]\n",
    "      conditions: list of condictions, [cond1,cond2,...]\n",
    "    No output, but print out the result:\n",
    "      1. one soluntion: print value of variables\n",
    "      2. more than one solutions: print out minimum and maximum\n",
    "    \"\"\"\n",
    "    l,m=symbols(\"lambda mu\")\n",
    "    if len(X)==2 and len(conditions)==1:\n",
    "       L=func+l*conditions[0]\n",
    "       cpts=solve([diff(L,x),diff(L,y),conditions[0]],[x,y,l])\n",
    "       print(\"Function, %s, subject to %s=0\\n===\" %(func,conditions[0])) \n",
    "    elif  len(X)==3 and len(conditions)==1: \n",
    "       L=func+l*conditions[0]\n",
    "       cpts=solve([diff(L,x),diff(L,y),diff(L,z),conditions[0]],[x,y,z,l]) \n",
    "       print(\"Function, %s, subject to %s=0\\n===\" %(func,conditions[0])) \n",
    "    else:\n",
    "       L=func+l*conditions[0]+m* conditions[1]\n",
    "       cpts=solve([diff(L,x),diff(L,y),diff(L,z),conditions[0],conditions[1]],[x,y,z,l,m]) \n",
    "       print(\"Function, %s, subject to %s=0 and %s=0\\n===\" %(func,conditions[0],conditions[1]))\n",
    "    i=1\n",
    "    vals=[]\n",
    "    print(cpts)\n",
    "    #if type(cpts)!=dict: \n",
    "    if len(cpts)>1:\n",
    "       for cpt in cpts:           \n",
    "           if len(X)==2:\n",
    "              funcVal=func.subs({x:cpt[0],y:cpt[1]})\n",
    "              print(\"  %d֯ ). f = %s = %s at critical value (x,y)=(%s,%s)\" %(i,func,funcVal,cpt[0],cpt[1]))\n",
    "           else:\n",
    "              funcVal=func.subs({x:cpt[0],y:cpt[1],z:cpt[2]})\n",
    "              print(\"  %d֯ ). f = %s = %s at critical value (x,y,z)=(%s,%s,%s)\" %(i,func, funcVal,cpt[0],cpt[1],cpt[2]))\n",
    "           vals.append(funcVal)\n",
    "           i+=1\n",
    "       print(\"  ---\\n\")  \n",
    "       print(\"  Maximum on the boundary is %s\" %max(vals))\n",
    "       print(\"  Minimum on the boundary is %s\" %min(vals)) \n",
    "    else:\n",
    "       dictlist=[]\n",
    "       for key, value in cpts.items():\n",
    "           temp = [key,value]\n",
    "           dictlist.append(temp)\n",
    "       cpts=dictlist \n",
    "       if len(X)==2:\n",
    "          funcVal=func.subs({x:cpts[0][1],y:cpts[1][1]}) \n",
    "          print(\"  f= %s = %s\\n\" %(func,funcVal)) \n",
    "          print(\"  Only one critical found, (x,y)=(%s,%s)\" %(cpts[0][1],cpts[1][1]))\n",
    "       else:\n",
    "          funcVal=func.subs({x:cpts[0][1],y:cpts[1][1],z:cpts[2][1]})\n",
    "          print(\"  f= %s = %s\\n\" %(func,funcVal))  \n",
    "          print(\"  Only one critical found, (x,y,z)=(%s,%s,%s)\" %(cpts[0][1],cpts[1][1],cpts[2][1]))\n",
    "       print(\"  ---\\n\")  \n",
    "       print(colored(\"  it could  be extremum.\", 'red') )\n",
    "          "
   ]
  },
  {
   "cell_type": "code",
   "execution_count": 7,
   "metadata": {
    "code_folding": [
     0
    ]
   },
   "outputs": [],
   "source": [
    "# lagrangian2(f,X,conds\n",
    "def lagrangian2(func,X,conditions):\n",
    "    \"\"\"\n",
    "    Inputs:\n",
    "      func: functions of 2/3 variable\n",
    "      X: list of variables, [x,y] or [x,y,z]\n",
    "      conditions: list of condictions, [cond1,cond2,...]\n",
    "    No output, but print out the result:\n",
    "      1. one soluntion: print value of variables\n",
    "      2. more than one solutions: print out minimum and maximum\n",
    "    \"\"\"\n",
    "    l,m=symbols(\"lambda mu\")\n",
    "    if len(X)==2 and len(conditions)==1:\n",
    "       L=func+l*conditions[0]\n",
    "       cpts=solve([diff(L,x),diff(L,y),conditions[0]],[x,y,l])\n",
    "       print(\"Function, %s, subject to %s=0\\n===\" %(func,conditions[0])) \n",
    "    elif  len(X)==3 and len(conditions)==1: \n",
    "       L=func+l*conditions[0]\n",
    "       cpts=solve([diff(L,x),diff(L,y),diff(L,z),conditions[0]],[x,y,z,l]) \n",
    "       print(\"Function, %s, subject to %s=0\\n===\" %(func,conditions[0])) \n",
    "    else:\n",
    "       L=func+l*conditions[0]+m* conditions[1]\n",
    "       cpts=solve([diff(L,x),diff(L,y),diff(L,z),conditions[0],conditions[1]],[x,y,z,l,m]) \n",
    "       print(\"Function, %s, subject to %s=0 and %s=0\\n===\" %(func,conditions[0],conditions[1]))\n",
    "    i=1\n",
    "    vals=[]\n",
    "    print(cpts)\n",
    "    #if type(cpts)!=dict: \n",
    "    if len(cpts)>1:\n",
    "       for cpt in cpts:           \n",
    "           if len(X)==2:\n",
    "              funcVal=func.subs({x:cpt[0],y:cpt[1]})\n",
    "              print(\"  %d֯ ). f = %s = %s at critical value (x,y)=(%s,%s)\" %(i,func,funcVal,cpt[0],cpt[1]))\n",
    "           else:\n",
    "              funcVal=func.subs({x:cpt[0],y:cpt[1],z:cpt[2]})\n",
    "              print(\"  %d֯ ). f = %s = %s at critical value (x,y,z)=(%s,%s,%s)\" %(i,func, funcVal,cpt[0],cpt[1],cpt[2]))\n",
    "           vals.append(funcVal)\n",
    "           i+=1\n",
    "       print(\"  ---\\n\")  \n",
    "       print(\"  Maximum on the boundary is %s\" %max(vals))\n",
    "       print(\"  Minimum on the boundary is %s\" %min(vals)) \n",
    "    elif(len(cpts)==1): \n",
    "       if len(X)==2:\n",
    "          funcVal=func.subs({x:cpts[0][1],y:cpts[0][1]}) \n",
    "          print(\"  f= %s = %s\\n\" %(func,funcVal)) \n",
    "          print(\"  Only one critical found, (x,y)=(%s,%s)\" %(cpts[0][1],cpts[0][1]))\n",
    "       else:\n",
    "          funcVal=func.subs({x:cpts[0][1],y:cpts[0][1],z:cpts[0][2]})\n",
    "          print(\"  f= %s = %s\\n\" %(func,funcVal))  \n",
    "          print(\"  Only one critical found, (x,y,z)=(%s,%s,%s)\" %(cpts[0][1],cpts[0][1],cpts[0][2]))\n",
    "       print(\"  ---\\n\")  \n",
    "       print(colored(\"  it could  be extremum.\", 'red') )\n",
    "          "
   ]
  },
  {
   "cell_type": "markdown",
   "metadata": {},
   "source": [
    "Q$^\\circ$1.\n",
    "---\n",
    "$f(x,y,z) = (x-2)^2+(y-2)^2+(z-2)^2$  with $0\\le x,y,z$ and $x+y+z\\le10$.\n",
    "\n",
    "1. Crictical point: $(0,0,0)=\\nabla f(x,y,z)=(2(x-2),2(y-2),2(z-2))\\Rightarrow (x,y.z)=(2,2,2)$.\n",
    "- Minimum: $(f(2,2,2)=0$ since $f(x,y,z)\\ge0$;\n",
    "- Maximum: occurs at the boundary, especially at the edges; thus it is $f(0,0,10)=72$."
   ]
  },
  {
   "cell_type": "code",
   "execution_count": 8,
   "metadata": {},
   "outputs": [
    {
     "name": "stdout",
     "output_type": "stream",
     "text": [
      "Hessian Matrix\n",
      "---\n",
      "⎡2  0  0⎤\n",
      "⎢       ⎥\n",
      "⎢0  2  0⎥\n",
      "⎢       ⎥\n",
      "⎣0  0  2⎦\n",
      "\n",
      "---\n",
      "\n",
      "only one critical (x,y,z)=(2,2,2)\n",
      "   |H|=8>0, |H2|=4>0,H1=2>0:  local minimum here.\n"
     ]
    }
   ],
   "source": [
    "f=(x-2)**2+(y-2)**2+(z-2)**2\n",
    "CriticalType(f,[x,y,z])"
   ]
  },
  {
   "cell_type": "markdown",
   "metadata": {},
   "source": [
    "Q$^\\circ$2.\n",
    "---\n",
    "$f(x,y,z) = x^2-xy+y^2-3x+3y$  with $0\\le y\\le x\\le3$.\n"
   ]
  },
  {
   "cell_type": "code",
   "execution_count": 9,
   "metadata": {},
   "outputs": [
    {
     "data": {
      "text/plain": [
       "[2*x - y - 3, -x + 2*y + 3]"
      ]
     },
     "execution_count": 9,
     "metadata": {},
     "output_type": "execute_result"
    }
   ],
   "source": [
    "f=x**2-x*y+y**2-3*x+3*y\n",
    "grad(f,[x,y])"
   ]
  },
  {
   "cell_type": "code",
   "execution_count": 10,
   "metadata": {},
   "outputs": [
    {
     "name": "stdout",
     "output_type": "stream",
     "text": [
      "Hessian Matrix\n",
      "---\n",
      "⎡2   -1⎤\n",
      "⎢      ⎥\n",
      "⎣-1  2 ⎦\n",
      "only one critical (x,y)=(1,-1)\n",
      "   |H|=3>0, fxx=2>0:  local minimum here.\n"
     ]
    }
   ],
   "source": [
    "criticaltype(f)"
   ]
  },
  {
   "cell_type": "markdown",
   "metadata": {},
   "source": [
    "However, $(1,-1)$ is not in domain.\n",
    "\n",
    "Minimun= $-2.25$, Maximum= $9$.\n"
   ]
  },
  {
   "cell_type": "code",
   "execution_count": null,
   "metadata": {},
   "outputs": [],
   "source": []
  },
  {
   "cell_type": "markdown",
   "metadata": {},
   "source": [
    "Q$^\\circ$3.\n",
    "---\n",
    "$f(x,y,z) = e^{-3x^2-2y^2-2x+4y}$  \n"
   ]
  },
  {
   "cell_type": "code",
   "execution_count": 11,
   "metadata": {},
   "outputs": [
    {
     "data": {
      "text/plain": [
       "[(-6*x - 2)*exp(-3*x**2 - 2*x - 2*y**2 + 4*y),\n",
       " (4 - 4*y)*exp(-3*x**2 - 2*x - 2*y**2 + 4*y)]"
      ]
     },
     "execution_count": 11,
     "metadata": {},
     "output_type": "execute_result"
    }
   ],
   "source": [
    "f=exp(-3*x**2-2*y**2-2*x+4*y)\n",
    "grad(f,[x,y])"
   ]
  },
  {
   "cell_type": "code",
   "execution_count": 12,
   "metadata": {},
   "outputs": [
    {
     "name": "stdout",
     "output_type": "stream",
     "text": [
      "Hessian Matrix\n",
      "---\n",
      "⎡                  2            2                 2            2              \n",
      "⎢          2  - 3⋅x  - 2⋅x - 2⋅y  + 4⋅y      - 3⋅x  - 2⋅x - 2⋅y  + 4⋅y        \n",
      "⎢(-6⋅x - 2) ⋅ℯ                          - 6⋅ℯ                                 \n",
      "⎢                                                                             \n",
      "⎢                                      2            2                         \n",
      "⎢                                 - 3⋅x  - 2⋅x - 2⋅y  + 4⋅y                   \n",
      "⎣           (4 - 4⋅y)⋅(-6⋅x - 2)⋅ℯ                                      (4 - 4\n",
      "\n",
      "                               2            2                 ⎤\n",
      "                          - 3⋅x  - 2⋅x - 2⋅y  + 4⋅y           ⎥\n",
      "    (4 - 4⋅y)⋅(-6⋅x - 2)⋅ℯ                                    ⎥\n",
      "                                                              ⎥\n",
      "           2            2                 2            2      ⎥\n",
      "   2  - 3⋅x  - 2⋅x - 2⋅y  + 4⋅y      - 3⋅x  - 2⋅x - 2⋅y  + 4⋅y⎥\n",
      "⋅y) ⋅ℯ                          - 4⋅ℯ                         ⎦\n",
      "1. critical (x,y)=(-1/3,1)\n",
      "   |H|=24*exp(14/3)>0, fxx=-6*exp(7/3)<0:    local maximum here.\n"
     ]
    }
   ],
   "source": [
    "criticaltype(f)"
   ]
  },
  {
   "cell_type": "code",
   "execution_count": null,
   "metadata": {},
   "outputs": [],
   "source": []
  },
  {
   "cell_type": "markdown",
   "metadata": {},
   "source": [
    "Q$^\\circ$4.\n",
    "---\n",
    "$f(x,y,z) = x^4+y^4-xy$  \n"
   ]
  },
  {
   "cell_type": "code",
   "execution_count": 36,
   "metadata": {},
   "outputs": [
    {
     "data": {
      "text/plain": [
       "[4*x**3 - 12*x - 12*y, -12*x + 4*y**3 - 12*y]"
      ]
     },
     "execution_count": 36,
     "metadata": {},
     "output_type": "execute_result"
    }
   ],
   "source": [
    "f=x**4+y**4-6*(x+y)**2\n",
    "grad(f,[x,y])\n"
   ]
  },
  {
   "cell_type": "code",
   "execution_count": 37,
   "metadata": {},
   "outputs": [
    {
     "name": "stdout",
     "output_type": "stream",
     "text": [
      "Hessian Matrix\n",
      "---\n",
      "⎡    2                 ⎤\n",
      "⎢12⋅x  - 12     -12    ⎥\n",
      "⎢                      ⎥\n",
      "⎢                2     ⎥\n",
      "⎣   -12      12⋅y  - 12⎦\n",
      "1. critical (x,y)=(0,0)\n",
      "   |H|=0:  No conclusion.\n",
      "2. critical (x,y)=(-sqrt(6),-sqrt(6))\n",
      "   |H|=3456>0, fxx=60>0:  local minimum here.\n",
      "3. critical (x,y)=(sqrt(6),sqrt(6))\n",
      "   |H|=3456>0, fxx=60>0:  local minimum here.\n"
     ]
    }
   ],
   "source": [
    "criticaltype(f)"
   ]
  },
  {
   "cell_type": "code",
   "execution_count": null,
   "metadata": {},
   "outputs": [],
   "source": []
  },
  {
   "cell_type": "markdown",
   "metadata": {},
   "source": [
    "Q$^\\circ$5.\n",
    "---\n",
    "$f(x,y,z) = x^3+y^3-10xy+4$  \n"
   ]
  },
  {
   "cell_type": "code",
   "execution_count": 16,
   "metadata": {},
   "outputs": [
    {
     "name": "stdout",
     "output_type": "stream",
     "text": [
      "Hessian Matrix\n",
      "---\n",
      "⎡6⋅x  -10⎤\n",
      "⎢        ⎥\n",
      "⎣-10  6⋅y⎦\n",
      "1. critical (x,y)=(0,0)\n",
      "   |H|=-100<0:  Saddle point here.\n",
      "2. critical (x,y)=(10/3,10/3)\n",
      "   |H|=300>0, fxx=20>0:  local minimum here.\n"
     ]
    }
   ],
   "source": [
    "criticaltype(f)"
   ]
  },
  {
   "cell_type": "markdown",
   "metadata": {},
   "source": [
    "Q$^\\circ$6.\n",
    "---\n",
    "$f(x,y,z) = x^4+y^4-6(x+y)^2$  \n"
   ]
  },
  {
   "cell_type": "code",
   "execution_count": 17,
   "metadata": {},
   "outputs": [
    {
     "data": {
      "text/plain": [
       "[4*x**3 - 12*x - 12*y, -12*x + 4*y**3 - 12*y]"
      ]
     },
     "execution_count": 17,
     "metadata": {},
     "output_type": "execute_result"
    }
   ],
   "source": [
    "f=x**4+y**4-6*(x+y)**2\n",
    "grad(f,[x,y])"
   ]
  },
  {
   "cell_type": "code",
   "execution_count": 18,
   "metadata": {},
   "outputs": [
    {
     "name": "stdout",
     "output_type": "stream",
     "text": [
      "Hessian Matrix\n",
      "---\n",
      "⎡    2                 ⎤\n",
      "⎢12⋅x  - 12     -12    ⎥\n",
      "⎢                      ⎥\n",
      "⎢                2     ⎥\n",
      "⎣   -12      12⋅y  - 12⎦\n",
      "1. critical (x,y)=(0,0)\n",
      "   |H|=0:  No conclusion.\n",
      "2. critical (x,y)=(-sqrt(6),-sqrt(6))\n",
      "   |H|=3456>0, fxx=60>0:  local minimum here.\n",
      "3. critical (x,y)=(sqrt(6),sqrt(6))\n",
      "   |H|=3456>0, fxx=60>0:  local minimum here.\n"
     ]
    }
   ],
   "source": [
    "criticaltype(f)"
   ]
  },
  {
   "cell_type": "markdown",
   "metadata": {},
   "source": [
    "Q$^\\circ$7.\n",
    "---\n",
    "$f(x,y,z) = x^2y(1-x-y)$  \n"
   ]
  },
  {
   "cell_type": "code",
   "execution_count": 9,
   "metadata": {},
   "outputs": [
    {
     "data": {
      "text/plain": [
       "[-x**2*y + 2*x*y*(-x - y + 1), -x**2*y + x**2*(-x - y + 1)]"
      ]
     },
     "execution_count": 9,
     "metadata": {},
     "output_type": "execute_result"
    }
   ],
   "source": [
    "f=x**2*y*(1-x-y)\n",
    "grad(f,[x,y])"
   ]
  },
  {
   "cell_type": "code",
   "execution_count": 10,
   "metadata": {},
   "outputs": [
    {
     "data": {
      "text/latex": [
       "$\\displaystyle - 2 x^{2} \\left(- 4 x y + 2 y \\left(- x - y + 1\\right)\\right) - \\left(- x^{2} - 2 x y + 2 x \\left(- x - y + 1\\right)\\right)^{2}$"
      ],
      "text/plain": [
       "-2*x**2*(-4*x*y + 2*y*(-x - y + 1)) - (-x**2 - 2*x*y + 2*x*(-x - y + 1))**2"
      ]
     },
     "execution_count": 10,
     "metadata": {},
     "output_type": "execute_result"
    }
   ],
   "source": [
    "\n",
    "hessian(f,[x,y]).det()"
   ]
  },
  {
   "cell_type": "code",
   "execution_count": 20,
   "metadata": {},
   "outputs": [
    {
     "name": "stdout",
     "output_type": "stream",
     "text": [
      "Hessian Matrix\n",
      "---\n",
      "⎡                                    2                           ⎤\n",
      "⎢   -4⋅x⋅y + 2⋅y⋅(-x - y + 1)     - x  - 2⋅x⋅y + 2⋅x⋅(-x - y + 1)⎥\n",
      "⎢                                                                ⎥\n",
      "⎢   2                                              2             ⎥\n",
      "⎣- x  - 2⋅x⋅y + 2⋅x⋅(-x - y + 1)               -2⋅x              ⎦\n",
      "1. critical (x,y)=(0,1/2)\n",
      "   |H|=0:  No conclusion.\n",
      "2. critical (x,y)=(0,y)\n",
      "   |H|=0:  No conclusion.\n",
      "3. critical (x,y)=(1/2,1/4)\n",
      "   |H|=1/8>0, fxx=-3/8<0:    local maximum here.\n",
      "4. critical (x,y)=(1,0)\n",
      "   |H|=-1<0:  Saddle point here.\n"
     ]
    }
   ],
   "source": [
    "criticaltype(f)"
   ]
  },
  {
   "cell_type": "markdown",
   "metadata": {},
   "source": [
    "Q$^\\circ$8.\n",
    "---\n",
    "$f(x,y,z) = x^2+4y^2-2z^2$  \n",
    "\n"
   ]
  },
  {
   "cell_type": "code",
   "execution_count": 14,
   "metadata": {},
   "outputs": [
    {
     "data": {
      "text/plain": [
       "[2*x, 8*y, -4*z]"
      ]
     },
     "execution_count": 14,
     "metadata": {},
     "output_type": "execute_result"
    }
   ],
   "source": [
    "f=x**2+4*y**2-2*z**2\n",
    "grad(f,[x,y,z])"
   ]
  },
  {
   "cell_type": "code",
   "execution_count": 15,
   "metadata": {},
   "outputs": [
    {
     "name": "stdout",
     "output_type": "stream",
     "text": [
      "Hessian Matrix\n",
      "---\n",
      "⎡2  0  0 ⎤\n",
      "⎢        ⎥\n",
      "⎢0  8  0 ⎥\n",
      "⎢        ⎥\n",
      "⎣0  0  -4⎦\n",
      "\n",
      "---\n",
      "\n",
      "only one critical (x,y,z)=(0,0,0)\n",
      "   |H|=-64<0:  Saddle point here.\n"
     ]
    }
   ],
   "source": [
    "CriticalType(f,[x,y,z])"
   ]
  },
  {
   "cell_type": "markdown",
   "metadata": {},
   "source": [
    "Q$^\\circ$9.\n",
    "---\n",
    "$f(x,y) =x^3-5 xy+y^2-x$  \n"
   ]
  },
  {
   "cell_type": "code",
   "execution_count": 31,
   "metadata": {},
   "outputs": [
    {
     "data": {
      "text/plain": [
       "[3*x**2 - 5*y - 1, -5*x + 2*y]"
      ]
     },
     "execution_count": 31,
     "metadata": {},
     "output_type": "execute_result"
    }
   ],
   "source": [
    "f=x**3-5*x*y+y**2-x\n",
    "grad(f,[x,y])"
   ]
  },
  {
   "cell_type": "code",
   "execution_count": 32,
   "metadata": {},
   "outputs": [
    {
     "name": "stdout",
     "output_type": "stream",
     "text": [
      "Hessian Matrix\n",
      "---\n",
      "⎡6⋅x  -5⎤\n",
      "⎢       ⎥\n",
      "⎣-5   2 ⎦\n",
      "1. critical (x,y)=(25/12 - sqrt(673)/12,125/24 - 5*sqrt(673)/24)\n",
      "   |H|=-sqrt(673)<0:  Saddle point here.\n",
      "2. critical (x,y)=(25/12 + sqrt(673)/12,125/24 + 5*sqrt(673)/24)\n",
      "   |H|=sqrt(673)>0, fxx=25/2 + sqrt(673)/2>0:  local minimum here.\n"
     ]
    }
   ],
   "source": [
    "criticaltype(f)"
   ]
  },
  {
   "cell_type": "markdown",
   "metadata": {},
   "source": [
    "Q$^\\circ$10.\n",
    "---\n",
    "$f(x,y,z) = 4x^2+9y^2+5x-5y+6$  \n",
    "for a$^\\circ$). $(x,y)\\in\\mathbb{R}^2$, b$^\\circ$). $0\\le x,y\\le5$, c$^\\circ$). $ 0\\le y\\le7$.\n"
   ]
  },
  {
   "cell_type": "code",
   "execution_count": 38,
   "metadata": {},
   "outputs": [
    {
     "data": {
      "text/plain": [
       "[8*x + 5, 18*y - 5]"
      ]
     },
     "execution_count": 38,
     "metadata": {},
     "output_type": "execute_result"
    }
   ],
   "source": [
    "f=4*x**2+9*y**2+5*x-5*y+6\n",
    "grad(f,[x,y])"
   ]
  },
  {
   "cell_type": "code",
   "execution_count": 39,
   "metadata": {},
   "outputs": [
    {
     "name": "stdout",
     "output_type": "stream",
     "text": [
      "Hessian Matrix\n",
      "---\n",
      "⎡8  0 ⎤\n",
      "⎢     ⎥\n",
      "⎣0  18⎦\n",
      "only one critical (x,y)=(-5/8,5/18)\n",
      "   |H|=144>0, fxx=8>0:  local minimum here.\n"
     ]
    }
   ],
   "source": [
    "criticaltype(f)"
   ]
  },
  {
   "cell_type": "markdown",
   "metadata": {},
   "source": [
    "\n",
    "\n"
   ]
  },
  {
   "cell_type": "code",
   "execution_count": 8,
   "metadata": {},
   "outputs": [
    {
     "data": {
      "text/latex": [
       "$\\displaystyle - 2 x^{2} \\left(- 4 x y + 2 y \\left(- x - y + 7\\right)\\right) - \\left(- x^{2} - 2 x y + 2 x \\left(- x - y + 7\\right)\\right)^{2}$"
      ],
      "text/plain": [
       "-2*x**2*(-4*x*y + 2*y*(-x - y + 7)) - (-x**2 - 2*x*y + 2*x*(-x - y + 7))**2"
      ]
     },
     "execution_count": 8,
     "metadata": {},
     "output_type": "execute_result"
    }
   ],
   "source": [
    "f=x**2*y*(7-x-y)\n",
    "hessian(f,[x,y]).det()"
   ]
  },
  {
   "cell_type": "code",
   "execution_count": null,
   "metadata": {},
   "outputs": [],
   "source": []
  },
  {
   "cell_type": "code",
   "execution_count": null,
   "metadata": {},
   "outputs": [],
   "source": []
  },
  {
   "cell_type": "markdown",
   "metadata": {},
   "source": [
    "Q$^\\circ$1.\n",
    "---\n",
    "Suppose that $f(x,y,z) = x^3+y^3-10xy+1$ is defined on $\\mathbf{D}\\subset\\mathbb{R}^2$.<br>\n",
    "a. If $\\mathbf{D}=\\mathbb{R}^2$, find relative maximum, relative minimum, absolute maximum, asolume minimum, and **saddle point** if exist.<br>\n",
    "b. If $\\mathbf{D}=\\{(x,y)\\in\\mathbb{R}^2|0\\le x,y,\\text{ and }x+y\\le3 \\}$, find relative maximum, relative minimum, absolute maximum, asolume minimum, and **saddle point** if exist.     \n",
    "c. If $\\mathbf{D}=\\{(x,y)\\in\\mathbb{R}^2| -5\\le y \\le5 \\}$, find relative maximum, relative minimum, absolute maximum, asolume minimum, and **saddle point** if exist."
   ]
  },
  {
   "cell_type": "code",
   "execution_count": 6,
   "metadata": {},
   "outputs": [],
   "source": [
    "func=x**3+y**3-10*x*y+1\n"
   ]
  },
  {
   "cell_type": "code",
   "execution_count": 7,
   "metadata": {},
   "outputs": [
    {
     "name": "stdout",
     "output_type": "stream",
     "text": [
      "Hessian Matrix\n",
      "---\n",
      "⎡6⋅x  -10⎤\n",
      "⎢        ⎥\n",
      "⎣-10  6⋅y⎦\n",
      "1. critical (x,y)=(0,0)\n",
      "   |H|=-100<0:  Saddle point here.\n",
      "2. critical (x,y)=(10/3,10/3)\n",
      "   |H|=300>0, fxx=20>0:  local minimum here.\n"
     ]
    }
   ],
   "source": [
    "criticaltype(func)"
   ]
  },
  {
   "cell_type": "code",
   "execution_count": 23,
   "metadata": {},
   "outputs": [
    {
     "name": "stdout",
     "output_type": "stream",
     "text": [
      "Function, x**3 - 10*x*y + y**3 + 1, subject to -x - y + 3=0\n",
      "===\n",
      "[(3/2, 3/2, -33/4)]\n",
      "  f= x**3 - 10*x*y + y**3 + 1 = -59/4\n",
      "\n",
      "  Only one critical found, (x,y)=(3/2,3/2)\n",
      "  ---\n",
      "\n",
      "\u001b[31m  it could  be extremum.\u001b[0m\n"
     ]
    }
   ],
   "source": [
    "cond=3-x-y\n",
    "lagrangian2(func,[x,y],[cond])"
   ]
  },
  {
   "cell_type": "code",
   "execution_count": 20,
   "metadata": {},
   "outputs": [
    {
     "name": "stdout",
     "output_type": "stream",
     "text": [
      "Function, x*y**2, subject to -2*x**2 - y**2 + 12=0\n",
      "===\n",
      "[(-sqrt(2), -2*sqrt(2), -sqrt(2)), (-sqrt(2), 2*sqrt(2), -sqrt(2)), (sqrt(2), -2*sqrt(2), sqrt(2)), (sqrt(2), 2*sqrt(2), sqrt(2)), (-sqrt(6), 0, 0), (sqrt(6), 0, 0)]\n",
      "  1֯ ). f = x*y**2 = -8*sqrt(2) at critical value (x,y)=(-sqrt(2),-2*sqrt(2))\n",
      "  2֯ ). f = x*y**2 = -8*sqrt(2) at critical value (x,y)=(-sqrt(2),2*sqrt(2))\n",
      "  3֯ ). f = x*y**2 = 8*sqrt(2) at critical value (x,y)=(sqrt(2),-2*sqrt(2))\n",
      "  4֯ ). f = x*y**2 = 8*sqrt(2) at critical value (x,y)=(sqrt(2),2*sqrt(2))\n",
      "  5֯ ). f = x*y**2 = 0 at critical value (x,y)=(-sqrt(6),0)\n",
      "  6֯ ). f = x*y**2 = 0 at critical value (x,y)=(sqrt(6),0)\n",
      "  ---\n",
      "\n",
      "  Maximum on the boundary is 8*sqrt(2)\n",
      "  Minimum on the boundary is -8*sqrt(2)\n"
     ]
    }
   ],
   "source": [
    "f=x*y*y\n",
    "cond=12-2*x*x-y*y\n",
    "lagrangian(f,[x,y],[cond])"
   ]
  },
  {
   "cell_type": "code",
   "execution_count": 14,
   "metadata": {},
   "outputs": [
    {
     "data": {
      "text/plain": [
       "-4.25"
      ]
     },
     "execution_count": 14,
     "metadata": {},
     "output_type": "execute_result"
    }
   ],
   "source": [
    "k[0][2]"
   ]
  },
  {
   "cell_type": "markdown",
   "metadata": {},
   "source": [
    "Q$^\\circ$2.\n",
    "---\n",
    "$f(x,y,z) = x^2-xy+y^2-4x+6y+6$  \n",
    "for a$^\\circ$). $(x,y)\\in\\mathbb{R}^2$, b$^\\circ$). $0\\le x,y\\le5$, c$^\\circ$). $ 0\\le x\\le y\\le5$.\n"
   ]
  },
  {
   "cell_type": "code",
   "execution_count": 10,
   "metadata": {},
   "outputs": [
    {
     "name": "stdout",
     "output_type": "stream",
     "text": [
      "Hessian Matrix\n",
      "---\n",
      "⎡2   -1⎤\n",
      "⎢      ⎥\n",
      "⎣-1  2 ⎦\n",
      "only one critical (x,y)=(2/3,-8/3)\n",
      "   |H|=3>0, fxx=2>0:  local minimum here.\n"
     ]
    }
   ],
   "source": [
    "func=x**2-x*y+y**2-4*x+6*y+6\n",
    "criticaltype(func)"
   ]
  },
  {
   "cell_type": "code",
   "execution_count": null,
   "metadata": {},
   "outputs": [],
   "source": []
  },
  {
   "cell_type": "markdown",
   "metadata": {},
   "source": [
    "Q$^\\circ$3.\n",
    "---\n",
    "Suppose that \n",
    "$$\n",
    " f(x,y)=\\left|\\begin{matrix}\n",
    "  \\frac{xy^2}{x^2+y^2}& \\text{ for }(x,y)\\ne(0,0)\\\\\n",
    "  0 & \\text{ for }(x,y)=(0,0)\\\\\n",
    "\\end{matrix}\\right.\n",
    "$$\n",
    "1$^\\circ$.) Find the limit of $f(x,y)$ at $(x,y)=(0,0)$ if exists.<br>\n",
    "2$^\\circ$.) Find all the partial derivatives of $f(x,y)$.<br>\n",
    "3$^\\circ$.) Find all the partial derivatives of $f(x,y)$ with respect to $x,y$ respectively at $(x,y)=(0,0)$, i.e. $\\mathbf{\\frac{\\partial f}{\\partial x}(0,0),\\frac{\\partial f}{\\partial y}(0,0)}$.<br>\n",
    "4$^\\circ$.) Find the directional derivative of $f(x,y)$ at $(x,y)=(2,1)$ from $(2,1)$ to $(3,0)$.<br>\n",
    "5$^\\circ$.) Find the tangent plane of $f(x,y)$ at $(x,y)=(2,1)$."
   ]
  },
  {
   "cell_type": "code",
   "execution_count": 19,
   "metadata": {},
   "outputs": [],
   "source": [
    "a,b=symbols(\"a b\",positive=True)"
   ]
  },
  {
   "cell_type": "code",
   "execution_count": 20,
   "metadata": {},
   "outputs": [
    {
     "data": {
      "text/latex": [
       "$\\displaystyle \\text{True}$"
      ],
      "text/plain": [
       "True"
      ]
     },
     "execution_count": 20,
     "metadata": {},
     "output_type": "execute_result"
    }
   ],
   "source": [
    "a>0\n"
   ]
  },
  {
   "cell_type": "code",
   "execution_count": 34,
   "metadata": {},
   "outputs": [
    {
     "name": "stdout",
     "output_type": "stream",
     "text": [
      "Function, 2*x*y, subject to -(x - 2)**2 - (y - 2)**2 + 1=0\n",
      "===\n",
      "[(2 - sqrt(2)/2, 2 - sqrt(2)/2, 1 - 2*sqrt(2)), (sqrt(2)/2 + 2, sqrt(2)/2 + 2, 1 + 2*sqrt(2))]\n",
      "  1֯ ). f = 2*x*y = 2*(2 - sqrt(2)/2)**2 at critical value (x,y)=(2 - sqrt(2)/2,2 - sqrt(2)/2)\n",
      "  2֯ ). f = 2*x*y = 2*(sqrt(2)/2 + 2)**2 at critical value (x,y)=(sqrt(2)/2 + 2,sqrt(2)/2 + 2)\n",
      "  ---\n",
      "\n",
      "  Maximum on the boundary is 2*(sqrt(2)/2 + 2)**2\n",
      "  Minimum on the boundary is 2*(2 - sqrt(2)/2)**2\n"
     ]
    }
   ],
   "source": [
    "f=2*x*y\n",
    "cond=1-(x-2)**2-(y-2)**2\n",
    "lagrangian(f,[x,y],[cond])"
   ]
  },
  {
   "cell_type": "code",
   "execution_count": null,
   "metadata": {},
   "outputs": [],
   "source": []
  }
 ],
 "metadata": {
  "hide_input": false,
  "kernelspec": {
   "display_name": "Python 3",
   "language": "python",
   "name": "python3"
  },
  "language_info": {
   "codemirror_mode": {
    "name": "ipython",
    "version": 3
   },
   "file_extension": ".py",
   "mimetype": "text/x-python",
   "name": "python",
   "nbconvert_exporter": "python",
   "pygments_lexer": "ipython3",
   "version": "3.8.5"
  }
 },
 "nbformat": 4,
 "nbformat_minor": 2
}
