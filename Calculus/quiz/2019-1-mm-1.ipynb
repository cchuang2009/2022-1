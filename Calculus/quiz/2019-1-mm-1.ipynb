{
 "cells": [
  {
   "cell_type": "markdown",
   "metadata": {},
   "source": [
    "# <div align=\"center\">Calculus, 2019-1-MM-1</div>\n",
    "\n",
    "<h3><div align=\"left\">Name:&nbsp;&nbsp;&nbsp;&nbsp;&nbsp;&nbsp;&nbsp;&nbsp;&nbsp;&nbsp;&nbsp;&nbsp;&nbsp;&nbsp;&nbsp;&nbsp;&nbsp;&nbsp;&nbsp;&nbsp;&nbsp;&nbsp;&nbsp;&nbsp;  Sequence Number:&nbsp;&nbsp;&nbsp;&nbsp;&nbsp;&nbsp;&nbsp;&nbsp;&nbsp;&nbsp;&nbsp;&nbsp;&nbsp;&nbsp;&nbsp;&nbsp;&nbsp;&nbsp;&nbsp;&nbsp;&nbsp;&nbsp;&nbsp;&nbsp;</div></h3>\n"
   ]
  },
  {
   "cell_type": "markdown",
   "metadata": {
    "collapsed": true
   },
   "source": [
    "<big>\n",
    "<big><b>1$^\\circ$). </b> </big>\n",
    "Find the following limits: (total 10%, each 5%) <br>\n",
    "a$^\\circ$). $\\mathbf{\\lim\\limits_{x\\to-1^{+}}[x]-[-x]}$ where $\\mathbf{[x]}$ is the greatest integer function that no more $\\mathbf{x}$.<br>\n",
    "b$^\\circ$). $\\mathbf{\\lim\\limits_{x \\rightarrow 1} \\displaystyle{\\frac{x^3-x }{x-1}}}$\n",
    "</big> "
   ]
  },
  {
   "cell_type": "markdown",
   "metadata": {},
   "source": [
    "<big>\n",
    "<big><b>2$^\\circ$).</b></big>\n",
    "Evaluate the following derivatives of given functions: (total 49%, each 7% ($\\color{brown}{\\times7}$))<br />\n",
    "a$^\\circ$). $\\mathbf{\\left(\\sqrt{1 +x+ x^2}\\right)'}$\n",
    "b$^\\circ$). $\\mathbf{\\left[\\displaystyle{\\frac{x^2-x}{x}}\\right]'}$\n",
    "c$^\\circ$). $\\mathbf{\\left[x \\sin x \\right]'}$\n",
    "d$^\\circ$). $\\mathbf{\\left[\\displaystyle{\\frac{1-x}{1+x^2}} \\right]'}$\n",
    "<br />\n",
    "e$^\\circ$). $\\mathbf{\\left.\\frac{d }{dx}(x^2-4x+3)\\right|_{x=3} }$\n",
    "f$^\\circ$). $\\mathbf{\\frac{d }{dx}(2+x^2)^{1/2} }$\n",
    "g$^\\circ$). $\\mathbf{D_x\\left(\\sin x^2\\right)}$<br />\n",
    "</big> "
   ]
  },
  {
   "cell_type": "markdown",
   "metadata": {
    "collapsed": true
   },
   "source": [
    "<big>\n",
    "<big><b>3$^\\circ$).</b> </big>(total 12%, <font color=\"brown\">a$^\\circ$). 5%</font> and b$^\\circ$). <font color=\"brown\">7%)</font><br>\n",
    "a$^\\circ$). \n",
    "Suppose that \n",
    "$$ \\mathbf{f(x)=x \\exp(-x)\\text{ where } x\\in{\\mathbb R}}$$\n",
    "Find the third derivative of $\\mathbf{f(x)}$,  $\\mathbf{f''(x)}$.\n",
    "<br />\n",
    "b$^\\circ$). Suppose that $x,y\\in\\mathbb{R}$ satisfy:\n",
    "$$\\mathbf{ x+y^2=x y}$$\n",
    "Find the derivative of $y$ (5%), and find the positions of $(x,y)$ at which there is( are) horizontal tanget line(s) (2%). \n",
    "</big> "
   ]
  },
  {
   "cell_type": "markdown",
   "metadata": {
    "collapsed": true
   },
   "source": [
    "<big>\n",
    "<big><b>4$^\\circ$). </b> </big>(10%)\n",
    "Suppose that $\\mathbf{f(x)=x^4-x^2+4}$. <br>\n",
    "a$^\\circ$). (5%) Find the critical values for $\\mathbf{f(x)}$ and determine the monotoncity of $\\mathbf{f(x)}$.\n",
    "\n",
    "b$^\\circ$). (5%) Find the inflection point for $\\mathbf{f(x)}$ and determine the concavity of $\\mathbf{f(x)}$.\n",
    "</big> "
   ]
  },
  {
   "cell_type": "markdown",
   "metadata": {
    "collapsed": true
   },
   "source": [
    "<big>\n",
    "<big><b>5$^\\circ$).</b></big> (10%)\n",
    "Suppose that  $\\mathbf{f (x) = 2 x\\exp{(-x)}}$ for $\\mathbf{x \\in [0,4]}$. <br>\n",
    "a$^\\circ$). (5%) Find all the critical values of $\\mathbf{f(x)}$ (including boundary points).<br>\n",
    "b$^\\circ$). (5%) Find all the relative and absolute extreme values of $\\mathbf{f (x)}$ if any. \n",
    "</big> "
   ]
  },
  {
   "cell_type": "markdown",
   "metadata": {
    "collapsed": true
   },
   "source": [
    "<big>\n",
    "<big><b>6$^\\circ$).</b></big> (total 10%, each 5%) Describe the following Theorem:<br>\n",
    "    a$^\\circ$). Mean Vaule Theorem. <br>\n",
    "b$^\\circ$). Find the $\\mathbf{c}$ in a$^\\circ$) for $\\mathbf{f(x)=x+x^3}$ over $[-1,3]$. \n",
    "</big> "
   ]
  },
  {
   "cell_type": "markdown",
   "metadata": {
    "collapsed": true
   },
   "source": [
    "\n",
    "\n",
    "\n",
    "\n",
    "\n",
    "\n",
    "\n",
    "\n",
    "\n",
    "\n",
    "\n",
    "\n",
    "\n",
    "\n",
    "\n",
    "\n",
    "\n",
    "\n",
    "\n",
    "\n",
    "\n",
    "\n",
    "\n",
    "\n",
    "\n",
    "\n",
    "\n",
    "\n",
    "\n",
    "\n"
   ]
  },
  {
   "cell_type": "markdown",
   "metadata": {
    "collapsed": true
   },
   "source": [
    "Answer\n",
    "---"
   ]
  },
  {
   "cell_type": "code",
   "execution_count": 1,
   "metadata": {},
   "outputs": [],
   "source": [
    "from sympy import symbols, pprint,limit,diff,sin,sqrt,cos,solve,Derivative,Function,floor,exp"
   ]
  },
  {
   "cell_type": "code",
   "execution_count": 2,
   "metadata": {},
   "outputs": [],
   "source": [
    "x,w =symbols(\"x w\")"
   ]
  },
  {
   "cell_type": "code",
   "execution_count": 3,
   "metadata": {},
   "outputs": [
    {
     "name": "stdout",
     "output_type": "stream",
     "text": [
      "1. a) The limit of [x]-[-x] at x=-1⁺, is:\n",
      "-1\n"
     ]
    }
   ],
   "source": [
    "# 1. a)\n",
    "print(\"1. a) The limit of [x]-[-x] at x=-1⁺, is:\")\n",
    "pprint(limit((floor(x)-floor(-x)),x,-1))"
   ]
  },
  {
   "cell_type": "code",
   "execution_count": 4,
   "metadata": {},
   "outputs": [
    {
     "name": "stdout",
     "output_type": "stream",
     "text": [
      "1. b) The limit of (x^3-1)/(x-1) at x=1,, is:\n",
      "2\n"
     ]
    }
   ],
   "source": [
    "#1. b)\n",
    "print(\"1. b) The limit of (x^3-1)/(x-1) at x=1,, is:\")\n",
    "pprint(limit((x**3-x)/(x-1),x,1))"
   ]
  },
  {
   "cell_type": "code",
   "execution_count": 13,
   "metadata": {},
   "outputs": [
    {
     "name": "stdout",
     "output_type": "stream",
     "text": [
      "2. a) The derivatice of √(x^2+x+1), is:\n",
      "    x + 1/2    \n",
      "───────────────\n",
      "   ____________\n",
      "  ╱  2         \n",
      "╲╱  x  + x + 1 \n"
     ]
    }
   ],
   "source": [
    "#2. a)\n",
    "print(\"2. a) The derivatice of √(x^2+x+1), is:\")\n",
    "pprint(diff(sqrt(x*x+x+1),x))"
   ]
  },
  {
   "cell_type": "code",
   "execution_count": 15,
   "metadata": {},
   "outputs": [
    {
     "name": "stdout",
     "output_type": "stream",
     "text": [
      "2. b) The derivatice of (x*x-1)/x, is:\n",
      "1\n"
     ]
    }
   ],
   "source": [
    "#2. b)\n",
    "print(\"2. b) The derivatice of (x*x-1)/x, is:\")\n",
    "pprint(diff(x-1,x))"
   ]
  },
  {
   "cell_type": "code",
   "execution_count": 16,
   "metadata": {},
   "outputs": [
    {
     "name": "stdout",
     "output_type": "stream",
     "text": [
      "2. c) The derivatice of x sin x, is:\n",
      "x⋅cos(x) + sin(x)\n"
     ]
    }
   ],
   "source": [
    "#2. c)\n",
    "print(\"2. c) The derivatice of x sin x, is:\")\n",
    "pprint(diff(x*sin(x),x))"
   ]
  },
  {
   "cell_type": "code",
   "execution_count": 17,
   "metadata": {},
   "outputs": [
    {
     "name": "stdout",
     "output_type": "stream",
     "text": [
      "2. d) The derivatice of (1-x)/(1+x^2), is:\n",
      "  2⋅x⋅(1 - x)     1   \n",
      "- ─────────── - ──────\n",
      "           2     2    \n",
      "   ⎛ 2    ⎞     x  + 1\n",
      "   ⎝x  + 1⎠           \n"
     ]
    }
   ],
   "source": [
    "#2. d)\n",
    "print(\"2. d) The derivatice of (1-x)/(1+x^2), is:\")\n",
    "pprint(diff((1-x)/(1+x**2),x))"
   ]
  },
  {
   "cell_type": "code",
   "execution_count": 18,
   "metadata": {},
   "outputs": [
    {
     "name": "stdout",
     "output_type": "stream",
     "text": [
      "2. e) The derivatice of x²-4x+3 at x=3, is:\n",
      "2\n"
     ]
    }
   ],
   "source": [
    "#2. e)\n",
    "print(\"2. e) The derivatice of x²-4x+3 at x=3, is:\")\n",
    "pprint(diff(x**2-4*x+3,x).subs({x:3}))"
   ]
  },
  {
   "cell_type": "code",
   "execution_count": 19,
   "metadata": {},
   "outputs": [
    {
     "name": "stdout",
     "output_type": "stream",
     "text": [
      "2. f) The derivatice of √(x²+2), is:\n",
      "     x     \n",
      "───────────\n",
      "   ________\n",
      "  ╱  2     \n",
      "╲╱  x  + 2 \n"
     ]
    }
   ],
   "source": [
    "#2. f)\n",
    "print(\"2. f) The derivatice of √(x²+2), is:\")\n",
    "pprint(diff(sqrt(2+x**2),x))"
   ]
  },
  {
   "cell_type": "code",
   "execution_count": 20,
   "metadata": {},
   "outputs": [
    {
     "name": "stdout",
     "output_type": "stream",
     "text": [
      "2. g) The derivatice of sin(x²), is:\n",
      "       ⎛ 2⎞\n",
      "2⋅x⋅cos⎝x ⎠\n"
     ]
    }
   ],
   "source": [
    "#2. g)\n",
    "print(\"2. g) The derivatice of sin(x²), is:\")\n",
    "pprint(diff(sin(x**2),x))"
   ]
  },
  {
   "cell_type": "markdown",
   "metadata": {},
   "source": [
    "**2.** h)\n",
    "\n",
    "$$ f'(0)=\\lim\\limits_{x\\to0}\\frac{x^2 \\sin (1 / x)-0}{x}=0$$"
   ]
  },
  {
   "cell_type": "code",
   "execution_count": 24,
   "metadata": {},
   "outputs": [
    {
     "name": "stdout",
     "output_type": "stream",
     "text": [
      "3. a) The second-order derivatice of x exp(-x), is:\n",
      "     -x    -x\n",
      "- x⋅ℯ   + ℯ  \n"
     ]
    }
   ],
   "source": [
    "#3. a)\n",
    "print(\"3. a) The second-order derivatice of x exp(-x), is:\")\n",
    "pprint(diff(x*exp(-x)),x,2)"
   ]
  },
  {
   "cell_type": "code",
   "execution_count": 25,
   "metadata": {},
   "outputs": [],
   "source": [
    "def ImplicitDiff(express):\n",
    "    l=diff(express,x);\n",
    "    print(\"y'(x) =\",solve(l,Derivative(y,x))[0])"
   ]
  },
  {
   "cell_type": "code",
   "execution_count": 26,
   "metadata": {},
   "outputs": [
    {
     "name": "stdout",
     "output_type": "stream",
     "text": [
      "3. b) The derivatice of y for x+y^2=xy, is:\n",
      "y'(x) = (1 - y(x))/(x - 2*y(x))\n"
     ]
    }
   ],
   "source": [
    "y=Function(\"y\")\n",
    "y=y(x)\n",
    "print(\"3. b) The derivatice of y for x+y^2=xy, is:\")\n",
    "ImplicitDiff(x+y**2-x*y)"
   ]
  },
  {
   "cell_type": "markdown",
   "metadata": {},
   "source": [
    "If $y'(x)=0$, it implies $y=1$. Then\n",
    "$$ x+1=x$$ \n",
    "And there is no solution of $x=0$ ."
   ]
  },
  {
   "cell_type": "markdown",
   "metadata": {},
   "source": [
    "**4)**. a)\n",
    "- critical values:\n",
    "$$ 0=f' (x) =  (x^4-x^2+4)'  \\Longrightarrow 0=4x^3-2x  \\Longrightarrow x=0,\\pm\\sqrt{1/2}$$\n",
    "Thus\n",
    "- $x<-\\sqrt{1/2}$ or $0<x<\\sqrt{1/2}$ $\\to f'<0\\to f(x)$ is decreasing;\n",
    "- otherwise, $\\to f(x)$ is increasing\n",
    "\n",
    "b)\n",
    "$$f''=12x^2-2$$\n",
    "This means \n",
    "- $|x|>\\sqrt{1/6}$, $f$ concave upward, otherwise, concave downward; <br>and \n",
    "$\\left(\\pm\\sqrt{1/6}, f(\\pm\\sqrt{1/6})\\right)$ are inflection points!"
   ]
  },
  {
   "cell_type": "markdown",
   "metadata": {},
   "source": [
    "**4)**. a)\n",
    "- critical values:\n",
    "$$ 0=f' (x) =  2\\exp(-x)--2x\\exp(-x)  \\Longrightarrow x=1$$\n",
    "and boundary points, 0 and 4.\n",
    "\n",
    "b)\n",
    "From first derivative test,\n",
    "- $f(1)=2/e$: abosulte maximum and local maximum,\n",
    "- $f(0)=0$: abosulte minimum and local minimum,\n",
    "- $f(4)=8/e^4$: local minimum only.\n"
   ]
  },
  {
   "cell_type": "markdown",
   "metadata": {},
   "source": [
    "**6).** <br>\n",
    "a). Mean Value Theorem, MVT,\n",
    "Assume that $f (x)$\n",
    "  is continuous on $[a, b]$ and differentiable in $(a, b)$. There exists at\n",
    "  least one $c \\in (a, b)$ such that\n",
    "$$ f' (c) = \\frac{f (b) - f (a)}{b - a} $$"
   ]
  },
  {
   "cell_type": "code",
   "execution_count": null,
   "metadata": {},
   "outputs": [],
   "source": []
  },
  {
   "cell_type": "code",
   "execution_count": null,
   "metadata": {
    "collapsed": true
   },
   "outputs": [],
   "source": []
  }
 ],
 "metadata": {
  "kernelspec": {
   "display_name": "Python 3",
   "language": "python",
   "name": "python3"
  },
  "language_info": {
   "codemirror_mode": {
    "name": "ipython",
    "version": 3
   },
   "file_extension": ".py",
   "mimetype": "text/x-python",
   "name": "python",
   "nbconvert_exporter": "python",
   "pygments_lexer": "ipython3",
   "version": "3.6.5"
  },
  "toc": {
   "colors": {
    "hover_highlight": "#DAA520",
    "navigate_num": "#000000",
    "navigate_text": "#333333",
    "running_highlight": "#FF0000",
    "selected_highlight": "#FFD700",
    "sidebar_border": "#EEEEEE",
    "wrapper_background": "#FFFFFF"
   },
   "moveMenuLeft": true,
   "nav_menu": {
    "height": "102px",
    "width": "252px"
   },
   "navigate_menu": true,
   "number_sections": true,
   "sideBar": true,
   "threshold": 4,
   "toc_cell": false,
   "toc_section_display": "block",
   "toc_window_display": false,
   "widenNotebook": false
  }
 },
 "nbformat": 4,
 "nbformat_minor": 1
}
