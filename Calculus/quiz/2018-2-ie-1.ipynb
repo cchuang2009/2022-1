{
 "cells": [
  {
   "cell_type": "markdown",
   "metadata": {},
   "source": [
    "[<big><big><b><div align=\"center\">Calculus, 2018-2-IE-1</div></b></big></big>\n",
    "\n",
    "<h3><div align=\"right\">Name:&nbsp;&nbsp;&nbsp;&nbsp;&nbsp;&nbsp;&nbsp;&nbsp;&nbsp;&nbsp;&nbsp;&nbsp;&nbsp;&nbsp;&nbsp;&nbsp;&nbsp;  Sequence Number:&nbsp;&nbsp;&nbsp;&nbsp;&nbsp;&nbsp;&nbsp;&nbsp;&nbsp;&nbsp;&nbsp;&nbsp;&nbsp;&nbsp;&nbsp;&nbsp;&nbsp;&nbsp;&nbsp;&nbsp;&nbsp;&nbsp;&nbsp;&nbsp;</div></h3>"
   ]
  },
  {
   "cell_type": "markdown",
   "metadata": {
    "collapsed": true
   },
   "source": [
    "<big>\n",
    "<big><b>1$^\\circ$). </b> \n",
    "Determine whether the following sequence is convergent or divergent? Why? (total 20%) <br>\n",
    "\n",
    "a). $\\sum\\limits_{n = 1}^{\\infty}\\left(\\frac{1-2n}{2+n}\\right)$,\n",
    "b).   $\\sum\\limits_{n = 1}^{\\infty}\\left(\\frac{1-\\ln n}{n^2}\\right)$  \n",
    "</big> "
   ]
  },
  {
   "cell_type": "markdown",
   "metadata": {
    "collapsed": true
   },
   "source": [
    " "
   ]
  },
  {
   "cell_type": "markdown",
   "metadata": {
    "collapsed": true
   },
   "source": [
    " "
   ]
  },
  {
   "cell_type": "markdown",
   "metadata": {
    "collapsed": true
   },
   "source": [
    " "
   ]
  },
  {
   "cell_type": "markdown",
   "metadata": {
    "collapsed": true
   },
   "source": [
    " "
   ]
  },
  {
   "cell_type": "markdown",
   "metadata": {
    "collapsed": true
   },
   "source": [
    " "
   ]
  },
  {
   "cell_type": "markdown",
   "metadata": {
    "collapsed": true
   },
   "source": [
    " "
   ]
  },
  {
   "cell_type": "markdown",
   "metadata": {
    "collapsed": true
   },
   "source": [
    " "
   ]
  },
  {
   "cell_type": "markdown",
   "metadata": {
    "collapsed": true
   },
   "source": [
    " "
   ]
  },
  {
   "cell_type": "markdown",
   "metadata": {
    "collapsed": true
   },
   "source": [
    " "
   ]
  },
  {
   "cell_type": "markdown",
   "metadata": {
    "collapsed": true
   },
   "source": [
    "<big>\n",
    "<big><b>2$^\\circ$).</b> \n",
    "\n",
    "Find the Taylor series of $f(x)$ below and its convergent radius\n",
    "(20%):\n",
    "\n",
    "a). $f(x)=\\frac{x}{2x-1} \\text{ at }x=2$,\n",
    "b). $g(x)=e^{-x}$ at $x=1$.\n",
    "</big> "
   ]
  },
  {
   "cell_type": "markdown",
   "metadata": {},
   "source": [
    "<big><b>Hint:</b></big><br>\n",
    "\\begin{eqnarray}\n",
    "   \\color{black}{ \\text{a). }\\frac{x}{2x-1} =\\frac{1}{2}\\left(1+\\frac{1}{3+2(x-2)}\\right)},\n",
    "   \\text{ b). }e^{-x}=e^{-1}\\cdot e^{-(x-1)}\n",
    "\\end{eqnarray}"
   ]
  },
  {
   "cell_type": "markdown",
   "metadata": {
    "collapsed": true
   },
   "source": [
    " "
   ]
  },
  {
   "cell_type": "markdown",
   "metadata": {
    "collapsed": true
   },
   "source": [
    " "
   ]
  },
  {
   "cell_type": "markdown",
   "metadata": {
    "collapsed": true
   },
   "source": [
    " "
   ]
  },
  {
   "cell_type": "markdown",
   "metadata": {
    "collapsed": true
   },
   "source": [
    " "
   ]
  },
  {
   "cell_type": "markdown",
   "metadata": {
    "collapsed": true
   },
   "source": [
    " "
   ]
  },
  {
   "cell_type": "markdown",
   "metadata": {
    "collapsed": true
   },
   "source": [
    " "
   ]
  },
  {
   "cell_type": "markdown",
   "metadata": {
    "collapsed": true
   },
   "source": [
    " "
   ]
  },
  {
   "cell_type": "markdown",
   "metadata": {
    "collapsed": true
   },
   "source": [
    " "
   ]
  },
  {
   "cell_type": "markdown",
   "metadata": {
    "collapsed": true
   },
   "source": [
    " "
   ]
  },
  {
   "cell_type": "markdown",
   "metadata": {
    "collapsed": true
   },
   "source": [
    " "
   ]
  },
  {
   "cell_type": "markdown",
   "metadata": {
    "collapsed": true
   },
   "source": [
    " "
   ]
  },
  {
   "cell_type": "markdown",
   "metadata": {
    "collapsed": true
   },
   "source": [
    " "
   ]
  },
  {
   "cell_type": "markdown",
   "metadata": {
    "collapsed": true
   },
   "source": [
    " "
   ]
  },
  {
   "cell_type": "markdown",
   "metadata": {
    "collapsed": true
   },
   "source": [
    " "
   ]
  },
  {
   "cell_type": "markdown",
   "metadata": {
    "collapsed": true
   },
   "source": [
    " "
   ]
  },
  {
   "cell_type": "markdown",
   "metadata": {
    "collapsed": true
   },
   "source": [
    " "
   ]
  },
  {
   "cell_type": "markdown",
   "metadata": {
    "collapsed": true
   },
   "source": [
    " "
   ]
  },
  {
   "cell_type": "markdown",
   "metadata": {
    "collapsed": true
   },
   "source": [
    " <big>\n",
    "<big><b>3$^\\circ$).</b> \n",
    "Suppose that $f(x,y)=\\frac{xy^2}{x^2+y^2}$. (total 60%, each %10)\n",
    "\n",
    "a). Find the domain and range of $f(x,y)$.<br> \n",
    "b). Find the limit of $f(x,y)$ at $(x,y)=(0,0)$ if exists.  <br>  \n",
    "c). Find all the partial derivates of $f(x,y)$.<br>\n",
    "d). If the function value of $f(x,y)$ at $(x,y)=(0,0)$ is set as 0. Find $\\frac{\\partial f}{\\partial (x,y)}(0,0)$, i.e. gradient of $f(x,y)$ at $(x,y)=(0,0).$ <br>\n",
    "e). Find the directional derivative of $f(x,y)$ at $(x,y)=(2,1)$ in the direction $\\vec u=(4,3)$. <br>\n",
    "f). Also find tangent plane of $f(x,y)$ at $(x,y)=(2,1)$. \n",
    "</big> \n",
    "\n",
    "\n",
    "\n",
    "\n",
    "\n",
    "\n",
    "\n",
    "\n",
    "\n",
    "\n"
   ]
  },
  {
   "cell_type": "markdown",
   "metadata": {
    "collapsed": true
   },
   "source": [
    " "
   ]
  },
  {
   "cell_type": "markdown",
   "metadata": {
    "collapsed": true
   },
   "source": [
    " "
   ]
  },
  {
   "cell_type": "markdown",
   "metadata": {
    "collapsed": true
   },
   "source": [
    " "
   ]
  },
  {
   "cell_type": "markdown",
   "metadata": {
    "collapsed": true
   },
   "source": [
    " "
   ]
  },
  {
   "cell_type": "markdown",
   "metadata": {
    "collapsed": true
   },
   "source": [
    " "
   ]
  },
  {
   "cell_type": "markdown",
   "metadata": {
    "collapsed": true
   },
   "source": [
    " "
   ]
  },
  {
   "cell_type": "markdown",
   "metadata": {
    "collapsed": true
   },
   "source": [
    " "
   ]
  },
  {
   "cell_type": "markdown",
   "metadata": {
    "collapsed": true
   },
   "source": [
    " "
   ]
  },
  {
   "cell_type": "markdown",
   "metadata": {
    "collapsed": true
   },
   "source": [
    " "
   ]
  },
  {
   "cell_type": "markdown",
   "metadata": {
    "collapsed": true
   },
   "source": [
    " "
   ]
  },
  {
   "cell_type": "markdown",
   "metadata": {
    "collapsed": true
   },
   "source": [
    " "
   ]
  },
  {
   "cell_type": "markdown",
   "metadata": {
    "collapsed": true
   },
   "source": [
    " "
   ]
  },
  {
   "cell_type": "markdown",
   "metadata": {
    "collapsed": true
   },
   "source": [
    " "
   ]
  },
  {
   "cell_type": "markdown",
   "metadata": {
    "collapsed": true
   },
   "source": [
    " "
   ]
  },
  {
   "cell_type": "markdown",
   "metadata": {
    "collapsed": true
   },
   "source": [
    " "
   ]
  },
  {
   "cell_type": "markdown",
   "metadata": {
    "collapsed": true
   },
   "source": [
    " "
   ]
  },
  {
   "cell_type": "markdown",
   "metadata": {
    "collapsed": true
   },
   "source": [
    " "
   ]
  },
  {
   "cell_type": "markdown",
   "metadata": {
    "collapsed": true
   },
   "source": [
    " "
   ]
  },
  {
   "cell_type": "markdown",
   "metadata": {
    "collapsed": true
   },
   "source": [
    " "
   ]
  },
  {
   "cell_type": "markdown",
   "metadata": {
    "collapsed": true
   },
   "source": [
    " "
   ]
  },
  {
   "cell_type": "markdown",
   "metadata": {
    "collapsed": true
   },
   "source": [
    " "
   ]
  },
  {
   "cell_type": "markdown",
   "metadata": {
    "collapsed": true
   },
   "source": [
    " "
   ]
  },
  {
   "cell_type": "markdown",
   "metadata": {
    "collapsed": true
   },
   "source": [
    " "
   ]
  },
  {
   "cell_type": "markdown",
   "metadata": {
    "collapsed": true
   },
   "source": [
    " "
   ]
  },
  {
   "cell_type": "markdown",
   "metadata": {
    "collapsed": true
   },
   "source": [
    " "
   ]
  },
  {
   "cell_type": "markdown",
   "metadata": {
    "collapsed": true
   },
   "source": [
    " "
   ]
  },
  {
   "cell_type": "markdown",
   "metadata": {
    "collapsed": true
   },
   "source": [
    " "
   ]
  },
  {
   "cell_type": "markdown",
   "metadata": {
    "collapsed": true
   },
   "source": [
    " "
   ]
  },
  {
   "cell_type": "markdown",
   "metadata": {
    "collapsed": true
   },
   "source": [
    " "
   ]
  },
  {
   "cell_type": "markdown",
   "metadata": {},
   "source": [
    "<big>\n",
    "<big><b>1$^\\circ$). </b> \n",
    "    \n",
    "a). $\\sum\\limits_{n = 1}^{\\infty}\\left(\\frac{1-2n}{2+n}\\right)$, by `n-term` test (5%), it is divergent,\n",
    "      $$\\frac{1-2n}{2+n}\\to -2\\ne0\\quad(5\\%)$$    \n",
    "    \n",
    "    \n",
    "    \n",
    "b).   $\\sum\\limits_{n = 1}^{\\infty}\\left(\\frac{1-\\ln n}{n^2}\\right)=\\sum\\limits_{n = 1}^{\\infty}\\left(\\frac{1}{n^2}\\right)-\\sum\\limits_{n = 1}^{\\infty}\\left(\\frac{\\ln n}{n^2}\\right)$, it is convergent, since \n",
    "- the former is convergent by $p$-series test, $p=2>1$, (5%)\n",
    "- the latter is also convergent by  comparison test, (5%)\n",
    "$$\\frac{\\ln n}{n^2}<\\frac{n^{1/2}}{n^2}$$\n",
    "</big> "
   ]
  },
  {
   "cell_type": "markdown",
   "metadata": {
    "collapsed": true
   },
   "source": [
    "<big>\n",
    "<big><b>2$^\\circ$).</b> \n",
    "a). \n",
    " \n",
    "\\begin{eqnarray}\n",
    "   \\frac{x}{2x-1} &=&\\frac{1}{2}\\left(1+\\frac{1}{3+2(x-2)}\\right),\\\\\n",
    "                  &=&  \\frac{1}{2}-\\frac{1}{3}\\sum_{n=0}^\\infty(-1)^n\\left(\\frac{2}{3}\\right)^n(x-2)^n,\\quad(5\\%)\n",
    "\\end{eqnarray}\n",
    "and the convergent radius is $3/2$ since $|\\frac{2(x-2)}{3}|<1\\Rightarrow|x-2|<3/2$(5%).\n",
    "</big>\n",
    "\n",
    "b). \n",
    "$$e^{-x}=e^{-1}\\cdot e^{-(x-1)}=e^{-1}\\cdot\\left[\\sum_{n=0}^\\infty \\frac{(-1)^n(x-1)^n}{n!}\\right]\\quad(5\\%)$$\n",
    "and the convergent radius is $\\infty$. (5%)"
   ]
  },
  {
   "cell_type": "markdown",
   "metadata": {
    "collapsed": true
   },
   "source": [
    " <big>\n",
    "<big><b>3$^\\circ$).</b> \n",
    "Suppose that $f(x,y)=\\frac{xy^2}{x^2+y^2}$. (total 60%, each %10)\n",
    "\n",
    "a). domain is $\\mathbb{R}^2\\backslash\\{(0,0)\\}$ (5%)  and range is $\\mathbb{R}$ (5%).<br> \n",
    "b). the limit is 0 since $0\\le|\\frac{xy^2}{x^2+y^2}|\\le(x^2+y^2)^{1/2}\\to 0$ if $(x,y)\\to(0,0)$. (10%) <br>  \n",
    "c). $\\frac{\\partial f}{\\partial x}=\\frac{y^4-x^2y^2}{(x^2+y^2)^2}$ (5%),$\\frac{\\partial f}{\\partial y}=\\frac{2x^3y}{(x^2+y^2)^2}$ (5%)<br>\n",
    "d). \n",
    "\\begin{eqnarray}\n",
    "\\frac{\\partial f}{\\partial x}(0,0)=\\lim_{h\\to0}\\frac{\\frac{h\\cdot0^2}{h^2+0^2}-0}{h}=0, (5\\%)\\\\\n",
    "\\frac{\\partial f}{\\partial y}(0,0)=\\lim_{k\\to0}\\frac{\\frac{0\\cdot k^2}{0^2+k^2}-0}{h}=0\\quad(5\\%)\n",
    "\\end{eqnarray}\n",
    "Thus $\\nabla f(0,0)=(0,0)$.\n",
    "<br>\n",
    "\n",
    "e).  \n",
    "- $\\vec u=(4,3)\\to \\vec e_u=(4/5,3/5)$ (3%)\n",
    "- $ \\nabla f(2,1)=(\\frac{1^4-2^2\\cdot1^2}{(2^2+1^2)^2},\\frac{2\\cdot2^3\\cdot1}{(2^2+1^2)^2})=(-3,16)/25$. (3%)\n",
    "- $D_{\\vec u}f(2,1)=(-3,16)\\cdot(4,3)/125=36/125.$ (4%)\n",
    ",<br>\n",
    "\n",
    "f).  \n",
    "- normal vector: $\\vec n=(\\nabla f(2,1),-1)=(-3/25,16/25,-1)$, (5%)\n",
    "- tangent plane:, $f(2,1)=2/5$ \n",
    "$$(-3/25,16/25,-1)\\cdot(x-2,y-1,z-2/5)=0, (5\\%)$$\n",
    "i.e. $z-2/5=16(y-1)/25-3(x-2)/25$. (5%)\n",
    "</big> \n",
    "\n",
    "\n",
    "\n",
    "\n",
    "\n",
    "\n",
    "\n",
    "\n",
    "\n",
    "\n"
   ]
  },
  {
   "cell_type": "markdown",
   "metadata": {
    "collapsed": true
   },
   "source": [
    " "
   ]
  }
 ],
 "metadata": {
  "kernelspec": {
   "display_name": "Python 3",
   "language": "python",
   "name": "python3"
  },
  "language_info": {
   "codemirror_mode": {
    "name": "ipython",
    "version": 3
   },
   "file_extension": ".py",
   "mimetype": "text/x-python",
   "name": "python",
   "nbconvert_exporter": "python",
   "pygments_lexer": "ipython3",
   "version": "3.6.5"
  },
  "toc": {
   "colors": {
    "hover_highlight": "#DAA520",
    "navigate_num": "#000000",
    "navigate_text": "#333333",
    "running_highlight": "#FF0000",
    "selected_highlight": "#FFD700",
    "sidebar_border": "#EEEEEE",
    "wrapper_background": "#FFFFFF"
   },
   "moveMenuLeft": true,
   "nav_menu": {
    "height": "49px",
    "width": "252px"
   },
   "navigate_menu": true,
   "number_sections": true,
   "sideBar": true,
   "threshold": 4,
   "toc_cell": false,
   "toc_section_display": "block",
   "toc_window_display": false,
   "widenNotebook": false
  }
 },
 "nbformat": 4,
 "nbformat_minor": 1
}
