{
 "cells": [
  {
   "cell_type": "markdown",
   "metadata": {},
   "source": [
    "# <div align=\"center\">Calculus, 2017-1-ME-2</div>\n",
    "\n",
    "<h3><div align=\"middle\">Name:&nbsp;&nbsp;&nbsp;&nbsp;&nbsp;&nbsp;&nbsp;&nbsp;&nbsp;&nbsp;&nbsp;&nbsp;&nbsp;&nbsp;&nbsp;&nbsp;&nbsp;&nbsp;&nbsp;&nbsp;&nbsp;&nbsp;&nbsp;&nbsp;  Sequence Number:&nbsp;&nbsp;&nbsp;&nbsp;&nbsp;&nbsp;&nbsp;&nbsp;&nbsp;&nbsp;&nbsp;&nbsp;&nbsp;&nbsp;&nbsp;&nbsp;&nbsp;&nbsp;&nbsp;&nbsp;&nbsp;&nbsp;&nbsp;&nbsp;</div></h3>\n"
   ]
  },
  {
   "cell_type": "markdown",
   "metadata": {},
   "source": [
    "<big><big>\n",
    "<big><b>1$^\\circ$).</b></big>\n",
    "Evaluate the following Integrations: (total 100%, each 10% ($\\color{brown}{\\times10}$))<br />\n",
    "a$^\\circ$). $\\mathbf{\\int^{\\pi/2}_0\\sin^2 xdx}=$                 <br>\n",
    "b$^\\circ$). $\\mathbf{\\int_{\\pi/6}^{\\pi/2}\\frac{\\cos x}{\\sin x}dx}=$<br>\n",
    "c$^\\circ$). $\\mathbf{\\int^{\\pi/2}_0\\sin^3  x dx}=$ <br />\n",
    "d$^\\circ$). $\\mathbf{\\int^{\\sqrt2}_{0}\\sqrt{2-x^2}dx}=$ <br>\n",
    "e$^\\circ$). $\\mathbf{\\int_0^1 e^{-x+1}dx}=$ <br>\n",
    "f$^\\circ$). $\\mathbf{\\int_0^{\\sqrt2} \\frac{1}{2+x^2}dx }=$<br />\n",
    "g$^\\circ$). $\\mathbf{\\int_1^{e}\\ln xdx}=$ <br>\n",
    "h$^\\circ$). $\\mathbf{\\int_0^{1/2}\\frac{ x dx}{1- x^2}}=$ <br>\n",
    "i$^\\circ$). $\\mathbf{\\int_0^{\\pi/4}\\cos x\\cos 2x dx}=$<br>\n",
    "j$^\\circ$). $\\mathbf{\\int_1^4\\frac{\\sqrt x-x^2}{ x^2}dx}=$         \n",
    "</big> </big>"
   ]
  },
  {
   "cell_type": "markdown",
   "metadata": {
    "collapsed": true
   },
   "source": [
    "<big><big>\n",
    "<big><b>2$^\\circ$).</b></big> (total 10%) Evaluate the derivative\n",
    "$$\\mathbf{\\frac{d}{dx}\\int^{x}_{-x}\\frac{e^t}{e^t+e^{-t}}dt}=$$\n",
    "</big> </big>"
   ]
  },
  {
   "cell_type": "markdown",
   "metadata": {
    "collapsed": true
   },
   "source": [
    " "
   ]
  },
  {
   "cell_type": "markdown",
   "metadata": {
    "collapsed": true
   },
   "source": [
    " "
   ]
  },
  {
   "cell_type": "markdown",
   "metadata": {
    "collapsed": true
   },
   "source": [
    " "
   ]
  },
  {
   "cell_type": "markdown",
   "metadata": {
    "collapsed": true
   },
   "source": [
    " "
   ]
  },
  {
   "cell_type": "markdown",
   "metadata": {
    "collapsed": true
   },
   "source": [
    " "
   ]
  },
  {
   "cell_type": "markdown",
   "metadata": {
    "collapsed": true
   },
   "source": [
    " "
   ]
  },
  {
   "cell_type": "markdown",
   "metadata": {
    "collapsed": true
   },
   "source": [
    " "
   ]
  },
  {
   "cell_type": "markdown",
   "metadata": {
    "collapsed": true
   },
   "source": [
    " "
   ]
  },
  {
   "cell_type": "markdown",
   "metadata": {
    "collapsed": true
   },
   "source": [
    " "
   ]
  },
  {
   "cell_type": "markdown",
   "metadata": {
    "collapsed": true
   },
   "source": [
    " "
   ]
  },
  {
   "cell_type": "markdown",
   "metadata": {
    "collapsed": true
   },
   "source": [
    " "
   ]
  },
  {
   "cell_type": "markdown",
   "metadata": {
    "collapsed": true
   },
   "source": [
    " "
   ]
  },
  {
   "cell_type": "markdown",
   "metadata": {
    "collapsed": true
   },
   "source": [
    " "
   ]
  },
  {
   "cell_type": "markdown",
   "metadata": {
    "collapsed": true
   },
   "source": [
    " "
   ]
  },
  {
   "cell_type": "markdown",
   "metadata": {
    "collapsed": true
   },
   "source": [
    " "
   ]
  },
  {
   "cell_type": "markdown",
   "metadata": {
    "collapsed": true
   },
   "source": [
    " "
   ]
  },
  {
   "cell_type": "markdown",
   "metadata": {
    "collapsed": true
   },
   "source": [
    " "
   ]
  },
  {
   "cell_type": "markdown",
   "metadata": {
    "collapsed": true
   },
   "source": [
    " "
   ]
  },
  {
   "cell_type": "markdown",
   "metadata": {
    "collapsed": true
   },
   "source": [
    " "
   ]
  },
  {
   "cell_type": "markdown",
   "metadata": {
    "collapsed": true
   },
   "source": [
    " "
   ]
  },
  {
   "cell_type": "markdown",
   "metadata": {
    "collapsed": true
   },
   "source": [
    " "
   ]
  },
  {
   "cell_type": "markdown",
   "metadata": {
    "collapsed": true
   },
   "source": [
    " "
   ]
  },
  {
   "cell_type": "markdown",
   "metadata": {
    "collapsed": true
   },
   "source": [
    "Answer\n",
    "---"
   ]
  },
  {
   "cell_type": "code",
   "execution_count": 1,
   "metadata": {},
   "outputs": [],
   "source": [
    "from sympy import *"
   ]
  },
  {
   "cell_type": "code",
   "execution_count": 2,
   "metadata": {},
   "outputs": [],
   "source": [
    "x,t =symbols(\"x t\")"
   ]
  },
  {
   "cell_type": "code",
   "execution_count": 3,
   "metadata": {},
   "outputs": [],
   "source": [
    "def Int(f,*args):\n",
    "    if(len(args)!=0):\n",
    "       a=args[0]\n",
    "       b=args[1]\n",
    "       print(\"                          \",b)\n",
    "       print(\"The definite integral of  ʃ %s dx is \" %f)\n",
    "       print(\"                          \",a)\n",
    "       pprint(integrate(f,(x,a,b)))\n",
    "    else:\n",
    "       print(\"The indefinite integral of  ʃ %s dx is \" %f) \n",
    "       pprint(integrate(f,x))"
   ]
  },
  {
   "cell_type": "code",
   "execution_count": 6,
   "metadata": {},
   "outputs": [
    {
     "name": "stdout",
     "output_type": "stream",
     "text": [
      "                           pi/2\n",
      "The definite integral of  ʃ x*sin(x) dx is \n",
      "                           0\n",
      "1\n"
     ]
    }
   ],
   "source": [
    "#1.a)\n",
    "Int(x*sin(x),0, pi/2)"
   ]
  },
  {
   "cell_type": "code",
   "execution_count": 7,
   "metadata": {},
   "outputs": [
    {
     "name": "stdout",
     "output_type": "stream",
     "text": [
      "                           pi/4\n",
      "The definite integral of  ʃ cos(x)**3/sin(x) dx is \n",
      "                           pi/6\n",
      "  log(2)   1   log(4)\n",
      "- ────── - ─ + ──────\n",
      "    2      8     2   \n"
     ]
    }
   ],
   "source": [
    "#1.b)\n",
    "Int((cos(x))**3/sin(x),pi/6,pi/4)"
   ]
  },
  {
   "cell_type": "code",
   "execution_count": 9,
   "metadata": {},
   "outputs": [
    {
     "name": "stdout",
     "output_type": "stream",
     "text": [
      "                           0.5\n",
      "The definite integral of  ʃ cos(pi*x)**3 dx is \n",
      "                           0\n",
      " 2 \n",
      "───\n",
      "3⋅π\n"
     ]
    }
   ],
   "source": [
    "# 1. c)\n",
    "Int((cos(pi*x))**3,0,1/2)"
   ]
  },
  {
   "cell_type": "code",
   "execution_count": 11,
   "metadata": {},
   "outputs": [
    {
     "name": "stdout",
     "output_type": "stream",
     "text": [
      "                           4\n",
      "The definite integral of  ʃ sqrt(-x**2 + 16) dx is \n",
      "                           0\n",
      "4⋅π\n"
     ]
    }
   ],
   "source": [
    "#1.d)\n",
    "Int(sqrt(16-x**2),0,4)"
   ]
  },
  {
   "cell_type": "markdown",
   "metadata": {},
   "source": [
    "\\begin{eqnarray}\n",
    "\\int x\\cos 2xdx&=&\\frac{x\\sin 2x}{2}-\\frac{\\int\\sin2xdx}{2} \\\\\n",
    "               &=&\\frac{x\\sin 2x}{2}+\\frac{\\cos2x}{4}+C\n",
    "\\end{eqnarray}"
   ]
  },
  {
   "cell_type": "code",
   "execution_count": 12,
   "metadata": {},
   "outputs": [
    {
     "name": "stdout",
     "output_type": "stream",
     "text": [
      "                           1\n",
      "The definite integral of  ʃ exp(-x)*cos(x) dx is \n",
      "                           0\n",
      "   -1           -1           \n",
      "  ℯ  ⋅cos(1)   ℯ  ⋅sin(1)   1\n",
      "- ────────── + ────────── + ─\n",
      "      2            2        2\n"
     ]
    }
   ],
   "source": [
    "#1. e)\n",
    "Int(exp(-x)*cos(x),0,1)"
   ]
  },
  {
   "cell_type": "code",
   "execution_count": 14,
   "metadata": {},
   "outputs": [
    {
     "name": "stdout",
     "output_type": "stream",
     "text": [
      "                           pi/4\n",
      "The definite integral of  ʃ tan(x)*sec(x)**2 dx is \n",
      "                           0\n",
      "1/2\n"
     ]
    }
   ],
   "source": [
    "#1. f)\n",
    "Int(tan(x)*sec(x)**2,0,pi/4)"
   ]
  },
  {
   "cell_type": "code",
   "execution_count": 15,
   "metadata": {},
   "outputs": [
    {
     "name": "stdout",
     "output_type": "stream",
     "text": [
      "                           oo\n",
      "The definite integral of  ʃ sin(log(x)) dx is \n",
      "                           1\n",
      "∞               \n",
      "⌠               \n",
      "⎮ sin(log(x)) dx\n",
      "⌡               \n",
      "1               \n"
     ]
    }
   ],
   "source": [
    "#1. g)\n",
    "Int(sin(log(x)),1,oo)"
   ]
  },
  {
   "cell_type": "code",
   "execution_count": 4,
   "metadata": {},
   "outputs": [
    {
     "data": {
      "text/plain": [
       "-2*sqrt(x) - x - 2*log(sqrt(x) - 1)"
      ]
     },
     "execution_count": 4,
     "metadata": {},
     "output_type": "execute_result"
    }
   ],
   "source": [
    "integrate(sqrt(x)/(1-sqrt(x)),x)"
   ]
  },
  {
   "cell_type": "code",
   "execution_count": 7,
   "metadata": {},
   "outputs": [
    {
     "data": {
      "text/plain": [
       "0.541680792225937"
      ]
     },
     "execution_count": 7,
     "metadata": {},
     "output_type": "execute_result"
    }
   ],
   "source": [
    "-2*sqrt(1/2.)-1/2-2*log(abs(sqrt(1/2)-1))"
   ]
  },
  {
   "cell_type": "code",
   "execution_count": 16,
   "metadata": {},
   "outputs": [
    {
     "name": "stdout",
     "output_type": "stream",
     "text": [
      "                           0.5\n",
      "The definite integral of  ʃ sqrt(x)/(-sqrt(x) + 1) dx is \n",
      "                           0\n",
      "0.541680792225937\n"
     ]
    }
   ],
   "source": [
    "#1. h)\n",
    "Int(sqrt(x)/(1-sqrt(x)),0,1/2)"
   ]
  },
  {
   "cell_type": "code",
   "execution_count": 17,
   "metadata": {},
   "outputs": [
    {
     "name": "stdout",
     "output_type": "stream",
     "text": [
      "                           pi/4\n",
      "The definite integral of  ʃ sin(2*x)*sin(3*x) dx is \n",
      "                           0\n",
      "3⋅√2\n",
      "────\n",
      " 10 \n"
     ]
    }
   ],
   "source": [
    "#1. i)\n",
    "Int(sin(3*x)*sin(2*x),0,pi/4)"
   ]
  },
  {
   "cell_type": "code",
   "execution_count": 18,
   "metadata": {},
   "outputs": [
    {
     "name": "stdout",
     "output_type": "stream",
     "text": [
      "                           1\n",
      "The definite integral of  ʃ (-x**3 + x)/sqrt(x) dx is \n",
      "                           0\n",
      "8/21\n"
     ]
    }
   ],
   "source": [
    "#1. j\n",
    "Int((x-x**3)/sqrt(x),0,1)"
   ]
  },
  {
   "cell_type": "code",
   "execution_count": 19,
   "metadata": {},
   "outputs": [
    {
     "data": {
      "text/plain": [
       "(-sin(x) - cos(x))/(2*(-sin(x) + cos(x))) - (-3*sin(3*x) + 3*cos(3*x))/(2*(sin(3*x) + cos(3*x))) + 2"
      ]
     },
     "execution_count": 19,
     "metadata": {},
     "output_type": "execute_result"
    }
   ],
   "source": [
    "#2. \n",
    "\n",
    "diff(integrate(sin(t)/(sin(t)+cos(t)),(t,-x,3*x)),x)"
   ]
  },
  {
   "cell_type": "code",
   "execution_count": null,
   "metadata": {
    "collapsed": true
   },
   "outputs": [],
   "source": []
  }
 ],
 "metadata": {
  "kernelspec": {
   "display_name": "Python 3",
   "language": "python",
   "name": "python3"
  },
  "language_info": {
   "codemirror_mode": {
    "name": "ipython",
    "version": 3
   },
   "file_extension": ".py",
   "mimetype": "text/x-python",
   "name": "python",
   "nbconvert_exporter": "python",
   "pygments_lexer": "ipython3",
   "version": "3.6.1"
  },
  "widgets": {
   "state": {},
   "version": "2.0.10"
  }
 },
 "nbformat": 4,
 "nbformat_minor": 1
}
