{
 "cells": [
  {
   "cell_type": "code",
   "execution_count": 1,
   "metadata": {
    "code_folding": [
     0
    ]
   },
   "outputs": [],
   "source": [
    "from MultipleCalculus import *"
   ]
  },
  {
   "cell_type": "code",
   "execution_count": null,
   "metadata": {
    "code_folding": []
   },
   "outputs": [],
   "source": [
    "# for rendering Latex on colab only\n",
    "\n",
    "from IPython.display import HTML\n",
    "def typeset():\n",
    "  \"\"\"MathJax initialization for the current cell.\n",
    "  \n",
    "  This installs and configures MathJax for the current output.\n",
    "  \"\"\"\n",
    "  display(HTML('''\n",
    "      <script src=\"https://www.gstatic.com/external_hosted/mathjax/latest/MathJax.js?config=TeX-AMS_HTML-full,Safe&delayStartupUntil=configured\"></script>\n",
    "      <script>\n",
    "        (() => {\n",
    "          const mathjax = window.MathJax;\n",
    "          mathjax.Hub.Config({\n",
    "          'tex2jax': {\n",
    "            'inlineMath': [['$', '$'], ['\\\\(', '\\\\)']],\n",
    "            'displayMath': [['$$', '$$'], ['\\\\[', '\\\\]']],\n",
    "            'processEscapes': true,\n",
    "            'processEnvironments': true,\n",
    "            'skipTags': ['script', 'noscript', 'style', 'textarea', 'code'],\n",
    "            'displayAlign': 'center',\n",
    "          },\n",
    "          'HTML-CSS': {\n",
    "            'styles': {'.MathJax_Display': {'margin': 0}},\n",
    "            'linebreaks': {'automatic': true},\n",
    "            // Disable to prevent OTF font loading, which aren't part of our\n",
    "            // distribution.\n",
    "            'imageFont': null,\n",
    "          },\n",
    "          'messageStyle': 'none'\n",
    "        });\n",
    "        mathjax.Hub.Configured();\n",
    "      })();\n",
    "      </script>\n",
    "      '''))\n"
   ]
  },
  {
   "cell_type": "markdown",
   "metadata": {},
   "source": [
    "1. $\\int_0^2 dx\\int_0^{\\sqrt{2x-x^2}} \\sqrt{x^2 + y^2} dy $\n",
    "2. $\\int_0^1 dx \\int_0^{\\sqrt{1-x^2}} (x^2 + y^2) dy $\n",
    "3. $\\iint_R (x - y) dy \\, dx,$ where $R$ is of the parallelogram are region bound by $x-y=-1,x-y=1,x-3y=-5, x-3y=-9$\n",
    "4. $\\iint_R \\frac{4}{(x - y)^2} dA,$, where $R$ is trapezoidal bounded by the lines, $x=0,y=0,x-y=2,x-y=4$.\n",
    "5. $\\iint_R (x + y)e^{x^2-y^2} dA$ where $R$ is region bounded by $x+y=1, x+y=3, x^2+y^2=\\pm1$\n",
    "6. $\\displaystyle\\iint_R y \\, \\sin (y^2 - x) \\,dA,$ where $R$ is region bounded by $y=0,x=2,y=\\sqrt x$.\n",
    "7. $\\int_0^3 dz\\int_0^4 dy\\int_{y/2}^{(y/2)+1} \\left(x + \\frac{z}{3}\\right) dx $\n",
    "8. Area bounded by $x^{1/4}+y^{1/4}=1$\n",
    "9. $\\iiint_V (x^2 y + 3xyz) \\, dx \\, dy \\, dz$ where $V$ is the solid bounded by $1\\le x\\le2,0\\le z\\le1, 0\\le xy\\le1$.\n",
    "10. $\\int_0^{2\\pi} \\int_0^1 \\int_0^1 dz \\, dr \\, d\\theta$\n",
    "11. $\\iint_R (5x^3y^2 - y^2) \\, dA, \\, R = \\{(x,y)|0 \\leq x \\leq 2, \\, 1 \\leq y \\leq 4\\}$\n",
    "12. $\\iint_D \\frac{y}{3x^2 + 1} dA, \\, D = \\{(x,y) |0 \\leq x \\leq 1, \\, -x \\leq y \\leq x\\}$\n",
    "13. $\\iint_D \\sin (x^2 + y^2) dA$ where $D$ is unit circle.\n",
    "14. $\\int_0^1 dy\\int_0^1 xye^{x^2} dx=1/4$\n",
    "15. $\\int_{-1}^1 dz\\int_0^z dx\\int_0^{x-z} 6dy $\n",
    "16. $\\iiint_V 3y \\, dV,$ where $V = \\{(x,y,z) |0 \\leq x \\leq 1, \\, 0 \\leq y \\leq x, \\, 0 \\leq z \\leq \\sqrt{9 - y^2}\\}=1.475$\n",
    "17. $\\int_0^2 dr\\int_0^{2\\pi} d\\theta\\int_r^1 r \\, dz $\n",
    "18. $\\int_0^{2\\pi} d\\theta \\int_0^{\\pi/2} d\\varphi\\int_1^3 \\rho^2 \\, \\sin(\\varphi) d\\rho =52\\pi/3$\n",
    "19. $\\int_0^1 dx\\int_{-\\sqrt{1-x^2}}^{\\sqrt{1-x^2}} dy\\int_{-\\sqrt{1-x^2-y^2}}^{\\sqrt{1-x^2-y^2}} dz $\n",
    "20. The volume of the solid that lies between the paraboloid $z=2x^2+2y^2$ and $z=8$. \n",
    "21. Volume of solid bounded by $x^2+y^2=16$, $z=1$ and $z+x=2$ 93.291.\n",
    "22. The volume of the intersection between two spheres of radius 1, the top whose center is  (0,0,0.25)\n",
    " and the bottom, which is centered at  (0,0,0).\n",
    "23. solid bounded by $z=\\sqrt(x^2+y^2)$ and $x^2+y^2+z^2=z$.\n",
    "24. $\\Large{\\\\\\iiint_R z dV}$ where $R=\\{0\\le \\sqrt x+\\sqrt y+\\sqrt z \\le1\\}$\n",
    "25. $\\Large{\\\\\\iiint_R \\sqrt{x^2+y^2} dV}$ where $R=\\{x^2+y^2\\le z,x^2+y^2+z^2\\le2\\}=\\{0\\le r\\le1,,0\\le\\theta\\le2\\pi, r^2\\le z\\le\\sqrt{2-r^2}\\}$\n",
    "26. $\\Large{\\\\\\iiint_R -2 z dV}$\n",
    "where \n",
    "$R=\\left\\{{x^2+y^2+z^2}\\le 2z, z\\ge\\sqrt{x^2+y^2} \\right\\}=\\{0\\le \\rho\\le 2\\cos \\phi,,0\\le\\theta\\le2\\pi,r\\le \\phi\\le\\pi/4\\}$\n",
    "37.  $\\Large{\\\\\\iiint_R  dV}$\n",
    "where $R=\\left\\{x^2+y^2+z^2\\le1,z\\ge\\sqrt{x^2+y^2} \\right\\}=\\{0\\le r\\le1,,0\\le\\theta\\le2\\pi,0\\le \\phi\\le \\pi/4\\}$.\n",
    "28. $\\Large{\\\\\\iiint_R  \\frac{dV}{1-x^2-y^2-z^2}}$\n",
    "where $R$ is the solid within unit sphere and in the first octant."
   ]
  },
  {
   "cell_type": "code",
   "execution_count": null,
   "metadata": {},
   "outputs": [],
   "source": []
  },
  {
   "cell_type": "code",
   "execution_count": 2,
   "metadata": {},
   "outputs": [
    {
     "data": {
      "text/latex": [
       "\\begin{eqnarray}\\iint_{\\Large{\\mathbf{V}}=\\left\\{\\large{\\begin{array}{l} 0 \\le θ \\le \\frac{\\pi}{2},\\cr 0 \\le r \\le 2 \\cos{\\left(θ \\right)},\\cr\\end{array}}\\right\\}} \\color{brown}{r^{2}} dV&=& \\iint_{\\Large{\\mathbf{V}}} \\color{brown}{r^{2}}  d θ  d r  \\cr \\color{blue}{\\text{Fubini's Theorem}}&=&\\int_{0}^{\\frac{\\pi}{2}}d{θ}\\int_{0}^{2 \\cos{\\left(θ \\right)}} \\color{brown}{r^{2}}d{r}\\cr &=&\\int_{0}^{\\frac{\\pi}{2}} \\left.\\color{brown}{\\frac{r^{3}}{3}} \\right|_{0}^{2 \\cos{\\left(θ \\right)}} d{θ}\\cr&=&\\int_{0}^{\\frac{\\pi}{2}} \\color{brown}{\\frac{8 \\cos^{3}{\\left(θ \\right)}}{3}}d{θ}\\cr &=&\\left. \\color{brown}{- \\frac{8 \\sin^{3}{\\left(θ \\right)}}{9} + \\frac{8 \\sin{\\left(θ \\right)}}{3}} \\right|_{0}^{\\frac{\\pi}{2}}\\cr&=&1.77777777777778\\end{eqnarray}"
      ],
      "text/plain": [
       "<IPython.core.display.Latex object>"
      ]
     },
     "execution_count": 2,
     "metadata": {},
     "output_type": "execute_result"
    }
   ],
   "source": [
    "#1\n",
    "\n",
    "f=r\n",
    "J=r\n",
    "X=[t,r]\n",
    "XR=[[0,pi/2],[0,2*cos(t)]]\n",
    "\n",
    "MultipleIntegral(f*J,X,XR)"
   ]
  },
  {
   "cell_type": "code",
   "execution_count": 16,
   "metadata": {},
   "outputs": [
    {
     "data": {
      "text/latex": [
       "\\begin{eqnarray}\\iiint_{\\Large{\\mathbf{V}}=\\left\\{\\large{\\begin{array}{l} 0 \\le x \\le 1,\\cr 0 \\le y \\le 1 - x,\\cr 0 \\le z \\le - x - y + 1,\\cr\\end{array}}\\right\\}} \\color{brown}{x + 2 y + 3 z} dV&=& \\iiint_{\\Large{\\mathbf{V}}} \\color{brown}{x + 2 y + 3 z}  d x  d y  d z  \\cr \\color{blue}{\\text{Fubini's Theorem}}&=&\\int_{0}^{1}d{x}\\int_{0}^{1 - x}d{y}\\int_{0}^{- x - y + 1} \\color{brown}{x + 2 y + 3 z}d{z}\\cr &=&\\int_{0}^{1} d{x}\\int_{0}^{1 - x} \\left.\\color{brown}{\\frac{3 z^{2}}{2} + z \\left(x + 2 y\\right)} \\right|_{0}^{- x - y + 1} d{y}\\cr&=&\\int_{0}^{1}d{x}\\int_{0}^{1 - x} \\color{brown}{\\left(x + 2 y\\right) \\left(- x - y + 1\\right) + \\frac{3 \\left(- x - y + 1\\right)^{2}}{2}}d{y}\\cr &=&\\int_{0}^{1} \\left. \\color{brown}{- \\frac{y^{3}}{6} - \\frac{y^{2}}{2} + y \\left(\\frac{x^{2}}{2} - 2 x + 1.5\\right)} \\right|_{0}^{1 - x} d{x}\\cr&=&\\int_{0}^{1} \\color{brown}{- \\frac{\\left(1 - x\\right)^{3}}{6} - \\frac{\\left(1 - x\\right)^{2}}{2} + \\left(1 - x\\right) \\left(\\frac{x^{2}}{2} - 2 x + 1.5\\right)}d{x}\\cr &=&\\left. \\color{brown}{- \\frac{x^{4}}{12} + \\frac{x^{3}}{2} - x^{2} + \\frac{5 x}{6}} \\right|_{0}^{1}\\cr&=&0.25\\end{eqnarray}"
      ],
      "text/plain": [
       "<IPython.core.display.Latex object>"
      ]
     },
     "execution_count": 16,
     "metadata": {},
     "output_type": "execute_result"
    }
   ],
   "source": [
    "f=(x+2*y+3*z)\n",
    "X=[x,y,z]\n",
    "XR=[[0,1],[0,1-x],[0,1-y-x]]\n",
    "MultipleIntegral(f,X,XR)"
   ]
  },
  {
   "cell_type": "code",
   "execution_count": 3,
   "metadata": {},
   "outputs": [
    {
     "data": {
      "text/latex": [
       "\\begin{eqnarray}\\iint_{\\Large{\\mathbf{V}}=\\left\\{\\large{\\begin{array}{l} 0 \\le θ \\le \\frac{\\pi}{2},\\cr 0 \\le r \\le 1,\\cr\\end{array}}\\right\\}} \\color{brown}{r^{3}} dV&=& \\iint_{\\Large{\\mathbf{V}}} \\color{brown}{r^{3}}  d θ  d r  \\cr \\color{blue}{\\text{Fubini's Theorem}}&=&\\int_{0}^{\\frac{\\pi}{2}}d{θ}\\int_{0}^{1} \\color{brown}{r^{3}}d{r}\\cr &=&\\int_{0}^{\\frac{\\pi}{2}} \\left.\\color{brown}{\\frac{r^{4}}{4}} \\right|_{0}^{1} d{θ}\\cr&=&\\int_{0}^{\\frac{\\pi}{2}} \\color{brown}{0.25}d{θ}\\cr &=&\\left. \\color{brown}{\\frac{θ}{4}} \\right|_{0}^{\\frac{\\pi}{2}}\\cr&=&\\frac{\\pi}{8}\\end{eqnarray}"
      ],
      "text/plain": [
       "<IPython.core.display.Latex object>"
      ]
     },
     "execution_count": 3,
     "metadata": {},
     "output_type": "execute_result"
    }
   ],
   "source": [
    "#2 \n",
    "\n",
    "f=r*r\n",
    "J=r\n",
    "X=[t,r]\n",
    "XR=[[0,pi/2],[0,1]]\n",
    "\n",
    "MultipleIntegral(f*J,X,XR)"
   ]
  },
  {
   "cell_type": "code",
   "execution_count": 4,
   "metadata": {},
   "outputs": [
    {
     "data": {
      "text/latex": [
       "\\begin{eqnarray}\\iint_{\\Large{\\mathbf{V}}=\\left\\{\\large{\\begin{array}{l} -1 \\le u \\le 1,\\cr -9 \\le v \\le -5,\\cr\\end{array}}\\right\\}} \\color{brown}{0.5 u} dV&=& \\iint_{\\Large{\\mathbf{V}}} \\color{brown}{0.5 u}  d u  d v  \\cr \\color{blue}{\\text{Fubini's Theorem}}&=&\\int_{-1}^{1}d{u}\\int_{-9}^{-5} \\color{brown}{0.5 u}d{v}\\cr &=&\\int_{-1}^{1} \\left.\\color{brown}{0.5 u v} \\right|_{-9}^{-5} d{u}\\cr&=&\\int_{-1}^{1} \\color{brown}{2.0 u}d{u}\\cr &=&\\left. \\color{brown}{1.0 u^{2}} \\right|_{-1}^{1}\\cr&=&0\\end{eqnarray}"
      ],
      "text/plain": [
       "<IPython.core.display.Latex object>"
      ]
     },
     "execution_count": 4,
     "metadata": {},
     "output_type": "execute_result"
    }
   ],
   "source": [
    "#3 U=x-y, V=x-3y, x=(3U-V/2), y=(U-V)/2\n",
    "x,y,z=symbols(\"x,y,z\")\n",
    "f=u\n",
    "J=1/2\n",
    "X=[u,v]\n",
    "XR=[[-1,1],[-9,-5]]\n",
    "\n",
    "MultipleIntegral(f*J,X,XR)"
   ]
  },
  {
   "cell_type": "code",
   "execution_count": 5,
   "metadata": {},
   "outputs": [
    {
     "data": {
      "text/latex": [
       "\\begin{eqnarray}\\iint_{\\Large{\\mathbf{V}}=\\left\\{\\large{\\begin{array}{l} 2 \\le v \\le 4,\\cr - v \\le u \\le v,\\cr\\end{array}}\\right\\}} \\color{brown}{\\frac{2.0}{u^{2}}} dV&=& \\iint_{\\Large{\\mathbf{V}}} \\color{brown}{\\frac{2.0}{u^{2}}}  d v  d u  \\cr \\color{blue}{\\text{Fubini's Theorem}}&=&\\int_{2}^{4}d{v}\\int_{- v}^{v} \\color{brown}{\\frac{2.0}{u^{2}}}d{u}\\cr &=&\\int_{2}^{4} \\left.\\color{brown}{- \\frac{2.0}{u}} \\right|_{- v}^{v} d{v}\\cr&=&\\int_{2}^{4} \\color{brown}{- \\frac{4.0}{v}}d{v}\\cr &=&\\left. \\color{brown}{- 4.0 \\log{\\left(v \\right)}} \\right|_{2}^{4}\\cr&=&- 4.0 \\log{\\left(4 \\right)} + 4.0 \\log{\\left(2 \\right)}\\end{eqnarray}"
      ],
      "text/plain": [
       "<IPython.core.display.Latex object>"
      ]
     },
     "execution_count": 5,
     "metadata": {},
     "output_type": "execute_result"
    }
   ],
   "source": [
    "#4 U=x-y, V=x+y, x=(U+V/2), y=(U-V)/2\n",
    "\n",
    "f=4/u**2\n",
    "J=1/2\n",
    "X=[v,u]\n",
    "XR=[[2,4],[-v,v]]\n",
    "\n",
    "MultipleIntegral(f*J,X,XR)"
   ]
  },
  {
   "cell_type": "code",
   "execution_count": 6,
   "metadata": {},
   "outputs": [
    {
     "data": {
      "text/latex": [
       "\\begin{eqnarray}\\iint_{\\Large{\\mathbf{V}}=\\left\\{\\large{\\begin{array}{l} 1 \\le v \\le 3,\\cr - \\frac{1}{v} \\le u \\le \\frac{1}{v},\\cr\\end{array}}\\right\\}} \\color{brown}{0.5 v e^{u v}} dV&=& \\iint_{\\Large{\\mathbf{V}}} \\color{brown}{0.5 v e^{u v}}  d v  d u  \\cr \\color{blue}{\\text{Fubini's Theorem}}&=&\\int_{1}^{3}d{v}\\int_{- \\frac{1}{v}}^{\\frac{1}{v}} \\color{brown}{0.5 v e^{u v}}d{u}\\cr &=&\\int_{1}^{3} \\left.\\color{brown}{0.5 e^{u v}} \\right|_{- \\frac{1}{v}}^{\\frac{1}{v}} d{v}\\cr&=&\\int_{1}^{3} \\color{brown}{- \\frac{0.5}{e} + 0.5 e}d{v}\\cr &=&\\left. \\color{brown}{v \\left(- \\frac{0.5}{e} + 0.5 e\\right)} \\right|_{1}^{3}\\cr&=&- \\frac{1.0}{e} + 1.0 e\\end{eqnarray}"
      ],
      "text/plain": [
       "<IPython.core.display.Latex object>"
      ]
     },
     "execution_count": 6,
     "metadata": {},
     "output_type": "execute_result"
    }
   ],
   "source": [
    "#5 U=x-y, V=x+y, x=(U+V)/2,y=(V-U)/2\n",
    "\n",
    "f=v*exp(u*v)\n",
    "J=1/2\n",
    "X=[v,u]\n",
    "\n",
    "XR=[[1,3],[-1/v,1/v]]\n",
    "MultipleIntegral(f*J,X,XR)"
   ]
  },
  {
   "cell_type": "code",
   "execution_count": 7,
   "metadata": {},
   "outputs": [
    {
     "data": {
      "text/latex": [
       "\\begin{eqnarray}\\iint_{\\Large{\\mathbf{V}}=\\left\\{\\large{\\begin{array}{l} 0 \\le v \\le 2,\\cr - v \\le u \\le 0,\\cr\\end{array}}\\right\\}} \\color{brown}{0.5 \\sin{\\left(u \\right)}} dV&=& \\iint_{\\Large{\\mathbf{V}}} \\color{brown}{0.5 \\sin{\\left(u \\right)}}  d v  d u  \\cr \\color{blue}{\\text{Fubini's Theorem}}&=&\\int_{0}^{2}d{v}\\int_{- v}^{0} \\color{brown}{0.5 \\sin{\\left(u \\right)}}d{u}\\cr &=&\\int_{0}^{2} \\left.\\color{brown}{- 0.5 \\cos{\\left(u \\right)}} \\right|_{- v}^{0} d{v}\\cr&=&\\int_{0}^{2} \\color{brown}{0.5 \\cos{\\left(v \\right)} - 0.5}d{v}\\cr &=&\\left. \\color{brown}{- 0.5 v + 0.5 \\sin{\\left(v \\right)}} \\right|_{0}^{2}\\cr&=&-1.0 + 0.5 \\sin{\\left(2 \\right)}\\end{eqnarray}"
      ],
      "text/plain": [
       "<IPython.core.display.Latex object>"
      ]
     },
     "execution_count": 7,
     "metadata": {},
     "output_type": "execute_result"
    }
   ],
   "source": [
    "#6 U=x^2-x, V=x, x=V,y=sqrt(u+v)\n",
    "\n",
    "f=sqrt(u+v)*sin(u)\n",
    "J=1/2/sqrt(u+v)\n",
    "X=[v,u]\n",
    "\n",
    "XR=[[0,2],[-v,0]]\n",
    "MultipleIntegral(f*J,X,XR)"
   ]
  },
  {
   "cell_type": "code",
   "execution_count": 9,
   "metadata": {},
   "outputs": [
    {
     "data": {
      "text/latex": [
       "\\begin{eqnarray}\\iiint_{\\Large{\\mathbf{V}}=\\left\\{\\large{\\begin{array}{l} 0 \\le z \\le 3,\\cr 0 \\le y \\le 4,\\cr \\frac{y}{2} \\le x \\le \\frac{y}{2} + 1,\\cr\\end{array}}\\right\\}} \\color{brown}{x + \\frac{z}{3}} dV&=& \\iiint_{\\Large{\\mathbf{V}}} \\color{brown}{x + \\frac{z}{3}}  d z  d y  d x  \\cr \\color{blue}{\\text{Fubini's Theorem}}&=&\\int_{0}^{3}d{z}\\int_{0}^{4}d{y}\\int_{\\frac{y}{2}}^{\\frac{y}{2} + 1} \\color{brown}{x + \\frac{z}{3}}d{x}\\cr &=&\\int_{0}^{3} d{z}\\int_{0}^{4} \\left.\\color{brown}{\\frac{x^{2}}{2} + \\frac{x z}{3}} \\right|_{\\frac{y}{2}}^{\\frac{y}{2} + 1} d{y}\\cr&=&\\int_{0}^{3}d{z}\\int_{0}^{4} \\color{brown}{- \\frac{y^{2}}{8} - \\frac{y z}{6} + \\frac{z \\left(\\frac{y}{2} + 1\\right)}{3} + \\frac{\\left(\\frac{y}{2} + 1\\right)^{2}}{2}}d{y}\\cr &=&\\int_{0}^{3} \\left. \\color{brown}{\\frac{y^{2}}{4} + y \\left(\\frac{z}{3} + 0.5\\right)} \\right|_{0}^{4} d{z}\\cr&=&\\int_{0}^{3} \\color{brown}{\\frac{4 z}{3} + 6}d{z}\\cr &=&\\left. \\color{brown}{\\frac{2 z^{2}}{3} + 6 z} \\right|_{0}^{3}\\cr&=&24\\end{eqnarray}"
      ],
      "text/plain": [
       "<IPython.core.display.Latex object>"
      ]
     },
     "execution_count": 9,
     "metadata": {},
     "output_type": "execute_result"
    }
   ],
   "source": [
    "# 7 \n",
    "f=(x+z/3)\n",
    "X=[z,y,x]\n",
    "XR=[[0,3],[0,4],[y/2,1+y/2]]\n",
    "MultipleIntegral(f,X,XR)"
   ]
  },
  {
   "cell_type": "code",
   "execution_count": 6,
   "metadata": {},
   "outputs": [
    {
     "data": {
      "text/latex": [
       "\\begin{eqnarray}\\iint_{\\Large{\\mathbf{V}}=\\left\\{\\large{\\begin{array}{l} 0 \\le u \\le 1,\\cr 0 \\le v \\le 1 - u,\\cr\\end{array}}\\right\\}} \\color{brown}{64 u^{3} v^{3}} dV&=& \\iint_{\\Large{\\mathbf{V}}} \\color{brown}{64 u^{3} v^{3}}  d u  d v  \\cr \\color{blue}{\\text{Fubini's Theorem}}&=&\\int_{0}^{1}d{u}\\int_{0}^{1 - u} \\color{brown}{64 u^{3} v^{3}}d{v}\\cr &=&\\int_{0}^{1} \\left.\\color{brown}{16 u^{3} v^{4}} \\right|_{0}^{1 - u} d{u}\\cr&=&\\int_{0}^{1} \\color{brown}{16 u^{3} \\left(1 - u\\right)^{4}}d{u}\\cr &=&\\left. \\color{brown}{2 u^{8} - \\frac{64 u^{7}}{7} + 16 u^{6} - \\frac{64 u^{5}}{5} + 4 u^{4}} \\right|_{0}^{1}\\cr&=&0.0571428571428571\\end{eqnarray}"
      ],
      "text/plain": [
       "<IPython.core.display.Latex object>"
      ]
     },
     "execution_count": 6,
     "metadata": {},
     "output_type": "execute_result"
    }
   ],
   "source": [
    "#8. area of region bounded by  x^(1/4)+y^(1/4)=1\n",
    "u,v=symbols(\"u,v\",positive=True)\n",
    "\n",
    "f=4\n",
    "X=[u,v]\n",
    "XR=[[0,1],[0,1-u]]\n",
    "J=16*u**3*v**3\n",
    "MultipleIntegral(f*J,X,XR)"
   ]
  },
  {
   "cell_type": "code",
   "execution_count": null,
   "metadata": {},
   "outputs": [],
   "source": [
    "\n"
   ]
  },
  {
   "cell_type": "code",
   "execution_count": 11,
   "metadata": {},
   "outputs": [
    {
     "data": {
      "text/latex": [
       "\\begin{eqnarray}\\iiint_{\\Large{\\mathbf{V}}=\\left\\{\\large{\\begin{array}{l} 0 \\le z \\le 1,\\cr 1 \\le x \\le 2,\\cr 0 \\le y \\le \\frac{2}{x},\\cr\\end{array}}\\right\\}} \\color{brown}{x^{2} y + 3 x y z} dV&=& \\iiint_{\\Large{\\mathbf{V}}} \\color{brown}{x^{2} y + 3 x y z}  d z  d x  d y  \\cr \\color{blue}{\\text{Fubini's Theorem}}&=&\\int_{0}^{1}d{z}\\int_{1}^{2}d{x}\\int_{0}^{\\frac{2}{x}} \\color{brown}{x^{2} y + 3 x y z}d{y}\\cr &=&\\int_{0}^{1} d{z}\\int_{1}^{2} \\left.\\color{brown}{y^{2} \\left(\\frac{x^{2}}{2} + \\frac{3 x z}{2}\\right)} \\right|_{0}^{\\frac{2}{x}} d{x}\\cr&=&\\int_{0}^{1}d{z}\\int_{1}^{2} \\color{brown}{\\frac{2 x^{2} + 6 x z}{x^{2}}}d{x}\\cr &=&\\int_{0}^{1} \\left. \\color{brown}{2 x + 6 z \\log{\\left(x \\right)}} \\right|_{1}^{2} d{z}\\cr&=&\\int_{0}^{1} \\color{brown}{6 z \\log{\\left(2 \\right)} + 2}d{z}\\cr &=&\\left. \\color{brown}{3 z^{2} \\log{\\left(2 \\right)} + 2 z} \\right|_{0}^{1}\\cr&=&2 + 3 \\log{\\left(2 \\right)}\\end{eqnarray}"
      ],
      "text/plain": [
       "<IPython.core.display.Latex object>"
      ]
     },
     "execution_count": 11,
     "metadata": {},
     "output_type": "execute_result"
    }
   ],
   "source": [
    "# 9\n",
    "f=x**2*y+3*x*y*z\n",
    "X=[z,x,y]\n",
    "XR=[[0,1],[1,2],[0,2/x]]\n",
    "MultipleIntegral(f,X,XR)"
   ]
  },
  {
   "cell_type": "code",
   "execution_count": 7,
   "metadata": {},
   "outputs": [
    {
     "data": {
      "text/latex": [
       "\\begin{eqnarray}\\iiint_{\\Large{\\mathbf{V}}=\\left\\{\\large{\\begin{array}{l} 0 \\le 𝜽 \\le 2 \\pi,\\cr 0 \\le r \\le 1,\\cr 0 \\le z \\le 1,\\cr\\end{array}}\\right\\}} \\color{brown}{r} dV&=& \\iiint_{\\Large{\\mathbf{V}}} \\color{brown}{r}  d 𝜽  d r  d z  \\cr \\color{blue}{\\text{Fubini's Theorem}}&=&\\int_{0}^{2 \\pi}d{𝜽}\\int_{0}^{1}d{r}\\int_{0}^{1} \\color{brown}{r}d{z}\\cr &=&\\int_{0}^{2 \\pi} d{𝜽}\\int_{0}^{1} \\left.\\color{brown}{r z} \\right|_{0}^{1} d{r}\\cr&=&\\int_{0}^{2 \\pi}d{𝜽}\\int_{0}^{1} \\color{brown}{r}d{r}\\cr &=&\\int_{0}^{2 \\pi} \\left. \\color{brown}{\\frac{r^{2}}{2}} \\right|_{0}^{1} d{𝜽}\\cr&=&\\int_{0}^{2 \\pi} \\color{brown}{0.5}d{𝜽}\\cr &=&\\left. \\color{brown}{\\frac{𝜽}{2}} \\right|_{0}^{2 \\pi}\\cr&=&\\pi\\end{eqnarray}"
      ],
      "text/plain": [
       "<IPython.core.display.Latex object>"
      ]
     },
     "execution_count": 7,
     "metadata": {},
     "output_type": "execute_result"
    }
   ],
   "source": [
    "#10 \n",
    "f=r\n",
    "X=[Theta,r,z]\n",
    "XR=[[0,2*pi],[0,1],[0,1]]\n",
    "\n",
    "MultipleIntegral(f,X,XR)"
   ]
  },
  {
   "cell_type": "code",
   "execution_count": 8,
   "metadata": {},
   "outputs": [
    {
     "data": {
      "text/latex": [
       "\\begin{eqnarray}\\iint_{\\Large{\\mathbf{V}}=\\left\\{\\large{\\begin{array}{l} 0 \\le x \\le 2,\\cr 1 \\le y \\le 4,\\cr\\end{array}}\\right\\}} \\color{brown}{5 x^{3} y^{2} - y^{2}} dV&=& \\iint_{\\Large{\\mathbf{V}}} \\color{brown}{5 x^{3} y^{2} - y^{2}}  d x  d y  \\cr \\color{blue}{\\text{Fubini's Theorem}}&=&\\int_{0}^{2}d{x}\\int_{1}^{4} \\color{brown}{5 x^{3} y^{2} - y^{2}}d{y}\\cr &=&\\int_{0}^{2} \\left.\\color{brown}{y^{3} \\left(\\frac{5 x^{3}}{3} - 0.333333333333333\\right)} \\right|_{1}^{4} d{x}\\cr&=&\\int_{0}^{2} \\color{brown}{105 x^{3} - 21}d{x}\\cr &=&\\left. \\color{brown}{\\frac{105 x^{4}}{4} - 21 x} \\right|_{0}^{2}\\cr&=&378\\end{eqnarray}"
      ],
      "text/plain": [
       "<IPython.core.display.Latex object>"
      ]
     },
     "execution_count": 8,
     "metadata": {},
     "output_type": "execute_result"
    }
   ],
   "source": [
    "#11 5x^3y^2-y^2, 0<x<2,1<y<4\n",
    "\n",
    "f=(5*x**3*y**2-y**2)\n",
    "X=[x,y]\n",
    "XR=[[0,2],[1,4]]\n",
    "MultipleIntegral(f,X,XR)"
   ]
  },
  {
   "cell_type": "code",
   "execution_count": 9,
   "metadata": {},
   "outputs": [
    {
     "data": {
      "text/latex": [
       "\\begin{eqnarray}\\iint_{\\Large{\\mathbf{V}}=\\left\\{\\large{\\begin{array}{l} 0 \\le x \\le 1,\\cr - x \\le y \\le x,\\cr\\end{array}}\\right\\}} \\color{brown}{\\frac{y}{3 x^{2} + 1}} dV&=& \\iint_{\\Large{\\mathbf{V}}} \\color{brown}{\\frac{y}{3 x^{2} + 1}}  d x  d y  \\cr \\color{blue}{\\text{Fubini's Theorem}}&=&\\int_{0}^{1}d{x}\\int_{- x}^{x} \\color{brown}{\\frac{y}{3 x^{2} + 1}}d{y}\\cr &=&\\int_{0}^{1} \\left.\\color{brown}{\\frac{y^{2}}{6 x^{2} + 2}} \\right|_{- x}^{x} d{x}\\cr&=&\\int_{0}^{1} \\color{brown}{0}d{x}\\cr &=&\\left. \\color{brown}{0} \\right|_{0}^{1}\\cr&=&0\\end{eqnarray}"
      ],
      "text/plain": [
       "<IPython.core.display.Latex object>"
      ]
     },
     "execution_count": 9,
     "metadata": {},
     "output_type": "execute_result"
    }
   ],
   "source": [
    "#12  y/(3x^2+1, 0<x<1,-x<y<x\n",
    "\n",
    "f=y/(3*x**2+1)\n",
    "X=[x,y]\n",
    "XR=[[0,1],[-x,x]]\n",
    "MultipleIntegral(f,X,XR)"
   ]
  },
  {
   "cell_type": "code",
   "execution_count": 10,
   "metadata": {},
   "outputs": [
    {
     "data": {
      "text/latex": [
       "\\begin{eqnarray}\\iint_{\\Large{\\mathbf{V}}=\\left\\{\\large{\\begin{array}{l} 0 \\le r \\le 1,\\cr 0 \\le 𝜽 \\le 2 \\pi,\\cr\\end{array}}\\right\\}} \\color{brown}{r \\sin{\\left(r^{2} \\right)}} dV&=& \\iint_{\\Large{\\mathbf{V}}} \\color{brown}{r \\sin{\\left(r^{2} \\right)}}  d r  d 𝜽  \\cr \\color{blue}{\\text{Fubini's Theorem}}&=&\\int_{0}^{1}d{r}\\int_{0}^{2 \\pi} \\color{brown}{r \\sin{\\left(r^{2} \\right)}}d{𝜽}\\cr &=&\\int_{0}^{1} \\left.\\color{brown}{r 𝜽 \\sin{\\left(r^{2} \\right)}} \\right|_{0}^{2 \\pi} d{r}\\cr&=&\\int_{0}^{1} \\color{brown}{2 \\pi r \\sin{\\left(r^{2} \\right)}}d{r}\\cr &=&\\left. \\color{brown}{- \\pi \\cos{\\left(r^{2} \\right)}} \\right|_{0}^{1}\\cr&=&- \\pi \\cos{\\left(1 \\right)} + \\pi\\end{eqnarray}"
      ],
      "text/plain": [
       "<IPython.core.display.Latex object>"
      ]
     },
     "execution_count": 10,
     "metadata": {},
     "output_type": "execute_result"
    }
   ],
   "source": [
    "#13 sin(x^2+y^2), unit circle\n",
    "f=sin(r**2)\n",
    "X=[r,Theta]\n",
    "XR=[[0,1],[0,2*pi]]\n",
    "J=r\n",
    "MultipleIntegral(f*J,X,XR)"
   ]
  },
  {
   "cell_type": "code",
   "execution_count": 11,
   "metadata": {},
   "outputs": [
    {
     "data": {
      "text/latex": [
       "\\begin{eqnarray}\\iint_{\\Large{\\mathbf{V}}=\\left\\{\\large{\\begin{array}{l} 0 \\le x \\le 1,\\cr 0 \\le y \\le 1,\\cr\\end{array}}\\right\\}} \\color{brown}{x y e^{x^{2}}} dV&=& \\iint_{\\Large{\\mathbf{V}}} \\color{brown}{x y e^{x^{2}}}  d x  d y  \\cr \\color{blue}{\\text{Fubini's Theorem}}&=&\\int_{0}^{1}d{x}\\int_{0}^{1} \\color{brown}{x y e^{x^{2}}}d{y}\\cr &=&\\int_{0}^{1} \\left.\\color{brown}{\\frac{x y^{2} e^{x^{2}}}{2}} \\right|_{0}^{1} d{x}\\cr&=&\\int_{0}^{1} \\color{brown}{\\frac{x e^{x^{2}}}{2}}d{x}\\cr &=&\\left. \\color{brown}{\\frac{e^{x^{2}}}{4}} \\right|_{0}^{1}\\cr&=&-0.25 + \\frac{e}{4}\\end{eqnarray}"
      ],
      "text/plain": [
       "<IPython.core.display.Latex object>"
      ]
     },
     "execution_count": 11,
     "metadata": {},
     "output_type": "execute_result"
    }
   ],
   "source": [
    "#14 xye^(x^2),0<x,y<1 \n",
    "f=x*y*exp(x**2)\n",
    "X=[x,y]\n",
    "XR=[[0,1],[0,1]]\n",
    "MultipleIntegral(f,X,XR)"
   ]
  },
  {
   "cell_type": "code",
   "execution_count": 32,
   "metadata": {},
   "outputs": [
    {
     "data": {
      "text/latex": [
       "\\begin{eqnarray}\\iiint_{\\Large{\\mathbf{V}}=\\left\\{\\large{\\begin{array}{l} -1 \\le z \\le 1,\\cr 0 \\le x \\le z,\\cr 0 \\le y \\le x - z,\\cr\\end{array}}\\right\\}} \\color{brown}{6} dV&=& \\iiint_{\\Large{\\mathbf{V}}} \\color{brown}{6}  d z  d x  d y  \\cr \\color{blue}{\\text{Fubini's Theorem}}&=&\\int_{-1}^{1}d{z}\\int_{0}^{z}d{x}\\int_{0}^{x - z} \\color{brown}{6}d{y}\\cr &=&\\int_{-1}^{1} d{z}\\int_{0}^{z} \\left.\\color{brown}{6 y} \\right|_{0}^{x - z} d{x}\\cr&=&\\int_{-1}^{1}d{z}\\int_{0}^{z} \\color{brown}{6 x - 6 z}d{x}\\cr &=&\\int_{-1}^{1} \\left. \\color{brown}{3 x^{2} - 6 x z} \\right|_{0}^{z} d{z}\\cr&=&\\int_{-1}^{1} \\color{brown}{- 3 z^{2}}d{z}\\cr &=&\\left. \\color{brown}{- z^{3}} \\right|_{-1}^{1}\\cr&=&-2\\end{eqnarray}"
      ],
      "text/plain": [
       "<IPython.core.display.Latex object>"
      ]
     },
     "execution_count": 32,
     "metadata": {},
     "output_type": "execute_result"
    }
   ],
   "source": [
    "#15 1, -1<x<10<x<z,0<y<x-z\n",
    "f=6\n",
    "X=[z,x,y]\n",
    "XR=[[-1,1],[0,z],[0,x-z]]\n",
    "MultipleIntegral(f,X,XR)"
   ]
  },
  {
   "cell_type": "code",
   "execution_count": 49,
   "metadata": {},
   "outputs": [
    {
     "ename": "NameError",
     "evalue": "name 'acosh' is not defined",
     "output_type": "error",
     "traceback": [
      "\u001b[0;31m---------------------------------------------------------------------------\u001b[0m",
      "\u001b[0;31mNameError\u001b[0m                                 Traceback (most recent call last)",
      "Input \u001b[0;32mIn [49]\u001b[0m, in \u001b[0;36m<cell line: 6>\u001b[0;34m()\u001b[0m\n\u001b[1;32m      4\u001b[0m X\u001b[38;5;241m=\u001b[39m[x,y,z]\n\u001b[1;32m      5\u001b[0m XR\u001b[38;5;241m=\u001b[39m[[\u001b[38;5;241m0\u001b[39m,\u001b[38;5;241m1\u001b[39m],[\u001b[38;5;241m0\u001b[39m,x],[\u001b[38;5;241m0\u001b[39m,sqrt(\u001b[38;5;241m9\u001b[39m\u001b[38;5;241m-\u001b[39my\u001b[38;5;241m*\u001b[39m\u001b[38;5;241m*\u001b[39m\u001b[38;5;241m2\u001b[39m)]]\n\u001b[0;32m----> 6\u001b[0m MultipleIntegral(f,X,XR)\n",
      "File \u001b[0;32m~/Documents/2016/Calculus/MultipleCalculus.py:130\u001b[0m, in \u001b[0;36mMultipleIntegral\u001b[0;34m(f, X, XR)\u001b[0m\n\u001b[1;32m    128\u001b[0m \u001b[38;5;66;03m#I=integrate(DIX[i],var)\u001b[39;00m\n\u001b[1;32m    129\u001b[0m IX\u001b[38;5;241m.\u001b[39mappend(I)\n\u001b[0;32m--> 130\u001b[0m IX_tex\u001b[38;5;241m.\u001b[39mappend(latex(\u001b[38;5;28;43meval\u001b[39;49m\u001b[43m(\u001b[49m\u001b[38;5;28;43mstr\u001b[39;49m\u001b[43m(\u001b[49m\u001b[43mI\u001b[49m\u001b[43m)\u001b[49m\u001b[43m)\u001b[49m))\n\u001b[1;32m    131\u001b[0m Integrand_tex_val\u001b[38;5;241m.\u001b[39mappend(\u001b[38;5;124m'\u001b[39m\u001b[38;5;124m\\\u001b[39m\u001b[38;5;124mleft. \u001b[39m\u001b[38;5;124m\\\u001b[39m\u001b[38;5;124mcolor\u001b[39m\u001b[38;5;132;01m{brown}\u001b[39;00m\u001b[38;5;124m{\u001b[39m\u001b[38;5;132;01m%s\u001b[39;00m\u001b[38;5;124m} \u001b[39m\u001b[38;5;130;01m\\\\\u001b[39;00m\u001b[38;5;124mright|_\u001b[39m\u001b[38;5;124m{\u001b[39m\u001b[38;5;132;01m%s\u001b[39;00m\u001b[38;5;124m}^\u001b[39m\u001b[38;5;124m{\u001b[39m\u001b[38;5;132;01m%s\u001b[39;00m\u001b[38;5;124m}\u001b[39m\u001b[38;5;124m'\u001b[39m \u001b[38;5;241m%\u001b[39m(IX_tex[\u001b[38;5;241m-\u001b[39m\u001b[38;5;241m1\u001b[39m],XR0[n\u001b[38;5;241m-\u001b[39mi\u001b[38;5;241m-\u001b[39m\u001b[38;5;241m2\u001b[39m][\u001b[38;5;241m0\u001b[39m],XR0[n\u001b[38;5;241m-\u001b[39mi\u001b[38;5;241m-\u001b[39m\u001b[38;5;241m2\u001b[39m][\u001b[38;5;241m1\u001b[39m]) )\n\u001b[1;32m    132\u001b[0m II\u001b[38;5;241m=\u001b[39m\u001b[38;5;124m'\u001b[39m\u001b[38;5;124mII\u001b[39m\u001b[38;5;124m'\u001b[39m\u001b[38;5;241m+\u001b[39m\u001b[38;5;28mstr\u001b[39m(var)\n",
      "File \u001b[0;32m<string>:1\u001b[0m, in \u001b[0;36m<module>\u001b[0;34m\u001b[0m\n",
      "\u001b[0;31mNameError\u001b[0m: name 'acosh' is not defined"
     ]
    }
   ],
   "source": [
    "# 16 3y 0<x<1,0<y<x,0<z<sqrt(9-y^2)\n",
    "\n",
    "f=3*y\n",
    "X=[x,y,z]\n",
    "XR=[[0,1],[0,x],[0,sqrt(9-y**2)]]\n",
    "MultipleIntegral(f,X,XR)"
   ]
  },
  {
   "cell_type": "code",
   "execution_count": 40,
   "metadata": {},
   "outputs": [],
   "source": [
    "# 16 3y 0<x<1,0<y<x,0<z<sqrt(9-y^2)\n",
    "\n",
    "f=3*y\n",
    "X=[x,z,y]\n",
    "XR=[[0,1],[0,sqrt(8)],[0,1]]\n",
    "I=MultipleIntegral(f,X,XR)\n",
    "\n",
    "X=[x,z,y]\n",
    "XR=[[0,1],[sqrt(8),3],[0,sqrt(9-z**2)]]\n",
    "II=MultipleIntegral(f,X,XR)\n"
   ]
  },
  {
   "cell_type": "code",
   "execution_count": 41,
   "metadata": {},
   "outputs": [
    {
     "data": {
      "text/latex": [
       "\\begin{eqnarray}\\iiint_{\\Large{\\mathbf{V}}=\\left\\{\\large{\\begin{array}{l} 0 \\le x \\le 1,\\cr 0 \\le z \\le 2 \\sqrt{2},\\cr 0 \\le y \\le 1,\\cr\\end{array}}\\right\\}} \\color{brown}{3 y} dV&=& \\iiint_{\\Large{\\mathbf{V}}} \\color{brown}{3 y}  d x  d z  d y  \\cr \\color{blue}{\\text{Fubini's Theorem}}&=&\\int_{0}^{1}d{x}\\int_{0}^{2 \\sqrt{2}}d{z}\\int_{0}^{1} \\color{brown}{3 y}d{y}\\cr &=&\\int_{0}^{1} d{x}\\int_{0}^{2 \\sqrt{2}} \\left.\\color{brown}{\\frac{3 y^{2}}{2}} \\right|_{0}^{1} d{z}\\cr&=&\\int_{0}^{1}d{x}\\int_{0}^{2 \\sqrt{2}} \\color{brown}{1.5}d{z}\\cr &=&\\int_{0}^{1} \\left. \\color{brown}{\\frac{3 z}{2}} \\right|_{0}^{2 \\sqrt{2}} d{x}\\cr&=&\\int_{0}^{1} \\color{brown}{3 \\sqrt{2}}d{x}\\cr &=&\\left. \\color{brown}{3 \\sqrt{2} x} \\right|_{0}^{1}\\cr&=&3 \\sqrt{2}\\end{eqnarray}"
      ],
      "text/plain": [
       "<IPython.core.display.Latex object>"
      ]
     },
     "execution_count": 41,
     "metadata": {},
     "output_type": "execute_result"
    }
   ],
   "source": [
    "I"
   ]
  },
  {
   "cell_type": "code",
   "execution_count": 42,
   "metadata": {},
   "outputs": [
    {
     "data": {
      "text/latex": [
       "\\begin{eqnarray}\\iiint_{\\Large{\\mathbf{V}}=\\left\\{\\large{\\begin{array}{l} 0 \\le x \\le 1,\\cr 2 \\sqrt{2} \\le z \\le 3,\\cr 0 \\le y \\le \\sqrt{9 - z^{2}},\\cr\\end{array}}\\right\\}} \\color{brown}{3 y} dV&=& \\iiint_{\\Large{\\mathbf{V}}} \\color{brown}{3 y}  d x  d z  d y  \\cr \\color{blue}{\\text{Fubini's Theorem}}&=&\\int_{0}^{1}d{x}\\int_{2 \\sqrt{2}}^{3}d{z}\\int_{0}^{\\sqrt{9 - z^{2}}} \\color{brown}{3 y}d{y}\\cr &=&\\int_{0}^{1} d{x}\\int_{2 \\sqrt{2}}^{3} \\left.\\color{brown}{\\frac{3 y^{2}}{2}} \\right|_{0}^{\\sqrt{9 - z^{2}}} d{z}\\cr&=&\\int_{0}^{1}d{x}\\int_{2 \\sqrt{2}}^{3} \\color{brown}{13.5 - \\frac{3 z^{2}}{2}}d{z}\\cr &=&\\int_{0}^{1} \\left. \\color{brown}{- \\frac{z^{3}}{2} + \\frac{27 z}{2}} \\right|_{2 \\sqrt{2}}^{3} d{x}\\cr&=&\\int_{0}^{1} \\color{brown}{27 - 19 \\sqrt{2}}d{x}\\cr &=&\\left. \\color{brown}{x \\left(27 - 19 \\sqrt{2}\\right)} \\right|_{0}^{1}\\cr&=&27 - 19 \\sqrt{2}\\end{eqnarray}"
      ],
      "text/plain": [
       "<IPython.core.display.Latex object>"
      ]
     },
     "execution_count": 42,
     "metadata": {},
     "output_type": "execute_result"
    }
   ],
   "source": [
    "II"
   ]
  },
  {
   "cell_type": "code",
   "execution_count": 51,
   "metadata": {},
   "outputs": [
    {
     "data": {
      "text/latex": [
       "\\begin{eqnarray}\\iiint_{\\Large{\\mathbf{V}}=\\left\\{\\large{\\begin{array}{l} 0 \\le r \\le 2,\\cr 0 \\le 𝜽 \\le 2 \\pi,\\cr r \\le z \\le 1,\\cr\\end{array}}\\right\\}} \\color{brown}{r} dV&=& \\iiint_{\\Large{\\mathbf{V}}} \\color{brown}{r}  d r  d 𝜽  d z  \\cr \\color{blue}{\\text{Fubini's Theorem}}&=&\\int_{0}^{2}d{r}\\int_{0}^{2 \\pi}d{𝜽}\\int_{r}^{1} \\color{brown}{r}d{z}\\cr &=&\\int_{0}^{2} d{r}\\int_{0}^{2 \\pi} \\left.\\color{brown}{r z} \\right|_{r}^{1} d{𝜽}\\cr&=&\\int_{0}^{2}d{r}\\int_{0}^{2 \\pi} \\color{brown}{- r^{2} + r}d{𝜽}\\cr &=&\\int_{0}^{2} \\left. \\color{brown}{𝜽 \\left(- r^{2} + r\\right)} \\right|_{0}^{2 \\pi} d{r}\\cr&=&\\int_{0}^{2} \\color{brown}{2 \\pi \\left(- r^{2} + r\\right)}d{r}\\cr &=&\\left. \\color{brown}{- \\frac{2 \\pi r^{3}}{3} + \\pi r^{2}} \\right|_{0}^{2}\\cr&=&- \\frac{4 \\pi}{3}\\end{eqnarray}"
      ],
      "text/plain": [
       "<IPython.core.display.Latex object>"
      ]
     },
     "execution_count": 51,
     "metadata": {},
     "output_type": "execute_result"
    }
   ],
   "source": [
    "#17\n",
    "f=1\n",
    "J=r\n",
    "X=[r,Theta,z]\n",
    "XR=[[0,2],[0,2*pi],[r,1]]\n",
    "\n",
    "MultipleIntegral(f*J,X,XR)"
   ]
  },
  {
   "cell_type": "code",
   "execution_count": null,
   "metadata": {},
   "outputs": [],
   "source": []
  },
  {
   "cell_type": "code",
   "execution_count": null,
   "metadata": {},
   "outputs": [],
   "source": []
  },
  {
   "cell_type": "code",
   "execution_count": null,
   "metadata": {},
   "outputs": [],
   "source": []
  },
  {
   "cell_type": "code",
   "execution_count": 20,
   "metadata": {},
   "outputs": [
    {
     "data": {
      "text/latex": [
       "\\begin{eqnarray}\\iiint_{\\Large{\\mathbf{V}}=\\left\\{\\large{\\begin{array}{l} 0 \\le r \\le \\sqrt{2},\\cr 0 \\le 𝜽 \\le 2 \\pi,\\cr 0 \\le z \\le r^{2},\\cr\\end{array}}\\right\\}} \\color{brown}{3 r \\sin{\\left(𝜽 \\right)}} dV&=& \\iiint_{\\Large{\\mathbf{V}}} \\color{brown}{3 r \\sin{\\left(𝜽 \\right)}}  d r  d 𝜽  d z  \\cr \\color{blue}{\\text{Fubini's Theorem}}&=&\\int_{0}^{\\sqrt{2}}d{r}\\int_{0}^{2 \\pi}d{𝜽}\\int_{0}^{r^{2}} \\color{brown}{3 r \\sin{\\left(𝜽 \\right)}}d{z}\\cr &=&\\int_{0}^{\\sqrt{2}} d{r}\\int_{0}^{2 \\pi} \\left.\\color{brown}{3 r z \\sin{\\left(𝜽 \\right)}} \\right|_{0}^{r^{2}} d{𝜽}\\cr&=&\\int_{0}^{\\sqrt{2}}d{r}\\int_{0}^{2 \\pi} \\color{brown}{3 r^{3} \\sin{\\left(𝜽 \\right)}}d{𝜽}\\cr &=&\\int_{0}^{\\sqrt{2}} \\left. \\color{brown}{- 3 r^{3} \\cos{\\left(𝜽 \\right)}} \\right|_{0}^{2 \\pi} d{r}\\cr&=&\\int_{0}^{\\sqrt{2}} \\color{brown}{0}d{r}\\cr &=&\\left. \\color{brown}{0} \\right|_{0}^{\\sqrt{2}}\\cr&=&0\\end{eqnarray}"
      ],
      "text/plain": [
       "<IPython.core.display.Latex object>"
      ]
     },
     "execution_count": 20,
     "metadata": {},
     "output_type": "execute_result"
    }
   ],
   "source": [
    "f=r*3*sin(Theta)\n",
    "X=[r,Theta,z]\n",
    "XR=[[0,sqrt(2)],[0,2*pi],[0,r**2,sqrt(6-r**2)]]\n",
    "\n",
    "MultipleIntegral(f,X,XR)"
   ]
  },
  {
   "cell_type": "code",
   "execution_count": 3,
   "metadata": {},
   "outputs": [
    {
     "data": {
      "text/latex": [
       "\\begin{eqnarray}\\iiint_{\\Large{\\mathbf{V}}=\\left\\{\\large{\\begin{array}{l} 0 \\le 𝜽 \\le 2 \\pi,\\cr 0 \\le 𝝋 \\le \\pi,\\cr 0 \\le 𝝆 \\le 1,\\cr\\end{array}}\\right\\}} \\color{brown}{16 𝝆^{2} \\sin{\\left(𝝋 \\right)}} dV&=& \\iiint_{\\Large{\\mathbf{V}}} \\color{brown}{16 𝝆^{2} \\sin{\\left(𝝋 \\right)}}  d 𝜽  d 𝝋  d 𝝆  \\cr \\color{blue}{\\text{Fubini's Theorem}}&=&\\int_{0}^{2 \\pi}d{𝜽}\\int_{0}^{\\pi}d{𝝋}\\int_{0}^{1} \\color{brown}{16 𝝆^{2} \\sin{\\left(𝝋 \\right)}}d{𝝆}\\cr &=&\\int_{0}^{2 \\pi} d{𝜽}\\int_{0}^{\\pi} \\left.\\color{brown}{\\frac{16 𝝆^{3} \\sin{\\left(𝝋 \\right)}}{3}} \\right|_{0}^{1} d{𝝋}\\cr&=&\\int_{0}^{2 \\pi}d{𝜽}\\int_{0}^{\\pi} \\color{brown}{\\frac{16 \\sin{\\left(𝝋 \\right)}}{3}}d{𝝋}\\cr &=&\\int_{0}^{2 \\pi} \\left. \\color{brown}{- \\frac{16 \\cos{\\left(𝝋 \\right)}}{3}} \\right|_{0}^{\\pi} d{𝜽}\\cr&=&\\int_{0}^{2 \\pi} \\color{brown}{10.6666666666667}d{𝜽}\\cr &=&\\left. \\color{brown}{\\frac{32 𝜽}{3}} \\right|_{0}^{2 \\pi}\\cr&=&\\frac{64 \\pi}{3}\\end{eqnarray}"
      ],
      "text/plain": [
       "<IPython.core.display.Latex object>"
      ]
     },
     "execution_count": 3,
     "metadata": {},
     "output_type": "execute_result"
    }
   ],
   "source": [
    "f=Rho**2*sin(Phi)*2*2*4\n",
    "X=[Theta,Phi,Rho]\n",
    "XR=[[0,2*pi],[0,pi],[0,1]]\n",
    "\n",
    "MultipleIntegral(f,X,XR)"
   ]
  },
  {
   "cell_type": "code",
   "execution_count": 2,
   "metadata": {},
   "outputs": [
    {
     "data": {
      "text/latex": [
       "\\begin{eqnarray}\\iiint_{\\Large{\\mathbf{V}}=\\left\\{\\large{\\begin{array}{l} 0 \\le u \\le 1,\\cr 0 \\le v \\le 1 - u,\\cr 0 \\le w \\le - u - v + 1,\\cr\\end{array}}\\right\\}} \\color{brown}{8 u v w^{3}} dV&=& \\iiint_{\\Large{\\mathbf{V}}} \\color{brown}{8 u v w^{3}}  d u  d v  d w  \\cr \\color{blue}{\\text{Fubini's Theorem}}&=&\\int_{0}^{1}d{u}\\int_{0}^{1 - u}d{v}\\int_{0}^{- u - v + 1} \\color{brown}{8 u v w^{3}}d{w}\\cr &=&\\int_{0}^{1} d{u}\\int_{0}^{1 - u} \\left.\\color{brown}{2 u v w^{4}} \\right|_{0}^{- u - v + 1} d{v}\\cr&=&\\int_{0}^{1}d{u}\\int_{0}^{1 - u} \\color{brown}{2 u v \\left(- u - v + 1\\right)^{4}}d{v}\\cr &=&\\int_{0}^{1} \\left. \\color{brown}{\\frac{u v^{6}}{3} + v^{5} \\left(\\frac{8 u^{2}}{5} - \\frac{8 u}{5}\\right) + v^{4} \\left(3 u^{3} - 6 u^{2} + 3 u\\right) + v^{3} \\left(\\frac{8 u^{4}}{3} - 8 u^{3} + 8 u^{2} - \\frac{8 u}{3}\\right) + v^{2} \\left(u^{5} - 4 u^{4} + 6 u^{3} - 4 u^{2} + u\\right)} \\right|_{0}^{1 - u} d{u}\\cr&=&\\int_{0}^{1} \\color{brown}{\\frac{u \\left(1 - u\\right)^{6}}{3} + \\left(1 - u\\right)^{5} \\left(\\frac{8 u^{2}}{5} - \\frac{8 u}{5}\\right) + \\left(1 - u\\right)^{4} \\left(3 u^{3} - 6 u^{2} + 3 u\\right) + \\left(1 - u\\right)^{3} \\left(\\frac{8 u^{4}}{3} - 8 u^{3} + 8 u^{2} - \\frac{8 u}{3}\\right) + \\left(1 - u\\right)^{2} \\left(u^{5} - 4 u^{4} + 6 u^{3} - 4 u^{2} + u\\right)}d{u}\\cr &=&\\left. \\color{brown}{\\frac{u^{8}}{120} - \\frac{2 u^{7}}{35} + \\frac{u^{6}}{6} - \\frac{4 u^{5}}{15} + \\frac{u^{4}}{4} - \\frac{2 u^{3}}{15} + \\frac{u^{2}}{30}} \\right|_{0}^{1}\\cr&=&0.00119047619047619\\end{eqnarray}"
      ],
      "text/plain": [
       "<IPython.core.display.Latex object>"
      ]
     },
     "execution_count": 2,
     "metadata": {},
     "output_type": "execute_result"
    }
   ],
   "source": [
    "f=w**2*8*u*v*w\n",
    "X=[u,v,w]\n",
    "XR=[[0,1],[0,1-u],[0,1-u-v]]\n",
    "\n",
    "MultipleIntegral(f,X,XR)"
   ]
  },
  {
   "cell_type": "code",
   "execution_count": 9,
   "metadata": {},
   "outputs": [
    {
     "data": {
      "text/latex": [
       "$\\displaystyle 8 \\left|{u v w}\\right|$"
      ],
      "text/plain": [
       "8*Abs(u*v*w)"
      ]
     },
     "execution_count": 9,
     "metadata": {},
     "output_type": "execute_result"
    }
   ],
   "source": [
    "XU=[u**2,v**2,w**2]\n",
    "U=[u,v,w]\n",
    "Jacobian_det(XU,U)"
   ]
  },
  {
   "cell_type": "code",
   "execution_count": 14,
   "metadata": {},
   "outputs": [],
   "source": [
    "def TripleInt_UVW(f,X,XU,U,XR):\n",
    "    \"\"\"\n",
    "    Triple integral in Spherical Coordinates\n",
    "    input: ∫ dz ∫ dr ∫ f(r cos𝛉,r sin𝛉,z) rd𝛉\n",
    "           f: f(x,y,z), which will be automatically transformed from (x,y,z) to ( 𝜌cos𝛉sin𝜙,𝜌sin𝛉sin𝜙, 𝜌cos𝜙)\n",
    "           X: (x,y,z), variable pair in Cartesian Coordinates\n",
    "           XU: (x(u,v,z),y(u,v,z))\n",
    "           U: (u,v)\n",
    "           xr: (x0,x1) of 𝜌\n",
    "           yr: (y0,y1) of 𝛉\n",
    "           zr: (z0,z1) of 𝜙\n",
    "\n",
    "    output: details of integration and value  \n",
    "    \n",
    "    Should  calculate Jacobian and find out integation range in Polar Coordinates\n",
    "    \"\"\"\n",
    "    MX=Matrix(XU)\n",
    "    MU=Matrix(U)\n",
    "    S= MX.jacobian(MU )         \n",
    "    #Jacobian=Jacobian_det(XU,U);\n",
    "    Jacobian=simplify(Abs(S.det()))\n",
    "    \n",
    "    xr=XR[0]\n",
    "    yr=XR[1]\n",
    "    zr=XR[2]\n",
    "    \n",
    "    #Jacobian=r\n",
    "    f0=f\n",
    "    f0_latex=latex(eval(str(f0)))\n",
    "    \n",
    "    fp=simplify(((f+0*X[0]).subs({X[0]:XU[0],X[1]:XU[1],X[2]:XU[2]})))\n",
    "    fp_latex=latex(fp)\n",
    "    fpp_latex=latex(fp*Jacobian)\n",
    "    \n",
    "    f=f*Jacobian\n",
    "    f_latex=latex(eval(str(f)))\n",
    "    X0=latex(X[0])\n",
    "    X1=latex(X[1])\n",
    "    \n",
    "    Izz=integrate(fp*Jacobian,U[2])\n",
    "    Izz_latex=latex(eval(str(Izz)))                 \n",
    "\n",
    "    Iz=integrate(fp*Jacobian,[U[2],zr[0],zr[1]])\n",
    "    Iz_latex=latex(eval(str(Iz)))\n",
    "    \n",
    "    Iyy=integrate(Iz,U[1])\n",
    "    Iyy_latex=latex(eval(str(Iyy)))                 \n",
    "\n",
    "    Iy=integrate(Iz,[U[1],yr[0],yr[1]])\n",
    "    Iy_latex=latex(eval(str(Iy)))\n",
    "       \n",
    "    II= integrate(Iy,U[0])\n",
    "    II_latex=latex(eval(str(II)))\n",
    "    \n",
    "    I=integrate(Iy,[U[0],xr[0],xr[1]])\n",
    "    I_latex=latex(eval(str(I)))\n",
    "    \n",
    "    zr0=latex(eval(str(zr[0])))\n",
    "    zr1=latex(eval(str(zr[1])))\n",
    "    yr0=latex(eval(str(yr[0])))\n",
    "    yr1=latex(eval(str(yr[1])))\n",
    "    \n",
    "    XR0=[]\n",
    "    X_tex=[]\n",
    "    for var in XR:\n",
    "        XR0.append([latex(eval(str(var[0]))),latex(eval(str(var[1])))])\n",
    "    for var in X:\n",
    "        X_tex.append(latex(eval(str(var))))\n",
    "    \n",
    "    ZR1=XR0[2]\n",
    "    YR1=XR0[1]\n",
    "    XR1=XR0[0]\n",
    "    \n",
    "    text0=\"\\\\begin{eqnarray}\"\n",
    "    textfunc=\"\\iiint_{V} \\color{brown}{%s} dA&=& \\iiint_{V} \\color{brown}{%s} dx dy dz \\cr \" %(f0_latex,f0_latex)\n",
    "    textfunc1=\"&=& \\iiint_{V} \\color{brown} {\\left( %s \\\\right) }\\cdot \\color{blue}{%s} d %s d %s d %s \\cr\" %(fp_latex,latex(Jacobian),\\\n",
    "                                                                     latex(U[0]),latex(U[1]),latex(U[2]))\n",
    "       \n",
    "    text_desc=\"where [$%s,%s,%s$] = [$%s,%s,%s$], and the absolute value of determinant of Jacobian, $\\Large{{||\\\\frac{\\partial (x,y,z)}{\\partial (%s,%s,%s)}||}}$ = $%s$. Thus\" %(latex(X[0]), \\\n",
    "                latex(X[1]),latex(X[2]),latex(XU[0]),latex(XU[1]),latex(XU[2]),  \\\n",
    "                latex(U[0]),latex(U[1]),latex(U[2]),latex(Jacobian))\n",
    "    text0=\"\\\\begin{eqnarray}\"\n",
    "    textf=\"\\end{eqnarray}\"\n",
    "  \n",
    "    text1=\"\\int^{%s}_{%s}d{%s}\\int^{%s}_{%s}d{%s}\\int^{%s}_{%s}\\color{brown}{%s}d{%s} \" %(XR1[1],XR1[0],latex(U[0]),YR1[1],YR1[0],latex(U[1]), \\\n",
    "                                                                                          ZR1[1],ZR1[0],fpp_latex,latex(U[2]));\n",
    "    \n",
    "    text2=\"&=& \\int^{%s}_{%s}d{%s}\\int^{%s}_{%s}\\left.\\color{brown}{%s}\\\\right|^{\\large{%s}}_{\\large{%s}}d{%s}\\cr\" %(XR1[1],XR1[0],latex(U[0]), \\\n",
    "                                                                    YR1[1],YR1[0],Izz_latex,zr1,zr0,latex(U[1]))\n",
    "    \n",
    "    text22=\"&=& \\int^{%s}_{%s}d{%s}\\int^{%s}_{%s}\\,\\color{brown}{%s}\\,d{%s}\\cr\" %(XR1[1],XR1[0],latex(U[0]), \\\n",
    "                                                                                  YR1[1],YR1[0], Iz_latex , latex(U[1]))\n",
    "    text3=\"&=& \\int^{%s}_{%s}\\left.\\color{brown}{%s}\\\\right|^{\\large{%s}}_{\\large{%s}}d{%s}\\cr\" %(XR1[1],XR1[0], \\\n",
    "                                                                    Iyy_latex,yr1,yr0,latex(U[0]))\n",
    "\n",
    "    text4=\"&=& \\int^{%s}_{%s}\\color{brown}{%s}d{%s}\\cr&=&\\left.{\\color{brown}{%s}}\\\\right|^{\\large{%s}}_{\\large{%s}}={%s}\\cr\" %(\n",
    "            XR1[1],XR1[0],Iy_latex,latex(U[0]), II_latex,xr[1],xr[0],I_latex)\n",
    "    \n",
    "    \n",
    "    text=text0+textfunc+textfunc1+textf+text_desc+text0+text1+text2+text22+text3+text4+textf;\n",
    "    return Latex(text)"
   ]
  },
  {
   "cell_type": "code",
   "execution_count": 6,
   "metadata": {},
   "outputs": [
    {
     "data": {
      "text/latex": [
       "\\begin{eqnarray}\\iiint_{V} \\color{brown}{1} dA&=& \\iiint_{V} \\color{brown}{1} dx dy dz \\cr &=& \\iiint_{V} \\color{brown} {\\left( 1 \\right) }\\cdot \\color{blue}{r} d r d \\theta d z \\cr\\end{eqnarray}where $$[x,y,z] = [r \\cos{\\left(\\theta \\right)},r \\sin{\\left(\\theta \\right)},z]$$, and the absolute value of determinant of Jacobian, $\\Large{{||\\frac{\\partial (x,y,z)}{\\partial (r,\\theta,z)}||}} = r$. Thus\\begin{eqnarray}\\int^{2}_{0}d{r}\\int^{2 \\pi}_{0}d{\\theta}\\int^{8}_{2 r^{2}}\\color{brown}{r}d{z} &=& \\int^{2}_{0}d{r}\\int^{2 \\pi}_{0}\\left.\\color{brown}{r z}\\right|^{\\large{8}}_{\\large{2 r^{2}}}d{\\theta}\\cr&=& \\int^{2}_{0}d{r}\\int^{2 \\pi}_{0}\\,\\color{brown}{- 2 r^{3} + 8 r}\\,d{\\theta}\\cr&=& \\int^{2}_{0}\\left.\\color{brown}{𝜽 \\left(- 2 r^{3} + 8 r\\right)}\\right|^{\\large{2 \\pi}}_{\\large{0}}d{r}\\cr&=& \\int^{2}_{0}\\color{brown}{2 \\pi \\left(- 2 r^{3} + 8 r\\right)}d{r}\\cr&=&\\left.{\\color{brown}{- \\pi r^{4} + 8 \\pi r^{2}}}\\right|^{\\large{2}}_{\\large{0}}={16 \\pi}\\cr\\end{eqnarray}"
      ],
      "text/plain": [
       "<IPython.core.display.Latex object>"
      ]
     },
     "execution_count": 6,
     "metadata": {},
     "output_type": "execute_result"
    }
   ],
   "source": [
    "#20\n",
    "f=1\n",
    "X=[x,y,z]\n",
    "U=[r,Theta,z]\n",
    "XU=[r*cos(Theta),r*sin(Theta),z]\n",
    "XR=[[0,2],[0,2*pi],[2*r**2,8]]\n",
    "\n",
    "TripleInt_UVW(f,X,XU,U,XR)"
   ]
  },
  {
   "cell_type": "code",
   "execution_count": 9,
   "metadata": {},
   "outputs": [
    {
     "data": {
      "text/latex": [
       "\\begin{eqnarray}\\iiint_{V} \\color{brown}{1} dA&=& \\iiint_{V} \\color{brown}{1} dx dy dz \\cr &=& \\iiint_{V} \\color{brown} {\\left( 1 \\right) }\\cdot \\color{blue}{r} d r d \\theta d z \\cr\\end{eqnarray}where $$[x,y,z] = [r \\cos{\\left(\\theta \\right)},r \\sin{\\left(\\theta \\right)},z]$$, and the absolute value of determinant of Jacobian, $\\Large{{||\\frac{\\partial (x,y,z)}{\\partial (r,\\theta,z)}||}} = r$. Thus\\begin{eqnarray}\\int^{4}_{0}d{r}\\int^{2 \\pi}_{0}d{\\theta}\\int^{- r \\cos{\\left(𝜽 \\right)} + 2}_{1}\\color{brown}{r}d{z} &=& \\int^{4}_{0}d{r}\\int^{2 \\pi}_{0}\\left.\\color{brown}{r z}\\right|^{\\large{- r \\cos{\\left(𝜽 \\right)} + 2}}_{\\large{1}}d{\\theta}\\cr&=& \\int^{4}_{0}d{r}\\int^{2 \\pi}_{0}\\,\\color{brown}{r \\left(- r \\cos{\\left(𝜽 \\right)} + 2\\right) - r}\\,d{\\theta}\\cr&=& \\int^{4}_{0}\\left.\\color{brown}{- r 𝜽 + r \\left(- r \\sin{\\left(𝜽 \\right)} + 2 𝜽\\right)}\\right|^{\\large{2 \\pi}}_{\\large{0}}d{r}\\cr&=& \\int^{4}_{0}\\color{brown}{2 \\pi r}d{r}\\cr&=&\\left.{\\color{brown}{\\pi r^{2}}}\\right|^{\\large{4}}_{\\large{0}}={16 \\pi}\\cr\\end{eqnarray}"
      ],
      "text/plain": [
       "<IPython.core.display.Latex object>"
      ]
     },
     "execution_count": 9,
     "metadata": {},
     "output_type": "execute_result"
    }
   ],
   "source": [
    "#21\n",
    "f=1\n",
    "X=[x,y,z]\n",
    "U=[r,Theta,z]\n",
    "XU=[r*cos(Theta),r*sin(Theta),z]\n",
    "XR=[[0,4],[0,2*pi],[1,2-r*cos(Theta)]]\n",
    "\n",
    "TripleInt_UVW(f,X,XU,U,XR)"
   ]
  },
  {
   "cell_type": "code",
   "execution_count": 10,
   "metadata": {},
   "outputs": [
    {
     "data": {
      "text/latex": [
       "\\begin{eqnarray}\\iiint_{V} \\color{brown}{1} dA&=& \\iiint_{V} \\color{brown}{1} dx dy dz \\cr &=& \\iiint_{V} \\color{brown} {\\left( 1 \\right) }\\cdot \\color{blue}{\\rho^{2} \\left|{\\sin{\\left(\\phi \\right)}}\\right|} d \\phi d \\rho d \\theta \\cr\\end{eqnarray}where $$[x,y,z] = [\\rho \\sin{\\left(\\phi \\right)} \\cos{\\left(\\theta \\right)},\\rho \\sin{\\left(\\phi \\right)} \\sin{\\left(\\theta \\right)},\\rho \\cos{\\left(\\phi \\right)}]$$, and the absolute value of determinant of Jacobian, $\\Large{{||\\frac{\\partial (x,y,z)}{\\partial (\\phi,\\rho,\\theta)}||}} = \\rho^{2} \\left|{\\sin{\\left(\\phi \\right)}}\\right|$. Thus\\begin{eqnarray}\\int^{\\frac{\\pi}{4}}_{0}d{\\phi}\\int^{\\cos{\\left(𝝋 \\right)}}_{0}d{\\rho}\\int^{2 \\pi}_{0}\\color{brown}{\\rho^{2} \\left|{\\sin{\\left(\\phi \\right)}}\\right|}d{\\theta} &=& \\int^{\\frac{\\pi}{4}}_{0}d{\\phi}\\int^{\\cos{\\left(𝝋 \\right)}}_{0}\\left.\\color{brown}{\\begin{cases} 𝜽 𝝆^{2} \\sin{\\left(𝝋 \\right)} & \\text{for}\\: 𝝋 \\leq \\pi \\\\- 𝜽 𝝆^{2} \\sin{\\left(𝝋 \\right)} & \\text{otherwise} \\end{cases}}\\right|^{\\large{2 \\pi}}_{\\large{0}}d{\\rho}\\cr&=& \\int^{\\frac{\\pi}{4}}_{0}d{\\phi}\\int^{\\cos{\\left(𝝋 \\right)}}_{0}\\,\\color{brown}{\\begin{cases} 2 \\pi 𝝆^{2} \\sin{\\left(𝝋 \\right)} & \\text{for}\\: 𝝋 \\leq \\pi \\\\- 2 \\pi 𝝆^{2} \\sin{\\left(𝝋 \\right)} & \\text{otherwise} \\end{cases}}\\,d{\\rho}\\cr&=& \\int^{\\frac{\\pi}{4}}_{0}\\left.\\color{brown}{\\begin{cases} \\frac{2 \\pi 𝝆^{3} \\sin{\\left(𝝋 \\right)}}{3} & \\text{for}\\: 𝝋 \\leq \\pi \\\\- \\frac{2 \\pi 𝝆^{3} \\sin{\\left(𝝋 \\right)}}{3} & \\text{otherwise} \\end{cases}}\\right|^{\\large{\\cos{\\left(𝝋 \\right)}}}_{\\large{0}}d{\\phi}\\cr&=& \\int^{\\frac{\\pi}{4}}_{0}\\color{brown}{\\begin{cases} \\frac{2 \\pi \\sin{\\left(𝝋 \\right)} \\cos^{3}{\\left(𝝋 \\right)}}{3} & \\text{for}\\: 𝝋 \\leq \\pi \\\\- \\frac{2 \\pi \\sin{\\left(𝝋 \\right)} \\cos^{3}{\\left(𝝋 \\right)}}{3} & \\text{otherwise} \\end{cases}}d{\\phi}\\cr&=&\\left.{\\color{brown}{\\begin{cases} - \\frac{\\pi \\cos^{4}{\\left(𝝋 \\right)}}{6} & \\text{for}\\: 𝝋 \\leq \\pi \\\\\\frac{\\pi \\cos^{4}{\\left(𝝋 \\right)}}{6} - \\frac{\\pi}{3} & \\text{otherwise} \\end{cases}}}\\right|^{\\large{pi/4}}_{\\large{0}}={\\frac{\\pi}{8}}\\cr\\end{eqnarray}"
      ],
      "text/plain": [
       "<IPython.core.display.Latex object>"
      ]
     },
     "execution_count": 10,
     "metadata": {},
     "output_type": "execute_result"
    }
   ],
   "source": [
    "#23\n",
    "f=1\n",
    "X=[x,y,z]\n",
    "XU=[Rho*cos(Theta)*sin(Phi),Rho*sin(Theta)*sin(Phi),Rho*cos(Phi)]\n",
    "U=[Phi,Rho,Theta]\n",
    "XR=[[0,pi/4],[0,cos(Phi)],[0,2*pi]]\n",
    "\n",
    "TripleInt_UVW(f,X,XU,U,XR)"
   ]
  },
  {
   "cell_type": "code",
   "execution_count": 2,
   "metadata": {},
   "outputs": [
    {
     "data": {
      "text/latex": [
       "\\begin{eqnarray}\\iiint_{V} \\color{brown}{z} dA&=& \\iiint_{V} \\color{brown}{z} dx dy dz \\cr &=& \\iiint_{V} \\color{brown} {\\left( w^{2} \\right) }\\cdot \\color{blue}{8 u v w} d u d v d w \\cr\\end{eqnarray}where $$[x,y,z] = [u^{2},v^{2},w^{2}]$$, and the absolute value of determinant of Jacobian, $\\Large{{||\\frac{\\partial (x,y,z)}{\\partial (u,v,w)}||}} = 8 u v w$. Thus\\begin{eqnarray}\\int^{1}_{0}d{u}\\int^{1 - u}_{0}d{v}\\int^{- u - v + 1}_{0}\\color{brown}{8 u v w^{3}}d{w} &=& \\int^{1}_{0}d{u}\\int^{1 - u}_{0}\\left.\\color{brown}{2 u v w^{4}}\\right|^{\\large{- u - v + 1}}_{\\large{0}}d{v}\\cr&=& \\int^{1}_{0}d{u}\\int^{1 - u}_{0}\\,\\color{brown}{2 u v \\left(- u - v + 1\\right)^{4}}\\,d{v}\\cr&=& \\int^{1}_{0}\\left.\\color{brown}{\\frac{u v^{6}}{3} + v^{5} \\left(\\frac{8 u^{2}}{5} - \\frac{8 u}{5}\\right) + v^{4} \\left(3 u^{3} - 6 u^{2} + 3 u\\right) + v^{3} \\left(\\frac{8 u^{4}}{3} - 8 u^{3} + 8 u^{2} - \\frac{8 u}{3}\\right) + v^{2} \\left(u^{5} - 4 u^{4} + 6 u^{3} - 4 u^{2} + u\\right)}\\right|^{\\large{1 - u}}_{\\large{0}}d{u}\\cr&=& \\int^{1}_{0}\\color{brown}{\\frac{u \\left(1 - u\\right)^{6}}{3} + \\left(1 - u\\right)^{5} \\left(\\frac{8 u^{2}}{5} - \\frac{8 u}{5}\\right) + \\left(1 - u\\right)^{4} \\left(3 u^{3} - 6 u^{2} + 3 u\\right) + \\left(1 - u\\right)^{3} \\left(\\frac{8 u^{4}}{3} - 8 u^{3} + 8 u^{2} - \\frac{8 u}{3}\\right) + \\left(1 - u\\right)^{2} \\left(u^{5} - 4 u^{4} + 6 u^{3} - 4 u^{2} + u\\right)}d{u}\\cr&=&\\left.{\\color{brown}{\\frac{u^{8}}{120} - \\frac{2 u^{7}}{35} + \\frac{u^{6}}{6} - \\frac{4 u^{5}}{15} + \\frac{u^{4}}{4} - \\frac{2 u^{3}}{15} + \\frac{u^{2}}{30}}}\\right|^{\\large{1}}_{\\large{0}}={0.00119047619047619}\\cr\\end{eqnarray}"
      ],
      "text/plain": [
       "<IPython.core.display.Latex object>"
      ]
     },
     "execution_count": 2,
     "metadata": {},
     "output_type": "execute_result"
    }
   ],
   "source": [
    "#24\n",
    "u,v,w=symbols(\"u,v,w\",positive=True)\n",
    "\n",
    "f=z\n",
    "X=[x,y,z]\n",
    "XR=[[0,1],[0,1-u],[0,1-u-v]]\n",
    "XU=[u**2,v**2,w**2]\n",
    "U=[u,v,w]\n",
    "TripleInt_UVW(f,X,XU,U,XR)"
   ]
  },
  {
   "cell_type": "code",
   "execution_count": 27,
   "metadata": {},
   "outputs": [
    {
     "data": {
      "text/latex": [
       "\\begin{eqnarray}\\iiint_{\\Large{\\mathbf{V}}=\\left\\{\\large{\\begin{array}{l} 0 \\le r \\le 1,\\cr 0 \\le 𝜽 \\le 2 \\pi,\\cr r^{2} \\le z \\le \\sqrt{2 - r^{2}},\\cr\\end{array}}\\right\\}} \\color{brown}{r^{2}} dV&=& \\iiint_{\\Large{\\mathbf{V}}} \\color{brown}{r^{2}}  d r  d 𝜽  d z  \\cr \\color{blue}{\\text{Fubini's Theorem}}&=&\\int_{0}^{1}d{r}\\int_{0}^{2 \\pi}d{𝜽}\\int_{r^{2}}^{\\sqrt{2 - r^{2}}} \\color{brown}{r^{2}}d{z}\\cr &=&\\int_{0}^{1} d{r}\\int_{0}^{2 \\pi} \\left.\\color{brown}{r^{2} z} \\right|_{r^{2}}^{\\sqrt{2 - r^{2}}} d{𝜽}\\cr&=&\\int_{0}^{1}d{r}\\int_{0}^{2 \\pi} \\color{brown}{- r^{4} + r^{2} \\sqrt{2 - r^{2}}}d{𝜽}\\cr &=&\\int_{0}^{1} \\left. \\color{brown}{𝜽 \\left(- r^{4} + r^{2} \\sqrt{2 - r^{2}}\\right)} \\right|_{0}^{2 \\pi} d{r}\\cr&=&\\int_{0}^{1} \\color{brown}{2 \\pi \\left(- r^{4} + r^{2} \\sqrt{2 - r^{2}}\\right)}d{r}\\cr &=&\\left. \\color{brown}{2 \\pi \\left(- \\frac{r^{5}}{5} + \\frac{r^{3} \\sqrt{2 - r^{2}}}{4} - \\frac{r \\sqrt{2 - r^{2}}}{4} + \\frac{\\operatorname{asin}{\\left(\\frac{\\sqrt{2} r}{2} \\right)}}{2}\\right)} \\right|_{0}^{1}\\cr&=&2 \\pi \\left(-0.2 + \\frac{\\pi}{8}\\right)\\end{eqnarray}"
      ],
      "text/plain": [
       "<IPython.core.display.Latex object>"
      ]
     },
     "execution_count": 27,
     "metadata": {},
     "output_type": "execute_result"
    }
   ],
   "source": [
    "#25\n",
    "f=r*r\n",
    "X=[r,Theta,z]\n",
    "XR=[[0,1],[0,2*pi],[r**2,sqrt(2-r**2)]]\n",
    "\n",
    "MultipleIntegral(f,X,XR)"
   ]
  },
  {
   "cell_type": "code",
   "execution_count": 28,
   "metadata": {},
   "outputs": [
    {
     "data": {
      "text/latex": [
       "\\begin{eqnarray}\\iiint_{\\Large{\\mathbf{V}}=\\left\\{\\large{\\begin{array}{l} 0 \\le 𝜽 \\le 2 \\pi,\\cr 0 \\le 𝝋 \\le \\frac{\\pi}{4},\\cr 0 \\le 𝝆 \\le 2 \\cos{\\left(𝝋 \\right)},\\cr\\end{array}}\\right\\}} \\color{brown}{- 2 𝝆^{3} \\sin{\\left(𝝋 \\right)} \\cos{\\left(𝝋 \\right)}} dV&=& \\iiint_{\\Large{\\mathbf{V}}} \\color{brown}{- 2 𝝆^{3} \\sin{\\left(𝝋 \\right)} \\cos{\\left(𝝋 \\right)}}  d 𝜽  d 𝝋  d 𝝆  \\cr \\color{blue}{\\text{Fubini's Theorem}}&=&\\int_{0}^{2 \\pi}d{𝜽}\\int_{0}^{\\frac{\\pi}{4}}d{𝝋}\\int_{0}^{2 \\cos{\\left(𝝋 \\right)}} \\color{brown}{- 2 𝝆^{3} \\sin{\\left(𝝋 \\right)} \\cos{\\left(𝝋 \\right)}}d{𝝆}\\cr &=&\\int_{0}^{2 \\pi} d{𝜽}\\int_{0}^{\\frac{\\pi}{4}} \\left.\\color{brown}{- \\frac{𝝆^{4} \\sin{\\left(𝝋 \\right)} \\cos{\\left(𝝋 \\right)}}{2}} \\right|_{0}^{2 \\cos{\\left(𝝋 \\right)}} d{𝝋}\\cr&=&\\int_{0}^{2 \\pi}d{𝜽}\\int_{0}^{\\frac{\\pi}{4}} \\color{brown}{- 8 \\sin{\\left(𝝋 \\right)} \\cos^{5}{\\left(𝝋 \\right)}}d{𝝋}\\cr &=&\\int_{0}^{2 \\pi} \\left. \\color{brown}{\\frac{4 \\cos^{6}{\\left(𝝋 \\right)}}{3}} \\right|_{0}^{\\frac{\\pi}{4}} d{𝜽}\\cr&=&\\int_{0}^{2 \\pi} \\color{brown}{-1.16666666666667}d{𝜽}\\cr &=&\\left. \\color{brown}{- \\frac{7 𝜽}{6}} \\right|_{0}^{2 \\pi}\\cr&=&- \\frac{7 \\pi}{3}\\end{eqnarray}"
      ],
      "text/plain": [
       "<IPython.core.display.Latex object>"
      ]
     },
     "execution_count": 28,
     "metadata": {},
     "output_type": "execute_result"
    }
   ],
   "source": [
    "#26\n",
    "f=-Rho**2*sin(Phi)*2*Rho*cos(Phi)\n",
    "X=[Theta,Phi,Rho]\n",
    "XR=[[0,2*pi],[0,pi/4],[0,2*cos(Phi)]]\n",
    "\n",
    "MultipleIntegral(f,X,XR)"
   ]
  },
  {
   "cell_type": "code",
   "execution_count": 29,
   "metadata": {},
   "outputs": [
    {
     "data": {
      "text/latex": [
       "\\begin{eqnarray}\\iiint_{\\Large{\\mathbf{V}}=\\left\\{\\large{\\begin{array}{l} 0 \\le 𝝆 \\le 1,\\cr 0 \\le 𝜽 \\le 2 \\pi,\\cr 0 \\le 𝝋 \\le \\frac{\\pi}{4},\\cr\\end{array}}\\right\\}} \\color{brown}{𝝆^{2} \\sin{\\left(𝝋 \\right)}} dV&=& \\iiint_{\\Large{\\mathbf{V}}} \\color{brown}{𝝆^{2} \\sin{\\left(𝝋 \\right)}}  d 𝝆  d 𝜽  d 𝝋  \\cr \\color{blue}{\\text{Fubini's Theorem}}&=&\\int_{0}^{1}d{𝝆}\\int_{0}^{2 \\pi}d{𝜽}\\int_{0}^{\\frac{\\pi}{4}} \\color{brown}{𝝆^{2} \\sin{\\left(𝝋 \\right)}}d{𝝋}\\cr &=&\\int_{0}^{1} d{𝝆}\\int_{0}^{2 \\pi} \\left.\\color{brown}{- 𝝆^{2} \\cos{\\left(𝝋 \\right)}} \\right|_{0}^{\\frac{\\pi}{4}} d{𝜽}\\cr&=&\\int_{0}^{1}d{𝝆}\\int_{0}^{2 \\pi} \\color{brown}{- \\frac{\\sqrt{2} 𝝆^{2}}{2} + 𝝆^{2}}d{𝜽}\\cr &=&\\int_{0}^{1} \\left. \\color{brown}{𝜽 \\left(- \\frac{\\sqrt{2} 𝝆^{2}}{2} + 𝝆^{2}\\right)} \\right|_{0}^{2 \\pi} d{𝝆}\\cr&=&\\int_{0}^{1} \\color{brown}{2 \\pi \\left(- \\frac{\\sqrt{2} 𝝆^{2}}{2} + 𝝆^{2}\\right)}d{𝝆}\\cr &=&\\left. \\color{brown}{𝝆^{3} \\left(- \\frac{\\sqrt{2} \\pi}{3} + \\frac{2 \\pi}{3}\\right)} \\right|_{0}^{1}\\cr&=&- \\frac{\\sqrt{2} \\pi}{3} + \\frac{2 \\pi}{3}\\end{eqnarray}"
      ],
      "text/plain": [
       "<IPython.core.display.Latex object>"
      ]
     },
     "execution_count": 29,
     "metadata": {},
     "output_type": "execute_result"
    }
   ],
   "source": [
    "#27\n",
    "f=Rho**2*sin(Phi)\n",
    "X=[Rho,Theta,Phi]\n",
    "XR=[[0,1],[0,2*pi],[0,pi/4]]\n",
    "\n",
    "MultipleIntegral(f,X,XR)"
   ]
  },
  {
   "cell_type": "code",
   "execution_count": 16,
   "metadata": {},
   "outputs": [
    {
     "data": {
      "text/latex": [
       "\\begin{eqnarray}\\iiint_{V} \\color{brown}{\\frac{1}{\\sqrt{- x^{2} - y^{2} - z^{2} + 1}}} dA&=& \\iiint_{V} \\color{brown}{\\frac{1}{\\sqrt{- x^{2} - y^{2} - z^{2} + 1}}} dx dy dz \\cr &=& \\iiint_{V} \\color{brown} {\\left( \\frac{1}{\\sqrt{1 - \\rho^{2}}} \\right) }\\cdot \\color{blue}{\\rho^{2} \\left|{\\sin{\\left(\\phi \\right)}}\\right|} d \\rho d \\theta d \\phi \\cr\\end{eqnarray}where [$x$,$y$,$z$] = [$\\rho \\sin{\\left(\\phi \\right)} \\cos{\\left(\\theta \\right)}$,$\\rho \\sin{\\left(\\phi \\right)} \\sin{\\left(\\theta \\right)}$,$\\rho \\cos{\\left(\\phi \\right)}$], and the absolute value of determinant of Jacobian, $\\Large{{||\\frac{\\partial (x,y,z)}{\\partial (\\rho,\\theta,\\phi)}||}}$ = $\\rho^{2} \\left|{\\sin{\\left(\\phi \\right)}}\\right|$. Thus\\begin{eqnarray}\\int^{1}_{0}d{\\rho}\\int^{\\frac{\\pi}{2}}_{0}d{\\theta}\\int^{\\frac{\\pi}{2}}_{0}\\color{brown}{\\frac{\\rho^{2} \\left|{\\sin{\\left(\\phi \\right)}}\\right|}{\\sqrt{1 - \\rho^{2}}}}d{\\phi} &=& \\int^{1}_{0}d{\\rho}\\int^{\\frac{\\pi}{2}}_{0}\\left.\\color{brown}{\\begin{cases} - \\frac{𝝆^{2} \\cos{\\left(𝝋 \\right)}}{\\sqrt{1 - 𝝆^{2}}} & \\text{for}\\: 𝝋 \\leq \\pi \\\\\\frac{𝝆^{2} \\cos{\\left(𝝋 \\right)}}{\\sqrt{1 - 𝝆^{2}}} + \\frac{2 𝝆^{2}}{\\sqrt{1 - 𝝆^{2}}} & \\text{otherwise} \\end{cases}}\\right|^{\\large{\\frac{\\pi}{2}}}_{\\large{0}}d{\\theta}\\cr&=& \\int^{1}_{0}d{\\rho}\\int^{\\frac{\\pi}{2}}_{0}\\,\\color{brown}{\\frac{𝝆^{2}}{\\sqrt{1 - 𝝆^{2}}}}\\,d{\\theta}\\cr&=& \\int^{1}_{0}\\left.\\color{brown}{\\frac{𝜽 𝝆^{2}}{\\sqrt{1 - 𝝆^{2}}}}\\right|^{\\large{\\frac{\\pi}{2}}}_{\\large{0}}d{\\rho}\\cr&=& \\int^{1}_{0}\\color{brown}{\\frac{\\pi 𝝆^{2}}{2 \\sqrt{1 - 𝝆^{2}}}}d{\\rho}\\cr&=&\\left.{\\color{brown}{\\frac{\\pi \\left(- \\frac{𝝆 \\sqrt{1 - 𝝆^{2}}}{2} + \\frac{\\operatorname{asin}{\\left(𝝆 \\right)}}{2}\\right)}{2}}}\\right|^{\\large{1}}_{\\large{0}}={\\frac{\\pi^{2}}{8}}\\cr\\end{eqnarray}"
      ],
      "text/plain": [
       "<IPython.core.display.Latex object>"
      ]
     },
     "execution_count": 16,
     "metadata": {},
     "output_type": "execute_result"
    }
   ],
   "source": [
    "#28\n",
    "f=1/sqrt(1-x**2-y**2-z**2)\n",
    "X=[x,y,z]\n",
    "XU=[Rho*cos(Theta)*sin(Phi),Rho*sin(Theta)*sin(Phi),Rho*cos(Phi)]\n",
    "U=[Rho,Theta,Phi]\n",
    "\n",
    "XR=[[0,1],[0,pi/2],[0,pi/2]]\n",
    "TripleInt_UVW(f,X,XU,U,XR)"
   ]
  },
  {
   "cell_type": "code",
   "execution_count": 17,
   "metadata": {},
   "outputs": [
    {
     "data": {
      "text/latex": [
       "\\begin{eqnarray}\\iiint_{V} \\color{brown}{1} dA&=& \\iiint_{V} \\color{brown}{1} dx dy dz \\cr &=& \\iiint_{V} \\color{brown} {\\left( 1 \\right) }\\cdot \\color{blue}{\\rho^{2} \\left|{\\sin{\\left(\\phi \\right)}}\\right|} d \\rho d \\theta d \\phi \\cr\\end{eqnarray}where [$x$,$y$,$z$] = [$\\rho \\sin{\\left(\\phi \\right)} \\cos{\\left(\\theta \\right)}$,$\\rho \\sin{\\left(\\phi \\right)} \\sin{\\left(\\theta \\right)}$,$\\rho \\cos{\\left(\\phi \\right)}$], and the absolute value of determinant of Jacobian, $\\Large{{||\\frac{\\partial (x,y,z)}{\\partial (\\rho,\\theta,\\phi)}||}}$ = $\\rho^{2} \\left|{\\sin{\\left(\\phi \\right)}}\\right|$. Thus\\begin{eqnarray}\\int^{1}_{0}d{\\rho}\\int^{2 \\pi}_{0}d{\\theta}\\int^{\\frac{\\pi}{4}}_{0}\\color{brown}{\\rho^{2} \\left|{\\sin{\\left(\\phi \\right)}}\\right|}d{\\phi} &=& \\int^{1}_{0}d{\\rho}\\int^{2 \\pi}_{0}\\left.\\color{brown}{\\begin{cases} - 𝝆^{2} \\cos{\\left(𝝋 \\right)} & \\text{for}\\: 𝝋 \\leq \\pi \\\\𝝆^{2} \\cos{\\left(𝝋 \\right)} + 2 𝝆^{2} & \\text{otherwise} \\end{cases}}\\right|^{\\large{\\frac{\\pi}{4}}}_{\\large{0}}d{\\theta}\\cr&=& \\int^{1}_{0}d{\\rho}\\int^{2 \\pi}_{0}\\,\\color{brown}{- \\frac{\\sqrt{2} 𝝆^{2}}{2} + 𝝆^{2}}\\,d{\\theta}\\cr&=& \\int^{1}_{0}\\left.\\color{brown}{𝜽 \\left(- \\frac{\\sqrt{2} 𝝆^{2}}{2} + 𝝆^{2}\\right)}\\right|^{\\large{2 \\pi}}_{\\large{0}}d{\\rho}\\cr&=& \\int^{1}_{0}\\color{brown}{2 \\pi \\left(- \\frac{\\sqrt{2} 𝝆^{2}}{2} + 𝝆^{2}\\right)}d{\\rho}\\cr&=&\\left.{\\color{brown}{𝝆^{3} \\left(- \\frac{\\sqrt{2} \\pi}{3} + \\frac{2 \\pi}{3}\\right)}}\\right|^{\\large{1}}_{\\large{0}}={- \\frac{\\sqrt{2} \\pi}{3} + \\frac{2 \\pi}{3}}\\cr\\end{eqnarray}"
      ],
      "text/plain": [
       "<IPython.core.display.Latex object>"
      ]
     },
     "execution_count": 17,
     "metadata": {},
     "output_type": "execute_result"
    }
   ],
   "source": [
    "#27\n",
    "Phi,phi,𝝋=symbols(\"phi 𝝋 𝝋\",positive=True)\n",
    "f=1\n",
    "X=[x,y,z]\n",
    "XU=[Rho*cos(Theta)*sin(Phi),Rho*sin(Theta)*sin(Phi),Rho*cos(Phi)]\n",
    "U=[Rho,Theta,Phi]\n",
    "\n",
    "XR=[[0,1],[0,2*pi],[0,pi/4]]\n",
    "TripleInt_UVW(f,X,XU,U,XR)"
   ]
  },
  {
   "cell_type": "code",
   "execution_count": 18,
   "metadata": {},
   "outputs": [
    {
     "data": {
      "text/latex": [
       "\\begin{eqnarray}\\iiint_{V} \\color{brown}{z} dA&=& \\iiint_{V} \\color{brown}{z} dx dy dz \\cr &=& \\iiint_{V} \\color{brown} {\\left( z \\right) }\\cdot \\color{blue}{r} d \\theta d r d z \\cr\\end{eqnarray}where [$x$,$y$,$z$] = [$r \\cos{\\left(\\theta \\right)}$,$r \\sin{\\left(\\theta \\right)}$,$z$], and the absolute value of determinant of Jacobian, $\\Large{{||\\frac{\\partial (x,y,z)}{\\partial (\\theta,r,z)}||}}$ = $r$. Thus\\begin{eqnarray}\\int^{2 \\pi}_{0}d{\\theta}\\int^{2}_{0}d{r}\\int^{\\sqrt{16 - 4 r^{2}}}_{0}\\color{brown}{r z}d{z} &=& \\int^{2 \\pi}_{0}d{\\theta}\\int^{2}_{0}\\left.\\color{brown}{\\frac{r z^{2}}{2}}\\right|^{\\large{\\sqrt{16 - 4 r^{2}}}}_{\\large{0}}d{r}\\cr&=& \\int^{2 \\pi}_{0}d{\\theta}\\int^{2}_{0}\\,\\color{brown}{\\frac{r \\left(16 - 4 r^{2}\\right)}{2}}\\,d{r}\\cr&=& \\int^{2 \\pi}_{0}\\left.\\color{brown}{- \\frac{r^{4}}{2} + 4 r^{2}}\\right|^{\\large{2}}_{\\large{0}}d{\\theta}\\cr&=& \\int^{2 \\pi}_{0}\\color{brown}{8}d{\\theta}\\cr&=&\\left.{\\color{brown}{8 𝜽}}\\right|^{\\large{2*pi}}_{\\large{0}}={16 \\pi}\\cr\\end{eqnarray}"
      ],
      "text/plain": [
       "<IPython.core.display.Latex object>"
      ]
     },
     "execution_count": 18,
     "metadata": {},
     "output_type": "execute_result"
    }
   ],
   "source": [
    "f=z\n",
    "X=[x,y,z]\n",
    "XU=[r*cos(Theta),r*sin(Theta),z]\n",
    "U=[Theta,r,z]\n",
    "\n",
    "XR=[[0,2*pi],[0,2],[0,sqrt(16-4*r**2)]]\n",
    "TripleInt_UVW(f,X,XU,U,XR)"
   ]
  },
  {
   "cell_type": "markdown",
   "metadata": {},
   "source": [
    "12-7\n",
    "---\n",
    "$$\\iiint_R dV\\text{ where } V \\text{ bounded by } r=2\\sin\\theta \\text{ and within }x^2+y^2+z^2=4$$  "
   ]
  },
  {
   "cell_type": "code",
   "execution_count": 4,
   "metadata": {},
   "outputs": [
    {
     "ename": "NameError",
     "evalue": "name 'Integral' is not defined",
     "output_type": "error",
     "traceback": [
      "\u001b[0;31m---------------------------------------------------------------------------\u001b[0m",
      "\u001b[0;31mNameError\u001b[0m                                 Traceback (most recent call last)",
      "Input \u001b[0;32mIn [4]\u001b[0m, in \u001b[0;36m<cell line: 7>\u001b[0;34m()\u001b[0m\n\u001b[1;32m      4\u001b[0m U\u001b[38;5;241m=\u001b[39m[Theta,r,z]\n\u001b[1;32m      6\u001b[0m XR\u001b[38;5;241m=\u001b[39m[[\u001b[38;5;241m0\u001b[39m,pi],[\u001b[38;5;241m0\u001b[39m,\u001b[38;5;241m2\u001b[39m\u001b[38;5;241m*\u001b[39msin(Theta)],[\u001b[38;5;241m-\u001b[39msqrt(\u001b[38;5;241m4\u001b[39m\u001b[38;5;241m-\u001b[39mr\u001b[38;5;241m*\u001b[39m\u001b[38;5;241m*\u001b[39m\u001b[38;5;241m2\u001b[39m),sqrt(\u001b[38;5;241m4\u001b[39m\u001b[38;5;241m-\u001b[39mr\u001b[38;5;241m*\u001b[39m\u001b[38;5;241m*\u001b[39m\u001b[38;5;241m2\u001b[39m)]]\n\u001b[0;32m----> 7\u001b[0m TripleInt_UVW(f,X,XU,U,XR)\n",
      "File \u001b[0;32m~/Documents/2016/Calculus/MultipleCalculus.py:546\u001b[0m, in \u001b[0;36mTripleInt_UVW\u001b[0;34m(f, X, XU, U, XR)\u001b[0m\n\u001b[1;32m    543\u001b[0m Iy_latex\u001b[38;5;241m=\u001b[39mlatex(\u001b[38;5;28meval\u001b[39m(\u001b[38;5;28mstr\u001b[39m(Iy)))\n\u001b[1;32m    545\u001b[0m II\u001b[38;5;241m=\u001b[39m integrate(Iy,U[\u001b[38;5;241m0\u001b[39m])\n\u001b[0;32m--> 546\u001b[0m II_latex\u001b[38;5;241m=\u001b[39mlatex(\u001b[38;5;28;43meval\u001b[39;49m\u001b[43m(\u001b[49m\u001b[38;5;28;43mstr\u001b[39;49m\u001b[43m(\u001b[49m\u001b[43mII\u001b[49m\u001b[43m)\u001b[49m\u001b[43m)\u001b[49m)\n\u001b[1;32m    548\u001b[0m I\u001b[38;5;241m=\u001b[39mintegrate(Iy,[U[\u001b[38;5;241m0\u001b[39m],xr[\u001b[38;5;241m0\u001b[39m],xr[\u001b[38;5;241m1\u001b[39m]])\n\u001b[1;32m    549\u001b[0m I_latex\u001b[38;5;241m=\u001b[39mlatex(\u001b[38;5;28meval\u001b[39m(\u001b[38;5;28mstr\u001b[39m(I)))\n",
      "File \u001b[0;32m<string>:1\u001b[0m, in \u001b[0;36m<module>\u001b[0;34m\u001b[0m\n",
      "\u001b[0;31mNameError\u001b[0m: name 'Integral' is not defined"
     ]
    }
   ],
   "source": [
    "f=1\n",
    "X=[x,y,z]\n",
    "XU=[r*cos(Theta),r*sin(Theta),z]\n",
    "U=[Theta,r,z]\n",
    "\n",
    "XR=[[0,pi],[0,2*sin(Theta)],[-sqrt(4-r**2),sqrt(4-r**2)]]\n",
    "TripleInt_UVW(f,X,XU,U,XR)"
   ]
  },
  {
   "cell_type": "code",
   "execution_count": 13,
   "metadata": {},
   "outputs": [
    {
     "data": {
      "text/latex": [
       "\\begin{eqnarray}\\iiint_{\\Large{\\mathbf{V}}=\\left\\{\\large{\\begin{array}{l} 0 \\le 𝜽 \\le \\pi,\\cr 0 \\le r \\le 2 \\sin{\\left(𝜽 \\right)},\\cr - \\sqrt{4 - r^{2}} \\le z \\le \\sqrt{4 - r^{2}},\\cr\\end{array}}\\right\\}} \\color{brown}{z} dV&=& \\iiint_{\\Large{\\mathbf{V}}} \\color{brown}{z}  d 𝜽  d r  d z  \\cr \\color{blue}{\\text{Fubini's Theorem}}&=&\\int_{0}^{\\pi}d{𝜽}\\int_{0}^{2 \\sin{\\left(𝜽 \\right)}}d{r}\\int_{- \\sqrt{4 - r^{2}}}^{\\sqrt{4 - r^{2}}} \\color{brown}{z}d{z}\\cr &=&\\int_{0}^{\\pi} d{𝜽}\\int_{0}^{2 \\sin{\\left(𝜽 \\right)}} \\left.\\color{brown}{\\frac{z^{2}}{2}} \\right|_{- \\sqrt{4 - r^{2}}}^{\\sqrt{4 - r^{2}}} d{r}\\cr&=&\\int_{0}^{\\pi}d{𝜽}\\int_{0}^{2 \\sin{\\left(𝜽 \\right)}} \\color{brown}{0}d{r}\\cr &=&\\int_{0}^{\\pi} \\left. \\color{brown}{0} \\right|_{0}^{2 \\sin{\\left(𝜽 \\right)}} d{𝜽}\\cr&=&\\int_{0}^{\\pi} \\color{brown}{0}d{𝜽}\\cr &=&\\left. \\color{brown}{0} \\right|_{0}^{\\pi}\\cr&=&0\\end{eqnarray}"
      ],
      "text/plain": [
       "<IPython.core.display.Latex object>"
      ]
     },
     "execution_count": 13,
     "metadata": {},
     "output_type": "execute_result"
    }
   ],
   "source": [
    "f=z\n",
    "X=[Theta,r,z]\n",
    "XR=[[0,1],[0,2*pi],[0,2-r*sin(Theta)]]\n",
    "XU=[[0,pi],[0,2*sin(Theta)],[-sqrt(4-r**2),sqrt(4-r**2)]]\n",
    "MultipleIntegral(f,X,XU)"
   ]
  },
  {
   "cell_type": "code",
   "execution_count": 24,
   "metadata": {},
   "outputs": [
    {
     "data": {
      "text/latex": [
       "$\\displaystyle 2 r \\sqrt{4 - r^{2}}$"
      ],
      "text/plain": [
       "2*r*sqrt(4 - r**2)"
      ]
     },
     "execution_count": 24,
     "metadata": {},
     "output_type": "execute_result"
    }
   ],
   "source": [
    "I=integrate(r,[z,-sqrt(4-r**2),sqrt(4-r**2)])\n",
    "I"
   ]
  },
  {
   "cell_type": "code",
   "execution_count": 28,
   "metadata": {},
   "outputs": [
    {
     "data": {
      "text/latex": [
       "$\\displaystyle - \\frac{16 \\cos^{2}{\\left(\\theta \\right)} \\left|{\\cos{\\left(\\theta \\right)}}\\right|}{3} + \\frac{16}{3}$"
      ],
      "text/plain": [
       "-16*cos(theta)**2*Abs(cos(theta))/3 + 16/3"
      ]
     },
     "execution_count": 28,
     "metadata": {},
     "output_type": "execute_result"
    }
   ],
   "source": [
    "# need to simplify here\n",
    "II=integrate(I,[r,0,2*sin(Theta)])\n",
    "II=simplify(II)\n",
    "II"
   ]
  },
  {
   "cell_type": "code",
   "execution_count": 29,
   "metadata": {},
   "outputs": [
    {
     "data": {
      "text/latex": [
       "$\\displaystyle - \\frac{64}{9} + \\frac{16 \\pi}{3}$"
      ],
      "text/plain": [
       "-64/9 + 16*pi/3"
      ]
     },
     "execution_count": 29,
     "metadata": {},
     "output_type": "execute_result"
    }
   ],
   "source": [
    "integrate(II,[Theta,0,pi])"
   ]
  },
  {
   "cell_type": "code",
   "execution_count": 14,
   "metadata": {},
   "outputs": [
    {
     "data": {
      "text/latex": [
       "\\begin{eqnarray}\\iiint_{V} \\color{brown}{z} dA&=& \\iiint_{V} \\color{brown}{z} dx dy dz \\cr &=& \\iiint_{V} \\color{brown} {\\left( z \\right) }\\cdot \\color{blue}{r} d \\theta d r d z \\cr\\end{eqnarray}where [$x$,$y$,$z$] = [$r \\cos{\\left(\\theta \\right)}$,$r \\sin{\\left(\\theta \\right)}$,$z$], and the absolute value of determinant of Jacobian, $\\Large{{||\\frac{\\partial (x,y,z)}{\\partial (\\theta,r,z)}||}}$ = $r$. Thus\\begin{eqnarray}\\int^{2 \\pi}_{0}d{\\theta}\\int^{2}_{0}d{r}\\int^{\\sqrt{16 - 4 r^{2}}}_{0}\\color{brown}{r z}d{z} &=& \\int^{2 \\pi}_{0}d{\\theta}\\int^{2}_{0}\\left.\\color{brown}{\\frac{r z^{2}}{2}}\\right|^{\\large{\\sqrt{16 - 4 r^{2}}}}_{\\large{0}}d{r}\\cr&=& \\int^{2 \\pi}_{0}d{\\theta}\\int^{2}_{0}\\,\\color{brown}{\\frac{r \\left(16 - 4 r^{2}\\right)}{2}}\\,d{r}\\cr&=& \\int^{2 \\pi}_{0}\\left.\\color{brown}{- \\frac{r^{4}}{2} + 4 r^{2}}\\right|^{\\large{2}}_{\\large{0}}d{\\theta}\\cr&=& \\int^{2 \\pi}_{0}\\color{brown}{8}d{\\theta}\\cr&=&\\left.{\\color{brown}{8 𝜽}}\\right|^{\\large{2*pi}}_{\\large{0}}={16 \\pi}\\cr\\end{eqnarray}"
      ],
      "text/plain": [
       "<IPython.core.display.Latex object>"
      ]
     },
     "execution_count": 14,
     "metadata": {},
     "output_type": "execute_result"
    }
   ],
   "source": [
    "f=z\n",
    "X=[x,y,z]\n",
    "XU=[r*cos(Theta),r*sin(Theta),z]\n",
    "U=[Theta,r,z]\n",
    "\n",
    "XR=[[0,2*pi],[0,2],[0,sqrt(16-4*r**2)]]\n",
    "TripleInt_UVW(f,X,XU,U,XR)"
   ]
  },
  {
   "cell_type": "code",
   "execution_count": 20,
   "metadata": {},
   "outputs": [
    {
     "data": {
      "text/latex": [
       "\\begin{eqnarray}\\iiint_{V} \\color{brown}{\\left(x^{2} + y^{2}\\right)^{1.5}} dA&=& \\iiint_{V} \\color{brown}{\\left(x^{2} + y^{2}\\right)^{1.5}} dx dy dz \\cr &=& \\iiint_{V} \\color{brown} {\\left( r^{3.0} \\right) }\\cdot \\color{blue}{r} d z d \\theta d r \\cr\\end{eqnarray}where [$x$,$y$,$z$] = [$r \\cos{\\left(\\theta \\right)}$,$r \\sin{\\left(\\theta \\right)}$,$z$], and the absolute value of determinant of Jacobian, $\\Large{{||\\frac{\\partial (x,y,z)}{\\partial (z,\\theta,r)}||}}$ = $r$. Thus\\begin{eqnarray}\\int^{4}_{0}d{z}\\int^{2 \\pi}_{0}d{\\theta}\\int^{\\sqrt{z}}_{0}\\color{brown}{r^{4.0}}d{r} &=& \\int^{4}_{0}d{z}\\int^{2 \\pi}_{0}\\left.\\color{brown}{0.2 r^{5.0}}\\right|^{\\large{\\sqrt{z}}}_{\\large{0}}d{\\theta}\\cr&=& \\int^{4}_{0}d{z}\\int^{2 \\pi}_{0}\\,\\color{brown}{0.2 z^{2.5}}\\,d{\\theta}\\cr&=& \\int^{4}_{0}\\left.\\color{brown}{0.2 z^{2.5} 𝜽}\\right|^{\\large{2 \\pi}}_{\\large{0}}d{z}\\cr&=& \\int^{4}_{0}\\color{brown}{0.4 \\pi z^{2.5}}d{z}\\cr&=&\\left.{\\color{brown}{0.114285714285714 \\pi z^{3.5}}}\\right|^{\\large{4}}_{\\large{0}}={14.6285714285714 \\pi}\\cr\\end{eqnarray}"
      ],
      "text/plain": [
       "<IPython.core.display.Latex object>"
      ]
     },
     "execution_count": 20,
     "metadata": {},
     "output_type": "execute_result"
    }
   ],
   "source": [
    "f=(x**2+y**2)**(3/2)\n",
    "X=[x,y,z]\n",
    "XU=[r*cos(Theta),r*sin(Theta),z]\n",
    "U=[z,Theta,r]\n",
    "\n",
    "XR=[[0,4],[0,2*pi],[0,sqrt(z)]]\n",
    "TripleInt_UVW(f,X,XU,U,XR)"
   ]
  },
  {
   "cell_type": "code",
   "execution_count": 18,
   "metadata": {},
   "outputs": [
    {
     "data": {
      "text/plain": [
       "14.628571428571428"
      ]
     },
     "execution_count": 18,
     "metadata": {},
     "output_type": "execute_result"
    }
   ],
   "source": [
    "512/35"
   ]
  },
  {
   "cell_type": "code",
   "execution_count": 15,
   "metadata": {},
   "outputs": [
    {
     "data": {
      "text/latex": [
       "\\begin{eqnarray}\\iiint_{V} \\color{brown}{1} dA&=& \\iiint_{V} \\color{brown}{1} dx dy dz \\cr &=& \\iiint_{V} \\color{brown} {\\left( 1 \\right) }\\cdot \\color{blue}{\\rho^{2} \\left|{\\sin{\\left(\\phi \\right)}}\\right|} d \\rho d \\theta d \\phi \\cr\\end{eqnarray}where [$x$,$y$,$z$] = [$\\rho \\sin{\\left(\\phi \\right)} \\cos{\\left(\\theta \\right)}$,$\\rho \\sin{\\left(\\phi \\right)} \\sin{\\left(\\theta \\right)}$,$\\rho \\cos{\\left(\\phi \\right)}$], and the absolute value of determinant of Jacobian, $\\Large{{||\\frac{\\partial (x,y,z)}{\\partial (\\rho,\\theta,\\phi)}||}}$ = $\\rho^{2} \\left|{\\sin{\\left(\\phi \\right)}}\\right|$. Thus\\begin{eqnarray}\\int^{3}_{0}d{\\rho}\\int^{2 \\pi}_{0}d{\\theta}\\int^{\\frac{\\pi}{4}}_{0}\\color{brown}{\\rho^{2} \\left|{\\sin{\\left(\\phi \\right)}}\\right|}d{\\phi} &=& \\int^{3}_{0}d{\\rho}\\int^{2 \\pi}_{0}\\left.\\color{brown}{\\begin{cases} - 𝝆^{2} \\cos{\\left(𝝋 \\right)} & \\text{for}\\: 𝝋 \\leq \\pi \\\\𝝆^{2} \\cos{\\left(𝝋 \\right)} + 2 𝝆^{2} & \\text{otherwise} \\end{cases}}\\right|^{\\large{\\frac{\\pi}{4}}}_{\\large{0}}d{\\theta}\\cr&=& \\int^{3}_{0}d{\\rho}\\int^{2 \\pi}_{0}\\,\\color{brown}{- \\frac{\\sqrt{2} 𝝆^{2}}{2} + 𝝆^{2}}\\,d{\\theta}\\cr&=& \\int^{3}_{0}\\left.\\color{brown}{𝜽 \\left(- \\frac{\\sqrt{2} 𝝆^{2}}{2} + 𝝆^{2}\\right)}\\right|^{\\large{2 \\pi}}_{\\large{0}}d{\\rho}\\cr&=& \\int^{3}_{0}\\color{brown}{2 \\pi \\left(- \\frac{\\sqrt{2} 𝝆^{2}}{2} + 𝝆^{2}\\right)}d{\\rho}\\cr&=&\\left.{\\color{brown}{𝝆^{3} \\left(- \\frac{\\sqrt{2} \\pi}{3} + \\frac{2 \\pi}{3}\\right)}}\\right|^{\\large{3}}_{\\large{0}}={- 9 \\sqrt{2} \\pi + 18 \\pi}\\cr\\end{eqnarray}"
      ],
      "text/plain": [
       "<IPython.core.display.Latex object>"
      ]
     },
     "execution_count": 15,
     "metadata": {},
     "output_type": "execute_result"
    }
   ],
   "source": [
    "#27\n",
    "#Phi,phi,𝝋=symbols(\"phi 𝝋 𝝋\",positive=True)\n",
    "f=1\n",
    "X=[x,y,z]\n",
    "XU=[Rho*cos(Theta)*sin(Phi),Rho*sin(Theta)*sin(Phi),Rho*cos(Phi)]\n",
    "U=[Rho,Theta,Phi]\n",
    "\n",
    "XR=[[0,3],[0,2*pi],[0,pi/4]]\n",
    "TripleInt_UVW(f,X,XU,U,XR)"
   ]
  },
  {
   "cell_type": "code",
   "execution_count": 17,
   "metadata": {},
   "outputs": [
    {
     "data": {
      "text/latex": [
       "\\begin{eqnarray}\\iiint_{V} \\color{brown}{1} dA&=& \\iiint_{V} \\color{brown}{1} dx dy dz \\cr &=& \\iiint_{V} \\color{brown} {\\left( 1 \\right) }\\cdot \\color{blue}{\\rho^{2} \\left|{\\sin{\\left(\\phi \\right)}}\\right|} d \\rho d \\theta d \\phi \\cr\\end{eqnarray}where [$x$,$y$,$z$] = [$\\rho \\sin{\\left(\\phi \\right)} \\cos{\\left(\\theta \\right)}$,$\\rho \\sin{\\left(\\phi \\right)} \\sin{\\left(\\theta \\right)}$,$\\rho \\cos{\\left(\\phi \\right)}$], and the absolute value of determinant of Jacobian, $\\Large{{||\\frac{\\partial (x,y,z)}{\\partial (\\rho,\\theta,\\phi)}||}}$ = $\\rho^{2} \\left|{\\sin{\\left(\\phi \\right)}}\\right|$. Thus\\begin{eqnarray}\\int^{1}_{0}d{\\rho}\\int^{2 \\pi}_{0}d{\\theta}\\int^{\\frac{\\pi}{4}}_{0}\\color{brown}{\\rho^{2} \\left|{\\sin{\\left(\\phi \\right)}}\\right|}d{\\phi} &=& \\int^{1}_{0}d{\\rho}\\int^{2 \\pi}_{0}\\left.\\color{brown}{\\begin{cases} - 𝝆^{2} \\cos{\\left(𝝋 \\right)} & \\text{for}\\: 𝝋 \\leq \\pi \\\\𝝆^{2} \\cos{\\left(𝝋 \\right)} + 2 𝝆^{2} & \\text{otherwise} \\end{cases}}\\right|^{\\large{\\frac{\\pi}{4}}}_{\\large{0}}d{\\theta}\\cr&=& \\int^{1}_{0}d{\\rho}\\int^{2 \\pi}_{0}\\,\\color{brown}{- \\frac{\\sqrt{2} 𝝆^{2}}{2} + 𝝆^{2}}\\,d{\\theta}\\cr&=& \\int^{1}_{0}\\left.\\color{brown}{𝜽 \\left(- \\frac{\\sqrt{2} 𝝆^{2}}{2} + 𝝆^{2}\\right)}\\right|^{\\large{2 \\pi}}_{\\large{0}}d{\\rho}\\cr&=& \\int^{1}_{0}\\color{brown}{2 \\pi \\left(- \\frac{\\sqrt{2} 𝝆^{2}}{2} + 𝝆^{2}\\right)}d{\\rho}\\cr&=&\\left.{\\color{brown}{𝝆^{3} \\left(- \\frac{\\sqrt{2} \\pi}{3} + \\frac{2 \\pi}{3}\\right)}}\\right|^{\\large{1}}_{\\large{0}}={- \\frac{\\sqrt{2} \\pi}{3} + \\frac{2 \\pi}{3}}\\cr\\end{eqnarray}"
      ],
      "text/plain": [
       "<IPython.core.display.Latex object>"
      ]
     },
     "execution_count": 17,
     "metadata": {},
     "output_type": "execute_result"
    }
   ],
   "source": [
    "#27\n",
    "Phi,phi,𝝋=symbols(\"phi 𝝋 𝝋\",positive=True)\n",
    "f=1\n",
    "X=[x,y,z]\n",
    "XU=[Rho*cos(Theta)*sin(Phi),Rho*sin(Theta)*sin(Phi),Rho*cos(Phi)]\n",
    "U=[Rho,Theta,Phi]\n",
    "\n",
    "XR=[[0,1],[0,2*pi],[0,pi/4]]\n",
    "TripleInt_UVW(f,X,XU,U,XR)"
   ]
  },
  {
   "cell_type": "code",
   "execution_count": 4,
   "metadata": {
    "scrolled": true
   },
   "outputs": [
    {
     "data": {
      "text/latex": [
       "\\begin{eqnarray}\\iiint_{V} \\color{brown}{z} dA&=& \\iiint_{V} \\color{brown}{z} dx dy dz \\cr &=& \\iiint_{V} \\color{brown} {\\left( \\rho \\cos{\\left(\\phi \\right)} \\right) }\\cdot \\color{blue}{\\rho^{2} \\left|{\\sin{\\left(\\phi \\right)}}\\right|} d \\rho d \\theta d \\phi \\cr\\end{eqnarray}where $$[x,y,z] = [\\rho \\sin{\\left(\\phi \\right)} \\cos{\\left(\\theta \\right)},\\rho \\sin{\\left(\\phi \\right)} \\sin{\\left(\\theta \\right)},\\rho \\cos{\\left(\\phi \\right)}]$$, and the absolute value of determinant of Jacobian, $\\Large{{||\\frac{\\partial (x,y,z)}{\\partial (\\rho,\\theta,\\phi)}||}} = \\rho^{2} \\left|{\\sin{\\left(\\phi \\right)}}\\right|$. Thus\\begin{eqnarray}\\int^{3}_{0}d{\\rho}\\int^{2 \\pi}_{0}d{\\theta}\\int^{\\frac{\\pi}{4}}_{0}\\color{brown}{\\rho^{3} \\cos{\\left(\\phi \\right)} \\left|{\\sin{\\left(\\phi \\right)}}\\right|}d{\\phi} &=& \\int^{3}_{0}d{\\rho}\\int^{2 \\pi}_{0}\\left.\\color{brown}{\\begin{cases} \\frac{𝝆^{3} \\sin^{2}{\\left(𝝋 \\right)}}{2} & \\text{for}\\: 𝝋 \\leq \\pi \\\\- \\frac{𝝆^{3} \\sin^{2}{\\left(𝝋 \\right)}}{2} & \\text{otherwise} \\end{cases}}\\right|^{\\large{\\frac{\\pi}{4}}}_{\\large{0}}d{\\theta}\\cr&=& \\int^{3}_{0}d{\\rho}\\int^{2 \\pi}_{0}\\,\\color{brown}{\\frac{𝝆^{3}}{4}}\\,d{\\theta}\\cr&=& \\int^{3}_{0}\\left.\\color{brown}{\\frac{𝜽 𝝆^{3}}{4}}\\right|^{\\large{2 \\pi}}_{\\large{0}}d{\\rho}\\cr&=& \\int^{3}_{0}\\color{brown}{\\frac{\\pi 𝝆^{3}}{2}}d{\\rho}\\cr&=&\\left.{\\color{brown}{\\frac{\\pi 𝝆^{4}}{8}}}\\right|^{\\large{3}}_{\\large{0}}={\\frac{81 \\pi}{8}}\\cr\\end{eqnarray}"
      ],
      "text/plain": [
       "<IPython.core.display.Latex object>"
      ]
     },
     "execution_count": 4,
     "metadata": {},
     "output_type": "execute_result"
    }
   ],
   "source": [
    "f=z\n",
    "X=[x,y,z]\n",
    "XU=[Rho*cos(Theta)*sin(Phi),Rho*sin(Theta)*sin(Phi),Rho*cos(Phi)]\n",
    "U=[Rho,Theta,Phi]\n",
    "\n",
    "XR=[[0,3],[0,2*pi],[0,pi/4]]\n",
    "TripleInt_UVW(f,X,XU,U,XR)"
   ]
  },
  {
   "cell_type": "code",
   "execution_count": 11,
   "metadata": {},
   "outputs": [
    {
     "data": {
      "text/latex": [
       "\\begin{eqnarray}\\iiint_{V} \\color{brown}{4 x - 5 y} dA&=& \\iiint_{V} \\color{brown}{4 x - 5 y} dx dy dz \\cr &=& \\iiint_{V} \\color{brown} {\\left( 4 u^{2} - 5 v^{3} \\right) }\\cdot \\color{blue}{12 u v^{2} w} d u d v d w \\cr\\end{eqnarray}where $$[x,y,z] = [u^{2},v^{3},w^{2}]$$, and the absolute value of determinant of Jacobian, $\\Large{{||\\frac{\\partial (x,y,z)}{\\partial (u,v,w)}||}} = 12 u v^{2} w$. Thus\\begin{eqnarray}\\int^{4}_{0}d{u}\\int^{4 - u}_{0}d{v}\\int^{- u - v + 4}_{0}\\color{brown}{12 u v^{2} w \\left(4 u^{2} - 5 v^{3}\\right)}d{w} &=& \\int^{4}_{0}d{u}\\int^{4 - u}_{0}\\left.\\color{brown}{w^{2} \\left(24 u^{3} v^{2} - 30 u v^{5}\\right)}\\right|^{\\large{- u - v + 4}}_{\\large{0}}d{v}\\cr&=& \\int^{4}_{0}d{u}\\int^{4 - u}_{0}\\,\\color{brown}{\\left(24 u^{3} v^{2} - 30 u v^{5}\\right) \\left(- u - v + 4\\right)^{2}}\\,d{v}\\cr&=& \\int^{4}_{0}\\left.\\color{brown}{\\frac{24 u^{3} v^{5}}{5} - \\frac{15 u v^{8}}{4} + v^{7} \\left(- \\frac{60 u^{2}}{7} + \\frac{240 u}{7}\\right) + v^{6} \\left(- 5 u^{3} + 40 u^{2} - 80 u\\right) + v^{4} \\left(12 u^{4} - 48 u^{3}\\right) + v^{3} \\left(8 u^{5} - 64 u^{4} + 128 u^{3}\\right)}\\right|^{\\large{4 - u}}_{\\large{0}}d{u}\\cr&=& \\int^{4}_{0}\\color{brown}{\\frac{24 u^{3} \\left(4 - u\\right)^{5}}{5} - \\frac{15 u \\left(4 - u\\right)^{8}}{4} + \\left(4 - u\\right)^{7} \\left(- \\frac{60 u^{2}}{7} + \\frac{240 u}{7}\\right) + \\left(4 - u\\right)^{6} \\left(- 5 u^{3} + 40 u^{2} - 80 u\\right) + \\left(4 - u\\right)^{4} \\left(12 u^{4} - 48 u^{3}\\right) + \\left(4 - u\\right)^{3} \\left(8 u^{5} - 64 u^{4} + 128 u^{3}\\right)}d{u}\\cr&=&\\left.{\\color{brown}{- \\frac{u^{10}}{56} + \\frac{172 u^{9}}{315} - 8 u^{8} + \\frac{512 u^{7}}{7} - 448 u^{6} + \\frac{9216 u^{5}}{5} - \\frac{24576 u^{4}}{5} + \\frac{163840 u^{3}}{21} - \\frac{40960 u^{2}}{7}}}\\right|^{\\large{4}}_{\\large{0}}={-1664.40634920635}\\cr\\end{eqnarray}"
      ],
      "text/plain": [
       "<IPython.core.display.Latex object>"
      ]
     },
     "execution_count": 11,
     "metadata": {},
     "output_type": "execute_result"
    }
   ],
   "source": [
    "u,v,w=symbols(\"u,v,w\",positive=True)\n",
    "\n",
    "f=4*x-5*y\n",
    "X=[x,y,z]\n",
    "XR=[[0,4],[0,4-u],[0,4-u-v]]\n",
    "XU=[u**2,v**3,w**2]\n",
    "U=[u,v,w]\n",
    "TripleInt_UVW(f,X,XU,U,XR)"
   ]
  },
  {
   "cell_type": "code",
   "execution_count": 12,
   "metadata": {},
   "outputs": [
    {
     "data": {
      "text/latex": [
       "\\begin{eqnarray}\\iiint_{V} \\color{brown}{4 x - 5 y} dA&=& \\iiint_{V} \\color{brown}{4 x - 5 y} dx dy dz \\cr &=& \\iiint_{V} \\color{brown} {\\left( \\rho \\left(- 5 \\sin{\\left(\\theta \\right)} + 4 \\cos{\\left(\\theta \\right)}\\right) \\sin{\\left(\\phi \\right)} \\right) }\\cdot \\color{blue}{\\rho^{2} \\left|{\\sin{\\left(\\phi \\right)}}\\right|} d \\rho d \\theta d \\phi \\cr\\end{eqnarray}where $$[x,y,z] = [\\rho \\sin{\\left(\\phi \\right)} \\cos{\\left(\\theta \\right)},\\rho \\sin{\\left(\\phi \\right)} \\sin{\\left(\\theta \\right)},\\rho \\cos{\\left(\\phi \\right)}]$$, and the absolute value of determinant of Jacobian, $\\Large{{||\\frac{\\partial (x,y,z)}{\\partial (\\rho,\\theta,\\phi)}||}} = \\rho^{2} \\left|{\\sin{\\left(\\phi \\right)}}\\right|$. Thus\\begin{eqnarray}\\int^{5}_{0}d{\\rho}\\int^{\\frac{\\pi}{2}}_{0}d{\\theta}\\int^{\\frac{\\pi}{2}}_{0}\\color{brown}{\\rho^{3} \\left(- 5 \\sin{\\left(\\theta \\right)} + 4 \\cos{\\left(\\theta \\right)}\\right) \\sin{\\left(\\phi \\right)} \\left|{\\sin{\\left(\\phi \\right)}}\\right|}d{\\phi} &=& \\int^{5}_{0}d{\\rho}\\int^{\\frac{\\pi}{2}}_{0}\\left.\\color{brown}{\\begin{cases} 𝝆^{3} \\left(\\frac{𝝋}{2} - \\frac{\\sin{\\left(𝝋 \\right)} \\cos{\\left(𝝋 \\right)}}{2}\\right) \\left(- 5 \\sin{\\left(𝜽 \\right)} + 4 \\cos{\\left(𝜽 \\right)}\\right) & \\text{for}\\: 𝝋 \\leq \\pi \\\\- 𝝆^{3} \\left(\\frac{𝝋}{2} - \\frac{\\sin{\\left(𝝋 \\right)} \\cos{\\left(𝝋 \\right)}}{2}\\right) \\left(- 5 \\sin{\\left(𝜽 \\right)} + 4 \\cos{\\left(𝜽 \\right)}\\right) + \\pi 𝝆^{3} \\left(- 5 \\sin{\\left(𝜽 \\right)} + 4 \\cos{\\left(𝜽 \\right)}\\right) & \\text{otherwise} \\end{cases}}\\right|^{\\large{\\frac{\\pi}{2}}}_{\\large{0}}d{\\theta}\\cr&=& \\int^{5}_{0}d{\\rho}\\int^{\\frac{\\pi}{2}}_{0}\\,\\color{brown}{\\frac{\\pi 𝝆^{3} \\left(- 5 \\sin{\\left(𝜽 \\right)} + 4 \\cos{\\left(𝜽 \\right)}\\right)}{4}}\\,d{\\theta}\\cr&=& \\int^{5}_{0}\\left.\\color{brown}{\\frac{\\pi 𝝆^{3} \\left(4 \\sin{\\left(𝜽 \\right)} + 5 \\cos{\\left(𝜽 \\right)}\\right)}{4}}\\right|^{\\large{\\frac{\\pi}{2}}}_{\\large{0}}d{\\rho}\\cr&=& \\int^{5}_{0}\\color{brown}{- \\frac{\\pi 𝝆^{3}}{4}}d{\\rho}\\cr&=&\\left.{\\color{brown}{- \\frac{\\pi 𝝆^{4}}{16}}}\\right|^{\\large{5}}_{\\large{0}}={- \\frac{625 \\pi}{16}}\\cr\\end{eqnarray}"
      ],
      "text/plain": [
       "<IPython.core.display.Latex object>"
      ]
     },
     "execution_count": 12,
     "metadata": {},
     "output_type": "execute_result"
    }
   ],
   "source": [
    "f=4*x-5*y\n",
    "X=[x,y,z]\n",
    "XU=[Rho*cos(Theta)*sin(Phi),Rho*sin(Theta)*sin(Phi),Rho*cos(Phi)]\n",
    "U=[Rho,Theta,Phi]\n",
    "XR=[[0,5],[0,pi/2],[0,pi/2]]\n",
    "TripleInt_UVW(f,X,XU,U,XR)"
   ]
  },
  {
   "cell_type": "code",
   "execution_count": 11,
   "metadata": {},
   "outputs": [
    {
     "data": {
      "text/latex": [
       "\\begin{eqnarray}\\iiint_{V} \\color{brown}{6 x - 4 y} dA&=& \\iiint_{V} \\color{brown}{6 x - 4 y} dx dy dz \\cr &=& \\iiint_{V} \\color{brown} {\\left( 2 \\rho \\left(- 2 \\sin{\\left(\\theta \\right)} + 3 \\cos{\\left(\\theta \\right)}\\right) \\sin{\\left(\\phi \\right)} \\right) }\\cdot \\color{blue}{\\rho^{2} \\left|{\\sin{\\left(\\phi \\right)}}\\right|} d \\phi d \\rho d \\theta \\cr\\end{eqnarray}where $$[x,y,z] = [\\rho \\sin{\\left(\\phi \\right)} \\cos{\\left(\\theta \\right)},\\rho \\sin{\\left(\\phi \\right)} \\sin{\\left(\\theta \\right)},\\rho \\cos{\\left(\\phi \\right)}]$$, and the absolute value of determinant of Jacobian, $\\Large{{||\\frac{\\partial (x,y,z)}{\\partial (\\phi,\\rho,\\theta)}||}} = \\rho^{2} \\left|{\\sin{\\left(\\phi \\right)}}\\right|$. Thus\\begin{eqnarray}\\int^{\\frac{\\pi}{2}}_{0}d{\\phi}\\int^{6}_{0}d{\\rho}\\int^{\\frac{\\pi}{2}}_{0}\\color{brown}{2 \\rho^{3} \\left(- 2 \\sin{\\left(\\theta \\right)} + 3 \\cos{\\left(\\theta \\right)}\\right) \\sin{\\left(\\phi \\right)} \\left|{\\sin{\\left(\\phi \\right)}}\\right|}d{\\theta} &=& \\int^{\\frac{\\pi}{2}}_{0}d{\\phi}\\int^{6}_{0}\\left.\\color{brown}{\\begin{cases} 2 𝝆^{3} \\left(3 \\sin{\\left(𝜽 \\right)} + 2 \\cos{\\left(𝜽 \\right)}\\right) \\sin^{2}{\\left(𝝋 \\right)} & \\text{for}\\: 𝝋 \\leq \\pi \\\\- 2 𝝆^{3} \\left(3 \\sin{\\left(𝜽 \\right)} + 2 \\cos{\\left(𝜽 \\right)}\\right) \\sin^{2}{\\left(𝝋 \\right)} & \\text{otherwise} \\end{cases}}\\right|^{\\large{\\frac{\\pi}{2}}}_{\\large{0}}d{\\rho}\\cr&=& \\int^{\\frac{\\pi}{2}}_{0}d{\\phi}\\int^{6}_{0}\\,\\color{brown}{\\begin{cases} 2 𝝆^{3} \\sin^{2}{\\left(𝝋 \\right)} & \\text{for}\\: 𝝋 \\leq \\pi \\\\- 2 𝝆^{3} \\sin^{2}{\\left(𝝋 \\right)} & \\text{otherwise} \\end{cases}}\\,d{\\rho}\\cr&=& \\int^{\\frac{\\pi}{2}}_{0}\\left.\\color{brown}{\\begin{cases} \\frac{𝝆^{4} \\sin^{2}{\\left(𝝋 \\right)}}{2} & \\text{for}\\: 𝝋 \\leq \\pi \\\\- \\frac{𝝆^{4} \\sin^{2}{\\left(𝝋 \\right)}}{2} & \\text{otherwise} \\end{cases}}\\right|^{\\large{6}}_{\\large{0}}d{\\phi}\\cr&=& \\int^{\\frac{\\pi}{2}}_{0}\\color{brown}{\\begin{cases} 648 \\sin^{2}{\\left(𝝋 \\right)} & \\text{for}\\: 𝝋 \\leq \\pi \\\\- 648 \\sin^{2}{\\left(𝝋 \\right)} & \\text{otherwise} \\end{cases}}d{\\phi}\\cr&=&\\left.{\\color{brown}{\\begin{cases} 324 𝝋 - 324 \\sin{\\left(𝝋 \\right)} \\cos{\\left(𝝋 \\right)} & \\text{for}\\: 𝝋 \\leq \\pi \\\\- 324 𝝋 + 324 \\sin{\\left(𝝋 \\right)} \\cos{\\left(𝝋 \\right)} + 648 \\pi & \\text{otherwise} \\end{cases}}}\\right|^{\\large{pi/2}}_{\\large{0}}={162 \\pi}\\cr\\end{eqnarray}"
      ],
      "text/plain": [
       "<IPython.core.display.Latex object>"
      ]
     },
     "execution_count": 11,
     "metadata": {},
     "output_type": "execute_result"
    }
   ],
   "source": [
    "f=6*x-4*y\n",
    "X=[x,y,z]\n",
    "XU=[Rho*cos(Theta)*sin(Phi),Rho*sin(Theta)*sin(Phi),Rho*cos(Phi)]\n",
    "U=[Phi,Rho,Theta]\n",
    "XR=[[0,pi/2],[0,6],[0,pi/2]]\n",
    "\n",
    "TripleInt_UVW(f,X,XU,U,XR)"
   ]
  },
  {
   "cell_type": "code",
   "execution_count": 12,
   "metadata": {},
   "outputs": [
    {
     "data": {
      "text/latex": [
       "\\begin{eqnarray}\\iiint_{V} \\color{brown}{- 6 x + 4 y} dA&=& \\iiint_{V} \\color{brown}{- 6 x + 4 y} dx dy dz \\cr &=& \\iiint_{V} \\color{brown} {\\left( - 6 u^{2} + 4 v^{3} \\right) }\\cdot \\color{blue}{12 u v^{2} w} d u d v d w \\cr\\end{eqnarray}where $$[x,y,z] = [u^{2},v^{3},w^{2}]$$, and the absolute value of determinant of Jacobian, $\\Large{{||\\frac{\\partial (x,y,z)}{\\partial (u,v,w)}||}} = 12 u v^{2} w$. Thus\\begin{eqnarray}\\int^{4}_{0}d{u}\\int^{4 - u}_{0}d{v}\\int^{- u - v + 4}_{0}\\color{brown}{12 u v^{2} w \\left(- 6 u^{2} + 4 v^{3}\\right)}d{w} &=& \\int^{4}_{0}d{u}\\int^{4 - u}_{0}\\left.\\color{brown}{w^{2} \\left(- 36 u^{3} v^{2} + 24 u v^{5}\\right)}\\right|^{\\large{- u - v + 4}}_{\\large{0}}d{v}\\cr&=& \\int^{4}_{0}d{u}\\int^{4 - u}_{0}\\,\\color{brown}{\\left(- 36 u^{3} v^{2} + 24 u v^{5}\\right) \\left(- u - v + 4\\right)^{2}}\\,d{v}\\cr&=& \\int^{4}_{0}\\left.\\color{brown}{- \\frac{36 u^{3} v^{5}}{5} + 3 u v^{8} + v^{7} \\left(\\frac{48 u^{2}}{7} - \\frac{192 u}{7}\\right) + v^{6} \\left(4 u^{3} - 32 u^{2} + 64 u\\right) + v^{4} \\left(- 18 u^{4} + 72 u^{3}\\right) + v^{3} \\left(- 12 u^{5} + 96 u^{4} - 192 u^{3}\\right)}\\right|^{\\large{4 - u}}_{\\large{0}}d{u}\\cr&=& \\int^{4}_{0}\\color{brown}{- \\frac{36 u^{3} \\left(4 - u\\right)^{5}}{5} + 3 u \\left(4 - u\\right)^{8} + \\left(4 - u\\right)^{7} \\left(\\frac{48 u^{2}}{7} - \\frac{192 u}{7}\\right) + \\left(4 - u\\right)^{6} \\left(4 u^{3} - 32 u^{2} + 64 u\\right) + \\left(4 - u\\right)^{4} \\left(- 18 u^{4} + 72 u^{3}\\right) + \\left(4 - u\\right)^{3} \\left(- 12 u^{5} + 96 u^{4} - 192 u^{3}\\right)}d{u}\\cr&=&\\left.{\\color{brown}{\\frac{u^{10}}{70} - \\frac{118 u^{9}}{315} + 5 u^{8} - \\frac{320 u^{7}}{7} + \\frac{896 u^{6}}{3} - \\frac{6656 u^{5}}{5} + \\frac{18944 u^{4}}{5} - \\frac{131072 u^{3}}{21} + \\frac{32768 u^{2}}{7}}}\\right|^{\\large{4}}_{\\large{0}}={1040.25396825397}\\cr\\end{eqnarray}"
      ],
      "text/plain": [
       "<IPython.core.display.Latex object>"
      ]
     },
     "execution_count": 12,
     "metadata": {},
     "output_type": "execute_result"
    }
   ],
   "source": [
    "u,v,w=symbols(\"u,v,w\",positive=True)\n",
    "\n",
    "f=4*y-6*x\n",
    "X=[x,y,z]\n",
    "XR=[[0,4],[0,4-u],[0,4-u-v]]\n",
    "XU=[u**2,v**3,w**2]\n",
    "U=[u,v,w]\n",
    "TripleInt_UVW(f,X,XU,U,XR)"
   ]
  },
  {
   "cell_type": "code",
   "execution_count": null,
   "metadata": {},
   "outputs": [],
   "source": []
  }
 ],
 "metadata": {
  "hide_input": false,
  "kernelspec": {
   "display_name": "Python 3",
   "language": "python",
   "name": "python3"
  },
  "language_info": {
   "codemirror_mode": {
    "name": "ipython",
    "version": 3
   },
   "file_extension": ".py",
   "mimetype": "text/x-python",
   "name": "python",
   "nbconvert_exporter": "python",
   "pygments_lexer": "ipython3",
   "version": "3.8.5"
  }
 },
 "nbformat": 4,
 "nbformat_minor": 4
}
