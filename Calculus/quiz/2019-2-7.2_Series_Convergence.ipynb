{
 "cells": [
  {
   "cell_type": "markdown",
   "metadata": {},
   "source": [
    " <font style=\"font-size:2em\"><div align=\"center\"><b> Calculus-2019-2</b></div></font>\n",
    "\n",
    " <font style=\"font-size:1.6em\"><b>7.2 Series And Convergence pp.735-736<b></font>  \n",
    " "
   ]
  },
  {
   "cell_type": "markdown",
   "metadata": {},
   "source": [
    "<big><big>\n",
    "<big><b>7$^\\circ$).</b></big>\n",
    "Divergent since\n",
    "    $$\\frac{n^3+1}{n^3+n^2}\\to 1\\ne0$$\n",
    "by $n$-term test.    \n",
    "</big> </big>"
   ]
  },
  {
   "cell_type": "markdown",
   "metadata": {},
   "source": [
    "<big><big>\n",
    "<big><b>10$^\\circ$).</b></big>\n",
    "Divergent since\n",
    "    $$\\frac{(n+1)!}{5n!}\\to \\infty\\ne0$$\n",
    "by $n$-term test.    \n",
    "</big> </big>"
   ]
  },
  {
   "cell_type": "markdown",
   "metadata": {},
   "source": [
    "<big><big>\n",
    "<big><b>17$^\\circ$).</b></big>\n",
    "\\begin{eqnarray}\n",
    "    \\sum_{n=0}^\\infty\\left(\\frac{1}{2^n}-\\frac{1}{3^n}\\right)&=& \\sum_{n=0}^\\infty\\frac{1}{2^n}- \\sum_{n=0}^\\infty\\frac{1}{3^n}\\\\\n",
    "       &=&\\frac{1}{2-1}-\\frac{1}{3-1}=\\frac{1}{2}            \n",
    "\\end{eqnarray}    \n",
    "</big> </big>"
   ]
  },
  {
   "cell_type": "markdown",
   "metadata": {},
   "source": [
    "<big><big>\n",
    "<big><b>18$^\\circ$).</b></big>\n",
    "\\begin{eqnarray}\n",
    "    \\sum_{n=1}^\\infty\\left(\\sin 1\\right)^n&=& \\frac{\\sin 1}{1-\\sin 1}            \n",
    "\\end{eqnarray}\n",
    "since it is a geometric series and the ratio, $\\sin 1$, is smaller than 1.    \n",
    "</big> </big>"
   ]
  },
  {
   "cell_type": "markdown",
   "metadata": {},
   "source": [
    "<big><big>\n",
    "<big><b>19$^\\circ$).</b></big>\n",
    "\\begin{eqnarray}\n",
    "    \\sum_{n=0}^\\infty\\frac{1}{9n^2+3n-2}&=& \\sum_{n=0}^\\infty\\left(\\frac{3}{3n-1}- \\frac{3}{3n+2}\\right)\\\\\n",
    "       &=&\\left(\\frac{3}{2}-\\frac{3}{5}\\right)-\\left(\\frac{3}{5}-\\frac{3}{8}\\right)+\\cdots=\\frac{3}{2}            \n",
    "\\end{eqnarray}    \n",
    "</big> </big>"
   ]
  },
  {
   "cell_type": "markdown",
   "metadata": {},
   "source": [
    "<big><big>\n",
    "<big><b>25$^\\circ$).</b></big>\n",
    "$\\sum\\limits_{n=1}^\\infty\\frac{n+1}{2n-1}$ is divergent since\n",
    "    $$\\frac{n+1}{2n-1}\\to \\frac{1}{2}\\ne0$$\n",
    "by $n$-term test.    \n",
    "</big> </big>"
   ]
  },
  {
   "cell_type": "markdown",
   "metadata": {},
   "source": [
    "<big><big>\n",
    "<big><b>29$^\\circ$).</b></big>\n",
    "$\\sum\\limits_{n=0}^\\infty\\left(1+\\frac{k}{n}\\right)^n$ is divergent since\n",
    "    $$\\left(1+\\frac{k}{n}\\right)^n\\to e^k\\ne0$$\n",
    "by $n$-term test.    \n",
    "</big> </big>"
   ]
  },
  {
   "cell_type": "markdown",
   "metadata": {},
   "source": [
    "<big><big>\n",
    "<big><b>55$^\\circ$).</b></big>\n",
    "Fibonicci Sequence: \n",
    "1. $a_1=a_2=1$;\n",
    "2. $a_{n+2}=a_{n+1}+a_n, n\\ge1$\n",
    "\n",
    "<b>a$^\\circ$).</b> \n",
    "\\begin{eqnarray}\n",
    "    \\frac{1}{a_{n+1}a_{n+3}}+\\frac{1}{a_{n+2}a_{n+3}}&=& \\frac{a_{n+1}+a_{n+2}}{a_{n+1}a_{n+2}a_{n+3}}\\\\\n",
    "    &=&\\frac{\\not{a }_{n+3}}{a_{n+1}a_{n+2}\\not{a }_{n+3}}\\\\\n",
    " \\Rightarrow    \\frac{1}{a_{n+1}a_{n+3}}&=&\\frac{1}{a_{n+1}a_{n+2}}-\\frac{1}{a_{n+2}a_{n+3}}\n",
    "\\end{eqnarray} \n",
    "\n",
    "<b>b$^\\circ$).</b>  Trivially, $\\{a_n\\}_{n} \\to\\infty$ is increasing, and is telescoping; we have\n",
    "$$\\sum_{n=0}^\\infty\\frac{1}{a_{n+1}a_{n+3}}=\\left(\\frac{1}{a_{1}a_{2}}-\\frac{1}{a_{2}a_{3}}\\right) +  \\left(\\frac{1}{a_{2}a_{3}}-\\frac{1}{a_{3}a_{4}}\\right)+\\cdots\n",
    "=\\frac{1}{a_{1}a_{2}}=1$$\n",
    "</big> </big>"
   ]
  },
  {
   "cell_type": "code",
   "execution_count": null,
   "metadata": {},
   "outputs": [],
   "source": []
  }
 ],
 "metadata": {
  "kernelspec": {
   "display_name": "Python 3",
   "language": "python",
   "name": "python3"
  },
  "language_info": {
   "codemirror_mode": {
    "name": "ipython",
    "version": 3
   },
   "file_extension": ".py",
   "mimetype": "text/x-python",
   "name": "python",
   "nbconvert_exporter": "python",
   "pygments_lexer": "ipython3",
   "version": "3.6.9"
  },
  "toc": {
   "colors": {
    "hover_highlight": "#DAA520",
    "navigate_num": "#000000",
    "navigate_text": "#333333",
    "running_highlight": "#FF0000",
    "selected_highlight": "#FFD700",
    "sidebar_border": "#EEEEEE",
    "wrapper_background": "#FFFFFF"
   },
   "moveMenuLeft": true,
   "nav_menu": {
    "height": "102px",
    "width": "252px"
   },
   "navigate_menu": true,
   "number_sections": true,
   "sideBar": true,
   "threshold": 4,
   "toc_cell": false,
   "toc_section_display": "block",
   "toc_window_display": false,
   "widenNotebook": false
  },
  "widgets": {
   "state": {},
   "version": "2.0.10"
  }
 },
 "nbformat": 4,
 "nbformat_minor": 1
}
