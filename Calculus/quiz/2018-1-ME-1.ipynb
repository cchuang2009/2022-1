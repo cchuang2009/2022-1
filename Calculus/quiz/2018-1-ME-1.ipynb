{
 "cells": [
  {
   "cell_type": "markdown",
   "metadata": {},
   "source": [
    "# <div align=\"center\">Calculus, 2018-1-ME-1</div>\n",
    "\n",
    "<h3><div align=\"right\">Name:&nbsp;&nbsp;&nbsp;&nbsp;&nbsp;&nbsp;&nbsp;&nbsp;&nbsp;&nbsp;&nbsp;&nbsp;&nbsp;&nbsp;&nbsp;&nbsp;&nbsp;&nbsp;&nbsp;&nbsp;  Sequence Number:&nbsp;&nbsp;&nbsp;&nbsp;&nbsp;&nbsp;&nbsp;&nbsp;&nbsp;&nbsp;&nbsp;&nbsp;&nbsp;&nbsp;&nbsp;&nbsp;&nbsp;&nbsp;&nbsp;&nbsp;&nbsp;&nbsp;&nbsp;&nbsp;</div></h3>\n"
   ]
  },
  {
   "cell_type": "markdown",
   "metadata": {
    "collapsed": true
   },
   "source": [
    "<big>\n",
    "<big><b>1$^\\circ$). </b> </big>\n",
    "Find the following limits: (total 10%, each 5%) <br>\n",
    "a$^\\circ$). $\\large\\mathbf{\\lim\\limits_{\\theta\\to0}\\frac{\\sin^2 \\theta }{\\theta}}$\n",
    "b$^\\circ$). $\\large\\mathbf{\\lim\\limits_{x\\to-2}\\frac{x+2}{x^2-4}}$.\n",
    "</big> "
   ]
  },
  {
   "cell_type": "raw",
   "metadata": {},
   "source": [
    "\n",
    "\n",
    "\n"
   ]
  },
  {
   "cell_type": "markdown",
   "metadata": {},
   "source": [
    "<big>\n",
    "<big><b>2$^\\circ$).</b></big>\n",
    "Evaluate the following derivatives of given functions: (total 35%, each 5% ($\\color{brown}{\\times7}$))<br />\n",
    "a$^\\circ$). $\\mathbf{\\left[\\sqrt t \\left(1+t^{-1}\\right) \\right]' }$\n",
    "b$^\\circ$). $\\mathbf{\\left[\\sqrt{x^{-3} } \\right]'}$\n",
    "c$^\\circ$). $\\mathbf{\\left[x^{1/2} \\sin x \\right]'}$\n",
    "d$^\\circ$). $\\large\\mathbf{\\left[\\frac{x}{x^2+1} \\right]'}$\n",
    "e$^\\circ$). $\\mathbf{\\left.\\frac{d^4 }{dx^4}(2x^4+x^3-x-2)\\right|_{x=-1} }$\n",
    "f$^\\circ$). $\\large\\mathbf{\\frac{d }{dx}\\left( \\frac{\\ln x}{ x^2}\\right)}$\n",
    "g$^\\circ$). $\\mathbf{D_x\\left(e^{-x}\\cos x\\right)}$<br />\n",
    "\n",
    "</big> "
   ]
  },
  {
   "cell_type": "raw",
   "metadata": {},
   "source": [
    "\n",
    "\n",
    "\n",
    "\n",
    "\n",
    "\n",
    "\n",
    "\n",
    "\n",
    "\n",
    "\n",
    "\n",
    "\n"
   ]
  },
  {
   "cell_type": "markdown",
   "metadata": {},
   "source": [
    "<big>\n",
    "<big><b>3$^\\circ$).</b></big>\n",
    "Find the values of $\\mathbf{A,B}$ such that the following function is continuous and differentiable at $\\mathbf{x=2}$: (total 10%)<br />\n",
    "\n",
    "$$\\mathbf{f (x) = \\left\\{ \\begin{array}{2}\n",
    "       Ax^3 \\text{, if } x \\le 2,\\\\\n",
    "       x+B, \\text{ if } x > 2\n",
    "     \\end{array} \\right. }$$\n",
    "</big> "
   ]
  },
  {
   "cell_type": "raw",
   "metadata": {},
   "source": [
    "\n",
    "\n",
    "\n",
    "\n",
    "\n"
   ]
  },
  {
   "cell_type": "markdown",
   "metadata": {
    "collapsed": true
   },
   "source": [
    "<big>\n",
    "<big><b>4$^\\circ$).</b> </big>(total 10%)<br>\n",
    " \n",
    "Suppose that \n",
    "$$ \\mathbf{f(x)=x^3\\exp(x)}$$\n",
    "Find the third derivative of $\\mathbf{f(x)}$,  $\\mathbf{f'''(x)}$.\n",
    " \n",
    "</big> "
   ]
  },
  {
   "cell_type": "raw",
   "metadata": {},
   "source": [
    "\n",
    "\n",
    "\n",
    "\n",
    "\n",
    "\n"
   ]
  },
  {
   "cell_type": "markdown",
   "metadata": {
    "collapsed": true
   },
   "source": [
    "<big>\n",
    "<big><b>5$^\\circ$).</b> </big>(total 20%, each 10%)<br>\n",
    "a$^\\circ$) Find the intervals at which the function is increasing or decreasing: (10%)\n",
    "$$\\mathbf{f(x)=x\\sqrt{4-x^2}}\\text{ where } |x|\\le2$$ \n",
    "b$^\\circ$) Also find the intervals  at which the function is concave upward or concave downward (10%).\n",
    "</big> "
   ]
  },
  {
   "cell_type": "raw",
   "metadata": {},
   "source": [
    "\n",
    "\n",
    "\n",
    "\n",
    "\n",
    "\n",
    "\n",
    "\n",
    "\n",
    "\n",
    "\n",
    "\n",
    "\n",
    "\n"
   ]
  },
  {
   "cell_type": "markdown",
   "metadata": {
    "collapsed": true
   },
   "source": [
    "<big>\n",
    "<big><b>6$^\\circ$).</b></big> (20%)\n",
    "Suppose that  $\\mathbf{f (x) =x-3x^{2/3}}$ for all ${x\\in \\mathbf{[-2,6]}}$. <br>\n",
    "a$^\\circ$). (5%) Find all the critical values of $\\mathbf{f(x)}$.<br>\n",
    "b$^\\circ$). (5%) Determine the interval at which  $\\mathbf{f(x)}$ is increasing and concave downward.<br>  \n",
    "c$^\\circ$). (5%) Find all the relative extreme values of $\\mathbf{f (x)}$ if any. <br>\n",
    "d$^\\circ$). (5%) Find absolute extrema of  $\\mathbf{f (x)}$ if any.     \n",
    "</big> "
   ]
  },
  {
   "cell_type": "raw",
   "metadata": {},
   "source": [
    "\n",
    "\n",
    "\n",
    "\n",
    "\n",
    "\n",
    "\n",
    "\n",
    "\n",
    "\n",
    "\n",
    "\n",
    "\n",
    "\n"
   ]
  },
  {
   "cell_type": "markdown",
   "metadata": {
    "collapsed": true
   },
   "source": [
    "<big>\n",
    "<big>\n",
    "    <b>7$^\\circ$).</b></big> (total 10%, each 2.5%) (<b>True</b> or <b>False</b>)<br>\n",
    "a$^\\circ$). Suppose that $\\mathbf{f(x)}$ is continuous on $[a,b]$. Then $\\mathbf{f(x)}$ is differentiable on $[a,b]$.<br>\n",
    "b$^\\circ$). Suppose that $\\mathbf{f(x)}$ is differentiable in $(a,b)$. Then $\\mathbf{f(x)}$ attains its both maxima and minimum in $(a,b)$.<br>\n",
    "c$^\\circ$). Suppose that $\\mathbf{f(x)}$ is differentiable in $(a,b)$. Then $\\mathbf{f(x)}$ is also continuous in $(a,b)$.<br>\n",
    "d$^\\circ$). Suppose that $\\mathbf{f(x)}$ is differentiable in $(a,b)$. Then $\\mathbf{f(x)}$ is also twice differentiable in $(a,b)$.\n",
    "</big> </big>"
   ]
  },
  {
   "cell_type": "raw",
   "metadata": {},
   "source": [
    "\n",
    "\n"
   ]
  },
  {
   "cell_type": "code",
   "execution_count": null,
   "metadata": {},
   "outputs": [],
   "source": []
  },
  {
   "cell_type": "code",
   "execution_count": null,
   "metadata": {},
   "outputs": [],
   "source": []
  },
  {
   "cell_type": "code",
   "execution_count": null,
   "metadata": {},
   "outputs": [],
   "source": []
  },
  {
   "cell_type": "code",
   "execution_count": null,
   "metadata": {},
   "outputs": [],
   "source": []
  },
  {
   "cell_type": "code",
   "execution_count": 1,
   "metadata": {},
   "outputs": [],
   "source": [
    "from sympy import symbols,sin,cos,pi,limit,diff,sqrt,pprint,log,exp,solve\n",
    "\n",
    "x,y,t =symbols('x y t')"
   ]
  },
  {
   "cell_type": "code",
   "execution_count": 9,
   "metadata": {},
   "outputs": [
    {
     "name": "stdout",
     "output_type": "stream",
     "text": [
      "1. a) limit of sin^2 θ/ θ at  θ=0 is \n"
     ]
    },
    {
     "data": {
      "text/plain": [
       "0"
      ]
     },
     "execution_count": 9,
     "metadata": {},
     "output_type": "execute_result"
    }
   ],
   "source": [
    "print(\"1. a) limit of sin^2 θ/ θ at  θ=0 is \")\n",
    "limit(sin(t)**2/t,t,0)"
   ]
  },
  {
   "cell_type": "code",
   "execution_count": 3,
   "metadata": {},
   "outputs": [
    {
     "name": "stdout",
     "output_type": "stream",
     "text": [
      "1. b) limit of (x+2)/(x^2-4) at x=-2 is\n"
     ]
    },
    {
     "data": {
      "text/plain": [
       "-1/4"
      ]
     },
     "execution_count": 3,
     "metadata": {},
     "output_type": "execute_result"
    }
   ],
   "source": [
    "print(\"1. b) limit of (x+2)/(x^2-4) at x=-2 is\")\n",
    "limit((x+2)/(x**2-4),x,-2)"
   ]
  },
  {
   "cell_type": "code",
   "execution_count": 20,
   "metadata": {},
   "outputs": [
    {
     "name": "stdout",
     "output_type": "stream",
     "text": [
      "2. a) derivative of √t (1+1/t) is\n",
      " 1       1   \n",
      "──── - ──────\n",
      "2⋅√t      3/2\n",
      "       2⋅t   \n"
     ]
    }
   ],
   "source": [
    "print(\"2. a) derivative of √t (1+1/t) is\")\n",
    "pprint(diff(sqrt(t)+1/sqrt(t),t))"
   ]
  },
  {
   "cell_type": "code",
   "execution_count": 5,
   "metadata": {},
   "outputs": [
    {
     "name": "stdout",
     "output_type": "stream",
     "text": [
      "2. b) derivative of √x^(-3)is\n",
      "      -2.5\n",
      "-1.5⋅x    \n"
     ]
    }
   ],
   "source": [
    "print(\"2. b) derivative of √x^(-3)is\")\n",
    "pprint(diff(x**(-3/2),x))"
   ]
  },
  {
   "cell_type": "code",
   "execution_count": 22,
   "metadata": {},
   "outputs": [
    {
     "name": "stdout",
     "output_type": "stream",
     "text": [
      "2. c) derivative of √x sin x  is\n",
      "            sin(x)\n",
      "√x⋅cos(x) + ──────\n",
      "             2⋅√x \n"
     ]
    }
   ],
   "source": [
    "print(\"2. c) derivative of √x sin x  is\")\n",
    "pprint(diff(sqrt(x)*sin(x),x))"
   ]
  },
  {
   "cell_type": "code",
   "execution_count": 23,
   "metadata": {},
   "outputs": [
    {
     "name": "stdout",
     "output_type": "stream",
     "text": [
      "2. d) derivative of x/(1+x^2) is\n",
      "        2           \n",
      "     2⋅x        1   \n",
      "- ───────── + ──────\n",
      "          2    2    \n",
      "  ⎛ 2    ⎞    x  + 1\n",
      "  ⎝x  + 1⎠          \n"
     ]
    }
   ],
   "source": [
    "print(\"2. d) derivative of x/(1+x^2) is\")\n",
    "pprint(diff(x/(1+x**2),x))"
   ]
  },
  {
   "cell_type": "code",
   "execution_count": 24,
   "metadata": {},
   "outputs": [
    {
     "name": "stdout",
     "output_type": "stream",
     "text": [
      "2. e) 4th derivative of 2x^4+x^3-x-2 at x=1 is\n",
      "48\n"
     ]
    }
   ],
   "source": [
    "print(\"2. e) 4th derivative of 2x^4+x^3-x-2 at x=1 is\")\n",
    "pprint(diff(2*x**4+x**3-x-2,x,4))"
   ]
  },
  {
   "cell_type": "code",
   "execution_count": 26,
   "metadata": {},
   "outputs": [
    {
     "name": "stdout",
     "output_type": "stream",
     "text": [
      "2. f) derivative of ln(x)/x^2  is\n",
      "  2⋅log(x)   1 \n",
      "- ──────── + ──\n",
      "      3       3\n",
      "     x       x \n"
     ]
    }
   ],
   "source": [
    "print(\"2. f) derivative of ln(x)/x^2  is\")\n",
    "pprint(diff(log(x)/x**2,x))"
   ]
  },
  {
   "cell_type": "code",
   "execution_count": 27,
   "metadata": {},
   "outputs": [
    {
     "name": "stdout",
     "output_type": "stream",
     "text": [
      "2. g) derivative of exp(-x)cos(x) is\n",
      "   -x           -x       \n",
      "- ℯ  ⋅sin(x) - ℯ  ⋅cos(x)\n"
     ]
    }
   ],
   "source": [
    "print(\"2. g) derivative of exp(-x)cos(x) is\")\n",
    "pprint(diff(exp(-x)*cos(x),x))"
   ]
  },
  {
   "cell_type": "markdown",
   "metadata": {},
   "source": [
    "3$^\\circ$) To be continuous at $x=2$:\n",
    "$$ \\lim_{x\\to2^-}Ax^3=\\lim_{x\\to2^+}(x+B)\\Rightarrow 8A=2+B$$ \n",
    "and to be differentiable at $x=2$:\n",
    "$$\\lim_{x\\to2^-}(Ax^3)'=\\lim_{x\\to2^+}(x+B)'\\Rightarrow 12A=1$$\n",
    "Therefore, $A=1/12,B=-4/3$"
   ]
  },
  {
   "cell_type": "code",
   "execution_count": 7,
   "metadata": {},
   "outputs": [
    {
     "name": "stdout",
     "output_type": "stream",
     "text": [
      " 4.) third derivative of x^3 exp(x) is\n",
      "⎛ 3      2           ⎞  x\n",
      "⎝x  + 9⋅x  + 18⋅x + 6⎠⋅ℯ \n"
     ]
    }
   ],
   "source": [
    "print(\" 4.) third derivative of x^3 exp(x) is\")\n",
    "pprint(diff(x**3*exp(x),x,3))"
   ]
  },
  {
   "cell_type": "code",
   "execution_count": 31,
   "metadata": {},
   "outputs": [
    {
     "name": "stdout",
     "output_type": "stream",
     "text": [
      "5.) \n",
      "         2           __________\n",
      "        x           ╱    2     \n",
      "- ───────────── + ╲╱  - x  + 4 \n",
      "     __________                \n",
      "    ╱    2                     \n",
      "  ╲╱  - x  + 4                 \n"
     ]
    }
   ],
   "source": [
    "print(\"5.) \")\n",
    "pprint(diff(x*sqrt(4-x**2),x))"
   ]
  },
  {
   "cell_type": "markdown",
   "metadata": {},
   "source": [
    "which implies\n",
    "$$ f'(x) = \\frac{4-2x^2}{4-x^2} \\text{ and sign($f'$)=  sign$(2-x^2)$}$$\n",
    "And a$^\\circ$). $f$ increases for $x\\in[-\\sqrt2,\\sqrt2]$ decreases $x\\in[-2,-\\sqrt2]\\cup[\\sqrt2,2]$"
   ]
  },
  {
   "cell_type": "code",
   "execution_count": 32,
   "metadata": {},
   "outputs": [
    {
     "name": "stdout",
     "output_type": "stream",
     "text": [
      "   ⎛    2       ⎞ \n",
      "   ⎜   x        ⎟ \n",
      "-x⋅⎜──────── + 3⎟ \n",
      "   ⎜   2        ⎟ \n",
      "   ⎝- x  + 4    ⎠ \n",
      "──────────────────\n",
      "     __________   \n",
      "    ╱    2        \n",
      "  ╲╱  - x  + 4    \n"
     ]
    }
   ],
   "source": [
    "pprint(diff(x*sqrt(4-x**2),x,2))"
   ]
  },
  {
   "cell_type": "markdown",
   "metadata": {},
   "source": [
    "**5. b$^\\circ$)** Since $$f''=-x\\left(3+\\frac{x^2}{4-x^2}\\right)$$ which implies $f''>0$ if $x\\le0$ and $f'<0$ otherwise.\n",
    "Therefore $f$ concaves upward at $x\\in[-2,0]$ and downward at $x\\in[0,2]$."
   ]
  },
  {
   "cell_type": "markdown",
   "metadata": {},
   "source": [
    "**6.)**\n",
    "$$f'= (x-3 x^{2/3})'=1-2x^{-1/3}=\\frac{x^{1/3}-2}{x^{1/3}}$$\n",
    "implies <br>\n",
    "**a$^\\circ$)** only one critical point: 0 ($f'$ fails to exist)</br>\n",
    "\n",
    "**b$^\\circ$)** sign($f'$)=sign($x(x-8)$), Thus\n",
    "<pre>\n",
    "\n",
    "   f'|   +   |    -    | +\n",
    "   ----------0---------8----\n",
    "</pre>\n",
    "$f$ increases on $[-2,0]$ and decreses on $[0,6]$<br>\n",
    "**c$^\\circ$)** Relative extrema exist at end points, -2, 6 and critical point, 0.<br> From the monotonicy, we conculde that<br>\n",
    "relative minima: $f(-2)=-2-3\\times 2^{2/3}$, $f(6)=6-3\\times 6^{2/3}$<br>\n",
    "relative maxima: $f(0)=0$<br>\n",
    "**d$^\\circ$)** $f(0)$ is maximum since only one relative maximum exists and $f(-2)$ is minimum since it is smaller than $f(6)$."
   ]
  },
  {
   "cell_type": "markdown",
   "metadata": {},
   "source": [
    "**7.** False,False,True,False."
   ]
  },
  {
   "cell_type": "code",
   "execution_count": null,
   "metadata": {
    "collapsed": true
   },
   "outputs": [],
   "source": []
  }
 ],
 "metadata": {
  "kernelspec": {
   "display_name": "Python 3",
   "language": "python",
   "name": "python3"
  },
  "language_info": {
   "codemirror_mode": {
    "name": "ipython",
    "version": 3
   },
   "file_extension": ".py",
   "mimetype": "text/x-python",
   "name": "python",
   "nbconvert_exporter": "python",
   "pygments_lexer": "ipython3",
   "version": "3.6.5"
  },
  "toc": {
   "colors": {
    "hover_highlight": "#DAA520",
    "navigate_num": "#000000",
    "navigate_text": "#333333",
    "running_highlight": "#FF0000",
    "selected_highlight": "#FFD700",
    "sidebar_border": "#EEEEEE",
    "wrapper_background": "#FFFFFF"
   },
   "moveMenuLeft": true,
   "nav_menu": {
    "height": "120px",
    "width": "252px"
   },
   "navigate_menu": true,
   "number_sections": true,
   "sideBar": true,
   "threshold": 4,
   "toc_cell": false,
   "toc_section_display": "block",
   "toc_window_display": false,
   "widenNotebook": false
  }
 },
 "nbformat": 4,
 "nbformat_minor": 1
}
