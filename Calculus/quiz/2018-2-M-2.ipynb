{
 "cells": [
  {
   "cell_type": "markdown",
   "metadata": {},
   "source": [
    "<big><big><div align=\"left\"><b><font size=\"+2\">Calculus, 2018-2-M-2</font></b></div></big></big>\n",
    "\n",
    "<div align=\"left\"> Name: ______________________&nbsp;&nbsp;  \n",
    "    Sequence Number: __________________________</div>\n",
    "    (Due Time 80 minutes.)"
   ]
  },
  {
   "cell_type": "markdown",
   "metadata": {
    "collapsed": true
   },
   "source": [
    "<big>\n",
    "    <big><b>$1^\\circ$). </b> </big>\n",
    "Evaluate the following double integrals. (total 45%, each 15%) <br>\n",
    "a$^\\circ$). <big>$\\mathbf{\\iint\\limits_{1\\le x\\le3,x^2\\le y\\le9}dA}=$ ________ ________ </big> \n",
    "<br>\n",
    "\n",
    "b$^\\circ$). <big>$\\mathbf{\\iint\\limits_{\\{x^2+y^2\\le4,x,y\\le0\\}}(x+y)dA}$= _______________________ ________  </big>\n",
    "<br>\n",
    "c$^\\circ$). <big>$\\mathbf{\\int_{-\\infty}^\\infty e^{-2x^2+4x-2}d x}$= _______________________ ________  </big>\n",
    "\n",
    "</big> \n",
    "\n"
   ]
  },
  {
   "cell_type": "markdown",
   "metadata": {
    "collapsed": true
   },
   "source": [
    " "
   ]
  },
  {
   "cell_type": "markdown",
   "metadata": {
    "collapsed": true
   },
   "source": [
    " "
   ]
  },
  {
   "cell_type": "markdown",
   "metadata": {
    "collapsed": true
   },
   "source": [
    " "
   ]
  },
  {
   "cell_type": "markdown",
   "metadata": {
    "collapsed": true
   },
   "source": [
    " "
   ]
  },
  {
   "cell_type": "markdown",
   "metadata": {
    "collapsed": true
   },
   "source": [
    " "
   ]
  },
  {
   "cell_type": "markdown",
   "metadata": {
    "collapsed": true
   },
   "source": [
    " "
   ]
  },
  {
   "cell_type": "markdown",
   "metadata": {
    "collapsed": true
   },
   "source": [
    " "
   ]
  },
  {
   "cell_type": "markdown",
   "metadata": {
    "collapsed": true
   },
   "source": [
    " "
   ]
  },
  {
   "cell_type": "markdown",
   "metadata": {
    "collapsed": true
   },
   "source": [
    " "
   ]
  },
  {
   "cell_type": "markdown",
   "metadata": {
    "collapsed": true
   },
   "source": [
    " "
   ]
  },
  {
   "cell_type": "markdown",
   "metadata": {
    "collapsed": true
   },
   "source": [
    " "
   ]
  },
  {
   "cell_type": "markdown",
   "metadata": {
    "collapsed": true
   },
   "source": [
    " "
   ]
  },
  {
   "cell_type": "markdown",
   "metadata": {
    "collapsed": true
   },
   "source": [
    " "
   ]
  },
  {
   "cell_type": "markdown",
   "metadata": {
    "collapsed": true
   },
   "source": [
    " "
   ]
  },
  {
   "cell_type": "markdown",
   "metadata": {
    "collapsed": true
   },
   "source": [
    " "
   ]
  },
  {
   "cell_type": "markdown",
   "metadata": {
    "collapsed": true
   },
   "source": [
    " "
   ]
  },
  {
   "cell_type": "markdown",
   "metadata": {
    "collapsed": true
   },
   "source": [
    " "
   ]
  },
  {
   "cell_type": "markdown",
   "metadata": {
    "collapsed": true
   },
   "source": [
    " "
   ]
  },
  {
   "cell_type": "markdown",
   "metadata": {
    "collapsed": true
   },
   "source": [
    " "
   ]
  },
  {
   "cell_type": "markdown",
   "metadata": {
    "collapsed": true
   },
   "source": [
    " "
   ]
  },
  {
   "cell_type": "markdown",
   "metadata": {
    "collapsed": true
   },
   "source": [
    " "
   ]
  },
  {
   "cell_type": "markdown",
   "metadata": {
    "collapsed": true
   },
   "source": [
    " "
   ]
  },
  {
   "cell_type": "markdown",
   "metadata": {
    "collapsed": true
   },
   "source": [
    " "
   ]
  },
  {
   "cell_type": "markdown",
   "metadata": {
    "collapsed": true
   },
   "source": [
    " "
   ]
  },
  {
   "cell_type": "markdown",
   "metadata": {
    "collapsed": true
   },
   "source": [
    " "
   ]
  },
  {
   "cell_type": "markdown",
   "metadata": {
    "collapsed": true
   },
   "source": [
    " "
   ]
  },
  {
   "cell_type": "markdown",
   "metadata": {
    "collapsed": true
   },
   "source": [
    " "
   ]
  },
  {
   "cell_type": "markdown",
   "metadata": {
    "collapsed": true
   },
   "source": [
    " "
   ]
  },
  {
   "cell_type": "markdown",
   "metadata": {
    "collapsed": true
   },
   "source": [
    " "
   ]
  },
  {
   "cell_type": "markdown",
   "metadata": {
    "collapsed": true
   },
   "source": [
    " "
   ]
  },
  {
   "cell_type": "markdown",
   "metadata": {
    "collapsed": true
   },
   "source": [
    " "
   ]
  },
  {
   "cell_type": "markdown",
   "metadata": {
    "collapsed": true
   },
   "source": [
    " "
   ]
  },
  {
   "cell_type": "markdown",
   "metadata": {
    "collapsed": true
   },
   "source": [
    " "
   ]
  },
  {
   "cell_type": "markdown",
   "metadata": {
    "collapsed": true
   },
   "source": [
    " "
   ]
  },
  {
   "cell_type": "markdown",
   "metadata": {
    "collapsed": true
   },
   "source": [
    " "
   ]
  },
  {
   "cell_type": "markdown",
   "metadata": {
    "collapsed": true
   },
   "source": [
    " "
   ]
  },
  {
   "cell_type": "markdown",
   "metadata": {
    "collapsed": true
   },
   "source": [
    " "
   ]
  },
  {
   "cell_type": "markdown",
   "metadata": {
    "collapsed": true
   },
   "source": [
    " "
   ]
  },
  {
   "cell_type": "markdown",
   "metadata": {
    "collapsed": true
   },
   "source": [
    " "
   ]
  },
  {
   "cell_type": "markdown",
   "metadata": {
    "collapsed": true
   },
   "source": [
    "<big>\n",
    "<big><b>$2^\\circ$).</b></big> Suppose $\\mathbf{f(x,y)=3x^2+2xy+y^2}$. on the triangle with vertices $(-2,-1),(1,-1),(1,2)$.(total 45%, a$^\\circ$ 20%, b$^\\circ$ 25%) \n",
    "\n",
    "a$^\\circ$).<big> Find the extrema of $\\mathbf{f(x)}$ for all $\\mathbf{(x,y)\\in \\mathbb{R}^2}$ if any.</big>\n",
    "<br>\n",
    "b$^\\circ$). <big>Find the extrema of $\\mathbf{f(x)}$ for all $\\mathbf{(x,y)}$ within the triangle with vertices at $\\mathbf{\\{(-2,-1),(1,-1),(1,2)\\}}.$</big>\n",
    "       \n",
    "</big> "
   ]
  },
  {
   "cell_type": "markdown",
   "metadata": {
    "collapsed": true
   },
   "source": [
    " "
   ]
  },
  {
   "cell_type": "markdown",
   "metadata": {
    "collapsed": true
   },
   "source": [
    " "
   ]
  },
  {
   "cell_type": "markdown",
   "metadata": {
    "collapsed": true
   },
   "source": [
    " "
   ]
  },
  {
   "cell_type": "markdown",
   "metadata": {
    "collapsed": true
   },
   "source": [
    " "
   ]
  },
  {
   "cell_type": "markdown",
   "metadata": {
    "collapsed": true
   },
   "source": [
    " "
   ]
  },
  {
   "cell_type": "markdown",
   "metadata": {
    "collapsed": true
   },
   "source": [
    " "
   ]
  },
  {
   "cell_type": "markdown",
   "metadata": {
    "collapsed": true
   },
   "source": [
    " "
   ]
  },
  {
   "cell_type": "markdown",
   "metadata": {
    "collapsed": true
   },
   "source": [
    " "
   ]
  },
  {
   "cell_type": "markdown",
   "metadata": {
    "collapsed": true
   },
   "source": [
    " "
   ]
  },
  {
   "cell_type": "markdown",
   "metadata": {
    "collapsed": true
   },
   "source": [
    " "
   ]
  },
  {
   "cell_type": "markdown",
   "metadata": {
    "collapsed": true
   },
   "source": [
    " "
   ]
  },
  {
   "cell_type": "markdown",
   "metadata": {
    "collapsed": true
   },
   "source": [
    " "
   ]
  },
  {
   "cell_type": "markdown",
   "metadata": {
    "collapsed": true
   },
   "source": [
    " "
   ]
  },
  {
   "cell_type": "markdown",
   "metadata": {
    "collapsed": true
   },
   "source": [
    " "
   ]
  },
  {
   "cell_type": "markdown",
   "metadata": {
    "collapsed": true
   },
   "source": [
    " "
   ]
  },
  {
   "cell_type": "markdown",
   "metadata": {
    "collapsed": true
   },
   "source": [
    " "
   ]
  },
  {
   "cell_type": "markdown",
   "metadata": {
    "collapsed": true
   },
   "source": [
    " "
   ]
  },
  {
   "cell_type": "markdown",
   "metadata": {
    "collapsed": true
   },
   "source": [
    " "
   ]
  },
  {
   "cell_type": "markdown",
   "metadata": {
    "collapsed": true
   },
   "source": [
    " "
   ]
  },
  {
   "cell_type": "markdown",
   "metadata": {
    "collapsed": true
   },
   "source": [
    " "
   ]
  },
  {
   "cell_type": "markdown",
   "metadata": {
    "collapsed": true
   },
   "source": [
    " "
   ]
  },
  {
   "cell_type": "markdown",
   "metadata": {
    "collapsed": true
   },
   "source": [
    " "
   ]
  },
  {
   "cell_type": "markdown",
   "metadata": {
    "collapsed": true
   },
   "source": [
    " "
   ]
  },
  {
   "cell_type": "markdown",
   "metadata": {
    "collapsed": true
   },
   "source": [
    " "
   ]
  },
  {
   "cell_type": "markdown",
   "metadata": {
    "collapsed": true
   },
   "source": [
    " "
   ]
  },
  {
   "cell_type": "markdown",
   "metadata": {
    "collapsed": true
   },
   "source": [
    " "
   ]
  },
  {
   "cell_type": "markdown",
   "metadata": {
    "collapsed": true
   },
   "source": [
    " "
   ]
  },
  {
   "cell_type": "markdown",
   "metadata": {
    "collapsed": true
   },
   "source": [
    " "
   ]
  },
  {
   "cell_type": "markdown",
   "metadata": {
    "collapsed": true
   },
   "source": [
    " "
   ]
  },
  {
   "cell_type": "markdown",
   "metadata": {
    "collapsed": true
   },
   "source": [
    " "
   ]
  },
  {
   "cell_type": "markdown",
   "metadata": {
    "collapsed": true
   },
   "source": [
    " "
   ]
  },
  {
   "cell_type": "markdown",
   "metadata": {
    "collapsed": true
   },
   "source": [
    " "
   ]
  },
  {
   "cell_type": "markdown",
   "metadata": {
    "collapsed": true
   },
   "source": [
    " "
   ]
  },
  {
   "cell_type": "markdown",
   "metadata": {
    "collapsed": true
   },
   "source": [
    " "
   ]
  },
  {
   "cell_type": "markdown",
   "metadata": {
    "collapsed": true
   },
   "source": [
    " "
   ]
  },
  {
   "cell_type": "markdown",
   "metadata": {
    "collapsed": true
   },
   "source": [
    " "
   ]
  },
  {
   "cell_type": "markdown",
   "metadata": {
    "collapsed": true
   },
   "source": [
    " "
   ]
  },
  {
   "cell_type": "markdown",
   "metadata": {
    "collapsed": true
   },
   "source": [
    " "
   ]
  },
  {
   "cell_type": "markdown",
   "metadata": {
    "collapsed": true
   },
   "source": [
    " "
   ]
  },
  {
   "cell_type": "markdown",
   "metadata": {
    "collapsed": true
   },
   "source": [
    " "
   ]
  },
  {
   "cell_type": "markdown",
   "metadata": {
    "collapsed": true
   },
   "source": [
    " "
   ]
  },
  {
   "cell_type": "markdown",
   "metadata": {
    "collapsed": true
   },
   "source": [
    " "
   ]
  },
  {
   "cell_type": "markdown",
   "metadata": {
    "collapsed": true
   },
   "source": [
    " "
   ]
  },
  {
   "cell_type": "markdown",
   "metadata": {
    "collapsed": true
   },
   "source": [
    " "
   ]
  },
  {
   "cell_type": "markdown",
   "metadata": {
    "collapsed": true
   },
   "source": [
    " "
   ]
  },
  {
   "cell_type": "markdown",
   "metadata": {
    "collapsed": true
   },
   "source": [
    " "
   ]
  },
  {
   "cell_type": "markdown",
   "metadata": {
    "collapsed": true
   },
   "source": [
    " "
   ]
  },
  {
   "cell_type": "markdown",
   "metadata": {
    "collapsed": true
   },
   "source": [
    " "
   ]
  },
  {
   "cell_type": "markdown",
   "metadata": {
    "collapsed": true
   },
   "source": [
    "<big>\n",
    "<big><b>$3^\\circ$).</b></big> Describe the Fubini's Theorem for Double Integral (10%) \n",
    "</big>"
   ]
  },
  {
   "cell_type": "markdown",
   "metadata": {
    "collapsed": true
   },
   "source": [
    " "
   ]
  },
  {
   "cell_type": "markdown",
   "metadata": {
    "collapsed": true
   },
   "source": [
    " "
   ]
  },
  {
   "cell_type": "markdown",
   "metadata": {
    "collapsed": true
   },
   "source": [
    " "
   ]
  },
  {
   "cell_type": "markdown",
   "metadata": {
    "collapsed": true
   },
   "source": [
    " "
   ]
  },
  {
   "cell_type": "markdown",
   "metadata": {
    "collapsed": true
   },
   "source": [
    " "
   ]
  },
  {
   "cell_type": "markdown",
   "metadata": {
    "collapsed": true
   },
   "source": [
    " "
   ]
  },
  {
   "cell_type": "markdown",
   "metadata": {
    "collapsed": true
   },
   "source": [
    " "
   ]
  },
  {
   "cell_type": "markdown",
   "metadata": {
    "collapsed": true
   },
   "source": [
    " "
   ]
  },
  {
   "cell_type": "markdown",
   "metadata": {
    "collapsed": true
   },
   "source": [
    " "
   ]
  },
  {
   "cell_type": "markdown",
   "metadata": {
    "collapsed": true
   },
   "source": [
    " "
   ]
  },
  {
   "cell_type": "markdown",
   "metadata": {
    "collapsed": true
   },
   "source": [
    " "
   ]
  },
  {
   "cell_type": "markdown",
   "metadata": {
    "collapsed": true
   },
   "source": [
    " "
   ]
  },
  {
   "cell_type": "markdown",
   "metadata": {
    "collapsed": true
   },
   "source": [
    " "
   ]
  },
  {
   "cell_type": "markdown",
   "metadata": {},
   "source": [
    "Answer\n",
    "---\n",
    "**1. a)** \n",
    "$$\\mathbf{\n",
    "\\iint\\limits_{\\{ (x, y)| 1\\le x\\le3,x^2\\le y\\le9\\}}  d A\n",
    "= \\int_1^3 d x \\int_{x^2}^91 dy=28/3\n",
    "}$$"
   ]
  },
  {
   "cell_type": "markdown",
   "metadata": {},
   "source": [
    "**1. b)** \n",
    "$$\\mathbf{\n",
    "   {\\iint\\limits_{\\{x^2+y^2\\le4,x,y\\le0\\}}(x+y)dA=\n",
    "= \\int_\\pi^{3\\pi/2} d \\theta \\int_0^{3}(r\\cos\\theta+r\\sin\\theta)dr=-16/3}\n",
    "}$$"
   ]
  },
  {
   "cell_type": "markdown",
   "metadata": {},
   "source": [
    "**1. c)** \n",
    "$$\\mathbf{\\int_{-\\infty}^\\infty e^{-2x^2+4x-2}d x=\\int_{-\\infty}^\\infty e^{-2(x-1)^2}d x=\\frac{\\sqrt\\pi}{\\sqrt2}}\n",
    "$$"
   ]
  },
  {
   "cell_type": "code",
   "execution_count": null,
   "metadata": {},
   "outputs": [],
   "source": []
  },
  {
   "cell_type": "markdown",
   "metadata": {},
   "source": [
    "**2. a)** \n",
    "Only one critical point at (0,0) and, $f(0,0)=0$ is relative minimum and minimum, no max since $f(x,y)\\to \\infty$ if $x\\to\\infty$."
   ]
  },
  {
   "cell_type": "markdown",
   "metadata": {},
   "source": [
    "**2. b)** \n",
    "maximum,17, at (-2,-1), minimum, 0 at (0,0)"
   ]
  },
  {
   "cell_type": "code",
   "execution_count": 5,
   "metadata": {},
   "outputs": [],
   "source": [
    "from sympy import log,exp,cos,sin,diff,integrate,symbols,Matrix,sqrt,pi,init_printing\n",
    "x,y,z=symbols(\"x y z\")\n",
    "r,t= symbols(\"r t\")"
   ]
  },
  {
   "cell_type": "code",
   "execution_count": 6,
   "metadata": {},
   "outputs": [],
   "source": [
    "init_printing()"
   ]
  },
  {
   "cell_type": "code",
   "execution_count": 2,
   "metadata": {},
   "outputs": [],
   "source": [
    "\n",
    "from sympy import symbols,pprint,integrate,pi,sqrt,sin,cos,diff\n",
    "x,y,z=symbols(\"x y z\")\n",
    "\n",
    "W  = '\\033[0m'  # white (normal)\n",
    "K  = '\\033[30m' # black\n",
    "R  = '\\033[31m' # red\n",
    "G  = '\\033[32m' # green\n",
    "O  = '\\033[1;33m' # orange\n",
    "B  = '\\033[34m' # blue\n",
    "P  = '\\033[35m' # purple\n",
    "T =  '\\033[1;33;47m' #Title\n",
    "\n",
    "def doubleInt3(f,X,xr,yr):\n",
    "    Iy=integrate(f,[X[1],yr[0],yr[1]])\n",
    "    I=integrate(Iy,[X[0],xr[0],xr[1]])\n",
    "    #print(\"  %s \\t  %s\" %(xr[1],yr[1]))\n",
    "    yrs=str(yr[1])\n",
    "    xrs=' '+str(xr[1])\n",
    "    print(xrs.ljust(9,' ')+yrs)\n",
    "    print(\"ʃ   d\",R+'{}'.format(X[0]),K+\"ʃ \",B+\"{}\".format(f),K+\" d\",R+\"{}\".format(X[1]),K+\" = \",\"{}\".format(I)) \n",
    "    \n",
    "    yrs0=str(yr[0])\n",
    "    xrs0=str(xr[0])\n",
    "    print(xrs0.ljust(8,' ')+yrs0)\n",
    "    return I"
   ]
  },
  {
   "cell_type": "code",
   "execution_count": 7,
   "metadata": {},
   "outputs": [
    {
     "name": "stdout",
     "output_type": "stream",
     "text": [
      " 3       9\n",
      "ʃ   d \u001b[31mx \u001b[30mʃ  \u001b[34m1 \u001b[30m d \u001b[31my \u001b[30m =  28/3\n",
      "1       x**2\n"
     ]
    }
   ],
   "source": [
    "# 1. a)\n",
    "f=1\n",
    "I=doubleInt3(f,[x,y],[1,3],[x*x,9])"
   ]
  },
  {
   "cell_type": "code",
   "execution_count": 8,
   "metadata": {},
   "outputs": [
    {
     "name": "stdout",
     "output_type": "stream",
     "text": [
      " 3*pi/2  2\n",
      "ʃ   d \u001b[31m𝜽 \u001b[30mʃ  \u001b[34mr*(r*sin(𝜽) + r*cos(𝜽)) \u001b[30m d \u001b[31mr \u001b[30m =  -16/3\n",
      "pi      0\n"
     ]
    }
   ],
   "source": [
    "# 1. b)\n",
    "from sympy import pi,sqrt,sin,cos,exp\n",
    "r,t,h,k,a,b,c,rho,p,u,v=symbols(\"r 𝜽 h k a b c 𝝆 𝝓 u v\")\n",
    "g=r*cos(t)+r*sin(t)\n",
    "I=doubleInt3(g*r,[t,r],[pi,3*pi/2],[0,2])"
   ]
  },
  {
   "cell_type": "markdown",
   "metadata": {},
   "source": [
    "<big>**2.**</big> "
   ]
  },
  {
   "cell_type": "code",
   "execution_count": 10,
   "metadata": {},
   "outputs": [],
   "source": [
    "from sympy import hessian,symbols,solve,diff,pprint\n",
    "\n",
    "grad = lambda func, vars :[diff(func,var) for var in vars]\n",
    "\n",
    "x,y,z=symbols(\"x y z\",real=True)\n"
   ]
  },
  {
   "cell_type": "code",
   "execution_count": 8,
   "metadata": {},
   "outputs": [],
   "source": [
    "def criticaltype(f):\n",
    "    cpts=solve(grad(f,[x,y]),[x,y])\n",
    "    H=hessian(f,[x,y]);\n",
    "    H_det=H.det();\n",
    "    print(\"Hessian Matrix\\n---\")\n",
    "    pprint(H)\n",
    "    #H2_det=H.det()\n",
    "    num=1\n",
    "    if len(cpts)==0:\n",
    "       print(\"   no critical point!\")  \n",
    "    elif (type(cpts)==dict):\n",
    "       \"\"\"\n",
    "       If only one critical point, return {x:a,y:b} --- dict,\n",
    "       if more than one point return {(a,b),(c,d),...} --- list\n",
    "       \"\"\" \n",
    "       cx=cpts[x]\n",
    "       cy=cpts[y]\n",
    "       print(\"only one critical (x,y)=(%s,%s)\" %(cx,cy))\n",
    "       delta2=H_det.subs({x:cx,y:cy}) \n",
    "       if delta2<0:\n",
    "          print(\"   |H|=%s<0:  Saddle point here.\" %delta2)\n",
    "       elif delta2==0:\n",
    "          print(\"   |H|=0:  No conclusion.\") \n",
    "       else:\n",
    "          f1=diff(f,x,2).subs({x:cx,y:cy})\n",
    "          if f1>0:\n",
    "             print(\"   |H|=%s>0, fxx=%s>0:  local minimum here.\" %(delta2,f1))\n",
    "          else:\n",
    "             print(\"   |H|=%s>0, fxx=%s<0:    local maximum here.\" %(delta2,f1))\n",
    "    else:\n",
    "       for i in cpts: \n",
    "            cx=i[0]\n",
    "            cy=i[1]\n",
    "            print(\"%d. critical (x,y)=(%s,%s)\" %(num,cx,cy))\n",
    "            delta2=H_det.subs({x:cx,y:cy}) \n",
    "            if delta2<0:\n",
    "               print(\"   |H|=%s<0:  Saddle point here.\" %delta2)\n",
    "            elif delta2==0:\n",
    "               print(\"   |H|=0:  No conclusion.\") \n",
    "            else:\n",
    "               f1=diff(f,x,2).subs({x:cx,y:cy})\n",
    "               if f1>0:\n",
    "                  print(\"   |H|=%s>0, fxx=%s>0:  local minimum here.\" %(delta2,f1))\n",
    "               else:\n",
    "                  print(\"   |H|=%s>0, fxx=%s<0:    local maximum here.\" %(delta2,f1))\n",
    "            #print(H_det)\n",
    "            num+=1\n",
    "    "
   ]
  },
  {
   "cell_type": "code",
   "execution_count": 9,
   "metadata": {},
   "outputs": [
    {
     "name": "stdout",
     "output_type": "stream",
     "text": [
      "Hessian Matrix\n",
      "---\n",
      "⎡6  2⎤\n",
      "⎢    ⎥\n",
      "⎣2  2⎦\n",
      "only one critical (x,y)=(0,0)\n",
      "   |H|=8>0, fxx=6>0:  local minimum here.\n"
     ]
    }
   ],
   "source": [
    "f=3*x**2+2*x*y+y**2\n",
    "criticaltype(f)"
   ]
  },
  {
   "cell_type": "code",
   "execution_count": null,
   "metadata": {},
   "outputs": [],
   "source": []
  },
  {
   "cell_type": "markdown",
   "metadata": {
    "collapsed": true
   },
   "source": [
    "<big>\n",
    "<big><b>$3^\\circ$).</b></big> Fubini's Theorem for Double Integral (10%) \n",
    "If $f (x, y)$ is continuous over $D$,\n",
    "\n",
    "- and $D$=$\\{ (x, y) | a \\leqslant x \\leqslant b, g_1 (x) \\leqslant y\n",
    "    \\leqslant g_2 (x) \\},$    \n",
    "$$ \\mathbf{\\iint\\limits_D f (x, y) d A = \\int_a^b d x\n",
    "       \\int_{g_1 (x)}^{g_{_2 (x)}} f (x, y) d y }$$\n",
    "- and $D$=$\\{ (x, y) | c \\leqslant y \\leqslant d, h_1 (y) \\leqslant x\n",
    "    \\leqslant h_2 (y) \\},$\n",
    "\n",
    "$$\\mathbf{ \\iint\\limits_Df (x, y) d A = \\int_c^d d y\n",
    "       \\int_{h_1 (y)}^{h_{_2 (y)}} f (x, y) d x }$$    \n",
    "    \n",
    "</big>"
   ]
  }
 ],
 "metadata": {
  "kernelspec": {
   "display_name": "Python 3",
   "language": "python",
   "name": "python3"
  },
  "language_info": {
   "codemirror_mode": {
    "name": "ipython",
    "version": 3
   },
   "file_extension": ".py",
   "mimetype": "text/x-python",
   "name": "python",
   "nbconvert_exporter": "python",
   "pygments_lexer": "ipython3",
   "version": "3.6.5"
  },
  "toc": {
   "colors": {
    "hover_highlight": "#DAA520",
    "navigate_num": "#000000",
    "navigate_text": "#333333",
    "running_highlight": "#FF0000",
    "selected_highlight": "#FFD700",
    "sidebar_border": "#EEEEEE",
    "wrapper_background": "#FFFFFF"
   },
   "moveMenuLeft": true,
   "nav_menu": {
    "height": "84px",
    "width": "252px"
   },
   "navigate_menu": true,
   "number_sections": true,
   "sideBar": true,
   "threshold": 4,
   "toc_cell": false,
   "toc_section_display": "block",
   "toc_window_display": false,
   "widenNotebook": false
  }
 },
 "nbformat": 4,
 "nbformat_minor": 1
}
