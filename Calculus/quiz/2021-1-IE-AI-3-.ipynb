{
 "cells": [
  {
   "cell_type": "markdown",
   "metadata": {
    "collapsed": true
   },
   "source": [
    " "
   ]
  },
  {
   "cell_type": "markdown",
   "metadata": {
    "collapsed": true
   },
   "source": [
    "Answer\n",
    "---"
   ]
  },
  {
   "cell_type": "code",
   "execution_count": 1,
   "metadata": {},
   "outputs": [],
   "source": [
    "from sympy import *"
   ]
  },
  {
   "cell_type": "code",
   "execution_count": 2,
   "metadata": {},
   "outputs": [],
   "source": [
    "x,t,u,C =symbols(\"x t u C\")"
   ]
  },
  {
   "cell_type": "code",
   "execution_count": 3,
   "metadata": {},
   "outputs": [],
   "source": [
    "from sympy import exp,sin,cos,tan,pi\n",
    "from mpmath import e"
   ]
  },
  {
   "cell_type": "code",
   "execution_count": 15,
   "metadata": {
    "code_folding": [
     0
    ]
   },
   "outputs": [],
   "source": [
    "def Int1(f,*args):\n",
    "    if(len(args)!=0):\n",
    "       a=args[0]\n",
    "       b=args[1]\n",
    "       print(\"                          \",b)\n",
    "       print(\"The definite integral of  ʃ %s dx is \" %f)\n",
    "       print(\"                          \",a)\n",
    "       pprint(integrate(f,(x,a,b)))\n",
    "    else:\n",
    "       print(\"The indefinite integral of  ʃ %s dx is \" %f) \n",
    "       res=integrate(f,x).as_real_imag()[0]\n",
    "        \n",
    "       pprint(res+C) "
   ]
  },
  {
   "cell_type": "code",
   "execution_count": 15,
   "metadata": {
    "code_folding": [
     0
    ]
   },
   "outputs": [],
   "source": [
    "def Int1(f,*args):\n",
    "    if(len(args)!=0):\n",
    "       a=args[0]\n",
    "       b=args[1]\n",
    "       print(\"                          \",b)\n",
    "       print(\"The definite integral of  ʃ %s dx is \" %f)\n",
    "       print(\"                          \",a)\n",
    "       pprint(integrate(f,(x,a,b)))\n",
    "    else:\n",
    "       print(\"The indefinite integral of  ʃ %s dx is \" %f) \n",
    "       res=integrate(f,x).as_real_imag()[0]\n",
    "        \n",
    "       pprint(res+C) "
   ]
  },
  {
   "cell_type": "code",
   "execution_count": 40,
   "metadata": {
    "code_folding": [
     0
    ]
   },
   "outputs": [],
   "source": [
    "def Int2(f,*args):\n",
    "    if(len(args)!=0):\n",
    "       a=args[0]\n",
    "       b=args[1]\n",
    "       print(\"                          \",b)\n",
    "       print(\"The definite integral of  ʃ %s dx is \" %f)\n",
    "       print(\"                          \",a)\n",
    "       pprint(integrate(f,(x,a,b)))\n",
    "    else:\n",
    "       print(\"The indefinite integral of  ʃ %s dx is \" %f) \n",
    "       res=integrate(f,t)\n",
    "        \n",
    "       pprint(res+C) "
   ]
  },
  {
   "cell_type": "code",
   "execution_count": 5,
   "metadata": {},
   "outputs": [
    {
     "name": "stdout",
     "output_type": "stream",
     "text": [
      "The indefinite integral of  ʃ -4*x**2 + 5*x + 2 dx is \n",
      "       3      2      \n",
      "    4⋅x    5⋅x       \n",
      "C - ──── + ──── + 2⋅x\n",
      "     3      2        \n"
     ]
    }
   ],
   "source": [
    "#1, \n",
    "f=2+5*x-4*x**2\n",
    "Int(f)"
   ]
  },
  {
   "cell_type": "code",
   "execution_count": 13,
   "metadata": {},
   "outputs": [
    {
     "data": {
      "text/latex": [
       "$\\displaystyle \\frac{x^{2} \\sqrt{36 - x^{2}}}{3} - 12 \\sqrt{36 - x^{2}}$"
      ],
      "text/plain": [
       "x**2*sqrt(36 - x**2)/3 - 12*sqrt(36 - x**2)"
      ]
     },
     "execution_count": 13,
     "metadata": {},
     "output_type": "execute_result"
    }
   ],
   "source": [
    "integrate(f,x)"
   ]
  },
  {
   "cell_type": "code",
   "execution_count": 17,
   "metadata": {},
   "outputs": [
    {
     "name": "stdout",
     "output_type": "stream",
     "text": [
      "The indefinite integral of  ʃ (3*x**2 + 6)/x dx is \n",
      "       2             \n",
      "    3⋅x              \n",
      "C + ──── + 6⋅log(│x│)\n",
      "     2               \n"
     ]
    }
   ],
   "source": [
    "#2\n",
    "x=Symbol(\"x\",real=True)\n",
    "f=(3*x**2+6)/x\n",
    "Int1(f)"
   ]
  },
  {
   "cell_type": "code",
   "execution_count": 18,
   "metadata": {},
   "outputs": [
    {
     "name": "stdout",
     "output_type": "stream",
     "text": [
      "The indefinite integral of  ʃ x*sqrt(36 - x**2) dx is \n",
      "          _________                  \n",
      "     2   ╱       2          _________\n",
      "    x ⋅╲╱  36 - x          ╱       2 \n",
      "C + ─────────────── - 12⋅╲╱  36 - x  \n",
      "           3                         \n"
     ]
    }
   ],
   "source": [
    "# 3\n",
    "f=x*sqrt(36-x**2)\n",
    "Int(f)"
   ]
  },
  {
   "cell_type": "code",
   "execution_count": 19,
   "metadata": {},
   "outputs": [
    {
     "name": "stdout",
     "output_type": "stream",
     "text": [
      "The indefinite integral of  ʃ sin(6*x)**3 dx is \n",
      "       3                \n",
      "    cos (6⋅x)   cos(6⋅x)\n",
      "C + ───────── - ────────\n",
      "        18         6    \n"
     ]
    }
   ],
   "source": [
    "# 4\n",
    "f=sin(6*x)**3\n",
    "Int(f)"
   ]
  },
  {
   "cell_type": "code",
   "execution_count": 20,
   "metadata": {},
   "outputs": [
    {
     "name": "stdout",
     "output_type": "stream",
     "text": [
      "The indefinite integral of  ʃ exp(5*x)*sin(3*x) dx is \n",
      "       5⋅x               5⋅x         \n",
      "    5⋅ℯ   ⋅sin(3⋅x)   3⋅ℯ   ⋅cos(3⋅x)\n",
      "C + ─────────────── - ───────────────\n",
      "           34                34      \n"
     ]
    }
   ],
   "source": [
    "#5 \n",
    "f=exp(5*x)*sin(3*x)\n",
    "Int(f)"
   ]
  },
  {
   "cell_type": "code",
   "execution_count": 21,
   "metadata": {},
   "outputs": [
    {
     "name": "stdout",
     "output_type": "stream",
     "text": [
      "The indefinite integral of  ʃ sin(2*x)**2 dx is \n",
      "    x   sin(2⋅x)⋅cos(2⋅x)\n",
      "C + ─ - ─────────────────\n",
      "    2           4        \n"
     ]
    }
   ],
   "source": [
    "# 6\n",
    "f=sin(2*x)**2\n",
    "Int(f)"
   ]
  },
  {
   "cell_type": "code",
   "execution_count": 27,
   "metadata": {},
   "outputs": [
    {
     "name": "stdout",
     "output_type": "stream",
     "text": [
      "                           1\n",
      "The definite integral of  ʃ x**6*log(x) dx is \n",
      "                           exp(-1)\n",
      "          -7\n",
      "  1    8⋅ℯ  \n",
      "- ── + ─────\n",
      "  49     49 \n"
     ]
    }
   ],
   "source": [
    "# 7\n",
    "f=x**6*log(x)\n",
    "Int(f,exp(-1),1)"
   ]
  },
  {
   "cell_type": "code",
   "execution_count": 53,
   "metadata": {},
   "outputs": [
    {
     "name": "stdout",
     "output_type": "stream",
     "text": [
      "The indefinite integral of  ʃ x/(x**3 - 5*x) dx is \n",
      "    √5⋅log(│x - √5│)   √5⋅log(│x + √5│)\n",
      "C + ──────────────── - ────────────────\n",
      "           10                 10       \n"
     ]
    }
   ],
   "source": [
    "#8\n",
    "f=x/(x**3-5*x)\n",
    "Int1(f)"
   ]
  },
  {
   "cell_type": "code",
   "execution_count": 29,
   "metadata": {},
   "outputs": [
    {
     "name": "stdout",
     "output_type": "stream",
     "text": [
      "                           4\n",
      "The definite integral of  ʃ x**2/(6*x**2 + 3*x) dx is \n",
      "                           2\n",
      "  log(9)   log(5)   1\n",
      "- ────── + ────── + ─\n",
      "    12       12     3\n"
     ]
    }
   ],
   "source": [
    "#9\n",
    "f=x**2/(6*x**2+3*x)\n",
    "Int(f,2,4)"
   ]
  },
  {
   "cell_type": "code",
   "execution_count": 30,
   "metadata": {},
   "outputs": [
    {
     "name": "stdout",
     "output_type": "stream",
     "text": [
      "The indefinite integral of  ʃ cos(5*x)*cos(6*x) dx is \n",
      "    5⋅sin(5⋅x)⋅cos(6⋅x)   6⋅sin(6⋅x)⋅cos(5⋅x)\n",
      "C - ─────────────────── + ───────────────────\n",
      "             11                    11        \n"
     ]
    }
   ],
   "source": [
    "#10\n",
    "f=cos(6*x)*cos(5*x)\n",
    "Int(f)"
   ]
  },
  {
   "cell_type": "code",
   "execution_count": 32,
   "metadata": {},
   "outputs": [
    {
     "name": "stdout",
     "output_type": "stream",
     "text": [
      "The indefinite integral of  ʃ cos(x)/(sin(x)**2 - 6) dx is \n",
      "    √6⋅log(│sin(x) - √6│)   √6⋅log(│sin(x) + √6│)\n",
      "C + ───────────────────── - ─────────────────────\n",
      "              12                      12         \n"
     ]
    }
   ],
   "source": [
    "#11\n",
    "f=cos(x)/(sin(x)**2-6)\n",
    "Int1(f)"
   ]
  },
  {
   "cell_type": "code",
   "execution_count": 33,
   "metadata": {},
   "outputs": [
    {
     "name": "stdout",
     "output_type": "stream",
     "text": [
      "The indefinite integral of  ʃ 1/sqrt(1 - x**2) dx is \n",
      "C + re(asin(x))\n"
     ]
    }
   ],
   "source": [
    "#12, a)\n",
    "f=1/sqrt(1-x**2)\n",
    "Int1(f)"
   ]
  },
  {
   "cell_type": "code",
   "execution_count": 41,
   "metadata": {},
   "outputs": [
    {
     "name": "stdout",
     "output_type": "stream",
     "text": [
      "By replacing t=x-1, 1/sqrt(-x**2 + 2*x + 1) -> 1/sqrt(2 - t**2)\n",
      "The indefinite integral of  ʃ 1/sqrt(2 - t**2) dx is \n",
      "        ⎛√2⋅t⎞\n",
      "C + asin⎜────⎟\n",
      "        ⎝ 2  ⎠\n"
     ]
    }
   ],
   "source": [
    "#12, b)\n",
    "f=1/sqrt(1+2*x-x**2)\n",
    "g= 1/sqrt(2-t**2)\n",
    "print(\"By replacing t=x-1, %s -> %s\" %(f,g))\n",
    "Int2(g)"
   ]
  },
  {
   "cell_type": "code",
   "execution_count": 42,
   "metadata": {},
   "outputs": [
    {
     "name": "stdout",
     "output_type": "stream",
     "text": [
      "                           pi/2\n",
      "The definite integral of  ʃ cos(x) dx is \n",
      "                           0\n",
      "1\n"
     ]
    }
   ],
   "source": [
    "#13\n",
    "f=cos(x)\n",
    "Int(f,0,pi/2)"
   ]
  },
  {
   "cell_type": "code",
   "execution_count": 43,
   "metadata": {},
   "outputs": [
    {
     "name": "stdout",
     "output_type": "stream",
     "text": [
      "                           3\n",
      "The definite integral of  ʃ pi*(9 - x**2) dx is \n",
      "                           0\n",
      "18⋅π\n"
     ]
    }
   ],
   "source": [
    "#14\n",
    "f=sqrt(9-x**2)\n",
    "Int(pi*f**2,0,3)"
   ]
  },
  {
   "cell_type": "code",
   "execution_count": 45,
   "metadata": {},
   "outputs": [
    {
     "name": "stdout",
     "output_type": "stream",
     "text": [
      "                           1\n",
      "The definite integral of  ʃ 2*pi*x*(x**2 + 4)**0.333333333333333 dx is \n",
      "                           0\n",
      "1.65020664413302⋅π\n"
     ]
    }
   ],
   "source": [
    "#15\n",
    "f= 2*pi*x*(4+x**2)**(1/3)\n",
    "Int(f,0,1)"
   ]
  },
  {
   "cell_type": "code",
   "execution_count": 51,
   "metadata": {},
   "outputs": [
    {
     "name": "stdout",
     "output_type": "stream",
     "text": [
      "The arc length of graph of f=sqrt(4 - x**2) from x=0 to x=sqrt(3) is:\n",
      "                           sqrt(3)\n",
      "The definite integral of  ʃ sqrt(x**2/(4 - x**2) + 1) dx is \n",
      "                           0\n",
      "2⋅π\n",
      "───\n",
      " 3 \n"
     ]
    }
   ],
   "source": [
    "#16\n",
    "f=sqrt(4-x**2)\n",
    "g=sqrt(1+ (diff(f,x))**2)\n",
    "a=0\n",
    "b=sqrt(3)\n",
    "print(\"The arc length of graph of f=%s from x=%s to x=%s is:\" %(f,a,b))\n",
    "Int(g,a,b)"
   ]
  },
  {
   "cell_type": "code",
   "execution_count": null,
   "metadata": {},
   "outputs": [],
   "source": []
  }
 ],
 "metadata": {
  "kernelspec": {
   "display_name": "Python 3",
   "language": "python",
   "name": "python3"
  },
  "language_info": {
   "codemirror_mode": {
    "name": "ipython",
    "version": 3
   },
   "file_extension": ".py",
   "mimetype": "text/x-python",
   "name": "python",
   "nbconvert_exporter": "python",
   "pygments_lexer": "ipython3",
   "version": "3.8.5"
  },
  "toc": {
   "colors": {
    "hover_highlight": "#DAA520",
    "navigate_num": "#000000",
    "navigate_text": "#333333",
    "running_highlight": "#FF0000",
    "selected_highlight": "#FFD700",
    "sidebar_border": "#EEEEEE",
    "wrapper_background": "#FFFFFF"
   },
   "moveMenuLeft": true,
   "nav_menu": {
    "height": "102px",
    "width": "252px"
   },
   "navigate_menu": true,
   "number_sections": true,
   "sideBar": true,
   "threshold": 4,
   "toc_cell": false,
   "toc_section_display": "block",
   "toc_window_display": false,
   "widenNotebook": false
  },
  "widgets": {
   "state": {},
   "version": "2.0.10"
  }
 },
 "nbformat": 4,
 "nbformat_minor": 1
}
