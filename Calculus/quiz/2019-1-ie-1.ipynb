{
 "cells": [
  {
   "cell_type": "markdown",
   "metadata": {},
   "source": [
    "# <div align=\"center\">Calculus, 2019-1-IE-1</div>\n",
    "\n",
    "<h3><div align=\"right\">Name:&nbsp;&nbsp;&nbsp;&nbsp;&nbsp;&nbsp;&nbsp;&nbsp;&nbsp;&nbsp;&nbsp;&nbsp;&nbsp;&nbsp;&nbsp;&nbsp;&nbsp;&nbsp;&nbsp;&nbsp;&nbsp;&nbsp;&nbsp;&nbsp;  Sequence Number:&nbsp;&nbsp;&nbsp;&nbsp;&nbsp;&nbsp;&nbsp;&nbsp;&nbsp;&nbsp;&nbsp;&nbsp;&nbsp;&nbsp;&nbsp;&nbsp;&nbsp;&nbsp;&nbsp;&nbsp;&nbsp;&nbsp;&nbsp;&nbsp;</div></h3>\n"
   ]
  },
  {
   "cell_type": "markdown",
   "metadata": {
    "collapsed": true
   },
   "source": [
    "<big>\n",
    "<big><b>1$^\\circ$). </b> </big>\n",
    "Find the following limits: (total 10%, each 5%) <br>\n",
    "a$^\\circ$). $\\mathbf{\\lim\\limits_{x\\to-2^{-}}[-x]-[x]}$ where $\\mathbf{[x]}$ is the greatest integer function that no more $\\mathbf{x}$.<br>\n",
    "b$^\\circ$). $\\mathbf{\\lim\\limits_{x \\rightarrow \\pi/2} \\displaystyle{\\frac{x-\\pi/2 }{\\sin(\\pi/2-x)}}}$\n",
    "</big> "
   ]
  },
  {
   "cell_type": "markdown",
   "metadata": {},
   "source": [
    "<big>\n",
    "<big><b>2$^\\circ$).</b></big>\n",
    "Evaluate the following derivatives of given functions: (total 49%, each 7% ($\\color{brown}{\\times7}$))<br />\n",
    "a$^\\circ$). $\\mathbf{\\left(\\sqrt{1 + x^2}\\right)'}$\n",
    "b$^\\circ$). $\\mathbf{\\left[\\displaystyle{\\frac{x-x^{1/3}}{x}}\\right]'}$\n",
    "c$^\\circ$). $\\mathbf{\\left[x^2 \\cos x \\right]'}$\n",
    "d$^\\circ$). $\\mathbf{\\left[\\displaystyle{\\frac{1+x}{1-x^2}} \\right]'}$\n",
    "<br />\n",
    "e$^\\circ$). $\\mathbf{\\left.\\frac{d }{dx}(x^{-1}-4x+3)\\right|_{x=3} }$\n",
    "f$^\\circ$). $\\mathbf{\\frac{d }{dx}x^{-x/2} }$\n",
    "g$^\\circ$). $\\mathbf{D_x\\left(\\log_{10} x^2\\right)}$<br />\n",
    "</big> "
   ]
  },
  {
   "cell_type": "markdown",
   "metadata": {
    "collapsed": true
   },
   "source": [
    "<big>\n",
    "<big><b>3$^\\circ$).</b> </big>(total 12%, <font color=\"brown\">a$^\\circ$). 5%</font> and b$^\\circ$). <font color=\"brown\">7%)</font><br>\n",
    "a$^\\circ$). \n",
    "Suppose that \n",
    "$$ \\mathbf{f(x)=x \\exp(-x)\\text{ where } x\\in{\\mathbb R}}$$\n",
    "Find the third derivative of $\\mathbf{f(x)}$,  $\\mathbf{f''(x)}$.\n",
    "<br />\n",
    "b$^\\circ$). Suppose that $x,y\\in\\mathbb{R}$ satisfy:\n",
    "$$\\mathbf{ x^3+y^3=3x y}$$\n",
    "Find the derivative of $y$ (5%), and find the positions of $(x,y)$ at which there is( are) horizontal tanget line(s) (2%). \n",
    "</big> "
   ]
  },
  {
   "cell_type": "markdown",
   "metadata": {
    "collapsed": true
   },
   "source": [
    "<big>\n",
    "<big><b>4$^\\circ$). </b> </big>(10%)\n",
    "Suppose that $\\mathbf{f(x)=x\\sqrt{4^2-x^2}}$ for $\\mathbf{|x|\\le4}$. <br>\n",
    "a$^\\circ$). (5%) Find the critical values for $\\mathbf{f(x)}$ and determine the monotoncity of $\\mathbf{f(x)}$.\n",
    "\n",
    "b$^\\circ$). (5%) Find extrema for $\\mathbf{f(x)}$ if any.\n",
    "</big> "
   ]
  },
  {
   "cell_type": "markdown",
   "metadata": {
    "collapsed": true
   },
   "source": [
    "<big>\n",
    "<big><b>5$^\\circ$).</b></big> (15%)\n",
    "Suppose that  $\\mathbf{f (x) = x^2\\exp{(-x)}}$ for $\\mathbf{x \\in \\mathbb{R^+}=\\{x\\ge0\\}}$. <br>\n",
    "a$^\\circ$). (5%) Find all the critical values of $\\mathbf{f(x)}$.<br>\n",
    "b$^\\circ$). (5%) Find the inflection point (2%) if any and determine the concavity of  $\\mathbf{f (x)}$ (3%). <br>    \n",
    "c$^\\circ$). (5%) Find all the relative and absolute extreme values of $\\mathbf{f (x)}$ if any. \n",
    "</big> "
   ]
  },
  {
   "cell_type": "markdown",
   "metadata": {
    "collapsed": true
   },
   "source": [
    "<big>\n",
    "<big><b>6$^\\circ$).</b></big> (total 10%, each 5%) Describe the following Theorem:<br>\n",
    "    a$^\\circ$). Mean Vaule Theorem. <br>\n",
    "b$^\\circ$). Find the $\\mathbf{c}$ in a$^\\circ$) for $\\mathbf{f(x)=4x-1/x}$ over $[1,4]$. \n",
    "</big> "
   ]
  },
  {
   "cell_type": "markdown",
   "metadata": {
    "collapsed": true
   },
   "source": [
    "\n",
    "\n",
    "\n",
    "\n",
    "\n",
    "\n",
    "\n",
    "\n",
    "\n",
    "\n",
    "\n",
    "\n",
    "\n",
    "\n",
    "\n",
    "\n",
    "\n",
    "\n",
    "\n",
    "\n",
    "\n",
    "\n",
    "\n",
    "\n",
    "\n",
    "\n",
    "\n",
    "\n",
    "\n",
    "\n",
    "\n"
   ]
  },
  {
   "cell_type": "markdown",
   "metadata": {
    "collapsed": true
   },
   "source": [
    "Answer\n",
    "---"
   ]
  },
  {
   "cell_type": "code",
   "execution_count": 23,
   "metadata": {},
   "outputs": [],
   "source": [
    "from sympy import symbols, pprint,limit,diff,sin,sqrt,cos,solve,Derivative,Function,floor,exp"
   ]
  },
  {
   "cell_type": "code",
   "execution_count": 5,
   "metadata": {},
   "outputs": [],
   "source": [
    "x,w =symbols(\"x w\")"
   ]
  },
  {
   "cell_type": "code",
   "execution_count": 10,
   "metadata": {},
   "outputs": [
    {
     "name": "stdout",
     "output_type": "stream",
     "text": [
      "1. a) The limit of [x]-[-x] at x=-1⁺, is:\n",
      "-1\n"
     ]
    }
   ],
   "source": [
    "# 1. a)\n",
    "print(\"1. a) The limit of [x]-[-x] at x=-1⁺, is:\")\n",
    "pprint(limit((floor(x)-floor(-x)),x,-1))"
   ]
  },
  {
   "cell_type": "code",
   "execution_count": 11,
   "metadata": {},
   "outputs": [
    {
     "name": "stdout",
     "output_type": "stream",
     "text": [
      "1. b) The limit of (x^3-1)/(x-1) at x=1,, is:\n",
      "3\n"
     ]
    }
   ],
   "source": [
    "#1. b)\n",
    "print(\"1. b) The limit of (x^3-1)/(x-1) at x=1,, is:\")\n",
    "pprint(limit((x**3-1)/(x-1),x,1))"
   ]
  },
  {
   "cell_type": "code",
   "execution_count": 13,
   "metadata": {},
   "outputs": [
    {
     "name": "stdout",
     "output_type": "stream",
     "text": [
      "2. a) The derivatice of √(x^2+x+1), is:\n",
      "    x + 1/2    \n",
      "───────────────\n",
      "   ____________\n",
      "  ╱  2         \n",
      "╲╱  x  + x + 1 \n"
     ]
    }
   ],
   "source": [
    "#2. a)\n",
    "print(\"2. a) The derivatice of √(x^2+x+1), is:\")\n",
    "pprint(diff(sqrt(x*x+x+1),x))"
   ]
  },
  {
   "cell_type": "code",
   "execution_count": 15,
   "metadata": {},
   "outputs": [
    {
     "name": "stdout",
     "output_type": "stream",
     "text": [
      "2. b) The derivatice of (x*x-1)/x, is:\n",
      "1\n"
     ]
    }
   ],
   "source": [
    "#2. b)\n",
    "print(\"2. b) The derivatice of (x*x-1)/x, is:\")\n",
    "pprint(diff(x-1,x))"
   ]
  },
  {
   "cell_type": "code",
   "execution_count": 16,
   "metadata": {},
   "outputs": [
    {
     "name": "stdout",
     "output_type": "stream",
     "text": [
      "2. c) The derivatice of x sin x, is:\n",
      "x⋅cos(x) + sin(x)\n"
     ]
    }
   ],
   "source": [
    "#2. c)\n",
    "print(\"2. c) The derivatice of x sin x, is:\")\n",
    "pprint(diff(x*sin(x),x))"
   ]
  },
  {
   "cell_type": "code",
   "execution_count": 17,
   "metadata": {},
   "outputs": [
    {
     "name": "stdout",
     "output_type": "stream",
     "text": [
      "2. d) The derivatice of (1-x)/(1+x^2), is:\n",
      "  2⋅x⋅(1 - x)     1   \n",
      "- ─────────── - ──────\n",
      "           2     2    \n",
      "   ⎛ 2    ⎞     x  + 1\n",
      "   ⎝x  + 1⎠           \n"
     ]
    }
   ],
   "source": [
    "#2. d)\n",
    "print(\"2. d) The derivatice of (1-x)/(1+x^2), is:\")\n",
    "pprint(diff((1-x)/(1+x**2),x))"
   ]
  },
  {
   "cell_type": "code",
   "execution_count": 18,
   "metadata": {},
   "outputs": [
    {
     "name": "stdout",
     "output_type": "stream",
     "text": [
      "2. e) The derivatice of x²-4x+3 at x=3, is:\n",
      "2\n"
     ]
    }
   ],
   "source": [
    "#2. e)\n",
    "print(\"2. e) The derivatice of x²-4x+3 at x=3, is:\")\n",
    "pprint(diff(x**2-4*x+3,x).subs({x:3}))"
   ]
  },
  {
   "cell_type": "code",
   "execution_count": 19,
   "metadata": {},
   "outputs": [
    {
     "name": "stdout",
     "output_type": "stream",
     "text": [
      "2. f) The derivatice of √(x²+2), is:\n",
      "     x     \n",
      "───────────\n",
      "   ________\n",
      "  ╱  2     \n",
      "╲╱  x  + 2 \n"
     ]
    }
   ],
   "source": [
    "#2. f)\n",
    "print(\"2. f) The derivatice of √(x²+2), is:\")\n",
    "pprint(diff(sqrt(2+x**2),x))"
   ]
  },
  {
   "cell_type": "code",
   "execution_count": 20,
   "metadata": {},
   "outputs": [
    {
     "name": "stdout",
     "output_type": "stream",
     "text": [
      "2. g) The derivatice of sin(x²), is:\n",
      "       ⎛ 2⎞\n",
      "2⋅x⋅cos⎝x ⎠\n"
     ]
    }
   ],
   "source": [
    "#2. g)\n",
    "print(\"2. g) The derivatice of sin(x²), is:\")\n",
    "pprint(diff(sin(x**2),x))"
   ]
  },
  {
   "cell_type": "markdown",
   "metadata": {},
   "source": [
    "**2.** h)\n",
    "\n",
    "$$ f'(0)=\\lim\\limits_{x\\to0}\\frac{x^2 \\sin (1 / x)-0}{x}=0$$"
   ]
  },
  {
   "cell_type": "code",
   "execution_count": 24,
   "metadata": {},
   "outputs": [
    {
     "name": "stdout",
     "output_type": "stream",
     "text": [
      "3. a) The second-order derivatice of x exp(-x), is:\n",
      "     -x    -x\n",
      "- x⋅ℯ   + ℯ  \n"
     ]
    }
   ],
   "source": [
    "#3. a)\n",
    "print(\"3. a) The second-order derivatice of x exp(-x), is:\")\n",
    "pprint(diff(x*exp(-x)),x,2)"
   ]
  },
  {
   "cell_type": "code",
   "execution_count": 25,
   "metadata": {},
   "outputs": [],
   "source": [
    "def ImplicitDiff(express):\n",
    "    l=diff(express,x);\n",
    "    print(\"y'(x) =\",solve(l,Derivative(y,x))[0])"
   ]
  },
  {
   "cell_type": "code",
   "execution_count": 26,
   "metadata": {},
   "outputs": [
    {
     "name": "stdout",
     "output_type": "stream",
     "text": [
      "3. b) The derivatice of y for x+y^2=xy, is:\n",
      "y'(x) = (1 - y(x))/(x - 2*y(x))\n"
     ]
    }
   ],
   "source": [
    "y=Function(\"y\")\n",
    "y=y(x)\n",
    "print(\"3. b) The derivatice of y for x+y^2=xy, is:\")\n",
    "ImplicitDiff(x+y**2-x*y)"
   ]
  },
  {
   "cell_type": "markdown",
   "metadata": {},
   "source": [
    "If $y'(x)=0$, it implies $y=x^2$. Then\n",
    "$$ x^3+(x^2)^3=3x(x^2)\\to x^3(x^3-2)=0\\to x=0,\\text{ or }2^{1/3}$$ \n",
    "And $x=0$ (not satisfied since it causes the $y'$ fails to exist) or $2^{1/3}$ implies $y=2^{2/3}$."
   ]
  },
  {
   "cell_type": "markdown",
   "metadata": {},
   "source": [
    "**4)**. a)\n",
    "- critical values:\n",
    "$$ 0=f' (x) =  (x^4-x+4)'  \\Longrightarrow 0=4x^3-1  \\Longrightarrow x=1/4$$\n",
    "Thus\n",
    "- $x<1/4 \\to f'<0\\to f(x)$ is decreasing;\n",
    "- $x<1/4 \\to f'>0\\to f(x)$ is increasing\n",
    "\n",
    "b)\n",
    "$$f''=12x^2\\ge0$$\n",
    "This means $f$ is always concave upwards and no inflection exists!"
   ]
  },
  {
   "cell_type": "markdown",
   "metadata": {},
   "source": [
    "6) . <br>\n",
    "a). Mean Value Theorem, MVT,\n",
    "Assume that $f (x)$\n",
    "  is continuous on $[a, b]$ and differentiable in $(a, b)$. There exists at\n",
    "  least one $c \\in (a, b)$ such that\n",
    "$$ f' (c) = \\frac{f (b) - f (a)}{b - a} $$"
   ]
  },
  {
   "cell_type": "code",
   "execution_count": null,
   "metadata": {},
   "outputs": [],
   "source": []
  },
  {
   "cell_type": "code",
   "execution_count": null,
   "metadata": {
    "collapsed": true
   },
   "outputs": [],
   "source": []
  }
 ],
 "metadata": {
  "kernelspec": {
   "display_name": "Python 3",
   "language": "python",
   "name": "python3"
  },
  "language_info": {
   "codemirror_mode": {
    "name": "ipython",
    "version": 3
   },
   "file_extension": ".py",
   "mimetype": "text/x-python",
   "name": "python",
   "nbconvert_exporter": "python",
   "pygments_lexer": "ipython3",
   "version": "3.6.9"
  },
  "toc": {
   "colors": {
    "hover_highlight": "#DAA520",
    "navigate_num": "#000000",
    "navigate_text": "#333333",
    "running_highlight": "#FF0000",
    "selected_highlight": "#FFD700",
    "sidebar_border": "#EEEEEE",
    "wrapper_background": "#FFFFFF"
   },
   "moveMenuLeft": true,
   "nav_menu": {
    "height": "102px",
    "width": "252px"
   },
   "navigate_menu": true,
   "number_sections": true,
   "sideBar": true,
   "threshold": 4,
   "toc_cell": false,
   "toc_section_display": "block",
   "toc_window_display": false,
   "widenNotebook": false
  }
 },
 "nbformat": 4,
 "nbformat_minor": 1
}
