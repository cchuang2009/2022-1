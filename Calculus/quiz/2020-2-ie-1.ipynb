{
 "cells": [
  {
   "cell_type": "markdown",
   "metadata": {},
   "source": [
    "<big><big><b><div align=\"center\">Calculus, 2020-2-IE-1</div></b></big></big>\n",
    "\n",
    "<h3><div align=\"left\">Name:&nbsp;&nbsp;&nbsp;&nbsp;&nbsp;&nbsp;&nbsp;&nbsp;&nbsp;&nbsp;&nbsp;&nbsp;&nbsp;&nbsp;&nbsp;&nbsp;&nbsp;&nbsp;&nbsp;&nbsp;&nbsp;&nbsp;&nbsp;&nbsp;  Sequence Number:&nbsp;&nbsp;&nbsp;&nbsp;&nbsp;&nbsp;&nbsp;&nbsp;&nbsp;&nbsp;&nbsp;&nbsp;&nbsp;&nbsp;&nbsp;&nbsp;&nbsp;&nbsp;&nbsp;&nbsp;&nbsp;&nbsp;&nbsp;&nbsp;</div></h3>"
   ]
  },
  {
   "cell_type": "markdown",
   "metadata": {
    "collapsed": true
   },
   "source": [
    "<big>\n",
    "    <big><b>1$^\\circ$). True or False (total 20%, each 2%)</b></big>\n",
    "\n",
    "<b>a$^\\circ$). $(\\quad)$</b>  An infinite non-decreasing sequence with lower bound is convergent.<br>\n",
    "<b>b$^\\circ$). $(\\quad)$</b>  Sum of all the terms of convergent infinite sequence is also convergent.<br>\n",
    "<b>c$^\\circ$). $(\\quad)$</b>  Alternating harmonic series is not only convergent but also absolute  convergent.<br>\n",
    "<b>d$^\\circ$). $(\\quad)$</b>  Suppose that Mclaurin's series is convergent. Then its Taylor series is also convergent at any real number $c\\in \\mathbb{R}$.<br>\n",
    "<b>e$^\\circ$). $(\\quad)$</b>  Convergent radius of binomial series is 1.<br>\n",
    "<b>f$^\\circ$). $(\\quad)$</b>  If $\\lim\\limits_{n\\to\\infty}a_n=0$ where  $a_n$ is the $n$-term  of certain infinite series, the infinite series is convergent.<br> \n",
    "<b>g$^\\circ$). $(\\quad)$</b>  Suppose that $a_n\\le b_n$ for $n=1,2,3,\\cdots$. If $\\sum\\limits_{n = 1}^{\\infty}b_n$ is convergent,  $\\sum\\limits_{n = 1}^{\\infty}a_n$ is also convergent.<br> \n",
    "<b>h$^\\circ$). $(\\quad)$</b>  Suppose that $a_n\\le b_n$ for $n=1,2,3,\\cdots$. If $\\sum\\limits_{n = 1}^{\\infty}a_n$ is divergent,  $\\sum\\limits_{n = 1}^{\\infty}b_n$ is also divergent.<br> \n",
    "<b>i$^\\circ$). $(\\quad)$</b>  Exponential function, $\\mathbf{e^x}$, could be expanded as Taylor's series at any point $c\\in\\mathbb{R}$ with convergent radius being $\\infty$.<br>\n",
    "<b>j$^\\circ$). $(\\quad)$</b>  If  Taylor's series of certain function is convergent, its Mclaurin's series is also convergent.<br>\n",
    "   \n",
    "</big> "
   ]
  },
  {
   "cell_type": "markdown",
   "metadata": {
    "collapsed": true
   },
   "source": [
    "<big>\n",
    "<big><b>2$^\\circ$). (8%)</b> \n",
    "Suppose that $\\{a_n\\}_{n=1}^\\infty$ is defined as follows: <br>\n",
    "$$a_1=\\sqrt 2\\text{ and } a_{n+1}=\\sqrt{2+a_n}$$\n",
    "for $n=1,2\\cdots$. Is the sequence is convergent or divergent?(2%) If it is convergent, find out its limit; if not, explain why it is divergent. (6%)     \n",
    "</big> "
   ]
  },
  {
   "cell_type": "markdown",
   "metadata": {
    "collapsed": true
   },
   "source": [
    "<big>\n",
    "<big><b>3$^\\circ$). (8%)</b> \n",
    "Find the limit of  $\\{\\frac{n^p}{e^n}\\}_{n=1,2,\\cdots}$, where $p>0$,  if it is convergent.   \n",
    "</big> "
   ]
  },
  {
   "cell_type": "markdown",
   "metadata": {
    "collapsed": true
   },
   "source": [
    "<big>\n",
    "<big><b>4$^\\circ$). (8%)</b> \n",
    "Find the limit of  $\\{\\cos\\frac{2}{n}\\}_{n=1,2,\\cdots}$,if it is convergent    \n",
    "</big> "
   ]
  },
  {
   "cell_type": "markdown",
   "metadata": {
    "collapsed": true
   },
   "source": [
    "<big>\n",
    "<big><b>5$^\\circ$). (8%)</b> \n",
    "Find the sum of the series  of  $\\sum\\limits_{n=0}^\\infty\\left(\\sin 1 \\right)^n$,  if it is convergent, otherwise explain why it is divergent.    \n",
    "</big> "
   ]
  },
  {
   "cell_type": "markdown",
   "metadata": {
    "collapsed": true
   },
   "source": [
    "<big>\n",
    "<big><b>6$^\\circ$). (8%)</b> \n",
    "Determine  whether the series, $\\sum\\limits_{n=2}^\\infty\\sin\\frac{1}{n}$, is convergent or divergent (4%) and explain your reason (4%).   \n",
    "</big> "
   ]
  },
  {
   "cell_type": "markdown",
   "metadata": {
    "collapsed": true
   },
   "source": [
    "<big>\n",
    "<big><b>7$^\\circ$). (8%)</b> \n",
    "Expand the $f(x)=xe^x$ at $x=0$ (6%) and find its convergent interval (2%).   \n",
    "</big> "
   ]
  },
  {
   "cell_type": "markdown",
   "metadata": {
    "collapsed": true
   },
   "source": [
    "<big>\n",
    "<big><b>8$^\\circ$). (8%)</b> \n",
    "Expand the $f(x)=\\frac{4}{3x+2}$ at $x=3$ (6%) and find its convergent interval (2%). \n",
    "(hint: $3x+2=3(x-3)+11$)    \n",
    "</big> "
   ]
  },
  {
   "cell_type": "markdown",
   "metadata": {
    "collapsed": true
   },
   "source": [
    "<big>\n",
    "<big><b>9$^\\circ$). (8%)</b> \n",
    "Expand the $f(x)=\\mathbf{\\frac{1}{(1-x)^2}}$ at $x=0$ (6%) and find its convergent interval (2%).  \n",
    "</big> "
   ]
  },
  {
   "cell_type": "markdown",
   "metadata": {
    "collapsed": true
   },
   "source": [
    "<big>\n",
    "<big><b>10$^\\circ$). (8%)</b> \n",
    "Expand the $f(x)=\\mathbf{e^{x^2/2}}$ at $x=0$ (6%) and find its convergent interval (2%).   \n",
    "</big> "
   ]
  },
  {
   "cell_type": "markdown",
   "metadata": {
    "collapsed": true
   },
   "source": [
    "<big>\n",
    "<big><b>11$^\\circ$). (8%)</b> \n",
    "Expand the $f(x)=\\ln|1+x|$ at $x=0$ (6%) and find its convergent interval (2%).  \n",
    "(Hint: $\\frac{1}{1+x}=\\sum\\limits_{n=0}^\\infty(-1)^n x^n$)    \n",
    "</big> "
   ]
  },
  {
   "cell_type": "markdown",
   "metadata": {
    "collapsed": true
   },
   "source": [
    " "
   ]
  },
  {
   "cell_type": "markdown",
   "metadata": {
    "collapsed": true
   },
   "source": [
    " "
   ]
  },
  {
   "cell_type": "markdown",
   "metadata": {
    "collapsed": true
   },
   "source": [
    " "
   ]
  },
  {
   "cell_type": "markdown",
   "metadata": {
    "collapsed": true
   },
   "source": [
    " "
   ]
  },
  {
   "cell_type": "markdown",
   "metadata": {
    "collapsed": true
   },
   "source": [
    " "
   ]
  },
  {
   "cell_type": "markdown",
   "metadata": {
    "collapsed": true
   },
   "source": [
    " "
   ]
  },
  {
   "cell_type": "markdown",
   "metadata": {
    "collapsed": true
   },
   "source": [
    " "
   ]
  },
  {
   "cell_type": "markdown",
   "metadata": {
    "collapsed": true
   },
   "source": [
    " "
   ]
  },
  {
   "cell_type": "markdown",
   "metadata": {
    "collapsed": true
   },
   "source": [
    " "
   ]
  },
  {
   "cell_type": "markdown",
   "metadata": {
    "collapsed": true
   },
   "source": [
    " "
   ]
  },
  {
   "cell_type": "markdown",
   "metadata": {
    "collapsed": true
   },
   "source": [
    " "
   ]
  },
  {
   "cell_type": "markdown",
   "metadata": {
    "collapsed": true
   },
   "source": [
    " "
   ]
  },
  {
   "cell_type": "markdown",
   "metadata": {
    "collapsed": true
   },
   "source": [
    " "
   ]
  },
  {
   "cell_type": "markdown",
   "metadata": {
    "collapsed": true
   },
   "source": [
    " "
   ]
  },
  {
   "cell_type": "markdown",
   "metadata": {
    "collapsed": true
   },
   "source": [
    " "
   ]
  },
  {
   "cell_type": "markdown",
   "metadata": {
    "collapsed": true
   },
   "source": [
    " "
   ]
  },
  {
   "cell_type": "markdown",
   "metadata": {
    "collapsed": true
   },
   "source": [
    " "
   ]
  },
  {
   "cell_type": "markdown",
   "metadata": {
    "collapsed": true
   },
   "source": [
    " "
   ]
  },
  {
   "cell_type": "markdown",
   "metadata": {
    "collapsed": true
   },
   "source": [
    " "
   ]
  },
  {
   "cell_type": "markdown",
   "metadata": {
    "collapsed": true
   },
   "source": [
    " "
   ]
  },
  {
   "cell_type": "markdown",
   "metadata": {
    "collapsed": true
   },
   "source": [
    " "
   ]
  },
  {
   "cell_type": "markdown",
   "metadata": {
    "collapsed": true
   },
   "source": [
    " "
   ]
  },
  {
   "cell_type": "markdown",
   "metadata": {
    "collapsed": true
   },
   "source": [
    " "
   ]
  },
  {
   "cell_type": "markdown",
   "metadata": {
    "collapsed": true
   },
   "source": [
    "  "
   ]
  },
  {
   "cell_type": "markdown",
   "metadata": {
    "collapsed": true
   },
   "source": [
    " "
   ]
  },
  {
   "cell_type": "markdown",
   "metadata": {
    "collapsed": true
   },
   "source": [
    "**Answer**\n",
    "\n",
    "1. True: e$^\\circ$), i$^\\circ$),\n",
    "2. convergent, 2%, limit:2 (8%)\n",
    "3. 0 (8%)\n",
    "4. 1 (8%)\n",
    "5. $1/(1-\\sin 1)$, (8%)\n",
    "6. divergent, (4%); by \n",
    "   - $(1/n)/\\sin(1/n)\\to1$\n",
    "   - by limit comparison test, it is divergent since $\\sum1/n$ is divergent.(4%)\n",
    "7. $\\sum\\limits_{n=0}^\\infty\\frac{x^{n+1}}{n!}$, (6%), $x\\in\\mathbb{R}$ (2%)\n",
    "8. $\\frac{4}{11}\\sum\\limits_{n=0}^\\infty\\frac{(-1)^n3^n}{11^n}(x-3)^n$, (6%), $x\\in(-3-9/2,-3+9/2)$ (2%)\n",
    "9. $\\sum\\limits_{n=0}^\\infty(n+1)x^n$, (6%), $x\\in(-1,1)$ (2%)\n",
    "10. $\\sum\\limits_{n=0}^\\infty\\frac{x^{2n}}{2^nn!}$, (6%), $x\\in\\mathbb{R}$ (2%)\n",
    "10. $\\sum\\limits_{n=1}^\\infty(-1)^{n+1}\\frac{x^n}{n}$, (6%), $x\\in(-1,1]$ (2%)\n"
   ]
  },
  {
   "cell_type": "code",
   "execution_count": null,
   "metadata": {},
   "outputs": [],
   "source": []
  }
 ],
 "metadata": {
  "kernelspec": {
   "display_name": "Python 3",
   "language": "python",
   "name": "python3"
  },
  "language_info": {
   "codemirror_mode": {
    "name": "ipython",
    "version": 3
   },
   "file_extension": ".py",
   "mimetype": "text/x-python",
   "name": "python",
   "nbconvert_exporter": "python",
   "pygments_lexer": "ipython3",
   "version": "3.8.5"
  },
  "toc": {
   "colors": {
    "hover_highlight": "#DAA520",
    "navigate_num": "#000000",
    "navigate_text": "#333333",
    "running_highlight": "#FF0000",
    "selected_highlight": "#FFD700",
    "sidebar_border": "#EEEEEE",
    "wrapper_background": "#FFFFFF"
   },
   "moveMenuLeft": true,
   "nav_menu": {
    "height": "49px",
    "width": "252px"
   },
   "navigate_menu": true,
   "number_sections": true,
   "sideBar": true,
   "threshold": 4,
   "toc_cell": false,
   "toc_section_display": "block",
   "toc_window_display": false,
   "widenNotebook": false
  }
 },
 "nbformat": 4,
 "nbformat_minor": 1
}
