{
 "cells": [
  {
   "cell_type": "markdown",
   "metadata": {},
   "source": [
    "<big><big><div align=\"left\"><b><font size=\"+2\">Calculus, 2018-2-IE-2</font></b></div></big></big>\n",
    "\n",
    "<div align=\"left\"> Name: ______________________&nbsp;&nbsp;  \n",
    "    Sequence Number: __________________________</div>\n",
    "    (Due Time 80 minutes.)"
   ]
  },
  {
   "cell_type": "markdown",
   "metadata": {
    "collapsed": true
   },
   "source": [
    "<big>\n",
    "    <big><b>$1^\\circ$). </b> </big>\n",
    "Evaluate the following double integrals. (total 45%, each 15%) <br>\n",
    "a$^\\circ$). <big>$\\mathbf{\\iint\\limits_{\\{ (x, y)| 0\\le x \\le2,0\\le y \\le1 \\}} xy d A}=$ ________ ________ </big> \n",
    "<br>\n",
    "\n",
    "b$^\\circ$). <big>$\\mathbf{\\iint\\limits_{\\{ (x, y) | 0\\le x,y \\text{ and } x^2+y^2\\le4\n",
    "  \\}} (x^2+y^2) d A}$= _______________________ ________  </big>\n",
    "<br>\n",
    "c$^\\circ$). <big>$\\mathbf{\\int_{-\\infty}^\\infty e^{-x^2+3x}d x}$= _______________________ ________  </big>\n",
    "\n",
    "</big> \n",
    "\n"
   ]
  },
  {
   "cell_type": "markdown",
   "metadata": {
    "collapsed": true
   },
   "source": [
    " "
   ]
  },
  {
   "cell_type": "markdown",
   "metadata": {
    "collapsed": true
   },
   "source": [
    " "
   ]
  },
  {
   "cell_type": "markdown",
   "metadata": {
    "collapsed": true
   },
   "source": [
    " "
   ]
  },
  {
   "cell_type": "markdown",
   "metadata": {
    "collapsed": true
   },
   "source": [
    " "
   ]
  },
  {
   "cell_type": "markdown",
   "metadata": {
    "collapsed": true
   },
   "source": [
    " "
   ]
  },
  {
   "cell_type": "markdown",
   "metadata": {
    "collapsed": true
   },
   "source": [
    " "
   ]
  },
  {
   "cell_type": "markdown",
   "metadata": {
    "collapsed": true
   },
   "source": [
    " "
   ]
  },
  {
   "cell_type": "markdown",
   "metadata": {
    "collapsed": true
   },
   "source": [
    " "
   ]
  },
  {
   "cell_type": "markdown",
   "metadata": {
    "collapsed": true
   },
   "source": [
    " "
   ]
  },
  {
   "cell_type": "markdown",
   "metadata": {
    "collapsed": true
   },
   "source": [
    " "
   ]
  },
  {
   "cell_type": "markdown",
   "metadata": {
    "collapsed": true
   },
   "source": [
    " "
   ]
  },
  {
   "cell_type": "markdown",
   "metadata": {
    "collapsed": true
   },
   "source": [
    " "
   ]
  },
  {
   "cell_type": "markdown",
   "metadata": {
    "collapsed": true
   },
   "source": [
    " "
   ]
  },
  {
   "cell_type": "markdown",
   "metadata": {
    "collapsed": true
   },
   "source": [
    " "
   ]
  },
  {
   "cell_type": "markdown",
   "metadata": {
    "collapsed": true
   },
   "source": [
    " "
   ]
  },
  {
   "cell_type": "markdown",
   "metadata": {
    "collapsed": true
   },
   "source": [
    " "
   ]
  },
  {
   "cell_type": "markdown",
   "metadata": {
    "collapsed": true
   },
   "source": [
    " "
   ]
  },
  {
   "cell_type": "markdown",
   "metadata": {
    "collapsed": true
   },
   "source": [
    " "
   ]
  },
  {
   "cell_type": "markdown",
   "metadata": {
    "collapsed": true
   },
   "source": [
    " "
   ]
  },
  {
   "cell_type": "markdown",
   "metadata": {
    "collapsed": true
   },
   "source": [
    " "
   ]
  },
  {
   "cell_type": "markdown",
   "metadata": {
    "collapsed": true
   },
   "source": [
    " "
   ]
  },
  {
   "cell_type": "markdown",
   "metadata": {
    "collapsed": true
   },
   "source": [
    " "
   ]
  },
  {
   "cell_type": "markdown",
   "metadata": {
    "collapsed": true
   },
   "source": [
    " "
   ]
  },
  {
   "cell_type": "markdown",
   "metadata": {
    "collapsed": true
   },
   "source": [
    " "
   ]
  },
  {
   "cell_type": "markdown",
   "metadata": {
    "collapsed": true
   },
   "source": [
    " "
   ]
  },
  {
   "cell_type": "markdown",
   "metadata": {
    "collapsed": true
   },
   "source": [
    " "
   ]
  },
  {
   "cell_type": "markdown",
   "metadata": {
    "collapsed": true
   },
   "source": [
    " "
   ]
  },
  {
   "cell_type": "markdown",
   "metadata": {
    "collapsed": true
   },
   "source": [
    " "
   ]
  },
  {
   "cell_type": "markdown",
   "metadata": {
    "collapsed": true
   },
   "source": [
    " "
   ]
  },
  {
   "cell_type": "markdown",
   "metadata": {
    "collapsed": true
   },
   "source": [
    " "
   ]
  },
  {
   "cell_type": "markdown",
   "metadata": {
    "collapsed": true
   },
   "source": [
    " "
   ]
  },
  {
   "cell_type": "markdown",
   "metadata": {
    "collapsed": true
   },
   "source": [
    " "
   ]
  },
  {
   "cell_type": "markdown",
   "metadata": {
    "collapsed": true
   },
   "source": [
    " "
   ]
  },
  {
   "cell_type": "markdown",
   "metadata": {
    "collapsed": true
   },
   "source": [
    " "
   ]
  },
  {
   "cell_type": "markdown",
   "metadata": {
    "collapsed": true
   },
   "source": [
    " "
   ]
  },
  {
   "cell_type": "markdown",
   "metadata": {
    "collapsed": true
   },
   "source": [
    " "
   ]
  },
  {
   "cell_type": "markdown",
   "metadata": {
    "collapsed": true
   },
   "source": [
    " "
   ]
  },
  {
   "cell_type": "markdown",
   "metadata": {
    "collapsed": true
   },
   "source": [
    " "
   ]
  },
  {
   "cell_type": "markdown",
   "metadata": {
    "collapsed": true
   },
   "source": [
    " "
   ]
  },
  {
   "cell_type": "markdown",
   "metadata": {
    "collapsed": true
   },
   "source": [
    "<big>\n",
    "<big><b>$2^\\circ$).</b></big> Evaluate the following triple integrals. (total 45%, each 15%) \n",
    "\n",
    "a$^\\circ$).<big> $\\mathbf{\\iiint\\limits_{\\left\\{ (x, y, z) \\in \\mathbb{R}^3  \\middle| 0\\le x,y\\le\\pi/2\\text{ and } 1\\le z\\le5\n",
    "\\right\\}} z\\sin(x) d V}$</big>\n",
    "<br>\n",
    "b$^\\circ$). <big>$\\mathbf{\\iiint\\limits_{\\left\\{ (x, y, z) \\in \\mathbb{R}^3  \\middle| x^2+y^2\\le z\\le8-x^2-y^2, 0\\le x^2+y^2\\le1 \\right\\}} 1 d V}$ </big>\n",
    "<br>\n",
    "c$^\\circ$).<big> $\\mathbf{\\iiint\\limits_{\\left\\{ (x, y, z) \\in \\mathbb{R}^3  \\middle| \\sqrt{x^2+y^2}\\le z, x^2+y^2+z^2\\le4 \n",
    "\\right\\}} 1 d V}$</big>\n",
    "<br>       \n",
    "</big> "
   ]
  },
  {
   "cell_type": "markdown",
   "metadata": {
    "collapsed": true
   },
   "source": [
    " "
   ]
  },
  {
   "cell_type": "markdown",
   "metadata": {
    "collapsed": true
   },
   "source": [
    " "
   ]
  },
  {
   "cell_type": "markdown",
   "metadata": {
    "collapsed": true
   },
   "source": [
    " "
   ]
  },
  {
   "cell_type": "markdown",
   "metadata": {
    "collapsed": true
   },
   "source": [
    " "
   ]
  },
  {
   "cell_type": "markdown",
   "metadata": {
    "collapsed": true
   },
   "source": [
    " "
   ]
  },
  {
   "cell_type": "markdown",
   "metadata": {
    "collapsed": true
   },
   "source": [
    " "
   ]
  },
  {
   "cell_type": "markdown",
   "metadata": {
    "collapsed": true
   },
   "source": [
    " "
   ]
  },
  {
   "cell_type": "markdown",
   "metadata": {
    "collapsed": true
   },
   "source": [
    " "
   ]
  },
  {
   "cell_type": "markdown",
   "metadata": {
    "collapsed": true
   },
   "source": [
    " "
   ]
  },
  {
   "cell_type": "markdown",
   "metadata": {
    "collapsed": true
   },
   "source": [
    " "
   ]
  },
  {
   "cell_type": "markdown",
   "metadata": {
    "collapsed": true
   },
   "source": [
    " "
   ]
  },
  {
   "cell_type": "markdown",
   "metadata": {
    "collapsed": true
   },
   "source": [
    " "
   ]
  },
  {
   "cell_type": "markdown",
   "metadata": {
    "collapsed": true
   },
   "source": [
    " "
   ]
  },
  {
   "cell_type": "markdown",
   "metadata": {
    "collapsed": true
   },
   "source": [
    " "
   ]
  },
  {
   "cell_type": "markdown",
   "metadata": {
    "collapsed": true
   },
   "source": [
    " "
   ]
  },
  {
   "cell_type": "markdown",
   "metadata": {
    "collapsed": true
   },
   "source": [
    " "
   ]
  },
  {
   "cell_type": "markdown",
   "metadata": {
    "collapsed": true
   },
   "source": [
    " "
   ]
  },
  {
   "cell_type": "markdown",
   "metadata": {
    "collapsed": true
   },
   "source": [
    " "
   ]
  },
  {
   "cell_type": "markdown",
   "metadata": {
    "collapsed": true
   },
   "source": [
    " "
   ]
  },
  {
   "cell_type": "markdown",
   "metadata": {
    "collapsed": true
   },
   "source": [
    " "
   ]
  },
  {
   "cell_type": "markdown",
   "metadata": {
    "collapsed": true
   },
   "source": [
    " "
   ]
  },
  {
   "cell_type": "markdown",
   "metadata": {
    "collapsed": true
   },
   "source": [
    " "
   ]
  },
  {
   "cell_type": "markdown",
   "metadata": {
    "collapsed": true
   },
   "source": [
    " "
   ]
  },
  {
   "cell_type": "markdown",
   "metadata": {
    "collapsed": true
   },
   "source": [
    " "
   ]
  },
  {
   "cell_type": "markdown",
   "metadata": {
    "collapsed": true
   },
   "source": [
    " "
   ]
  },
  {
   "cell_type": "markdown",
   "metadata": {
    "collapsed": true
   },
   "source": [
    " "
   ]
  },
  {
   "cell_type": "markdown",
   "metadata": {
    "collapsed": true
   },
   "source": [
    " "
   ]
  },
  {
   "cell_type": "markdown",
   "metadata": {
    "collapsed": true
   },
   "source": [
    " "
   ]
  },
  {
   "cell_type": "markdown",
   "metadata": {
    "collapsed": true
   },
   "source": [
    " "
   ]
  },
  {
   "cell_type": "markdown",
   "metadata": {
    "collapsed": true
   },
   "source": [
    " "
   ]
  },
  {
   "cell_type": "markdown",
   "metadata": {
    "collapsed": true
   },
   "source": [
    " "
   ]
  },
  {
   "cell_type": "markdown",
   "metadata": {
    "collapsed": true
   },
   "source": [
    " "
   ]
  },
  {
   "cell_type": "markdown",
   "metadata": {
    "collapsed": true
   },
   "source": [
    " "
   ]
  },
  {
   "cell_type": "markdown",
   "metadata": {
    "collapsed": true
   },
   "source": [
    " "
   ]
  },
  {
   "cell_type": "markdown",
   "metadata": {
    "collapsed": true
   },
   "source": [
    " "
   ]
  },
  {
   "cell_type": "markdown",
   "metadata": {
    "collapsed": true
   },
   "source": [
    " "
   ]
  },
  {
   "cell_type": "markdown",
   "metadata": {
    "collapsed": true
   },
   "source": [
    " "
   ]
  },
  {
   "cell_type": "markdown",
   "metadata": {
    "collapsed": true
   },
   "source": [
    " "
   ]
  },
  {
   "cell_type": "markdown",
   "metadata": {
    "collapsed": true
   },
   "source": [
    " "
   ]
  },
  {
   "cell_type": "markdown",
   "metadata": {
    "collapsed": true
   },
   "source": [
    " "
   ]
  },
  {
   "cell_type": "markdown",
   "metadata": {
    "collapsed": true
   },
   "source": [
    " "
   ]
  },
  {
   "cell_type": "markdown",
   "metadata": {
    "collapsed": true
   },
   "source": [
    " "
   ]
  },
  {
   "cell_type": "markdown",
   "metadata": {
    "collapsed": true
   },
   "source": [
    " "
   ]
  },
  {
   "cell_type": "markdown",
   "metadata": {
    "collapsed": true
   },
   "source": [
    " "
   ]
  },
  {
   "cell_type": "markdown",
   "metadata": {
    "collapsed": true
   },
   "source": [
    " "
   ]
  },
  {
   "cell_type": "markdown",
   "metadata": {
    "collapsed": true
   },
   "source": [
    " "
   ]
  },
  {
   "cell_type": "markdown",
   "metadata": {
    "collapsed": true
   },
   "source": [
    " "
   ]
  },
  {
   "cell_type": "markdown",
   "metadata": {
    "collapsed": true
   },
   "source": [
    " "
   ]
  },
  {
   "cell_type": "markdown",
   "metadata": {
    "collapsed": true
   },
   "source": [
    "<big>\n",
    "<big><b>$3^\\circ$).</b></big> Describe the Fubini's Theorem for Double Integral (10%) \n",
    "</big>"
   ]
  },
  {
   "cell_type": "markdown",
   "metadata": {
    "collapsed": true
   },
   "source": [
    " "
   ]
  },
  {
   "cell_type": "markdown",
   "metadata": {
    "collapsed": true
   },
   "source": [
    " "
   ]
  },
  {
   "cell_type": "markdown",
   "metadata": {
    "collapsed": true
   },
   "source": [
    " "
   ]
  },
  {
   "cell_type": "markdown",
   "metadata": {
    "collapsed": true
   },
   "source": [
    " "
   ]
  },
  {
   "cell_type": "markdown",
   "metadata": {
    "collapsed": true
   },
   "source": [
    " "
   ]
  },
  {
   "cell_type": "markdown",
   "metadata": {
    "collapsed": true
   },
   "source": [
    " "
   ]
  },
  {
   "cell_type": "markdown",
   "metadata": {
    "collapsed": true
   },
   "source": [
    " "
   ]
  },
  {
   "cell_type": "markdown",
   "metadata": {
    "collapsed": true
   },
   "source": [
    " "
   ]
  },
  {
   "cell_type": "markdown",
   "metadata": {
    "collapsed": true
   },
   "source": [
    " "
   ]
  },
  {
   "cell_type": "markdown",
   "metadata": {
    "collapsed": true
   },
   "source": [
    " "
   ]
  },
  {
   "cell_type": "markdown",
   "metadata": {
    "collapsed": true
   },
   "source": [
    " "
   ]
  },
  {
   "cell_type": "markdown",
   "metadata": {
    "collapsed": true
   },
   "source": [
    " "
   ]
  },
  {
   "cell_type": "markdown",
   "metadata": {
    "collapsed": true
   },
   "source": [
    " "
   ]
  },
  {
   "cell_type": "markdown",
   "metadata": {},
   "source": [
    "Answer\n",
    "---\n",
    "**1. a)** \n",
    "$$\\mathbf{\n",
    "\\iint\\limits_{\\{ (x, y)| 0\\le x\\le2,0\\le y\\le1\\}} xy d A\n",
    "= \\int_0^2 d x \\int_0^1(xy)dy=1\n",
    "}$$"
   ]
  },
  {
   "cell_type": "markdown",
   "metadata": {},
   "source": [
    "**1. b)** \n",
    "$$\\mathbf{\n",
    "   \\iint\\limits_{\\{ (x, y) | 0\\le x,y \\text{ and } x^2+y^2\\le4\\}} (x^2+y^2) d A=\n",
    "= \\int_0^{\\pi/2} d \\theta \\int_0^{2}r^3dr=2\\pi\n",
    "}$$"
   ]
  },
  {
   "cell_type": "markdown",
   "metadata": {},
   "source": [
    "**1. c)** \n",
    "$$\\mathbf{\\int_{-\\infty}^\\infty e^{-x^2+3x}d x=\\int_{-\\infty}^\\infty e^{-(x^2-3/2)^2+9/4}d x=\\sqrt\\pi e^{9/4}}\n",
    "$$k."
   ]
  },
  {
   "cell_type": "code",
   "execution_count": null,
   "metadata": {},
   "outputs": [],
   "source": []
  },
  {
   "cell_type": "markdown",
   "metadata": {},
   "source": [
    "**2. a)** \n",
    "$$\\mathbf{\n",
    "\\iiint_{\\left\\{ (x, y, z) \\in \\mathbb{R}^3  \\middle| 0\\le x,y\\le\\pi/2\\text{ and } 1\\le z\\le5\n",
    "\\right\\}} z\\sin(x) d V\n",
    "= \\int_{0}^{\\pi/2} d y \\int_{0}^{\\pi/2}dx\\int^{5}_{1} z\\sin(x) dz=6\\pi\n",
    "}$$"
   ]
  },
  {
   "cell_type": "markdown",
   "metadata": {},
   "source": [
    "**2. b)** \n",
    "$$\\mathbf{\n",
    "\\iiint_{\\left\\{ (x, y, z) \\in \\mathbb{R}^3  \\middle| x^2+y^2\\le z\\le8-x^2-y^2, 0\\le x^2+y^2\\le1 \\right\\}} 1 d V\n",
    "= \\int_0^{2\\pi} d \\theta \\int_{0}^{1}dr\\int^{8-r^2}_{r^2} r dr=7\\pi\n",
    "}$$"
   ]
  },
  {
   "cell_type": "markdown",
   "metadata": {},
   "source": [
    "**2. c)** \n",
    "$$\\mathbf{\n",
    "\\iiint_{\\left\\{ (x, y, z) \\in \\mathbb{R}^3  \\middle| \\sqrt{x^2+y^2}\\le z, x^2+y^2+z^2\\le4 \n",
    "\\right\\}} 1 d V\n",
    "= \\int_{0}^{\\pi/4} d \\phi \\int_{0}^{2\\pi}d\\theta\\int^{\\sqrt2}_{0}(\\rho^2\\sin\\phi)d\\rho=\n",
    " \\frac{4}{3}\\left(\\sqrt2-1\\right)\\pi\n",
    "}$$"
   ]
  },
  {
   "cell_type": "code",
   "execution_count": 3,
   "metadata": {},
   "outputs": [],
   "source": [
    "from sympy import log,exp,cos,sin,diff,integrate,symbols,Matrix,sqrt,pi\n",
    "x,y,z=symbols(\"x y z\")\n",
    "r,t= symbols(\"r t\")"
   ]
  },
  {
   "cell_type": "code",
   "execution_count": 4,
   "metadata": {},
   "outputs": [],
   "source": [
    "\n",
    "from sympy import symbols,pprint,integrate,pi,sqrt,sin,cos,diff\n",
    "x,y,z=symbols(\"x y z\")\n",
    "\n",
    "W  = '\\033[0m'  # white (normal)\n",
    "K  = '\\033[30m' # black\n",
    "R  = '\\033[31m' # red\n",
    "G  = '\\033[32m' # green\n",
    "O  = '\\033[1;33m' # orange\n",
    "B  = '\\033[34m' # blue\n",
    "P  = '\\033[35m' # purple\n",
    "T =  '\\033[1;33;47m' #Title\n",
    "\n",
    "def doubleInt3(f,X,xr,yr):\n",
    "    Iy=integrate(f,[X[1],yr[0],yr[1]])\n",
    "    I=integrate(Iy,[X[0],xr[0],xr[1]])\n",
    "    #print(\"  %s \\t  %s\" %(xr[1],yr[1]))\n",
    "    yrs=str(yr[1])\n",
    "    xrs=' '+str(xr[1])\n",
    "    print(xrs.ljust(9,' ')+yrs)\n",
    "    print(\"ʃ   d\",R+'{}'.format(X[0]),K+\"ʃ \",B+\"{}\".format(f),K+\" d\",R+\"{}\".format(X[1]),K+\" = \",\"{}\".format(I)) \n",
    "    \n",
    "    yrs0=str(yr[0])\n",
    "    xrs0=str(xr[0])\n",
    "    print(xrs0.ljust(8,' ')+yrs0)\n",
    "    return I"
   ]
  },
  {
   "cell_type": "code",
   "execution_count": 6,
   "metadata": {},
   "outputs": [
    {
     "name": "stdout",
     "output_type": "stream",
     "text": [
      " 2       1\n",
      "ʃ   d \u001b[31mx \u001b[30mʃ  \u001b[34mx*y \u001b[30m d \u001b[31my \u001b[30m =  1\n",
      "0       0\n"
     ]
    }
   ],
   "source": [
    "# 1. a)\n",
    "f=x*y\n",
    "I=doubleInt3(f,[x,y],[0,2],[0,1])"
   ]
  },
  {
   "cell_type": "code",
   "execution_count": 9,
   "metadata": {},
   "outputs": [
    {
     "name": "stdout",
     "output_type": "stream",
     "text": [
      " pi/2    2\n",
      "ʃ   d \u001b[31mt \u001b[30mʃ  \u001b[34mr**3 \u001b[30m d \u001b[31mr \u001b[30m =  2*pi\n",
      "0       0\n"
     ]
    }
   ],
   "source": [
    "# 1. b)\n",
    "from sympy import pi,sqrt,sin,cos,exp\n",
    "\n",
    "g=r*r*r\n",
    "I=doubleInt3(g,[t,r],[0,pi/2],[0,2])"
   ]
  },
  {
   "cell_type": "markdown",
   "metadata": {},
   "source": [
    "<big>**2.**</big> "
   ]
  },
  {
   "cell_type": "code",
   "execution_count": 10,
   "metadata": {},
   "outputs": [],
   "source": [
    "def tripleInt3(f,X,xr,yr,zr):\n",
    "    Iz=integrate(f,[X[2],zr[0],zr[1]])\n",
    "    Iy=integrate(Iz,[X[1],yr[0],yr[1]])\n",
    "    Ix=integrate(Iy,[X[0],xr[0],xr[1]])\n",
    "    zrs=' '+str(zr[1])\n",
    "    yrs=str(yr[1])\n",
    "    xrs=' '+str(xr[1])\n",
    "    print(xrs.ljust(9,' ')+O+yrs.ljust(7,' ')+B+zrs)\n",
    "    #print(\"  %s \\t  %s  \\t  %s\" %(xr[1],yr[1],zr[1]))\n",
    "    print(\"ʃ   d\",R+'{}'.format(X[0]),\n",
    "        K+\"ʃ   d\",R+'{}'.format(X[1]),\n",
    "        K+\"ʃ \",B+\"{}\".format(f),K+\"  d\",R+\"{}\".format(X[2]),K+\" = \",\"{}\".format(Ix))   \n",
    "    zrs1=' '+str(zr[0])\n",
    "    yrs1=str(yr[0])\n",
    "    xrs1=' '+str(xr[0])\n",
    "    print(xrs1.ljust(8,' ')+O+yrs1.ljust(7,' ')+B+zrs1)\n",
    "    #print(\" %s \\t %s  \\t %s\" %(xr[0],yr[0],zr[0]))\n",
    "    return Ix"
   ]
  },
  {
   "cell_type": "code",
   "execution_count": 13,
   "metadata": {},
   "outputs": [
    {
     "name": "stdout",
     "output_type": "stream",
     "text": [
      " pi/2    \u001b[1;33mpi/2   \u001b[34m 5\n",
      "ʃ   d \u001b[31my \u001b[30mʃ   d \u001b[31mx \u001b[30mʃ  \u001b[34mz*sin(x) \u001b[30m  d \u001b[31mz \u001b[30m =  6*pi\n",
      " 0      \u001b[1;33m0      \u001b[34m 1\n"
     ]
    },
    {
     "data": {
      "text/plain": [
       "6*pi"
      ]
     },
     "execution_count": 13,
     "metadata": {},
     "output_type": "execute_result"
    }
   ],
   "source": [
    "#2. a)\n",
    "tripleInt3(z*sin(x),[y,x,z],[0,pi/2],[0,pi/2],[1,5])"
   ]
  },
  {
   "cell_type": "code",
   "execution_count": 19,
   "metadata": {},
   "outputs": [
    {
     "name": "stdout",
     "output_type": "stream",
     "text": [
      " 1       \u001b[1;33m2*pi   \u001b[34m -r**2 + 8\n",
      "ʃ   d \u001b[31mr \u001b[30mʃ   d \u001b[31m𝜽 \u001b[30mʃ  \u001b[34mr \u001b[30m  d \u001b[31mz \u001b[30m =  7*pi\n",
      " 0      \u001b[1;33m0      \u001b[34m r**2\n"
     ]
    },
    {
     "data": {
      "text/plain": [
       "7*pi"
      ]
     },
     "execution_count": 19,
     "metadata": {},
     "output_type": "execute_result"
    }
   ],
   "source": [
    "#2. b)\n",
    "r,t,h,k,a,b,c,rho,p,u,v=symbols(\"r 𝜽 h k a b c 𝝆 𝝓 u v\")\n",
    "h=r*sin(p)/2\n",
    "tripleInt3(r,[r,t,z],[0,1],[0,2*pi],[r*r,8-r*r])"
   ]
  },
  {
   "cell_type": "code",
   "execution_count": 18,
   "metadata": {},
   "outputs": [
    {
     "name": "stdout",
     "output_type": "stream",
     "text": [
      " pi/4    \u001b[1;33m2*pi   \u001b[34m sqrt(2)\n",
      "ʃ   d \u001b[31m𝝓 \u001b[30mʃ   d \u001b[31m𝜽 \u001b[30mʃ  \u001b[34m𝝆**2*sin(𝝓) \u001b[30m  d \u001b[31m𝝆 \u001b[30m =  -4*pi/3 + 4*sqrt(2)*pi/3\n",
      " 0      \u001b[1;33m0      \u001b[34m 0\n"
     ]
    },
    {
     "data": {
      "text/plain": [
       "-4*pi/3 + 4*sqrt(2)*pi/3"
      ]
     },
     "execution_count": 18,
     "metadata": {},
     "output_type": "execute_result"
    }
   ],
   "source": [
    "#2 c)\n",
    "tripleInt3(rho*rho*sin(p),[p,t,rho],[0,pi/4],[0,2*pi],[0,sqrt(2)])"
   ]
  },
  {
   "cell_type": "markdown",
   "metadata": {
    "collapsed": true
   },
   "source": [
    "<big>\n",
    "<big><b>$3^\\circ$).</b></big> Fubini's Theorem for Double Integral (10%) \n",
    "If $f (x, y)$ is continuous over $D$,\n",
    "\n",
    "- and $D$=$\\{ (x, y) | a \\leqslant x \\leqslant b, g_1 (x) \\leqslant y\n",
    "    \\leqslant g_2 (x) \\},$    \n",
    "$$ \\mathbf{\\iint\\limits_D f (x, y) d A = \\int_a^b d x\n",
    "       \\int_{g_1 (x)}^{g_{_2 (x)}} f (x, y) d y }$$\n",
    "- and $D$=$\\{ (x, y) | c \\leqslant y \\leqslant d, h_1 (y) \\leqslant x\n",
    "    \\leqslant h_2 (y) \\},$\n",
    "\n",
    "$$\\mathbf{ \\iint\\limits_Df (x, y) d A = \\int_c^d d y\n",
    "       \\int_{h_1 (y)}^{h_{_2 (y)}} f (x, y) d x }$$    \n",
    "    \n",
    "</big>"
   ]
  },
  {
   "cell_type": "code",
   "execution_count": null,
   "metadata": {},
   "outputs": [],
   "source": []
  }
 ],
 "metadata": {
  "kernelspec": {
   "display_name": "Python 3",
   "language": "python",
   "name": "python3"
  },
  "language_info": {
   "codemirror_mode": {
    "name": "ipython",
    "version": 3
   },
   "file_extension": ".py",
   "mimetype": "text/x-python",
   "name": "python",
   "nbconvert_exporter": "python",
   "pygments_lexer": "ipython3",
   "version": "3.6.5"
  },
  "toc": {
   "colors": {
    "hover_highlight": "#DAA520",
    "navigate_num": "#000000",
    "navigate_text": "#333333",
    "running_highlight": "#FF0000",
    "selected_highlight": "#FFD700",
    "sidebar_border": "#EEEEEE",
    "wrapper_background": "#FFFFFF"
   },
   "moveMenuLeft": true,
   "nav_menu": {
    "height": "84px",
    "width": "252px"
   },
   "navigate_menu": true,
   "number_sections": true,
   "sideBar": true,
   "threshold": 4,
   "toc_cell": false,
   "toc_section_display": "block",
   "toc_window_display": false,
   "widenNotebook": false
  }
 },
 "nbformat": 4,
 "nbformat_minor": 1
}
