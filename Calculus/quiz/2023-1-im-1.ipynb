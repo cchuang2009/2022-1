{
 "cells": [
  {
   "cell_type": "markdown",
   "metadata": {},
   "source": [
    "# <div align=\"center\">Calculus, 2023-1-IM-1</div>\n",
    "\n",
    "<big><div align=\"right\">Name:&nbsp;&nbsp;&nbsp;&nbsp;&nbsp;&nbsp;&nbsp;&nbsp;&nbsp;&nbsp;&nbsp;&nbsp;&nbsp;&nbsp;&nbsp;&nbsp;&nbsp;&nbsp;&nbsp;&nbsp;&nbsp;&nbsp;&nbsp;&nbsp;  Sequence Number:&nbsp;&nbsp;&nbsp;&nbsp;&nbsp;&nbsp;&nbsp;&nbsp;&nbsp;&nbsp;&nbsp;&nbsp;&nbsp;&nbsp;&nbsp;&nbsp;&nbsp;&nbsp;&nbsp;&nbsp;&nbsp;&nbsp;&nbsp;&nbsp;</div></big>\n"
   ]
  },
  {
   "cell_type": "markdown",
   "metadata": {},
   "source": [
    "<big>\n",
    "<big>\n",
    "1. For the functions:<br>\n",
    "$$  i^\\circ)\\quad f(x)=\\sqrt{x^2+4},\\quad \n",
    "   ii^\\circ)\\quad f(x)=x^2+x^{-2} \n",
    "$$ \n",
    "where $\\sqrt{x}$ means its square root of $x$. Find their maximal domain at which they are continuous. (tatal 10%, each 5%)"
   ]
  },
  {
   "cell_type": "markdown",
   "metadata": {},
   "source": []
  },
  {
   "cell_type": "markdown",
   "metadata": {},
   "source": []
  },
  {
   "cell_type": "markdown",
   "metadata": {},
   "source": []
  },
  {
   "cell_type": "markdown",
   "metadata": {},
   "source": []
  },
  {
   "cell_type": "markdown",
   "metadata": {},
   "source": []
  },
  {
   "cell_type": "markdown",
   "metadata": {},
   "source": []
  },
  {
   "cell_type": "markdown",
   "metadata": {
    "collapsed": true,
    "jupyter": {
     "outputs_hidden": true
    }
   },
   "source": [
    "<big>\n",
    "<big>\n",
    "2. Calculate the derivatives of following functions, where $e$ is Euler number, $\\log x=\\ln x$ is natural logarithm and $\\sin x$ is sine function:<br>\n",
    "\n",
    "$1.^\\circ)$ $f(x)=x^{1/2}$. (5%)<br>\n",
    "$2.^\\circ)$ $f(x)=\\frac{1-x^2}{x}$. (5%)<br>\n",
    "$3.^\\circ)$ $f(x)=\\sin(x)-2x$. (5%)<br>\n",
    "$4.^\\circ)$ $f(x)=e^x+x^{3}$. (5%)<br>\n",
    "$5.^\\circ)$ $f(x)=x^3e^{-x}$. (5%)<br> \n",
    "$6.^\\circ)$ $f(x)=\\log(x^2+1)$. (5%)<br> \n",
    "\n",
    "</big> </big>"
   ]
  },
  {
   "cell_type": "markdown",
   "metadata": {},
   "source": []
  },
  {
   "cell_type": "markdown",
   "metadata": {},
   "source": []
  },
  {
   "cell_type": "markdown",
   "metadata": {},
   "source": []
  },
  {
   "cell_type": "markdown",
   "metadata": {},
   "source": []
  },
  {
   "cell_type": "markdown",
   "metadata": {},
   "source": []
  },
  {
   "cell_type": "markdown",
   "metadata": {},
   "source": []
  },
  {
   "cell_type": "markdown",
   "metadata": {
    "collapsed": true,
    "jupyter": {
     "outputs_hidden": true
    }
   },
   "source": [
    "<big>\n",
    "<big>\n",
    "3. Consider the implicit function $y=x^3+3x$ for $x\\in[0,6]$: (total 10%, each 5%)<br>\n",
    "$1.^\\circ)$ Describe what the Mean Value of Theorem is. (5%)<br>\n",
    "$2.^\\circ)$ Find the vaule of $c$ in Mean Value Theorem for $f(x)$. <br>\n",
    "    (Hint: Find the $c$ such that $f'(c)=\\frac{\\cdots}{b-a}$)<br>\n",
    "\n",
    "</big> </big>"
   ]
  },
  {
   "cell_type": "markdown",
   "metadata": {},
   "source": []
  },
  {
   "cell_type": "markdown",
   "metadata": {},
   "source": []
  },
  {
   "cell_type": "markdown",
   "metadata": {},
   "source": []
  },
  {
   "cell_type": "markdown",
   "metadata": {},
   "source": []
  },
  {
   "cell_type": "markdown",
   "metadata": {
    "collapsed": true,
    "jupyter": {
     "outputs_hidden": true
    }
   },
   "source": [
    "<big>\n",
    "<big>\n",
    "4. Consider that $f(x)=xe^{-x}$ for $x\\ge0$: (total 50%)<br>\n",
    "$1.^\\circ)$ Find all the critical value(s) and boundary point(s) if any. (10%)<br>\n",
    "$2.^\\circ)$ Determine at which $f(x)$ is increasing or decreasing. (10%)<br>\n",
    "$3.^\\circ)$ Determine at which $f(x)$ is concave upwards or concave downwards. (10%)<br>\n",
    "$4.^\\circ)$ Visualize the graph of $f(x)$.(10%)<br>    \n",
    "$5.^\\circ)$ Find all relative extrema, maximum, and inflation point(s). (10%)<br>\n",
    "\n",
    "\n",
    "\n",
    "\n",
    "\n",
    "\n",
    "\n",
    "</big> </big>"
   ]
  },
  {
   "cell_type": "code",
   "execution_count": null,
   "metadata": {},
   "outputs": [],
   "source": []
  },
  {
   "cell_type": "code",
   "execution_count": null,
   "metadata": {},
   "outputs": [],
   "source": []
  },
  {
   "cell_type": "code",
   "execution_count": null,
   "metadata": {},
   "outputs": [],
   "source": []
  },
  {
   "cell_type": "code",
   "execution_count": null,
   "metadata": {},
   "outputs": [],
   "source": []
  }
 ],
 "metadata": {
  "hide_input": false,
  "kernelspec": {
   "display_name": "Python 3 (ipykernel)",
   "language": "python",
   "name": "python3"
  },
  "language_info": {
   "codemirror_mode": {
    "name": "ipython",
    "version": 3
   },
   "file_extension": ".py",
   "mimetype": "text/x-python",
   "name": "python",
   "nbconvert_exporter": "python",
   "pygments_lexer": "ipython3",
   "version": "3.9.12"
  },
  "toc": {
   "colors": {
    "hover_highlight": "#DAA520",
    "navigate_num": "#000000",
    "navigate_text": "#333333",
    "running_highlight": "#FF0000",
    "selected_highlight": "#FFD700",
    "sidebar_border": "#EEEEEE",
    "wrapper_background": "#FFFFFF"
   },
   "moveMenuLeft": true,
   "nav_menu": {
    "height": "102px",
    "width": "252px"
   },
   "navigate_menu": true,
   "number_sections": true,
   "sideBar": true,
   "threshold": 4,
   "toc_cell": false,
   "toc_section_display": "block",
   "toc_window_display": false,
   "widenNotebook": false
  }
 },
 "nbformat": 4,
 "nbformat_minor": 4
}
