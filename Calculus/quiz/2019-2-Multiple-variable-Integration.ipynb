{
 "cells": [
  {
   "cell_type": "code",
   "execution_count": 47,
   "metadata": {},
   "outputs": [],
   "source": [
    "from sympy import symbols,pprint,integrate,pi,sqrt,sin,cos,diff\n",
    "x,y,z=symbols(\"x y z\" )\n",
    "def doubleInt(f,X,xr,yr):\n",
    "    Iy=integrate(f,[X[1],yr[0],yr[1]])\n",
    "    I=integrate(Iy,[X[0],xr[0],xr[1]])\n",
    "    print(\"the double integral of %s over [%s<%s<%s,%s<%s<%s] is %s\" %(f,xr[0],X[0],xr[1],yr[0],X[1],yr[1],I))\n",
    "    return I"
   ]
  },
  {
   "cell_type": "code",
   "execution_count": 2,
   "metadata": {},
   "outputs": [],
   "source": [
    "W  = '\\033[0m'  # white (normal)\n",
    "K  = '\\033[30m' # black\n",
    "R  = '\\033[31m' # red\n",
    "G  = '\\033[32m' # green\n",
    "O  = '\\033[1;33m' # orange\n",
    "B  = '\\033[34m' # blue\n",
    "P  = '\\033[35m' # purple\n",
    "T =  '\\033[1;33;47m' #Title\n"
   ]
  },
  {
   "cell_type": "code",
   "execution_count": 3,
   "metadata": {},
   "outputs": [],
   "source": [
    "def doubleInt3(f,X,xr,yr):\n",
    "    Iy=integrate(f,[X[1],yr[0],yr[1]])\n",
    "    I=integrate(Iy,[X[0],xr[0],xr[1]])\n",
    "    #print(\"  %s \\t  %s\" %(xr[1],yr[1]))\n",
    "    yrs=str(yr[1])\n",
    "    xrs=' '+str(xr[1])\n",
    "    print(xrs.ljust(9,' ')+yrs)\n",
    "    print(\"ʃ   d\",R+'{}'.format(X[0]),K+\"ʃ \",B+\"{}\".format(f),K+\" d\",R+\"{}\".format(X[1]),K+\" = \",\"{}\".format(I)) \n",
    "    \n",
    "    yrs0=str(yr[0])\n",
    "    xrs0=str(xr[0])\n",
    "    print(xrs0.ljust(8,' ')+yrs0)\n",
    "    return I"
   ]
  },
  {
   "cell_type": "code",
   "execution_count": 4,
   "metadata": {},
   "outputs": [],
   "source": [
    "def tripleInt3(f,X,xr,yr,zr):\n",
    "    Iz=integrate(f,[X[2],zr[0],zr[1]])\n",
    "    Iy=integrate(Iz,[X[1],yr[0],yr[1]])\n",
    "    Ix=integrate(Iy,[X[0],xr[0],xr[1]])\n",
    "    zrs=' '+str(zr[1])\n",
    "    yrs=str(yr[1])\n",
    "    xrs=' '+str(xr[1])\n",
    "    print(xrs.ljust(9,' ')+O+yrs.ljust(7,' ')+K+zrs)\n",
    "    #print(\"  %s \\t  %s  \\t  %s\" %(xr[1],yr[1],zr[1]))\n",
    "    print(\"ʃ   d\",R+'{}'.format(X[0]),\n",
    "        K+\"ʃ   d\",R+'{}'.format(X[1]),\n",
    "        K+\"ʃ \",B+\"{}\".format(f),K+\"  d\",R+\"{}\".format(X[2]),K+\" = \",\"{}\".format(Ix))   \n",
    "    zrs1=' '+str(zr[0])\n",
    "    yrs1=str(yr[0])\n",
    "    xrs1=' '+str(xr[0])\n",
    "    print(xrs1.ljust(8,' ')+O+yrs1.ljust(7,' ')+K+zrs1)\n",
    "    #print(\" %s \\t %s  \\t %s\" %(xr[0],yr[0],zr[0]))\n",
    "    return Ix"
   ]
  },
  {
   "cell_type": "code",
   "execution_count": 5,
   "metadata": {},
   "outputs": [
    {
     "name": "stdout",
     "output_type": "stream",
     "text": [
      " 3       -y + 6\n",
      "ʃ   d \u001b[31my \u001b[30mʃ  \u001b[34m1 \u001b[30m d \u001b[31mx \u001b[30m =  9\n",
      "0       y\n"
     ]
    },
    {
     "data": {
      "text/plain": [
       "9"
      ]
     },
     "execution_count": 5,
     "metadata": {},
     "output_type": "execute_result"
    }
   ],
   "source": [
    "# p803, num 8\n",
    "doubleInt3(1,[y,x],[0,3],[y,6-y])"
   ]
  },
  {
   "cell_type": "code",
   "execution_count": 6,
   "metadata": {},
   "outputs": [
    {
     "name": "stdout",
     "output_type": "stream",
     "text": [
      " 8       8\n",
      "ʃ   d \u001b[31my \u001b[30mʃ  \u001b[34m1 \u001b[30m d \u001b[31mx \u001b[30m =  48\n",
      "0       y/2\n"
     ]
    },
    {
     "data": {
      "text/plain": [
       "48"
      ]
     },
     "execution_count": 6,
     "metadata": {},
     "output_type": "execute_result"
    }
   ],
   "source": [
    "#9\n",
    "doubleInt3(1,[y,x],[0,8],[y/2,8])"
   ]
  },
  {
   "cell_type": "code",
   "execution_count": 7,
   "metadata": {},
   "outputs": [
    {
     "name": "stdout",
     "output_type": "stream",
     "text": [
      " 3       -y**2 + 9\n",
      "ʃ   d \u001b[31my \u001b[30mʃ  \u001b[34m1 \u001b[30m d \u001b[31mx \u001b[30m =  36\n",
      "-3      0\n"
     ]
    },
    {
     "data": {
      "text/plain": [
       "36"
      ]
     },
     "execution_count": 7,
     "metadata": {},
     "output_type": "execute_result"
    }
   ],
   "source": [
    "#10\n",
    "doubleInt3(1,[y,x],[-3,3],[0,9-y*y])"
   ]
  },
  {
   "cell_type": "code",
   "execution_count": 8,
   "metadata": {},
   "outputs": [
    {
     "name": "stdout",
     "output_type": "stream",
     "text": [
      " 4       2\n",
      "ʃ   d \u001b[31my \u001b[30mʃ  \u001b[34m4*x*y \u001b[30m d \u001b[31mx \u001b[30m =  64\n",
      "0       0\n"
     ]
    },
    {
     "data": {
      "text/plain": [
       "64"
      ]
     },
     "execution_count": 8,
     "metadata": {},
     "output_type": "execute_result"
    }
   ],
   "source": [
    "#11 \n",
    "doubleInt3(4*x*y,[y,x],[0,4],[0,2])"
   ]
  },
  {
   "cell_type": "code",
   "execution_count": 10,
   "metadata": {},
   "outputs": [
    {
     "name": "stdout",
     "output_type": "stream",
     "text": [
      " 1       sqrt(x)\n",
      "ʃ   d \u001b[31mx \u001b[30mʃ  \u001b[34m6*x**2 \u001b[30m d \u001b[31my \u001b[30m =  12/7\n",
      "0       0\n"
     ]
    },
    {
     "data": {
      "text/plain": [
       "12/7"
      ]
     },
     "execution_count": 10,
     "metadata": {},
     "output_type": "execute_result"
    }
   ],
   "source": [
    "#12\n",
    "doubleInt3(6*x*x,[x,y],[0,1],[0,sqrt(x)])"
   ]
  },
  {
   "cell_type": "code",
   "execution_count": 11,
   "metadata": {},
   "outputs": [
    {
     "name": "stdout",
     "output_type": "stream",
     "text": [
      " 2       3\n",
      "ʃ   d \u001b[31my \u001b[30mʃ  \u001b[34m-x + 5 \u001b[30m d \u001b[31mx \u001b[30m =  21\n",
      "0       0\n"
     ]
    },
    {
     "data": {
      "text/plain": [
       "21"
      ]
     },
     "execution_count": 11,
     "metadata": {},
     "output_type": "execute_result"
    }
   ],
   "source": [
    "#13 \n",
    "doubleInt3(5-x,[y,x],[0,2],[0,3])"
   ]
  },
  {
   "cell_type": "code",
   "execution_count": 12,
   "metadata": {},
   "outputs": [
    {
     "name": "stdout",
     "output_type": "stream",
     "text": [
      " 2       x\n",
      "ʃ   d \u001b[31mx \u001b[30mʃ  \u001b[34m4 \u001b[30m d \u001b[31my \u001b[30m =  8\n",
      "0       0\n"
     ]
    },
    {
     "data": {
      "text/plain": [
       "8"
      ]
     },
     "execution_count": 12,
     "metadata": {},
     "output_type": "execute_result"
    }
   ],
   "source": [
    "#14\n",
    "doubleInt3(4,[x,y],[0,2],[0,x])"
   ]
  },
  {
   "cell_type": "code",
   "execution_count": 14,
   "metadata": {},
   "outputs": [
    {
     "name": "stdout",
     "output_type": "stream",
     "text": [
      " 1       1\n",
      "ʃ   d \u001b[31my \u001b[30mʃ  \u001b[34m-x**2 - y**2 + 4 \u001b[30m d \u001b[31mx \u001b[30m =  40/3\n",
      "-1      -1\n"
     ]
    },
    {
     "data": {
      "text/plain": [
       "40/3"
      ]
     },
     "execution_count": 14,
     "metadata": {},
     "output_type": "execute_result"
    }
   ],
   "source": [
    "#15\n",
    "doubleInt3(4-x*x-y*y,[y,x],[-1,1],[-1,1])"
   ]
  },
  {
   "cell_type": "code",
   "execution_count": 15,
   "metadata": {},
   "outputs": [
    {
     "name": "stdout",
     "output_type": "stream",
     "text": [
      " 2       x\n",
      "ʃ   d \u001b[31mx \u001b[30mʃ  \u001b[34m-x - y + 2 \u001b[30m d \u001b[31my \u001b[30m =  0\n",
      "0       0\n"
     ]
    },
    {
     "data": {
      "text/plain": [
       "0"
      ]
     },
     "execution_count": 15,
     "metadata": {},
     "output_type": "execute_result"
    }
   ],
   "source": [
    "#16\n",
    "doubleInt3(2-x-y,[x,y],[0,2],[0,x])"
   ]
  },
  {
   "cell_type": "code",
   "execution_count": 16,
   "metadata": {},
   "outputs": [
    {
     "name": "stdout",
     "output_type": "stream",
     "text": [
      " 2       2\n",
      "ʃ   d \u001b[31mx \u001b[30mʃ  \u001b[34m-x**2 - y**2 + 16 \u001b[30m d \u001b[31my \u001b[30m =  640/3\n",
      "-2      -2\n"
     ]
    },
    {
     "data": {
      "text/plain": [
       "640/3"
      ]
     },
     "execution_count": 16,
     "metadata": {},
     "output_type": "execute_result"
    }
   ],
   "source": [
    "#17\n",
    "doubleInt3(16-x*x-y*y,[x,y],[-2,2],[-2,2])"
   ]
  },
  {
   "cell_type": "code",
   "execution_count": 17,
   "metadata": {},
   "outputs": [
    {
     "name": "stdout",
     "output_type": "stream",
     "text": [
      " 3       3\n",
      "ʃ   d \u001b[31mx \u001b[30mʃ  \u001b[34m2*x**2 - y**2 \u001b[30m d \u001b[31my \u001b[30m =  27\n",
      "0       0\n"
     ]
    },
    {
     "data": {
      "text/plain": [
       "27"
      ]
     },
     "execution_count": 17,
     "metadata": {},
     "output_type": "execute_result"
    }
   ],
   "source": [
    "#18\n",
    "doubleInt3(2*x*x-y*y,[x,y],[0,3],[0,3])"
   ]
  },
  {
   "cell_type": "code",
   "execution_count": 18,
   "metadata": {},
   "outputs": [
    {
     "name": "stdout",
     "output_type": "stream",
     "text": [
      " 3       5\n",
      "ʃ   d \u001b[31mx \u001b[30mʃ  \u001b[34m-6*x**2 - y**2 + 40 \u001b[30m d \u001b[31my \u001b[30m =  205\n",
      "0       0\n"
     ]
    },
    {
     "data": {
      "text/plain": [
       "205"
      ]
     },
     "execution_count": 18,
     "metadata": {},
     "output_type": "execute_result"
    }
   ],
   "source": [
    "#19\n",
    "doubleInt3(40-6*x*x-y*y,[x,y],[0,3],[0,5])"
   ]
  },
  {
   "cell_type": "code",
   "execution_count": 19,
   "metadata": {},
   "outputs": [
    {
     "name": "stdout",
     "output_type": "stream",
     "text": [
      " 50      60\n",
      "ʃ   d \u001b[31mx \u001b[30mʃ  \u001b[34m-x**2 - 2*x*y + 192*x - 5*y**2 + 576*y - 5000 \u001b[30m d \u001b[31my \u001b[30m =  1987000\n",
      "40      45\n"
     ]
    },
    {
     "data": {
      "text/plain": [
       "1987000"
      ]
     },
     "execution_count": 19,
     "metadata": {},
     "output_type": "execute_result"
    }
   ],
   "source": [
    "#20\n",
    "\n",
    "doubleInt3(192*x+576*y-x*x-5*y*y-2*x*y-5000,[x,y],[40,50],[45,60])"
   ]
  },
  {
   "cell_type": "code",
   "execution_count": 72,
   "metadata": {},
   "outputs": [],
   "source": [
    "r,t,h,k,a,b,c,rho,p,u,v=symbols(\"r 𝜽 h k a b c 𝝆 𝝓 u v\")"
   ]
  },
  {
   "cell_type": "code",
   "execution_count": 24,
   "metadata": {},
   "outputs": [
    {
     "name": "stdout",
     "output_type": "stream",
     "text": [
      " pi/4    h/cos(theta)\n",
      "ʃ   d \u001b[31mtheta \u001b[30mʃ  \u001b[34mr**2 \u001b[30m d \u001b[31mr \u001b[30m =  h**3*(log(sqrt(2)/2 + 1)/4 - log(-sqrt(2)/2 + 1)/4 + sqrt(2)/2 - I*pi/4)/3 + I*pi*h**3/12\n",
      "0       0\n"
     ]
    },
    {
     "data": {
      "text/plain": [
       "h**3*(log(sqrt(2)/2 + 1)/4 - log(-sqrt(2)/2 + 1)/4 + sqrt(2)/2 - I*pi/4)/3 + I*pi*h**3/12"
      ]
     },
     "execution_count": 24,
     "metadata": {},
     "output_type": "execute_result"
    }
   ],
   "source": [
    "doubleInt3(r*r,[t,r],[0,pi/4],[0,h/cos(t)])"
   ]
  },
  {
   "cell_type": "code",
   "execution_count": 28,
   "metadata": {},
   "outputs": [
    {
     "name": "stdout",
     "output_type": "stream",
     "text": [
      " pi/2    4\n",
      "ʃ   d \u001b[31m𝜽 \u001b[30mʃ  \u001b[34mr**3 \u001b[30m d \u001b[31mr \u001b[30m =  32*pi\n",
      "0       0\n"
     ]
    },
    {
     "data": {
      "text/plain": [
       "32*pi"
      ]
     },
     "execution_count": 28,
     "metadata": {},
     "output_type": "execute_result"
    }
   ],
   "source": [
    "#22\n",
    "doubleInt3(r*r*r,[t,r],[0,pi/2],[0,4])"
   ]
  },
  {
   "cell_type": "code",
   "execution_count": 29,
   "metadata": {},
   "outputs": [
    {
     "name": "stdout",
     "output_type": "stream",
     "text": [
      " pi/2    3\n",
      "ʃ   d \u001b[31m𝜽 \u001b[30mʃ  \u001b[34mr**4*sin(𝜽)**2*cos(𝜽) \u001b[30m d \u001b[31mr \u001b[30m =  81/5\n",
      "0       0\n"
     ]
    },
    {
     "data": {
      "text/plain": [
       "81/5"
      ]
     },
     "execution_count": 29,
     "metadata": {},
     "output_type": "execute_result"
    }
   ],
   "source": [
    "#23\n",
    "doubleInt3(r*r*r*r*cos(t)*sin(t)*sin(t),[t,r],[0,pi/2],[0,3])"
   ]
  },
  {
   "cell_type": "code",
   "execution_count": 30,
   "metadata": {},
   "outputs": [
    {
     "name": "stdout",
     "output_type": "stream",
     "text": [
      " 2*pi    4\n",
      "ʃ   d \u001b[31m𝜽 \u001b[30mʃ  \u001b[34mr*sqrt(-r**2 + 25) \u001b[30m d \u001b[31mr \u001b[30m =  196*pi/3\n",
      "0       0\n"
     ]
    },
    {
     "data": {
      "text/plain": [
       "196*pi/3"
      ]
     },
     "execution_count": 30,
     "metadata": {},
     "output_type": "execute_result"
    }
   ],
   "source": [
    "#24\n",
    "doubleInt3(r*sqrt(25-r*r),[t,r],[0,pi*2],[0,4])"
   ]
  },
  {
   "cell_type": "code",
   "execution_count": 38,
   "metadata": {},
   "outputs": [
    {
     "name": "stdout",
     "output_type": "stream",
     "text": [
      " 2*pi    cos(𝜽) + 2\n",
      "ʃ   d \u001b[31m𝜽 \u001b[30mʃ  \u001b[34mr \u001b[30m d \u001b[31mr \u001b[30m =  9*pi/2\n",
      "0       0\n"
     ]
    },
    {
     "data": {
      "text/plain": [
       "9*pi/2"
      ]
     },
     "execution_count": 38,
     "metadata": {},
     "output_type": "execute_result"
    }
   ],
   "source": [
    "#25\n",
    "doubleInt3(r,[t,r],[0,2*pi],[0,2+cos(t)])"
   ]
  },
  {
   "cell_type": "code",
   "execution_count": 39,
   "metadata": {},
   "outputs": [
    {
     "name": "stdout",
     "output_type": "stream",
     "text": [
      " pi/2    2*sin(𝜽)\n",
      "ʃ   d \u001b[31m𝜽 \u001b[30mʃ  \u001b[34mr \u001b[30m d \u001b[31mr \u001b[30m =  pi/2\n",
      "0       0\n"
     ]
    },
    {
     "data": {
      "text/plain": [
       "pi/2"
      ]
     },
     "execution_count": 39,
     "metadata": {},
     "output_type": "execute_result"
    }
   ],
   "source": [
    "#26\n",
    "\n",
    "doubleInt3(r,[t,r],[0,pi/2],[0,2*sin(t)])"
   ]
  },
  {
   "cell_type": "code",
   "execution_count": 40,
   "metadata": {},
   "outputs": [
    {
     "name": "stdout",
     "output_type": "stream",
     "text": [
      " pi/3    2*cos(𝜽) + 2\n",
      "ʃ   d \u001b[31m𝜽 \u001b[30mʃ  \u001b[34mr \u001b[30m d \u001b[31mr \u001b[30m =  -pi/2 + 9*sqrt(3)/4\n",
      "0       3\n"
     ]
    },
    {
     "data": {
      "text/plain": [
       "-pi/2 + 9*sqrt(3)/4"
      ]
     },
     "execution_count": 40,
     "metadata": {},
     "output_type": "execute_result"
    }
   ],
   "source": [
    "# 27\n",
    "\n",
    "doubleInt3(r,[t,r],[0,pi/3],[3,2+2*cos(t)])"
   ]
  },
  {
   "cell_type": "code",
   "execution_count": 41,
   "metadata": {},
   "outputs": [
    {
     "name": "stdout",
     "output_type": "stream",
     "text": [
      " pi/2    3*sin(𝜽)\n",
      "ʃ   d \u001b[31m𝜽 \u001b[30mʃ  \u001b[34mr \u001b[30m d \u001b[31mr \u001b[30m =  pi/2\n",
      "pi/6    sin(𝜽) + 1\n"
     ]
    },
    {
     "data": {
      "text/plain": [
       "pi/2"
      ]
     },
     "execution_count": 41,
     "metadata": {},
     "output_type": "execute_result"
    }
   ],
   "source": [
    "#28\n",
    "doubleInt3(r,[t,r],[pi/6,pi/2],[1+sin(t),3*sin(t)])"
   ]
  },
  {
   "cell_type": "code",
   "execution_count": 35,
   "metadata": {},
   "outputs": [
    {
     "name": "stdout",
     "output_type": "stream",
     "text": [
      " h       4\n",
      "ʃ   d \u001b[31m𝜽 \u001b[30mʃ  \u001b[34mr**3*sin(𝜽)*cos(𝜽) \u001b[30m d \u001b[31mr \u001b[30m =  32*sin(h)**2\n",
      "0       0\n"
     ]
    },
    {
     "data": {
      "text/plain": [
       "32*sin(h)**2"
      ]
     },
     "execution_count": 35,
     "metadata": {},
     "output_type": "execute_result"
    }
   ],
   "source": [
    "#29\n",
    "\n",
    "doubleInt3(r*r*r*cos(t)*sin(t),[t,r],[0,h],[0,4])"
   ]
  },
  {
   "cell_type": "code",
   "execution_count": 43,
   "metadata": {},
   "outputs": [
    {
     "name": "stdout",
     "output_type": "stream",
     "text": [
      " 2       x**3\n",
      "ʃ   d \u001b[31mx \u001b[30mʃ  \u001b[34mk*x \u001b[30m d \u001b[31my \u001b[30m =  32*k/5\n",
      "0       0\n"
     ]
    },
    {
     "data": {
      "text/plain": [
       "32*k/5"
      ]
     },
     "execution_count": 43,
     "metadata": {},
     "output_type": "execute_result"
    }
   ],
   "source": [
    "#30\n",
    "doubleInt3(k*x,[x,y],[0,2],[0,x*x*x])"
   ]
  },
  {
   "cell_type": "code",
   "execution_count": 44,
   "metadata": {},
   "outputs": [
    {
     "name": "stdout",
     "output_type": "stream",
     "text": [
      " 2       x**3\n",
      "ʃ   d \u001b[31mx \u001b[30mʃ  \u001b[34m1 \u001b[30m d \u001b[31my \u001b[30m =  4\n",
      "0       0\n"
     ]
    },
    {
     "data": {
      "text/plain": [
       "4"
      ]
     },
     "execution_count": 44,
     "metadata": {},
     "output_type": "execute_result"
    }
   ],
   "source": [
    "doubleInt3(1,[x,y],[0,2],[0,x*x*x])"
   ]
  },
  {
   "cell_type": "code",
   "execution_count": 48,
   "metadata": {},
   "outputs": [
    {
     "name": "stdout",
     "output_type": "stream",
     "text": [
      " 4       \u001b[1;33m1      \u001b[30m 2\n",
      "ʃ   d \u001b[31mx \u001b[30mʃ   d \u001b[31mz \u001b[30mʃ  \u001b[34m2*x + y + 4*z \u001b[30m  d \u001b[31my \u001b[30m =  56\n",
      " 0      \u001b[1;33m0      \u001b[30m 0\n"
     ]
    },
    {
     "data": {
      "text/plain": [
       "56"
      ]
     },
     "execution_count": 48,
     "metadata": {},
     "output_type": "execute_result"
    }
   ],
   "source": [
    "#39\n",
    "tripleInt3(2*x+y+4*z,[x,z,y],[0,4],[0,1],[0,2])"
   ]
  },
  {
   "cell_type": "code",
   "execution_count": 49,
   "metadata": {},
   "outputs": [
    {
     "name": "stdout",
     "output_type": "stream",
     "text": [
      " 2       \u001b[1;33my      \u001b[30m x*y\n",
      "ʃ   d \u001b[31my \u001b[30mʃ   d \u001b[31mx \u001b[30mʃ  \u001b[34m2*x + y + 4*z \u001b[30m  d \u001b[31mz \u001b[30m =  656/45\n",
      " 0      \u001b[1;33m0      \u001b[30m 0\n"
     ]
    },
    {
     "data": {
      "text/plain": [
       "656/45"
      ]
     },
     "execution_count": 49,
     "metadata": {},
     "output_type": "execute_result"
    }
   ],
   "source": [
    "#40\n",
    "tripleInt3(2*x+y+4*z,[y,x,z],[0,2],[0,y],[0,x*y])"
   ]
  },
  {
   "cell_type": "code",
   "execution_count": 51,
   "metadata": {},
   "outputs": [
    {
     "name": "stdout",
     "output_type": "stream",
     "text": [
      " a       \u001b[1;33mb      \u001b[30m c\n",
      "ʃ   d \u001b[31mx \u001b[30mʃ   d \u001b[31my \u001b[30mʃ  \u001b[34mx**2 + y**2 + z**2 \u001b[30m  d \u001b[31mz \u001b[30m =  a**3*b*c/3 + a*(b**3*c/3 + b*c**3/3)\n",
      " 0      \u001b[1;33m0      \u001b[30m 0\n"
     ]
    },
    {
     "data": {
      "text/plain": [
       "a**3*b*c/3 + a*(b**3*c/3 + b*c**3/3)"
      ]
     },
     "execution_count": 51,
     "metadata": {},
     "output_type": "execute_result"
    }
   ],
   "source": [
    "#41\n",
    "tripleInt3(x*x+y*y+z*z,[x,y,z],[0,a],[0,b],[0,c])"
   ]
  },
  {
   "cell_type": "code",
   "execution_count": 57,
   "metadata": {},
   "outputs": [
    {
     "name": "stdout",
     "output_type": "stream",
     "text": [
      " 3       \u001b[1;33mpi     \u001b[30m 5\n",
      "ʃ   d \u001b[31mz \u001b[30mʃ   d \u001b[31mx \u001b[30mʃ  \u001b[34mz*sin(x) \u001b[30m  d \u001b[31my \u001b[30m =  45/2\n",
      " 0      \u001b[1;33mpi/2   \u001b[30m 0\n"
     ]
    },
    {
     "data": {
      "text/plain": [
       "45/2"
      ]
     },
     "execution_count": 57,
     "metadata": {},
     "output_type": "execute_result"
    }
   ],
   "source": [
    "#42\n",
    "tripleInt3(z*sin(x),[z,x,y],[0,3],[pi/2,pi],[0,5])"
   ]
  },
  {
   "cell_type": "code",
   "execution_count": 53,
   "metadata": {},
   "outputs": [
    {
     "name": "stdout",
     "output_type": "stream",
     "text": [
      " 3       \u001b[1;33m4      \u001b[30m x*y\n",
      "ʃ   d \u001b[31mx \u001b[30mʃ   d \u001b[31my \u001b[30mʃ  \u001b[34m1 \u001b[30m  d \u001b[31mz \u001b[30m =  36\n",
      " 0      \u001b[1;33m0      \u001b[30m 0\n"
     ]
    },
    {
     "data": {
      "text/plain": [
       "36"
      ]
     },
     "execution_count": 53,
     "metadata": {},
     "output_type": "execute_result"
    }
   ],
   "source": [
    "#43\n",
    "tripleInt3(1,[x,y,z],[0,3],[0,4],[0,x*y])"
   ]
  },
  {
   "cell_type": "code",
   "execution_count": 54,
   "metadata": {},
   "outputs": [
    {
     "name": "stdout",
     "output_type": "stream",
     "text": [
      " 1       \u001b[1;33my      \u001b[30m -x - y + 8\n",
      "ʃ   d \u001b[31my \u001b[30mʃ   d \u001b[31mx \u001b[30mʃ  \u001b[34m1 \u001b[30m  d \u001b[31mz \u001b[30m =  7/2\n",
      " 0      \u001b[1;33m0      \u001b[30m 0\n"
     ]
    },
    {
     "data": {
      "text/plain": [
       "7/2"
      ]
     },
     "execution_count": 54,
     "metadata": {},
     "output_type": "execute_result"
    }
   ],
   "source": [
    "#44\n",
    "tripleInt3(1,[y,x,z],[0,1],[0,y],[0,8-x-y])"
   ]
  },
  {
   "cell_type": "code",
   "execution_count": 55,
   "metadata": {},
   "outputs": [
    {
     "name": "stdout",
     "output_type": "stream",
     "text": [
      " 1       \u001b[1;33my      \u001b[30m sqrt(-x**2 + 1)\n",
      "ʃ   d \u001b[31my \u001b[30mʃ   d \u001b[31mx \u001b[30mʃ  \u001b[34m1 \u001b[30m  d \u001b[31mz \u001b[30m =  -1/3 + pi/4\n",
      " 0      \u001b[1;33m0      \u001b[30m 0\n"
     ]
    },
    {
     "data": {
      "text/plain": [
       "-1/3 + pi/4"
      ]
     },
     "execution_count": 55,
     "metadata": {},
     "output_type": "execute_result"
    }
   ],
   "source": [
    "#45\n",
    "tripleInt3(1,[y,x,z],[0,1],[0,y],[0,sqrt(1-x*x)])"
   ]
  },
  {
   "cell_type": "code",
   "execution_count": 58,
   "metadata": {},
   "outputs": [
    {
     "name": "stdout",
     "output_type": "stream",
     "text": [
      " 6       \u001b[1;33m-x + 6 \u001b[30m -x - y + 6\n",
      "ʃ   d \u001b[31mx \u001b[30mʃ   d \u001b[31my \u001b[30mʃ  \u001b[34m1 \u001b[30m  d \u001b[31mz \u001b[30m =  36\n",
      " 0      \u001b[1;33m0      \u001b[30m 0\n"
     ]
    },
    {
     "data": {
      "text/plain": [
       "36"
      ]
     },
     "execution_count": 58,
     "metadata": {},
     "output_type": "execute_result"
    }
   ],
   "source": [
    "#46\n",
    "tripleInt3(1,[x,y,z],[0,6],[0,6-x],[0,6-x-y])"
   ]
  },
  {
   "cell_type": "code",
   "execution_count": 59,
   "metadata": {},
   "outputs": [
    {
     "name": "stdout",
     "output_type": "stream",
     "text": [
      " 10      \u001b[1;33m-x + 10\u001b[30m -x - y + 10\n",
      "ʃ   d \u001b[31mx \u001b[30mʃ   d \u001b[31my \u001b[30mʃ  \u001b[34mx \u001b[30m  d \u001b[31mz \u001b[30m =  1250/3\n",
      " 0      \u001b[1;33m0      \u001b[30m 0\n"
     ]
    },
    {
     "data": {
      "text/plain": [
       "1250/3"
      ]
     },
     "execution_count": 59,
     "metadata": {},
     "output_type": "execute_result"
    }
   ],
   "source": [
    "#47\n",
    "tripleInt3(x,[x,y,z],[0,10],[0,10-x],[0,10-x-y])"
   ]
  },
  {
   "cell_type": "code",
   "execution_count": 60,
   "metadata": {},
   "outputs": [
    {
     "name": "stdout",
     "output_type": "stream",
     "text": [
      " 10      \u001b[1;33m-x + 10\u001b[30m -x - y + 10\n",
      "ʃ   d \u001b[31mx \u001b[30mʃ   d \u001b[31my \u001b[30mʃ  \u001b[34m1 \u001b[30m  d \u001b[31mz \u001b[30m =  500/3\n",
      " 0      \u001b[1;33m0      \u001b[30m 0\n"
     ]
    },
    {
     "data": {
      "text/plain": [
       "500/3"
      ]
     },
     "execution_count": 60,
     "metadata": {},
     "output_type": "execute_result"
    }
   ],
   "source": [
    "tripleInt3(1,[x,y,z],[0,10],[0,10-x],[0,10-x-y])"
   ]
  },
  {
   "cell_type": "code",
   "execution_count": 61,
   "metadata": {},
   "outputs": [
    {
     "name": "stdout",
     "output_type": "stream",
     "text": [
      " 5       \u001b[1;33m5      \u001b[30m -y + 5\n",
      "ʃ   d \u001b[31mx \u001b[30mʃ   d \u001b[31my \u001b[30mʃ  \u001b[34mk*x \u001b[30m  d \u001b[31mz \u001b[30m =  625*k/4\n",
      " 0      \u001b[1;33m0      \u001b[30m 0\n"
     ]
    },
    {
     "data": {
      "text/plain": [
       "625*k/4"
      ]
     },
     "execution_count": 61,
     "metadata": {},
     "output_type": "execute_result"
    }
   ],
   "source": [
    "#48\n",
    "tripleInt3(k*x,[x,y,z],[0,5],[0,5],[0,5-y])"
   ]
  },
  {
   "cell_type": "code",
   "execution_count": 62,
   "metadata": {},
   "outputs": [
    {
     "name": "stdout",
     "output_type": "stream",
     "text": [
      " 5       \u001b[1;33m5      \u001b[30m -y + 5\n",
      "ʃ   d \u001b[31mx \u001b[30mʃ   d \u001b[31my \u001b[30mʃ  \u001b[34m1 \u001b[30m  d \u001b[31mz \u001b[30m =  125/2\n",
      " 0      \u001b[1;33m0      \u001b[30m 0\n"
     ]
    },
    {
     "data": {
      "text/plain": [
       "125/2"
      ]
     },
     "execution_count": 62,
     "metadata": {},
     "output_type": "execute_result"
    }
   ],
   "source": [
    "tripleInt3(1,[x,y,z],[0,5],[0,5],[0,5-y])"
   ]
  },
  {
   "cell_type": "code",
   "execution_count": 64,
   "metadata": {},
   "outputs": [
    {
     "name": "stdout",
     "output_type": "stream",
     "text": [
      " 3       \u001b[1;33mpi/3   \u001b[30m 4\n",
      "ʃ   d \u001b[31mz \u001b[30mʃ   d \u001b[31m𝜽 \u001b[30mʃ  \u001b[34mr*cos(𝜽) \u001b[30m  d \u001b[31mr \u001b[30m =  12*sqrt(3)\n",
      " 0      \u001b[1;33m0      \u001b[30m 0\n"
     ]
    },
    {
     "data": {
      "text/plain": [
       "12*sqrt(3)"
      ]
     },
     "execution_count": 64,
     "metadata": {},
     "output_type": "execute_result"
    }
   ],
   "source": [
    "#49\n",
    "tripleInt3(r*cos(t),[z,t,r],[0,3],[0,pi/3],[0,4])"
   ]
  },
  {
   "cell_type": "code",
   "execution_count": 65,
   "metadata": {},
   "outputs": [
    {
     "name": "stdout",
     "output_type": "stream",
     "text": [
      " pi/2    \u001b[1;33m3      \u001b[30m -z + 4\n",
      "ʃ   d \u001b[31m𝜽 \u001b[30mʃ   d \u001b[31mz \u001b[30mʃ  \u001b[34mz \u001b[30m  d \u001b[31mr \u001b[30m =  9*pi/2\n",
      " 0      \u001b[1;33m0      \u001b[30m 0\n"
     ]
    },
    {
     "data": {
      "text/plain": [
       "9*pi/2"
      ]
     },
     "execution_count": 65,
     "metadata": {},
     "output_type": "execute_result"
    }
   ],
   "source": [
    "#50\n",
    "tripleInt3(z,[t,z,r],[0,pi/2],[0,3],[0,4-z])"
   ]
  },
  {
   "cell_type": "code",
   "execution_count": 68,
   "metadata": {},
   "outputs": [
    {
     "name": "stdout",
     "output_type": "stream",
     "text": [
      " pi/2    \u001b[1;33mpi/2   \u001b[30m 2\n",
      "ʃ   d \u001b[31m𝝓 \u001b[30mʃ   d \u001b[31m𝜽 \u001b[30mʃ  \u001b[34m𝝆**2 \u001b[30m  d \u001b[31m𝝆 \u001b[30m =  2*pi**2/3\n",
      " 0      \u001b[1;33m0      \u001b[30m 0\n"
     ]
    },
    {
     "data": {
      "text/plain": [
       "2*pi**2/3"
      ]
     },
     "execution_count": 68,
     "metadata": {},
     "output_type": "execute_result"
    }
   ],
   "source": [
    "#51\n",
    "tripleInt3(rho*rho,[p,t,rho],[0,pi/2],[0,pi/2],[0,2])"
   ]
  },
  {
   "cell_type": "code",
   "execution_count": 70,
   "metadata": {},
   "outputs": [
    {
     "name": "stdout",
     "output_type": "stream",
     "text": [
      " pi/4    \u001b[1;33mpi/4   \u001b[30m cos(𝝓)\n",
      "ʃ   d \u001b[31m𝜽 \u001b[30mʃ   d \u001b[31m𝝓 \u001b[30mʃ  \u001b[34mcos(𝜽) \u001b[30m  d \u001b[31m𝝆 \u001b[30m =  1/2\n",
      " 0      \u001b[1;33m0      \u001b[30m 0\n"
     ]
    },
    {
     "data": {
      "text/plain": [
       "1/2"
      ]
     },
     "execution_count": 70,
     "metadata": {},
     "output_type": "execute_result"
    }
   ],
   "source": [
    "#52\n",
    "tripleInt3(cos(t),[t,p,rho],[0,pi/4],[0,pi/4],[0,cos(p)])"
   ]
  },
  {
   "cell_type": "code",
   "execution_count": 69,
   "metadata": {},
   "outputs": [
    {
     "name": "stdout",
     "output_type": "stream",
     "text": [
      " 2       \u001b[1;33mpi/2   \u001b[30m -r**2 + 8\n",
      "ʃ   d \u001b[31mr \u001b[30mʃ   d \u001b[31m𝜽 \u001b[30mʃ  \u001b[34mr \u001b[30m  d \u001b[31mz \u001b[30m =  4*pi\n",
      " 0      \u001b[1;33m0      \u001b[30m r**2\n"
     ]
    },
    {
     "data": {
      "text/plain": [
       "4*pi"
      ]
     },
     "execution_count": 69,
     "metadata": {},
     "output_type": "execute_result"
    }
   ],
   "source": [
    "#53\n",
    "tripleInt3(r,[r,t,z],[0,2],[0,pi/2],[r*r,8-r*r])"
   ]
  },
  {
   "cell_type": "code",
   "execution_count": 71,
   "metadata": {},
   "outputs": [
    {
     "name": "stdout",
     "output_type": "stream",
     "text": [
      " pi/4    \u001b[1;33m2*pi   \u001b[30m 2*sqrt(2)\n",
      "ʃ   d \u001b[31m𝝓 \u001b[30mʃ   d \u001b[31m𝜽 \u001b[30mʃ  \u001b[34m𝝆**2*sin(𝝓) \u001b[30m  d \u001b[31m𝝆 \u001b[30m =  -32*pi/3 + 32*sqrt(2)*pi/3\n",
      " 0      \u001b[1;33m0      \u001b[30m 0\n"
     ]
    },
    {
     "data": {
      "text/plain": [
       "-32*pi/3 + 32*sqrt(2)*pi/3"
      ]
     },
     "execution_count": 71,
     "metadata": {},
     "output_type": "execute_result"
    }
   ],
   "source": [
    "#54\n",
    "tripleInt3(rho*rho*sin(p),[p,t,rho],[0,pi/4],[0,2*pi],[0,2*sqrt(2)])"
   ]
  },
  {
   "cell_type": "code",
   "execution_count": 81,
   "metadata": {},
   "outputs": [
    {
     "name": "stdout",
     "output_type": "stream",
     "text": [
      " 1       5\n",
      "ʃ   d \u001b[31mv \u001b[30mʃ  \u001b[34mlog(u)/2 \u001b[30m d \u001b[31mu \u001b[30m =  -3*log(3) - 2 + 5*log(5)\n",
      "-1      3\n"
     ]
    },
    {
     "data": {
      "text/plain": [
       "-3*log(3) - 2 + 5*log(5)"
      ]
     },
     "execution_count": 81,
     "metadata": {},
     "output_type": "execute_result"
    }
   ],
   "source": [
    "#57\n",
    "from sympy import log\n",
    "\n",
    "doubleInt3(log(u)/2,[v,u],[-1,1],[3,5])"
   ]
  },
  {
   "cell_type": "code",
   "execution_count": 77,
   "metadata": {},
   "outputs": [
    {
     "name": "stdout",
     "output_type": "stream",
     "text": [
      " 6       2\n",
      "ʃ   d \u001b[31mu \u001b[30mʃ  \u001b[34mu**2 - v**2 \u001b[30m d \u001b[31mv \u001b[30m =  256\n",
      "2       -2\n"
     ]
    },
    {
     "data": {
      "text/plain": [
       "256"
      ]
     },
     "execution_count": 77,
     "metadata": {},
     "output_type": "execute_result"
    }
   ],
   "source": [
    "#58\n",
    "from sympy import log\n",
    "\n",
    "doubleInt3(u*u-v*v,[u,v],[2,6],[-2,2])"
   ]
  },
  {
   "cell_type": "code",
   "execution_count": 78,
   "metadata": {},
   "outputs": [
    {
     "name": "stdout",
     "output_type": "stream",
     "text": [
      " 4       -2\n",
      "ʃ   d \u001b[31mu \u001b[30mʃ  \u001b[34mu**2/3 + u*(u - v)/9 \u001b[30m d \u001b[31mv \u001b[30m =  81\n",
      "1       -8\n"
     ]
    },
    {
     "data": {
      "text/plain": [
       "81"
      ]
     },
     "execution_count": 78,
     "metadata": {},
     "output_type": "execute_result"
    }
   ],
   "source": [
    "#59\n",
    "doubleInt3(u*(u-v)/9+u*u/3,[u,v],[1,4],[-8,-2])"
   ]
  },
  {
   "cell_type": "code",
   "execution_count": 79,
   "metadata": {},
   "outputs": [
    {
     "name": "stdout",
     "output_type": "stream",
     "text": [
      " 5       5\n",
      "ʃ   d \u001b[31mu \u001b[30mʃ  \u001b[34m1/(v**2 + 1) \u001b[30m d \u001b[31mv \u001b[30m =  -pi + 4*atan(5)\n",
      "1       1\n"
     ]
    },
    {
     "data": {
      "text/plain": [
       "-pi + 4*atan(5)"
      ]
     },
     "execution_count": 79,
     "metadata": {},
     "output_type": "execute_result"
    }
   ],
   "source": [
    "#60\n",
    "doubleInt3(1/(1+v*v),[u,v],[1,5],[1,5])"
   ]
  },
  {
   "cell_type": "code",
   "execution_count": 74,
   "metadata": {},
   "outputs": [],
   "source": []
  },
  {
   "cell_type": "code",
   "execution_count": null,
   "metadata": {},
   "outputs": [],
   "source": []
  }
 ],
 "metadata": {
  "kernelspec": {
   "display_name": "Python 3",
   "language": "python",
   "name": "python3"
  },
  "language_info": {
   "codemirror_mode": {
    "name": "ipython",
    "version": 3
   },
   "file_extension": ".py",
   "mimetype": "text/x-python",
   "name": "python",
   "nbconvert_exporter": "python",
   "pygments_lexer": "ipython3",
   "version": "3.6.5"
  },
  "toc": {
   "colors": {
    "hover_highlight": "#DAA520",
    "navigate_num": "#000000",
    "navigate_text": "#333333",
    "running_highlight": "#FF0000",
    "selected_highlight": "#FFD700",
    "sidebar_border": "#EEEEEE",
    "wrapper_background": "#FFFFFF"
   },
   "moveMenuLeft": true,
   "nav_menu": {
    "height": "12px",
    "width": "252px"
   },
   "navigate_menu": true,
   "number_sections": true,
   "sideBar": true,
   "threshold": 4,
   "toc_cell": false,
   "toc_section_display": "block",
   "toc_window_display": false,
   "widenNotebook": false
  }
 },
 "nbformat": 4,
 "nbformat_minor": 2
}
