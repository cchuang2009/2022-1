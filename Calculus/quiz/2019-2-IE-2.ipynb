{
 "cells": [
  {
   "cell_type": "markdown",
   "metadata": {},
   "source": [
    "<big><big><b><div align=\"center\">Calculus, 2019-2-IE-2</div></b></big></big>\n",
    "\n",
    "<h3><div align=\"left\">Name:&nbsp;&nbsp;&nbsp;&nbsp;&nbsp;&nbsp;&nbsp;&nbsp;&nbsp;&nbsp;&nbsp;&nbsp;&nbsp;&nbsp;&nbsp;&nbsp;&nbsp;  Sequence Number:&nbsp;&nbsp;&nbsp;&nbsp;&nbsp;&nbsp;&nbsp;&nbsp;&nbsp;&nbsp;&nbsp;&nbsp;&nbsp;&nbsp;&nbsp;&nbsp;&nbsp;&nbsp;&nbsp;&nbsp;&nbsp;&nbsp;&nbsp;&nbsp;</div></h3>"
   ]
  },
  {
   "cell_type": "markdown",
   "metadata": {
    "collapsed": true
   },
   "source": [
    "<big>\n",
    "<big><b>1$^\\circ$). (total 60%)</b> \n",
    "Suppose that \n",
    "$$\n",
    " f(x,y)=\\left|\\begin{matrix}\n",
    "  \\frac{xy^2}{x^2+y^2}& \\text{ for }(x,y)\\ne(0,0)\\\\\n",
    "  0 & \\text{ for }(x,y)=(0,0)\\\\\n",
    "\\end{matrix}\\right.\n",
    "$$\n",
    "1$^\\circ$.) Find the limit of $f(x,y)$ at $(x,y)=(0,0)$ if exists. (10%)<br>\n",
    "2$^\\circ$.) Find all the partial derivatives of $f(x,y)$. (total 10%, each 5%)<br>\n",
    "3$^\\circ$.) Find all the partial derivatives of $f(x,y)$ with respect to $x,y$ respectively at $(x,y)=(0,0)$, i.e. $\\mathbf{\\frac{\\partial f}{\\partial x}(0,0),\\frac{\\partial f}{\\partial y}(0,0)}$. (total 20%, each 10%)<br>\n",
    "4$^\\circ$.) Find the directional derivative of $f(x,y)$ at $(x,y)=(1,2)$ from $(1,2)$ to $(3,0)$. (10%)<br>\n",
    "5$^\\circ$.) Find the tangent plane of $f(x,y)$ at $(x,y)=(2,1)$. (10%)\n",
    "</big> \n",
    "</big>    "
   ]
  },
  {
   "cell_type": "markdown",
   "metadata": {},
   "source": [
    "Sol\n",
    "---\n",
    "1). 0, since$|x|,|y|\\le\\sqrt{x^2+y^2}\\Rightarrow |f(x,y)|\\le\\sqrt{x^2+y^2}\\to0$.<br>\n",
    "2). $\\nabla f=\\left[\\frac{y^4-x^2y^2}{(x^2+y^2)^2},\\frac{2x^3y}{(x^2+y^2)^2}\\right]$.<br>\n",
    "3). 0,0, since $$\\frac{\\partial f}{\\partial x}(0,0)=\\lim_{(x,0)\\to(0,0)}\\frac{0-0}{x^2+0}=0$$\n",
    "4). $$\\nabla f(1,2)=\\left[\\frac{12}{25},\\frac{4}{25}\\right], \n",
    "    \\vec e=\\left[\\frac{1}{\\sqrt2},\\frac{1}{\\sqrt2}\\right]\\to \\nabla_{\\vec e}f(1,2)=\\left[\\frac{12}{25},\\frac{4}{25}\\right]\\cdot\\left[\\frac{1}{\\sqrt2},\\frac{1}{\\sqrt2}\\right]=\\frac{4\\sqrt 2}{25}$$\n",
    "5). $[\\nabla f(2,1),-1]\\cdot[x-2,y-1,z-\\frac{4}{25} ]\\to z=\\frac{2}{5}-\\frac{3}{25}(x-2)+\\frac{8}{25}(y-1)$   "
   ]
  },
  {
   "cell_type": "code",
   "execution_count": 17,
   "metadata": {},
   "outputs": [
    {
     "name": "stdout",
     "output_type": "stream",
     "text": [
      "⎡       3                      2  2         2  ⎤\n",
      "⎢    2⋅x ⋅y      2⋅x⋅y      2⋅x ⋅y         x   ⎥\n",
      "⎢- ────────── + ───────, - ────────── + ───────⎥\n",
      "⎢           2    2    2             2    2    2⎥\n",
      "⎢  ⎛ 2    2⎞    x  + y     ⎛ 2    2⎞    x  + y ⎥\n",
      "⎣  ⎝x  + y ⎠               ⎝x  + y ⎠           ⎦\n"
     ]
    }
   ],
   "source": [
    "f=x*x*y/(x*x+y*y)\n",
    "pprint(grad(f,[x,y]))"
   ]
  },
  {
   "cell_type": "markdown",
   "metadata": {
    "collapsed": true
   },
   "source": [
    "<big>\n",
    "<big><b>$2^\\circ$).</b> \n",
    "(Total 20%) Suppose that $$f(x,y) = x^2-xy+y^2-4x+6y+6$$ is defined on $\\mathbf{D}\\subset\\mathbb{R}^2$.<br>\n",
    "$a^\\circ$). (5%) If $\\mathbf{D}=\\mathbb{R}^2$, find relative maximum, relative minimum, absolute maximum, absolute minimum, and <b>saddle point</b> if exist.<br>\n",
    "$b^\\circ$). (5%) If $\\mathbf{D}=\\{(x,y)\\in\\mathbb{R}^2|0\\le x,y\\le5 \\}$, find relative maximum, relative minimum, absolute maximum, absolute minimum, and <b>saddle point</b> if exist. <br>    \n",
    "$c^\\circ$). (10%) If $\\mathbf{D}=\\{(x,y)\\in\\mathbb{R}^2| 0\\le x\\le y \\le5 \\}$, find relative maximum, relative minimum, absolute maximum, absolute minimum, and <b>saddle point</b> if exist.    \n",
    "    \n",
    "</big> </big>"
   ]
  },
  {
   "cell_type": "code",
   "execution_count": 18,
   "metadata": {},
   "outputs": [
    {
     "name": "stdout",
     "output_type": "stream",
     "text": [
      "Hessian Matrix\n",
      "---\n",
      "⎡2   -1⎤\n",
      "⎢      ⎥\n",
      "⎣-1  2 ⎦\n",
      "only one critical (x,y)=(2/3,-8/3)\n",
      "   |H|=3>0, fxx=2>0:  local minimum here.\n"
     ]
    }
   ],
   "source": [
    "f=x**2-x*y+y**2-4*x+6*y+6\n",
    "criticaltype(f)"
   ]
  },
  {
   "cell_type": "code",
   "execution_count": 20,
   "metadata": {},
   "outputs": [
    {
     "data": {
      "text/plain": [
       "-3.333333333333334"
      ]
     },
     "execution_count": 20,
     "metadata": {},
     "output_type": "execute_result"
    }
   ],
   "source": [
    "(2/3)**2+2/3*8/3+(8/3)**2-8/3-48/3+6"
   ]
  },
  {
   "cell_type": "markdown",
   "metadata": {},
   "source": [
    "Sol\n",
    "---\n",
    "a). relative maximum: DNE, \n",
    "    relative minimum: -10/3,\n",
    "    absolute maximum: DNE,\n",
    "    absolute minimum: -10/3\n",
    "    no saddle point.<br>\n",
    "b). relative maximum: DNE, \n",
    "    relative minimum: DNE,\n",
    "    absolute maximum: 61,\n",
    "    absolute minimum: 2\n",
    "    no saddle point.<br>\n",
    "c). relative maximum: DNE, \n",
    "    relative minimum: DNE,\n",
    "    absolute maximum: 61,\n",
    "    absolute minimum: 11\n",
    "    no saddle point.<br>    \n",
    "    "
   ]
  },
  {
   "cell_type": "markdown",
   "metadata": {},
   "source": [
    "Sol\n",
    "---\n",
    "a). relative maximum: DNE, \n",
    "    relative minimum: $2(10/3)^3-10(10/3)^2+1\\approx-36.037$,\n",
    "    absolute maximum: DNE,\n",
    "    absolute minimum: DNE\n",
    "    saddle point: (0,0,1).<br>\n",
    "b). relative maximum: DNE, \n",
    "    relative minimum: DNE,\n",
    "    absolute maximum: 10,\n",
    "    absolute minimum: -59/4\n",
    "    saddle point: (0,0,1).<br>\n",
    "c). relative maximum: DNE, \n",
    "    relative minimum: $2(10/3)^3-10(10/3)^2+1\\approx-36.037$,\n",
    "    absolute maximum: DNE,\n",
    "    absolute minimum: DNE\n",
    "    saddle point: (0,0,1).<br>    \n",
    "    "
   ]
  },
  {
   "cell_type": "markdown",
   "metadata": {
    "collapsed": true
   },
   "source": [
    " <big>\n",
    "<big><b>3$^\\circ$).</b> \n",
    "(Total 20%) Suppose that $$f(x,y) = x^3+y^3-10xy+1$$ is defined on $\\mathbf{D}\\subset\\mathbb{R}^2$.<br>\n",
    "a$^\\circ$). (5%) If $\\mathbf{D}=\\mathbb{R}^2$, find relative maximum, relative minimum, absolute maximum, absolute minimum, and <b>saddle point</b> if exist.<br>\n",
    "b$^\\circ$). (5%) If $\\mathbf{D}=\\{(x,y)\\in\\mathbb{R}^2|0\\le x,y,\\text{ and }x+y\\le3 \\}$, find relative maximum, relative minimum, absolute maximum, absolute minimum, and <b>saddle point</b> if exist.  <br>   \n",
    "c$^\\circ$). (10%) If $\\mathbf{D}=\\{(x,y)\\in\\mathbb{R}^2| -5\\le y \\le5 \\}$, find relative maximum, relative minimum, absolute maximum, absolute minimum, and <b>saddle point</b> if exist.\n",
    "</big> </big>"
   ]
  },
  {
   "cell_type": "code",
   "execution_count": 21,
   "metadata": {},
   "outputs": [
    {
     "name": "stdout",
     "output_type": "stream",
     "text": [
      "Hessian Matrix\n",
      "---\n",
      "⎡6⋅x  -10⎤\n",
      "⎢        ⎥\n",
      "⎣-10  6⋅y⎦\n",
      "1. critical (x,y)=(0,0)\n",
      "   |H|=-100<0:  Saddle point here.\n",
      "2. critical (x,y)=(10/3,10/3)\n",
      "   |H|=300>0, fxx=20>0:  local minimum here.\n"
     ]
    }
   ],
   "source": [
    "f=x**3-10*x*y+y**3+1\n",
    "criticaltype(f)"
   ]
  },
  {
   "cell_type": "markdown",
   "metadata": {},
   "source": [
    "Sol\n",
    "---\n",
    "a). relative maximum: DNE, \n",
    "    relative minimum: $2(10/3)^3-10(10/3)^2+1\\approx-36.037$,\n",
    "    absolute maximum: DNE,\n",
    "    absolute minimum: DNE\n",
    "    saddle point: (0,0,1).<br>\n",
    "b). relative maximum: DNE, \n",
    "    relative minimum: DNE,\n",
    "    absolute maximum: 10,\n",
    "    absolute minimum: -59/4\n",
    "    saddle point: (0,0,1).<br>\n",
    "c). relative maximum: DNE, \n",
    "    relative minimum: $2(10/3)^3-10(10/3)^2+1\\approx-36.037$,\n",
    "    absolute maximum: DNE,\n",
    "    absolute minimum: DNE\n",
    "    saddle point: (0,0,1).<br>    \n",
    "    "
   ]
  },
  {
   "cell_type": "code",
   "execution_count": null,
   "metadata": {},
   "outputs": [],
   "source": []
  },
  {
   "cell_type": "code",
   "execution_count": 1,
   "metadata": {},
   "outputs": [],
   "source": [
    "%matplotlib inline\n",
    "\n",
    "#rcParams['figure.figsize'] = (10,3) #wide graphs by default\n",
    "import scipy\n",
    "import numpy as np\n",
    "import time\n",
    "from termcolor import colored\n",
    "from mpl_toolkits.mplot3d import Axes3D\n",
    "from IPython.display import clear_output,display,Image\n",
    "import matplotlib.pylab as plt\n",
    "from matplotlib import cm\n",
    "plt.style.use('ggplot')\n",
    "%matplotlib inline "
   ]
  },
  {
   "cell_type": "code",
   "execution_count": 16,
   "metadata": {},
   "outputs": [],
   "source": [
    "from sympy import hessian,symbols,solve,diff,sin,cos,pi,exp,det,pprint\n",
    "x,y,z,a,b,c,r=symbols(\"x y z a b c r\",real=True)\n",
    "\n",
    "grad = lambda func, vars :[diff(func,var) for var in vars]"
   ]
  },
  {
   "cell_type": "code",
   "execution_count": 14,
   "metadata": {},
   "outputs": [],
   "source": [
    "def criticaltype(f):\n",
    "    cpts=solve(grad(f,[x,y]),[x,y])\n",
    "    H=hessian(f,[x,y]);\n",
    "    H_det=H.det();\n",
    "    print(\"Hessian Matrix\\n---\")\n",
    "    pprint(H)\n",
    "    \n",
    "    num=1\n",
    "    if len(cpts)==0:\n",
    "       print(\"   no critical point!\")  \n",
    "    elif (type(cpts)==dict):\n",
    "       \"\"\"\n",
    "       If only one critical point, return {x:a,y:b} --- dict,\n",
    "       if more than one point return {(a,b),(c,d),...} --- list\n",
    "       \"\"\" \n",
    "       cx=cpts[x]\n",
    "       cy=cpts[y]\n",
    "       print(\"only one critical (x,y)=(%s,%s)\" %(cx,cy))\n",
    "       delta2=H_det.subs({x:cx,y:cy}) \n",
    "       if delta2<0:\n",
    "          print(\"   |H|=%s<0:  Saddle point here.\" %delta2)\n",
    "       elif delta2==0:\n",
    "          print(\"   |H|=0:  No conclusion.\") \n",
    "       else:\n",
    "          f1=diff(f,x,2).subs({x:cx,y:cy})\n",
    "          if f1>0:\n",
    "             print(\"   |H|=%s>0, fxx=%s>0:  local minimum here.\" %(delta2,f1))\n",
    "          else:\n",
    "             print(\"   |H|=%s>0, fxx=%s<0:    local maximum here.\" %(delta2,f1))\n",
    "    else:\n",
    "       for i in cpts: \n",
    "            cx=i[0]\n",
    "            cy=i[1]\n",
    "            print(\"%d. critical (x,y)=(%s,%s)\" %(num,cx,cy))\n",
    "            delta2=H_det.subs({x:cx,y:cy}) \n",
    "            if delta2<0:\n",
    "               print(\"   |H|=%s<0:  Saddle point here.\" %delta2)\n",
    "            elif delta2==0:\n",
    "               print(\"   |H|=0:  No conclusion.\") \n",
    "            else:\n",
    "               f1=diff(f,x,2).subs({x:cx,y:cy})\n",
    "               if f1>0:\n",
    "                  print(\"   |H|=%s>0, fxx=%s>0:  local minimum here.\" %(delta2,f1))\n",
    "               else:\n",
    "                  print(\"   |H|=%s>0, fxx=%s<0:    local maximum here.\" %(delta2,f1))\n",
    "            #print(H_det)\n",
    "            num+=1    "
   ]
  },
  {
   "cell_type": "code",
   "execution_count": 4,
   "metadata": {},
   "outputs": [],
   "source": [
    "def lagrangian(func,X,conditions):\n",
    "    \"\"\"\n",
    "    Inputs:\n",
    "      func: functions of 2/3 variable\n",
    "      X: list of variables, [x,y] or [x,y,z]\n",
    "      conditions: list of condictions, [cond1,cond2,...]\n",
    "    No output, but print out the result:\n",
    "      1. one soluntion: print value of variables\n",
    "      2. more than one solutions: print out minimum and maximum\n",
    "    \"\"\"\n",
    "    l,m=symbols(\"lambda mu\")\n",
    "    if len(X)==2 and len(conditions)==1:\n",
    "       L=func+l*conditions[0]\n",
    "       cpts=solve([diff(L,x),diff(L,y),conditions[0]],[x,y,l])\n",
    "       print(\"Function, %s, subject to %s=0\\n===\" %(func,conditions[0])) \n",
    "    elif  len(X)==3 and len(conditions)==1: \n",
    "       L=func+l*conditions[0]\n",
    "       cpts=solve([diff(L,x),diff(L,y),diff(L,z),conditions[0]],[x,y,z,l]) \n",
    "       print(\"Function, %s, subject to %s=0\\n===\" %(func,conditions[0])) \n",
    "    else:\n",
    "       L=func+l*conditions[0]+m* conditions[1]\n",
    "       cpts=solve([diff(L,x),diff(L,y),diff(L,z),conditions[0],conditions[1]],[x,y,z,l,m]) \n",
    "       print(\"Function, %s, subject to %s=0 and %s=0\\n===\" %(func,conditions[0],conditions[1]))\n",
    "    i=1\n",
    "    vals=[]\n",
    "    \n",
    "    if type(cpts)!=dict: \n",
    "       for cpt in cpts: \n",
    "           if len(X)==2:\n",
    "              funcVal=func.subs({x:cpt[0],y:cpt[1]})\n",
    "              print(\"  %d֯ ). f = %s = %s at critical value (x,y)=(%s,%s)\" %(i,func,funcVal,cpt[0],cpt[1]))\n",
    "           else:\n",
    "              funcVal=func.subs({x:cpt[0],y:cpt[1],z:cpt[2]})\n",
    "              print(\"  %d֯ ). f = %s = %s at critical value (x,y,z)=(%s,%s,%s)\" %(i,func, funcVal,cpt[0],cpt[1],cpt[2]))\n",
    "           vals.append(funcVal)\n",
    "           i+=1\n",
    "       print(\"  ---\\n\")  \n",
    "       print(\"  Maximum on the boundary is %s\" %max(vals))\n",
    "       print(\"  Minimum on the boundary is %s\" %min(vals)) \n",
    "    else:\n",
    "       dictlist=[]\n",
    "       for key, value in cpts.items():\n",
    "           temp = [key,value]\n",
    "           dictlist.append(temp)\n",
    "       cpts=dictlist \n",
    "       if len(X)==2:\n",
    "          funcVal=func.subs({x:cpts[0][1],y:cpts[1][1]}) \n",
    "          print(\"  f= %s = %s\\n\" %(func,funcVal)) \n",
    "          print(\"  Only one critical found, (x,y)=(%s,%s)\" %(cpts[0][1],cpts[1][1]))\n",
    "       else:\n",
    "          funcVal=func.subs({x:cpts[0][1],y:cpts[1][1],z:cpts[2][1]})\n",
    "          print(\"  f= %s = %s\\n\" %(func,funcVal))  \n",
    "          print(\"  Only one critical found, (x,y,z)=(%s,%s,%s)\" %(cpts[0][1],cpts[1][1],cpts[2][1]))\n",
    "       print(\"  ---\\n\")  \n",
    "       print(colored(\"  it could  be extremum.\", 'red') )\n",
    "          "
   ]
  },
  {
   "cell_type": "code",
   "execution_count": 18,
   "metadata": {},
   "outputs": [],
   "source": [
    "def lagrangian2(func,X,conditions):\n",
    "    \"\"\"\n",
    "    Inputs:\n",
    "      func: functions of 2/3 variable\n",
    "      X: list of variables, [x,y] or [x,y,z]\n",
    "      conditions: list of condictions, [cond1,cond2,...]\n",
    "    No output, but print out the result:\n",
    "      1. one soluntion: print value of variables\n",
    "      2. more than one solutions: print out minimum and maximum\n",
    "    \"\"\"\n",
    "    l,m=symbols(\"lambda mu\")\n",
    "    if len(X)==2 and len(conditions)==1:\n",
    "       L=func+l*conditions[0]\n",
    "       cpts=solve([diff(L,x),diff(L,y),conditions[0]],[x,y,l])\n",
    "       print(\"Function, %s, subject to %s=0\\n===\" %(func,conditions[0])) \n",
    "    elif  len(X)==3 and len(conditions)==1: \n",
    "       L=func+l*conditions[0]\n",
    "       cpts=solve([diff(L,x),diff(L,y),diff(L,z),conditions[0]],[x,y,z,l]) \n",
    "       print(\"Function, %s, subject to %s=0\\n===\" %(func,conditions[0])) \n",
    "    else:\n",
    "       L=func+l*conditions[0]+m* conditions[1]\n",
    "       cpts=solve([diff(L,x),diff(L,y),diff(L,z),conditions[0],conditions[1]],[x,y,z,l,m]) \n",
    "       print(\"Function, %s, subject to %s=0 and %s=0\\n===\" %(func,conditions[0],conditions[1]))\n",
    "    i=1\n",
    "    vals=[]\n",
    "    #print(cpts)\n",
    "    #if type(cpts)!=dict: \n",
    "    if len(cpts)>1:\n",
    "       for cpt in cpts:           \n",
    "           if len(X)==2:\n",
    "              funcVal=func.subs({x:cpt[0],y:cpt[1]})\n",
    "              print(\"  %d֯ ). f = %s = %s at critical value (x,y)=(%s,%s)\" %(i,func,funcVal,cpt[0],cpt[1]))\n",
    "           else:\n",
    "              funcVal=func.subs({x:cpt[0],y:cpt[1],z:cpt[2]})\n",
    "              print(\"  %d֯ ). f = %s = %s at critical value (x,y,z)=(%s,%s,%s)\" %(i,func, funcVal,cpt[0],cpt[1],cpt[2]))\n",
    "           vals.append(funcVal)\n",
    "           i+=1\n",
    "       print(\"  ---\\n\")  \n",
    "       print(\"  Maximum on the boundary is %s\" %max(vals))\n",
    "       print(\"  Minimum on the boundary is %s\" %min(vals)) \n",
    "    elif(len(cpts)==1): \n",
    "       if len(X)==2:\n",
    "          funcVal=func.subs({x:cpts[0][1],y:cpts[0][1]}) \n",
    "          print(\"  f= %s = %s\\n\" %(func,funcVal)) \n",
    "          print(\"  Only one critical found, (x,y)=(%s,%s)\" %(cpts[0][1],cpts[0][1]))\n",
    "       else:\n",
    "          funcVal=func.subs({x:cpts[0][1],y:cpts[0][1],z:cpts[0][2]})\n",
    "          print(\"  f= %s = %s\\n\" %(func,funcVal))  \n",
    "          print(\"  Only one critical found, (x,y,z)=(%s,%s,%s)\" %(cpts[0][1],cpts[0][1],cpts[0][2]))\n",
    "       print(\"  ---\\n\")  \n",
    "       print(colored(\"  it could  be extremum.\", 'red') )\n",
    "          "
   ]
  },
  {
   "cell_type": "code",
   "execution_count": 5,
   "metadata": {},
   "outputs": [
    {
     "name": "stdout",
     "output_type": "stream",
     "text": [
      "Hessian Matrix\n",
      "---\n",
      "⎡2   -1⎤\n",
      "⎢      ⎥\n",
      "⎣-1  2 ⎦\n",
      "only one critical (x,y)=(2/3,-8/3)\n",
      "   |H|=3>0, fxx=2>0:  local minimum here.\n"
     ]
    }
   ],
   "source": [
    "f=x**2-x*y+y**2-4*x+6*y+6\n",
    "criticaltype(f)"
   ]
  },
  {
   "cell_type": "code",
   "execution_count": 14,
   "metadata": {},
   "outputs": [
    {
     "name": "stdout",
     "output_type": "stream",
     "text": [
      "Hessian Matrix\n",
      "---\n",
      "⎡6⋅x  -10⎤\n",
      "⎢        ⎥\n",
      "⎣-10  6⋅y⎦\n",
      "1. critical (x,y)=(0,0)\n",
      "   |H|=-100<0:  Saddle point here.\n",
      "2. critical (x,y)=(10/3,10/3)\n",
      "   |H|=300>0, fxx=20>0:  local minimum here.\n"
     ]
    }
   ],
   "source": [
    "f=x**3-10*x*y+y**3+1\n",
    "criticaltype(f)"
   ]
  },
  {
   "cell_type": "code",
   "execution_count": 15,
   "metadata": {},
   "outputs": [
    {
     "name": "stdout",
     "output_type": "stream",
     "text": [
      "Function, x**3 - 10*x*y + y**3 + 1, subject to -x - y + 3=0\n",
      "===\n",
      "[(3/2, 3/2, -33/4)]\n",
      "  f= x**3 - 10*x*y + y**3 + 1 = -59/4\n",
      "\n",
      "  Only one critical found, (x,y)=(3/2,3/2)\n",
      "  ---\n",
      "\n",
      "\u001b[31m  it could  be extremum.\u001b[0m\n"
     ]
    }
   ],
   "source": [
    " cond=3-x-y\n",
    "lagrangian2(f,[x,y],[cond])"
   ]
  },
  {
   "cell_type": "code",
   "execution_count": 20,
   "metadata": {},
   "outputs": [
    {
     "name": "stdout",
     "output_type": "stream",
     "text": [
      "Function, x**3 - 10*x*y + y**3 + 1, subject to -x - y + 6.66666666666667=0\n",
      "===\n",
      "  f= x**3 - 10*x*y + y**3 + 1 = -36.0370370370370\n",
      "\n",
      "  Only one critical found, (x,y)=(3.33333333333333,3.33333333333333)\n",
      "  ---\n",
      "\n",
      "\u001b[31m  it could  be extremum.\u001b[0m\n"
     ]
    }
   ],
   "source": [
    " cond=20/3-x-y\n",
    "lagrangian2(f,[x,y],[cond])"
   ]
  },
  {
   "cell_type": "code",
   "execution_count": 11,
   "metadata": {},
   "outputs": [],
   "source": [
    "from sympy import symbols, diff,pprint,sqrt,limit,simplify\n",
    "x,y=symbols('x y')\n",
    "\n",
    "grad = lambda func, vars :[diff(func,var) for var in vars]\n"
   ]
  },
  {
   "cell_type": "code",
   "execution_count": 3,
   "metadata": {},
   "outputs": [],
   "source": [
    "limit?"
   ]
  },
  {
   "cell_type": "code",
   "execution_count": null,
   "metadata": {},
   "outputs": [],
   "source": []
  }
 ],
 "metadata": {
  "kernelspec": {
   "display_name": "Python 3",
   "language": "python",
   "name": "python3"
  },
  "language_info": {
   "codemirror_mode": {
    "name": "ipython",
    "version": 3
   },
   "file_extension": ".py",
   "mimetype": "text/x-python",
   "name": "python",
   "nbconvert_exporter": "python",
   "pygments_lexer": "ipython3",
   "version": "3.6.9"
  },
  "toc": {
   "colors": {
    "hover_highlight": "#DAA520",
    "navigate_num": "#000000",
    "navigate_text": "#333333",
    "running_highlight": "#FF0000",
    "selected_highlight": "#FFD700",
    "sidebar_border": "#EEEEEE",
    "wrapper_background": "#FFFFFF"
   },
   "moveMenuLeft": true,
   "nav_menu": {
    "height": "49px",
    "width": "252px"
   },
   "navigate_menu": true,
   "number_sections": true,
   "sideBar": true,
   "threshold": 4,
   "toc_cell": false,
   "toc_section_display": "block",
   "toc_window_display": false,
   "widenNotebook": false
  }
 },
 "nbformat": 4,
 "nbformat_minor": 1
}
