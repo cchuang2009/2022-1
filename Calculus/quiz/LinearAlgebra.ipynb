{
 "cells": [
  {
   "cell_type": "markdown",
   "metadata": {},
   "source": [
    "Suppose that \n",
    "\n",
    "$$A_{2\\times 2} = \\left(\\begin{array}{cc}\n",
    "    2 & 2 \\\\\n",
    "    3 & 1 \\\\\n",
    "  \\end{array}\\right)$$\n",
    "1. Use Characteristic Equation to get eigenvalues and eigenvectors:\n",
    "   1. $$0=|A-\\lambda I_2|=\\left|\\begin{pmatrix}\n",
    "    2-\\lambda & 2 \\\\\n",
    "    3 & 1-\\lambda\\\\\n",
    "  \\end{pmatrix}\\right|=\\lambda^2-3\\lambda-4\\Rightarrow \\lambda=4,-1$$\n",
    "2. Find eigenvectors:\n",
    "   1. $\\lambda_1=4$\n",
    "       $$(0,0)^T=(A-\\lambda_1I_2)\\vec X_1=\\left(\\begin{array}{cc}\n",
    "             2-4 & 2 \\\\\n",
    "             3 & 1-4 \\\\\n",
    "           \\end{array}\\right)  \\left(\\begin{array}{c}\n",
    "    x_1 \\\\\n",
    "    x_2 \\\\\n",
    "  \\end{array}\\right)\\Rightarrow x_1=x_2\\Rightarrow \\vec X_1=\\left(\\begin{array}{c}\n",
    "    1 \\\\\n",
    "    1 \\\\\\end{array}\\right)$$ \n",
    "   1. $\\lambda_2=-1$\n",
    "       $$(0,0)^T=(A-\\lambda_2I_2)\\vec X_2=\\left(\\begin{array}{cc}\n",
    "             2-(-1) & 2 \\\\\n",
    "             3 & 1-(-1) \\\\\n",
    "           \\end{array}\\right)  \\left(\\begin{array}{c}\n",
    "    x_1 \\\\\n",
    "    x_2 \\\\\n",
    "  \\end{array}\\right)\\Rightarrow 3x_1+2x_2=0\\Rightarrow \\vec X_2=\\left(\\begin{array}{c}\n",
    "    2 \\\\\n",
    "    -3 \\\\\\end{array}\\right)$$  \n",
    "3. Let $Q_{2\\times2}$ and:\n",
    "   1. $$\n",
    "      Q_{2\\times2}=(\\vec X_1, \\vec X2)=\\left(\\begin{array}{cc}\n",
    "    1 & 2 \\\\\n",
    "    1 & -3 \\\\\n",
    "  \\end{array}\\right)$$\n",
    "  2. Find $Q^{-1}$:\n",
    "  $$Q^{-1}=\\left(\\begin{array}{cc}\n",
    "    \\frac{3}{5} & \\frac{2}{5} \\\\\n",
    "    \\frac{1}{5} & -\\frac{1}{5} \\\\\n",
    "  \\end{array}\\right)$$\n",
    "4. Diagonalize $A$:\n",
    "$$Q^{-1}AQ=\\left(\\begin{array}{cc}\n",
    "    4 & 0 \\\\\n",
    "    0 & -1 \\\\\n",
    "  \\end{array}\\right)$$"
   ]
  },
  {
   "cell_type": "code",
   "execution_count": null,
   "metadata": {},
   "outputs": [],
   "source": []
  }
 ],
 "metadata": {
  "kernelspec": {
   "display_name": "Python 3",
   "language": "python",
   "name": "python3"
  },
  "language_info": {
   "codemirror_mode": {
    "name": "ipython",
    "version": 3
   },
   "file_extension": ".py",
   "mimetype": "text/x-python",
   "name": "python",
   "nbconvert_exporter": "python",
   "pygments_lexer": "ipython3",
   "version": "3.8.5"
  }
 },
 "nbformat": 4,
 "nbformat_minor": 4
}
