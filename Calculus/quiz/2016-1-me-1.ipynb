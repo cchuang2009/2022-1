{
 "cells": [
  {
   "cell_type": "markdown",
   "metadata": {},
   "source": [
    "# <div align=\"center\">Calculus, 2016-1-ME-1</div>\n",
    "\n",
    "<h3><div align=\"right\">Name:&nbsp;&nbsp;&nbsp;&nbsp;&nbsp;&nbsp;&nbsp;&nbsp;&nbsp;&nbsp;&nbsp;&nbsp;&nbsp;&nbsp;&nbsp;&nbsp;&nbsp;&nbsp;&nbsp;&nbsp;&nbsp;&nbsp;&nbsp;&nbsp;  Sequence Number:&nbsp;&nbsp;&nbsp;&nbsp;&nbsp;&nbsp;&nbsp;&nbsp;&nbsp;&nbsp;&nbsp;&nbsp;&nbsp;&nbsp;&nbsp;&nbsp;&nbsp;&nbsp;&nbsp;&nbsp;&nbsp;&nbsp;&nbsp;&nbsp;</div></h3>\n"
   ]
  },
  {
   "cell_type": "markdown",
   "metadata": {
    "collapsed": true
   },
   "source": [
    "<big>\n",
    "<big><b>1$^\\circ$). </b> </big>\n",
    "Find the following limits: (total 10%, each 5%) <br>\n",
    "a$^\\circ$). $\\mathbf{\\lim\\limits_{\\theta\\to0}\\frac{\\sin 3\\theta}{2\\theta}}$\n",
    "\n",
    "b$^\\circ$). $\\mathbf{\\lim\\limits_{x\\to2^-}(x+[-x])}$ where $\\mathbf{[\\bullet]}$ means the greatest integer function.\n",
    "</big> "
   ]
  },
  {
   "cell_type": "markdown",
   "metadata": {},
   "source": [
    "<big>\n",
    "<big><b>2$^\\circ$).</b></big>\n",
    "Evaluate the following derivatives of given functions: (total 48%, each 6% ($\\color{brown}{\\times8}$))<br />\n",
    "a$^\\circ$). $\\mathbf{\\left[\\left(\\frac{2 + x^2}{x}\\right)^{2} \\right]' }$\n",
    "b$^\\circ$). $\\mathbf{\\left[\\sqrt{\\left(\\frac{2 + x^2}{x}\\right) } \\right]'}$\n",
    "c$^\\circ$). $\\mathbf{\\left[x^2 \\sin x \\right]'}$\n",
    "d$^\\circ$). $\\mathbf{\\left[\\frac{x-1}{1+x} \\right]'}$\n",
    "<br />\n",
    "e$^\\circ$). $\\mathbf{\\left.\\frac{d }{dx}(-x^4+x^3+\\frac{3}{2}x+6)\\right|_{x=-1} }$\n",
    "f$^\\circ$). $\\mathbf{\\frac{d }{dx}\\left( \\frac{\\sin x}{1+\\cos x}\\right)}$\n",
    "g$^\\circ$). $\\mathbf{D_x\\left((\\cos x)^3\\right)}$<br />\n",
    "h$^\\circ$). $\\mathbf{f'(0)}$ if exists where \n",
    "$$\\mathbf{f (x) = \\left\\{ \\begin{array}{l}\n",
    "       x \\sin (1 / x) \\text{, if } x \\neq 0,\\\\\n",
    "       0, \\text{ if } x = 0\n",
    "     \\end{array} \\right. }$$\n",
    "</big> "
   ]
  },
  {
   "cell_type": "markdown",
   "metadata": {
    "collapsed": true
   },
   "source": [
    "<big>\n",
    "<big><b>3$^\\circ$).</b> </big>(total 12%, <font color=\"brown\">a$^\\circ$). 5%</font> and b$^\\circ$). <font color=\"brown\">7%)</font><br>\n",
    "a$^\\circ$). \n",
    "Suppose that \n",
    "$$ \\mathbf{f(x)=x^2\\sin x}$$\n",
    "Find the third derivative of $\\mathbf{f(x)}$,  $\\mathbf{f'''(x)}$.\n",
    "<br />\n",
    "b$^\\circ$). Suppose that $x,y\\in\\mathbb{R}$ satisfy:\n",
    "$$\\mathbf{ x^3+y^3=3x}$$\n",
    "Find the derivative of $y$ (5%), and find the position(s) of $(x,y)$ at which there is (are) horizontal tanget line(s) (2%). \n",
    "</big> "
   ]
  },
  {
   "cell_type": "markdown",
   "metadata": {
    "collapsed": true
   },
   "source": [
    "<big>\n",
    "<big><b>4$^\\circ$). </b> </big>(10%)\n",
    "Suppose that $\\mathbf{f(x)=\\cos x}$. <br>\n",
    "a$^\\circ$). (6%) For any $\\mathbf{a,b \\in\\mathbb{R}}$, prove that\n",
    "$$\\mathbf{\\left|\\cos a-\\cos b\\right|\\le \\left|a-b\\right|}$$\n",
    "\n",
    "b$^\\circ$). (4%) Also find out the range of $x$ such that \n",
    "$$\\mathbf{|\\cos x -\\sqrt3/2 |\\le|x-\\pi/6|.}$$\n",
    "</big> "
   ]
  },
  {
   "cell_type": "markdown",
   "metadata": {
    "collapsed": true
   },
   "source": [
    "<big>\n",
    "<big><b>5$^\\circ$).</b></big> (10%)\n",
    "Suppose that  $\\mathbf{f (t) = 4t^{1/3}+3t^{4/3}}$ for all $\\mathbf{t\\in \\mathbb{R}}$. <br>\n",
    "a$^\\circ$). (5%) Find all the critical values of $\\mathbf{f(t)}$.<br>\n",
    "b$^\\circ$). (5%) Find all the absolute extreme values of $\\mathbf{f (t)}$ if any. \n",
    "</big> "
   ]
  },
  {
   "cell_type": "markdown",
   "metadata": {
    "collapsed": true
   },
   "source": [
    "<big>\n",
    "<big><b>6$^\\circ$).</b></big> (total 10%, each 5%) Describe the following Theorems:<br>\n",
    "a$^\\circ$). Rolle's Theorem <br>\n",
    "b$^\\circ$). Mean Vaule Theorem. \n",
    "</big> "
   ]
  },
  {
   "cell_type": "markdown",
   "metadata": {
    "collapsed": true
   },
   "source": []
  },
  {
   "cell_type": "markdown",
   "metadata": {
    "collapsed": true
   },
   "source": []
  },
  {
   "cell_type": "markdown",
   "metadata": {
    "collapsed": true
   },
   "source": []
  },
  {
   "cell_type": "markdown",
   "metadata": {
    "collapsed": true
   },
   "source": []
  },
  {
   "cell_type": "markdown",
   "metadata": {
    "collapsed": true
   },
   "source": []
  },
  {
   "cell_type": "markdown",
   "metadata": {
    "collapsed": true
   },
   "source": []
  },
  {
   "cell_type": "markdown",
   "metadata": {
    "collapsed": true
   },
   "source": [
    "Answer\n",
    "---"
   ]
  },
  {
   "cell_type": "code",
   "execution_count": 2,
   "metadata": {
    "collapsed": false
   },
   "outputs": [],
   "source": [
    "from sympy import symbols, pprint,limit,diff,sin,sqrt,cos,solve,Derivative,Function,floor"
   ]
  },
  {
   "cell_type": "code",
   "execution_count": 3,
   "metadata": {
    "collapsed": true
   },
   "outputs": [],
   "source": [
    "x,t =symbols(\"x t\")"
   ]
  },
  {
   "cell_type": "code",
   "execution_count": 4,
   "metadata": {
    "collapsed": false
   },
   "outputs": [
    {
     "name": "stdout",
     "output_type": "stream",
     "text": [
      "1. a) The limit of sin(3t)/(2t)) at t=0, is:\n",
      "3/2\n"
     ]
    }
   ],
   "source": [
    "# 1. a)\n",
    "print(\"1. a) The limit of sin(3t)/(2t)) at t=0, is:\")\n",
    "pprint(limit(sin(3*t)/(2*t),t,0))"
   ]
  },
  {
   "cell_type": "code",
   "execution_count": 12,
   "metadata": {
    "collapsed": false
   },
   "outputs": [
    {
     "name": "stdout",
     "output_type": "stream",
     "text": [
      "1. b) The left limit of x+[-x] at x=2,, is:\n",
      "0\n"
     ]
    }
   ],
   "source": [
    "#1. b)\n",
    "print(\"1. b) The left limit of x+[-x] at x=2,, is:\")\n",
    "pprint(limit(x+floor(-x),x,2,dir=\"-\"))"
   ]
  },
  {
   "cell_type": "code",
   "execution_count": 13,
   "metadata": {
    "collapsed": false
   },
   "outputs": [
    {
     "name": "stdout",
     "output_type": "stream",
     "text": [
      "2. a) The derivatice of (2+x^2)^4, is:\n",
      "                       2\n",
      "  ⎛ 2    ⎞     ⎛ 2    ⎞ \n",
      "4⋅⎝x  + 2⎠   2⋅⎝x  + 2⎠ \n",
      "────────── - ───────────\n",
      "    x              3    \n",
      "                  x     \n"
     ]
    }
   ],
   "source": [
    "#2. a)\n",
    "print(\"2. a) The derivatice of (2+x^2)^2/x, is:\")\n",
    "pprint(diff(((2+x*x)/x)**2,x))"
   ]
  },
  {
   "cell_type": "code",
   "execution_count": 16,
   "metadata": {
    "collapsed": false
   },
   "outputs": [
    {
     "name": "stdout",
     "output_type": "stream",
     "text": [
      "2. b) The derivatice of (2+x^2)^(1/2)/x, is:\n",
      "          0.5                     \n",
      "  ⎛ 2    ⎞    ⎛          ⎛ 2    ⎞⎞\n",
      "  ⎜x  + 2⎟    ⎜      0.5⋅⎝x  + 2⎠⎟\n",
      "x⋅⎜──────⎟   ⋅⎜1.0 - ────────────⎟\n",
      "  ⎝  x   ⎠    ⎜            2     ⎟\n",
      "              ⎝           x      ⎠\n",
      "──────────────────────────────────\n",
      "               2                  \n",
      "              x  + 2              \n"
     ]
    }
   ],
   "source": [
    "#2. b)\n",
    "print(\"2. b) The derivatice of (2+x^2)^(1/2)/x, is:\")\n",
    "pprint(diff(((2+x*x)/x)**(1/2),x))"
   ]
  },
  {
   "cell_type": "code",
   "execution_count": 17,
   "metadata": {
    "collapsed": false
   },
   "outputs": [
    {
     "name": "stdout",
     "output_type": "stream",
     "text": [
      "2. c) The derivatice of x^2 sin x, is:\n",
      " 2                    \n",
      "x ⋅cos(x) + 2⋅x⋅sin(x)\n"
     ]
    }
   ],
   "source": [
    "#2. c)\n",
    "print(\"2. c) The derivatice of x^2 sin x, is:\")\n",
    "pprint(diff(x**2*sin(x),x))"
   ]
  },
  {
   "cell_type": "code",
   "execution_count": 18,
   "metadata": {
    "collapsed": false
   },
   "outputs": [
    {
     "name": "stdout",
     "output_type": "stream",
     "text": [
      "2. d) The derivatice of (x-1)/(1+x), is:\n",
      "   x - 1       1  \n",
      "- ──────── + ─────\n",
      "         2   x + 1\n",
      "  (x + 1)         \n"
     ]
    }
   ],
   "source": [
    "#2. d)\n",
    "print(\"2. d) The derivatice of (x-1)/(1+x), is:\")\n",
    "pprint(diff((x-1)/(1+x),x))"
   ]
  },
  {
   "cell_type": "code",
   "execution_count": 4,
   "metadata": {
    "collapsed": false
   },
   "outputs": [
    {
     "name": "stdout",
     "output_type": "stream",
     "text": [
      "2. e) The derivatice of -x^4+x^3+3x/2+6 at x=-1, is:\n",
      "17/2\n"
     ]
    }
   ],
   "source": [
    "#2. e)\n",
    "print(\"2. e) The derivatice of -x^4+x^3+3x/2+6 at x=-1, is:\")\n",
    "pprint(diff(-x**4+x**3+3*x/2+6,x).subs({x:-1}))"
   ]
  },
  {
   "cell_type": "code",
   "execution_count": 23,
   "metadata": {
    "collapsed": false
   },
   "outputs": [
    {
     "name": "stdout",
     "output_type": "stream",
     "text": [
      "2. f) The derivatice of (sin x)/(1+cos x), is:\n",
      "    ____________ ⎛                        2       ⎞             \n",
      "   ╱   sin(x)    ⎜    cos(x)           sin (x)    ⎟             \n",
      "  ╱  ────────── ⋅⎜────────────── + ───────────────⎟⋅(cos(x) + 1)\n",
      "╲╱   cos(x) + 1  ⎜2⋅(cos(x) + 1)                 2⎟             \n",
      "                 ⎝                 2⋅(cos(x) + 1) ⎠             \n",
      "────────────────────────────────────────────────────────────────\n",
      "                             sin(x)                             \n"
     ]
    }
   ],
   "source": [
    "#2. f)\n",
    "print(\"2. f) The derivatice of (sin x)/(1+cos x), is:\")\n",
    "pprint(diff(sqrt(sin(x)/(1+cos(x))),x))"
   ]
  },
  {
   "cell_type": "markdown",
   "metadata": {},
   "source": [
    "Note\n",
    "---\n",
    "above equal to the simple form, $\\mathbf{\\frac{1}{1+\\cos x}}$."
   ]
  },
  {
   "cell_type": "code",
   "execution_count": 24,
   "metadata": {
    "collapsed": false
   },
   "outputs": [
    {
     "name": "stdout",
     "output_type": "stream",
     "text": [
      "2. g) The derivatice of cos^3(x), is:\n",
      "             2   \n",
      "-3⋅sin(x)⋅cos (x)\n"
     ]
    }
   ],
   "source": [
    "#2. g)\n",
    "print(\"2. g) The derivatice of cos^3(x), is:\")\n",
    "pprint(diff(cos(x)**3,x))"
   ]
  },
  {
   "cell_type": "markdown",
   "metadata": {},
   "source": [
    "**2.** h)\n",
    "\n",
    "  \\begin{eqnarray*}\n",
    "    f' (0) & = & \\lim_{h \\rightarrow 0} \\frac{f (h) - f (0)}{h}\\\\\n",
    "    & = & \\lim_{h \\rightarrow 0} \\frac{h \\sin (1 / h)}{h}\\\\\n",
    "    & = & \\lim_{h \\rightarrow 0} \\sin (1 / h)\n",
    "  \\end{eqnarray*}\n",
    "  This concludes that the limit fails to exist.\n"
   ]
  },
  {
   "cell_type": "code",
   "execution_count": 25,
   "metadata": {
    "collapsed": false
   },
   "outputs": [
    {
     "name": "stdout",
     "output_type": "stream",
     "text": [
      "3. a) The third-order derivatice of x^2 sin x, is:\n",
      "   2                               \n",
      "- x ⋅cos(x) - 6⋅x⋅sin(x) + 6⋅cos(x)\n"
     ]
    }
   ],
   "source": [
    "#3. a)\n",
    "print(\"3. a) The third-order derivatice of x^2 sin x, is:\")\n",
    "pprint(diff(x**2*sin(x),x,3))"
   ]
  },
  {
   "cell_type": "code",
   "execution_count": 26,
   "metadata": {
    "collapsed": true
   },
   "outputs": [],
   "source": [
    "def ImplicitDiff(express):\n",
    "    l=diff(express,x);\n",
    "    print(\"y'(x) =\",solve(l,Derivative(y,x))[0])"
   ]
  },
  {
   "cell_type": "code",
   "execution_count": 27,
   "metadata": {
    "collapsed": false
   },
   "outputs": [
    {
     "name": "stdout",
     "output_type": "stream",
     "text": [
      "3. b) The derivatice of y for x^3+y^3=3x, is:\n",
      "y'(x) = (-x**2 + 1)/y(x)**2\n"
     ]
    }
   ],
   "source": [
    "y=Function(\"y\")\n",
    "y=y(x)\n",
    "print(\"3. b) The derivatice of y for x^3+y^3=3x, is:\")\n",
    "ImplicitDiff(x**3+y**3-3*x)"
   ]
  },
  {
   "cell_type": "markdown",
   "metadata": {},
   "source": [
    "If $y'(x)=0$, it implies $x=\\pm1$. Then\n",
    "$(\\pm1)^3+y^3=3\\cdot(\\pm1)\\to \\mathbf{y=\\pm2^{1/3}}$ \n"
   ]
  },
  {
   "cell_type": "markdown",
   "metadata": {},
   "source": [
    "4). a)\n",
    "\n",
    "\n",
    "\\begin{eqnarray}\n",
    " \\left|\\frac{\\cos a-\\cos b}{a-b}\\right|&=& \\left|\\sin x_0\\right|\\le1\\\\\n",
    " \\Longrightarrow&&\\left|\\cos a-\\cos b\\right|\\le \\left|a-b\\right|\n",
    "\\end{eqnarray}\n",
    "b) $\\mathbf{x\\in\\mathbb{R}}$"
   ]
  },
  {
   "cell_type": "markdown",
   "metadata": {},
   "source": [
    "5). **a)**  critical values:\n",
    "$$ \n",
    "  f'(t)=\\left(4t^{\\frac{1}{3}}+3t^{\\frac{4}{3}}\\right)'=\\frac{4}{3}\\left(t^{-\\frac{2}{3}}+3t^{\\frac{1}{3}}\\right)\n",
    "       =\\frac{4(1+3t)}{3t^\\frac{2}{3}}\n",
    "$$\n",
    "\n",
    "**i).** If $f'(t)=0\\Rightarrow1+3t=0\\to t=-1/3$<br>\n",
    "**ii).** If $f'(t)=0$ fails to exist, then the denominator is zero, $t^{2/3}=0\\to t=0$<br>\n",
    "\n",
    "**b).** Since \n",
    "  \n",
    "  $$\\lim\\limits_{t\\to\\pm\\infty} f(t) =+\\infty,$$\n",
    "  \n",
    "  $f(t)$ can only attain its absolute minimum. The minimum is $f(-1/3)$, which is smaller than 0, since it is smaller than $f(0)=0$. "
   ]
  },
  {
   "cell_type": "markdown",
   "metadata": {},
   "source": [
    "6) . <br>\n",
    "a). Rolle's theorem, Assume that $f (x)$ is continuous on $[a, b]$ and differentiable in $(a,\n",
    "  b)$. If $f (a) = f (b)$, there exists at least $c \\in (a, b)$ such that $f'\n",
    "  (c) = 0$. <br>\n",
    "b). Mean Value Theorem, MVT,\n",
    "Assume that $f (x)$\n",
    "  is continuous on $[a, b]$ and differentiable in $(a, b)$. There exists at\n",
    "  least one $c \\in (a, b)$ such that\n",
    "$$ f' (c) = \\frac{f (b) - f (a)}{b - a} $$"
   ]
  },
  {
   "cell_type": "code",
   "execution_count": 28,
   "metadata": {
    "collapsed": false
   },
   "outputs": [
    {
     "name": "stdout",
     "output_type": "stream",
     "text": [
      "[NbConvertApp] Converting notebook 2016-1-me-1.ipynb to html\n",
      "[NbConvertApp] Writing 274903 bytes to 2016-1-me-1.html\n"
     ]
    }
   ],
   "source": [
    "!jupyter nbconvert --to html 2016-1-me-1.ipynb"
   ]
  },
  {
   "cell_type": "code",
   "execution_count": null,
   "metadata": {
    "collapsed": true
   },
   "outputs": [],
   "source": []
  }
 ],
 "metadata": {
  "kernelspec": {
   "display_name": "Python 3",
   "language": "python",
   "name": "python3"
  },
  "language_info": {
   "codemirror_mode": {
    "name": "ipython",
    "version": 3
   },
   "file_extension": ".py",
   "mimetype": "text/x-python",
   "name": "python",
   "nbconvert_exporter": "python",
   "pygments_lexer": "ipython3",
   "version": "3.5.2"
  }
 },
 "nbformat": 4,
 "nbformat_minor": 1
}
