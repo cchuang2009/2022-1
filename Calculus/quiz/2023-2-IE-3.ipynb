{
 "cells": [
  {
   "cell_type": "markdown",
   "metadata": {},
   "source": [
    "<big><big><b><div align=\"center\">Calculus, 2023-2-IE-3, Integration of Multiple-Variable Functions</div></b></big></big>\n",
    "<br>\n",
    "<b><big>Name:________________ , Sequence Number:________________ </big></b>"
   ]
  },
  {
   "cell_type": "markdown",
   "metadata": {
    "collapsed": true,
    "jupyter": {
     "outputs_hidden": true
    }
   },
   "source": [
    "# <big>\n",
    "<big><b>1$^\\circ$). (total 40% , each 10%)</b> \n",
    "Evaluate the following double integrals:<br>\n",
    "a$^\\circ$). Suppose that $R=\\{(x,y)\\in\\mathbb{R}^2|-1\\le x\\le2, 0\\le y\\le1\\}$, and $e$ is Euler number:\n",
    "    $$\\iint_Rxy^2dA$$\n",
    "b$^\\circ$). Suppose that $R=\\{(x,y)\\in\\mathbb{R}^2|0\\le y\\le1, 0\\le x\\le y\\}$,\n",
    "    $$ \\iint_R e^{-x/y}dA $$   \n",
    "c$^\\circ$). Suppose that $R=\\{(x,y)\\in\\mathbb{R}^2|1\\le x^2+y^2\\le4\\}$,\n",
    "    $$ \\iint_R e^{x^2+y^2}dA $$     \n",
    "d$^\\circ$). Suppose that $R=\\{(x,y,z)\\in\\mathbb{R}^2|y\\ge0, x\\in \\mathbb{R}\\}$,\n",
    "    $$ \\iint_R e^{-y^2+2xy-2x^2}dV $$\n",
    "</big>  \n",
    "</big>    "
   ]
  },
  {
   "cell_type": "markdown",
   "metadata": {
    "collapsed": true,
    "jupyter": {
     "outputs_hidden": true
    }
   },
   "source": [
    "<big>\n",
    "<big><b>2$^\\circ$).</b> \n",
    "(Total 60% each 15%) Evaluate the following triple integrals:<br>\n",
    "a$^\\circ$). Suppose that $V=\\{(x,y,z)\\in\\mathbb{R}^3|-2\\le x,y,z\\le1\\}$:\n",
    "$$\\iiint_V x dV$$ \n",
    "b$^\\circ$). Suppose that $V=\\{(x,y,z)\\in\\mathbb{R}^3|0\\le y\\le z\\le x\\le2\\}$:\n",
    "$$\\iiint_V xyz dV$$   \n",
    "c$^\\circ$). Suppose that $V$ is volume of solid which is within a cylinder, $\\{(x,y,z)\\in\\mathbb{R}^3|0\\le z \\le1,0\\le x^2+y^2\\le 4\\}$:\n",
    "$$\\iiint_V( z+y)dV$$ \n",
    "d$^\\circ$). Suppose that $V$ is volume of solid which is within a cylinder, $\\{(x,y,z)\\in\\mathbb{R}^3|x^2+y^2+z^2\\le 4\\}$:\n",
    "$$\\iiint_V(y^2)dV$$ \n",
    "          \n",
    "</big> </big>"
   ]
  },
  {
   "cell_type": "raw",
   "metadata": {},
   "source": [
    "\n",
    "\n",
    "\n",
    "\n",
    "\n",
    "\n",
    "\n",
    "\n",
    "\n",
    "\n",
    "\n",
    "\n",
    "\n",
    "\n",
    "\n",
    "\n",
    "\n",
    "\n",
    "\n",
    "\n",
    "\n",
    "\n",
    "\n",
    "\n",
    "\n",
    "\n",
    "\n",
    "\n",
    "\n",
    "\n",
    "\n",
    "\n",
    "\n",
    "\n",
    "\n",
    "\n",
    "\n",
    "\n",
    "\n"
   ]
  },
  {
   "cell_type": "code",
   "execution_count": 5,
   "metadata": {},
   "outputs": [],
   "source": [
    "from MultipleCalculus import *\n",
    "from IPython.display import Latex,HTML"
   ]
  },
  {
   "cell_type": "code",
   "execution_count": null,
   "metadata": {},
   "outputs": [],
   "source": []
  },
  {
   "cell_type": "code",
   "execution_count": 6,
   "metadata": {},
   "outputs": [
    {
     "data": {
      "text/latex": [
       "\\begin{align}\\iint_{\\Large{\\mathbf{V}}=\\left\\{\\large{\\begin{array}{l} -1 \\le x \\le 2,\\cr 0 \\le y \\le 1,\\cr\\end{array}}\\right\\}} \\color{brown}{x y^{2}} dV&=& \\iint_{\\Large{\\mathbf{V}}} \\color{brown}{x y^{2}}  d x  d y  \\cr \\color{blue}{\\text{Fubini's Theorem}}&=&\\int_{-1}^{2}d{x}\\int_{0}^{1} \\color{brown}{x y^{2}}d{y}\\cr &=&\\int_{-1}^{2} \\left.\\color{brown}{\\frac{x y^{3}}{3}} \\right|_{0}^{1} d{x}\\cr&=&\\int_{-1}^{2} \\color{brown}{\\frac{x}{3}}d{x}\\cr &=&\\left. \\color{brown}{\\frac{x^{2}}{6}} \\right|_{-1}^{2}\\cr&=&0.5\\end{align}"
      ],
      "text/plain": [
       "<IPython.core.display.Latex object>"
      ]
     },
     "execution_count": 6,
     "metadata": {},
     "output_type": "execute_result"
    }
   ],
   "source": [
    "#1,\n",
    "f=x*y**2\n",
    "X=[x,y]\n",
    "XR=[[-1,2],[0,1]]\n",
    "\n",
    "Latex(MultipleIntegral(f,X,XR))"
   ]
  },
  {
   "cell_type": "code",
   "execution_count": 5,
   "metadata": {},
   "outputs": [
    {
     "data": {
      "text/latex": [
       "\\begin{eqnarray}\\iint_{\\Large{\\mathbf{V}}=\\left\\{\\large{\\begin{array}{l} 0 \\le y \\le 1,\\cr 0 \\le x \\le y,\\cr\\end{array}}\\right\\}} \\color{brown}{e^{- \\frac{x}{y}}} dV&=& \\iint_{\\Large{\\mathbf{V}}} \\color{brown}{e^{- \\frac{x}{y}}}  d y  d x  \\cr \\color{blue}{\\text{Fubini's Theorem}}&=&\\int_{0}^{1}d{y}\\int_{0}^{y} \\color{brown}{e^{- \\frac{x}{y}}}d{x}\\cr &=&\\int_{0}^{1} \\left.\\color{brown}{- y e^{- \\frac{x}{y}}} \\right|_{0}^{y} d{y}\\cr&=&\\int_{0}^{1} \\color{brown}{- \\frac{y}{e} + y}d{y}\\cr &=&\\left. \\color{brown}{\\frac{y^{2} \\left(-1 + e\\right)}{2 e}} \\right|_{0}^{1}\\cr&=&\\frac{-1 + e}{2 e}\\end{eqnarray}"
      ],
      "text/plain": [
       "<IPython.core.display.Latex object>"
      ]
     },
     "execution_count": 5,
     "metadata": {},
     "output_type": "execute_result"
    }
   ],
   "source": [
    "#1, b)\n",
    "f=exp(-x/y)\n",
    "X=[y,x]\n",
    "XR=[[0,1],[0,y]]\n",
    "\n",
    "MultipleIntegral(f,X,XR)"
   ]
  },
  {
   "cell_type": "code",
   "execution_count": 10,
   "metadata": {},
   "outputs": [
    {
     "data": {
      "text/latex": [
       "\\begin{eqnarray}\\iint_{\\Large{\\mathbf{V}}=\\left\\{\\large{\\begin{array}{l} 0 \\le θ \\le 2 \\pi,\\cr 1 \\le r \\le 2,\\cr\\end{array}}\\right\\}} \\color{brown}{r e^{r^{2}}} dV&=& \\iint_{\\Large{\\mathbf{V}}} \\color{brown}{r e^{r^{2}}}  d θ  d r  \\cr \\color{blue}{\\text{Fubini's Theorem}}&=&\\int_{0}^{2 \\pi}d{θ}\\int_{1}^{2} \\color{brown}{r e^{r^{2}}}d{r}\\cr &=&\\int_{0}^{2 \\pi} \\left.\\color{brown}{\\frac{e^{r^{2}}}{2}} \\right|_{1}^{2} d{θ}\\cr&=&\\int_{0}^{2 \\pi} \\color{brown}{- \\frac{e}{2} + \\frac{e^{4}}{2}}d{θ}\\cr &=&\\left. \\color{brown}{θ \\left(- \\frac{e}{2} + \\frac{e^{4}}{2}\\right)} \\right|_{0}^{2 \\pi}\\cr&=&2 \\pi \\left(- \\frac{e}{2} + \\frac{e^{4}}{2}\\right)\\end{eqnarray}"
      ],
      "text/plain": [
       "<IPython.core.display.Latex object>"
      ]
     },
     "execution_count": 10,
     "metadata": {},
     "output_type": "execute_result"
    }
   ],
   "source": [
    "#1, c)\n",
    "f=exp(r**2)*r\n",
    "#x=r*cos(theta)\n",
    "#y=r*sin(theta)\n",
    "X=[theta,r]\n",
    "\n",
    "XR=[[0,2*pi],[1,2]]   \n",
    "MultipleIntegral(f,X,XR)"
   ]
  },
  {
   "cell_type": "markdown",
   "metadata": {},
   "source": [
    "2. (d)\n",
    "\\begin{eqnarray}\n",
    "\\iint_R e^{-y^2+2xy-2x^2}dA&=&\\int_0^\\infty dy\\int_{-\\infty}^\\infty e^{-2(x-y/2)^2-y^2/2}dx\\\\\n",
    "           &=&\\int_0^\\infty dy\\int_{-\\infty}^\\infty e^{-x^2-y^2/2}dx\\\\\n",
    "           &=&\\int_0^\\infty e^{-y^2/2}dx\\int_{-\\infty}^\\infty e^{-2x^2}dx=\\frac{\\pi}{2}\n",
    "\\end{eqnarray}\n"
   ]
  },
  {
   "cell_type": "raw",
   "metadata": {},
   "source": []
  },
  {
   "cell_type": "code",
   "execution_count": 2,
   "metadata": {},
   "outputs": [],
   "source": []
  },
  {
   "cell_type": "raw",
   "metadata": {},
   "source": []
  },
  {
   "cell_type": "code",
   "execution_count": 7,
   "metadata": {},
   "outputs": [
    {
     "data": {
      "text/latex": [
       "\\begin{align}\\iiint_{\\Large{\\mathbf{V}}=\\left\\{\\large{\\begin{array}{l} -2 \\le x \\le 1,\\cr -2 \\le y \\le 1,\\cr -2 \\le z \\le 1,\\cr\\end{array}}\\right\\}} \\color{brown}{x y z} dV&=& \\iiint_{\\Large{\\mathbf{V}}} \\color{brown}{x y z}  d x  d y  d z  \\cr \\color{blue}{\\text{Fubini's Theorem}}&=&\\int_{-2}^{1}d{x}\\int_{-2}^{1}d{y}\\int_{-2}^{1} \\color{brown}{x y z}d{z}\\cr &=&\\int_{-2}^{1} d{x}\\int_{-2}^{1} \\left.\\color{brown}{\\frac{x y z^{2}}{2}} \\right|_{-2}^{1} d{y}\\cr&=&\\int_{-2}^{1}d{x}\\int_{-2}^{1} \\color{brown}{- \\frac{3 x y}{2}}d{y}\\cr &=&\\int_{-2}^{1} \\left. \\color{brown}{- \\frac{3 x y^{2}}{4}} \\right|_{-2}^{1} d{x}\\cr&=&\\int_{-2}^{1} \\color{brown}{\\frac{9 x}{4}}d{x}\\cr &=&\\left. \\color{brown}{\\frac{9 x^{2}}{8}} \\right|_{-2}^{1}\\cr&=&-3.375\\end{align}"
      ],
      "text/plain": [
       "<IPython.core.display.Latex object>"
      ]
     },
     "execution_count": 7,
     "metadata": {},
     "output_type": "execute_result"
    }
   ],
   "source": [
    "#2, a\n",
    "f=x*y*z\n",
    "X=[x,y,z]\n",
    "XR=[[-2,1],[-2,1],[-2,1]]\n",
    "\n",
    "Latex(MultipleIntegral(f,X,XR))"
   ]
  },
  {
   "cell_type": "code",
   "execution_count": 9,
   "metadata": {},
   "outputs": [
    {
     "data": {
      "text/latex": [
       "\\begin{align}\\iiint_{\\Large{\\mathbf{V}}=\\left\\{\\large{\\begin{array}{l} 0 \\le x \\le 2,\\cr 0 \\le z \\le x,\\cr 0 \\le y \\le z,\\cr\\end{array}}\\right\\}} \\color{brown}{x y z} dV&=& \\iiint_{\\Large{\\mathbf{V}}} \\color{brown}{x y z}  d x  d z  d y  \\cr \\color{blue}{\\text{Fubini's Theorem}}&=&\\int_{0}^{2}d{x}\\int_{0}^{x}d{z}\\int_{0}^{z} \\color{brown}{x y z}d{y}\\cr &=&\\int_{0}^{2} d{x}\\int_{0}^{x} \\left.\\color{brown}{\\frac{x y^{2} z}{2}} \\right|_{0}^{z} d{z}\\cr&=&\\int_{0}^{2}d{x}\\int_{0}^{x} \\color{brown}{\\frac{x z^{3}}{2}}d{z}\\cr &=&\\int_{0}^{2} \\left. \\color{brown}{\\frac{x z^{4}}{8}} \\right|_{0}^{x} d{x}\\cr&=&\\int_{0}^{2} \\color{brown}{\\frac{x^{5}}{8}}d{x}\\cr &=&\\left. \\color{brown}{\\frac{x^{6}}{48}} \\right|_{0}^{2}\\cr&=&1.33333333333333\\end{align}"
      ],
      "text/plain": [
       "<IPython.core.display.Latex object>"
      ]
     },
     "execution_count": 9,
     "metadata": {},
     "output_type": "execute_result"
    }
   ],
   "source": [
    "#2, b\n",
    "f=x*y*z\n",
    "X=[x,z,y]\n",
    "XR=[[0,2],[0,x],[0,z]]\n",
    "\n",
    "Latex(MultipleIntegral(f,X,XR))"
   ]
  },
  {
   "cell_type": "code",
   "execution_count": null,
   "metadata": {},
   "outputs": [],
   "source": []
  },
  {
   "cell_type": "code",
   "execution_count": 7,
   "metadata": {},
   "outputs": [
    {
     "data": {
      "text/latex": [
       "\\begin{eqnarray}\\iiint_{V} \\color{brown}{y + z} dA&=& \\iiint_{V} \\color{brown}{y + z} dx dy dz \\cr &=& \\iiint_{V} \\color{brown} {\\left( r \\sin{\\left(\\theta \\right)} + z \\right) }\\cdot \\color{blue}{r} d r d \\theta d z \\cr\\end{eqnarray}where $r$ is the absolute value of determinant of Jacobian, $\\Large{{||\\frac{\\partial (x,y,z)}{\\partial (r,\\theta,z)}||}}$. Thus\\begin{eqnarray}\\int^{2}_{0}d{r}\\int^{2 \\pi}_{0}d{\\theta}\\int^{1}_{0}\\color{brown}{r \\left(r \\sin{\\left(\\theta \\right)} + z\\right)}d{z} &=& \\int^{2}_{0} dr \\int^{2 \\pi}_{0}\\left.\\color{brown}{r^{2} z \\sin{\\left(\\theta \\right)} + \\frac{r z^{2}}{2}}\\right|^{\\large{1}}_{\\large{0}}d{\\theta}\\cr&=& \\int^{2}_{0}\\left.\\color{brown}{- r^{2} \\cos{\\left(\\theta \\right)} + \\frac{r \\theta}{2}}\\right|^{\\large{2 \\pi}}_{\\large{0}}d{r}\\cr&=& \\int^{2}_{0}\\color{brown}{\\pi r}d{r}\\cr&=&\\left.{\\color{brown}{\\frac{\\pi r^{2}}{2}}}\\right|^{\\large{2}}_{\\large{0}}={2 \\pi}\\cr\\end{eqnarray}"
      ],
      "text/plain": [
       "<IPython.core.display.Latex object>"
      ]
     },
     "execution_count": 7,
     "metadata": {},
     "output_type": "execute_result"
    }
   ],
   "source": [
    "#2 c) \n",
    "\n",
    "Latex(TripleInt_Cylind(y+z,[x,y,z],[r*cos(Theta),r*sin(Theta),z],[r,Theta,z],[0,2],[0,2*pi],[0,1]))"
   ]
  },
  {
   "cell_type": "code",
   "execution_count": 11,
   "metadata": {},
   "outputs": [
    {
     "data": {
      "text/latex": [
       "\\begin{eqnarray}\\iiint_{V} \\color{brown}{y^{2}} dA&=& \\iiint_{V} \\color{brown}{y^{2}} dx dy dz \\cr &=& \\iiint_{V} \\color{brown} {\\left( \\rho^{2} \\sin^{2}{\\left(\\phi \\right)} \\sin^{2}{\\left(\\theta \\right)} \\right) }\\cdot \\color{blue}{\\rho^{2} \\sin{\\left(\\phi \\right)}} d \\rho d \\theta d \\phi \\cr\\end{eqnarray}where $\\rho^{2} \\sin{\\left(\\phi \\right)}$ is the absolute value of determinant of Jacobian, $\\Large{{||\\frac{\\partial (x,y,z)}{\\partial (\\rho,\\theta,\\phi)}||}}$. Thus\\begin{eqnarray}\\int^{2}_{0}d{\\rho}\\int^{2 \\pi}_{0}d{\\theta}\\int^{pi}_{0}\\color{brown}{\\rho^{4} \\sin^{3}{\\left(\\phi \\right)} \\sin^{2}{\\left(\\theta \\right)}}d{\\phi} &=& \\int^{2}_{0}d{\\rho}\\int^{2 \\pi}_{0}\\left.\\color{brown}{𝝆^{4} \\left(\\frac{\\cos^{3}{\\left(𝝋 \\right)}}{3} - \\cos{\\left(𝝋 \\right)}\\right) \\sin^{2}{\\left(𝜽 \\right)}}\\right|^{\\large{\\pi}}_{\\large{0}}d{\\theta}\\cr&=& \\int^{2}_{0}\\left.\\color{brown}{\\frac{4 𝝆^{4} \\left(\\frac{𝜽}{2} - \\frac{\\sin{\\left(𝜽 \\right)} \\cos{\\left(𝜽 \\right)}}{2}\\right)}{3}}\\right|^{\\large{2 \\pi}}_{\\large{0}}d{\\rho}\\cr&=& \\int^{2}_{0}\\color{brown}{\\frac{4 \\pi 𝝆^{4}}{3}}d{\\rho}\\cr&=&\\left.{\\color{brown}{\\frac{4 \\pi 𝝆^{5}}{15}}}\\right|^{\\large{2}}_{\\large{0}}={\\frac{128 \\pi}{15}}\\cr\\end{eqnarray}"
      ],
      "text/plain": [
       "<IPython.core.display.Latex object>"
      ]
     },
     "execution_count": 11,
     "metadata": {},
     "output_type": "execute_result"
    }
   ],
   "source": [
    "#2, d\n",
    "f= y**2\n",
    "X=[x,y,z]\n",
    "XU=[Rho*cos(Theta)*sin(Phi),Rho*sin(Theta)*sin(Phi),Rho*cos(Phi)]\n",
    "\n",
    "U=[Rho,Theta,Phi]\n",
    "XR=[[0,2*pi],[0,1],[r**2,sqrt(2-r**2)]]\n",
    "TripleInt_Spherical(f,X,XU,U,[0,2],[0,2*pi],[0,pi])\n",
    "#Latex(MultipleIntegral(f,X,XR))"
   ]
  },
  {
   "cell_type": "markdown",
   "metadata": {},
   "source": []
  },
  {
   "cell_type": "markdown",
   "metadata": {},
   "source": []
  },
  {
   "cell_type": "code",
   "execution_count": null,
   "metadata": {},
   "outputs": [],
   "source": []
  }
 ],
 "metadata": {
  "hide_input": false,
  "kernelspec": {
   "display_name": "Python 3 (ipykernel)",
   "language": "python",
   "name": "python3"
  },
  "language_info": {
   "codemirror_mode": {
    "name": "ipython",
    "version": 3
   },
   "file_extension": ".py",
   "mimetype": "text/x-python",
   "name": "python",
   "nbconvert_exporter": "python",
   "pygments_lexer": "ipython3",
   "version": "3.10.9"
  },
  "toc": {
   "colors": {
    "hover_highlight": "#DAA520",
    "navigate_num": "#000000",
    "navigate_text": "#333333",
    "running_highlight": "#FF0000",
    "selected_highlight": "#FFD700",
    "sidebar_border": "#EEEEEE",
    "wrapper_background": "#FFFFFF"
   },
   "moveMenuLeft": true,
   "nav_menu": {
    "height": "49px",
    "width": "252px"
   },
   "navigate_menu": true,
   "number_sections": true,
   "sideBar": true,
   "threshold": 4,
   "toc_cell": false,
   "toc_section_display": "block",
   "toc_window_display": false,
   "widenNotebook": false
  }
 },
 "nbformat": 4,
 "nbformat_minor": 4
}
