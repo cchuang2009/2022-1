{
  "nbformat": 4,
  "nbformat_minor": 0,
  "metadata": {
    "colab": {
      "provenance": []
    },
    "kernelspec": {
      "name": "python3",
      "display_name": "Python 3"
    },
    "language_info": {
      "name": "python"
    }
  },
  "cells": [
    {
      "cell_type": "code",
      "execution_count": 27,
      "metadata": {
        "colab": {
          "base_uri": "https://localhost:8080/"
        },
        "id": "mST6iYUrpXjN",
        "outputId": "6439ce93-4a6c-43b5-a5e7-df8f3889ca78"
      },
      "outputs": [
        {
          "output_type": "stream",
          "name": "stdout",
          "text": [
            "Drive already mounted at /content/drive; to attempt to forcibly remount, call drive.mount(\"/content/drive\", force_remount=True).\n"
          ]
        }
      ],
      "source": [
        "from google.colab import drive\n",
        "\n",
        "drive.mount('/content/drive')"
      ]
    },
    {
      "cell_type": "code",
      "source": [
        "import sys\n",
        "sys.path.append('/content/drive/MyDrive/2022/111-1/Calculus')\n"
      ],
      "metadata": {
        "id": "eYY3uOSSsnOJ"
      },
      "execution_count": 28,
      "outputs": []
    },
    {
      "cell_type": "code",
      "source": [
        "from MultipleCalculus import *"
      ],
      "metadata": {
        "id": "l6CLGTJWtUyS"
      },
      "execution_count": 29,
      "outputs": []
    },
    {
      "cell_type": "code",
      "source": [
        "typeset()"
      ],
      "metadata": {
        "colab": {
          "base_uri": "https://localhost:8080/",
          "height": 17
        },
        "id": "2kLW2oR8v8PA",
        "outputId": "149a4138-4dfd-4cd7-fe16-217756780819"
      },
      "execution_count": 30,
      "outputs": [
        {
          "output_type": "display_data",
          "data": {
            "text/plain": [
              "<IPython.core.display.HTML object>"
            ],
            "text/html": [
              "\n",
              "      <script src=\"https://www.gstatic.com/external_hosted/mathjax/latest/MathJax.js?config=TeX-AMS_HTML-full,Safe&delayStartupUntil=configured\"></script>\n",
              "      <script>\n",
              "        (() => {\n",
              "          const mathjax = window.MathJax;\n",
              "          mathjax.Hub.Config({\n",
              "          'tex2jax': {\n",
              "            'inlineMath': [['$', '$'], ['\\(', '\\)']],\n",
              "            'displayMath': [['$$', '$$'], ['\\[', '\\]']],\n",
              "            'processEscapes': true,\n",
              "            'processEnvironments': true,\n",
              "            'skipTags': ['script', 'noscript', 'style', 'textarea', 'code'],\n",
              "            'displayAlign': 'center',\n",
              "          },\n",
              "          'HTML-CSS': {\n",
              "            'styles': {'.MathJax_Display': {'margin': 0}},\n",
              "            'linebreaks': {'automatic': true},\n",
              "            // Disable to prevent OTF font loading, which aren't part of our\n",
              "            // distribution.\n",
              "            'imageFont': null,\n",
              "          },\n",
              "          'messageStyle': 'none'\n",
              "        });\n",
              "        mathjax.Hub.Configured();\n",
              "      })();\n",
              "      </script>\n",
              "      "
            ]
          },
          "metadata": {}
        }
      ]
    },
    {
      "cell_type": "code",
      "source": [
        "typeset()\n",
        "Integration_Substitution(x*sin(x**2),x,x**2)"
      ],
      "metadata": {
        "colab": {
          "base_uri": "https://localhost:8080/",
          "height": 104
        },
        "id": "1-JTg-aitcDK",
        "outputId": "84108542-9240-4c32-aa13-c13a15748c41"
      },
      "execution_count": 32,
      "outputs": [
        {
          "output_type": "display_data",
          "data": {
            "text/plain": [
              "<IPython.core.display.HTML object>"
            ],
            "text/html": [
              "\n",
              "      <script src=\"https://www.gstatic.com/external_hosted/mathjax/latest/MathJax.js?config=TeX-AMS_HTML-full,Safe&delayStartupUntil=configured\"></script>\n",
              "      <script>\n",
              "        (() => {\n",
              "          const mathjax = window.MathJax;\n",
              "          mathjax.Hub.Config({\n",
              "          'tex2jax': {\n",
              "            'inlineMath': [['$', '$'], ['\\(', '\\)']],\n",
              "            'displayMath': [['$$', '$$'], ['\\[', '\\]']],\n",
              "            'processEscapes': true,\n",
              "            'processEnvironments': true,\n",
              "            'skipTags': ['script', 'noscript', 'style', 'textarea', 'code'],\n",
              "            'displayAlign': 'center',\n",
              "          },\n",
              "          'HTML-CSS': {\n",
              "            'styles': {'.MathJax_Display': {'margin': 0}},\n",
              "            'linebreaks': {'automatic': true},\n",
              "            // Disable to prevent OTF font loading, which aren't part of our\n",
              "            // distribution.\n",
              "            'imageFont': null,\n",
              "          },\n",
              "          'messageStyle': 'none'\n",
              "        });\n",
              "        mathjax.Hub.Configured();\n",
              "      })();\n",
              "      </script>\n",
              "      "
            ]
          },
          "metadata": {}
        },
        {
          "output_type": "execute_result",
          "data": {
            "text/plain": [
              "<IPython.core.display.Latex object>"
            ],
            "text/latex": "Replacing $x^{2}$ by $u$ gets:\\begin{eqnarray}\\int x \\sin{\\left(x^{2} \\right)} d x&=& \\int \\frac{\\sin{\\left(u \\right)}}{2} d u \\cr&=& - \\frac{\\cos{\\left(u \\right)}}{2} +C \\cr\\end{eqnarray}"
          },
          "metadata": {},
          "execution_count": 32
        }
      ]
    },
    {
      "cell_type": "code",
      "source": [
        "typeset()\n",
        "Integration_by_Parts(x*sin(x),sin(x),x,x)\n"
      ],
      "metadata": {
        "colab": {
          "base_uri": "https://localhost:8080/",
          "height": 89
        },
        "id": "3SXF88npvfIR",
        "outputId": "3da8c5c8-4e6b-4766-a5d9-130f2fb3e273"
      },
      "execution_count": 62,
      "outputs": [
        {
          "output_type": "display_data",
          "data": {
            "text/plain": [
              "<IPython.core.display.HTML object>"
            ],
            "text/html": [
              "\n",
              "      <script src=\"https://www.gstatic.com/external_hosted/mathjax/latest/MathJax.js?config=TeX-AMS_HTML-full,Safe&delayStartupUntil=configured\"></script>\n",
              "      <script>\n",
              "        (() => {\n",
              "          const mathjax = window.MathJax;\n",
              "          mathjax.Hub.Config({\n",
              "          'tex2jax': {\n",
              "            'inlineMath': [['$', '$'], ['\\(', '\\)']],\n",
              "            'displayMath': [['$$', '$$'], ['\\[', '\\]']],\n",
              "            'processEscapes': true,\n",
              "            'processEnvironments': true,\n",
              "            'skipTags': ['script', 'noscript', 'style', 'textarea', 'code'],\n",
              "            'displayAlign': 'center',\n",
              "          },\n",
              "          'HTML-CSS': {\n",
              "            'styles': {'.MathJax_Display': {'margin': 0}},\n",
              "            'linebreaks': {'automatic': true},\n",
              "            // Disable to prevent OTF font loading, which aren't part of our\n",
              "            // distribution.\n",
              "            'imageFont': null,\n",
              "          },\n",
              "          'messageStyle': 'none'\n",
              "        });\n",
              "        mathjax.Hub.Configured();\n",
              "      })();\n",
              "      </script>\n",
              "      "
            ]
          },
          "metadata": {}
        },
        {
          "output_type": "execute_result",
          "data": {
            "text/plain": [
              "<IPython.core.display.Latex object>"
            ],
            "text/latex": "Let $F'(x)=\\sin{\\left(x \\right)}$, and  $g(x)=x$, then: \\begin{eqnarray}\\int x \\sin{\\left(x \\right)} d x&=& - \\cos{\\left(x \\right)} \\cdot \\left(x\\right) - \\int \\left(- \\cos{\\left(x \\right)}\\right) d u \\cr&=& - \\cos{\\left(x \\right)} \\cdot  \\left(x\\right)  - \\left(- \\sin{\\left(x \\right)}\\right) +C \\cr\\end{eqnarray}"
          },
          "metadata": {},
          "execution_count": 62
        }
      ]
    },
    {
      "cell_type": "code",
      "source": [
        "typeset()\n",
        "\n",
        "f=cos(x)**3/sqrt(sin(x))\n",
        "Integration_Trigonometric_Substitution_odd(f,x,sin(x))"
      ],
      "metadata": {
        "colab": {
          "base_uri": "https://localhost:8080/",
          "height": 114
        },
        "id": "S6qp8OcMw4mv",
        "outputId": "d6b9a863-e777-4fd0-e8b7-5607816f8618"
      },
      "execution_count": 65,
      "outputs": [
        {
          "output_type": "display_data",
          "data": {
            "text/plain": [
              "<IPython.core.display.HTML object>"
            ],
            "text/html": [
              "\n",
              "      <script src=\"https://www.gstatic.com/external_hosted/mathjax/latest/MathJax.js?config=TeX-AMS_HTML-full,Safe&delayStartupUntil=configured\"></script>\n",
              "      <script>\n",
              "        (() => {\n",
              "          const mathjax = window.MathJax;\n",
              "          mathjax.Hub.Config({\n",
              "          'tex2jax': {\n",
              "            'inlineMath': [['$', '$'], ['\\(', '\\)']],\n",
              "            'displayMath': [['$$', '$$'], ['\\[', '\\]']],\n",
              "            'processEscapes': true,\n",
              "            'processEnvironments': true,\n",
              "            'skipTags': ['script', 'noscript', 'style', 'textarea', 'code'],\n",
              "            'displayAlign': 'center',\n",
              "          },\n",
              "          'HTML-CSS': {\n",
              "            'styles': {'.MathJax_Display': {'margin': 0}},\n",
              "            'linebreaks': {'automatic': true},\n",
              "            // Disable to prevent OTF font loading, which aren't part of our\n",
              "            // distribution.\n",
              "            'imageFont': null,\n",
              "          },\n",
              "          'messageStyle': 'none'\n",
              "        });\n",
              "        mathjax.Hub.Configured();\n",
              "      })();\n",
              "      </script>\n",
              "      "
            ]
          },
          "metadata": {}
        },
        {
          "output_type": "execute_result",
          "data": {
            "text/plain": [
              "<IPython.core.display.Latex object>"
            ],
            "text/latex": "Replacing $\\sin{\\left(x \\right)}$ by $u$ gets:\\begin{eqnarray}\\int \\frac{\\cos^{3}{\\left(x \\right)}}{\\sqrt{\\sin{\\left(x \\right)}}} d x&=& \\int \\frac{1 - u^{2}}{\\sqrt{u}} d u \\cr&=& 2 \\sqrt{u} - \\frac{2 u^{2.5}}{5} +C \\cr\\end{eqnarray}"
          },
          "metadata": {},
          "execution_count": 65
        }
      ]
    },
    {
      "cell_type": "code",
      "source": [
        "typeset()\n",
        "\n",
        "f=cos(x)**4*sin(x)**2\n",
        "Integration_Trigonometric_Substitution_even(f,x)"
      ],
      "metadata": {
        "colab": {
          "base_uri": "https://localhost:8080/",
          "height": 222
        },
        "id": "eKeL4vzAy2zx",
        "outputId": "7c909f0d-4947-4c41-c7b7-d138d22077f3"
      },
      "execution_count": 70,
      "outputs": [
        {
          "output_type": "display_data",
          "data": {
            "text/plain": [
              "<IPython.core.display.HTML object>"
            ],
            "text/html": [
              "\n",
              "      <script src=\"https://www.gstatic.com/external_hosted/mathjax/latest/MathJax.js?config=TeX-AMS_HTML-full,Safe&delayStartupUntil=configured\"></script>\n",
              "      <script>\n",
              "        (() => {\n",
              "          const mathjax = window.MathJax;\n",
              "          mathjax.Hub.Config({\n",
              "          'tex2jax': {\n",
              "            'inlineMath': [['$', '$'], ['\\(', '\\)']],\n",
              "            'displayMath': [['$$', '$$'], ['\\[', '\\]']],\n",
              "            'processEscapes': true,\n",
              "            'processEnvironments': true,\n",
              "            'skipTags': ['script', 'noscript', 'style', 'textarea', 'code'],\n",
              "            'displayAlign': 'center',\n",
              "          },\n",
              "          'HTML-CSS': {\n",
              "            'styles': {'.MathJax_Display': {'margin': 0}},\n",
              "            'linebreaks': {'automatic': true},\n",
              "            // Disable to prevent OTF font loading, which aren't part of our\n",
              "            // distribution.\n",
              "            'imageFont': null,\n",
              "          },\n",
              "          'messageStyle': 'none'\n",
              "        });\n",
              "        mathjax.Hub.Configured();\n",
              "      })();\n",
              "      </script>\n",
              "      "
            ]
          },
          "metadata": {}
        },
        {
          "output_type": "execute_result",
          "data": {
            "text/plain": [
              "<IPython.core.display.Latex object>"
            ],
            "text/latex": "\\begin{eqnarray}\\sin^{2}{\\left(x \\right)} \\cos^{4}{\\left(x \\right)} &=& \\frac{\\left(0.5 - \\frac{\\cos{\\left(2 x \\right)}}{2}\\right) \\left(\\cos{\\left(2 x \\right)} + 1\\right)^{2}}{4} \\cr &=& - \\frac{\\cos^{3}{\\left(2 x \\right)}}{8} + \\frac{\\cos{\\left(2 x \\right)}}{8} - \\frac{\\cos{\\left(4 x \\right)}}{16} + 0.0625 \\cr\\Rightarrow \\int \\sin^{2}{\\left(x \\right)} \\cos^{4}{\\left(x \\right)} dx &=&\\int \\left(- \\frac{\\cos^{3}{\\left(2 x \\right)}}{8} - \\frac{\\cos^{2}{\\left(2 x \\right)}}{8} + \\frac{\\cos{\\left(2 x \\right)}}{8} + 0.125 \\right) dx \\cr &=&\\int \\left( - \\frac{\\cos^{3}{\\left(2 x \\right)}}{8} + \\frac{\\cos{\\left(2 x \\right)}}{8} - \\frac{\\cos{\\left(4 x \\right)}}{16} + 0.0625 \\right) d x \\cr &=& \\frac{x}{16} + \\frac{\\sin^{3}{\\left(2 x \\right)}}{48} - \\frac{\\sin{\\left(4 x \\right)}}{64} +C \\cr\\end{eqnarray}"
          },
          "metadata": {},
          "execution_count": 70
        }
      ]
    },
    {
      "cell_type": "code",
      "source": [
        "typeset()\n",
        "\n",
        "f=cos(x)**4*sin(x)**2\n",
        "Integration_Trigonometric_Substitution_even(f,x)\n"
      ],
      "metadata": {
        "colab": {
          "base_uri": "https://localhost:8080/",
          "height": 222
        },
        "id": "FWS6lNX00HUz",
        "outputId": "660f1903-a122-40c4-c2cb-04cef3179c14"
      },
      "execution_count": 71,
      "outputs": [
        {
          "output_type": "display_data",
          "data": {
            "text/plain": [
              "<IPython.core.display.HTML object>"
            ],
            "text/html": [
              "\n",
              "      <script src=\"https://www.gstatic.com/external_hosted/mathjax/latest/MathJax.js?config=TeX-AMS_HTML-full,Safe&delayStartupUntil=configured\"></script>\n",
              "      <script>\n",
              "        (() => {\n",
              "          const mathjax = window.MathJax;\n",
              "          mathjax.Hub.Config({\n",
              "          'tex2jax': {\n",
              "            'inlineMath': [['$', '$'], ['\\(', '\\)']],\n",
              "            'displayMath': [['$$', '$$'], ['\\[', '\\]']],\n",
              "            'processEscapes': true,\n",
              "            'processEnvironments': true,\n",
              "            'skipTags': ['script', 'noscript', 'style', 'textarea', 'code'],\n",
              "            'displayAlign': 'center',\n",
              "          },\n",
              "          'HTML-CSS': {\n",
              "            'styles': {'.MathJax_Display': {'margin': 0}},\n",
              "            'linebreaks': {'automatic': true},\n",
              "            // Disable to prevent OTF font loading, which aren't part of our\n",
              "            // distribution.\n",
              "            'imageFont': null,\n",
              "          },\n",
              "          'messageStyle': 'none'\n",
              "        });\n",
              "        mathjax.Hub.Configured();\n",
              "      })();\n",
              "      </script>\n",
              "      "
            ]
          },
          "metadata": {}
        },
        {
          "output_type": "execute_result",
          "data": {
            "text/plain": [
              "<IPython.core.display.Latex object>"
            ],
            "text/latex": "\\begin{eqnarray}\\sin^{2}{\\left(x \\right)} \\cos^{4}{\\left(x \\right)} &=& \\frac{\\left(0.5 - \\frac{\\cos{\\left(2 x \\right)}}{2}\\right) \\left(\\cos{\\left(2 x \\right)} + 1\\right)^{2}}{4} \\cr &=& - \\frac{\\cos^{3}{\\left(2 x \\right)}}{8} + \\frac{\\cos{\\left(2 x \\right)}}{8} - \\frac{\\cos{\\left(4 x \\right)}}{16} + 0.0625 \\cr\\Rightarrow \\int \\sin^{2}{\\left(x \\right)} \\cos^{4}{\\left(x \\right)} dx &=&\\int \\left(- \\frac{\\cos^{3}{\\left(2 x \\right)}}{8} - \\frac{\\cos^{2}{\\left(2 x \\right)}}{8} + \\frac{\\cos{\\left(2 x \\right)}}{8} + 0.125 \\right) dx \\cr &=&\\int \\left( - \\frac{\\cos^{3}{\\left(2 x \\right)}}{8} + \\frac{\\cos{\\left(2 x \\right)}}{8} - \\frac{\\cos{\\left(4 x \\right)}}{16} + 0.0625 \\right) d x \\cr &=& \\frac{x}{16} + \\frac{\\sin^{3}{\\left(2 x \\right)}}{48} - \\frac{\\sin{\\left(4 x \\right)}}{64} +C \\cr\\end{eqnarray}"
          },
          "metadata": {},
          "execution_count": 71
        }
      ]
    },
    {
      "cell_type": "code",
      "source": [
        "typeset()\n",
        "\n",
        "f=(5*x**2+20*x+6)\n",
        "g=(x**3+2*x**2+x)\n",
        "PartialFracInt(f,g,x)"
      ],
      "metadata": {
        "colab": {
          "base_uri": "https://localhost:8080/",
          "height": 167
        },
        "id": "krPVUDtM0RHg",
        "outputId": "b3ac9155-66b7-4c7e-bbe1-ec84964c42a2"
      },
      "execution_count": 72,
      "outputs": [
        {
          "output_type": "display_data",
          "data": {
            "text/plain": [
              "<IPython.core.display.HTML object>"
            ],
            "text/html": [
              "\n",
              "      <script src=\"https://www.gstatic.com/external_hosted/mathjax/latest/MathJax.js?config=TeX-AMS_HTML-full,Safe&delayStartupUntil=configured\"></script>\n",
              "      <script>\n",
              "        (() => {\n",
              "          const mathjax = window.MathJax;\n",
              "          mathjax.Hub.Config({\n",
              "          'tex2jax': {\n",
              "            'inlineMath': [['$', '$'], ['\\(', '\\)']],\n",
              "            'displayMath': [['$$', '$$'], ['\\[', '\\]']],\n",
              "            'processEscapes': true,\n",
              "            'processEnvironments': true,\n",
              "            'skipTags': ['script', 'noscript', 'style', 'textarea', 'code'],\n",
              "            'displayAlign': 'center',\n",
              "          },\n",
              "          'HTML-CSS': {\n",
              "            'styles': {'.MathJax_Display': {'margin': 0}},\n",
              "            'linebreaks': {'automatic': true},\n",
              "            // Disable to prevent OTF font loading, which aren't part of our\n",
              "            // distribution.\n",
              "            'imageFont': null,\n",
              "          },\n",
              "          'messageStyle': 'none'\n",
              "        });\n",
              "        mathjax.Hub.Configured();\n",
              "      })();\n",
              "      </script>\n",
              "      "
            ]
          },
          "metadata": {}
        },
        {
          "output_type": "execute_result",
          "data": {
            "text/plain": [
              "<IPython.core.display.Latex object>"
            ],
            "text/latex": "1. Integrand could be expressed as folllows:$$\\frac{5 x^{2} + 20 x + 6}{x^{3} + 2 x^{2} + x}=- \\frac{1}{x + 1} + \\frac{9}{\\left(x + 1\\right)^{2}} + \\frac{6}{x}$$2. Thus the integal is evaluated as follows:\\begin{eqnarray}\\int \\frac{5 x^{2} + 20 x + 6}{x^{3} + 2 x^{2} + x} d x&=& \\int \\left( - \\frac{1}{x + 1} + \\frac{9}{\\left(x + 1\\right)^{2}} + \\frac{6}{x} \\right)d x \\cr&=& 6 \\log{\\left(x \\right)} - \\log{\\left(x + 1 \\right)} - \\frac{9}{x + 1} + C\\cr \\end{eqnarray}"
          },
          "metadata": {},
          "execution_count": 72
        }
      ]
    },
    {
      "cell_type": "code",
      "source": [],
      "metadata": {
        "id": "34LQhno11B_k"
      },
      "execution_count": null,
      "outputs": []
    }
  ]
}