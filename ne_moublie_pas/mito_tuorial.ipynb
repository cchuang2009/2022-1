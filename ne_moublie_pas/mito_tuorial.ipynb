{
 "cells": [
  {
   "cell_type": "markdown",
   "metadata": {
    "hide_input": false
   },
   "source": [
    "Install\n",
    "---\n",
    "```\n",
    "> \n",
    "> python -m pip install mitoinstaller\n",
    "> python -m mitoinstaller install\n",
    "```\n",
    "the last one will startup the Mito service on Jupyter:"
   ]
  },
  {
   "cell_type": "code",
   "execution_count": 1,
   "metadata": {},
   "outputs": [],
   "source": [
    "import mitosheet"
   ]
  },
  {
   "cell_type": "markdown",
   "metadata": {},
   "source": [
    "Click the <B>`⊽`</B> to check the column, the following will display the generatd code of proceeding:  "
   ]
  },
  {
   "cell_type": "code",
   "execution_count": 4,
   "metadata": {},
   "outputs": [
    {
     "data": {
      "application/vnd.jupyter.widget-view+json": {
       "model_id": "4f294751940a4c17aac605cafee1a172",
       "version_major": 2,
       "version_minor": 0
      },
      "text/plain": [
       "MitoWidget(analysis_data_json='{\"analysisName\": \"id-nubaczydhx\", \"analysisToReplay\": {\"analysisName\": \"id-ndue…"
      ]
     },
     "metadata": {},
     "output_type": "display_data"
    }
   ],
   "source": [
    "mitosheet.sheet(analysis_to_replay=\"id-nduekvtiqv\")"
   ]
  },
  {
   "cell_type": "code",
   "execution_count": 3,
   "metadata": {},
   "outputs": [],
   "source": [
    "from mitosheet import *; register_analysis(\"id-nduekvtiqv\");\n",
    "    \n",
    "# Imported Laptop_prive.csv\n",
    "import pandas as pd\n",
    "Laptop_prive = pd.read_csv(r'Laptop_prive.csv')\n",
    "\n",
    "# Sorted Company in descending order\n",
    "Laptop_prive = Laptop_prive.sort_values(by='Company', ascending=False, na_position='last')\n",
    "\n",
    "# Filtered Company\n",
    "Laptop_prive = Laptop_prive[Laptop_prive['Company'].str.contains('Toshiba', na=False)]\n"
   ]
  },
  {
   "cell_type": "code",
   "execution_count": null,
   "metadata": {},
   "outputs": [],
   "source": []
  }
 ],
 "metadata": {
  "hide_input": false,
  "kernelspec": {
   "display_name": "Python 3",
   "language": "python",
   "name": "python3"
  },
  "language_info": {
   "codemirror_mode": {
    "name": "ipython",
    "version": 3
   },
   "file_extension": ".py",
   "mimetype": "text/x-python",
   "name": "python",
   "nbconvert_exporter": "python",
   "pygments_lexer": "ipython3",
   "version": "3.8.5"
  }
 },
 "nbformat": 4,
 "nbformat_minor": 4
}
