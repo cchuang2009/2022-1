{
 "cells": [
  {
   "cell_type": "code",
   "execution_count": null,
   "metadata": {
    "id": "ILMCXCBB6DPb"
   },
   "outputs": [],
   "source": []
  },
  {
   "cell_type": "markdown",
   "metadata": {
    "id": "OwjMFCbn6M1M"
   },
   "source": [
    "Linux Installation, Multile OS\n",
    "\n",
    "1. Manjaro-21.2.2, 2022-02-15\n",
    "   1. boot into system, set up network, for instantce, wifi connection\n",
    "   2. Choose [Intsall Manjaro Linux], Desktop,\n",
    "              Language: American English, \n",
    "              Location: Teipei/Asia \n",
    "              Keyboard Model: \n",
    "              Partition: Replace Partition, select what partition to be installed\n",
    "              User: setup the account of both the user/passwords and admintrator\n",
    "\n",
    "\n",
    "\n",
    "Jupyter notebook\n",
    "1. Manjaro comes with Python-3.10.2 (updated), no suitable anaconda product, only install frrom scratch\n",
    "   1. pip\n",
    "      python setup.py install\n",
    "   2. pip install\n",
    "      ```\n",
    "      IPython, jupyter, notebook, matplotlib, scipy, pandas, plotly, seaborn\n",
    "      statsmodels, tensorflow, keras, yfinance\n",
    "\n",
    "      TA-Lib\n",
    "      a) download TA-Lib:\n",
    "           configure; make install\n",
    "       b) pip install talib    \n",
    "    ```\n",
    "   3. system tuning and run\n",
    "      ```\n",
    "      > jupyter nbextension enable --py widgetsnbextension\n",
    "      > jupyter notebook \n",
    "      ``` \n",
    "   4. system setting\n",
    "          ```\n",
    "          Printer\n",
    "          [System] -> [Manage Printing], entering CUPS setting web Page\n",
    "                    -> [Administration], login and choose the auto-detected \n",
    "          ``` \n",
    "   5. From [Application] -> [Setting] -> [Add or Remove App]\n",
    "   ```\n",
    "   python-pytorch,  texlive, smplayer, make, cmake, fcitx5\n",
    " \n",
    "   ```       \n",
    "\n",
    "- yay -S gcc-fortran\n",
    "- "
   ]
  },
  {
   "cell_type": "markdown",
   "metadata": {
    "id": "0Z5mTEpIJEtA"
   },
   "source": [
    "提供學生基本 Python 的程式語言基礎，學習科學計算的技能，資料的圖形化製作能力及分析能力，作為將來在資料科學的領域研究基礎."
   ]
  }
 ],
 "metadata": {
  "colab": {
   "authorship_tag": "ABX9TyO9PaLMu8yTvTSc6dKlQY8C",
   "collapsed_sections": [],
   "name": "LinuxInstalltion.ipynb",
   "provenance": []
  },
  "kernelspec": {
   "display_name": "Python 3",
   "language": "python",
   "name": "python3"
  },
  "language_info": {
   "codemirror_mode": {
    "name": "ipython",
    "version": 3
   },
   "file_extension": ".py",
   "mimetype": "text/x-python",
   "name": "python",
   "nbconvert_exporter": "python",
   "pygments_lexer": "ipython3",
   "version": "3.8.5"
  }
 },
 "nbformat": 4,
 "nbformat_minor": 1
}
