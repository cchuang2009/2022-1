{
 "cells": [
  {
   "cell_type": "markdown",
   "metadata": {
    "id": "2TgISxQHzSC_"
   },
   "source": [
    "**Collatz Conjecture**, could be the simplest but yet unsolved Maths problem. Only two rules to follows:\n",
    "\n",
    "Take a number *randomly* and check whether it’s even or odd:\n",
    "\n",
    "divide it with two if it's even, else multiply it with 3 and add 1 to the result.\n",
    "\n",
    "and repeat iteratedly until the result is 1.\n",
    "```\n",
    "            \n",
    "              even\n",
    "     n = xxx  -->  n=xxx/2\n",
    "      odd | \n",
    "          v\n",
    "        n= 3x(xxx)+1 \n",
    "```\n",
    "Repeated as above, turn out to be 1 finally. "
   ]
  },
  {
   "cell_type": "code",
   "execution_count": null,
   "metadata": {
    "id": "-5LtelxWBOZF"
   },
   "outputs": [],
   "source": []
  },
  {
   "cell_type": "code",
   "execution_count": null,
   "metadata": {
    "colab": {
     "base_uri": "https://localhost:8080/"
    },
    "id": "gRDvN3owyv9d",
    "outputId": "c88f6f8a-7fec-4cc4-e2f2-482658f022d2"
   },
   "outputs": [
    {
     "name": "stdout",
     "output_type": "stream",
     "text": [
      "Enter a number: 1005\n"
     ]
    }
   ],
   "source": [
    "num = int(input('Enter a number: '))"
   ]
  },
  {
   "cell_type": "code",
   "execution_count": null,
   "metadata": {
    "id": "HpLm1dMs08iP"
   },
   "outputs": [],
   "source": [
    "# start \n",
    "sequence = [num]\n",
    "\n",
    "while(num != 1):    # this condition makes the loop stop once we reach 1\n",
    "    if((num%2)==0):\n",
    "        num = num//2    # re-assigning num with a new value\n",
    "    else:\n",
    "        num = (num*3) + 1    # re-assigning num with a new value\n",
    "    \n",
    "    sequence.append(num)    # appending number to the list"
   ]
  },
  {
   "cell_type": "code",
   "execution_count": null,
   "metadata": {
    "id": "oKH2OFXS1Sof"
   },
   "outputs": [],
   "source": [
    "sequence"
   ]
  },
  {
   "cell_type": "code",
   "execution_count": null,
   "metadata": {
    "id": "kIm_M20d1hfi"
   },
   "outputs": [],
   "source": [
    "def collatz_conjecture(print='all'):\n",
    "   num = int(input('Enter a number: '))\n",
    "   sequence = [num]\n",
    "   while(num != 1):\n",
    "       if((num%2)==0):\n",
    "           num = num // 2 \n",
    "       else:\n",
    "           num = (num*3) + 1\n",
    "       sequence.append(num)\n",
    "   if print=='all':\n",
    "       return sequence\n",
    "   else:\n",
    "     #print(sequence[:5],\" ... \",sequence[-5:])\n",
    "     output=[sequence[i] for i in range(5)]\n",
    "     output.append('...')\n",
    "     for i in range(5):\n",
    "         output.append(sequence[i-5])\n",
    "     return output\n",
    "   "
   ]
  },
  {
   "cell_type": "code",
   "execution_count": null,
   "metadata": {
    "id": "_mLq16Zz2Sk7"
   },
   "outputs": [],
   "source": [
    "collatz_conjecture()"
   ]
  },
  {
   "cell_type": "code",
   "execution_count": null,
   "metadata": {
    "colab": {
     "base_uri": "https://localhost:8080/"
    },
    "id": "2lHoOYxf2nt7",
    "outputId": "c04bc5a4-8575-4220-c474-0712ee9d0ec9"
   },
   "outputs": [
    {
     "name": "stdout",
     "output_type": "stream",
     "text": [
      "Enter a number: 1005\n"
     ]
    },
    {
     "data": {
      "text/plain": [
       "[1005, 3016, 1508, 754, 377, '...', 16, 8, 4, 2, 1]"
      ]
     },
     "execution_count": 59,
     "metadata": {},
     "output_type": "execute_result"
    }
   ],
   "source": [
    "collatz_conjecture(print='no')"
   ]
  },
  {
   "cell_type": "code",
   "execution_count": null,
   "metadata": {
    "id": "GXi3qYDV68kG"
   },
   "outputs": [],
   "source": []
  }
 ],
 "metadata": {
  "colab": {
   "provenance": []
  },
  "hide_input": false,
  "kernelspec": {
   "display_name": "Python 3",
   "language": "python",
   "name": "python3"
  },
  "language_info": {
   "codemirror_mode": {
    "name": "ipython",
    "version": 3
   },
   "file_extension": ".py",
   "mimetype": "text/x-python",
   "name": "python",
   "nbconvert_exporter": "python",
   "pygments_lexer": "ipython3",
   "version": "3.8.5"
  }
 },
 "nbformat": 4,
 "nbformat_minor": 1
}
