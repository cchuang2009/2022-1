{
 "cells": [
  {
   "cell_type": "markdown",
   "metadata": {
    "slideshow": {
     "slide_type": "slide"
    }
   },
   "source": [
    "#  Python Scripting Language\n",
    "\n",
    "## Week 2, Basic Syntax and Visualization  "
   ]
  },
  {
   "cell_type": "code",
   "execution_count": null,
   "metadata": {},
   "outputs": [],
   "source": [
    "# standard method to install Python package\n",
    "\n",
    "!pip install watermark"
   ]
  },
  {
   "cell_type": "code",
   "execution_count": null,
   "metadata": {},
   "outputs": [],
   "source": [
    "%load_ext watermark"
   ]
  },
  {
   "cell_type": "code",
   "execution_count": null,
   "metadata": {},
   "outputs": [],
   "source": [
    "%watermark -v -m -p numpy,scipy,matplotlib"
   ]
  },
  {
   "cell_type": "markdown",
   "metadata": {
    "slideshow": {
     "slide_type": "subslide"
    }
   },
   "source": [
    "## Basic Syntax"
   ]
  },
  {
   "cell_type": "markdown",
   "metadata": {
    "slideshow": {
     "slide_type": "fragment"
    }
   },
   "source": [
    "* `Arithmatic operators`: ` +, -, *, /, //,**, %, ==, ... `"
   ]
  },
  {
   "cell_type": "code",
   "execution_count": null,
   "metadata": {},
   "outputs": [],
   "source": [
    "a=5\n",
    "b=2"
   ]
  },
  {
   "cell_type": "code",
   "execution_count": null,
   "metadata": {},
   "outputs": [],
   "source": [
    "a+b, a*b,a/b,a//b,b**a"
   ]
  },
  {
   "cell_type": "markdown",
   "metadata": {
    "slideshow": {
     "slide_type": "subslide"
    }
   },
   "source": [
    "* `variable` and `symbolic operation`: By famous <font color=\"blue\">sympy</font> package;"
   ]
  },
  {
   "cell_type": "code",
   "execution_count": null,
   "metadata": {},
   "outputs": [],
   "source": [
    "x+1"
   ]
  },
  {
   "cell_type": "code",
   "execution_count": null,
   "metadata": {},
   "outputs": [],
   "source": [
    "from sympy import symbols, solve ,sqrt"
   ]
  },
  {
   "cell_type": "code",
   "execution_count": null,
   "metadata": {},
   "outputs": [],
   "source": [
    "x=symbols(\"x\")\n",
    "x+1"
   ]
  },
  {
   "cell_type": "code",
   "execution_count": null,
   "metadata": {},
   "outputs": [],
   "source": []
  },
  {
   "cell_type": "code",
   "execution_count": null,
   "metadata": {},
   "outputs": [],
   "source": [
    "sqrt(x)"
   ]
  },
  {
   "cell_type": "code",
   "execution_count": null,
   "metadata": {},
   "outputs": [],
   "source": [
    "solve(x**2+x+1)"
   ]
  },
  {
   "cell_type": "code",
   "execution_count": null,
   "metadata": {},
   "outputs": [],
   "source": [
    "t=symbols(\"t\", real=True)"
   ]
  },
  {
   "cell_type": "code",
   "execution_count": null,
   "metadata": {},
   "outputs": [],
   "source": [
    "solve(t**2+t+1)"
   ]
  },
  {
   "cell_type": "markdown",
   "metadata": {
    "slideshow": {
     "slide_type": "subslide"
    }
   },
   "source": [
    "* define function: input  <font color=\"brown\">var1</font>, pass   <font color=\"gray\">x</font> to <font color=\"brown\">var2</font> if no var2 input, and return  <font color=\"pink\">result</font> ,\n",
    "    ```\n",
    "    def func(var1,var2=x):\n",
    "        ...\n",
    "        return result\n",
    "    ```    "
   ]
  },
  {
   "cell_type": "markdown",
   "metadata": {
    "slideshow": {
     "slide_type": "subslide"
    }
   },
   "source": [
    "* condition statments\n",
    "  ```\n",
    "    if cond1: \n",
    "          ...\n",
    "       elif cond2:\n",
    "          ...\n",
    "       else:\n",
    "          ...\n",
    "   ```"
   ]
  },
  {
   "cell_type": "markdown",
   "metadata": {
    "slideshow": {
     "slide_type": "subslide"
    }
   },
   "source": [
    "* while statement:\n",
    "    ```\n",
    "     while( condition):\n",
    "        ...\n",
    "    ```    "
   ]
  },
  {
   "cell_type": "markdown",
   "metadata": {
    "slideshow": {
     "slide_type": "subslide"
    }
   },
   "source": [
    "* for statement:\n",
    "    ```\n",
    "    for (...):\n",
    "     ...\n",
    "    ``` "
   ]
  },
  {
   "cell_type": "markdown",
   "metadata": {},
   "source": [
    "Formating\n",
    "---"
   ]
  },
  {
   "cell_type": "code",
   "execution_count": null,
   "metadata": {
    "slideshow": {
     "slide_type": "subslide"
    }
   },
   "outputs": [],
   "source": [
    "print(\"sum = %s,difference = %s,product = %s, quotient= %.2f\" %(a+b,a-b,a*b,a/b))"
   ]
  },
  {
   "cell_type": "code",
   "execution_count": null,
   "metadata": {},
   "outputs": [],
   "source": [
    "print(\"sum = {}, difference ={},product = {}, quotient= {:.2f}\".format(a+b,a-b,a*b,a/b))"
   ]
  },
  {
   "cell_type": "code",
   "execution_count": null,
   "metadata": {
    "slideshow": {
     "slide_type": "subslide"
    }
   },
   "outputs": [],
   "source": [
    "def iseven(x):\n",
    "    return x%2==0\n",
    "\n",
    "iseven(798)"
   ]
  },
  {
   "cell_type": "code",
   "execution_count": null,
   "metadata": {
    "slideshow": {
     "slide_type": "subslide"
    }
   },
   "outputs": [],
   "source": [
    "def tax(x):\n",
    "    if x<680000.:\n",
    "        print( \"Tax is 0.\")\n",
    "    elif x<1200000:\n",
    "        print(\"Tax is %g\" %float(x*0.06-22800))\n",
    "    else:\n",
    "        print(\"TeX is %s\" % float(x*0.12-136000))"
   ]
  },
  {
   "cell_type": "code",
   "execution_count": null,
   "metadata": {
    "slideshow": {
     "slide_type": "subslide"
    }
   },
   "outputs": [],
   "source": [
    "tax(1000000)"
   ]
  },
  {
   "cell_type": "code",
   "execution_count": null,
   "metadata": {
    "slideshow": {
     "slide_type": "subslide"
    }
   },
   "outputs": [],
   "source": [
    "# add time module to sum a sequence of consecutive integers \n",
    "import time\n",
    "sum=0\n",
    "n=10000000\n",
    "\n",
    "t0=time.time()\n",
    "for i in range(n+1):\n",
    "    sum+=i\n",
    "print(\"Time elapsed: \", time.time()-t0)\n",
    "print (\"Summation of consecutive natual numbers from 1 to %d is %d.\" %(n,sum))"
   ]
  },
  {
   "cell_type": "markdown",
   "metadata": {
    "slideshow": {
     "slide_type": "slide"
    }
   },
   "source": [
    " NumPy: core of Python Scientific Computing\n",
    "---\n",
    "It contains among other things:\n",
    "\n",
    "    * a powerful N-dimensional array object\n",
    "    * sophisticated (broadcasting) functions\n",
    "    * tools for integrating C/C++ and Fortran code\n",
    "    * useful linear algebra, random number capabilities,  and Fourier transform.\n"
   ]
  },
  {
   "cell_type": "markdown",
   "metadata": {
    "slideshow": {
     "slide_type": "subslide"
    }
   },
   "source": [
    "Import Packages\n",
    "---\n",
    "- `import numPy`: prepare numpt to use;\n",
    "```\n",
    "import numpy \n",
    "numpy.sin(numpy.pi)\n",
    "```\n",
    "get 0\n"
   ]
  },
  {
   "cell_type": "markdown",
   "metadata": {
    "slideshow": {
     "slide_type": "subslide"
    }
   },
   "source": [
    "- `import numpy as numpy`: give the nicknme\n",
    "```\n",
    "import numpy as np\n",
    "np.sin(np.pi)\n",
    "```\n",
    "get 0\n"
   ]
  },
  {
   "cell_type": "markdown",
   "metadata": {
    "slideshow": {
     "slide_type": "subslide"
    }
   },
   "source": [
    "- `from numpy import *`: import all the staff into Python environment, not prefered:\n",
    "```\n",
    "import numpy \n",
    "sin(pi)\n",
    "```\n",
    "get 0\n"
   ]
  },
  {
   "cell_type": "markdown",
   "metadata": {
    "slideshow": {
     "slide_type": "subslide"
    }
   },
   "source": [
    "- `from numpy import sin`: import only one numpy function, <code style=\"background-color:lightblue\">sin</code>:  \n",
    "```\n",
    "import numpy  as np\n",
    "from numpy import sin\n",
    "sin(np.pi)\n",
    "```\n",
    "get 0"
   ]
  },
  {
   "cell_type": "code",
   "execution_count": null,
   "metadata": {
    "slideshow": {
     "slide_type": "slide"
    }
   },
   "outputs": [],
   "source": [
    "import numpy as np\n",
    "import time\n",
    "sum=0\n",
    "n=10000000\n",
    "\n",
    "t0=time.time()\n",
    "a=np.linspace(0,n,n+1)\n",
    "sum=np.sum(a)\n",
    "print(\"Time elapsed (Numpy version): \", time.time()-t0)\n",
    "print ('Summation of consecutive natual numbers from 1 to %d is %d.' %(n,sum))"
   ]
  },
  {
   "cell_type": "markdown",
   "metadata": {
    "slideshow": {
     "slide_type": "subslide"
    }
   },
   "source": [
    "## Exercise\n",
    "\n",
    "What is the 10000 term of Fibonicci sequence?"
   ]
  },
  {
   "cell_type": "code",
   "execution_count": null,
   "metadata": {},
   "outputs": [],
   "source": [
    "def fibonicci(n):\n",
    "    if n<2:\n",
    "       return 1\n",
    "    else:\n",
    "       return  fibonicci(n-1)+fibonicci(n-2)"
   ]
  },
  {
   "cell_type": "code",
   "execution_count": null,
   "metadata": {},
   "outputs": [],
   "source": [
    "def fibonicci1(n):\n",
    "    if n<0:\n",
    "       print(\" Wrong integer input, input a nonnegative integer!\")\n",
    "    elif n<2:\n",
    "       a,b=1,1\n",
    "    else:\n",
    "       a,b=1,1\n",
    "       for i in range(n): \n",
    "           a,b=b, a+b\n",
    "    return b"
   ]
  },
  {
   "cell_type": "code",
   "execution_count": null,
   "metadata": {},
   "outputs": [],
   "source": [
    "fibonicci1(10000)"
   ]
  },
  {
   "cell_type": "code",
   "execution_count": null,
   "metadata": {},
   "outputs": [],
   "source": []
  },
  {
   "cell_type": "code",
   "execution_count": null,
   "metadata": {},
   "outputs": [],
   "source": [
    "import sys\n",
    "print(sys.getrecursionlimit())\n",
    "#sys.setrecursionlimit(1500)"
   ]
  },
  {
   "cell_type": "code",
   "execution_count": null,
   "metadata": {},
   "outputs": [],
   "source": [
    "\n",
    "fibonicci(20)"
   ]
  },
  {
   "cell_type": "markdown",
   "metadata": {
    "slideshow": {
     "slide_type": "subslide"
    }
   },
   "source": [
    "## Moreover\n",
    "\n",
    "Besides its obvious scientific uses, NumPy can also be used as an efficient multi-dimensional container of generic data. Arbitrary data-types can be defined and this allows NumPy to seamlessly and speedily integrate with a wide variety of projects."
   ]
  },
  {
   "cell_type": "markdown",
   "metadata": {
    "slideshow": {
     "slide_type": "slide"
    }
   },
   "source": [
    "## Matplotlib\n",
    "\n",
    "Matplotlib is an excellent 2D and 3D graphics library for generating scientific figures. Some of the many advantages of this library include:\n",
    "\n",
    "* Easy to get started\n",
    "* Support for $\\LaTeX$ formatted labels and texts\n",
    "* Great control of every element in a figure, including figure size and DPI. \n",
    "* High-quality output in many formats, including PNG, PDF, SVG, EPS, and PGF.\n",
    "* GUI for interactively exploring figures *and* support for headless generation of figure files (useful for batch jobs).\n"
   ]
  },
  {
   "cell_type": "markdown",
   "metadata": {
    "slideshow": {
     "slide_type": "subslide"
    }
   },
   "source": [
    "One of the of the key features of matplotlib that I would like to emphasize, and that I think makes matplotlib highly suitable for generating figures for scientific publications is that all aspects of the figure can be controlled *programmatically*. This is important for reproducibility and convenient when one needs to regenerate the figure with updated data or change its appearance. \n",
    "\n",
    "More information at the Matplotlib web page: http://matplotlib.org/"
   ]
  },
  {
   "cell_type": "code",
   "execution_count": null,
   "metadata": {},
   "outputs": [],
   "source": [
    "# the following \"matplotlib\" magic  actives the embedded function if any picture created. \n",
    "\n",
    "import matplotlib.pyplot as plt\n",
    "import numpy as np\n",
    "import tw_matplotlib\n",
    "from numpy import sin,cos,pi\n",
    "\n",
    "%matplotlib inline"
   ]
  },
  {
   "cell_type": "code",
   "execution_count": null,
   "metadata": {
    "slideshow": {
     "slide_type": "subslide"
    }
   },
   "outputs": [],
   "source": [
    "x=np.linspace(-2,2,1000)\n",
    "f=x*np.sin(1/x)\n",
    "plt.plot(x,f);"
   ]
  },
  {
   "cell_type": "code",
   "execution_count": null,
   "metadata": {},
   "outputs": [],
   "source": []
  },
  {
   "cell_type": "code",
   "execution_count": null,
   "metadata": {
    "slideshow": {
     "slide_type": "subslide"
    }
   },
   "outputs": [],
   "source": [
    "x=np.linspace(-2,2,1000)\n",
    "g=np.sin(x)\n",
    "plt.plot(x,f,'r-',x,g,'b--',lw=2);"
   ]
  },
  {
   "cell_type": "code",
   "execution_count": null,
   "metadata": {},
   "outputs": [],
   "source": [
    "\n",
    "fig,ax =plt.subplots(figsize=(8,8))\n",
    "t=np.linspace(0,2*np.pi,1000)\n",
    "\n",
    "r=2\n",
    "x=r*np.cos(t)\n",
    "y=r*np.sin(t)\n",
    "\n",
    "ax.plot(x,y,'b--',lw=2);\n",
    "\n",
    "ax.plot([-3,3],[0,0],'k',lw=4)\n",
    "ax.plot([0,0],[-3,3],'k',lw=4)\n",
    "\n",
    "ax.plot([0,np.sqrt(2),np.sqrt(2),0],[0,np.sqrt(2),0,0],'r')\n",
    "ax.text(1.6,0.5,r'$y=r \\sin\\theta$',fontsize=16)\n",
    "ax.text(0.3,-0.3,r'$x=r \\cos\\theta$',fontsize=16)\n",
    "ax.text(0.4,0.1,r'$\\theta$',fontsize=16)\n",
    "ax.text(0.6,0.8,r'$r$',fontsize=18,rotation=45)\n",
    "\n",
    "ax.plot([np.sqrt(2)],[np.sqrt(2)],'ko',lw=20)\n",
    "ax.text(np.sqrt(2.2),np.sqrt(2),r'$P=(x,y)$',fontsize=16)\n",
    "\n",
    "ax.set_xlim([-3,3])\n",
    "ax.set_ylim([-3,3])\n",
    "\n",
    "ax.set_title(\"Polar Coordinates\",fontsize=20)\n",
    "ax.grid()\n",
    "ax.set_frame_on(False)  "
   ]
  },
  {
   "cell_type": "code",
   "execution_count": null,
   "metadata": {},
   "outputs": [],
   "source": [
    "fig,ax =plt.subplots(figsize=(8,8))\n",
    "t=np.linspace(0,2*np.pi,1000)\n",
    "\n",
    "r=2\n",
    "x=r*np.cos(t)\n",
    "y=r*np.sin(t)\n",
    "\n",
    "ax.plot(x,y,'b--',lw=2);\n",
    "\n",
    "ax.plot([-3,3],[0,0],'k',lw=4)\n",
    "ax.plot([0,0],[-3,3],'k',lw=4)\n",
    "\n",
    "ax.plot([0,np.sqrt(2),np.sqrt(2),0],[0,np.sqrt(2),0,0],'r')\n",
    "ax.text(1.6,0.5,r'$y=r \\sin\\theta$',fontsize=16)\n",
    "ax.text(0.3,-0.3,r'$x=r \\cos\\theta$',fontsize=16)\n",
    "ax.text(0.4,0.1,r'$\\theta$',fontsize=16)\n",
    "ax.text(0.6,0.8,r'$r$',fontsize=18,rotation=45)\n",
    "\n",
    "ax.plot([np.sqrt(2)],[np.sqrt(2)],'ko',lw=20)\n",
    "ax.text(np.sqrt(2.2),np.sqrt(2),r'$P=(x,y)$',fontsize=16)\n",
    "\n",
    "ax.set_xlim([-3,3])\n",
    "ax.set_ylim([-3,3])\n",
    "\n",
    "ax.set_title(\"Polar Coordinates, 極座標\",fontsize=20)\n",
    "ax.grid()\n",
    "ax.set_frame_on(False)  "
   ]
  },
  {
   "cell_type": "markdown",
   "metadata": {},
   "source": [
    "Animation\n",
    "---\n",
    "Just like cartoon's animation effect:\n",
    "        \n",
    "        Play one frame by one frame \n",
    "        \n",
    "Making animation by Python is quiet easy: by `moviepy`.\n",
    "\n",
    "Here we make a simple animation example by connecting the position of Earth and one of Venus and observe what happens.\n",
    "\n",
    "moviepy\n",
    "---\n",
    "Process animation by moviepy: \n",
    "```\n",
    "from moviepy.editor import VideoClip\n",
    "\n",
    "# total playing time (by second)\n",
    "duration=...\n",
    "# make frame at time t\n",
    "def make_frame(t):\n",
    "    ...\n",
    "\n",
    "animation = VideoClip(make_frame, duration=duration)\n",
    "```"
   ]
  },
  {
   "cell_type": "code",
   "execution_count": null,
   "metadata": {},
   "outputs": [],
   "source": []
  },
  {
   "cell_type": "code",
   "execution_count": null,
   "metadata": {
    "slideshow": {
     "slide_type": "slide"
    }
   },
   "outputs": [],
   "source": [
    "from numpy import sin,cos,pi\n",
    "from moviepy.editor import VideoClip\n",
    "from moviepy.video.io.bindings import mplfig_to_npimage\n",
    "import tw_matplotlib"
   ]
  },
  {
   "cell_type": "code",
   "execution_count": null,
   "metadata": {},
   "outputs": [],
   "source": [
    "duration=2\n",
    "fig,ax = plt.subplots(figsize=(8,8));\n",
    "\n",
    "def make_frame(t):\n",
    "    ax.clear()\n",
    "    # make squared visuasation\n",
    "    ax.set_xlim([-1.5,1.5])\n",
    "    ax.set_ylim([-1.5,1.5])\n",
    "    alpha=1-t/duration\n",
    "    size=(64-32*(alpha))\n",
    "    ax.text(0,0,'A',fontsize=size,alpha=alpha)\n",
    "\n",
    "    return mplfig_to_npimage(fig)\n",
    "\n",
    "animation = VideoClip(make_frame, duration=duration)\n",
    "animation.ipython_display(fps=20, loop=False, autoplay=False)"
   ]
  },
  {
   "cell_type": "code",
   "execution_count": null,
   "metadata": {
    "slideshow": {
     "slide_type": "subslide"
    }
   },
   "outputs": [],
   "source": [
    "x1,x2,y1,y2=0,1,0,1\n",
    "t1=365.256   # one year for Earth \n",
    "t2=224.701   # one year for Venus\n",
    "R1=149.6     # 1,000,000 km distance between Earth and Sun\n",
    "R2=108.21    # 1,000,000 km distance between Venus and Sun\n",
    "Ratio=R1/R2"
   ]
  },
  {
   "cell_type": "code",
   "execution_count": null,
   "metadata": {},
   "outputs": [],
   "source": []
  },
  {
   "cell_type": "code",
   "execution_count": null,
   "metadata": {
    "slideshow": {
     "slide_type": "subslide"
    }
   },
   "outputs": [],
   "source": [
    "def CartesianE(n,  R=Ratio):\n",
    "    x=[]\n",
    "    theta= 8*2*pi/t1;\n",
    "    for i in range(n):\n",
    "        x += [R*cos(i*theta),R*sin(i*theta)]\n",
    "    return x\n",
    "\n",
    "def CartesianV(n,  R=1):\n",
    "    x=[]\n",
    "    theta= 8*2*pi/t2;\n",
    "    for i in range(n):\n",
    "        x += [R*cos(i*theta),R*sin(i*theta)]\n",
    "    return x"
   ]
  },
  {
   "cell_type": "code",
   "execution_count": null,
   "metadata": {
    "slideshow": {
     "slide_type": "subslide"
    }
   },
   "outputs": [],
   "source": [
    "days=7\n",
    "n=100\n",
    "\n",
    "ob= n*days\n",
    "\n",
    "P=CartesianE(ob)\n",
    "Q=CartesianV(ob)"
   ]
  },
  {
   "cell_type": "code",
   "execution_count": null,
   "metadata": {},
   "outputs": [],
   "source": [
    "# make lines at which connect consecutive positions\n",
    "PP=[[P[2*k],Q[2*k]] for k in np.arange(400)];\n",
    "QQ=[[P[2*k+1],Q[2*k+1]] for k in np.arange(400)];\n",
    "\n",
    "# total playing time\n",
    "duration=len(PP)//20\n",
    "# fames per seconds\n",
    "fps=20\n",
    "\n",
    "\n",
    "fig, ax = plt.subplots(figsize=(8,8)); \n",
    "ax.clear()\n",
    "def make_frame(t):\n",
    "    # the number of frame\n",
    "    k=int(t*fps)\n",
    "    # make squared visuasation\n",
    "    ax.set_xlim([-1.5,1.5])\n",
    "    ax.set_ylim([-1.5,1.5])\n",
    "    #ax.set_frame_on(False)\n",
    "    #ax.set_axis_off()\n",
    "    ax.plot(PP[k],QQ[k],color='0.2',alpha=0.3)\n",
    "    ax.set_title(\"Five-leaf Rose, 五瓣玫瑰\",fontsize=20)\n",
    "\n",
    "    return mplfig_to_npimage(fig)\n",
    "\n",
    "\n",
    "animation = VideoClip(make_frame, duration=duration)\n",
    "animation.ipython_display(fps=20, loop=False, autoplay=False)\n",
    "#animation.write_gif('matplotlib.gif', fps=20)"
   ]
  },
  {
   "cell_type": "code",
   "execution_count": null,
   "metadata": {
    "slideshow": {
     "slide_type": "subslide"
    }
   },
   "outputs": [],
   "source": [
    "animation.ipython_display?"
   ]
  },
  {
   "cell_type": "markdown",
   "metadata": {
    "slideshow": {
     "slide_type": "slide"
    }
   },
   "source": [
    "## How comes  5-leaf Rose\n",
    "\n",
    "**Eight** Earth years is approximated to **thirteen** Venus ywars: \n",
    "\n",
    "```\n",
    "How amazing:\n",
    "    Eight times of  distance between Earth and Sun is approximated to eleven times \n",
    "    of  distance between Venus and Sun.\n",
    "```\n",
    "\n",
    "Thinking Homework\n",
    "---\n",
    "\n",
    "```\n",
    "  How do you think about these two numbers: 8 and 11?\n",
    "```"
   ]
  },
  {
   "cell_type": "code",
   "execution_count": null,
   "metadata": {},
   "outputs": [],
   "source": [
    "print(t1*8, t2*13)"
   ]
  },
  {
   "cell_type": "code",
   "execution_count": null,
   "metadata": {},
   "outputs": [],
   "source": []
  }
 ],
 "metadata": {
  "celltoolbar": "Slideshow",
  "hide_input": false,
  "kernelspec": {
   "display_name": "Python 3",
   "language": "python",
   "name": "python3"
  },
  "language_info": {
   "codemirror_mode": {
    "name": "ipython",
    "version": 3
   },
   "file_extension": ".py",
   "mimetype": "text/x-python",
   "name": "python",
   "nbconvert_exporter": "python",
   "pygments_lexer": "ipython3",
   "version": "3.8.5"
  },
  "widgets": {
   "state": {
    "2e32dadfdcea445d984d3666dbc41b2b": {
     "views": []
    },
    "588b2469d76c47d19be83efa6a9d4cd4": {
     "views": []
    },
    "6acb1e29f7374bf7bd3bee35dc9b8667": {
     "views": []
    },
    "ee4dbbe5b5d94492a1597284708661ec": {
     "views": []
    }
   },
   "version": "2.0.0-dev"
  }
 },
 "nbformat": 4,
 "nbformat_minor": 1
}
