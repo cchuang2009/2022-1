{
 "cells": [
  {
   "cell_type": "code",
   "execution_count": 3,
   "id": "fadcc70b",
   "metadata": {},
   "outputs": [
    {
     "name": "stdout",
     "output_type": "stream",
     "text": [
      "Requirement already satisfied: openpyxl in /Users/chu-chinghuang/opt/anaconda3/lib/python3.8/site-packages (3.0.5)\n",
      "Collecting openpyxl\n",
      "  Downloading openpyxl-3.0.10-py2.py3-none-any.whl (242 kB)\n",
      "\u001b[2K     \u001b[90m━━━━━━━━━━━━━━━━━━━━━━━━━━━━━━━━━━━━━\u001b[0m \u001b[32m242.1/242.1 kB\u001b[0m \u001b[31m705.2 kB/s\u001b[0m eta \u001b[36m0:00:00\u001b[0ma \u001b[36m0:00:01\u001b[0m\n",
      "\u001b[?25hRequirement already satisfied: et-xmlfile in /Users/chu-chinghuang/opt/anaconda3/lib/python3.8/site-packages (from openpyxl) (1.0.1)\n",
      "Installing collected packages: openpyxl\n",
      "  Attempting uninstall: openpyxl\n",
      "    Found existing installation: openpyxl 3.0.5\n",
      "    Uninstalling openpyxl-3.0.5:\n",
      "      Successfully uninstalled openpyxl-3.0.5\n",
      "Successfully installed openpyxl-3.0.10\n"
     ]
    }
   ],
   "source": [
    "!pip install -U openpyxl"
   ]
  },
  {
   "cell_type": "code",
   "execution_count": 1,
   "id": "cadbd8b2",
   "metadata": {},
   "outputs": [],
   "source": [
    "import pandas as pd \n",
    "import numpy as np\n",
    "import sklearn\n",
    "\n",
    "import matplotlib.pyplot as plt\n",
    "# pkg for interactive vis\n",
    "\n",
    "import warnings\n",
    "warnings.filterwarnings('ignore')\n",
    "#把warning省略掉\n",
    "\n",
    "%matplotlib inline"
   ]
  },
  {
   "cell_type": "code",
   "execution_count": 6,
   "id": "9fe82c64",
   "metadata": {},
   "outputs": [],
   "source": [
    "# preprocessing native data\n",
    "#df=pd.read_excel(\"gender-data/python身高體重表.xlsx\")\n",
    "# delete white space in '性別' column\n",
    "#df['性別']=df['性別'].str.strip()\n",
    "#df1=df[['身高','體重','Error','性別']].copy()\n",
    "#df1.to_csv(\"gender-data/gender.csv\",index=False)"
   ]
  },
  {
   "cell_type": "code",
   "execution_count": 13,
   "id": "d243e6bd",
   "metadata": {},
   "outputs": [
    {
     "data": {
      "text/html": [
       "<div><div id=c1778fda-7ab3-4546-bf33-b47226f05ec8 style=\"display:none; background-color:#9D6CFF; color:white; width:200px; height:30px; padding-left:5px; border-radius:4px; flex-direction:row; justify-content:space-around; align-items:center;\" onmouseover=\"this.style.backgroundColor='#BA9BF8'\" onmouseout=\"this.style.backgroundColor='#9D6CFF'\" onclick=\"window.commands?.execute('create-mitosheet-from-dataframe-output');\">See Full Dataframe in Mito</div> <script> if (window.commands?.hasCommand('create-mitosheet-from-dataframe-output')) document.getElementById('c1778fda-7ab3-4546-bf33-b47226f05ec8').style.display = 'flex' </script> <table border=\"1\" class=\"dataframe\">\n",
       "  <thead>\n",
       "    <tr style=\"text-align: right;\">\n",
       "      <th></th>\n",
       "      <th>身高</th>\n",
       "      <th>體重</th>\n",
       "      <th>fake</th>\n",
       "      <th>性別</th>\n",
       "    </tr>\n",
       "  </thead>\n",
       "  <tbody>\n",
       "    <tr>\n",
       "      <th>0</th>\n",
       "      <td>164</td>\n",
       "      <td>47</td>\n",
       "      <td>NaN</td>\n",
       "      <td>女</td>\n",
       "    </tr>\n",
       "    <tr>\n",
       "      <th>1</th>\n",
       "      <td>185</td>\n",
       "      <td>55</td>\n",
       "      <td>NaN</td>\n",
       "      <td>男</td>\n",
       "    </tr>\n",
       "    <tr>\n",
       "      <th>2</th>\n",
       "      <td>168</td>\n",
       "      <td>48</td>\n",
       "      <td>F</td>\n",
       "      <td>女</td>\n",
       "    </tr>\n",
       "    <tr>\n",
       "      <th>3</th>\n",
       "      <td>160</td>\n",
       "      <td>47</td>\n",
       "      <td>NaN</td>\n",
       "      <td>女</td>\n",
       "    </tr>\n",
       "    <tr>\n",
       "      <th>4</th>\n",
       "      <td>155</td>\n",
       "      <td>45</td>\n",
       "      <td>NaN</td>\n",
       "      <td>女</td>\n",
       "    </tr>\n",
       "    <tr>\n",
       "      <th>...</th>\n",
       "      <td>...</td>\n",
       "      <td>...</td>\n",
       "      <td>...</td>\n",
       "      <td>...</td>\n",
       "    </tr>\n",
       "    <tr>\n",
       "      <th>31</th>\n",
       "      <td>172</td>\n",
       "      <td>51</td>\n",
       "      <td>NaN</td>\n",
       "      <td>男</td>\n",
       "    </tr>\n",
       "    <tr>\n",
       "      <th>32</th>\n",
       "      <td>175</td>\n",
       "      <td>85</td>\n",
       "      <td>NaN</td>\n",
       "      <td>男</td>\n",
       "    </tr>\n",
       "    <tr>\n",
       "      <th>33</th>\n",
       "      <td>167</td>\n",
       "      <td>79</td>\n",
       "      <td>NaN</td>\n",
       "      <td>男</td>\n",
       "    </tr>\n",
       "    <tr>\n",
       "      <th>34</th>\n",
       "      <td>177</td>\n",
       "      <td>60</td>\n",
       "      <td>NaN</td>\n",
       "      <td>男</td>\n",
       "    </tr>\n",
       "    <tr>\n",
       "      <th>35</th>\n",
       "      <td>178</td>\n",
       "      <td>62</td>\n",
       "      <td>NaN</td>\n",
       "      <td>男</td>\n",
       "    </tr>\n",
       "  </tbody>\n",
       "</table></div>"
      ],
      "text/plain": [
       "     身高  體重 fake 性別\n",
       "0   164  47  NaN  女\n",
       "1   185  55  NaN  男\n",
       "2   168  48    F  女\n",
       "3   160  47  NaN  女\n",
       "4   155  45  NaN  女\n",
       "5   182  70    T  男\n",
       "6   183  66    T  男\n",
       "7   166  47    F  男\n",
       "8   170  56    T  男\n",
       "9   174  70    T  男\n",
       "10  166  60    T  女\n",
       "11  158  43    T  女\n",
       "12  168  62    F  女\n",
       "13  162  52    T  女\n",
       "14  162  62    T  女\n",
       "15  167  60    T  女\n",
       "16  163  62    F  女\n",
       "17  168  65    T  女\n",
       "18  166  66    T  女\n",
       "19  160  47    T  女\n",
       "20  166  65    T  女\n",
       "21  152  41    T  女\n",
       "22  160  50    T  女\n",
       "23  162  52    T  女\n",
       "24  150  85    F  男\n",
       "25  166  62    T  男\n",
       "26  167  67    T  男\n",
       "27  170  47    T  男\n",
       "28  173  70    T  男\n",
       "29  169  82    F  男\n",
       "30  173  46  NaN  男\n",
       "31  172  51  NaN  男\n",
       "32  175  85  NaN  男\n",
       "33  167  79  NaN  男\n",
       "34  177  60  NaN  男\n",
       "35  178  62  NaN  男"
      ]
     },
     "execution_count": 13,
     "metadata": {},
     "output_type": "execute_result"
    }
   ],
   "source": [
    "df=pd.read_csv(\"gender.csv\")\n",
    "df"
   ]
  },
  {
   "cell_type": "code",
   "execution_count": 14,
   "id": "b5308581",
   "metadata": {},
   "outputs": [],
   "source": [
    "# encoding '性別' and fake\n",
    "# '性別' : '女'➜ 0, '男'➜ 1\n",
    "# 'fake': 'F'➜ 1, else ➜ 0\n",
    "\n",
    "df['性別'] = df['性別'].map({'女': 0, '男': 1})\n",
    "df['fake']=df['fake'].apply(lambda x: 1 if x=='F' else 0)"
   ]
  },
  {
   "cell_type": "code",
   "execution_count": 15,
   "id": "b4a1b763",
   "metadata": {},
   "outputs": [
    {
     "data": {
      "text/html": [
       "<div><div id=f1beca73-c1ee-46e6-b683-2ad51a8cd677 style=\"display:none; background-color:#9D6CFF; color:white; width:200px; height:30px; padding-left:5px; border-radius:4px; flex-direction:row; justify-content:space-around; align-items:center;\" onmouseover=\"this.style.backgroundColor='#BA9BF8'\" onmouseout=\"this.style.backgroundColor='#9D6CFF'\" onclick=\"window.commands?.execute('create-mitosheet-from-dataframe-output');\">See Full Dataframe in Mito</div> <script> if (window.commands?.hasCommand('create-mitosheet-from-dataframe-output')) document.getElementById('f1beca73-c1ee-46e6-b683-2ad51a8cd677').style.display = 'flex' </script> <table border=\"1\" class=\"dataframe\">\n",
       "  <thead>\n",
       "    <tr style=\"text-align: right;\">\n",
       "      <th></th>\n",
       "      <th>身高</th>\n",
       "      <th>體重</th>\n",
       "      <th>fake</th>\n",
       "      <th>性別</th>\n",
       "    </tr>\n",
       "  </thead>\n",
       "  <tbody>\n",
       "    <tr>\n",
       "      <th>0</th>\n",
       "      <td>164</td>\n",
       "      <td>47</td>\n",
       "      <td>0</td>\n",
       "      <td>0</td>\n",
       "    </tr>\n",
       "    <tr>\n",
       "      <th>1</th>\n",
       "      <td>185</td>\n",
       "      <td>55</td>\n",
       "      <td>0</td>\n",
       "      <td>1</td>\n",
       "    </tr>\n",
       "    <tr>\n",
       "      <th>2</th>\n",
       "      <td>168</td>\n",
       "      <td>48</td>\n",
       "      <td>1</td>\n",
       "      <td>0</td>\n",
       "    </tr>\n",
       "    <tr>\n",
       "      <th>3</th>\n",
       "      <td>160</td>\n",
       "      <td>47</td>\n",
       "      <td>0</td>\n",
       "      <td>0</td>\n",
       "    </tr>\n",
       "    <tr>\n",
       "      <th>4</th>\n",
       "      <td>155</td>\n",
       "      <td>45</td>\n",
       "      <td>0</td>\n",
       "      <td>0</td>\n",
       "    </tr>\n",
       "    <tr>\n",
       "      <th>...</th>\n",
       "      <td>...</td>\n",
       "      <td>...</td>\n",
       "      <td>...</td>\n",
       "      <td>...</td>\n",
       "    </tr>\n",
       "    <tr>\n",
       "      <th>31</th>\n",
       "      <td>172</td>\n",
       "      <td>51</td>\n",
       "      <td>0</td>\n",
       "      <td>1</td>\n",
       "    </tr>\n",
       "    <tr>\n",
       "      <th>32</th>\n",
       "      <td>175</td>\n",
       "      <td>85</td>\n",
       "      <td>0</td>\n",
       "      <td>1</td>\n",
       "    </tr>\n",
       "    <tr>\n",
       "      <th>33</th>\n",
       "      <td>167</td>\n",
       "      <td>79</td>\n",
       "      <td>0</td>\n",
       "      <td>1</td>\n",
       "    </tr>\n",
       "    <tr>\n",
       "      <th>34</th>\n",
       "      <td>177</td>\n",
       "      <td>60</td>\n",
       "      <td>0</td>\n",
       "      <td>1</td>\n",
       "    </tr>\n",
       "    <tr>\n",
       "      <th>35</th>\n",
       "      <td>178</td>\n",
       "      <td>62</td>\n",
       "      <td>0</td>\n",
       "      <td>1</td>\n",
       "    </tr>\n",
       "  </tbody>\n",
       "</table></div>"
      ],
      "text/plain": [
       "     身高  體重  fake  性別\n",
       "0   164  47     0   0\n",
       "1   185  55     0   1\n",
       "2   168  48     1   0\n",
       "3   160  47     0   0\n",
       "4   155  45     0   0\n",
       "5   182  70     0   1\n",
       "6   183  66     0   1\n",
       "7   166  47     1   1\n",
       "8   170  56     0   1\n",
       "9   174  70     0   1\n",
       "10  166  60     0   0\n",
       "11  158  43     0   0\n",
       "12  168  62     1   0\n",
       "13  162  52     0   0\n",
       "14  162  62     0   0\n",
       "15  167  60     0   0\n",
       "16  163  62     1   0\n",
       "17  168  65     0   0\n",
       "18  166  66     0   0\n",
       "19  160  47     0   0\n",
       "20  166  65     0   0\n",
       "21  152  41     0   0\n",
       "22  160  50     0   0\n",
       "23  162  52     0   0\n",
       "24  150  85     1   1\n",
       "25  166  62     0   1\n",
       "26  167  67     0   1\n",
       "27  170  47     0   1\n",
       "28  173  70     0   1\n",
       "29  169  82     1   1\n",
       "30  173  46     0   1\n",
       "31  172  51     0   1\n",
       "32  175  85     0   1\n",
       "33  167  79     0   1\n",
       "34  177  60     0   1\n",
       "35  178  62     0   1"
      ]
     },
     "execution_count": 15,
     "metadata": {},
     "output_type": "execute_result"
    }
   ],
   "source": [
    "df"
   ]
  },
  {
   "cell_type": "code",
   "execution_count": 16,
   "id": "c45f1619",
   "metadata": {},
   "outputs": [],
   "source": [
    "from pycaret.classification import *"
   ]
  },
  {
   "cell_type": "code",
   "execution_count": 19,
   "id": "f3a8a926",
   "metadata": {},
   "outputs": [
    {
     "data": {
      "text/html": [
       "<style type=\"text/css\">\n",
       "#T_88499_row8_col1 {\n",
       "  background-color: lightgreen;\n",
       "}\n",
       "</style>\n",
       "<table id=\"T_88499\">\n",
       "  <thead>\n",
       "    <tr>\n",
       "      <th class=\"blank level0\" >&nbsp;</th>\n",
       "      <th id=\"T_88499_level0_col0\" class=\"col_heading level0 col0\" >Description</th>\n",
       "      <th id=\"T_88499_level0_col1\" class=\"col_heading level0 col1\" >Value</th>\n",
       "    </tr>\n",
       "  </thead>\n",
       "  <tbody>\n",
       "    <tr>\n",
       "      <th id=\"T_88499_level0_row0\" class=\"row_heading level0 row0\" >0</th>\n",
       "      <td id=\"T_88499_row0_col0\" class=\"data row0 col0\" >Session id</td>\n",
       "      <td id=\"T_88499_row0_col1\" class=\"data row0 col1\" >4789</td>\n",
       "    </tr>\n",
       "    <tr>\n",
       "      <th id=\"T_88499_level0_row1\" class=\"row_heading level0 row1\" >1</th>\n",
       "      <td id=\"T_88499_row1_col0\" class=\"data row1 col0\" >Target</td>\n",
       "      <td id=\"T_88499_row1_col1\" class=\"data row1 col1\" >性別</td>\n",
       "    </tr>\n",
       "    <tr>\n",
       "      <th id=\"T_88499_level0_row2\" class=\"row_heading level0 row2\" >2</th>\n",
       "      <td id=\"T_88499_row2_col0\" class=\"data row2 col0\" >Target type</td>\n",
       "      <td id=\"T_88499_row2_col1\" class=\"data row2 col1\" >Binary</td>\n",
       "    </tr>\n",
       "    <tr>\n",
       "      <th id=\"T_88499_level0_row3\" class=\"row_heading level0 row3\" >3</th>\n",
       "      <td id=\"T_88499_row3_col0\" class=\"data row3 col0\" >Original data shape</td>\n",
       "      <td id=\"T_88499_row3_col1\" class=\"data row3 col1\" >(36, 3)</td>\n",
       "    </tr>\n",
       "    <tr>\n",
       "      <th id=\"T_88499_level0_row4\" class=\"row_heading level0 row4\" >4</th>\n",
       "      <td id=\"T_88499_row4_col0\" class=\"data row4 col0\" >Transformed data shape</td>\n",
       "      <td id=\"T_88499_row4_col1\" class=\"data row4 col1\" >(36, 3)</td>\n",
       "    </tr>\n",
       "    <tr>\n",
       "      <th id=\"T_88499_level0_row5\" class=\"row_heading level0 row5\" >5</th>\n",
       "      <td id=\"T_88499_row5_col0\" class=\"data row5 col0\" >Transformed train set shape</td>\n",
       "      <td id=\"T_88499_row5_col1\" class=\"data row5 col1\" >(25, 3)</td>\n",
       "    </tr>\n",
       "    <tr>\n",
       "      <th id=\"T_88499_level0_row6\" class=\"row_heading level0 row6\" >6</th>\n",
       "      <td id=\"T_88499_row6_col0\" class=\"data row6 col0\" >Transformed test set shape</td>\n",
       "      <td id=\"T_88499_row6_col1\" class=\"data row6 col1\" >(11, 3)</td>\n",
       "    </tr>\n",
       "    <tr>\n",
       "      <th id=\"T_88499_level0_row7\" class=\"row_heading level0 row7\" >7</th>\n",
       "      <td id=\"T_88499_row7_col0\" class=\"data row7 col0\" >Numeric features</td>\n",
       "      <td id=\"T_88499_row7_col1\" class=\"data row7 col1\" >2</td>\n",
       "    </tr>\n",
       "    <tr>\n",
       "      <th id=\"T_88499_level0_row8\" class=\"row_heading level0 row8\" >8</th>\n",
       "      <td id=\"T_88499_row8_col0\" class=\"data row8 col0\" >Preprocess</td>\n",
       "      <td id=\"T_88499_row8_col1\" class=\"data row8 col1\" >True</td>\n",
       "    </tr>\n",
       "    <tr>\n",
       "      <th id=\"T_88499_level0_row9\" class=\"row_heading level0 row9\" >9</th>\n",
       "      <td id=\"T_88499_row9_col0\" class=\"data row9 col0\" >Imputation type</td>\n",
       "      <td id=\"T_88499_row9_col1\" class=\"data row9 col1\" >simple</td>\n",
       "    </tr>\n",
       "    <tr>\n",
       "      <th id=\"T_88499_level0_row10\" class=\"row_heading level0 row10\" >10</th>\n",
       "      <td id=\"T_88499_row10_col0\" class=\"data row10 col0\" >Numeric imputation</td>\n",
       "      <td id=\"T_88499_row10_col1\" class=\"data row10 col1\" >mean</td>\n",
       "    </tr>\n",
       "    <tr>\n",
       "      <th id=\"T_88499_level0_row11\" class=\"row_heading level0 row11\" >11</th>\n",
       "      <td id=\"T_88499_row11_col0\" class=\"data row11 col0\" >Categorical imputation</td>\n",
       "      <td id=\"T_88499_row11_col1\" class=\"data row11 col1\" >constant</td>\n",
       "    </tr>\n",
       "    <tr>\n",
       "      <th id=\"T_88499_level0_row12\" class=\"row_heading level0 row12\" >12</th>\n",
       "      <td id=\"T_88499_row12_col0\" class=\"data row12 col0\" >Low variance threshold</td>\n",
       "      <td id=\"T_88499_row12_col1\" class=\"data row12 col1\" >0</td>\n",
       "    </tr>\n",
       "    <tr>\n",
       "      <th id=\"T_88499_level0_row13\" class=\"row_heading level0 row13\" >13</th>\n",
       "      <td id=\"T_88499_row13_col0\" class=\"data row13 col0\" >Fold Generator</td>\n",
       "      <td id=\"T_88499_row13_col1\" class=\"data row13 col1\" >StratifiedKFold</td>\n",
       "    </tr>\n",
       "    <tr>\n",
       "      <th id=\"T_88499_level0_row14\" class=\"row_heading level0 row14\" >14</th>\n",
       "      <td id=\"T_88499_row14_col0\" class=\"data row14 col0\" >Fold Number</td>\n",
       "      <td id=\"T_88499_row14_col1\" class=\"data row14 col1\" >10</td>\n",
       "    </tr>\n",
       "    <tr>\n",
       "      <th id=\"T_88499_level0_row15\" class=\"row_heading level0 row15\" >15</th>\n",
       "      <td id=\"T_88499_row15_col0\" class=\"data row15 col0\" >CPU Jobs</td>\n",
       "      <td id=\"T_88499_row15_col1\" class=\"data row15 col1\" >-1</td>\n",
       "    </tr>\n",
       "    <tr>\n",
       "      <th id=\"T_88499_level0_row16\" class=\"row_heading level0 row16\" >16</th>\n",
       "      <td id=\"T_88499_row16_col0\" class=\"data row16 col0\" >Use GPU</td>\n",
       "      <td id=\"T_88499_row16_col1\" class=\"data row16 col1\" >False</td>\n",
       "    </tr>\n",
       "    <tr>\n",
       "      <th id=\"T_88499_level0_row17\" class=\"row_heading level0 row17\" >17</th>\n",
       "      <td id=\"T_88499_row17_col0\" class=\"data row17 col0\" >Log Experiment</td>\n",
       "      <td id=\"T_88499_row17_col1\" class=\"data row17 col1\" >False</td>\n",
       "    </tr>\n",
       "    <tr>\n",
       "      <th id=\"T_88499_level0_row18\" class=\"row_heading level0 row18\" >18</th>\n",
       "      <td id=\"T_88499_row18_col0\" class=\"data row18 col0\" >Experiment Name</td>\n",
       "      <td id=\"T_88499_row18_col1\" class=\"data row18 col1\" >clf-default-name</td>\n",
       "    </tr>\n",
       "    <tr>\n",
       "      <th id=\"T_88499_level0_row19\" class=\"row_heading level0 row19\" >19</th>\n",
       "      <td id=\"T_88499_row19_col0\" class=\"data row19 col0\" >USI</td>\n",
       "      <td id=\"T_88499_row19_col1\" class=\"data row19 col1\" >a762</td>\n",
       "    </tr>\n",
       "  </tbody>\n",
       "</table>\n"
      ],
      "text/plain": [
       "<pandas.io.formats.style.Styler at 0x7f9ef76ca730>"
      ]
     },
     "metadata": {},
     "output_type": "display_data"
    }
   ],
   "source": [
    "data=df[['身高','體重','性別']]\n",
    "\n",
    "reg1 = setup(data = data, target = '性別')"
   ]
  },
  {
   "cell_type": "code",
   "execution_count": 20,
   "id": "5765f780",
   "metadata": {},
   "outputs": [
    {
     "data": {
      "text/html": [],
      "text/plain": [
       "<IPython.core.display.HTML object>"
      ]
     },
     "metadata": {},
     "output_type": "display_data"
    },
    {
     "data": {
      "text/html": [
       "<style type=\"text/css\">\n",
       "#T_49726 th {\n",
       "  text-align: left;\n",
       "}\n",
       "#T_49726_row0_col0, #T_49726_row1_col0, #T_49726_row1_col1, #T_49726_row1_col2, #T_49726_row1_col3, #T_49726_row1_col5, #T_49726_row1_col6, #T_49726_row1_col7, #T_49726_row2_col0, #T_49726_row2_col1, #T_49726_row2_col2, #T_49726_row2_col3, #T_49726_row2_col5, #T_49726_row2_col6, #T_49726_row2_col7, #T_49726_row3_col0, #T_49726_row3_col1, #T_49726_row3_col3, #T_49726_row3_col4, #T_49726_row3_col5, #T_49726_row3_col6, #T_49726_row3_col7, #T_49726_row4_col0, #T_49726_row4_col1, #T_49726_row4_col2, #T_49726_row4_col3, #T_49726_row4_col4, #T_49726_row4_col5, #T_49726_row4_col6, #T_49726_row4_col7, #T_49726_row5_col0, #T_49726_row5_col1, #T_49726_row5_col2, #T_49726_row5_col3, #T_49726_row5_col4, #T_49726_row5_col5, #T_49726_row5_col6, #T_49726_row5_col7, #T_49726_row6_col0, #T_49726_row6_col1, #T_49726_row6_col2, #T_49726_row6_col3, #T_49726_row6_col4, #T_49726_row6_col5, #T_49726_row6_col6, #T_49726_row6_col7, #T_49726_row7_col0, #T_49726_row7_col1, #T_49726_row7_col3, #T_49726_row7_col4, #T_49726_row7_col5, #T_49726_row7_col6, #T_49726_row7_col7, #T_49726_row8_col0, #T_49726_row8_col1, #T_49726_row8_col2, #T_49726_row8_col3, #T_49726_row8_col4, #T_49726_row8_col5, #T_49726_row8_col6, #T_49726_row8_col7, #T_49726_row9_col0, #T_49726_row9_col1, #T_49726_row9_col2, #T_49726_row9_col3, #T_49726_row9_col4, #T_49726_row9_col5, #T_49726_row9_col6, #T_49726_row9_col7, #T_49726_row10_col0, #T_49726_row10_col1, #T_49726_row10_col2, #T_49726_row10_col4, #T_49726_row10_col5, #T_49726_row10_col6, #T_49726_row10_col7, #T_49726_row11_col0, #T_49726_row11_col1, #T_49726_row11_col2, #T_49726_row11_col4, #T_49726_row11_col5, #T_49726_row11_col6, #T_49726_row11_col7, #T_49726_row12_col0, #T_49726_row12_col1, #T_49726_row12_col2, #T_49726_row12_col4, #T_49726_row12_col5, #T_49726_row12_col6, #T_49726_row12_col7, #T_49726_row13_col0, #T_49726_row13_col1, #T_49726_row13_col2, #T_49726_row13_col3, #T_49726_row13_col4, #T_49726_row13_col5, #T_49726_row13_col6, #T_49726_row13_col7, #T_49726_row14_col0, #T_49726_row14_col1, #T_49726_row14_col2, #T_49726_row14_col3, #T_49726_row14_col4, #T_49726_row14_col5, #T_49726_row14_col6, #T_49726_row14_col7, #T_49726_row15_col0, #T_49726_row15_col1, #T_49726_row15_col2, #T_49726_row15_col3, #T_49726_row15_col4, #T_49726_row15_col5, #T_49726_row15_col6, #T_49726_row15_col7 {\n",
       "  text-align: left;\n",
       "}\n",
       "#T_49726_row0_col1, #T_49726_row0_col2, #T_49726_row0_col3, #T_49726_row0_col4, #T_49726_row0_col5, #T_49726_row0_col6, #T_49726_row0_col7, #T_49726_row1_col4, #T_49726_row2_col4, #T_49726_row3_col2, #T_49726_row7_col2, #T_49726_row10_col3, #T_49726_row11_col3, #T_49726_row12_col3 {\n",
       "  text-align: left;\n",
       "  background-color: yellow;\n",
       "}\n",
       "#T_49726_row0_col8, #T_49726_row10_col8, #T_49726_row13_col8 {\n",
       "  text-align: left;\n",
       "  background-color: yellow;\n",
       "  background-color: lightgrey;\n",
       "}\n",
       "#T_49726_row1_col8, #T_49726_row2_col8, #T_49726_row3_col8, #T_49726_row4_col8, #T_49726_row5_col8, #T_49726_row6_col8, #T_49726_row7_col8, #T_49726_row8_col8, #T_49726_row9_col8, #T_49726_row11_col8, #T_49726_row12_col8, #T_49726_row14_col8, #T_49726_row15_col8 {\n",
       "  text-align: left;\n",
       "  background-color: lightgrey;\n",
       "}\n",
       "</style>\n",
       "<table id=\"T_49726\">\n",
       "  <thead>\n",
       "    <tr>\n",
       "      <th class=\"blank level0\" >&nbsp;</th>\n",
       "      <th id=\"T_49726_level0_col0\" class=\"col_heading level0 col0\" >Model</th>\n",
       "      <th id=\"T_49726_level0_col1\" class=\"col_heading level0 col1\" >Accuracy</th>\n",
       "      <th id=\"T_49726_level0_col2\" class=\"col_heading level0 col2\" >AUC</th>\n",
       "      <th id=\"T_49726_level0_col3\" class=\"col_heading level0 col3\" >Recall</th>\n",
       "      <th id=\"T_49726_level0_col4\" class=\"col_heading level0 col4\" >Prec.</th>\n",
       "      <th id=\"T_49726_level0_col5\" class=\"col_heading level0 col5\" >F1</th>\n",
       "      <th id=\"T_49726_level0_col6\" class=\"col_heading level0 col6\" >Kappa</th>\n",
       "      <th id=\"T_49726_level0_col7\" class=\"col_heading level0 col7\" >MCC</th>\n",
       "      <th id=\"T_49726_level0_col8\" class=\"col_heading level0 col8\" >TT (Sec)</th>\n",
       "    </tr>\n",
       "  </thead>\n",
       "  <tbody>\n",
       "    <tr>\n",
       "      <th id=\"T_49726_level0_row0\" class=\"row_heading level0 row0\" >qda</th>\n",
       "      <td id=\"T_49726_row0_col0\" class=\"data row0 col0\" >Quadratic Discriminant Analysis</td>\n",
       "      <td id=\"T_49726_row0_col1\" class=\"data row0 col1\" >0.9000</td>\n",
       "      <td id=\"T_49726_row0_col2\" class=\"data row0 col2\" >0.9000</td>\n",
       "      <td id=\"T_49726_row0_col3\" class=\"data row0 col3\" >0.8000</td>\n",
       "      <td id=\"T_49726_row0_col4\" class=\"data row0 col4\" >0.8000</td>\n",
       "      <td id=\"T_49726_row0_col5\" class=\"data row0 col5\" >0.8000</td>\n",
       "      <td id=\"T_49726_row0_col6\" class=\"data row0 col6\" >0.7500</td>\n",
       "      <td id=\"T_49726_row0_col7\" class=\"data row0 col7\" >0.7500</td>\n",
       "      <td id=\"T_49726_row0_col8\" class=\"data row0 col8\" >0.0090</td>\n",
       "    </tr>\n",
       "    <tr>\n",
       "      <th id=\"T_49726_level0_row1\" class=\"row_heading level0 row1\" >knn</th>\n",
       "      <td id=\"T_49726_row1_col0\" class=\"data row1 col0\" >K Neighbors Classifier</td>\n",
       "      <td id=\"T_49726_row1_col1\" class=\"data row1 col1\" >0.8667</td>\n",
       "      <td id=\"T_49726_row1_col2\" class=\"data row1 col2\" >0.7750</td>\n",
       "      <td id=\"T_49726_row1_col3\" class=\"data row1 col3\" >0.7000</td>\n",
       "      <td id=\"T_49726_row1_col4\" class=\"data row1 col4\" >0.8000</td>\n",
       "      <td id=\"T_49726_row1_col5\" class=\"data row1 col5\" >0.7333</td>\n",
       "      <td id=\"T_49726_row1_col6\" class=\"data row1 col6\" >0.6800</td>\n",
       "      <td id=\"T_49726_row1_col7\" class=\"data row1 col7\" >0.7000</td>\n",
       "      <td id=\"T_49726_row1_col8\" class=\"data row1 col8\" >0.0120</td>\n",
       "    </tr>\n",
       "    <tr>\n",
       "      <th id=\"T_49726_level0_row2\" class=\"row_heading level0 row2\" >catboost</th>\n",
       "      <td id=\"T_49726_row2_col0\" class=\"data row2 col0\" >CatBoost Classifier</td>\n",
       "      <td id=\"T_49726_row2_col1\" class=\"data row2 col1\" >0.8667</td>\n",
       "      <td id=\"T_49726_row2_col2\" class=\"data row2 col2\" >0.8000</td>\n",
       "      <td id=\"T_49726_row2_col3\" class=\"data row2 col3\" >0.7000</td>\n",
       "      <td id=\"T_49726_row2_col4\" class=\"data row2 col4\" >0.8000</td>\n",
       "      <td id=\"T_49726_row2_col5\" class=\"data row2 col5\" >0.7333</td>\n",
       "      <td id=\"T_49726_row2_col6\" class=\"data row2 col6\" >0.6800</td>\n",
       "      <td id=\"T_49726_row2_col7\" class=\"data row2 col7\" >0.7000</td>\n",
       "      <td id=\"T_49726_row2_col8\" class=\"data row2 col8\" >0.4580</td>\n",
       "    </tr>\n",
       "    <tr>\n",
       "      <th id=\"T_49726_level0_row3\" class=\"row_heading level0 row3\" >nb</th>\n",
       "      <td id=\"T_49726_row3_col0\" class=\"data row3 col0\" >Naive Bayes</td>\n",
       "      <td id=\"T_49726_row3_col1\" class=\"data row3 col1\" >0.8500</td>\n",
       "      <td id=\"T_49726_row3_col2\" class=\"data row3 col2\" >0.9000</td>\n",
       "      <td id=\"T_49726_row3_col3\" class=\"data row3 col3\" >0.7500</td>\n",
       "      <td id=\"T_49726_row3_col4\" class=\"data row3 col4\" >0.7500</td>\n",
       "      <td id=\"T_49726_row3_col5\" class=\"data row3 col5\" >0.7333</td>\n",
       "      <td id=\"T_49726_row3_col6\" class=\"data row3 col6\" >0.6400</td>\n",
       "      <td id=\"T_49726_row3_col7\" class=\"data row3 col7\" >0.6500</td>\n",
       "      <td id=\"T_49726_row3_col8\" class=\"data row3 col8\" >0.0100</td>\n",
       "    </tr>\n",
       "    <tr>\n",
       "      <th id=\"T_49726_level0_row4\" class=\"row_heading level0 row4\" >dt</th>\n",
       "      <td id=\"T_49726_row4_col0\" class=\"data row4 col0\" >Decision Tree Classifier</td>\n",
       "      <td id=\"T_49726_row4_col1\" class=\"data row4 col1\" >0.8167</td>\n",
       "      <td id=\"T_49726_row4_col2\" class=\"data row4 col2\" >0.7750</td>\n",
       "      <td id=\"T_49726_row4_col3\" class=\"data row4 col3\" >0.7500</td>\n",
       "      <td id=\"T_49726_row4_col4\" class=\"data row4 col4\" >0.7000</td>\n",
       "      <td id=\"T_49726_row4_col5\" class=\"data row4 col5\" >0.7167</td>\n",
       "      <td id=\"T_49726_row4_col6\" class=\"data row4 col6\" >0.5500</td>\n",
       "      <td id=\"T_49726_row4_col7\" class=\"data row4 col7\" >0.5500</td>\n",
       "      <td id=\"T_49726_row4_col8\" class=\"data row4 col8\" >0.0100</td>\n",
       "    </tr>\n",
       "    <tr>\n",
       "      <th id=\"T_49726_level0_row5\" class=\"row_heading level0 row5\" >rf</th>\n",
       "      <td id=\"T_49726_row5_col0\" class=\"data row5 col0\" >Random Forest Classifier</td>\n",
       "      <td id=\"T_49726_row5_col1\" class=\"data row5 col1\" >0.8167</td>\n",
       "      <td id=\"T_49726_row5_col2\" class=\"data row5 col2\" >0.7500</td>\n",
       "      <td id=\"T_49726_row5_col3\" class=\"data row5 col3\" >0.7000</td>\n",
       "      <td id=\"T_49726_row5_col4\" class=\"data row5 col4\" >0.7500</td>\n",
       "      <td id=\"T_49726_row5_col5\" class=\"data row5 col5\" >0.7000</td>\n",
       "      <td id=\"T_49726_row5_col6\" class=\"data row5 col6\" >0.5800</td>\n",
       "      <td id=\"T_49726_row5_col7\" class=\"data row5 col7\" >0.6000</td>\n",
       "      <td id=\"T_49726_row5_col8\" class=\"data row5 col8\" >0.0530</td>\n",
       "    </tr>\n",
       "    <tr>\n",
       "      <th id=\"T_49726_level0_row6\" class=\"row_heading level0 row6\" >ada</th>\n",
       "      <td id=\"T_49726_row6_col0\" class=\"data row6 col0\" >Ada Boost Classifier</td>\n",
       "      <td id=\"T_49726_row6_col1\" class=\"data row6 col1\" >0.7833</td>\n",
       "      <td id=\"T_49726_row6_col2\" class=\"data row6 col2\" >0.8750</td>\n",
       "      <td id=\"T_49726_row6_col3\" class=\"data row6 col3\" >0.7000</td>\n",
       "      <td id=\"T_49726_row6_col4\" class=\"data row6 col4\" >0.7000</td>\n",
       "      <td id=\"T_49726_row6_col5\" class=\"data row6 col5\" >0.6833</td>\n",
       "      <td id=\"T_49726_row6_col6\" class=\"data row6 col6\" >0.4900</td>\n",
       "      <td id=\"T_49726_row6_col7\" class=\"data row6 col7\" >0.5000</td>\n",
       "      <td id=\"T_49726_row6_col8\" class=\"data row6 col8\" >0.0210</td>\n",
       "    </tr>\n",
       "    <tr>\n",
       "      <th id=\"T_49726_level0_row7\" class=\"row_heading level0 row7\" >gbc</th>\n",
       "      <td id=\"T_49726_row7_col0\" class=\"data row7 col0\" >Gradient Boosting Classifier</td>\n",
       "      <td id=\"T_49726_row7_col1\" class=\"data row7 col1\" >0.7833</td>\n",
       "      <td id=\"T_49726_row7_col2\" class=\"data row7 col2\" >0.9000</td>\n",
       "      <td id=\"T_49726_row7_col3\" class=\"data row7 col3\" >0.7000</td>\n",
       "      <td id=\"T_49726_row7_col4\" class=\"data row7 col4\" >0.7000</td>\n",
       "      <td id=\"T_49726_row7_col5\" class=\"data row7 col5\" >0.6833</td>\n",
       "      <td id=\"T_49726_row7_col6\" class=\"data row7 col6\" >0.4900</td>\n",
       "      <td id=\"T_49726_row7_col7\" class=\"data row7 col7\" >0.5000</td>\n",
       "      <td id=\"T_49726_row7_col8\" class=\"data row7 col8\" >0.0170</td>\n",
       "    </tr>\n",
       "    <tr>\n",
       "      <th id=\"T_49726_level0_row8\" class=\"row_heading level0 row8\" >et</th>\n",
       "      <td id=\"T_49726_row8_col0\" class=\"data row8 col0\" >Extra Trees Classifier</td>\n",
       "      <td id=\"T_49726_row8_col1\" class=\"data row8 col1\" >0.7833</td>\n",
       "      <td id=\"T_49726_row8_col2\" class=\"data row8 col2\" >0.8500</td>\n",
       "      <td id=\"T_49726_row8_col3\" class=\"data row8 col3\" >0.7500</td>\n",
       "      <td id=\"T_49726_row8_col4\" class=\"data row8 col4\" >0.7000</td>\n",
       "      <td id=\"T_49726_row8_col5\" class=\"data row8 col5\" >0.7167</td>\n",
       "      <td id=\"T_49726_row8_col6\" class=\"data row8 col6\" >0.5000</td>\n",
       "      <td id=\"T_49726_row8_col7\" class=\"data row8 col7\" >0.5000</td>\n",
       "      <td id=\"T_49726_row8_col8\" class=\"data row8 col8\" >0.0440</td>\n",
       "    </tr>\n",
       "    <tr>\n",
       "      <th id=\"T_49726_level0_row9\" class=\"row_heading level0 row9\" >xgboost</th>\n",
       "      <td id=\"T_49726_row9_col0\" class=\"data row9 col0\" >Extreme Gradient Boosting</td>\n",
       "      <td id=\"T_49726_row9_col1\" class=\"data row9 col1\" >0.7333</td>\n",
       "      <td id=\"T_49726_row9_col2\" class=\"data row9 col2\" >0.7500</td>\n",
       "      <td id=\"T_49726_row9_col3\" class=\"data row9 col3\" >0.7000</td>\n",
       "      <td id=\"T_49726_row9_col4\" class=\"data row9 col4\" >0.6667</td>\n",
       "      <td id=\"T_49726_row9_col5\" class=\"data row9 col5\" >0.6467</td>\n",
       "      <td id=\"T_49726_row9_col6\" class=\"data row9 col6\" >0.3800</td>\n",
       "      <td id=\"T_49726_row9_col7\" class=\"data row9 col7\" >0.4000</td>\n",
       "      <td id=\"T_49726_row9_col8\" class=\"data row9 col8\" >0.0120</td>\n",
       "    </tr>\n",
       "    <tr>\n",
       "      <th id=\"T_49726_level0_row10\" class=\"row_heading level0 row10\" >ridge</th>\n",
       "      <td id=\"T_49726_row10_col0\" class=\"data row10 col0\" >Ridge Classifier</td>\n",
       "      <td id=\"T_49726_row10_col1\" class=\"data row10 col1\" >0.7167</td>\n",
       "      <td id=\"T_49726_row10_col2\" class=\"data row10 col2\" >0.0000</td>\n",
       "      <td id=\"T_49726_row10_col3\" class=\"data row10 col3\" >0.8000</td>\n",
       "      <td id=\"T_49726_row10_col4\" class=\"data row10 col4\" >0.7167</td>\n",
       "      <td id=\"T_49726_row10_col5\" class=\"data row10 col5\" >0.7133</td>\n",
       "      <td id=\"T_49726_row10_col6\" class=\"data row10 col6\" >0.4200</td>\n",
       "      <td id=\"T_49726_row10_col7\" class=\"data row10 col7\" >0.4500</td>\n",
       "      <td id=\"T_49726_row10_col8\" class=\"data row10 col8\" >0.0090</td>\n",
       "    </tr>\n",
       "    <tr>\n",
       "      <th id=\"T_49726_level0_row11\" class=\"row_heading level0 row11\" >lda</th>\n",
       "      <td id=\"T_49726_row11_col0\" class=\"data row11 col0\" >Linear Discriminant Analysis</td>\n",
       "      <td id=\"T_49726_row11_col1\" class=\"data row11 col1\" >0.7167</td>\n",
       "      <td id=\"T_49726_row11_col2\" class=\"data row11 col2\" >0.7500</td>\n",
       "      <td id=\"T_49726_row11_col3\" class=\"data row11 col3\" >0.8000</td>\n",
       "      <td id=\"T_49726_row11_col4\" class=\"data row11 col4\" >0.7167</td>\n",
       "      <td id=\"T_49726_row11_col5\" class=\"data row11 col5\" >0.7133</td>\n",
       "      <td id=\"T_49726_row11_col6\" class=\"data row11 col6\" >0.4200</td>\n",
       "      <td id=\"T_49726_row11_col7\" class=\"data row11 col7\" >0.4500</td>\n",
       "      <td id=\"T_49726_row11_col8\" class=\"data row11 col8\" >0.0100</td>\n",
       "    </tr>\n",
       "    <tr>\n",
       "      <th id=\"T_49726_level0_row12\" class=\"row_heading level0 row12\" >lr</th>\n",
       "      <td id=\"T_49726_row12_col0\" class=\"data row12 col0\" >Logistic Regression</td>\n",
       "      <td id=\"T_49726_row12_col1\" class=\"data row12 col1\" >0.6667</td>\n",
       "      <td id=\"T_49726_row12_col2\" class=\"data row12 col2\" >0.7500</td>\n",
       "      <td id=\"T_49726_row12_col3\" class=\"data row12 col3\" >0.8000</td>\n",
       "      <td id=\"T_49726_row12_col4\" class=\"data row12 col4\" >0.6667</td>\n",
       "      <td id=\"T_49726_row12_col5\" class=\"data row12 col5\" >0.6800</td>\n",
       "      <td id=\"T_49726_row12_col6\" class=\"data row12 col6\" >0.3200</td>\n",
       "      <td id=\"T_49726_row12_col7\" class=\"data row12 col7\" >0.3500</td>\n",
       "      <td id=\"T_49726_row12_col8\" class=\"data row12 col8\" >0.0270</td>\n",
       "    </tr>\n",
       "    <tr>\n",
       "      <th id=\"T_49726_level0_row13\" class=\"row_heading level0 row13\" >svm</th>\n",
       "      <td id=\"T_49726_row13_col0\" class=\"data row13 col0\" >SVM - Linear Kernel</td>\n",
       "      <td id=\"T_49726_row13_col1\" class=\"data row13 col1\" >0.5333</td>\n",
       "      <td id=\"T_49726_row13_col2\" class=\"data row13 col2\" >0.0000</td>\n",
       "      <td id=\"T_49726_row13_col3\" class=\"data row13 col3\" >0.5500</td>\n",
       "      <td id=\"T_49726_row13_col4\" class=\"data row13 col4\" >0.3833</td>\n",
       "      <td id=\"T_49726_row13_col5\" class=\"data row13 col5\" >0.4133</td>\n",
       "      <td id=\"T_49726_row13_col6\" class=\"data row13 col6\" >0.1400</td>\n",
       "      <td id=\"T_49726_row13_col7\" class=\"data row13 col7\" >0.1500</td>\n",
       "      <td id=\"T_49726_row13_col8\" class=\"data row13 col8\" >0.0090</td>\n",
       "    </tr>\n",
       "    <tr>\n",
       "      <th id=\"T_49726_level0_row14\" class=\"row_heading level0 row14\" >lightgbm</th>\n",
       "      <td id=\"T_49726_row14_col0\" class=\"data row14 col0\" >Light Gradient Boosting Machine</td>\n",
       "      <td id=\"T_49726_row14_col1\" class=\"data row14 col1\" >0.4167</td>\n",
       "      <td id=\"T_49726_row14_col2\" class=\"data row14 col2\" >0.5000</td>\n",
       "      <td id=\"T_49726_row14_col3\" class=\"data row14 col3\" >0.7000</td>\n",
       "      <td id=\"T_49726_row14_col4\" class=\"data row14 col4\" >0.3167</td>\n",
       "      <td id=\"T_49726_row14_col5\" class=\"data row14 col5\" >0.4333</td>\n",
       "      <td id=\"T_49726_row14_col6\" class=\"data row14 col6\" >0.0000</td>\n",
       "      <td id=\"T_49726_row14_col7\" class=\"data row14 col7\" >0.0000</td>\n",
       "      <td id=\"T_49726_row14_col8\" class=\"data row14 col8\" >0.0100</td>\n",
       "    </tr>\n",
       "    <tr>\n",
       "      <th id=\"T_49726_level0_row15\" class=\"row_heading level0 row15\" >dummy</th>\n",
       "      <td id=\"T_49726_row15_col0\" class=\"data row15 col0\" >Dummy Classifier</td>\n",
       "      <td id=\"T_49726_row15_col1\" class=\"data row15 col1\" >0.4167</td>\n",
       "      <td id=\"T_49726_row15_col2\" class=\"data row15 col2\" >0.5000</td>\n",
       "      <td id=\"T_49726_row15_col3\" class=\"data row15 col3\" >0.7000</td>\n",
       "      <td id=\"T_49726_row15_col4\" class=\"data row15 col4\" >0.3167</td>\n",
       "      <td id=\"T_49726_row15_col5\" class=\"data row15 col5\" >0.4333</td>\n",
       "      <td id=\"T_49726_row15_col6\" class=\"data row15 col6\" >0.0000</td>\n",
       "      <td id=\"T_49726_row15_col7\" class=\"data row15 col7\" >0.0000</td>\n",
       "      <td id=\"T_49726_row15_col8\" class=\"data row15 col8\" >0.0120</td>\n",
       "    </tr>\n",
       "  </tbody>\n",
       "</table>\n"
      ],
      "text/plain": [
       "<pandas.io.formats.style.Styler at 0x7f9ef7263d90>"
      ]
     },
     "metadata": {},
     "output_type": "display_data"
    },
    {
     "data": {
      "text/html": [],
      "text/plain": [
       "<IPython.core.display.HTML object>"
      ]
     },
     "metadata": {},
     "output_type": "display_data"
    },
    {
     "data": {
      "text/html": [
       "<style>#sk-container-id-2 {color: black;background-color: white;}#sk-container-id-2 pre{padding: 0;}#sk-container-id-2 div.sk-toggleable {background-color: white;}#sk-container-id-2 label.sk-toggleable__label {cursor: pointer;display: block;width: 100%;margin-bottom: 0;padding: 0.3em;box-sizing: border-box;text-align: center;}#sk-container-id-2 label.sk-toggleable__label-arrow:before {content: \"▸\";float: left;margin-right: 0.25em;color: #696969;}#sk-container-id-2 label.sk-toggleable__label-arrow:hover:before {color: black;}#sk-container-id-2 div.sk-estimator:hover label.sk-toggleable__label-arrow:before {color: black;}#sk-container-id-2 div.sk-toggleable__content {max-height: 0;max-width: 0;overflow: hidden;text-align: left;background-color: #f0f8ff;}#sk-container-id-2 div.sk-toggleable__content pre {margin: 0.2em;color: black;border-radius: 0.25em;background-color: #f0f8ff;}#sk-container-id-2 input.sk-toggleable__control:checked~div.sk-toggleable__content {max-height: 200px;max-width: 100%;overflow: auto;}#sk-container-id-2 input.sk-toggleable__control:checked~label.sk-toggleable__label-arrow:before {content: \"▾\";}#sk-container-id-2 div.sk-estimator input.sk-toggleable__control:checked~label.sk-toggleable__label {background-color: #d4ebff;}#sk-container-id-2 div.sk-label input.sk-toggleable__control:checked~label.sk-toggleable__label {background-color: #d4ebff;}#sk-container-id-2 input.sk-hidden--visually {border: 0;clip: rect(1px 1px 1px 1px);clip: rect(1px, 1px, 1px, 1px);height: 1px;margin: -1px;overflow: hidden;padding: 0;position: absolute;width: 1px;}#sk-container-id-2 div.sk-estimator {font-family: monospace;background-color: #f0f8ff;border: 1px dotted black;border-radius: 0.25em;box-sizing: border-box;margin-bottom: 0.5em;}#sk-container-id-2 div.sk-estimator:hover {background-color: #d4ebff;}#sk-container-id-2 div.sk-parallel-item::after {content: \"\";width: 100%;border-bottom: 1px solid gray;flex-grow: 1;}#sk-container-id-2 div.sk-label:hover label.sk-toggleable__label {background-color: #d4ebff;}#sk-container-id-2 div.sk-serial::before {content: \"\";position: absolute;border-left: 1px solid gray;box-sizing: border-box;top: 0;bottom: 0;left: 50%;z-index: 0;}#sk-container-id-2 div.sk-serial {display: flex;flex-direction: column;align-items: center;background-color: white;padding-right: 0.2em;padding-left: 0.2em;position: relative;}#sk-container-id-2 div.sk-item {position: relative;z-index: 1;}#sk-container-id-2 div.sk-parallel {display: flex;align-items: stretch;justify-content: center;background-color: white;position: relative;}#sk-container-id-2 div.sk-item::before, #sk-container-id-2 div.sk-parallel-item::before {content: \"\";position: absolute;border-left: 1px solid gray;box-sizing: border-box;top: 0;bottom: 0;left: 50%;z-index: -1;}#sk-container-id-2 div.sk-parallel-item {display: flex;flex-direction: column;z-index: 1;position: relative;background-color: white;}#sk-container-id-2 div.sk-parallel-item:first-child::after {align-self: flex-end;width: 50%;}#sk-container-id-2 div.sk-parallel-item:last-child::after {align-self: flex-start;width: 50%;}#sk-container-id-2 div.sk-parallel-item:only-child::after {width: 0;}#sk-container-id-2 div.sk-dashed-wrapped {border: 1px dashed gray;margin: 0 0.4em 0.5em 0.4em;box-sizing: border-box;padding-bottom: 0.4em;background-color: white;}#sk-container-id-2 div.sk-label label {font-family: monospace;font-weight: bold;display: inline-block;line-height: 1.2em;}#sk-container-id-2 div.sk-label-container {text-align: center;}#sk-container-id-2 div.sk-container {/* jupyter's `normalize.less` sets `[hidden] { display: none; }` but bootstrap.min.css set `[hidden] { display: none !important; }` so we also need the `!important` here to be able to override the default hidden behavior on the sphinx rendered scikit-learn.org. See: https://github.com/scikit-learn/scikit-learn/issues/21755 */display: inline-block !important;position: relative;}#sk-container-id-2 div.sk-text-repr-fallback {display: none;}</style><div id=\"sk-container-id-2\" class=\"sk-top-container\"><div class=\"sk-text-repr-fallback\"><pre>QuadraticDiscriminantAnalysis(priors=None, reg_param=0.0,\n",
       "                              store_covariance=False, tol=0.0001)</pre><b>In a Jupyter environment, please rerun this cell to show the HTML representation or trust the notebook. <br />On GitHub, the HTML representation is unable to render, please try loading this page with nbviewer.org.</b></div><div class=\"sk-container\" hidden><div class=\"sk-item\"><div class=\"sk-estimator sk-toggleable\"><input class=\"sk-toggleable__control sk-hidden--visually\" id=\"sk-estimator-id-2\" type=\"checkbox\" checked><label for=\"sk-estimator-id-2\" class=\"sk-toggleable__label sk-toggleable__label-arrow\">QuadraticDiscriminantAnalysis</label><div class=\"sk-toggleable__content\"><pre>QuadraticDiscriminantAnalysis(priors=None, reg_param=0.0,\n",
       "                              store_covariance=False, tol=0.0001)</pre></div></div></div></div></div>"
      ],
      "text/plain": [
       "QuadraticDiscriminantAnalysis(priors=None, reg_param=0.0,\n",
       "                              store_covariance=False, tol=0.0001)"
      ]
     },
     "execution_count": 20,
     "metadata": {},
     "output_type": "execute_result"
    }
   ],
   "source": [
    "compare_models()"
   ]
  },
  {
   "cell_type": "code",
   "execution_count": 21,
   "id": "e0c4c760",
   "metadata": {},
   "outputs": [
    {
     "data": {
      "text/html": [],
      "text/plain": [
       "<IPython.core.display.HTML object>"
      ]
     },
     "metadata": {},
     "output_type": "display_data"
    },
    {
     "data": {
      "text/html": [
       "<style type=\"text/css\">\n",
       "#T_761e6_row10_col0, #T_761e6_row10_col1, #T_761e6_row10_col2, #T_761e6_row10_col3, #T_761e6_row10_col4, #T_761e6_row10_col5, #T_761e6_row10_col6 {\n",
       "  background: yellow;\n",
       "}\n",
       "</style>\n",
       "<table id=\"T_761e6\">\n",
       "  <thead>\n",
       "    <tr>\n",
       "      <th class=\"blank level0\" >&nbsp;</th>\n",
       "      <th id=\"T_761e6_level0_col0\" class=\"col_heading level0 col0\" >Accuracy</th>\n",
       "      <th id=\"T_761e6_level0_col1\" class=\"col_heading level0 col1\" >AUC</th>\n",
       "      <th id=\"T_761e6_level0_col2\" class=\"col_heading level0 col2\" >Recall</th>\n",
       "      <th id=\"T_761e6_level0_col3\" class=\"col_heading level0 col3\" >Prec.</th>\n",
       "      <th id=\"T_761e6_level0_col4\" class=\"col_heading level0 col4\" >F1</th>\n",
       "      <th id=\"T_761e6_level0_col5\" class=\"col_heading level0 col5\" >Kappa</th>\n",
       "      <th id=\"T_761e6_level0_col6\" class=\"col_heading level0 col6\" >MCC</th>\n",
       "    </tr>\n",
       "    <tr>\n",
       "      <th class=\"index_name level0\" >Fold</th>\n",
       "      <th class=\"blank col0\" >&nbsp;</th>\n",
       "      <th class=\"blank col1\" >&nbsp;</th>\n",
       "      <th class=\"blank col2\" >&nbsp;</th>\n",
       "      <th class=\"blank col3\" >&nbsp;</th>\n",
       "      <th class=\"blank col4\" >&nbsp;</th>\n",
       "      <th class=\"blank col5\" >&nbsp;</th>\n",
       "      <th class=\"blank col6\" >&nbsp;</th>\n",
       "    </tr>\n",
       "  </thead>\n",
       "  <tbody>\n",
       "    <tr>\n",
       "      <th id=\"T_761e6_level0_row0\" class=\"row_heading level0 row0\" >0</th>\n",
       "      <td id=\"T_761e6_row0_col0\" class=\"data row0 col0\" >1.0000</td>\n",
       "      <td id=\"T_761e6_row0_col1\" class=\"data row0 col1\" >1.0000</td>\n",
       "      <td id=\"T_761e6_row0_col2\" class=\"data row0 col2\" >1.0000</td>\n",
       "      <td id=\"T_761e6_row0_col3\" class=\"data row0 col3\" >1.0000</td>\n",
       "      <td id=\"T_761e6_row0_col4\" class=\"data row0 col4\" >1.0000</td>\n",
       "      <td id=\"T_761e6_row0_col5\" class=\"data row0 col5\" >1.0000</td>\n",
       "      <td id=\"T_761e6_row0_col6\" class=\"data row0 col6\" >1.0000</td>\n",
       "    </tr>\n",
       "    <tr>\n",
       "      <th id=\"T_761e6_level0_row1\" class=\"row_heading level0 row1\" >1</th>\n",
       "      <td id=\"T_761e6_row1_col0\" class=\"data row1 col0\" >0.3333</td>\n",
       "      <td id=\"T_761e6_row1_col1\" class=\"data row1 col1\" >0.2500</td>\n",
       "      <td id=\"T_761e6_row1_col2\" class=\"data row1 col2\" >0.5000</td>\n",
       "      <td id=\"T_761e6_row1_col3\" class=\"data row1 col3\" >0.5000</td>\n",
       "      <td id=\"T_761e6_row1_col4\" class=\"data row1 col4\" >0.5000</td>\n",
       "      <td id=\"T_761e6_row1_col5\" class=\"data row1 col5\" >-0.5000</td>\n",
       "      <td id=\"T_761e6_row1_col6\" class=\"data row1 col6\" >-0.5000</td>\n",
       "    </tr>\n",
       "    <tr>\n",
       "      <th id=\"T_761e6_level0_row2\" class=\"row_heading level0 row2\" >2</th>\n",
       "      <td id=\"T_761e6_row2_col0\" class=\"data row2 col0\" >1.0000</td>\n",
       "      <td id=\"T_761e6_row2_col1\" class=\"data row2 col1\" >1.0000</td>\n",
       "      <td id=\"T_761e6_row2_col2\" class=\"data row2 col2\" >1.0000</td>\n",
       "      <td id=\"T_761e6_row2_col3\" class=\"data row2 col3\" >1.0000</td>\n",
       "      <td id=\"T_761e6_row2_col4\" class=\"data row2 col4\" >1.0000</td>\n",
       "      <td id=\"T_761e6_row2_col5\" class=\"data row2 col5\" >1.0000</td>\n",
       "      <td id=\"T_761e6_row2_col6\" class=\"data row2 col6\" >1.0000</td>\n",
       "    </tr>\n",
       "    <tr>\n",
       "      <th id=\"T_761e6_level0_row3\" class=\"row_heading level0 row3\" >3</th>\n",
       "      <td id=\"T_761e6_row3_col0\" class=\"data row3 col0\" >0.6667</td>\n",
       "      <td id=\"T_761e6_row3_col1\" class=\"data row3 col1\" >0.5000</td>\n",
       "      <td id=\"T_761e6_row3_col2\" class=\"data row3 col2\" >0.0000</td>\n",
       "      <td id=\"T_761e6_row3_col3\" class=\"data row3 col3\" >0.0000</td>\n",
       "      <td id=\"T_761e6_row3_col4\" class=\"data row3 col4\" >0.0000</td>\n",
       "      <td id=\"T_761e6_row3_col5\" class=\"data row3 col5\" >0.0000</td>\n",
       "      <td id=\"T_761e6_row3_col6\" class=\"data row3 col6\" >0.0000</td>\n",
       "    </tr>\n",
       "    <tr>\n",
       "      <th id=\"T_761e6_level0_row4\" class=\"row_heading level0 row4\" >4</th>\n",
       "      <td id=\"T_761e6_row4_col0\" class=\"data row4 col0\" >0.6667</td>\n",
       "      <td id=\"T_761e6_row4_col1\" class=\"data row4 col1\" >0.5000</td>\n",
       "      <td id=\"T_761e6_row4_col2\" class=\"data row4 col2\" >0.0000</td>\n",
       "      <td id=\"T_761e6_row4_col3\" class=\"data row4 col3\" >0.0000</td>\n",
       "      <td id=\"T_761e6_row4_col4\" class=\"data row4 col4\" >0.0000</td>\n",
       "      <td id=\"T_761e6_row4_col5\" class=\"data row4 col5\" >0.0000</td>\n",
       "      <td id=\"T_761e6_row4_col6\" class=\"data row4 col6\" >0.0000</td>\n",
       "    </tr>\n",
       "    <tr>\n",
       "      <th id=\"T_761e6_level0_row5\" class=\"row_heading level0 row5\" >5</th>\n",
       "      <td id=\"T_761e6_row5_col0\" class=\"data row5 col0\" >0.5000</td>\n",
       "      <td id=\"T_761e6_row5_col1\" class=\"data row5 col1\" >0.5000</td>\n",
       "      <td id=\"T_761e6_row5_col2\" class=\"data row5 col2\" >1.0000</td>\n",
       "      <td id=\"T_761e6_row5_col3\" class=\"data row5 col3\" >0.5000</td>\n",
       "      <td id=\"T_761e6_row5_col4\" class=\"data row5 col4\" >0.6667</td>\n",
       "      <td id=\"T_761e6_row5_col5\" class=\"data row5 col5\" >0.0000</td>\n",
       "      <td id=\"T_761e6_row5_col6\" class=\"data row5 col6\" >0.0000</td>\n",
       "    </tr>\n",
       "    <tr>\n",
       "      <th id=\"T_761e6_level0_row6\" class=\"row_heading level0 row6\" >6</th>\n",
       "      <td id=\"T_761e6_row6_col0\" class=\"data row6 col0\" >1.0000</td>\n",
       "      <td id=\"T_761e6_row6_col1\" class=\"data row6 col1\" >1.0000</td>\n",
       "      <td id=\"T_761e6_row6_col2\" class=\"data row6 col2\" >1.0000</td>\n",
       "      <td id=\"T_761e6_row6_col3\" class=\"data row6 col3\" >1.0000</td>\n",
       "      <td id=\"T_761e6_row6_col4\" class=\"data row6 col4\" >1.0000</td>\n",
       "      <td id=\"T_761e6_row6_col5\" class=\"data row6 col5\" >1.0000</td>\n",
       "      <td id=\"T_761e6_row6_col6\" class=\"data row6 col6\" >1.0000</td>\n",
       "    </tr>\n",
       "    <tr>\n",
       "      <th id=\"T_761e6_level0_row7\" class=\"row_heading level0 row7\" >7</th>\n",
       "      <td id=\"T_761e6_row7_col0\" class=\"data row7 col0\" >1.0000</td>\n",
       "      <td id=\"T_761e6_row7_col1\" class=\"data row7 col1\" >1.0000</td>\n",
       "      <td id=\"T_761e6_row7_col2\" class=\"data row7 col2\" >1.0000</td>\n",
       "      <td id=\"T_761e6_row7_col3\" class=\"data row7 col3\" >1.0000</td>\n",
       "      <td id=\"T_761e6_row7_col4\" class=\"data row7 col4\" >1.0000</td>\n",
       "      <td id=\"T_761e6_row7_col5\" class=\"data row7 col5\" >1.0000</td>\n",
       "      <td id=\"T_761e6_row7_col6\" class=\"data row7 col6\" >1.0000</td>\n",
       "    </tr>\n",
       "    <tr>\n",
       "      <th id=\"T_761e6_level0_row8\" class=\"row_heading level0 row8\" >8</th>\n",
       "      <td id=\"T_761e6_row8_col0\" class=\"data row8 col0\" >1.0000</td>\n",
       "      <td id=\"T_761e6_row8_col1\" class=\"data row8 col1\" >1.0000</td>\n",
       "      <td id=\"T_761e6_row8_col2\" class=\"data row8 col2\" >1.0000</td>\n",
       "      <td id=\"T_761e6_row8_col3\" class=\"data row8 col3\" >1.0000</td>\n",
       "      <td id=\"T_761e6_row8_col4\" class=\"data row8 col4\" >1.0000</td>\n",
       "      <td id=\"T_761e6_row8_col5\" class=\"data row8 col5\" >1.0000</td>\n",
       "      <td id=\"T_761e6_row8_col6\" class=\"data row8 col6\" >1.0000</td>\n",
       "    </tr>\n",
       "    <tr>\n",
       "      <th id=\"T_761e6_level0_row9\" class=\"row_heading level0 row9\" >9</th>\n",
       "      <td id=\"T_761e6_row9_col0\" class=\"data row9 col0\" >1.0000</td>\n",
       "      <td id=\"T_761e6_row9_col1\" class=\"data row9 col1\" >1.0000</td>\n",
       "      <td id=\"T_761e6_row9_col2\" class=\"data row9 col2\" >1.0000</td>\n",
       "      <td id=\"T_761e6_row9_col3\" class=\"data row9 col3\" >1.0000</td>\n",
       "      <td id=\"T_761e6_row9_col4\" class=\"data row9 col4\" >1.0000</td>\n",
       "      <td id=\"T_761e6_row9_col5\" class=\"data row9 col5\" >1.0000</td>\n",
       "      <td id=\"T_761e6_row9_col6\" class=\"data row9 col6\" >1.0000</td>\n",
       "    </tr>\n",
       "    <tr>\n",
       "      <th id=\"T_761e6_level0_row10\" class=\"row_heading level0 row10\" >Mean</th>\n",
       "      <td id=\"T_761e6_row10_col0\" class=\"data row10 col0\" >0.8167</td>\n",
       "      <td id=\"T_761e6_row10_col1\" class=\"data row10 col1\" >0.7750</td>\n",
       "      <td id=\"T_761e6_row10_col2\" class=\"data row10 col2\" >0.7500</td>\n",
       "      <td id=\"T_761e6_row10_col3\" class=\"data row10 col3\" >0.7000</td>\n",
       "      <td id=\"T_761e6_row10_col4\" class=\"data row10 col4\" >0.7167</td>\n",
       "      <td id=\"T_761e6_row10_col5\" class=\"data row10 col5\" >0.5500</td>\n",
       "      <td id=\"T_761e6_row10_col6\" class=\"data row10 col6\" >0.5500</td>\n",
       "    </tr>\n",
       "    <tr>\n",
       "      <th id=\"T_761e6_level0_row11\" class=\"row_heading level0 row11\" >Std</th>\n",
       "      <td id=\"T_761e6_row11_col0\" class=\"data row11 col0\" >0.2409</td>\n",
       "      <td id=\"T_761e6_row11_col1\" class=\"data row11 col1\" >0.2839</td>\n",
       "      <td id=\"T_761e6_row11_col2\" class=\"data row11 col2\" >0.4031</td>\n",
       "      <td id=\"T_761e6_row11_col3\" class=\"data row11 col3\" >0.4000</td>\n",
       "      <td id=\"T_761e6_row11_col4\" class=\"data row11 col4\" >0.3948</td>\n",
       "      <td id=\"T_761e6_row11_col5\" class=\"data row11 col5\" >0.5679</td>\n",
       "      <td id=\"T_761e6_row11_col6\" class=\"data row11 col6\" >0.5679</td>\n",
       "    </tr>\n",
       "  </tbody>\n",
       "</table>\n"
      ],
      "text/plain": [
       "<pandas.io.formats.style.Styler at 0x7f9ef7542310>"
      ]
     },
     "metadata": {},
     "output_type": "display_data"
    },
    {
     "data": {
      "text/html": [],
      "text/plain": [
       "<IPython.core.display.HTML object>"
      ]
     },
     "metadata": {},
     "output_type": "display_data"
    }
   ],
   "source": [
    "# decision tree model\n",
    "dt = create_model('dt')"
   ]
  },
  {
   "cell_type": "code",
   "execution_count": 22,
   "id": "f00d7aff",
   "metadata": {},
   "outputs": [
    {
     "name": "stdout",
     "output_type": "stream",
     "text": [
      "DecisionTreeClassifier(ccp_alpha=0.0, class_weight=None, criterion='gini',\n",
      "                       max_depth=None, max_features=None, max_leaf_nodes=None,\n",
      "                       min_impurity_decrease=0.0, min_samples_leaf=1,\n",
      "                       min_samples_split=2, min_weight_fraction_leaf=0.0,\n",
      "                       random_state=4789, splitter='best')\n"
     ]
    }
   ],
   "source": [
    "#trained model object is stored in the variable 'dt'. \n",
    "print(dt)"
   ]
  },
  {
   "cell_type": "code",
   "execution_count": 23,
   "id": "9d0eafa8",
   "metadata": {},
   "outputs": [
    {
     "data": {
      "text/html": [],
      "text/plain": [
       "<IPython.core.display.HTML object>"
      ]
     },
     "metadata": {},
     "output_type": "display_data"
    },
    {
     "data": {
      "text/html": [
       "<style type=\"text/css\">\n",
       "#T_12125_row10_col0, #T_12125_row10_col1, #T_12125_row10_col2, #T_12125_row10_col3, #T_12125_row10_col4, #T_12125_row10_col5, #T_12125_row10_col6 {\n",
       "  background: yellow;\n",
       "}\n",
       "</style>\n",
       "<table id=\"T_12125\">\n",
       "  <thead>\n",
       "    <tr>\n",
       "      <th class=\"blank level0\" >&nbsp;</th>\n",
       "      <th id=\"T_12125_level0_col0\" class=\"col_heading level0 col0\" >Accuracy</th>\n",
       "      <th id=\"T_12125_level0_col1\" class=\"col_heading level0 col1\" >AUC</th>\n",
       "      <th id=\"T_12125_level0_col2\" class=\"col_heading level0 col2\" >Recall</th>\n",
       "      <th id=\"T_12125_level0_col3\" class=\"col_heading level0 col3\" >Prec.</th>\n",
       "      <th id=\"T_12125_level0_col4\" class=\"col_heading level0 col4\" >F1</th>\n",
       "      <th id=\"T_12125_level0_col5\" class=\"col_heading level0 col5\" >Kappa</th>\n",
       "      <th id=\"T_12125_level0_col6\" class=\"col_heading level0 col6\" >MCC</th>\n",
       "    </tr>\n",
       "    <tr>\n",
       "      <th class=\"index_name level0\" >Fold</th>\n",
       "      <th class=\"blank col0\" >&nbsp;</th>\n",
       "      <th class=\"blank col1\" >&nbsp;</th>\n",
       "      <th class=\"blank col2\" >&nbsp;</th>\n",
       "      <th class=\"blank col3\" >&nbsp;</th>\n",
       "      <th class=\"blank col4\" >&nbsp;</th>\n",
       "      <th class=\"blank col5\" >&nbsp;</th>\n",
       "      <th class=\"blank col6\" >&nbsp;</th>\n",
       "    </tr>\n",
       "  </thead>\n",
       "  <tbody>\n",
       "    <tr>\n",
       "      <th id=\"T_12125_level0_row0\" class=\"row_heading level0 row0\" >0</th>\n",
       "      <td id=\"T_12125_row0_col0\" class=\"data row0 col0\" >0.6667</td>\n",
       "      <td id=\"T_12125_row0_col1\" class=\"data row0 col1\" >1.0000</td>\n",
       "      <td id=\"T_12125_row0_col2\" class=\"data row0 col2\" >0.5000</td>\n",
       "      <td id=\"T_12125_row0_col3\" class=\"data row0 col3\" >1.0000</td>\n",
       "      <td id=\"T_12125_row0_col4\" class=\"data row0 col4\" >0.6667</td>\n",
       "      <td id=\"T_12125_row0_col5\" class=\"data row0 col5\" >0.4000</td>\n",
       "      <td id=\"T_12125_row0_col6\" class=\"data row0 col6\" >0.5000</td>\n",
       "    </tr>\n",
       "    <tr>\n",
       "      <th id=\"T_12125_level0_row1\" class=\"row_heading level0 row1\" >1</th>\n",
       "      <td id=\"T_12125_row1_col0\" class=\"data row1 col0\" >0.6667</td>\n",
       "      <td id=\"T_12125_row1_col1\" class=\"data row1 col1\" >0.5000</td>\n",
       "      <td id=\"T_12125_row1_col2\" class=\"data row1 col2\" >0.5000</td>\n",
       "      <td id=\"T_12125_row1_col3\" class=\"data row1 col3\" >1.0000</td>\n",
       "      <td id=\"T_12125_row1_col4\" class=\"data row1 col4\" >0.6667</td>\n",
       "      <td id=\"T_12125_row1_col5\" class=\"data row1 col5\" >0.4000</td>\n",
       "      <td id=\"T_12125_row1_col6\" class=\"data row1 col6\" >0.5000</td>\n",
       "    </tr>\n",
       "    <tr>\n",
       "      <th id=\"T_12125_level0_row2\" class=\"row_heading level0 row2\" >2</th>\n",
       "      <td id=\"T_12125_row2_col0\" class=\"data row2 col0\" >1.0000</td>\n",
       "      <td id=\"T_12125_row2_col1\" class=\"data row2 col1\" >1.0000</td>\n",
       "      <td id=\"T_12125_row2_col2\" class=\"data row2 col2\" >1.0000</td>\n",
       "      <td id=\"T_12125_row2_col3\" class=\"data row2 col3\" >1.0000</td>\n",
       "      <td id=\"T_12125_row2_col4\" class=\"data row2 col4\" >1.0000</td>\n",
       "      <td id=\"T_12125_row2_col5\" class=\"data row2 col5\" >1.0000</td>\n",
       "      <td id=\"T_12125_row2_col6\" class=\"data row2 col6\" >1.0000</td>\n",
       "    </tr>\n",
       "    <tr>\n",
       "      <th id=\"T_12125_level0_row3\" class=\"row_heading level0 row3\" >3</th>\n",
       "      <td id=\"T_12125_row3_col0\" class=\"data row3 col0\" >0.6667</td>\n",
       "      <td id=\"T_12125_row3_col1\" class=\"data row3 col1\" >0.7500</td>\n",
       "      <td id=\"T_12125_row3_col2\" class=\"data row3 col2\" >0.0000</td>\n",
       "      <td id=\"T_12125_row3_col3\" class=\"data row3 col3\" >0.0000</td>\n",
       "      <td id=\"T_12125_row3_col4\" class=\"data row3 col4\" >0.0000</td>\n",
       "      <td id=\"T_12125_row3_col5\" class=\"data row3 col5\" >0.0000</td>\n",
       "      <td id=\"T_12125_row3_col6\" class=\"data row3 col6\" >0.0000</td>\n",
       "    </tr>\n",
       "    <tr>\n",
       "      <th id=\"T_12125_level0_row4\" class=\"row_heading level0 row4\" >4</th>\n",
       "      <td id=\"T_12125_row4_col0\" class=\"data row4 col0\" >0.6667</td>\n",
       "      <td id=\"T_12125_row4_col1\" class=\"data row4 col1\" >0.0000</td>\n",
       "      <td id=\"T_12125_row4_col2\" class=\"data row4 col2\" >0.0000</td>\n",
       "      <td id=\"T_12125_row4_col3\" class=\"data row4 col3\" >0.0000</td>\n",
       "      <td id=\"T_12125_row4_col4\" class=\"data row4 col4\" >0.0000</td>\n",
       "      <td id=\"T_12125_row4_col5\" class=\"data row4 col5\" >0.0000</td>\n",
       "      <td id=\"T_12125_row4_col6\" class=\"data row4 col6\" >0.0000</td>\n",
       "    </tr>\n",
       "    <tr>\n",
       "      <th id=\"T_12125_level0_row5\" class=\"row_heading level0 row5\" >5</th>\n",
       "      <td id=\"T_12125_row5_col0\" class=\"data row5 col0\" >1.0000</td>\n",
       "      <td id=\"T_12125_row5_col1\" class=\"data row5 col1\" >1.0000</td>\n",
       "      <td id=\"T_12125_row5_col2\" class=\"data row5 col2\" >1.0000</td>\n",
       "      <td id=\"T_12125_row5_col3\" class=\"data row5 col3\" >1.0000</td>\n",
       "      <td id=\"T_12125_row5_col4\" class=\"data row5 col4\" >1.0000</td>\n",
       "      <td id=\"T_12125_row5_col5\" class=\"data row5 col5\" >1.0000</td>\n",
       "      <td id=\"T_12125_row5_col6\" class=\"data row5 col6\" >1.0000</td>\n",
       "    </tr>\n",
       "    <tr>\n",
       "      <th id=\"T_12125_level0_row6\" class=\"row_heading level0 row6\" >6</th>\n",
       "      <td id=\"T_12125_row6_col0\" class=\"data row6 col0\" >1.0000</td>\n",
       "      <td id=\"T_12125_row6_col1\" class=\"data row6 col1\" >1.0000</td>\n",
       "      <td id=\"T_12125_row6_col2\" class=\"data row6 col2\" >1.0000</td>\n",
       "      <td id=\"T_12125_row6_col3\" class=\"data row6 col3\" >1.0000</td>\n",
       "      <td id=\"T_12125_row6_col4\" class=\"data row6 col4\" >1.0000</td>\n",
       "      <td id=\"T_12125_row6_col5\" class=\"data row6 col5\" >1.0000</td>\n",
       "      <td id=\"T_12125_row6_col6\" class=\"data row6 col6\" >1.0000</td>\n",
       "    </tr>\n",
       "    <tr>\n",
       "      <th id=\"T_12125_level0_row7\" class=\"row_heading level0 row7\" >7</th>\n",
       "      <td id=\"T_12125_row7_col0\" class=\"data row7 col0\" >1.0000</td>\n",
       "      <td id=\"T_12125_row7_col1\" class=\"data row7 col1\" >1.0000</td>\n",
       "      <td id=\"T_12125_row7_col2\" class=\"data row7 col2\" >1.0000</td>\n",
       "      <td id=\"T_12125_row7_col3\" class=\"data row7 col3\" >1.0000</td>\n",
       "      <td id=\"T_12125_row7_col4\" class=\"data row7 col4\" >1.0000</td>\n",
       "      <td id=\"T_12125_row7_col5\" class=\"data row7 col5\" >1.0000</td>\n",
       "      <td id=\"T_12125_row7_col6\" class=\"data row7 col6\" >1.0000</td>\n",
       "    </tr>\n",
       "    <tr>\n",
       "      <th id=\"T_12125_level0_row8\" class=\"row_heading level0 row8\" >8</th>\n",
       "      <td id=\"T_12125_row8_col0\" class=\"data row8 col0\" >1.0000</td>\n",
       "      <td id=\"T_12125_row8_col1\" class=\"data row8 col1\" >1.0000</td>\n",
       "      <td id=\"T_12125_row8_col2\" class=\"data row8 col2\" >1.0000</td>\n",
       "      <td id=\"T_12125_row8_col3\" class=\"data row8 col3\" >1.0000</td>\n",
       "      <td id=\"T_12125_row8_col4\" class=\"data row8 col4\" >1.0000</td>\n",
       "      <td id=\"T_12125_row8_col5\" class=\"data row8 col5\" >1.0000</td>\n",
       "      <td id=\"T_12125_row8_col6\" class=\"data row8 col6\" >1.0000</td>\n",
       "    </tr>\n",
       "    <tr>\n",
       "      <th id=\"T_12125_level0_row9\" class=\"row_heading level0 row9\" >9</th>\n",
       "      <td id=\"T_12125_row9_col0\" class=\"data row9 col0\" >1.0000</td>\n",
       "      <td id=\"T_12125_row9_col1\" class=\"data row9 col1\" >1.0000</td>\n",
       "      <td id=\"T_12125_row9_col2\" class=\"data row9 col2\" >1.0000</td>\n",
       "      <td id=\"T_12125_row9_col3\" class=\"data row9 col3\" >1.0000</td>\n",
       "      <td id=\"T_12125_row9_col4\" class=\"data row9 col4\" >1.0000</td>\n",
       "      <td id=\"T_12125_row9_col5\" class=\"data row9 col5\" >1.0000</td>\n",
       "      <td id=\"T_12125_row9_col6\" class=\"data row9 col6\" >1.0000</td>\n",
       "    </tr>\n",
       "    <tr>\n",
       "      <th id=\"T_12125_level0_row10\" class=\"row_heading level0 row10\" >Mean</th>\n",
       "      <td id=\"T_12125_row10_col0\" class=\"data row10 col0\" >0.8667</td>\n",
       "      <td id=\"T_12125_row10_col1\" class=\"data row10 col1\" >0.8250</td>\n",
       "      <td id=\"T_12125_row10_col2\" class=\"data row10 col2\" >0.7000</td>\n",
       "      <td id=\"T_12125_row10_col3\" class=\"data row10 col3\" >0.8000</td>\n",
       "      <td id=\"T_12125_row10_col4\" class=\"data row10 col4\" >0.7333</td>\n",
       "      <td id=\"T_12125_row10_col5\" class=\"data row10 col5\" >0.6800</td>\n",
       "      <td id=\"T_12125_row10_col6\" class=\"data row10 col6\" >0.7000</td>\n",
       "    </tr>\n",
       "    <tr>\n",
       "      <th id=\"T_12125_level0_row11\" class=\"row_heading level0 row11\" >Std</th>\n",
       "      <td id=\"T_12125_row11_col0\" class=\"data row11 col0\" >0.1633</td>\n",
       "      <td id=\"T_12125_row11_col1\" class=\"data row11 col1\" >0.3172</td>\n",
       "      <td id=\"T_12125_row11_col2\" class=\"data row11 col2\" >0.4000</td>\n",
       "      <td id=\"T_12125_row11_col3\" class=\"data row11 col3\" >0.4000</td>\n",
       "      <td id=\"T_12125_row11_col4\" class=\"data row11 col4\" >0.3887</td>\n",
       "      <td id=\"T_12125_row11_col5\" class=\"data row11 col5\" >0.4118</td>\n",
       "      <td id=\"T_12125_row11_col6\" class=\"data row11 col6\" >0.4000</td>\n",
       "    </tr>\n",
       "  </tbody>\n",
       "</table>\n"
      ],
      "text/plain": [
       "<pandas.io.formats.style.Styler at 0x7f9f0cbee160>"
      ]
     },
     "metadata": {},
     "output_type": "display_data"
    },
    {
     "data": {
      "text/html": [],
      "text/plain": [
       "<IPython.core.display.HTML object>"
      ]
     },
     "metadata": {},
     "output_type": "display_data"
    },
    {
     "name": "stdout",
     "output_type": "stream",
     "text": [
      "Fitting 10 folds for each of 10 candidates, totalling 100 fits\n"
     ]
    }
   ],
   "source": [
    "# tuned dt model\n",
    "tuned_dt = tune_model(dt)"
   ]
  },
  {
   "cell_type": "code",
   "execution_count": 24,
   "id": "5f25e3ff",
   "metadata": {},
   "outputs": [
    {
     "name": "stdout",
     "output_type": "stream",
     "text": [
      "DecisionTreeClassifier(ccp_alpha=0.0, class_weight=None, criterion='entropy',\n",
      "                       max_depth=8, max_features='sqrt', max_leaf_nodes=None,\n",
      "                       min_impurity_decrease=0.001, min_samples_leaf=3,\n",
      "                       min_samples_split=2, min_weight_fraction_leaf=0.0,\n",
      "                       random_state=4789, splitter='best')\n"
     ]
    }
   ],
   "source": [
    "print(tuned_dt)"
   ]
  },
  {
   "cell_type": "markdown",
   "id": "2d4504a6",
   "metadata": {},
   "source": [
    "1. [AUC](https://developers.google.com/machine-learning/crash-course/classification/roc-and-auc)\n",
    "\n",
    "An ROC curve plots `TPR(Y)` vs. `FPR(X)` at different classification thresholds\n",
    "```\n",
    "         Observations\n",
    "      |   T   |  F  \n",
    "   ---|-------|-------\n",
    "      |       |\n",
    " P  T |  TP   |  FP\n",
    " r    |       |\n",
    " e ---|-------|-------\n",
    " d    |       |\n",
    "    F |  FN   |  TN\n",
    "      |\n",
    "      \n",
    "          TP \n",
    "TPR = ----------\n",
    "        TP + FN\n",
    "\n",
    "          FP        \n",
    "FPR = -----------\n",
    "        FP + TN\n",
    "```  \n",
    "AUC stands for \"Area under the ROC Curve.\" "
   ]
  },
  {
   "cell_type": "code",
   "execution_count": 25,
   "id": "7c5313d7",
   "metadata": {},
   "outputs": [
    {
     "data": {
      "text/html": [],
      "text/plain": [
       "<IPython.core.display.HTML object>"
      ]
     },
     "metadata": {},
     "output_type": "display_data"
    },
    {
     "data": {
      "image/png": "[encoded data removed]",
      "text/plain": [
       "<Figure size 432x288 with 1 Axes>"
      ]
     },
     "metadata": {
      "needs_background": "light"
     },
     "output_type": "display_data"
    }
   ],
   "source": [
    "plot_model(tuned_dt, plot = 'auc')"
   ]
  },
  {
   "cell_type": "code",
   "execution_count": 28,
   "id": "bee8b98e",
   "metadata": {},
   "outputs": [
    {
     "data": {
      "text/html": [],
      "text/plain": [
       "<IPython.core.display.HTML object>"
      ]
     },
     "metadata": {},
     "output_type": "display_data"
    },
    {
     "data": {
      "image/png": "[encoded data removed]",
      "text/plain": [
       "<Figure size 432x288 with 1 Axes>"
      ]
     },
     "metadata": {
      "needs_background": "light"
     },
     "output_type": "display_data"
    }
   ],
   "source": [
    "# performance depends on the size of samples, here due to the small size of test samples\n",
    "plot_model(tuned_dt, plot = 'confusion_matrix')"
   ]
  },
  {
   "cell_type": "code",
   "execution_count": 29,
   "id": "0b4ac219",
   "metadata": {},
   "outputs": [
    {
     "data": {
      "text/html": [
       "<style type=\"text/css\">\n",
       "</style>\n",
       "<table id=\"T_5b795\">\n",
       "  <thead>\n",
       "    <tr>\n",
       "      <th class=\"blank level0\" >&nbsp;</th>\n",
       "      <th id=\"T_5b795_level0_col0\" class=\"col_heading level0 col0\" >Model</th>\n",
       "      <th id=\"T_5b795_level0_col1\" class=\"col_heading level0 col1\" >Accuracy</th>\n",
       "      <th id=\"T_5b795_level0_col2\" class=\"col_heading level0 col2\" >AUC</th>\n",
       "      <th id=\"T_5b795_level0_col3\" class=\"col_heading level0 col3\" >Recall</th>\n",
       "      <th id=\"T_5b795_level0_col4\" class=\"col_heading level0 col4\" >Prec.</th>\n",
       "      <th id=\"T_5b795_level0_col5\" class=\"col_heading level0 col5\" >F1</th>\n",
       "      <th id=\"T_5b795_level0_col6\" class=\"col_heading level0 col6\" >Kappa</th>\n",
       "      <th id=\"T_5b795_level0_col7\" class=\"col_heading level0 col7\" >MCC</th>\n",
       "    </tr>\n",
       "  </thead>\n",
       "  <tbody>\n",
       "    <tr>\n",
       "      <th id=\"T_5b795_level0_row0\" class=\"row_heading level0 row0\" >0</th>\n",
       "      <td id=\"T_5b795_row0_col0\" class=\"data row0 col0\" >Decision Tree Classifier</td>\n",
       "      <td id=\"T_5b795_row0_col1\" class=\"data row0 col1\" >1.0000</td>\n",
       "      <td id=\"T_5b795_row0_col2\" class=\"data row0 col2\" >1.0000</td>\n",
       "      <td id=\"T_5b795_row0_col3\" class=\"data row0 col3\" >1.0000</td>\n",
       "      <td id=\"T_5b795_row0_col4\" class=\"data row0 col4\" >1.0000</td>\n",
       "      <td id=\"T_5b795_row0_col5\" class=\"data row0 col5\" >1.0000</td>\n",
       "      <td id=\"T_5b795_row0_col6\" class=\"data row0 col6\" >1.0000</td>\n",
       "      <td id=\"T_5b795_row0_col7\" class=\"data row0 col7\" >1.0000</td>\n",
       "    </tr>\n",
       "  </tbody>\n",
       "</table>\n"
      ],
      "text/plain": [
       "<pandas.io.formats.style.Styler at 0x7f9ef673b670>"
      ]
     },
     "metadata": {},
     "output_type": "display_data"
    },
    {
     "data": {
      "text/html": [
       "<div><div id=79f334fa-32cd-4afa-b111-f882152dbe92 style=\"display:none; background-color:#9D6CFF; color:white; width:200px; height:30px; padding-left:5px; border-radius:4px; flex-direction:row; justify-content:space-around; align-items:center;\" onmouseover=\"this.style.backgroundColor='#BA9BF8'\" onmouseout=\"this.style.backgroundColor='#9D6CFF'\" onclick=\"window.commands?.execute('create-mitosheet-from-dataframe-output');\">See Full Dataframe in Mito</div> <script> if (window.commands?.hasCommand('create-mitosheet-from-dataframe-output')) document.getElementById('79f334fa-32cd-4afa-b111-f882152dbe92').style.display = 'flex' </script> <table border=\"1\" class=\"dataframe\">\n",
       "  <thead>\n",
       "    <tr style=\"text-align: right;\">\n",
       "      <th></th>\n",
       "      <th>身高</th>\n",
       "      <th>體重</th>\n",
       "      <th>性別</th>\n",
       "      <th>prediction_label</th>\n",
       "      <th>prediction_score</th>\n",
       "    </tr>\n",
       "  </thead>\n",
       "  <tbody>\n",
       "    <tr>\n",
       "      <th>25</th>\n",
       "      <td>163.0</td>\n",
       "      <td>62.0</td>\n",
       "      <td>0</td>\n",
       "      <td>0</td>\n",
       "      <td>1.0000</td>\n",
       "    </tr>\n",
       "    <tr>\n",
       "      <th>26</th>\n",
       "      <td>167.0</td>\n",
       "      <td>79.0</td>\n",
       "      <td>1</td>\n",
       "      <td>1</td>\n",
       "      <td>0.6667</td>\n",
       "    </tr>\n",
       "    <tr>\n",
       "      <th>27</th>\n",
       "      <td>158.0</td>\n",
       "      <td>43.0</td>\n",
       "      <td>0</td>\n",
       "      <td>0</td>\n",
       "      <td>1.0000</td>\n",
       "    </tr>\n",
       "    <tr>\n",
       "      <th>28</th>\n",
       "      <td>170.0</td>\n",
       "      <td>47.0</td>\n",
       "      <td>1</td>\n",
       "      <td>1</td>\n",
       "      <td>1.0000</td>\n",
       "    </tr>\n",
       "    <tr>\n",
       "      <th>29</th>\n",
       "      <td>177.0</td>\n",
       "      <td>60.0</td>\n",
       "      <td>1</td>\n",
       "      <td>1</td>\n",
       "      <td>1.0000</td>\n",
       "    </tr>\n",
       "    <tr>\n",
       "      <th>...</th>\n",
       "      <td>...</td>\n",
       "      <td>...</td>\n",
       "      <td>...</td>\n",
       "      <td>...</td>\n",
       "      <td>...</td>\n",
       "    </tr>\n",
       "    <tr>\n",
       "      <th>31</th>\n",
       "      <td>168.0</td>\n",
       "      <td>48.0</td>\n",
       "      <td>0</td>\n",
       "      <td>0</td>\n",
       "      <td>0.6667</td>\n",
       "    </tr>\n",
       "    <tr>\n",
       "      <th>32</th>\n",
       "      <td>160.0</td>\n",
       "      <td>47.0</td>\n",
       "      <td>0</td>\n",
       "      <td>0</td>\n",
       "      <td>1.0000</td>\n",
       "    </tr>\n",
       "    <tr>\n",
       "      <th>33</th>\n",
       "      <td>183.0</td>\n",
       "      <td>66.0</td>\n",
       "      <td>1</td>\n",
       "      <td>1</td>\n",
       "      <td>1.0000</td>\n",
       "    </tr>\n",
       "    <tr>\n",
       "      <th>34</th>\n",
       "      <td>167.0</td>\n",
       "      <td>60.0</td>\n",
       "      <td>0</td>\n",
       "      <td>0</td>\n",
       "      <td>0.6667</td>\n",
       "    </tr>\n",
       "    <tr>\n",
       "      <th>35</th>\n",
       "      <td>173.0</td>\n",
       "      <td>70.0</td>\n",
       "      <td>1</td>\n",
       "      <td>1</td>\n",
       "      <td>1.0000</td>\n",
       "    </tr>\n",
       "  </tbody>\n",
       "</table></div>"
      ],
      "text/plain": [
       "       身高    體重  性別  prediction_label  prediction_score\n",
       "25  163.0  62.0   0                 0            1.0000\n",
       "26  167.0  79.0   1                 1            0.6667\n",
       "27  158.0  43.0   0                 0            1.0000\n",
       "28  170.0  47.0   1                 1            1.0000\n",
       "29  177.0  60.0   1                 1            1.0000\n",
       "30  152.0  41.0   0                 0            1.0000\n",
       "31  168.0  48.0   0                 0            0.6667\n",
       "32  160.0  47.0   0                 0            1.0000\n",
       "33  183.0  66.0   1                 1            1.0000\n",
       "34  167.0  60.0   0                 0            0.6667\n",
       "35  173.0  70.0   1                 1            1.0000"
      ]
     },
     "execution_count": 29,
     "metadata": {},
     "output_type": "execute_result"
    }
   ],
   "source": [
    "predict_model(tuned_dt)"
   ]
  },
  {
   "cell_type": "code",
   "execution_count": 30,
   "id": "685aed23",
   "metadata": {},
   "outputs": [],
   "source": [
    "final_dt = finalize_model(tuned_dt)"
   ]
  },
  {
   "cell_type": "code",
   "execution_count": 31,
   "id": "44a15be3",
   "metadata": {},
   "outputs": [
    {
     "name": "stdout",
     "output_type": "stream",
     "text": [
      "Transformation Pipeline and Model Successfully Saved\n"
     ]
    },
    {
     "data": {
      "text/plain": [
       "(Pipeline(memory=Memory(location=/var/folders/xb/s7vwrt4153xbxzr8hc8tbdtr0000gn/T/joblib),\n",
       "          steps=[('numerical_imputer',\n",
       "                  TransformerWrapper(exclude=None, include=['身高', '體重'],\n",
       "                                     transformer=SimpleImputer(add_indicator=False,\n",
       "                                                               copy=True,\n",
       "                                                               fill_value=None,\n",
       "                                                               missing_values=nan,\n",
       "                                                               strategy='mean',\n",
       "                                                               verbose='deprecated'))),\n",
       "                 ('categorical_imputer',\n",
       "                  TransformerWrapper(exclude=...\n",
       "                  TransformerWrapper(exclude=[], include=None,\n",
       "                                     transformer=VarianceThreshold(threshold=0))),\n",
       "                 ('actual_estimator',\n",
       "                  DecisionTreeClassifier(ccp_alpha=0.0, class_weight=None,\n",
       "                                         criterion='entropy', max_depth=8,\n",
       "                                         max_features='sqrt',\n",
       "                                         max_leaf_nodes=None,\n",
       "                                         min_impurity_decrease=0.001,\n",
       "                                         min_samples_leaf=3, min_samples_split=2,\n",
       "                                         min_weight_fraction_leaf=0.0,\n",
       "                                         random_state=4789, splitter='best'))],\n",
       "          verbose=False),\n",
       " 'gender-data/2022_12_8.pkl')"
      ]
     },
     "execution_count": 31,
     "metadata": {},
     "output_type": "execute_result"
    }
   ],
   "source": [
    "save_model(final_dt,'2022_12_8')"
   ]
  },
  {
   "cell_type": "code",
   "execution_count": 40,
   "id": "408cacf1",
   "metadata": {},
   "outputs": [
    {
     "data": {
      "text/html": [],
      "text/plain": [
       "<IPython.core.display.HTML object>"
      ]
     },
     "metadata": {},
     "output_type": "display_data"
    },
    {
     "data": {
      "text/html": [
       "<div><div id=c41166a7-bffe-457e-a1dc-10e289f37cea style=\"display:none; background-color:#9D6CFF; color:white; width:200px; height:30px; padding-left:5px; border-radius:4px; flex-direction:row; justify-content:space-around; align-items:center;\" onmouseover=\"this.style.backgroundColor='#BA9BF8'\" onmouseout=\"this.style.backgroundColor='#9D6CFF'\" onclick=\"window.commands?.execute('create-mitosheet-from-dataframe-output');\">See Full Dataframe in Mito</div> <script> if (window.commands?.hasCommand('create-mitosheet-from-dataframe-output')) document.getElementById('c41166a7-bffe-457e-a1dc-10e289f37cea').style.display = 'flex' </script> <table border=\"1\" class=\"dataframe\">\n",
       "  <thead>\n",
       "    <tr style=\"text-align: right;\">\n",
       "      <th></th>\n",
       "      <th>身高</th>\n",
       "      <th>體重</th>\n",
       "      <th>prediction_label</th>\n",
       "      <th>prediction_score</th>\n",
       "    </tr>\n",
       "  </thead>\n",
       "  <tbody>\n",
       "    <tr>\n",
       "      <th>0</th>\n",
       "      <td>160.0</td>\n",
       "      <td>50.0</td>\n",
       "      <td>0</td>\n",
       "      <td>1.0</td>\n",
       "    </tr>\n",
       "  </tbody>\n",
       "</table></div>"
      ],
      "text/plain": [
       "      身高    體重  prediction_label  prediction_score\n",
       "0  160.0  50.0                 0               1.0"
      ]
     },
     "execution_count": 40,
     "metadata": {},
     "output_type": "execute_result"
    }
   ],
   "source": [
    "#final_dt.predict([[150],[40]])\n",
    "#input_data=data[-3:] \n",
    "predict_model(tuned_dt,data=input_data)"
   ]
  },
  {
   "cell_type": "code",
   "execution_count": 41,
   "id": "517c09e0",
   "metadata": {},
   "outputs": [
    {
     "data": {
      "text/plain": [
       "array([0], dtype=int8)"
      ]
     },
     "execution_count": 41,
     "metadata": {},
     "output_type": "execute_result"
    }
   ],
   "source": [
    "tuned_dt.predict([[160,50]])"
   ]
  },
  {
   "cell_type": "code",
   "execution_count": 42,
   "id": "71f12473",
   "metadata": {},
   "outputs": [
    {
     "data": {
      "text/html": [
       "<div><div id=ec2f8cab-1f40-476b-8df7-a5fb169e1d2a style=\"display:none; background-color:#9D6CFF; color:white; width:200px; height:30px; padding-left:5px; border-radius:4px; flex-direction:row; justify-content:space-around; align-items:center;\" onmouseover=\"this.style.backgroundColor='#BA9BF8'\" onmouseout=\"this.style.backgroundColor='#9D6CFF'\" onclick=\"window.commands?.execute('create-mitosheet-from-dataframe-output');\">See Full Dataframe in Mito</div> <script> if (window.commands?.hasCommand('create-mitosheet-from-dataframe-output')) document.getElementById('ec2f8cab-1f40-476b-8df7-a5fb169e1d2a').style.display = 'flex' </script> <table border=\"1\" class=\"dataframe\">\n",
       "  <thead>\n",
       "    <tr style=\"text-align: right;\">\n",
       "      <th></th>\n",
       "      <th>身高</th>\n",
       "      <th>體重</th>\n",
       "    </tr>\n",
       "  </thead>\n",
       "  <tbody>\n",
       "    <tr>\n",
       "      <th>0</th>\n",
       "      <td>160</td>\n",
       "      <td>50</td>\n",
       "    </tr>\n",
       "  </tbody>\n",
       "</table></div>"
      ],
      "text/plain": [
       "    身高  體重\n",
       "0  160  50"
      ]
     },
     "execution_count": 42,
     "metadata": {},
     "output_type": "execute_result"
    }
   ],
   "source": [
    "input_data=pd.DataFrame(data={'身高':[160],'體重':[50]}) \n",
    "input_data"
   ]
  },
  {
   "cell_type": "code",
   "execution_count": 43,
   "id": "d10be6dd",
   "metadata": {},
   "outputs": [
    {
     "data": {
      "text/html": [],
      "text/plain": [
       "<IPython.core.display.HTML object>"
      ]
     },
     "metadata": {},
     "output_type": "display_data"
    },
    {
     "data": {
      "text/plain": [
       "0    0\n",
       "Name: prediction_label, dtype: int64"
      ]
     },
     "execution_count": 43,
     "metadata": {},
     "output_type": "execute_result"
    }
   ],
   "source": [
    "predict_model(tuned_dt,data=input_data)['prediction_label']\n",
    "#predict_model(tuned_dt,data=input_data)['prediction_label'][0]"
   ]
  },
  {
   "cell_type": "code",
   "execution_count": 44,
   "id": "fa5a8d5e",
   "metadata": {},
   "outputs": [
    {
     "data": {
      "text/plain": [
       "array([0], dtype=int8)"
      ]
     },
     "execution_count": 44,
     "metadata": {},
     "output_type": "execute_result"
    }
   ],
   "source": [
    "tuned_dt.predict([[160,50]])"
   ]
  },
  {
   "cell_type": "code",
   "execution_count": 49,
   "id": "d95fdb04",
   "metadata": {},
   "outputs": [],
   "source": [
    "import numpy as np\n",
    "sample=[160,50]\n",
    "sample_list=np.array(sample).reshape(1, -1)"
   ]
  },
  {
   "cell_type": "code",
   "execution_count": 50,
   "id": "8e60bc46",
   "metadata": {},
   "outputs": [
    {
     "data": {
      "text/plain": [
       "array([0], dtype=int8)"
      ]
     },
     "execution_count": 50,
     "metadata": {},
     "output_type": "execute_result"
    }
   ],
   "source": [
    "tuned_dt.predict(sample_list)"
   ]
  },
  {
   "cell_type": "code",
   "execution_count": 51,
   "id": "4dafd0b2",
   "metadata": {},
   "outputs": [
    {
     "data": {
      "text/plain": [
       "array([[160,  50]])"
      ]
     },
     "execution_count": 51,
     "metadata": {},
     "output_type": "execute_result"
    }
   ],
   "source": [
    "sample_list"
   ]
  },
  {
   "cell_type": "code",
   "execution_count": 59,
   "id": "3157ca02",
   "metadata": {},
   "outputs": [
    {
     "data": {
      "text/plain": [
       "[160, 50]"
      ]
     },
     "execution_count": 59,
     "metadata": {},
     "output_type": "execute_result"
    }
   ],
   "source": [
    "list(input_data.iloc[0,:])"
   ]
  },
  {
   "cell_type": "code",
   "execution_count": 61,
   "id": "95f48d1f",
   "metadata": {},
   "outputs": [
    {
     "data": {
      "text/plain": [
       "array([0], dtype=int8)"
      ]
     },
     "execution_count": 61,
     "metadata": {},
     "output_type": "execute_result"
    }
   ],
   "source": [
    "tuned_dt.predict(sample_list)"
   ]
  },
  {
   "cell_type": "code",
   "execution_count": null,
   "id": "deb7cf6f",
   "metadata": {},
   "outputs": [],
   "source": []
  }
 ],
 "metadata": {
  "hide_input": false,
  "kernelspec": {
   "display_name": "Python 3",
   "language": "python",
   "name": "python3"
  },
  "language_info": {
   "codemirror_mode": {
    "name": "ipython",
    "version": 3
   },
   "file_extension": ".py",
   "mimetype": "text/x-python",
   "name": "python",
   "nbconvert_exporter": "python",
   "pygments_lexer": "ipython3",
   "version": "3.8.5"
  }
 },
 "nbformat": 4,
 "nbformat_minor": 5
}
