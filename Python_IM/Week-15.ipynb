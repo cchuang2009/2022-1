{
  "nbformat": 4,
  "nbformat_minor": 0,
  "metadata": {
    "colab": {
      "provenance": []
    },
    "kernelspec": {
      "name": "python3",
      "display_name": "Python 3"
    },
    "language_info": {
      "name": "python"
    }
  },
  "cells": [
    {
      "cell_type": "markdown",
      "source": [
        "**Collatz Conjecture**, could be the simplest but yet unsolved Maths problem. Only two rules to follows:\n",
        "\n",
        "Take a number *randomly* and check whether it’s even or odd:\n",
        "\n",
        "divide it with two if it's even, else multiply it with 3 and add 1 to the result.\n",
        "\n",
        "and repeat iteratedly until the result is 1.\n",
        "\n",
        "<font size=\"6em\">\n",
        "\n",
        "```\n",
        "            \n",
        "              even\n",
        "     n = xxx   ➡︎  n=xxx/2  ↺\n",
        "      odd ⬇︎ \n",
        "          \n",
        "        n= 3×(xxx)+1 ↺\n",
        "```\n",
        "</font>\n",
        "Repeated as above, turn out to be 1 finally. "
      ],
      "metadata": {
        "id": "2TgISxQHzSC_"
      }
    },
    {
      "cell_type": "code",
      "source": [],
      "metadata": {
        "id": "-5LtelxWBOZF"
      },
      "execution_count": null,
      "outputs": []
    },
    {
      "cell_type": "code",
      "execution_count": null,
      "metadata": {
        "colab": {
          "base_uri": "https://localhost:8080/"
        },
        "id": "gRDvN3owyv9d",
        "outputId": "c88f6f8a-7fec-4cc4-e2f2-482658f022d2"
      },
      "outputs": [
        {
          "name": "stdout",
          "output_type": "stream",
          "text": [
            "Enter a number: 1005\n"
          ]
        }
      ],
      "source": [
        "num = int(input('Enter a number: '))"
      ]
    },
    {
      "cell_type": "code",
      "source": [
        "# start \n",
        "sequence = [num]\n",
        "\n",
        "while(num != 1):    # this condition makes the loop stop once we reach 1\n",
        "    if((num%2)==0):\n",
        "        num = num//2    # re-assigning num with a new value\n",
        "    else:\n",
        "        num = (num*3) + 1    # re-assigning num with a new value\n",
        "    \n",
        "    sequence.append(num)    # appending number to the list"
      ],
      "metadata": {
        "id": "HpLm1dMs08iP"
      },
      "execution_count": null,
      "outputs": []
    },
    {
      "cell_type": "code",
      "source": [
        "sequence"
      ],
      "metadata": {
        "id": "oKH2OFXS1Sof"
      },
      "execution_count": null,
      "outputs": []
    },
    {
      "cell_type": "code",
      "source": [
        "def collatz_conjecture(print='all'):\n",
        "   num = int(input('Enter a number: '))\n",
        "   sequence = [num]\n",
        "   while(num != 1):\n",
        "       if((num%2)==0):\n",
        "           num = num // 2 \n",
        "       else:\n",
        "           num = (num*3) + 1\n",
        "       sequence.append(num)\n",
        "   if print=='all':\n",
        "       return sequence\n",
        "   else:\n",
        "     #print(sequence[:5],\" ... \",sequence[-5:])\n",
        "     output=[sequence[i] for i in range(5)]\n",
        "     output.append('...')\n",
        "     for i in range(5):\n",
        "         output.append(sequence[i-5])\n",
        "     return output\n",
        "   "
      ],
      "metadata": {
        "id": "kIm_M20d1hfi"
      },
      "execution_count": null,
      "outputs": []
    },
    {
      "cell_type": "code",
      "source": [
        "collatz_conjecture()"
      ],
      "metadata": {
        "id": "_mLq16Zz2Sk7"
      },
      "execution_count": null,
      "outputs": []
    },
    {
      "cell_type": "code",
      "source": [
        "collatz_conjecture(print='no')"
      ],
      "metadata": {
        "colab": {
          "base_uri": "https://localhost:8080/"
        },
        "id": "2lHoOYxf2nt7",
        "outputId": "c04bc5a4-8575-4220-c474-0712ee9d0ec9"
      },
      "execution_count": null,
      "outputs": [
        {
          "name": "stdout",
          "output_type": "stream",
          "text": [
            "Enter a number: 1005\n"
          ]
        },
        {
          "output_type": "execute_result",
          "data": {
            "text/plain": [
              "[1005, 3016, 1508, 754, 377, '...', 16, 8, 4, 2, 1]"
            ]
          },
          "metadata": {},
          "execution_count": 59
        }
      ]
    },
    {
      "cell_type": "code",
      "source": [],
      "metadata": {
        "id": "GXi3qYDV68kG"
      },
      "execution_count": null,
      "outputs": []
    },
    {
      "cell_type": "markdown",
      "source": [
        "Summary\n",
        "===\n",
        "## What we had learned in the lecture, 這學期學到:\n",
        "---"
      ],
      "metadata": {
        "id": "5vIcpkZnaVBF"
      }
    },
    {
      "cell_type": "markdown",
      "source": [
        "<details>\n",
        "<summary>\n",
        " <a class=\"btnfire small stroke\"><em class=\"fas fa-chevron-circle-down\"></em>\n",
        "    <font size=\"5em\"> Python Programming, with the following packages,</font>\n",
        "  </a>\n",
        "   Python 程式語言和常用函式庫的使用\n",
        "\n",
        "\n",
        "</summary>\n",
        "<details>\n",
        "<summary>\n",
        " <a class=\"btnfire small stroke\"><em class=\"fas fa-chevron-circle-down\"></em>\n",
        "    <font size=\"4em\"> Scientific computation, 科學計算</font>\n",
        "  </a>\n",
        "</summary>\n",
        "Numpy/scipy\n",
        "</details>\n",
        "<details>\n",
        "<summary>\n",
        " <a class=\"btnfire small stroke\"><em class=\"fas fa-chevron-circle-down\"></em>\n",
        "    <font size=\"4em\"> Data visualisation, 資料視覺化</font>\n",
        "  </a>\n",
        "</summary>\n",
        "\n",
        "- <b>Native visualization package, 一般</b>: matplotlib, seaborn,  \n",
        "- <b>visualization with interactivity, 具有互動性</b>: plotly, pyecharts, \n",
        "- <b>tree-based vizualization, 樹狀圖製圖</b>: dtreeviz (graphviz)\n",
        "</details>\n",
        "<details>\n",
        "<summary>\n",
        " <a class=\"btnfire small stroke\"><em class=\"fas fa-chevron-circle-down\"></em>\n",
        "    <font size=\"4em\">Database Manipulation, 資料庫操作</font>\n",
        "  </a>\n",
        "</summary>\n",
        "\n",
        " - <b>Database, 資料庫</b>: pandas, \n",
        " - <b> Auto-analysis Data, 自動資料分析</b>: lux,\n",
        " - <b> GUI-based Data manipulation, 資料分析圖形化介面</b>: mito, \n",
        " - <b> tool for web-scrapy financial data, 網路抓取經濟資料工具</b>: yfinance\n",
        "</details>\n",
        "<details>\n",
        "<summary>\n",
        " <a class=\"btnfire small stroke\"><em class=\"fas fa-chevron-circle-down\"></em>\n",
        "    <font size=\"4em\">Data Analysis by Statistics, 統計分析</font>\n",
        "  </a>\n",
        "</summary>\n",
        "statsmodels, scipy.stats\n",
        "</details>\n",
        "<details>\n",
        "<summary>\n",
        " <a class=\"btnfire small stroke\"><em class=\"fas fa-chevron-circle-down\"></em>\n",
        "    <font size=\"4em\">Model Building, 建模</font>\n",
        "  </a>\n",
        "</summary>\n",
        " \n",
        "\n",
        " - <b>facebook (meta) prophet</b>: Univariete time series Modeling,\n",
        " - <b>pycaret</b>: Less-code MLOPs,\n",
        " - <b>catboost,xgboost</b>: decision-tree based classification/regression,\n",
        " - <b>Others</b> included in scikit-learns\n",
        "</details>\n",
        "<details>\n",
        "<summary>\n",
        " <a class=\"btnfire small stroke\"><em class=\"fas fa-chevron-circle-down\"></em>\n",
        "    <font size=\"4em\">Web Services Framework, 網路服務框架</font>\n",
        "  </a>\n",
        "</summary>\n",
        "streamlit, fastapi, pydanic, github\n",
        "</details>\n",
        "\n",
        "===\n",
        "\n",
        "##**Working Environment, 工作環境: Google drive colabatory**\n",
        "</details>"
      ],
      "metadata": {
        "id": "mRKCgEQYapY6"
      }
    },
    {
      "cell_type": "markdown",
      "source": [
        "<details>\n",
        "<summary>\n",
        " <a class=\"btnfire small stroke\"><em class=\"fas fa-chevron-circle-down\"></em>\n",
        "    <font size=\"5em\"> Implements, 實作</font>\n",
        "  </a>\n",
        "<details>\n",
        "<summary>\n",
        " <a class=\"btnfire small stroke\"><em class=\"fas fa-chevron-circle-down\"></em>\n",
        "    <font size=\"4em\" color=\"light-blue\">a). Univariete time series model, 單一變數時間序列模型</font>\n",
        "  </a>\n",
        "</summary>\n",
        "\n",
        "   Load data, and learn how to use prophet to make a time-series model and analyze the result, 取得資料並使用 prophet 建立時間序列模型，並分析結果.\n",
        "\n",
        "</details>\n",
        "<details>\n",
        "<summary>\n",
        " <a class=\"btnfire small stroke\"><em class=\"fas fa-chevron-circle-down\"></em>\n",
        "    <font size=\"4em\" color=\"blue\">b). Unsupervized model, 非監督樣式模型: [Price Prediction for Laptop, 手提電腦價格預測],</font>\n",
        "  </a>\n",
        "</summary>\n",
        "\n",
        "   - EDA (Exploratory Data Analysis): data washing, analysis and feature extraction; 資料探索分析，包含清洗資料，分析和特徵選取\n",
        "   - model building, comparison, hyper-parameterm and finalized, 模型建立，比較，超參數選取，模型存取\n",
        "   - deploy on cloud for service, 實作雲端服務應用程式\n",
        "   - [Link](https://cchuang2009-streamlit-deploy-app-vbjjjs.streamlit.app/),[Gihub repository](https://github.com/cchuang2009/streamlit-deploy)\n",
        "\n",
        "</details>\n",
        "<details>\n",
        "<summary>\n",
        " <a class=\"btnfire small stroke\"><em class=\"fas fa-chevron-circle-down\"></em>\n",
        "    <font size=\"4em\" color=\"blue\">c). Supervized model, 監督樣式模型: [Guess Gender by Weight/Height, 利用身高/體重猜測性別],</font>\n",
        "  </a>\n",
        "\n",
        "</summary>\n",
        "\n",
        " - EDA (Exploratory Data Analysis): data washing, analysis and feature extraction; 資料探索分析，包含清洗資料，分析和特徵選取\n",
        " - model building, comparison, hyper-parameterm and finalized, 模型建立，比較，超參數選取，模型存取\n",
        " - deploy on cloud for service, 實作雲端服務應用程式\n",
        " -[Link](https://cchuang2009-streamlit-classification-app-v2-3eleye.streamlit.app/), [GitHub repository](https://github.com/cchuang2009/streamlit-classification)\n",
        "\n",
        "\n",
        "</details>\n",
        "<details>\n",
        "<summary>\n",
        " <a class=\"btnfire small stroke\"><em class=\"fas fa-chevron-circle-down\"></em>\n",
        "    <font size=\"4em\" color=\"blue\">d). Deployment of Cloud Service, 雲端服務實作,</font>\n",
        "  </a>\n",
        "</summary>\n",
        "\n",
        " - build (Python) main code by streamlit, fastapi and pydanic, 使用 streamlit, fastapi 和 pydanic 建立 Python 主程式\n",
        " - setup codespace on GitHub, 建立 GitHub codespace;\n",
        " - deploy artifact on streamlit site; deployed on other Host also accessible. 建立在 streamlit 官方網站的雲端應用程式，以及在其他網上的可行性。\n",
        " - [Link](https://cchuang2009-streamlit-math-main-pnacb7.streamlit.app), [GitHub repository](https://github.com/cchuang2009/streamlit-math)\n",
        "</details>\n",
        "\n",
        "</summary>\n",
        "\n",
        "===\n",
        "\n",
        "<font size=\"6em\">\n",
        "\n",
        "```\n",
        "Codes (on Google drive) ➜  GitHub repository\n",
        "                              ⬍  \n",
        "                          Host on Cloud      ➡︎  artifact\n",
        "                         (Streamlit,...)\n",
        "```\n",
        "</font>\n",
        "</details>"
      ],
      "metadata": {
        "id": "tePw9MtEdEw9"
      }
    },
    {
      "cell_type": "code",
      "source": [],
      "metadata": {
        "id": "srihiOOeUnjU"
      },
      "execution_count": null,
      "outputs": []
    },
    {
      "cell_type": "code",
      "source": [],
      "metadata": {
        "id": "MpJu-Y-ifDf-"
      },
      "execution_count": null,
      "outputs": []
    }
  ]
}