{
 "cells": [
  {
   "cell_type": "markdown",
   "metadata": {},
   "source": [
    "# Pandas Introduction\n",
    "\n",
    "- [Data Manipulation](#Data-Create,-Data-Manipuling)\n",
    "- [Setup](#Setup)\n",
    "- [Plotting](#Plotting)\n",
    "- [Plotting with Auguments](#Plotting-with-Auguments)\n",
    "- [Kinds of Plotting](#Kinds of Plotting)\n",
    "- [Data Reading/writting](#Data-Reading/writting)\n",
    "- [Computation With Series and Dataframes](#Computation-With-Series/Dataframes)\n",
    "- [Dataframe Split, Apply, Combine](#Dataframe-Split/Apply/Combine)\n",
    "- [Manipulating Dates and Times](#Manipulating-Dates-and-Times)\n",
    "- [Vectorized String Operations](#Vectorized-String-Operations)\n",
    "- [Combining DataFrames](#Combining-DataFrames)\n",
    "- [Missing Data Handling](#Cleaning-Data-with-Missing-Values)\n",
    "- [Reshaping Dataframes/Pivot Tables](#Reshaping-Dataframes/Pivot-Tables)"
   ]
  },
  {
   "cell_type": "markdown",
   "metadata": {},
   "source": [
    "\n",
    "## Data Create, Data Manipuling\n",
    "\n",
    "- **Create dataframe**,  \n",
    "\n",
    "```python \n",
    "data={'年份': [2002,2006,2010,2014,2018],\n",
    "      '主辦國':['韓國/日本','德國','南非','巴西','俄羅斯'],\n",
    "      '衛冕冠軍':['法國','巴西','意大利','西班牙','德國'],\n",
    "      '最後成績':['分組賽出局','八強出局','分組賽出局','分組賽出局','八強出局'],\n",
    "      '當屆冠軍': ['巴西','意大利','西班牙','德國','法國']  \n",
    "}\n",
    "idx=[2002,2006,2010,2014]\n",
    "df = pd.DataFrame(data, index =idx)\n",
    "``` "
   ]
  },
  {
   "cell_type": "code",
   "execution_count": 1,
   "metadata": {},
   "outputs": [],
   "source": [
    "import pandas as pd"
   ]
  },
  {
   "cell_type": "markdown",
   "metadata": {},
   "source": [
    "json \n",
    "---\n",
    "format: ```{feature_1:data_1,...,feature_n:data_n}```"
   ]
  },
  {
   "cell_type": "code",
   "execution_count": 2,
   "metadata": {},
   "outputs": [
    {
     "data": {
      "text/html": [
       "<div>\n",
       "<style scoped>\n",
       "    .dataframe tbody tr th:only-of-type {\n",
       "        vertical-align: middle;\n",
       "    }\n",
       "\n",
       "    .dataframe tbody tr th {\n",
       "        vertical-align: top;\n",
       "    }\n",
       "\n",
       "    .dataframe thead th {\n",
       "        text-align: right;\n",
       "    }\n",
       "</style>\n",
       "<table border=\"1\" class=\"dataframe\">\n",
       "  <thead>\n",
       "    <tr style=\"text-align: right;\">\n",
       "      <th></th>\n",
       "      <th>年份</th>\n",
       "      <th>主辦國</th>\n",
       "      <th>衛冕冠軍</th>\n",
       "      <th>最後成績</th>\n",
       "      <th>當屆冠軍</th>\n",
       "    </tr>\n",
       "  </thead>\n",
       "  <tbody>\n",
       "    <tr>\n",
       "      <th>0</th>\n",
       "      <td>2002</td>\n",
       "      <td>韓國/日本</td>\n",
       "      <td>法國</td>\n",
       "      <td>分組賽出局</td>\n",
       "      <td>巴西</td>\n",
       "    </tr>\n",
       "    <tr>\n",
       "      <th>1</th>\n",
       "      <td>2006</td>\n",
       "      <td>德國</td>\n",
       "      <td>巴西</td>\n",
       "      <td>八強出局</td>\n",
       "      <td>意大利</td>\n",
       "    </tr>\n",
       "    <tr>\n",
       "      <th>2</th>\n",
       "      <td>2010</td>\n",
       "      <td>南非</td>\n",
       "      <td>意大利</td>\n",
       "      <td>分組賽出局</td>\n",
       "      <td>西班牙</td>\n",
       "    </tr>\n",
       "    <tr>\n",
       "      <th>3</th>\n",
       "      <td>2014</td>\n",
       "      <td>巴西</td>\n",
       "      <td>西班牙</td>\n",
       "      <td>分組賽出局</td>\n",
       "      <td>德國</td>\n",
       "    </tr>\n",
       "    <tr>\n",
       "      <th>4</th>\n",
       "      <td>2018</td>\n",
       "      <td>俄羅斯</td>\n",
       "      <td>德國</td>\n",
       "      <td>八強出局</td>\n",
       "      <td>法國</td>\n",
       "    </tr>\n",
       "  </tbody>\n",
       "</table>\n",
       "</div>"
      ],
      "text/plain": [
       "     年份    主辦國 衛冕冠軍   最後成績 當屆冠軍\n",
       "0  2002  韓國/日本   法國  分組賽出局   巴西\n",
       "1  2006     德國   巴西   八強出局  意大利\n",
       "2  2010     南非  意大利  分組賽出局  西班牙\n",
       "3  2014     巴西  西班牙  分組賽出局   德國\n",
       "4  2018    俄羅斯   德國   八強出局   法國"
      ]
     },
     "execution_count": 2,
     "metadata": {},
     "output_type": "execute_result"
    }
   ],
   "source": [
    "data={'年份': [2002,2006,2010,2014,2018],\n",
    "      '主辦國':['韓國/日本','德國','南非','巴西','俄羅斯'],\n",
    "      '衛冕冠軍':['法國','巴西','意大利','西班牙','德國'],\n",
    "      '最後成績':['分組賽出局','八強出局','分組賽出局','分組賽出局','八強出局'],\n",
    "      '當屆冠軍': ['巴西','意大利','西班牙','德國','法國']\n",
    "}\n",
    "idx=range(1,5)\n",
    "df = pd.DataFrame(data)\n",
    "df"
   ]
  },
  {
   "cell_type": "raw",
   "metadata": {},
   "source": [
    "# Index begins with 1\n",
    "data={'年份': [2002,2006,2010,2014],\n",
    "      '主辦國':['韓國/日本','德國','南非','巴西'],\n",
    "      '衛冕冠軍':['法國','巴西','意大利','西班牙'],\n",
    "      '最後成績':['分組賽出局','八強出局','分組賽出局','分組賽出局'],\n",
    "      '當屆冠軍': ['巴西','意大利','西班牙','德國']  \n",
    "}\n",
    "idx=range(1,5)\n",
    "df = pd.DataFrame(data, index =idx)"
   ]
  },
  {
   "cell_type": "code",
   "execution_count": 3,
   "metadata": {},
   "outputs": [
    {
     "data": {
      "text/html": [
       "<div>\n",
       "<style scoped>\n",
       "    .dataframe tbody tr th:only-of-type {\n",
       "        vertical-align: middle;\n",
       "    }\n",
       "\n",
       "    .dataframe tbody tr th {\n",
       "        vertical-align: top;\n",
       "    }\n",
       "\n",
       "    .dataframe thead th {\n",
       "        text-align: right;\n",
       "    }\n",
       "</style>\n",
       "<table border=\"1\" class=\"dataframe\">\n",
       "  <thead>\n",
       "    <tr style=\"text-align: right;\">\n",
       "      <th></th>\n",
       "      <th>年份</th>\n",
       "      <th>當屆冠軍</th>\n",
       "    </tr>\n",
       "  </thead>\n",
       "  <tbody>\n",
       "    <tr>\n",
       "      <th>0</th>\n",
       "      <td>2002</td>\n",
       "      <td>巴西</td>\n",
       "    </tr>\n",
       "    <tr>\n",
       "      <th>1</th>\n",
       "      <td>2006</td>\n",
       "      <td>意大利</td>\n",
       "    </tr>\n",
       "    <tr>\n",
       "      <th>2</th>\n",
       "      <td>2010</td>\n",
       "      <td>西班牙</td>\n",
       "    </tr>\n",
       "    <tr>\n",
       "      <th>3</th>\n",
       "      <td>2014</td>\n",
       "      <td>德國</td>\n",
       "    </tr>\n",
       "    <tr>\n",
       "      <th>4</th>\n",
       "      <td>2018</td>\n",
       "      <td>法國</td>\n",
       "    </tr>\n",
       "  </tbody>\n",
       "</table>\n",
       "</div>"
      ],
      "text/plain": [
       "     年份 當屆冠軍\n",
       "0  2002   巴西\n",
       "1  2006  意大利\n",
       "2  2010  西班牙\n",
       "3  2014   德國\n",
       "4  2018   法國"
      ]
     },
     "execution_count": 3,
     "metadata": {},
     "output_type": "execute_result"
    }
   ],
   "source": [
    "df[['年份','當屆冠軍']]"
   ]
  },
  {
   "cell_type": "markdown",
   "metadata": {},
   "source": [
    "Try the following commands:\n",
    "```\n",
    "df.count()\n",
    "df.info()\n",
    "df.describe()\n",
    "```"
   ]
  },
  {
   "cell_type": "code",
   "execution_count": 4,
   "metadata": {},
   "outputs": [
    {
     "name": "stdout",
     "output_type": "stream",
     "text": [
      "<class 'pandas.core.frame.DataFrame'>\n",
      "RangeIndex: 5 entries, 0 to 4\n",
      "Data columns (total 5 columns):\n",
      " #   Column  Non-Null Count  Dtype \n",
      "---  ------  --------------  ----- \n",
      " 0   年份      5 non-null      int64 \n",
      " 1   主辦國     5 non-null      object\n",
      " 2   衛冕冠軍    5 non-null      object\n",
      " 3   最後成績    5 non-null      object\n",
      " 4   當屆冠軍    5 non-null      object\n",
      "dtypes: int64(1), object(4)\n",
      "memory usage: 328.0+ bytes\n"
     ]
    }
   ],
   "source": [
    "df.info()"
   ]
  },
  {
   "cell_type": "code",
   "execution_count": 5,
   "metadata": {},
   "outputs": [
    {
     "data": {
      "text/html": [
       "<div>\n",
       "<style scoped>\n",
       "    .dataframe tbody tr th:only-of-type {\n",
       "        vertical-align: middle;\n",
       "    }\n",
       "\n",
       "    .dataframe tbody tr th {\n",
       "        vertical-align: top;\n",
       "    }\n",
       "\n",
       "    .dataframe thead th {\n",
       "        text-align: right;\n",
       "    }\n",
       "</style>\n",
       "<table border=\"1\" class=\"dataframe\">\n",
       "  <thead>\n",
       "    <tr style=\"text-align: right;\">\n",
       "      <th></th>\n",
       "      <th>年份</th>\n",
       "      <th>主辦國</th>\n",
       "      <th>衛冕冠軍</th>\n",
       "      <th>最後成績</th>\n",
       "      <th>當屆冠軍</th>\n",
       "    </tr>\n",
       "  </thead>\n",
       "  <tbody>\n",
       "    <tr>\n",
       "      <th>0</th>\n",
       "      <td>2002</td>\n",
       "      <td>韓國/日本</td>\n",
       "      <td>法國</td>\n",
       "      <td>分組賽出局</td>\n",
       "      <td>巴西</td>\n",
       "    </tr>\n",
       "  </tbody>\n",
       "</table>\n",
       "</div>"
      ],
      "text/plain": [
       "     年份    主辦國 衛冕冠軍   最後成績 當屆冠軍\n",
       "0  2002  韓國/日本   法國  分組賽出局   巴西"
      ]
     },
     "execution_count": 5,
     "metadata": {},
     "output_type": "execute_result"
    }
   ],
   "source": [
    "# Filter\n",
    "df[df['當屆冠軍']=='巴西']"
   ]
  },
  {
   "cell_type": "code",
   "execution_count": 6,
   "metadata": {},
   "outputs": [
    {
     "data": {
      "text/plain": [
       "Index(['年份', '主辦國', '衛冕冠軍', '最後成績', '當屆冠軍'], dtype='object')"
      ]
     },
     "execution_count": 6,
     "metadata": {},
     "output_type": "execute_result"
    }
   ],
   "source": [
    "df.columns"
   ]
  },
  {
   "cell_type": "code",
   "execution_count": 7,
   "metadata": {},
   "outputs": [
    {
     "data": {
      "text/plain": [
       "['年份', '主辦國', '衛冕冠軍', '最後成績', '當屆冠軍']"
      ]
     },
     "execution_count": 7,
     "metadata": {},
     "output_type": "execute_result"
    }
   ],
   "source": [
    "list(df.columns)"
   ]
  },
  {
   "cell_type": "code",
   "execution_count": 8,
   "metadata": {},
   "outputs": [
    {
     "name": "stdout",
     "output_type": "stream",
     "text": [
      "     年份 主辦國 衛冕冠軍   最後成績 當屆冠軍\n",
      "3  2014  巴西  西班牙  分組賽出局   德國\n",
      "     年份 主辦國 衛冕冠軍  最後成績 當屆冠軍\n",
      "1  2006  德國   巴西  八強出局  意大利\n",
      "     年份    主辦國 衛冕冠軍   最後成績 當屆冠軍\n",
      "0  2002  韓國/日本   法國  分組賽出局   巴西\n"
     ]
    }
   ],
   "source": [
    "for idx in list(df.columns):\n",
    "    # declude non-country columns\n",
    "    if (idx !='年份') and (idx !='最後成績'):\n",
    "       print(df[df[idx]=='巴西'])"
   ]
  },
  {
   "cell_type": "code",
   "execution_count": 9,
   "metadata": {},
   "outputs": [
    {
     "name": "stdout",
     "output_type": "stream",
     "text": [
      "2002 FIFA 冠軍: 巴西\n",
      "2006 FIFA 冠軍: 意大利\n",
      "2010 FIFA 冠軍: 西班牙\n",
      "2014 FIFA 冠軍: 德國\n",
      "2018 FIFA 冠軍: 法國\n"
     ]
    }
   ],
   "source": [
    "for idx in list(df.index):\n",
    "    print(\"{} FIFA 冠軍: {}\".format(df.iloc[idx,0],df.iloc[idx,4]))"
   ]
  },
  {
   "cell_type": "markdown",
   "metadata": {},
   "source": [
    "- **Drop an observation (row)**\n",
    "``` \n",
    "df.drop([1])\n",
    "``` "
   ]
  },
  {
   "cell_type": "code",
   "execution_count": 12,
   "metadata": {},
   "outputs": [
    {
     "data": {
      "text/html": [
       "<div>\n",
       "<style scoped>\n",
       "    .dataframe tbody tr th:only-of-type {\n",
       "        vertical-align: middle;\n",
       "    }\n",
       "\n",
       "    .dataframe tbody tr th {\n",
       "        vertical-align: top;\n",
       "    }\n",
       "\n",
       "    .dataframe thead th {\n",
       "        text-align: right;\n",
       "    }\n",
       "</style>\n",
       "<table border=\"1\" class=\"dataframe\">\n",
       "  <thead>\n",
       "    <tr style=\"text-align: right;\">\n",
       "      <th></th>\n",
       "      <th>年份</th>\n",
       "      <th>主辦國</th>\n",
       "      <th>衛冕冠軍</th>\n",
       "      <th>最後成績</th>\n",
       "      <th>當屆冠軍</th>\n",
       "    </tr>\n",
       "  </thead>\n",
       "  <tbody>\n",
       "    <tr>\n",
       "      <th>0</th>\n",
       "      <td>2002</td>\n",
       "      <td>韓國/日本</td>\n",
       "      <td>法國</td>\n",
       "      <td>分組賽出局</td>\n",
       "      <td>巴西</td>\n",
       "    </tr>\n",
       "    <tr>\n",
       "      <th>2</th>\n",
       "      <td>2010</td>\n",
       "      <td>南非</td>\n",
       "      <td>意大利</td>\n",
       "      <td>分組賽出局</td>\n",
       "      <td>西班牙</td>\n",
       "    </tr>\n",
       "    <tr>\n",
       "      <th>3</th>\n",
       "      <td>2014</td>\n",
       "      <td>巴西</td>\n",
       "      <td>西班牙</td>\n",
       "      <td>分組賽出局</td>\n",
       "      <td>德國</td>\n",
       "    </tr>\n",
       "    <tr>\n",
       "      <th>4</th>\n",
       "      <td>2018</td>\n",
       "      <td>俄羅斯</td>\n",
       "      <td>德國</td>\n",
       "      <td>八強出局</td>\n",
       "      <td>法國</td>\n",
       "    </tr>\n",
       "  </tbody>\n",
       "</table>\n",
       "</div>"
      ],
      "text/plain": [
       "     年份    主辦國 衛冕冠軍   最後成績 當屆冠軍\n",
       "0  2002  韓國/日本   法國  分組賽出局   巴西\n",
       "2  2010     南非  意大利  分組賽出局  西班牙\n",
       "3  2014     巴西  西班牙  分組賽出局   德國\n",
       "4  2018    俄羅斯   德國   八強出局   法國"
      ]
     },
     "execution_count": 12,
     "metadata": {},
     "output_type": "execute_result"
    }
   ],
   "source": [
    "df.drop([1])"
   ]
  },
  {
   "cell_type": "markdown",
   "metadata": {},
   "source": [
    "- **Drop a variable (column)**, Note: axis=1 denotes that we are referring to a column, not a row\n",
    "\n",
    "```\n",
    "df.drop('reports', axis=1)\n",
    "```"
   ]
  },
  {
   "cell_type": "code",
   "execution_count": 13,
   "metadata": {},
   "outputs": [
    {
     "data": {
      "text/html": [
       "<div>\n",
       "<style scoped>\n",
       "    .dataframe tbody tr th:only-of-type {\n",
       "        vertical-align: middle;\n",
       "    }\n",
       "\n",
       "    .dataframe tbody tr th {\n",
       "        vertical-align: top;\n",
       "    }\n",
       "\n",
       "    .dataframe thead th {\n",
       "        text-align: right;\n",
       "    }\n",
       "</style>\n",
       "<table border=\"1\" class=\"dataframe\">\n",
       "  <thead>\n",
       "    <tr style=\"text-align: right;\">\n",
       "      <th></th>\n",
       "      <th>年份</th>\n",
       "      <th>主辦國</th>\n",
       "      <th>最後成績</th>\n",
       "      <th>當屆冠軍</th>\n",
       "    </tr>\n",
       "  </thead>\n",
       "  <tbody>\n",
       "    <tr>\n",
       "      <th>0</th>\n",
       "      <td>2002</td>\n",
       "      <td>韓國/日本</td>\n",
       "      <td>分組賽出局</td>\n",
       "      <td>巴西</td>\n",
       "    </tr>\n",
       "    <tr>\n",
       "      <th>1</th>\n",
       "      <td>2006</td>\n",
       "      <td>德國</td>\n",
       "      <td>八強出局</td>\n",
       "      <td>意大利</td>\n",
       "    </tr>\n",
       "    <tr>\n",
       "      <th>2</th>\n",
       "      <td>2010</td>\n",
       "      <td>南非</td>\n",
       "      <td>分組賽出局</td>\n",
       "      <td>西班牙</td>\n",
       "    </tr>\n",
       "    <tr>\n",
       "      <th>3</th>\n",
       "      <td>2014</td>\n",
       "      <td>巴西</td>\n",
       "      <td>分組賽出局</td>\n",
       "      <td>德國</td>\n",
       "    </tr>\n",
       "    <tr>\n",
       "      <th>4</th>\n",
       "      <td>2018</td>\n",
       "      <td>俄羅斯</td>\n",
       "      <td>八強出局</td>\n",
       "      <td>法國</td>\n",
       "    </tr>\n",
       "  </tbody>\n",
       "</table>\n",
       "</div>"
      ],
      "text/plain": [
       "     年份    主辦國   最後成績 當屆冠軍\n",
       "0  2002  韓國/日本  分組賽出局   巴西\n",
       "1  2006     德國   八強出局  意大利\n",
       "2  2010     南非  分組賽出局  西班牙\n",
       "3  2014     巴西  分組賽出局   德國\n",
       "4  2018    俄羅斯   八強出局   法國"
      ]
     },
     "execution_count": 13,
     "metadata": {},
     "output_type": "execute_result"
    }
   ],
   "source": [
    "df.drop('衛冕冠軍', axis=1)"
   ]
  },
  {
   "cell_type": "markdown",
   "metadata": {},
   "source": [
    "- **Drop a row if it contains a certain value **, (in this case, '分組賽出局')\n",
    "\n",
    "```\n",
    "df[df['最後成績'] != '分組賽出局']\n",
    "```"
   ]
  },
  {
   "cell_type": "code",
   "execution_count": 14,
   "metadata": {},
   "outputs": [
    {
     "data": {
      "text/html": [
       "<div>\n",
       "<style scoped>\n",
       "    .dataframe tbody tr th:only-of-type {\n",
       "        vertical-align: middle;\n",
       "    }\n",
       "\n",
       "    .dataframe tbody tr th {\n",
       "        vertical-align: top;\n",
       "    }\n",
       "\n",
       "    .dataframe thead th {\n",
       "        text-align: right;\n",
       "    }\n",
       "</style>\n",
       "<table border=\"1\" class=\"dataframe\">\n",
       "  <thead>\n",
       "    <tr style=\"text-align: right;\">\n",
       "      <th></th>\n",
       "      <th>年份</th>\n",
       "      <th>主辦國</th>\n",
       "      <th>衛冕冠軍</th>\n",
       "      <th>最後成績</th>\n",
       "      <th>當屆冠軍</th>\n",
       "    </tr>\n",
       "  </thead>\n",
       "  <tbody>\n",
       "    <tr>\n",
       "      <th>1</th>\n",
       "      <td>2006</td>\n",
       "      <td>德國</td>\n",
       "      <td>巴西</td>\n",
       "      <td>八強出局</td>\n",
       "      <td>意大利</td>\n",
       "    </tr>\n",
       "    <tr>\n",
       "      <th>4</th>\n",
       "      <td>2018</td>\n",
       "      <td>俄羅斯</td>\n",
       "      <td>德國</td>\n",
       "      <td>八強出局</td>\n",
       "      <td>法國</td>\n",
       "    </tr>\n",
       "  </tbody>\n",
       "</table>\n",
       "</div>"
      ],
      "text/plain": [
       "     年份  主辦國 衛冕冠軍  最後成績 當屆冠軍\n",
       "1  2006   德國   巴西  八強出局  意大利\n",
       "4  2018  俄羅斯   德國  八強出局   法國"
      ]
     },
     "execution_count": 14,
     "metadata": {},
     "output_type": "execute_result"
    }
   ],
   "source": [
    "df[df['最後成績'] != '分組賽出局']"
   ]
  },
  {
   "cell_type": "markdown",
   "metadata": {
    "collapsed": true
   },
   "source": [
    "\n",
    "## Setup\n",
    "\n",
    "\n",
    "\n",
    "```python\n",
    "# import packages\n",
    "import pandas as pd\n",
    "import matplotlib.pyplot as plt\n",
    "\n",
    "# display the picture inline\n",
    "%matplotlib inline\n",
    "\n",
    "# display zoomable picture\n",
    "%matplotlib notebook\n",
    "```"
   ]
  },
  {
   "cell_type": "code",
   "execution_count": 10,
   "metadata": {},
   "outputs": [],
   "source": [
    "import matplotlib.pyplot as plt\n",
    "\n",
    "import numpy as np\n",
    "import pandas as pd\n",
    "import statsmodels.api as sm\n",
    "from statsmodels.nonparametric.kde import KDEUnivariate\n",
    "from statsmodels.nonparametric import smoothers_lowess\n",
    "from pandas import Series, DataFrame\n",
    "from patsy import dmatrices\n",
    "from sklearn import datasets, svm\n",
    "# from KaggleAux import predict as ka # see github.com/agconti/kaggleaux for more details\n",
    "\n",
    "%matplotlib inline"
   ]
  },
  {
   "cell_type": "code",
   "execution_count": 11,
   "metadata": {},
   "outputs": [],
   "source": [
    "df = pd.read_csv(\"data/train.csv\") "
   ]
  },
  {
   "cell_type": "code",
   "execution_count": null,
   "metadata": {},
   "outputs": [],
   "source": [
    "df.to_csv(\"data/train_1.csv\",index=False)"
   ]
  },
  {
   "cell_type": "code",
   "execution_count": 12,
   "metadata": {},
   "outputs": [
    {
     "data": {
      "text/html": [
       "<div>\n",
       "<style scoped>\n",
       "    .dataframe tbody tr th:only-of-type {\n",
       "        vertical-align: middle;\n",
       "    }\n",
       "\n",
       "    .dataframe tbody tr th {\n",
       "        vertical-align: top;\n",
       "    }\n",
       "\n",
       "    .dataframe thead th {\n",
       "        text-align: right;\n",
       "    }\n",
       "</style>\n",
       "<table border=\"1\" class=\"dataframe\">\n",
       "  <thead>\n",
       "    <tr style=\"text-align: right;\">\n",
       "      <th></th>\n",
       "      <th>PassengerId</th>\n",
       "      <th>Survived</th>\n",
       "      <th>Pclass</th>\n",
       "      <th>Age</th>\n",
       "      <th>SibSp</th>\n",
       "      <th>Parch</th>\n",
       "      <th>Fare</th>\n",
       "    </tr>\n",
       "  </thead>\n",
       "  <tbody>\n",
       "    <tr>\n",
       "      <th>count</th>\n",
       "      <td>891.000000</td>\n",
       "      <td>891.000000</td>\n",
       "      <td>891.000000</td>\n",
       "      <td>714.000000</td>\n",
       "      <td>891.000000</td>\n",
       "      <td>891.000000</td>\n",
       "      <td>891.000000</td>\n",
       "    </tr>\n",
       "    <tr>\n",
       "      <th>mean</th>\n",
       "      <td>446.000000</td>\n",
       "      <td>0.383838</td>\n",
       "      <td>2.308642</td>\n",
       "      <td>29.699118</td>\n",
       "      <td>0.523008</td>\n",
       "      <td>0.381594</td>\n",
       "      <td>32.204208</td>\n",
       "    </tr>\n",
       "    <tr>\n",
       "      <th>std</th>\n",
       "      <td>257.353842</td>\n",
       "      <td>0.486592</td>\n",
       "      <td>0.836071</td>\n",
       "      <td>14.526497</td>\n",
       "      <td>1.102743</td>\n",
       "      <td>0.806057</td>\n",
       "      <td>49.693429</td>\n",
       "    </tr>\n",
       "    <tr>\n",
       "      <th>min</th>\n",
       "      <td>1.000000</td>\n",
       "      <td>0.000000</td>\n",
       "      <td>1.000000</td>\n",
       "      <td>0.420000</td>\n",
       "      <td>0.000000</td>\n",
       "      <td>0.000000</td>\n",
       "      <td>0.000000</td>\n",
       "    </tr>\n",
       "    <tr>\n",
       "      <th>25%</th>\n",
       "      <td>223.500000</td>\n",
       "      <td>0.000000</td>\n",
       "      <td>2.000000</td>\n",
       "      <td>20.125000</td>\n",
       "      <td>0.000000</td>\n",
       "      <td>0.000000</td>\n",
       "      <td>7.910400</td>\n",
       "    </tr>\n",
       "    <tr>\n",
       "      <th>50%</th>\n",
       "      <td>446.000000</td>\n",
       "      <td>0.000000</td>\n",
       "      <td>3.000000</td>\n",
       "      <td>28.000000</td>\n",
       "      <td>0.000000</td>\n",
       "      <td>0.000000</td>\n",
       "      <td>14.454200</td>\n",
       "    </tr>\n",
       "    <tr>\n",
       "      <th>75%</th>\n",
       "      <td>668.500000</td>\n",
       "      <td>1.000000</td>\n",
       "      <td>3.000000</td>\n",
       "      <td>38.000000</td>\n",
       "      <td>1.000000</td>\n",
       "      <td>0.000000</td>\n",
       "      <td>31.000000</td>\n",
       "    </tr>\n",
       "    <tr>\n",
       "      <th>max</th>\n",
       "      <td>891.000000</td>\n",
       "      <td>1.000000</td>\n",
       "      <td>3.000000</td>\n",
       "      <td>80.000000</td>\n",
       "      <td>8.000000</td>\n",
       "      <td>6.000000</td>\n",
       "      <td>512.329200</td>\n",
       "    </tr>\n",
       "  </tbody>\n",
       "</table>\n",
       "</div>"
      ],
      "text/plain": [
       "       PassengerId    Survived      Pclass         Age       SibSp  \\\n",
       "count   891.000000  891.000000  891.000000  714.000000  891.000000   \n",
       "mean    446.000000    0.383838    2.308642   29.699118    0.523008   \n",
       "std     257.353842    0.486592    0.836071   14.526497    1.102743   \n",
       "min       1.000000    0.000000    1.000000    0.420000    0.000000   \n",
       "25%     223.500000    0.000000    2.000000   20.125000    0.000000   \n",
       "50%     446.000000    0.000000    3.000000   28.000000    0.000000   \n",
       "75%     668.500000    1.000000    3.000000   38.000000    1.000000   \n",
       "max     891.000000    1.000000    3.000000   80.000000    8.000000   \n",
       "\n",
       "            Parch        Fare  \n",
       "count  891.000000  891.000000  \n",
       "mean     0.381594   32.204208  \n",
       "std      0.806057   49.693429  \n",
       "min      0.000000    0.000000  \n",
       "25%      0.000000    7.910400  \n",
       "50%      0.000000   14.454200  \n",
       "75%      0.000000   31.000000  \n",
       "max      6.000000  512.329200  "
      ]
     },
     "execution_count": 12,
     "metadata": {},
     "output_type": "execute_result"
    }
   ],
   "source": [
    "df.describe()"
   ]
  },
  {
   "cell_type": "code",
   "execution_count": null,
   "metadata": {},
   "outputs": [],
   "source": [
    "df.head(3)"
   ]
  },
  {
   "cell_type": "markdown",
   "metadata": {},
   "source": [
    "<code style=\"background-color:darkblue;color:white;font-size:2em;font-face:bold\">Plotting\n",
    "</code>\n",
    "- **Series**,  with a series, pandas plots the values against the index:\n",
    "``` \n",
    " > ax=s.plot()\n",
    "```"
   ]
  },
  {
   "cell_type": "markdown",
   "metadata": {},
   "source": [
    "<img src=\"imgs/series.png\" width=50% />\n",
    "- **Dataframe**, with a Dataframe, pandas create one line per column:\n",
    "``` \n",
    " > ax=df.plot()\n",
    "```"
   ]
  },
  {
   "cell_type": "markdown",
   "metadata": {},
   "source": [
    "<img src=\"imgs/dataframe.png\" width=50% />\n",
    "- **Labels**, Use Matplotlib to override or add annotations:\n",
    "\n",
    "```\n",
    " > ax.set_xlabel('Time')\n",
    " > ax.set_ylabel('Value')\n",
    " > ax.set_title('Experiment A')\n",
    "```"
   ]
  },
  {
   "cell_type": "markdown",
   "metadata": {},
   "source": [
    "pass labels if yoy want to override the column names and set the legend location:\n",
    "```\n",
    " > ax.legend(labels,loc=\"best\")\n",
    "```"
   ]
  },
  {
   "cell_type": "markdown",
   "metadata": {},
   "source": [
    "<img src=\"imgs/labels.png\" width=50% />"
   ]
  },
  {
   "cell_type": "code",
   "execution_count": null,
   "metadata": {},
   "outputs": [],
   "source": [
    "df.Age[df.Pclass == 1].plot(kind='kde')    \n",
    "df.Age[df.Pclass == 2].plot(kind='kde')\n",
    "df.Age[df.Pclass == 3].plot(kind='kde')\n",
    " # plots an axis lable\n",
    "plt.xlabel(\"Age\")    \n",
    "plt.title(\"Age Distribution within classes\")\n",
    "# sets our legend for our graph.\n",
    "plt.legend(('1st Class', '2nd Class','3rd Class'),loc='best') "
   ]
  },
  {
   "cell_type": "markdown",
   "metadata": {},
   "source": [
    "<code style=\"background-color:darkblue;color:white;font-size:2em;font-face:bold\">Plotting with Auguments\n",
    "</code>\n",
    "\n",
    "<img src=\"imgs/augument.png\" width=50% />\n",
    "\n",
    "\n",
    "<code style=\"background-color:darkblue;color:white;font-size:2em;font-face:bold\">Kinds of Plotting\n",
    "</code>\n",
    "<img src=\"imgs/kind.png\" width=80% />"
   ]
  },
  {
   "cell_type": "code",
   "execution_count": null,
   "metadata": {},
   "outputs": [],
   "source": [
    "plt.figure(figsize=(12,8))\n",
    "ax=plt.subplot(3,1,1)\n",
    "df.Age[df.Pclass == 1].plot()\n",
    "ax=plt.subplot(3,1,2)\n",
    "df.Age[df.Pclass == 2].plot()\n",
    "ax=plt.subplot(3,1,3)\n",
    "df.Age[df.Pclass == 3].plot()"
   ]
  },
  {
   "cell_type": "markdown",
   "metadata": {},
   "source": [
    "<code style=\"background-color:darkblue;color:white;font-size:2em;font-face:bold\">Data Reading/writting\n",
    "</code>\n",
    "Methods to read data are all named `pd.read_*` where `*` is the file type. Series and DataFrames can be saved to disk using their `to_*` method.\n",
    "\n",
    "\n",
    "\n",
    "<code style=\"background-color:darkblue;color:white;font-size:2em;font-face:bold\">Usage Patterns\n",
    "</code>\n",
    " - Use `pd.read_clipboard()` for one-off data extractions.\n",
    " - Use the other `pd.read_*` methods in scripts for repeatable analyses.\n",
    "\n",
    "\n",
    "\n",
    "<code style=\"background-color:darkblue;color:white;font-size:2em;font-face:bold\">Reading text into Dataframe\n",
    "</code>\n",
    "<img src=\"imgs/data.png\" width=80% />\n",
    "\n",
    "**Other arguments**\n",
    "\n",
    "- names: set or override column names\n",
    "- parse_dates: accepts multiple argument types, see on the right • converters: manually process each element in a column\n",
    "- comment: character indicating commented line\n",
    "- chunksize: read only a certain number of rows each time\n",
    "\n",
    "**Possible values of parse_dates **\n",
    "\n",
    "- [0, 2]: Parse columns 0 and 2 as separate dates\n",
    "- [[0, 2]]: Group columns 0 and 2 and parse as single date \n",
    "- {'Date': [0, 2]}: Group columns 0 and 2, parse as\n",
    "single date in a column named Date.\n",
    "\n",
    "Dates are parsed after the converters have been applied.\n",
    "\n",
    "\n",
    "<code style=\"background-color:darkblue;color:white;font-size:2em;font-face:bold\">Parsing Tables from the Web\n",
    "</code>\n",
    "<img src=\"imgs/web.png\" width=80% />\n",
    "\n",
    "\n",
    "<code style=\"background-color:darkblue;color:white;font-size:2em;font-face:bold\">Save data structure \n",
    "</code>\n",
    " - to disk\n",
    "```\n",
    "> s_df.to_csv(filename)\n",
    "> s_df.to_excel(filename)\n",
    "```"
   ]
  },
  {
   "cell_type": "markdown",
   "metadata": {},
   "source": [
    "- to single Excel file\n",
    "```\n",
    "> writer = pd.ExcelWriter(filename)\n",
    "> df1.to_excel(writer, sheet_name='First')\n",
    "> df2.to_excel(writer, sheet_name='Second')\n",
    "> writer.save()\n",
    "```"
   ]
  },
  {
   "cell_type": "markdown",
   "metadata": {},
   "source": [
    "<code style=\"background-color:darkblue;color:white;font-size:2em;font-face:bold\">From/To Database\n",
    "</code>\n",
    " - Read, using SQLAlchemy. Supports multiple databases:\n",
    "```\n",
    "> from sqlalchemy import create_engine\n",
    "> engine = create_engine(database_url)\n",
    "> conn = engine.connect()\n",
    "> df = pd.read_sql(query_str_or_table_name, conn)\n",
    "```\n",
    "\n",
    "- Write:\n",
    "```\n",
    "> df.to_sql(table_name, conn)\n",
    "```"
   ]
  },
  {
   "cell_type": "markdown",
   "metadata": {},
   "source": [
    "<code style=\"background-color:darkblue;color:white;font-size:2em;font-face:bold\">Computation With Series/Dataframes\n",
    "</code>\n",
    "<img src=\"imgs/rule1.png\" width=70% />\n",
    "<img src=\"imgs/rule2.png\" width=100% />\n",
    "<img src=\"imgs/rule31.png\" width=70% />  "
   ]
  },
  {
   "cell_type": "markdown",
   "metadata": {},
   "source": [
    "<font size=+1.2>\n",
    "**count**: Number of non-null observations<br>\n",
    "**sum**: sum of values<br>\n",
    "**mean**: Mean of values<br>\n",
    "**mad**: Mean absolute Deviation<br>\n",
    "**median**: Arithmetric mean of values<br>\n",
    "**min**: Minimum<br>\n",
    "**max**: Maximum<br>\n",
    "**mode**: Mode<br>\n",
    "**prod**: Product of values<br>\n",
    "**std**: Bessel-corrected sample standard deviation<br>\n",
    "**var**: unbiased variance<br>\n",
    "**sem**: Standard error of the mean<br>\n",
    "**skew**: Sample skewness (3rd moment)<br>\n",
    "**kurt**: Sample kurtosis (4th moment)<br>\n",
    "**quantile**: Sample quantile (Value at %) values<br>\n",
    "**value_counts**: Count of unique values\n",
    "</font>"
   ]
  },
  {
   "cell_type": "markdown",
   "metadata": {},
   "source": [
    "<code style=\"background-color:darkblue;color:white;font-size:2em;font-face:bold\">Dataframe Split/Apply/Combine\n",
    "</code>\n",
    "<img src=\"imgs/split1.png\" width=70% />\n",
    "<img src=\"imgs/split2.png\" width=70% />\n",
    "<img src=\"imgs/split3.png\" width=70% /> \n",
    "<img src=\"imgs/apply1.png\" width=70% />\n",
    "<img src=\"imgs/apply2.png\" width=70% />\n",
    "<img src=\"imgs/apply3.png\" width=70% /> \n",
    "<img src=\"imgs/apply4.png\" width=70% />\n",
    "<img src=\"imgs/others.png\" width=70% /> "
   ]
  },
  {
   "cell_type": "markdown",
   "metadata": {},
   "source": [
    "<code style=\"background-color:darkblue;color:white;font-size:2em;font-face:bold\">Manipulating Dates and Times\n",
    "</code>\n",
    " Pandas makes a distinction between timestamps, called Datetime objects, and time spans, called Period objects.\n",
    " <img src=\"imgs/date1.png\" width=70% />\n",
    "<img src=\"imgs/date2.png\" width=70% />\n",
    "<img src=\"imgs/date3.png\" width=70% /> \n",
    "<img src=\"imgs/date4.png\" width=70% />\n",
    "<img src=\"imgs/date5.png\" width=70% />\n",
    "<img src=\"imgs/date6.png\" width=70% /> "
   ]
  },
  {
   "cell_type": "markdown",
   "metadata": {},
   "source": [
    "<code style=\"background-color:darkblue;color:white;font-size:2em;font-face:bold\">Vectorized String Operations\n",
    "</code>\n",
    "Pandas implements vectorized string operations named after Python's string methods. Access them through the str attribute of string Series\n",
    "<img src=\"imgs/string1.png\" width=70% />\n",
    "<img src=\"imgs/string2.png\" width=70% />"
   ]
  },
  {
   "cell_type": "markdown",
   "metadata": {},
   "source": [
    "<code style=\"background-color:darkblue;color:white;font-size:2em;font-face:bold\">Data Structures: Series/DataFrames\n",
    "</code> \n",
    "A Series, s, maps an index to values. It is:\n",
    " - Like an ordered dictionary\n",
    " - A Numpy array with row labels and a name\n",
    "\n",
    "A DataFrame, df, maps index and column labels to values. It is: \n",
    " - Like a dictionary of Series (columns) sharing the same index \n",
    " - A 2D Numpy array with row and column labels\n",
    "\n",
    "s_df applies to both Series and DataFrames.\n",
    "Assume that manipulations of Pandas object return copies.\n",
    "<img src=\"imgs/structure1.png\" width=70% />\n",
    "<img src=\"imgs/structure2.png\" width=70% />\n",
    "<img src=\"imgs/structure3.png\" width=70% /> \n",
    "<img src=\"imgs/structure4.png\" width=70% />\n",
    "<img src=\"imgs/structure5.png\" width=70% />\n",
    "<img src=\"imgs/structure6.png\" width=70% /> \n",
    "<img src=\"imgs/structure7.png\" width=70% /> "
   ]
  },
  {
   "cell_type": "markdown",
   "metadata": {},
   "source": [
    "<code style=\"background-color:darkblue;color:white;font-size:2em;font-face:bold\">\n",
    "Combining DataFrames\n",
    "---\n",
    "</code> \n",
    "Tools for combining Series and DataFrames together, with SQL-type joins and concatenation. Use join if merging on indices, otherwise use merge.\n",
    "\n",
    "Merge on Column Values\n",
    "---\n",
    "```\n",
    "> pd.merge(left, right, how='inner', on='id')\n",
    "```"
   ]
  },
  {
   "cell_type": "markdown",
   "metadata": {},
   "source": [
    "Ignores index, unless on=None. See value of how below.\n",
    "Use on if merging on same column in both DataFrames, otherwise use left_on, right_on.\n",
    "<img src=\"imgs/Mdata.png\" width=90% />\n",
    "\n",
    "Concatenating DataFrames\n",
    "---\n",
    "```\n",
    " > pd.concat(df_list)\n",
    "```"
   ]
  },
  {
   "cell_type": "markdown",
   "metadata": {},
   "source": [
    "“Stacks” DataFrames on top of each other.\n",
    "Set ignore_index=True, to replace index with RangeIndex. Note: Faster than repeated df.append(other_df).\n",
    "\n",
    "Join on Index\n",
    "---\n",
    "```\n",
    "> df.join(other)\n",
    "```"
   ]
  },
  {
   "cell_type": "markdown",
   "metadata": {},
   "source": [
    "Merge DataFrames on index. Set on=keys to join on index of df and on keys of other. Join uses pd.merge under the covers"
   ]
  },
  {
   "cell_type": "markdown",
   "metadata": {},
   "source": [
    "<code style=\"background-color:darkblue;color:white;font-size:2em;font-face:bold\">Cleaning Data with Missing Values\n",
    "</code>\n",
    "\n",
    "\n",
    "Pandas represents missing values as NaN (Not a Number). It comes from Numpy and is of type float64. Pandas has many methods to find and replace missing values.\n",
    "\n",
    "**Find Missing Values**\n",
    "\n",
    "```\n",
    "> s_df.isnull() or > pd.isnull(obj) \n",
    "> s_df.notnull() or > pd.notnull(obj)\n",
    "```"
   ]
  },
  {
   "cell_type": "markdown",
   "metadata": {},
   "source": [
    "**Replacing Missing Values**\n",
    "\n",
    "\n",
    "```\n",
    "      s_df.loc[s_df.isnull()] = 0  Use mask to replace NaN\n",
    "s_df.interpolate(method='linear')  Interpolate using different methods\n",
    "      s_df.fillna(method='ffill')  Fill forward (last valid value)\n",
    "      s_df.fillna(method='bfill')  Or backward (next valid value)\n",
    "           s_df.dropna(how='any')  Drop rows if any value is NaN\n",
    "           s_df.dropna(how='all')  Drop rows if all values are NaN\n",
    "   s_df.dropna(how='all', axis=1)  Drop across columns instead of rows\n",
    "```"
   ]
  },
  {
   "cell_type": "markdown",
   "metadata": {},
   "source": [
    "<code style=\"background-color:darkblue;color:white;font-size:2em;font-face:bold\">Reshaping Dataframes/Pivot Tables\n",
    "</code>\n",
    "\n",
    " Tools for reshaping DataFrames from the wide to the long format and back. The long format can be tidy, which means that \"each variable is a column, each observation is a row\"1. Tidy data is easier to filter, aggregate, transform, sort, and pivot.  Reshaping operations often produce multi-level indices or columns, which can be sliced and indexed.\n",
    " \n",
    "\n",
    "\n",
    "**MultiIndex**: A Multi-Level Hierarchical Index\n",
    "\n",
    "Often created as a result of:\n",
    "```\n",
    "  > df.groupby(list_of_columns)\n",
    "  > df.set_index(list_of_columns)\n",
    "```"
   ]
  },
  {
   "cell_type": "markdown",
   "metadata": {},
   "source": [
    "Contiguous labels are displayed together but apply to each row. The concept is similar to multi-level columns.\n",
    "\n",
    "A **MultiIndex** allows indexing and slicing one or multiple levels at once. Using the Long example from the right:\n",
    "```\n",
    "                        long.loc[1900]  Pivot Tables\n",
    "            long.loc[(1900, 'March')]   value2\n",
    "      long.xs('March', level='Month')   All March rows\n",
    "```"
   ]
  },
  {
   "cell_type": "markdown",
   "metadata": {},
   "source": [
    "Simpler than using boolean indexing, for example:\n",
    "```\n",
    "> long[long.Month == 'March']\n",
    "```"
   ]
  },
  {
   "cell_type": "markdown",
   "metadata": {},
   "source": [
    "**Long to Wide Format and Back with stack() and unstack()**\n",
    "\n",
    "\n",
    "\n",
    "Pivot column level to index, i.e. \"stacking the columns\" (wide to long):\n",
    "```\n",
    " > df.stack()\n",
    "```"
   ]
  },
  {
   "cell_type": "markdown",
   "metadata": {},
   "source": [
    "Pivot index level to columns, \"unstack the columns\" (long to wide):\n",
    "```\n",
    " > df.unstack()\n",
    "```"
   ]
  },
  {
   "cell_type": "markdown",
   "metadata": {},
   "source": [
    "If multiple indices or column levels, use level number or name to stack/unstack:\n",
    "```\n",
    " > df.unstack(0) or > df.unstack('Year')\n",
    "```"
   ]
  },
  {
   "cell_type": "markdown",
   "metadata": {},
   "source": [
    "A common use case for unstacking, plotting group data vs index after groupby:\n",
    "```\n",
    " > (df.groupby(['A', 'B])['relevant'].mean()\n",
    "      .unstack().plot())\n",
    "```"
   ]
  },
  {
   "cell_type": "markdown",
   "metadata": {},
   "source": [
    "<img src=\"imgs/index.png\" width=70% />"
   ]
  },
  {
   "cell_type": "markdown",
   "metadata": {},
   "source": [
    "<code style=\"background-color:darkblue;color:white;font-size:2em;font-face:bold\">Pivot Tables\n",
    "</code>\n",
    "\n",
    "```\n",
    "> pd.pivot_table(df,\n",
    "                index=cols, (keys to group by for index) \n",
    "                columns=cols2, (keys to group by for columns) \n",
    "                values=cols3, (columns to aggregate) \n",
    "                aggfunc='mean') (what to do with repeated values)\n",
    "```"
   ]
  },
  {
   "cell_type": "markdown",
   "metadata": {},
   "source": [
    "Omitting index, columns, or values will use all remaining columns of df. You can \"pivot\" a table manually using groupby, stack and unstack.\n",
    "<img src=\"imgs/index.png\" width=70% />\n",
    "\n",
    "\n",
    "<code style=\"background-color:darkblue;color:white;font-size:2em;font-face:bold\">df.pivot() vs pd.pivot_table</code>\n",
    "\n",
    "```\n",
    "         df.pivot()   Does not deal with repeated values in index. \n",
    "                      It's a declarative form of stack and unstack.\n",
    "   pd.pivot_table()   Use if you have repeated values in index \n",
    "                      (specify aggfunc argument)\n",
    "```"
   ]
  },
  {
   "cell_type": "markdown",
   "metadata": {},
   "source": [
    "<code style=\"background-color:darkblue;color:white;font-size:2em;font-face:bold\">From Wide to Long with melt</code>\n",
    "\n",
    "Specify which columns are identifiers (id_vars, values will be repeated for each row) and which are \"measured variables\" (value_vars, will become values in variable column.\n",
    "All remaining columns by default).\n",
    "```\n",
    "pd.melt(df, id_vars=id_cols, value_vars=value_columns)\n",
    "```"
   ]
  },
  {
   "cell_type": "markdown",
   "metadata": {},
   "source": [
    "<img src=\"imgs/melt.png\" width=50% />"
   ]
  },
  {
   "cell_type": "code",
   "execution_count": null,
   "metadata": {},
   "outputs": [],
   "source": []
  }
 ],
 "metadata": {
  "hide_input": false,
  "kernelspec": {
   "display_name": "Python 3",
   "language": "python",
   "name": "python3"
  },
  "language_info": {
   "codemirror_mode": {
    "name": "ipython",
    "version": 3
   },
   "file_extension": ".py",
   "mimetype": "text/x-python",
   "name": "python",
   "nbconvert_exporter": "python",
   "pygments_lexer": "ipython3",
   "version": "3.8.5"
  },
  "toc": {
   "colors": {
    "hover_highlight": "#DAA520",
    "navigate_num": "#000000",
    "navigate_text": "#333333",
    "running_highlight": "#FF0000",
    "selected_highlight": "#FFD700",
    "sidebar_border": "#EEEEEE",
    "wrapper_background": "#FFFFFF"
   },
   "moveMenuLeft": true,
   "nav_menu": {
    "height": "512px",
    "width": "252px"
   },
   "navigate_menu": true,
   "number_sections": true,
   "sideBar": true,
   "threshold": 4,
   "toc_cell": false,
   "toc_section_display": "block",
   "toc_window_display": false,
   "widenNotebook": false
  }
 },
 "nbformat": 4,
 "nbformat_minor": 2
}
