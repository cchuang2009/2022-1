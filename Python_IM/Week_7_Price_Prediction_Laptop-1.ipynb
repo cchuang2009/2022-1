{
 "cells": [
  {
   "cell_type": "markdown",
   "metadata": {},
   "source": [
    "Case Study\n",
    "---\n",
    "Do you want to buy a new laptop? If yes, what is your concern?, Price, or its equipment?\n",
    "\n",
    "Before making the decision, let us explore the price of laptop.\n",
    "\n",
    "To make the accurate information, 1) we will make a detailed Exploratory Data Analysis (EDA), or called data washing; 2.) create a model fpr prediction for the value of laptop; 3.) Deployment of the Model.\n",
    "\n",
    "\n",
    "Skills of Pandas manipulation\n",
    "---\n",
    "1. `df['Memory].unique()`, set of terms in this feature;\n",
    "2. `df['Memory].value_counts()`, count of each unique term in this feature;\n",
    "3. `df[\"Memory\"].str.split(pat=pattern,expand=True)`, split string into different features, by using `pattern` as the delimiter string.\n",
    "4.  Extract the part of digits, where  \n",
    "```\n",
    "# more than one digit\n",
    "pattern='(\\d+)'\n",
    "df['Memory'].str.extract(pattern,expand=True)\n",
    "```\n",
    "5. Extract the part of letters, \n",
    "```\n",
    "# more than one letter, capital or not\n",
    "pattern='([A-Za-z+]+)'\n",
    "df['Memory'].str.extract(pattern,expand=True)\n",
    "```"
   ]
  },
  {
   "cell_type": "code",
   "execution_count": 1,
   "metadata": {},
   "outputs": [],
   "source": [
    "import pandas as pd \n",
    "import numpy as np\n",
    "\n",
    "import seaborn as sns\n",
    "import plotly.express as px\n",
    "import matplotlib.pyplot as plt\n",
    "# pkg for interactive vis\n",
    "\n",
    "import warnings\n",
    "warnings.filterwarnings('ignore')\n",
    "#把warning省略掉\n",
    "\n",
    "%matplotlib inline"
   ]
  },
  {
   "cell_type": "code",
   "execution_count": 2,
   "metadata": {},
   "outputs": [],
   "source": [
    "#file=\"https://raw.githubusercontent.com/Raghavagr/Laptop_Price_Prediction/main/laptop_data.csv\"\n",
    "file=\"Laptop_prive.csv\"\n",
    "df = pd.read_csv(file) "
   ]
  },
  {
   "cell_type": "code",
   "execution_count": 4,
   "metadata": {},
   "outputs": [],
   "source": [
    "# save the data\n",
    "df.to_csv(\"Laptop_prive.csv\",index=0)"
   ]
  },
  {
   "cell_type": "code",
   "execution_count": 3,
   "metadata": {},
   "outputs": [
    {
     "data": {
      "text/html": [
       "<div>\n",
       "<style scoped>\n",
       "    .dataframe tbody tr th:only-of-type {\n",
       "        vertical-align: middle;\n",
       "    }\n",
       "\n",
       "    .dataframe tbody tr th {\n",
       "        vertical-align: top;\n",
       "    }\n",
       "\n",
       "    .dataframe thead th {\n",
       "        text-align: right;\n",
       "    }\n",
       "</style>\n",
       "<table border=\"1\" class=\"dataframe\">\n",
       "  <thead>\n",
       "    <tr style=\"text-align: right;\">\n",
       "      <th></th>\n",
       "      <th>Unnamed: 0</th>\n",
       "      <th>Company</th>\n",
       "      <th>TypeName</th>\n",
       "      <th>Inches</th>\n",
       "      <th>ScreenResolution</th>\n",
       "      <th>Cpu</th>\n",
       "      <th>Ram</th>\n",
       "      <th>Memory</th>\n",
       "      <th>Gpu</th>\n",
       "      <th>OpSys</th>\n",
       "      <th>Weight</th>\n",
       "      <th>Price</th>\n",
       "    </tr>\n",
       "  </thead>\n",
       "  <tbody>\n",
       "    <tr>\n",
       "      <th>0</th>\n",
       "      <td>0</td>\n",
       "      <td>Apple</td>\n",
       "      <td>Ultrabook</td>\n",
       "      <td>13.3</td>\n",
       "      <td>IPS Panel Retina Display 2560x1600</td>\n",
       "      <td>Intel Core i5 2.3GHz</td>\n",
       "      <td>8GB</td>\n",
       "      <td>128GB SSD</td>\n",
       "      <td>Intel Iris Plus Graphics 640</td>\n",
       "      <td>macOS</td>\n",
       "      <td>1.37kg</td>\n",
       "      <td>71378.6832</td>\n",
       "    </tr>\n",
       "    <tr>\n",
       "      <th>1</th>\n",
       "      <td>1</td>\n",
       "      <td>Apple</td>\n",
       "      <td>Ultrabook</td>\n",
       "      <td>13.3</td>\n",
       "      <td>1440x900</td>\n",
       "      <td>Intel Core i5 1.8GHz</td>\n",
       "      <td>8GB</td>\n",
       "      <td>128GB Flash Storage</td>\n",
       "      <td>Intel HD Graphics 6000</td>\n",
       "      <td>macOS</td>\n",
       "      <td>1.34kg</td>\n",
       "      <td>47895.5232</td>\n",
       "    </tr>\n",
       "    <tr>\n",
       "      <th>2</th>\n",
       "      <td>2</td>\n",
       "      <td>HP</td>\n",
       "      <td>Notebook</td>\n",
       "      <td>15.6</td>\n",
       "      <td>Full HD 1920x1080</td>\n",
       "      <td>Intel Core i5 7200U 2.5GHz</td>\n",
       "      <td>8GB</td>\n",
       "      <td>256GB SSD</td>\n",
       "      <td>Intel HD Graphics 620</td>\n",
       "      <td>No OS</td>\n",
       "      <td>1.86kg</td>\n",
       "      <td>30636.0000</td>\n",
       "    </tr>\n",
       "    <tr>\n",
       "      <th>3</th>\n",
       "      <td>3</td>\n",
       "      <td>Apple</td>\n",
       "      <td>Ultrabook</td>\n",
       "      <td>15.4</td>\n",
       "      <td>IPS Panel Retina Display 2880x1800</td>\n",
       "      <td>Intel Core i7 2.7GHz</td>\n",
       "      <td>16GB</td>\n",
       "      <td>512GB SSD</td>\n",
       "      <td>AMD Radeon Pro 455</td>\n",
       "      <td>macOS</td>\n",
       "      <td>1.83kg</td>\n",
       "      <td>135195.3360</td>\n",
       "    </tr>\n",
       "    <tr>\n",
       "      <th>4</th>\n",
       "      <td>4</td>\n",
       "      <td>Apple</td>\n",
       "      <td>Ultrabook</td>\n",
       "      <td>13.3</td>\n",
       "      <td>IPS Panel Retina Display 2560x1600</td>\n",
       "      <td>Intel Core i5 3.1GHz</td>\n",
       "      <td>8GB</td>\n",
       "      <td>256GB SSD</td>\n",
       "      <td>Intel Iris Plus Graphics 650</td>\n",
       "      <td>macOS</td>\n",
       "      <td>1.37kg</td>\n",
       "      <td>96095.8080</td>\n",
       "    </tr>\n",
       "  </tbody>\n",
       "</table>\n",
       "</div>"
      ],
      "text/plain": [
       "   Unnamed: 0 Company   TypeName  Inches                    ScreenResolution  \\\n",
       "0           0   Apple  Ultrabook    13.3  IPS Panel Retina Display 2560x1600   \n",
       "1           1   Apple  Ultrabook    13.3                            1440x900   \n",
       "2           2      HP   Notebook    15.6                   Full HD 1920x1080   \n",
       "3           3   Apple  Ultrabook    15.4  IPS Panel Retina Display 2880x1800   \n",
       "4           4   Apple  Ultrabook    13.3  IPS Panel Retina Display 2560x1600   \n",
       "\n",
       "                          Cpu   Ram               Memory  \\\n",
       "0        Intel Core i5 2.3GHz   8GB            128GB SSD   \n",
       "1        Intel Core i5 1.8GHz   8GB  128GB Flash Storage   \n",
       "2  Intel Core i5 7200U 2.5GHz   8GB            256GB SSD   \n",
       "3        Intel Core i7 2.7GHz  16GB            512GB SSD   \n",
       "4        Intel Core i5 3.1GHz   8GB            256GB SSD   \n",
       "\n",
       "                            Gpu  OpSys  Weight        Price  \n",
       "0  Intel Iris Plus Graphics 640  macOS  1.37kg   71378.6832  \n",
       "1        Intel HD Graphics 6000  macOS  1.34kg   47895.5232  \n",
       "2         Intel HD Graphics 620  No OS  1.86kg   30636.0000  \n",
       "3            AMD Radeon Pro 455  macOS  1.83kg  135195.3360  \n",
       "4  Intel Iris Plus Graphics 650  macOS  1.37kg   96095.8080  "
      ]
     },
     "execution_count": 3,
     "metadata": {},
     "output_type": "execute_result"
    }
   ],
   "source": [
    "df.head()"
   ]
  },
  {
   "cell_type": "code",
   "execution_count": 5,
   "metadata": {},
   "outputs": [],
   "source": [
    "# delete the useless feature\n",
    "df.drop(columns=['Unnamed: 0'],inplace=True)\n",
    "\n",
    "## remove gb and kg from Ram and weight and convert the cols to numeric\n",
    "df['Ram'] = df['Ram'].str.replace(\"GB\", \"\")\n",
    "df['Weight'] = df['Weight'].str.replace(\"kg\", \"\")\n",
    "df['Ram'] = df['Ram'].astype('int32')\n",
    "df['Weight'] = df['Weight'].astype('float32')\n",
    "\n",
    "# Convert the price to NT dollar\n",
    "df['Price'] = ((0.39*df['Price']//100)*100).astype('int')"
   ]
  },
  {
   "cell_type": "markdown",
   "metadata": {},
   "source": [
    "# Prediction\n",
    "\n",
    "\n",
    "[Regression Prediction, pycaret](#Prediction-by-Pycaret)\n",
    "1. first case:\n",
    "```\n",
    "features=['Ram','Weight']\n",
    "target='Price']\n",
    "```"
   ]
  },
  {
   "cell_type": "markdown",
   "metadata": {},
   "source": [
    "Exploratory Data Analysis, EDA\n",
    "---"
   ]
  },
  {
   "cell_type": "markdown",
   "metadata": {},
   "source": [
    "CPU and GPU\n",
    "---\n",
    "Only companies and running velocity to be extracted\n",
    "1. companies: Intel ( `core i*` or `not`) , AMD, others\n",
    "2. velocity: `%d.%d`GHz\n",
    "\n",
    "Steps\n",
    "---\n",
    "1. Classify what kind of CPU: a) `core-i` series or b) `not Intel core-i`, c) `AMD`, and d) `others`\n",
    "\n",
    "```\n",
    "# split by space, get the first 3 words, e.g. Intel Core i7,\n",
    "\n",
    "\" \".join(x.split()[0:3])\n",
    "```\n",
    "2. velocity of CPU, extract the string `*.*` from `*.*GHz` and convert it to float:\n",
    "```\n",
    "# define the pattern, at least one digit after . and before GHz\n",
    "pattern='([.\\d]+GHz)'\n",
    "df['CPU_vel']=(df['Cpu'].str.extract(pattern,expand=True))\n",
    "# convert to float\n",
    "df['CPU_vel']=df['Cpu'].apply(lambda x: str(x)[:-3]).astype(float)\n",
    "```\n",
    "\n",
    "3. Company of GPU, Intel, Nvidia, AMD or other:\n",
    "```\n",
    "pattern=' '\n",
    "df['GPU']=df['Gpu'].str.split(pat=pattern,expand=True)[0]\n",
    "```"
   ]
  },
  {
   "cell_type": "code",
   "execution_count": 67,
   "metadata": {},
   "outputs": [
    {
     "data": {
      "text/plain": [
       "array(['Intel Core i5 2.3GHz', 'Intel Core i5 1.8GHz',\n",
       "       'Intel Core i5 7200U 2.5GHz', 'Intel Core i7 2.7GHz',\n",
       "       'Intel Core i5 3.1GHz', 'AMD A9-Series 9420 3GHz',\n",
       "       'Intel Core i7 2.2GHz', 'Intel Core i7 8550U 1.8GHz',\n",
       "       'Intel Core i5 8250U 1.6GHz', 'Intel Core i3 6006U 2GHz',\n",
       "       'Intel Core i7 2.8GHz', 'Intel Core M m3 1.2GHz',\n",
       "       'Intel Core i7 7500U 2.7GHz', 'Intel Core i7 2.9GHz',\n",
       "       'Intel Core i3 7100U 2.4GHz', 'Intel Atom x5-Z8350 1.44GHz',\n",
       "       'Intel Core i5 7300HQ 2.5GHz', 'AMD E-Series E2-9000e 1.5GHz',\n",
       "       'Intel Core i5 1.6GHz', 'Intel Core i7 8650U 1.9GHz',\n",
       "       'Intel Atom x5-Z8300 1.44GHz', 'AMD E-Series E2-6110 1.5GHz',\n",
       "       'AMD A6-Series 9220 2.5GHz',\n",
       "       'Intel Celeron Dual Core N3350 1.1GHz',\n",
       "       'Intel Core i3 7130U 2.7GHz', 'Intel Core i7 7700HQ 2.8GHz',\n",
       "       'Intel Core i5 2.0GHz', 'AMD Ryzen 1700 3GHz',\n",
       "       'Intel Pentium Quad Core N4200 1.1GHz',\n",
       "       'Intel Atom x5-Z8550 1.44GHz',\n",
       "       'Intel Celeron Dual Core N3060 1.6GHz', 'Intel Core i5 1.3GHz',\n",
       "       'AMD FX 9830P 3GHz', 'Intel Core i7 7560U 2.4GHz',\n",
       "       'AMD E-Series 6110 1.5GHz', 'Intel Core i5 6200U 2.3GHz',\n",
       "       'Intel Core M 6Y75 1.2GHz', 'Intel Core i5 7500U 2.7GHz',\n",
       "       'Intel Core i3 6006U 2.2GHz', 'AMD A6-Series 9220 2.9GHz',\n",
       "       'Intel Core i7 6920HQ 2.9GHz', 'Intel Core i5 7Y54 1.2GHz',\n",
       "       'Intel Core i7 7820HK 2.9GHz', 'Intel Xeon E3-1505M V6 3GHz',\n",
       "       'Intel Core i7 6500U 2.5GHz', 'AMD E-Series 9000e 1.5GHz',\n",
       "       'AMD A10-Series A10-9620P 2.5GHz', 'AMD A6-Series A6-9220 2.5GHz',\n",
       "       'Intel Core i5 2.9GHz', 'Intel Core i7 6600U 2.6GHz',\n",
       "       'Intel Core i3 6006U 2.0GHz',\n",
       "       'Intel Celeron Dual Core 3205U 1.5GHz',\n",
       "       'Intel Core i7 7820HQ 2.9GHz', 'AMD A10-Series 9600P 2.4GHz',\n",
       "       'Intel Core i7 7600U 2.8GHz', 'AMD A8-Series 7410 2.2GHz',\n",
       "       'Intel Celeron Dual Core 3855U 1.6GHz',\n",
       "       'Intel Pentium Quad Core N3710 1.6GHz',\n",
       "       'AMD A12-Series 9720P 2.7GHz', 'Intel Core i5 7300U 2.6GHz',\n",
       "       'AMD A12-Series 9720P 3.6GHz',\n",
       "       'Intel Celeron Quad Core N3450 1.1GHz',\n",
       "       'Intel Celeron Dual Core N3060 1.60GHz',\n",
       "       'Intel Core i5 6440HQ 2.6GHz', 'Intel Core i7 6820HQ 2.7GHz',\n",
       "       'AMD Ryzen 1600 3.2GHz', 'Intel Core i7 7Y75 1.3GHz',\n",
       "       'Intel Core i5 7440HQ 2.8GHz', 'Intel Core i7 7660U 2.5GHz',\n",
       "       'Intel Core i7 7700HQ 2.7GHz', 'Intel Core M m3-7Y30 2.2GHz',\n",
       "       'Intel Core i5 7Y57 1.2GHz', 'Intel Core i7 6700HQ 2.6GHz',\n",
       "       'Intel Core i3 6100U 2.3GHz', 'AMD A10-Series 9620P 2.5GHz',\n",
       "       'AMD E-Series 7110 1.8GHz', 'Intel Celeron Dual Core N3350 2.0GHz',\n",
       "       'AMD A9-Series A9-9420 3GHz', 'Intel Core i7 6820HK 2.7GHz',\n",
       "       'Intel Core M 7Y30 1.0GHz', 'Intel Xeon E3-1535M v6 3.1GHz',\n",
       "       'Intel Celeron Quad Core N3160 1.6GHz',\n",
       "       'Intel Core i5 6300U 2.4GHz', 'Intel Core i3 6100U 2.1GHz',\n",
       "       'AMD E-Series E2-9000 2.2GHz',\n",
       "       'Intel Celeron Dual Core N3050 1.6GHz',\n",
       "       'Intel Core M M3-6Y30 0.9GHz', 'AMD A9-Series 9420 2.9GHz',\n",
       "       'Intel Core i5 6300HQ 2.3GHz', 'AMD A6-Series 7310 2GHz',\n",
       "       'Intel Atom Z8350 1.92GHz', 'Intel Xeon E3-1535M v5 2.9GHz',\n",
       "       'Intel Core i5 6260U 1.8GHz',\n",
       "       'Intel Pentium Dual Core N4200 1.1GHz',\n",
       "       'Intel Celeron Quad Core N3710 1.6GHz', 'Intel Core M 1.2GHz',\n",
       "       'AMD A12-Series 9700P 2.5GHz', 'Intel Core i7 7500U 2.5GHz',\n",
       "       'Intel Pentium Dual Core 4405U 2.1GHz',\n",
       "       'AMD A4-Series 7210 2.2GHz', 'Intel Core i7 6560U 2.2GHz',\n",
       "       'Intel Core M m7-6Y75 1.2GHz', 'AMD FX 8800P 2.1GHz',\n",
       "       'Intel Core M M7-6Y75 1.2GHz', 'Intel Core i5 7200U 2.50GHz',\n",
       "       'Intel Core i5 7200U 2.70GHz', 'Intel Atom X5-Z8350 1.44GHz',\n",
       "       'Intel Core i5 7200U 2.7GHz', 'Intel Core M 1.1GHz',\n",
       "       'Intel Pentium Dual Core 4405Y 1.5GHz',\n",
       "       'Intel Pentium Quad Core N3700 1.6GHz', 'Intel Core M 6Y54 1.1GHz',\n",
       "       'Intel Core i7 6500U 2.50GHz',\n",
       "       'Intel Celeron Dual Core N3350 2GHz',\n",
       "       'Samsung Cortex A72&A53 2.0GHz', 'AMD E-Series 9000 2.2GHz',\n",
       "       'Intel Core M 6Y30 0.9GHz', 'AMD A9-Series 9410 2.9GHz'],\n",
       "      dtype=object)"
      ]
     },
     "execution_count": 67,
     "metadata": {},
     "output_type": "execute_result"
    }
   ],
   "source": [
    "df['Cpu'].unique()"
   ]
  },
  {
   "cell_type": "code",
   "execution_count": 206,
   "metadata": {},
   "outputs": [
    {
     "data": {
      "text/html": [
       "<div>\n",
       "<style scoped>\n",
       "    .dataframe tbody tr th:only-of-type {\n",
       "        vertical-align: middle;\n",
       "    }\n",
       "\n",
       "    .dataframe tbody tr th {\n",
       "        vertical-align: top;\n",
       "    }\n",
       "\n",
       "    .dataframe thead th {\n",
       "        text-align: right;\n",
       "    }\n",
       "</style>\n",
       "<table border=\"1\" class=\"dataframe\">\n",
       "  <thead>\n",
       "    <tr style=\"text-align: right;\">\n",
       "      <th></th>\n",
       "      <th>0</th>\n",
       "    </tr>\n",
       "  </thead>\n",
       "  <tbody>\n",
       "    <tr>\n",
       "      <th>0</th>\n",
       "      <td>2.3GHz</td>\n",
       "    </tr>\n",
       "    <tr>\n",
       "      <th>1</th>\n",
       "      <td>1.8GHz</td>\n",
       "    </tr>\n",
       "    <tr>\n",
       "      <th>2</th>\n",
       "      <td>2.5GHz</td>\n",
       "    </tr>\n",
       "    <tr>\n",
       "      <th>3</th>\n",
       "      <td>2.7GHz</td>\n",
       "    </tr>\n",
       "    <tr>\n",
       "      <th>4</th>\n",
       "      <td>3.1GHz</td>\n",
       "    </tr>\n",
       "    <tr>\n",
       "      <th>...</th>\n",
       "      <td>...</td>\n",
       "    </tr>\n",
       "    <tr>\n",
       "      <th>1298</th>\n",
       "      <td>2.5GHz</td>\n",
       "    </tr>\n",
       "    <tr>\n",
       "      <th>1299</th>\n",
       "      <td>2.5GHz</td>\n",
       "    </tr>\n",
       "    <tr>\n",
       "      <th>1300</th>\n",
       "      <td>1.6GHz</td>\n",
       "    </tr>\n",
       "    <tr>\n",
       "      <th>1301</th>\n",
       "      <td>2.5GHz</td>\n",
       "    </tr>\n",
       "    <tr>\n",
       "      <th>1302</th>\n",
       "      <td>1.6GHz</td>\n",
       "    </tr>\n",
       "  </tbody>\n",
       "</table>\n",
       "<p>1303 rows × 1 columns</p>\n",
       "</div>"
      ],
      "text/plain": [
       "           0\n",
       "0     2.3GHz\n",
       "1     1.8GHz\n",
       "2     2.5GHz\n",
       "3     2.7GHz\n",
       "4     3.1GHz\n",
       "...      ...\n",
       "1298  2.5GHz\n",
       "1299  2.5GHz\n",
       "1300  1.6GHz\n",
       "1301  2.5GHz\n",
       "1302  1.6GHz\n",
       "\n",
       "[1303 rows x 1 columns]"
      ]
     },
     "execution_count": 206,
     "metadata": {},
     "output_type": "execute_result"
    }
   ],
   "source": [
    "pattern='(\\d.\\dGHz)'\n",
    "df['Cpu'].str.extract(pattern,expand=True)"
   ]
  },
  {
   "cell_type": "code",
   "execution_count": 68,
   "metadata": {
    "code_folding": []
   },
   "outputs": [],
   "source": [
    "#first we will extract Name of CPU which is first 3 words from Cpu column and then we will check which processor it is\n",
    "def fetch_processor(x):\n",
    "  cpu_name = \" \".join(x.split()[0:3])\n",
    "  if cpu_name == 'Intel Core i7' or cpu_name == 'Intel Core i5' or cpu_name == 'Intel Core i3':\n",
    "    return cpu_name\n",
    "  elif cpu_name.split()[0] == 'Intel':\n",
    "    return 'Other Intel Processor'\n",
    "  elif cpu_name.split()[0] == 'AMD':\n",
    "    return cpu_name    \n",
    "  else:\n",
    "    return 'Others Processor'\n",
    "\n",
    "def EDA_CPU(df_,f_='Cpu'):\n",
    "    pattern='([.\\d]+GHz)'\n",
    "    df_['CPU_vel']=(df_[f_].str.extract(pattern,expand=True))\n",
    "    df_['CPU_vel']=df_['CPU_vel'].apply(lambda x: str(x)[:-3]).astype(float)\n",
    "    return df_\n",
    "#df1=df[['Cpu']].copy()\n",
    "df['Cpu_brand'] = df['Cpu'].apply(lambda x: fetch_processor(x))\n",
    "df=EDA_CPU(df)\n"
   ]
  },
  {
   "cell_type": "code",
   "execution_count": 69,
   "metadata": {},
   "outputs": [
    {
     "data": {
      "text/html": [
       "<div>\n",
       "<style scoped>\n",
       "    .dataframe tbody tr th:only-of-type {\n",
       "        vertical-align: middle;\n",
       "    }\n",
       "\n",
       "    .dataframe tbody tr th {\n",
       "        vertical-align: top;\n",
       "    }\n",
       "\n",
       "    .dataframe thead th {\n",
       "        text-align: right;\n",
       "    }\n",
       "</style>\n",
       "<table border=\"1\" class=\"dataframe\">\n",
       "  <thead>\n",
       "    <tr style=\"text-align: right;\">\n",
       "      <th></th>\n",
       "      <th>Cpu</th>\n",
       "      <th>Cpu_brand</th>\n",
       "      <th>CPU_vel</th>\n",
       "    </tr>\n",
       "  </thead>\n",
       "  <tbody>\n",
       "    <tr>\n",
       "      <th>0</th>\n",
       "      <td>Intel Core i5 2.3GHz</td>\n",
       "      <td>Intel Core i5</td>\n",
       "      <td>2.3</td>\n",
       "    </tr>\n",
       "    <tr>\n",
       "      <th>1</th>\n",
       "      <td>Intel Core i5 1.8GHz</td>\n",
       "      <td>Intel Core i5</td>\n",
       "      <td>1.8</td>\n",
       "    </tr>\n",
       "    <tr>\n",
       "      <th>2</th>\n",
       "      <td>Intel Core i5 7200U 2.5GHz</td>\n",
       "      <td>Intel Core i5</td>\n",
       "      <td>2.5</td>\n",
       "    </tr>\n",
       "    <tr>\n",
       "      <th>3</th>\n",
       "      <td>Intel Core i7 2.7GHz</td>\n",
       "      <td>Intel Core i7</td>\n",
       "      <td>2.7</td>\n",
       "    </tr>\n",
       "    <tr>\n",
       "      <th>4</th>\n",
       "      <td>Intel Core i5 3.1GHz</td>\n",
       "      <td>Intel Core i5</td>\n",
       "      <td>3.1</td>\n",
       "    </tr>\n",
       "  </tbody>\n",
       "</table>\n",
       "</div>"
      ],
      "text/plain": [
       "                          Cpu      Cpu_brand  CPU_vel\n",
       "0        Intel Core i5 2.3GHz  Intel Core i5      2.3\n",
       "1        Intel Core i5 1.8GHz  Intel Core i5      1.8\n",
       "2  Intel Core i5 7200U 2.5GHz  Intel Core i5      2.5\n",
       "3        Intel Core i7 2.7GHz  Intel Core i7      2.7\n",
       "4        Intel Core i5 3.1GHz  Intel Core i5      3.1"
      ]
     },
     "execution_count": 69,
     "metadata": {},
     "output_type": "execute_result"
    }
   ],
   "source": [
    "df[['Cpu','Cpu_brand','CPU_vel']].head()"
   ]
  },
  {
   "cell_type": "code",
   "execution_count": 72,
   "metadata": {},
   "outputs": [],
   "source": [
    "def EDA_GPU(df_,f_='Gpu'):\n",
    "    pattern=' '\n",
    "    df_['GPU']=df_[f_].str.split(pat=pattern,expand=True)[0]\n",
    "    return df_\n",
    "\n",
    "df=EDA_GPU(df)"
   ]
  },
  {
   "cell_type": "code",
   "execution_count": 73,
   "metadata": {},
   "outputs": [
    {
     "data": {
      "text/html": [
       "<div>\n",
       "<style scoped>\n",
       "    .dataframe tbody tr th:only-of-type {\n",
       "        vertical-align: middle;\n",
       "    }\n",
       "\n",
       "    .dataframe tbody tr th {\n",
       "        vertical-align: top;\n",
       "    }\n",
       "\n",
       "    .dataframe thead th {\n",
       "        text-align: right;\n",
       "    }\n",
       "</style>\n",
       "<table border=\"1\" class=\"dataframe\">\n",
       "  <thead>\n",
       "    <tr style=\"text-align: right;\">\n",
       "      <th></th>\n",
       "      <th>Cpu</th>\n",
       "      <th>Cpu_brand</th>\n",
       "      <th>CPU_vel</th>\n",
       "      <th>Gpu</th>\n",
       "      <th>GPU</th>\n",
       "    </tr>\n",
       "  </thead>\n",
       "  <tbody>\n",
       "    <tr>\n",
       "      <th>0</th>\n",
       "      <td>Intel Core i5 2.3GHz</td>\n",
       "      <td>Intel Core i5</td>\n",
       "      <td>2.3</td>\n",
       "      <td>Intel Iris Plus Graphics 640</td>\n",
       "      <td>Intel</td>\n",
       "    </tr>\n",
       "    <tr>\n",
       "      <th>1</th>\n",
       "      <td>Intel Core i5 1.8GHz</td>\n",
       "      <td>Intel Core i5</td>\n",
       "      <td>1.8</td>\n",
       "      <td>Intel HD Graphics 6000</td>\n",
       "      <td>Intel</td>\n",
       "    </tr>\n",
       "    <tr>\n",
       "      <th>2</th>\n",
       "      <td>Intel Core i5 7200U 2.5GHz</td>\n",
       "      <td>Intel Core i5</td>\n",
       "      <td>2.5</td>\n",
       "      <td>Intel HD Graphics 620</td>\n",
       "      <td>Intel</td>\n",
       "    </tr>\n",
       "    <tr>\n",
       "      <th>3</th>\n",
       "      <td>Intel Core i7 2.7GHz</td>\n",
       "      <td>Intel Core i7</td>\n",
       "      <td>2.7</td>\n",
       "      <td>AMD Radeon Pro 455</td>\n",
       "      <td>AMD</td>\n",
       "    </tr>\n",
       "    <tr>\n",
       "      <th>4</th>\n",
       "      <td>Intel Core i5 3.1GHz</td>\n",
       "      <td>Intel Core i5</td>\n",
       "      <td>3.1</td>\n",
       "      <td>Intel Iris Plus Graphics 650</td>\n",
       "      <td>Intel</td>\n",
       "    </tr>\n",
       "  </tbody>\n",
       "</table>\n",
       "</div>"
      ],
      "text/plain": [
       "                          Cpu      Cpu_brand  CPU_vel  \\\n",
       "0        Intel Core i5 2.3GHz  Intel Core i5      2.3   \n",
       "1        Intel Core i5 1.8GHz  Intel Core i5      1.8   \n",
       "2  Intel Core i5 7200U 2.5GHz  Intel Core i5      2.5   \n",
       "3        Intel Core i7 2.7GHz  Intel Core i7      2.7   \n",
       "4        Intel Core i5 3.1GHz  Intel Core i5      3.1   \n",
       "\n",
       "                            Gpu    GPU  \n",
       "0  Intel Iris Plus Graphics 640  Intel  \n",
       "1        Intel HD Graphics 6000  Intel  \n",
       "2         Intel HD Graphics 620  Intel  \n",
       "3            AMD Radeon Pro 455    AMD  \n",
       "4  Intel Iris Plus Graphics 650  Intel  "
      ]
     },
     "execution_count": 73,
     "metadata": {},
     "output_type": "execute_result"
    }
   ],
   "source": [
    "df[['Cpu','Cpu_brand','CPU_vel','Gpu','GPU']].head()"
   ]
  },
  {
   "cell_type": "markdown",
   "metadata": {},
   "source": [
    "2. Second case:\n",
    "```\n",
    "features=['Ram','Weight','Cpu','Cpu_brand','CPU_vel','Gpu','GPU']\n",
    "target='Price']\n",
    "```"
   ]
  },
  {
   "cell_type": "markdown",
   "metadata": {},
   "source": []
  },
  {
   "cell_type": "code",
   "execution_count": 27,
   "metadata": {},
   "outputs": [
    {
     "data": {
      "text/plain": [
       "<AxesSubplot:xlabel='Price', ylabel='Density'>"
      ]
     },
     "execution_count": 27,
     "metadata": {},
     "output_type": "execute_result"
    },
    {
     "data": {
      "image/png": "[encoded data removed]",
      "text/plain": [
       "<Figure size 432x288 with 1 Axes>"
      ]
     },
     "metadata": {
      "needs_background": "light"
     },
     "output_type": "display_data"
    }
   ],
   "source": [
    "sns.distplot(df['Price'])"
   ]
  },
  {
   "cell_type": "code",
   "execution_count": null,
   "metadata": {},
   "outputs": [],
   "source": []
  },
  {
   "cell_type": "markdown",
   "metadata": {},
   "source": [
    "# Prediction by Pycaret"
   ]
  },
  {
   "cell_type": "code",
   "execution_count": null,
   "metadata": {},
   "outputs": [],
   "source": [
    "!pip install --pre --no-deps pycaret"
   ]
  },
  {
   "cell_type": "code",
   "execution_count": null,
   "metadata": {},
   "outputs": [],
   "source": []
  },
  {
   "cell_type": "code",
   "execution_count": 74,
   "metadata": {},
   "outputs": [],
   "source": [
    "# case 1\n",
    "\n",
    "features=['Ram','Weight']\n",
    "#features2=['Ram','Weight','Cpu','Cpu_brand','CPU_vel','Gpu','GPU']\n",
    "\n",
    "target=['Price']"
   ]
  },
  {
   "cell_type": "code",
   "execution_count": null,
   "metadata": {},
   "outputs": [],
   "source": [
    "# for gdrive colab only\n",
    "from pycaret.utils import enable_colab\n",
    "enable_colab()"
   ]
  },
  {
   "cell_type": "code",
   "execution_count": 7,
   "metadata": {},
   "outputs": [],
   "source": [
    "from pycaret.regression import *\n"
   ]
  },
  {
   "cell_type": "code",
   "execution_count": 75,
   "metadata": {},
   "outputs": [
    {
     "data": {
      "text/html": [
       "<style type=\"text/css\">\n",
       "#T_5fc2d_row8_col1 {\n",
       "  background-color: lightgreen;\n",
       "}\n",
       "</style>\n",
       "<table id=\"T_5fc2d\">\n",
       "  <thead>\n",
       "    <tr>\n",
       "      <th class=\"blank level0\" >&nbsp;</th>\n",
       "      <th id=\"T_5fc2d_level0_col0\" class=\"col_heading level0 col0\" >Description</th>\n",
       "      <th id=\"T_5fc2d_level0_col1\" class=\"col_heading level0 col1\" >Value</th>\n",
       "    </tr>\n",
       "  </thead>\n",
       "  <tbody>\n",
       "    <tr>\n",
       "      <th id=\"T_5fc2d_level0_row0\" class=\"row_heading level0 row0\" >0</th>\n",
       "      <td id=\"T_5fc2d_row0_col0\" class=\"data row0 col0\" >Session id</td>\n",
       "      <td id=\"T_5fc2d_row0_col1\" class=\"data row0 col1\" >6511</td>\n",
       "    </tr>\n",
       "    <tr>\n",
       "      <th id=\"T_5fc2d_level0_row1\" class=\"row_heading level0 row1\" >1</th>\n",
       "      <td id=\"T_5fc2d_row1_col0\" class=\"data row1 col0\" >Target</td>\n",
       "      <td id=\"T_5fc2d_row1_col1\" class=\"data row1 col1\" >Price</td>\n",
       "    </tr>\n",
       "    <tr>\n",
       "      <th id=\"T_5fc2d_level0_row2\" class=\"row_heading level0 row2\" >2</th>\n",
       "      <td id=\"T_5fc2d_row2_col0\" class=\"data row2 col0\" >Target type</td>\n",
       "      <td id=\"T_5fc2d_row2_col1\" class=\"data row2 col1\" >Regression</td>\n",
       "    </tr>\n",
       "    <tr>\n",
       "      <th id=\"T_5fc2d_level0_row3\" class=\"row_heading level0 row3\" >3</th>\n",
       "      <td id=\"T_5fc2d_row3_col0\" class=\"data row3 col0\" >Data shape</td>\n",
       "      <td id=\"T_5fc2d_row3_col1\" class=\"data row3 col1\" >(1303, 11)</td>\n",
       "    </tr>\n",
       "    <tr>\n",
       "      <th id=\"T_5fc2d_level0_row4\" class=\"row_heading level0 row4\" >4</th>\n",
       "      <td id=\"T_5fc2d_row4_col0\" class=\"data row4 col0\" >Train data shape</td>\n",
       "      <td id=\"T_5fc2d_row4_col1\" class=\"data row4 col1\" >(912, 11)</td>\n",
       "    </tr>\n",
       "    <tr>\n",
       "      <th id=\"T_5fc2d_level0_row5\" class=\"row_heading level0 row5\" >5</th>\n",
       "      <td id=\"T_5fc2d_row5_col0\" class=\"data row5 col0\" >Test data shape</td>\n",
       "      <td id=\"T_5fc2d_row5_col1\" class=\"data row5 col1\" >(391, 11)</td>\n",
       "    </tr>\n",
       "    <tr>\n",
       "      <th id=\"T_5fc2d_level0_row6\" class=\"row_heading level0 row6\" >6</th>\n",
       "      <td id=\"T_5fc2d_row6_col0\" class=\"data row6 col0\" >Numeric features</td>\n",
       "      <td id=\"T_5fc2d_row6_col1\" class=\"data row6 col1\" >3</td>\n",
       "    </tr>\n",
       "    <tr>\n",
       "      <th id=\"T_5fc2d_level0_row7\" class=\"row_heading level0 row7\" >7</th>\n",
       "      <td id=\"T_5fc2d_row7_col0\" class=\"data row7 col0\" >Categorical features</td>\n",
       "      <td id=\"T_5fc2d_row7_col1\" class=\"data row7 col1\" >4</td>\n",
       "    </tr>\n",
       "    <tr>\n",
       "      <th id=\"T_5fc2d_level0_row8\" class=\"row_heading level0 row8\" >8</th>\n",
       "      <td id=\"T_5fc2d_row8_col0\" class=\"data row8 col0\" >Preprocess</td>\n",
       "      <td id=\"T_5fc2d_row8_col1\" class=\"data row8 col1\" >True</td>\n",
       "    </tr>\n",
       "    <tr>\n",
       "      <th id=\"T_5fc2d_level0_row9\" class=\"row_heading level0 row9\" >9</th>\n",
       "      <td id=\"T_5fc2d_row9_col0\" class=\"data row9 col0\" >Imputation type</td>\n",
       "      <td id=\"T_5fc2d_row9_col1\" class=\"data row9 col1\" >simple</td>\n",
       "    </tr>\n",
       "    <tr>\n",
       "      <th id=\"T_5fc2d_level0_row10\" class=\"row_heading level0 row10\" >10</th>\n",
       "      <td id=\"T_5fc2d_row10_col0\" class=\"data row10 col0\" >Numeric imputation</td>\n",
       "      <td id=\"T_5fc2d_row10_col1\" class=\"data row10 col1\" >mean</td>\n",
       "    </tr>\n",
       "    <tr>\n",
       "      <th id=\"T_5fc2d_level0_row11\" class=\"row_heading level0 row11\" >11</th>\n",
       "      <td id=\"T_5fc2d_row11_col0\" class=\"data row11 col0\" >Categorical imputation</td>\n",
       "      <td id=\"T_5fc2d_row11_col1\" class=\"data row11 col1\" >constant</td>\n",
       "    </tr>\n",
       "    <tr>\n",
       "      <th id=\"T_5fc2d_level0_row12\" class=\"row_heading level0 row12\" >12</th>\n",
       "      <td id=\"T_5fc2d_row12_col0\" class=\"data row12 col0\" >Maximum one-hot encoding</td>\n",
       "      <td id=\"T_5fc2d_row12_col1\" class=\"data row12 col1\" >5</td>\n",
       "    </tr>\n",
       "    <tr>\n",
       "      <th id=\"T_5fc2d_level0_row13\" class=\"row_heading level0 row13\" >13</th>\n",
       "      <td id=\"T_5fc2d_row13_col0\" class=\"data row13 col0\" >Encoding method</td>\n",
       "      <td id=\"T_5fc2d_row13_col1\" class=\"data row13 col1\" >None</td>\n",
       "    </tr>\n",
       "    <tr>\n",
       "      <th id=\"T_5fc2d_level0_row14\" class=\"row_heading level0 row14\" >14</th>\n",
       "      <td id=\"T_5fc2d_row14_col0\" class=\"data row14 col0\" >Low variance threshold</td>\n",
       "      <td id=\"T_5fc2d_row14_col1\" class=\"data row14 col1\" >0</td>\n",
       "    </tr>\n",
       "    <tr>\n",
       "      <th id=\"T_5fc2d_level0_row15\" class=\"row_heading level0 row15\" >15</th>\n",
       "      <td id=\"T_5fc2d_row15_col0\" class=\"data row15 col0\" >Fold Generator</td>\n",
       "      <td id=\"T_5fc2d_row15_col1\" class=\"data row15 col1\" >KFold</td>\n",
       "    </tr>\n",
       "    <tr>\n",
       "      <th id=\"T_5fc2d_level0_row16\" class=\"row_heading level0 row16\" >16</th>\n",
       "      <td id=\"T_5fc2d_row16_col0\" class=\"data row16 col0\" >Fold Number</td>\n",
       "      <td id=\"T_5fc2d_row16_col1\" class=\"data row16 col1\" >10</td>\n",
       "    </tr>\n",
       "    <tr>\n",
       "      <th id=\"T_5fc2d_level0_row17\" class=\"row_heading level0 row17\" >17</th>\n",
       "      <td id=\"T_5fc2d_row17_col0\" class=\"data row17 col0\" >CPU Jobs</td>\n",
       "      <td id=\"T_5fc2d_row17_col1\" class=\"data row17 col1\" >-1</td>\n",
       "    </tr>\n",
       "    <tr>\n",
       "      <th id=\"T_5fc2d_level0_row18\" class=\"row_heading level0 row18\" >18</th>\n",
       "      <td id=\"T_5fc2d_row18_col0\" class=\"data row18 col0\" >Use GPU</td>\n",
       "      <td id=\"T_5fc2d_row18_col1\" class=\"data row18 col1\" >False</td>\n",
       "    </tr>\n",
       "    <tr>\n",
       "      <th id=\"T_5fc2d_level0_row19\" class=\"row_heading level0 row19\" >19</th>\n",
       "      <td id=\"T_5fc2d_row19_col0\" class=\"data row19 col0\" >Log Experiment</td>\n",
       "      <td id=\"T_5fc2d_row19_col1\" class=\"data row19 col1\" >False</td>\n",
       "    </tr>\n",
       "    <tr>\n",
       "      <th id=\"T_5fc2d_level0_row20\" class=\"row_heading level0 row20\" >20</th>\n",
       "      <td id=\"T_5fc2d_row20_col0\" class=\"data row20 col0\" >Experiment Name</td>\n",
       "      <td id=\"T_5fc2d_row20_col1\" class=\"data row20 col1\" >reg-default-name</td>\n",
       "    </tr>\n",
       "    <tr>\n",
       "      <th id=\"T_5fc2d_level0_row21\" class=\"row_heading level0 row21\" >21</th>\n",
       "      <td id=\"T_5fc2d_row21_col0\" class=\"data row21 col0\" >USI</td>\n",
       "      <td id=\"T_5fc2d_row21_col1\" class=\"data row21 col1\" >b70c</td>\n",
       "    </tr>\n",
       "  </tbody>\n",
       "</table>\n"
      ],
      "text/plain": [
       "<pandas.io.formats.style.Styler at 0x7f9da2ba7490>"
      ]
     },
     "metadata": {},
     "output_type": "display_data"
    }
   ],
   "source": [
    "data=df[features2+target]\n",
    "\n",
    "reg1 = setup(data = data, target = 'Price')"
   ]
  },
  {
   "cell_type": "code",
   "execution_count": 20,
   "metadata": {},
   "outputs": [
    {
     "data": {
      "text/html": [],
      "text/plain": [
       "<IPython.core.display.HTML object>"
      ]
     },
     "metadata": {},
     "output_type": "display_data"
    },
    {
     "data": {
      "text/html": [
       "<style type=\"text/css\">\n",
       "#T_75970 th {\n",
       "  text-align: left;\n",
       "}\n",
       "#T_75970_row0_col0, #T_75970_row0_col6, #T_75970_row1_col0, #T_75970_row1_col1, #T_75970_row1_col2, #T_75970_row1_col3, #T_75970_row1_col4, #T_75970_row1_col5, #T_75970_row1_col6, #T_75970_row2_col0, #T_75970_row2_col1, #T_75970_row2_col2, #T_75970_row2_col3, #T_75970_row2_col4, #T_75970_row2_col5, #T_75970_row2_col6, #T_75970_row3_col0, #T_75970_row3_col1, #T_75970_row3_col2, #T_75970_row3_col3, #T_75970_row3_col4, #T_75970_row3_col5, #T_75970_row4_col0, #T_75970_row4_col1, #T_75970_row4_col2, #T_75970_row4_col3, #T_75970_row4_col4, #T_75970_row4_col5, #T_75970_row4_col6, #T_75970_row5_col0, #T_75970_row5_col1, #T_75970_row5_col2, #T_75970_row5_col3, #T_75970_row5_col4, #T_75970_row5_col5, #T_75970_row5_col6, #T_75970_row6_col0, #T_75970_row6_col1, #T_75970_row6_col2, #T_75970_row6_col3, #T_75970_row6_col4, #T_75970_row6_col5, #T_75970_row6_col6, #T_75970_row7_col0, #T_75970_row7_col1, #T_75970_row7_col2, #T_75970_row7_col3, #T_75970_row7_col4, #T_75970_row7_col5, #T_75970_row7_col6, #T_75970_row8_col0, #T_75970_row8_col1, #T_75970_row8_col2, #T_75970_row8_col3, #T_75970_row8_col4, #T_75970_row8_col5, #T_75970_row8_col6, #T_75970_row9_col0, #T_75970_row9_col1, #T_75970_row9_col2, #T_75970_row9_col3, #T_75970_row9_col4, #T_75970_row9_col5, #T_75970_row9_col6, #T_75970_row10_col0, #T_75970_row10_col1, #T_75970_row10_col2, #T_75970_row10_col3, #T_75970_row10_col4, #T_75970_row10_col5, #T_75970_row10_col6, #T_75970_row11_col0, #T_75970_row11_col1, #T_75970_row11_col2, #T_75970_row11_col3, #T_75970_row11_col4, #T_75970_row11_col5, #T_75970_row11_col6, #T_75970_row12_col0, #T_75970_row12_col1, #T_75970_row12_col2, #T_75970_row12_col3, #T_75970_row12_col4, #T_75970_row12_col5, #T_75970_row12_col6, #T_75970_row13_col0, #T_75970_row13_col1, #T_75970_row13_col2, #T_75970_row13_col3, #T_75970_row13_col4, #T_75970_row13_col5, #T_75970_row13_col6, #T_75970_row14_col0, #T_75970_row14_col1, #T_75970_row14_col2, #T_75970_row14_col3, #T_75970_row14_col4, #T_75970_row14_col5, #T_75970_row14_col6, #T_75970_row15_col0, #T_75970_row15_col1, #T_75970_row15_col2, #T_75970_row15_col3, #T_75970_row15_col4, #T_75970_row15_col5, #T_75970_row15_col6, #T_75970_row16_col0, #T_75970_row16_col1, #T_75970_row16_col2, #T_75970_row16_col3, #T_75970_row16_col4, #T_75970_row16_col5, #T_75970_row16_col6, #T_75970_row17_col0, #T_75970_row17_col1, #T_75970_row17_col2, #T_75970_row17_col3, #T_75970_row17_col4, #T_75970_row17_col5, #T_75970_row17_col6, #T_75970_row18_col0, #T_75970_row18_col1, #T_75970_row18_col2, #T_75970_row18_col3, #T_75970_row18_col4, #T_75970_row18_col5, #T_75970_row18_col6, #T_75970_row19_col0, #T_75970_row19_col1, #T_75970_row19_col2, #T_75970_row19_col3, #T_75970_row19_col4, #T_75970_row19_col5, #T_75970_row19_col6 {\n",
       "  text-align: left;\n",
       "}\n",
       "#T_75970_row0_col1, #T_75970_row0_col2, #T_75970_row0_col3, #T_75970_row0_col4, #T_75970_row0_col5, #T_75970_row3_col6 {\n",
       "  text-align: left;\n",
       "  background-color: yellow;\n",
       "}\n",
       "#T_75970_row0_col7, #T_75970_row1_col7, #T_75970_row2_col7, #T_75970_row3_col7, #T_75970_row4_col7, #T_75970_row5_col7, #T_75970_row6_col7, #T_75970_row8_col7, #T_75970_row9_col7, #T_75970_row11_col7, #T_75970_row15_col7 {\n",
       "  text-align: left;\n",
       "  background-color: lightgrey;\n",
       "}\n",
       "#T_75970_row7_col7, #T_75970_row10_col7, #T_75970_row12_col7, #T_75970_row13_col7, #T_75970_row14_col7, #T_75970_row16_col7, #T_75970_row17_col7, #T_75970_row18_col7, #T_75970_row19_col7 {\n",
       "  text-align: left;\n",
       "  background-color: yellow;\n",
       "  background-color: lightgrey;\n",
       "}\n",
       "</style>\n",
       "<table id=\"T_75970\">\n",
       "  <thead>\n",
       "    <tr>\n",
       "      <th class=\"blank level0\" >&nbsp;</th>\n",
       "      <th id=\"T_75970_level0_col0\" class=\"col_heading level0 col0\" >Model</th>\n",
       "      <th id=\"T_75970_level0_col1\" class=\"col_heading level0 col1\" >MAE</th>\n",
       "      <th id=\"T_75970_level0_col2\" class=\"col_heading level0 col2\" >MSE</th>\n",
       "      <th id=\"T_75970_level0_col3\" class=\"col_heading level0 col3\" >RMSE</th>\n",
       "      <th id=\"T_75970_level0_col4\" class=\"col_heading level0 col4\" >R2</th>\n",
       "      <th id=\"T_75970_level0_col5\" class=\"col_heading level0 col5\" >RMSLE</th>\n",
       "      <th id=\"T_75970_level0_col6\" class=\"col_heading level0 col6\" >MAPE</th>\n",
       "      <th id=\"T_75970_level0_col7\" class=\"col_heading level0 col7\" >TT (Sec)</th>\n",
       "    </tr>\n",
       "  </thead>\n",
       "  <tbody>\n",
       "    <tr>\n",
       "      <th id=\"T_75970_level0_row0\" class=\"row_heading level0 row0\" >catboost</th>\n",
       "      <td id=\"T_75970_row0_col0\" class=\"data row0 col0\" >CatBoost Regressor</td>\n",
       "      <td id=\"T_75970_row0_col1\" class=\"data row0 col1\" >5715.8918</td>\n",
       "      <td id=\"T_75970_row0_col2\" class=\"data row0 col2\" >68133287.7912</td>\n",
       "      <td id=\"T_75970_row0_col3\" class=\"data row0 col3\" >8109.8244</td>\n",
       "      <td id=\"T_75970_row0_col4\" class=\"data row0 col4\" >0.6565</td>\n",
       "      <td id=\"T_75970_row0_col5\" class=\"data row0 col5\" >0.3464</td>\n",
       "      <td id=\"T_75970_row0_col6\" class=\"data row0 col6\" >0.2933</td>\n",
       "      <td id=\"T_75970_row0_col7\" class=\"data row0 col7\" >0.5020</td>\n",
       "    </tr>\n",
       "    <tr>\n",
       "      <th id=\"T_75970_level0_row1\" class=\"row_heading level0 row1\" >gbr</th>\n",
       "      <td id=\"T_75970_row1_col0\" class=\"data row1 col0\" >Gradient Boosting Regressor</td>\n",
       "      <td id=\"T_75970_row1_col1\" class=\"data row1 col1\" >5873.3904</td>\n",
       "      <td id=\"T_75970_row1_col2\" class=\"data row1 col2\" >73095612.8728</td>\n",
       "      <td id=\"T_75970_row1_col3\" class=\"data row1 col3\" >8427.3433</td>\n",
       "      <td id=\"T_75970_row1_col4\" class=\"data row1 col4\" >0.6352</td>\n",
       "      <td id=\"T_75970_row1_col5\" class=\"data row1 col5\" >0.3500</td>\n",
       "      <td id=\"T_75970_row1_col6\" class=\"data row1 col6\" >0.3029</td>\n",
       "      <td id=\"T_75970_row1_col7\" class=\"data row1 col7\" >0.0180</td>\n",
       "    </tr>\n",
       "    <tr>\n",
       "      <th id=\"T_75970_level0_row2\" class=\"row_heading level0 row2\" >rf</th>\n",
       "      <td id=\"T_75970_row2_col0\" class=\"data row2 col0\" >Random Forest Regressor</td>\n",
       "      <td id=\"T_75970_row2_col1\" class=\"data row2 col1\" >5839.1364</td>\n",
       "      <td id=\"T_75970_row2_col2\" class=\"data row2 col2\" >73708880.7817</td>\n",
       "      <td id=\"T_75970_row2_col3\" class=\"data row2 col3\" >8476.0095</td>\n",
       "      <td id=\"T_75970_row2_col4\" class=\"data row2 col4\" >0.6313</td>\n",
       "      <td id=\"T_75970_row2_col5\" class=\"data row2 col5\" >0.3497</td>\n",
       "      <td id=\"T_75970_row2_col6\" class=\"data row2 col6\" >0.2895</td>\n",
       "      <td id=\"T_75970_row2_col7\" class=\"data row2 col7\" >0.0520</td>\n",
       "    </tr>\n",
       "    <tr>\n",
       "      <th id=\"T_75970_level0_row3\" class=\"row_heading level0 row3\" >et</th>\n",
       "      <td id=\"T_75970_row3_col0\" class=\"data row3 col0\" >Extra Trees Regressor</td>\n",
       "      <td id=\"T_75970_row3_col1\" class=\"data row3 col1\" >5845.9549</td>\n",
       "      <td id=\"T_75970_row3_col2\" class=\"data row3 col2\" >76703655.0633</td>\n",
       "      <td id=\"T_75970_row3_col3\" class=\"data row3 col3\" >8622.4957</td>\n",
       "      <td id=\"T_75970_row3_col4\" class=\"data row3 col4\" >0.6131</td>\n",
       "      <td id=\"T_75970_row3_col5\" class=\"data row3 col5\" >0.3517</td>\n",
       "      <td id=\"T_75970_row3_col6\" class=\"data row3 col6\" >0.2853</td>\n",
       "      <td id=\"T_75970_row3_col7\" class=\"data row3 col7\" >0.0420</td>\n",
       "    </tr>\n",
       "    <tr>\n",
       "      <th id=\"T_75970_level0_row4\" class=\"row_heading level0 row4\" >xgboost</th>\n",
       "      <td id=\"T_75970_row4_col0\" class=\"data row4 col0\" >Extreme Gradient Boosting</td>\n",
       "      <td id=\"T_75970_row4_col1\" class=\"data row4 col1\" >5842.6007</td>\n",
       "      <td id=\"T_75970_row4_col2\" class=\"data row4 col2\" >76595831.2130</td>\n",
       "      <td id=\"T_75970_row4_col3\" class=\"data row4 col3\" >8635.5663</td>\n",
       "      <td id=\"T_75970_row4_col4\" class=\"data row4 col4\" >0.6124</td>\n",
       "      <td id=\"T_75970_row4_col5\" class=\"data row4 col5\" >0.3543</td>\n",
       "      <td id=\"T_75970_row4_col6\" class=\"data row4 col6\" >0.2896</td>\n",
       "      <td id=\"T_75970_row4_col7\" class=\"data row4 col7\" >0.1730</td>\n",
       "    </tr>\n",
       "    <tr>\n",
       "      <th id=\"T_75970_level0_row5\" class=\"row_heading level0 row5\" >lightgbm</th>\n",
       "      <td id=\"T_75970_row5_col0\" class=\"data row5 col0\" >Light Gradient Boosting Machine</td>\n",
       "      <td id=\"T_75970_row5_col1\" class=\"data row5 col1\" >6125.5541</td>\n",
       "      <td id=\"T_75970_row5_col2\" class=\"data row5 col2\" >80482443.5537</td>\n",
       "      <td id=\"T_75970_row5_col3\" class=\"data row5 col3\" >8839.4374</td>\n",
       "      <td id=\"T_75970_row5_col4\" class=\"data row5 col4\" >0.6064</td>\n",
       "      <td id=\"T_75970_row5_col5\" class=\"data row5 col5\" >0.3631</td>\n",
       "      <td id=\"T_75970_row5_col6\" class=\"data row5 col6\" >0.3171</td>\n",
       "      <td id=\"T_75970_row5_col7\" class=\"data row5 col7\" >0.3630</td>\n",
       "    </tr>\n",
       "    <tr>\n",
       "      <th id=\"T_75970_level0_row6\" class=\"row_heading level0 row6\" >knn</th>\n",
       "      <td id=\"T_75970_row6_col0\" class=\"data row6 col0\" >K Neighbors Regressor</td>\n",
       "      <td id=\"T_75970_row6_col1\" class=\"data row6 col1\" >6153.8839</td>\n",
       "      <td id=\"T_75970_row6_col2\" class=\"data row6 col2\" >80569844.1949</td>\n",
       "      <td id=\"T_75970_row6_col3\" class=\"data row6 col3\" >8880.1549</td>\n",
       "      <td id=\"T_75970_row6_col4\" class=\"data row6 col4\" >0.6021</td>\n",
       "      <td id=\"T_75970_row6_col5\" class=\"data row6 col5\" >0.3583</td>\n",
       "      <td id=\"T_75970_row6_col6\" class=\"data row6 col6\" >0.3067</td>\n",
       "      <td id=\"T_75970_row6_col7\" class=\"data row6 col7\" >0.0100</td>\n",
       "    </tr>\n",
       "    <tr>\n",
       "      <th id=\"T_75970_level0_row7\" class=\"row_heading level0 row7\" >dt</th>\n",
       "      <td id=\"T_75970_row7_col0\" class=\"data row7 col0\" >Decision Tree Regressor</td>\n",
       "      <td id=\"T_75970_row7_col1\" class=\"data row7 col1\" >6013.8049</td>\n",
       "      <td id=\"T_75970_row7_col2\" class=\"data row7 col2\" >78805674.4207</td>\n",
       "      <td id=\"T_75970_row7_col3\" class=\"data row7 col3\" >8772.3829</td>\n",
       "      <td id=\"T_75970_row7_col4\" class=\"data row7 col4\" >0.5998</td>\n",
       "      <td id=\"T_75970_row7_col5\" class=\"data row7 col5\" >0.3628</td>\n",
       "      <td id=\"T_75970_row7_col6\" class=\"data row7 col6\" >0.2938</td>\n",
       "      <td id=\"T_75970_row7_col7\" class=\"data row7 col7\" >0.0090</td>\n",
       "    </tr>\n",
       "    <tr>\n",
       "      <th id=\"T_75970_level0_row8\" class=\"row_heading level0 row8\" >ada</th>\n",
       "      <td id=\"T_75970_row8_col0\" class=\"data row8 col0\" >AdaBoost Regressor</td>\n",
       "      <td id=\"T_75970_row8_col1\" class=\"data row8 col1\" >6864.5501</td>\n",
       "      <td id=\"T_75970_row8_col2\" class=\"data row8 col2\" >88332718.7145</td>\n",
       "      <td id=\"T_75970_row8_col3\" class=\"data row8 col3\" >9303.7813</td>\n",
       "      <td id=\"T_75970_row8_col4\" class=\"data row8 col4\" >0.5506</td>\n",
       "      <td id=\"T_75970_row8_col5\" class=\"data row8 col5\" >0.4150</td>\n",
       "      <td id=\"T_75970_row8_col6\" class=\"data row8 col6\" >0.4025</td>\n",
       "      <td id=\"T_75970_row8_col7\" class=\"data row8 col7\" >0.0130</td>\n",
       "    </tr>\n",
       "    <tr>\n",
       "      <th id=\"T_75970_level0_row9\" class=\"row_heading level0 row9\" >lr</th>\n",
       "      <td id=\"T_75970_row9_col0\" class=\"data row9 col0\" >Linear Regression</td>\n",
       "      <td id=\"T_75970_row9_col1\" class=\"data row9 col1\" >6997.8189</td>\n",
       "      <td id=\"T_75970_row9_col2\" class=\"data row9 col2\" >94767784.5036</td>\n",
       "      <td id=\"T_75970_row9_col3\" class=\"data row9 col3\" >9578.7578</td>\n",
       "      <td id=\"T_75970_row9_col4\" class=\"data row9 col4\" >0.5307</td>\n",
       "      <td id=\"T_75970_row9_col5\" class=\"data row9 col5\" >0.4129</td>\n",
       "      <td id=\"T_75970_row9_col6\" class=\"data row9 col6\" >0.3856</td>\n",
       "      <td id=\"T_75970_row9_col7\" class=\"data row9 col7\" >0.0270</td>\n",
       "    </tr>\n",
       "    <tr>\n",
       "      <th id=\"T_75970_level0_row10\" class=\"row_heading level0 row10\" >lasso</th>\n",
       "      <td id=\"T_75970_row10_col0\" class=\"data row10 col0\" >Lasso Regression</td>\n",
       "      <td id=\"T_75970_row10_col1\" class=\"data row10 col1\" >6997.9881</td>\n",
       "      <td id=\"T_75970_row10_col2\" class=\"data row10 col2\" >94767666.1989</td>\n",
       "      <td id=\"T_75970_row10_col3\" class=\"data row10 col3\" >9578.7859</td>\n",
       "      <td id=\"T_75970_row10_col4\" class=\"data row10 col4\" >0.5307</td>\n",
       "      <td id=\"T_75970_row10_col5\" class=\"data row10 col5\" >0.4129</td>\n",
       "      <td id=\"T_75970_row10_col6\" class=\"data row10 col6\" >0.3857</td>\n",
       "      <td id=\"T_75970_row10_col7\" class=\"data row10 col7\" >0.0090</td>\n",
       "    </tr>\n",
       "    <tr>\n",
       "      <th id=\"T_75970_level0_row11\" class=\"row_heading level0 row11\" >lar</th>\n",
       "      <td id=\"T_75970_row11_col0\" class=\"data row11 col0\" >Least Angle Regression</td>\n",
       "      <td id=\"T_75970_row11_col1\" class=\"data row11 col1\" >6997.8188</td>\n",
       "      <td id=\"T_75970_row11_col2\" class=\"data row11 col2\" >94767846.4625</td>\n",
       "      <td id=\"T_75970_row11_col3\" class=\"data row11 col3\" >9578.7601</td>\n",
       "      <td id=\"T_75970_row11_col4\" class=\"data row11 col4\" >0.5307</td>\n",
       "      <td id=\"T_75970_row11_col5\" class=\"data row11 col5\" >0.4129</td>\n",
       "      <td id=\"T_75970_row11_col6\" class=\"data row11 col6\" >0.3856</td>\n",
       "      <td id=\"T_75970_row11_col7\" class=\"data row11 col7\" >0.0100</td>\n",
       "    </tr>\n",
       "    <tr>\n",
       "      <th id=\"T_75970_level0_row12\" class=\"row_heading level0 row12\" >llar</th>\n",
       "      <td id=\"T_75970_row12_col0\" class=\"data row12 col0\" >Lasso Least Angle Regression</td>\n",
       "      <td id=\"T_75970_row12_col1\" class=\"data row12 col1\" >7004.2307</td>\n",
       "      <td id=\"T_75970_row12_col2\" class=\"data row12 col2\" >94765212.1536</td>\n",
       "      <td id=\"T_75970_row12_col3\" class=\"data row12 col3\" >9579.9221</td>\n",
       "      <td id=\"T_75970_row12_col4\" class=\"data row12 col4\" >0.5307</td>\n",
       "      <td id=\"T_75970_row12_col5\" class=\"data row12 col5\" >0.4134</td>\n",
       "      <td id=\"T_75970_row12_col6\" class=\"data row12 col6\" >0.3865</td>\n",
       "      <td id=\"T_75970_row12_col7\" class=\"data row12 col7\" >0.0090</td>\n",
       "    </tr>\n",
       "    <tr>\n",
       "      <th id=\"T_75970_level0_row13\" class=\"row_heading level0 row13\" >ridge</th>\n",
       "      <td id=\"T_75970_row13_col0\" class=\"data row13 col0\" >Ridge Regression</td>\n",
       "      <td id=\"T_75970_row13_col1\" class=\"data row13 col1\" >6998.2712</td>\n",
       "      <td id=\"T_75970_row13_col2\" class=\"data row13 col2\" >94765030.4612</td>\n",
       "      <td id=\"T_75970_row13_col3\" class=\"data row13 col3\" >9578.7378</td>\n",
       "      <td id=\"T_75970_row13_col4\" class=\"data row13 col4\" >0.5307</td>\n",
       "      <td id=\"T_75970_row13_col5\" class=\"data row13 col5\" >0.4129</td>\n",
       "      <td id=\"T_75970_row13_col6\" class=\"data row13 col6\" >0.3857</td>\n",
       "      <td id=\"T_75970_row13_col7\" class=\"data row13 col7\" >0.0090</td>\n",
       "    </tr>\n",
       "    <tr>\n",
       "      <th id=\"T_75970_level0_row14\" class=\"row_heading level0 row14\" >br</th>\n",
       "      <td id=\"T_75970_row14_col0\" class=\"data row14 col0\" >Bayesian Ridge</td>\n",
       "      <td id=\"T_75970_row14_col1\" class=\"data row14 col1\" >7006.9687</td>\n",
       "      <td id=\"T_75970_row14_col2\" class=\"data row14 col2\" >94792764.2263</td>\n",
       "      <td id=\"T_75970_row14_col3\" class=\"data row14 col3\" >9581.4787</td>\n",
       "      <td id=\"T_75970_row14_col4\" class=\"data row14 col4\" >0.5305</td>\n",
       "      <td id=\"T_75970_row14_col5\" class=\"data row14 col5\" >0.4133</td>\n",
       "      <td id=\"T_75970_row14_col6\" class=\"data row14 col6\" >0.3864</td>\n",
       "      <td id=\"T_75970_row14_col7\" class=\"data row14 col7\" >0.0090</td>\n",
       "    </tr>\n",
       "    <tr>\n",
       "      <th id=\"T_75970_level0_row15\" class=\"row_heading level0 row15\" >huber</th>\n",
       "      <td id=\"T_75970_row15_col0\" class=\"data row15 col0\" >Huber Regressor</td>\n",
       "      <td id=\"T_75970_row15_col1\" class=\"data row15 col1\" >6793.3979</td>\n",
       "      <td id=\"T_75970_row15_col2\" class=\"data row15 col2\" >95026942.1158</td>\n",
       "      <td id=\"T_75970_row15_col3\" class=\"data row15 col3\" >9579.6795</td>\n",
       "      <td id=\"T_75970_row15_col4\" class=\"data row15 col4\" >0.5292</td>\n",
       "      <td id=\"T_75970_row15_col5\" class=\"data row15 col5\" >0.3934</td>\n",
       "      <td id=\"T_75970_row15_col6\" class=\"data row15 col6\" >0.3432</td>\n",
       "      <td id=\"T_75970_row15_col7\" class=\"data row15 col7\" >0.0100</td>\n",
       "    </tr>\n",
       "    <tr>\n",
       "      <th id=\"T_75970_level0_row16\" class=\"row_heading level0 row16\" >en</th>\n",
       "      <td id=\"T_75970_row16_col0\" class=\"data row16 col0\" >Elastic Net</td>\n",
       "      <td id=\"T_75970_row16_col1\" class=\"data row16 col1\" >7109.9669</td>\n",
       "      <td id=\"T_75970_row16_col2\" class=\"data row16 col2\" >95287073.4873</td>\n",
       "      <td id=\"T_75970_row16_col3\" class=\"data row16 col3\" >9626.9057</td>\n",
       "      <td id=\"T_75970_row16_col4\" class=\"data row16 col4\" >0.5276</td>\n",
       "      <td id=\"T_75970_row16_col5\" class=\"data row16 col5\" >0.4203</td>\n",
       "      <td id=\"T_75970_row16_col6\" class=\"data row16 col6\" >0.3965</td>\n",
       "      <td id=\"T_75970_row16_col7\" class=\"data row16 col7\" >0.0090</td>\n",
       "    </tr>\n",
       "    <tr>\n",
       "      <th id=\"T_75970_level0_row17\" class=\"row_heading level0 row17\" >omp</th>\n",
       "      <td id=\"T_75970_row17_col0\" class=\"data row17 col0\" >Orthogonal Matching Pursuit</td>\n",
       "      <td id=\"T_75970_row17_col1\" class=\"data row17 col1\" >7193.8117</td>\n",
       "      <td id=\"T_75970_row17_col2\" class=\"data row17 col2\" >96840915.2584</td>\n",
       "      <td id=\"T_75970_row17_col3\" class=\"data row17 col3\" >9713.1809</td>\n",
       "      <td id=\"T_75970_row17_col4\" class=\"data row17 col4\" >0.5186</td>\n",
       "      <td id=\"T_75970_row17_col5\" class=\"data row17 col5\" >0.4231</td>\n",
       "      <td id=\"T_75970_row17_col6\" class=\"data row17 col6\" >0.3989</td>\n",
       "      <td id=\"T_75970_row17_col7\" class=\"data row17 col7\" >0.0090</td>\n",
       "    </tr>\n",
       "    <tr>\n",
       "      <th id=\"T_75970_level0_row18\" class=\"row_heading level0 row18\" >par</th>\n",
       "      <td id=\"T_75970_row18_col0\" class=\"data row18 col0\" >Passive Aggressive Regressor</td>\n",
       "      <td id=\"T_75970_row18_col1\" class=\"data row18 col1\" >7021.2506</td>\n",
       "      <td id=\"T_75970_row18_col2\" class=\"data row18 col2\" >103667424.7103</td>\n",
       "      <td id=\"T_75970_row18_col3\" class=\"data row18 col3\" >10023.3542</td>\n",
       "      <td id=\"T_75970_row18_col4\" class=\"data row18 col4\" >0.4833</td>\n",
       "      <td id=\"T_75970_row18_col5\" class=\"data row18 col5\" >0.3953</td>\n",
       "      <td id=\"T_75970_row18_col6\" class=\"data row18 col6\" >0.3155</td>\n",
       "      <td id=\"T_75970_row18_col7\" class=\"data row18 col7\" >0.0090</td>\n",
       "    </tr>\n",
       "    <tr>\n",
       "      <th id=\"T_75970_level0_row19\" class=\"row_heading level0 row19\" >dummy</th>\n",
       "      <td id=\"T_75970_row19_col0\" class=\"data row19 col0\" >Dummy Regressor</td>\n",
       "      <td id=\"T_75970_row19_col1\" class=\"data row19 col1\" >10910.5786</td>\n",
       "      <td id=\"T_75970_row19_col2\" class=\"data row19 col2\" >208826066.6513</td>\n",
       "      <td id=\"T_75970_row19_col3\" class=\"data row19 col3\" >14281.8945</td>\n",
       "      <td id=\"T_75970_row19_col4\" class=\"data row19 col4\" >-0.0170</td>\n",
       "      <td id=\"T_75970_row19_col5\" class=\"data row19 col5\" >0.6423</td>\n",
       "      <td id=\"T_75970_row19_col6\" class=\"data row19 col6\" >0.7056</td>\n",
       "      <td id=\"T_75970_row19_col7\" class=\"data row19 col7\" >0.0090</td>\n",
       "    </tr>\n",
       "  </tbody>\n",
       "</table>\n"
      ],
      "text/plain": [
       "<pandas.io.formats.style.Styler at 0x7f9db642ce80>"
      ]
     },
     "metadata": {},
     "output_type": "display_data"
    },
    {
     "data": {
      "application/vnd.jupyter.widget-view+json": {
       "model_id": "",
       "version_major": 2,
       "version_minor": 0
      },
      "text/plain": [
       "Processing:   0%|          | 0/85 [00:00<?, ?it/s]"
      ]
     },
     "metadata": {},
     "output_type": "display_data"
    },
    {
     "data": {
      "text/plain": [
       "<catboost.core.CatBoostRegressor at 0x7f9db63c53d0>"
      ]
     },
     "execution_count": 20,
     "metadata": {},
     "output_type": "execute_result"
    }
   ],
   "source": [
    "compare_models()"
   ]
  },
  {
   "cell_type": "code",
   "execution_count": null,
   "metadata": {},
   "outputs": [],
   "source": []
  },
  {
   "cell_type": "markdown",
   "metadata": {},
   "source": [
    "Note\n",
    "---\n",
    "1. There are more than 20 models testd, awesome.\n",
    "2. How many model do you know? `lr` mesns `linear regression` only, right? But it is not the best one of tested models, from the measures:\n",
    "   - MAE, Mean Absolute Error\n",
    "$$\\text{ MSE } = \\frac{1}{n}\\sum_i|y_i-\\hat y_i|$$   \n",
    "   - MSE, Mean Square Error\n",
    "$$\\text{ MSE } = \\frac{1}{n}\\sum_i(y_i-\\hat y_i)^2$$ \n",
    "3. Here suggests the best one is `catboost`, a tree-based regression."
   ]
  },
  {
   "cell_type": "code",
   "execution_count": 21,
   "metadata": {},
   "outputs": [
    {
     "data": {
      "text/html": [],
      "text/plain": [
       "<IPython.core.display.HTML object>"
      ]
     },
     "metadata": {},
     "output_type": "display_data"
    },
    {
     "data": {
      "text/html": [
       "<style type=\"text/css\">\n",
       "#T_ee6a1_row10_col0, #T_ee6a1_row10_col1, #T_ee6a1_row10_col2, #T_ee6a1_row10_col3, #T_ee6a1_row10_col4, #T_ee6a1_row10_col5 {\n",
       "  background: yellow;\n",
       "}\n",
       "</style>\n",
       "<table id=\"T_ee6a1\">\n",
       "  <thead>\n",
       "    <tr>\n",
       "      <th class=\"blank level0\" >&nbsp;</th>\n",
       "      <th id=\"T_ee6a1_level0_col0\" class=\"col_heading level0 col0\" >MAE</th>\n",
       "      <th id=\"T_ee6a1_level0_col1\" class=\"col_heading level0 col1\" >MSE</th>\n",
       "      <th id=\"T_ee6a1_level0_col2\" class=\"col_heading level0 col2\" >RMSE</th>\n",
       "      <th id=\"T_ee6a1_level0_col3\" class=\"col_heading level0 col3\" >R2</th>\n",
       "      <th id=\"T_ee6a1_level0_col4\" class=\"col_heading level0 col4\" >RMSLE</th>\n",
       "      <th id=\"T_ee6a1_level0_col5\" class=\"col_heading level0 col5\" >MAPE</th>\n",
       "    </tr>\n",
       "    <tr>\n",
       "      <th class=\"index_name level0\" >Fold</th>\n",
       "      <th class=\"blank col0\" >&nbsp;</th>\n",
       "      <th class=\"blank col1\" >&nbsp;</th>\n",
       "      <th class=\"blank col2\" >&nbsp;</th>\n",
       "      <th class=\"blank col3\" >&nbsp;</th>\n",
       "      <th class=\"blank col4\" >&nbsp;</th>\n",
       "      <th class=\"blank col5\" >&nbsp;</th>\n",
       "    </tr>\n",
       "  </thead>\n",
       "  <tbody>\n",
       "    <tr>\n",
       "      <th id=\"T_ee6a1_level0_row0\" class=\"row_heading level0 row0\" >0</th>\n",
       "      <td id=\"T_ee6a1_row0_col0\" class=\"data row0 col0\" >5739.4896</td>\n",
       "      <td id=\"T_ee6a1_row0_col1\" class=\"data row0 col1\" >70606456.3755</td>\n",
       "      <td id=\"T_ee6a1_row0_col2\" class=\"data row0 col2\" >8402.7648</td>\n",
       "      <td id=\"T_ee6a1_row0_col3\" class=\"data row0 col3\" >0.7988</td>\n",
       "      <td id=\"T_ee6a1_row0_col4\" class=\"data row0 col4\" >0.3680</td>\n",
       "      <td id=\"T_ee6a1_row0_col5\" class=\"data row0 col5\" >0.2880</td>\n",
       "    </tr>\n",
       "    <tr>\n",
       "      <th id=\"T_ee6a1_level0_row1\" class=\"row_heading level0 row1\" >1</th>\n",
       "      <td id=\"T_ee6a1_row1_col0\" class=\"data row1 col0\" >5122.2373</td>\n",
       "      <td id=\"T_ee6a1_row1_col1\" class=\"data row1 col1\" >44998711.0032</td>\n",
       "      <td id=\"T_ee6a1_row1_col2\" class=\"data row1 col2\" >6708.1079</td>\n",
       "      <td id=\"T_ee6a1_row1_col3\" class=\"data row1 col3\" >0.6554</td>\n",
       "      <td id=\"T_ee6a1_row1_col4\" class=\"data row1 col4\" >0.3720</td>\n",
       "      <td id=\"T_ee6a1_row1_col5\" class=\"data row1 col5\" >0.3292</td>\n",
       "    </tr>\n",
       "    <tr>\n",
       "      <th id=\"T_ee6a1_level0_row2\" class=\"row_heading level0 row2\" >2</th>\n",
       "      <td id=\"T_ee6a1_row2_col0\" class=\"data row2 col0\" >5682.1813</td>\n",
       "      <td id=\"T_ee6a1_row2_col1\" class=\"data row2 col1\" >57991884.1273</td>\n",
       "      <td id=\"T_ee6a1_row2_col2\" class=\"data row2 col2\" >7615.2403</td>\n",
       "      <td id=\"T_ee6a1_row2_col3\" class=\"data row2 col3\" >0.5695</td>\n",
       "      <td id=\"T_ee6a1_row2_col4\" class=\"data row2 col4\" >0.3444</td>\n",
       "      <td id=\"T_ee6a1_row2_col5\" class=\"data row2 col5\" >0.2953</td>\n",
       "    </tr>\n",
       "    <tr>\n",
       "      <th id=\"T_ee6a1_level0_row3\" class=\"row_heading level0 row3\" >3</th>\n",
       "      <td id=\"T_ee6a1_row3_col0\" class=\"data row3 col0\" >6689.6403</td>\n",
       "      <td id=\"T_ee6a1_row3_col1\" class=\"data row3 col1\" >123422459.0265</td>\n",
       "      <td id=\"T_ee6a1_row3_col2\" class=\"data row3 col2\" >11109.5661</td>\n",
       "      <td id=\"T_ee6a1_row3_col3\" class=\"data row3 col3\" >0.4628</td>\n",
       "      <td id=\"T_ee6a1_row3_col4\" class=\"data row3 col4\" >0.3831</td>\n",
       "      <td id=\"T_ee6a1_row3_col5\" class=\"data row3 col5\" >0.3102</td>\n",
       "    </tr>\n",
       "    <tr>\n",
       "      <th id=\"T_ee6a1_level0_row4\" class=\"row_heading level0 row4\" >4</th>\n",
       "      <td id=\"T_ee6a1_row4_col0\" class=\"data row4 col0\" >6950.5066</td>\n",
       "      <td id=\"T_ee6a1_row4_col1\" class=\"data row4 col1\" >119028582.9083</td>\n",
       "      <td id=\"T_ee6a1_row4_col2\" class=\"data row4 col2\" >10910.0221</td>\n",
       "      <td id=\"T_ee6a1_row4_col3\" class=\"data row4 col3\" >0.4664</td>\n",
       "      <td id=\"T_ee6a1_row4_col4\" class=\"data row4 col4\" >0.3808</td>\n",
       "      <td id=\"T_ee6a1_row4_col5\" class=\"data row4 col5\" >0.3225</td>\n",
       "    </tr>\n",
       "    <tr>\n",
       "      <th id=\"T_ee6a1_level0_row5\" class=\"row_heading level0 row5\" >5</th>\n",
       "      <td id=\"T_ee6a1_row5_col0\" class=\"data row5 col0\" >5836.1977</td>\n",
       "      <td id=\"T_ee6a1_row5_col1\" class=\"data row5 col1\" >65778595.6655</td>\n",
       "      <td id=\"T_ee6a1_row5_col2\" class=\"data row5 col2\" >8110.4005</td>\n",
       "      <td id=\"T_ee6a1_row5_col3\" class=\"data row5 col3\" >0.7163</td>\n",
       "      <td id=\"T_ee6a1_row5_col4\" class=\"data row5 col4\" >0.3438</td>\n",
       "      <td id=\"T_ee6a1_row5_col5\" class=\"data row5 col5\" >0.2897</td>\n",
       "    </tr>\n",
       "    <tr>\n",
       "      <th id=\"T_ee6a1_level0_row6\" class=\"row_heading level0 row6\" >6</th>\n",
       "      <td id=\"T_ee6a1_row6_col0\" class=\"data row6 col0\" >4985.4172</td>\n",
       "      <td id=\"T_ee6a1_row6_col1\" class=\"data row6 col1\" >52902181.2143</td>\n",
       "      <td id=\"T_ee6a1_row6_col2\" class=\"data row6 col2\" >7273.3886</td>\n",
       "      <td id=\"T_ee6a1_row6_col3\" class=\"data row6 col3\" >0.8076</td>\n",
       "      <td id=\"T_ee6a1_row6_col4\" class=\"data row6 col4\" >0.3122</td>\n",
       "      <td id=\"T_ee6a1_row6_col5\" class=\"data row6 col5\" >0.2516</td>\n",
       "    </tr>\n",
       "    <tr>\n",
       "      <th id=\"T_ee6a1_level0_row7\" class=\"row_heading level0 row7\" >7</th>\n",
       "      <td id=\"T_ee6a1_row7_col0\" class=\"data row7 col0\" >5303.8385</td>\n",
       "      <td id=\"T_ee6a1_row7_col1\" class=\"data row7 col1\" >49851840.8365</td>\n",
       "      <td id=\"T_ee6a1_row7_col2\" class=\"data row7 col2\" >7060.5836</td>\n",
       "      <td id=\"T_ee6a1_row7_col3\" class=\"data row7 col3\" >0.7001</td>\n",
       "      <td id=\"T_ee6a1_row7_col4\" class=\"data row7 col4\" >0.3198</td>\n",
       "      <td id=\"T_ee6a1_row7_col5\" class=\"data row7 col5\" >0.2858</td>\n",
       "    </tr>\n",
       "    <tr>\n",
       "      <th id=\"T_ee6a1_level0_row8\" class=\"row_heading level0 row8\" >8</th>\n",
       "      <td id=\"T_ee6a1_row8_col0\" class=\"data row8 col0\" >5447.7326</td>\n",
       "      <td id=\"T_ee6a1_row8_col1\" class=\"data row8 col1\" >50177924.8270</td>\n",
       "      <td id=\"T_ee6a1_row8_col2\" class=\"data row8 col2\" >7083.6378</td>\n",
       "      <td id=\"T_ee6a1_row8_col3\" class=\"data row8 col3\" >0.6766</td>\n",
       "      <td id=\"T_ee6a1_row8_col4\" class=\"data row8 col4\" >0.3093</td>\n",
       "      <td id=\"T_ee6a1_row8_col5\" class=\"data row8 col5\" >0.2755</td>\n",
       "    </tr>\n",
       "    <tr>\n",
       "      <th id=\"T_ee6a1_level0_row9\" class=\"row_heading level0 row9\" >9</th>\n",
       "      <td id=\"T_ee6a1_row9_col0\" class=\"data row9 col0\" >5401.6764</td>\n",
       "      <td id=\"T_ee6a1_row9_col1\" class=\"data row9 col1\" >46574241.9280</td>\n",
       "      <td id=\"T_ee6a1_row9_col2\" class=\"data row9 col2\" >6824.5324</td>\n",
       "      <td id=\"T_ee6a1_row9_col3\" class=\"data row9 col3\" >0.7114</td>\n",
       "      <td id=\"T_ee6a1_row9_col4\" class=\"data row9 col4\" >0.3304</td>\n",
       "      <td id=\"T_ee6a1_row9_col5\" class=\"data row9 col5\" >0.2857</td>\n",
       "    </tr>\n",
       "    <tr>\n",
       "      <th id=\"T_ee6a1_level0_row10\" class=\"row_heading level0 row10\" >Mean</th>\n",
       "      <td id=\"T_ee6a1_row10_col0\" class=\"data row10 col0\" >5715.8918</td>\n",
       "      <td id=\"T_ee6a1_row10_col1\" class=\"data row10 col1\" >68133287.7912</td>\n",
       "      <td id=\"T_ee6a1_row10_col2\" class=\"data row10 col2\" >8109.8244</td>\n",
       "      <td id=\"T_ee6a1_row10_col3\" class=\"data row10 col3\" >0.6565</td>\n",
       "      <td id=\"T_ee6a1_row10_col4\" class=\"data row10 col4\" >0.3464</td>\n",
       "      <td id=\"T_ee6a1_row10_col5\" class=\"data row10 col5\" >0.2933</td>\n",
       "    </tr>\n",
       "    <tr>\n",
       "      <th id=\"T_ee6a1_level0_row11\" class=\"row_heading level0 row11\" >Std</th>\n",
       "      <td id=\"T_ee6a1_row11_col0\" class=\"data row11 col0\" >609.5141</td>\n",
       "      <td id=\"T_ee6a1_row11_col1\" class=\"data row11 col1\" >27659224.1363</td>\n",
       "      <td id=\"T_ee6a1_row11_col2\" class=\"data row11 col2\" >1537.5422</td>\n",
       "      <td id=\"T_ee6a1_row11_col3\" class=\"data row11 col3\" >0.1154</td>\n",
       "      <td id=\"T_ee6a1_row11_col4\" class=\"data row11 col4\" >0.0268</td>\n",
       "      <td id=\"T_ee6a1_row11_col5\" class=\"data row11 col5\" >0.0215</td>\n",
       "    </tr>\n",
       "  </tbody>\n",
       "</table>\n"
      ],
      "text/plain": [
       "<pandas.io.formats.style.Styler at 0x7f9db6277310>"
      ]
     },
     "metadata": {},
     "output_type": "display_data"
    },
    {
     "data": {
      "application/vnd.jupyter.widget-view+json": {
       "model_id": "",
       "version_major": 2,
       "version_minor": 0
      },
      "text/plain": [
       "Processing:   0%|          | 0/4 [00:00<?, ?it/s]"
      ]
     },
     "metadata": {},
     "output_type": "display_data"
    }
   ],
   "source": [
    "catboost = create_model('catboost')"
   ]
  },
  {
   "cell_type": "code",
   "execution_count": 22,
   "metadata": {},
   "outputs": [
    {
     "data": {
      "text/html": [],
      "text/plain": [
       "<IPython.core.display.HTML object>"
      ]
     },
     "metadata": {},
     "output_type": "display_data"
    },
    {
     "data": {
      "text/html": [
       "<style type=\"text/css\">\n",
       "#T_5b8a6_row5_col0, #T_5b8a6_row5_col1, #T_5b8a6_row5_col2, #T_5b8a6_row5_col3, #T_5b8a6_row5_col4, #T_5b8a6_row5_col5 {\n",
       "  background: yellow;\n",
       "}\n",
       "</style>\n",
       "<table id=\"T_5b8a6\">\n",
       "  <thead>\n",
       "    <tr>\n",
       "      <th class=\"blank level0\" >&nbsp;</th>\n",
       "      <th id=\"T_5b8a6_level0_col0\" class=\"col_heading level0 col0\" >MAE</th>\n",
       "      <th id=\"T_5b8a6_level0_col1\" class=\"col_heading level0 col1\" >MSE</th>\n",
       "      <th id=\"T_5b8a6_level0_col2\" class=\"col_heading level0 col2\" >RMSE</th>\n",
       "      <th id=\"T_5b8a6_level0_col3\" class=\"col_heading level0 col3\" >R2</th>\n",
       "      <th id=\"T_5b8a6_level0_col4\" class=\"col_heading level0 col4\" >RMSLE</th>\n",
       "      <th id=\"T_5b8a6_level0_col5\" class=\"col_heading level0 col5\" >MAPE</th>\n",
       "    </tr>\n",
       "    <tr>\n",
       "      <th class=\"index_name level0\" >Fold</th>\n",
       "      <th class=\"blank col0\" >&nbsp;</th>\n",
       "      <th class=\"blank col1\" >&nbsp;</th>\n",
       "      <th class=\"blank col2\" >&nbsp;</th>\n",
       "      <th class=\"blank col3\" >&nbsp;</th>\n",
       "      <th class=\"blank col4\" >&nbsp;</th>\n",
       "      <th class=\"blank col5\" >&nbsp;</th>\n",
       "    </tr>\n",
       "  </thead>\n",
       "  <tbody>\n",
       "    <tr>\n",
       "      <th id=\"T_5b8a6_level0_row0\" class=\"row_heading level0 row0\" >0</th>\n",
       "      <td id=\"T_5b8a6_row0_col0\" class=\"data row0 col0\" >5746.0189</td>\n",
       "      <td id=\"T_5b8a6_row0_col1\" class=\"data row0 col1\" >67164978.1154</td>\n",
       "      <td id=\"T_5b8a6_row0_col2\" class=\"data row0 col2\" >8195.4242</td>\n",
       "      <td id=\"T_5b8a6_row0_col3\" class=\"data row0 col3\" >0.7257</td>\n",
       "      <td id=\"T_5b8a6_row0_col4\" class=\"data row0 col4\" >0.3761</td>\n",
       "      <td id=\"T_5b8a6_row0_col5\" class=\"data row0 col5\" >0.3273</td>\n",
       "    </tr>\n",
       "    <tr>\n",
       "      <th id=\"T_5b8a6_level0_row1\" class=\"row_heading level0 row1\" >1</th>\n",
       "      <td id=\"T_5b8a6_row1_col0\" class=\"data row1 col0\" >6269.8049</td>\n",
       "      <td id=\"T_5b8a6_row1_col1\" class=\"data row1 col1\" >91001825.5040</td>\n",
       "      <td id=\"T_5b8a6_row1_col2\" class=\"data row1 col2\" >9539.4877</td>\n",
       "      <td id=\"T_5b8a6_row1_col3\" class=\"data row1 col3\" >0.5033</td>\n",
       "      <td id=\"T_5b8a6_row1_col4\" class=\"data row1 col4\" >0.3682</td>\n",
       "      <td id=\"T_5b8a6_row1_col5\" class=\"data row1 col5\" >0.3120</td>\n",
       "    </tr>\n",
       "    <tr>\n",
       "      <th id=\"T_5b8a6_level0_row2\" class=\"row_heading level0 row2\" >2</th>\n",
       "      <td id=\"T_5b8a6_row2_col0\" class=\"data row2 col0\" >6516.3917</td>\n",
       "      <td id=\"T_5b8a6_row2_col1\" class=\"data row2 col1\" >88234717.5315</td>\n",
       "      <td id=\"T_5b8a6_row2_col2\" class=\"data row2 col2\" >9393.3337</td>\n",
       "      <td id=\"T_5b8a6_row2_col3\" class=\"data row2 col3\" >0.6127</td>\n",
       "      <td id=\"T_5b8a6_row2_col4\" class=\"data row2 col4\" >0.3521</td>\n",
       "      <td id=\"T_5b8a6_row2_col5\" class=\"data row2 col5\" >0.3088</td>\n",
       "    </tr>\n",
       "    <tr>\n",
       "      <th id=\"T_5b8a6_level0_row3\" class=\"row_heading level0 row3\" >3</th>\n",
       "      <td id=\"T_5b8a6_row3_col0\" class=\"data row3 col0\" >5171.0551</td>\n",
       "      <td id=\"T_5b8a6_row3_col1\" class=\"data row3 col1\" >53087268.9952</td>\n",
       "      <td id=\"T_5b8a6_row3_col2\" class=\"data row3 col2\" >7286.1011</td>\n",
       "      <td id=\"T_5b8a6_row3_col3\" class=\"data row3 col3\" >0.7609</td>\n",
       "      <td id=\"T_5b8a6_row3_col4\" class=\"data row3 col4\" >0.3205</td>\n",
       "      <td id=\"T_5b8a6_row3_col5\" class=\"data row3 col5\" >0.2753</td>\n",
       "    </tr>\n",
       "    <tr>\n",
       "      <th id=\"T_5b8a6_level0_row4\" class=\"row_heading level0 row4\" >4</th>\n",
       "      <td id=\"T_5b8a6_row4_col0\" class=\"data row4 col0\" >5564.7606</td>\n",
       "      <td id=\"T_5b8a6_row4_col1\" class=\"data row4 col1\" >51750790.8935</td>\n",
       "      <td id=\"T_5b8a6_row4_col2\" class=\"data row4 col2\" >7193.8023</td>\n",
       "      <td id=\"T_5b8a6_row4_col3\" class=\"data row4 col3\" >0.6733</td>\n",
       "      <td id=\"T_5b8a6_row4_col4\" class=\"data row4 col4\" >0.3327</td>\n",
       "      <td id=\"T_5b8a6_row4_col5\" class=\"data row4 col5\" >0.2922</td>\n",
       "    </tr>\n",
       "    <tr>\n",
       "      <th id=\"T_5b8a6_level0_row5\" class=\"row_heading level0 row5\" >Mean</th>\n",
       "      <td id=\"T_5b8a6_row5_col0\" class=\"data row5 col0\" >5853.6063</td>\n",
       "      <td id=\"T_5b8a6_row5_col1\" class=\"data row5 col1\" >70247916.2079</td>\n",
       "      <td id=\"T_5b8a6_row5_col2\" class=\"data row5 col2\" >8321.6298</td>\n",
       "      <td id=\"T_5b8a6_row5_col3\" class=\"data row5 col3\" >0.6552</td>\n",
       "      <td id=\"T_5b8a6_row5_col4\" class=\"data row5 col4\" >0.3499</td>\n",
       "      <td id=\"T_5b8a6_row5_col5\" class=\"data row5 col5\" >0.3031</td>\n",
       "    </tr>\n",
       "    <tr>\n",
       "      <th id=\"T_5b8a6_level0_row6\" class=\"row_heading level0 row6\" >Std</th>\n",
       "      <td id=\"T_5b8a6_row6_col0\" class=\"data row6 col0\" >484.4355</td>\n",
       "      <td id=\"T_5b8a6_row6_col1\" class=\"data row6 col1\" >16735505.5966</td>\n",
       "      <td id=\"T_5b8a6_row6_col2\" class=\"data row6 col2\" >999.1966</td>\n",
       "      <td id=\"T_5b8a6_row6_col3\" class=\"data row6 col3\" >0.0909</td>\n",
       "      <td id=\"T_5b8a6_row6_col4\" class=\"data row6 col4\" >0.0209</td>\n",
       "      <td id=\"T_5b8a6_row6_col5\" class=\"data row6 col5\" >0.0179</td>\n",
       "    </tr>\n",
       "  </tbody>\n",
       "</table>\n"
      ],
      "text/plain": [
       "<pandas.io.formats.style.Styler at 0x7f9db3f26490>"
      ]
     },
     "metadata": {},
     "output_type": "display_data"
    },
    {
     "data": {
      "application/vnd.jupyter.widget-view+json": {
       "model_id": "",
       "version_major": 2,
       "version_minor": 0
      },
      "text/plain": [
       "Processing:   0%|          | 0/7 [00:00<?, ?it/s]"
      ]
     },
     "metadata": {},
     "output_type": "display_data"
    },
    {
     "name": "stdout",
     "output_type": "stream",
     "text": [
      "Fitting 5 folds for each of 10 candidates, totalling 50 fits\n",
      "Original model was better than the tuned model, hence it will be returned. NOTE: The display metrics are for the tuned model (not the original one).\n"
     ]
    }
   ],
   "source": [
    "# Hyper tuning of the model\n",
    "catboost = tune_model(catboost, fold=5)"
   ]
  },
  {
   "cell_type": "code",
   "execution_count": 24,
   "metadata": {},
   "outputs": [
    {
     "data": {
      "text/html": [
       "<style type=\"text/css\">\n",
       "</style>\n",
       "<table id=\"T_240b0\">\n",
       "  <thead>\n",
       "    <tr>\n",
       "      <th class=\"blank level0\" >&nbsp;</th>\n",
       "      <th id=\"T_240b0_level0_col0\" class=\"col_heading level0 col0\" >Model</th>\n",
       "      <th id=\"T_240b0_level0_col1\" class=\"col_heading level0 col1\" >MAE</th>\n",
       "      <th id=\"T_240b0_level0_col2\" class=\"col_heading level0 col2\" >MSE</th>\n",
       "      <th id=\"T_240b0_level0_col3\" class=\"col_heading level0 col3\" >RMSE</th>\n",
       "      <th id=\"T_240b0_level0_col4\" class=\"col_heading level0 col4\" >R2</th>\n",
       "      <th id=\"T_240b0_level0_col5\" class=\"col_heading level0 col5\" >RMSLE</th>\n",
       "      <th id=\"T_240b0_level0_col6\" class=\"col_heading level0 col6\" >MAPE</th>\n",
       "    </tr>\n",
       "  </thead>\n",
       "  <tbody>\n",
       "    <tr>\n",
       "      <th id=\"T_240b0_level0_row0\" class=\"row_heading level0 row0\" >0</th>\n",
       "      <td id=\"T_240b0_row0_col0\" class=\"data row0 col0\" >CatBoost Regressor</td>\n",
       "      <td id=\"T_240b0_row0_col1\" class=\"data row0 col1\" >5899.1750</td>\n",
       "      <td id=\"T_240b0_row0_col2\" class=\"data row0 col2\" >74393024.7417</td>\n",
       "      <td id=\"T_240b0_row0_col3\" class=\"data row0 col3\" >8625.1391</td>\n",
       "      <td id=\"T_240b0_row0_col4\" class=\"data row0 col4\" >0.6559</td>\n",
       "      <td id=\"T_240b0_row0_col5\" class=\"data row0 col5\" >0.3594</td>\n",
       "      <td id=\"T_240b0_row0_col6\" class=\"data row0 col6\" >0.3034</td>\n",
       "    </tr>\n",
       "  </tbody>\n",
       "</table>\n"
      ],
      "text/plain": [
       "<pandas.io.formats.style.Styler at 0x7f9db1c85e50>"
      ]
     },
     "metadata": {},
     "output_type": "display_data"
    }
   ],
   "source": [
    "pred_cat = predict_model(catboost)"
   ]
  },
  {
   "cell_type": "code",
   "execution_count": 25,
   "metadata": {},
   "outputs": [
    {
     "data": {
      "text/html": [
       "<div>\n",
       "<style scoped>\n",
       "    .dataframe tbody tr th:only-of-type {\n",
       "        vertical-align: middle;\n",
       "    }\n",
       "\n",
       "    .dataframe tbody tr th {\n",
       "        vertical-align: top;\n",
       "    }\n",
       "\n",
       "    .dataframe thead th {\n",
       "        text-align: right;\n",
       "    }\n",
       "</style>\n",
       "<table border=\"1\" class=\"dataframe\">\n",
       "  <thead>\n",
       "    <tr style=\"text-align: right;\">\n",
       "      <th></th>\n",
       "      <th>Ram</th>\n",
       "      <th>Weight</th>\n",
       "      <th>Price</th>\n",
       "      <th>prediction_label</th>\n",
       "    </tr>\n",
       "  </thead>\n",
       "  <tbody>\n",
       "    <tr>\n",
       "      <th>912</th>\n",
       "      <td>8.0</td>\n",
       "      <td>2.50</td>\n",
       "      <td>13200</td>\n",
       "      <td>20283.479942</td>\n",
       "    </tr>\n",
       "    <tr>\n",
       "      <th>913</th>\n",
       "      <td>12.0</td>\n",
       "      <td>2.62</td>\n",
       "      <td>37300</td>\n",
       "      <td>24025.474723</td>\n",
       "    </tr>\n",
       "    <tr>\n",
       "      <th>914</th>\n",
       "      <td>16.0</td>\n",
       "      <td>3.42</td>\n",
       "      <td>59900</td>\n",
       "      <td>39933.600478</td>\n",
       "    </tr>\n",
       "    <tr>\n",
       "      <th>915</th>\n",
       "      <td>8.0</td>\n",
       "      <td>2.06</td>\n",
       "      <td>36300</td>\n",
       "      <td>18525.612433</td>\n",
       "    </tr>\n",
       "    <tr>\n",
       "      <th>916</th>\n",
       "      <td>4.0</td>\n",
       "      <td>2.20</td>\n",
       "      <td>14100</td>\n",
       "      <td>10031.819511</td>\n",
       "    </tr>\n",
       "    <tr>\n",
       "      <th>...</th>\n",
       "      <td>...</td>\n",
       "      <td>...</td>\n",
       "      <td>...</td>\n",
       "      <td>...</td>\n",
       "    </tr>\n",
       "    <tr>\n",
       "      <th>1298</th>\n",
       "      <td>8.0</td>\n",
       "      <td>2.18</td>\n",
       "      <td>14800</td>\n",
       "      <td>19024.971423</td>\n",
       "    </tr>\n",
       "    <tr>\n",
       "      <th>1299</th>\n",
       "      <td>8.0</td>\n",
       "      <td>2.04</td>\n",
       "      <td>18400</td>\n",
       "      <td>18001.144533</td>\n",
       "    </tr>\n",
       "    <tr>\n",
       "      <th>1300</th>\n",
       "      <td>8.0</td>\n",
       "      <td>1.10</td>\n",
       "      <td>32300</td>\n",
       "      <td>30010.372152</td>\n",
       "    </tr>\n",
       "    <tr>\n",
       "      <th>1301</th>\n",
       "      <td>8.0</td>\n",
       "      <td>4.42</td>\n",
       "      <td>42500</td>\n",
       "      <td>37120.499268</td>\n",
       "    </tr>\n",
       "    <tr>\n",
       "      <th>1302</th>\n",
       "      <td>12.0</td>\n",
       "      <td>2.25</td>\n",
       "      <td>13400</td>\n",
       "      <td>20453.846198</td>\n",
       "    </tr>\n",
       "  </tbody>\n",
       "</table>\n",
       "<p>391 rows × 4 columns</p>\n",
       "</div>"
      ],
      "text/plain": [
       "       Ram  Weight  Price  prediction_label\n",
       "912    8.0    2.50  13200      20283.479942\n",
       "913   12.0    2.62  37300      24025.474723\n",
       "914   16.0    3.42  59900      39933.600478\n",
       "915    8.0    2.06  36300      18525.612433\n",
       "916    4.0    2.20  14100      10031.819511\n",
       "...    ...     ...    ...               ...\n",
       "1298   8.0    2.18  14800      19024.971423\n",
       "1299   8.0    2.04  18400      18001.144533\n",
       "1300   8.0    1.10  32300      30010.372152\n",
       "1301   8.0    4.42  42500      37120.499268\n",
       "1302  12.0    2.25  13400      20453.846198\n",
       "\n",
       "[391 rows x 4 columns]"
      ]
     },
     "execution_count": 25,
     "metadata": {},
     "output_type": "execute_result"
    }
   ],
   "source": [
    "pred_cat"
   ]
  },
  {
   "cell_type": "code",
   "execution_count": 30,
   "metadata": {},
   "outputs": [
    {
     "data": {
      "image/png": "[encoded data removed]",
      "text/plain": [
       "<Figure size 864x432 with 1 Axes>"
      ]
     },
     "metadata": {
      "needs_background": "light"
     },
     "output_type": "display_data"
    }
   ],
   "source": [
    "pred_cat[['Price','prediction_label']].plot(figsize=[12,6]);"
   ]
  },
  {
   "cell_type": "code",
   "execution_count": null,
   "metadata": {},
   "outputs": [],
   "source": []
  },
  {
   "cell_type": "code",
   "execution_count": 33,
   "metadata": {
    "scrolled": true
   },
   "outputs": [
    {
     "data": {
      "text/html": [],
      "text/plain": [
       "<IPython.core.display.HTML object>"
      ]
     },
     "metadata": {},
     "output_type": "display_data"
    },
    {
     "data": {
      "text/html": [
       "<div>\n",
       "<style scoped>\n",
       "    .dataframe tbody tr th:only-of-type {\n",
       "        vertical-align: middle;\n",
       "    }\n",
       "\n",
       "    .dataframe tbody tr th {\n",
       "        vertical-align: top;\n",
       "    }\n",
       "\n",
       "    .dataframe thead th {\n",
       "        text-align: right;\n",
       "    }\n",
       "</style>\n",
       "<table border=\"1\" class=\"dataframe\">\n",
       "  <thead>\n",
       "    <tr style=\"text-align: right;\">\n",
       "      <th></th>\n",
       "      <th>Parameters</th>\n",
       "    </tr>\n",
       "  </thead>\n",
       "  <tbody>\n",
       "    <tr>\n",
       "      <th>nan_mode</th>\n",
       "      <td>Min</td>\n",
       "    </tr>\n",
       "    <tr>\n",
       "      <th>eval_metric</th>\n",
       "      <td>RMSE</td>\n",
       "    </tr>\n",
       "    <tr>\n",
       "      <th>iterations</th>\n",
       "      <td>1000</td>\n",
       "    </tr>\n",
       "    <tr>\n",
       "      <th>sampling_frequency</th>\n",
       "      <td>PerTree</td>\n",
       "    </tr>\n",
       "    <tr>\n",
       "      <th>leaf_estimation_method</th>\n",
       "      <td>Newton</td>\n",
       "    </tr>\n",
       "    <tr>\n",
       "      <th>grow_policy</th>\n",
       "      <td>SymmetricTree</td>\n",
       "    </tr>\n",
       "    <tr>\n",
       "      <th>penalties_coefficient</th>\n",
       "      <td>1</td>\n",
       "    </tr>\n",
       "    <tr>\n",
       "      <th>boosting_type</th>\n",
       "      <td>Plain</td>\n",
       "    </tr>\n",
       "    <tr>\n",
       "      <th>model_shrink_mode</th>\n",
       "      <td>Constant</td>\n",
       "    </tr>\n",
       "    <tr>\n",
       "      <th>feature_border_type</th>\n",
       "      <td>GreedyLogSum</td>\n",
       "    </tr>\n",
       "    <tr>\n",
       "      <th>bayesian_matrix_reg</th>\n",
       "      <td>0.10000000149011612</td>\n",
       "    </tr>\n",
       "    <tr>\n",
       "      <th>l2_leaf_reg</th>\n",
       "      <td>3</td>\n",
       "    </tr>\n",
       "    <tr>\n",
       "      <th>random_strength</th>\n",
       "      <td>1</td>\n",
       "    </tr>\n",
       "    <tr>\n",
       "      <th>rsm</th>\n",
       "      <td>1</td>\n",
       "    </tr>\n",
       "    <tr>\n",
       "      <th>boost_from_average</th>\n",
       "      <td>True</td>\n",
       "    </tr>\n",
       "    <tr>\n",
       "      <th>model_size_reg</th>\n",
       "      <td>0.5</td>\n",
       "    </tr>\n",
       "    <tr>\n",
       "      <th>subsample</th>\n",
       "      <td>0.800000011920929</td>\n",
       "    </tr>\n",
       "    <tr>\n",
       "      <th>use_best_model</th>\n",
       "      <td>False</td>\n",
       "    </tr>\n",
       "    <tr>\n",
       "      <th>random_seed</th>\n",
       "      <td>2766</td>\n",
       "    </tr>\n",
       "    <tr>\n",
       "      <th>depth</th>\n",
       "      <td>6</td>\n",
       "    </tr>\n",
       "    <tr>\n",
       "      <th>posterior_sampling</th>\n",
       "      <td>False</td>\n",
       "    </tr>\n",
       "    <tr>\n",
       "      <th>border_count</th>\n",
       "      <td>254</td>\n",
       "    </tr>\n",
       "    <tr>\n",
       "      <th>classes_count</th>\n",
       "      <td>0</td>\n",
       "    </tr>\n",
       "    <tr>\n",
       "      <th>auto_class_weights</th>\n",
       "      <td>None</td>\n",
       "    </tr>\n",
       "    <tr>\n",
       "      <th>sparse_features_conflict_fraction</th>\n",
       "      <td>0</td>\n",
       "    </tr>\n",
       "    <tr>\n",
       "      <th>leaf_estimation_backtracking</th>\n",
       "      <td>AnyImprovement</td>\n",
       "    </tr>\n",
       "    <tr>\n",
       "      <th>best_model_min_trees</th>\n",
       "      <td>1</td>\n",
       "    </tr>\n",
       "    <tr>\n",
       "      <th>model_shrink_rate</th>\n",
       "      <td>0</td>\n",
       "    </tr>\n",
       "    <tr>\n",
       "      <th>min_data_in_leaf</th>\n",
       "      <td>1</td>\n",
       "    </tr>\n",
       "    <tr>\n",
       "      <th>loss_function</th>\n",
       "      <td>RMSE</td>\n",
       "    </tr>\n",
       "    <tr>\n",
       "      <th>learning_rate</th>\n",
       "      <td>0.038394998759031296</td>\n",
       "    </tr>\n",
       "    <tr>\n",
       "      <th>score_function</th>\n",
       "      <td>Cosine</td>\n",
       "    </tr>\n",
       "    <tr>\n",
       "      <th>task_type</th>\n",
       "      <td>CPU</td>\n",
       "    </tr>\n",
       "    <tr>\n",
       "      <th>leaf_estimation_iterations</th>\n",
       "      <td>1</td>\n",
       "    </tr>\n",
       "    <tr>\n",
       "      <th>bootstrap_type</th>\n",
       "      <td>MVS</td>\n",
       "    </tr>\n",
       "    <tr>\n",
       "      <th>max_leaves</th>\n",
       "      <td>64</td>\n",
       "    </tr>\n",
       "  </tbody>\n",
       "</table>\n",
       "</div>"
      ],
      "text/plain": [
       "                                             Parameters\n",
       "nan_mode                                            Min\n",
       "eval_metric                                        RMSE\n",
       "iterations                                         1000\n",
       "sampling_frequency                              PerTree\n",
       "leaf_estimation_method                           Newton\n",
       "grow_policy                               SymmetricTree\n",
       "penalties_coefficient                                 1\n",
       "boosting_type                                     Plain\n",
       "model_shrink_mode                              Constant\n",
       "feature_border_type                        GreedyLogSum\n",
       "bayesian_matrix_reg                 0.10000000149011612\n",
       "l2_leaf_reg                                           3\n",
       "random_strength                                       1\n",
       "rsm                                                   1\n",
       "boost_from_average                                 True\n",
       "model_size_reg                                      0.5\n",
       "subsample                             0.800000011920929\n",
       "use_best_model                                    False\n",
       "random_seed                                        2766\n",
       "depth                                                 6\n",
       "posterior_sampling                                False\n",
       "border_count                                        254\n",
       "classes_count                                         0\n",
       "auto_class_weights                                 None\n",
       "sparse_features_conflict_fraction                     0\n",
       "leaf_estimation_backtracking             AnyImprovement\n",
       "best_model_min_trees                                  1\n",
       "model_shrink_rate                                     0\n",
       "min_data_in_leaf                                      1\n",
       "loss_function                                      RMSE\n",
       "learning_rate                      0.038394998759031296\n",
       "score_function                                   Cosine\n",
       "task_type                                           CPU\n",
       "leaf_estimation_iterations                            1\n",
       "bootstrap_type                                      MVS\n",
       "max_leaves                                           64"
      ]
     },
     "metadata": {},
     "output_type": "display_data"
    }
   ],
   "source": [
    "#model hyperparameters\n",
    "plot_model(catboost, plot='parameter')"
   ]
  },
  {
   "cell_type": "code",
   "execution_count": 34,
   "metadata": {},
   "outputs": [
    {
     "data": {
      "text/html": [],
      "text/plain": [
       "<IPython.core.display.HTML object>"
      ]
     },
     "metadata": {},
     "output_type": "display_data"
    },
    {
     "data": {
      "image/png": "[encoded data removed]",
      "text/plain": [
       "<Figure size 432x288 with 2 Axes>"
      ]
     },
     "metadata": {
      "needs_background": "light"
     },
     "output_type": "display_data"
    }
   ],
   "source": [
    "# Residuals Plot - the distances(error) between the actual and predicted values\n",
    "plot_model(catboost, plot='residuals')"
   ]
  },
  {
   "cell_type": "code",
   "execution_count": 35,
   "metadata": {},
   "outputs": [
    {
     "data": {
      "text/html": [],
      "text/plain": [
       "<IPython.core.display.HTML object>"
      ]
     },
     "metadata": {},
     "output_type": "display_data"
    },
    {
     "data": {
      "image/png": "[encoded data removed]",
      "text/plain": [
       "<Figure size 432x288 with 1 Axes>"
      ]
     },
     "metadata": {
      "needs_background": "light"
     },
     "output_type": "display_data"
    }
   ],
   "source": [
    "# Plotting the Prediction Error\n",
    "plot_model(catboost, plot='error')"
   ]
  },
  {
   "cell_type": "code",
   "execution_count": 36,
   "metadata": {},
   "outputs": [
    {
     "data": {
      "text/html": [],
      "text/plain": [
       "<IPython.core.display.HTML object>"
      ]
     },
     "metadata": {},
     "output_type": "display_data"
    },
    {
     "data": {
      "image/png": "[encoded data removed]",
      "text/plain": [
       "<Figure size 432x288 with 1 Axes>"
      ]
     },
     "metadata": {
      "needs_background": "light"
     },
     "output_type": "display_data"
    }
   ],
   "source": [
    "# Learning Curve\n",
    "plot_model(catboost, plot='learning')"
   ]
  },
  {
   "cell_type": "code",
   "execution_count": 37,
   "metadata": {},
   "outputs": [
    {
     "data": {
      "text/html": [],
      "text/plain": [
       "<IPython.core.display.HTML object>"
      ]
     },
     "metadata": {},
     "output_type": "display_data"
    },
    {
     "data": {
      "image/png": "[encoded data removed]",
      "text/plain": [
       "<Figure size 432x288 with 1 Axes>"
      ]
     },
     "metadata": {
      "needs_background": "light"
     },
     "output_type": "display_data"
    }
   ],
   "source": [
    "# Validation Curve\n",
    "plot_model(catboost, plot='vc')"
   ]
  },
  {
   "cell_type": "code",
   "execution_count": 38,
   "metadata": {},
   "outputs": [
    {
     "data": {
      "text/html": [],
      "text/plain": [
       "<IPython.core.display.HTML object>"
      ]
     },
     "metadata": {},
     "output_type": "display_data"
    },
    {
     "data": {
      "image/png": "[encoded data removed]",
      "text/plain": [
       "<Figure size 800x500 with 1 Axes>"
      ]
     },
     "metadata": {
      "needs_background": "light"
     },
     "output_type": "display_data"
    }
   ],
   "source": [
    "# Plot of Feature Importance\n",
    "plot_model(catboost, plot='feature')"
   ]
  },
  {
   "cell_type": "code",
   "execution_count": 39,
   "metadata": {},
   "outputs": [],
   "source": [
    "# Finalize the Model\n",
    "from sklearn.model_selection import train_test_split\n"
   ]
  },
  {
   "cell_type": "code",
   "execution_count": 40,
   "metadata": {},
   "outputs": [],
   "source": [
    "X = df[features]\n",
    "Y = df[target]\n",
    "\n",
    "X_train,X_test,Y_train,Y_test = train_test_split(X,Y,test_size=0.2)"
   ]
  },
  {
   "cell_type": "code",
   "execution_count": 42,
   "metadata": {},
   "outputs": [],
   "source": [
    "final_catboost = finalize_model(catboost)"
   ]
  },
  {
   "cell_type": "code",
   "execution_count": 43,
   "metadata": {},
   "outputs": [
    {
     "data": {
      "text/html": [
       "<style>#sk-container-id-2 {color: black;background-color: white;}#sk-container-id-2 pre{padding: 0;}#sk-container-id-2 div.sk-toggleable {background-color: white;}#sk-container-id-2 label.sk-toggleable__label {cursor: pointer;display: block;width: 100%;margin-bottom: 0;padding: 0.3em;box-sizing: border-box;text-align: center;}#sk-container-id-2 label.sk-toggleable__label-arrow:before {content: \"▸\";float: left;margin-right: 0.25em;color: #696969;}#sk-container-id-2 label.sk-toggleable__label-arrow:hover:before {color: black;}#sk-container-id-2 div.sk-estimator:hover label.sk-toggleable__label-arrow:before {color: black;}#sk-container-id-2 div.sk-toggleable__content {max-height: 0;max-width: 0;overflow: hidden;text-align: left;background-color: #f0f8ff;}#sk-container-id-2 div.sk-toggleable__content pre {margin: 0.2em;color: black;border-radius: 0.25em;background-color: #f0f8ff;}#sk-container-id-2 input.sk-toggleable__control:checked~div.sk-toggleable__content {max-height: 200px;max-width: 100%;overflow: auto;}#sk-container-id-2 input.sk-toggleable__control:checked~label.sk-toggleable__label-arrow:before {content: \"▾\";}#sk-container-id-2 div.sk-estimator input.sk-toggleable__control:checked~label.sk-toggleable__label {background-color: #d4ebff;}#sk-container-id-2 div.sk-label input.sk-toggleable__control:checked~label.sk-toggleable__label {background-color: #d4ebff;}#sk-container-id-2 input.sk-hidden--visually {border: 0;clip: rect(1px 1px 1px 1px);clip: rect(1px, 1px, 1px, 1px);height: 1px;margin: -1px;overflow: hidden;padding: 0;position: absolute;width: 1px;}#sk-container-id-2 div.sk-estimator {font-family: monospace;background-color: #f0f8ff;border: 1px dotted black;border-radius: 0.25em;box-sizing: border-box;margin-bottom: 0.5em;}#sk-container-id-2 div.sk-estimator:hover {background-color: #d4ebff;}#sk-container-id-2 div.sk-parallel-item::after {content: \"\";width: 100%;border-bottom: 1px solid gray;flex-grow: 1;}#sk-container-id-2 div.sk-label:hover label.sk-toggleable__label {background-color: #d4ebff;}#sk-container-id-2 div.sk-serial::before {content: \"\";position: absolute;border-left: 1px solid gray;box-sizing: border-box;top: 0;bottom: 0;left: 50%;z-index: 0;}#sk-container-id-2 div.sk-serial {display: flex;flex-direction: column;align-items: center;background-color: white;padding-right: 0.2em;padding-left: 0.2em;position: relative;}#sk-container-id-2 div.sk-item {position: relative;z-index: 1;}#sk-container-id-2 div.sk-parallel {display: flex;align-items: stretch;justify-content: center;background-color: white;position: relative;}#sk-container-id-2 div.sk-item::before, #sk-container-id-2 div.sk-parallel-item::before {content: \"\";position: absolute;border-left: 1px solid gray;box-sizing: border-box;top: 0;bottom: 0;left: 50%;z-index: -1;}#sk-container-id-2 div.sk-parallel-item {display: flex;flex-direction: column;z-index: 1;position: relative;background-color: white;}#sk-container-id-2 div.sk-parallel-item:first-child::after {align-self: flex-end;width: 50%;}#sk-container-id-2 div.sk-parallel-item:last-child::after {align-self: flex-start;width: 50%;}#sk-container-id-2 div.sk-parallel-item:only-child::after {width: 0;}#sk-container-id-2 div.sk-dashed-wrapped {border: 1px dashed gray;margin: 0 0.4em 0.5em 0.4em;box-sizing: border-box;padding-bottom: 0.4em;background-color: white;}#sk-container-id-2 div.sk-label label {font-family: monospace;font-weight: bold;display: inline-block;line-height: 1.2em;}#sk-container-id-2 div.sk-label-container {text-align: center;}#sk-container-id-2 div.sk-container {/* jupyter's `normalize.less` sets `[hidden] { display: none; }` but bootstrap.min.css set `[hidden] { display: none !important; }` so we also need the `!important` here to be able to override the default hidden behavior on the sphinx rendered scikit-learn.org. See: https://github.com/scikit-learn/scikit-learn/issues/21755 */display: inline-block !important;position: relative;}#sk-container-id-2 div.sk-text-repr-fallback {display: none;}</style><div id=\"sk-container-id-2\" class=\"sk-top-container\"><div class=\"sk-text-repr-fallback\"><pre>Pipeline(memory=Memory(location=/var/folders/xb/s7vwrt4153xbxzr8hc8tbdtr0000gn/T/joblib),\n",
       "         steps=[(&#x27;numerical_imputer&#x27;,\n",
       "                 TransformerWrapper(include=[&#x27;Ram&#x27;, &#x27;Weight&#x27;],\n",
       "                                    transformer=SimpleImputer())),\n",
       "                (&#x27;categorical_imputer&#x27;,\n",
       "                 TransformerWrapper(include=[],\n",
       "                                    transformer=SimpleImputer(fill_value=&#x27;constant&#x27;,\n",
       "                                                              strategy=&#x27;constant&#x27;))),\n",
       "                (&#x27;low_variance&#x27;,\n",
       "                 TransformerWrapper(exclude=[],\n",
       "                                    transformer=VarianceThreshold(threshold=0))),\n",
       "                (&#x27;actual_estimator&#x27;,\n",
       "                 &lt;catboost.core.CatBoostRegressor object at 0x7f9dbc9b3cd0&gt;)])</pre><b>In a Jupyter environment, please rerun this cell to show the HTML representation or trust the notebook. <br />On GitHub, the HTML representation is unable to render, please try loading this page with nbviewer.org.</b></div><div class=\"sk-container\" hidden><div class=\"sk-item sk-dashed-wrapped\"><div class=\"sk-label-container\"><div class=\"sk-label sk-toggleable\"><input class=\"sk-toggleable__control sk-hidden--visually\" id=\"sk-estimator-id-2\" type=\"checkbox\" ><label for=\"sk-estimator-id-2\" class=\"sk-toggleable__label sk-toggleable__label-arrow\">Pipeline</label><div class=\"sk-toggleable__content\"><pre>Pipeline(memory=Memory(location=/var/folders/xb/s7vwrt4153xbxzr8hc8tbdtr0000gn/T/joblib),\n",
       "         steps=[(&#x27;numerical_imputer&#x27;,\n",
       "                 TransformerWrapper(include=[&#x27;Ram&#x27;, &#x27;Weight&#x27;],\n",
       "                                    transformer=SimpleImputer())),\n",
       "                (&#x27;categorical_imputer&#x27;,\n",
       "                 TransformerWrapper(include=[],\n",
       "                                    transformer=SimpleImputer(fill_value=&#x27;constant&#x27;,\n",
       "                                                              strategy=&#x27;constant&#x27;))),\n",
       "                (&#x27;low_variance&#x27;,\n",
       "                 TransformerWrapper(exclude=[],\n",
       "                                    transformer=VarianceThreshold(threshold=0))),\n",
       "                (&#x27;actual_estimator&#x27;,\n",
       "                 &lt;catboost.core.CatBoostRegressor object at 0x7f9dbc9b3cd0&gt;)])</pre></div></div></div><div class=\"sk-serial\"><div class=\"sk-item sk-dashed-wrapped\"><div class=\"sk-label-container\"><div class=\"sk-label sk-toggleable\"><input class=\"sk-toggleable__control sk-hidden--visually\" id=\"sk-estimator-id-3\" type=\"checkbox\" ><label for=\"sk-estimator-id-3\" class=\"sk-toggleable__label sk-toggleable__label-arrow\">numerical_imputer: TransformerWrapper</label><div class=\"sk-toggleable__content\"><pre>TransformerWrapper(include=[&#x27;Ram&#x27;, &#x27;Weight&#x27;], transformer=SimpleImputer())</pre></div></div></div><div class=\"sk-parallel\"><div class=\"sk-parallel-item\"><div class=\"sk-item\"><div class=\"sk-label-container\"><div class=\"sk-label sk-toggleable\"><input class=\"sk-toggleable__control sk-hidden--visually\" id=\"sk-estimator-id-4\" type=\"checkbox\" ><label for=\"sk-estimator-id-4\" class=\"sk-toggleable__label sk-toggleable__label-arrow\">transformer: SimpleImputer</label><div class=\"sk-toggleable__content\"><pre>SimpleImputer()</pre></div></div></div><div class=\"sk-serial\"><div class=\"sk-item\"><div class=\"sk-estimator sk-toggleable\"><input class=\"sk-toggleable__control sk-hidden--visually\" id=\"sk-estimator-id-5\" type=\"checkbox\" ><label for=\"sk-estimator-id-5\" class=\"sk-toggleable__label sk-toggleable__label-arrow\">SimpleImputer</label><div class=\"sk-toggleable__content\"><pre>SimpleImputer()</pre></div></div></div></div></div></div></div></div><div class=\"sk-item sk-dashed-wrapped\"><div class=\"sk-label-container\"><div class=\"sk-label sk-toggleable\"><input class=\"sk-toggleable__control sk-hidden--visually\" id=\"sk-estimator-id-6\" type=\"checkbox\" ><label for=\"sk-estimator-id-6\" class=\"sk-toggleable__label sk-toggleable__label-arrow\">categorical_imputer: TransformerWrapper</label><div class=\"sk-toggleable__content\"><pre>TransformerWrapper(include=[],\n",
       "                   transformer=SimpleImputer(fill_value=&#x27;constant&#x27;,\n",
       "                                             strategy=&#x27;constant&#x27;))</pre></div></div></div><div class=\"sk-parallel\"><div class=\"sk-parallel-item\"><div class=\"sk-item\"><div class=\"sk-label-container\"><div class=\"sk-label sk-toggleable\"><input class=\"sk-toggleable__control sk-hidden--visually\" id=\"sk-estimator-id-7\" type=\"checkbox\" ><label for=\"sk-estimator-id-7\" class=\"sk-toggleable__label sk-toggleable__label-arrow\">transformer: SimpleImputer</label><div class=\"sk-toggleable__content\"><pre>SimpleImputer(fill_value=&#x27;constant&#x27;, strategy=&#x27;constant&#x27;)</pre></div></div></div><div class=\"sk-serial\"><div class=\"sk-item\"><div class=\"sk-estimator sk-toggleable\"><input class=\"sk-toggleable__control sk-hidden--visually\" id=\"sk-estimator-id-8\" type=\"checkbox\" ><label for=\"sk-estimator-id-8\" class=\"sk-toggleable__label sk-toggleable__label-arrow\">SimpleImputer</label><div class=\"sk-toggleable__content\"><pre>SimpleImputer(fill_value=&#x27;constant&#x27;, strategy=&#x27;constant&#x27;)</pre></div></div></div></div></div></div></div></div><div class=\"sk-item sk-dashed-wrapped\"><div class=\"sk-label-container\"><div class=\"sk-label sk-toggleable\"><input class=\"sk-toggleable__control sk-hidden--visually\" id=\"sk-estimator-id-9\" type=\"checkbox\" ><label for=\"sk-estimator-id-9\" class=\"sk-toggleable__label sk-toggleable__label-arrow\">low_variance: TransformerWrapper</label><div class=\"sk-toggleable__content\"><pre>TransformerWrapper(exclude=[], transformer=VarianceThreshold(threshold=0))</pre></div></div></div><div class=\"sk-parallel\"><div class=\"sk-parallel-item\"><div class=\"sk-item\"><div class=\"sk-label-container\"><div class=\"sk-label sk-toggleable\"><input class=\"sk-toggleable__control sk-hidden--visually\" id=\"sk-estimator-id-10\" type=\"checkbox\" ><label for=\"sk-estimator-id-10\" class=\"sk-toggleable__label sk-toggleable__label-arrow\">transformer: VarianceThreshold</label><div class=\"sk-toggleable__content\"><pre>VarianceThreshold(threshold=0)</pre></div></div></div><div class=\"sk-serial\"><div class=\"sk-item\"><div class=\"sk-estimator sk-toggleable\"><input class=\"sk-toggleable__control sk-hidden--visually\" id=\"sk-estimator-id-11\" type=\"checkbox\" ><label for=\"sk-estimator-id-11\" class=\"sk-toggleable__label sk-toggleable__label-arrow\">VarianceThreshold</label><div class=\"sk-toggleable__content\"><pre>VarianceThreshold(threshold=0)</pre></div></div></div></div></div></div></div></div><div class=\"sk-item\"><div class=\"sk-estimator sk-toggleable\"><input class=\"sk-toggleable__control sk-hidden--visually\" id=\"sk-estimator-id-12\" type=\"checkbox\" ><label for=\"sk-estimator-id-12\" class=\"sk-toggleable__label sk-toggleable__label-arrow\">CatBoostRegressor</label><div class=\"sk-toggleable__content\"><pre>&lt;catboost.core.CatBoostRegressor object at 0x7f9dbc9b3cd0&gt;</pre></div></div></div></div></div></div></div>"
      ],
      "text/plain": [
       "Pipeline(memory=Memory(location=/var/folders/xb/s7vwrt4153xbxzr8hc8tbdtr0000gn/T/joblib),\n",
       "         steps=[('numerical_imputer',\n",
       "                 TransformerWrapper(include=['Ram', 'Weight'],\n",
       "                                    transformer=SimpleImputer())),\n",
       "                ('categorical_imputer',\n",
       "                 TransformerWrapper(include=[],\n",
       "                                    transformer=SimpleImputer(fill_value='constant',\n",
       "                                                              strategy='constant'))),\n",
       "                ('low_variance',\n",
       "                 TransformerWrapper(exclude=[],\n",
       "                                    transformer=VarianceThreshold(threshold=0))),\n",
       "                ('actual_estimator',\n",
       "                 <catboost.core.CatBoostRegressor object at 0x7f9dbc9b3cd0>)])"
      ]
     },
     "execution_count": 43,
     "metadata": {},
     "output_type": "execute_result"
    }
   ],
   "source": [
    "final_catboost"
   ]
  },
  {
   "cell_type": "code",
   "execution_count": 44,
   "metadata": {},
   "outputs": [
    {
     "data": {
      "text/html": [],
      "text/plain": [
       "<IPython.core.display.HTML object>"
      ]
     },
     "metadata": {},
     "output_type": "display_data"
    },
    {
     "data": {
      "text/html": [
       "<div>\n",
       "<style scoped>\n",
       "    .dataframe tbody tr th:only-of-type {\n",
       "        vertical-align: middle;\n",
       "    }\n",
       "\n",
       "    .dataframe tbody tr th {\n",
       "        vertical-align: top;\n",
       "    }\n",
       "\n",
       "    .dataframe thead th {\n",
       "        text-align: right;\n",
       "    }\n",
       "</style>\n",
       "<table border=\"1\" class=\"dataframe\">\n",
       "  <thead>\n",
       "    <tr style=\"text-align: right;\">\n",
       "      <th></th>\n",
       "      <th>Ram</th>\n",
       "      <th>Weight</th>\n",
       "      <th>prediction_label</th>\n",
       "    </tr>\n",
       "  </thead>\n",
       "  <tbody>\n",
       "    <tr>\n",
       "      <th>0</th>\n",
       "      <td>8.0</td>\n",
       "      <td>2.50</td>\n",
       "      <td>20302.092485</td>\n",
       "    </tr>\n",
       "    <tr>\n",
       "      <th>1</th>\n",
       "      <td>12.0</td>\n",
       "      <td>2.62</td>\n",
       "      <td>24805.115337</td>\n",
       "    </tr>\n",
       "    <tr>\n",
       "      <th>2</th>\n",
       "      <td>16.0</td>\n",
       "      <td>3.42</td>\n",
       "      <td>58223.553110</td>\n",
       "    </tr>\n",
       "    <tr>\n",
       "      <th>3</th>\n",
       "      <td>8.0</td>\n",
       "      <td>2.06</td>\n",
       "      <td>24659.027987</td>\n",
       "    </tr>\n",
       "    <tr>\n",
       "      <th>4</th>\n",
       "      <td>4.0</td>\n",
       "      <td>2.20</td>\n",
       "      <td>10010.699742</td>\n",
       "    </tr>\n",
       "  </tbody>\n",
       "</table>\n",
       "</div>"
      ],
      "text/plain": [
       "    Ram  Weight  prediction_label\n",
       "0   8.0    2.50      20302.092485\n",
       "1  12.0    2.62      24805.115337\n",
       "2  16.0    3.42      58223.553110\n",
       "3   8.0    2.06      24659.027987\n",
       "4   4.0    2.20      10010.699742"
      ]
     },
     "execution_count": 44,
     "metadata": {},
     "output_type": "execute_result"
    }
   ],
   "source": [
    "new_predictions = predict_model(final_catboost, data=X_test)\n",
    "new_predictions.head()"
   ]
  },
  {
   "cell_type": "code",
   "execution_count": 60,
   "metadata": {},
   "outputs": [
    {
     "name": "stdout",
     "output_type": "stream",
     "text": [
      "Transformation Pipeline and Model Successfully Saved\n"
     ]
    },
    {
     "data": {
      "text/plain": [
       "(<catboost.core.CatBoostRegressor at 0x7f9dbc71aa60>,\n",
       " 'deployment_20221022.pkl')"
      ]
     },
     "execution_count": 60,
     "metadata": {},
     "output_type": "execute_result"
    }
   ],
   "source": [
    "# save transformation pipeline and model \n",
    "save_model(final_catboost, 'deployment_20221022')"
   ]
  },
  {
   "cell_type": "code",
   "execution_count": 48,
   "metadata": {},
   "outputs": [
    {
     "name": "stdout",
     "output_type": "stream",
     "text": [
      "Transformation Pipeline and Model Successfully Loaded\n"
     ]
    }
   ],
   "source": [
    "deployment_catboost_20221022 = load_model(\"deployment_20221022\")"
   ]
  },
  {
   "cell_type": "code",
   "execution_count": null,
   "metadata": {},
   "outputs": [],
   "source": []
  },
  {
   "cell_type": "code",
   "execution_count": null,
   "metadata": {},
   "outputs": [],
   "source": []
  }
 ],
 "metadata": {
  "hide_input": false,
  "kernelspec": {
   "display_name": "Python 3",
   "language": "python",
   "name": "python3"
  },
  "language_info": {
   "codemirror_mode": {
    "name": "ipython",
    "version": 3
   },
   "file_extension": ".py",
   "mimetype": "text/x-python",
   "name": "python",
   "nbconvert_exporter": "python",
   "pygments_lexer": "ipython3",
   "version": "3.8.5"
  }
 },
 "nbformat": 4,
 "nbformat_minor": 4
}
