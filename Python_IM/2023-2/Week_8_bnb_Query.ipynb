{
 "cells": [
  {
   "cell_type": "markdown",
   "id": "89984e07",
   "metadata": {},
   "source": [
    "Goals\n",
    "---\n",
    "- [Airbnb Python Interview Questions](https://nathanrosidi.medium.com/airbnb-python-interview-questions-data-aggregation-and-labeling-43911353aede), how to use Data Aggregation and Labeling in the pandas,  練習資料分類和編碼\n",
    "- [stratascratch](https://platform.stratascratch.com/coding/9632-host-popularity-rental-prices), retrieve the data by SQL, 如何使用 SQL 取資料. First sign up a new account, and request a Query, 首先登記帳號，使用下列 SQL 進行查詢: \n",
    "\n",
    "```select * from airbnb_host_searches;```\n",
    "\n",
    "However, general Python web scrappy scheme can't retrieve the data easily, 但是沒有辦法簡單地使用 Python 截取資料. Thus, save the query result in local box, and use pandas to scrappy as `csv` data as follows. You can give it a try by yourself, 所以採用將結果存在電腦上，再用 Pandas 讀取，你可以自己嘗試. "
   ]
  },
  {
   "cell_type": "code",
   "execution_count": 1,
   "id": "9feb3595",
   "metadata": {},
   "outputs": [],
   "source": [
    "# 1. required packages\n",
    "\n",
    "import pandas as pd\n",
    "import numpy as np"
   ]
  },
  {
   "cell_type": "code",
   "execution_count": 2,
   "id": "529b61ac",
   "metadata": {},
   "outputs": [],
   "source": [
    "#2: Format to two decimals\n",
    "\n",
    "pd.options.display.float_format = \"{:,.2f}\".format"
   ]
  },
  {
   "cell_type": "code",
   "execution_count": 3,
   "id": "4bdf2892",
   "metadata": {},
   "outputs": [],
   "source": [
    "# Load the saved page and Retrieve the table data if you follows previous guide to get the data \n",
    "# from stratascratch successifully; otherwise, skip the step and use the sav ginven\n",
    "# 如果你成功地使用全素的方法取得網頁並儲存資料，則讀取儲存的網頁 並載入資料, 或者或者跳過這個步驟，使用賦予的 csv 資料\n",
    "data= pd.read_html(\"file:///Users/chu-chinghuang/Desktop/StrataScratch.html\")\n",
    "df = data[0]"
   ]
  },
  {
   "cell_type": "code",
   "execution_count": 31,
   "id": "e9c048b4",
   "metadata": {},
   "outputs": [],
   "source": [
    "#df.to_csv(\"BNB.csv\",index=False)"
   ]
  },
  {
   "cell_type": "code",
   "execution_count": 32,
   "id": "3b21270e",
   "metadata": {
    "scrolled": true
   },
   "outputs": [],
   "source": [
    "# Load CSV data, 讀取資料\n",
    "df = pd.read_csv(\"https://raw.githubusercontent.com/cchuang2009/2022-1/main/Python_IM/2023-2/BNB.csv\")"
   ]
  },
  {
   "cell_type": "code",
   "execution_count": 5,
   "id": "cfd01b3a",
   "metadata": {},
   "outputs": [
    {
     "data": {
      "text/html": [
       "<div><div id=dd6672be-0470-416e-a590-4e1bebbd1eac style=\"display:none; background-color:#9D6CFF; color:white; width:200px; height:30px; padding-left:5px; border-radius:4px; flex-direction:row; justify-content:space-around; align-items:center;\" onmouseover=\"this.style.backgroundColor='#BA9BF8'\" onmouseout=\"this.style.backgroundColor='#9D6CFF'\" onclick=\"window.commands?.execute('create-mitosheet-from-dataframe-output');\">See Full Dataframe in Mito</div> <script> if (window.commands?.hasCommand('create-mitosheet-from-dataframe-output')) document.getElementById('dd6672be-0470-416e-a590-4e1bebbd1eac').style.display = 'flex' </script> <table border=\"1\" class=\"dataframe\">\n",
       "  <thead>\n",
       "    <tr style=\"text-align: right;\">\n",
       "      <th></th>\n",
       "      <th>id</th>\n",
       "      <th>price</th>\n",
       "      <th>property_type</th>\n",
       "      <th>room_type</th>\n",
       "      <th>amenities</th>\n",
       "      <th>accommodates</th>\n",
       "      <th>bathrooms</th>\n",
       "      <th>bed_type</th>\n",
       "      <th>cancellation_policy</th>\n",
       "      <th>cleaning_fee</th>\n",
       "      <th>city</th>\n",
       "      <th>host_identity_verified</th>\n",
       "      <th>host_response_rate</th>\n",
       "      <th>host_since</th>\n",
       "      <th>neighbourhood</th>\n",
       "      <th>number_of_reviews</th>\n",
       "      <th>review_scores_rating</th>\n",
       "      <th>zipcode</th>\n",
       "      <th>bedrooms</th>\n",
       "      <th>beds</th>\n",
       "    </tr>\n",
       "  </thead>\n",
       "  <tbody>\n",
       "    <tr>\n",
       "      <th>0</th>\n",
       "      <td>8284881</td>\n",
       "      <td>621.46</td>\n",
       "      <td>House</td>\n",
       "      <td>Entire home/apt</td>\n",
       "      <td>{TV,\"Cable TV\",Internet,\"Wireless Internet\",\"Air conditioning\",Pool,Kitchen,\"Free parking on premises\",Gym,\"Hot tub\",\"Indoor fireplace\",Heating,\"Family/kid friendly\",Washer,Dryer,\"Smoke detector\",\"Carbon monoxide detector\",\"First aid kit\",\"Safety card\",\"Fire extinguisher\",Essentials,Shampoo,\"24-hour check-in\",Hangers,\"Hair dryer\",Iron,\"Laptop friendly workspace\"}</td>\n",
       "      <td>8</td>\n",
       "      <td>3</td>\n",
       "      <td>Real Bed</td>\n",
       "      <td>strict</td>\n",
       "      <td>1</td>\n",
       "      <td>LA</td>\n",
       "      <td>f</td>\n",
       "      <td>100%</td>\n",
       "      <td>2016-11-01</td>\n",
       "      <td>Pacific Palisades</td>\n",
       "      <td>1</td>\n",
       "      <td>NaN</td>\n",
       "      <td>90272</td>\n",
       "      <td>4</td>\n",
       "      <td>6</td>\n",
       "    </tr>\n",
       "    <tr>\n",
       "      <th>1</th>\n",
       "      <td>8284882</td>\n",
       "      <td>621.46</td>\n",
       "      <td>House</td>\n",
       "      <td>Entire home/apt</td>\n",
       "      <td>{TV,\"Cable TV\",Internet,\"Wireless Internet\",\"Air conditioning\",Pool,Kitchen,\"Free parking on premises\",Gym,\"Hot tub\",\"Indoor fireplace\",Heating,\"Family/kid friendly\",Washer,Dryer,\"Smoke detector\",\"Carbon monoxide detector\",\"First aid kit\",\"Safety card\",\"Fire extinguisher\",Essentials,Shampoo,\"24-hour check-in\",Hangers,\"Hair dryer\",Iron,\"Laptop friendly workspace\"}</td>\n",
       "      <td>8</td>\n",
       "      <td>3</td>\n",
       "      <td>Real Bed</td>\n",
       "      <td>strict</td>\n",
       "      <td>1</td>\n",
       "      <td>LA</td>\n",
       "      <td>f</td>\n",
       "      <td>100%</td>\n",
       "      <td>2016-11-01</td>\n",
       "      <td>Pacific Palisades</td>\n",
       "      <td>1</td>\n",
       "      <td>NaN</td>\n",
       "      <td>90272</td>\n",
       "      <td>4</td>\n",
       "      <td>6</td>\n",
       "    </tr>\n",
       "    <tr>\n",
       "      <th>2</th>\n",
       "      <td>9479348</td>\n",
       "      <td>598.90</td>\n",
       "      <td>Apartment</td>\n",
       "      <td>Entire home/apt</td>\n",
       "      <td>{\"Wireless Internet\",\"Air conditioning\",Kitchen,Heating,\"Smoke detector\",\"Carbon monoxide detector\",Essentials,Shampoo,Hangers,Iron,\"translation missing: en.hosting_amenity_49\",\"translation missing: en.hosting_amenity_50\"}</td>\n",
       "      <td>7</td>\n",
       "      <td>2</td>\n",
       "      <td>Real Bed</td>\n",
       "      <td>strict</td>\n",
       "      <td>0</td>\n",
       "      <td>NYC</td>\n",
       "      <td>f</td>\n",
       "      <td>100%</td>\n",
       "      <td>2017-07-03</td>\n",
       "      <td>Hell's Kitchen</td>\n",
       "      <td>1</td>\n",
       "      <td>60.00</td>\n",
       "      <td>10036</td>\n",
       "      <td>3</td>\n",
       "      <td>4</td>\n",
       "    </tr>\n",
       "    <tr>\n",
       "      <th>3</th>\n",
       "      <td>8596057</td>\n",
       "      <td>420.47</td>\n",
       "      <td>House</td>\n",
       "      <td>Private room</td>\n",
       "      <td>{\"Wireless Internet\",\"Air conditioning\",Pool,Kitchen,\"Free parking on premises\",Breakfast,\"Family/kid friendly\",Washer,Dryer,Essentials,Shampoo,Hangers,\"Hair dryer\",\"Self Check-In\",\"Doorman Entry\"}</td>\n",
       "      <td>1</td>\n",
       "      <td>2</td>\n",
       "      <td>Real Bed</td>\n",
       "      <td>flexible</td>\n",
       "      <td>0</td>\n",
       "      <td>LA</td>\n",
       "      <td>f</td>\n",
       "      <td>100%</td>\n",
       "      <td>2016-04-20</td>\n",
       "      <td>NaN</td>\n",
       "      <td>0</td>\n",
       "      <td>NaN</td>\n",
       "      <td>91748</td>\n",
       "      <td>1</td>\n",
       "      <td>1</td>\n",
       "    </tr>\n",
       "    <tr>\n",
       "      <th>4</th>\n",
       "      <td>11525500</td>\n",
       "      <td>478.75</td>\n",
       "      <td>Apartment</td>\n",
       "      <td>Entire home/apt</td>\n",
       "      <td>{\"Wireless Internet\",\"Air conditioning\",Heating,Washer,Dryer,Essentials,\"Laptop friendly workspace\",Microwave,Refrigerator,Dishwasher,\"Dishes and silverware\",\"Cooking basics\",Oven,Stove,\"Host greets you\"}</td>\n",
       "      <td>2</td>\n",
       "      <td>1</td>\n",
       "      <td>Real Bed</td>\n",
       "      <td>flexible</td>\n",
       "      <td>1</td>\n",
       "      <td>NYC</td>\n",
       "      <td>f</td>\n",
       "      <td>100%</td>\n",
       "      <td>2017-10-07</td>\n",
       "      <td>Williamsburg</td>\n",
       "      <td>2</td>\n",
       "      <td>100.00</td>\n",
       "      <td>11206</td>\n",
       "      <td>1</td>\n",
       "      <td>1</td>\n",
       "    </tr>\n",
       "  </tbody>\n",
       "</table></div>"
      ],
      "text/plain": [
       "         id  price property_type        room_type  \\\n",
       "0   8284881 621.46         House  Entire home/apt   \n",
       "1   8284882 621.46         House  Entire home/apt   \n",
       "2   9479348 598.90     Apartment  Entire home/apt   \n",
       "3   8596057 420.47         House     Private room   \n",
       "4  11525500 478.75     Apartment  Entire home/apt   \n",
       "\n",
       "                                           amenities  accommodates  bathrooms  \\\n",
       "0  {TV,\"Cable TV\",Internet,\"Wireless Internet\",\"A...             8          3   \n",
       "1  {TV,\"Cable TV\",Internet,\"Wireless Internet\",\"A...             8          3   \n",
       "2  {\"Wireless Internet\",\"Air conditioning\",Kitche...             7          2   \n",
       "3  {\"Wireless Internet\",\"Air conditioning\",Pool,K...             1          2   \n",
       "4  {\"Wireless Internet\",\"Air conditioning\",Heatin...             2          1   \n",
       "\n",
       "   bed_type cancellation_policy  cleaning_fee city host_identity_verified  \\\n",
       "0  Real Bed              strict             1   LA                      f   \n",
       "1  Real Bed              strict             1   LA                      f   \n",
       "2  Real Bed              strict             0  NYC                      f   \n",
       "3  Real Bed            flexible             0   LA                      f   \n",
       "4  Real Bed            flexible             1  NYC                      f   \n",
       "\n",
       "  host_response_rate  host_since      neighbourhood  number_of_reviews  \\\n",
       "0               100%  2016-11-01  Pacific Palisades                  1   \n",
       "1               100%  2016-11-01  Pacific Palisades                  1   \n",
       "2               100%  2017-07-03     Hell's Kitchen                  1   \n",
       "3               100%  2016-04-20                NaN                  0   \n",
       "4               100%  2017-10-07       Williamsburg                  2   \n",
       "\n",
       "   review_scores_rating  zipcode  bedrooms  beds  \n",
       "0                   NaN    90272         4     6  \n",
       "1                   NaN    90272         4     6  \n",
       "2                 60.00    10036         3     4  \n",
       "3                   NaN    91748         1     1  \n",
       "4                100.00    11206         1     1  "
      ]
     },
     "execution_count": 5,
     "metadata": {},
     "output_type": "execute_result"
    }
   ],
   "source": [
    "df.head()"
   ]
  },
  {
   "cell_type": "code",
   "execution_count": 15,
   "id": "37cbdb5c",
   "metadata": {},
   "outputs": [
    {
     "data": {
      "text/plain": [
       "price                 91\n",
       "room_type              3\n",
       "host_since           127\n",
       "zipcode               91\n",
       "number_of_reviews     50\n",
       "dtype: int64"
      ]
     },
     "execution_count": 15,
     "metadata": {},
     "output_type": "execute_result"
    }
   ],
   "source": [
    "df[['price','room_type','host_since','zipcode','number_of_reviews']].nunique()"
   ]
  },
  {
   "cell_type": "code",
   "execution_count": null,
   "id": "3d9b0b1e",
   "metadata": {},
   "outputs": [],
   "source": [
    "df[['price','room_type','host_since','zipcode','number_of_reviews']]."
   ]
  },
  {
   "cell_type": "code",
   "execution_count": 6,
   "id": "f3747cd7",
   "metadata": {},
   "outputs": [
    {
     "data": {
      "text/html": [
       "<div><div id=11139188-69a1-4663-b280-6c7d115d86bf style=\"display:none; background-color:#9D6CFF; color:white; width:200px; height:30px; padding-left:5px; border-radius:4px; flex-direction:row; justify-content:space-around; align-items:center;\" onmouseover=\"this.style.backgroundColor='#BA9BF8'\" onmouseout=\"this.style.backgroundColor='#9D6CFF'\" onclick=\"window.commands?.execute('create-mitosheet-from-dataframe-output');\">See Full Dataframe in Mito</div> <script> if (window.commands?.hasCommand('create-mitosheet-from-dataframe-output')) document.getElementById('11139188-69a1-4663-b280-6c7d115d86bf').style.display = 'flex' </script> <table border=\"1\" class=\"dataframe\">\n",
       "  <thead>\n",
       "    <tr style=\"text-align: right;\">\n",
       "      <th></th>\n",
       "      <th>price</th>\n",
       "      <th>room_type</th>\n",
       "      <th>host_since</th>\n",
       "      <th>zipcode</th>\n",
       "      <th>number_of_reviews</th>\n",
       "    </tr>\n",
       "  </thead>\n",
       "  <tbody>\n",
       "    <tr>\n",
       "      <th>0</th>\n",
       "      <td>621.46</td>\n",
       "      <td>Entire home/apt</td>\n",
       "      <td>2016-11-01</td>\n",
       "      <td>90272</td>\n",
       "      <td>1</td>\n",
       "    </tr>\n",
       "    <tr>\n",
       "      <th>1</th>\n",
       "      <td>621.46</td>\n",
       "      <td>Entire home/apt</td>\n",
       "      <td>2016-11-01</td>\n",
       "      <td>90272</td>\n",
       "      <td>1</td>\n",
       "    </tr>\n",
       "    <tr>\n",
       "      <th>2</th>\n",
       "      <td>598.90</td>\n",
       "      <td>Entire home/apt</td>\n",
       "      <td>2017-07-03</td>\n",
       "      <td>10036</td>\n",
       "      <td>1</td>\n",
       "    </tr>\n",
       "    <tr>\n",
       "      <th>3</th>\n",
       "      <td>420.47</td>\n",
       "      <td>Private room</td>\n",
       "      <td>2016-04-20</td>\n",
       "      <td>91748</td>\n",
       "      <td>0</td>\n",
       "    </tr>\n",
       "    <tr>\n",
       "      <th>4</th>\n",
       "      <td>478.75</td>\n",
       "      <td>Entire home/apt</td>\n",
       "      <td>2017-10-07</td>\n",
       "      <td>11206</td>\n",
       "      <td>2</td>\n",
       "    </tr>\n",
       "    <tr>\n",
       "      <th>...</th>\n",
       "      <td>...</td>\n",
       "      <td>...</td>\n",
       "      <td>...</td>\n",
       "      <td>...</td>\n",
       "      <td>...</td>\n",
       "    </tr>\n",
       "    <tr>\n",
       "      <th>162</th>\n",
       "      <td>436.94</td>\n",
       "      <td>Private room</td>\n",
       "      <td>2014-06-30</td>\n",
       "      <td>10027</td>\n",
       "      <td>2</td>\n",
       "    </tr>\n",
       "    <tr>\n",
       "      <th>163</th>\n",
       "      <td>561.68</td>\n",
       "      <td>Entire home/apt</td>\n",
       "      <td>2014-06-30</td>\n",
       "      <td>10026</td>\n",
       "      <td>28</td>\n",
       "    </tr>\n",
       "    <tr>\n",
       "      <th>164</th>\n",
       "      <td>504.34</td>\n",
       "      <td>Private room</td>\n",
       "      <td>2013-12-11</td>\n",
       "      <td>10037</td>\n",
       "      <td>14</td>\n",
       "    </tr>\n",
       "    <tr>\n",
       "      <th>165</th>\n",
       "      <td>409.43</td>\n",
       "      <td>Private room</td>\n",
       "      <td>2014-06-30</td>\n",
       "      <td>10026</td>\n",
       "      <td>0</td>\n",
       "    </tr>\n",
       "    <tr>\n",
       "      <th>166</th>\n",
       "      <td>478.75</td>\n",
       "      <td>Private room</td>\n",
       "      <td>2013-12-21</td>\n",
       "      <td>10027</td>\n",
       "      <td>14</td>\n",
       "    </tr>\n",
       "  </tbody>\n",
       "</table></div>"
      ],
      "text/plain": [
       "     price        room_type  host_since  zipcode  number_of_reviews\n",
       "0   621.46  Entire home/apt  2016-11-01    90272                  1\n",
       "1   621.46  Entire home/apt  2016-11-01    90272                  1\n",
       "2   598.90  Entire home/apt  2017-07-03    10036                  1\n",
       "3   420.47     Private room  2016-04-20    91748                  0\n",
       "4   478.75  Entire home/apt  2017-10-07    11206                  2\n",
       "..     ...              ...         ...      ...                ...\n",
       "162 436.94     Private room  2014-06-30    10027                  2\n",
       "163 561.68  Entire home/apt  2014-06-30    10026                 28\n",
       "164 504.34     Private room  2013-12-11    10037                 14\n",
       "165 409.43     Private room  2014-06-30    10026                  0\n",
       "166 478.75     Private room  2013-12-21    10027                 14\n",
       "\n",
       "[167 rows x 5 columns]"
      ]
     },
     "execution_count": 6,
     "metadata": {},
     "output_type": "execute_result"
    }
   ],
   "source": [
    "df[['price','room_type','host_since','zipcode','number_of_reviews']]"
   ]
  },
  {
   "cell_type": "code",
   "execution_count": 16,
   "id": "679ddb60",
   "metadata": {},
   "outputs": [
    {
     "name": "stdout",
     "output_type": "stream",
     "text": [
      "<class 'pandas.core.frame.DataFrame'>\n",
      "Int64Index: 160 entries, 0 to 166\n",
      "Data columns (total 3 columns):\n",
      " #   Column             Non-Null Count  Dtype  \n",
      "---  ------             --------------  -----  \n",
      " 0   host_id            160 non-null    object \n",
      " 1   number_of_reviews  160 non-null    int64  \n",
      " 2   price              160 non-null    float64\n",
      "dtypes: float64(1), int64(1), object(1)\n",
      "memory usage: 5.0+ KB\n",
      "<class 'pandas.core.frame.DataFrame'>\n",
      "Int64Index: 151 entries, 0 to 166\n",
      "Data columns (total 2 columns):\n",
      " #   Column             Non-Null Count  Dtype  \n",
      "---  ------             --------------  -----  \n",
      " 0   number_of_reviews  151 non-null    int64  \n",
      " 1   price              151 non-null    float64\n",
      "dtypes: float64(1), int64(1)\n",
      "memory usage: 3.5 KB\n"
     ]
    }
   ],
   "source": [
    "# Drop the duplicates by adding a new column “host_id”\n",
    "df['host_id'] = df['price'].map(str)+df['room_type'].map(str)+ df['host_since'].map(str)+df['zipcode'].map(str)+df['number_of_reviews'].map(str)\n",
    "\n",
    "df1 = df[['host_id','number_of_reviews','price']].drop_duplicates()\n",
    "df1.info()\n",
    "\n",
    "\n",
    "#Drop the duplicates without creating a new column.\n",
    "df2 = df[['number_of_reviews', 'price']].drop_duplicates()\n",
    "\n",
    "df2.info()"
   ]
  },
  {
   "cell_type": "code",
   "execution_count": 17,
   "id": "23aff183",
   "metadata": {},
   "outputs": [],
   "source": [
    "df['host_id']= df['price'].map(str)+df['room_type'].map(str)+df['host_since'].map(str)+df['zipcode'].map(str)+ df['number_of_reviews'].map(str)\n",
    "df1 = df[['host_id','number_of_reviews','price']].drop_duplicates()"
   ]
  },
  {
   "cell_type": "code",
   "execution_count": 17,
   "id": "63328402",
   "metadata": {},
   "outputs": [
    {
     "data": {
      "text/html": [
       "<div><div id=aa8671b6-29a5-4674-aaa5-f178bdfa2f19 style=\"display:none; background-color:#9D6CFF; color:white; width:200px; height:30px; padding-left:5px; border-radius:4px; flex-direction:row; justify-content:space-around; align-items:center;\" onmouseover=\"this.style.backgroundColor='#BA9BF8'\" onmouseout=\"this.style.backgroundColor='#9D6CFF'\" onclick=\"window.commands?.execute('create-mitosheet-from-dataframe-output');\">See Full Dataframe in Mito</div> <script> if (window.commands?.hasCommand('create-mitosheet-from-dataframe-output')) document.getElementById('aa8671b6-29a5-4674-aaa5-f178bdfa2f19').style.display = 'flex' </script> <table border=\"1\" class=\"dataframe\">\n",
       "  <thead>\n",
       "    <tr style=\"text-align: right;\">\n",
       "      <th></th>\n",
       "      <th>host_id</th>\n",
       "      <th>number_of_reviews</th>\n",
       "      <th>price</th>\n",
       "    </tr>\n",
       "  </thead>\n",
       "  <tbody>\n",
       "    <tr>\n",
       "      <th>0</th>\n",
       "      <td>621.46Entire home/apt2016-11-01902721</td>\n",
       "      <td>1</td>\n",
       "      <td>621.46</td>\n",
       "    </tr>\n",
       "    <tr>\n",
       "      <th>2</th>\n",
       "      <td>598.9Entire home/apt2017-07-03100361</td>\n",
       "      <td>1</td>\n",
       "      <td>598.90</td>\n",
       "    </tr>\n",
       "    <tr>\n",
       "      <th>3</th>\n",
       "      <td>420.47Private room2016-04-20917480</td>\n",
       "      <td>0</td>\n",
       "      <td>420.47</td>\n",
       "    </tr>\n",
       "    <tr>\n",
       "      <th>4</th>\n",
       "      <td>478.75Entire home/apt2017-10-07112062</td>\n",
       "      <td>2</td>\n",
       "      <td>478.75</td>\n",
       "    </tr>\n",
       "    <tr>\n",
       "      <th>5</th>\n",
       "      <td>662.01Entire home/apt2016-01-20941230</td>\n",
       "      <td>0</td>\n",
       "      <td>662.01</td>\n",
       "    </tr>\n",
       "    <tr>\n",
       "      <th>...</th>\n",
       "      <td>...</td>\n",
       "      <td>...</td>\n",
       "      <td>...</td>\n",
       "    </tr>\n",
       "    <tr>\n",
       "      <th>162</th>\n",
       "      <td>436.94Private room2014-06-30100272</td>\n",
       "      <td>2</td>\n",
       "      <td>436.94</td>\n",
       "    </tr>\n",
       "    <tr>\n",
       "      <th>163</th>\n",
       "      <td>561.68Entire home/apt2014-06-301002628</td>\n",
       "      <td>28</td>\n",
       "      <td>561.68</td>\n",
       "    </tr>\n",
       "    <tr>\n",
       "      <th>164</th>\n",
       "      <td>504.34Private room2013-12-111003714</td>\n",
       "      <td>14</td>\n",
       "      <td>504.34</td>\n",
       "    </tr>\n",
       "    <tr>\n",
       "      <th>165</th>\n",
       "      <td>409.43Private room2014-06-30100260</td>\n",
       "      <td>0</td>\n",
       "      <td>409.43</td>\n",
       "    </tr>\n",
       "    <tr>\n",
       "      <th>166</th>\n",
       "      <td>478.75Private room2013-12-211002714</td>\n",
       "      <td>14</td>\n",
       "      <td>478.75</td>\n",
       "    </tr>\n",
       "  </tbody>\n",
       "</table></div>"
      ],
      "text/plain": [
       "                                    host_id  number_of_reviews  price\n",
       "0     621.46Entire home/apt2016-11-01902721                  1 621.46\n",
       "2      598.9Entire home/apt2017-07-03100361                  1 598.90\n",
       "3        420.47Private room2016-04-20917480                  0 420.47\n",
       "4     478.75Entire home/apt2017-10-07112062                  2 478.75\n",
       "5     662.01Entire home/apt2016-01-20941230                  0 662.01\n",
       "..                                      ...                ...    ...\n",
       "162      436.94Private room2014-06-30100272                  2 436.94\n",
       "163  561.68Entire home/apt2014-06-301002628                 28 561.68\n",
       "164     504.34Private room2013-12-111003714                 14 504.34\n",
       "165      409.43Private room2014-06-30100260                  0 409.43\n",
       "166     478.75Private room2013-12-211002714                 14 478.75\n",
       "\n",
       "[160 rows x 3 columns]"
      ]
     },
     "execution_count": 17,
     "metadata": {},
     "output_type": "execute_result"
    }
   ],
   "source": [
    "df1"
   ]
  },
  {
   "cell_type": "code",
   "execution_count": 19,
   "id": "c91e01a8",
   "metadata": {},
   "outputs": [],
   "source": [
    "# Visualization\n",
    "\n",
    "import seaborn as sns\n",
    "sns.set_theme(style=\"ticks\", palette=\"pastel\")\n",
    "\n",
    "%matplotlib inline"
   ]
  },
  {
   "cell_type": "code",
   "execution_count": 24,
   "id": "50a29525",
   "metadata": {},
   "outputs": [
    {
     "data": {
      "image/png": "[encoded data removed]",
      "text/plain": [
       "<Figure size 360x360 with 1 Axes>"
      ]
     },
     "metadata": {
      "needs_background": "light"
     },
     "output_type": "display_data"
    }
   ],
   "source": [
    "# distplot of all\n",
    "sns.displot(df1,x='number_of_reviews', bins=10);\n",
    "# distplot of majority\n",
    "#sns.displot(df1[df1['number_of_reviews']<50],x='number_of_reviews', bins=10);"
   ]
  },
  {
   "cell_type": "code",
   "execution_count": 25,
   "id": "857dd1ea",
   "metadata": {},
   "outputs": [],
   "source": [
    "# Conditional statements with the lambda function\n",
    "\n",
    "df1['host_popularity'] = df1['number_of_reviews'].apply(lambda x:'New' if x<1 else 'Rising' if x<=5 else 'Trending Up' if x<=15 else 'Popular' if x<=40 else 'Hot')\n"
   ]
  },
  {
   "cell_type": "code",
   "execution_count": 26,
   "id": "9fb7604b",
   "metadata": {},
   "outputs": [
    {
     "data": {
      "image/png": "[encoded data removed]",
      "text/plain": [
       "<Figure size 432x288 with 1 Axes>"
      ]
     },
     "metadata": {
      "needs_background": "light"
     },
     "output_type": "display_data"
    }
   ],
   "source": [
    "# Draw a nested boxplot to show bills by day and time\n",
    "sns.boxplot(data=df1,x=\"host_popularity\", y=\"price\")\n",
    "sns.despine(offset=10, trim=True)"
   ]
  },
  {
   "cell_type": "code",
   "execution_count": 19,
   "id": "0aac8a5c",
   "metadata": {},
   "outputs": [],
   "source": [
    "\n",
    "result= df1.groupby('host_popularity').agg(min_price=('price',min),avg_price=('price',np.mean),max_price = ('price',max)).reset_index()"
   ]
  },
  {
   "cell_type": "code",
   "execution_count": 20,
   "id": "4a32874c",
   "metadata": {},
   "outputs": [
    {
     "data": {
      "text/html": [
       "<div><div id=786d5135-6b96-4444-b078-13c62f3c644f style=\"display:none; background-color:#9D6CFF; color:white; width:200px; height:30px; padding-left:5px; border-radius:4px; flex-direction:row; justify-content:space-around; align-items:center;\" onmouseover=\"this.style.backgroundColor='#BA9BF8'\" onmouseout=\"this.style.backgroundColor='#9D6CFF'\" onclick=\"window.commands?.execute('create-mitosheet-from-dataframe-output');\">See Full Dataframe in Mito</div> <script> if (window.commands?.hasCommand('create-mitosheet-from-dataframe-output')) document.getElementById('786d5135-6b96-4444-b078-13c62f3c644f').style.display = 'flex' </script> <table border=\"1\" class=\"dataframe\">\n",
       "  <thead>\n",
       "    <tr style=\"text-align: right;\">\n",
       "      <th></th>\n",
       "      <th>host_popularity</th>\n",
       "      <th>min_price</th>\n",
       "      <th>avg_price</th>\n",
       "      <th>max_price</th>\n",
       "    </tr>\n",
       "  </thead>\n",
       "  <tbody>\n",
       "    <tr>\n",
       "      <th>0</th>\n",
       "      <td>Hot</td>\n",
       "      <td>340.12</td>\n",
       "      <td>464.23</td>\n",
       "      <td>633.51</td>\n",
       "    </tr>\n",
       "    <tr>\n",
       "      <th>1</th>\n",
       "      <td>New</td>\n",
       "      <td>313.55</td>\n",
       "      <td>515.92</td>\n",
       "      <td>741.76</td>\n",
       "    </tr>\n",
       "    <tr>\n",
       "      <th>2</th>\n",
       "      <td>Popular</td>\n",
       "      <td>270.81</td>\n",
       "      <td>472.81</td>\n",
       "      <td>667.83</td>\n",
       "    </tr>\n",
       "    <tr>\n",
       "      <th>3</th>\n",
       "      <td>Rising</td>\n",
       "      <td>355.53</td>\n",
       "      <td>503.85</td>\n",
       "      <td>717.01</td>\n",
       "    </tr>\n",
       "    <tr>\n",
       "      <th>4</th>\n",
       "      <td>Trending Up</td>\n",
       "      <td>361.09</td>\n",
       "      <td>476.28</td>\n",
       "      <td>685.65</td>\n",
       "    </tr>\n",
       "  </tbody>\n",
       "</table></div>"
      ],
      "text/plain": [
       "  host_popularity  min_price  avg_price  max_price\n",
       "0             Hot     340.12     464.23     633.51\n",
       "1             New     313.55     515.92     741.76\n",
       "2         Popular     270.81     472.81     667.83\n",
       "3          Rising     355.53     503.85     717.01\n",
       "4     Trending Up     361.09     476.28     685.65"
      ]
     },
     "execution_count": 20,
     "metadata": {},
     "output_type": "execute_result"
    }
   ],
   "source": [
    "result"
   ]
  },
  {
   "cell_type": "code",
   "execution_count": null,
   "id": "96bfa31d",
   "metadata": {},
   "outputs": [],
   "source": []
  }
 ],
 "metadata": {
  "hide_input": false,
  "kernelspec": {
   "display_name": "Python 3",
   "language": "python",
   "name": "python3"
  },
  "language_info": {
   "codemirror_mode": {
    "name": "ipython",
    "version": 3
   },
   "file_extension": ".py",
   "mimetype": "text/x-python",
   "name": "python",
   "nbconvert_exporter": "python",
   "pygments_lexer": "ipython3",
   "version": "3.8.5"
  }
 },
 "nbformat": 4,
 "nbformat_minor": 5
}
