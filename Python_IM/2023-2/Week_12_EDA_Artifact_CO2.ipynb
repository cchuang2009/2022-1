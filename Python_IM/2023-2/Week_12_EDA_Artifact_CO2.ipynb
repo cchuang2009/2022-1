{
 "cells": [
  {
   "cell_type": "markdown",
   "id": "f6f15568",
   "metadata": {},
   "source": [
    "# ML Modeling, EDA\n",
    "\n",
    "Prelude\n",
    "---\n",
    "Ask `chatGPT` to give me a outline of EDA on this dataset, vehicle's CO2-emission, and answers:\n",
    "\n",
    "1. Explore the data types of each column: Check if each column has the right data type (e.g., numeric data should be represented as floats or integers, while categorical data should be represented as strings).\n",
    "\n",
    "2. Explore the distribution of numeric variables: Use histograms or boxplots to visualize the distribution of numeric variables such as ENGINESIZE, CYLINDERS, FUELCONSUMPTION_CITY, FUELCONSUMPTION_HWY, FUELCONSUMPTION_COMB, and CO2EMISSIONS. This will help you understand the range, central tendency, and spread of the data.\n",
    "\n",
    "3. Explore the relationships between variables: Check if there are any correlations between the variables. You can use scatter plots or correlation matrices to visualize the relationships between variables such as ENGINESIZE, CYLINDERS, FUELCONSUMPTION_CITY, FUELCONSUMPTION_HWY, FUELCONSUMPTION_COMB, and CO2EMISSIONS. This will help you understand which variables are most strongly associated with each other.\n",
    "\n",
    "4. Explore categorical variables: Check if there are any categorical variables in the dataset, such as MAKE, MODEL, VEHICLECLASS, TRANSMISSION, and FUELTYPE. You can use bar charts or frequency tables to visualize the distribution of these variables.\n",
    "\n",
    "5. Check for outliers: Check if there are any outliers in the dataset, which could potentially skew the results of the model. You can use boxplots or scatter plots to identify any extreme values.\n",
    "\n",
    "6. Feature engineering: Consider creating new features based on existing variables in the dataset, such as calculating the average fuel consumption (FUELCONSUMPTION_AVG) or engine displacement (ENGINE_DISPLACEMENT) based on ENGINESIZE and CYLINDERS.\n",
    "\n",
    "\n",
    "Thus let us exploration to the ML modeling journey, follows this schedule.\n",
    "\n",
    "\n",
    "\n",
    "Reference\n",
    "---\n",
    "1. [src](https://medium.com/joguei-os-dados/week-3-predicting-co2-emissions-70e554ad2276)\n",
    "2. [Dataset, Kaggle](https://www.kaggle.com/gangliu/oc2emission/tasks), dataset contains information of CO2 emission from cars.\n",
    "3. Statistics, Soul of ML,\n",
    "   - Gopal K. Kanji, 100 STATISTICAL TESTS 3rd Edition, Sage Publications, 2006\n",
    "   - [Jason Brownlee , 17 Statistical Hypothesis Tests in Python (Cheat Sheet)](https://machinelearningmastery.com/statistical-hypothesis-tests-in-python-cheat-sheet/?utm_source=drip&utm_medium=email&utm_campaign=17+Statistical+Hypothesis+Tests+in+Python+%28Cheat+Sheet%29&utm_content=17+Statistical+Hypothesis+Tests+in+Python+%28Cheat+Sheet%29), comes with examples by Python"
   ]
  },
  {
   "cell_type": "code",
   "execution_count": null,
   "id": "46989e99",
   "metadata": {},
   "outputs": [],
   "source": [
    "# import packages required\n",
    "\n",
    "import pandas as pd\n",
    "import seaborn as sns\n",
    "import matplotlib.pyplot as plt\n",
    "import numpy as np\n",
    "from math import sqrt\n",
    "\n",
    "%matplotlib inline"
   ]
  },
  {
   "cell_type": "code",
   "execution_count": null,
   "id": "5e940984",
   "metadata": {},
   "outputs": [],
   "source": [
    "## atributing dataset to a dataframe df\n",
    "file=\"https://raw.githubusercontent.com/cchuang2009/2022-1/main/Python_IM/2023-2/data/FuelConsumptionCo2.csv\"\n",
    "#df = pd.read_csv('data/FuelConsumptionCo2.csv')\n",
    "df=pd.read_csv(file)\n",
    "df.head(2)"
   ]
  },
  {
   "cell_type": "code",
   "execution_count": null,
   "id": "06e368f7",
   "metadata": {},
   "outputs": [],
   "source": [
    "# save data\n",
    "df.to_csv(\"CO2_raw.csv\",index=0)"
   ]
  },
  {
   "cell_type": "code",
   "execution_count": null,
   "id": "dbab4b9a",
   "metadata": {},
   "outputs": [],
   "source": [
    "# length of data, type of features \n",
    "# No nan data\n",
    "df.info()"
   ]
  },
  {
   "cell_type": "code",
   "execution_count": null,
   "id": "144125b0",
   "metadata": {},
   "outputs": [],
   "source": [
    "# sizes of kinds of uniques in each feature\n",
    "# \"MODELYEAR\" coulde be neglicted since only one value there\n",
    "df.nunique()"
   ]
  },
  {
   "cell_type": "code",
   "execution_count": null,
   "id": "eb1bd4e4",
   "metadata": {},
   "outputs": [],
   "source": [
    "# select numerical columns\n",
    "num_cols = list(df.select_dtypes(include=['int64','float64']).columns)\n",
    "# select categorical columns\n",
    "cat_cols = list(df.select_dtypes(include=['object','category']).columns)\n",
    "# remove the column MODELYEAR from the numerical columns since it is only one value\n",
    "num_cols.remove('MODELYEAR')"
   ]
  },
  {
   "cell_type": "code",
   "execution_count": null,
   "id": "d4a68960",
   "metadata": {},
   "outputs": [],
   "source": [
    "# find out the count/value of most freqenency one in certain feature\n",
    "# count of values mostly in \"TRANSMISSION\" is 222 and is 'A6'\n",
    "\n",
    "df['TRANSMISSION'].value_counts().max(), df['TRANSMISSION'].value_counts().idxmax()"
   ]
  },
  {
   "cell_type": "markdown",
   "id": "a962a166",
   "metadata": {},
   "source": [
    "EDA (Exploratory Data Analysis)\n",
    "---\n",
    "by Visualization is the best way to observe the data,\n",
    "- How many different kinds are there in each feature?\n",
    "- What does the data distributed?"
   ]
  },
  {
   "cell_type": "code",
   "execution_count": null,
   "id": "fa2cbaaa",
   "metadata": {},
   "outputs": [],
   "source": [
    "# countplot \n",
    "plt.figure(figsize=(20,4))\n",
    "sns.countplot(x='MODEL', data=df[:40])\n",
    "plt.xticks(rotation=15);"
   ]
  },
  {
   "cell_type": "code",
   "execution_count": null,
   "id": "cf6cc8be",
   "metadata": {},
   "outputs": [],
   "source": [
    "num_cols"
   ]
  },
  {
   "cell_type": "code",
   "execution_count": null,
   "id": "2aab2341",
   "metadata": {},
   "outputs": [],
   "source": [
    "cat_cols"
   ]
  },
  {
   "cell_type": "code",
   "execution_count": null,
   "id": "cc22fc24",
   "metadata": {},
   "outputs": [],
   "source": [
    "# snippt to find size of key in \"string\"-like feature\n",
    "# there are 279 states in the first word in \"Model\" feature\n",
    "cat_cols_val=df['MODEL'].values\n",
    "new_cat_cols_val = [col.split(' ')[0] for col in cat_cols_val]\n",
    "\n",
    "len(set(new_cat_cols_val))"
   ]
  },
  {
   "cell_type": "code",
   "execution_count": null,
   "id": "dc736b6d",
   "metadata": {},
   "outputs": [],
   "source": [
    "# Snippt to map string-like feature to its frequency\n",
    "MODEL_dict = df['MODEL'].value_counts().to_dict()\n",
    "#\n",
    "#set(MODEL_dict.values())\n",
    "# {1, 2, 3, 4, 5, 6, 8}\n",
    "df['MODEL_freq_enc'] = df['MODEL'].map(MODEL_dict)"
   ]
  },
  {
   "cell_type": "markdown",
   "id": "94e5a3b2",
   "metadata": {},
   "source": [
    "Visualisation\n",
    "---\n",
    "1. histogram, numerical feature,\n",
    "2. countplot, the frequency, categrorical features\n",
    "3. Relation\n",
    "   - corelation matrix, numerical feature\n",
    "   - boxplot, categorical feature vs numerical target"
   ]
  },
  {
   "cell_type": "code",
   "execution_count": null,
   "id": "1312df1c",
   "metadata": {},
   "outputs": [],
   "source": [
    "def plot_numeric_distribution(df,num_cols):\n",
    "    for col in num_cols:\n",
    "        plt.figure(figsizecor=(6, 4))\n",
    "        sns.histplot(df[col], kde=False)\n",
    "        plt.title(col)\n",
    "        plt.show()\n",
    "\n",
    "plot_numeric_distribution(df,num_cols)       "
   ]
  },
  {
   "cell_type": "code",
   "execution_count": null,
   "id": "e9f11a1f",
   "metadata": {},
   "outputs": [],
   "source": [
    "# use bar charts or frequency tables to visualize the distribution of these categorical columns\n",
    "def plot_categorical_distribution(df,cols,rot=45):\n",
    "    for col in cols:    \n",
    "        plt.figure(figsize=(12,4))\n",
    "        sns.countplot(x=col, data=df)\n",
    "        plt.title(col)\n",
    "        plt.xticks(rotation=rot)\n",
    "        plt.show()\n",
    "#plot_categorical_distribution(df,cat_cols)\n",
    "plot_categorical_distribution(df,cat_cols)       "
   ]
  },
  {
   "cell_type": "code",
   "execution_count": null,
   "id": "1024e614",
   "metadata": {},
   "outputs": [],
   "source": [
    "# use boxplots to visualize the relationship between categorical and numerical columns\n",
    "def plot_categorical_numerical_relationship(df,cat_cols,num_cols):\n",
    "    for cat_col in cat_cols:\n",
    "        for num_col in num_cols:\n",
    "            plt.figure(figsize=(8, 6))\n",
    "            sns.boxplot(x=cat_col, y=num_col, data=df)\n",
    "            plt.title(cat_col + ' vs ' + num_col)\n",
    "            plt.xticks(rotation=45)\n",
    "            plt.show()"
   ]
  },
  {
   "cell_type": "code",
   "execution_count": null,
   "id": "c77830ec",
   "metadata": {
    "scrolled": false
   },
   "outputs": [],
   "source": [
    "# Model too noisy to use\n",
    "plot_categorical_numerical_relationship(df,cat_cols,['CO2EMISSIONS'])"
   ]
  },
  {
   "cell_type": "code",
   "execution_count": null,
   "id": "7647126a",
   "metadata": {},
   "outputs": [],
   "source": [
    "# correlation between numerical columns\n",
    "def plot_correlation(df,num_cols):\n",
    "    plt.figure(figsize=(10, 8))\n",
    "    sns.heatmap(df[num_cols].corr(), annot=True, cmap='coolwarm')\n",
    "    plt.show()\n",
    "plot_correlation(df,num_cols)   "
   ]
  },
  {
   "cell_type": "markdown",
   "id": "181de3e1",
   "metadata": {},
   "source": [
    "Feature Encoding \n",
    "---\n",
    "Build model, requires \"numbers\" only; but\n",
    "1. For numerical data: whether and what  is data distributed statistically?\n",
    "2. For categorical data, just encode them into numerical ones; we can use the package, `catgorical_coders`, to make it.\n",
    "   - 'one-hot': suppose that feature = `['A','B',...]`, then create new features, `'A','B',...`, set to 1 if data is in 'A',  else 0.\n",
    "\n",
    "```        \n",
    "feature: 'A','B'\n",
    "data/.   feature\n",
    "1           A\n",
    "2           1\n",
    "            ⬇︎\n",
    "data/.   feature    feature_A.  feature_B\n",
    "1           A          1           0\n",
    "2           B          0           1            \n",
    "```\n",
    "   - LeaveOneOut Encoder, encode by the same category of data but except itself, suitable for feature having outlier.\n",
    "       \n",
    "```\n",
    "import category_encoders as ce\n",
    "encoder = ce.LeaveOneOutEncoder(cols=[...])\n",
    "encoder.fit(X, y)\n",
    "Xt = encoder.transform(X_new)\n",
    "\n",
    "data/.   X.  y          data/.  X  Xt   y    \n",
    "1.       A   10          1      A  20  10   20/1\n",
    "2        A.  20          2      A. 10. 20   10/1 \n",
    "3.       B.  20   ➠      3.     B  25. 20   (30+20)/2\n",
    "4.       B.  30          4.     B. 20. 30   (20+20)/2\n",
    "5.       B   20          5.     B. 25. 20   (20+30)/2\n",
    "```\n",
    "   - Others, [Beta Target Encoding](https://www.kaggle.com/mmotoki/avito-target-encoding), [Generalized linear mixed model](https://github.com/scikit-learn-contrib/category_encoders)"
   ]
  },
  {
   "cell_type": "code",
   "execution_count": null,
   "id": "d597080a",
   "metadata": {},
   "outputs": [],
   "source": [
    "features=['ENGINESIZE', 'CYLINDERS', 'FUELCONSUMPTION_CITY', \n",
    "       'FUELCONSUMPTION_HWY', 'FUELCONSUMPTION_COMB', \n",
    "       'FUELCONSUMPTION_COMB_MPG',\n",
    "        'MAKE','VEHICLECLASS', 'TRANSMISSION', 'FUELTYPE',\n",
    "        'CO2EMISSIONS']"
   ]
  },
  {
   "cell_type": "code",
   "execution_count": null,
   "id": "b67df205",
   "metadata": {},
   "outputs": [],
   "source": [
    "# model by pycaret\n",
    "from pycaret.regression import *\n"
   ]
  },
  {
   "cell_type": "code",
   "execution_count": null,
   "id": "1c6b18c5",
   "metadata": {},
   "outputs": [],
   "source": [
    "data=df[features]\n",
    "\n",
    "s = setup(data = data, target = 'CO2EMISSIONS', session_id=123)"
   ]
  },
  {
   "cell_type": "code",
   "execution_count": null,
   "id": "cef093a2",
   "metadata": {},
   "outputs": [],
   "source": [
    "best = compare_models()"
   ]
  },
  {
   "cell_type": "code",
   "execution_count": null,
   "id": "64cd7a09",
   "metadata": {},
   "outputs": [],
   "source": [
    "best"
   ]
  },
  {
   "cell_type": "code",
   "execution_count": null,
   "id": "97c40e2e",
   "metadata": {},
   "outputs": [],
   "source": [
    "# Linear model, fast is its advantage\n",
    "lr=create_model('lr')"
   ]
  },
  {
   "cell_type": "code",
   "execution_count": null,
   "id": "f08deb65",
   "metadata": {},
   "outputs": [],
   "source": [
    "# auto-turning parameters\n",
    "tuned_lr= tune_model(lr)"
   ]
  },
  {
   "cell_type": "code",
   "execution_count": null,
   "id": "a3d138c3",
   "metadata": {},
   "outputs": [],
   "source": [
    "final_lr= finalize_model(tuned_lr)\n",
    "print(final_lr)"
   ]
  },
  {
   "cell_type": "code",
   "execution_count": null,
   "id": "cc4b60c4",
   "metadata": {},
   "outputs": [],
   "source": [
    "save_model(final_lr,'Final_lr_2023_4_27')"
   ]
  },
  {
   "cell_type": "code",
   "execution_count": null,
   "id": "b0605806",
   "metadata": {},
   "outputs": [],
   "source": [
    "saved_final_lr= load_model('Final_lr_2023_4_27')\n",
    "#predict_model(saved_final_cat)\n",
    "print(saved_final_lr)"
   ]
  },
  {
   "cell_type": "code",
   "execution_count": null,
   "id": "bfffb311",
   "metadata": {},
   "outputs": [],
   "source": [
    "# catboost\n",
    "catboost = create_model('catboost')"
   ]
  },
  {
   "cell_type": "code",
   "execution_count": null,
   "id": "c912b799",
   "metadata": {},
   "outputs": [],
   "source": [
    "tuned_cat = tune_model(catboost)"
   ]
  },
  {
   "cell_type": "code",
   "execution_count": null,
   "id": "cf19d967",
   "metadata": {},
   "outputs": [],
   "source": [
    "predict_model(tuned_cat)"
   ]
  },
  {
   "cell_type": "code",
   "execution_count": null,
   "id": "0f0d2e9b",
   "metadata": {},
   "outputs": [],
   "source": [
    "final_cat = finalize_model(tuned_cat)\n",
    "print(final_cat)"
   ]
  },
  {
   "cell_type": "code",
   "execution_count": null,
   "id": "18b0fb6f",
   "metadata": {},
   "outputs": [],
   "source": [
    "save_model(final_cat,'Final_cat_2023_4_25')"
   ]
  },
  {
   "cell_type": "markdown",
   "id": "6728f885",
   "metadata": {},
   "source": [
    "IMPORTANT NOTE\n",
    "---\n",
    "Unlike done in \"Linear Regression\" case, load \"cat_model\" is not in \"Pipeline\" mode. \n",
    "\n",
    "What is the difference between \"Model\" and \"Pipeline mode\"?\n",
    "```\n",
    "BY chatGPT\n",
    "---\n",
    "In summary:\n",
    "\n",
    "a model is a single algorithm that makes predictions on new data, \n",
    "while a pipeline is a series of data processing steps that can include one or more models, used to transform the input data into a desired output. \"Pipeline mode\" refers specifically to the use of multiple models in a pipeline.\n",
    "```\n",
    "\n",
    "This is an issue or feature of Pycaret: cound not use pycaret to \"catboost\" model. Use `pickle` to take over:"
   ]
  },
  {
   "cell_type": "code",
   "execution_count": null,
   "id": "fab107d7",
   "metadata": {},
   "outputs": [],
   "source": [
    "# loading library\n",
    "import pickle\n",
    "# create an iterator object with write permission - model.pkl\n",
    "with open('model_pkl', 'wb') as files:\n",
    "    pickle.dump(final_cat, files)\n",
    "#with open('model_pkl' , 'rb') as f:\n",
    "#    lr = pickle.load(f)"
   ]
  },
  {
   "cell_type": "code",
   "execution_count": null,
   "id": "4e9c391d",
   "metadata": {},
   "outputs": [],
   "source": [
    "saved_final_cat = load_model('model_pkl')\n",
    "print(saved_final_cat)"
   ]
  },
  {
   "cell_type": "code",
   "execution_count": null,
   "id": "6b85840e",
   "metadata": {},
   "outputs": [],
   "source": [
    "# interpret summary model\n",
    "interpret_model(saved_final_cat, plot = 'summary')"
   ]
  },
  {
   "cell_type": "markdown",
   "id": "21c085da",
   "metadata": {},
   "source": [
    "Streamlit Artifact\n",
    "---\n",
    "1. Create UI for input\n",
    "2. Predict and display output:\n",
    "\n",
    "```\n",
    "import streamlit as st\n",
    "import numpy as np\n",
    "import pandas as pd\n",
    "\n",
    "from pycaret.regression import load_model, predict_model,setup\n",
    "\n",
    "file=\"https://raw.githubusercontent.com/cchuang2009/2022-1/main/Python_IM/2023-2/data/FuelConsumptionCo2.csv\"\n",
    "\n",
    "df = pd.read_csv(file)\n",
    "\n",
    "num_cols=['ENGINESIZE', 'CYLINDERS','FUELCONSUMPTION_CITY','FUELCONSUMPTION_HWY',\\\n",
    "          'FUELCONSUMPTION_COMB','FUELCONSUMPTION_COMB_MPG']\n",
    "cat_cols=['MAKE','VEHICLECLASS','TRANSMISSION','FUELTYPE']\n",
    "target=['CO2EMISSIONS']\n",
    "```\n",
    "```\n",
    "model_cat = load_model('model_pkl')\n",
    "st.title('CO2 Emission of Vehicles')\n",
    "\n",
    "st.markdown(\"## 汽車二氧化碳排放量\")\n",
    "st.subheader('CO2 Emission of Vehicle')\n",
    "\n",
    "features = num_cols + cat_cols\n",
    "\n",
    "# for num_cols\n",
    "col_values = []\n",
    "for col in num_cols:\n",
    "    col_value = st.slider(col, min_value=float(df[col].min()), max_value=float(df[col].max()), value=float(df[col].median()))\n",
    "    col_values.append(col_value)\n",
    "num_values = [col_value for col_value in col_values if isinstance(col_value, (int, float))]    \n",
    "\n",
    "# for cat_cols\n",
    "cat_values = []    \n",
    "for col in cat_cols:\n",
    "    ops = list(df[col].unique())   \n",
    "    cat_value = st.selectbox(col, options=ops, index=0)\n",
    "    cat_values.append(cat_value)\n",
    "cat_values = [cat_value for cat_value in cat_values if isinstance(cat_value, str)]\n",
    "\n",
    "final_features = np.array(num_values + cat_values).reshape(1, -1)\n",
    "```\n",
    "```\n",
    "if st.button('Estimate'):\n",
    "    new_data=pd.DataFrame(data=final_features,columns=num_cols + cat_cols)\n",
    "    prediction=predict_model(estimator=model_cat, data=new_data)\n",
    "    st.balloons()\n",
    "    result=int(prediction['prediction_label'][0])\n",
    "    st.success(\n",
    "        f' Estimated CO2 Emission is {result}')\n",
    "\n",
    "```\n",
    "\n",
    "[Artifact](https://github.com/cchuang2009/2022-1/blob/main/Python_IM/2023-2/CO2.png)\n",
    "\n",
    "<img src=\"CO2.png\" width=70% />"
   ]
  },
  {
   "cell_type": "code",
   "execution_count": null,
   "id": "6e6c05e3",
   "metadata": {},
   "outputs": [],
   "source": [
    "https://www.solutionfun.info/landingpage/7f3c2cc9-47a0-4db6-b493-16eedddaeab2/frcCOgf_b5GvN2be-XIufT_40g2KGHkXWUo_f7MkGNU"
   ]
  }
 ],
 "metadata": {
  "hide_input": false,
  "kernelspec": {
   "display_name": "Python 3",
   "language": "python",
   "name": "python3"
  },
  "language_info": {
   "codemirror_mode": {
    "name": "ipython",
    "version": 3
   },
   "file_extension": ".py",
   "mimetype": "text/x-python",
   "name": "python",
   "nbconvert_exporter": "python",
   "pygments_lexer": "ipython3",
   "version": "3.8.5"
  }
 },
 "nbformat": 4,
 "nbformat_minor": 5
}
