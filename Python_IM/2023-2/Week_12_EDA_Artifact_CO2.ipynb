{
 "cells": [
  {
   "cell_type": "markdown",
   "id": "f6f15568",
   "metadata": {},
   "source": [
    "# ML Modeling, EDA\n",
    "\n",
    "Prelude\n",
    "---\n",
    "Ask `chatGPT` to give me a outline of EDA on this dataset, vehicle's CO2-emission, and answers:\n",
    "\n",
    "1. Explore the data types of each column: Check if each column has the right data type (e.g., numeric data should be represented as floats or integers, while categorical data should be represented as strings).\n",
    "\n",
    "2. Explore the distribution of numeric variables: Use histograms or boxplots to visualize the distribution of numeric variables such as ENGINESIZE, CYLINDERS, FUELCONSUMPTION_CITY, FUELCONSUMPTION_HWY, FUELCONSUMPTION_COMB, and CO2EMISSIONS. This will help you understand the range, central tendency, and spread of the data.\n",
    "\n",
    "3. Explore the relationships between variables: Check if there are any correlations between the variables. You can use scatter plots or correlation matrices to visualize the relationships between variables such as ENGINESIZE, CYLINDERS, FUELCONSUMPTION_CITY, FUELCONSUMPTION_HWY, FUELCONSUMPTION_COMB, and CO2EMISSIONS. This will help you understand which variables are most strongly associated with each other.\n",
    "\n",
    "4. Explore categorical variables: Check if there are any categorical variables in the dataset, such as MAKE, MODEL, VEHICLECLASS, TRANSMISSION, and FUELTYPE. You can use bar charts or frequency tables to visualize the distribution of these variables.\n",
    "\n",
    "5. Check for outliers: Check if there are any outliers in the dataset, which could potentially skew the results of the model. You can use boxplots or scatter plots to identify any extreme values.\n",
    "\n",
    "6. Feature engineering: Consider creating new features based on existing variables in the dataset, such as calculating the average fuel consumption (FUELCONSUMPTION_AVG) or engine displacement (ENGINE_DISPLACEMENT) based on ENGINESIZE and CYLINDERS.\n",
    "\n",
    "\n",
    "Thus let us exploration to the ML modeling journey, follows this schedule.\n",
    "\n",
    "\n",
    "\n",
    "Reference\n",
    "---\n",
    "1. [src](https://medium.com/joguei-os-dados/week-3-predicting-co2-emissions-70e554ad2276)\n",
    "2. [Dataset, Kaggle](https://www.kaggle.com/gangliu/oc2emission/tasks), dataset contains information of CO2 emission from cars.\n",
    "3. Statistics, Soul of ML,\n",
    "   - Gopal K. Kanji, 100 STATISTICAL TESTS 3rd Edition, Sage Publications, 2006\n",
    "   - [Jason Brownlee , 17 Statistical Hypothesis Tests in Python (Cheat Sheet)](https://machinelearningmastery.com/statistical-hypothesis-tests-in-python-cheat-sheet/?utm_source=drip&utm_medium=email&utm_campaign=17+Statistical+Hypothesis+Tests+in+Python+%28Cheat+Sheet%29&utm_content=17+Statistical+Hypothesis+Tests+in+Python+%28Cheat+Sheet%29), comes with examples by Python"
   ]
  },
  {
   "cell_type": "code",
   "execution_count": 1,
   "id": "46989e99",
   "metadata": {},
   "outputs": [],
   "source": [
    "# import packages required\n",
    "\n",
    "import pandas as pd\n",
    "import seaborn as sns\n",
    "import matplotlib.pyplot as plt\n",
    "import numpy as np\n",
    "from math import sqrt\n",
    "\n",
    "%matplotlib inline"
   ]
  },
  {
   "cell_type": "code",
   "execution_count": 3,
   "id": "5e940984",
   "metadata": {},
   "outputs": [
    {
     "data": {
      "text/html": [
       "<div><div id=5d9a906a-f1b9-44ca-a185-8d58889b4d63 style=\"display:none; background-color:#9D6CFF; color:white; width:200px; height:30px; padding-left:5px; border-radius:4px; flex-direction:row; justify-content:space-around; align-items:center;\" onmouseover=\"this.style.backgroundColor='#BA9BF8'\" onmouseout=\"this.style.backgroundColor='#9D6CFF'\" onclick=\"window.commands?.execute('create-mitosheet-from-dataframe-output');\">See Full Dataframe in Mito</div> <script> if (window.commands?.hasCommand('create-mitosheet-from-dataframe-output')) document.getElementById('5d9a906a-f1b9-44ca-a185-8d58889b4d63').style.display = 'flex' </script> <table border=\"1\" class=\"dataframe\">\n",
       "  <thead>\n",
       "    <tr style=\"text-align: right;\">\n",
       "      <th></th>\n",
       "      <th>MODELYEAR</th>\n",
       "      <th>MAKE</th>\n",
       "      <th>MODEL</th>\n",
       "      <th>VEHICLECLASS</th>\n",
       "      <th>ENGINESIZE</th>\n",
       "      <th>CYLINDERS</th>\n",
       "      <th>TRANSMISSION</th>\n",
       "      <th>FUELTYPE</th>\n",
       "      <th>FUELCONSUMPTION_CITY</th>\n",
       "      <th>FUELCONSUMPTION_HWY</th>\n",
       "      <th>FUELCONSUMPTION_COMB</th>\n",
       "      <th>FUELCONSUMPTION_COMB_MPG</th>\n",
       "      <th>CO2EMISSIONS</th>\n",
       "    </tr>\n",
       "  </thead>\n",
       "  <tbody>\n",
       "    <tr>\n",
       "      <th>0</th>\n",
       "      <td>2014</td>\n",
       "      <td>ACURA</td>\n",
       "      <td>ILX</td>\n",
       "      <td>COMPACT</td>\n",
       "      <td>2.0</td>\n",
       "      <td>4</td>\n",
       "      <td>AS5</td>\n",
       "      <td>Z</td>\n",
       "      <td>9.9</td>\n",
       "      <td>6.7</td>\n",
       "      <td>8.5</td>\n",
       "      <td>33</td>\n",
       "      <td>196</td>\n",
       "    </tr>\n",
       "    <tr>\n",
       "      <th>1</th>\n",
       "      <td>2014</td>\n",
       "      <td>ACURA</td>\n",
       "      <td>ILX</td>\n",
       "      <td>COMPACT</td>\n",
       "      <td>2.4</td>\n",
       "      <td>4</td>\n",
       "      <td>M6</td>\n",
       "      <td>Z</td>\n",
       "      <td>11.2</td>\n",
       "      <td>7.7</td>\n",
       "      <td>9.6</td>\n",
       "      <td>29</td>\n",
       "      <td>221</td>\n",
       "    </tr>\n",
       "  </tbody>\n",
       "</table></div>"
      ],
      "text/plain": [
       "   MODELYEAR   MAKE MODEL VEHICLECLASS  ENGINESIZE  CYLINDERS TRANSMISSION  \\\n",
       "0       2014  ACURA   ILX      COMPACT         2.0          4          AS5   \n",
       "1       2014  ACURA   ILX      COMPACT         2.4          4           M6   \n",
       "\n",
       "  FUELTYPE  FUELCONSUMPTION_CITY  FUELCONSUMPTION_HWY  FUELCONSUMPTION_COMB  \\\n",
       "0        Z                   9.9                  6.7                   8.5   \n",
       "1        Z                  11.2                  7.7                   9.6   \n",
       "\n",
       "   FUELCONSUMPTION_COMB_MPG  CO2EMISSIONS  \n",
       "0                        33           196  \n",
       "1                        29           221  "
      ]
     },
     "execution_count": 3,
     "metadata": {},
     "output_type": "execute_result"
    }
   ],
   "source": [
    "## atributing dataset to a dataframe df\n",
    "file=\"https://raw.githubusercontent.com/cchuang2009/2022-1/main/Python_IM/2023-2/data/FuelConsumptionCo2.csv\"\n",
    "#df = pd.read_csv('data/FuelConsumptionCo2.csv')\n",
    "df=pd.read_csv(file)\n",
    "df.head(2)"
   ]
  },
  {
   "cell_type": "code",
   "execution_count": 4,
   "id": "06e368f7",
   "metadata": {},
   "outputs": [],
   "source": [
    "# save data\n",
    "df.to_csv(\"CO2_raw.csv\",index=0)"
   ]
  },
  {
   "cell_type": "code",
   "execution_count": 3,
   "id": "dbab4b9a",
   "metadata": {},
   "outputs": [
    {
     "name": "stdout",
     "output_type": "stream",
     "text": [
      "<class 'pandas.core.frame.DataFrame'>\n",
      "RangeIndex: 1067 entries, 0 to 1066\n",
      "Data columns (total 13 columns):\n",
      " #   Column                    Non-Null Count  Dtype  \n",
      "---  ------                    --------------  -----  \n",
      " 0   MODELYEAR                 1067 non-null   int64  \n",
      " 1   MAKE                      1067 non-null   object \n",
      " 2   MODEL                     1067 non-null   object \n",
      " 3   VEHICLECLASS              1067 non-null   object \n",
      " 4   ENGINESIZE                1067 non-null   float64\n",
      " 5   CYLINDERS                 1067 non-null   int64  \n",
      " 6   TRANSMISSION              1067 non-null   object \n",
      " 7   FUELTYPE                  1067 non-null   object \n",
      " 8   FUELCONSUMPTION_CITY      1067 non-null   float64\n",
      " 9   FUELCONSUMPTION_HWY       1067 non-null   float64\n",
      " 10  FUELCONSUMPTION_COMB      1067 non-null   float64\n",
      " 11  FUELCONSUMPTION_COMB_MPG  1067 non-null   int64  \n",
      " 12  CO2EMISSIONS              1067 non-null   int64  \n",
      "dtypes: float64(4), int64(4), object(5)\n",
      "memory usage: 108.5+ KB\n"
     ]
    }
   ],
   "source": [
    "# length of data, type of features \n",
    "# No nan data\n",
    "df.info()"
   ]
  },
  {
   "cell_type": "code",
   "execution_count": 5,
   "id": "144125b0",
   "metadata": {},
   "outputs": [
    {
     "data": {
      "text/plain": [
       "MODELYEAR                     1\n",
       "MAKE                         39\n",
       "MODEL                       663\n",
       "VEHICLECLASS                 16\n",
       "ENGINESIZE                   45\n",
       "CYLINDERS                     7\n",
       "TRANSMISSION                 22\n",
       "FUELTYPE                      4\n",
       "FUELCONSUMPTION_CITY        167\n",
       "FUELCONSUMPTION_HWY         118\n",
       "FUELCONSUMPTION_COMB        148\n",
       "FUELCONSUMPTION_COMB_MPG     43\n",
       "CO2EMISSIONS                159\n",
       "dtype: int64"
      ]
     },
     "execution_count": 5,
     "metadata": {},
     "output_type": "execute_result"
    }
   ],
   "source": [
    "# sizes of kinds of uniques in each feature\n",
    "# \"MODELYEAR\" coulde be neglicted since only one value there\n",
    "df.nunique()"
   ]
  },
  {
   "cell_type": "code",
   "execution_count": 5,
   "id": "eb1bd4e4",
   "metadata": {},
   "outputs": [],
   "source": [
    "# select numerical columns\n",
    "num_cols = list(df.select_dtypes(include=['int64','float64']).columns)\n",
    "# select categorical columns\n",
    "cat_cols = list(df.select_dtypes(include=['object','category']).columns)\n",
    "# remove the column MODELYEAR from the numerical columns since it is only one value\n",
    "num_cols.remove('MODELYEAR')"
   ]
  },
  {
   "cell_type": "code",
   "execution_count": 4,
   "id": "d4a68960",
   "metadata": {},
   "outputs": [
    {
     "data": {
      "text/plain": [
       "(222, 'A6')"
      ]
     },
     "execution_count": 4,
     "metadata": {},
     "output_type": "execute_result"
    }
   ],
   "source": [
    "# find out the count/value of most freqenency one in certain feature\n",
    "# count of values mostly in \"TRANSMISSION\" is 222 and is 'A6'\n",
    "\n",
    "df['TRANSMISSION'].value_counts().max(), df['TRANSMISSION'].value_counts().idxmax()"
   ]
  },
  {
   "cell_type": "markdown",
   "id": "a962a166",
   "metadata": {},
   "source": [
    "EDA (Exploratory Data Analysis)\n",
    "---\n",
    "by Visualization is the best way to observe the data,\n",
    "- How many different kinds are there in each feature?\n",
    "- What does the data distributed?"
   ]
  },
  {
   "cell_type": "code",
   "execution_count": null,
   "id": "fa2cbaaa",
   "metadata": {},
   "outputs": [],
   "source": [
    "# countplot \n",
    "plt.figure(figsize=(20,4))\n",
    "sns.countplot(x='MODEL', data=df[:40])\n",
    "plt.xticks(rotation=15);"
   ]
  },
  {
   "cell_type": "code",
   "execution_count": 12,
   "id": "cf6cc8be",
   "metadata": {},
   "outputs": [
    {
     "data": {
      "text/plain": [
       "['ENGINESIZE',\n",
       " 'CYLINDERS',\n",
       " 'FUELCONSUMPTION_CITY',\n",
       " 'FUELCONSUMPTION_HWY',\n",
       " 'FUELCONSUMPTION_COMB',\n",
       " 'FUELCONSUMPTION_COMB_MPG',\n",
       " 'CO2EMISSIONS']"
      ]
     },
     "execution_count": 12,
     "metadata": {},
     "output_type": "execute_result"
    }
   ],
   "source": [
    "num_cols"
   ]
  },
  {
   "cell_type": "code",
   "execution_count": 15,
   "id": "2aab2341",
   "metadata": {},
   "outputs": [
    {
     "data": {
      "text/plain": [
       "['MAKE', 'MODEL', 'VEHICLECLASS', 'TRANSMISSION', 'FUELTYPE']"
      ]
     },
     "execution_count": 15,
     "metadata": {},
     "output_type": "execute_result"
    }
   ],
   "source": [
    "cat_cols"
   ]
  },
  {
   "cell_type": "code",
   "execution_count": 7,
   "id": "cc22fc24",
   "metadata": {},
   "outputs": [
    {
     "data": {
      "text/plain": [
       "279"
      ]
     },
     "execution_count": 7,
     "metadata": {},
     "output_type": "execute_result"
    }
   ],
   "source": [
    "# snippt to find size of key in \"string\"-like feature\n",
    "# there are 279 states in the first word in \"Model\" feature\n",
    "cat_cols_val=df['MODEL'].values\n",
    "new_cat_cols_val = [col.split(' ')[0] for col in cat_cols_val]\n",
    "\n",
    "len(set(new_cat_cols_val))"
   ]
  },
  {
   "cell_type": "code",
   "execution_count": 8,
   "id": "dc736b6d",
   "metadata": {},
   "outputs": [],
   "source": [
    "# Snippt to map string-like feature to its frequency\n",
    "MODEL_dict = df['MODEL'].value_counts().to_dict()\n",
    "#\n",
    "#set(MODEL_dict.values())\n",
    "# {1, 2, 3, 4, 5, 6, 8}\n",
    "df['MODEL_freq_enc'] = df['MODEL'].map(MODEL_dict)"
   ]
  },
  {
   "cell_type": "markdown",
   "id": "94e5a3b2",
   "metadata": {},
   "source": [
    "Visualisation\n",
    "---\n",
    "1. histogram, numerical feature,\n",
    "2. countplot, the frequency, categrorical features\n",
    "3. Relation\n",
    "   - corelation matrix, numerical feature\n",
    "   - boxplot, categorical feature vs numerical target"
   ]
  },
  {
   "cell_type": "code",
   "execution_count": null,
   "id": "1312df1c",
   "metadata": {},
   "outputs": [],
   "source": [
    "def plot_numeric_distribution(df,num_cols):\n",
    "    for col in num_cols:\n",
    "        plt.figure(figsizecor=(6, 4))\n",
    "        sns.histplot(df[col], kde=False)\n",
    "        plt.title(col)\n",
    "        plt.show()\n",
    "\n",
    "plot_numeric_distribution(df,num_cols)       "
   ]
  },
  {
   "cell_type": "code",
   "execution_count": null,
   "id": "e9f11a1f",
   "metadata": {},
   "outputs": [],
   "source": [
    "# use bar charts or frequency tables to visualize the distribution of these categorical columns\n",
    "def plot_categorical_distribution(df,cols,rot=45):\n",
    "    for col in cols:    \n",
    "        plt.figure(figsize=(12,4))\n",
    "        sns.countplot(x=col, data=df)\n",
    "        plt.title(col)\n",
    "        plt.xticks(rotation=rot)\n",
    "        plt.show()\n",
    "#plot_categorical_distribution(df,cat_cols)\n",
    "plot_categorical_distribution(df,cat_cols)       "
   ]
  },
  {
   "cell_type": "code",
   "execution_count": 27,
   "id": "1024e614",
   "metadata": {},
   "outputs": [],
   "source": [
    "# use boxplots to visualize the relationship between categorical and numerical columns\n",
    "def plot_categorical_numerical_relationship(df,cat_cols,num_cols):\n",
    "    for cat_col in cat_cols:\n",
    "        for num_col in num_cols:\n",
    "            plt.figure(figsize=(8, 6))\n",
    "            sns.boxplot(x=cat_col, y=num_col, data=df)\n",
    "            plt.title(cat_col + ' vs ' + num_col)\n",
    "            plt.xticks(rotation=45)\n",
    "            plt.show()"
   ]
  },
  {
   "cell_type": "code",
   "execution_count": null,
   "id": "c77830ec",
   "metadata": {
    "scrolled": false
   },
   "outputs": [],
   "source": [
    "# Model too noisy to use\n",
    "plot_categorical_numerical_relationship(df,cat_cols,['CO2EMISSIONS'])"
   ]
  },
  {
   "cell_type": "code",
   "execution_count": null,
   "id": "7647126a",
   "metadata": {},
   "outputs": [],
   "source": [
    "# correlation between numerical columns\n",
    "def plot_correlation(df,num_cols):\n",
    "    plt.figure(figsize=(10, 8))\n",
    "    sns.heatmap(df[num_cols].corr(), annot=True, cmap='coolwarm')\n",
    "    plt.show()\n",
    "plot_correlation(df,num_cols)   "
   ]
  },
  {
   "cell_type": "markdown",
   "id": "181de3e1",
   "metadata": {},
   "source": [
    "Feature Encoding \n",
    "---\n",
    "Build model, requires \"numbers\" only; but\n",
    "1. For numerical data: whether and what  is data distributed statistically?\n",
    "2. For categorical data, just encode them into numerical ones; we can use the package, `catgorical_coders`, to make it.\n",
    "   - 'one-hot': suppose that feature = `['A','B',...]`, then create new features, `'A','B',...`, set to 1 if data is in 'A',  else 0.\n",
    "\n",
    "```        \n",
    "feature: 'A','B'\n",
    "data/.   feature\n",
    "1           A\n",
    "2           1\n",
    "            ⬇︎\n",
    "data/.   feature    feature_A.  feature_B\n",
    "1           A          1           0\n",
    "2           B          0           1            \n",
    "```\n",
    "   - LeaveOneOut Encoder, encode by the same category of data but except itself, suitable for feature having outlier.\n",
    "       \n",
    "```\n",
    "import category_encoders as ce\n",
    "encoder = ce.LeaveOneOutEncoder(cols=[...])\n",
    "encoder.fit(X, y)\n",
    "Xt = encoder.transform(X_new)\n",
    "\n",
    "data/.   X.  y          data/.  X  Xt   y    \n",
    "1.       A   10          1      A  20  10   20/1\n",
    "2        A.  20          2      A. 10. 20   10/1 \n",
    "3.       B.  20   ➠      3.     B  25. 20   (30+20)/2\n",
    "4.       B.  30          4.     B. 20. 30   (20+20)/2\n",
    "5.       B   20          5.     B. 25. 20   (20+30)/2\n",
    "```\n",
    "   - Others, [Beta Target Encoding](https://www.kaggle.com/mmotoki/avito-target-encoding), [Generalized linear mixed model](https://github.com/scikit-learn-contrib/category_encoders)"
   ]
  },
  {
   "cell_type": "code",
   "execution_count": 9,
   "id": "d597080a",
   "metadata": {},
   "outputs": [],
   "source": [
    "features=['ENGINESIZE', 'CYLINDERS', 'FUELCONSUMPTION_CITY', \n",
    "       'FUELCONSUMPTION_HWY', 'FUELCONSUMPTION_COMB', \n",
    "       'FUELCONSUMPTION_COMB_MPG',\n",
    "        'MAKE','VEHICLECLASS', 'TRANSMISSION', 'FUELTYPE',\n",
    "        'CO2EMISSIONS']"
   ]
  },
  {
   "cell_type": "code",
   "execution_count": 11,
   "id": "b67df205",
   "metadata": {},
   "outputs": [],
   "source": [
    "# model by pycaret\n",
    "from pycaret.regression import *\n"
   ]
  },
  {
   "cell_type": "code",
   "execution_count": null,
   "id": "1c6b18c5",
   "metadata": {},
   "outputs": [],
   "source": [
    "data=df[features]\n",
    "\n",
    "s = setup(data = data, target = 'CO2EMISSIONS', session_id=123)"
   ]
  },
  {
   "cell_type": "code",
   "execution_count": null,
   "id": "cef093a2",
   "metadata": {},
   "outputs": [],
   "source": [
    "best = compare_models()"
   ]
  },
  {
   "cell_type": "code",
   "execution_count": 14,
   "id": "64cd7a09",
   "metadata": {},
   "outputs": [
    {
     "data": {
      "text/html": [
       "<style>#sk-container-id-1 {color: black;background-color: white;}#sk-container-id-1 pre{padding: 0;}#sk-container-id-1 div.sk-toggleable {background-color: white;}#sk-container-id-1 label.sk-toggleable__label {cursor: pointer;display: block;width: 100%;margin-bottom: 0;padding: 0.3em;box-sizing: border-box;text-align: center;}#sk-container-id-1 label.sk-toggleable__label-arrow:before {content: \"▸\";float: left;margin-right: 0.25em;color: #696969;}#sk-container-id-1 label.sk-toggleable__label-arrow:hover:before {color: black;}#sk-container-id-1 div.sk-estimator:hover label.sk-toggleable__label-arrow:before {color: black;}#sk-container-id-1 div.sk-toggleable__content {max-height: 0;max-width: 0;overflow: hidden;text-align: left;background-color: #f0f8ff;}#sk-container-id-1 div.sk-toggleable__content pre {margin: 0.2em;color: black;border-radius: 0.25em;background-color: #f0f8ff;}#sk-container-id-1 input.sk-toggleable__control:checked~div.sk-toggleable__content {max-height: 200px;max-width: 100%;overflow: auto;}#sk-container-id-1 input.sk-toggleable__control:checked~label.sk-toggleable__label-arrow:before {content: \"▾\";}#sk-container-id-1 div.sk-estimator input.sk-toggleable__control:checked~label.sk-toggleable__label {background-color: #d4ebff;}#sk-container-id-1 div.sk-label input.sk-toggleable__control:checked~label.sk-toggleable__label {background-color: #d4ebff;}#sk-container-id-1 input.sk-hidden--visually {border: 0;clip: rect(1px 1px 1px 1px);clip: rect(1px, 1px, 1px, 1px);height: 1px;margin: -1px;overflow: hidden;padding: 0;position: absolute;width: 1px;}#sk-container-id-1 div.sk-estimator {font-family: monospace;background-color: #f0f8ff;border: 1px dotted black;border-radius: 0.25em;box-sizing: border-box;margin-bottom: 0.5em;}#sk-container-id-1 div.sk-estimator:hover {background-color: #d4ebff;}#sk-container-id-1 div.sk-parallel-item::after {content: \"\";width: 100%;border-bottom: 1px solid gray;flex-grow: 1;}#sk-container-id-1 div.sk-label:hover label.sk-toggleable__label {background-color: #d4ebff;}#sk-container-id-1 div.sk-serial::before {content: \"\";position: absolute;border-left: 1px solid gray;box-sizing: border-box;top: 0;bottom: 0;left: 50%;z-index: 0;}#sk-container-id-1 div.sk-serial {display: flex;flex-direction: column;align-items: center;background-color: white;padding-right: 0.2em;padding-left: 0.2em;position: relative;}#sk-container-id-1 div.sk-item {position: relative;z-index: 1;}#sk-container-id-1 div.sk-parallel {display: flex;align-items: stretch;justify-content: center;background-color: white;position: relative;}#sk-container-id-1 div.sk-item::before, #sk-container-id-1 div.sk-parallel-item::before {content: \"\";position: absolute;border-left: 1px solid gray;box-sizing: border-box;top: 0;bottom: 0;left: 50%;z-index: -1;}#sk-container-id-1 div.sk-parallel-item {display: flex;flex-direction: column;z-index: 1;position: relative;background-color: white;}#sk-container-id-1 div.sk-parallel-item:first-child::after {align-self: flex-end;width: 50%;}#sk-container-id-1 div.sk-parallel-item:last-child::after {align-self: flex-start;width: 50%;}#sk-container-id-1 div.sk-parallel-item:only-child::after {width: 0;}#sk-container-id-1 div.sk-dashed-wrapped {border: 1px dashed gray;margin: 0 0.4em 0.5em 0.4em;box-sizing: border-box;padding-bottom: 0.4em;background-color: white;}#sk-container-id-1 div.sk-label label {font-family: monospace;font-weight: bold;display: inline-block;line-height: 1.2em;}#sk-container-id-1 div.sk-label-container {text-align: center;}#sk-container-id-1 div.sk-container {/* jupyter's `normalize.less` sets `[hidden] { display: none; }` but bootstrap.min.css set `[hidden] { display: none !important; }` so we also need the `!important` here to be able to override the default hidden behavior on the sphinx rendered scikit-learn.org. See: https://github.com/scikit-learn/scikit-learn/issues/21755 */display: inline-block !important;position: relative;}#sk-container-id-1 div.sk-text-repr-fallback {display: none;}</style><div id=\"sk-container-id-1\" class=\"sk-top-container\"><div class=\"sk-text-repr-fallback\"><pre>ExtraTreesRegressor(n_jobs=-1, random_state=123)</pre><b>In a Jupyter environment, please rerun this cell to show the HTML representation or trust the notebook. <br />On GitHub, the HTML representation is unable to render, please try loading this page with nbviewer.org.</b></div><div class=\"sk-container\" hidden><div class=\"sk-item\"><div class=\"sk-estimator sk-toggleable\"><input class=\"sk-toggleable__control sk-hidden--visually\" id=\"sk-estimator-id-1\" type=\"checkbox\" checked><label for=\"sk-estimator-id-1\" class=\"sk-toggleable__label sk-toggleable__label-arrow\">ExtraTreesRegressor</label><div class=\"sk-toggleable__content\"><pre>ExtraTreesRegressor(n_jobs=-1, random_state=123)</pre></div></div></div></div></div>"
      ],
      "text/plain": [
       "ExtraTreesRegressor(n_jobs=-1, random_state=123)"
      ]
     },
     "execution_count": 14,
     "metadata": {},
     "output_type": "execute_result"
    }
   ],
   "source": [
    "best"
   ]
  },
  {
   "cell_type": "code",
   "execution_count": null,
   "id": "97c40e2e",
   "metadata": {},
   "outputs": [],
   "source": [
    "# Linear model, fast is its advantage\n",
    "lr=create_model('lr')"
   ]
  },
  {
   "cell_type": "code",
   "execution_count": null,
   "id": "f08deb65",
   "metadata": {},
   "outputs": [],
   "source": [
    "# auto-turning parameters\n",
    "tuned_lr= tune_model(lr)"
   ]
  },
  {
   "cell_type": "code",
   "execution_count": 17,
   "id": "a3d138c3",
   "metadata": {},
   "outputs": [
    {
     "name": "stdout",
     "output_type": "stream",
     "text": [
      "Pipeline(memory=FastMemory(location=/var/folders/xb/s7vwrt4153xbxzr8hc8tbdtr0000gn/T/joblib),\n",
      "         steps=[('numerical_imputer',\n",
      "                 TransformerWrapper(include=['ENGINESIZE', 'CYLINDERS',\n",
      "                                             'FUELCONSUMPTION_CITY',\n",
      "                                             'FUELCONSUMPTION_HWY',\n",
      "                                             'FUELCONSUMPTION_COMB',\n",
      "                                             'FUELCONSUMPTION_COMB_MPG'],\n",
      "                                    transformer=SimpleImputer())),\n",
      "                ('categorical_imputer',\n",
      "                 TransformerWrapper(include=...\n",
      "                 TransformerWrapper(include=['VEHICLECLASS', 'TRANSMISSION',\n",
      "                                             'FUELTYPE'],\n",
      "                                    transformer=OneHotEncoder(cols=['VEHICLECLASS',\n",
      "                                                                    'TRANSMISSION',\n",
      "                                                                    'FUELTYPE'],\n",
      "                                                              handle_missing='return_nan',\n",
      "                                                              use_cat_names=True))),\n",
      "                ('rest_encoding',\n",
      "                 TransformerWrapper(include=['MAKE'],\n",
      "                                    transformer=LeaveOneOutEncoder(cols=['MAKE'],\n",
      "                                                                   handle_missing='return_nan',\n",
      "                                                                   random_state=123))),\n",
      "                ('actual_estimator', LinearRegression(n_jobs=-1))])\n"
     ]
    }
   ],
   "source": [
    "final_lr= finalize_model(tuned_lr)\n",
    "print(final_lr)"
   ]
  },
  {
   "cell_type": "code",
   "execution_count": 18,
   "id": "cc4b60c4",
   "metadata": {},
   "outputs": [
    {
     "name": "stdout",
     "output_type": "stream",
     "text": [
      "Transformation Pipeline and Model Successfully Saved\n"
     ]
    },
    {
     "data": {
      "text/plain": [
       "(Pipeline(memory=FastMemory(location=/var/folders/xb/s7vwrt4153xbxzr8hc8tbdtr0000gn/T/joblib),\n",
       "          steps=[('numerical_imputer',\n",
       "                  TransformerWrapper(include=['ENGINESIZE', 'CYLINDERS',\n",
       "                                              'FUELCONSUMPTION_CITY',\n",
       "                                              'FUELCONSUMPTION_HWY',\n",
       "                                              'FUELCONSUMPTION_COMB',\n",
       "                                              'FUELCONSUMPTION_COMB_MPG'],\n",
       "                                     transformer=SimpleImputer())),\n",
       "                 ('categorical_imputer',\n",
       "                  TransformerWrapper(include=...\n",
       "                  TransformerWrapper(include=['VEHICLECLASS', 'TRANSMISSION',\n",
       "                                              'FUELTYPE'],\n",
       "                                     transformer=OneHotEncoder(cols=['VEHICLECLASS',\n",
       "                                                                     'TRANSMISSION',\n",
       "                                                                     'FUELTYPE'],\n",
       "                                                               handle_missing='return_nan',\n",
       "                                                               use_cat_names=True))),\n",
       "                 ('rest_encoding',\n",
       "                  TransformerWrapper(include=['MAKE'],\n",
       "                                     transformer=LeaveOneOutEncoder(cols=['MAKE'],\n",
       "                                                                    handle_missing='return_nan',\n",
       "                                                                    random_state=123))),\n",
       "                 ('actual_estimator', LinearRegression(n_jobs=-1))]),\n",
       " 'Final_lr_2023_4_27.pkl')"
      ]
     },
     "execution_count": 18,
     "metadata": {},
     "output_type": "execute_result"
    }
   ],
   "source": [
    "save_model(final_lr,'Final_lr_2023_4_27')"
   ]
  },
  {
   "cell_type": "code",
   "execution_count": 21,
   "id": "b0605806",
   "metadata": {},
   "outputs": [
    {
     "name": "stdout",
     "output_type": "stream",
     "text": [
      "Transformation Pipeline and Model Successfully Loaded\n",
      "Pipeline(memory=FastMemory(location=/var/folders/xb/s7vwrt4153xbxzr8hc8tbdtr0000gn/T/joblib),\n",
      "         steps=[('numerical_imputer',\n",
      "                 TransformerWrapper(include=['ENGINESIZE', 'CYLINDERS',\n",
      "                                             'FUELCONSUMPTION_CITY',\n",
      "                                             'FUELCONSUMPTION_HWY',\n",
      "                                             'FUELCONSUMPTION_COMB',\n",
      "                                             'FUELCONSUMPTION_COMB_MPG'],\n",
      "                                    transformer=SimpleImputer())),\n",
      "                ('categorical_imputer',\n",
      "                 TransformerWrapper(include=...\n",
      "                 TransformerWrapper(include=['VEHICLECLASS', 'TRANSMISSION',\n",
      "                                             'FUELTYPE'],\n",
      "                                    transformer=OneHotEncoder(cols=['VEHICLECLASS',\n",
      "                                                                    'TRANSMISSION',\n",
      "                                                                    'FUELTYPE'],\n",
      "                                                              handle_missing='return_nan',\n",
      "                                                              use_cat_names=True))),\n",
      "                ('rest_encoding',\n",
      "                 TransformerWrapper(include=['MAKE'],\n",
      "                                    transformer=LeaveOneOutEncoder(cols=['MAKE'],\n",
      "                                                                   handle_missing='return_nan',\n",
      "                                                                   random_state=123))),\n",
      "                ('actual_estimator', LinearRegression(n_jobs=-1))])\n"
     ]
    }
   ],
   "source": [
    "saved_final_lr= load_model('Final_lr_2023_4_27')\n",
    "#predict_model(saved_final_cat)\n",
    "print(saved_final_lr)"
   ]
  },
  {
   "cell_type": "code",
   "execution_count": null,
   "id": "bfffb311",
   "metadata": {},
   "outputs": [],
   "source": [
    "# catboost\n",
    "catboost = create_model('catboost')"
   ]
  },
  {
   "cell_type": "code",
   "execution_count": null,
   "id": "c912b799",
   "metadata": {},
   "outputs": [],
   "source": [
    "tuned_cat = tune_model(catboost)"
   ]
  },
  {
   "cell_type": "code",
   "execution_count": 21,
   "id": "cf19d967",
   "metadata": {},
   "outputs": [
    {
     "data": {
      "text/html": [
       "<style type=\"text/css\">\n",
       "</style>\n",
       "<table id=\"T_0d057\">\n",
       "  <thead>\n",
       "    <tr>\n",
       "      <th class=\"blank level0\" >&nbsp;</th>\n",
       "      <th id=\"T_0d057_level0_col0\" class=\"col_heading level0 col0\" >Model</th>\n",
       "      <th id=\"T_0d057_level0_col1\" class=\"col_heading level0 col1\" >MAE</th>\n",
       "      <th id=\"T_0d057_level0_col2\" class=\"col_heading level0 col2\" >MSE</th>\n",
       "      <th id=\"T_0d057_level0_col3\" class=\"col_heading level0 col3\" >RMSE</th>\n",
       "      <th id=\"T_0d057_level0_col4\" class=\"col_heading level0 col4\" >R2</th>\n",
       "      <th id=\"T_0d057_level0_col5\" class=\"col_heading level0 col5\" >RMSLE</th>\n",
       "      <th id=\"T_0d057_level0_col6\" class=\"col_heading level0 col6\" >MAPE</th>\n",
       "    </tr>\n",
       "  </thead>\n",
       "  <tbody>\n",
       "    <tr>\n",
       "      <th id=\"T_0d057_level0_row0\" class=\"row_heading level0 row0\" >0</th>\n",
       "      <td id=\"T_0d057_row0_col0\" class=\"data row0 col0\" >CatBoost Regressor</td>\n",
       "      <td id=\"T_0d057_row0_col1\" class=\"data row0 col1\" >1.4961</td>\n",
       "      <td id=\"T_0d057_row0_col2\" class=\"data row0 col2\" >6.9455</td>\n",
       "      <td id=\"T_0d057_row0_col3\" class=\"data row0 col3\" >2.6354</td>\n",
       "      <td id=\"T_0d057_row0_col4\" class=\"data row0 col4\" >0.9981</td>\n",
       "      <td id=\"T_0d057_row0_col5\" class=\"data row0 col5\" >0.0102</td>\n",
       "      <td id=\"T_0d057_row0_col6\" class=\"data row0 col6\" >0.0059</td>\n",
       "    </tr>\n",
       "  </tbody>\n",
       "</table>\n"
      ],
      "text/plain": [
       "<pandas.io.formats.style.Styler at 0x7f912a67c190>"
      ]
     },
     "metadata": {},
     "output_type": "display_data"
    },
    {
     "data": {
      "text/html": [
       "<div><div id=7a52b42a-6475-4446-95d6-b1b1f9b46758 style=\"display:none; background-color:#9D6CFF; color:white; width:200px; height:30px; padding-left:5px; border-radius:4px; flex-direction:row; justify-content:space-around; align-items:center;\" onmouseover=\"this.style.backgroundColor='#BA9BF8'\" onmouseout=\"this.style.backgroundColor='#9D6CFF'\" onclick=\"window.commands?.execute('create-mitosheet-from-dataframe-output');\">See Full Dataframe in Mito</div> <script> if (window.commands?.hasCommand('create-mitosheet-from-dataframe-output')) document.getElementById('7a52b42a-6475-4446-95d6-b1b1f9b46758').style.display = 'flex' </script> <table border=\"1\" class=\"dataframe\">\n",
       "  <thead>\n",
       "    <tr style=\"text-align: right;\">\n",
       "      <th></th>\n",
       "      <th>ENGINESIZE</th>\n",
       "      <th>CYLINDERS</th>\n",
       "      <th>FUELCONSUMPTION_CITY</th>\n",
       "      <th>FUELCONSUMPTION_HWY</th>\n",
       "      <th>FUELCONSUMPTION_COMB</th>\n",
       "      <th>FUELCONSUMPTION_COMB_MPG</th>\n",
       "      <th>MAKE</th>\n",
       "      <th>VEHICLECLASS</th>\n",
       "      <th>TRANSMISSION</th>\n",
       "      <th>FUELTYPE</th>\n",
       "      <th>CO2EMISSIONS</th>\n",
       "      <th>prediction_label</th>\n",
       "    </tr>\n",
       "  </thead>\n",
       "  <tbody>\n",
       "    <tr>\n",
       "      <th>395</th>\n",
       "      <td>1.6</td>\n",
       "      <td>4</td>\n",
       "      <td>8.0</td>\n",
       "      <td>5.8</td>\n",
       "      <td>7.0</td>\n",
       "      <td>40</td>\n",
       "      <td>FORD</td>\n",
       "      <td>SUBCOMPACT</td>\n",
       "      <td>AS6</td>\n",
       "      <td>X</td>\n",
       "      <td>161</td>\n",
       "      <td>160.908566</td>\n",
       "    </tr>\n",
       "    <tr>\n",
       "      <th>373</th>\n",
       "      <td>3.5</td>\n",
       "      <td>6</td>\n",
       "      <td>15.4</td>\n",
       "      <td>11.0</td>\n",
       "      <td>13.4</td>\n",
       "      <td>21</td>\n",
       "      <td>FORD</td>\n",
       "      <td>PICKUP TRUCK - STANDARD</td>\n",
       "      <td>AS6</td>\n",
       "      <td>X</td>\n",
       "      <td>308</td>\n",
       "      <td>307.927231</td>\n",
       "    </tr>\n",
       "    <tr>\n",
       "      <th>558</th>\n",
       "      <td>3.0</td>\n",
       "      <td>6</td>\n",
       "      <td>14.7</td>\n",
       "      <td>9.6</td>\n",
       "      <td>12.4</td>\n",
       "      <td>23</td>\n",
       "      <td>JAGUAR</td>\n",
       "      <td>FULL-SIZE</td>\n",
       "      <td>AS8</td>\n",
       "      <td>Z</td>\n",
       "      <td>285</td>\n",
       "      <td>285.367997</td>\n",
       "    </tr>\n",
       "    <tr>\n",
       "      <th>670</th>\n",
       "      <td>4.6</td>\n",
       "      <td>8</td>\n",
       "      <td>15.1</td>\n",
       "      <td>10.3</td>\n",
       "      <td>12.9</td>\n",
       "      <td>22</td>\n",
       "      <td>LEXUS</td>\n",
       "      <td>MID-SIZE</td>\n",
       "      <td>AS8</td>\n",
       "      <td>Z</td>\n",
       "      <td>297</td>\n",
       "      <td>296.783460</td>\n",
       "    </tr>\n",
       "    <tr>\n",
       "      <th>278</th>\n",
       "      <td>3.6</td>\n",
       "      <td>6</td>\n",
       "      <td>17.0</td>\n",
       "      <td>11.2</td>\n",
       "      <td>14.4</td>\n",
       "      <td>20</td>\n",
       "      <td>CHRYSLER</td>\n",
       "      <td>COMPACT</td>\n",
       "      <td>A6</td>\n",
       "      <td>E</td>\n",
       "      <td>230</td>\n",
       "      <td>231.005012</td>\n",
       "    </tr>\n",
       "    <tr>\n",
       "      <th>...</th>\n",
       "      <td>...</td>\n",
       "      <td>...</td>\n",
       "      <td>...</td>\n",
       "      <td>...</td>\n",
       "      <td>...</td>\n",
       "      <td>...</td>\n",
       "      <td>...</td>\n",
       "      <td>...</td>\n",
       "      <td>...</td>\n",
       "      <td>...</td>\n",
       "      <td>...</td>\n",
       "      <td>...</td>\n",
       "    </tr>\n",
       "    <tr>\n",
       "      <th>656</th>\n",
       "      <td>2.5</td>\n",
       "      <td>4</td>\n",
       "      <td>5.8</td>\n",
       "      <td>6.2</td>\n",
       "      <td>6.0</td>\n",
       "      <td>47</td>\n",
       "      <td>LEXUS</td>\n",
       "      <td>MID-SIZE</td>\n",
       "      <td>AV6</td>\n",
       "      <td>X</td>\n",
       "      <td>138</td>\n",
       "      <td>138.375147</td>\n",
       "    </tr>\n",
       "    <tr>\n",
       "      <th>59</th>\n",
       "      <td>3.0</td>\n",
       "      <td>6</td>\n",
       "      <td>13.3</td>\n",
       "      <td>9.5</td>\n",
       "      <td>11.6</td>\n",
       "      <td>24</td>\n",
       "      <td>AUDI</td>\n",
       "      <td>SUBCOMPACT</td>\n",
       "      <td>A7</td>\n",
       "      <td>Z</td>\n",
       "      <td>267</td>\n",
       "      <td>265.561271</td>\n",
       "    </tr>\n",
       "    <tr>\n",
       "      <th>811</th>\n",
       "      <td>1.6</td>\n",
       "      <td>4</td>\n",
       "      <td>9.1</td>\n",
       "      <td>6.7</td>\n",
       "      <td>8.0</td>\n",
       "      <td>35</td>\n",
       "      <td>MINI</td>\n",
       "      <td>TWO-SEATER</td>\n",
       "      <td>M6</td>\n",
       "      <td>Z</td>\n",
       "      <td>184</td>\n",
       "      <td>183.902371</td>\n",
       "    </tr>\n",
       "    <tr>\n",
       "      <th>578</th>\n",
       "      <td>2.0</td>\n",
       "      <td>4</td>\n",
       "      <td>10.2</td>\n",
       "      <td>7.8</td>\n",
       "      <td>9.1</td>\n",
       "      <td>31</td>\n",
       "      <td>JEEP</td>\n",
       "      <td>SUV - SMALL</td>\n",
       "      <td>M5</td>\n",
       "      <td>X</td>\n",
       "      <td>209</td>\n",
       "      <td>209.580574</td>\n",
       "    </tr>\n",
       "    <tr>\n",
       "      <th>590</th>\n",
       "      <td>2.0</td>\n",
       "      <td>4</td>\n",
       "      <td>10.2</td>\n",
       "      <td>7.8</td>\n",
       "      <td>9.1</td>\n",
       "      <td>31</td>\n",
       "      <td>JEEP</td>\n",
       "      <td>SUV - SMALL</td>\n",
       "      <td>M5</td>\n",
       "      <td>X</td>\n",
       "      <td>209</td>\n",
       "      <td>209.580574</td>\n",
       "    </tr>\n",
       "  </tbody>\n",
       "</table></div>"
      ],
      "text/plain": [
       "     ENGINESIZE  CYLINDERS  FUELCONSUMPTION_CITY  FUELCONSUMPTION_HWY  \\\n",
       "395         1.6          4                   8.0                  5.8   \n",
       "373         3.5          6                  15.4                 11.0   \n",
       "558         3.0          6                  14.7                  9.6   \n",
       "670         4.6          8                  15.1                 10.3   \n",
       "278         3.6          6                  17.0                 11.2   \n",
       "..          ...        ...                   ...                  ...   \n",
       "656         2.5          4                   5.8                  6.2   \n",
       "59          3.0          6                  13.3                  9.5   \n",
       "811         1.6          4                   9.1                  6.7   \n",
       "578         2.0          4                  10.2                  7.8   \n",
       "590         2.0          4                  10.2                  7.8   \n",
       "\n",
       "     FUELCONSUMPTION_COMB  FUELCONSUMPTION_COMB_MPG      MAKE  \\\n",
       "395                   7.0                        40      FORD   \n",
       "373                  13.4                        21      FORD   \n",
       "558                  12.4                        23    JAGUAR   \n",
       "670                  12.9                        22     LEXUS   \n",
       "278                  14.4                        20  CHRYSLER   \n",
       "..                    ...                       ...       ...   \n",
       "656                   6.0                        47     LEXUS   \n",
       "59                   11.6                        24      AUDI   \n",
       "811                   8.0                        35      MINI   \n",
       "578                   9.1                        31      JEEP   \n",
       "590                   9.1                        31      JEEP   \n",
       "\n",
       "                VEHICLECLASS TRANSMISSION FUELTYPE  CO2EMISSIONS  \\\n",
       "395               SUBCOMPACT          AS6        X           161   \n",
       "373  PICKUP TRUCK - STANDARD          AS6        X           308   \n",
       "558                FULL-SIZE          AS8        Z           285   \n",
       "670                 MID-SIZE          AS8        Z           297   \n",
       "278                  COMPACT           A6        E           230   \n",
       "..                       ...          ...      ...           ...   \n",
       "656                 MID-SIZE          AV6        X           138   \n",
       "59                SUBCOMPACT           A7        Z           267   \n",
       "811               TWO-SEATER           M6        Z           184   \n",
       "578              SUV - SMALL           M5        X           209   \n",
       "590              SUV - SMALL           M5        X           209   \n",
       "\n",
       "     prediction_label  \n",
       "395        160.908566  \n",
       "373        307.927231  \n",
       "558        285.367997  \n",
       "670        296.783460  \n",
       "278        231.005012  \n",
       "..                ...  \n",
       "656        138.375147  \n",
       "59         265.561271  \n",
       "811        183.902371  \n",
       "578        209.580574  \n",
       "590        209.580574  \n",
       "\n",
       "[321 rows x 12 columns]"
      ]
     },
     "execution_count": 21,
     "metadata": {},
     "output_type": "execute_result"
    }
   ],
   "source": [
    "predict_model(tuned_cat)"
   ]
  },
  {
   "cell_type": "code",
   "execution_count": 22,
   "id": "0f0d2e9b",
   "metadata": {},
   "outputs": [
    {
     "name": "stdout",
     "output_type": "stream",
     "text": [
      "Pipeline(memory=FastMemory(location=/var/folders/xb/s7vwrt4153xbxzr8hc8tbdtr0000gn/T/joblib),\n",
      "         steps=[('numerical_imputer',\n",
      "                 TransformerWrapper(include=['ENGINESIZE', 'CYLINDERS',\n",
      "                                             'FUELCONSUMPTION_CITY',\n",
      "                                             'FUELCONSUMPTION_HWY',\n",
      "                                             'FUELCONSUMPTION_COMB',\n",
      "                                             'FUELCONSUMPTION_COMB_MPG'],\n",
      "                                    transformer=SimpleImputer())),\n",
      "                ('categorical_imputer',\n",
      "                 TransformerWrapper(include=...\n",
      "                                             'FUELTYPE'],\n",
      "                                    transformer=OneHotEncoder(cols=['VEHICLECLASS',\n",
      "                                                                    'TRANSMISSION',\n",
      "                                                                    'FUELTYPE'],\n",
      "                                                              handle_missing='return_nan',\n",
      "                                                              use_cat_names=True))),\n",
      "                ('rest_encoding',\n",
      "                 TransformerWrapper(include=['MAKE'],\n",
      "                                    transformer=LeaveOneOutEncoder(cols=['MAKE'],\n",
      "                                                                   handle_missing='return_nan',\n",
      "                                                                   random_state=123))),\n",
      "                ('actual_estimator',\n",
      "                 <catboost.core.CatBoostRegressor object at 0x7f911222c3d0>)])\n"
     ]
    }
   ],
   "source": [
    "final_cat = finalize_model(tuned_cat)\n",
    "print(final_cat)"
   ]
  },
  {
   "cell_type": "code",
   "execution_count": 24,
   "id": "18b0fb6f",
   "metadata": {},
   "outputs": [
    {
     "name": "stdout",
     "output_type": "stream",
     "text": [
      "Transformation Pipeline and Model Successfully Saved\n"
     ]
    },
    {
     "data": {
      "text/plain": [
       "(<catboost.core.CatBoostRegressor at 0x7f9115fabd60>,\n",
       " 'Final_cat_2023_4_25.pkl')"
      ]
     },
     "execution_count": 24,
     "metadata": {},
     "output_type": "execute_result"
    }
   ],
   "source": [
    "save_model(final_cat,'Final_cat_2023_4_25')"
   ]
  },
  {
   "cell_type": "markdown",
   "id": "6728f885",
   "metadata": {},
   "source": [
    "IMPORTANT NOTE\n",
    "---\n",
    "Unlike done in \"Linear Regression\" case, load \"cat_model\" is not in \"Pipeline\" mode. \n",
    "\n",
    "What is the difference between \"Model\" and \"Pipeline mode\"?\n",
    "```\n",
    "BY chatGPT\n",
    "---\n",
    "In summary:\n",
    "\n",
    "a model is a single algorithm that makes predictions on new data, \n",
    "while a pipeline is a series of data processing steps that can include one or more models, used to transform the input data into a desired output. \"Pipeline mode\" refers specifically to the use of multiple models in a pipeline.\n",
    "```\n",
    "\n",
    "This is an issue or feature of Pycaret: cound not use pycaret to \"catboost\" model. Use `pickle` to take over:"
   ]
  },
  {
   "cell_type": "code",
   "execution_count": 26,
   "id": "fab107d7",
   "metadata": {},
   "outputs": [],
   "source": [
    "# loading library\n",
    "import pickle\n",
    "# create an iterator object with write permission - model.pkl\n",
    "with open('model_pkl', 'wb') as files:\n",
    "    pickle.dump(final_cat, files)\n",
    "#with open('model_pkl' , 'rb') as f:\n",
    "#    lr = pickle.load(f)"
   ]
  },
  {
   "cell_type": "code",
   "execution_count": 27,
   "id": "4e9c391d",
   "metadata": {},
   "outputs": [
    {
     "name": "stdout",
     "output_type": "stream",
     "text": [
      "Transformation Pipeline and Model Successfully Loaded\n",
      "Pipeline(memory=FastMemory(location=/var/folders/xb/s7vwrt4153xbxzr8hc8tbdtr0000gn/T/joblib),\n",
      "         steps=[('numerical_imputer',\n",
      "                 TransformerWrapper(include=['ENGINESIZE', 'CYLINDERS',\n",
      "                                             'FUELCONSUMPTION_CITY',\n",
      "                                             'FUELCONSUMPTION_HWY',\n",
      "                                             'FUELCONSUMPTION_COMB',\n",
      "                                             'FUELCONSUMPTION_COMB_MPG'],\n",
      "                                    transformer=SimpleImputer())),\n",
      "                ('categorical_imputer',\n",
      "                 TransformerWrapper(include=...\n",
      "                                             'FUELTYPE'],\n",
      "                                    transformer=OneHotEncoder(cols=['VEHICLECLASS',\n",
      "                                                                    'TRANSMISSION',\n",
      "                                                                    'FUELTYPE'],\n",
      "                                                              handle_missing='return_nan',\n",
      "                                                              use_cat_names=True))),\n",
      "                ('rest_encoding',\n",
      "                 TransformerWrapper(include=['MAKE'],\n",
      "                                    transformer=LeaveOneOutEncoder(cols=['MAKE'],\n",
      "                                                                   handle_missing='return_nan',\n",
      "                                                                   random_state=123))),\n",
      "                ('actual_estimator',\n",
      "                 <catboost.core.CatBoostRegressor object at 0x7f9115fabe80>)])\n"
     ]
    }
   ],
   "source": [
    "saved_final_cat = load_model('model_pkl')\n",
    "print(saved_final_cat)"
   ]
  },
  {
   "cell_type": "code",
   "execution_count": null,
   "id": "6b85840e",
   "metadata": {},
   "outputs": [],
   "source": [
    "# interpret summary model\n",
    "interpret_model(saved_final_cat, plot = 'summary')"
   ]
  },
  {
   "cell_type": "markdown",
   "id": "21c085da",
   "metadata": {},
   "source": [
    "Streamlit Artifact\n",
    "---\n",
    "1. Create UI for input\n",
    "2. Predict and display output:\n",
    "\n",
    "```\n",
    "### app.py\n",
    "\n",
    "import streamlit as st\n",
    "import numpy as np\n",
    "import pandas as pd\n",
    "\n",
    "from pycaret.regression import load_model, predict_model,setup\n",
    "\n",
    "file=\"https://raw.githubusercontent.com/cchuang2009/2022-1/main/Python_IM/2023-2/data/FuelConsumptionCo2.csv\"\n",
    "\n",
    "df = pd.read_csv(file)\n",
    "\n",
    "num_cols=['ENGINESIZE', 'CYLINDERS','FUELCONSUMPTION_CITY','FUELCONSUMPTION_HWY',\\\n",
    "          'FUELCONSUMPTION_COMB','FUELCONSUMPTION_COMB_MPG']\n",
    "cat_cols=['MAKE','VEHICLECLASS','TRANSMISSION','FUELTYPE']\n",
    "target=['CO2EMISSIONS']\n",
    " \n",
    "model_cat = load_model('model_pkl')\n",
    "st.title('CO2 Emission of Vehicles')\n",
    "\n",
    "st.markdown(\"## 汽車二氧化碳排放量\")\n",
    "st.subheader('CO2 Emission of Vehicle')\n",
    "\n",
    "features = num_cols + cat_cols\n",
    "\n",
    "# for num_cols\n",
    "col_values = []\n",
    "for col in num_cols:\n",
    "    col_value = st.slider(col, min_value=float(df[col].min()), max_value=float(df[col].max()), value=float(df[col].median()))\n",
    "    col_values.append(col_value)\n",
    "num_values = [col_value for col_value in col_values if isinstance(col_value, (int, float))]    \n",
    "\n",
    "# for cat_cols\n",
    "cat_values = []    \n",
    "for col in cat_cols:\n",
    "    ops = list(df[col].unique())   \n",
    "    cat_value = st.selectbox(col, options=ops, index=0)\n",
    "    cat_values.append(cat_value)\n",
    "cat_values = [cat_value for cat_value in cat_values if isinstance(cat_value, str)]\n",
    "\n",
    "final_features = np.array(num_values + cat_values).reshape(1, -1)\n",
    "\n",
    "if st.button('Estimate'):\n",
    "    new_data=pd.DataFrame(data=final_features,columns=num_cols + cat_cols)\n",
    "    prediction=predict_model(estimator=model_cat, data=new_data)\n",
    "    st.balloons()\n",
    "    result=int(prediction['prediction_label'][0])\n",
    "    st.success(\n",
    "        f' Estimated CO2 Emission is {result}')\n",
    "\n",
    "```\n",
    "\n",
    "<img src=\"CO2.png\" width=70% />\n"
   ]
  },
  {
   "cell_type": "code",
   "execution_count": null,
   "id": "6e6c05e3",
   "metadata": {},
   "outputs": [],
   "source": []
  }
 ],
 "metadata": {
  "hide_input": false,
  "kernelspec": {
   "display_name": "Python 3",
   "language": "python",
   "name": "python3"
  },
  "language_info": {
   "codemirror_mode": {
    "name": "ipython",
    "version": 3
   },
   "file_extension": ".py",
   "mimetype": "text/x-python",
   "name": "python",
   "nbconvert_exporter": "python",
   "pygments_lexer": "ipython3",
   "version": "3.8.5"
  }
 },
 "nbformat": 4,
 "nbformat_minor": 5
}
