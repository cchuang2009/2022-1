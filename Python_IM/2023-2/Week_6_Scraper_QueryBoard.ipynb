{
 "cells": [
  {
   "cell_type": "markdown",
   "id": "00194478",
   "metadata": {},
   "source": [
    "Goals\n",
    "===\n",
    "1. Scrape data from public Web site: Introduce how to scrape the information of companies from Taiwan Stock Exchange. 如果從公開的資源中抓取資料？：介紹如何從台灣股市交易公司抓取上市公司資料.\n",
    "      \n",
    "2. Implement the QueryBoard: make a streamlit artifact which avails for querying company's ticker in stock market and vice vera. 製造一個查詢上市公司的代碼系統.\n",
    "\n",
    "\n",
    "Note\n",
    "---\n",
    "If any error occured, in which displayed warning \"xxx Module not found...\", use the following to install i:\n",
    "```\n",
    "pip install xxx\n",
    "```"
   ]
  },
  {
   "cell_type": "code",
   "execution_count": null,
   "id": "1e78e368",
   "metadata": {},
   "outputs": [],
   "source": []
  },
  {
   "cell_type": "code",
   "execution_count": 1,
   "id": "a8c3d4b0",
   "metadata": {},
   "outputs": [],
   "source": [
    "import streamlit as st\n",
    "import pandas as pd"
   ]
  },
  {
   "cell_type": "code",
   "execution_count": 2,
   "id": "2bb62d0e",
   "metadata": {},
   "outputs": [],
   "source": [
    "# https://www.twse.com.tw/zh/page/products/stock-code2.html\n",
    "# TAI_TWO_ind=\"https://isin.twse.com.tw/isin/C_public.jsp?strMode=4\"\n",
    "\n",
    "TAI_ind='https://isin.twse.com.tw/isin/C_public.jsp?strMode=2'\n",
    "# data encoded in Traditional Chinese, 資料使用繁體中文編碼\n",
    "df=pd.read_html(TAI_ind,encoding='cp950')"
   ]
  },
  {
   "cell_type": "code",
   "execution_count": 3,
   "id": "8e00c5e3",
   "metadata": {},
   "outputs": [
    {
     "data": {
      "text/html": [
       "<div><div id=b3985617-5741-427e-b0ee-ef4f49a4c4b0 style=\"display:none; background-color:#9D6CFF; color:white; width:200px; height:30px; padding-left:5px; border-radius:4px; flex-direction:row; justify-content:space-around; align-items:center;\" onmouseover=\"this.style.backgroundColor='#BA9BF8'\" onmouseout=\"this.style.backgroundColor='#9D6CFF'\" onclick=\"window.commands?.execute('create-mitosheet-from-dataframe-output');\">See Full Dataframe in Mito</div> <script> if (window.commands?.hasCommand('create-mitosheet-from-dataframe-output')) document.getElementById('b3985617-5741-427e-b0ee-ef4f49a4c4b0').style.display = 'flex' </script> <table border=\"1\" class=\"dataframe\">\n",
       "  <thead>\n",
       "    <tr style=\"text-align: right;\">\n",
       "      <th></th>\n",
       "      <th>0</th>\n",
       "      <th>1</th>\n",
       "      <th>2</th>\n",
       "      <th>3</th>\n",
       "      <th>4</th>\n",
       "      <th>5</th>\n",
       "      <th>6</th>\n",
       "    </tr>\n",
       "  </thead>\n",
       "  <tbody>\n",
       "    <tr>\n",
       "      <th>0</th>\n",
       "      <td>有價證券代號及名稱</td>\n",
       "      <td>國際證券辨識號碼(ISIN Code)</td>\n",
       "      <td>上市日</td>\n",
       "      <td>市場別</td>\n",
       "      <td>產業別</td>\n",
       "      <td>CFICode</td>\n",
       "      <td>備註</td>\n",
       "    </tr>\n",
       "    <tr>\n",
       "      <th>1</th>\n",
       "      <td>股票</td>\n",
       "      <td>股票</td>\n",
       "      <td>股票</td>\n",
       "      <td>股票</td>\n",
       "      <td>股票</td>\n",
       "      <td>股票</td>\n",
       "      <td>股票</td>\n",
       "    </tr>\n",
       "    <tr>\n",
       "      <th>2</th>\n",
       "      <td>1101　台泥</td>\n",
       "      <td>TW0001101004</td>\n",
       "      <td>1962/02/09</td>\n",
       "      <td>上市</td>\n",
       "      <td>水泥工業</td>\n",
       "      <td>ESVUFR</td>\n",
       "      <td>NaN</td>\n",
       "    </tr>\n",
       "    <tr>\n",
       "      <th>3</th>\n",
       "      <td>1102　亞泥</td>\n",
       "      <td>TW0001102002</td>\n",
       "      <td>1962/06/08</td>\n",
       "      <td>上市</td>\n",
       "      <td>水泥工業</td>\n",
       "      <td>ESVUFR</td>\n",
       "      <td>NaN</td>\n",
       "    </tr>\n",
       "    <tr>\n",
       "      <th>4</th>\n",
       "      <td>1103　嘉泥</td>\n",
       "      <td>TW0001103000</td>\n",
       "      <td>1969/11/14</td>\n",
       "      <td>上市</td>\n",
       "      <td>水泥工業</td>\n",
       "      <td>ESVUFR</td>\n",
       "      <td>NaN</td>\n",
       "    </tr>\n",
       "    <tr>\n",
       "      <th>...</th>\n",
       "      <td>...</td>\n",
       "      <td>...</td>\n",
       "      <td>...</td>\n",
       "      <td>...</td>\n",
       "      <td>...</td>\n",
       "      <td>...</td>\n",
       "      <td>...</td>\n",
       "    </tr>\n",
       "    <tr>\n",
       "      <th>24650</th>\n",
       "      <td>01003T　兆豐新光R1</td>\n",
       "      <td>TW00001003T4</td>\n",
       "      <td>2005/12/26</td>\n",
       "      <td>上市</td>\n",
       "      <td>NaN</td>\n",
       "      <td>CBCIXU</td>\n",
       "      <td>NaN</td>\n",
       "    </tr>\n",
       "    <tr>\n",
       "      <th>24651</th>\n",
       "      <td>01004T　土銀富邦R2</td>\n",
       "      <td>TW00001004T2</td>\n",
       "      <td>2006/04/13</td>\n",
       "      <td>上市</td>\n",
       "      <td>NaN</td>\n",
       "      <td>CBCIXU</td>\n",
       "      <td>NaN</td>\n",
       "    </tr>\n",
       "    <tr>\n",
       "      <th>24652</th>\n",
       "      <td>01007T　兆豐國泰R2</td>\n",
       "      <td>TW00001007T5</td>\n",
       "      <td>2006/10/13</td>\n",
       "      <td>上市</td>\n",
       "      <td>NaN</td>\n",
       "      <td>CBCIXU</td>\n",
       "      <td>NaN</td>\n",
       "    </tr>\n",
       "    <tr>\n",
       "      <th>24653</th>\n",
       "      <td>01009T　王道圓滿R1</td>\n",
       "      <td>TW00001009T1</td>\n",
       "      <td>2018/06/21</td>\n",
       "      <td>上市</td>\n",
       "      <td>NaN</td>\n",
       "      <td>CBCIXU</td>\n",
       "      <td>NaN</td>\n",
       "    </tr>\n",
       "    <tr>\n",
       "      <th>24654</th>\n",
       "      <td>01010T　京城樂富R1</td>\n",
       "      <td>TW00001010T9</td>\n",
       "      <td>2018/12/05</td>\n",
       "      <td>上市</td>\n",
       "      <td>NaN</td>\n",
       "      <td>CBCIXU</td>\n",
       "      <td>NaN</td>\n",
       "    </tr>\n",
       "  </tbody>\n",
       "</table></div>"
      ],
      "text/plain": [
       "                   0                    1           2    3     4        5    6\n",
       "0          有價證券代號及名稱  國際證券辨識號碼(ISIN Code)         上市日  市場別   產業別  CFICode   備註\n",
       "1                 股票                   股票          股票   股票    股票       股票   股票\n",
       "2            1101　台泥         TW0001101004  1962/02/09   上市  水泥工業   ESVUFR  NaN\n",
       "3            1102　亞泥         TW0001102002  1962/06/08   上市  水泥工業   ESVUFR  NaN\n",
       "4            1103　嘉泥         TW0001103000  1969/11/14   上市  水泥工業   ESVUFR  NaN\n",
       "...              ...                  ...         ...  ...   ...      ...  ...\n",
       "24650  01003T　兆豐新光R1         TW00001003T4  2005/12/26   上市   NaN   CBCIXU  NaN\n",
       "24651  01004T　土銀富邦R2         TW00001004T2  2006/04/13   上市   NaN   CBCIXU  NaN\n",
       "24652  01007T　兆豐國泰R2         TW00001007T5  2006/10/13   上市   NaN   CBCIXU  NaN\n",
       "24653  01009T　王道圓滿R1         TW00001009T1  2018/06/21   上市   NaN   CBCIXU  NaN\n",
       "24654  01010T　京城樂富R1         TW00001010T9  2018/12/05   上市   NaN   CBCIXU  NaN\n",
       "\n",
       "[24655 rows x 7 columns]"
      ]
     },
     "execution_count": 3,
     "metadata": {},
     "output_type": "execute_result"
    }
   ],
   "source": [
    "# the data in the first page (table)\n",
    "# only the first feature, 有價證券代號及名稱, we want, \n",
    "df[0]"
   ]
  },
  {
   "cell_type": "code",
   "execution_count": 20,
   "id": "f1963f1c",
   "metadata": {},
   "outputs": [
    {
     "data": {
      "text/plain": [
       "array(['1101\\u3000台泥', '1102\\u3000亞泥', '1103\\u3000嘉泥', ...,\n",
       "       '01007T\\u3000兆豐國泰R2', '01009T\\u3000王道圓滿R1', '01010T\\u3000京城樂富R1'],\n",
       "      dtype=object)"
      ]
     },
     "execution_count": 20,
     "metadata": {},
     "output_type": "execute_result"
    }
   ],
   "source": [
    "# df[0][0][2:]\n",
    "#   first table, 第一個表格\n",
    "#      feature 0, 欄位 0\n",
    "#         start from third rows, i.e. 2\n",
    "\n",
    "df[0][0][2:].values"
   ]
  },
  {
   "cell_type": "code",
   "execution_count": 21,
   "id": "d7eaab75",
   "metadata": {},
   "outputs": [],
   "source": [
    "# extract data and split by '\\u3000', 利用字元 '\\u3000' 將每一個欄位分成兩個, \n",
    "# create two-column DataFrame, \n",
    "data = df[0][0][2:].str.split('\\u3000', n=1, expand=True)\n",
    "\n",
    "# create two-column DataFrame, 將上述的兩個公開的資料成為新的欄位\n",
    "df1 = pd.DataFrame({'Symbol': data[0], 'Name': data[1]})\n",
    "\n",
    "# convert ticker to yahoo tick,  將上市公司的代碼變成 yahoo 代碼\n",
    "df1['Symbol'] = df1['Symbol'].apply(lambda x: x + '.TW')"
   ]
  },
  {
   "cell_type": "code",
   "execution_count": 22,
   "id": "336368c0",
   "metadata": {},
   "outputs": [
    {
     "data": {
      "text/html": [
       "<div><div id=874de351-b399-48a6-9923-af633fc05a3f style=\"display:none; background-color:#9D6CFF; color:white; width:200px; height:30px; padding-left:5px; border-radius:4px; flex-direction:row; justify-content:space-around; align-items:center;\" onmouseover=\"this.style.backgroundColor='#BA9BF8'\" onmouseout=\"this.style.backgroundColor='#9D6CFF'\" onclick=\"window.commands?.execute('create-mitosheet-from-dataframe-output');\">See Full Dataframe in Mito</div> <script> if (window.commands?.hasCommand('create-mitosheet-from-dataframe-output')) document.getElementById('874de351-b399-48a6-9923-af633fc05a3f').style.display = 'flex' </script> <table border=\"1\" class=\"dataframe\">\n",
       "  <thead>\n",
       "    <tr style=\"text-align: right;\">\n",
       "      <th></th>\n",
       "      <th>Symbol</th>\n",
       "      <th>Name</th>\n",
       "    </tr>\n",
       "  </thead>\n",
       "  <tbody>\n",
       "    <tr>\n",
       "      <th>2</th>\n",
       "      <td>1101.TW</td>\n",
       "      <td>台泥</td>\n",
       "    </tr>\n",
       "    <tr>\n",
       "      <th>3</th>\n",
       "      <td>1102.TW</td>\n",
       "      <td>亞泥</td>\n",
       "    </tr>\n",
       "    <tr>\n",
       "      <th>4</th>\n",
       "      <td>1103.TW</td>\n",
       "      <td>嘉泥</td>\n",
       "    </tr>\n",
       "    <tr>\n",
       "      <th>5</th>\n",
       "      <td>1104.TW</td>\n",
       "      <td>環泥</td>\n",
       "    </tr>\n",
       "    <tr>\n",
       "      <th>6</th>\n",
       "      <td>1108.TW</td>\n",
       "      <td>幸福</td>\n",
       "    </tr>\n",
       "  </tbody>\n",
       "</table></div>"
      ],
      "text/plain": [
       "    Symbol Name\n",
       "2  1101.TW   台泥\n",
       "3  1102.TW   亞泥\n",
       "4  1103.TW   嘉泥\n",
       "5  1104.TW   環泥\n",
       "6  1108.TW   幸福"
      ]
     },
     "execution_count": 22,
     "metadata": {},
     "output_type": "execute_result"
    }
   ],
   "source": [
    "df1.head()"
   ]
  },
  {
   "cell_type": "code",
   "execution_count": 24,
   "id": "23d9215f",
   "metadata": {},
   "outputs": [],
   "source": [
    "# remove any null value in cell, 去掉沒資料的欄位\n",
    "df1.fillna('', inplace=True)\n",
    "\n",
    "# and save to a file, used in later, 並存成檔案供日後使用\n",
    "df1.to_csv(\"TWSE_TW-1.csv\",index=False)"
   ]
  },
  {
   "cell_type": "markdown",
   "id": "ade5ca52",
   "metadata": {},
   "source": [
    "Techniques by ChatGPT\n",
    "---\n",
    "Honestly, this is almost completed by chatGPT, amazing! 這也是 chatGPT 完成的，神奇吧!\n",
    "\n",
    "In the following Query airtifact is implemented by streamlit; the comments are the statements used for chatGPT, enjoy!. 下列的應用程式是使用 streamlit 完成的，註解裡面的陳述，記載了如何使用 chatGPT.\n",
    "\n",
    "```python\n",
    "# 1. If use python to get the data as follows:\n",
    "\n",
    "#TAI_ind='https://isin.twse.com.tw/isin/C_public.jsp?strMode=2'\n",
    "#df=pd.read_html(TAI_ind,encoding='cp950')\n",
    "#df[0][0][2:].values\n",
    "\n",
    "# 2. Use Python to slice df[0][0][2:] into 2 two column Dataframe by space\n",
    "# 3. slice by \\u3000\n",
    "# 4. convert each cell in the first column by adding  '.TW'\n",
    "# 5. use streamlit to make a query system for column1 by column2 and vice versa\n",
    "# (*)6. 增加中英文 internationalization, (i18n) 選擇\n",
    "\n",
    "# main code\n",
    "import streamlit as st\n",
    "import pandas as pd\n",
    "\n",
    "# read data from the URL and create DataFrame\n",
    "\n",
    "df1=pd.read_csv(\"TWSE_TW-1.csv\",index_col=0)\n",
    "df1.fillna('', inplace=True)\n",
    "# set up Streamlit app\n",
    "st.title(\"TWSE Stock Search, 台灣股票代號查詢\")\n",
    "\n",
    "# add search box and dropdown\n",
    "search_term = st.text_input(\"Enter search term, 輸入查詢資料:\")\n",
    "search_by = st.selectbox(\"Search by column:\", options=['公司代碼', '公司名稱'])\n",
    "\n",
    "# search for matching rows\n",
    "if search_term:\n",
    "    if search_by == 'Symbol':\n",
    "        result = df1[df1['Symbol'].str.contains(search_term)]\n",
    "    elif search_by == 'Name':\n",
    "        result = df1[df1['Name'].str.contains(search_term)]\n",
    "    else:\n",
    "        result = pd.DataFrame()\n",
    "    st.write(result)\n",
    "```"
   ]
  },
  {
   "cell_type": "code",
   "execution_count": 27,
   "id": "5ffdf0dd",
   "metadata": {},
   "outputs": [
    {
     "data": {
      "text/html": [
       "<div><div id=24677714-ff39-46be-81cd-34fb5e00feb7 style=\"display:none; background-color:#9D6CFF; color:white; width:200px; height:30px; padding-left:5px; border-radius:4px; flex-direction:row; justify-content:space-around; align-items:center;\" onmouseover=\"this.style.backgroundColor='#BA9BF8'\" onmouseout=\"this.style.backgroundColor='#9D6CFF'\" onclick=\"window.commands?.execute('create-mitosheet-from-dataframe-output');\">See Full Dataframe in Mito</div> <script> if (window.commands?.hasCommand('create-mitosheet-from-dataframe-output')) document.getElementById('24677714-ff39-46be-81cd-34fb5e00feb7').style.display = 'flex' </script> <table border=\"1\" class=\"dataframe\">\n",
       "  <thead>\n",
       "    <tr style=\"text-align: right;\">\n",
       "      <th></th>\n",
       "      <th>Symbol</th>\n",
       "      <th>Name</th>\n",
       "    </tr>\n",
       "  </thead>\n",
       "  <tbody>\n",
       "    <tr>\n",
       "      <th>0</th>\n",
       "      <td>1101.TW</td>\n",
       "      <td>台泥</td>\n",
       "    </tr>\n",
       "    <tr>\n",
       "      <th>1</th>\n",
       "      <td>1102.TW</td>\n",
       "      <td>亞泥</td>\n",
       "    </tr>\n",
       "    <tr>\n",
       "      <th>2</th>\n",
       "      <td>1103.TW</td>\n",
       "      <td>嘉泥</td>\n",
       "    </tr>\n",
       "    <tr>\n",
       "      <th>3</th>\n",
       "      <td>1104.TW</td>\n",
       "      <td>環泥</td>\n",
       "    </tr>\n",
       "    <tr>\n",
       "      <th>4</th>\n",
       "      <td>1108.TW</td>\n",
       "      <td>幸福</td>\n",
       "    </tr>\n",
       "  </tbody>\n",
       "</table></div>"
      ],
      "text/plain": [
       "    Symbol Name\n",
       "0  1101.TW   台泥\n",
       "1  1102.TW   亞泥\n",
       "2  1103.TW   嘉泥\n",
       "3  1104.TW   環泥\n",
       "4  1108.TW   幸福"
      ]
     },
     "execution_count": 27,
     "metadata": {},
     "output_type": "execute_result"
    }
   ],
   "source": [
    "df2=pd.read_csv(\"TWSE_TW-1.csv\")\n",
    "df2.head()"
   ]
  },
  {
   "cell_type": "code",
   "execution_count": 30,
   "id": "ef3515ec",
   "metadata": {},
   "outputs": [
    {
     "data": {
      "text/html": [
       "<div><div id=2bce45f2-61db-4b81-9d50-9e1ce0f24b90 style=\"display:none; background-color:#9D6CFF; color:white; width:200px; height:30px; padding-left:5px; border-radius:4px; flex-direction:row; justify-content:space-around; align-items:center;\" onmouseover=\"this.style.backgroundColor='#BA9BF8'\" onmouseout=\"this.style.backgroundColor='#9D6CFF'\" onclick=\"window.commands?.execute('create-mitosheet-from-dataframe-output');\">See Full Dataframe in Mito</div> <script> if (window.commands?.hasCommand('create-mitosheet-from-dataframe-output')) document.getElementById('2bce45f2-61db-4b81-9d50-9e1ce0f24b90').style.display = 'flex' </script> <table border=\"1\" class=\"dataframe\">\n",
       "  <thead>\n",
       "    <tr style=\"text-align: right;\">\n",
       "      <th></th>\n",
       "      <th>Symbol</th>\n",
       "      <th>Name</th>\n",
       "    </tr>\n",
       "  </thead>\n",
       "  <tbody>\n",
       "    <tr>\n",
       "      <th>510</th>\n",
       "      <td>3008.TW</td>\n",
       "      <td>大立光</td>\n",
       "    </tr>\n",
       "    <tr>\n",
       "      <th>4607</th>\n",
       "      <td>033008.TW</td>\n",
       "      <td>晶華中信26購01</td>\n",
       "    </tr>\n",
       "  </tbody>\n",
       "</table></div>"
      ],
      "text/plain": [
       "         Symbol       Name\n",
       "510     3008.TW        大立光\n",
       "4607  033008.TW  晶華中信26購01"
      ]
     },
     "execution_count": 30,
     "metadata": {},
     "output_type": "execute_result"
    }
   ],
   "source": [
    "df1=pd.read_csv(\"TWSE_TW-1.csv\")\n",
    "df1[df1['Symbol'].str.contains('3008.TW')]"
   ]
  },
  {
   "cell_type": "code",
   "execution_count": null,
   "id": "0bf685f2",
   "metadata": {},
   "outputs": [],
   "source": []
  }
 ],
 "metadata": {
  "hide_input": false,
  "kernelspec": {
   "display_name": "Python 3",
   "language": "python",
   "name": "python3"
  },
  "language_info": {
   "codemirror_mode": {
    "name": "ipython",
    "version": 3
   },
   "file_extension": ".py",
   "mimetype": "text/x-python",
   "name": "python",
   "nbconvert_exporter": "python",
   "pygments_lexer": "ipython3",
   "version": "3.8.5"
  }
 },
 "nbformat": 4,
 "nbformat_minor": 5
}
