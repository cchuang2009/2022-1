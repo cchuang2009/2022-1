{
 "cells": [
  {
   "cell_type": "markdown",
   "id": "660e1d40",
   "metadata": {},
   "source": [
    "Amazon AWS, the clouding Service\n",
    "---\n",
    "As the one of three big clouding service providers, we will introduce how to set up a high-performace web service on AWS S3. 我們將介紹三大雲端服務托管之一的 Amazon's AWS S3 服務.\n",
    "\n",
    "1. [AWS Free](https://aws.amazon.com/tw/free/?all-free-tier.sort-by=item.additionalFields.SortRank&all-free-tier.sort-order=asc&awsf.Free%20Tier%20Types=*all&awsf.Free%20Tier%20Categories=*all) To register a new account with a free present. 註冊並取得免費的禮物.\n",
    "\n",
    "[Sign in](https://signin.aws.amazon.com/oauth?redirect_uri=https%3A%2F%2Fconsole.aws.amazon.com%2Fconsole%2Fhome%3FhashArgs%3D%2523%26isauthcode%3Dtrue%26nc2%3Dh_ct%26src%3Dheader-signin%26state%3DhashArgsFromTB_ap-southeast-2_f0db29c7ede264cd&client_id=arn%3Aaws%3Asignin%3A%3A%3Aconsole%2Fcanvas&response_type=code&iam_user=true&account=cgucalculus&code_challenge=ywgIvAvBlsOg2mM3plByYSPWQXzqweXRFYrKvj9EIBE&code_challenge_method=SHA-256#)\n",
    ",[Services],[S3],[Create Bucket],"
   ]
  },
  {
   "cell_type": "code",
   "execution_count": 13,
   "id": "4cf23855",
   "metadata": {},
   "outputs": [
    {
     "name": "stdout",
     "output_type": "stream",
     "text": [
      "Requirement already satisfied: boto3 in /Users/chu-chinghuang/opt/anaconda3/lib/python3.8/site-packages (1.26.76)\n",
      "Collecting boto3\n",
      "  Using cached boto3-1.26.114-py3-none-any.whl (135 kB)\n",
      "Requirement already satisfied: jmespath<2.0.0,>=0.7.1 in /Users/chu-chinghuang/opt/anaconda3/lib/python3.8/site-packages (from boto3) (1.0.1)\n",
      "Requirement already satisfied: s3transfer<0.7.0,>=0.6.0 in /Users/chu-chinghuang/opt/anaconda3/lib/python3.8/site-packages (from boto3) (0.6.0)\n",
      "Collecting botocore<1.30.0,>=1.29.114\n",
      "  Using cached botocore-1.29.114-py3-none-any.whl (10.6 MB)\n",
      "Requirement already satisfied: urllib3<1.27,>=1.25.4 in /Users/chu-chinghuang/opt/anaconda3/lib/python3.8/site-packages (from botocore<1.30.0,>=1.29.114->boto3) (1.26.12)\n",
      "Requirement already satisfied: python-dateutil<3.0.0,>=2.1 in /Users/chu-chinghuang/opt/anaconda3/lib/python3.8/site-packages (from botocore<1.30.0,>=1.29.114->boto3) (2.8.2)\n",
      "Requirement already satisfied: six>=1.5 in /Users/chu-chinghuang/opt/anaconda3/lib/python3.8/site-packages (from python-dateutil<3.0.0,>=2.1->botocore<1.30.0,>=1.29.114->boto3) (1.15.0)\n",
      "Installing collected packages: botocore, boto3\n",
      "  Attempting uninstall: botocore\n",
      "    Found existing installation: botocore 1.29.76\n",
      "    Uninstalling botocore-1.29.76:\n",
      "      Successfully uninstalled botocore-1.29.76\n",
      "  Attempting uninstall: boto3\n",
      "    Found existing installation: boto3 1.26.76\n",
      "    Uninstalling boto3-1.26.76:\n",
      "      Successfully uninstalled boto3-1.26.76\n",
      "\u001b[31mERROR: pip's dependency resolver does not currently take into account all the packages that are installed. This behaviour is the source of the following dependency conflicts.\n",
      "fiftyone 0.18.0 requires starlette==0.20.4, but you have starlette 0.22.0 which is incompatible.\n",
      "aiobotocore 2.5.0 requires botocore<1.29.77,>=1.29.76, but you have botocore 1.29.114 which is incompatible.\u001b[0m\u001b[31m\n",
      "\u001b[0mSuccessfully installed boto3-1.26.114 botocore-1.29.114\n"
     ]
    }
   ],
   "source": [
    "!pip uninstall --yes  boto3 s3fs\n",
    "!pip install -q boto3 s3fs"
   ]
  },
  {
   "cell_type": "markdown",
   "id": "064d6519",
   "metadata": {},
   "source": [
    "[boto3, S3 pandas api](https://towardsai.net/p/data-science/aws-s3-read-write-operations-using-the-pandas-api)\n",
    "\n",
    "1. To get rid of boto3, s3fs version confict, install, 由於主要的函式庫會有衝突的問題，我們必須先將移除再安裝：\n",
    "```\n",
    "pip uninstall boto3 s3fs  \n",
    "pip install boto3 s3fs  \n",
    "```\n",
    "2. Sign up [Amazon S3](https://aws.amazon.com/console/) and sign in `IAM user` (left menu`, 進入\n",
    "3. Choose `S3` from `Top left [Services]` or by `Search` **S3**. 從左上角的服務選擇 `S3` 或者查詢\n",
    "4. `[create Bucket] ➡︎ [Create Folder]` and upload a csv to test. 新增 `[create Bucket]`並新增 `[Create Folder]`，上傳檔案做後續測試.\n",
    "5. `[Create access point]` and choose near site `Asia Pacific (Tokyo)` <font color=\"red\">**ap-northeast-1**</font>,新增連接點 `[Create access point]`，並選擇最近的供應  `Asia Pacific (Tokyo)` <font color=\"red\">**ap-northeast-1**</font>.\n",
    "6. check your other information, from top right account `security credentials` and create `Access keys` ,  從右上角的帳戶選擇  `security credentials` 新增連結鑰匙，及其他資料：\n",
    "```\n",
    "AWS account ID: (12 digits, 12個數目字)\n",
    "Acess key ID: (a string, 文字)\n",
    "AWS SECRET ACCESS_KEY: (remember to save a copy, 記得要存起來)\n",
    "```\n",
    "\n",
    "**Here**, I uploaded `news.csv` for test lately; you have to prepare one.  這裡我上傳一個檔案 `news.csv`, 你必須準備自己的檔案"
   ]
  },
  {
   "cell_type": "code",
   "execution_count": 2,
   "id": "c88f4a9f",
   "metadata": {},
   "outputs": [],
   "source": [
    "# load required packages, 載入函式庫\n",
    "import boto3\n",
    "import pandas as pd\n",
    "import io"
   ]
  },
  {
   "cell_type": "code",
   "execution_count": 6,
   "id": "77506b2e",
   "metadata": {},
   "outputs": [],
   "source": [
    "# AWS S3 參數\n",
    "REGION=\"ap-northeast-1\"\n",
    "awsid=\"...\"\n",
    "AWS_S3_BUCKET = \"...\"\n",
    "AWS_ACCESS_KEY_ID = \"...\"\n",
    "AWS_SECRET_ACCESS_KEY = \"...\"\n",
    "\n",
    "AWS_S3_BUCKET = \"...\"\n",
    "# folder/filename\n",
    "KEY = \"\""
   ]
  },
  {
   "cell_type": "code",
   "execution_count": 5,
   "id": "f6b5501d",
   "metadata": {},
   "outputs": [],
   "source": [
    "#  S3 client setup, S3 客戶端設定\n",
    "s3c = boto3.client('s3', \n",
    " region_name = REGION,\n",
    " aws_access_key_id = AWS_ACCESS_KEY_ID,\n",
    " aws_secret_access_key = AWS_SECRET_ACCESS_KEY)"
   ]
  },
  {
   "cell_type": "code",
   "execution_count": 7,
   "id": "d6b48746",
   "metadata": {},
   "outputs": [],
   "source": [
    "# setup the working object, 指定工作的目標\n",
    "obj = s3c.get_object(Bucket= AWS_S3_BUCKET , Key = KEY)"
   ]
  },
  {
   "cell_type": "code",
   "execution_count": 9,
   "id": "0634b452",
   "metadata": {},
   "outputs": [
    {
     "data": {
      "text/html": [
       "<div><div id=f66d15da-006a-4bf3-8fdb-8efe42d2fdb0 style=\"display:none; background-color:#9D6CFF; color:white; width:200px; height:30px; padding-left:5px; border-radius:4px; flex-direction:row; justify-content:space-around; align-items:center;\" onmouseover=\"this.style.backgroundColor='#BA9BF8'\" onmouseout=\"this.style.backgroundColor='#9D6CFF'\" onclick=\"window.commands?.execute('create-mitosheet-from-dataframe-output');\">See Full Dataframe in Mito</div> <script> if (window.commands?.hasCommand('create-mitosheet-from-dataframe-output')) document.getElementById('f66d15da-006a-4bf3-8fdb-8efe42d2fdb0').style.display = 'flex' </script> <table border=\"1\" class=\"dataframe\">\n",
       "  <thead>\n",
       "    <tr style=\"text-align: right;\">\n",
       "      <th></th>\n",
       "      <th>Title</th>\n",
       "      <th>Source</th>\n",
       "      <th>Published_date</th>\n",
       "    </tr>\n",
       "  </thead>\n",
       "  <tbody>\n",
       "    <tr>\n",
       "      <th>0</th>\n",
       "      <td>Template</td>\n",
       "      <td>\\nThis is a simple news board artifact created by chatgpt. To provide the data inthis artifact, only create the file `news.csv` as follows:\\n```\\nTitle,Source,Publish_date\\n\"title1\",\"news content1\",YYYY-MM-DD\\n\"title2\",\"news content2\",YYYY-MM-DD\\n```\\nwhere `YYYY-MM-DD` is the datetime format, such as `2023-02-01`. If `\"` symobl required in content, :red[double this symbol].\\nTo prepare the \"news.csv\", and run the following on shell to startup:\\n```\\npython run app.py\\n```\\n</td>\n",
       "      <td>2023-02-20</td>\n",
       "    </tr>\n",
       "    <tr>\n",
       "      <th>1</th>\n",
       "      <td>Audio and Video AI Tools</td>\n",
       "      <td>Some useful AI tools,\\n1. VoicePen AI (https://voicepen.ai): An AI tool that converts audio content into blog posts, making it easier for businesses and individuals to generate written content from recorded conversations and lectures.\\n2. Krisp (https://krisp.ai/): An AI tool that removes background voices, noises, and echoes from calls, allowing users to conduct clear, professional audio conversations from any location.\\n3. Beatoven (https://www.beatoven.ai/): An AI tool that creates custom royalty-free music, enabling businesses and individuals to add unique, original music to their projects without the hassle of licensing.\\n4. Cleanvoice (https://cleanvoice.ai/): An AI tool that automatically edits podcast episodes, making it easier for podcasters to create high-quality, professional-sounding content.\\n5. Podcastle (https://podcastle.ai/): An AI tool for studio-quality recording from your computer, providing users with an easy-to-use, high-quality recording solution for podcasts, webinars, and other audio content.\\n6. Vidyo (https://vidyo.ai/): An AI tool for making short-form videos from long-form content, allowing businesses and individuals to share their message in a more engaging and visual way.\\n7. Maverick (https://lnkd.in/eptCVijb): An AI tool for generating personalized videos at scale, making it easier for businesses to create and distribute video content that is relevant and engaging to their target audience.\\n8. Soundraw (https://soundraw.io/): An AI tool for creating original music, providing businesses and individuals with a simple, intuitive way to create and publish their own music.\\n9. Otter (https://otter.ai/): An AI tool for capturing and sharing insights from meetings, making it easier for teams to stay on top of important discussions and decisions.</td>\n",
       "      <td>2023-03-19</td>\n",
       "    </tr>\n",
       "    <tr>\n",
       "      <th>2</th>\n",
       "      <td>Design AI Tools</td>\n",
       "      <td>\\n1. Flair (https://flair.ai/): An AI tool for designing branded content, allowing businesses and individuals to create professional-looking graphics and design elements easily.\\n2. Illustroke (https://illustroke.com/): An AI tool for creating vector images from text prompts, making it easier for designers to create custom graphics and images for their projects.\\n3. Patterned (https://www.patterned.ai/): An AI tool for generating patterns for design, allowing businesses and individuals to add unique, eye-catching patterns to their projects without the hassle of creating them from scratch.\\n4. Stockimg (https://stockimg.ai/): An AI tool for generating the perfect stock photo, making it easier for businesses and individuals to find and use high-quality stock images in their projects.\\n5. Looka (https://looka.com/): An AI tool for designing your brand, providing businesses and individuals with a simple, intuitive way to create a professional-looking brand identity.</td>\n",
       "      <td>2023-03-19</td>\n",
       "    </tr>\n",
       "    <tr>\n",
       "      <th>3</th>\n",
       "      <td>Copy and Content AI Tools</td>\n",
       "      <td>\\n1. Copy.ai: AI tool for generating copy that increases conversions. With its advanced AI algorithms, it can write sales pages, blog posts, ads, and more in minutes. https://www.copy.ai/\\n2. CopyMonkey: AI tool for creating Amazon listings in seconds. It offers a suite of tools to automate your Amazon business, from keyword research to copywriting. http://copymonkey.ai/\\n3. Ocoya: AI tool for creating and scheduling social media content. It helps you plan and publish your social media posts effortlessly, so you can focus on what really matters: engaging with your audience. https://www.ocoya.com/\\n4. Unbounce Smart Copy: AI tool for writing high-performing cold emails at scale. It helps you write emails that get opened, clicked and replied to, so you can focus on closing deals. https://unbounce.com/\\n5. Puzzle: AI tool for building a knowledge base for your team and customers. It offers an all-in-one platform to create, manage, and share information and knowledge, so you can enhance collaboration, reduce support requests and improve customer experience. https://www.puzzlelabs.ai</td>\n",
       "      <td>2023-03-19</td>\n",
       "    </tr>\n",
       "    <tr>\n",
       "      <th>4</th>\n",
       "      <td>Image and Content Cleanup AI Tools:</td>\n",
       "      <td>\\n- Civitai: Civitai is a hub for AI art generation. It’s where artists, engineers, and data scientists can share and explore models, tutorials, and resources to take AI art to the next level. https://civitai.com\\n- Cleanup: AI tool for removing objects, defects, people, or text from pictures. It offers a simple yet powerful solution for photo editors, photographers, and marketers, who want to save time and effort when cleaning up their images. https://cleanup.pictures/\\n- Inkforall: AI tool for content generation, optimization, and performance. It offers a suite of tools that help you write high-quality content faster, optimize your content for search engines and measure its performance so that you can make data-driven decisions. https://inkforall.com/\\n- Thundercontent: AI tool for generating content. Using its advanced language model and machine learning algorithms, it provides a platform for generating high-quality content, from blog posts to articles, in minutes. https://thundercontent.com</td>\n",
       "      <td>2023-03-19</td>\n",
       "    </tr>\n",
       "  </tbody>\n",
       "</table></div>"
      ],
      "text/plain": [
       "                                 Title  \\\n",
       "0                             Template   \n",
       "1             Audio and Video AI Tools   \n",
       "2                      Design AI Tools   \n",
       "3            Copy and Content AI Tools   \n",
       "4  Image and Content Cleanup AI Tools:   \n",
       "\n",
       "                                              Source Published_date  \n",
       "0  \\nThis is a simple news board artifact created...     2023-02-20  \n",
       "1   Some useful AI tools,\\n1. VoicePen AI (https:...     2023-03-19  \n",
       "2  \\n1. Flair (https://flair.ai/): An AI tool for...     2023-03-19  \n",
       "3  \\n1. Copy.ai: AI tool for generating copy that...     2023-03-19  \n",
       "4  \\n- Civitai: Civitai is a hub for AI art gener...     2023-03-19  "
      ]
     },
     "execution_count": 9,
     "metadata": {},
     "output_type": "execute_result"
    }
   ],
   "source": [
    "# load data from S3, 從 S3 抓資料\n",
    "df = pd.read_csv(io.BytesIO(obj['Body'].read()),encoding='utf8')\n",
    "df.head(5)"
   ]
  },
  {
   "cell_type": "code",
   "execution_count": 13,
   "id": "690e9b9f",
   "metadata": {},
   "outputs": [],
   "source": [
    "# write to S3, 儲存資料\n",
    "from io import StringIO\n",
    "\n",
    "AWS_S3_BUCKET = \"newsforum\"\n",
    "# folder/new_file\n",
    "KEY1 = \"...\""
   ]
  },
  {
   "cell_type": "code",
   "execution_count": 14,
   "id": "e75a7b13",
   "metadata": {},
   "outputs": [],
   "source": [
    "# save the data in memory, 在記憶體中儲存資料\n",
    "csv_buffer=StringIO()\n",
    "df.to_csv(csv_buffer, index=False)"
   ]
  },
  {
   "cell_type": "code",
   "execution_count": 15,
   "id": "9d130f90",
   "metadata": {},
   "outputs": [],
   "source": [
    "# S3 Client setup, 設定客戶端資料\n",
    "s3csv = boto3.client('s3', \n",
    " region_name = REGION,\n",
    " aws_access_key_id = AWS_ACCESS_KEY_ID,\n",
    " aws_secret_access_key = AWS_SECRET_ACCESS_KEY\n",
    " )"
   ]
  },
  {
   "cell_type": "code",
   "execution_count": 16,
   "id": "21f75d47",
   "metadata": {},
   "outputs": [],
   "source": [
    "# Save data to S3, 上傳資料到 S3\n",
    "response=s3csv.put_object(Body=csv_buffer.getvalue(),\n",
    "                           Bucket=AWS_S3_BUCKET,\n",
    "                           Key=KEY1)"
   ]
  },
  {
   "cell_type": "markdown",
   "id": "6372f7d3",
   "metadata": {},
   "source": [
    "Now you can browse your bucket on S3. 現在你可以到 S3 觀看你的 bucket."
   ]
  },
  {
   "cell_type": "code",
   "execution_count": 17,
   "id": "46ea11b2",
   "metadata": {},
   "outputs": [],
   "source": [
    "# More on S3 Action\n",
    "session = boto3.Session(\n",
    "    aws_access_key_id=AWS_ACCESS_KEY_ID, \n",
    "    aws_secret_access_key=AWS_SECRET_ACCESS_KEY\n",
    ")\n",
    "s3 = session.resource('s3')"
   ]
  },
  {
   "cell_type": "code",
   "execution_count": 18,
   "id": "13588255",
   "metadata": {},
   "outputs": [],
   "source": [
    "bucket = s3.Bucket(AWS_S3_BUCKET)"
   ]
  },
  {
   "cell_type": "code",
   "execution_count": 19,
   "id": "e8e23dc7",
   "metadata": {},
   "outputs": [
    {
     "name": "stdout",
     "output_type": "stream",
     "text": [
      "s3.ObjectSummary(bucket_name='newsforum', key='NewsForum/')\n",
      "s3.ObjectSummary(bucket_name='newsforum', key='NewsForum/news.csv')\n",
      "s3.ObjectSummary(bucket_name='newsforum', key='NewsForum/news1.csv')\n"
     ]
    }
   ],
   "source": [
    "for object in bucket.objects.all():\n",
    "    print(object)\n",
    "    \n",
    "    "
   ]
  },
  {
   "cell_type": "code",
   "execution_count": 22,
   "id": "20524bd4",
   "metadata": {},
   "outputs": [
    {
     "name": "stdout",
     "output_type": "stream",
     "text": [
      "s3.ObjectSummary(bucket_name='newsforum', key='NewsForum/')\n",
      "s3.ObjectSummary(bucket_name='newsforum', key='NewsForum/news.csv')\n",
      "s3.ObjectSummary(bucket_name='newsforum', key='NewsForum/news1.csv')\n"
     ]
    }
   ],
   "source": [
    "for object in bucket.objects.filter(Prefix='N'):\n",
    "    print(object)"
   ]
  },
  {
   "cell_type": "code",
   "execution_count": null,
   "id": "b7cb7d95",
   "metadata": {},
   "outputs": [],
   "source": [
    "# upload\n",
    "#bucket.upload_file(localfile, s3file)"
   ]
  }
 ],
 "metadata": {
  "hide_input": false,
  "kernelspec": {
   "display_name": "Python 3",
   "language": "python",
   "name": "python3"
  },
  "language_info": {
   "codemirror_mode": {
    "name": "ipython",
    "version": 3
   },
   "file_extension": ".py",
   "mimetype": "text/x-python",
   "name": "python",
   "nbconvert_exporter": "python",
   "pygments_lexer": "ipython3",
   "version": "3.8.5"
  }
 },
 "nbformat": 4,
 "nbformat_minor": 5
}
