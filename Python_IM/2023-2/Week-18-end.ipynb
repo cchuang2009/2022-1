{
 "cells": [
  {
   "cell_type": "markdown",
   "id": "80776270",
   "metadata": {},
   "source": [
    "A Long Story to Tell\n",
    "===\n",
    " 經歷了一個學期的學習，希望各位同學從中會有所收穫，只要有運作，一定有數據，所以資料科學的重要性就在如何有效地 使用這些資料.就如同我們一直強調的，專業的認知才是最重要的根本，技術只是一個處理的 選擇，我們將你專業之外的知識及概念，在一個短短的學期內， 半強迫式地讓學生學習，同時為了你們將來的視野更廣泛，要求你們你們從團隊合作中，培養如何思考，協調，及合作，正如我們強調的工作不是一個人，而是團體的結果，希望你們能夠深切的體會.最後，我們就用 duckdb 示範如何探索 HuggingFace 的資料庫，作為 Ending!\n",
    " \n",
    " 最後祝各位成為\n",
    " \n",
    "    前端工程師 + 後端工程師  ➜ 全端工程師\n",
    "\n"
   ]
  },
  {
   "cell_type": "code",
   "execution_count": null,
   "id": "f3ba0a54",
   "metadata": {},
   "outputs": [],
   "source": [
    "!pip install duckdb"
   ]
  },
  {
   "cell_type": "code",
   "execution_count": 1,
   "id": "f0d10ae7",
   "metadata": {},
   "outputs": [],
   "source": [
    "import pandas \n",
    "import duckdb"
   ]
  },
  {
   "cell_type": "code",
   "execution_count": 2,
   "id": "7d7d4e71",
   "metadata": {},
   "outputs": [],
   "source": [
    "# create an in-memory temporary database\n",
    "## conn = duckdb.connect()\n",
    "# or create embedded DBMS\n",
    "conn = duckdb.connect('Score.duckdb')\n",
    "c = conn.cursor()"
   ]
  },
  {
   "cell_type": "code",
   "execution_count": null,
   "id": "b5edac3d",
   "metadata": {},
   "outputs": [],
   "source": [
    "# Create tables by importing the content from the CSVs\n",
    "score1='OnLineQuiz/math_2022_2.csv'\n",
    "c.execute(\n",
    "  \"CREATE TABLE Math_2022_2 AS SELECT * FROM read_csv_auto(OnLineQuiz/math_2022_2.csv);\"\n",
    ").df()"
   ]
  },
  {
   "cell_type": "code",
   "execution_count": 3,
   "id": "c9bd82fa",
   "metadata": {},
   "outputs": [
    {
     "data": {
      "text/plain": [
       "<duckdb.DuckDBPyConnection at 0x7fd276bcd230>"
      ]
     },
     "execution_count": 3,
     "metadata": {},
     "output_type": "execute_result"
    }
   ],
   "source": [
    "score= c.execute('''\n",
    "    SELECT \n",
    "        * \n",
    "    FROM read_csv_auto('OnLineQuiz/math_2022_2.csv')\n",
    "''').df()\n",
    "\n",
    "c.register(\"S2022_2\", score)"
   ]
  },
  {
   "cell_type": "code",
   "execution_count": 4,
   "id": "739b7138",
   "metadata": {},
   "outputs": [],
   "source": [
    "c.sql(\"CREATE TABLE Math_2022_2 AS SELECT * FROM S2022_2\")"
   ]
  },
  {
   "cell_type": "code",
   "execution_count": 5,
   "id": "d1c5ef40",
   "metadata": {},
   "outputs": [
    {
     "data": {
      "text/html": [
       "<div><div id=3542ef4a-bdd4-4345-b1b6-dc687802fc9b style=\"display:none; background-color:#9D6CFF; color:white; width:200px; height:30px; padding-left:5px; border-radius:4px; flex-direction:row; justify-content:space-around; align-items:center;\" onmouseover=\"this.style.backgroundColor='#BA9BF8'\" onmouseout=\"this.style.backgroundColor='#9D6CFF'\" onclick=\"window.commands?.execute('create-mitosheet-from-dataframe-output');\">See Full Dataframe in Mito</div> <script> if (window.commands?.hasCommand('create-mitosheet-from-dataframe-output')) document.getElementById('3542ef4a-bdd4-4345-b1b6-dc687802fc9b').style.display = 'flex' </script> <table border=\"1\" class=\"dataframe\">\n",
       "  <thead>\n",
       "    <tr style=\"text-align: right;\">\n",
       "      <th></th>\n",
       "      <th>name</th>\n",
       "    </tr>\n",
       "  </thead>\n",
       "  <tbody>\n",
       "    <tr>\n",
       "      <th>0</th>\n",
       "      <td>Math_2022_2</td>\n",
       "    </tr>\n",
       "  </tbody>\n",
       "</table></div>"
      ],
      "text/plain": [
       "          name\n",
       "0  Math_2022_2"
      ]
     },
     "execution_count": 5,
     "metadata": {},
     "output_type": "execute_result"
    }
   ],
   "source": [
    "c.sql('SHOW TABLES').df()"
   ]
  },
  {
   "cell_type": "code",
   "execution_count": null,
   "id": "4d737367",
   "metadata": {},
   "outputs": [],
   "source": [
    "c.sql(\"select * from Math_2022_2\")"
   ]
  },
  {
   "cell_type": "code",
   "execution_count": 7,
   "id": "704af5d2",
   "metadata": {},
   "outputs": [],
   "source": [
    "c.sql(\"INSERT INTO Math_2022_2 (user,name) VALUES ('B0','B0')\")"
   ]
  },
  {
   "cell_type": "code",
   "execution_count": null,
   "id": "b90e8802",
   "metadata": {},
   "outputs": [],
   "source": [
    "c.sql(\"select * from Math_2022_2\")"
   ]
  },
  {
   "cell_type": "code",
   "execution_count": 10,
   "id": "ead824b4",
   "metadata": {},
   "outputs": [],
   "source": [
    "c.sql(\"UPDATE Math_2022_2 SET login=1,name='B1' WHERE user='B0';\")"
   ]
  },
  {
   "cell_type": "code",
   "execution_count": null,
   "id": "59f2b0e5",
   "metadata": {},
   "outputs": [],
   "source": [
    "c.sql(\"select * from Math_2022_2\")"
   ]
  },
  {
   "cell_type": "code",
   "execution_count": 21,
   "id": "5013f2d9",
   "metadata": {},
   "outputs": [
    {
     "data": {
      "text/html": [
       "<div><div id=7e2fc5c3-6c66-417b-8d3c-979e7e13fad9 style=\"display:none; background-color:#9D6CFF; color:white; width:200px; height:30px; padding-left:5px; border-radius:4px; flex-direction:row; justify-content:space-around; align-items:center;\" onmouseover=\"this.style.backgroundColor='#BA9BF8'\" onmouseout=\"this.style.backgroundColor='#9D6CFF'\" onclick=\"window.commands?.execute('create-mitosheet-from-dataframe-output');\">See Full Dataframe in Mito</div> <script> if (window.commands?.hasCommand('create-mitosheet-from-dataframe-output')) document.getElementById('7e2fc5c3-6c66-417b-8d3c-979e7e13fad9').style.display = 'flex' </script> <table border=\"1\" class=\"dataframe\">\n",
       "  <thead>\n",
       "    <tr style=\"text-align: right;\">\n",
       "      <th></th>\n",
       "      <th>user</th>\n",
       "      <th>login</th>\n",
       "    </tr>\n",
       "  </thead>\n",
       "  <tbody>\n",
       "    <tr>\n",
       "      <th>0</th>\n",
       "      <td>B0729004</td>\n",
       "      <td>NaN</td>\n",
       "    </tr>\n",
       "    <tr>\n",
       "      <th>1</th>\n",
       "      <td>B1003211</td>\n",
       "      <td>NaN</td>\n",
       "    </tr>\n",
       "    <tr>\n",
       "      <th>2</th>\n",
       "      <td>B1003213</td>\n",
       "      <td>NaN</td>\n",
       "    </tr>\n",
       "    <tr>\n",
       "      <th>3</th>\n",
       "      <td>B1003216</td>\n",
       "      <td>NaN</td>\n",
       "    </tr>\n",
       "    <tr>\n",
       "      <th>4</th>\n",
       "      <td>B1009242</td>\n",
       "      <td>NaN</td>\n",
       "    </tr>\n",
       "    <tr>\n",
       "      <th>5</th>\n",
       "      <td>B1009247</td>\n",
       "      <td>NaN</td>\n",
       "    </tr>\n",
       "    <tr>\n",
       "      <th>6</th>\n",
       "      <td>B1027152</td>\n",
       "      <td>NaN</td>\n",
       "    </tr>\n",
       "    <tr>\n",
       "      <th>7</th>\n",
       "      <td>B0</td>\n",
       "      <td>1.0</td>\n",
       "    </tr>\n",
       "  </tbody>\n",
       "</table></div>"
      ],
      "text/plain": [
       "       user  login\n",
       "0  B0729004    NaN\n",
       "1  B1003211    NaN\n",
       "2  B1003213    NaN\n",
       "3  B1003216    NaN\n",
       "4  B1009242    NaN\n",
       "5  B1009247    NaN\n",
       "6  B1027152    NaN\n",
       "7        B0    1.0"
      ]
     },
     "execution_count": 21,
     "metadata": {},
     "output_type": "execute_result"
    }
   ],
   "source": [
    "df = c.sql('SELECT * FROM Math_2022_2').df()\n",
    "df[['user','login']]"
   ]
  },
  {
   "cell_type": "code",
   "execution_count": null,
   "id": "81a49eed",
   "metadata": {},
   "outputs": [],
   "source": []
  },
  {
   "cell_type": "markdown",
   "id": "51c78934",
   "metadata": {},
   "source": [
    "# HuggingFace DataBases"
   ]
  },
  {
   "cell_type": "code",
   "execution_count": 15,
   "id": "b49090f5",
   "metadata": {},
   "outputs": [],
   "source": [
    "import requests"
   ]
  },
  {
   "cell_type": "code",
   "execution_count": 16,
   "id": "1ce47127",
   "metadata": {},
   "outputs": [
    {
     "data": {
      "text/plain": [
       "['https://huggingface.co/datasets/blog_authorship_corpus/resolve/refs%2Fconvert%2Fparquet/blog_authorship_corpus/blog_authorship_corpus-train-00000-of-00002.parquet',\n",
       " 'https://huggingface.co/datasets/blog_authorship_corpus/resolve/refs%2Fconvert%2Fparquet/blog_authorship_corpus/blog_authorship_corpus-train-00001-of-00002.parquet']"
      ]
     },
     "execution_count": 16,
     "metadata": {},
     "output_type": "execute_result"
    }
   ],
   "source": [
    "# Access the Datasets Server\n",
    "\n",
    "r = requests.get(\"https://datasets-server.huggingface.co/parquet?dataset=blog_authorship_corpus\")\n",
    "j = r.json()\n",
    "urls = [f['url'] for f in j['parquet_files'] if f['split'] == 'train']\n",
    "urls\n",
    "['https://huggingface.co/datasets/blog_authorship_corpus/resolve/refs%2Fconvert%2Fparquet/blog_authorship_corpus/blog_authorship_corpus-train-00000-of-00002.parquet',\n",
    " 'https://huggingface.co/datasets/blog_authorship_corpus/resolve/refs%2Fconvert%2Fparquet/blog_authorship_corpus/blog_authorship_corpus-train-00001-of-00002.parquet']\n",
    "\n"
   ]
  },
  {
   "cell_type": "code",
   "execution_count": 17,
   "id": "8a064585",
   "metadata": {},
   "outputs": [
    {
     "data": {
      "text/plain": [
       "<duckdb.DuckDBPyConnection at 0x7fd27c5767b0>"
      ]
     },
     "execution_count": 17,
     "metadata": {},
     "output_type": "execute_result"
    }
   ],
   "source": [
    "# Create a connection to DuckDB and install and load the httpfs extension to allow remote files accessing\n",
    "\n",
    "url = \"https://huggingface.co/datasets/blog_authorship_corpus/resolve/refs%2Fconvert%2Fparquet/blog_authorship_corpus/blog_authorship_corpus-train-00000-of-00002.parquet\"\n",
    "\n",
    "con = duckdb.connect()\n",
    "con.execute(\"INSTALL httpfs;\")\n",
    "con.execute(\"LOAD httpfs;\")"
   ]
  },
  {
   "cell_type": "code",
   "execution_count": 18,
   "id": "9db7ecbe",
   "metadata": {},
   "outputs": [
    {
     "data": {
      "application/vnd.jupyter.widget-view+json": {
       "model_id": "",
       "version_major": 2,
       "version_minor": 0
      },
      "text/plain": [
       "FloatProgress(value=0.0, layout=Layout(width='auto'), style=ProgressStyle(bar_color='black'))"
      ]
     },
     "metadata": {},
     "output_type": "display_data"
    },
    {
     "data": {
      "text/plain": [
       "┌───────────┬──────────────┬────────────────────┐\n",
       "│ horoscope │ count_star() │  avg_blog_length   │\n",
       "│  varchar  │    int64     │       double       │\n",
       "├───────────┼──────────────┼────────────────────┤\n",
       "│ Aquarius  │        34062 │  1129.218836239798 │\n",
       "│ Cancer    │        41509 │  1098.366812016671 │\n",
       "│ Capricorn │        33961 │ 1073.2002002296751 │\n",
       "│ Libra     │        40302 │ 1072.0718326633914 │\n",
       "│ Leo       │        40587 │ 1064.0536871412028 │\n",
       "└───────────┴──────────────┴────────────────────┘"
      ]
     },
     "execution_count": 18,
     "metadata": {},
     "output_type": "execute_result"
    }
   ],
   "source": [
    "# query example on the Database\n",
    "# https://huggingface.co/docs/datasets-server/parquet_process\n",
    "\n",
    "con.sql(f\"\"\"SELECT horoscope, \n",
    "    count(*), \n",
    "    AVG(LENGTH(text)) AS avg_blog_length \n",
    "    FROM '{url}' \n",
    "    GROUP BY horoscope \n",
    "    ORDER BY avg_blog_length \n",
    "    DESC LIMIT(5)\n",
    "    \"\"\"\n",
    ")"
   ]
  },
  {
   "cell_type": "code",
   "execution_count": null,
   "id": "f6aee798",
   "metadata": {},
   "outputs": [],
   "source": []
  }
 ],
 "metadata": {
  "kernelspec": {
   "display_name": "Python 3 (ipykernel)",
   "language": "python",
   "name": "python3"
  },
  "language_info": {
   "codemirror_mode": {
    "name": "ipython",
    "version": 3
   },
   "file_extension": ".py",
   "mimetype": "text/x-python",
   "name": "python",
   "nbconvert_exporter": "python",
   "pygments_lexer": "ipython3",
   "version": "3.10.9"
  }
 },
 "nbformat": 4,
 "nbformat_minor": 5
}
